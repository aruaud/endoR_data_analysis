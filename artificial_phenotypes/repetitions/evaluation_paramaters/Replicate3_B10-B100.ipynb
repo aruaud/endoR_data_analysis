{
 "cells": [
  {
   "cell_type": "markdown",
   "metadata": {},
   "source": [
    "# Preambule"
   ]
  },
  {
   "cell_type": "markdown",
   "metadata": {},
   "source": [
    "## libraries"
   ]
  },
  {
   "cell_type": "code",
   "execution_count": 1,
   "metadata": {
    "ExecuteTime": {
     "end_time": "2021-12-17T13:18:34.708643Z",
     "start_time": "2021-12-17T13:18:29.594Z"
    }
   },
   "outputs": [
    {
     "name": "stderr",
     "output_type": "stream",
     "text": [
      "── \u001b[1mAttaching packages\u001b[22m ────────────────────────────────────────────────────────────────────────────────────────────────────────────────────────────────────── tidyverse 1.3.0 ──\n",
      "\n",
      "\u001b[32m✔\u001b[39m \u001b[34mggplot2\u001b[39m 3.3.2     \u001b[32m✔\u001b[39m \u001b[34mpurrr  \u001b[39m 0.3.4\n",
      "\u001b[32m✔\u001b[39m \u001b[34mtibble \u001b[39m 3.0.4     \u001b[32m✔\u001b[39m \u001b[34mdplyr  \u001b[39m 1.0.2\n",
      "\u001b[32m✔\u001b[39m \u001b[34mtidyr  \u001b[39m 1.1.2     \u001b[32m✔\u001b[39m \u001b[34mstringr\u001b[39m 1.4.0\n",
      "\u001b[32m✔\u001b[39m \u001b[34mreadr  \u001b[39m 1.4.0     \u001b[32m✔\u001b[39m \u001b[34mforcats\u001b[39m 0.5.0\n",
      "\n",
      "── \u001b[1mConflicts\u001b[22m ───────────────────────────────────────────────────────────────────────────────────────────────────────────────────────────────────────── tidyverse_conflicts() ──\n",
      "\u001b[31m✖\u001b[39m \u001b[34mdplyr\u001b[39m::\u001b[32mfilter()\u001b[39m masks \u001b[34mstats\u001b[39m::filter()\n",
      "\u001b[31m✖\u001b[39m \u001b[34mdplyr\u001b[39m::\u001b[32mlag()\u001b[39m    masks \u001b[34mstats\u001b[39m::lag()\n",
      "\n",
      "Loading required package: lattice\n",
      "\n",
      "\n",
      "Attaching package: ‘caret’\n",
      "\n",
      "\n",
      "The following object is masked from ‘package:purrr’:\n",
      "\n",
      "    lift\n",
      "\n",
      "\n",
      "\n",
      "Attaching package: ‘data.table’\n",
      "\n",
      "\n",
      "The following objects are masked from ‘package:dplyr’:\n",
      "\n",
      "    between, first, last\n",
      "\n",
      "\n",
      "The following object is masked from ‘package:purrr’:\n",
      "\n",
      "    transpose\n",
      "\n",
      "\n",
      "randomForest 4.6-14\n",
      "\n",
      "Type rfNews() to see new features/changes/bug fixes.\n",
      "\n",
      "\n",
      "Attaching package: ‘randomForest’\n",
      "\n",
      "\n",
      "The following object is masked from ‘package:dplyr’:\n",
      "\n",
      "    combine\n",
      "\n",
      "\n",
      "The following object is masked from ‘package:ggplot2’:\n",
      "\n",
      "    margin\n",
      "\n",
      "\n",
      "qs v0.23.4.\n",
      "\n",
      "\n",
      "Attaching package: ‘igraph’\n",
      "\n",
      "\n",
      "The following objects are masked from ‘package:dplyr’:\n",
      "\n",
      "    as_data_frame, groups, union\n",
      "\n",
      "\n",
      "The following objects are masked from ‘package:purrr’:\n",
      "\n",
      "    compose, simplify\n",
      "\n",
      "\n",
      "The following object is masked from ‘package:tidyr’:\n",
      "\n",
      "    crossing\n",
      "\n",
      "\n",
      "The following object is masked from ‘package:tibble’:\n",
      "\n",
      "    as_data_frame\n",
      "\n",
      "\n",
      "The following objects are masked from ‘package:stats’:\n",
      "\n",
      "    decompose, spectrum\n",
      "\n",
      "\n",
      "The following object is masked from ‘package:base’:\n",
      "\n",
      "    union\n",
      "\n",
      "\n",
      "Registered S3 method overwritten by 'RRF':\n",
      "  method      from        \n",
      "  plot.margin randomForest\n",
      "\n",
      "RRF 1.9.1\n",
      "\n",
      "Type rrfNews() to see new features/changes/bug fixes.\n",
      "\n",
      "\n",
      "Attaching package: ‘RRF’\n",
      "\n",
      "\n",
      "The following objects are masked from ‘package:randomForest’:\n",
      "\n",
      "    classCenter, combine, getTree, grow, importance, margin, MDSplot,\n",
      "    na.roughfix, outlier, partialPlot, treesize, varImpPlot, varUsed\n",
      "\n",
      "\n",
      "The following object is masked from ‘package:dplyr’:\n",
      "\n",
      "    combine\n",
      "\n",
      "\n",
      "The following object is masked from ‘package:ggplot2’:\n",
      "\n",
      "    margin\n",
      "\n",
      "\n",
      "* Option 'clustermq.scheduler' not set, defaulting to ‘SGE’\n",
      "\n",
      "--- see: https://mschubert.github.io/clustermq/articles/userguide.html#configuration\n",
      "\n",
      "Loading required package: viridisLite\n",
      "\n",
      "Warning message:\n",
      "“replacing previous import ‘data.table::last’ by ‘dplyr::last’ when loading ‘endoR’”\n",
      "Warning message:\n",
      "“replacing previous import ‘data.table::first’ by ‘dplyr::first’ when loading ‘endoR’”\n",
      "Warning message:\n",
      "“replacing previous import ‘data.table::between’ by ‘dplyr::between’ when loading ‘endoR’”\n",
      "Warning message:\n",
      "“replacing previous import ‘dplyr::union’ by ‘igraph::union’ when loading ‘endoR’”\n",
      "Warning message:\n",
      "“replacing previous import ‘dplyr::as_data_frame’ by ‘igraph::as_data_frame’ when loading ‘endoR’”\n",
      "Warning message:\n",
      "“replacing previous import ‘dplyr::groups’ by ‘igraph::groups’ when loading ‘endoR’”\n"
     ]
    }
   ],
   "source": [
    "library(tidyverse)\n",
    "library(stringr)\n",
    "library(caret)\n",
    "library(data.table)\n",
    "library(stringr)\n",
    "library(dplyr)\n",
    "library(randomForest)\n",
    "library(qs)\n",
    "library(parallel)\n",
    "library(igraph)\n",
    "library(ggraph)\n",
    "library(inTrees)\n",
    "library(RRF)\n",
    "library(clustermq)\n",
    "library(viridis)\n",
    "library(endoR)"
   ]
  },
  {
   "cell_type": "code",
   "execution_count": 2,
   "metadata": {
    "ExecuteTime": {
     "end_time": "2021-12-17T13:18:34.824276Z",
     "start_time": "2021-12-17T13:18:29.816Z"
    }
   },
   "outputs": [
    {
     "data": {
      "text/plain": [
       "R version 4.0.3 (2020-10-10)\n",
       "Platform: x86_64-conda-linux-gnu (64-bit)\n",
       "Running under: Ubuntu 18.04.6 LTS\n",
       "\n",
       "Matrix products: default\n",
       "BLAS/LAPACK: /ebio/abt3_projects/Methanogen_SCFA/Metagenomes_methanogen/envs/r-ml/lib/libopenblasp-r0.3.10.so\n",
       "\n",
       "locale:\n",
       " [1] LC_CTYPE=en_US.UTF-8       LC_NUMERIC=C              \n",
       " [3] LC_TIME=en_US.UTF-8        LC_COLLATE=en_US.UTF-8    \n",
       " [5] LC_MONETARY=en_US.UTF-8    LC_MESSAGES=en_US.UTF-8   \n",
       " [7] LC_PAPER=en_US.UTF-8       LC_NAME=C                 \n",
       " [9] LC_ADDRESS=C               LC_TELEPHONE=C            \n",
       "[11] LC_MEASUREMENT=en_US.UTF-8 LC_IDENTIFICATION=C       \n",
       "\n",
       "attached base packages:\n",
       "[1] parallel  stats     graphics  grDevices utils     datasets  methods  \n",
       "[8] base     \n",
       "\n",
       "other attached packages:\n",
       " [1] endoR_0.1.0         viridis_0.5.1       viridisLite_0.3.0  \n",
       " [4] clustermq_0.8.95.1  RRF_1.9.1           inTrees_1.3        \n",
       " [7] ggraph_2.0.4        igraph_1.2.6        qs_0.23.4          \n",
       "[10] randomForest_4.6-14 data.table_1.13.4   caret_6.0-86       \n",
       "[13] lattice_0.20-41     forcats_0.5.0       stringr_1.4.0      \n",
       "[16] dplyr_1.0.2         purrr_0.3.4         readr_1.4.0        \n",
       "[19] tidyr_1.1.2         tibble_3.0.4        ggplot2_3.3.2      \n",
       "[22] tidyverse_1.3.0    \n",
       "\n",
       "loaded via a namespace (and not attached):\n",
       " [1] colorspace_2.0-0     ellipsis_0.3.1       class_7.3-17        \n",
       " [4] IRdisplay_0.7.0      base64enc_0.1-3      fs_1.5.0            \n",
       " [7] rstudioapi_0.13      farver_2.0.3         graphlayouts_0.7.1  \n",
       "[10] ggrepel_0.8.2        prodlim_2019.11.13   fansi_0.4.1         \n",
       "[13] lubridate_1.7.9.2    ranger_0.12.1        xml2_1.3.2          \n",
       "[16] codetools_0.2-18     splines_4.0.3        arules_1.6-6        \n",
       "[19] polyclip_1.10-0      IRkernel_1.1.1       jsonlite_1.7.2      \n",
       "[22] pROC_1.16.2          broom_0.7.2          dbplyr_2.0.0        \n",
       "[25] ggforce_0.3.2        compiler_4.0.3       httr_1.4.2          \n",
       "[28] backports_1.2.0      assertthat_0.2.1     Matrix_1.2-18       \n",
       "[31] cli_2.2.0            tweenr_1.0.1         htmltools_0.5.0     \n",
       "[34] tools_4.0.3          gtable_0.3.0         glue_1.4.2          \n",
       "[37] reshape2_1.4.4       Rcpp_1.0.5           cellranger_1.1.0    \n",
       "[40] vctrs_0.3.6          nlme_3.1-150         iterators_1.0.13    \n",
       "[43] timeDate_3043.102    gower_0.2.2          ps_1.5.0            \n",
       "[46] rvest_0.3.6          lifecycle_0.2.0      MASS_7.3-53         \n",
       "[49] scales_1.1.1         ipred_0.9-9          tidygraph_1.2.0     \n",
       "[52] hms_0.5.3            gridExtra_2.3        rpart_4.1-15        \n",
       "[55] stringi_1.5.3        foreach_1.5.1        lava_1.6.8.1        \n",
       "[58] repr_1.1.2.9000      rlang_0.4.10         pkgconfig_2.0.3     \n",
       "[61] evaluate_0.14        recipes_0.1.15       tidyselect_1.1.0    \n",
       "[64] gbm_2.1.8            plyr_1.8.6           magrittr_2.0.1      \n",
       "[67] R6_2.5.0             generics_0.1.0       pbdZMQ_0.3-3.1      \n",
       "[70] DBI_1.1.0            pillar_1.4.7         haven_2.3.1         \n",
       "[73] withr_2.3.0          survival_3.2-7       nnet_7.3-14         \n",
       "[76] modelr_0.1.8         crayon_1.3.4         xgboost_1.2.0.1     \n",
       "[79] uuid_0.1-4           RApiSerialize_0.1.0  grid_4.0.3          \n",
       "[82] readxl_1.3.1         ModelMetrics_1.2.2.2 reprex_0.3.0        \n",
       "[85] digest_0.6.27        xtable_1.8-4         RcppParallel_5.0.2  \n",
       "[88] stats4_4.0.3         munsell_0.5.0        stringfish_0.14.2   "
      ]
     },
     "metadata": {},
     "output_type": "display_data"
    }
   ],
   "source": [
    "sessionInfo()"
   ]
  },
  {
   "cell_type": "markdown",
   "metadata": {},
   "source": [
    "## functions"
   ]
  },
  {
   "cell_type": "code",
   "execution_count": 3,
   "metadata": {
    "ExecuteTime": {
     "end_time": "2021-12-17T13:18:34.857987Z",
     "start_time": "2021-12-17T13:18:30.201Z"
    }
   },
   "outputs": [],
   "source": [
    "file.sources <- list.files('../scripts/', pattern = '*.R', full.names=TRUE, ignore.case=TRUE)\n",
    "for (f in file.sources) {\n",
    "    source(f)\n",
    "}\n",
    "rm('file.sources', 'f')"
   ]
  },
  {
   "cell_type": "markdown",
   "metadata": {},
   "source": [
    "# Data"
   ]
  },
  {
   "cell_type": "code",
   "execution_count": 4,
   "metadata": {
    "ExecuteTime": {
     "end_time": "2021-12-17T13:18:34.874827Z",
     "start_time": "2021-12-17T13:18:30.675Z"
    }
   },
   "outputs": [],
   "source": [
    "meta <- c('dataset','Sample','age','gender','country','BMI','westernized', 'number_reads')"
   ]
  },
  {
   "cell_type": "code",
   "execution_count": 5,
   "metadata": {
    "ExecuteTime": {
     "end_time": "2021-12-17T13:18:34.927788Z",
     "start_time": "2021-12-17T13:18:30.903Z"
    }
   },
   "outputs": [],
   "source": [
    "rules <- qread('../tmp/ruleExec_full.qs')\n",
    "related_taxa <- qread('../tmp/related_taxa_full.qs')\n",
    "X <- qread('../tmp/X.qs')"
   ]
  },
  {
   "cell_type": "code",
   "execution_count": 6,
   "metadata": {
    "ExecuteTime": {
     "end_time": "2021-12-17T13:18:34.957475Z",
     "start_time": "2021-12-17T13:18:31.099Z"
    }
   },
   "outputs": [],
   "source": [
    "is_s <- str_which(names(related_taxa), pattern = '^s_')\n",
    "related_taxa[is_s] <- related_taxa[is_s] %>% lapply(function(x){str_subset(x, pattern = '^s|g')})\n",
    "related_taxa$groupa <- 'groupa'\n",
    "related_taxa$groupb <- 'groupb'\n",
    "related_taxa$groupc <- 'groupc'\n",
    "related_taxa$groupd <- 'groupd'"
   ]
  },
  {
   "cell_type": "code",
   "execution_count": 7,
   "metadata": {
    "ExecuteTime": {
     "end_time": "2021-12-17T13:18:34.989746Z",
     "start_time": "2021-12-17T13:18:31.297Z"
    }
   },
   "outputs": [],
   "source": [
    "fnames <- list.files('/ebio/abt3_projects/temp_data/aruaud/MtgSimu50/', full.names = TRUE, recursive = TRUE\n",
    "                    )%>% str_subset(pattern = 'B100/')\n"
   ]
  },
  {
   "cell_type": "code",
   "execution_count": 8,
   "metadata": {
    "ExecuteTime": {
     "end_time": "2021-12-17T13:18:36.380478Z",
     "start_time": "2021-12-17T13:18:31.611Z"
    }
   },
   "outputs": [
    {
     "data": {
      "text/html": [
       "'/ebio/abt3_projects/temp_data/aruaud/MtgSimu50//p005_B100/simu153_p0_05.qs'"
      ],
      "text/latex": [
       "'/ebio/abt3\\_projects/temp\\_data/aruaud/MtgSimu50//p005\\_B100/simu153\\_p0\\_05.qs'"
      ],
      "text/markdown": [
       "'/ebio/abt3_projects/temp_data/aruaud/MtgSimu50//p005_B100/simu153_p0_05.qs'"
      ],
      "text/plain": [
       "[1] \"/ebio/abt3_projects/temp_data/aruaud/MtgSimu50//p005_B100/simu153_p0_05.qs\""
      ]
     },
     "metadata": {},
     "output_type": "display_data"
    }
   ],
   "source": [
    "res <- qread(fnames[3])\n",
    "fnames[3]"
   ]
  },
  {
   "cell_type": "markdown",
   "metadata": {},
   "source": [
    "# B=100 "
   ]
  },
  {
   "cell_type": "markdown",
   "metadata": {},
   "source": [
    "## get"
   ]
  },
  {
   "cell_type": "code",
   "execution_count": 9,
   "metadata": {
    "ExecuteTime": {
     "end_time": "2021-12-17T13:18:36.397338Z",
     "start_time": "2021-12-17T13:18:33.474Z"
    }
   },
   "outputs": [],
   "source": [
    "n_cores <- 30\n",
    "tmpl <- list(conda = \"r-ml\", cores = n_cores, job_time = '24:00:00', job_mem = '20G')"
   ]
  },
  {
   "cell_type": "code",
   "execution_count": 13,
   "metadata": {
    "ExecuteTime": {
     "end_time": "2021-04-02T07:37:19.516583Z",
     "start_time": "2021-04-01T17:24:30.295Z"
    },
    "deletable": false,
    "editable": false,
    "run_control": {
     "frozen": true
    },
    "scrolled": true
   },
   "outputs": [
    {
     "name": "stderr",
     "output_type": "stream",
     "text": [
      "Warning message in (function (...) :\n",
      "“Common data is 7.2 Mb. Recommended limit is  (set by clustermq.data.warning option)”\n",
      "Submitting 10 worker jobs (ID: cmq8360) ...\n",
      "\n",
      "Running 10 calculations (11 objs/7.2 Mb common; 1 calls/chunk) ...\n",
      "\n",
      "\n",
      "[---------------------------------------------------]   0% (1/10 wrk) eta:  ?s\n",
      "\n",
      "[---------------------------------------------------]   0% (2/10 wrk) eta:  ?s\n",
      "\n",
      "[---------------------------------------------------]   0% (3/10 wrk) eta:  ?s\n",
      "\n",
      "[---------------------------------------------------]   0% (4/10 wrk) eta:  ?s\n",
      "\n",
      "[---------------------------------------------------]   0% (5/10 wrk) eta:  ?s\n",
      "\n",
      "[---------------------------------------------------]   0% (6/10 wrk) eta:  ?s\n",
      "\n",
      "[---------------------------------------------------]   0% (7/10 wrk) eta:  ?s\n",
      "\n",
      "[---------------------------------------------------]   0% (8/10 wrk) eta:  ?s\n",
      "\n",
      "[---------------------------------------------------]   0% (9/10 wrk) eta:  ?s\n",
      "\n",
      "[--------------------------------------------------]   0% (10/10 wrk) eta:  ?s\n",
      "\n",
      "[====>---------------------------------------------]  10% (10/10 wrk) eta: 13h\n",
      "\n",
      "[=========>------------------------------------------]  20% (9/9 wrk) eta:  6h\n",
      "\n",
      "[===============>------------------------------------]  30% (8/8 wrk) eta:  3h\n",
      "\n",
      "[====================>-------------------------------]  40% (7/7 wrk) eta:  2h\n",
      "\n",
      "[=========================>--------------------------]  50% (6/6 wrk) eta:  2h\n",
      "\n",
      "[==============================>---------------------]  60% (5/5 wrk) eta:  1h\n",
      "\n",
      "[===================================>----------------]  70% (4/4 wrk) eta: 40m\n",
      "\n",
      "[=========================================>----------]  80% (3/3 wrk) eta: 28m\n",
      "\n",
      "[==============================================>-----]  90% (2/2 wrk) eta: 14m\n",
      "\n",
      "[====================================================] 100% (1/1 wrk) eta:  0s\n",
      "                                                                              \n",
      "\n",
      "Master: [12594.0s 0.0% CPU]; Worker: [avg 6.1% CPU, max 1222.8 Mb]\n",
      "\n"
     ]
    }
   ],
   "source": [
    "simu <- Q(wrappy, fail_on_error = TRUE\n",
    "  , seedN = 1:10\n",
    "  , const=list(rf_fs = res$rf, target = res$target, data = res$data\n",
    "               ,times = 100, p=0.5\n",
    "               , discretize = TRUE, K = 2, prune = TRUE\n",
    "               , in_parallel = TRUE, n_cores = n_cores\n",
    "               , path = '/ebio/abt3_projects/temp_data/aruaud/MtgSimu50/p005_B100-10same_3/'\n",
    "              )\n",
    "  , n_jobs= 10\n",
    "  , pkgs=c('data.table', 'randomForest'\n",
    "           , 'parallel', 'caret', 'stringr', 'scales', 'dplyr', 'inTrees'\n",
    "           , 'babR', 'qs', 'RRF', 'tidyverse')\n",
    "  , log_worker=FALSE\n",
    "  , template = tmpl\n",
    " )"
   ]
  },
  {
   "cell_type": "markdown",
   "metadata": {},
   "source": [
    "## aggregate b=100"
   ]
  },
  {
   "cell_type": "code",
   "execution_count": 10,
   "metadata": {
    "ExecuteTime": {
     "end_time": "2021-12-17T13:18:36.411549Z",
     "start_time": "2021-12-17T13:18:34.147Z"
    }
   },
   "outputs": [],
   "source": [
    "fnames <- list.files('/ebio/abt3_projects/temp_data/aruaud/MtgSimu50/p005_B100-10same_3/', full.names = TRUE, recursive = TRUE)"
   ]
  },
  {
   "cell_type": "code",
   "execution_count": 11,
   "metadata": {
    "ExecuteTime": {
     "end_time": "2021-12-17T13:19:29.544370Z",
     "start_time": "2021-12-17T13:18:34.365Z"
    }
   },
   "outputs": [],
   "source": [
    "res_b100 <- list()\n",
    "\n",
    "for (i in 1:10){\n",
    "    res_b100[[i]] <- res\n",
    "    res_b100[[i]]$resampled <- qread(fnames[i])\n",
    "}"
   ]
  },
  {
   "cell_type": "markdown",
   "metadata": {},
   "source": [
    "# Results b=10"
   ]
  },
  {
   "cell_type": "code",
   "execution_count": 12,
   "metadata": {
    "ExecuteTime": {
     "end_time": "2021-12-17T13:19:29.586825Z",
     "start_time": "2021-12-17T13:18:36.032Z"
    }
   },
   "outputs": [],
   "source": [
    "res_b10 <- list()\n",
    "\n",
    "for (i in 0:9){\n",
    "    res_b10[[i+1]] <- res\n",
    "    res_b10[[i+1]]$resampled <- res_b10[[i+1]]$resampled[(i*10 + 1):((i+1)*10)]\n",
    "}"
   ]
  },
  {
   "cell_type": "markdown",
   "metadata": {},
   "source": [
    "# get curves"
   ]
  },
  {
   "cell_type": "code",
   "execution_count": 13,
   "metadata": {
    "ExecuteTime": {
     "end_time": "2021-12-17T13:19:34.893521Z",
     "start_time": "2021-12-17T13:18:36.679Z"
    }
   },
   "outputs": [],
   "source": [
    "#stopCluster(cluster)\n",
    "cluster <- makeCluster(7)\n",
    "quiet(clusterEvalQ(cluster, library(qs)))\n",
    "quiet(clusterEvalQ(cluster, library(endoR)))\n",
    "quiet(clusterEvalQ(cluster, library(tidyverse)))\n",
    "quiet(clusterExport(cluster, c('getSinglePR_singleB', 'metricsNet', 'quiet' )))"
   ]
  },
  {
   "cell_type": "code",
   "execution_count": 14,
   "metadata": {
    "ExecuteTime": {
     "end_time": "2021-12-17T13:19:38.723308Z",
     "start_time": "2021-12-17T13:18:40.633Z"
    }
   },
   "outputs": [],
   "source": [
    "b10_curves <- parLapply(cl = cluster, res_b10, getPR_singleB, alpha = 5, pi_thr = 0.7, related_taxa=related_taxa\n",
    "                     , all = (525^2-525)/2)"
   ]
  },
  {
   "cell_type": "code",
   "execution_count": 15,
   "metadata": {
    "ExecuteTime": {
     "end_time": "2021-12-17T13:21:15.706447Z",
     "start_time": "2021-12-17T13:18:40.842Z"
    }
   },
   "outputs": [],
   "source": [
    "b100_curves <- parLapply(cl = cluster, res_b100, getPR_singleB, alpha = 5, pi_thr = 0.7, related_taxa=related_taxa\n",
    "                     , all = (525^2-525)/2)"
   ]
  },
  {
   "cell_type": "code",
   "execution_count": 16,
   "metadata": {
    "ExecuteTime": {
     "end_time": "2021-12-17T13:21:15.736070Z",
     "start_time": "2021-12-17T13:18:41.011Z"
    }
   },
   "outputs": [],
   "source": [
    "stopCluster(cluster)"
   ]
  },
  {
   "cell_type": "code",
   "execution_count": 17,
   "metadata": {
    "ExecuteTime": {
     "end_time": "2021-12-17T13:21:15.794925Z",
     "start_time": "2021-12-17T13:18:41.147Z"
    }
   },
   "outputs": [],
   "source": [
    "b10_curves <- lapply(1:length(b10_curves), function(i,x){x[[i]]$rep <- i;return(x[[i]])}, x = b10_curves)\n",
    "b10_curves <- do.call(rbind, b10_curves)"
   ]
  },
  {
   "cell_type": "code",
   "execution_count": 18,
   "metadata": {
    "ExecuteTime": {
     "end_time": "2021-12-17T13:21:15.836990Z",
     "start_time": "2021-12-17T13:18:41.365Z"
    }
   },
   "outputs": [],
   "source": [
    "b100_curves <- lapply(1:length(b100_curves), function(i,x){x[[i]]$rep <- i;return(x[[i]])}, x = b100_curves)\n",
    "b100_curves <- do.call(rbind, b100_curves)"
   ]
  },
  {
   "cell_type": "code",
   "execution_count": 19,
   "metadata": {
    "ExecuteTime": {
     "end_time": "2021-12-17T13:21:15.910582Z",
     "start_time": "2021-12-17T13:18:41.531Z"
    }
   },
   "outputs": [
    {
     "data": {
      "text/html": [
       "'data.frame'"
      ],
      "text/latex": [
       "'data.frame'"
      ],
      "text/markdown": [
       "'data.frame'"
      ],
      "text/plain": [
       "[1] \"data.frame\""
      ]
     },
     "metadata": {},
     "output_type": "display_data"
    },
    {
     "data": {
      "text/html": [
       "<table class=\"dataframe\">\n",
       "<caption>A data.frame: 6 × 9</caption>\n",
       "<thead>\n",
       "\t<tr><th></th><th scope=col>n_edges</th><th scope=col>tp</th><th scope=col>fp</th><th scope=col>tn</th><th scope=col>fn</th><th scope=col>inN</th><th scope=col>B</th><th scope=col>K</th><th scope=col>rep</th></tr>\n",
       "\t<tr><th></th><th scope=col>&lt;dbl&gt;</th><th scope=col>&lt;dbl&gt;</th><th scope=col>&lt;dbl&gt;</th><th scope=col>&lt;dbl&gt;</th><th scope=col>&lt;dbl&gt;</th><th scope=col>&lt;dbl&gt;</th><th scope=col>&lt;int&gt;</th><th scope=col>&lt;int&gt;</th><th scope=col>&lt;int&gt;</th></tr>\n",
       "</thead>\n",
       "<tbody>\n",
       "\t<tr><th scope=row>654</th><td>34</td><td>9</td><td>14</td><td>137527</td><td>0</td><td>67</td><td>100</td><td>9</td><td>10</td></tr>\n",
       "\t<tr><th scope=row>655</th><td>25</td><td>9</td><td> 8</td><td>137533</td><td>0</td><td>75</td><td>100</td><td>9</td><td>10</td></tr>\n",
       "\t<tr><th scope=row>656</th><td>64</td><td>9</td><td>35</td><td>137506</td><td>0</td><td>48</td><td>100</td><td>9</td><td>10</td></tr>\n",
       "\t<tr><th scope=row>657</th><td>34</td><td>9</td><td>14</td><td>137527</td><td>0</td><td>64</td><td>100</td><td>9</td><td>10</td></tr>\n",
       "\t<tr><th scope=row>658</th><td>15</td><td>9</td><td> 3</td><td>137538</td><td>0</td><td>97</td><td>100</td><td>9</td><td>10</td></tr>\n",
       "\t<tr><th scope=row>659</th><td>19</td><td>9</td><td> 5</td><td>137536</td><td>0</td><td>85</td><td>100</td><td>9</td><td>10</td></tr>\n",
       "</tbody>\n",
       "</table>\n"
      ],
      "text/latex": [
       "A data.frame: 6 × 9\n",
       "\\begin{tabular}{r|lllllllll}\n",
       "  & n\\_edges & tp & fp & tn & fn & inN & B & K & rep\\\\\n",
       "  & <dbl> & <dbl> & <dbl> & <dbl> & <dbl> & <dbl> & <int> & <int> & <int>\\\\\n",
       "\\hline\n",
       "\t654 & 34 & 9 & 14 & 137527 & 0 & 67 & 100 & 9 & 10\\\\\n",
       "\t655 & 25 & 9 &  8 & 137533 & 0 & 75 & 100 & 9 & 10\\\\\n",
       "\t656 & 64 & 9 & 35 & 137506 & 0 & 48 & 100 & 9 & 10\\\\\n",
       "\t657 & 34 & 9 & 14 & 137527 & 0 & 64 & 100 & 9 & 10\\\\\n",
       "\t658 & 15 & 9 &  3 & 137538 & 0 & 97 & 100 & 9 & 10\\\\\n",
       "\t659 & 19 & 9 &  5 & 137536 & 0 & 85 & 100 & 9 & 10\\\\\n",
       "\\end{tabular}\n"
      ],
      "text/markdown": [
       "\n",
       "A data.frame: 6 × 9\n",
       "\n",
       "| <!--/--> | n_edges &lt;dbl&gt; | tp &lt;dbl&gt; | fp &lt;dbl&gt; | tn &lt;dbl&gt; | fn &lt;dbl&gt; | inN &lt;dbl&gt; | B &lt;int&gt; | K &lt;int&gt; | rep &lt;int&gt; |\n",
       "|---|---|---|---|---|---|---|---|---|---|\n",
       "| 654 | 34 | 9 | 14 | 137527 | 0 | 67 | 100 | 9 | 10 |\n",
       "| 655 | 25 | 9 |  8 | 137533 | 0 | 75 | 100 | 9 | 10 |\n",
       "| 656 | 64 | 9 | 35 | 137506 | 0 | 48 | 100 | 9 | 10 |\n",
       "| 657 | 34 | 9 | 14 | 137527 | 0 | 64 | 100 | 9 | 10 |\n",
       "| 658 | 15 | 9 |  3 | 137538 | 0 | 97 | 100 | 9 | 10 |\n",
       "| 659 | 19 | 9 |  5 | 137536 | 0 | 85 | 100 | 9 | 10 |\n",
       "\n"
      ],
      "text/plain": [
       "    n_edges tp fp tn     fn inN B   K rep\n",
       "654 34      9  14 137527 0  67  100 9 10 \n",
       "655 25      9   8 137533 0  75  100 9 10 \n",
       "656 64      9  35 137506 0  48  100 9 10 \n",
       "657 34      9  14 137527 0  64  100 9 10 \n",
       "658 15      9   3 137538 0  97  100 9 10 \n",
       "659 19      9   5 137536 0  85  100 9 10 "
      ]
     },
     "metadata": {},
     "output_type": "display_data"
    }
   ],
   "source": [
    "b10_curves %>% class\n",
    "b100_curves %>% tail"
   ]
  },
  {
   "cell_type": "code",
   "execution_count": 20,
   "metadata": {
    "ExecuteTime": {
     "end_time": "2021-12-17T13:21:15.934280Z",
     "start_time": "2021-12-17T13:18:42.068Z"
    }
   },
   "outputs": [],
   "source": [
    "b_curves <- rbind(b10_curves, b100_curves)\n",
    "b_curves$rep <- paste0(b_curves$B, '_', b_curves$rep)"
   ]
  },
  {
   "cell_type": "code",
   "execution_count": 21,
   "metadata": {
    "ExecuteTime": {
     "end_time": "2021-12-17T13:21:16.033168Z",
     "start_time": "2021-12-17T13:18:42.252Z"
    }
   },
   "outputs": [],
   "source": [
    "suppressWarnings(b_av <- b_curves %>% select(-rep) %>% group_by(B, inN) %>% summarise_all(mean))"
   ]
  },
  {
   "cell_type": "markdown",
   "metadata": {},
   "source": [
    "# interpolate"
   ]
  },
  {
   "cell_type": "code",
   "execution_count": 22,
   "metadata": {
    "ExecuteTime": {
     "end_time": "2021-12-17T13:21:16.157987Z",
     "start_time": "2021-12-17T13:18:42.704Z"
    }
   },
   "outputs": [],
   "source": [
    "b_byrep <- suppressWarnings(lapply(unique(b_curves$rep), getInterpo, raw = b_curves))"
   ]
  },
  {
   "cell_type": "code",
   "execution_count": 23,
   "metadata": {
    "ExecuteTime": {
     "end_time": "2021-12-17T13:21:16.408009Z",
     "start_time": "2021-12-17T13:18:44.035Z"
    }
   },
   "outputs": [],
   "source": [
    "b_byrep_av <- do.call(rbind, b_byrep) %>% select(-rep) %>% group_by(fp, B) %>% summarise_all(mean)\n",
    "b_byrep_sd <- do.call(rbind, b_byrep) %>% select(-rep) %>% group_by(fp, B) %>% summarise_all(sd)\n",
    "\n",
    "a10_forplots <- left_join(b_byrep_av, b_byrep_sd, by = c('fp', 'B'), suffix = c('_av', '_sd'))"
   ]
  },
  {
   "cell_type": "markdown",
   "metadata": {},
   "source": [
    "# plots"
   ]
  },
  {
   "cell_type": "code",
   "execution_count": 24,
   "metadata": {
    "ExecuteTime": {
     "end_time": "2021-12-17T13:21:16.439486Z",
     "start_time": "2021-12-17T13:18:44.427Z"
    }
   },
   "outputs": [],
   "source": [
    "b_av$B <- factor(b_av$B, levels = c('10', '100'))\n",
    "a10_forplots$B <- factor(a10_forplots$B, levels = c('10', '100'))"
   ]
  },
  {
   "cell_type": "code",
   "execution_count": 25,
   "metadata": {
    "ExecuteTime": {
     "end_time": "2021-12-17T13:21:16.480250Z",
     "start_time": "2021-12-17T13:18:44.579Z"
    }
   },
   "outputs": [],
   "source": [
    "cols <- plasma(length(unique(b_av$B)) + 2)"
   ]
  },
  {
   "cell_type": "code",
   "execution_count": 26,
   "metadata": {
    "ExecuteTime": {
     "end_time": "2021-12-17T13:21:16.593483Z",
     "start_time": "2021-12-17T13:18:48.744Z"
    }
   },
   "outputs": [],
   "source": [
    "p <- ggplot(a10_forplots %>% subset(fp < 100)\n",
    "             , aes(x = fp, y = tp_av, group = B, color = as.factor(B)))+\n",
    "\n",
    "geom_hline(yintercept = 9, color = 'lightgrey', linetype = 'dashed')+\n",
    "\n",
    "geom_line(size = 1)+\n",
    "\n",
    "geom_ribbon(aes(ymin = tp_av - tp_sd/2, ymax = tp_av + tp_sd/2\n",
    "                , group = B, fill = as.factor(B)), color = NA\n",
    "            , alpha = 0.3) +\n",
    "geom_ribbon(data = a10_forplots %>% subset(fp < 100 & B == 100)\n",
    "            , aes(ymin = tp_av - tp_sd/2, ymax = tp_av + tp_sd/2\n",
    "                , group = B, fill = as.factor(B)), color = NA\n",
    "            , alpha = 0.4) +\n",
    "\n",
    "\n",
    "geom_point(data = b_av %>% subset((B == '10' & inN == 7) | (B == '100' & inN == 70))\n",
    "           , aes(y = tp, x = fp, fill = as.factor(B))\n",
    "           , size = 4, shape = 21, color = 'black')+\n",
    "\n",
    "\n",
    "theme_classic()+\n",
    "labs(x = 'Number of FP', y = 'Number of TP') +\n",
    "scale_color_manual(values = cols[-c(1, length(cols))], name = 'B') +\n",
    "scale_fill_manual(values = cols[-c(1, length(cols))], name = 'B')\n"
   ]
  },
  {
   "cell_type": "code",
   "execution_count": 27,
   "metadata": {
    "ExecuteTime": {
     "end_time": "2021-12-17T13:21:17.237273Z",
     "start_time": "2021-12-17T13:18:50.081Z"
    }
   },
   "outputs": [
    {
     "data": {
      "image/png": "[encoded data removed]",
      "text/plain": [
       "plot without title"
      ]
     },
     "metadata": {
      "image/png": {
       "height": 180,
       "width": 360
      }
     },
     "output_type": "display_data"
    }
   ],
   "source": [
    "options(repr.plot.width=6, repr.plot.height=3)\n",
    "p"
   ]
  },
  {
   "cell_type": "code",
   "execution_count": null,
   "metadata": {},
   "outputs": [],
   "source": []
  }
 ],
 "metadata": {
  "kernelspec": {
   "display_name": "R [conda env:Metagenomes_methanogen-r-ml] *",
   "language": "R",
   "name": "conda-env-Metagenomes_methanogen-r-ml-r"
  },
  "language_info": {
   "codemirror_mode": "r",
   "file_extension": ".r",
   "mimetype": "text/x-r-source",
   "name": "R",
   "pygments_lexer": "r",
   "version": "4.0.3"
  },
  "notify_time": "30",
  "toc": {
   "base_numbering": 1,
   "nav_menu": {},
   "number_sections": true,
   "sideBar": true,
   "skip_h1_title": false,
   "title_cell": "Table of Contents",
   "title_sidebar": "Contents",
   "toc_cell": false,
   "toc_position": {
    "height": "calc(100% - 180px)",
    "left": "10px",
    "top": "150px",
    "width": "175.2px"
   },
   "toc_section_display": true,
   "toc_window_display": true
  }
 },
 "nbformat": 4,
 "nbformat_minor": 4
}
