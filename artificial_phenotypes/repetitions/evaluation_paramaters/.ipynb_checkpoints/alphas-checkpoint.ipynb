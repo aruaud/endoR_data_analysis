{
 "cells": [
  {
   "cell_type": "markdown",
   "metadata": {},
   "source": [
    "# Preambule"
   ]
  },
  {
   "cell_type": "markdown",
   "metadata": {},
   "source": [
    "## libraries"
   ]
  },
  {
   "cell_type": "code",
   "execution_count": 1,
   "metadata": {
    "ExecuteTime": {
     "end_time": "2021-11-23T17:30:00.887531Z",
     "start_time": "2021-11-23T17:29:56.213Z"
    }
   },
   "outputs": [
    {
     "name": "stderr",
     "output_type": "stream",
     "text": [
      "── \u001b[1mAttaching packages\u001b[22m ────────────────────────────────────────────────────────────────────────────────────────────────────────────────────────────────────── tidyverse 1.3.0 ──\n",
      "\n",
      "\u001b[32m✔\u001b[39m \u001b[34mggplot2\u001b[39m 3.3.2     \u001b[32m✔\u001b[39m \u001b[34mpurrr  \u001b[39m 0.3.4\n",
      "\u001b[32m✔\u001b[39m \u001b[34mtibble \u001b[39m 3.0.4     \u001b[32m✔\u001b[39m \u001b[34mdplyr  \u001b[39m 1.0.2\n",
      "\u001b[32m✔\u001b[39m \u001b[34mtidyr  \u001b[39m 1.1.2     \u001b[32m✔\u001b[39m \u001b[34mstringr\u001b[39m 1.4.0\n",
      "\u001b[32m✔\u001b[39m \u001b[34mreadr  \u001b[39m 1.4.0     \u001b[32m✔\u001b[39m \u001b[34mforcats\u001b[39m 0.5.0\n",
      "\n",
      "── \u001b[1mConflicts\u001b[22m ───────────────────────────────────────────────────────────────────────────────────────────────────────────────────────────────────────── tidyverse_conflicts() ──\n",
      "\u001b[31m✖\u001b[39m \u001b[34mdplyr\u001b[39m::\u001b[32mfilter()\u001b[39m masks \u001b[34mstats\u001b[39m::filter()\n",
      "\u001b[31m✖\u001b[39m \u001b[34mdplyr\u001b[39m::\u001b[32mlag()\u001b[39m    masks \u001b[34mstats\u001b[39m::lag()\n",
      "\n",
      "Loading required package: lattice\n",
      "\n",
      "\n",
      "Attaching package: ‘caret’\n",
      "\n",
      "\n",
      "The following object is masked from ‘package:purrr’:\n",
      "\n",
      "    lift\n",
      "\n",
      "\n",
      "\n",
      "Attaching package: ‘data.table’\n",
      "\n",
      "\n",
      "The following objects are masked from ‘package:dplyr’:\n",
      "\n",
      "    between, first, last\n",
      "\n",
      "\n",
      "The following object is masked from ‘package:purrr’:\n",
      "\n",
      "    transpose\n",
      "\n",
      "\n",
      "qs v0.23.4.\n",
      "\n",
      "randomForest 4.6-14\n",
      "\n",
      "Type rfNews() to see new features/changes/bug fixes.\n",
      "\n",
      "\n",
      "Attaching package: ‘randomForest’\n",
      "\n",
      "\n",
      "The following object is masked from ‘package:dplyr’:\n",
      "\n",
      "    combine\n",
      "\n",
      "\n",
      "The following object is masked from ‘package:ggplot2’:\n",
      "\n",
      "    margin\n",
      "\n",
      "\n",
      "Registered S3 method overwritten by 'RRF':\n",
      "  method      from        \n",
      "  plot.margin randomForest\n",
      "\n",
      "Warning message:\n",
      "“replacing previous import ‘data.table::last’ by ‘dplyr::last’ when loading ‘endoR’”\n",
      "Warning message:\n",
      "“replacing previous import ‘data.table::first’ by ‘dplyr::first’ when loading ‘endoR’”\n",
      "Warning message:\n",
      "“replacing previous import ‘data.table::between’ by ‘dplyr::between’ when loading ‘endoR’”\n",
      "Warning message:\n",
      "“replacing previous import ‘dplyr::union’ by ‘igraph::union’ when loading ‘endoR’”\n",
      "Warning message:\n",
      "“replacing previous import ‘dplyr::as_data_frame’ by ‘igraph::as_data_frame’ when loading ‘endoR’”\n",
      "Warning message:\n",
      "“replacing previous import ‘dplyr::groups’ by ‘igraph::groups’ when loading ‘endoR’”\n",
      "Loading required package: viridisLite\n",
      "\n"
     ]
    }
   ],
   "source": [
    "library(tidyverse)\n",
    "library(stringr)\n",
    "library(caret)\n",
    "library(data.table)\n",
    "library(stringr)\n",
    "library(dplyr)\n",
    "library(qs)\n",
    "library(parallel)\n",
    "library(randomForest)\n",
    "library(inTrees)\n",
    "library(endoR)\n",
    "library(viridis)\n",
    "library(ggpubr)"
   ]
  },
  {
   "cell_type": "code",
   "execution_count": 2,
   "metadata": {
    "ExecuteTime": {
     "end_time": "2021-11-23T17:30:01.001645Z",
     "start_time": "2021-11-23T17:29:56.216Z"
    }
   },
   "outputs": [
    {
     "data": {
      "text/plain": [
       "R version 4.0.3 (2020-10-10)\n",
       "Platform: x86_64-conda-linux-gnu (64-bit)\n",
       "Running under: Ubuntu 18.04.6 LTS\n",
       "\n",
       "Matrix products: default\n",
       "BLAS/LAPACK: /ebio/abt3_projects/Methanogen_SCFA/Metagenomes_methanogen/envs/r-ml/lib/libopenblasp-r0.3.10.so\n",
       "\n",
       "locale:\n",
       " [1] LC_CTYPE=en_US.UTF-8       LC_NUMERIC=C              \n",
       " [3] LC_TIME=en_US.UTF-8        LC_COLLATE=en_US.UTF-8    \n",
       " [5] LC_MONETARY=en_US.UTF-8    LC_MESSAGES=en_US.UTF-8   \n",
       " [7] LC_PAPER=en_US.UTF-8       LC_NAME=C                 \n",
       " [9] LC_ADDRESS=C               LC_TELEPHONE=C            \n",
       "[11] LC_MEASUREMENT=en_US.UTF-8 LC_IDENTIFICATION=C       \n",
       "\n",
       "attached base packages:\n",
       "[1] parallel  stats     graphics  grDevices utils     datasets  methods  \n",
       "[8] base     \n",
       "\n",
       "other attached packages:\n",
       " [1] ggpubr_0.4.0        viridis_0.5.1       viridisLite_0.3.0  \n",
       " [4] endoR_0.1.0         inTrees_1.3         randomForest_4.6-14\n",
       " [7] qs_0.23.4           data.table_1.13.4   caret_6.0-86       \n",
       "[10] lattice_0.20-41     forcats_0.5.0       stringr_1.4.0      \n",
       "[13] dplyr_1.0.2         purrr_0.3.4         readr_1.4.0        \n",
       "[16] tidyr_1.1.2         tibble_3.0.4        ggplot2_3.3.2      \n",
       "[19] tidyverse_1.3.0    \n",
       "\n",
       "loaded via a namespace (and not attached):\n",
       "  [1] colorspace_2.0-0     ggsignif_0.6.0       rio_0.5.16          \n",
       "  [4] ellipsis_0.3.1       class_7.3-17         IRdisplay_0.7.0     \n",
       "  [7] base64enc_0.1-3      fs_1.5.0             rstudioapi_0.13     \n",
       " [10] farver_2.0.3         graphlayouts_0.7.1   ggrepel_0.8.2       \n",
       " [13] prodlim_2019.11.13   fansi_0.4.1          lubridate_1.7.9.2   \n",
       " [16] ranger_0.12.1        xml2_1.3.2           codetools_0.2-18    \n",
       " [19] splines_4.0.3        arules_1.6-6         polyclip_1.10-0     \n",
       " [22] IRkernel_1.1.1       jsonlite_1.7.2       pROC_1.16.2         \n",
       " [25] broom_0.7.2          dbplyr_2.0.0         ggforce_0.3.2       \n",
       " [28] compiler_4.0.3       httr_1.4.2           backports_1.2.0     \n",
       " [31] assertthat_0.2.1     Matrix_1.2-18        cli_2.2.0           \n",
       " [34] tweenr_1.0.1         htmltools_0.5.0      tools_4.0.3         \n",
       " [37] igraph_1.2.6         gtable_0.3.0         glue_1.4.2          \n",
       " [40] reshape2_1.4.4       Rcpp_1.0.5           carData_3.0-4       \n",
       " [43] cellranger_1.1.0     vctrs_0.3.6          nlme_3.1-150        \n",
       " [46] iterators_1.0.13     ggraph_2.0.4         timeDate_3043.102   \n",
       " [49] gower_0.2.2          ps_1.5.0             openxlsx_4.2.3      \n",
       " [52] rvest_0.3.6          lifecycle_0.2.0      rstatix_0.6.0       \n",
       " [55] MASS_7.3-53          scales_1.1.1         ipred_0.9-9         \n",
       " [58] tidygraph_1.2.0      hms_0.5.3            curl_4.3            \n",
       " [61] gridExtra_2.3        rpart_4.1-15         stringi_1.5.3       \n",
       " [64] foreach_1.5.1        zip_2.1.1            lava_1.6.8.1        \n",
       " [67] repr_1.1.2.9000      rlang_0.4.10         pkgconfig_2.0.3     \n",
       " [70] evaluate_0.14        recipes_0.1.15       tidyselect_1.1.0    \n",
       " [73] gbm_2.1.8            plyr_1.8.6           magrittr_2.0.1      \n",
       " [76] R6_2.5.0             generics_0.1.0       pbdZMQ_0.3-3.1      \n",
       " [79] DBI_1.1.0            foreign_0.8-80       pillar_1.4.7        \n",
       " [82] haven_2.3.1          withr_2.3.0          abind_1.4-5         \n",
       " [85] survival_3.2-7       nnet_7.3-14          car_3.0-10          \n",
       " [88] modelr_0.1.8         crayon_1.3.4         xgboost_1.2.0.1     \n",
       " [91] uuid_0.1-4           RApiSerialize_0.1.0  RRF_1.9.1           \n",
       " [94] grid_4.0.3           readxl_1.3.1         ModelMetrics_1.2.2.2\n",
       " [97] reprex_0.3.0         digest_0.6.27        xtable_1.8-4        \n",
       "[100] RcppParallel_5.0.2   stats4_4.0.3         munsell_0.5.0       \n",
       "[103] stringfish_0.14.2   "
      ]
     },
     "metadata": {},
     "output_type": "display_data"
    }
   ],
   "source": [
    "sessionInfo()"
   ]
  },
  {
   "cell_type": "markdown",
   "metadata": {},
   "source": [
    "## functions"
   ]
  },
  {
   "cell_type": "code",
   "execution_count": 3,
   "metadata": {
    "ExecuteTime": {
     "end_time": "2021-11-23T17:30:01.032358Z",
     "start_time": "2021-11-23T17:29:56.219Z"
    }
   },
   "outputs": [],
   "source": [
    "file.sources <- list.files('../scripts/', pattern = '*.R', full.names=TRUE, ignore.case=TRUE)\n",
    "for (f in file.sources) {\n",
    "    source(f)\n",
    "}\n",
    "rm('file.sources', 'f')"
   ]
  },
  {
   "cell_type": "code",
   "execution_count": 4,
   "metadata": {
    "ExecuteTime": {
     "end_time": "2021-11-23T17:30:01.046349Z",
     "start_time": "2021-11-23T17:29:56.221Z"
    }
   },
   "outputs": [],
   "source": [
    "getPR <- function(f, alpha, pi_thr, related_taxa, all){\n",
    "    \n",
    "    edi <- as.data.frame(do.call(rbind, edi))\n",
    "    edi$inN <- unique(edges$inN)\n",
    "     \n",
    "    edi$B <- str_extract(f, pattern = '(?<=B)[:digit:]+')\n",
    "    edi$seedN <- str_extract(f, pattern = '(?<=simu)[:digit:]+(?=\\\\_)')\n",
    "    edi$K <- length(expanded_edges)\n",
    "    edi$Ncol <- all\n",
    "    \n",
    "    return(edi)\n",
    "}"
   ]
  },
  {
   "cell_type": "code",
   "execution_count": 5,
   "metadata": {
    "ExecuteTime": {
     "end_time": "2021-11-23T17:30:01.060652Z",
     "start_time": "2021-11-23T17:29:56.224Z"
    }
   },
   "outputs": [],
   "source": [
    "getSinglePR <- function(res, alpha, pi_thr,expanded_edges, all, taxa){\n",
    "    pc <- quiet(stabilitySelection(res, alpha_error = alpha, pi_thr = pi_thr))\n",
    "    \n",
    "    if (is.null(pc$edges_agg)){\n",
    "        return(NULL)\n",
    "    }\n",
    "    \n",
    "    # prepare edges from endoR\n",
    "    suppressMessages(edges <- pc$edges_agg %>% select(x, y, condition, importance, influence, d.x, d.y) %>% \n",
    "        subset(condition %in% pc$rules_summary$condition) %>%\n",
    "        group_by(x, y, condition) %>% \n",
    "        summarise(importance= mean(importance), influence = mean(influence*(d.x+d.y)/2)) %>%\n",
    "        ungroup %>% \n",
    "        left_join(select(pc$rules_summary,condition, inN, imp, n), by = 'condition') %>% \n",
    "        select(-condition) )\n",
    "    \n",
    "    edi <- lapply(unique(edges$inN)\n",
    "                  , function(i, edges,expanded_edges, all){\n",
    "                      suppressMessages(edges <- edges %>% subset(inN >= i) %>% group_by(x, y) %>% \n",
    "                                       summarise( inN = max(inN), importance = sum(importance*imp*n)\n",
    "                                                 , influence = sum(influence*imp*n)/sum(imp*n) ) %>% ungroup)\n",
    "                      metricsNet(edges = edges,expanded_edges=expanded_edges, all=all)\n",
    "                  }, edges = edges,expanded_edges=expanded_edges, all=all)\n",
    "    edi <- as.data.frame(do.call(rbind, edi))\n",
    "    edi$inN <- unique(edges$inN)\n",
    "    edi <- add_row(edi, n_edges=0, tp=0,fp=0,tn=0,fn=0,inN=0)\n",
    "    edi$alpha <- alpha\n",
    "    edi$pi_thr <- pi_thr\n",
    "    \n",
    "    return(edi)\n",
    "}"
   ]
  },
  {
   "cell_type": "code",
   "execution_count": 6,
   "metadata": {
    "ExecuteTime": {
     "end_time": "2021-11-23T17:30:01.074541Z",
     "start_time": "2021-11-23T17:29:56.227Z"
    }
   },
   "outputs": [],
   "source": [
    "getSeveralPR <- function(f, alphas, pi_thr, taxa,related_taxa, all){\n",
    "    res <- qread(f)\n",
    "    \n",
    "    # get the true edges\n",
    "    te <- lapply(res$true_edges, str_replace_all, pattern = '\\\\_{2}.*', replacement = '')\n",
    "    te <- unique(lapply(te, sort))\n",
    "    expanded_edges <- list()\n",
    "    for (i in 1:length(te)){\n",
    "        tmp <- te[[i]] %>% str_replace(pattern = '\\\\_{2}.*', replacement = '')\n",
    "        tmp <- related_taxa[tmp]\n",
    "        tmp <- expand.grid(tmp[[1]], tmp[[2]])  \n",
    "        tmp <- asplit(tmp, MARGIN=1)\n",
    "\n",
    "        expanded_edges[[i]] <- sapply(lapply(tmp, sort), paste, collapse = ' - ')\n",
    "        names(expanded_edges)[i] <- paste(sort(te[[i]]), collapse = ' - ')\n",
    "    }\n",
    "    \n",
    "    edi <- lapply( alphas , getSinglePR, res = res$resamp, pi_thr = pi_thr\n",
    "                  ,expanded_edges=expanded_edges, all=all, taxa = taxa)\n",
    "    \n",
    "    edi <- as.data.frame(do.call(rbind, edi))\n",
    "    \n",
    "    edi$seedN <- str_extract(f, pattern = '(?<=simu)[:digit:]+(?=\\\\_)')\n",
    "    edi$K <- length(expanded_edges)\n",
    "    edi$Ncol <- all\n",
    "    \n",
    "    return(edi)\n",
    "}"
   ]
  },
  {
   "cell_type": "markdown",
   "metadata": {},
   "source": [
    "# Data"
   ]
  },
  {
   "cell_type": "code",
   "execution_count": 7,
   "metadata": {
    "ExecuteTime": {
     "end_time": "2021-11-23T17:30:01.092887Z",
     "start_time": "2021-11-23T17:29:56.230Z"
    }
   },
   "outputs": [],
   "source": [
    "taxa <- qread('../../data/taxa_table.qs')"
   ]
  },
  {
   "cell_type": "code",
   "execution_count": 8,
   "metadata": {
    "ExecuteTime": {
     "end_time": "2021-11-23T17:30:01.108848Z",
     "start_time": "2021-11-23T17:29:56.233Z"
    }
   },
   "outputs": [],
   "source": [
    "# location of simulations\n",
    "fnames <- list.files('/ebio/abt3_projects/temp_data/aruaud/MtgSimu50/p005_B10/', full.names = TRUE, pattern = 'simu')"
   ]
  },
  {
   "cell_type": "code",
   "execution_count": 9,
   "metadata": {
    "ExecuteTime": {
     "end_time": "2021-11-23T17:30:01.139137Z",
     "start_time": "2021-11-23T17:29:56.235Z"
    }
   },
   "outputs": [],
   "source": [
    "related_taxa <- qread('../tmp/related_taxa_full.qs')\n",
    "is_s <- str_which(names(related_taxa), pattern = '^s_')\n",
    "related_taxa[is_s] <- related_taxa[is_s] %>% lapply(function(x){str_subset(x, pattern = '^s|g')})\n",
    "related_taxa$groupa <- 'groupa'\n",
    "related_taxa$groupb <- 'groupb'\n",
    "related_taxa$groupc <- 'groupc'\n",
    "related_taxa$groupd <- 'groupd'"
   ]
  },
  {
   "cell_type": "code",
   "execution_count": 10,
   "metadata": {
    "ExecuteTime": {
     "end_time": "2021-11-23T17:30:01.157344Z",
     "start_time": "2021-11-23T17:29:56.238Z"
    }
   },
   "outputs": [
    {
     "data": {
      "text/html": [
       "50"
      ],
      "text/latex": [
       "50"
      ],
      "text/markdown": [
       "50"
      ],
      "text/plain": [
       "[1] 50"
      ]
     },
     "metadata": {},
     "output_type": "display_data"
    }
   ],
   "source": [
    "length(fnames)"
   ]
  },
  {
   "cell_type": "markdown",
   "metadata": {},
   "source": [
    "# PR curves"
   ]
  },
  {
   "cell_type": "code",
   "execution_count": 11,
   "metadata": {
    "ExecuteTime": {
     "end_time": "2021-11-23T17:30:05.757821Z",
     "start_time": "2021-11-23T17:29:56.240Z"
    }
   },
   "outputs": [],
   "source": [
    "#stopCluster(cluster)\n",
    "cluster <- makeCluster(5)\n",
    "quiet(clusterEvalQ(cluster, library(qs)))\n",
    "quiet(clusterEvalQ(cluster, library(endoR)))\n",
    "quiet(clusterEvalQ(cluster, library(tidyverse)))\n",
    "quiet(clusterExport(cluster, c('getSinglePR', 'metricsNet', 'quiet' )))"
   ]
  },
  {
   "cell_type": "code",
   "execution_count": 12,
   "metadata": {
    "ExecuteTime": {
     "end_time": "2021-11-23T17:30:37.398878Z",
     "start_time": "2021-11-23T17:29:56.243Z"
    }
   },
   "outputs": [],
   "source": [
    "pi7_sev <- parLapply(cl = cluster,fnames, getSeveralPR, alpha = c(1,5,10, 15, 20), taxa = taxa\n",
    "                     ,related_taxa=related_taxa, pi_thr = 0.7, all = (525^2-525)/2)\n",
    "pi7_sev <- do.call(rbind, pi7_sev)\n",
    "suppressWarnings(av_pi7 <- pi7_sev %>% group_by(alpha, inN) %>% summarise_all(mean))"
   ]
  },
  {
   "cell_type": "code",
   "execution_count": 13,
   "metadata": {
    "ExecuteTime": {
     "end_time": "2021-11-23T17:30:37.434604Z",
     "start_time": "2021-11-23T17:30:01.044Z"
    }
   },
   "outputs": [],
   "source": [
    "stopCluster(cluster)"
   ]
  },
  {
   "cell_type": "markdown",
   "metadata": {},
   "source": [
    "# Interpolate"
   ]
  },
  {
   "cell_type": "code",
   "execution_count": 14,
   "metadata": {
    "ExecuteTime": {
     "end_time": "2021-11-23T17:34:27.819902Z",
     "start_time": "2021-11-23T17:34:27.634Z"
    }
   },
   "outputs": [],
   "source": [
    "getInterpo <- function(i, raw){\n",
    "    raw <- subset(raw, seedN == i)\n",
    "    res <- list()\n",
    "    \n",
    "    N <- (525^2-525)/2 \n",
    "    K <- unique(raw$K)\n",
    "    \n",
    "    i <- 1\n",
    "    for (a in unique(raw$alpha)){\n",
    "        tmp <- approx(raw$fp[raw$alpha == a]\n",
    "                       , raw$tp[raw$alpha == a]\n",
    "                       , xout = seq(1, 150, length.out = 1000)\n",
    "                       , ties = max)\n",
    "        tmp <- as.data.frame(do.call(cbind, tmp))\n",
    "        colnames(tmp) <- c('fp', 'tp')\n",
    "        \n",
    "        # add 0 and max values to the extrapolations\n",
    "        mafp <- max(tmp$fp[!is.na(tmp$tp)])\n",
    "        tmp$tp[tmp$fp>mafp] <- max(tmp$tp, na.rm = TRUE)\n",
    "        \n",
    "        tmp <- tmp[complete.cases(tmp),]\n",
    "        #tmp <- tmp %>% add_row(tp = 0, fp = 0)\n",
    "        tmp$alpha <- a\n",
    "\n",
    "        res[[i]] <- tmp %>% arrange(tp)\n",
    "        i <- i+1\n",
    "    }\n",
    "    res <- do.call(rbind, res)\n",
    "    res$seedN <- i\n",
    "    \n",
    "    return(res)\n",
    "}"
   ]
  },
  {
   "cell_type": "code",
   "execution_count": 15,
   "metadata": {
    "ExecuteTime": {
     "end_time": "2021-11-23T17:34:28.957992Z",
     "start_time": "2021-11-23T17:34:27.827Z"
    }
   },
   "outputs": [],
   "source": [
    "pr7_byseed <- suppressWarnings(lapply(unique(pi7_sev$seedN), getInterpo, raw = pi7_sev))"
   ]
  },
  {
   "cell_type": "code",
   "execution_count": 16,
   "metadata": {
    "ExecuteTime": {
     "end_time": "2021-11-23T17:34:29.863136Z",
     "start_time": "2021-11-23T17:34:27.993Z"
    }
   },
   "outputs": [],
   "source": [
    "pr7_byseed_av <- do.call(rbind, pr7_byseed) %>% select(-seedN) %>% group_by(fp, alpha) %>% summarise_all(mean)\n",
    "pr7_byseed_sd <- do.call(rbind, pr7_byseed) %>% select(-seedN) %>% group_by(fp, alpha) %>% summarise_all(sd)\n",
    "\n",
    "pr7_forplots <- left_join(pr7_byseed_av, pr7_byseed_sd, by = c('fp', 'alpha'), suffix = c('_av', '_sd'))"
   ]
  },
  {
   "cell_type": "code",
   "execution_count": 17,
   "metadata": {
    "ExecuteTime": {
     "end_time": "2021-11-23T17:34:31.667101Z",
     "start_time": "2021-11-23T17:34:31.490Z"
    }
   },
   "outputs": [
    {
     "data": {
      "text/html": [
       "<style>\n",
       ".list-inline {list-style: none; margin:0; padding: 0}\n",
       ".list-inline>li {display: inline-block}\n",
       ".list-inline>li:not(:last-child)::after {content: \"\\00b7\"; padding: 0 .5ex}\n",
       "</style>\n",
       "<ol class=list-inline><li>5000</li><li>4</li></ol>\n"
      ],
      "text/latex": [
       "\\begin{enumerate*}\n",
       "\\item 5000\n",
       "\\item 4\n",
       "\\end{enumerate*}\n"
      ],
      "text/markdown": [
       "1. 5000\n",
       "2. 4\n",
       "\n",
       "\n"
      ],
      "text/plain": [
       "[1] 5000    4"
      ]
     },
     "metadata": {},
     "output_type": "display_data"
    }
   ],
   "source": [
    "pr7_forplots %>% dim"
   ]
  },
  {
   "cell_type": "markdown",
   "metadata": {},
   "source": [
    "# Random curves"
   ]
  },
  {
   "cell_type": "code",
   "execution_count": 20,
   "metadata": {
    "ExecuteTime": {
     "end_time": "2021-03-17T12:57:31.294988Z",
     "start_time": "2021-03-17T12:57:04.048Z"
    },
    "deletable": false,
    "editable": false,
    "run_control": {
     "frozen": true
    }
   },
   "outputs": [],
   "source": [
    "random_pr_curve <- function(K){\n",
    "  N <- (525^2-525)/2 \n",
    "    \n",
    "  urn <- c(rep(1, K), rep(0, N-K))\n",
    "  B <- 1000\n",
    "  res <- list()\n",
    "    \n",
    "  for(j in 1:B){\n",
    "    set.seed(j)\n",
    "    random_draw <- urn[sample(1:N)]\n",
    "    tp <- cumsum(random_draw)\n",
    "    fp <- 1:N - cumsum(random_draw)\n",
    "    linfit <- approx(fp, tp, xout = seq(1, 150, length.out = 1000),ties = max)\n",
    "      \n",
    "    tmp <- as.data.frame(do.call(cbind, linfit))\n",
    "    colnames(tmp)<- c('fp', 'tp')\n",
    "    # add 0 and max values to the extrapolations\n",
    "    mifp <- min(tmp$fp[!is.na(tmp$tp)])\n",
    "    mafp <- max(tmp$fp[!is.na(tmp$tp)])\n",
    "    tmp$tp[tmp$fp<mifp] <- min(tmp$tp)\n",
    "    tmp$tp[tmp$fp>mafp] <- K  \n",
    "    res[[j]] <- tmp[ complete.cases(tmp), ]\n",
    "  }\n",
    " \n",
    "  res <- do.call(rbind, res)\n",
    "  res <- res %>% group_by(fp) %>% summarise(tp = mean(tp), qtiles = quantile(tp, 0.99))\n",
    "  \n",
    "  return(res)\n",
    "  \n",
    "}"
   ]
  },
  {
   "cell_type": "code",
   "execution_count": 21,
   "metadata": {
    "ExecuteTime": {
     "end_time": "2021-03-17T12:57:33.816967Z",
     "start_time": "2021-03-17T12:57:04.051Z"
    },
    "deletable": false,
    "editable": false,
    "run_control": {
     "frozen": true
    }
   },
   "outputs": [],
   "source": [
    "#stopCluster(cluster)\n",
    "cluster <- makeCluster(5)\n",
    "quiet(clusterEvalQ(cluster, library(qs)))\n",
    "quiet(clusterEvalQ(cluster, library(tidyverse)))\n",
    "quiet(clusterExport(cluster, c('random_pr_curve')))"
   ]
  },
  {
   "cell_type": "code",
   "execution_count": 22,
   "metadata": {
    "ExecuteTime": {
     "end_time": "2021-03-17T13:41:52.159032Z",
     "start_time": "2021-03-17T12:57:04.054Z"
    },
    "deletable": false,
    "editable": false,
    "run_control": {
     "frozen": true
    },
    "scrolled": true
   },
   "outputs": [],
   "source": [
    "Ks <- pi7_sev %>% select(K, seedN) %>% unique %>% select(K) %>% unlist\n",
    "rdm <- parLapply(cluster, Ks,random_pr_curve)"
   ]
  },
  {
   "cell_type": "code",
   "execution_count": null,
   "metadata": {
    "ExecuteTime": {
     "end_time": "2021-03-17T13:41:52.164853Z",
     "start_time": "2021-03-17T12:57:04.057Z"
    },
    "deletable": false,
    "editable": false,
    "run_control": {
     "frozen": true
    }
   },
   "outputs": [],
   "source": [
    "stopCluster(cluster)"
   ]
  },
  {
   "cell_type": "code",
   "execution_count": null,
   "metadata": {
    "ExecuteTime": {
     "end_time": "2021-03-17T13:41:52.187485Z",
     "start_time": "2021-03-17T12:57:04.060Z"
    },
    "deletable": false,
    "editable": false,
    "run_control": {
     "frozen": true
    }
   },
   "outputs": [],
   "source": [
    "rdm_av <- do.call(rbind, rdm ) %>% group_by(fp) %>% summarise_all(mean)\n",
    "rdm_sd <- do.call(rbind, rdm) %>% group_by(fp) %>% summarise_all(sd)\n",
    "rdm_av <- left_join(rdm_av, rdm_sd, by = c('fp'), suffix = c('_av', '_sd'))"
   ]
  },
  {
   "cell_type": "code",
   "execution_count": null,
   "metadata": {
    "ExecuteTime": {
     "end_time": "2021-03-17T13:41:52.192817Z",
     "start_time": "2021-03-17T12:57:04.062Z"
    },
    "deletable": false,
    "editable": false,
    "run_control": {
     "frozen": true
    }
   },
   "outputs": [],
   "source": [
    "saveRDS(rdm_av, '../tmp/alphas_rdm.RDS')"
   ]
  },
  {
   "cell_type": "code",
   "execution_count": 18,
   "metadata": {
    "ExecuteTime": {
     "end_time": "2021-11-23T17:36:48.031824Z",
     "start_time": "2021-11-23T17:36:47.831Z"
    }
   },
   "outputs": [],
   "source": [
    "rdm_av <- readRDS('../tmp/alphas_rdm.RDS')"
   ]
  },
  {
   "cell_type": "markdown",
   "metadata": {},
   "source": [
    "# plots"
   ]
  },
  {
   "cell_type": "code",
   "execution_count": 19,
   "metadata": {
    "ExecuteTime": {
     "end_time": "2021-11-23T17:37:29.116815Z",
     "start_time": "2021-11-23T17:37:28.899Z"
    }
   },
   "outputs": [],
   "source": [
    "cols <- plasma(length(unique(pr7_forplots$alpha)) + 2)"
   ]
  },
  {
   "cell_type": "code",
   "execution_count": 20,
   "metadata": {
    "ExecuteTime": {
     "end_time": "2021-11-23T17:37:29.542454Z",
     "start_time": "2021-11-23T17:37:29.319Z"
    }
   },
   "outputs": [],
   "source": [
    "wp750 <- ggplot(pr7_forplots %>% subset(fp < 100) \n",
    "             , aes(x = fp, y = tp_av, group = as.factor(alpha), color = as.factor(alpha)))+\n",
    "\n",
    "geom_hline(yintercept = 9, color = 'lightgrey', linetype = 'dashed')+\n",
    "\n",
    "geom_line(data = rdm_av %>% subset(fp < 100), aes(y = tp_av, x = fp), group=NA, color = 'darkgrey')+\n",
    "geom_ribbon(data = rdm_av %>% subset(fp < 100)\n",
    "            , aes(ymin = tp_av - tp_sd/2, ymax = tp_av + tp_sd/2, y = tp_av\n",
    "                  , group=NULL, color = NULL)\n",
    "            , alpha = 0.25, fill = 'darkgrey') +\n",
    "geom_line(size = 1)+\n",
    "\n",
    "geom_ribbon(aes(ymin = tp_av - tp_sd/2, ymax = tp_av + tp_sd/2\n",
    "                , group = alpha, fill = as.factor(alpha)), color = NA\n",
    "            , alpha = 0.25) +\n",
    "\n",
    "geom_point(data = av_pi7 %>% subset(inN == 7)\n",
    "           , aes(y = tp, x = fp, fill = as.factor(alpha))\n",
    "           , size = 4, shape = 21, color = 'black')+\n",
    "\n",
    "\n",
    "theme_classic()+\n",
    "labs(x = 'Number of FP', y = 'Number of TP')+\n",
    "scale_color_manual(values = cols[-c(1, length(cols))], name = expression(alpha)) +\n",
    "scale_fill_manual(values = cols[-c(1, length(cols))], name = expression(alpha)) "
   ]
  },
  {
   "cell_type": "code",
   "execution_count": 37,
   "metadata": {
    "ExecuteTime": {
     "end_time": "2021-09-20T12:17:44.488038Z",
     "start_time": "2021-09-20T12:17:29.030Z"
    },
    "scrolled": false
   },
   "outputs": [
    {
     "data": {
      "image/png": "[encoded data removed]",
      "text/plain": [
       "plot without title"
      ]
     },
     "metadata": {
      "image/png": {
       "height": 240,
       "width": 240
      }
     },
     "output_type": "display_data"
    },
    {
     "data": {
      "image/png": "[encoded data removed]",
      "text/plain": [
       "plot without title"
      ]
     },
     "metadata": {
      "image/png": {
       "height": 240,
       "width": 240
      }
     },
     "output_type": "display_data"
    }
   ],
   "source": [
    "options(repr.plot.width=4, repr.plot.height=4)\n",
    "wp750"
   ]
  },
  {
   "cell_type": "markdown",
   "metadata": {},
   "source": [
    "# misc"
   ]
  },
  {
   "cell_type": "code",
   "execution_count": 32,
   "metadata": {
    "ExecuteTime": {
     "end_time": "2021-11-23T17:46:37.346321Z",
     "start_time": "2021-11-23T17:46:37.116Z"
    }
   },
   "outputs": [],
   "source": [
    "getRes <- function(f, alphas = c(1, 5, 10, 15,20), related_taxa){\n",
    "    pre_res <- qread(f)\n",
    "    \n",
    "    # get the true edges\n",
    "    te <- lapply(pre_res$true_edges, str_replace_all, pattern = '\\\\_{2}.*', replacement = '')\n",
    "    te <- unique(lapply(te, sort))\n",
    "    expanded_edges <- list()\n",
    "    for (i in 1:length(te)){\n",
    "        tmp <- te[[i]] %>% str_replace(pattern = '\\\\_{2}.*', replacement = '')\n",
    "        tmp <- related_taxa[tmp]\n",
    "        tmp <- expand.grid(tmp[[1]], tmp[[2]])  \n",
    "        tmp <- asplit(tmp, MARGIN=1)\n",
    "\n",
    "        expanded_edges[[i]] <- sapply(lapply(tmp, sort), paste, collapse = ' - ')\n",
    "        names(expanded_edges)[i] <- paste(sort(te[[i]]), collapse = ' - ')\n",
    "    }\n",
    "    \n",
    "    res <- list()\n",
    "    \n",
    "    for (a in alphas){\n",
    "        \n",
    "        # get the new metrics\n",
    "        pc <- quiet(stabilitySelection(pre_res$resampled, alpha_error = a, pi_thr = 0.7))\n",
    "    \n",
    "        #if (is.null(pc$rules_summary)){\n",
    "        #    return(NULL)\n",
    "        #}\n",
    "    \n",
    "        cond <- pc$rules_summary %>% subset(inN >= 7, select = condition) %>% unlist\n",
    "        if (length(cond) > 0){\n",
    "\n",
    "            imp_edges <- pc$edges_agg %>% subset(condition %in% cond) %>% select(x,y, importance, n, imp)\n",
    "            imp_edges$x <- str_replace(imp_edges$x, pattern = '\\\\_{2}.*', replacement = '')\n",
    "            imp_edges$y <- str_replace(imp_edges$y, pattern = '\\\\_{2}.*', replacement = '')\n",
    "            suppressMessages(imp_edges <- imp_edges %>% group_by(x,y) %>% summarise(importance = sum(n*imp*importance)))\n",
    "            imp_edges <- asplit(as.matrix(imp_edges), MARGIN = 1)\n",
    "            imp_edges <- lapply(imp_edges, sort) \n",
    "            pred_edges <- sapply(imp_edges, function(x){paste(x[-1], collapse = ' - ')}) \n",
    "            imp_edges <- sapply(imp_edges, function(x)x['importance']) \n",
    "\n",
    "            # those that should not be but are = in pred_edges but not truth\n",
    "            fp <- sum(sapply(pred_edges, function(x){!(x %in% unlist(expanded_edges))}))\n",
    "            tp <- sum(sapply(expanded_edges, function(x){ifelse(sum(x %in% pred_edges) > 0, 1, 0)}))\n",
    "            fn <- sum(sapply(names(expanded_edges), function(x){!(x %in% pred_edges)}))\n",
    "\n",
    "\n",
    "            # sum of FP importances\n",
    "            if(fp > 0) {\n",
    "                fp_imp <- which(sapply(pred_edges, function(x){!(x %in% unlist(expanded_edges))}))\n",
    "                fp_imp <- sum(as.numeric(imp_edges[fp_imp]))\n",
    "            } else {fp_imp <- 0}\n",
    "            # sum of TP importances\n",
    "            if(tp > 0) {\n",
    "                tp_imp <- list()\n",
    "                for (i in 1:length(expanded_edges)){\n",
    "                    tp_imp[[i]] <- mean(as.numeric(imp_edges[which(pred_edges %in% expanded_edges[[i]])]))\n",
    "                }\n",
    "                tp_imp <- sum(unlist(tp_imp), na.rm = TRUE)\n",
    "            } else {tp_imp <- 0}\n",
    "\n",
    "            res[[as.character(a)]] <- c('alpha' = a, 'rf_accuracy' = pre_res$gamma_all[1, 'meanK'], 'n_decisions' = length(cond)\n",
    "                    , 'tp_imp' = tp_imp, 'fp_imp' = fp_imp, 'tp' = tp, 'fp' = fp\n",
    "                    , 'fn' = fn)\n",
    "        } else {\n",
    "            res[[as.character(a)]] <- c('alpha' = a, 'rf_accuracy' = pre_res$gamma_all[1, 'meanK'], 'n_decisions' = 0\n",
    "                    , 'tp_imp' = 0, 'fp_imp' = 0, 'tp' = 0, 'fp' = 0, 'fn' = 0)\n",
    "        }\n",
    "                                                   \n",
    "    }\n",
    "    \n",
    "    res <- do.call(rbind, res)\n",
    "    \n",
    "    return(res)\n",
    "}"
   ]
  },
  {
   "cell_type": "code",
   "execution_count": 33,
   "metadata": {
    "ExecuteTime": {
     "end_time": "2021-11-23T17:47:15.296255Z",
     "start_time": "2021-11-23T17:46:37.732Z"
    }
   },
   "outputs": [
    {
     "name": "stderr",
     "output_type": "stream",
     "text": [
      "Warning message in stabilitySelection(pre_res$resampled, alpha_error = a, pi_thr = 0.7):\n",
      "“No stable decision ensemble could be reached: try increasing alpha.”\n"
     ]
    }
   ],
   "source": [
    "check <- lapply(fnames, getRes, related_taxa = related_taxa)\n",
    "check <- as.data.frame(do.call(rbind, check))"
   ]
  },
  {
   "cell_type": "code",
   "execution_count": 34,
   "metadata": {
    "ExecuteTime": {
     "end_time": "2021-11-23T17:47:15.317739Z",
     "start_time": "2021-11-23T17:46:38.150Z"
    }
   },
   "outputs": [],
   "source": [
    "check$precision <- check$tp/(check$tp+check$fp)\n",
    "check$recall <- check$tp/(check$tp+check$fn)\n",
    "check$w_precision <- check$tp_imp/(check$tp_imp+check$fp_imp)"
   ]
  },
  {
   "cell_type": "code",
   "execution_count": 35,
   "metadata": {
    "ExecuteTime": {
     "end_time": "2021-11-23T17:47:17.772361Z",
     "start_time": "2021-11-23T17:47:17.523Z"
    }
   },
   "outputs": [
    {
     "data": {
      "text/html": [
       "<table class=\"dataframe\">\n",
       "<caption>A data.frame: 6 × 11</caption>\n",
       "<thead>\n",
       "\t<tr><th></th><th scope=col>alpha</th><th scope=col>rf_accuracy</th><th scope=col>n_decisions</th><th scope=col>tp_imp</th><th scope=col>fp_imp</th><th scope=col>tp</th><th scope=col>fp</th><th scope=col>fn</th><th scope=col>precision</th><th scope=col>recall</th><th scope=col>w_precision</th></tr>\n",
       "\t<tr><th></th><th scope=col>&lt;dbl&gt;</th><th scope=col>&lt;dbl&gt;</th><th scope=col>&lt;dbl&gt;</th><th scope=col>&lt;dbl&gt;</th><th scope=col>&lt;dbl&gt;</th><th scope=col>&lt;dbl&gt;</th><th scope=col>&lt;dbl&gt;</th><th scope=col>&lt;dbl&gt;</th><th scope=col>&lt;dbl&gt;</th><th scope=col>&lt;dbl&gt;</th><th scope=col>&lt;dbl&gt;</th></tr>\n",
       "</thead>\n",
       "<tbody>\n",
       "\t<tr><th scope=row>X20.48</th><td>20</td><td>0.9188951</td><td>60</td><td>137.21828</td><td>39.88037</td><td>7</td><td>44</td><td>4</td><td>0.1372549</td><td>0.6363636</td><td>0.7748127</td></tr>\n",
       "\t<tr><th scope=row>X1.49</th><td> 1</td><td>0.9285351</td><td>10</td><td> 91.41769</td><td>42.11501</td><td>4</td><td>15</td><td>7</td><td>0.2105263</td><td>0.3636364</td><td>0.6846090</td></tr>\n",
       "\t<tr><th scope=row>X5.49</th><td> 5</td><td>0.9285351</td><td>17</td><td>128.03994</td><td>48.85346</td><td>5</td><td>18</td><td>6</td><td>0.2173913</td><td>0.4545455</td><td>0.7238254</td></tr>\n",
       "\t<tr><th scope=row>X10.49</th><td>10</td><td>0.9285351</td><td>27</td><td>135.30912</td><td>51.00238</td><td>6</td><td>23</td><td>5</td><td>0.2068966</td><td>0.5454545</td><td>0.7262521</td></tr>\n",
       "\t<tr><th scope=row>X15.49</th><td>15</td><td>0.9285351</td><td>38</td><td>153.12948</td><td>55.33394</td><td>7</td><td>29</td><td>4</td><td>0.1944444</td><td>0.6363636</td><td>0.7345629</td></tr>\n",
       "\t<tr><th scope=row>X20.49</th><td>20</td><td>0.9285351</td><td>45</td><td>167.31210</td><td>66.87982</td><td>7</td><td>35</td><td>4</td><td>0.1666667</td><td>0.6363636</td><td>0.7144230</td></tr>\n",
       "</tbody>\n",
       "</table>\n"
      ],
      "text/latex": [
       "A data.frame: 6 × 11\n",
       "\\begin{tabular}{r|lllllllllll}\n",
       "  & alpha & rf\\_accuracy & n\\_decisions & tp\\_imp & fp\\_imp & tp & fp & fn & precision & recall & w\\_precision\\\\\n",
       "  & <dbl> & <dbl> & <dbl> & <dbl> & <dbl> & <dbl> & <dbl> & <dbl> & <dbl> & <dbl> & <dbl>\\\\\n",
       "\\hline\n",
       "\tX20.48 & 20 & 0.9188951 & 60 & 137.21828 & 39.88037 & 7 & 44 & 4 & 0.1372549 & 0.6363636 & 0.7748127\\\\\n",
       "\tX1.49 &  1 & 0.9285351 & 10 &  91.41769 & 42.11501 & 4 & 15 & 7 & 0.2105263 & 0.3636364 & 0.6846090\\\\\n",
       "\tX5.49 &  5 & 0.9285351 & 17 & 128.03994 & 48.85346 & 5 & 18 & 6 & 0.2173913 & 0.4545455 & 0.7238254\\\\\n",
       "\tX10.49 & 10 & 0.9285351 & 27 & 135.30912 & 51.00238 & 6 & 23 & 5 & 0.2068966 & 0.5454545 & 0.7262521\\\\\n",
       "\tX15.49 & 15 & 0.9285351 & 38 & 153.12948 & 55.33394 & 7 & 29 & 4 & 0.1944444 & 0.6363636 & 0.7345629\\\\\n",
       "\tX20.49 & 20 & 0.9285351 & 45 & 167.31210 & 66.87982 & 7 & 35 & 4 & 0.1666667 & 0.6363636 & 0.7144230\\\\\n",
       "\\end{tabular}\n"
      ],
      "text/markdown": [
       "\n",
       "A data.frame: 6 × 11\n",
       "\n",
       "| <!--/--> | alpha &lt;dbl&gt; | rf_accuracy &lt;dbl&gt; | n_decisions &lt;dbl&gt; | tp_imp &lt;dbl&gt; | fp_imp &lt;dbl&gt; | tp &lt;dbl&gt; | fp &lt;dbl&gt; | fn &lt;dbl&gt; | precision &lt;dbl&gt; | recall &lt;dbl&gt; | w_precision &lt;dbl&gt; |\n",
       "|---|---|---|---|---|---|---|---|---|---|---|---|\n",
       "| X20.48 | 20 | 0.9188951 | 60 | 137.21828 | 39.88037 | 7 | 44 | 4 | 0.1372549 | 0.6363636 | 0.7748127 |\n",
       "| X1.49 |  1 | 0.9285351 | 10 |  91.41769 | 42.11501 | 4 | 15 | 7 | 0.2105263 | 0.3636364 | 0.6846090 |\n",
       "| X5.49 |  5 | 0.9285351 | 17 | 128.03994 | 48.85346 | 5 | 18 | 6 | 0.2173913 | 0.4545455 | 0.7238254 |\n",
       "| X10.49 | 10 | 0.9285351 | 27 | 135.30912 | 51.00238 | 6 | 23 | 5 | 0.2068966 | 0.5454545 | 0.7262521 |\n",
       "| X15.49 | 15 | 0.9285351 | 38 | 153.12948 | 55.33394 | 7 | 29 | 4 | 0.1944444 | 0.6363636 | 0.7345629 |\n",
       "| X20.49 | 20 | 0.9285351 | 45 | 167.31210 | 66.87982 | 7 | 35 | 4 | 0.1666667 | 0.6363636 | 0.7144230 |\n",
       "\n"
      ],
      "text/plain": [
       "       alpha rf_accuracy n_decisions tp_imp    fp_imp   tp fp fn precision\n",
       "X20.48 20    0.9188951   60          137.21828 39.88037 7  44 4  0.1372549\n",
       "X1.49   1    0.9285351   10           91.41769 42.11501 4  15 7  0.2105263\n",
       "X5.49   5    0.9285351   17          128.03994 48.85346 5  18 6  0.2173913\n",
       "X10.49 10    0.9285351   27          135.30912 51.00238 6  23 5  0.2068966\n",
       "X15.49 15    0.9285351   38          153.12948 55.33394 7  29 4  0.1944444\n",
       "X20.49 20    0.9285351   45          167.31210 66.87982 7  35 4  0.1666667\n",
       "       recall    w_precision\n",
       "X20.48 0.6363636 0.7748127  \n",
       "X1.49  0.3636364 0.6846090  \n",
       "X5.49  0.4545455 0.7238254  \n",
       "X10.49 0.5454545 0.7262521  \n",
       "X15.49 0.6363636 0.7345629  \n",
       "X20.49 0.6363636 0.7144230  "
      ]
     },
     "metadata": {},
     "output_type": "display_data"
    }
   ],
   "source": [
    "check %>% tail"
   ]
  },
  {
   "cell_type": "code",
   "execution_count": 36,
   "metadata": {
    "ExecuteTime": {
     "end_time": "2021-11-23T17:47:21.997189Z",
     "start_time": "2021-11-23T17:47:21.692Z"
    }
   },
   "outputs": [
    {
     "data": {
      "text/html": [
       "<table class=\"dataframe\">\n",
       "<caption>A tibble: 5 × 10</caption>\n",
       "<thead>\n",
       "\t<tr><th scope=col>rf_accuracy</th><th scope=col>n_decisions</th><th scope=col>tp</th><th scope=col>fp</th><th scope=col>fn</th><th scope=col>tp_imp</th><th scope=col>fp_imp</th><th scope=col>precision</th><th scope=col>recall</th><th scope=col>w_precision</th></tr>\n",
       "\t<tr><th scope=col>&lt;dbl&gt;</th><th scope=col>&lt;dbl&gt;</th><th scope=col>&lt;dbl&gt;</th><th scope=col>&lt;dbl&gt;</th><th scope=col>&lt;dbl&gt;</th><th scope=col>&lt;dbl&gt;</th><th scope=col>&lt;dbl&gt;</th><th scope=col>&lt;dbl&gt;</th><th scope=col>&lt;dbl&gt;</th><th scope=col>&lt;dbl&gt;</th></tr>\n",
       "</thead>\n",
       "<tbody>\n",
       "\t<tr><td>0.9058784</td><td> 6.96</td><td>1.80</td><td>10.74</td><td>7.28</td><td> 47.39754</td><td> 7.106566</td><td>0.1677822</td><td>0.1953360</td><td>0.5444420</td></tr>\n",
       "\t<tr><td>0.9058784</td><td>18.86</td><td>3.50</td><td>21.38</td><td>5.98</td><td> 84.20672</td><td>12.384651</td><td>0.1626316</td><td>0.3719242</td><td>0.6256629</td></tr>\n",
       "\t<tr><td>0.9058784</td><td>28.40</td><td>4.38</td><td>27.34</td><td>5.12</td><td> 96.67007</td><td>15.313189</td><td>0.1598293</td><td>0.4652374</td><td>0.6375627</td></tr>\n",
       "\t<tr><td>0.9058784</td><td>36.32</td><td>5.12</td><td>31.06</td><td>4.46</td><td>116.55322</td><td>17.357562</td><td>0.1659023</td><td>0.5376414</td><td>0.7008211</td></tr>\n",
       "\t<tr><td>0.9058784</td><td>43.18</td><td>5.76</td><td>34.00</td><td>3.86</td><td>126.35676</td><td>19.358609</td><td>0.1688031</td><td>0.6029903</td><td>0.7274399</td></tr>\n",
       "</tbody>\n",
       "</table>\n"
      ],
      "text/latex": [
       "A tibble: 5 × 10\n",
       "\\begin{tabular}{llllllllll}\n",
       " rf\\_accuracy & n\\_decisions & tp & fp & fn & tp\\_imp & fp\\_imp & precision & recall & w\\_precision\\\\\n",
       " <dbl> & <dbl> & <dbl> & <dbl> & <dbl> & <dbl> & <dbl> & <dbl> & <dbl> & <dbl>\\\\\n",
       "\\hline\n",
       "\t 0.9058784 &  6.96 & 1.80 & 10.74 & 7.28 &  47.39754 &  7.106566 & 0.1677822 & 0.1953360 & 0.5444420\\\\\n",
       "\t 0.9058784 & 18.86 & 3.50 & 21.38 & 5.98 &  84.20672 & 12.384651 & 0.1626316 & 0.3719242 & 0.6256629\\\\\n",
       "\t 0.9058784 & 28.40 & 4.38 & 27.34 & 5.12 &  96.67007 & 15.313189 & 0.1598293 & 0.4652374 & 0.6375627\\\\\n",
       "\t 0.9058784 & 36.32 & 5.12 & 31.06 & 4.46 & 116.55322 & 17.357562 & 0.1659023 & 0.5376414 & 0.7008211\\\\\n",
       "\t 0.9058784 & 43.18 & 5.76 & 34.00 & 3.86 & 126.35676 & 19.358609 & 0.1688031 & 0.6029903 & 0.7274399\\\\\n",
       "\\end{tabular}\n"
      ],
      "text/markdown": [
       "\n",
       "A tibble: 5 × 10\n",
       "\n",
       "| rf_accuracy &lt;dbl&gt; | n_decisions &lt;dbl&gt; | tp &lt;dbl&gt; | fp &lt;dbl&gt; | fn &lt;dbl&gt; | tp_imp &lt;dbl&gt; | fp_imp &lt;dbl&gt; | precision &lt;dbl&gt; | recall &lt;dbl&gt; | w_precision &lt;dbl&gt; |\n",
       "|---|---|---|---|---|---|---|---|---|---|\n",
       "| 0.9058784 |  6.96 | 1.80 | 10.74 | 7.28 |  47.39754 |  7.106566 | 0.1677822 | 0.1953360 | 0.5444420 |\n",
       "| 0.9058784 | 18.86 | 3.50 | 21.38 | 5.98 |  84.20672 | 12.384651 | 0.1626316 | 0.3719242 | 0.6256629 |\n",
       "| 0.9058784 | 28.40 | 4.38 | 27.34 | 5.12 |  96.67007 | 15.313189 | 0.1598293 | 0.4652374 | 0.6375627 |\n",
       "| 0.9058784 | 36.32 | 5.12 | 31.06 | 4.46 | 116.55322 | 17.357562 | 0.1659023 | 0.5376414 | 0.7008211 |\n",
       "| 0.9058784 | 43.18 | 5.76 | 34.00 | 3.86 | 126.35676 | 19.358609 | 0.1688031 | 0.6029903 | 0.7274399 |\n",
       "\n"
      ],
      "text/plain": [
       "  rf_accuracy n_decisions tp   fp    fn   tp_imp    fp_imp    precision\n",
       "1 0.9058784    6.96       1.80 10.74 7.28  47.39754  7.106566 0.1677822\n",
       "2 0.9058784   18.86       3.50 21.38 5.98  84.20672 12.384651 0.1626316\n",
       "3 0.9058784   28.40       4.38 27.34 5.12  96.67007 15.313189 0.1598293\n",
       "4 0.9058784   36.32       5.12 31.06 4.46 116.55322 17.357562 0.1659023\n",
       "5 0.9058784   43.18       5.76 34.00 3.86 126.35676 19.358609 0.1688031\n",
       "  recall    w_precision\n",
       "1 0.1953360 0.5444420  \n",
       "2 0.3719242 0.6256629  \n",
       "3 0.4652374 0.6375627  \n",
       "4 0.5376414 0.7008211  \n",
       "5 0.6029903 0.7274399  "
      ]
     },
     "metadata": {},
     "output_type": "display_data"
    }
   ],
   "source": [
    "check %>% group_by(alpha) %>% summarise_all(mean, na.rm = TRUE) %>% #subset(alpha != 10) %>% \n",
    "select(rf_accuracy, n_decisions, tp, fp, fn, tp_imp, fp_imp, precision, recall, w_precision) "
   ]
  },
  {
   "cell_type": "code",
   "execution_count": 37,
   "metadata": {
    "ExecuteTime": {
     "end_time": "2021-11-23T17:47:23.058713Z",
     "start_time": "2021-11-23T17:47:22.804Z"
    }
   },
   "outputs": [
    {
     "data": {
      "text/html": [
       "<table class=\"dataframe\">\n",
       "<caption>A tibble: 5 × 10</caption>\n",
       "<thead>\n",
       "\t<tr><th scope=col>rf_accuracy</th><th scope=col>n_decisions</th><th scope=col>tp</th><th scope=col>fp</th><th scope=col>fn</th><th scope=col>tp_imp</th><th scope=col>fp_imp</th><th scope=col>precision</th><th scope=col>recall</th><th scope=col>w_precision</th></tr>\n",
       "\t<tr><th scope=col>&lt;dbl&gt;</th><th scope=col>&lt;dbl&gt;</th><th scope=col>&lt;dbl&gt;</th><th scope=col>&lt;dbl&gt;</th><th scope=col>&lt;dbl&gt;</th><th scope=col>&lt;dbl&gt;</th><th scope=col>&lt;dbl&gt;</th><th scope=col>&lt;dbl&gt;</th><th scope=col>&lt;dbl&gt;</th><th scope=col>&lt;dbl&gt;</th></tr>\n",
       "</thead>\n",
       "<tbody>\n",
       "\t<tr><td>0.02310016</td><td> 3.811690</td><td>1.385051</td><td> 5.442876</td><td>1.654185</td><td> 73.42159</td><td> 9.353297</td><td>0.1469769</td><td>0.1449919</td><td>0.4319893</td></tr>\n",
       "\t<tr><td>0.02310016</td><td> 6.605533</td><td>1.876275</td><td> 8.245939</td><td>2.045303</td><td>116.06182</td><td>10.987450</td><td>0.1138418</td><td>0.2037783</td><td>0.3651555</td></tr>\n",
       "\t<tr><td>0.02310016</td><td> 8.944272</td><td>2.202874</td><td>10.682066</td><td>2.395915</td><td>129.79210</td><td>12.119521</td><td>0.1070160</td><td>0.2403496</td><td>0.3429021</td></tr>\n",
       "\t<tr><td>0.02310016</td><td>11.569559</td><td>2.228205</td><td>12.130935</td><td>2.357879</td><td>135.83875</td><td>13.149200</td><td>0.1087669</td><td>0.2395458</td><td>0.2945798</td></tr>\n",
       "\t<tr><td>0.02310016</td><td>13.759880</td><td>2.143428</td><td>13.022743</td><td>2.312433</td><td>130.98240</td><td>13.900156</td><td>0.1040178</td><td>0.2343874</td><td>0.2595196</td></tr>\n",
       "</tbody>\n",
       "</table>\n"
      ],
      "text/latex": [
       "A tibble: 5 × 10\n",
       "\\begin{tabular}{llllllllll}\n",
       " rf\\_accuracy & n\\_decisions & tp & fp & fn & tp\\_imp & fp\\_imp & precision & recall & w\\_precision\\\\\n",
       " <dbl> & <dbl> & <dbl> & <dbl> & <dbl> & <dbl> & <dbl> & <dbl> & <dbl> & <dbl>\\\\\n",
       "\\hline\n",
       "\t 0.02310016 &  3.811690 & 1.385051 &  5.442876 & 1.654185 &  73.42159 &  9.353297 & 0.1469769 & 0.1449919 & 0.4319893\\\\\n",
       "\t 0.02310016 &  6.605533 & 1.876275 &  8.245939 & 2.045303 & 116.06182 & 10.987450 & 0.1138418 & 0.2037783 & 0.3651555\\\\\n",
       "\t 0.02310016 &  8.944272 & 2.202874 & 10.682066 & 2.395915 & 129.79210 & 12.119521 & 0.1070160 & 0.2403496 & 0.3429021\\\\\n",
       "\t 0.02310016 & 11.569559 & 2.228205 & 12.130935 & 2.357879 & 135.83875 & 13.149200 & 0.1087669 & 0.2395458 & 0.2945798\\\\\n",
       "\t 0.02310016 & 13.759880 & 2.143428 & 13.022743 & 2.312433 & 130.98240 & 13.900156 & 0.1040178 & 0.2343874 & 0.2595196\\\\\n",
       "\\end{tabular}\n"
      ],
      "text/markdown": [
       "\n",
       "A tibble: 5 × 10\n",
       "\n",
       "| rf_accuracy &lt;dbl&gt; | n_decisions &lt;dbl&gt; | tp &lt;dbl&gt; | fp &lt;dbl&gt; | fn &lt;dbl&gt; | tp_imp &lt;dbl&gt; | fp_imp &lt;dbl&gt; | precision &lt;dbl&gt; | recall &lt;dbl&gt; | w_precision &lt;dbl&gt; |\n",
       "|---|---|---|---|---|---|---|---|---|---|\n",
       "| 0.02310016 |  3.811690 | 1.385051 |  5.442876 | 1.654185 |  73.42159 |  9.353297 | 0.1469769 | 0.1449919 | 0.4319893 |\n",
       "| 0.02310016 |  6.605533 | 1.876275 |  8.245939 | 2.045303 | 116.06182 | 10.987450 | 0.1138418 | 0.2037783 | 0.3651555 |\n",
       "| 0.02310016 |  8.944272 | 2.202874 | 10.682066 | 2.395915 | 129.79210 | 12.119521 | 0.1070160 | 0.2403496 | 0.3429021 |\n",
       "| 0.02310016 | 11.569559 | 2.228205 | 12.130935 | 2.357879 | 135.83875 | 13.149200 | 0.1087669 | 0.2395458 | 0.2945798 |\n",
       "| 0.02310016 | 13.759880 | 2.143428 | 13.022743 | 2.312433 | 130.98240 | 13.900156 | 0.1040178 | 0.2343874 | 0.2595196 |\n",
       "\n"
      ],
      "text/plain": [
       "  rf_accuracy n_decisions tp       fp        fn       tp_imp    fp_imp   \n",
       "1 0.02310016   3.811690   1.385051  5.442876 1.654185  73.42159  9.353297\n",
       "2 0.02310016   6.605533   1.876275  8.245939 2.045303 116.06182 10.987450\n",
       "3 0.02310016   8.944272   2.202874 10.682066 2.395915 129.79210 12.119521\n",
       "4 0.02310016  11.569559   2.228205 12.130935 2.357879 135.83875 13.149200\n",
       "5 0.02310016  13.759880   2.143428 13.022743 2.312433 130.98240 13.900156\n",
       "  precision recall    w_precision\n",
       "1 0.1469769 0.1449919 0.4319893  \n",
       "2 0.1138418 0.2037783 0.3651555  \n",
       "3 0.1070160 0.2403496 0.3429021  \n",
       "4 0.1087669 0.2395458 0.2945798  \n",
       "5 0.1040178 0.2343874 0.2595196  "
      ]
     },
     "metadata": {},
     "output_type": "display_data"
    }
   ],
   "source": [
    "check %>% group_by(alpha) %>% summarise_all(sd, na.rm = TRUE) %>% \n",
    "select(rf_accuracy, n_decisions, tp, fp, fn, tp_imp, fp_imp, precision, recall, w_precision) "
   ]
  },
  {
   "cell_type": "code",
   "execution_count": 38,
   "metadata": {
    "ExecuteTime": {
     "end_time": "2021-11-23T17:47:24.874250Z",
     "start_time": "2021-11-23T17:47:24.632Z"
    }
   },
   "outputs": [
    {
     "data": {
      "text/html": [
       "<table class=\"dataframe\">\n",
       "<caption>A data.frame: 5 × 2</caption>\n",
       "<thead>\n",
       "\t<tr><th scope=col>alpha</th><th scope=col>n</th></tr>\n",
       "\t<tr><th scope=col>&lt;dbl&gt;</th><th scope=col>&lt;int&gt;</th></tr>\n",
       "</thead>\n",
       "<tbody>\n",
       "\t<tr><td> 1</td><td>49</td></tr>\n",
       "\t<tr><td> 5</td><td>50</td></tr>\n",
       "\t<tr><td>10</td><td>50</td></tr>\n",
       "\t<tr><td>15</td><td>50</td></tr>\n",
       "\t<tr><td>20</td><td>50</td></tr>\n",
       "</tbody>\n",
       "</table>\n"
      ],
      "text/latex": [
       "A data.frame: 5 × 2\n",
       "\\begin{tabular}{ll}\n",
       " alpha & n\\\\\n",
       " <dbl> & <int>\\\\\n",
       "\\hline\n",
       "\t  1 & 49\\\\\n",
       "\t  5 & 50\\\\\n",
       "\t 10 & 50\\\\\n",
       "\t 15 & 50\\\\\n",
       "\t 20 & 50\\\\\n",
       "\\end{tabular}\n"
      ],
      "text/markdown": [
       "\n",
       "A data.frame: 5 × 2\n",
       "\n",
       "| alpha &lt;dbl&gt; | n &lt;int&gt; |\n",
       "|---|---|\n",
       "|  1 | 49 |\n",
       "|  5 | 50 |\n",
       "| 10 | 50 |\n",
       "| 15 | 50 |\n",
       "| 20 | 50 |\n",
       "\n"
      ],
      "text/plain": [
       "  alpha n \n",
       "1  1    49\n",
       "2  5    50\n",
       "3 10    50\n",
       "4 15    50\n",
       "5 20    50"
      ]
     },
     "metadata": {},
     "output_type": "display_data"
    }
   ],
   "source": [
    "check[ complete.cases(check), ] %>% count(alpha)"
   ]
  },
  {
   "cell_type": "code",
   "execution_count": null,
   "metadata": {},
   "outputs": [],
   "source": []
  },
  {
   "cell_type": "code",
   "execution_count": null,
   "metadata": {},
   "outputs": [],
   "source": []
  }
 ],
 "metadata": {
  "kernelspec": {
   "display_name": "R [conda env:Metagenomes_methanogen-r-ml] *",
   "language": "R",
   "name": "conda-env-Metagenomes_methanogen-r-ml-r"
  },
  "language_info": {
   "codemirror_mode": "r",
   "file_extension": ".r",
   "mimetype": "text/x-r-source",
   "name": "R",
   "pygments_lexer": "r",
   "version": "4.0.3"
  },
  "notify_time": "30",
  "toc": {
   "base_numbering": 1,
   "nav_menu": {},
   "number_sections": true,
   "sideBar": true,
   "skip_h1_title": false,
   "title_cell": "Table of Contents",
   "title_sidebar": "Contents",
   "toc_cell": false,
   "toc_position": {
    "height": "calc(100% - 180px)",
    "left": "10px",
    "top": "150px",
    "width": "222px"
   },
   "toc_section_display": true,
   "toc_window_display": true
  }
 },
 "nbformat": 4,
 "nbformat_minor": 4
}
