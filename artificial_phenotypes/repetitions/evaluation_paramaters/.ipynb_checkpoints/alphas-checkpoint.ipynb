{
 "cells": [
  {
   "cell_type": "markdown",
   "metadata": {},
   "source": [
    "# Preambule"
   ]
  },
  {
   "cell_type": "markdown",
   "metadata": {},
   "source": [
    "## libraries"
   ]
  },
  {
   "cell_type": "code",
   "execution_count": 1,
   "metadata": {
    "ExecuteTime": {
     "end_time": "2021-12-17T13:03:07.038114Z",
     "start_time": "2021-12-17T13:03:02.049Z"
    }
   },
   "outputs": [
    {
     "name": "stderr",
     "output_type": "stream",
     "text": [
      "── \u001b[1mAttaching packages\u001b[22m ────────────────────────────────────────────────────────────────────────────────────────────────────────────────────────────────────── tidyverse 1.3.0 ──\n",
      "\n",
      "\u001b[32m✔\u001b[39m \u001b[34mggplot2\u001b[39m 3.3.2     \u001b[32m✔\u001b[39m \u001b[34mpurrr  \u001b[39m 0.3.4\n",
      "\u001b[32m✔\u001b[39m \u001b[34mtibble \u001b[39m 3.0.4     \u001b[32m✔\u001b[39m \u001b[34mdplyr  \u001b[39m 1.0.2\n",
      "\u001b[32m✔\u001b[39m \u001b[34mtidyr  \u001b[39m 1.1.2     \u001b[32m✔\u001b[39m \u001b[34mstringr\u001b[39m 1.4.0\n",
      "\u001b[32m✔\u001b[39m \u001b[34mreadr  \u001b[39m 1.4.0     \u001b[32m✔\u001b[39m \u001b[34mforcats\u001b[39m 0.5.0\n",
      "\n",
      "── \u001b[1mConflicts\u001b[22m ───────────────────────────────────────────────────────────────────────────────────────────────────────────────────────────────────────── tidyverse_conflicts() ──\n",
      "\u001b[31m✖\u001b[39m \u001b[34mdplyr\u001b[39m::\u001b[32mfilter()\u001b[39m masks \u001b[34mstats\u001b[39m::filter()\n",
      "\u001b[31m✖\u001b[39m \u001b[34mdplyr\u001b[39m::\u001b[32mlag()\u001b[39m    masks \u001b[34mstats\u001b[39m::lag()\n",
      "\n",
      "Loading required package: lattice\n",
      "\n",
      "\n",
      "Attaching package: ‘caret’\n",
      "\n",
      "\n",
      "The following object is masked from ‘package:purrr’:\n",
      "\n",
      "    lift\n",
      "\n",
      "\n",
      "\n",
      "Attaching package: ‘data.table’\n",
      "\n",
      "\n",
      "The following objects are masked from ‘package:dplyr’:\n",
      "\n",
      "    between, first, last\n",
      "\n",
      "\n",
      "The following object is masked from ‘package:purrr’:\n",
      "\n",
      "    transpose\n",
      "\n",
      "\n",
      "qs v0.23.4.\n",
      "\n",
      "randomForest 4.6-14\n",
      "\n",
      "Type rfNews() to see new features/changes/bug fixes.\n",
      "\n",
      "\n",
      "Attaching package: ‘randomForest’\n",
      "\n",
      "\n",
      "The following object is masked from ‘package:dplyr’:\n",
      "\n",
      "    combine\n",
      "\n",
      "\n",
      "The following object is masked from ‘package:ggplot2’:\n",
      "\n",
      "    margin\n",
      "\n",
      "\n",
      "Registered S3 method overwritten by 'RRF':\n",
      "  method      from        \n",
      "  plot.margin randomForest\n",
      "\n",
      "Warning message:\n",
      "“replacing previous import ‘data.table::last’ by ‘dplyr::last’ when loading ‘endoR’”\n",
      "Warning message:\n",
      "“replacing previous import ‘data.table::first’ by ‘dplyr::first’ when loading ‘endoR’”\n",
      "Warning message:\n",
      "“replacing previous import ‘data.table::between’ by ‘dplyr::between’ when loading ‘endoR’”\n",
      "Warning message:\n",
      "“replacing previous import ‘dplyr::union’ by ‘igraph::union’ when loading ‘endoR’”\n",
      "Warning message:\n",
      "“replacing previous import ‘dplyr::as_data_frame’ by ‘igraph::as_data_frame’ when loading ‘endoR’”\n",
      "Warning message:\n",
      "“replacing previous import ‘dplyr::groups’ by ‘igraph::groups’ when loading ‘endoR’”\n",
      "Loading required package: viridisLite\n",
      "\n"
     ]
    }
   ],
   "source": [
    "library(tidyverse)\n",
    "library(stringr)\n",
    "library(caret)\n",
    "library(data.table)\n",
    "library(stringr)\n",
    "library(dplyr)\n",
    "library(qs)\n",
    "library(parallel)\n",
    "library(randomForest)\n",
    "library(inTrees)\n",
    "library(endoR)\n",
    "library(viridis)\n",
    "library(ggpubr)"
   ]
  },
  {
   "cell_type": "code",
   "execution_count": 2,
   "metadata": {
    "ExecuteTime": {
     "end_time": "2021-12-17T13:03:07.148504Z",
     "start_time": "2021-12-17T13:03:02.273Z"
    }
   },
   "outputs": [
    {
     "data": {
      "text/plain": [
       "R version 4.0.3 (2020-10-10)\n",
       "Platform: x86_64-conda-linux-gnu (64-bit)\n",
       "Running under: Ubuntu 18.04.6 LTS\n",
       "\n",
       "Matrix products: default\n",
       "BLAS/LAPACK: /ebio/abt3_projects/Methanogen_SCFA/Metagenomes_methanogen/envs/r-ml/lib/libopenblasp-r0.3.10.so\n",
       "\n",
       "locale:\n",
       " [1] LC_CTYPE=en_US.UTF-8       LC_NUMERIC=C              \n",
       " [3] LC_TIME=en_US.UTF-8        LC_COLLATE=en_US.UTF-8    \n",
       " [5] LC_MONETARY=en_US.UTF-8    LC_MESSAGES=en_US.UTF-8   \n",
       " [7] LC_PAPER=en_US.UTF-8       LC_NAME=C                 \n",
       " [9] LC_ADDRESS=C               LC_TELEPHONE=C            \n",
       "[11] LC_MEASUREMENT=en_US.UTF-8 LC_IDENTIFICATION=C       \n",
       "\n",
       "attached base packages:\n",
       "[1] parallel  stats     graphics  grDevices utils     datasets  methods  \n",
       "[8] base     \n",
       "\n",
       "other attached packages:\n",
       " [1] ggpubr_0.4.0        viridis_0.5.1       viridisLite_0.3.0  \n",
       " [4] endoR_0.1.0         inTrees_1.3         randomForest_4.6-14\n",
       " [7] qs_0.23.4           data.table_1.13.4   caret_6.0-86       \n",
       "[10] lattice_0.20-41     forcats_0.5.0       stringr_1.4.0      \n",
       "[13] dplyr_1.0.2         purrr_0.3.4         readr_1.4.0        \n",
       "[16] tidyr_1.1.2         tibble_3.0.4        ggplot2_3.3.2      \n",
       "[19] tidyverse_1.3.0    \n",
       "\n",
       "loaded via a namespace (and not attached):\n",
       "  [1] colorspace_2.0-0     ggsignif_0.6.0       rio_0.5.16          \n",
       "  [4] ellipsis_0.3.1       class_7.3-17         IRdisplay_0.7.0     \n",
       "  [7] base64enc_0.1-3      fs_1.5.0             rstudioapi_0.13     \n",
       " [10] farver_2.0.3         graphlayouts_0.7.1   ggrepel_0.8.2       \n",
       " [13] prodlim_2019.11.13   fansi_0.4.1          lubridate_1.7.9.2   \n",
       " [16] ranger_0.12.1        xml2_1.3.2           codetools_0.2-18    \n",
       " [19] splines_4.0.3        arules_1.6-6         polyclip_1.10-0     \n",
       " [22] IRkernel_1.1.1       jsonlite_1.7.2       pROC_1.16.2         \n",
       " [25] broom_0.7.2          dbplyr_2.0.0         ggforce_0.3.2       \n",
       " [28] compiler_4.0.3       httr_1.4.2           backports_1.2.0     \n",
       " [31] assertthat_0.2.1     Matrix_1.2-18        cli_2.2.0           \n",
       " [34] tweenr_1.0.1         htmltools_0.5.0      tools_4.0.3         \n",
       " [37] igraph_1.2.6         gtable_0.3.0         glue_1.4.2          \n",
       " [40] reshape2_1.4.4       Rcpp_1.0.5           carData_3.0-4       \n",
       " [43] cellranger_1.1.0     vctrs_0.3.6          nlme_3.1-150        \n",
       " [46] iterators_1.0.13     ggraph_2.0.4         timeDate_3043.102   \n",
       " [49] gower_0.2.2          ps_1.5.0             openxlsx_4.2.3      \n",
       " [52] rvest_0.3.6          lifecycle_0.2.0      rstatix_0.6.0       \n",
       " [55] MASS_7.3-53          scales_1.1.1         ipred_0.9-9         \n",
       " [58] tidygraph_1.2.0      hms_0.5.3            curl_4.3            \n",
       " [61] gridExtra_2.3        rpart_4.1-15         stringi_1.5.3       \n",
       " [64] foreach_1.5.1        zip_2.1.1            lava_1.6.8.1        \n",
       " [67] repr_1.1.2.9000      rlang_0.4.10         pkgconfig_2.0.3     \n",
       " [70] evaluate_0.14        recipes_0.1.15       tidyselect_1.1.0    \n",
       " [73] gbm_2.1.8            plyr_1.8.6           magrittr_2.0.1      \n",
       " [76] R6_2.5.0             generics_0.1.0       pbdZMQ_0.3-3.1      \n",
       " [79] DBI_1.1.0            foreign_0.8-80       pillar_1.4.7        \n",
       " [82] haven_2.3.1          withr_2.3.0          abind_1.4-5         \n",
       " [85] survival_3.2-7       nnet_7.3-14          car_3.0-10          \n",
       " [88] modelr_0.1.8         crayon_1.3.4         xgboost_1.2.0.1     \n",
       " [91] uuid_0.1-4           RApiSerialize_0.1.0  RRF_1.9.1           \n",
       " [94] grid_4.0.3           readxl_1.3.1         ModelMetrics_1.2.2.2\n",
       " [97] reprex_0.3.0         digest_0.6.27        xtable_1.8-4        \n",
       "[100] RcppParallel_5.0.2   stats4_4.0.3         munsell_0.5.0       \n",
       "[103] stringfish_0.14.2   "
      ]
     },
     "metadata": {},
     "output_type": "display_data"
    }
   ],
   "source": [
    "sessionInfo()"
   ]
  },
  {
   "cell_type": "markdown",
   "metadata": {},
   "source": [
    "## functions"
   ]
  },
  {
   "cell_type": "code",
   "execution_count": 3,
   "metadata": {
    "ExecuteTime": {
     "end_time": "2021-12-17T13:03:07.179409Z",
     "start_time": "2021-12-17T13:03:02.618Z"
    }
   },
   "outputs": [],
   "source": [
    "file.sources <- list.files('../scripts/', pattern = '*.R', full.names=TRUE, ignore.case=TRUE)\n",
    "for (f in file.sources) {\n",
    "    source(f)\n",
    "}\n",
    "rm('file.sources', 'f')"
   ]
  },
  {
   "cell_type": "code",
   "execution_count": 4,
   "metadata": {
    "ExecuteTime": {
     "end_time": "2021-12-17T13:03:07.193267Z",
     "start_time": "2021-12-17T13:03:02.784Z"
    }
   },
   "outputs": [],
   "source": [
    "getPR <- function(f, alpha, pi_thr, related_taxa, all){\n",
    "    \n",
    "    edi <- as.data.frame(do.call(rbind, edi))\n",
    "    edi$inN <- unique(edges$inN)\n",
    "     \n",
    "    edi$B <- str_extract(f, pattern = '(?<=B)[:digit:]+')\n",
    "    edi$seedN <- str_extract(f, pattern = '(?<=simu)[:digit:]+(?=\\\\_)')\n",
    "    edi$K <- length(expanded_edges)\n",
    "    edi$Ncol <- all\n",
    "    \n",
    "    return(edi)\n",
    "}"
   ]
  },
  {
   "cell_type": "code",
   "execution_count": 5,
   "metadata": {
    "ExecuteTime": {
     "end_time": "2021-12-17T13:03:07.207273Z",
     "start_time": "2021-12-17T13:03:02.948Z"
    }
   },
   "outputs": [],
   "source": [
    "getSinglePR <- function(res, alpha, pi_thr,expanded_edges, all, taxa){\n",
    "    pc <- quiet(stabilitySelection(res, alpha_error = alpha, pi_thr = pi_thr))\n",
    "    \n",
    "    if (is.null(pc$edges_agg)){\n",
    "        return(NULL)\n",
    "    }\n",
    "    \n",
    "    # prepare edges from endoR\n",
    "    suppressMessages(edges <- pc$edges_agg %>% select(x, y, condition, importance, influence, d.x, d.y) %>% \n",
    "        subset(condition %in% pc$rules_summary$condition) %>%\n",
    "        group_by(x, y, condition) %>% \n",
    "        summarise(importance= mean(importance), influence = mean(influence*(d.x+d.y)/2)) %>%\n",
    "        ungroup %>% \n",
    "        left_join(select(pc$rules_summary,condition, inN, imp, n), by = 'condition') %>% \n",
    "        select(-condition) )\n",
    "    \n",
    "    edi <- lapply(unique(edges$inN)\n",
    "                  , function(i, edges,expanded_edges, all){\n",
    "                      suppressMessages(edges <- edges %>% subset(inN >= i) %>% group_by(x, y) %>% \n",
    "                                       summarise( inN = max(inN), importance = sum(importance*imp*n)\n",
    "                                                 , influence = sum(influence*imp*n)/sum(imp*n) ) %>% ungroup)\n",
    "                      metricsNet(edges = edges,expanded_edges=expanded_edges, all=all)\n",
    "                  }, edges = edges,expanded_edges=expanded_edges, all=all)\n",
    "    edi <- as.data.frame(do.call(rbind, edi))\n",
    "    edi$inN <- unique(edges$inN)\n",
    "    edi <- add_row(edi, n_edges=0, tp=0,fp=0,tn=0,fn=0,inN=0)\n",
    "    edi$alpha <- alpha\n",
    "    edi$pi_thr <- pi_thr\n",
    "    \n",
    "    return(edi)\n",
    "}"
   ]
  },
  {
   "cell_type": "code",
   "execution_count": 6,
   "metadata": {
    "ExecuteTime": {
     "end_time": "2021-12-17T13:03:07.221152Z",
     "start_time": "2021-12-17T13:03:03.067Z"
    }
   },
   "outputs": [],
   "source": [
    "getSeveralPR <- function(f, alphas, pi_thr, taxa,related_taxa, all){\n",
    "    res <- qread(f)\n",
    "    \n",
    "    # get the true edges\n",
    "    te <- lapply(res$true_edges, str_replace_all, pattern = '\\\\_{2}.*', replacement = '')\n",
    "    te <- unique(lapply(te, sort))\n",
    "    expanded_edges <- list()\n",
    "    for (i in 1:length(te)){\n",
    "        tmp <- te[[i]] %>% str_replace(pattern = '\\\\_{2}.*', replacement = '')\n",
    "        tmp <- related_taxa[tmp]\n",
    "        tmp <- expand.grid(tmp[[1]], tmp[[2]])  \n",
    "        tmp <- asplit(tmp, MARGIN=1)\n",
    "\n",
    "        expanded_edges[[i]] <- sapply(lapply(tmp, sort), paste, collapse = ' - ')\n",
    "        names(expanded_edges)[i] <- paste(sort(te[[i]]), collapse = ' - ')\n",
    "    }\n",
    "    \n",
    "    edi <- lapply( alphas , getSinglePR, res = res$resamp, pi_thr = pi_thr\n",
    "                  ,expanded_edges=expanded_edges, all=all, taxa = taxa)\n",
    "    \n",
    "    edi <- as.data.frame(do.call(rbind, edi))\n",
    "    \n",
    "    edi$seedN <- str_extract(f, pattern = '(?<=simu)[:digit:]+(?=\\\\_)')\n",
    "    edi$K <- length(expanded_edges)\n",
    "    edi$Ncol <- all\n",
    "    \n",
    "    return(edi)\n",
    "}"
   ]
  },
  {
   "cell_type": "markdown",
   "metadata": {},
   "source": [
    "# Data"
   ]
  },
  {
   "cell_type": "code",
   "execution_count": 7,
   "metadata": {
    "ExecuteTime": {
     "end_time": "2021-12-17T13:03:07.265445Z",
     "start_time": "2021-12-17T13:03:03.412Z"
    }
   },
   "outputs": [],
   "source": [
    "taxa <- qread('../../data/taxa_table.qs')"
   ]
  },
  {
   "cell_type": "code",
   "execution_count": 8,
   "metadata": {
    "ExecuteTime": {
     "end_time": "2021-12-17T13:03:11.266962Z",
     "start_time": "2021-12-17T13:03:10.776Z"
    }
   },
   "outputs": [],
   "source": [
    "# location of simulations\n",
    "fnames <- list.files('/ebio/abt3_projects/temp_data/aruaud/MtgSimu50/p005_B10/', full.names = TRUE, pattern = 'simu')"
   ]
  },
  {
   "cell_type": "code",
   "execution_count": 9,
   "metadata": {
    "ExecuteTime": {
     "end_time": "2021-12-17T13:03:11.493448Z",
     "start_time": "2021-12-17T13:03:10.988Z"
    }
   },
   "outputs": [],
   "source": [
    "related_taxa <- qread('../tmp/related_taxa_full.qs')\n",
    "is_s <- str_which(names(related_taxa), pattern = '^s_')\n",
    "related_taxa[is_s] <- related_taxa[is_s] %>% lapply(function(x){str_subset(x, pattern = '^s|g')})\n",
    "related_taxa$groupa <- 'groupa'\n",
    "related_taxa$groupb <- 'groupb'\n",
    "related_taxa$groupc <- 'groupc'\n",
    "related_taxa$groupd <- 'groupd'"
   ]
  },
  {
   "cell_type": "code",
   "execution_count": 10,
   "metadata": {
    "ExecuteTime": {
     "end_time": "2021-12-17T13:03:11.687590Z",
     "start_time": "2021-12-17T13:03:11.196Z"
    }
   },
   "outputs": [
    {
     "data": {
      "text/html": [
       "50"
      ],
      "text/latex": [
       "50"
      ],
      "text/markdown": [
       "50"
      ],
      "text/plain": [
       "[1] 50"
      ]
     },
     "metadata": {},
     "output_type": "display_data"
    }
   ],
   "source": [
    "length(fnames)"
   ]
  },
  {
   "cell_type": "markdown",
   "metadata": {},
   "source": [
    "# PR curves"
   ]
  },
  {
   "cell_type": "code",
   "execution_count": 11,
   "metadata": {
    "ExecuteTime": {
     "end_time": "2021-12-17T13:03:17.436405Z",
     "start_time": "2021-12-17T13:03:12.098Z"
    }
   },
   "outputs": [],
   "source": [
    "#stopCluster(cluster)\n",
    "cluster <- makeCluster(5)\n",
    "quiet(clusterEvalQ(cluster, library(qs)))\n",
    "quiet(clusterEvalQ(cluster, library(endoR)))\n",
    "quiet(clusterEvalQ(cluster, library(tidyverse)))\n",
    "quiet(clusterExport(cluster, c('getSinglePR', 'metricsNet', 'quiet' )))"
   ]
  },
  {
   "cell_type": "code",
   "execution_count": 12,
   "metadata": {
    "ExecuteTime": {
     "end_time": "2021-12-17T13:03:51.159247Z",
     "start_time": "2021-12-17T13:03:13.536Z"
    }
   },
   "outputs": [],
   "source": [
    "pi7_sev <- parLapply(cl = cluster,fnames, getSeveralPR, alpha = c(1,5,10, 15, 20), taxa = taxa\n",
    "                     ,related_taxa=related_taxa, pi_thr = 0.7, all = (525^2-525)/2)\n",
    "pi7_sev <- do.call(rbind, pi7_sev)\n",
    "suppressWarnings(av_pi7 <- pi7_sev %>% group_by(alpha, inN) %>% summarise_all(mean))"
   ]
  },
  {
   "cell_type": "code",
   "execution_count": 13,
   "metadata": {
    "ExecuteTime": {
     "end_time": "2021-12-17T13:03:51.198713Z",
     "start_time": "2021-12-17T13:03:15.578Z"
    }
   },
   "outputs": [],
   "source": [
    "stopCluster(cluster)"
   ]
  },
  {
   "cell_type": "markdown",
   "metadata": {},
   "source": [
    "# Interpolate"
   ]
  },
  {
   "cell_type": "code",
   "execution_count": 14,
   "metadata": {
    "ExecuteTime": {
     "end_time": "2021-12-17T13:03:51.570363Z",
     "start_time": "2021-12-17T13:03:16.507Z"
    }
   },
   "outputs": [],
   "source": [
    "getInterpo <- function(i, raw){\n",
    "    raw <- subset(raw, seedN == i)\n",
    "    res <- list()\n",
    "    \n",
    "    N <- (525^2-525)/2 \n",
    "    K <- unique(raw$K)\n",
    "    \n",
    "    i <- 1\n",
    "    for (a in unique(raw$alpha)){\n",
    "        tmp <- approx(raw$fp[raw$alpha == a]\n",
    "                       , raw$tp[raw$alpha == a]\n",
    "                       , xout = seq(1, 150, length.out = 1000)\n",
    "                       , ties = max)\n",
    "        tmp <- as.data.frame(do.call(cbind, tmp))\n",
    "        colnames(tmp) <- c('fp', 'tp')\n",
    "        \n",
    "        # add 0 and max values to the extrapolations\n",
    "        mafp <- max(tmp$fp[!is.na(tmp$tp)])\n",
    "        tmp$tp[tmp$fp>mafp] <- max(tmp$tp, na.rm = TRUE)\n",
    "        \n",
    "        tmp <- tmp[complete.cases(tmp),]\n",
    "        #tmp <- tmp %>% add_row(tp = 0, fp = 0)\n",
    "        tmp$alpha <- a\n",
    "\n",
    "        res[[i]] <- tmp %>% arrange(tp)\n",
    "        i <- i+1\n",
    "    }\n",
    "    res <- do.call(rbind, res)\n",
    "    res$seedN <- i\n",
    "    \n",
    "    return(res)\n",
    "}"
   ]
  },
  {
   "cell_type": "code",
   "execution_count": 15,
   "metadata": {
    "ExecuteTime": {
     "end_time": "2021-12-17T13:03:52.312483Z",
     "start_time": "2021-12-17T13:03:18.560Z"
    }
   },
   "outputs": [],
   "source": [
    "pr7_byseed <- suppressWarnings(lapply(unique(pi7_sev$seedN), getInterpo, raw = pi7_sev))"
   ]
  },
  {
   "cell_type": "code",
   "execution_count": 16,
   "metadata": {
    "ExecuteTime": {
     "end_time": "2021-12-17T13:03:53.881638Z",
     "start_time": "2021-12-17T13:03:18.786Z"
    }
   },
   "outputs": [],
   "source": [
    "pr7_byseed_av <- do.call(rbind, pr7_byseed) %>% select(-seedN) %>% group_by(fp, alpha) %>% summarise_all(mean)\n",
    "pr7_byseed_sd <- do.call(rbind, pr7_byseed) %>% select(-seedN) %>% group_by(fp, alpha) %>% summarise_all(sd)\n",
    "\n",
    "pr7_forplots <- left_join(pr7_byseed_av, pr7_byseed_sd, by = c('fp', 'alpha'), suffix = c('_av', '_sd'))"
   ]
  },
  {
   "cell_type": "code",
   "execution_count": 17,
   "metadata": {
    "ExecuteTime": {
     "end_time": "2021-12-17T13:03:53.901102Z",
     "start_time": "2021-12-17T13:03:19.027Z"
    }
   },
   "outputs": [
    {
     "data": {
      "text/html": [
       "<style>\n",
       ".list-inline {list-style: none; margin:0; padding: 0}\n",
       ".list-inline>li {display: inline-block}\n",
       ".list-inline>li:not(:last-child)::after {content: \"\\00b7\"; padding: 0 .5ex}\n",
       "</style>\n",
       "<ol class=list-inline><li>5000</li><li>4</li></ol>\n"
      ],
      "text/latex": [
       "\\begin{enumerate*}\n",
       "\\item 5000\n",
       "\\item 4\n",
       "\\end{enumerate*}\n"
      ],
      "text/markdown": [
       "1. 5000\n",
       "2. 4\n",
       "\n",
       "\n"
      ],
      "text/plain": [
       "[1] 5000    4"
      ]
     },
     "metadata": {},
     "output_type": "display_data"
    }
   ],
   "source": [
    "pr7_forplots %>% dim"
   ]
  },
  {
   "cell_type": "markdown",
   "metadata": {},
   "source": [
    "# Random curves"
   ]
  },
  {
   "cell_type": "code",
   "execution_count": 20,
   "metadata": {
    "ExecuteTime": {
     "end_time": "2021-03-17T12:57:31.294988Z",
     "start_time": "2021-03-17T12:57:04.048Z"
    },
    "deletable": false,
    "editable": false,
    "run_control": {
     "frozen": true
    }
   },
   "outputs": [],
   "source": [
    "random_pr_curve <- function(K){\n",
    "  N <- (525^2-525)/2 \n",
    "    \n",
    "  urn <- c(rep(1, K), rep(0, N-K))\n",
    "  B <- 1000\n",
    "  res <- list()\n",
    "    \n",
    "  for(j in 1:B){\n",
    "    set.seed(j)\n",
    "    random_draw <- urn[sample(1:N)]\n",
    "    tp <- cumsum(random_draw)\n",
    "    fp <- 1:N - cumsum(random_draw)\n",
    "    linfit <- approx(fp, tp, xout = seq(1, 150, length.out = 1000),ties = max)\n",
    "      \n",
    "    tmp <- as.data.frame(do.call(cbind, linfit))\n",
    "    colnames(tmp)<- c('fp', 'tp')\n",
    "    # add 0 and max values to the extrapolations\n",
    "    mifp <- min(tmp$fp[!is.na(tmp$tp)])\n",
    "    mafp <- max(tmp$fp[!is.na(tmp$tp)])\n",
    "    tmp$tp[tmp$fp<mifp] <- min(tmp$tp)\n",
    "    tmp$tp[tmp$fp>mafp] <- K  \n",
    "    res[[j]] <- tmp[ complete.cases(tmp), ]\n",
    "  }\n",
    " \n",
    "  res <- do.call(rbind, res)\n",
    "  res <- res %>% group_by(fp) %>% summarise(tp = mean(tp), qtiles = quantile(tp, 0.99))\n",
    "  \n",
    "  return(res)\n",
    "  \n",
    "}"
   ]
  },
  {
   "cell_type": "code",
   "execution_count": 21,
   "metadata": {
    "ExecuteTime": {
     "end_time": "2021-03-17T12:57:33.816967Z",
     "start_time": "2021-03-17T12:57:04.051Z"
    },
    "deletable": false,
    "editable": false,
    "run_control": {
     "frozen": true
    }
   },
   "outputs": [],
   "source": [
    "#stopCluster(cluster)\n",
    "cluster <- makeCluster(5)\n",
    "quiet(clusterEvalQ(cluster, library(qs)))\n",
    "quiet(clusterEvalQ(cluster, library(tidyverse)))\n",
    "quiet(clusterExport(cluster, c('random_pr_curve')))"
   ]
  },
  {
   "cell_type": "code",
   "execution_count": 22,
   "metadata": {
    "ExecuteTime": {
     "end_time": "2021-03-17T13:41:52.159032Z",
     "start_time": "2021-03-17T12:57:04.054Z"
    },
    "deletable": false,
    "editable": false,
    "run_control": {
     "frozen": true
    },
    "scrolled": true
   },
   "outputs": [],
   "source": [
    "Ks <- pi7_sev %>% select(K, seedN) %>% unique %>% select(K) %>% unlist\n",
    "rdm <- parLapply(cluster, Ks,random_pr_curve)"
   ]
  },
  {
   "cell_type": "code",
   "execution_count": null,
   "metadata": {
    "ExecuteTime": {
     "end_time": "2021-03-17T13:41:52.164853Z",
     "start_time": "2021-03-17T12:57:04.057Z"
    },
    "deletable": false,
    "editable": false,
    "run_control": {
     "frozen": true
    }
   },
   "outputs": [],
   "source": [
    "stopCluster(cluster)"
   ]
  },
  {
   "cell_type": "code",
   "execution_count": null,
   "metadata": {
    "ExecuteTime": {
     "end_time": "2021-03-17T13:41:52.187485Z",
     "start_time": "2021-03-17T12:57:04.060Z"
    },
    "deletable": false,
    "editable": false,
    "run_control": {
     "frozen": true
    }
   },
   "outputs": [],
   "source": [
    "rdm_av <- do.call(rbind, rdm ) %>% group_by(fp) %>% summarise_all(mean)\n",
    "rdm_sd <- do.call(rbind, rdm) %>% group_by(fp) %>% summarise_all(sd)\n",
    "rdm_av <- left_join(rdm_av, rdm_sd, by = c('fp'), suffix = c('_av', '_sd'))"
   ]
  },
  {
   "cell_type": "code",
   "execution_count": null,
   "metadata": {
    "ExecuteTime": {
     "end_time": "2021-03-17T13:41:52.192817Z",
     "start_time": "2021-03-17T12:57:04.062Z"
    },
    "deletable": false,
    "editable": false,
    "run_control": {
     "frozen": true
    }
   },
   "outputs": [],
   "source": [
    "saveRDS(rdm_av, '../tmp/alphas_rdm.RDS')"
   ]
  },
  {
   "cell_type": "code",
   "execution_count": 18,
   "metadata": {
    "ExecuteTime": {
     "end_time": "2021-12-17T13:03:53.923474Z",
     "start_time": "2021-12-17T13:03:23.001Z"
    }
   },
   "outputs": [],
   "source": [
    "rdm_av <- readRDS('../tmp/alphas_rdm.RDS')"
   ]
  },
  {
   "cell_type": "markdown",
   "metadata": {},
   "source": [
    "# plots"
   ]
  },
  {
   "cell_type": "code",
   "execution_count": 19,
   "metadata": {
    "ExecuteTime": {
     "end_time": "2021-12-17T13:03:53.967016Z",
     "start_time": "2021-12-17T13:03:24.247Z"
    }
   },
   "outputs": [],
   "source": [
    "cols <- plasma(length(unique(pr7_forplots$alpha)) + 2)"
   ]
  },
  {
   "cell_type": "code",
   "execution_count": 20,
   "metadata": {
    "ExecuteTime": {
     "end_time": "2021-12-17T13:03:54.093752Z",
     "start_time": "2021-12-17T13:03:31.282Z"
    }
   },
   "outputs": [],
   "source": [
    "p <- ggplot(pr7_forplots %>% subset(fp < 100) \n",
    "             , aes(x = fp, y = tp_av, group = as.factor(alpha), color = as.factor(alpha)))+\n",
    "\n",
    "geom_hline(yintercept = 9, color = 'lightgrey', linetype = 'dashed')+\n",
    "\n",
    "geom_line(data = rdm_av %>% subset(fp < 100), aes(y = tp_av, x = fp), group=NA, color = 'darkgrey')+\n",
    "geom_ribbon(data = rdm_av %>% subset(fp < 100)\n",
    "            , aes(ymin = tp_av - tp_sd/2, ymax = tp_av + tp_sd/2, y = tp_av\n",
    "                  , group=NULL, color = NULL)\n",
    "            , alpha = 0.25, fill = 'darkgrey') +\n",
    "geom_line(size = 1)+\n",
    "\n",
    "geom_ribbon(aes(ymin = tp_av - tp_sd/2, ymax = tp_av + tp_sd/2\n",
    "                , group = alpha, fill = as.factor(alpha)), color = NA\n",
    "            , alpha = 0.25) +\n",
    "\n",
    "geom_point(data = av_pi7 %>% subset(inN == 7)\n",
    "           , aes(y = tp, x = fp, fill = as.factor(alpha))\n",
    "           , size = 4, shape = 21, color = 'black')+\n",
    "\n",
    "\n",
    "theme_classic()+\n",
    "labs(x = 'Number of FP', y = 'Number of TP')+\n",
    "scale_color_manual(values = cols[-c(1, length(cols))], name = expression(alpha)) +\n",
    "scale_fill_manual(values = cols[-c(1, length(cols))], name = expression(alpha)) "
   ]
  },
  {
   "cell_type": "code",
   "execution_count": 21,
   "metadata": {
    "ExecuteTime": {
     "end_time": "2021-12-17T13:03:54.895673Z",
     "start_time": "2021-12-17T13:03:36.398Z"
    },
    "scrolled": false
   },
   "outputs": [
    {
     "data": {
      "image/png": "[encoded data removed]",
      "text/plain": [
       "plot without title"
      ]
     },
     "metadata": {
      "image/png": {
       "height": 240,
       "width": 240
      }
     },
     "output_type": "display_data"
    }
   ],
   "source": [
    "options(repr.plot.width=4, repr.plot.height=4)\n",
    "p"
   ]
  },
  {
   "cell_type": "markdown",
   "metadata": {},
   "source": [
    "# misc"
   ]
  },
  {
   "cell_type": "code",
   "execution_count": 22,
   "metadata": {
    "ExecuteTime": {
     "end_time": "2021-12-17T13:03:54.908596Z",
     "start_time": "2021-12-17T13:03:39.696Z"
    }
   },
   "outputs": [],
   "source": [
    "getRes <- function(f, alphas = c(1, 5, 10, 15,20), related_taxa){\n",
    "    pre_res <- qread(f)\n",
    "    \n",
    "    # get the true edges\n",
    "    te <- lapply(pre_res$true_edges, str_replace_all, pattern = '\\\\_{2}.*', replacement = '')\n",
    "    te <- unique(lapply(te, sort))\n",
    "    expanded_edges <- list()\n",
    "    for (i in 1:length(te)){\n",
    "        tmp <- te[[i]] %>% str_replace(pattern = '\\\\_{2}.*', replacement = '')\n",
    "        tmp <- related_taxa[tmp]\n",
    "        tmp <- expand.grid(tmp[[1]], tmp[[2]])  \n",
    "        tmp <- asplit(tmp, MARGIN=1)\n",
    "\n",
    "        expanded_edges[[i]] <- sapply(lapply(tmp, sort), paste, collapse = ' - ')\n",
    "        names(expanded_edges)[i] <- paste(sort(te[[i]]), collapse = ' - ')\n",
    "    }\n",
    "    \n",
    "    res <- list()\n",
    "    \n",
    "    for (a in alphas){\n",
    "        \n",
    "        # get the new metrics\n",
    "        pc <- quiet(stabilitySelection(pre_res$resampled, alpha_error = a, pi_thr = 0.7))\n",
    "    \n",
    "        #if (is.null(pc$rules_summary)){\n",
    "        #    return(NULL)\n",
    "        #}\n",
    "    \n",
    "        cond <- pc$rules_summary %>% subset(inN >= 7, select = condition) %>% unlist\n",
    "        if (length(cond) > 0){\n",
    "\n",
    "            imp_edges <- pc$edges_agg %>% subset(condition %in% cond) %>% select(x,y, importance, n, imp)\n",
    "            imp_edges$x <- str_replace(imp_edges$x, pattern = '\\\\_{2}.*', replacement = '')\n",
    "            imp_edges$y <- str_replace(imp_edges$y, pattern = '\\\\_{2}.*', replacement = '')\n",
    "            suppressMessages(imp_edges <- imp_edges %>% group_by(x,y) %>% summarise(importance = sum(n*imp*importance)))\n",
    "            imp_edges <- asplit(as.matrix(imp_edges), MARGIN = 1)\n",
    "            imp_edges <- lapply(imp_edges, sort) \n",
    "            pred_edges <- sapply(imp_edges, function(x){paste(x[-1], collapse = ' - ')}) \n",
    "            imp_edges <- sapply(imp_edges, function(x)x['importance']) \n",
    "\n",
    "            # those that should not be but are = in pred_edges but not truth\n",
    "            fp <- sum(sapply(pred_edges, function(x){!(x %in% unlist(expanded_edges))}))\n",
    "            tp <- sum(sapply(expanded_edges, function(x){ifelse(sum(x %in% pred_edges) > 0, 1, 0)}))\n",
    "            fn <- sum(sapply(names(expanded_edges), function(x){!(x %in% pred_edges)}))\n",
    "\n",
    "\n",
    "            # sum of FP importances\n",
    "            if(fp > 0) {\n",
    "                fp_imp <- which(sapply(pred_edges, function(x){!(x %in% unlist(expanded_edges))}))\n",
    "                fp_imp <- sum(as.numeric(imp_edges[fp_imp]))\n",
    "            } else {fp_imp <- 0}\n",
    "            # sum of TP importances\n",
    "            if(tp > 0) {\n",
    "                tp_imp <- list()\n",
    "                for (i in 1:length(expanded_edges)){\n",
    "                    tp_imp[[i]] <- mean(as.numeric(imp_edges[which(pred_edges %in% expanded_edges[[i]])]))\n",
    "                }\n",
    "                tp_imp <- sum(unlist(tp_imp), na.rm = TRUE)\n",
    "            } else {tp_imp <- 0}\n",
    "\n",
    "            res[[as.character(a)]] <- c('alpha' = a, 'rf_accuracy' = pre_res$gamma_all[1, 'meanK'], 'n_decisions' = length(cond)\n",
    "                    , 'tp_imp' = tp_imp, 'fp_imp' = fp_imp, 'tp' = tp, 'fp' = fp\n",
    "                    , 'fn' = fn)\n",
    "        } else {\n",
    "            res[[as.character(a)]] <- c('alpha' = a, 'rf_accuracy' = pre_res$gamma_all[1, 'meanK'], 'n_decisions' = 0\n",
    "                    , 'tp_imp' = 0, 'fp_imp' = 0, 'tp' = 0, 'fp' = 0, 'fn' = 0)\n",
    "        }\n",
    "                                                   \n",
    "    }\n",
    "    \n",
    "    res <- do.call(rbind, res)\n",
    "    \n",
    "    return(res)\n",
    "}"
   ]
  },
  {
   "cell_type": "code",
   "execution_count": 23,
   "metadata": {
    "ExecuteTime": {
     "end_time": "2021-12-17T13:04:41.701434Z",
     "start_time": "2021-12-17T13:03:43.459Z"
    }
   },
   "outputs": [],
   "source": [
    "check <- lapply(fnames, getRes, related_taxa = related_taxa)\n",
    "check <- as.data.frame(do.call(rbind, check))"
   ]
  },
  {
   "cell_type": "code",
   "execution_count": 24,
   "metadata": {
    "ExecuteTime": {
     "end_time": "2021-12-17T13:04:41.723366Z",
     "start_time": "2021-12-17T13:03:43.805Z"
    }
   },
   "outputs": [],
   "source": [
    "check$precision <- check$tp/(check$tp+check$fp)\n",
    "check$recall <- check$tp/(check$tp+check$fn)\n",
    "check$w_precision <- check$tp_imp/(check$tp_imp+check$fp_imp)"
   ]
  },
  {
   "cell_type": "code",
   "execution_count": 25,
   "metadata": {
    "ExecuteTime": {
     "end_time": "2021-12-17T13:04:41.761845Z",
     "start_time": "2021-12-17T13:03:44.183Z"
    }
   },
   "outputs": [
    {
     "data": {
      "text/html": [
       "<table class=\"dataframe\">\n",
       "<caption>A data.frame: 6 × 11</caption>\n",
       "<thead>\n",
       "\t<tr><th></th><th scope=col>alpha</th><th scope=col>rf_accuracy</th><th scope=col>n_decisions</th><th scope=col>tp_imp</th><th scope=col>fp_imp</th><th scope=col>tp</th><th scope=col>fp</th><th scope=col>fn</th><th scope=col>precision</th><th scope=col>recall</th><th scope=col>w_precision</th></tr>\n",
       "\t<tr><th></th><th scope=col>&lt;dbl&gt;</th><th scope=col>&lt;dbl&gt;</th><th scope=col>&lt;dbl&gt;</th><th scope=col>&lt;dbl&gt;</th><th scope=col>&lt;dbl&gt;</th><th scope=col>&lt;dbl&gt;</th><th scope=col>&lt;dbl&gt;</th><th scope=col>&lt;dbl&gt;</th><th scope=col>&lt;dbl&gt;</th><th scope=col>&lt;dbl&gt;</th><th scope=col>&lt;dbl&gt;</th></tr>\n",
       "</thead>\n",
       "<tbody>\n",
       "\t<tr><th scope=row>X20.48</th><td>20</td><td>0.9188951</td><td>66</td><td>591.7498</td><td>104.98989</td><td>9</td><td>45</td><td>2</td><td>0.1666667</td><td>0.8181818</td><td>0.8493126</td></tr>\n",
       "\t<tr><th scope=row>X1.49</th><td> 1</td><td>0.9285351</td><td> 8</td><td>137.4198</td><td> 22.39393</td><td>4</td><td> 5</td><td>6</td><td>0.4444444</td><td>0.4000000</td><td>0.8598748</td></tr>\n",
       "\t<tr><th scope=row>X5.49</th><td> 5</td><td>0.9285351</td><td>18</td><td>217.6505</td><td> 58.52426</td><td>9</td><td>14</td><td>2</td><td>0.3913043</td><td>0.8181818</td><td>0.7880898</td></tr>\n",
       "\t<tr><th scope=row>X10.49</th><td>10</td><td>0.9285351</td><td>30</td><td>302.4924</td><td> 73.01542</td><td>9</td><td>21</td><td>2</td><td>0.3000000</td><td>0.8181818</td><td>0.8055555</td></tr>\n",
       "\t<tr><th scope=row>X15.49</th><td>15</td><td>0.9285351</td><td>39</td><td>314.1780</td><td> 78.85514</td><td>9</td><td>28</td><td>2</td><td>0.2432432</td><td>0.8181818</td><td>0.7993677</td></tr>\n",
       "\t<tr><th scope=row>X20.49</th><td>20</td><td>0.9285351</td><td>44</td><td>294.7985</td><td> 86.05052</td><td>9</td><td>32</td><td>2</td><td>0.2195122</td><td>0.8181818</td><td>0.7740561</td></tr>\n",
       "</tbody>\n",
       "</table>\n"
      ],
      "text/latex": [
       "A data.frame: 6 × 11\n",
       "\\begin{tabular}{r|lllllllllll}\n",
       "  & alpha & rf\\_accuracy & n\\_decisions & tp\\_imp & fp\\_imp & tp & fp & fn & precision & recall & w\\_precision\\\\\n",
       "  & <dbl> & <dbl> & <dbl> & <dbl> & <dbl> & <dbl> & <dbl> & <dbl> & <dbl> & <dbl> & <dbl>\\\\\n",
       "\\hline\n",
       "\tX20.48 & 20 & 0.9188951 & 66 & 591.7498 & 104.98989 & 9 & 45 & 2 & 0.1666667 & 0.8181818 & 0.8493126\\\\\n",
       "\tX1.49 &  1 & 0.9285351 &  8 & 137.4198 &  22.39393 & 4 &  5 & 6 & 0.4444444 & 0.4000000 & 0.8598748\\\\\n",
       "\tX5.49 &  5 & 0.9285351 & 18 & 217.6505 &  58.52426 & 9 & 14 & 2 & 0.3913043 & 0.8181818 & 0.7880898\\\\\n",
       "\tX10.49 & 10 & 0.9285351 & 30 & 302.4924 &  73.01542 & 9 & 21 & 2 & 0.3000000 & 0.8181818 & 0.8055555\\\\\n",
       "\tX15.49 & 15 & 0.9285351 & 39 & 314.1780 &  78.85514 & 9 & 28 & 2 & 0.2432432 & 0.8181818 & 0.7993677\\\\\n",
       "\tX20.49 & 20 & 0.9285351 & 44 & 294.7985 &  86.05052 & 9 & 32 & 2 & 0.2195122 & 0.8181818 & 0.7740561\\\\\n",
       "\\end{tabular}\n"
      ],
      "text/markdown": [
       "\n",
       "A data.frame: 6 × 11\n",
       "\n",
       "| <!--/--> | alpha &lt;dbl&gt; | rf_accuracy &lt;dbl&gt; | n_decisions &lt;dbl&gt; | tp_imp &lt;dbl&gt; | fp_imp &lt;dbl&gt; | tp &lt;dbl&gt; | fp &lt;dbl&gt; | fn &lt;dbl&gt; | precision &lt;dbl&gt; | recall &lt;dbl&gt; | w_precision &lt;dbl&gt; |\n",
       "|---|---|---|---|---|---|---|---|---|---|---|---|\n",
       "| X20.48 | 20 | 0.9188951 | 66 | 591.7498 | 104.98989 | 9 | 45 | 2 | 0.1666667 | 0.8181818 | 0.8493126 |\n",
       "| X1.49 |  1 | 0.9285351 |  8 | 137.4198 |  22.39393 | 4 |  5 | 6 | 0.4444444 | 0.4000000 | 0.8598748 |\n",
       "| X5.49 |  5 | 0.9285351 | 18 | 217.6505 |  58.52426 | 9 | 14 | 2 | 0.3913043 | 0.8181818 | 0.7880898 |\n",
       "| X10.49 | 10 | 0.9285351 | 30 | 302.4924 |  73.01542 | 9 | 21 | 2 | 0.3000000 | 0.8181818 | 0.8055555 |\n",
       "| X15.49 | 15 | 0.9285351 | 39 | 314.1780 |  78.85514 | 9 | 28 | 2 | 0.2432432 | 0.8181818 | 0.7993677 |\n",
       "| X20.49 | 20 | 0.9285351 | 44 | 294.7985 |  86.05052 | 9 | 32 | 2 | 0.2195122 | 0.8181818 | 0.7740561 |\n",
       "\n"
      ],
      "text/plain": [
       "       alpha rf_accuracy n_decisions tp_imp   fp_imp    tp fp fn precision\n",
       "X20.48 20    0.9188951   66          591.7498 104.98989 9  45 2  0.1666667\n",
       "X1.49   1    0.9285351    8          137.4198  22.39393 4   5 6  0.4444444\n",
       "X5.49   5    0.9285351   18          217.6505  58.52426 9  14 2  0.3913043\n",
       "X10.49 10    0.9285351   30          302.4924  73.01542 9  21 2  0.3000000\n",
       "X15.49 15    0.9285351   39          314.1780  78.85514 9  28 2  0.2432432\n",
       "X20.49 20    0.9285351   44          294.7985  86.05052 9  32 2  0.2195122\n",
       "       recall    w_precision\n",
       "X20.48 0.8181818 0.8493126  \n",
       "X1.49  0.4000000 0.8598748  \n",
       "X5.49  0.8181818 0.7880898  \n",
       "X10.49 0.8181818 0.8055555  \n",
       "X15.49 0.8181818 0.7993677  \n",
       "X20.49 0.8181818 0.7740561  "
      ]
     },
     "metadata": {},
     "output_type": "display_data"
    }
   ],
   "source": [
    "check %>% tail"
   ]
  },
  {
   "cell_type": "code",
   "execution_count": 26,
   "metadata": {
    "ExecuteTime": {
     "end_time": "2021-12-17T13:04:41.812433Z",
     "start_time": "2021-12-17T13:03:44.693Z"
    }
   },
   "outputs": [
    {
     "data": {
      "text/html": [
       "<table class=\"dataframe\">\n",
       "<caption>A tibble: 5 × 10</caption>\n",
       "<thead>\n",
       "\t<tr><th scope=col>rf_accuracy</th><th scope=col>n_decisions</th><th scope=col>tp</th><th scope=col>fp</th><th scope=col>fn</th><th scope=col>tp_imp</th><th scope=col>fp_imp</th><th scope=col>precision</th><th scope=col>recall</th><th scope=col>w_precision</th></tr>\n",
       "\t<tr><th scope=col>&lt;dbl&gt;</th><th scope=col>&lt;dbl&gt;</th><th scope=col>&lt;dbl&gt;</th><th scope=col>&lt;dbl&gt;</th><th scope=col>&lt;dbl&gt;</th><th scope=col>&lt;dbl&gt;</th><th scope=col>&lt;dbl&gt;</th><th scope=col>&lt;dbl&gt;</th><th scope=col>&lt;dbl&gt;</th><th scope=col>&lt;dbl&gt;</th></tr>\n",
       "</thead>\n",
       "<tbody>\n",
       "\t<tr><td>0.9058784</td><td>13.52</td><td>5.98</td><td> 5.42</td><td>3.36</td><td>199.4929</td><td>10.57733</td><td>0.5785970</td><td>0.6421162</td><td>0.9260560</td></tr>\n",
       "\t<tr><td>0.9058784</td><td>26.10</td><td>7.76</td><td>17.42</td><td>1.82</td><td>225.5561</td><td>20.34507</td><td>0.3400354</td><td>0.8169406</td><td>0.8989458</td></tr>\n",
       "\t<tr><td>0.9058784</td><td>35.12</td><td>8.12</td><td>24.22</td><td>1.42</td><td>225.1526</td><td>23.93220</td><td>0.2820590</td><td>0.8586744</td><td>0.8819917</td></tr>\n",
       "\t<tr><td>0.9058784</td><td>42.14</td><td>8.20</td><td>28.78</td><td>1.34</td><td>222.7476</td><td>26.16670</td><td>0.2493476</td><td>0.8675633</td><td>0.8720742</td></tr>\n",
       "\t<tr><td>0.9058784</td><td>48.30</td><td>8.26</td><td>32.52</td><td>1.30</td><td>219.4942</td><td>27.68999</td><td>0.2306994</td><td>0.8730431</td><td>0.8658533</td></tr>\n",
       "</tbody>\n",
       "</table>\n"
      ],
      "text/latex": [
       "A tibble: 5 × 10\n",
       "\\begin{tabular}{llllllllll}\n",
       " rf\\_accuracy & n\\_decisions & tp & fp & fn & tp\\_imp & fp\\_imp & precision & recall & w\\_precision\\\\\n",
       " <dbl> & <dbl> & <dbl> & <dbl> & <dbl> & <dbl> & <dbl> & <dbl> & <dbl> & <dbl>\\\\\n",
       "\\hline\n",
       "\t 0.9058784 & 13.52 & 5.98 &  5.42 & 3.36 & 199.4929 & 10.57733 & 0.5785970 & 0.6421162 & 0.9260560\\\\\n",
       "\t 0.9058784 & 26.10 & 7.76 & 17.42 & 1.82 & 225.5561 & 20.34507 & 0.3400354 & 0.8169406 & 0.8989458\\\\\n",
       "\t 0.9058784 & 35.12 & 8.12 & 24.22 & 1.42 & 225.1526 & 23.93220 & 0.2820590 & 0.8586744 & 0.8819917\\\\\n",
       "\t 0.9058784 & 42.14 & 8.20 & 28.78 & 1.34 & 222.7476 & 26.16670 & 0.2493476 & 0.8675633 & 0.8720742\\\\\n",
       "\t 0.9058784 & 48.30 & 8.26 & 32.52 & 1.30 & 219.4942 & 27.68999 & 0.2306994 & 0.8730431 & 0.8658533\\\\\n",
       "\\end{tabular}\n"
      ],
      "text/markdown": [
       "\n",
       "A tibble: 5 × 10\n",
       "\n",
       "| rf_accuracy &lt;dbl&gt; | n_decisions &lt;dbl&gt; | tp &lt;dbl&gt; | fp &lt;dbl&gt; | fn &lt;dbl&gt; | tp_imp &lt;dbl&gt; | fp_imp &lt;dbl&gt; | precision &lt;dbl&gt; | recall &lt;dbl&gt; | w_precision &lt;dbl&gt; |\n",
       "|---|---|---|---|---|---|---|---|---|---|\n",
       "| 0.9058784 | 13.52 | 5.98 |  5.42 | 3.36 | 199.4929 | 10.57733 | 0.5785970 | 0.6421162 | 0.9260560 |\n",
       "| 0.9058784 | 26.10 | 7.76 | 17.42 | 1.82 | 225.5561 | 20.34507 | 0.3400354 | 0.8169406 | 0.8989458 |\n",
       "| 0.9058784 | 35.12 | 8.12 | 24.22 | 1.42 | 225.1526 | 23.93220 | 0.2820590 | 0.8586744 | 0.8819917 |\n",
       "| 0.9058784 | 42.14 | 8.20 | 28.78 | 1.34 | 222.7476 | 26.16670 | 0.2493476 | 0.8675633 | 0.8720742 |\n",
       "| 0.9058784 | 48.30 | 8.26 | 32.52 | 1.30 | 219.4942 | 27.68999 | 0.2306994 | 0.8730431 | 0.8658533 |\n",
       "\n"
      ],
      "text/plain": [
       "  rf_accuracy n_decisions tp   fp    fn   tp_imp   fp_imp   precision recall   \n",
       "1 0.9058784   13.52       5.98  5.42 3.36 199.4929 10.57733 0.5785970 0.6421162\n",
       "2 0.9058784   26.10       7.76 17.42 1.82 225.5561 20.34507 0.3400354 0.8169406\n",
       "3 0.9058784   35.12       8.12 24.22 1.42 225.1526 23.93220 0.2820590 0.8586744\n",
       "4 0.9058784   42.14       8.20 28.78 1.34 222.7476 26.16670 0.2493476 0.8675633\n",
       "5 0.9058784   48.30       8.26 32.52 1.30 219.4942 27.68999 0.2306994 0.8730431\n",
       "  w_precision\n",
       "1 0.9260560  \n",
       "2 0.8989458  \n",
       "3 0.8819917  \n",
       "4 0.8720742  \n",
       "5 0.8658533  "
      ]
     },
     "metadata": {},
     "output_type": "display_data"
    }
   ],
   "source": [
    "check %>% group_by(alpha) %>% summarise_all(mean, na.rm = TRUE) %>% #subset(alpha != 10) %>% \n",
    "select(rf_accuracy, n_decisions, tp, fp, fn, tp_imp, fp_imp, precision, recall, w_precision) "
   ]
  },
  {
   "cell_type": "code",
   "execution_count": 27,
   "metadata": {
    "ExecuteTime": {
     "end_time": "2021-12-17T13:04:41.862828Z",
     "start_time": "2021-12-17T13:03:45.471Z"
    }
   },
   "outputs": [
    {
     "data": {
      "text/html": [
       "<table class=\"dataframe\">\n",
       "<caption>A tibble: 5 × 10</caption>\n",
       "<thead>\n",
       "\t<tr><th scope=col>rf_accuracy</th><th scope=col>n_decisions</th><th scope=col>tp</th><th scope=col>fp</th><th scope=col>fn</th><th scope=col>tp_imp</th><th scope=col>fp_imp</th><th scope=col>precision</th><th scope=col>recall</th><th scope=col>w_precision</th></tr>\n",
       "\t<tr><th scope=col>&lt;dbl&gt;</th><th scope=col>&lt;dbl&gt;</th><th scope=col>&lt;dbl&gt;</th><th scope=col>&lt;dbl&gt;</th><th scope=col>&lt;dbl&gt;</th><th scope=col>&lt;dbl&gt;</th><th scope=col>&lt;dbl&gt;</th><th scope=col>&lt;dbl&gt;</th><th scope=col>&lt;dbl&gt;</th><th scope=col>&lt;dbl&gt;</th></tr>\n",
       "</thead>\n",
       "<tbody>\n",
       "\t<tr><td>0.02310016</td><td> 5.470664</td><td>2.142762</td><td> 3.703776</td><td>2.220131</td><td>143.6663</td><td> 9.540971</td><td>0.18435851</td><td>0.2389765</td><td>0.08341997</td></tr>\n",
       "\t<tr><td>0.02310016</td><td> 9.463679</td><td>1.756155</td><td> 8.689872</td><td>1.976288</td><td>137.3991</td><td>17.180169</td><td>0.11138452</td><td>0.2017214</td><td>0.07610635</td></tr>\n",
       "\t<tr><td>0.02310016</td><td>12.894612</td><td>1.598979</td><td>11.258176</td><td>1.852632</td><td>134.3077</td><td>18.114229</td><td>0.10520535</td><td>0.1910722</td><td>0.09038170</td></tr>\n",
       "\t<tr><td>0.02310016</td><td>15.388851</td><td>1.525297</td><td>12.434793</td><td>1.813892</td><td>133.6264</td><td>18.900509</td><td>0.09838827</td><td>0.1856247</td><td>0.09361102</td></tr>\n",
       "\t<tr><td>0.02310016</td><td>17.708813</td><td>1.454199</td><td>14.494531</td><td>1.798525</td><td>132.4889</td><td>19.741646</td><td>0.09550695</td><td>0.1809680</td><td>0.09257037</td></tr>\n",
       "</tbody>\n",
       "</table>\n"
      ],
      "text/latex": [
       "A tibble: 5 × 10\n",
       "\\begin{tabular}{llllllllll}\n",
       " rf\\_accuracy & n\\_decisions & tp & fp & fn & tp\\_imp & fp\\_imp & precision & recall & w\\_precision\\\\\n",
       " <dbl> & <dbl> & <dbl> & <dbl> & <dbl> & <dbl> & <dbl> & <dbl> & <dbl> & <dbl>\\\\\n",
       "\\hline\n",
       "\t 0.02310016 &  5.470664 & 2.142762 &  3.703776 & 2.220131 & 143.6663 &  9.540971 & 0.18435851 & 0.2389765 & 0.08341997\\\\\n",
       "\t 0.02310016 &  9.463679 & 1.756155 &  8.689872 & 1.976288 & 137.3991 & 17.180169 & 0.11138452 & 0.2017214 & 0.07610635\\\\\n",
       "\t 0.02310016 & 12.894612 & 1.598979 & 11.258176 & 1.852632 & 134.3077 & 18.114229 & 0.10520535 & 0.1910722 & 0.09038170\\\\\n",
       "\t 0.02310016 & 15.388851 & 1.525297 & 12.434793 & 1.813892 & 133.6264 & 18.900509 & 0.09838827 & 0.1856247 & 0.09361102\\\\\n",
       "\t 0.02310016 & 17.708813 & 1.454199 & 14.494531 & 1.798525 & 132.4889 & 19.741646 & 0.09550695 & 0.1809680 & 0.09257037\\\\\n",
       "\\end{tabular}\n"
      ],
      "text/markdown": [
       "\n",
       "A tibble: 5 × 10\n",
       "\n",
       "| rf_accuracy &lt;dbl&gt; | n_decisions &lt;dbl&gt; | tp &lt;dbl&gt; | fp &lt;dbl&gt; | fn &lt;dbl&gt; | tp_imp &lt;dbl&gt; | fp_imp &lt;dbl&gt; | precision &lt;dbl&gt; | recall &lt;dbl&gt; | w_precision &lt;dbl&gt; |\n",
       "|---|---|---|---|---|---|---|---|---|---|\n",
       "| 0.02310016 |  5.470664 | 2.142762 |  3.703776 | 2.220131 | 143.6663 |  9.540971 | 0.18435851 | 0.2389765 | 0.08341997 |\n",
       "| 0.02310016 |  9.463679 | 1.756155 |  8.689872 | 1.976288 | 137.3991 | 17.180169 | 0.11138452 | 0.2017214 | 0.07610635 |\n",
       "| 0.02310016 | 12.894612 | 1.598979 | 11.258176 | 1.852632 | 134.3077 | 18.114229 | 0.10520535 | 0.1910722 | 0.09038170 |\n",
       "| 0.02310016 | 15.388851 | 1.525297 | 12.434793 | 1.813892 | 133.6264 | 18.900509 | 0.09838827 | 0.1856247 | 0.09361102 |\n",
       "| 0.02310016 | 17.708813 | 1.454199 | 14.494531 | 1.798525 | 132.4889 | 19.741646 | 0.09550695 | 0.1809680 | 0.09257037 |\n",
       "\n"
      ],
      "text/plain": [
       "  rf_accuracy n_decisions tp       fp        fn       tp_imp   fp_imp   \n",
       "1 0.02310016   5.470664   2.142762  3.703776 2.220131 143.6663  9.540971\n",
       "2 0.02310016   9.463679   1.756155  8.689872 1.976288 137.3991 17.180169\n",
       "3 0.02310016  12.894612   1.598979 11.258176 1.852632 134.3077 18.114229\n",
       "4 0.02310016  15.388851   1.525297 12.434793 1.813892 133.6264 18.900509\n",
       "5 0.02310016  17.708813   1.454199 14.494531 1.798525 132.4889 19.741646\n",
       "  precision  recall    w_precision\n",
       "1 0.18435851 0.2389765 0.08341997 \n",
       "2 0.11138452 0.2017214 0.07610635 \n",
       "3 0.10520535 0.1910722 0.09038170 \n",
       "4 0.09838827 0.1856247 0.09361102 \n",
       "5 0.09550695 0.1809680 0.09257037 "
      ]
     },
     "metadata": {},
     "output_type": "display_data"
    }
   ],
   "source": [
    "check %>% group_by(alpha) %>% summarise_all(sd, na.rm = TRUE) %>% \n",
    "select(rf_accuracy, n_decisions, tp, fp, fn, tp_imp, fp_imp, precision, recall, w_precision) "
   ]
  },
  {
   "cell_type": "code",
   "execution_count": 28,
   "metadata": {
    "ExecuteTime": {
     "end_time": "2021-12-17T13:04:41.897826Z",
     "start_time": "2021-12-17T13:03:46.716Z"
    }
   },
   "outputs": [
    {
     "data": {
      "text/html": [
       "<table class=\"dataframe\">\n",
       "<caption>A data.frame: 5 × 2</caption>\n",
       "<thead>\n",
       "\t<tr><th scope=col>alpha</th><th scope=col>n</th></tr>\n",
       "\t<tr><th scope=col>&lt;dbl&gt;</th><th scope=col>&lt;int&gt;</th></tr>\n",
       "</thead>\n",
       "<tbody>\n",
       "\t<tr><td> 1</td><td>50</td></tr>\n",
       "\t<tr><td> 5</td><td>50</td></tr>\n",
       "\t<tr><td>10</td><td>50</td></tr>\n",
       "\t<tr><td>15</td><td>50</td></tr>\n",
       "\t<tr><td>20</td><td>50</td></tr>\n",
       "</tbody>\n",
       "</table>\n"
      ],
      "text/latex": [
       "A data.frame: 5 × 2\n",
       "\\begin{tabular}{ll}\n",
       " alpha & n\\\\\n",
       " <dbl> & <int>\\\\\n",
       "\\hline\n",
       "\t  1 & 50\\\\\n",
       "\t  5 & 50\\\\\n",
       "\t 10 & 50\\\\\n",
       "\t 15 & 50\\\\\n",
       "\t 20 & 50\\\\\n",
       "\\end{tabular}\n"
      ],
      "text/markdown": [
       "\n",
       "A data.frame: 5 × 2\n",
       "\n",
       "| alpha &lt;dbl&gt; | n &lt;int&gt; |\n",
       "|---|---|\n",
       "|  1 | 50 |\n",
       "|  5 | 50 |\n",
       "| 10 | 50 |\n",
       "| 15 | 50 |\n",
       "| 20 | 50 |\n",
       "\n"
      ],
      "text/plain": [
       "  alpha n \n",
       "1  1    50\n",
       "2  5    50\n",
       "3 10    50\n",
       "4 15    50\n",
       "5 20    50"
      ]
     },
     "metadata": {},
     "output_type": "display_data"
    }
   ],
   "source": [
    "check[ complete.cases(check), ] %>% count(alpha)"
   ]
  },
  {
   "cell_type": "code",
   "execution_count": null,
   "metadata": {},
   "outputs": [],
   "source": []
  },
  {
   "cell_type": "code",
   "execution_count": null,
   "metadata": {},
   "outputs": [],
   "source": []
  }
 ],
 "metadata": {
  "kernelspec": {
   "display_name": "R [conda env:Metagenomes_methanogen-r-ml] *",
   "language": "R",
   "name": "conda-env-Metagenomes_methanogen-r-ml-r"
  },
  "language_info": {
   "codemirror_mode": "r",
   "file_extension": ".r",
   "mimetype": "text/x-r-source",
   "name": "R",
   "pygments_lexer": "r",
   "version": "4.0.3"
  },
  "notify_time": "30",
  "toc": {
   "base_numbering": 1,
   "nav_menu": {},
   "number_sections": true,
   "sideBar": true,
   "skip_h1_title": false,
   "title_cell": "Table of Contents",
   "title_sidebar": "Contents",
   "toc_cell": false,
   "toc_position": {
    "height": "calc(100% - 180px)",
    "left": "10px",
    "top": "150px",
    "width": "222px"
   },
   "toc_section_display": true,
   "toc_window_display": true
  }
 },
 "nbformat": 4,
 "nbformat_minor": 4
}
