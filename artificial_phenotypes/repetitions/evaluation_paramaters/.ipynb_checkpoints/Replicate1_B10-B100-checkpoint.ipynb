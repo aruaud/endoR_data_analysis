{
 "cells": [
  {
   "cell_type": "markdown",
   "metadata": {},
   "source": [
    "# Preambule"
   ]
  },
  {
   "cell_type": "markdown",
   "metadata": {},
   "source": [
    "## libraries"
   ]
  },
  {
   "cell_type": "code",
   "execution_count": 1,
   "metadata": {
    "ExecuteTime": {
     "end_time": "2021-11-23T18:18:15.610187Z",
     "start_time": "2021-11-23T18:18:10.522Z"
    }
   },
   "outputs": [
    {
     "name": "stderr",
     "output_type": "stream",
     "text": [
      "── \u001b[1mAttaching packages\u001b[22m ────────────────────────────────────────────────────────────────────────────────────────────────────────────────────────────────────── tidyverse 1.3.0 ──\n",
      "\n",
      "\u001b[32m✔\u001b[39m \u001b[34mggplot2\u001b[39m 3.3.2     \u001b[32m✔\u001b[39m \u001b[34mpurrr  \u001b[39m 0.3.4\n",
      "\u001b[32m✔\u001b[39m \u001b[34mtibble \u001b[39m 3.0.4     \u001b[32m✔\u001b[39m \u001b[34mdplyr  \u001b[39m 1.0.2\n",
      "\u001b[32m✔\u001b[39m \u001b[34mtidyr  \u001b[39m 1.1.2     \u001b[32m✔\u001b[39m \u001b[34mstringr\u001b[39m 1.4.0\n",
      "\u001b[32m✔\u001b[39m \u001b[34mreadr  \u001b[39m 1.4.0     \u001b[32m✔\u001b[39m \u001b[34mforcats\u001b[39m 0.5.0\n",
      "\n",
      "── \u001b[1mConflicts\u001b[22m ───────────────────────────────────────────────────────────────────────────────────────────────────────────────────────────────────────── tidyverse_conflicts() ──\n",
      "\u001b[31m✖\u001b[39m \u001b[34mdplyr\u001b[39m::\u001b[32mfilter()\u001b[39m masks \u001b[34mstats\u001b[39m::filter()\n",
      "\u001b[31m✖\u001b[39m \u001b[34mdplyr\u001b[39m::\u001b[32mlag()\u001b[39m    masks \u001b[34mstats\u001b[39m::lag()\n",
      "\n",
      "Loading required package: lattice\n",
      "\n",
      "\n",
      "Attaching package: ‘caret’\n",
      "\n",
      "\n",
      "The following object is masked from ‘package:purrr’:\n",
      "\n",
      "    lift\n",
      "\n",
      "\n",
      "\n",
      "Attaching package: ‘data.table’\n",
      "\n",
      "\n",
      "The following objects are masked from ‘package:dplyr’:\n",
      "\n",
      "    between, first, last\n",
      "\n",
      "\n",
      "The following object is masked from ‘package:purrr’:\n",
      "\n",
      "    transpose\n",
      "\n",
      "\n",
      "randomForest 4.6-14\n",
      "\n",
      "Type rfNews() to see new features/changes/bug fixes.\n",
      "\n",
      "\n",
      "Attaching package: ‘randomForest’\n",
      "\n",
      "\n",
      "The following object is masked from ‘package:dplyr’:\n",
      "\n",
      "    combine\n",
      "\n",
      "\n",
      "The following object is masked from ‘package:ggplot2’:\n",
      "\n",
      "    margin\n",
      "\n",
      "\n",
      "qs v0.23.4.\n",
      "\n",
      "\n",
      "Attaching package: ‘igraph’\n",
      "\n",
      "\n",
      "The following objects are masked from ‘package:dplyr’:\n",
      "\n",
      "    as_data_frame, groups, union\n",
      "\n",
      "\n",
      "The following objects are masked from ‘package:purrr’:\n",
      "\n",
      "    compose, simplify\n",
      "\n",
      "\n",
      "The following object is masked from ‘package:tidyr’:\n",
      "\n",
      "    crossing\n",
      "\n",
      "\n",
      "The following object is masked from ‘package:tibble’:\n",
      "\n",
      "    as_data_frame\n",
      "\n",
      "\n",
      "The following objects are masked from ‘package:stats’:\n",
      "\n",
      "    decompose, spectrum\n",
      "\n",
      "\n",
      "The following object is masked from ‘package:base’:\n",
      "\n",
      "    union\n",
      "\n",
      "\n",
      "Registered S3 method overwritten by 'RRF':\n",
      "  method      from        \n",
      "  plot.margin randomForest\n",
      "\n",
      "RRF 1.9.1\n",
      "\n",
      "Type rrfNews() to see new features/changes/bug fixes.\n",
      "\n",
      "\n",
      "Attaching package: ‘RRF’\n",
      "\n",
      "\n",
      "The following objects are masked from ‘package:randomForest’:\n",
      "\n",
      "    classCenter, combine, getTree, grow, importance, margin, MDSplot,\n",
      "    na.roughfix, outlier, partialPlot, treesize, varImpPlot, varUsed\n",
      "\n",
      "\n",
      "The following object is masked from ‘package:dplyr’:\n",
      "\n",
      "    combine\n",
      "\n",
      "\n",
      "The following object is masked from ‘package:ggplot2’:\n",
      "\n",
      "    margin\n",
      "\n",
      "\n"
     ]
    }
   ],
   "source": [
    "library(tidyverse)\n",
    "library(stringr)\n",
    "library(caret)\n",
    "library(data.table)\n",
    "library(stringr)\n",
    "library(dplyr)\n",
    "library(randomForest)\n",
    "library(qs)\n",
    "library(parallel)\n",
    "library(igraph)\n",
    "library(ggraph)\n",
    "library(inTrees)\n",
    "library(RRF)\n",
    "library(clustermq)"
   ]
  },
  {
   "cell_type": "code",
   "execution_count": 2,
   "metadata": {
    "ExecuteTime": {
     "end_time": "2021-11-23T18:18:15.684645Z",
     "start_time": "2021-11-23T18:18:11.075Z"
    }
   },
   "outputs": [
    {
     "name": "stderr",
     "output_type": "stream",
     "text": [
      "Loading required package: viridisLite\n",
      "\n"
     ]
    }
   ],
   "source": [
    "library(viridis)"
   ]
  },
  {
   "cell_type": "code",
   "execution_count": 3,
   "metadata": {
    "ExecuteTime": {
     "end_time": "2021-11-23T18:18:26.896263Z",
     "start_time": "2021-11-23T18:18:26.526Z"
    }
   },
   "outputs": [
    {
     "name": "stderr",
     "output_type": "stream",
     "text": [
      "Warning message:\n",
      "“replacing previous import ‘data.table::last’ by ‘dplyr::last’ when loading ‘endoR’”\n",
      "Warning message:\n",
      "“replacing previous import ‘data.table::first’ by ‘dplyr::first’ when loading ‘endoR’”\n",
      "Warning message:\n",
      "“replacing previous import ‘data.table::between’ by ‘dplyr::between’ when loading ‘endoR’”\n",
      "Warning message:\n",
      "“replacing previous import ‘dplyr::union’ by ‘igraph::union’ when loading ‘endoR’”\n",
      "Warning message:\n",
      "“replacing previous import ‘dplyr::as_data_frame’ by ‘igraph::as_data_frame’ when loading ‘endoR’”\n",
      "Warning message:\n",
      "“replacing previous import ‘dplyr::groups’ by ‘igraph::groups’ when loading ‘endoR’”\n"
     ]
    }
   ],
   "source": [
    "library(endoR)"
   ]
  },
  {
   "cell_type": "code",
   "execution_count": 4,
   "metadata": {
    "ExecuteTime": {
     "end_time": "2021-11-23T18:18:29.165884Z",
     "start_time": "2021-11-23T18:18:28.775Z"
    }
   },
   "outputs": [
    {
     "data": {
      "text/plain": [
       "R version 4.0.3 (2020-10-10)\n",
       "Platform: x86_64-conda-linux-gnu (64-bit)\n",
       "Running under: Ubuntu 18.04.6 LTS\n",
       "\n",
       "Matrix products: default\n",
       "BLAS/LAPACK: /ebio/abt3_projects/Methanogen_SCFA/Metagenomes_methanogen/envs/r-ml/lib/libopenblasp-r0.3.10.so\n",
       "\n",
       "locale:\n",
       " [1] LC_CTYPE=en_US.UTF-8       LC_NUMERIC=C              \n",
       " [3] LC_TIME=en_US.UTF-8        LC_COLLATE=en_US.UTF-8    \n",
       " [5] LC_MONETARY=en_US.UTF-8    LC_MESSAGES=en_US.UTF-8   \n",
       " [7] LC_PAPER=en_US.UTF-8       LC_NAME=C                 \n",
       " [9] LC_ADDRESS=C               LC_TELEPHONE=C            \n",
       "[11] LC_MEASUREMENT=en_US.UTF-8 LC_IDENTIFICATION=C       \n",
       "\n",
       "attached base packages:\n",
       "[1] parallel  stats     graphics  grDevices utils     datasets  methods  \n",
       "[8] base     \n",
       "\n",
       "other attached packages:\n",
       " [1] endoR_0.1.0         viridis_0.5.1       viridisLite_0.3.0  \n",
       " [4] clustermq_0.8.95.1  RRF_1.9.1           inTrees_1.3        \n",
       " [7] ggraph_2.0.4        igraph_1.2.6        qs_0.23.4          \n",
       "[10] randomForest_4.6-14 data.table_1.13.4   caret_6.0-86       \n",
       "[13] lattice_0.20-41     forcats_0.5.0       stringr_1.4.0      \n",
       "[16] dplyr_1.0.2         purrr_0.3.4         readr_1.4.0        \n",
       "[19] tidyr_1.1.2         tibble_3.0.4        ggplot2_3.3.2      \n",
       "[22] tidyverse_1.3.0    \n",
       "\n",
       "loaded via a namespace (and not attached):\n",
       " [1] colorspace_2.0-0     ellipsis_0.3.1       class_7.3-17        \n",
       " [4] IRdisplay_0.7.0      base64enc_0.1-3      fs_1.5.0            \n",
       " [7] rstudioapi_0.13      farver_2.0.3         graphlayouts_0.7.1  \n",
       "[10] ggrepel_0.8.2        prodlim_2019.11.13   fansi_0.4.1         \n",
       "[13] lubridate_1.7.9.2    ranger_0.12.1        xml2_1.3.2          \n",
       "[16] codetools_0.2-18     splines_4.0.3        arules_1.6-6        \n",
       "[19] polyclip_1.10-0      IRkernel_1.1.1       jsonlite_1.7.2      \n",
       "[22] pROC_1.16.2          broom_0.7.2          dbplyr_2.0.0        \n",
       "[25] ggforce_0.3.2        compiler_4.0.3       httr_1.4.2          \n",
       "[28] backports_1.2.0      assertthat_0.2.1     Matrix_1.2-18       \n",
       "[31] cli_2.2.0            tweenr_1.0.1         htmltools_0.5.0     \n",
       "[34] tools_4.0.3          gtable_0.3.0         glue_1.4.2          \n",
       "[37] reshape2_1.4.4       Rcpp_1.0.5           cellranger_1.1.0    \n",
       "[40] vctrs_0.3.6          nlme_3.1-150         iterators_1.0.13    \n",
       "[43] timeDate_3043.102    gower_0.2.2          ps_1.5.0            \n",
       "[46] rvest_0.3.6          lifecycle_0.2.0      MASS_7.3-53         \n",
       "[49] scales_1.1.1         ipred_0.9-9          tidygraph_1.2.0     \n",
       "[52] hms_0.5.3            gridExtra_2.3        rpart_4.1-15        \n",
       "[55] stringi_1.5.3        foreach_1.5.1        lava_1.6.8.1        \n",
       "[58] repr_1.1.2.9000      rlang_0.4.10         pkgconfig_2.0.3     \n",
       "[61] evaluate_0.14        recipes_0.1.15       tidyselect_1.1.0    \n",
       "[64] gbm_2.1.8            plyr_1.8.6           magrittr_2.0.1      \n",
       "[67] R6_2.5.0             generics_0.1.0       pbdZMQ_0.3-3.1      \n",
       "[70] DBI_1.1.0            pillar_1.4.7         haven_2.3.1         \n",
       "[73] withr_2.3.0          survival_3.2-7       nnet_7.3-14         \n",
       "[76] modelr_0.1.8         crayon_1.3.4         xgboost_1.2.0.1     \n",
       "[79] uuid_0.1-4           RApiSerialize_0.1.0  grid_4.0.3          \n",
       "[82] readxl_1.3.1         ModelMetrics_1.2.2.2 reprex_0.3.0        \n",
       "[85] digest_0.6.27        xtable_1.8-4         RcppParallel_5.0.2  \n",
       "[88] stats4_4.0.3         munsell_0.5.0        stringfish_0.14.2   "
      ]
     },
     "metadata": {},
     "output_type": "display_data"
    }
   ],
   "source": [
    "sessionInfo()"
   ]
  },
  {
   "cell_type": "markdown",
   "metadata": {},
   "source": [
    "## functions"
   ]
  },
  {
   "cell_type": "code",
   "execution_count": 34,
   "metadata": {
    "ExecuteTime": {
     "end_time": "2021-11-24T08:10:54.660821Z",
     "start_time": "2021-11-24T08:10:51.785Z"
    }
   },
   "outputs": [],
   "source": [
    "file.sources <- list.files('../scripts/', pattern = '*.R', full.names=TRUE, ignore.case=TRUE)\n",
    "for (f in file.sources) {\n",
    "    source(f)\n",
    "}\n",
    "rm('file.sources', 'f')"
   ]
  },
  {
   "cell_type": "code",
   "execution_count": 6,
   "metadata": {
    "ExecuteTime": {
     "end_time": "2021-11-23T18:18:52.738901Z",
     "start_time": "2021-11-23T18:18:52.671Z"
    }
   },
   "outputs": [],
   "source": [
    "wrappy <- function(seedN = 0, rf_fs, target, data\n",
    "                   , path = '/ebio/abt3_projects/temp_data/aruaud/MtgSimu50/p005_B100-10same_1/'\n",
    "                   , times = 100, p=0.5\n",
    "                   , discretize = TRUE, K = 2, prune = TRUE\n",
    "                   ,in_parallel = TRUE, n_cores = 10){\n",
    "    \n",
    "    pPos <- round(sum(target == '1')/length(target), digits = 1)\n",
    "    sample_weight <- c(pPos, 1-pPos)\n",
    "    \n",
    "    # network\n",
    "    message('Run endoR')\n",
    "    resampled <- \n",
    "        model2DE_resampling(model = rf_fs, model_type = 'rf', dummy_var = 'group'\n",
    "                     ,times = times, p = p, sample_weight = sample_weight\n",
    "                     ,ntree = 'all' \n",
    "                     ,data = data, target = target, classPos = '1'\n",
    "                     ,discretize = discretize, K = K\n",
    "                     ,prune = prune, seed = seedN\n",
    "                     ,in_parallel = in_parallel, n_cores = n_cores\n",
    "                    ) \n",
    "    \n",
    "    message('Save the object')\n",
    "    fname <- paste0(path, 'simu',seedN, '.qs')\n",
    "    qsave(x = resampled$resamp, file = fname)\n",
    "    return('success!')\n",
    "}"
   ]
  },
  {
   "cell_type": "markdown",
   "metadata": {},
   "source": [
    "# Data"
   ]
  },
  {
   "cell_type": "code",
   "execution_count": 7,
   "metadata": {
    "ExecuteTime": {
     "end_time": "2021-04-01T15:43:26.244382Z",
     "start_time": "2021-04-01T15:43:22.691Z"
    }
   },
   "outputs": [],
   "source": [
    "meta <- c('dataset','Sample','age','gender','country','BMI','westernized', 'number_reads')"
   ]
  },
  {
   "cell_type": "code",
   "execution_count": 7,
   "metadata": {
    "ExecuteTime": {
     "end_time": "2021-11-23T18:19:27.867017Z",
     "start_time": "2021-11-23T18:19:27.778Z"
    }
   },
   "outputs": [],
   "source": [
    "rules <- qread('../tmp/ruleExec_full.qs')\n",
    "related_taxa <- qread('../tmp/related_taxa_full.qs')\n",
    "X <- qread('../tmp/X.qs')"
   ]
  },
  {
   "cell_type": "code",
   "execution_count": 8,
   "metadata": {
    "ExecuteTime": {
     "end_time": "2021-11-23T18:19:30.988612Z",
     "start_time": "2021-11-23T18:19:30.928Z"
    }
   },
   "outputs": [],
   "source": [
    "is_s <- str_which(names(related_taxa), pattern = '^s_')\n",
    "related_taxa[is_s] <- related_taxa[is_s] %>% lapply(function(x){str_subset(x, pattern = '^s|g')})\n",
    "related_taxa$groupa <- 'groupa'\n",
    "related_taxa$groupb <- 'groupb'\n",
    "related_taxa$groupc <- 'groupc'\n",
    "related_taxa$groupd <- 'groupd'"
   ]
  },
  {
   "cell_type": "code",
   "execution_count": 9,
   "metadata": {
    "ExecuteTime": {
     "end_time": "2021-11-23T18:19:33.447459Z",
     "start_time": "2021-11-23T18:19:33.315Z"
    }
   },
   "outputs": [],
   "source": [
    "fnames <- list.files('/ebio/abt3_projects/temp_data/aruaud/MtgSimu50/', full.names = TRUE, recursive = TRUE\n",
    "                    )%>% str_subset(pattern = 'B100/')\n"
   ]
  },
  {
   "cell_type": "code",
   "execution_count": 10,
   "metadata": {
    "ExecuteTime": {
     "end_time": "2021-11-23T18:19:37.009333Z",
     "start_time": "2021-11-23T18:19:34.575Z"
    }
   },
   "outputs": [
    {
     "data": {
      "text/html": [
       "'/ebio/abt3_projects/temp_data/aruaud/MtgSimu50//p005_B100/simu151_p0_05.qs'"
      ],
      "text/latex": [
       "'/ebio/abt3\\_projects/temp\\_data/aruaud/MtgSimu50//p005\\_B100/simu151\\_p0\\_05.qs'"
      ],
      "text/markdown": [
       "'/ebio/abt3_projects/temp_data/aruaud/MtgSimu50//p005_B100/simu151_p0_05.qs'"
      ],
      "text/plain": [
       "[1] \"/ebio/abt3_projects/temp_data/aruaud/MtgSimu50//p005_B100/simu151_p0_05.qs\""
      ]
     },
     "metadata": {},
     "output_type": "display_data"
    }
   ],
   "source": [
    "res <- qread(fnames[1])\n",
    "fnames[1]"
   ]
  },
  {
   "cell_type": "markdown",
   "metadata": {},
   "source": [
    "# B=100 "
   ]
  },
  {
   "cell_type": "markdown",
   "metadata": {},
   "source": [
    "## get"
   ]
  },
  {
   "cell_type": "code",
   "execution_count": 11,
   "metadata": {
    "ExecuteTime": {
     "end_time": "2021-03-31T12:40:32.161992Z",
     "start_time": "2021-03-31T12:40:21.073Z"
    },
    "deletable": false,
    "editable": false,
    "run_control": {
     "frozen": true
    }
   },
   "outputs": [],
   "source": [
    "n_cores <- 30\n",
    "tmpl <- list(conda = \"r-ml\", cores = n_cores, job_time = '24:00:00', job_mem = '20G')"
   ]
  },
  {
   "cell_type": "code",
   "execution_count": 12,
   "metadata": {
    "ExecuteTime": {
     "end_time": "2021-03-31T15:43:03.882508Z",
     "start_time": "2021-03-31T12:40:39.374Z"
    },
    "deletable": false,
    "editable": false,
    "run_control": {
     "frozen": true
    },
    "scrolled": true
   },
   "outputs": [
    {
     "name": "stderr",
     "output_type": "stream",
     "text": [
      "Warning message in (function (...) :\n",
      "“Common data is 7.5 Mb. Recommended limit is  (set by clustermq.data.warning option)”\n",
      "Submitting 10 worker jobs (ID: cmq9669) ...\n",
      "\n",
      "Running 10 calculations (11 objs/7.5 Mb common; 1 calls/chunk) ...\n",
      "\n",
      "\n",
      "[---------------------------------------------------]   0% (1/10 wrk) eta:  ?s\n",
      "\n",
      "[---------------------------------------------------]   0% (2/10 wrk) eta:  ?s\n",
      "\n",
      "[---------------------------------------------------]   0% (3/10 wrk) eta:  ?s\n",
      "\n",
      "[---------------------------------------------------]   0% (4/10 wrk) eta:  ?s\n",
      "\n",
      "[---------------------------------------------------]   0% (5/10 wrk) eta:  ?s\n",
      "\n",
      "[---------------------------------------------------]   0% (6/10 wrk) eta:  ?s\n",
      "\n",
      "[---------------------------------------------------]   0% (7/10 wrk) eta:  ?s\n",
      "\n",
      "[---------------------------------------------------]   0% (8/10 wrk) eta:  ?s\n",
      "\n",
      "[---------------------------------------------------]   0% (9/10 wrk) eta:  ?s\n",
      "\n",
      "[--------------------------------------------------]   0% (10/10 wrk) eta:  ?s\n",
      "\n",
      "[====>---------------------------------------------]  10% (10/10 wrk) eta: 18h\n",
      "\n",
      "[=========>------------------------------------------]  20% (9/9 wrk) eta:  8h\n",
      "\n",
      "[===============>------------------------------------]  30% (8/8 wrk) eta:  5h\n",
      "\n",
      "[====================>-------------------------------]  40% (7/7 wrk) eta:  3h\n",
      "\n",
      "[=========================>--------------------------]  50% (6/6 wrk) eta:  2h\n",
      "\n",
      "[==============================>---------------------]  60% (5/5 wrk) eta:  1h\n",
      "\n",
      "[===================================>----------------]  70% (4/4 wrk) eta:  1h\n",
      "\n",
      "[=========================================>----------]  80% (3/3 wrk) eta: 35m\n",
      "\n",
      "[==============================================>-----]  90% (2/2 wrk) eta: 16m\n",
      "\n",
      "[====================================================] 100% (1/1 wrk) eta:  0s\n",
      "                                                                              \n",
      "\n",
      "Master: [10943.4s 0.0% CPU]; Worker: [avg 5.4% CPU, max 1595.4 Mb]\n",
      "\n"
     ]
    }
   ],
   "source": [
    "simu <- Q(wrappy, fail_on_error = TRUE\n",
    "  , seedN = 1:10\n",
    "  , const=list(rf_fs = res$rf, target = res$target, data = res$data\n",
    "               ,times = 100, p=0.5\n",
    "               , discretize = TRUE, K = 2, prune = TRUE\n",
    "               , in_parallel = TRUE, n_cores = n_cores\n",
    "               , path = '/ebio/abt3_projects/temp_data/aruaud/MtgSimu50/p005_B100-10same_1/'\n",
    "              )\n",
    "  #, export = list('metricsNet'=metricsNet, 'getNetMeasures'=getNetMeasures\n",
    "  #                )\n",
    "  , n_jobs= 10\n",
    "  , pkgs=c('data.table', 'randomForest'\n",
    "           , 'parallel', 'caret', 'stringr', 'scales', 'dplyr', 'inTrees'\n",
    "           , 'babR', 'qs', 'RRF', 'tidyverse')\n",
    "  , log_worker=FALSE\n",
    "  , template = tmpl\n",
    " )"
   ]
  },
  {
   "cell_type": "markdown",
   "metadata": {},
   "source": [
    "## aggregate b=100"
   ]
  },
  {
   "cell_type": "code",
   "execution_count": 11,
   "metadata": {
    "ExecuteTime": {
     "end_time": "2021-11-23T18:19:49.395709Z",
     "start_time": "2021-11-23T18:19:49.348Z"
    }
   },
   "outputs": [],
   "source": [
    "#fnames <- list.files('/ebio/abt3_projects/temp_data/aruaud/MtgSimu50/p005_B100-10same_1/', full.names = TRUE, recursive = TRUE)"
   ]
  },
  {
   "cell_type": "code",
   "execution_count": 12,
   "metadata": {
    "ExecuteTime": {
     "end_time": "2021-11-23T18:21:11.489535Z",
     "start_time": "2021-11-23T18:19:49.947Z"
    }
   },
   "outputs": [],
   "source": [
    "res_b100 <- list()\n",
    "\n",
    "for (i in 1:10){\n",
    "    res_b100[[i]] <- res\n",
    "    res_b100[[i]]$resampled <- qread(fnames[i])\n",
    "}"
   ]
  },
  {
   "cell_type": "markdown",
   "metadata": {},
   "source": [
    "# Results b=10"
   ]
  },
  {
   "cell_type": "code",
   "execution_count": 13,
   "metadata": {
    "ExecuteTime": {
     "end_time": "2021-11-23T18:21:20.614621Z",
     "start_time": "2021-11-23T18:21:20.529Z"
    }
   },
   "outputs": [],
   "source": [
    "res_b10 <- list()\n",
    "\n",
    "for (i in 0:9){\n",
    "    res_b10[[i+1]] <- res\n",
    "    res_b10[[i+1]]$resampled <- res_b10[[i+1]]$resampled[(i*10 + 1):((i+1)*10)]\n",
    "}"
   ]
  },
  {
   "cell_type": "markdown",
   "metadata": {},
   "source": [
    "# get curves"
   ]
  },
  {
   "cell_type": "code",
   "execution_count": 16,
   "metadata": {
    "ExecuteTime": {
     "end_time": "2021-11-23T18:21:33.542615Z",
     "start_time": "2021-11-23T18:21:26.887Z"
    }
   },
   "outputs": [],
   "source": [
    "#stopCluster(cluster)\n",
    "cluster <- makeCluster(7)\n",
    "quiet(clusterEvalQ(cluster, library(qs)))\n",
    "quiet(clusterEvalQ(cluster, library(endoR)))\n",
    "quiet(clusterEvalQ(cluster, library(tidyverse)))\n",
    "quiet(clusterExport(cluster, c('getSinglePR_singleB', 'metricsNet', 'quiet' )))"
   ]
  },
  {
   "cell_type": "code",
   "execution_count": 17,
   "metadata": {
    "ExecuteTime": {
     "end_time": "2021-11-23T18:21:37.182931Z",
     "start_time": "2021-11-23T18:21:27.052Z"
    }
   },
   "outputs": [],
   "source": [
    "b10_curves <- parLapply(cl = cluster, res_b10, getPR_singleB, alpha = 10, pi_thr = 0.7, related_taxa=related_taxa\n",
    "                     , all = (525^2-525)/2)"
   ]
  },
  {
   "cell_type": "code",
   "execution_count": 18,
   "metadata": {
    "ExecuteTime": {
     "end_time": "2021-11-23T18:24:15.450582Z",
     "start_time": "2021-11-23T18:21:27.216Z"
    }
   },
   "outputs": [],
   "source": [
    "b100_curves <- parLapply(cl = cluster, res_b100, getPR_singleB, alpha = 10, pi_thr = 0.7, related_taxa=related_taxa\n",
    "                     , all = (525^2-525)/2)"
   ]
  },
  {
   "cell_type": "code",
   "execution_count": 19,
   "metadata": {
    "ExecuteTime": {
     "end_time": "2021-11-23T18:24:15.491925Z",
     "start_time": "2021-11-23T18:21:29.347Z"
    }
   },
   "outputs": [],
   "source": [
    "stopCluster(cluster)"
   ]
  },
  {
   "cell_type": "code",
   "execution_count": 20,
   "metadata": {
    "ExecuteTime": {
     "end_time": "2021-11-23T18:24:15.560903Z",
     "start_time": "2021-11-23T18:21:29.572Z"
    }
   },
   "outputs": [],
   "source": [
    "b10_curves <- lapply(1:length(b10_curves), function(i,x){x[[i]]$rep <- i;return(x[[i]])}, x = b10_curves)\n",
    "b10_curves <- do.call(rbind, b10_curves)"
   ]
  },
  {
   "cell_type": "code",
   "execution_count": 21,
   "metadata": {
    "ExecuteTime": {
     "end_time": "2021-11-23T18:24:15.608138Z",
     "start_time": "2021-11-23T18:21:29.780Z"
    }
   },
   "outputs": [],
   "source": [
    "b100_curves <- lapply(1:length(b100_curves), function(i,x){x[[i]]$rep <- i;return(x[[i]])}, x = b100_curves)\n",
    "b100_curves <- do.call(rbind, b100_curves)"
   ]
  },
  {
   "cell_type": "code",
   "execution_count": 22,
   "metadata": {
    "ExecuteTime": {
     "end_time": "2021-11-23T18:24:15.660497Z",
     "start_time": "2021-11-23T18:21:29.992Z"
    }
   },
   "outputs": [
    {
     "data": {
      "text/html": [
       "'data.frame'"
      ],
      "text/latex": [
       "'data.frame'"
      ],
      "text/markdown": [
       "'data.frame'"
      ],
      "text/plain": [
       "[1] \"data.frame\""
      ]
     },
     "metadata": {},
     "output_type": "display_data"
    },
    {
     "data": {
      "text/html": [
       "<table class=\"dataframe\">\n",
       "<caption>A data.frame: 6 × 9</caption>\n",
       "<thead>\n",
       "\t<tr><th></th><th scope=col>n_edges</th><th scope=col>tp</th><th scope=col>fp</th><th scope=col>tn</th><th scope=col>fn</th><th scope=col>inN</th><th scope=col>B</th><th scope=col>K</th><th scope=col>rep</th></tr>\n",
       "\t<tr><th></th><th scope=col>&lt;dbl&gt;</th><th scope=col>&lt;dbl&gt;</th><th scope=col>&lt;dbl&gt;</th><th scope=col>&lt;dbl&gt;</th><th scope=col>&lt;dbl&gt;</th><th scope=col>&lt;dbl&gt;</th><th scope=col>&lt;int&gt;</th><th scope=col>&lt;int&gt;</th><th scope=col>&lt;int&gt;</th></tr>\n",
       "</thead>\n",
       "<tbody>\n",
       "\t<tr><th scope=row>837</th><td> 97</td><td>7</td><td> 87</td><td>137454</td><td>2</td><td>15</td><td>100</td><td>9</td><td>10</td></tr>\n",
       "\t<tr><th scope=row>838</th><td>108</td><td>7</td><td> 91</td><td>137450</td><td>2</td><td> 9</td><td>100</td><td>9</td><td>10</td></tr>\n",
       "\t<tr><th scope=row>839</th><td> 98</td><td>7</td><td> 88</td><td>137453</td><td>2</td><td>13</td><td>100</td><td>9</td><td>10</td></tr>\n",
       "\t<tr><th scope=row>840</th><td>161</td><td>9</td><td> 98</td><td>137443</td><td>0</td><td> 2</td><td>100</td><td>9</td><td>10</td></tr>\n",
       "\t<tr><th scope=row>841</th><td>201</td><td>9</td><td>101</td><td>137440</td><td>0</td><td> 1</td><td>100</td><td>9</td><td>10</td></tr>\n",
       "\t<tr><th scope=row>842</th><td>141</td><td>9</td><td> 97</td><td>137444</td><td>0</td><td> 3</td><td>100</td><td>9</td><td>10</td></tr>\n",
       "</tbody>\n",
       "</table>\n"
      ],
      "text/latex": [
       "A data.frame: 6 × 9\n",
       "\\begin{tabular}{r|lllllllll}\n",
       "  & n\\_edges & tp & fp & tn & fn & inN & B & K & rep\\\\\n",
       "  & <dbl> & <dbl> & <dbl> & <dbl> & <dbl> & <dbl> & <int> & <int> & <int>\\\\\n",
       "\\hline\n",
       "\t837 &  97 & 7 &  87 & 137454 & 2 & 15 & 100 & 9 & 10\\\\\n",
       "\t838 & 108 & 7 &  91 & 137450 & 2 &  9 & 100 & 9 & 10\\\\\n",
       "\t839 &  98 & 7 &  88 & 137453 & 2 & 13 & 100 & 9 & 10\\\\\n",
       "\t840 & 161 & 9 &  98 & 137443 & 0 &  2 & 100 & 9 & 10\\\\\n",
       "\t841 & 201 & 9 & 101 & 137440 & 0 &  1 & 100 & 9 & 10\\\\\n",
       "\t842 & 141 & 9 &  97 & 137444 & 0 &  3 & 100 & 9 & 10\\\\\n",
       "\\end{tabular}\n"
      ],
      "text/markdown": [
       "\n",
       "A data.frame: 6 × 9\n",
       "\n",
       "| <!--/--> | n_edges &lt;dbl&gt; | tp &lt;dbl&gt; | fp &lt;dbl&gt; | tn &lt;dbl&gt; | fn &lt;dbl&gt; | inN &lt;dbl&gt; | B &lt;int&gt; | K &lt;int&gt; | rep &lt;int&gt; |\n",
       "|---|---|---|---|---|---|---|---|---|---|\n",
       "| 837 |  97 | 7 |  87 | 137454 | 2 | 15 | 100 | 9 | 10 |\n",
       "| 838 | 108 | 7 |  91 | 137450 | 2 |  9 | 100 | 9 | 10 |\n",
       "| 839 |  98 | 7 |  88 | 137453 | 2 | 13 | 100 | 9 | 10 |\n",
       "| 840 | 161 | 9 |  98 | 137443 | 0 |  2 | 100 | 9 | 10 |\n",
       "| 841 | 201 | 9 | 101 | 137440 | 0 |  1 | 100 | 9 | 10 |\n",
       "| 842 | 141 | 9 |  97 | 137444 | 0 |  3 | 100 | 9 | 10 |\n",
       "\n"
      ],
      "text/plain": [
       "    n_edges tp fp  tn     fn inN B   K rep\n",
       "837  97     7   87 137454 2  15  100 9 10 \n",
       "838 108     7   91 137450 2   9  100 9 10 \n",
       "839  98     7   88 137453 2  13  100 9 10 \n",
       "840 161     9   98 137443 0   2  100 9 10 \n",
       "841 201     9  101 137440 0   1  100 9 10 \n",
       "842 141     9   97 137444 0   3  100 9 10 "
      ]
     },
     "metadata": {},
     "output_type": "display_data"
    }
   ],
   "source": [
    "b10_curves %>% class\n",
    "b100_curves %>% tail"
   ]
  },
  {
   "cell_type": "code",
   "execution_count": 23,
   "metadata": {
    "ExecuteTime": {
     "end_time": "2021-11-23T18:24:15.684953Z",
     "start_time": "2021-11-23T18:21:32.497Z"
    }
   },
   "outputs": [],
   "source": [
    "b_curves <- rbind(b10_curves, b100_curves)\n",
    "b_curves$rep <- paste0(b_curves$B, '_', b_curves$rep)"
   ]
  },
  {
   "cell_type": "code",
   "execution_count": 24,
   "metadata": {
    "ExecuteTime": {
     "end_time": "2021-11-23T18:24:15.774306Z",
     "start_time": "2021-11-23T18:21:32.675Z"
    }
   },
   "outputs": [],
   "source": [
    "suppressWarnings(b_av <- b_curves %>% select(-rep) %>% group_by(B, inN) %>% summarise_all(mean))"
   ]
  },
  {
   "cell_type": "markdown",
   "metadata": {},
   "source": [
    "# interpolate"
   ]
  },
  {
   "cell_type": "code",
   "execution_count": 25,
   "metadata": {
    "ExecuteTime": {
     "end_time": "2021-11-23T18:24:15.793009Z",
     "start_time": "2021-11-23T18:21:33.248Z"
    }
   },
   "outputs": [],
   "source": [
    "getInterpo <- function(i, raw){\n",
    "    raw <- subset(raw, rep == i)\n",
    "    res <- list()\n",
    "    \n",
    "    N <- unique(raw$Ncol)\n",
    "    N <- (N^2-N)/2\n",
    "    K <- unique(raw$K)\n",
    "    \n",
    "    j <- 1\n",
    "    for (a in unique(raw$B)){\n",
    "        tmp <- approx(raw$fp[raw$B == a]\n",
    "                       , raw$tp[raw$B == a]\n",
    "                       , xout = seq(1, 144, length.out = 1000)\n",
    "                       , ties = max)\n",
    "        tmp <- as.data.frame(do.call(cbind, tmp))\n",
    "        colnames(tmp) <- c('fp', 'tp')\n",
    "        \n",
    "        # add 0 and max values to the extrapolations\n",
    "        #mifp <- min(tmp$fp[!is.na(tmp$tp)])\n",
    "        mafp <- max(tmp$fp[!is.na(tmp$tp)])\n",
    "        #tmp$tp[tmp$fp<mifp] <- min(tmp$tp)\n",
    "        tmp$tp[tmp$fp>mafp] <- max(tmp$tp, na.rm = TRUE) #K\n",
    "        \n",
    "        tmp <- tmp[complete.cases(tmp),]\n",
    "        #tmp <- tmp %>% add_row(tp = 0, fp = 0)\n",
    "        tmp$B <- a\n",
    "\n",
    "        res[[i]] <- tmp\n",
    "        j <- j+1\n",
    "    }\n",
    "    res <- do.call(rbind, res)\n",
    "    res$rep <- i\n",
    "    \n",
    "    return(res)\n",
    "}"
   ]
  },
  {
   "cell_type": "code",
   "execution_count": 26,
   "metadata": {
    "ExecuteTime": {
     "end_time": "2021-11-23T18:24:15.904883Z",
     "start_time": "2021-11-23T18:21:45.261Z"
    }
   },
   "outputs": [],
   "source": [
    "b_byrep <- suppressWarnings(lapply(unique(b_curves$rep), getInterpo, raw = b_curves))"
   ]
  },
  {
   "cell_type": "code",
   "execution_count": 27,
   "metadata": {
    "ExecuteTime": {
     "end_time": "2021-11-23T18:24:16.318052Z",
     "start_time": "2021-11-23T18:21:45.486Z"
    }
   },
   "outputs": [],
   "source": [
    "b_byrep_av <- do.call(rbind, b_byrep) %>% select(-rep) %>% group_by(fp, B) %>% summarise_all(mean)\n",
    "b_byrep_sd <- do.call(rbind, b_byrep) %>% select(-rep) %>% group_by(fp, B) %>% summarise_all(sd)\n",
    "\n",
    "a10_forplots <- left_join(b_byrep_av, b_byrep_sd, by = c('fp', 'B'), suffix = c('_av', '_sd'))"
   ]
  },
  {
   "cell_type": "markdown",
   "metadata": {},
   "source": [
    "# plots"
   ]
  },
  {
   "cell_type": "code",
   "execution_count": 28,
   "metadata": {
    "ExecuteTime": {
     "end_time": "2021-11-23T18:24:16.341873Z",
     "start_time": "2021-11-23T18:21:53.270Z"
    }
   },
   "outputs": [],
   "source": [
    "b_av$B <- factor(b_av$B, levels = c('10', '100'))\n",
    "a10_forplots$B <- factor(a10_forplots$B, levels = c('10', '100'))"
   ]
  },
  {
   "cell_type": "code",
   "execution_count": 29,
   "metadata": {
    "ExecuteTime": {
     "end_time": "2021-11-23T18:24:16.364784Z",
     "start_time": "2021-11-23T18:21:54.516Z"
    }
   },
   "outputs": [],
   "source": [
    "perrep_forplots <- do.call(rbind, b_byrep)"
   ]
  },
  {
   "cell_type": "code",
   "execution_count": 30,
   "metadata": {
    "ExecuteTime": {
     "end_time": "2021-11-23T18:24:33.112005Z",
     "start_time": "2021-11-23T18:24:32.846Z"
    }
   },
   "outputs": [],
   "source": [
    "cols <- plasma(length(unique(b_av$B)) + 2)"
   ]
  },
  {
   "cell_type": "code",
   "execution_count": 31,
   "metadata": {
    "ExecuteTime": {
     "end_time": "2021-11-23T18:24:33.347893Z",
     "start_time": "2021-11-23T18:24:33.236Z"
    }
   },
   "outputs": [],
   "source": [
    "p_rep <- ggplot(b_curves %>% subset(fp < 100)\n",
    "             , aes(x = fp, y = tp, group = rep, color = as.factor(B)))+\n",
    "\n",
    "#geom_hline(yintercept = 9, color = 'lightgrey', linetype = 'dashed')+\n",
    "\n",
    "geom_line(size = .5, alpha = .5)+\n",
    "\n",
    "geom_point(data = b_av %>% subset((B == '10' & inN == 7) | (B == '100' & inN == 70))\n",
    "           , aes(y = tp, x = fp, fill = as.factor(B))\n",
    "           , size = 4, shape = 21, color = 'black', group = NA)+\n",
    "\n",
    "\n",
    "theme_classic()+\n",
    "labs(x = 'Number of FP', y = 'Number of TP') +\n",
    "scale_color_manual(values = cols[-c(1, length(cols))], name = 'B') +\n",
    "scale_fill_manual(values = cols[-c(1, length(cols))], name = 'B')\n"
   ]
  },
  {
   "cell_type": "code",
   "execution_count": 32,
   "metadata": {
    "ExecuteTime": {
     "end_time": "2021-11-23T18:24:34.209527Z",
     "start_time": "2021-11-23T18:24:34.105Z"
    }
   },
   "outputs": [],
   "source": [
    "wpforced <- ggplot(a10_forplots %>% subset(fp < 100)\n",
    "             , aes(x = fp, y = tp_av, group = B, color = as.factor(B)))+\n",
    "\n",
    "geom_hline(yintercept = 9, color = 'lightgrey', linetype = 'dashed')+\n",
    "\n",
    "geom_line(size = 1)+\n",
    "\n",
    "geom_ribbon(aes(ymin = tp_av - tp_sd/2, ymax = tp_av + tp_sd/2\n",
    "                , group = B, fill = as.factor(B)), color = NA\n",
    "            , alpha = 0.3) +\n",
    "geom_ribbon(data = a10_forplots %>% subset(fp < 100 & B == 100)\n",
    "            , aes(ymin = tp_av - tp_sd/2, ymax = tp_av + tp_sd/2\n",
    "                , group = B, fill = as.factor(B)), color = NA\n",
    "            , alpha = 0.4) +\n",
    "\n",
    "\n",
    "geom_point(data = b_av %>% subset((B == '10' & inN == 7) | (B == '100' & inN == 70))\n",
    "           , aes(y = tp, x = fp, fill = as.factor(B))\n",
    "           , size = 4, shape = 21, color = 'black')+\n",
    "\n",
    "\n",
    "theme_classic()+\n",
    "labs(x = 'Number of FP', y = 'Number of TP') +\n",
    "scale_color_manual(values = cols[-c(1, length(cols))], name = 'B') +\n",
    "scale_fill_manual(values = cols[-c(1, length(cols))], name = 'B')\n"
   ]
  },
  {
   "cell_type": "code",
   "execution_count": 33,
   "metadata": {
    "ExecuteTime": {
     "end_time": "2021-11-23T18:24:38.001990Z",
     "start_time": "2021-11-23T18:24:34.975Z"
    }
   },
   "outputs": [
    {
     "data": {
      "image/png": "[encoded data removed]",
      "text/plain": [
       "plot without title"
      ]
     },
     "metadata": {
      "image/png": {
       "height": 180,
       "width": 360
      }
     },
     "output_type": "display_data"
    },
    {
     "data": {
      "image/png": "[encoded data removed]",
      "text/plain": [
       "plot without title"
      ]
     },
     "metadata": {
      "image/png": {
       "height": 180,
       "width": 360
      }
     },
     "output_type": "display_data"
    }
   ],
   "source": [
    "options(repr.plot.width=6, repr.plot.height=3)\n",
    "wpforced\n",
    "p_rep"
   ]
  },
  {
   "cell_type": "code",
   "execution_count": 42,
   "metadata": {
    "ExecuteTime": {
     "end_time": "2021-04-01T15:48:24.900274Z",
     "start_time": "2021-04-01T15:48:22.365Z"
    }
   },
   "outputs": [
    {
     "data": {
      "text/html": [
       "<table class=\"dataframe\">\n",
       "<caption>A data.frame: 10 × 9</caption>\n",
       "<thead>\n",
       "\t<tr><th></th><th scope=col>n_edges</th><th scope=col>tp</th><th scope=col>fp</th><th scope=col>tn</th><th scope=col>fn</th><th scope=col>inN</th><th scope=col>B</th><th scope=col>K</th><th scope=col>rep</th></tr>\n",
       "\t<tr><th></th><th scope=col>&lt;dbl&gt;</th><th scope=col>&lt;dbl&gt;</th><th scope=col>&lt;dbl&gt;</th><th scope=col>&lt;dbl&gt;</th><th scope=col>&lt;dbl&gt;</th><th scope=col>&lt;dbl&gt;</th><th scope=col>&lt;int&gt;</th><th scope=col>&lt;int&gt;</th><th scope=col>&lt;chr&gt;</th></tr>\n",
       "</thead>\n",
       "<tbody>\n",
       "\t<tr><th scope=row>1</th><td>1</td><td>1</td><td>0</td><td>137541</td><td>8</td><td>100</td><td>100</td><td>9</td><td>100_1 </td></tr>\n",
       "\t<tr><th scope=row>2</th><td>4</td><td>1</td><td>3</td><td>137538</td><td>8</td><td>100</td><td>100</td><td>9</td><td>100_2 </td></tr>\n",
       "\t<tr><th scope=row>3</th><td>6</td><td>1</td><td>5</td><td>137536</td><td>8</td><td>100</td><td>100</td><td>9</td><td>100_3 </td></tr>\n",
       "\t<tr><th scope=row>4</th><td>4</td><td>1</td><td>3</td><td>137538</td><td>8</td><td>100</td><td>100</td><td>9</td><td>100_4 </td></tr>\n",
       "\t<tr><th scope=row>5</th><td>6</td><td>1</td><td>5</td><td>137536</td><td>8</td><td>100</td><td>100</td><td>9</td><td>100_5 </td></tr>\n",
       "\t<tr><th scope=row>6</th><td>6</td><td>1</td><td>5</td><td>137536</td><td>8</td><td>100</td><td>100</td><td>9</td><td>100_6 </td></tr>\n",
       "\t<tr><th scope=row>7</th><td>4</td><td>1</td><td>3</td><td>137538</td><td>8</td><td>100</td><td>100</td><td>9</td><td>100_7 </td></tr>\n",
       "\t<tr><th scope=row>8</th><td>6</td><td>1</td><td>5</td><td>137536</td><td>8</td><td>100</td><td>100</td><td>9</td><td>100_8 </td></tr>\n",
       "\t<tr><th scope=row>9</th><td>4</td><td>1</td><td>3</td><td>137538</td><td>8</td><td>100</td><td>100</td><td>9</td><td>100_9 </td></tr>\n",
       "\t<tr><th scope=row>10</th><td>6</td><td>1</td><td>5</td><td>137536</td><td>8</td><td>100</td><td>100</td><td>9</td><td>100_10</td></tr>\n",
       "</tbody>\n",
       "</table>\n"
      ],
      "text/latex": [
       "A data.frame: 10 × 9\n",
       "\\begin{tabular}{r|lllllllll}\n",
       "  & n\\_edges & tp & fp & tn & fn & inN & B & K & rep\\\\\n",
       "  & <dbl> & <dbl> & <dbl> & <dbl> & <dbl> & <dbl> & <int> & <int> & <chr>\\\\\n",
       "\\hline\n",
       "\t1 & 1 & 1 & 0 & 137541 & 8 & 100 & 100 & 9 & 100\\_1 \\\\\n",
       "\t2 & 4 & 1 & 3 & 137538 & 8 & 100 & 100 & 9 & 100\\_2 \\\\\n",
       "\t3 & 6 & 1 & 5 & 137536 & 8 & 100 & 100 & 9 & 100\\_3 \\\\\n",
       "\t4 & 4 & 1 & 3 & 137538 & 8 & 100 & 100 & 9 & 100\\_4 \\\\\n",
       "\t5 & 6 & 1 & 5 & 137536 & 8 & 100 & 100 & 9 & 100\\_5 \\\\\n",
       "\t6 & 6 & 1 & 5 & 137536 & 8 & 100 & 100 & 9 & 100\\_6 \\\\\n",
       "\t7 & 4 & 1 & 3 & 137538 & 8 & 100 & 100 & 9 & 100\\_7 \\\\\n",
       "\t8 & 6 & 1 & 5 & 137536 & 8 & 100 & 100 & 9 & 100\\_8 \\\\\n",
       "\t9 & 4 & 1 & 3 & 137538 & 8 & 100 & 100 & 9 & 100\\_9 \\\\\n",
       "\t10 & 6 & 1 & 5 & 137536 & 8 & 100 & 100 & 9 & 100\\_10\\\\\n",
       "\\end{tabular}\n"
      ],
      "text/markdown": [
       "\n",
       "A data.frame: 10 × 9\n",
       "\n",
       "| <!--/--> | n_edges &lt;dbl&gt; | tp &lt;dbl&gt; | fp &lt;dbl&gt; | tn &lt;dbl&gt; | fn &lt;dbl&gt; | inN &lt;dbl&gt; | B &lt;int&gt; | K &lt;int&gt; | rep &lt;chr&gt; |\n",
       "|---|---|---|---|---|---|---|---|---|---|\n",
       "| 1 | 1 | 1 | 0 | 137541 | 8 | 100 | 100 | 9 | 100_1  |\n",
       "| 2 | 4 | 1 | 3 | 137538 | 8 | 100 | 100 | 9 | 100_2  |\n",
       "| 3 | 6 | 1 | 5 | 137536 | 8 | 100 | 100 | 9 | 100_3  |\n",
       "| 4 | 4 | 1 | 3 | 137538 | 8 | 100 | 100 | 9 | 100_4  |\n",
       "| 5 | 6 | 1 | 5 | 137536 | 8 | 100 | 100 | 9 | 100_5  |\n",
       "| 6 | 6 | 1 | 5 | 137536 | 8 | 100 | 100 | 9 | 100_6  |\n",
       "| 7 | 4 | 1 | 3 | 137538 | 8 | 100 | 100 | 9 | 100_7  |\n",
       "| 8 | 6 | 1 | 5 | 137536 | 8 | 100 | 100 | 9 | 100_8  |\n",
       "| 9 | 4 | 1 | 3 | 137538 | 8 | 100 | 100 | 9 | 100_9  |\n",
       "| 10 | 6 | 1 | 5 | 137536 | 8 | 100 | 100 | 9 | 100_10 |\n",
       "\n"
      ],
      "text/plain": [
       "   n_edges tp fp tn     fn inN B   K rep   \n",
       "1  1       1  0  137541 8  100 100 9 100_1 \n",
       "2  4       1  3  137538 8  100 100 9 100_2 \n",
       "3  6       1  5  137536 8  100 100 9 100_3 \n",
       "4  4       1  3  137538 8  100 100 9 100_4 \n",
       "5  6       1  5  137536 8  100 100 9 100_5 \n",
       "6  6       1  5  137536 8  100 100 9 100_6 \n",
       "7  4       1  3  137538 8  100 100 9 100_7 \n",
       "8  6       1  5  137536 8  100 100 9 100_8 \n",
       "9  4       1  3  137538 8  100 100 9 100_9 \n",
       "10 6       1  5  137536 8  100 100 9 100_10"
      ]
     },
     "metadata": {},
     "output_type": "display_data"
    }
   ],
   "source": [
    "b_curves %>% subset(B == 100) %>% arrange(-inN) %>% head(10)"
   ]
  },
  {
   "cell_type": "code",
   "execution_count": null,
   "metadata": {},
   "outputs": [],
   "source": []
  }
 ],
 "metadata": {
  "kernelspec": {
   "display_name": "R [conda env:Metagenomes_methanogen-r-ml] *",
   "language": "R",
   "name": "conda-env-Metagenomes_methanogen-r-ml-r"
  },
  "language_info": {
   "codemirror_mode": "r",
   "file_extension": ".r",
   "mimetype": "text/x-r-source",
   "name": "R",
   "pygments_lexer": "r",
   "version": "4.0.3"
  },
  "notify_time": "30",
  "toc": {
   "base_numbering": 1,
   "nav_menu": {},
   "number_sections": true,
   "sideBar": true,
   "skip_h1_title": false,
   "title_cell": "Table of Contents",
   "title_sidebar": "Contents",
   "toc_cell": false,
   "toc_position": {
    "height": "calc(100% - 180px)",
    "left": "10px",
    "top": "150px",
    "width": "175.2px"
   },
   "toc_section_display": true,
   "toc_window_display": true
  }
 },
 "nbformat": 4,
 "nbformat_minor": 4
}
