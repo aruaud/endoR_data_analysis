{
 "cells": [
  {
   "cell_type": "markdown",
   "metadata": {},
   "source": [
    "Template notebook to get replicates: \n",
    "- for each set of simulations, the same template was ran with parameters adjusted as needed and indicated in the manuscript\n",
    "- data were gathered and formatted in the other notebooks from this folder"
   ]
  },
  {
   "cell_type": "markdown",
   "metadata": {},
   "source": [
    "# Preambule"
   ]
  },
  {
   "cell_type": "markdown",
   "metadata": {},
   "source": [
    "## libraries"
   ]
  },
  {
   "cell_type": "code",
   "execution_count": 1,
   "metadata": {
    "ExecuteTime": {
     "end_time": "2021-11-24T08:34:33.899044Z",
     "start_time": "2021-11-24T08:34:25.771Z"
    }
   },
   "outputs": [
    {
     "name": "stderr",
     "output_type": "stream",
     "text": [
      "── \u001b[1mAttaching packages\u001b[22m ────────────────────────────────────────────────────────────────────────────────────────────────────────────────────────────────────── tidyverse 1.3.0 ──\n",
      "\n",
      "\u001b[32m✔\u001b[39m \u001b[34mggplot2\u001b[39m 3.3.2     \u001b[32m✔\u001b[39m \u001b[34mpurrr  \u001b[39m 0.3.4\n",
      "\u001b[32m✔\u001b[39m \u001b[34mtibble \u001b[39m 3.0.4     \u001b[32m✔\u001b[39m \u001b[34mdplyr  \u001b[39m 1.0.2\n",
      "\u001b[32m✔\u001b[39m \u001b[34mtidyr  \u001b[39m 1.1.2     \u001b[32m✔\u001b[39m \u001b[34mstringr\u001b[39m 1.4.0\n",
      "\u001b[32m✔\u001b[39m \u001b[34mreadr  \u001b[39m 1.4.0     \u001b[32m✔\u001b[39m \u001b[34mforcats\u001b[39m 0.5.0\n",
      "\n",
      "── \u001b[1mConflicts\u001b[22m ───────────────────────────────────────────────────────────────────────────────────────────────────────────────────────────────────────── tidyverse_conflicts() ──\n",
      "\u001b[31m✖\u001b[39m \u001b[34mdplyr\u001b[39m::\u001b[32mfilter()\u001b[39m masks \u001b[34mstats\u001b[39m::filter()\n",
      "\u001b[31m✖\u001b[39m \u001b[34mdplyr\u001b[39m::\u001b[32mlag()\u001b[39m    masks \u001b[34mstats\u001b[39m::lag()\n",
      "\n",
      "Loading required package: lattice\n",
      "\n",
      "\n",
      "Attaching package: ‘caret’\n",
      "\n",
      "\n",
      "The following object is masked from ‘package:purrr’:\n",
      "\n",
      "    lift\n",
      "\n",
      "\n",
      "\n",
      "Attaching package: ‘data.table’\n",
      "\n",
      "\n",
      "The following objects are masked from ‘package:dplyr’:\n",
      "\n",
      "    between, first, last\n",
      "\n",
      "\n",
      "The following object is masked from ‘package:purrr’:\n",
      "\n",
      "    transpose\n",
      "\n",
      "\n",
      "qs v0.23.4.\n",
      "\n"
     ]
    }
   ],
   "source": [
    "library(tidyverse)\n",
    "library(stringr)\n",
    "library(caret)\n",
    "library(data.table)\n",
    "library(stringr)\n",
    "library(dplyr)\n",
    "library(qs)\n",
    "library(parallel)\n",
    "library(clustermq)"
   ]
  },
  {
   "cell_type": "code",
   "execution_count": 2,
   "metadata": {
    "ExecuteTime": {
     "end_time": "2021-11-24T08:34:34.060288Z",
     "start_time": "2021-11-24T08:34:25.981Z"
    }
   },
   "outputs": [
    {
     "data": {
      "text/plain": [
       "R version 4.0.3 (2020-10-10)\n",
       "Platform: x86_64-conda-linux-gnu (64-bit)\n",
       "Running under: Ubuntu 18.04.6 LTS\n",
       "\n",
       "Matrix products: default\n",
       "BLAS/LAPACK: /ebio/abt3_projects/Methanogen_SCFA/Metagenomes_methanogen/envs/r-ml/lib/libopenblasp-r0.3.10.so\n",
       "\n",
       "locale:\n",
       " [1] LC_CTYPE=en_US.UTF-8       LC_NUMERIC=C              \n",
       " [3] LC_TIME=en_US.UTF-8        LC_COLLATE=en_US.UTF-8    \n",
       " [5] LC_MONETARY=en_US.UTF-8    LC_MESSAGES=en_US.UTF-8   \n",
       " [7] LC_PAPER=en_US.UTF-8       LC_NAME=C                 \n",
       " [9] LC_ADDRESS=C               LC_TELEPHONE=C            \n",
       "[11] LC_MEASUREMENT=en_US.UTF-8 LC_IDENTIFICATION=C       \n",
       "\n",
       "attached base packages:\n",
       "[1] parallel  stats     graphics  grDevices utils     datasets  methods  \n",
       "[8] base     \n",
       "\n",
       "other attached packages:\n",
       " [1] clustermq_0.8.95.1 qs_0.23.4          data.table_1.13.4  caret_6.0-86      \n",
       " [5] lattice_0.20-41    forcats_0.5.0      stringr_1.4.0      dplyr_1.0.2       \n",
       " [9] purrr_0.3.4        readr_1.4.0        tidyr_1.1.2        tibble_3.0.4      \n",
       "[13] ggplot2_3.3.2      tidyverse_1.3.0   \n",
       "\n",
       "loaded via a namespace (and not attached):\n",
       " [1] httr_1.4.2           jsonlite_1.7.2       splines_4.0.3       \n",
       " [4] foreach_1.5.1        prodlim_2019.11.13   modelr_0.1.8        \n",
       " [7] RcppParallel_5.0.2   assertthat_0.2.1     stats4_4.0.3        \n",
       "[10] cellranger_1.1.0     ipred_0.9-9          pillar_1.4.7        \n",
       "[13] backports_1.2.0      glue_1.4.2           pROC_1.16.2         \n",
       "[16] uuid_0.1-4           digest_0.6.27        rvest_0.3.6         \n",
       "[19] stringfish_0.14.2    colorspace_2.0-0     recipes_0.1.15      \n",
       "[22] htmltools_0.5.0      Matrix_1.2-18        plyr_1.8.6          \n",
       "[25] timeDate_3043.102    pkgconfig_2.0.3      broom_0.7.2         \n",
       "[28] haven_2.3.1          scales_1.1.1         gower_0.2.2         \n",
       "[31] RApiSerialize_0.1.0  lava_1.6.8.1         generics_0.1.0      \n",
       "[34] ellipsis_0.3.1       withr_2.3.0          repr_1.1.2.9000     \n",
       "[37] nnet_7.3-14          cli_2.2.0            survival_3.2-7      \n",
       "[40] magrittr_2.0.1       crayon_1.3.4         readxl_1.3.1        \n",
       "[43] evaluate_0.14        ps_1.5.0             fs_1.5.0            \n",
       "[46] fansi_0.4.1          nlme_3.1-150         MASS_7.3-53         \n",
       "[49] xml2_1.3.2           class_7.3-17         tools_4.0.3         \n",
       "[52] hms_0.5.3            lifecycle_0.2.0      munsell_0.5.0       \n",
       "[55] reprex_0.3.0         compiler_4.0.3       rlang_0.4.10        \n",
       "[58] grid_4.0.3           pbdZMQ_0.3-3.1       iterators_1.0.13    \n",
       "[61] IRkernel_1.1.1       rstudioapi_0.13      base64enc_0.1-3     \n",
       "[64] ModelMetrics_1.2.2.2 gtable_0.3.0         codetools_0.2-18    \n",
       "[67] DBI_1.1.0            reshape2_1.4.4       R6_2.5.0            \n",
       "[70] lubridate_1.7.9.2    stringi_1.5.3        IRdisplay_0.7.0     \n",
       "[73] Rcpp_1.0.5           vctrs_0.3.6          rpart_4.1-15        \n",
       "[76] dbplyr_2.0.0         tidyselect_1.1.0    "
      ]
     },
     "metadata": {},
     "output_type": "display_data"
    }
   ],
   "source": [
    "sessionInfo()"
   ]
  },
  {
   "cell_type": "markdown",
   "metadata": {},
   "source": [
    "## functions"
   ]
  },
  {
   "cell_type": "code",
   "execution_count": 3,
   "metadata": {
    "ExecuteTime": {
     "end_time": "2021-11-24T08:34:34.285801Z",
     "start_time": "2021-11-24T08:34:31.277Z"
    }
   },
   "outputs": [],
   "source": [
    "file.sources <- list.files('../scripts/', pattern = '*.R', full.names=TRUE, ignore.case=TRUE)\n",
    "for (f in file.sources) {\n",
    "    source(f)\n",
    "}\n",
    "rm('file.sources', 'f')"
   ]
  },
  {
   "cell_type": "markdown",
   "metadata": {},
   "source": [
    "# Data"
   ]
  },
  {
   "cell_type": "code",
   "execution_count": 4,
   "metadata": {
    "ExecuteTime": {
     "end_time": "2021-11-24T08:34:39.114558Z",
     "start_time": "2021-11-24T08:34:36.178Z"
    }
   },
   "outputs": [],
   "source": [
    "meta <- c('dataset','Sample','age','gender','country','BMI','westernized', 'number_reads')"
   ]
  },
  {
   "cell_type": "code",
   "execution_count": 5,
   "metadata": {
    "ExecuteTime": {
     "end_time": "2021-11-24T08:35:03.710664Z",
     "start_time": "2021-11-24T08:35:00.732Z"
    }
   },
   "outputs": [],
   "source": [
    "rules <- qread('../tmp/ruleExec_full.qs')\n",
    "related_taxa <- qread('../tmp/related_taxa_full.qs')\n",
    "X <- qread('../tmp/X.qs')"
   ]
  },
  {
   "cell_type": "markdown",
   "metadata": {},
   "source": [
    "# Train "
   ]
  },
  {
   "cell_type": "code",
   "execution_count": 7,
   "metadata": {
    "ExecuteTime": {
     "end_time": "2021-03-30T16:41:53.670260Z",
     "start_time": "2021-03-30T16:41:48.207Z"
    }
   },
   "outputs": [],
   "source": [
    "n_cores <- 20\n",
    "tmpl <- list(conda = \"r-ml\", cores = n_cores, job_time = '24:00:00', job_mem = '9G')"
   ]
  },
  {
   "cell_type": "code",
   "execution_count": 11,
   "metadata": {
    "ExecuteTime": {
     "end_time": "2021-03-31T07:38:48.389530Z",
     "start_time": "2021-03-30T16:42:11.090Z"
    }
   },
   "outputs": [
    {
     "name": "stderr",
     "output_type": "stream",
     "text": [
      "Warning message in (function (...) :\n",
      "“Common data is 8.6 Mb. Recommended limit is  (set by clustermq.data.warning option)”\n",
      "Submitting 50 worker jobs (ID: cmq6220) ...\n",
      "\n",
      "Running 50 calculations (20 objs/8.6 Mb common; 1 calls/chunk) ...\n",
      "\n",
      "\n",
      "[---------------------------------------------------]   0% (1/50 wrk) eta:  ?s\n",
      "\n",
      "[---------------------------------------------------]   0% (2/50 wrk) eta:  ?s\n",
      "\n",
      "[---------------------------------------------------]   0% (3/50 wrk) eta:  ?s\n",
      "\n",
      "[---------------------------------------------------]   0% (4/50 wrk) eta:  ?s\n",
      "\n",
      "[---------------------------------------------------]   0% (5/50 wrk) eta:  ?s\n",
      "\n",
      "[---------------------------------------------------]   0% (6/50 wrk) eta:  ?s\n",
      "\n",
      "[---------------------------------------------------]   0% (7/50 wrk) eta:  ?s\n",
      "\n",
      "[---------------------------------------------------]   0% (8/50 wrk) eta:  ?s\n",
      "\n",
      "[---------------------------------------------------]   0% (9/50 wrk) eta:  ?s\n",
      "\n",
      "[--------------------------------------------------]   0% (10/50 wrk) eta:  ?s\n",
      "\n",
      "[--------------------------------------------------]   0% (11/50 wrk) eta:  ?s\n",
      "\n",
      "[--------------------------------------------------]   0% (12/50 wrk) eta:  ?s\n",
      "\n",
      "[--------------------------------------------------]   0% (13/50 wrk) eta:  ?s\n",
      "\n",
      "[--------------------------------------------------]   0% (14/50 wrk) eta:  ?s\n",
      "\n",
      "[--------------------------------------------------]   0% (15/50 wrk) eta:  ?s\n",
      "\n",
      "[>-------------------------------------------------]   2% (15/50 wrk) eta:  2d\n",
      "\n",
      "[>-------------------------------------------------]   2% (16/50 wrk) eta:  2d\n",
      "\n",
      "[>-------------------------------------------------]   2% (17/50 wrk) eta:  3d\n",
      "\n",
      "[>-------------------------------------------------]   2% (18/50 wrk) eta:  3d\n",
      "\n",
      "[>-------------------------------------------------]   2% (19/50 wrk) eta:  3d\n",
      "\n",
      "[>-------------------------------------------------]   2% (20/50 wrk) eta:  3d\n",
      "\n",
      "[>-------------------------------------------------]   2% (21/50 wrk) eta:  3d\n",
      "\n",
      "[>-------------------------------------------------]   2% (22/50 wrk) eta:  3d\n",
      "\n",
      "[>-------------------------------------------------]   2% (23/50 wrk) eta:  3d\n",
      "\n",
      "[>-------------------------------------------------]   2% (24/50 wrk) eta:  3d\n",
      "\n",
      "[>-------------------------------------------------]   2% (25/50 wrk) eta:  3d\n",
      "\n",
      "[>-------------------------------------------------]   2% (26/50 wrk) eta:  3d\n",
      "\n",
      "[>-------------------------------------------------]   2% (27/50 wrk) eta:  3d\n",
      "\n",
      "[>-------------------------------------------------]   2% (28/50 wrk) eta:  3d\n",
      "\n",
      "[>-------------------------------------------------]   2% (29/50 wrk) eta:  3d\n",
      "\n",
      "[>-------------------------------------------------]   2% (30/50 wrk) eta:  3d\n",
      "\n",
      "[>-------------------------------------------------]   2% (31/50 wrk) eta:  3d\n",
      "\n",
      "[>-------------------------------------------------]   2% (32/50 wrk) eta:  3d\n",
      "\n",
      "[>-------------------------------------------------]   2% (33/50 wrk) eta:  3d\n",
      "\n",
      "[>-------------------------------------------------]   2% (34/50 wrk) eta:  3d\n",
      "\n",
      "[>-------------------------------------------------]   2% (35/50 wrk) eta:  3d\n",
      "\n",
      "[>-------------------------------------------------]   2% (36/50 wrk) eta:  3d\n",
      "\n",
      "[>-------------------------------------------------]   2% (37/50 wrk) eta:  3d\n",
      "\n",
      "[>-------------------------------------------------]   2% (38/50 wrk) eta:  3d\n",
      "\n",
      "[>-------------------------------------------------]   2% (39/50 wrk) eta:  3d\n",
      "\n",
      "[>-------------------------------------------------]   2% (40/50 wrk) eta:  3d\n",
      "\n",
      "[>-------------------------------------------------]   2% (41/50 wrk) eta:  3d\n",
      "\n",
      "[>-------------------------------------------------]   2% (42/50 wrk) eta:  3d\n",
      "\n",
      "[>-------------------------------------------------]   2% (43/50 wrk) eta:  3d\n",
      "\n",
      "[>-------------------------------------------------]   2% (44/50 wrk) eta:  3d\n",
      "\n",
      "[=>------------------------------------------------]   4% (44/50 wrk) eta:  2d\n",
      "\n",
      "[==>-----------------------------------------------]   6% (44/50 wrk) eta:  1d\n",
      "\n",
      "[==>-----------------------------------------------]   6% (45/50 wrk) eta:  1d\n",
      "\n",
      "[==>-----------------------------------------------]   6% (46/50 wrk) eta:  1d\n",
      "\n",
      "[==>-----------------------------------------------]   6% (47/50 wrk) eta:  1d\n",
      "\n",
      "[==>-----------------------------------------------]   6% (48/50 wrk) eta:  1d\n",
      "\n",
      "[==>-----------------------------------------------]   6% (48/49 wrk) eta:  1d\n",
      "\n",
      "[==>-----------------------------------------------]   6% (48/48 wrk) eta:  1d\n",
      "\n",
      "[===>----------------------------------------------]   8% (47/47 wrk) eta:  1d\n",
      "\n",
      "[====>---------------------------------------------]  10% (46/46 wrk) eta: 16h\n",
      "\n",
      "[=====>--------------------------------------------]  12% (45/45 wrk) eta: 13h\n",
      "\n",
      "[======>-------------------------------------------]  14% (44/44 wrk) eta: 11h\n",
      "\n",
      "[=======>------------------------------------------]  16% (43/43 wrk) eta: 10h\n",
      "\n",
      "[========>-----------------------------------------]  18% (42/42 wrk) eta:  9h\n",
      "\n",
      "[=========>----------------------------------------]  20% (41/41 wrk) eta:  9h\n",
      "\n",
      "[==========>---------------------------------------]  22% (40/40 wrk) eta:  8h\n",
      "\n",
      "[===========>--------------------------------------]  24% (39/39 wrk) eta:  7h\n",
      "\n",
      "[============>-------------------------------------]  26% (38/38 wrk) eta:  7h\n",
      "\n",
      "[=============>------------------------------------]  28% (37/37 wrk) eta:  6h\n",
      "\n",
      "[==============>-----------------------------------]  30% (36/36 wrk) eta:  6h\n",
      "\n",
      "[===============>----------------------------------]  32% (35/35 wrk) eta:  5h\n",
      "\n",
      "[================>---------------------------------]  34% (34/34 wrk) eta:  5h\n",
      "\n",
      "[=================>--------------------------------]  36% (33/33 wrk) eta:  4h\n",
      "\n",
      "[==================>-------------------------------]  38% (32/32 wrk) eta:  4h\n",
      "\n",
      "[===================>------------------------------]  40% (31/31 wrk) eta:  4h\n",
      "\n",
      "[====================>-----------------------------]  42% (30/30 wrk) eta:  4h\n",
      "\n",
      "[=====================>----------------------------]  44% (29/29 wrk) eta:  3h\n",
      "\n",
      "[======================>---------------------------]  46% (28/28 wrk) eta:  3h\n",
      "\n",
      "[=======================>--------------------------]  48% (27/27 wrk) eta:  3h\n",
      "\n",
      "[========================>-------------------------]  50% (26/26 wrk) eta:  3h\n",
      "\n",
      "[=========================>------------------------]  52% (25/25 wrk) eta:  3h\n",
      "\n",
      "[==========================>-----------------------]  54% (24/24 wrk) eta:  2h\n",
      "\n",
      "[===========================>----------------------]  56% (23/23 wrk) eta:  2h\n",
      "\n",
      "[============================>---------------------]  58% (22/22 wrk) eta:  2h\n",
      "\n",
      "[=============================>--------------------]  60% (21/21 wrk) eta:  2h\n",
      "\n",
      "[==============================>-------------------]  62% (20/20 wrk) eta:  2h\n",
      "\n",
      "[===============================>------------------]  64% (19/19 wrk) eta:  2h\n",
      "\n",
      "[================================>-----------------]  66% (18/18 wrk) eta:  1h\n",
      "\n",
      "[=================================>----------------]  68% (17/17 wrk) eta:  1h\n",
      "\n",
      "[==================================>---------------]  70% (16/16 wrk) eta:  1h\n",
      "\n",
      "[===================================>--------------]  72% (15/15 wrk) eta:  1h\n",
      "\n",
      "[====================================>-------------]  74% (14/14 wrk) eta:  1h\n",
      "\n",
      "[=====================================>------------]  76% (13/13 wrk) eta:  1h\n",
      "\n",
      "[======================================>-----------]  78% (12/12 wrk) eta:  1h\n",
      "\n",
      "[=======================================>----------]  80% (11/11 wrk) eta: 47m\n",
      "\n",
      "[========================================>---------]  82% (10/10 wrk) eta: 41m\n",
      "\n",
      "[===========================================>--------]  84% (9/9 wrk) eta: 37m\n",
      "\n",
      "[============================================>-------]  86% (8/8 wrk) eta: 32m\n",
      "\n",
      "[=============================================>------]  88% (7/7 wrk) eta: 28m\n",
      "\n",
      "[==============================================>-----]  90% (6/6 wrk) eta: 24m\n",
      "\n",
      "[===============================================>----]  92% (5/5 wrk) eta: 20m\n",
      "\n",
      "[================================================>---]  94% (4/4 wrk) eta: 15m\n",
      "\n",
      "[=================================================>--]  96% (3/3 wrk) eta: 10m\n",
      "\n",
      "[==================================================>-]  98% (2/2 wrk) eta:  5m\n",
      "\n",
      "[====================================================] 100% (1/1 wrk) eta:  0s\n"
     ]
    },
    {
     "name": "stderr",
     "output_type": "stream",
     "text": [
      "                                                                              \n",
      "\n",
      "Master: [20690.1s 0.0% CPU]; Worker: [avg 91.4% CPU, max 909.0 Mb]\n",
      "\n",
      "Warning message in summarize_result(job_result, n_errors, n_warnings, cond_msgs, :\n",
      "“1/50 jobs failed (0 warnings)\n",
      "(Error #11) 'data' must be of a vector type, was 'NULL'”\n"
     ]
    }
   ],
   "source": [
    "simu100 <- Q(simWrapper, fail_on_error = FALSE\n",
    "  , seedOri = 1:50 # change seeds to create new replicates \n",
    "  \n",
    "  , const=list(data = X, ntree = 500\n",
    "               , gammas = seq(0,1, by = 0.1)\n",
    "               , rules=rules, related_taxa=related_taxa\n",
    "               , prandom = 0.05 # fraction of randomized group labels \n",
    "               , times = 10 # number of bootstraps (endoR)\n",
    "               , p = 0.5 # sample size of boostraps (endoR)\n",
    "               , discretize = TRUE, K = 2 # K: number of bootstraps\n",
    "               , prune = TRUE\n",
    "               , in_parallel = TRUE, n_cores = n_cores\n",
    "               , path = '/ebio/abt3_projects/temp_data/aruaud/MtgSimu50/' # where to save files\n",
    "              )\n",
    "             \n",
    "    # see the ../scripts/ folder\n",
    "  , export = list('getResampleData'=getResampleData, 'getAllRules'=getAllRules\n",
    "                  , 'gammaTuning'=gammaTuning, 'wf'=wf\n",
    "                  , 'metricsNet'=metricsNet, 'getNetMeasures'=getNetMeasures\n",
    "                  )\n",
    "  , n_jobs= 50\n",
    "  , pkgs=c('data.table', 'randomForest'\n",
    "           , 'parallel', 'caret', 'stringr', 'scales', 'dplyr', 'inTrees'\n",
    "           , 'endoR', 'qs', 'RRF', 'tidyverse')\n",
    "  , log_worker=FALSE\n",
    "  , template = tmpl\n",
    " )"
   ]
  }
 ],
 "metadata": {
  "kernelspec": {
   "display_name": "R [conda env:Metagenomes_methanogen-r-ml] *",
   "language": "R",
   "name": "conda-env-Metagenomes_methanogen-r-ml-r"
  },
  "language_info": {
   "codemirror_mode": "r",
   "file_extension": ".r",
   "mimetype": "text/x-r-source",
   "name": "R",
   "pygments_lexer": "r",
   "version": "4.0.3"
  },
  "notify_time": "30",
  "toc": {
   "base_numbering": 1,
   "nav_menu": {},
   "number_sections": true,
   "sideBar": true,
   "skip_h1_title": false,
   "title_cell": "Table of Contents",
   "title_sidebar": "Contents",
   "toc_cell": false,
   "toc_position": {
    "height": "calc(100% - 180px)",
    "left": "10px",
    "top": "150px",
    "width": "175.2px"
   },
   "toc_section_display": true,
   "toc_window_display": true
  }
 },
 "nbformat": 4,
 "nbformat_minor": 4
}
