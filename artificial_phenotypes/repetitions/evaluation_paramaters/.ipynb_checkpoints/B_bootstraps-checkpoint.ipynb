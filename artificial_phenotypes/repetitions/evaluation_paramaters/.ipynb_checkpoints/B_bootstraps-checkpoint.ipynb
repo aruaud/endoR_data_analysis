{
 "cells": [
  {
   "cell_type": "markdown",
   "metadata": {},
   "source": [
    "# Preambule"
   ]
  },
  {
   "cell_type": "markdown",
   "metadata": {},
   "source": [
    "## libraries"
   ]
  },
  {
   "cell_type": "code",
   "execution_count": 1,
   "metadata": {
    "ExecuteTime": {
     "end_time": "2021-11-23T17:51:05.956762Z",
     "start_time": "2021-11-23T17:51:01.327Z"
    }
   },
   "outputs": [
    {
     "name": "stderr",
     "output_type": "stream",
     "text": [
      "── \u001b[1mAttaching packages\u001b[22m ────────────────────────────────────────────────────────────────────────────────────────────────────────────────────────────────────── tidyverse 1.3.0 ──\n",
      "\n",
      "\u001b[32m✔\u001b[39m \u001b[34mggplot2\u001b[39m 3.3.2     \u001b[32m✔\u001b[39m \u001b[34mpurrr  \u001b[39m 0.3.4\n",
      "\u001b[32m✔\u001b[39m \u001b[34mtibble \u001b[39m 3.0.4     \u001b[32m✔\u001b[39m \u001b[34mdplyr  \u001b[39m 1.0.2\n",
      "\u001b[32m✔\u001b[39m \u001b[34mtidyr  \u001b[39m 1.1.2     \u001b[32m✔\u001b[39m \u001b[34mstringr\u001b[39m 1.4.0\n",
      "\u001b[32m✔\u001b[39m \u001b[34mreadr  \u001b[39m 1.4.0     \u001b[32m✔\u001b[39m \u001b[34mforcats\u001b[39m 0.5.0\n",
      "\n",
      "── \u001b[1mConflicts\u001b[22m ───────────────────────────────────────────────────────────────────────────────────────────────────────────────────────────────────────── tidyverse_conflicts() ──\n",
      "\u001b[31m✖\u001b[39m \u001b[34mdplyr\u001b[39m::\u001b[32mfilter()\u001b[39m masks \u001b[34mstats\u001b[39m::filter()\n",
      "\u001b[31m✖\u001b[39m \u001b[34mdplyr\u001b[39m::\u001b[32mlag()\u001b[39m    masks \u001b[34mstats\u001b[39m::lag()\n",
      "\n",
      "Loading required package: lattice\n",
      "\n",
      "\n",
      "Attaching package: ‘caret’\n",
      "\n",
      "\n",
      "The following object is masked from ‘package:purrr’:\n",
      "\n",
      "    lift\n",
      "\n",
      "\n",
      "\n",
      "Attaching package: ‘data.table’\n",
      "\n",
      "\n",
      "The following objects are masked from ‘package:dplyr’:\n",
      "\n",
      "    between, first, last\n",
      "\n",
      "\n",
      "The following object is masked from ‘package:purrr’:\n",
      "\n",
      "    transpose\n",
      "\n",
      "\n",
      "qs v0.23.4.\n",
      "\n",
      "randomForest 4.6-14\n",
      "\n",
      "Type rfNews() to see new features/changes/bug fixes.\n",
      "\n",
      "\n",
      "Attaching package: ‘randomForest’\n",
      "\n",
      "\n",
      "The following object is masked from ‘package:dplyr’:\n",
      "\n",
      "    combine\n",
      "\n",
      "\n",
      "The following object is masked from ‘package:ggplot2’:\n",
      "\n",
      "    margin\n",
      "\n",
      "\n",
      "Registered S3 method overwritten by 'RRF':\n",
      "  method      from        \n",
      "  plot.margin randomForest\n",
      "\n",
      "Warning message:\n",
      "“replacing previous import ‘data.table::last’ by ‘dplyr::last’ when loading ‘endoR’”\n",
      "Warning message:\n",
      "“replacing previous import ‘data.table::first’ by ‘dplyr::first’ when loading ‘endoR’”\n",
      "Warning message:\n",
      "“replacing previous import ‘data.table::between’ by ‘dplyr::between’ when loading ‘endoR’”\n",
      "Warning message:\n",
      "“replacing previous import ‘dplyr::union’ by ‘igraph::union’ when loading ‘endoR’”\n",
      "Warning message:\n",
      "“replacing previous import ‘dplyr::as_data_frame’ by ‘igraph::as_data_frame’ when loading ‘endoR’”\n",
      "Warning message:\n",
      "“replacing previous import ‘dplyr::groups’ by ‘igraph::groups’ when loading ‘endoR’”\n"
     ]
    }
   ],
   "source": [
    "library(tidyverse)\n",
    "library(stringr)\n",
    "library(caret)\n",
    "library(data.table)\n",
    "library(stringr)\n",
    "library(dplyr)\n",
    "library(qs)\n",
    "library(parallel)\n",
    "library(randomForest)\n",
    "library(inTrees)\n",
    "library(endoR)"
   ]
  },
  {
   "cell_type": "code",
   "execution_count": 2,
   "metadata": {
    "ExecuteTime": {
     "end_time": "2021-11-23T17:51:06.003575Z",
     "start_time": "2021-11-23T17:51:01.331Z"
    }
   },
   "outputs": [],
   "source": [
    "library(parallel)"
   ]
  },
  {
   "cell_type": "code",
   "execution_count": 3,
   "metadata": {
    "ExecuteTime": {
     "end_time": "2021-11-23T17:51:06.039393Z",
     "start_time": "2021-11-23T17:51:01.334Z"
    }
   },
   "outputs": [
    {
     "name": "stderr",
     "output_type": "stream",
     "text": [
      "Loading required package: viridisLite\n",
      "\n"
     ]
    }
   ],
   "source": [
    "library(viridis)"
   ]
  },
  {
   "cell_type": "code",
   "execution_count": 4,
   "metadata": {
    "ExecuteTime": {
     "end_time": "2021-11-23T17:51:06.312935Z",
     "start_time": "2021-11-23T17:51:01.335Z"
    }
   },
   "outputs": [],
   "source": [
    "library(ggpubr)"
   ]
  },
  {
   "cell_type": "code",
   "execution_count": 5,
   "metadata": {
    "ExecuteTime": {
     "end_time": "2021-11-23T17:51:06.379235Z",
     "start_time": "2021-11-23T17:51:01.338Z"
    }
   },
   "outputs": [
    {
     "data": {
      "text/plain": [
       "R version 4.0.3 (2020-10-10)\n",
       "Platform: x86_64-conda-linux-gnu (64-bit)\n",
       "Running under: Ubuntu 18.04.6 LTS\n",
       "\n",
       "Matrix products: default\n",
       "BLAS/LAPACK: /ebio/abt3_projects/Methanogen_SCFA/Metagenomes_methanogen/envs/r-ml/lib/libopenblasp-r0.3.10.so\n",
       "\n",
       "locale:\n",
       " [1] LC_CTYPE=en_US.UTF-8       LC_NUMERIC=C              \n",
       " [3] LC_TIME=en_US.UTF-8        LC_COLLATE=en_US.UTF-8    \n",
       " [5] LC_MONETARY=en_US.UTF-8    LC_MESSAGES=en_US.UTF-8   \n",
       " [7] LC_PAPER=en_US.UTF-8       LC_NAME=C                 \n",
       " [9] LC_ADDRESS=C               LC_TELEPHONE=C            \n",
       "[11] LC_MEASUREMENT=en_US.UTF-8 LC_IDENTIFICATION=C       \n",
       "\n",
       "attached base packages:\n",
       "[1] parallel  stats     graphics  grDevices utils     datasets  methods  \n",
       "[8] base     \n",
       "\n",
       "other attached packages:\n",
       " [1] ggpubr_0.4.0        viridis_0.5.1       viridisLite_0.3.0  \n",
       " [4] endoR_0.1.0         inTrees_1.3         randomForest_4.6-14\n",
       " [7] qs_0.23.4           data.table_1.13.4   caret_6.0-86       \n",
       "[10] lattice_0.20-41     forcats_0.5.0       stringr_1.4.0      \n",
       "[13] dplyr_1.0.2         purrr_0.3.4         readr_1.4.0        \n",
       "[16] tidyr_1.1.2         tibble_3.0.4        ggplot2_3.3.2      \n",
       "[19] tidyverse_1.3.0    \n",
       "\n",
       "loaded via a namespace (and not attached):\n",
       "  [1] colorspace_2.0-0     ggsignif_0.6.0       rio_0.5.16          \n",
       "  [4] ellipsis_0.3.1       class_7.3-17         IRdisplay_0.7.0     \n",
       "  [7] base64enc_0.1-3      fs_1.5.0             rstudioapi_0.13     \n",
       " [10] farver_2.0.3         graphlayouts_0.7.1   ggrepel_0.8.2       \n",
       " [13] prodlim_2019.11.13   fansi_0.4.1          lubridate_1.7.9.2   \n",
       " [16] ranger_0.12.1        xml2_1.3.2           codetools_0.2-18    \n",
       " [19] splines_4.0.3        arules_1.6-6         polyclip_1.10-0     \n",
       " [22] IRkernel_1.1.1       jsonlite_1.7.2       pROC_1.16.2         \n",
       " [25] broom_0.7.2          dbplyr_2.0.0         ggforce_0.3.2       \n",
       " [28] compiler_4.0.3       httr_1.4.2           backports_1.2.0     \n",
       " [31] assertthat_0.2.1     Matrix_1.2-18        cli_2.2.0           \n",
       " [34] tweenr_1.0.1         htmltools_0.5.0      tools_4.0.3         \n",
       " [37] igraph_1.2.6         gtable_0.3.0         glue_1.4.2          \n",
       " [40] reshape2_1.4.4       Rcpp_1.0.5           carData_3.0-4       \n",
       " [43] cellranger_1.1.0     vctrs_0.3.6          nlme_3.1-150        \n",
       " [46] iterators_1.0.13     ggraph_2.0.4         timeDate_3043.102   \n",
       " [49] gower_0.2.2          ps_1.5.0             openxlsx_4.2.3      \n",
       " [52] rvest_0.3.6          lifecycle_0.2.0      rstatix_0.6.0       \n",
       " [55] MASS_7.3-53          scales_1.1.1         ipred_0.9-9         \n",
       " [58] tidygraph_1.2.0      hms_0.5.3            curl_4.3            \n",
       " [61] gridExtra_2.3        rpart_4.1-15         stringi_1.5.3       \n",
       " [64] foreach_1.5.1        zip_2.1.1            lava_1.6.8.1        \n",
       " [67] repr_1.1.2.9000      rlang_0.4.10         pkgconfig_2.0.3     \n",
       " [70] evaluate_0.14        recipes_0.1.15       tidyselect_1.1.0    \n",
       " [73] gbm_2.1.8            plyr_1.8.6           magrittr_2.0.1      \n",
       " [76] R6_2.5.0             generics_0.1.0       pbdZMQ_0.3-3.1      \n",
       " [79] DBI_1.1.0            foreign_0.8-80       pillar_1.4.7        \n",
       " [82] haven_2.3.1          withr_2.3.0          abind_1.4-5         \n",
       " [85] survival_3.2-7       nnet_7.3-14          car_3.0-10          \n",
       " [88] modelr_0.1.8         crayon_1.3.4         xgboost_1.2.0.1     \n",
       " [91] uuid_0.1-4           RApiSerialize_0.1.0  RRF_1.9.1           \n",
       " [94] grid_4.0.3           readxl_1.3.1         ModelMetrics_1.2.2.2\n",
       " [97] reprex_0.3.0         digest_0.6.27        xtable_1.8-4        \n",
       "[100] RcppParallel_5.0.2   stats4_4.0.3         munsell_0.5.0       \n",
       "[103] stringfish_0.14.2   "
      ]
     },
     "metadata": {},
     "output_type": "display_data"
    }
   ],
   "source": [
    "sessionInfo()"
   ]
  },
  {
   "cell_type": "markdown",
   "metadata": {},
   "source": [
    "## functions"
   ]
  },
  {
   "cell_type": "code",
   "execution_count": 6,
   "metadata": {
    "ExecuteTime": {
     "end_time": "2021-11-23T17:51:06.396926Z",
     "start_time": "2021-11-23T17:51:01.341Z"
    }
   },
   "outputs": [],
   "source": [
    "getSinglePR <- function(pc, expanded_edges, all){\n",
    "    # prepare edges from endoR\n",
    "    edges <- pc$edges_agg %>% select(x, y, condition, importance, influence, d.x, d.y) %>% \n",
    "        subset(condition %in% pc$rules_summary$condition) %>%\n",
    "        group_by(x, y, condition) %>% \n",
    "        summarise(importance= mean(importance), influence = mean(influence*(d.x+d.y)/2)) %>%\n",
    "        ungroup %>% \n",
    "        left_join(select(pc$rules_summary,condition, inN, imp, n), by = 'condition') %>% \n",
    "        select(-condition) \n",
    "    \n",
    "    # get the PR\n",
    "    edi <- lapply(unique(edges$inN)\n",
    "            , function(i, edges, true_edges,expanded_edges, all){\n",
    "                suppressMessages(edges <- edges %>% subset(inN >= i) %>% group_by(x, y) %>% \n",
    "                                 summarise( inN = max(inN), importance = sum(importance*imp*n)\n",
    "                                           , influence = sum(influence*imp*n)/sum(imp*n) ) %>% ungroup)\n",
    "                metricsNet(edges = edges,expanded_edges=expanded_edges, all=all)\n",
    "              }, edges=edges,expanded_edges=expanded_edges, all=all)\n",
    "    \n",
    "    edi <- as.data.frame(do.call(rbind, edi))\n",
    "    edi$inN <- unique(edges$inN)\n",
    "    edi <- add_row(edi, n_edges=0, tp=0,fp=0,tn=0,fn=0,inN=0)\n",
    "    \n",
    "    return(edi %>% arrange(tp))\n",
    "}"
   ]
  },
  {
   "cell_type": "code",
   "execution_count": 7,
   "metadata": {
    "ExecuteTime": {
     "end_time": "2021-11-23T17:51:06.414406Z",
     "start_time": "2021-11-23T17:51:01.343Z"
    }
   },
   "outputs": [],
   "source": [
    "getPR <- function(f, alpha, pi_thr, related_taxa, all){\n",
    "    res <- qread(f)\n",
    "    # get the true edges\n",
    "    te <- lapply(res$true_edges, str_replace_all, pattern = '\\\\_{2}.*', replacement = '')\n",
    "    te <- unique(lapply(te, sort))\n",
    "    expanded_edges <- list()\n",
    "    for (i in 1:length(te)){\n",
    "        tmp <- te[[i]] %>% str_replace(pattern = '\\\\_{2}.*', replacement = '')\n",
    "        tmp <- related_taxa[tmp]\n",
    "        tmp <- expand.grid(tmp[[1]], tmp[[2]])  \n",
    "        tmp <- asplit(tmp, MARGIN=1)\n",
    "\n",
    "        expanded_edges[[i]] <- sapply(lapply(tmp, sort), paste, collapse = ' - ')\n",
    "        names(expanded_edges)[i] <- paste(sort(te[[i]]), collapse = ' - ')\n",
    "    }\n",
    "    # other parameters\n",
    "    seedN <- str_extract(f, pattern = '(?<=simu)[:digit:]+(?=\\\\_)')\n",
    "    K <- length(expanded_edges)\n",
    "    \n",
    "    # for b = 10\n",
    "    set.seed(as.numeric(seedN))\n",
    "    i_10 <- sample(1:100, 10, replace = FALSE)\n",
    "    pc10 <- stabilitySelection(res$resamp[i_10], alpha_error = alpha, pi_thr = pi_thr)\n",
    "    edi10 <- getSinglePR(pc10, expanded_edges, all = all)\n",
    "    edi10$B <- length(i_10)\n",
    "    \n",
    "    # for b = 90\n",
    "    pc100 <- quiet(stabilitySelection(res$resamp[-i_10], alpha_error = alpha, pi_thr = pi_thr))\n",
    "    edi100 <- getSinglePR(pc100, expanded_edges, all = all)\n",
    "    edi100$B <- 100-length(i_10)\n",
    "    \n",
    "    # bind\n",
    "    edi <- rbind(edi10, edi100)\n",
    "    edi$seedN <- seedN\n",
    "    edi$K <- K\n",
    "    \n",
    "    return(edi)\n",
    "}"
   ]
  },
  {
   "cell_type": "code",
   "execution_count": 8,
   "metadata": {
    "ExecuteTime": {
     "end_time": "2021-11-23T17:51:06.443892Z",
     "start_time": "2021-11-23T17:51:01.345Z"
    }
   },
   "outputs": [],
   "source": [
    "file.sources <- list.files('../scripts/', pattern = '*.R', full.names=TRUE, ignore.case=TRUE)\n",
    "for (f in file.sources) {\n",
    "    source(f)\n",
    "}\n",
    "rm('file.sources', 'f')"
   ]
  },
  {
   "cell_type": "markdown",
   "metadata": {},
   "source": [
    "# Run"
   ]
  },
  {
   "cell_type": "code",
   "execution_count": 9,
   "metadata": {
    "ExecuteTime": {
     "end_time": "2021-11-23T17:51:06.551396Z",
     "start_time": "2021-11-23T17:51:01.348Z"
    }
   },
   "outputs": [],
   "source": [
    "fnames <- list.files('/ebio/abt3_projects/temp_data/aruaud/MtgSimu50/', full.names = TRUE, recursive = TRUE\n",
    "                    )%>% str_subset(pattern = 'B100/')"
   ]
  },
  {
   "cell_type": "code",
   "execution_count": 10,
   "metadata": {
    "ExecuteTime": {
     "end_time": "2021-11-23T17:51:06.588233Z",
     "start_time": "2021-11-23T17:51:01.351Z"
    }
   },
   "outputs": [],
   "source": [
    "related_taxa <- qread('../tmp/related_taxa_full.qs')\n",
    "is_s <- str_which(names(related_taxa), pattern = '^s_')\n",
    "related_taxa[is_s] <- related_taxa[is_s] %>% lapply(function(x){str_subset(x, pattern = '^s|g')})\n",
    "related_taxa$groupa <- 'groupa'\n",
    "related_taxa$groupb <- 'groupb'\n",
    "related_taxa$groupc <- 'groupc'\n",
    "related_taxa$groupd <- 'groupd'"
   ]
  },
  {
   "cell_type": "code",
   "execution_count": 11,
   "metadata": {
    "ExecuteTime": {
     "end_time": "2021-11-23T17:51:12.631602Z",
     "start_time": "2021-11-23T17:51:01.353Z"
    }
   },
   "outputs": [],
   "source": [
    "#stopCluster(cluster)\n",
    "cluster <- makeCluster(7)\n",
    "quiet(clusterEvalQ(cluster, library(qs)))\n",
    "quiet(clusterEvalQ(cluster, library(endoR)))\n",
    "quiet(clusterEvalQ(cluster, library(tidyverse)))\n",
    "quiet(clusterExport(cluster, c('getSinglePR', 'metricsNet', 'quiet' )))"
   ]
  },
  {
   "cell_type": "code",
   "execution_count": 12,
   "metadata": {
    "ExecuteTime": {
     "end_time": "2021-11-23T17:52:06.467048Z",
     "start_time": "2021-11-23T17:51:01.354Z"
    }
   },
   "outputs": [],
   "source": [
    "a10_sev <- parLapply(cl = cluster, fnames, getPR, alpha = 10, pi_thr = 0.7, related_taxa=related_taxa\n",
    "                     , all = (525^2-525)/2)\n",
    "a10_sev <- do.call(rbind, a10_sev)"
   ]
  },
  {
   "cell_type": "code",
   "execution_count": 13,
   "metadata": {
    "ExecuteTime": {
     "end_time": "2021-11-23T17:52:06.488223Z",
     "start_time": "2021-11-23T17:51:03.964Z"
    }
   },
   "outputs": [],
   "source": [
    "stopCluster(cluster)"
   ]
  },
  {
   "cell_type": "code",
   "execution_count": 14,
   "metadata": {
    "ExecuteTime": {
     "end_time": "2021-11-23T17:53:42.214861Z",
     "start_time": "2021-11-23T17:53:41.946Z"
    }
   },
   "outputs": [
    {
     "data": {
      "text/plain": [
       "    n_edges             tp              fp               tn        \n",
       " Min.   :  0.00   Min.   :0.000   Min.   :  0.00   Min.   :     0  \n",
       " 1st Qu.: 34.00   1st Qu.:3.000   1st Qu.: 27.00   1st Qu.:137475  \n",
       " Median : 54.00   Median :5.000   Median : 43.00   Median :137496  \n",
       " Mean   : 61.79   Mean   :4.957   Mean   : 48.75   Mean   :134193  \n",
       " 3rd Qu.: 81.00   3rd Qu.:7.000   3rd Qu.: 63.00   3rd Qu.:137511  \n",
       " Max.   :427.00   Max.   :9.000   Max.   :301.00   Max.   :137542  \n",
       "       fn             inN              B            seedN          \n",
       " Min.   :0.000   Min.   : 0.00   Min.   :10.00   Length:4169       \n",
       " 1st Qu.:2.000   1st Qu.:10.00   1st Qu.:90.00   Class :character  \n",
       " Median :4.000   Median :31.00   Median :90.00   Mode  :character  \n",
       " Mean   :4.323   Mean   :34.97   Mean   :79.47                     \n",
       " 3rd Qu.:6.000   3rd Qu.:55.00   3rd Qu.:90.00                     \n",
       " Max.   :9.000   Max.   :90.00   Max.   :90.00                     \n",
       "       K        \n",
       " Min.   :7.000  \n",
       " 1st Qu.:9.000  \n",
       " Median :9.000  \n",
       " Mean   :8.949  \n",
       " 3rd Qu.:9.000  \n",
       " Max.   :9.000  "
      ]
     },
     "metadata": {},
     "output_type": "display_data"
    }
   ],
   "source": [
    "a10_sev %>% summary"
   ]
  },
  {
   "cell_type": "code",
   "execution_count": 15,
   "metadata": {
    "ExecuteTime": {
     "end_time": "2021-11-23T17:53:42.544294Z",
     "start_time": "2021-11-23T17:53:42.201Z"
    }
   },
   "outputs": [],
   "source": [
    "av_a10 <- a10_sev %>% select(-seedN) %>% group_by(B, inN) %>% summarise_all(mean)"
   ]
  },
  {
   "cell_type": "markdown",
   "metadata": {},
   "source": [
    "# interpolate"
   ]
  },
  {
   "cell_type": "code",
   "execution_count": 16,
   "metadata": {
    "ExecuteTime": {
     "end_time": "2021-11-23T17:53:44.872443Z",
     "start_time": "2021-11-23T17:53:44.617Z"
    }
   },
   "outputs": [],
   "source": [
    "getInterpo <- function(i, raw){\n",
    "    raw <- subset(raw, seedN == i)\n",
    "    res <- list()\n",
    "    \n",
    "    N <- unique(raw$Ncol)\n",
    "    N <- (N^2-N)/2\n",
    "    K <- unique(raw$K)\n",
    "    \n",
    "    i <- 1\n",
    "    for (a in unique(raw$B)){\n",
    "        tmp <- approx(raw$fp[raw$B == a]\n",
    "                       , raw$tp[raw$B == a]\n",
    "                       , xout = seq(1, 144, length.out = 1000)\n",
    "                       , ties = max)\n",
    "        tmp <- as.data.frame(do.call(cbind, tmp))\n",
    "        colnames(tmp) <- c('fp', 'tp')\n",
    "        \n",
    "        # add 0 and max values to the extrapolations\n",
    "        #mifp <- min(tmp$fp[!is.na(tmp$tp)])\n",
    "        mafp <- max(tmp$fp[!is.na(tmp$tp)])\n",
    "        #tmp$tp[tmp$fp<mifp] <- min(tmp$tp)\n",
    "        tmp$tp[tmp$fp>mafp] <- max(tmp$tp, na.rm = TRUE) #K\n",
    "        \n",
    "        tmp <- tmp[complete.cases(tmp),]\n",
    "        #tmp <- tmp %>% add_row(tp = 0, fp = 0)\n",
    "        tmp$B <- a\n",
    "\n",
    "        res[[i]] <- tmp\n",
    "        i <- i+1\n",
    "    }\n",
    "    res <- do.call(rbind, res)\n",
    "    res$seedN <- i\n",
    "    \n",
    "    return(res)\n",
    "}"
   ]
  },
  {
   "cell_type": "code",
   "execution_count": 17,
   "metadata": {
    "ExecuteTime": {
     "end_time": "2021-11-23T17:53:45.802393Z",
     "start_time": "2021-11-23T17:53:44.811Z"
    }
   },
   "outputs": [],
   "source": [
    "a10_byseed <- suppressWarnings(lapply(unique(a10_sev$seedN), getInterpo, raw = a10_sev))"
   ]
  },
  {
   "cell_type": "code",
   "execution_count": 18,
   "metadata": {
    "ExecuteTime": {
     "end_time": "2021-11-23T17:53:46.164177Z",
     "start_time": "2021-11-23T17:53:44.977Z"
    }
   },
   "outputs": [],
   "source": [
    "a10_byseed_av <- do.call(rbind, a10_byseed) %>% select(-seedN) %>% group_by(fp, B) %>% summarise_all(mean)\n",
    "a10_byseed_sd <- do.call(rbind, a10_byseed) %>% select(-seedN) %>% group_by(fp, B) %>% summarise_all(sd)\n",
    "\n",
    "a10_forplots <- left_join(a10_byseed_av, a10_byseed_sd, by = c('fp', 'B'), suffix = c('_av', '_sd'))"
   ]
  },
  {
   "cell_type": "markdown",
   "metadata": {},
   "source": [
    "# random"
   ]
  },
  {
   "cell_type": "code",
   "execution_count": 30,
   "metadata": {
    "ExecuteTime": {
     "end_time": "2021-02-17T12:31:24.186131Z",
     "start_time": "2021-02-17T12:31:23.904Z"
    },
    "deletable": false,
    "editable": false,
    "run_control": {
     "frozen": true
    }
   },
   "outputs": [],
   "source": [
    "random_pr_curve <- function(K){\n",
    "  N <- (525^2-525)/2 \n",
    "    \n",
    "  urn <- c(rep(1, K), rep(0, N-K))\n",
    "  B <- 1000\n",
    "  res <- list()\n",
    "    \n",
    "  for(j in 1:B){\n",
    "    set.seed(j)\n",
    "    random_draw <- urn[sample(1:N)]\n",
    "    tp <- cumsum(random_draw)\n",
    "    fp <- 1:N - cumsum(random_draw)\n",
    "    linfit <- approx(fp, tp, xout = seq(1, 150, length.out = 1000),ties = max)\n",
    "      \n",
    "    tmp <- as.data.frame(do.call(cbind, linfit))\n",
    "    colnames(tmp)<- c('fp', 'tp')\n",
    "    # add 0 and max values to the extrapolations\n",
    "    mifp <- min(tmp$fp[!is.na(tmp$tp)])\n",
    "    mafp <- max(tmp$fp[!is.na(tmp$tp)])\n",
    "    tmp$tp[tmp$fp<mifp] <- min(tmp$tp)\n",
    "    tmp$tp[tmp$fp>mafp] <- K  \n",
    "    res[[j]] <- tmp[ complete.cases(tmp), ]\n",
    "  }\n",
    " \n",
    "  res <- do.call(rbind, res)\n",
    "  res <- res %>% group_by(fp) %>% summarise(tp = mean(tp), qtiles = quantile(tp, 0.99))\n",
    "  \n",
    "  return(res)\n",
    "  \n",
    "}"
   ]
  },
  {
   "cell_type": "code",
   "execution_count": 33,
   "metadata": {
    "ExecuteTime": {
     "end_time": "2021-02-17T12:32:38.050081Z",
     "start_time": "2021-02-17T12:32:35.226Z"
    },
    "deletable": false,
    "editable": false,
    "run_control": {
     "frozen": true
    }
   },
   "outputs": [
    {
     "data": {
      "text/html": [
       "<ol>\n",
       "\t<li><style>\n",
       ".list-inline {list-style: none; margin:0; padding: 0}\n",
       ".list-inline>li {display: inline-block}\n",
       ".list-inline>li:not(:last-child)::after {content: \"\\00b7\"; padding: 0 .5ex}\n",
       "</style>\n",
       "<ol class=list-inline><li>'qs'</li><li>'stats'</li><li>'graphics'</li><li>'grDevices'</li><li>'utils'</li><li>'datasets'</li><li>'methods'</li><li>'base'</li></ol>\n",
       "</li>\n",
       "\t<li><style>\n",
       ".list-inline {list-style: none; margin:0; padding: 0}\n",
       ".list-inline>li {display: inline-block}\n",
       ".list-inline>li:not(:last-child)::after {content: \"\\00b7\"; padding: 0 .5ex}\n",
       "</style>\n",
       "<ol class=list-inline><li>'qs'</li><li>'stats'</li><li>'graphics'</li><li>'grDevices'</li><li>'utils'</li><li>'datasets'</li><li>'methods'</li><li>'base'</li></ol>\n",
       "</li>\n",
       "\t<li><style>\n",
       ".list-inline {list-style: none; margin:0; padding: 0}\n",
       ".list-inline>li {display: inline-block}\n",
       ".list-inline>li:not(:last-child)::after {content: \"\\00b7\"; padding: 0 .5ex}\n",
       "</style>\n",
       "<ol class=list-inline><li>'qs'</li><li>'stats'</li><li>'graphics'</li><li>'grDevices'</li><li>'utils'</li><li>'datasets'</li><li>'methods'</li><li>'base'</li></ol>\n",
       "</li>\n",
       "\t<li><style>\n",
       ".list-inline {list-style: none; margin:0; padding: 0}\n",
       ".list-inline>li {display: inline-block}\n",
       ".list-inline>li:not(:last-child)::after {content: \"\\00b7\"; padding: 0 .5ex}\n",
       "</style>\n",
       "<ol class=list-inline><li>'qs'</li><li>'stats'</li><li>'graphics'</li><li>'grDevices'</li><li>'utils'</li><li>'datasets'</li><li>'methods'</li><li>'base'</li></ol>\n",
       "</li>\n",
       "\t<li><style>\n",
       ".list-inline {list-style: none; margin:0; padding: 0}\n",
       ".list-inline>li {display: inline-block}\n",
       ".list-inline>li:not(:last-child)::after {content: \"\\00b7\"; padding: 0 .5ex}\n",
       "</style>\n",
       "<ol class=list-inline><li>'qs'</li><li>'stats'</li><li>'graphics'</li><li>'grDevices'</li><li>'utils'</li><li>'datasets'</li><li>'methods'</li><li>'base'</li></ol>\n",
       "</li>\n",
       "</ol>\n"
      ],
      "text/latex": [
       "\\begin{enumerate}\n",
       "\\item \\begin{enumerate*}\n",
       "\\item 'qs'\n",
       "\\item 'stats'\n",
       "\\item 'graphics'\n",
       "\\item 'grDevices'\n",
       "\\item 'utils'\n",
       "\\item 'datasets'\n",
       "\\item 'methods'\n",
       "\\item 'base'\n",
       "\\end{enumerate*}\n",
       "\n",
       "\\item \\begin{enumerate*}\n",
       "\\item 'qs'\n",
       "\\item 'stats'\n",
       "\\item 'graphics'\n",
       "\\item 'grDevices'\n",
       "\\item 'utils'\n",
       "\\item 'datasets'\n",
       "\\item 'methods'\n",
       "\\item 'base'\n",
       "\\end{enumerate*}\n",
       "\n",
       "\\item \\begin{enumerate*}\n",
       "\\item 'qs'\n",
       "\\item 'stats'\n",
       "\\item 'graphics'\n",
       "\\item 'grDevices'\n",
       "\\item 'utils'\n",
       "\\item 'datasets'\n",
       "\\item 'methods'\n",
       "\\item 'base'\n",
       "\\end{enumerate*}\n",
       "\n",
       "\\item \\begin{enumerate*}\n",
       "\\item 'qs'\n",
       "\\item 'stats'\n",
       "\\item 'graphics'\n",
       "\\item 'grDevices'\n",
       "\\item 'utils'\n",
       "\\item 'datasets'\n",
       "\\item 'methods'\n",
       "\\item 'base'\n",
       "\\end{enumerate*}\n",
       "\n",
       "\\item \\begin{enumerate*}\n",
       "\\item 'qs'\n",
       "\\item 'stats'\n",
       "\\item 'graphics'\n",
       "\\item 'grDevices'\n",
       "\\item 'utils'\n",
       "\\item 'datasets'\n",
       "\\item 'methods'\n",
       "\\item 'base'\n",
       "\\end{enumerate*}\n",
       "\n",
       "\\end{enumerate}\n"
      ],
      "text/markdown": [
       "1. 1. 'qs'\n",
       "2. 'stats'\n",
       "3. 'graphics'\n",
       "4. 'grDevices'\n",
       "5. 'utils'\n",
       "6. 'datasets'\n",
       "7. 'methods'\n",
       "8. 'base'\n",
       "\n",
       "\n",
       "\n",
       "2. 1. 'qs'\n",
       "2. 'stats'\n",
       "3. 'graphics'\n",
       "4. 'grDevices'\n",
       "5. 'utils'\n",
       "6. 'datasets'\n",
       "7. 'methods'\n",
       "8. 'base'\n",
       "\n",
       "\n",
       "\n",
       "3. 1. 'qs'\n",
       "2. 'stats'\n",
       "3. 'graphics'\n",
       "4. 'grDevices'\n",
       "5. 'utils'\n",
       "6. 'datasets'\n",
       "7. 'methods'\n",
       "8. 'base'\n",
       "\n",
       "\n",
       "\n",
       "4. 1. 'qs'\n",
       "2. 'stats'\n",
       "3. 'graphics'\n",
       "4. 'grDevices'\n",
       "5. 'utils'\n",
       "6. 'datasets'\n",
       "7. 'methods'\n",
       "8. 'base'\n",
       "\n",
       "\n",
       "\n",
       "5. 1. 'qs'\n",
       "2. 'stats'\n",
       "3. 'graphics'\n",
       "4. 'grDevices'\n",
       "5. 'utils'\n",
       "6. 'datasets'\n",
       "7. 'methods'\n",
       "8. 'base'\n",
       "\n",
       "\n",
       "\n",
       "\n",
       "\n"
      ],
      "text/plain": [
       "[[1]]\n",
       "[1] \"qs\"        \"stats\"     \"graphics\"  \"grDevices\" \"utils\"     \"datasets\" \n",
       "[7] \"methods\"   \"base\"     \n",
       "\n",
       "[[2]]\n",
       "[1] \"qs\"        \"stats\"     \"graphics\"  \"grDevices\" \"utils\"     \"datasets\" \n",
       "[7] \"methods\"   \"base\"     \n",
       "\n",
       "[[3]]\n",
       "[1] \"qs\"        \"stats\"     \"graphics\"  \"grDevices\" \"utils\"     \"datasets\" \n",
       "[7] \"methods\"   \"base\"     \n",
       "\n",
       "[[4]]\n",
       "[1] \"qs\"        \"stats\"     \"graphics\"  \"grDevices\" \"utils\"     \"datasets\" \n",
       "[7] \"methods\"   \"base\"     \n",
       "\n",
       "[[5]]\n",
       "[1] \"qs\"        \"stats\"     \"graphics\"  \"grDevices\" \"utils\"     \"datasets\" \n",
       "[7] \"methods\"   \"base\"     \n"
      ]
     },
     "metadata": {},
     "output_type": "display_data"
    },
    {
     "data": {
      "text/html": [
       "<ol>\n",
       "\t<li><style>\n",
       ".list-inline {list-style: none; margin:0; padding: 0}\n",
       ".list-inline>li {display: inline-block}\n",
       ".list-inline>li:not(:last-child)::after {content: \"\\00b7\"; padding: 0 .5ex}\n",
       "</style>\n",
       "<ol class=list-inline><li>'forcats'</li><li>'stringr'</li><li>'dplyr'</li><li>'purrr'</li><li>'readr'</li><li>'tidyr'</li><li>'tibble'</li><li>'ggplot2'</li><li>'tidyverse'</li><li>'qs'</li><li>'stats'</li><li>'graphics'</li><li>'grDevices'</li><li>'utils'</li><li>'datasets'</li><li>'methods'</li><li>'base'</li></ol>\n",
       "</li>\n",
       "\t<li><style>\n",
       ".list-inline {list-style: none; margin:0; padding: 0}\n",
       ".list-inline>li {display: inline-block}\n",
       ".list-inline>li:not(:last-child)::after {content: \"\\00b7\"; padding: 0 .5ex}\n",
       "</style>\n",
       "<ol class=list-inline><li>'forcats'</li><li>'stringr'</li><li>'dplyr'</li><li>'purrr'</li><li>'readr'</li><li>'tidyr'</li><li>'tibble'</li><li>'ggplot2'</li><li>'tidyverse'</li><li>'qs'</li><li>'stats'</li><li>'graphics'</li><li>'grDevices'</li><li>'utils'</li><li>'datasets'</li><li>'methods'</li><li>'base'</li></ol>\n",
       "</li>\n",
       "\t<li><style>\n",
       ".list-inline {list-style: none; margin:0; padding: 0}\n",
       ".list-inline>li {display: inline-block}\n",
       ".list-inline>li:not(:last-child)::after {content: \"\\00b7\"; padding: 0 .5ex}\n",
       "</style>\n",
       "<ol class=list-inline><li>'forcats'</li><li>'stringr'</li><li>'dplyr'</li><li>'purrr'</li><li>'readr'</li><li>'tidyr'</li><li>'tibble'</li><li>'ggplot2'</li><li>'tidyverse'</li><li>'qs'</li><li>'stats'</li><li>'graphics'</li><li>'grDevices'</li><li>'utils'</li><li>'datasets'</li><li>'methods'</li><li>'base'</li></ol>\n",
       "</li>\n",
       "\t<li><style>\n",
       ".list-inline {list-style: none; margin:0; padding: 0}\n",
       ".list-inline>li {display: inline-block}\n",
       ".list-inline>li:not(:last-child)::after {content: \"\\00b7\"; padding: 0 .5ex}\n",
       "</style>\n",
       "<ol class=list-inline><li>'forcats'</li><li>'stringr'</li><li>'dplyr'</li><li>'purrr'</li><li>'readr'</li><li>'tidyr'</li><li>'tibble'</li><li>'ggplot2'</li><li>'tidyverse'</li><li>'qs'</li><li>'stats'</li><li>'graphics'</li><li>'grDevices'</li><li>'utils'</li><li>'datasets'</li><li>'methods'</li><li>'base'</li></ol>\n",
       "</li>\n",
       "\t<li><style>\n",
       ".list-inline {list-style: none; margin:0; padding: 0}\n",
       ".list-inline>li {display: inline-block}\n",
       ".list-inline>li:not(:last-child)::after {content: \"\\00b7\"; padding: 0 .5ex}\n",
       "</style>\n",
       "<ol class=list-inline><li>'forcats'</li><li>'stringr'</li><li>'dplyr'</li><li>'purrr'</li><li>'readr'</li><li>'tidyr'</li><li>'tibble'</li><li>'ggplot2'</li><li>'tidyverse'</li><li>'qs'</li><li>'stats'</li><li>'graphics'</li><li>'grDevices'</li><li>'utils'</li><li>'datasets'</li><li>'methods'</li><li>'base'</li></ol>\n",
       "</li>\n",
       "</ol>\n"
      ],
      "text/latex": [
       "\\begin{enumerate}\n",
       "\\item \\begin{enumerate*}\n",
       "\\item 'forcats'\n",
       "\\item 'stringr'\n",
       "\\item 'dplyr'\n",
       "\\item 'purrr'\n",
       "\\item 'readr'\n",
       "\\item 'tidyr'\n",
       "\\item 'tibble'\n",
       "\\item 'ggplot2'\n",
       "\\item 'tidyverse'\n",
       "\\item 'qs'\n",
       "\\item 'stats'\n",
       "\\item 'graphics'\n",
       "\\item 'grDevices'\n",
       "\\item 'utils'\n",
       "\\item 'datasets'\n",
       "\\item 'methods'\n",
       "\\item 'base'\n",
       "\\end{enumerate*}\n",
       "\n",
       "\\item \\begin{enumerate*}\n",
       "\\item 'forcats'\n",
       "\\item 'stringr'\n",
       "\\item 'dplyr'\n",
       "\\item 'purrr'\n",
       "\\item 'readr'\n",
       "\\item 'tidyr'\n",
       "\\item 'tibble'\n",
       "\\item 'ggplot2'\n",
       "\\item 'tidyverse'\n",
       "\\item 'qs'\n",
       "\\item 'stats'\n",
       "\\item 'graphics'\n",
       "\\item 'grDevices'\n",
       "\\item 'utils'\n",
       "\\item 'datasets'\n",
       "\\item 'methods'\n",
       "\\item 'base'\n",
       "\\end{enumerate*}\n",
       "\n",
       "\\item \\begin{enumerate*}\n",
       "\\item 'forcats'\n",
       "\\item 'stringr'\n",
       "\\item 'dplyr'\n",
       "\\item 'purrr'\n",
       "\\item 'readr'\n",
       "\\item 'tidyr'\n",
       "\\item 'tibble'\n",
       "\\item 'ggplot2'\n",
       "\\item 'tidyverse'\n",
       "\\item 'qs'\n",
       "\\item 'stats'\n",
       "\\item 'graphics'\n",
       "\\item 'grDevices'\n",
       "\\item 'utils'\n",
       "\\item 'datasets'\n",
       "\\item 'methods'\n",
       "\\item 'base'\n",
       "\\end{enumerate*}\n",
       "\n",
       "\\item \\begin{enumerate*}\n",
       "\\item 'forcats'\n",
       "\\item 'stringr'\n",
       "\\item 'dplyr'\n",
       "\\item 'purrr'\n",
       "\\item 'readr'\n",
       "\\item 'tidyr'\n",
       "\\item 'tibble'\n",
       "\\item 'ggplot2'\n",
       "\\item 'tidyverse'\n",
       "\\item 'qs'\n",
       "\\item 'stats'\n",
       "\\item 'graphics'\n",
       "\\item 'grDevices'\n",
       "\\item 'utils'\n",
       "\\item 'datasets'\n",
       "\\item 'methods'\n",
       "\\item 'base'\n",
       "\\end{enumerate*}\n",
       "\n",
       "\\item \\begin{enumerate*}\n",
       "\\item 'forcats'\n",
       "\\item 'stringr'\n",
       "\\item 'dplyr'\n",
       "\\item 'purrr'\n",
       "\\item 'readr'\n",
       "\\item 'tidyr'\n",
       "\\item 'tibble'\n",
       "\\item 'ggplot2'\n",
       "\\item 'tidyverse'\n",
       "\\item 'qs'\n",
       "\\item 'stats'\n",
       "\\item 'graphics'\n",
       "\\item 'grDevices'\n",
       "\\item 'utils'\n",
       "\\item 'datasets'\n",
       "\\item 'methods'\n",
       "\\item 'base'\n",
       "\\end{enumerate*}\n",
       "\n",
       "\\end{enumerate}\n"
      ],
      "text/markdown": [
       "1. 1. 'forcats'\n",
       "2. 'stringr'\n",
       "3. 'dplyr'\n",
       "4. 'purrr'\n",
       "5. 'readr'\n",
       "6. 'tidyr'\n",
       "7. 'tibble'\n",
       "8. 'ggplot2'\n",
       "9. 'tidyverse'\n",
       "10. 'qs'\n",
       "11. 'stats'\n",
       "12. 'graphics'\n",
       "13. 'grDevices'\n",
       "14. 'utils'\n",
       "15. 'datasets'\n",
       "16. 'methods'\n",
       "17. 'base'\n",
       "\n",
       "\n",
       "\n",
       "2. 1. 'forcats'\n",
       "2. 'stringr'\n",
       "3. 'dplyr'\n",
       "4. 'purrr'\n",
       "5. 'readr'\n",
       "6. 'tidyr'\n",
       "7. 'tibble'\n",
       "8. 'ggplot2'\n",
       "9. 'tidyverse'\n",
       "10. 'qs'\n",
       "11. 'stats'\n",
       "12. 'graphics'\n",
       "13. 'grDevices'\n",
       "14. 'utils'\n",
       "15. 'datasets'\n",
       "16. 'methods'\n",
       "17. 'base'\n",
       "\n",
       "\n",
       "\n",
       "3. 1. 'forcats'\n",
       "2. 'stringr'\n",
       "3. 'dplyr'\n",
       "4. 'purrr'\n",
       "5. 'readr'\n",
       "6. 'tidyr'\n",
       "7. 'tibble'\n",
       "8. 'ggplot2'\n",
       "9. 'tidyverse'\n",
       "10. 'qs'\n",
       "11. 'stats'\n",
       "12. 'graphics'\n",
       "13. 'grDevices'\n",
       "14. 'utils'\n",
       "15. 'datasets'\n",
       "16. 'methods'\n",
       "17. 'base'\n",
       "\n",
       "\n",
       "\n",
       "4. 1. 'forcats'\n",
       "2. 'stringr'\n",
       "3. 'dplyr'\n",
       "4. 'purrr'\n",
       "5. 'readr'\n",
       "6. 'tidyr'\n",
       "7. 'tibble'\n",
       "8. 'ggplot2'\n",
       "9. 'tidyverse'\n",
       "10. 'qs'\n",
       "11. 'stats'\n",
       "12. 'graphics'\n",
       "13. 'grDevices'\n",
       "14. 'utils'\n",
       "15. 'datasets'\n",
       "16. 'methods'\n",
       "17. 'base'\n",
       "\n",
       "\n",
       "\n",
       "5. 1. 'forcats'\n",
       "2. 'stringr'\n",
       "3. 'dplyr'\n",
       "4. 'purrr'\n",
       "5. 'readr'\n",
       "6. 'tidyr'\n",
       "7. 'tibble'\n",
       "8. 'ggplot2'\n",
       "9. 'tidyverse'\n",
       "10. 'qs'\n",
       "11. 'stats'\n",
       "12. 'graphics'\n",
       "13. 'grDevices'\n",
       "14. 'utils'\n",
       "15. 'datasets'\n",
       "16. 'methods'\n",
       "17. 'base'\n",
       "\n",
       "\n",
       "\n",
       "\n",
       "\n"
      ],
      "text/plain": [
       "[[1]]\n",
       " [1] \"forcats\"   \"stringr\"   \"dplyr\"     \"purrr\"     \"readr\"     \"tidyr\"    \n",
       " [7] \"tibble\"    \"ggplot2\"   \"tidyverse\" \"qs\"        \"stats\"     \"graphics\" \n",
       "[13] \"grDevices\" \"utils\"     \"datasets\"  \"methods\"   \"base\"     \n",
       "\n",
       "[[2]]\n",
       " [1] \"forcats\"   \"stringr\"   \"dplyr\"     \"purrr\"     \"readr\"     \"tidyr\"    \n",
       " [7] \"tibble\"    \"ggplot2\"   \"tidyverse\" \"qs\"        \"stats\"     \"graphics\" \n",
       "[13] \"grDevices\" \"utils\"     \"datasets\"  \"methods\"   \"base\"     \n",
       "\n",
       "[[3]]\n",
       " [1] \"forcats\"   \"stringr\"   \"dplyr\"     \"purrr\"     \"readr\"     \"tidyr\"    \n",
       " [7] \"tibble\"    \"ggplot2\"   \"tidyverse\" \"qs\"        \"stats\"     \"graphics\" \n",
       "[13] \"grDevices\" \"utils\"     \"datasets\"  \"methods\"   \"base\"     \n",
       "\n",
       "[[4]]\n",
       " [1] \"forcats\"   \"stringr\"   \"dplyr\"     \"purrr\"     \"readr\"     \"tidyr\"    \n",
       " [7] \"tibble\"    \"ggplot2\"   \"tidyverse\" \"qs\"        \"stats\"     \"graphics\" \n",
       "[13] \"grDevices\" \"utils\"     \"datasets\"  \"methods\"   \"base\"     \n",
       "\n",
       "[[5]]\n",
       " [1] \"forcats\"   \"stringr\"   \"dplyr\"     \"purrr\"     \"readr\"     \"tidyr\"    \n",
       " [7] \"tibble\"    \"ggplot2\"   \"tidyverse\" \"qs\"        \"stats\"     \"graphics\" \n",
       "[13] \"grDevices\" \"utils\"     \"datasets\"  \"methods\"   \"base\"     \n"
      ]
     },
     "metadata": {},
     "output_type": "display_data"
    }
   ],
   "source": [
    "#stopCluster(cluster)\n",
    "cluster <- makeCluster(5)\n",
    "clusterEvalQ(cluster, library(qs))\n",
    "clusterEvalQ(cluster, library(tidyverse))\n",
    "clusterExport(cluster, c('random_pr_curve'))"
   ]
  },
  {
   "cell_type": "code",
   "execution_count": 32,
   "metadata": {
    "ExecuteTime": {
     "end_time": "2021-02-17T12:32:33.357230Z",
     "start_time": "2021-02-17T12:32:33.096Z"
    },
    "deletable": false,
    "editable": false,
    "run_control": {
     "frozen": true
    }
   },
   "outputs": [],
   "source": [
    "Ks <- a10_sev %>% select(K, seedN) %>% unique %>% select(K) %>% unlist"
   ]
  },
  {
   "cell_type": "code",
   "execution_count": 34,
   "metadata": {
    "ExecuteTime": {
     "end_time": "2021-02-17T14:01:06.109410Z",
     "start_time": "2021-02-17T12:32:40.909Z"
    },
    "deletable": false,
    "editable": false,
    "run_control": {
     "frozen": true
    }
   },
   "outputs": [],
   "source": [
    "rdm <- parLapply(cluster, Ks,random_pr_curve)"
   ]
  },
  {
   "cell_type": "code",
   "execution_count": 35,
   "metadata": {
    "ExecuteTime": {
     "end_time": "2021-02-17T14:01:06.132849Z",
     "start_time": "2021-02-17T12:32:42.158Z"
    },
    "deletable": false,
    "editable": false,
    "run_control": {
     "frozen": true
    }
   },
   "outputs": [],
   "source": [
    "stopCluster(cluster)"
   ]
  },
  {
   "cell_type": "code",
   "execution_count": 36,
   "metadata": {
    "ExecuteTime": {
     "end_time": "2021-02-17T14:01:06.482865Z",
     "start_time": "2021-02-17T12:32:46.535Z"
    },
    "deletable": false,
    "editable": false,
    "run_control": {
     "frozen": true
    }
   },
   "outputs": [],
   "source": [
    "rdm_av <- do.call(rbind, rdm ) %>% group_by(fp) %>% summarise_all(mean)\n",
    "rdm_sd <- do.call(rbind, rdm) %>% group_by(fp) %>% summarise_all(sd)\n",
    "rdm_av <- left_join(rdm_av, rdm_sd, by = c('fp'), suffix = c('_av', '_sd'))"
   ]
  },
  {
   "cell_type": "code",
   "execution_count": 37,
   "metadata": {
    "ExecuteTime": {
     "end_time": "2021-02-17T14:05:09.572867Z",
     "start_time": "2021-02-17T14:05:09.495Z"
    },
    "deletable": false,
    "editable": false,
    "run_control": {
     "frozen": true
    }
   },
   "outputs": [],
   "source": [
    "saveRDS(rdm_av, './tmp/sevB_rdm.RDS')"
   ]
  },
  {
   "cell_type": "code",
   "execution_count": 20,
   "metadata": {
    "ExecuteTime": {
     "end_time": "2021-11-23T17:53:56.166801Z",
     "start_time": "2021-11-23T17:53:55.911Z"
    }
   },
   "outputs": [],
   "source": [
    "rdm_av <- readRDS('../tmp/sevB_rdm.RDS')"
   ]
  },
  {
   "cell_type": "markdown",
   "metadata": {},
   "source": [
    "# plots"
   ]
  },
  {
   "cell_type": "code",
   "execution_count": 21,
   "metadata": {
    "ExecuteTime": {
     "end_time": "2021-11-23T17:53:58.500561Z",
     "start_time": "2021-11-23T17:53:58.237Z"
    }
   },
   "outputs": [],
   "source": [
    "av_a10$B <- factor(av_a10$B, levels = c('10', '90'))\n",
    "a10_forplots$B <- factor(a10_forplots$B, levels = c('10', '90'))"
   ]
  },
  {
   "cell_type": "code",
   "execution_count": 22,
   "metadata": {
    "ExecuteTime": {
     "end_time": "2021-11-23T17:53:58.673269Z",
     "start_time": "2021-11-23T17:53:58.402Z"
    }
   },
   "outputs": [],
   "source": [
    "cols <- plasma(length(unique(a10_sev$B)) + 2)"
   ]
  },
  {
   "cell_type": "code",
   "execution_count": 23,
   "metadata": {
    "ExecuteTime": {
     "end_time": "2021-11-23T17:53:59.231864Z",
     "start_time": "2021-11-23T17:53:58.925Z"
    }
   },
   "outputs": [],
   "source": [
    "p <- ggplot(a10_forplots %>% subset(fp < 100)\n",
    "             , aes(x = fp, y = tp_av, group = B, color = as.factor(B)))+\n",
    "\n",
    "geom_hline(yintercept = 9, color = 'lightgrey', linetype = 'dashed')+\n",
    "\n",
    "geom_line(data = rdm_av %>% subset(fp < 100), aes(y = tp_av, x = fp), group=NA, color = 'darkgrey')+\n",
    "geom_ribbon(data = rdm_av %>% subset(fp < 100)\n",
    "            , aes(ymin = tp_av - tp_sd/2, ymax = tp_av + tp_sd/2, y = tp_av\n",
    "                  , group=NULL, color = NULL)\n",
    "            , alpha = 0.4, fill = 'darkgrey') +\n",
    "\n",
    "geom_line(size = 1)+\n",
    "\n",
    "geom_ribbon(aes(ymin = tp_av - tp_sd/2, ymax = tp_av + tp_sd/2\n",
    "                , group = B, fill = as.factor(B)), color = NA\n",
    "            , alpha = 0.25) +\n",
    "\n",
    "\n",
    "geom_point(data = av_a10 %>% subset((B == '10' & inN == 7) | (B == '90' & inN == 63))\n",
    "           , aes(y = tp, x = fp, fill = as.factor(B))\n",
    "           , size = 4, shape = 21, color = 'black')+\n",
    "\n",
    "\n",
    "theme_classic()+\n",
    "labs(x = 'Number of FP', y = 'Number of TP') +\n",
    "scale_color_manual(values = cols[-c(1, length(cols))], name = 'B') +\n",
    "scale_fill_manual(values = cols[-c(1, length(cols))], name = 'B')\n"
   ]
  },
  {
   "cell_type": "code",
   "execution_count": 24,
   "metadata": {
    "ExecuteTime": {
     "end_time": "2021-11-23T17:54:02.423043Z",
     "start_time": "2021-11-23T17:54:01.432Z"
    }
   },
   "outputs": [
    {
     "data": {
      "image/png": "[encoded data removed]",
      "text/plain": [
       "plot without title"
      ]
     },
     "metadata": {
      "image/png": {
       "height": 180,
       "width": 360
      }
     },
     "output_type": "display_data"
    }
   ],
   "source": [
    "options(repr.plot.width=6, repr.plot.height=3)\n",
    "p"
   ]
  },
  {
   "cell_type": "markdown",
   "metadata": {},
   "source": [
    "# check"
   ]
  },
  {
   "cell_type": "code",
   "execution_count": 39,
   "metadata": {
    "ExecuteTime": {
     "end_time": "2021-11-23T18:07:34.652845Z",
     "start_time": "2021-11-23T18:07:34.344Z"
    }
   },
   "outputs": [],
   "source": [
    "bootRes <- function(pc, B, expanded_edges, pre_res){\n",
    "    cond <- pc$rules_summary %>% subset(inN >= .7*B, select = condition) %>% unlist\n",
    "    if (length(cond) > 0){\n",
    "            \n",
    "        imp_edges <- pc$edges_agg %>% subset(condition %in% cond) %>% select(x,y, importance, n, imp)\n",
    "        imp_edges$x <- str_replace(imp_edges$x, pattern = '\\\\_{2}.*', replacement = '')\n",
    "        imp_edges$y <- str_replace(imp_edges$y, pattern = '\\\\_{2}.*', replacement = '')\n",
    "        suppressMessages(imp_edges <- imp_edges %>% group_by(x,y) %>% summarise(importance = sum(n*imp*importance)))\n",
    "        imp_edges <- asplit(as.matrix(imp_edges), MARGIN = 1)\n",
    "        imp_edges <- lapply(imp_edges, sort) \n",
    "        pred_edges <- sapply(imp_edges, function(x){paste(x[-1], collapse = ' - ')}) \n",
    "        imp_edges <- sapply(imp_edges, function(x)x['importance']) \n",
    "\n",
    "        # those that should not be but are = in pred_edges but not truth\n",
    "        fp <- sum(sapply(pred_edges, function(x){!(x %in% unlist(expanded_edges))}))\n",
    "        tp <- sum(sapply(expanded_edges, function(x){ifelse(sum(x %in% pred_edges) > 0, 1, 0)}))\n",
    "        fn <- sum(sapply(names(expanded_edges), function(x){!(x %in% pred_edges)}))\n",
    "\n",
    "\n",
    "        # sum of FP importances\n",
    "        if(fp > 0) {\n",
    "            fp_imp <- which(sapply(pred_edges, function(x){!(x %in% unlist(expanded_edges))}))\n",
    "            fp_imp <- sum(as.numeric(imp_edges[fp_imp]))\n",
    "        } else {fp_imp <- 0}\n",
    "        # sum of TP importances\n",
    "        if(tp > 0) {\n",
    "            tp_imp <- list()\n",
    "            for (i in 1:length(expanded_edges)){\n",
    "                tp_imp[[i]] <- mean(as.numeric(imp_edges[which(pred_edges %in% expanded_edges[[i]])]))\n",
    "            }\n",
    "            tp_imp <- sum(unlist(tp_imp), na.rm = TRUE)\n",
    "        } else {tp_imp <- 0}\n",
    "\n",
    "        res <- c('B' = B, 'rf_accuracy' = pre_res$gamma_all[1, 'meanK'], 'n_decisions' = length(cond)\n",
    "                , 'tp_imp' = tp_imp, 'fp_imp' = fp_imp, 'tp' = tp, 'fp' = fp\n",
    "                , 'fn' = fn)\n",
    "    } else {\n",
    "        res <- c('B' = B, 'rf_accuracy' = pre_res$gamma_all[1, 'meanK'], 'n_decisions' = 0\n",
    "                , 'tp_imp' = 0, 'fp_imp' = 0, 'tp' = 0, 'fp' = 0, 'fn' = 0)\n",
    "    }\n",
    "}    "
   ]
  },
  {
   "cell_type": "code",
   "execution_count": 40,
   "metadata": {
    "ExecuteTime": {
     "end_time": "2021-11-23T18:07:43.679554Z",
     "start_time": "2021-11-23T18:07:43.377Z"
    }
   },
   "outputs": [],
   "source": [
    "getRes <- function(f, p = NULL, related_taxa){\n",
    "    pre_res <- qread(f)\n",
    "    seedN <- str_extract(f, pattern = '(?<=simu)[:digit:]+(?=\\\\_)')\n",
    "    \n",
    "    # get the true edges\n",
    "    te <- lapply(pre_res$true_edges, str_replace_all, pattern = '\\\\_{2}.*', replacement = '')\n",
    "    te <- unique(lapply(te, sort))\n",
    "    expanded_edges <- list()\n",
    "    for (i in 1:length(te)){\n",
    "        tmp <- te[[i]] %>% str_replace(pattern = '\\\\_{2}.*', replacement = '')\n",
    "        tmp <- related_taxa[tmp]\n",
    "        tmp <- expand.grid(tmp[[1]], tmp[[2]])  \n",
    "        tmp <- asplit(tmp, MARGIN=1)\n",
    "\n",
    "        expanded_edges[[i]] <- sapply(lapply(tmp, sort), paste, collapse = ' - ')\n",
    "        names(expanded_edges)[i] <- paste(sort(te[[i]]), collapse = ' - ')\n",
    "    }\n",
    "        \n",
    "    # get the new metrics\n",
    "    \n",
    "    # B = 10\n",
    "    set.seed(as.numeric(seedN))\n",
    "    i_10 <- sample(1:100, 10, replace = FALSE)\n",
    "    quiet(pc <- stabilitySelection(pre_res$resampled[i_10], alpha_error = 10, pi_thr = 0.7))\n",
    "    res10 <- bootRes(pc, B = 10, expanded_edges=expanded_edges, pre_res=pre_res)\n",
    "    \n",
    "    # B = 90\n",
    "    quiet(pc <- stabilitySelection(pre_res$resampled[-i_10], alpha_error = 10, pi_thr = 0.7))\n",
    "    res90 <- bootRes(pc, B = 90, expanded_edges=expanded_edges, pre_res=pre_res)\n",
    "    \n",
    "    \n",
    "    return(rbind(res10, res90))\n",
    "}"
   ]
  },
  {
   "cell_type": "code",
   "execution_count": 41,
   "metadata": {
    "ExecuteTime": {
     "end_time": "2021-11-23T18:08:44.638423Z",
     "start_time": "2021-11-23T18:07:43.947Z"
    }
   },
   "outputs": [],
   "source": [
    "check <- lapply(fnames, getRes, related_taxa = related_taxa)\n",
    "check <- as.data.frame(do.call(what = rbind, check))"
   ]
  },
  {
   "cell_type": "code",
   "execution_count": 42,
   "metadata": {
    "ExecuteTime": {
     "end_time": "2021-11-23T18:08:44.657960Z",
     "start_time": "2021-11-23T18:07:46.406Z"
    }
   },
   "outputs": [],
   "source": [
    "check$precision <- check$tp/(check$tp+check$fp)\n",
    "check$recall <- check$tp/(check$tp+check$fn)\n",
    "check$w_precision <- check$tp_imp/(check$tp_imp+check$fp_imp)"
   ]
  },
  {
   "cell_type": "code",
   "execution_count": 43,
   "metadata": {
    "ExecuteTime": {
     "end_time": "2021-11-23T18:08:44.698577Z",
     "start_time": "2021-11-23T18:07:46.679Z"
    }
   },
   "outputs": [
    {
     "data": {
      "text/html": [
       "<table class=\"dataframe\">\n",
       "<caption>A tibble: 2 × 11</caption>\n",
       "<thead>\n",
       "\t<tr><th scope=col>B</th><th scope=col>rf_accuracy</th><th scope=col>n_decisions</th><th scope=col>tp</th><th scope=col>fp</th><th scope=col>fn</th><th scope=col>tp_imp</th><th scope=col>fp_imp</th><th scope=col>precision</th><th scope=col>recall</th><th scope=col>w_precision</th></tr>\n",
       "\t<tr><th scope=col>&lt;dbl&gt;</th><th scope=col>&lt;dbl&gt;</th><th scope=col>&lt;dbl&gt;</th><th scope=col>&lt;dbl&gt;</th><th scope=col>&lt;dbl&gt;</th><th scope=col>&lt;dbl&gt;</th><th scope=col>&lt;dbl&gt;</th><th scope=col>&lt;dbl&gt;</th><th scope=col>&lt;dbl&gt;</th><th scope=col>&lt;dbl&gt;</th><th scope=col>&lt;dbl&gt;</th></tr>\n",
       "</thead>\n",
       "<tbody>\n",
       "\t<tr><td>10</td><td>0.8943911</td><td>36.0</td><td>4.10</td><td>35.80</td><td>5.48</td><td> 69.02939</td><td> 18.48926</td><td>0.1166578</td><td>0.4260606</td><td>0.6255404</td></tr>\n",
       "\t<tr><td>90</td><td>0.8943911</td><td>26.9</td><td>3.52</td><td>28.48</td><td>6.08</td><td>591.27896</td><td>141.18844</td><td>0.1256255</td><td>0.3663283</td><td>0.6362664</td></tr>\n",
       "</tbody>\n",
       "</table>\n"
      ],
      "text/latex": [
       "A tibble: 2 × 11\n",
       "\\begin{tabular}{lllllllllll}\n",
       " B & rf\\_accuracy & n\\_decisions & tp & fp & fn & tp\\_imp & fp\\_imp & precision & recall & w\\_precision\\\\\n",
       " <dbl> & <dbl> & <dbl> & <dbl> & <dbl> & <dbl> & <dbl> & <dbl> & <dbl> & <dbl> & <dbl>\\\\\n",
       "\\hline\n",
       "\t 10 & 0.8943911 & 36.0 & 4.10 & 35.80 & 5.48 &  69.02939 &  18.48926 & 0.1166578 & 0.4260606 & 0.6255404\\\\\n",
       "\t 90 & 0.8943911 & 26.9 & 3.52 & 28.48 & 6.08 & 591.27896 & 141.18844 & 0.1256255 & 0.3663283 & 0.6362664\\\\\n",
       "\\end{tabular}\n"
      ],
      "text/markdown": [
       "\n",
       "A tibble: 2 × 11\n",
       "\n",
       "| B &lt;dbl&gt; | rf_accuracy &lt;dbl&gt; | n_decisions &lt;dbl&gt; | tp &lt;dbl&gt; | fp &lt;dbl&gt; | fn &lt;dbl&gt; | tp_imp &lt;dbl&gt; | fp_imp &lt;dbl&gt; | precision &lt;dbl&gt; | recall &lt;dbl&gt; | w_precision &lt;dbl&gt; |\n",
       "|---|---|---|---|---|---|---|---|---|---|---|\n",
       "| 10 | 0.8943911 | 36.0 | 4.10 | 35.80 | 5.48 |  69.02939 |  18.48926 | 0.1166578 | 0.4260606 | 0.6255404 |\n",
       "| 90 | 0.8943911 | 26.9 | 3.52 | 28.48 | 6.08 | 591.27896 | 141.18844 | 0.1256255 | 0.3663283 | 0.6362664 |\n",
       "\n"
      ],
      "text/plain": [
       "  B  rf_accuracy n_decisions tp   fp    fn   tp_imp    fp_imp    precision\n",
       "1 10 0.8943911   36.0        4.10 35.80 5.48  69.02939  18.48926 0.1166578\n",
       "2 90 0.8943911   26.9        3.52 28.48 6.08 591.27896 141.18844 0.1256255\n",
       "  recall    w_precision\n",
       "1 0.4260606 0.6255404  \n",
       "2 0.3663283 0.6362664  "
      ]
     },
     "metadata": {},
     "output_type": "display_data"
    }
   ],
   "source": [
    "check %>% group_by(B) %>% summarise_all(mean, na.rm = TRUE) %>% #subset(N != 1000) %>% \n",
    "select(B, rf_accuracy, n_decisions, tp, fp, fn, tp_imp, fp_imp, precision, recall, w_precision) "
   ]
  },
  {
   "cell_type": "code",
   "execution_count": 44,
   "metadata": {
    "ExecuteTime": {
     "end_time": "2021-11-23T18:08:44.740350Z",
     "start_time": "2021-11-23T18:07:51.328Z"
    }
   },
   "outputs": [
    {
     "data": {
      "text/html": [
       "<table class=\"dataframe\">\n",
       "<caption>A tibble: 2 × 11</caption>\n",
       "<thead>\n",
       "\t<tr><th scope=col>B</th><th scope=col>rf_accuracy</th><th scope=col>n_decisions</th><th scope=col>tp</th><th scope=col>fp</th><th scope=col>fn</th><th scope=col>tp_imp</th><th scope=col>fp_imp</th><th scope=col>precision</th><th scope=col>recall</th><th scope=col>w_precision</th></tr>\n",
       "\t<tr><th scope=col>&lt;dbl&gt;</th><th scope=col>&lt;dbl&gt;</th><th scope=col>&lt;dbl&gt;</th><th scope=col>&lt;dbl&gt;</th><th scope=col>&lt;dbl&gt;</th><th scope=col>&lt;dbl&gt;</th><th scope=col>&lt;dbl&gt;</th><th scope=col>&lt;dbl&gt;</th><th scope=col>&lt;dbl&gt;</th><th scope=col>&lt;dbl&gt;</th><th scope=col>&lt;dbl&gt;</th></tr>\n",
       "</thead>\n",
       "<tbody>\n",
       "\t<tr><td>10</td><td>0.03108126</td><td>10.79304</td><td>1.876275</td><td>12.02548</td><td>1.798412</td><td> 69.69825</td><td> 13.5689</td><td>0.07211268</td><td>0.1903263</td><td>0.3122550</td></tr>\n",
       "\t<tr><td>90</td><td>0.03108126</td><td>10.42221</td><td>1.728985</td><td>10.20452</td><td>1.770968</td><td>572.79811</td><td>105.0933</td><td>0.07961275</td><td>0.1843138</td><td>0.3290701</td></tr>\n",
       "</tbody>\n",
       "</table>\n"
      ],
      "text/latex": [
       "A tibble: 2 × 11\n",
       "\\begin{tabular}{lllllllllll}\n",
       " B & rf\\_accuracy & n\\_decisions & tp & fp & fn & tp\\_imp & fp\\_imp & precision & recall & w\\_precision\\\\\n",
       " <dbl> & <dbl> & <dbl> & <dbl> & <dbl> & <dbl> & <dbl> & <dbl> & <dbl> & <dbl> & <dbl>\\\\\n",
       "\\hline\n",
       "\t 10 & 0.03108126 & 10.79304 & 1.876275 & 12.02548 & 1.798412 &  69.69825 &  13.5689 & 0.07211268 & 0.1903263 & 0.3122550\\\\\n",
       "\t 90 & 0.03108126 & 10.42221 & 1.728985 & 10.20452 & 1.770968 & 572.79811 & 105.0933 & 0.07961275 & 0.1843138 & 0.3290701\\\\\n",
       "\\end{tabular}\n"
      ],
      "text/markdown": [
       "\n",
       "A tibble: 2 × 11\n",
       "\n",
       "| B &lt;dbl&gt; | rf_accuracy &lt;dbl&gt; | n_decisions &lt;dbl&gt; | tp &lt;dbl&gt; | fp &lt;dbl&gt; | fn &lt;dbl&gt; | tp_imp &lt;dbl&gt; | fp_imp &lt;dbl&gt; | precision &lt;dbl&gt; | recall &lt;dbl&gt; | w_precision &lt;dbl&gt; |\n",
       "|---|---|---|---|---|---|---|---|---|---|---|\n",
       "| 10 | 0.03108126 | 10.79304 | 1.876275 | 12.02548 | 1.798412 |  69.69825 |  13.5689 | 0.07211268 | 0.1903263 | 0.3122550 |\n",
       "| 90 | 0.03108126 | 10.42221 | 1.728985 | 10.20452 | 1.770968 | 572.79811 | 105.0933 | 0.07961275 | 0.1843138 | 0.3290701 |\n",
       "\n"
      ],
      "text/plain": [
       "  B  rf_accuracy n_decisions tp       fp       fn       tp_imp    fp_imp  \n",
       "1 10 0.03108126  10.79304    1.876275 12.02548 1.798412  69.69825  13.5689\n",
       "2 90 0.03108126  10.42221    1.728985 10.20452 1.770968 572.79811 105.0933\n",
       "  precision  recall    w_precision\n",
       "1 0.07211268 0.1903263 0.3122550  \n",
       "2 0.07961275 0.1843138 0.3290701  "
      ]
     },
     "metadata": {},
     "output_type": "display_data"
    }
   ],
   "source": [
    "check %>% group_by(B) %>% summarise_all(sd, na.rm = TRUE) %>% #subset(N != 1000) %>% \n",
    "select(B, rf_accuracy, n_decisions, tp, fp, fn, tp_imp, fp_imp, precision, recall, w_precision) "
   ]
  },
  {
   "cell_type": "code",
   "execution_count": 45,
   "metadata": {
    "ExecuteTime": {
     "end_time": "2021-11-23T18:08:44.767638Z",
     "start_time": "2021-11-23T18:07:51.520Z"
    }
   },
   "outputs": [
    {
     "data": {
      "text/html": [
       "<table class=\"dataframe\">\n",
       "<caption>A data.frame: 2 × 2</caption>\n",
       "<thead>\n",
       "\t<tr><th scope=col>B</th><th scope=col>n</th></tr>\n",
       "\t<tr><th scope=col>&lt;dbl&gt;</th><th scope=col>&lt;int&gt;</th></tr>\n",
       "</thead>\n",
       "<tbody>\n",
       "\t<tr><td>10</td><td>50</td></tr>\n",
       "\t<tr><td>90</td><td>50</td></tr>\n",
       "</tbody>\n",
       "</table>\n"
      ],
      "text/latex": [
       "A data.frame: 2 × 2\n",
       "\\begin{tabular}{ll}\n",
       " B & n\\\\\n",
       " <dbl> & <int>\\\\\n",
       "\\hline\n",
       "\t 10 & 50\\\\\n",
       "\t 90 & 50\\\\\n",
       "\\end{tabular}\n"
      ],
      "text/markdown": [
       "\n",
       "A data.frame: 2 × 2\n",
       "\n",
       "| B &lt;dbl&gt; | n &lt;int&gt; |\n",
       "|---|---|\n",
       "| 10 | 50 |\n",
       "| 90 | 50 |\n",
       "\n"
      ],
      "text/plain": [
       "  B  n \n",
       "1 10 50\n",
       "2 90 50"
      ]
     },
     "metadata": {},
     "output_type": "display_data"
    }
   ],
   "source": [
    "check %>% count(B)"
   ]
  },
  {
   "cell_type": "code",
   "execution_count": null,
   "metadata": {},
   "outputs": [],
   "source": []
  }
 ],
 "metadata": {
  "kernelspec": {
   "display_name": "R [conda env:Metagenomes_methanogen-r-ml] *",
   "language": "R",
   "name": "conda-env-Metagenomes_methanogen-r-ml-r"
  },
  "language_info": {
   "codemirror_mode": "r",
   "file_extension": ".r",
   "mimetype": "text/x-r-source",
   "name": "R",
   "pygments_lexer": "r",
   "version": "4.0.3"
  },
  "notify_time": "30",
  "toc": {
   "base_numbering": 1,
   "nav_menu": {},
   "number_sections": true,
   "sideBar": true,
   "skip_h1_title": false,
   "title_cell": "Table of Contents",
   "title_sidebar": "Contents",
   "toc_cell": false,
   "toc_position": {
    "height": "calc(100% - 180px)",
    "left": "10px",
    "top": "150px",
    "width": "165px"
   },
   "toc_section_display": true,
   "toc_window_display": true
  }
 },
 "nbformat": 4,
 "nbformat_minor": 4
}
