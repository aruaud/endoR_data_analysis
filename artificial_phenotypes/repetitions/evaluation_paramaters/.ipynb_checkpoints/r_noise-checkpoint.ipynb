{
 "cells": [
  {
   "cell_type": "markdown",
   "metadata": {},
   "source": [
    "# Preambule"
   ]
  },
  {
   "cell_type": "code",
   "execution_count": 1,
   "metadata": {
    "ExecuteTime": {
     "end_time": "2021-12-17T13:07:23.563825Z",
     "start_time": "2021-12-17T13:07:18.322Z"
    }
   },
   "outputs": [
    {
     "name": "stderr",
     "output_type": "stream",
     "text": [
      "── \u001b[1mAttaching packages\u001b[22m ────────────────────────────────────────────────────────────────────────────────────────────────────────────────────────────────────── tidyverse 1.3.0 ──\n",
      "\n",
      "\u001b[32m✔\u001b[39m \u001b[34mggplot2\u001b[39m 3.3.2     \u001b[32m✔\u001b[39m \u001b[34mpurrr  \u001b[39m 0.3.4\n",
      "\u001b[32m✔\u001b[39m \u001b[34mtibble \u001b[39m 3.0.4     \u001b[32m✔\u001b[39m \u001b[34mdplyr  \u001b[39m 1.0.2\n",
      "\u001b[32m✔\u001b[39m \u001b[34mtidyr  \u001b[39m 1.1.2     \u001b[32m✔\u001b[39m \u001b[34mstringr\u001b[39m 1.4.0\n",
      "\u001b[32m✔\u001b[39m \u001b[34mreadr  \u001b[39m 1.4.0     \u001b[32m✔\u001b[39m \u001b[34mforcats\u001b[39m 0.5.0\n",
      "\n",
      "── \u001b[1mConflicts\u001b[22m ───────────────────────────────────────────────────────────────────────────────────────────────────────────────────────────────────────── tidyverse_conflicts() ──\n",
      "\u001b[31m✖\u001b[39m \u001b[34mdplyr\u001b[39m::\u001b[32mfilter()\u001b[39m masks \u001b[34mstats\u001b[39m::filter()\n",
      "\u001b[31m✖\u001b[39m \u001b[34mdplyr\u001b[39m::\u001b[32mlag()\u001b[39m    masks \u001b[34mstats\u001b[39m::lag()\n",
      "\n",
      "Loading required package: lattice\n",
      "\n",
      "\n",
      "Attaching package: ‘caret’\n",
      "\n",
      "\n",
      "The following object is masked from ‘package:purrr’:\n",
      "\n",
      "    lift\n",
      "\n",
      "\n",
      "\n",
      "Attaching package: ‘data.table’\n",
      "\n",
      "\n",
      "The following objects are masked from ‘package:dplyr’:\n",
      "\n",
      "    between, first, last\n",
      "\n",
      "\n",
      "The following object is masked from ‘package:purrr’:\n",
      "\n",
      "    transpose\n",
      "\n",
      "\n",
      "qs v0.23.4.\n",
      "\n",
      "randomForest 4.6-14\n",
      "\n",
      "Type rfNews() to see new features/changes/bug fixes.\n",
      "\n",
      "\n",
      "Attaching package: ‘randomForest’\n",
      "\n",
      "\n",
      "The following object is masked from ‘package:dplyr’:\n",
      "\n",
      "    combine\n",
      "\n",
      "\n",
      "The following object is masked from ‘package:ggplot2’:\n",
      "\n",
      "    margin\n",
      "\n",
      "\n",
      "Registered S3 method overwritten by 'RRF':\n",
      "  method      from        \n",
      "  plot.margin randomForest\n",
      "\n",
      "Warning message:\n",
      "“replacing previous import ‘data.table::last’ by ‘dplyr::last’ when loading ‘endoR’”\n",
      "Warning message:\n",
      "“replacing previous import ‘data.table::first’ by ‘dplyr::first’ when loading ‘endoR’”\n",
      "Warning message:\n",
      "“replacing previous import ‘data.table::between’ by ‘dplyr::between’ when loading ‘endoR’”\n",
      "Warning message:\n",
      "“replacing previous import ‘dplyr::union’ by ‘igraph::union’ when loading ‘endoR’”\n",
      "Warning message:\n",
      "“replacing previous import ‘dplyr::as_data_frame’ by ‘igraph::as_data_frame’ when loading ‘endoR’”\n",
      "Warning message:\n",
      "“replacing previous import ‘dplyr::groups’ by ‘igraph::groups’ when loading ‘endoR’”\n"
     ]
    }
   ],
   "source": [
    "library(tidyverse)\n",
    "library(stringr)\n",
    "library(caret)\n",
    "library(data.table)\n",
    "library(stringr)\n",
    "library(dplyr)\n",
    "library(qs)\n",
    "library(parallel)\n",
    "library(randomForest)\n",
    "library(inTrees)\n",
    "library(endoR)"
   ]
  },
  {
   "cell_type": "code",
   "execution_count": 2,
   "metadata": {
    "ExecuteTime": {
     "end_time": "2021-12-17T13:07:23.636922Z",
     "start_time": "2021-12-17T13:07:18.325Z"
    }
   },
   "outputs": [
    {
     "name": "stderr",
     "output_type": "stream",
     "text": [
      "Loading required package: viridisLite\n",
      "\n"
     ]
    }
   ],
   "source": [
    "library(viridis)"
   ]
  },
  {
   "cell_type": "code",
   "execution_count": 3,
   "metadata": {
    "ExecuteTime": {
     "end_time": "2021-12-17T13:07:23.853112Z",
     "start_time": "2021-12-17T13:07:18.326Z"
    }
   },
   "outputs": [],
   "source": [
    "library(ggpubr)"
   ]
  },
  {
   "cell_type": "code",
   "execution_count": 4,
   "metadata": {
    "ExecuteTime": {
     "end_time": "2021-12-17T13:07:23.934411Z",
     "start_time": "2021-12-17T13:07:18.329Z"
    }
   },
   "outputs": [
    {
     "data": {
      "text/plain": [
       "R version 4.0.3 (2020-10-10)\n",
       "Platform: x86_64-conda-linux-gnu (64-bit)\n",
       "Running under: Ubuntu 18.04.6 LTS\n",
       "\n",
       "Matrix products: default\n",
       "BLAS/LAPACK: /ebio/abt3_projects/Methanogen_SCFA/Metagenomes_methanogen/envs/r-ml/lib/libopenblasp-r0.3.10.so\n",
       "\n",
       "locale:\n",
       " [1] LC_CTYPE=en_US.UTF-8       LC_NUMERIC=C              \n",
       " [3] LC_TIME=en_US.UTF-8        LC_COLLATE=en_US.UTF-8    \n",
       " [5] LC_MONETARY=en_US.UTF-8    LC_MESSAGES=en_US.UTF-8   \n",
       " [7] LC_PAPER=en_US.UTF-8       LC_NAME=C                 \n",
       " [9] LC_ADDRESS=C               LC_TELEPHONE=C            \n",
       "[11] LC_MEASUREMENT=en_US.UTF-8 LC_IDENTIFICATION=C       \n",
       "\n",
       "attached base packages:\n",
       "[1] parallel  stats     graphics  grDevices utils     datasets  methods  \n",
       "[8] base     \n",
       "\n",
       "other attached packages:\n",
       " [1] ggpubr_0.4.0        viridis_0.5.1       viridisLite_0.3.0  \n",
       " [4] endoR_0.1.0         inTrees_1.3         randomForest_4.6-14\n",
       " [7] qs_0.23.4           data.table_1.13.4   caret_6.0-86       \n",
       "[10] lattice_0.20-41     forcats_0.5.0       stringr_1.4.0      \n",
       "[13] dplyr_1.0.2         purrr_0.3.4         readr_1.4.0        \n",
       "[16] tidyr_1.1.2         tibble_3.0.4        ggplot2_3.3.2      \n",
       "[19] tidyverse_1.3.0    \n",
       "\n",
       "loaded via a namespace (and not attached):\n",
       "  [1] colorspace_2.0-0     ggsignif_0.6.0       rio_0.5.16          \n",
       "  [4] ellipsis_0.3.1       class_7.3-17         IRdisplay_0.7.0     \n",
       "  [7] base64enc_0.1-3      fs_1.5.0             rstudioapi_0.13     \n",
       " [10] farver_2.0.3         graphlayouts_0.7.1   ggrepel_0.8.2       \n",
       " [13] prodlim_2019.11.13   fansi_0.4.1          lubridate_1.7.9.2   \n",
       " [16] ranger_0.12.1        xml2_1.3.2           codetools_0.2-18    \n",
       " [19] splines_4.0.3        arules_1.6-6         polyclip_1.10-0     \n",
       " [22] IRkernel_1.1.1       jsonlite_1.7.2       pROC_1.16.2         \n",
       " [25] broom_0.7.2          dbplyr_2.0.0         ggforce_0.3.2       \n",
       " [28] compiler_4.0.3       httr_1.4.2           backports_1.2.0     \n",
       " [31] assertthat_0.2.1     Matrix_1.2-18        cli_2.2.0           \n",
       " [34] tweenr_1.0.1         htmltools_0.5.0      tools_4.0.3         \n",
       " [37] igraph_1.2.6         gtable_0.3.0         glue_1.4.2          \n",
       " [40] reshape2_1.4.4       Rcpp_1.0.5           carData_3.0-4       \n",
       " [43] cellranger_1.1.0     vctrs_0.3.6          nlme_3.1-150        \n",
       " [46] iterators_1.0.13     ggraph_2.0.4         timeDate_3043.102   \n",
       " [49] gower_0.2.2          ps_1.5.0             openxlsx_4.2.3      \n",
       " [52] rvest_0.3.6          lifecycle_0.2.0      rstatix_0.6.0       \n",
       " [55] MASS_7.3-53          scales_1.1.1         ipred_0.9-9         \n",
       " [58] tidygraph_1.2.0      hms_0.5.3            curl_4.3            \n",
       " [61] gridExtra_2.3        rpart_4.1-15         stringi_1.5.3       \n",
       " [64] foreach_1.5.1        zip_2.1.1            lava_1.6.8.1        \n",
       " [67] repr_1.1.2.9000      rlang_0.4.10         pkgconfig_2.0.3     \n",
       " [70] evaluate_0.14        recipes_0.1.15       tidyselect_1.1.0    \n",
       " [73] gbm_2.1.8            plyr_1.8.6           magrittr_2.0.1      \n",
       " [76] R6_2.5.0             generics_0.1.0       pbdZMQ_0.3-3.1      \n",
       " [79] DBI_1.1.0            foreign_0.8-80       pillar_1.4.7        \n",
       " [82] haven_2.3.1          withr_2.3.0          abind_1.4-5         \n",
       " [85] survival_3.2-7       nnet_7.3-14          car_3.0-10          \n",
       " [88] modelr_0.1.8         crayon_1.3.4         xgboost_1.2.0.1     \n",
       " [91] uuid_0.1-4           RApiSerialize_0.1.0  RRF_1.9.1           \n",
       " [94] grid_4.0.3           readxl_1.3.1         ModelMetrics_1.2.2.2\n",
       " [97] reprex_0.3.0         digest_0.6.27        xtable_1.8-4        \n",
       "[100] RcppParallel_5.0.2   stats4_4.0.3         munsell_0.5.0       \n",
       "[103] stringfish_0.14.2   "
      ]
     },
     "metadata": {},
     "output_type": "display_data"
    }
   ],
   "source": [
    "sessionInfo()"
   ]
  },
  {
   "cell_type": "code",
   "execution_count": 5,
   "metadata": {
    "ExecuteTime": {
     "end_time": "2021-12-17T13:07:23.963648Z",
     "start_time": "2021-12-17T13:07:18.330Z"
    }
   },
   "outputs": [],
   "source": [
    "file.sources <- list.files('../scripts/', pattern = '*.R', full.names=TRUE, ignore.case=TRUE)\n",
    "for (f in file.sources) {\n",
    "    source(f)\n",
    "}\n",
    "rm('file.sources', 'f')"
   ]
  },
  {
   "cell_type": "markdown",
   "metadata": {},
   "source": [
    "# Results"
   ]
  },
  {
   "cell_type": "code",
   "execution_count": 6,
   "metadata": {
    "ExecuteTime": {
     "end_time": "2021-12-17T13:07:24.063985Z",
     "start_time": "2021-12-17T13:07:18.333Z"
    }
   },
   "outputs": [],
   "source": [
    "fnames <- list.files('/ebio/abt3_projects/temp_data/aruaud/MtgSimu50/', full.names = TRUE\n",
    "                     ,recursive = TRUE, pattern = 'simu')\n",
    "fnames <- fnames[-str_which(fnames, pattern = 'bis')]"
   ]
  },
  {
   "cell_type": "code",
   "execution_count": 7,
   "metadata": {
    "ExecuteTime": {
     "end_time": "2021-12-17T13:07:24.080249Z",
     "start_time": "2021-12-17T13:07:18.335Z"
    }
   },
   "outputs": [],
   "source": [
    "fnames <- str_subset(fnames, pattern = 'B10/')"
   ]
  },
  {
   "cell_type": "code",
   "execution_count": 8,
   "metadata": {
    "ExecuteTime": {
     "end_time": "2021-12-17T13:07:24.102082Z",
     "start_time": "2021-12-17T13:07:18.338Z"
    }
   },
   "outputs": [],
   "source": [
    "seedN <- as.numeric(str_extract(fnames, pattern = '(?<=simu)[:digit:]*(?=\\\\_)'))\n",
    "fnames <- fnames[which(seedN %in% 1:50)]"
   ]
  },
  {
   "cell_type": "code",
   "execution_count": 9,
   "metadata": {
    "ExecuteTime": {
     "end_time": "2021-12-17T13:07:24.120456Z",
     "start_time": "2021-12-17T13:07:18.340Z"
    }
   },
   "outputs": [
    {
     "data": {
      "text/html": [
       "150"
      ],
      "text/latex": [
       "150"
      ],
      "text/markdown": [
       "150"
      ],
      "text/plain": [
       "[1] 150"
      ]
     },
     "metadata": {},
     "output_type": "display_data"
    }
   ],
   "source": [
    "length(fnames)"
   ]
  },
  {
   "cell_type": "markdown",
   "metadata": {},
   "source": [
    "# check"
   ]
  },
  {
   "cell_type": "code",
   "execution_count": 10,
   "metadata": {
    "ExecuteTime": {
     "end_time": "2021-12-17T13:07:24.136178Z",
     "start_time": "2021-12-17T13:07:21.881Z"
    }
   },
   "outputs": [],
   "source": [
    "getRes <- function(f, p = NULL, related_taxa, alpha_error = 10){\n",
    "    pre_res <- qread(f)\n",
    "    p <- as.numeric(str_extract(f, pattern = '(?<=p)[:digit:]+(?=\\\\_B)'))/10\n",
    "    if (p == 0.5){p <- 0.05}\n",
    "    \n",
    "    # get the true edges\n",
    "    te <- lapply(pre_res$true_edges, str_replace_all, pattern = '\\\\_{2}.*', replacement = '')\n",
    "    te <- unique(lapply(te, sort))\n",
    "    expanded_edges <- list()\n",
    "    for (i in 1:length(te)){\n",
    "        tmp <- te[[i]] %>% str_replace(pattern = '\\\\_{2}.*', replacement = '')\n",
    "        tmp <- related_taxa[tmp]\n",
    "        tmp <- expand.grid(tmp[[1]], tmp[[2]])  \n",
    "        tmp <- asplit(tmp, MARGIN=1)\n",
    "\n",
    "        expanded_edges[[i]] <- sapply(lapply(tmp, sort), paste, collapse = ' - ')\n",
    "        names(expanded_edges)[i] <- paste(sort(te[[i]]), collapse = ' - ')\n",
    "    }\n",
    "        \n",
    "    # get the new metrics\n",
    "    quiet(pc <- stabilitySelection(pre_res$resampled, alpha_error = alpha_error, pi_thr = 0.7))\n",
    "    cond <- pc$rules_summary %>% subset(inN >= 7, select = condition) %>% unlist\n",
    "    if (length(cond) > 0){\n",
    "            \n",
    "        imp_edges <- pc$edges_agg %>% subset(condition %in% cond) %>% select(x,y, importance, n, imp)\n",
    "        imp_edges$x <- str_replace(imp_edges$x, pattern = '\\\\_{2}.*', replacement = '')\n",
    "        imp_edges$y <- str_replace(imp_edges$y, pattern = '\\\\_{2}.*', replacement = '')\n",
    "        suppressMessages(imp_edges <- imp_edges %>% group_by(x,y) %>% summarise(importance = sum(n*imp*importance)))\n",
    "        imp_edges <- asplit(as.matrix(imp_edges), MARGIN = 1)\n",
    "        imp_edges <- lapply(imp_edges, sort) \n",
    "        pred_edges <- sapply(imp_edges, function(x){paste(x[-1], collapse = ' - ')}) \n",
    "        imp_edges <- sapply(imp_edges, function(x)x['importance']) \n",
    "\n",
    "        # those that should not be but are = in pred_edges but not truth\n",
    "        fp <- sum(sapply(pred_edges, function(x){!(x %in% unlist(expanded_edges))}))\n",
    "        tp <- sum(sapply(expanded_edges, function(x){ifelse(sum(x %in% pred_edges) > 0, 1, 0)}))\n",
    "        fn <- sum(sapply(names(expanded_edges), function(x){!(x %in% pred_edges)}))\n",
    "\n",
    "\n",
    "        # sum of FP importances\n",
    "        if(fp > 0) {\n",
    "            fp_imp <- which(sapply(pred_edges, function(x){!(x %in% unlist(expanded_edges))}))\n",
    "            fp_imp <- sum(as.numeric(imp_edges[fp_imp]))\n",
    "        } else {fp_imp <- 0}\n",
    "        # sum of TP importances\n",
    "        if(tp > 0) {\n",
    "            tp_imp <- list()\n",
    "            for (i in 1:length(expanded_edges)){\n",
    "                tp_imp[[i]] <- mean(as.numeric(imp_edges[which(pred_edges %in% expanded_edges[[i]])]))\n",
    "            }\n",
    "            tp_imp <- sum(unlist(tp_imp), na.rm = TRUE)\n",
    "        } else {tp_imp <- 0}\n",
    "\n",
    "        res <- c('p' = p, 'rf_accuracy' = pre_res$gamma_all[1, 'meanK'], 'n_decisions' = length(cond)\n",
    "                , 'tp_imp' = tp_imp, 'fp_imp' = fp_imp, 'tp' = tp, 'fp' = fp\n",
    "                , 'fn' = fn)\n",
    "    } else {\n",
    "        res <- c('p' = p, 'rf_accuracy' = pre_res$gamma_all[1, 'meanK'], 'n_decisions' = NA\n",
    "                , 'tp_imp' = NA, 'fp_imp' = NA, 'tp' = NA, 'fp' = NA, 'fn' = NA)\n",
    "    }\n",
    "    \n",
    "    return(res)\n",
    "}"
   ]
  },
  {
   "cell_type": "code",
   "execution_count": 11,
   "metadata": {
    "ExecuteTime": {
     "end_time": "2021-12-17T13:07:24.163340Z",
     "start_time": "2021-12-17T13:07:23.079Z"
    }
   },
   "outputs": [],
   "source": [
    "related_taxa <- qread('../tmp/related_taxa_full.qs')\n",
    "is_s <- str_which(names(related_taxa), pattern = '^s_')\n",
    "related_taxa[is_s] <- related_taxa[is_s] %>% lapply(function(x){str_subset(x, pattern = '^s|g')})\n",
    "related_taxa$groupa <- 'groupa'\n",
    "related_taxa$groupb <- 'groupb'\n",
    "related_taxa$groupc <- 'groupc'\n",
    "related_taxa$groupd <- 'groupd'"
   ]
  },
  {
   "cell_type": "code",
   "execution_count": 12,
   "metadata": {
    "ExecuteTime": {
     "end_time": "2021-12-17T13:08:09.116769Z",
     "start_time": "2021-12-17T13:07:23.693Z"
    }
   },
   "outputs": [],
   "source": [
    "check <- sapply(fnames, getRes, related_taxa = related_taxa, alpha_error = 5)\n",
    "check <- as.data.frame(t(check))"
   ]
  },
  {
   "cell_type": "code",
   "execution_count": 13,
   "metadata": {
    "ExecuteTime": {
     "end_time": "2021-12-17T13:08:09.137693Z",
     "start_time": "2021-12-17T13:07:24.614Z"
    }
   },
   "outputs": [],
   "source": [
    "check$precision <- check$tp/(check$tp+check$fp)\n",
    "check$recall <- check$tp/(check$tp+check$fn)\n",
    "check$w_precision <- check$tp_imp/(check$tp_imp+check$fp_imp)"
   ]
  },
  {
   "cell_type": "code",
   "execution_count": 14,
   "metadata": {
    "ExecuteTime": {
     "end_time": "2021-12-17T13:08:09.158973Z",
     "start_time": "2021-12-17T13:07:27.098Z"
    }
   },
   "outputs": [
    {
     "data": {
      "text/html": [
       "<style>\n",
       ".list-inline {list-style: none; margin:0; padding: 0}\n",
       ".list-inline>li {display: inline-block}\n",
       ".list-inline>li:not(:last-child)::after {content: \"\\00b7\"; padding: 0 .5ex}\n",
       "</style>\n",
       "<ol class=list-inline><li>150</li><li>11</li></ol>\n"
      ],
      "text/latex": [
       "\\begin{enumerate*}\n",
       "\\item 150\n",
       "\\item 11\n",
       "\\end{enumerate*}\n"
      ],
      "text/markdown": [
       "1. 150\n",
       "2. 11\n",
       "\n",
       "\n"
      ],
      "text/plain": [
       "[1] 150  11"
      ]
     },
     "metadata": {},
     "output_type": "display_data"
    }
   ],
   "source": [
    "check[complete.cases(check),] %>% dim"
   ]
  },
  {
   "cell_type": "code",
   "execution_count": 15,
   "metadata": {
    "ExecuteTime": {
     "end_time": "2021-12-17T13:08:09.191061Z",
     "start_time": "2021-12-17T13:07:31.317Z"
    }
   },
   "outputs": [
    {
     "data": {
      "text/html": [
       "<table class=\"dataframe\">\n",
       "<caption>A data.frame: 0 × 2</caption>\n",
       "<thead>\n",
       "\t<tr><th scope=col>p</th><th scope=col>n</th></tr>\n",
       "\t<tr><th scope=col>&lt;dbl&gt;</th><th scope=col>&lt;int&gt;</th></tr>\n",
       "</thead>\n",
       "<tbody>\n",
       "</tbody>\n",
       "</table>\n"
      ],
      "text/latex": [
       "A data.frame: 0 × 2\n",
       "\\begin{tabular}{ll}\n",
       " p & n\\\\\n",
       " <dbl> & <int>\\\\\n",
       "\\hline\n",
       "\\end{tabular}\n"
      ],
      "text/markdown": [
       "\n",
       "A data.frame: 0 × 2\n",
       "\n",
       "| p &lt;dbl&gt; | n &lt;int&gt; |\n",
       "|---|---|\n",
       "\n"
      ],
      "text/plain": [
       "     p n"
      ]
     },
     "metadata": {},
     "output_type": "display_data"
    }
   ],
   "source": [
    "check %>% subset(tp == 0) %>% count(p)"
   ]
  },
  {
   "cell_type": "code",
   "execution_count": 16,
   "metadata": {
    "ExecuteTime": {
     "end_time": "2021-12-17T13:08:09.259355Z",
     "start_time": "2021-12-17T13:07:34.121Z"
    }
   },
   "outputs": [
    {
     "data": {
      "text/html": [
       "<table class=\"dataframe\">\n",
       "<caption>A tibble: 3 × 10</caption>\n",
       "<thead>\n",
       "\t<tr><th scope=col>rf_accuracy</th><th scope=col>n_decisions</th><th scope=col>tp</th><th scope=col>fp</th><th scope=col>fn</th><th scope=col>tp_imp</th><th scope=col>fp_imp</th><th scope=col>precision</th><th scope=col>recall</th><th scope=col>w_precision</th></tr>\n",
       "\t<tr><th scope=col>&lt;dbl&gt;</th><th scope=col>&lt;dbl&gt;</th><th scope=col>&lt;dbl&gt;</th><th scope=col>&lt;dbl&gt;</th><th scope=col>&lt;dbl&gt;</th><th scope=col>&lt;dbl&gt;</th><th scope=col>&lt;dbl&gt;</th><th scope=col>&lt;dbl&gt;</th><th scope=col>&lt;dbl&gt;</th><th scope=col>&lt;dbl&gt;</th></tr>\n",
       "</thead>\n",
       "<tbody>\n",
       "\t<tr><td>0.9580307</td><td>24.70</td><td>8.20</td><td>15.40</td><td>1.10</td><td>898.62283</td><td>19.40421</td><td>0.3836248</td><td>0.8867648</td><td>0.9757764</td></tr>\n",
       "\t<tr><td>0.9058784</td><td>26.10</td><td>7.76</td><td>17.42</td><td>1.82</td><td>225.55613</td><td>20.34507</td><td>0.3400354</td><td>0.8169406</td><td>0.8989458</td></tr>\n",
       "\t<tr><td>0.8452213</td><td>31.32</td><td>7.24</td><td>20.40</td><td>2.40</td><td> 79.42469</td><td>20.59334</td><td>0.2829908</td><td>0.7528333</td><td>0.7664447</td></tr>\n",
       "</tbody>\n",
       "</table>\n"
      ],
      "text/latex": [
       "A tibble: 3 × 10\n",
       "\\begin{tabular}{llllllllll}\n",
       " rf\\_accuracy & n\\_decisions & tp & fp & fn & tp\\_imp & fp\\_imp & precision & recall & w\\_precision\\\\\n",
       " <dbl> & <dbl> & <dbl> & <dbl> & <dbl> & <dbl> & <dbl> & <dbl> & <dbl> & <dbl>\\\\\n",
       "\\hline\n",
       "\t 0.9580307 & 24.70 & 8.20 & 15.40 & 1.10 & 898.62283 & 19.40421 & 0.3836248 & 0.8867648 & 0.9757764\\\\\n",
       "\t 0.9058784 & 26.10 & 7.76 & 17.42 & 1.82 & 225.55613 & 20.34507 & 0.3400354 & 0.8169406 & 0.8989458\\\\\n",
       "\t 0.8452213 & 31.32 & 7.24 & 20.40 & 2.40 &  79.42469 & 20.59334 & 0.2829908 & 0.7528333 & 0.7664447\\\\\n",
       "\\end{tabular}\n"
      ],
      "text/markdown": [
       "\n",
       "A tibble: 3 × 10\n",
       "\n",
       "| rf_accuracy &lt;dbl&gt; | n_decisions &lt;dbl&gt; | tp &lt;dbl&gt; | fp &lt;dbl&gt; | fn &lt;dbl&gt; | tp_imp &lt;dbl&gt; | fp_imp &lt;dbl&gt; | precision &lt;dbl&gt; | recall &lt;dbl&gt; | w_precision &lt;dbl&gt; |\n",
       "|---|---|---|---|---|---|---|---|---|---|\n",
       "| 0.9580307 | 24.70 | 8.20 | 15.40 | 1.10 | 898.62283 | 19.40421 | 0.3836248 | 0.8867648 | 0.9757764 |\n",
       "| 0.9058784 | 26.10 | 7.76 | 17.42 | 1.82 | 225.55613 | 20.34507 | 0.3400354 | 0.8169406 | 0.8989458 |\n",
       "| 0.8452213 | 31.32 | 7.24 | 20.40 | 2.40 |  79.42469 | 20.59334 | 0.2829908 | 0.7528333 | 0.7664447 |\n",
       "\n"
      ],
      "text/plain": [
       "  rf_accuracy n_decisions tp   fp    fn   tp_imp    fp_imp   precision\n",
       "1 0.9580307   24.70       8.20 15.40 1.10 898.62283 19.40421 0.3836248\n",
       "2 0.9058784   26.10       7.76 17.42 1.82 225.55613 20.34507 0.3400354\n",
       "3 0.8452213   31.32       7.24 20.40 2.40  79.42469 20.59334 0.2829908\n",
       "  recall    w_precision\n",
       "1 0.8867648 0.9757764  \n",
       "2 0.8169406 0.8989458  \n",
       "3 0.7528333 0.7664447  "
      ]
     },
     "metadata": {},
     "output_type": "display_data"
    }
   ],
   "source": [
    "check[ complete.cases(check), ] %>% group_by(p) %>% summarise_all(mean) %>% #subset(N != 1000) %>% \n",
    "select(rf_accuracy, n_decisions, tp, fp, fn, tp_imp, fp_imp, precision, recall, w_precision) "
   ]
  },
  {
   "cell_type": "code",
   "execution_count": 17,
   "metadata": {
    "ExecuteTime": {
     "end_time": "2021-12-17T13:08:09.306405Z",
     "start_time": "2021-12-17T13:07:36.159Z"
    }
   },
   "outputs": [
    {
     "data": {
      "text/html": [
       "<table class=\"dataframe\">\n",
       "<caption>A tibble: 3 × 10</caption>\n",
       "<thead>\n",
       "\t<tr><th scope=col>rf_accuracy</th><th scope=col>n_decisions</th><th scope=col>tp</th><th scope=col>fp</th><th scope=col>fn</th><th scope=col>tp_imp</th><th scope=col>fp_imp</th><th scope=col>precision</th><th scope=col>recall</th><th scope=col>w_precision</th></tr>\n",
       "\t<tr><th scope=col>&lt;dbl&gt;</th><th scope=col>&lt;dbl&gt;</th><th scope=col>&lt;dbl&gt;</th><th scope=col>&lt;dbl&gt;</th><th scope=col>&lt;dbl&gt;</th><th scope=col>&lt;dbl&gt;</th><th scope=col>&lt;dbl&gt;</th><th scope=col>&lt;dbl&gt;</th><th scope=col>&lt;dbl&gt;</th><th scope=col>&lt;dbl&gt;</th></tr>\n",
       "</thead>\n",
       "<tbody>\n",
       "\t<tr><td>0.01965757</td><td>10.664168</td><td>1.551826</td><td>7.892130</td><td>1.681229</td><td>328.07144</td><td>14.52853</td><td>0.1256266</td><td>0.1785004</td><td>0.02049733</td></tr>\n",
       "\t<tr><td>0.02310016</td><td> 9.463679</td><td>1.756155</td><td>8.689872</td><td>1.976288</td><td>137.39915</td><td>17.18017</td><td>0.1113845</td><td>0.2017214</td><td>0.07610635</td></tr>\n",
       "\t<tr><td>0.03182804</td><td>12.243182</td><td>1.974945</td><td>9.598044</td><td>1.969150</td><td> 54.14119</td><td>17.64019</td><td>0.1129482</td><td>0.2129018</td><td>0.15387751</td></tr>\n",
       "</tbody>\n",
       "</table>\n"
      ],
      "text/latex": [
       "A tibble: 3 × 10\n",
       "\\begin{tabular}{llllllllll}\n",
       " rf\\_accuracy & n\\_decisions & tp & fp & fn & tp\\_imp & fp\\_imp & precision & recall & w\\_precision\\\\\n",
       " <dbl> & <dbl> & <dbl> & <dbl> & <dbl> & <dbl> & <dbl> & <dbl> & <dbl> & <dbl>\\\\\n",
       "\\hline\n",
       "\t 0.01965757 & 10.664168 & 1.551826 & 7.892130 & 1.681229 & 328.07144 & 14.52853 & 0.1256266 & 0.1785004 & 0.02049733\\\\\n",
       "\t 0.02310016 &  9.463679 & 1.756155 & 8.689872 & 1.976288 & 137.39915 & 17.18017 & 0.1113845 & 0.2017214 & 0.07610635\\\\\n",
       "\t 0.03182804 & 12.243182 & 1.974945 & 9.598044 & 1.969150 &  54.14119 & 17.64019 & 0.1129482 & 0.2129018 & 0.15387751\\\\\n",
       "\\end{tabular}\n"
      ],
      "text/markdown": [
       "\n",
       "A tibble: 3 × 10\n",
       "\n",
       "| rf_accuracy &lt;dbl&gt; | n_decisions &lt;dbl&gt; | tp &lt;dbl&gt; | fp &lt;dbl&gt; | fn &lt;dbl&gt; | tp_imp &lt;dbl&gt; | fp_imp &lt;dbl&gt; | precision &lt;dbl&gt; | recall &lt;dbl&gt; | w_precision &lt;dbl&gt; |\n",
       "|---|---|---|---|---|---|---|---|---|---|\n",
       "| 0.01965757 | 10.664168 | 1.551826 | 7.892130 | 1.681229 | 328.07144 | 14.52853 | 0.1256266 | 0.1785004 | 0.02049733 |\n",
       "| 0.02310016 |  9.463679 | 1.756155 | 8.689872 | 1.976288 | 137.39915 | 17.18017 | 0.1113845 | 0.2017214 | 0.07610635 |\n",
       "| 0.03182804 | 12.243182 | 1.974945 | 9.598044 | 1.969150 |  54.14119 | 17.64019 | 0.1129482 | 0.2129018 | 0.15387751 |\n",
       "\n"
      ],
      "text/plain": [
       "  rf_accuracy n_decisions tp       fp       fn       tp_imp    fp_imp  \n",
       "1 0.01965757  10.664168   1.551826 7.892130 1.681229 328.07144 14.52853\n",
       "2 0.02310016   9.463679   1.756155 8.689872 1.976288 137.39915 17.18017\n",
       "3 0.03182804  12.243182   1.974945 9.598044 1.969150  54.14119 17.64019\n",
       "  precision recall    w_precision\n",
       "1 0.1256266 0.1785004 0.02049733 \n",
       "2 0.1113845 0.2017214 0.07610635 \n",
       "3 0.1129482 0.2129018 0.15387751 "
      ]
     },
     "metadata": {},
     "output_type": "display_data"
    }
   ],
   "source": [
    "check[ complete.cases(check), ] %>% group_by(p) %>% summarise_all(sd) %>% #subset(N != 1000) %>% \n",
    "select(rf_accuracy, n_decisions, tp, fp, fn, tp_imp, fp_imp, precision, recall, w_precision) "
   ]
  },
  {
   "cell_type": "code",
   "execution_count": 18,
   "metadata": {
    "ExecuteTime": {
     "end_time": "2021-12-17T13:08:09.338623Z",
     "start_time": "2021-12-17T13:07:37.269Z"
    }
   },
   "outputs": [
    {
     "data": {
      "text/html": [
       "<table class=\"dataframe\">\n",
       "<caption>A data.frame: 3 × 2</caption>\n",
       "<thead>\n",
       "\t<tr><th scope=col>p</th><th scope=col>n</th></tr>\n",
       "\t<tr><th scope=col>&lt;dbl&gt;</th><th scope=col>&lt;int&gt;</th></tr>\n",
       "</thead>\n",
       "<tbody>\n",
       "\t<tr><td>0.00</td><td>50</td></tr>\n",
       "\t<tr><td>0.05</td><td>50</td></tr>\n",
       "\t<tr><td>0.10</td><td>50</td></tr>\n",
       "</tbody>\n",
       "</table>\n"
      ],
      "text/latex": [
       "A data.frame: 3 × 2\n",
       "\\begin{tabular}{ll}\n",
       " p & n\\\\\n",
       " <dbl> & <int>\\\\\n",
       "\\hline\n",
       "\t 0.00 & 50\\\\\n",
       "\t 0.05 & 50\\\\\n",
       "\t 0.10 & 50\\\\\n",
       "\\end{tabular}\n"
      ],
      "text/markdown": [
       "\n",
       "A data.frame: 3 × 2\n",
       "\n",
       "| p &lt;dbl&gt; | n &lt;int&gt; |\n",
       "|---|---|\n",
       "| 0.00 | 50 |\n",
       "| 0.05 | 50 |\n",
       "| 0.10 | 50 |\n",
       "\n"
      ],
      "text/plain": [
       "  p    n \n",
       "1 0.00 50\n",
       "2 0.05 50\n",
       "3 0.10 50"
      ]
     },
     "metadata": {},
     "output_type": "display_data"
    }
   ],
   "source": [
    "check[ complete.cases(check), ] %>% count(p)"
   ]
  },
  {
   "cell_type": "markdown",
   "metadata": {},
   "source": [
    "# plots"
   ]
  },
  {
   "cell_type": "code",
   "execution_count": 19,
   "metadata": {
    "ExecuteTime": {
     "end_time": "2021-12-17T13:08:09.378863Z",
     "start_time": "2021-12-17T13:07:39.564Z"
    }
   },
   "outputs": [
    {
     "data": {
      "text/html": [
       "<table class=\"dataframe\">\n",
       "<caption>A tibble: 3 × 11</caption>\n",
       "<thead>\n",
       "\t<tr><th scope=col>p</th><th scope=col>rf_accuracy</th><th scope=col>n_decisions</th><th scope=col>tp_imp</th><th scope=col>fp_imp</th><th scope=col>tp</th><th scope=col>fp</th><th scope=col>fn</th><th scope=col>precision</th><th scope=col>recall</th><th scope=col>w_precision</th></tr>\n",
       "\t<tr><th scope=col>&lt;dbl&gt;</th><th scope=col>&lt;dbl&gt;</th><th scope=col>&lt;dbl&gt;</th><th scope=col>&lt;dbl&gt;</th><th scope=col>&lt;dbl&gt;</th><th scope=col>&lt;dbl&gt;</th><th scope=col>&lt;dbl&gt;</th><th scope=col>&lt;dbl&gt;</th><th scope=col>&lt;dbl&gt;</th><th scope=col>&lt;dbl&gt;</th><th scope=col>&lt;dbl&gt;</th></tr>\n",
       "</thead>\n",
       "<tbody>\n",
       "\t<tr><td>0.00</td><td>0.9580307</td><td>24.70</td><td>898.62283</td><td>19.40421</td><td>8.20</td><td>15.40</td><td>1.10</td><td>0.3836248</td><td>0.8867648</td><td>0.9757764</td></tr>\n",
       "\t<tr><td>0.05</td><td>0.9058784</td><td>26.10</td><td>225.55613</td><td>20.34507</td><td>7.76</td><td>17.42</td><td>1.82</td><td>0.3400354</td><td>0.8169406</td><td>0.8989458</td></tr>\n",
       "\t<tr><td>0.10</td><td>0.8452213</td><td>31.32</td><td> 79.42469</td><td>20.59334</td><td>7.24</td><td>20.40</td><td>2.40</td><td>0.2829908</td><td>0.7528333</td><td>0.7664447</td></tr>\n",
       "</tbody>\n",
       "</table>\n"
      ],
      "text/latex": [
       "A tibble: 3 × 11\n",
       "\\begin{tabular}{lllllllllll}\n",
       " p & rf\\_accuracy & n\\_decisions & tp\\_imp & fp\\_imp & tp & fp & fn & precision & recall & w\\_precision\\\\\n",
       " <dbl> & <dbl> & <dbl> & <dbl> & <dbl> & <dbl> & <dbl> & <dbl> & <dbl> & <dbl> & <dbl>\\\\\n",
       "\\hline\n",
       "\t 0.00 & 0.9580307 & 24.70 & 898.62283 & 19.40421 & 8.20 & 15.40 & 1.10 & 0.3836248 & 0.8867648 & 0.9757764\\\\\n",
       "\t 0.05 & 0.9058784 & 26.10 & 225.55613 & 20.34507 & 7.76 & 17.42 & 1.82 & 0.3400354 & 0.8169406 & 0.8989458\\\\\n",
       "\t 0.10 & 0.8452213 & 31.32 &  79.42469 & 20.59334 & 7.24 & 20.40 & 2.40 & 0.2829908 & 0.7528333 & 0.7664447\\\\\n",
       "\\end{tabular}\n"
      ],
      "text/markdown": [
       "\n",
       "A tibble: 3 × 11\n",
       "\n",
       "| p &lt;dbl&gt; | rf_accuracy &lt;dbl&gt; | n_decisions &lt;dbl&gt; | tp_imp &lt;dbl&gt; | fp_imp &lt;dbl&gt; | tp &lt;dbl&gt; | fp &lt;dbl&gt; | fn &lt;dbl&gt; | precision &lt;dbl&gt; | recall &lt;dbl&gt; | w_precision &lt;dbl&gt; |\n",
       "|---|---|---|---|---|---|---|---|---|---|---|\n",
       "| 0.00 | 0.9580307 | 24.70 | 898.62283 | 19.40421 | 8.20 | 15.40 | 1.10 | 0.3836248 | 0.8867648 | 0.9757764 |\n",
       "| 0.05 | 0.9058784 | 26.10 | 225.55613 | 20.34507 | 7.76 | 17.42 | 1.82 | 0.3400354 | 0.8169406 | 0.8989458 |\n",
       "| 0.10 | 0.8452213 | 31.32 |  79.42469 | 20.59334 | 7.24 | 20.40 | 2.40 | 0.2829908 | 0.7528333 | 0.7664447 |\n",
       "\n"
      ],
      "text/plain": [
       "  p    rf_accuracy n_decisions tp_imp    fp_imp   tp   fp    fn   precision\n",
       "1 0.00 0.9580307   24.70       898.62283 19.40421 8.20 15.40 1.10 0.3836248\n",
       "2 0.05 0.9058784   26.10       225.55613 20.34507 7.76 17.42 1.82 0.3400354\n",
       "3 0.10 0.8452213   31.32        79.42469 20.59334 7.24 20.40 2.40 0.2829908\n",
       "  recall    w_precision\n",
       "1 0.8867648 0.9757764  \n",
       "2 0.8169406 0.8989458  \n",
       "3 0.7528333 0.7664447  "
      ]
     },
     "metadata": {},
     "output_type": "display_data"
    }
   ],
   "source": [
    "tmp_av <- check %>% group_by(p) %>% summarise_all(mean, na.rm = TRUE)\n",
    "tmp_av"
   ]
  },
  {
   "cell_type": "code",
   "execution_count": 20,
   "metadata": {
    "ExecuteTime": {
     "end_time": "2021-12-17T13:08:09.413030Z",
     "start_time": "2021-12-17T13:07:41.123Z"
    }
   },
   "outputs": [],
   "source": [
    "cols <- plasma(length(unique(check$p)) + 3)\n",
    "cols <- cols[-c(1,length(cols))]"
   ]
  },
  {
   "cell_type": "code",
   "execution_count": 21,
   "metadata": {
    "ExecuteTime": {
     "end_time": "2021-12-17T13:08:09.501800Z",
     "start_time": "2021-12-17T13:07:43.986Z"
    }
   },
   "outputs": [],
   "source": [
    "recall <- ggplot(check, aes(x =rf_accuracy, y = recall, color = as.character(p))) + \n",
    "geom_hline(yintercept = 0.5, color = 'lightgrey')+\n",
    "geom_point(size = 3, alpha = 0.5)+\n",
    "geom_point(data = tmp_av, size = 5, alpha = 1, shape = 21, color = 'white', fill = 'black')+\n",
    "geom_point(data = tmp_av, size = 4, alpha = 1, shape = 21, color = 'black', aes(fill = as.character(p)))+\n",
    "\n",
    "theme_classic() + \n",
    "labs(x = expression(\"RF Cohen's \"*kappa), y = 'Recall'\n",
    "     , title = expression('r varies, n = 1000, B = 10, '*alpha*' = 5'))+\n",
    "scale_color_manual(values = cols, name = 'r', guide = guide_legend(override.aes = list(alpha = .8) ))+\n",
    "theme(legend.position = 'bottom', legend.text = element_text(size = rel(1.2))\n",
    "              , legend.title = element_text(size = rel(1.2)) )+\n",
    "scale_fill_manual(values = cols, name = 'r', guide = 'none')+\n",
    "ylim(c(0,1))"
   ]
  },
  {
   "cell_type": "code",
   "execution_count": 22,
   "metadata": {
    "ExecuteTime": {
     "end_time": "2021-12-17T13:08:09.538398Z",
     "start_time": "2021-12-17T13:07:44.527Z"
    }
   },
   "outputs": [],
   "source": [
    "wprec <- ggplot(check, aes(x =rf_accuracy, y = w_precision, color = as.character(p))) + \n",
    "geom_hline(yintercept = 0.5, color = 'lightgrey')+\n",
    "geom_point(size = 3, alpha = 0.5)+\n",
    "geom_point(data = tmp_av, size = 5, alpha = 1, shape = 21, color = 'white', fill = 'black')+\n",
    "geom_point(data = tmp_av, size = 4, alpha = 1, shape = 21, color = 'black', aes(fill = as.character(p)))+\n",
    "\n",
    "theme_classic() + \n",
    "labs(x = expression(\"RF Cohen's \"*kappa), y = 'Weighted precision'\n",
    "     , title = expression('r varies, n = 1000, B = 10, '*alpha*' = 5')\n",
    "    )+\n",
    "scale_color_manual(values = cols, name = 'r', guide = guide_legend(override.aes = list(alpha = .8) ))+\n",
    "scale_fill_manual(values = cols, name = 'r', guide = 'none')"
   ]
  },
  {
   "cell_type": "code",
   "execution_count": 23,
   "metadata": {
    "ExecuteTime": {
     "end_time": "2021-12-17T13:08:09.561748Z",
     "start_time": "2021-12-17T13:07:45.232Z"
    }
   },
   "outputs": [],
   "source": [
    "ndec <- ggplot(check, aes(x =rf_accuracy, y = n_decisions, color = as.character(p))) + \n",
    "geom_hline(yintercept = 0, color = 'lightgrey')+\n",
    "geom_point(size = 3, alpha = 0.75)+\n",
    "geom_point(data = tmp_av, size = 5, alpha = 1, shape = 21, color = 'white', fill = 'black')+\n",
    "geom_point(data = tmp_av, size = 4, alpha = 1, shape = 21, color = 'black', aes(fill = as.character(p)))+\n",
    "\n",
    "theme_classic() + \n",
    "labs(x = expression(\"RF Cohen's \"*kappa), y = '# decisions', title = expression('r varies, n = 1000, B = 10, '*alpha*' = 5'))+\n",
    "scale_color_manual(values = cols, name = 'r', guide = guide_legend(override.aes = list(alpha = .8) ))+\n",
    "scale_fill_manual(values = cols, name = 'r', guide = 'none')"
   ]
  },
  {
   "cell_type": "code",
   "execution_count": 24,
   "metadata": {
    "ExecuteTime": {
     "end_time": "2021-12-17T13:08:10.181856Z",
     "start_time": "2021-12-17T13:07:45.697Z"
    }
   },
   "outputs": [],
   "source": [
    "pall <- ggarrange(recall, wprec, ndec, ncol = 3, nrow = 1, common.legend = TRUE, legend = 'right')"
   ]
  },
  {
   "cell_type": "code",
   "execution_count": 25,
   "metadata": {
    "ExecuteTime": {
     "end_time": "2021-12-17T13:08:10.802896Z",
     "start_time": "2021-12-17T13:07:53.511Z"
    }
   },
   "outputs": [
    {
     "data": {
      "image/png": "[encoded data removed]",
      "text/plain": [
       "plot without title"
      ]
     },
     "metadata": {
      "image/png": {
       "height": 180,
       "width": 720
      }
     },
     "output_type": "display_data"
    }
   ],
   "source": [
    "options(repr.plot.width=12, repr.plot.height=3)\n",
    "pall"
   ]
  },
  {
   "cell_type": "markdown",
   "metadata": {},
   "source": [
    "# stat"
   ]
  },
  {
   "cell_type": "code",
   "execution_count": 26,
   "metadata": {
    "ExecuteTime": {
     "end_time": "2021-12-17T13:08:10.829531Z",
     "start_time": "2021-12-17T13:07:54.741Z"
    }
   },
   "outputs": [
    {
     "name": "stdout",
     "output_type": "stream",
     "text": [
      "Recall:"
     ]
    },
    {
     "data": {
      "text/plain": [
       "\n",
       "\tPearson's product-moment correlation\n",
       "\n",
       "data:  check$rf_accuracy and check$recall\n",
       "t = 1.9362, df = 148, p-value = 0.05475\n",
       "alternative hypothesis: true correlation is not equal to 0\n",
       "95 percent confidence interval:\n",
       " -0.003168372  0.309635156\n",
       "sample estimates:\n",
       "     cor \n",
       "0.157173 \n"
      ]
     },
     "metadata": {},
     "output_type": "display_data"
    },
    {
     "name": "stdout",
     "output_type": "stream",
     "text": [
      "r2 =  0.02470334"
     ]
    }
   ],
   "source": [
    "cat('Recall:')\n",
    "tmp <- cor.test(x = check$rf_accuracy, y = check$recall, method = 'pearson')\n",
    "tmp \n",
    "cat('r2 = ', tmp$estimate^2)"
   ]
  },
  {
   "cell_type": "code",
   "execution_count": 27,
   "metadata": {
    "ExecuteTime": {
     "end_time": "2021-12-17T13:08:10.860421Z",
     "start_time": "2021-12-17T13:07:55.448Z"
    }
   },
   "outputs": [
    {
     "name": "stdout",
     "output_type": "stream",
     "text": [
      "Weighted precision:"
     ]
    },
    {
     "data": {
      "text/plain": [
       "\n",
       "\tPearson's product-moment correlation\n",
       "\n",
       "data:  check$rf_accuracy and check$w_precision\n",
       "t = 8.5387, df = 148, p-value = 1.509e-14\n",
       "alternative hypothesis: true correlation is not equal to 0\n",
       "95 percent confidence interval:\n",
       " 0.4562371 0.6728098\n",
       "sample estimates:\n",
       "      cor \n",
       "0.5744933 \n"
      ]
     },
     "metadata": {},
     "output_type": "display_data"
    },
    {
     "name": "stdout",
     "output_type": "stream",
     "text": [
      "r2 =  0.3300425"
     ]
    }
   ],
   "source": [
    "cat('Weighted precision:')\n",
    "tmp <- cor.test(x = check$rf_accuracy, y = check$w_precision, method = 'pearson')\n",
    "tmp \n",
    "cat('r2 = ', tmp$estimate^2)"
   ]
  },
  {
   "cell_type": "code",
   "execution_count": 28,
   "metadata": {
    "ExecuteTime": {
     "end_time": "2021-12-17T13:08:10.890137Z",
     "start_time": "2021-12-17T13:07:56.019Z"
    }
   },
   "outputs": [
    {
     "name": "stdout",
     "output_type": "stream",
     "text": [
      "N decisions:"
     ]
    },
    {
     "data": {
      "text/plain": [
       "\n",
       "\tPearson's product-moment correlation\n",
       "\n",
       "data:  check$rf_accuracy and check$n_decisions\n",
       "t = -6.7043, df = 148, p-value = 3.982e-10\n",
       "alternative hypothesis: true correlation is not equal to 0\n",
       "95 percent confidence interval:\n",
       " -0.5967555 -0.3494199\n",
       "sample estimates:\n",
       "       cor \n",
       "-0.4826535 \n"
      ]
     },
     "metadata": {},
     "output_type": "display_data"
    },
    {
     "name": "stdout",
     "output_type": "stream",
     "text": [
      "r2 =  0.2329544"
     ]
    }
   ],
   "source": [
    "cat('N decisions:')\n",
    "tmp <- cor.test(x = check$rf_accuracy, y = check$n_decisions, method = 'pearson')\n",
    "tmp \n",
    "cat('r2 = ', tmp$estimate^2)"
   ]
  },
  {
   "cell_type": "code",
   "execution_count": null,
   "metadata": {},
   "outputs": [],
   "source": []
  },
  {
   "cell_type": "code",
   "execution_count": null,
   "metadata": {},
   "outputs": [],
   "source": []
  }
 ],
 "metadata": {
  "kernelspec": {
   "display_name": "R [conda env:Metagenomes_methanogen-r-ml] *",
   "language": "R",
   "name": "conda-env-Metagenomes_methanogen-r-ml-r"
  },
  "language_info": {
   "codemirror_mode": "r",
   "file_extension": ".r",
   "mimetype": "text/x-r-source",
   "name": "R",
   "pygments_lexer": "r",
   "version": "4.0.3"
  },
  "notify_time": "30",
  "toc": {
   "base_numbering": 1,
   "nav_menu": {},
   "number_sections": true,
   "sideBar": true,
   "skip_h1_title": false,
   "title_cell": "Table of Contents",
   "title_sidebar": "Contents",
   "toc_cell": false,
   "toc_position": {
    "height": "calc(100% - 180px)",
    "left": "10px",
    "top": "150px",
    "width": "165px"
   },
   "toc_section_display": true,
   "toc_window_display": true
  }
 },
 "nbformat": 4,
 "nbformat_minor": 4
}
