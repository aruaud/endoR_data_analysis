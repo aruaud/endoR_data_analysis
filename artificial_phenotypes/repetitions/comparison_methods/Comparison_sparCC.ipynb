{
 "cells": [
  {
   "cell_type": "markdown",
   "metadata": {},
   "source": [
    "# Preambule"
   ]
  },
  {
   "cell_type": "code",
   "execution_count": 1,
   "metadata": {
    "ExecuteTime": {
     "end_time": "2021-11-23T16:38:39.855464Z",
     "start_time": "2021-11-23T16:38:35.084Z"
    }
   },
   "outputs": [
    {
     "name": "stderr",
     "output_type": "stream",
     "text": [
      "── \u001b[1mAttaching packages\u001b[22m ────────────────────────────────────────────────────────────────────────────────────────────────────────────────────────────────────── tidyverse 1.3.0 ──\n",
      "\n",
      "\u001b[32m✔\u001b[39m \u001b[34mggplot2\u001b[39m 3.3.2     \u001b[32m✔\u001b[39m \u001b[34mpurrr  \u001b[39m 0.3.4\n",
      "\u001b[32m✔\u001b[39m \u001b[34mtibble \u001b[39m 3.0.4     \u001b[32m✔\u001b[39m \u001b[34mdplyr  \u001b[39m 1.0.2\n",
      "\u001b[32m✔\u001b[39m \u001b[34mtidyr  \u001b[39m 1.1.2     \u001b[32m✔\u001b[39m \u001b[34mstringr\u001b[39m 1.4.0\n",
      "\u001b[32m✔\u001b[39m \u001b[34mreadr  \u001b[39m 1.4.0     \u001b[32m✔\u001b[39m \u001b[34mforcats\u001b[39m 0.5.0\n",
      "\n",
      "── \u001b[1mConflicts\u001b[22m ───────────────────────────────────────────────────────────────────────────────────────────────────────────────────────────────────────── tidyverse_conflicts() ──\n",
      "\u001b[31m✖\u001b[39m \u001b[34mdplyr\u001b[39m::\u001b[32mfilter()\u001b[39m masks \u001b[34mstats\u001b[39m::filter()\n",
      "\u001b[31m✖\u001b[39m \u001b[34mdplyr\u001b[39m::\u001b[32mlag()\u001b[39m    masks \u001b[34mstats\u001b[39m::lag()\n",
      "\n",
      "\n",
      "Attaching package: ‘data.table’\n",
      "\n",
      "\n",
      "The following objects are masked from ‘package:dplyr’:\n",
      "\n",
      "    between, first, last\n",
      "\n",
      "\n",
      "The following object is masked from ‘package:purrr’:\n",
      "\n",
      "    transpose\n",
      "\n",
      "\n",
      "qs v0.23.4.\n",
      "\n"
     ]
    }
   ],
   "source": [
    "library(tidyverse)\n",
    "library(stringr)\n",
    "library(data.table)\n",
    "library(stringr)\n",
    "library(dplyr)\n",
    "library(qs)\n",
    "library(parallel)\n",
    "library(clustermq)\n",
    "library(ggpubr)\n",
    "library(SpiecEasi)"
   ]
  },
  {
   "cell_type": "code",
   "execution_count": 2,
   "metadata": {
    "ExecuteTime": {
     "end_time": "2021-11-23T16:38:39.903809Z",
     "start_time": "2021-11-23T16:38:35.306Z"
    }
   },
   "outputs": [],
   "source": [
    "options(clustermq.scheduler = \"sge\", clustermq.template = \"~/.clustermq.tmpl\")"
   ]
  },
  {
   "cell_type": "code",
   "execution_count": 3,
   "metadata": {
    "ExecuteTime": {
     "end_time": "2021-11-23T16:38:39.925887Z",
     "start_time": "2021-11-23T16:38:36.011Z"
    }
   },
   "outputs": [],
   "source": [
    "file.sources <- list.files('../scripts/', pattern = '*.R', full.names=TRUE, ignore.case=TRUE)\n",
    "for (f in file.sources) {\n",
    "    source(f)\n",
    "}\n",
    "rm('file.sources', 'f')"
   ]
  },
  {
   "cell_type": "markdown",
   "metadata": {},
   "source": [
    "# Data"
   ]
  },
  {
   "cell_type": "code",
   "execution_count": 4,
   "metadata": {
    "ExecuteTime": {
     "end_time": "2021-11-23T16:38:48.625644Z",
     "start_time": "2021-11-23T16:38:48.070Z"
    }
   },
   "outputs": [],
   "source": [
    "meta <- c('dataset','Sample','age','gender','country','BMI','westernized', 'number_reads')"
   ]
  },
  {
   "cell_type": "code",
   "execution_count": 5,
   "metadata": {
    "ExecuteTime": {
     "end_time": "2021-11-23T16:39:02.266860Z",
     "start_time": "2021-11-23T16:39:01.675Z"
    }
   },
   "outputs": [],
   "source": [
    "rules <- qread('../tmp/ruleExec_full.qs')\n",
    "X <- qread('../tmp/X.qs')"
   ]
  },
  {
   "cell_type": "code",
   "execution_count": 6,
   "metadata": {
    "ExecuteTime": {
     "end_time": "2021-11-23T16:39:15.295455Z",
     "start_time": "2021-11-23T16:39:14.708Z"
    }
   },
   "outputs": [],
   "source": [
    "related_taxa <- qread('../tmp/related_taxa_full.qs')\n",
    "is_s <- str_which(names(related_taxa), pattern = '^s_')\n",
    "related_taxa[is_s] <- related_taxa[is_s] %>% lapply(function(x){str_subset(x, pattern = '^s|g')})\n",
    "related_taxa$groupa <- 'groupa'\n",
    "related_taxa$groupb <- 'groupb'\n",
    "related_taxa$groupc <- 'groupc'\n",
    "related_taxa$groupd <- 'groupd'"
   ]
  },
  {
   "cell_type": "code",
   "execution_count": 8,
   "metadata": {
    "ExecuteTime": {
     "end_time": "2021-11-23T16:39:16.644262Z",
     "start_time": "2021-11-23T16:39:16.087Z"
    }
   },
   "outputs": [],
   "source": [
    "fnames <- list.files('/ebio/abt3_projects/temp_data/aruaud/MtgSimu50/p005_B10/', full.names = TRUE, pattern = 'simu')"
   ]
  },
  {
   "cell_type": "code",
   "execution_count": 9,
   "metadata": {
    "ExecuteTime": {
     "end_time": "2021-11-23T16:39:22.312957Z",
     "start_time": "2021-11-23T16:39:21.729Z"
    }
   },
   "outputs": [
    {
     "data": {
      "text/html": [
       "50"
      ],
      "text/latex": [
       "50"
      ],
      "text/markdown": [
       "50"
      ],
      "text/plain": [
       "[1] 50"
      ]
     },
     "metadata": {},
     "output_type": "display_data"
    }
   ],
   "source": [
    "length(fnames)"
   ]
  },
  {
   "cell_type": "markdown",
   "metadata": {
    "deletable": false,
    "editable": false,
    "run_control": {
     "frozen": true
    }
   },
   "source": [
    "# Functions"
   ]
  },
  {
   "cell_type": "code",
   "execution_count": 11,
   "metadata": {
    "ExecuteTime": {
     "end_time": "2021-11-23T16:39:26.782003Z",
     "start_time": "2021-11-23T16:39:26.213Z"
    }
   },
   "outputs": [],
   "source": [
    "getPR <- function(thr = NULL, res, related_taxa){\n",
    "    \n",
    "    if (is.null(thr)) {\n",
    "        tmp <- res\n",
    "    } else {tmp <- subset(res, val >= thr)}\n",
    "    \n",
    "    if (nrow(tmp) == 0){\n",
    "        return(c('tp' = NA, 'fp' = NA, 'tn' = NA, 'fn' = NA) )\n",
    "    }\n",
    "    nodes <- unique(tmp$var)\n",
    "    \n",
    "    # those that should not be but are = in pred_edges but not truth\n",
    "    fp <- sum(!(nodes %in% unlist(related_taxa)))\n",
    "    \n",
    "    # those that should be and are\n",
    "    tp <- sum(sapply(related_taxa, function(x){ifelse(sum(x %in% nodes) > 0, 1, 0)}))\n",
    "    \n",
    "    # those that should be but are not = in truth but not in pred_edges\n",
    "    #fn <- sum(sapply(names(related_taxa), function(x){!(x %in% nodes)}))\n",
    "    fn <- length(which(!(names(related_taxa) %in% nodes)))\n",
    "    \n",
    "    res <- c('tp' = tp, 'fp' = fp, 'fn' = fn) \n",
    "    return(res)\n",
    "    \n",
    "}"
   ]
  },
  {
   "cell_type": "code",
   "execution_count": 12,
   "metadata": {
    "ExecuteTime": {
     "end_time": "2021-11-23T16:39:29.302810Z",
     "start_time": "2021-11-23T16:39:28.731Z"
    }
   },
   "outputs": [],
   "source": [
    "wrapComp <- function(fname, data_ori, related_taxa, n_proc = 5){\n",
    "    \n",
    "    res <- list()\n",
    "    on.exit(return(res))\n",
    "    # get data \n",
    "    message('Data preparation...')\n",
    "    seedOri <- as.numeric(str_extract(fname, pattern = '(?<=simu)[:digit:]+(?=\\\\_)'))\n",
    "    res$seedOri <- seedOri\n",
    "    set.seed(seedOri)\n",
    "    data_ori <- data_ori[sample(1:nrow(data_ori)),]\n",
    "    simu <- qread(fname)\n",
    "    \n",
    "    # ground truth\n",
    "    tn <- unique( str_replace(unlist(simu$true_edges), pattern = '\\\\_{2}.*', replacement = '') ) \n",
    "    related_taxa <- related_taxa[tn] \n",
    "    \n",
    "    te <- lapply(simu$true_edges, str_replace, pattern = '\\\\_{2}.*', replacement = '') \n",
    "    te <- unique(lapply(te, sort))\n",
    "    expanded_edges <- list()\n",
    "    for (i in 1:length(te)){\n",
    "        tmp <- related_taxa[ te[[i]] ]\n",
    "        tmp <- expand.grid(tmp[[1]], tmp[[2]])  \n",
    "        tmp <- asplit(tmp, MARGIN=1)\n",
    "        expanded_edges[[i]] <- sapply(lapply(tmp, sort), paste, collapse = ' - ')\n",
    "        names(expanded_edges)[i] <- paste(sort(te[[i]]), collapse = ' - ')\n",
    "    }\n",
    "    res$expanded_edges <- expanded_edges\n",
    "    res$tp_nodes <- length(tn)\n",
    "    res$tp_edges <- length(te)\n",
    "    res$n_nodes <- ncol(data_ori)\n",
    "    res$n_edges <- (ncol(data_ori)^2 -ncol(data_ori))/2\n",
    "\n",
    "    # spiec-easi: too long, too bad.\n",
    "    X_counts <- select(data_ori, -c(number_reads)) \n",
    "    X_counts <- apply(X_counts, MARGIN = 2, FUN = function(x){x*data_ori$number_reads}) \n",
    "    X_p <- X_counts[which(simu$target == '1'), ]\n",
    "    X_n <- X_counts[-which(simu$target == '1'), ]\n",
    "    \n",
    "    # small settings and sparCC\n",
    "    message('sparCC...')\n",
    "    if (!is.na(n_proc)){RhpcBLASctl::blas_set_num_threads(n_proc)}\n",
    "    sparcc_p <- sparcc(X_p)\n",
    "    sparcc_n <- sparcc(X_n)\n",
    "    if (!is.na(n_proc)){RhpcBLASctl::blas_set_num_threads(80)}\n",
    "    \n",
    "    # get results\n",
    "    message('Get results...')\n",
    "    res_p <- data.frame('x' = character(), 'y' = character(), 'corr' = numeric(), 'covar' = numeric())\n",
    "    colN <- colnames(X_p)\n",
    "    nc <- ncol(X_p)\n",
    "    for (i in 1:(nc-1)){\n",
    "        res_p <- add_row(res_p, 'x' = rep(colN[i], nc-i)\n",
    "                                   , 'y' = colN[(i+1):nc]\n",
    "                                   , 'corr' = sparcc_p$Cor[(i+1):nc, i]\n",
    "                                   , 'covar' = sparcc_p$Cov[(i+1):nc, i])\n",
    "    }\n",
    "    res_n <- data.frame('x' = character(), 'y' = character(), 'corr' = numeric(), 'covar' = numeric())\n",
    "    for (i in 1:(nc-1)){\n",
    "        res_n <- add_row(res_n, 'x' = rep(colN[i], nc-i)\n",
    "                                   , 'y' = colN[(i+1):nc]\n",
    "                                   , 'corr' = sparcc_n$Cor[(i+1):nc, i]\n",
    "                                   , 'covar' = sparcc_n$Cov[(i+1):nc, i])\n",
    "    }\n",
    "    \n",
    "    # cross \n",
    "    message('Cross...')\n",
    "    in_n <- ifelse(res_n$corr >= 0, '+', '-')\n",
    "    in_n <- paste0(res_n$x, in_n, res_n$y)\n",
    "    in_p <- ifelse(res_p$corr >= 0, '+', '-')\n",
    "    in_p <- paste0(res_p$x, in_p, res_p$y)\n",
    "    res_n <- res_n[which(!(in_n %in% in_p)),]\n",
    "    res_p <- res_p[which(!(in_p %in% in_n)),]\n",
    "    \n",
    "    res_cross <- rbind(res_p, res_n)\n",
    "    res_cross$val <- res_cross$corr^2\n",
    "    res_cross <- summarise_all(group_by(res_cross, x,y), mean)\n",
    "    res$sparcc_crossed <- res_cross\n",
    "    \n",
    "    # PR curves\n",
    "    # edges\n",
    "    message('PR curves...')\n",
    "    tmp <- unique(select(res_cross, c('x', 'y'))) \n",
    "    tmp <- asplit(as.matrix(tmp), MARGIN = 1)\n",
    "    tmp <- sapply(tmp, function(x){paste(x, collapse = ' - ')})    \n",
    "    res_cross$var <- tmp\n",
    "    thr <- sort(unique(res_cross$val)) \n",
    "    \n",
    "    pr_edges <- as.data.frame(t(sapply(thr, getPR, res=res_cross, related_taxa=expanded_edges)))\n",
    "    pr_edges <- arrange(pr_edges, tp, fp) %>% group_by(fp) %>% summarise_all(max)\n",
    "    \n",
    "    res$edges <- pr_edges\n",
    "    return(res)\n",
    "    \n",
    "}"
   ]
  },
  {
   "cell_type": "markdown",
   "metadata": {},
   "source": [
    "# go"
   ]
  },
  {
   "cell_type": "code",
   "execution_count": 13,
   "metadata": {
    "ExecuteTime": {
     "end_time": "2021-11-23T16:39:41.506384Z",
     "start_time": "2021-11-23T16:39:40.943Z"
    }
   },
   "outputs": [],
   "source": [
    "tmpl <- list(conda = \"r-ml\", cores = 10, job_time = '00:59:00', job_mem = '10G')"
   ]
  },
  {
   "cell_type": "code",
   "execution_count": 14,
   "metadata": {
    "ExecuteTime": {
     "end_time": "2021-09-21T07:48:51.294980Z",
     "start_time": "2021-09-21T07:38:28.009Z"
    },
    "deletable": false,
    "editable": false,
    "run_control": {
     "frozen": true
    },
    "scrolled": true
   },
   "outputs": [
    {
     "name": "stderr",
     "output_type": "stream",
     "text": [
      "Warning message in (function (...) :\n",
      "“Common data is 8.7 Mb. Recommended limit is  (set by clustermq.data.warning option)”\n",
      "Submitting 17 worker jobs (ID: cmq7709) ...\n",
      "\n",
      "Running 17 calculations (4 objs/8.7 Mb common; 1 calls/chunk) ...\n",
      "\n",
      "\n",
      "[---------------------------------------------------]   0% (1/17 wrk) eta:  ?s\n",
      "\n",
      "[---------------------------------------------------]   0% (2/17 wrk) eta:  ?s\n",
      "\n",
      "[---------------------------------------------------]   0% (3/17 wrk) eta:  ?s\n",
      "\n",
      "[---------------------------------------------------]   0% (4/17 wrk) eta:  ?s\n",
      "\n",
      "[---------------------------------------------------]   0% (5/17 wrk) eta:  ?s\n",
      "\n",
      "[---------------------------------------------------]   0% (6/17 wrk) eta:  ?s\n",
      "\n",
      "[---------------------------------------------------]   0% (7/17 wrk) eta:  ?s\n",
      "\n",
      "[---------------------------------------------------]   0% (8/17 wrk) eta:  ?s\n",
      "\n",
      "[---------------------------------------------------]   0% (9/17 wrk) eta:  ?s\n",
      "\n",
      "[--------------------------------------------------]   0% (10/17 wrk) eta:  ?s\n",
      "\n",
      "[--------------------------------------------------]   0% (11/17 wrk) eta:  ?s\n",
      "\n",
      "[--------------------------------------------------]   0% (12/17 wrk) eta:  ?s\n",
      "\n",
      "[--------------------------------------------------]   0% (13/17 wrk) eta:  ?s\n",
      "\n",
      "[--------------------------------------------------]   0% (14/17 wrk) eta:  ?s\n",
      "\n",
      "[--------------------------------------------------]   0% (15/17 wrk) eta:  ?s\n",
      "\n",
      "[--------------------------------------------------]   0% (16/17 wrk) eta:  ?s\n",
      "\n",
      "[--------------------------------------------------]   0% (17/17 wrk) eta:  ?s\n",
      "\n",
      "[==>-----------------------------------------------]   6% (17/17 wrk) eta:  1h\n",
      "\n",
      "[=====>--------------------------------------------]  12% (16/16 wrk) eta: 40m\n",
      "\n",
      "[========>-----------------------------------------]  18% (15/15 wrk) eta: 25m\n",
      "\n",
      "[===========>--------------------------------------]  24% (14/14 wrk) eta: 17m\n",
      "\n",
      "[==============>-----------------------------------]  29% (13/13 wrk) eta: 14m\n",
      "\n",
      "[=================>--------------------------------]  35% (12/12 wrk) eta: 11m\n",
      "\n",
      "[====================>-----------------------------]  41% (11/11 wrk) eta:  9m\n",
      "\n",
      "[=======================>--------------------------]  47% (10/10 wrk) eta:  7m\n",
      "\n",
      "[===========================>------------------------]  53% (9/9 wrk) eta:  6m\n",
      "\n",
      "[==============================>---------------------]  59% (8/8 wrk) eta:  5m\n",
      "\n",
      "[=================================>------------------]  65% (7/7 wrk) eta:  4m\n",
      "\n",
      "[====================================>---------------]  71% (6/6 wrk) eta:  3m\n",
      "\n",
      "[=======================================>------------]  76% (5/5 wrk) eta:  2m\n",
      "\n",
      "[==========================================>---------]  82% (4/4 wrk) eta:  2m\n",
      "\n",
      "[=============================================>------]  88% (3/3 wrk) eta:  1m\n",
      "\n",
      "[================================================>---]  94% (2/2 wrk) eta: 38s\n",
      "\n",
      "[====================================================] 100% (1/1 wrk) eta:  0s\n",
      "                                                                              \n",
      "\n",
      "Master: [622.7s 0.6% CPU]; Worker: [avg 99.9% CPU, max 1044.9 Mb]\n",
      "\n"
     ]
    }
   ],
   "source": [
    "res <- Q(wrapComp\n",
    "         , fname = fnames\n",
    "         , const = list('data_ori' = X, 'related_taxa' = related_taxa, 'n_proc' = NA)\n",
    "         , export = c('getPR' = getPR)\n",
    "         , pkgs = c('SpiecEasi', 'qs', 'stringr', 'tidyverse')\n",
    "         , n_jobs = 17\n",
    "         , template = tmpl\n",
    "         , log_worker=FALSE\n",
    "        )"
   ]
  },
  {
   "cell_type": "code",
   "execution_count": 14,
   "metadata": {
    "ExecuteTime": {
     "end_time": "2021-11-23T16:40:22.963035Z",
     "start_time": "2021-11-23T16:40:22.354Z"
    }
   },
   "outputs": [],
   "source": [
    "qsave(res, '../tmp/comparison_sparcc.qs')"
   ]
  },
  {
   "cell_type": "code",
   "execution_count": null,
   "metadata": {},
   "outputs": [],
   "source": []
  }
 ],
 "metadata": {
  "kernelspec": {
   "display_name": "R [conda env:Metagenomes_methanogen-r-ml] *",
   "language": "R",
   "name": "conda-env-Metagenomes_methanogen-r-ml-r"
  },
  "language_info": {
   "codemirror_mode": "r",
   "file_extension": ".r",
   "mimetype": "text/x-r-source",
   "name": "R",
   "pygments_lexer": "r",
   "version": "4.0.3"
  },
  "notify_time": "10",
  "toc": {
   "base_numbering": 1,
   "nav_menu": {},
   "number_sections": true,
   "sideBar": true,
   "skip_h1_title": false,
   "title_cell": "Table of Contents",
   "title_sidebar": "Contents",
   "toc_cell": false,
   "toc_position": {
    "height": "calc(100% - 180px)",
    "left": "10px",
    "top": "150px",
    "width": "255px"
   },
   "toc_section_display": true,
   "toc_window_display": true
  }
 },
 "nbformat": 4,
 "nbformat_minor": 4
}
