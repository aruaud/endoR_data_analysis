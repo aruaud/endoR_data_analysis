{
 "cells": [
  {
   "cell_type": "markdown",
   "metadata": {},
   "source": [
    "# Preambule"
   ]
  },
  {
   "cell_type": "code",
   "execution_count": 1,
   "metadata": {
    "ExecuteTime": {
     "end_time": "2021-11-23T16:03:01.311955Z",
     "start_time": "2021-11-23T16:02:56.315Z"
    }
   },
   "outputs": [
    {
     "name": "stderr",
     "output_type": "stream",
     "text": [
      "── \u001b[1mAttaching packages\u001b[22m ────────────────────────────────────────────────────────────────────────────────────────────────────────────────────────────────────── tidyverse 1.3.0 ──\n",
      "\n",
      "\u001b[32m✔\u001b[39m \u001b[34mggplot2\u001b[39m 3.3.2     \u001b[32m✔\u001b[39m \u001b[34mpurrr  \u001b[39m 0.3.4\n",
      "\u001b[32m✔\u001b[39m \u001b[34mtibble \u001b[39m 3.0.4     \u001b[32m✔\u001b[39m \u001b[34mdplyr  \u001b[39m 1.0.2\n",
      "\u001b[32m✔\u001b[39m \u001b[34mtidyr  \u001b[39m 1.1.2     \u001b[32m✔\u001b[39m \u001b[34mstringr\u001b[39m 1.4.0\n",
      "\u001b[32m✔\u001b[39m \u001b[34mreadr  \u001b[39m 1.4.0     \u001b[32m✔\u001b[39m \u001b[34mforcats\u001b[39m 0.5.0\n",
      "\n",
      "── \u001b[1mConflicts\u001b[22m ───────────────────────────────────────────────────────────────────────────────────────────────────────────────────────────────────────── tidyverse_conflicts() ──\n",
      "\u001b[31m✖\u001b[39m \u001b[34mdplyr\u001b[39m::\u001b[32mfilter()\u001b[39m masks \u001b[34mstats\u001b[39m::filter()\n",
      "\u001b[31m✖\u001b[39m \u001b[34mdplyr\u001b[39m::\u001b[32mlag()\u001b[39m    masks \u001b[34mstats\u001b[39m::lag()\n",
      "\n",
      "\n",
      "Attaching package: ‘data.table’\n",
      "\n",
      "\n",
      "The following objects are masked from ‘package:dplyr’:\n",
      "\n",
      "    between, first, last\n",
      "\n",
      "\n",
      "The following object is masked from ‘package:purrr’:\n",
      "\n",
      "    transpose\n",
      "\n",
      "\n",
      "qs v0.23.4.\n",
      "\n"
     ]
    }
   ],
   "source": [
    "library(tidyverse)\n",
    "library(stringr)\n",
    "library(data.table)\n",
    "library(stringr)\n",
    "library(dplyr)\n",
    "library(qs)\n",
    "library(parallel)\n",
    "library(clustermq)\n",
    "library(ggpubr)\n",
    "library(SpiecEasi)"
   ]
  },
  {
   "cell_type": "code",
   "execution_count": 2,
   "metadata": {
    "ExecuteTime": {
     "end_time": "2021-11-23T16:03:01.360105Z",
     "start_time": "2021-11-23T16:02:57.932Z"
    }
   },
   "outputs": [],
   "source": [
    "options(clustermq.scheduler = \"sge\", clustermq.template = \"~/.clustermq.tmpl\")"
   ]
  },
  {
   "cell_type": "code",
   "execution_count": 3,
   "metadata": {
    "ExecuteTime": {
     "end_time": "2021-11-23T16:03:03.636224Z",
     "start_time": "2021-11-23T16:03:03.183Z"
    }
   },
   "outputs": [],
   "source": [
    "file.sources <- list.files('../scripts/', pattern = '*.R', full.names=TRUE, ignore.case=TRUE)\n",
    "for (f in file.sources) {\n",
    "    source(f)\n",
    "}\n",
    "rm('file.sources', 'f')"
   ]
  },
  {
   "cell_type": "markdown",
   "metadata": {},
   "source": [
    "# Data"
   ]
  },
  {
   "cell_type": "code",
   "execution_count": 4,
   "metadata": {
    "ExecuteTime": {
     "end_time": "2021-11-23T16:03:20.819085Z",
     "start_time": "2021-11-23T16:03:20.388Z"
    }
   },
   "outputs": [],
   "source": [
    "meta <- c('dataset','Sample','age','gender','country','BMI','westernized', 'number_reads')"
   ]
  },
  {
   "cell_type": "code",
   "execution_count": 6,
   "metadata": {
    "ExecuteTime": {
     "end_time": "2021-11-23T16:03:42.794034Z",
     "start_time": "2021-11-23T16:03:42.318Z"
    }
   },
   "outputs": [],
   "source": [
    "rules <- qread('../tmp/ruleExec_full.qs')\n",
    "X <- qread('../tmp/X.qs')"
   ]
  },
  {
   "cell_type": "code",
   "execution_count": 8,
   "metadata": {
    "ExecuteTime": {
     "end_time": "2021-11-23T16:04:02.765614Z",
     "start_time": "2021-11-23T16:04:02.312Z"
    }
   },
   "outputs": [],
   "source": [
    "related_taxa <- qread('../tmp/related_taxa_full.qs')\n",
    "is_s <- str_which(names(related_taxa), pattern = '^s_')\n",
    "related_taxa[is_s] <- related_taxa[is_s] %>% lapply(function(x){str_subset(x, pattern = '^s|g')})\n",
    "related_taxa$groupa <- 'groupa'\n",
    "related_taxa$groupb <- 'groupb'\n",
    "related_taxa$groupc <- 'groupc'\n",
    "related_taxa$groupd <- 'groupd'"
   ]
  },
  {
   "cell_type": "code",
   "execution_count": 10,
   "metadata": {
    "ExecuteTime": {
     "end_time": "2021-11-23T16:04:15.444907Z",
     "start_time": "2021-11-23T16:04:14.999Z"
    }
   },
   "outputs": [],
   "source": [
    "# location of the simulations\n",
    "fnames <- list.files('/ebio/abt3_projects/temp_data/aruaud/MtgSimu50/p005_B10/', full.names = TRUE, pattern = 'simu')"
   ]
  },
  {
   "cell_type": "code",
   "execution_count": 11,
   "metadata": {
    "ExecuteTime": {
     "end_time": "2021-11-23T16:05:04.433131Z",
     "start_time": "2021-11-23T16:05:03.987Z"
    }
   },
   "outputs": [
    {
     "data": {
      "text/html": [
       "50"
      ],
      "text/latex": [
       "50"
      ],
      "text/markdown": [
       "50"
      ],
      "text/plain": [
       "[1] 50"
      ]
     },
     "metadata": {},
     "output_type": "display_data"
    }
   ],
   "source": [
    "length(fnames)"
   ]
  },
  {
   "cell_type": "markdown",
   "metadata": {
    "deletable": false,
    "editable": false,
    "run_control": {
     "frozen": true
    }
   },
   "source": [
    "# Functions"
   ]
  },
  {
   "cell_type": "code",
   "execution_count": 13,
   "metadata": {
    "ExecuteTime": {
     "end_time": "2021-11-23T16:05:06.028420Z",
     "start_time": "2021-11-23T16:05:05.591Z"
    }
   },
   "outputs": [],
   "source": [
    "getPR <- function(thr = NULL, res, related_taxa){\n",
    "    \n",
    "    if (is.null(thr)) {\n",
    "        tmp <- res\n",
    "    } else {tmp <- subset(res, val >= thr)}\n",
    "    \n",
    "    if (nrow(tmp) == 0){\n",
    "        return(c('tp' = NA, 'fp' = NA, 'tn' = NA, 'fn' = NA) )\n",
    "    }\n",
    "    nodes <- unique(tmp$var)\n",
    "    \n",
    "    # those that should not be but are = in pred_edges but not truth\n",
    "    fp <- sum(!(nodes %in% unlist(related_taxa)))\n",
    "    \n",
    "    # those that should be and are\n",
    "    tp <- sum(sapply(related_taxa, function(x){ifelse(sum(x %in% nodes) > 0, 1, 0)}))\n",
    "    \n",
    "    # those that should be but are not = in truth but not in pred_edges\n",
    "    fn <- length(which(!(names(related_taxa) %in% nodes)))\n",
    "    \n",
    "    res <- c('tp' = tp, 'fp' = fp, 'fn' = fn) \n",
    "    return(res)\n",
    "    \n",
    "}"
   ]
  },
  {
   "cell_type": "code",
   "execution_count": 14,
   "metadata": {
    "ExecuteTime": {
     "end_time": "2021-11-23T16:05:08.486985Z",
     "start_time": "2021-11-23T16:05:08.020Z"
    }
   },
   "outputs": [],
   "source": [
    "wrapComp <- function(fname, data_ori, related_taxa, ncores = parallel::detectCores()-1, path){\n",
    "    \n",
    "    res <- list()\n",
    "    on.exit(return(res))\n",
    "    # get data \n",
    "    message('Data preparation...')\n",
    "    seedOri <- as.numeric(str_extract(fname, pattern = '(?<=simu)[:digit:]+(?=\\\\_)'))\n",
    "    res$seedOri <- seedOri\n",
    "    set.seed(seedOri)\n",
    "    data_ori <- data_ori[sample(1:nrow(data_ori)),]\n",
    "    simu <- qread(fname)\n",
    "    message(paste0(\"Let's go with seed \", seedOri))\n",
    "    \n",
    "    # ground truth\n",
    "    tn <- unique( str_replace(unlist(simu$true_edges), pattern = '\\\\_{2}.*', replacement = '') ) \n",
    "    related_taxa <- related_taxa[tn] \n",
    "    \n",
    "    te <- lapply(simu$true_edges, str_replace, pattern = '\\\\_{2}.*', replacement = '') \n",
    "    te <- unique(lapply(te, sort))\n",
    "    expanded_edges <- list()\n",
    "    for (i in 1:length(te)){\n",
    "        tmp <- related_taxa[ te[[i]] ]\n",
    "        tmp <- expand.grid(tmp[[1]], tmp[[2]])  \n",
    "        tmp <- asplit(tmp, MARGIN=1)\n",
    "        expanded_edges[[i]] <- sapply(lapply(tmp, sort), paste, collapse = ' - ')\n",
    "        names(expanded_edges)[i] <- paste(sort(te[[i]]), collapse = ' - ')\n",
    "    }\n",
    "    res$expanded_edges <- expanded_edges\n",
    "    res$tp_nodes <- length(tn)\n",
    "    res$tp_edges <- length(te)\n",
    "    res$n_nodes <- ncol(data_ori)\n",
    "    res$n_edges <- (ncol(data_ori)^2 -ncol(data_ori))/2\n",
    "\n",
    "    # spiec-easi\n",
    "    X_counts <- select(data_ori, -c(number_reads)) \n",
    "    X_counts <- apply(X_counts, MARGIN = 2, FUN = function(x){x*data_ori$number_reads}) \n",
    "    X_p <- X_counts[which(simu$target == '1'), ]\n",
    "    X_n <- X_counts[-which(simu$target == '1'), ]\n",
    "    \n",
    "    # small settings and gLASSO\n",
    "    message('gLASSO positive...')\n",
    "    glasso_p <- spiec.easi(as.matrix(X_p), method='glasso'\n",
    "                      , lambda.min.ratio=1e-3, nlambda=30\n",
    "                      , pulsar.params=list(rep.num=100, subsample.ratio = 0.75\n",
    "                                           , seed = seedOri, ncores = parallel::detectCores()-1)\n",
    "                      , verbose = TRUE)\n",
    "    qsave(glasso_p, paste0(path, 'glasso_p_', seedOri, '.qs'))\n",
    "    \n",
    "    message('gLASSO negative')\n",
    "    glasso_n <- spiec.easi(as.matrix(X_n), method='glasso'\n",
    "                      , lambda.min.ratio=1e-3, nlambda=30\n",
    "                      , pulsar.params=list(rep.num=100, subsample.ratio = 0.75\n",
    "                                           , seed = seedOri, ncores = parallel::detectCores()-1)\n",
    "                      , verbose = TRUE)\n",
    "    qsave(glasso_n, paste0(path, 'glasso_n_', seedOri, '.qs'))\n",
    "    \n",
    "    message('Get results...')\n",
    "    # get the correlation tables\n",
    "    tmp <- cov2cor(getOptCov(glasso_p))\n",
    "    cor_p_gl <- summary(triu(tmp*getRefit(glasso_p), k=1))\n",
    "    tmp <- cov2cor(getOptCov(glasso_n))\n",
    "    cor_n_gl <- summary(triu(tmp*getRefit(glasso_n), k=1))\n",
    "    # replace the column numbers by their names\n",
    "    cor_p_gl$i <- cor_p_gl$i %>% sapply(function(x)colnames(X_p)[x])\n",
    "    cor_p_gl$j <- cor_p_gl$j %>% sapply(function(x)colnames(X_p)[x])\n",
    "    cor_n_gl$i <- cor_n_gl$i %>% sapply(function(x)colnames(X_n)[x])\n",
    "    cor_n_gl$j <- cor_n_gl$j %>% sapply(function(x)colnames(X_n)[x])                                    \n",
    "    \n",
    "    # cross \n",
    "    message('Cross...')\n",
    "    in_n <- ifelse(cor_n_gl$x >= 0, '+', '-')\n",
    "    in_n <- paste0(cor_n_gl$i, in_n, cor_n_gl$j)\n",
    "    \n",
    "    in_p <- ifelse(cor_p_gl$x >= 0, '+', '-')\n",
    "    in_p <- paste0(cor_p_gl$i, in_p, cor_p_gl$j)\n",
    "                                        \n",
    "    cor_n_gl <- cor_n_gl[which(!(in_n %in% in_p)),]\n",
    "    cor_p_gl <- cor_p_gl[which(!(in_p %in% in_n)),]\n",
    "    \n",
    "    res_cross <- rbind(cor_p_gl, cor_n_gl)\n",
    "    res_cross$val <- res_cross$x^2\n",
    "    res_cross <- summarise_all(group_by(res_cross, i,j), mean)\n",
    "    res$glasso_crossed <- res_cross\n",
    "    \n",
    "    # PR curves\n",
    "    # edges\n",
    "    message('PR curves...')\n",
    "    tmp <- unique(select(res_cross, c('i', 'j'))) \n",
    "    tmp <- asplit(as.matrix(tmp), MARGIN = 1)\n",
    "    tmp <- sapply(tmp, function(x){paste(x, collapse = ' - ')})    \n",
    "    res_cross$var <- tmp\n",
    "    thr <- sort(unique(res_cross$val)) \n",
    "    \n",
    "    pr_edges <- as.data.frame(t(sapply(thr, getPR, res=res_cross, related_taxa=expanded_edges)))\n",
    "    pr_edges <- arrange(pr_edges, tp, fp) %>% group_by(fp) %>% summarise_all(max)\n",
    "    \n",
    "    res$edges <- pr_edges\n",
    "    return(res)\n",
    "    \n",
    "}"
   ]
  },
  {
   "cell_type": "markdown",
   "metadata": {},
   "source": [
    "# go"
   ]
  },
  {
   "cell_type": "code",
   "execution_count": 15,
   "metadata": {
    "ExecuteTime": {
     "end_time": "2021-11-23T16:05:31.890052Z",
     "start_time": "2021-11-23T16:05:31.450Z"
    }
   },
   "outputs": [],
   "source": [
    "tmpl <- list(conda = \"r-ml\", cores = 20, job_time = '96:00:00', job_mem = '50G')"
   ]
  },
  {
   "cell_type": "code",
   "execution_count": 14,
   "metadata": {
    "ExecuteTime": {
     "end_time": "2021-09-22T07:38:33.141792Z",
     "start_time": "2021-09-21T07:39:47.792Z"
    },
    "deletable": false,
    "editable": false,
    "run_control": {
     "frozen": true
    },
    "scrolled": true
   },
   "outputs": [
    {
     "name": "stderr",
     "output_type": "stream",
     "text": [
      "Warning message in (function (...) :\n",
      "“Common data is 8.7 Mb. Recommended limit is  (set by clustermq.data.warning option)”\n",
      "Submitting 17 worker jobs (ID: cmq8684) ...\n",
      "\n",
      "Running 17 calculations (5 objs/8.7 Mb common; 1 calls/chunk) ...\n",
      "\n",
      "\n",
      "[---------------------------------------------------]   0% (1/17 wrk) eta:  ?s\n",
      "\n",
      "[---------------------------------------------------]   0% (2/17 wrk) eta:  ?s\n",
      "\n",
      "[---------------------------------------------------]   0% (3/17 wrk) eta:  ?s\n",
      "\n",
      "[---------------------------------------------------]   0% (4/17 wrk) eta:  ?s\n",
      "\n",
      "[---------------------------------------------------]   0% (5/17 wrk) eta:  ?s\n",
      "\n",
      "[---------------------------------------------------]   0% (6/17 wrk) eta:  ?s\n",
      "\n",
      "[---------------------------------------------------]   0% (7/17 wrk) eta:  ?s\n",
      "\n",
      "[==>------------------------------------------------]   6% (7/17 wrk) eta:  3d\n",
      "\n",
      "[=====>---------------------------------------------]  12% (7/17 wrk) eta:  1d\n",
      "\n",
      "[========>------------------------------------------]  18% (7/17 wrk) eta:  1d\n",
      "\n",
      "[===========>---------------------------------------]  24% (7/17 wrk) eta:  1d\n",
      "\n",
      "[==============>------------------------------------]  29% (7/17 wrk) eta:  1d\n",
      "\n",
      "[=================>---------------------------------]  35% (7/17 wrk) eta: 15h\n",
      "\n",
      "[====================>------------------------------]  41% (7/17 wrk) eta: 14h\n",
      "\n",
      "[=======================>---------------------------]  47% (7/17 wrk) eta: 11h\n",
      "\n",
      "[==========================>------------------------]  53% (7/17 wrk) eta: 10h\n",
      "\n",
      "[=============================>---------------------]  59% (7/17 wrk) eta:  8h\n",
      "\n",
      "[================================>------------------]  65% (7/17 wrk) eta:  6h\n",
      "\n",
      "[===================================>---------------]  71% (6/16 wrk) eta:  6h\n",
      "\n",
      "[======================================>------------]  76% (5/15 wrk) eta:  4h\n",
      "\n",
      "[======================================>------------]  76% (5/14 wrk) eta:  4h\n",
      "\n",
      "[======================================>------------]  76% (5/13 wrk) eta:  4h\n",
      "\n",
      "[======================================>------------]  76% (5/12 wrk) eta:  4h\n",
      "\n",
      "[======================================>------------]  76% (5/11 wrk) eta:  4h\n",
      "\n",
      "[======================================>------------]  76% (5/10 wrk) eta:  4h\n",
      "\n",
      "[=======================================>------------]  76% (5/9 wrk) eta:  4h\n",
      "\n",
      "[=======================================>------------]  76% (5/8 wrk) eta:  4h\n",
      "\n",
      "[=======================================>------------]  76% (5/7 wrk) eta:  4h\n",
      "\n",
      "[=======================================>------------]  76% (5/6 wrk) eta:  4h\n",
      "\n",
      "[=======================================>------------]  76% (5/5 wrk) eta:  5h\n",
      "\n",
      "[==========================================>---------]  82% (4/4 wrk) eta:  3h\n",
      "\n",
      "[=============================================>------]  88% (3/3 wrk) eta:  2h\n",
      "\n",
      "[================================================>---]  94% (2/2 wrk) eta:  1h\n",
      "\n",
      "[====================================================] 100% (1/1 wrk) eta:  0s\n",
      "                                                                              \n",
      "\n",
      "Master: [80397.7s 0.0% CPU]; Worker: [avg 0.8% CPU, max 11983.7 Mb]\n",
      "\n"
     ]
    }
   ],
   "source": [
    "res <- Q(wrapComp\n",
    "         , fail_on_error = FALSE\n",
    "         , fname = fnames\n",
    "         , const = list('data_ori' = X, 'related_taxa' = related_taxa\n",
    "                        , 'ncores' = 80\n",
    "                       , 'path' = '/ebio/abt3_projects/temp_data/aruaud/MtgSimu50/comparison_gLASSO')\n",
    "         , export = c('getPR' = getPR)\n",
    "         , pkgs = c('SpiecEasi', 'qs', 'stringr', 'tidyverse', 'Matrix')\n",
    "         , n_jobs = 17\n",
    "         , template = tmpl\n",
    "         , log_worker=FALSE\n",
    "        )"
   ]
  },
  {
   "cell_type": "code",
   "execution_count": 17,
   "metadata": {
    "ExecuteTime": {
     "end_time": "2021-11-23T16:06:29.299393Z",
     "start_time": "2021-11-23T16:06:28.853Z"
    }
   },
   "outputs": [
    {
     "data": {
      "text/html": [
       "50"
      ],
      "text/latex": [
       "50"
      ],
      "text/markdown": [
       "50"
      ],
      "text/plain": [
       "[1] 50"
      ]
     },
     "metadata": {},
     "output_type": "display_data"
    }
   ],
   "source": [
    "res %>% length"
   ]
  },
  {
   "cell_type": "code",
   "execution_count": 18,
   "metadata": {
    "ExecuteTime": {
     "end_time": "2021-11-23T16:06:48.583608Z",
     "start_time": "2021-11-23T16:06:47.991Z"
    }
   },
   "outputs": [],
   "source": [
    "qsave(res, '../tmp/comparison_glasso.qs')"
   ]
  }
 ],
 "metadata": {
  "kernelspec": {
   "display_name": "R [conda env:Metagenomes_methanogen-r-ml] *",
   "language": "R",
   "name": "conda-env-Metagenomes_methanogen-r-ml-r"
  },
  "language_info": {
   "codemirror_mode": "r",
   "file_extension": ".r",
   "mimetype": "text/x-r-source",
   "name": "R",
   "pygments_lexer": "r",
   "version": "4.0.3"
  },
  "notify_time": "30",
  "toc": {
   "base_numbering": 1,
   "nav_menu": {},
   "number_sections": true,
   "sideBar": true,
   "skip_h1_title": false,
   "title_cell": "Table of Contents",
   "title_sidebar": "Contents",
   "toc_cell": false,
   "toc_position": {
    "height": "calc(100% - 180px)",
    "left": "10px",
    "top": "150px",
    "width": "255px"
   },
   "toc_section_display": true,
   "toc_window_display": true
  }
 },
 "nbformat": 4,
 "nbformat_minor": 4
}
