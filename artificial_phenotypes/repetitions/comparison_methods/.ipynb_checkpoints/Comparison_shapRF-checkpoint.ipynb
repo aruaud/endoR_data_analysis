{
 "cells": [
  {
   "cell_type": "markdown",
   "metadata": {},
   "source": [
    "# Preambule"
   ]
  },
  {
   "cell_type": "code",
   "execution_count": 1,
   "metadata": {
    "ExecuteTime": {
     "end_time": "2021-11-23T16:41:03.074306Z",
     "start_time": "2021-11-23T16:40:58.025Z"
    }
   },
   "outputs": [
    {
     "name": "stderr",
     "output_type": "stream",
     "text": [
      "── \u001b[1mAttaching packages\u001b[22m ────────────────────────────────────────────────────────────────────────────────────────────────────────────────────────────────────── tidyverse 1.3.0 ──\n",
      "\n",
      "\u001b[32m✔\u001b[39m \u001b[34mggplot2\u001b[39m 3.3.2     \u001b[32m✔\u001b[39m \u001b[34mpurrr  \u001b[39m 0.3.4\n",
      "\u001b[32m✔\u001b[39m \u001b[34mtibble \u001b[39m 3.0.4     \u001b[32m✔\u001b[39m \u001b[34mdplyr  \u001b[39m 1.0.2\n",
      "\u001b[32m✔\u001b[39m \u001b[34mtidyr  \u001b[39m 1.1.2     \u001b[32m✔\u001b[39m \u001b[34mstringr\u001b[39m 1.4.0\n",
      "\u001b[32m✔\u001b[39m \u001b[34mreadr  \u001b[39m 1.4.0     \u001b[32m✔\u001b[39m \u001b[34mforcats\u001b[39m 0.5.0\n",
      "\n",
      "── \u001b[1mConflicts\u001b[22m ───────────────────────────────────────────────────────────────────────────────────────────────────────────────────────────────────────── tidyverse_conflicts() ──\n",
      "\u001b[31m✖\u001b[39m \u001b[34mdplyr\u001b[39m::\u001b[32mfilter()\u001b[39m masks \u001b[34mstats\u001b[39m::filter()\n",
      "\u001b[31m✖\u001b[39m \u001b[34mdplyr\u001b[39m::\u001b[32mlag()\u001b[39m    masks \u001b[34mstats\u001b[39m::lag()\n",
      "\n",
      "\n",
      "Attaching package: ‘data.table’\n",
      "\n",
      "\n",
      "The following objects are masked from ‘package:dplyr’:\n",
      "\n",
      "    between, first, last\n",
      "\n",
      "\n",
      "The following object is masked from ‘package:purrr’:\n",
      "\n",
      "    transpose\n",
      "\n",
      "\n",
      "qs v0.23.4.\n",
      "\n",
      "Welcome to DALEX (version: 2.0.1).\n",
      "Find examples and detailed introduction at: https://pbiecek.github.io/ema/\n",
      "\n",
      "\n",
      "\n",
      "Attaching package: ‘DALEX’\n",
      "\n",
      "\n",
      "The following object is masked from ‘package:dplyr’:\n",
      "\n",
      "    explain\n",
      "\n",
      "\n"
     ]
    }
   ],
   "source": [
    "library(tidyverse)\n",
    "library(stringr)\n",
    "library(data.table)\n",
    "library(stringr)\n",
    "library(dplyr)\n",
    "library(qs)\n",
    "library(parallel)\n",
    "library(clustermq)\n",
    "library(ggpubr)\n",
    "library(DALEX)\n",
    "library('iBreakDown')"
   ]
  },
  {
   "cell_type": "code",
   "execution_count": 2,
   "metadata": {
    "ExecuteTime": {
     "end_time": "2021-11-23T16:41:03.140227Z",
     "start_time": "2021-11-23T16:40:58.249Z"
    }
   },
   "outputs": [],
   "source": [
    "options(clustermq.scheduler = \"sge\", clustermq.template = \"~/.clustermq.tmpl\")"
   ]
  },
  {
   "cell_type": "code",
   "execution_count": 3,
   "metadata": {
    "ExecuteTime": {
     "end_time": "2021-11-23T16:41:03.182321Z",
     "start_time": "2021-11-23T16:41:01.114Z"
    }
   },
   "outputs": [],
   "source": [
    "file.sources <- list.files('../scripts/', pattern = '*.R', full.names=TRUE, ignore.case=TRUE)\n",
    "for (f in file.sources) {\n",
    "    source(f)\n",
    "}\n",
    "rm('file.sources', 'f')"
   ]
  },
  {
   "cell_type": "markdown",
   "metadata": {},
   "source": [
    "# Data"
   ]
  },
  {
   "cell_type": "code",
   "execution_count": 4,
   "metadata": {
    "ExecuteTime": {
     "end_time": "2021-11-23T16:41:03.966281Z",
     "start_time": "2021-11-23T16:41:03.402Z"
    }
   },
   "outputs": [],
   "source": [
    "meta <- c('dataset','Sample','age','gender','country','BMI','westernized', 'number_reads')"
   ]
  },
  {
   "cell_type": "code",
   "execution_count": 5,
   "metadata": {
    "ExecuteTime": {
     "end_time": "2021-11-23T16:41:21.717522Z",
     "start_time": "2021-11-23T16:41:21.104Z"
    }
   },
   "outputs": [],
   "source": [
    "rules <- qread('../tmp/ruleExec_full.qs')\n",
    "X <- qread('../tmp/X.qs')"
   ]
  },
  {
   "cell_type": "code",
   "execution_count": 6,
   "metadata": {
    "ExecuteTime": {
     "end_time": "2021-11-23T16:41:39.548012Z",
     "start_time": "2021-11-23T16:41:38.912Z"
    }
   },
   "outputs": [],
   "source": [
    "related_taxa <- qread('../tmp/related_taxa_full.qs')\n",
    "is_s <- str_which(names(related_taxa), pattern = '^s_')\n",
    "related_taxa[is_s] <- related_taxa[is_s] %>% lapply(function(x){str_subset(x, pattern = '^s|g')})\n",
    "related_taxa$groupa <- 'groupa'\n",
    "related_taxa$groupb <- 'groupb'\n",
    "related_taxa$groupc <- 'groupc'\n",
    "related_taxa$groupd <- 'groupd'"
   ]
  },
  {
   "cell_type": "code",
   "execution_count": 7,
   "metadata": {
    "ExecuteTime": {
     "end_time": "2021-11-23T16:41:41.189804Z",
     "start_time": "2021-11-23T16:41:40.617Z"
    }
   },
   "outputs": [],
   "source": [
    "related_taxa <- related_taxa[!duplicated(related_taxa) ]"
   ]
  },
  {
   "cell_type": "code",
   "execution_count": 8,
   "metadata": {
    "ExecuteTime": {
     "end_time": "2021-11-23T16:41:42.944716Z",
     "start_time": "2021-11-23T16:41:42.357Z"
    }
   },
   "outputs": [],
   "source": [
    "fnames <- list.files('/ebio/abt3_projects/temp_data/aruaud/MtgSimu50/p005_B10/', full.names = TRUE, pattern = 'simu')"
   ]
  },
  {
   "cell_type": "code",
   "execution_count": 9,
   "metadata": {
    "ExecuteTime": {
     "end_time": "2021-11-23T16:41:43.716089Z",
     "start_time": "2021-11-23T16:41:43.138Z"
    }
   },
   "outputs": [
    {
     "data": {
      "text/html": [
       "50"
      ],
      "text/latex": [
       "50"
      ],
      "text/markdown": [
       "50"
      ],
      "text/plain": [
       "[1] 50"
      ]
     },
     "metadata": {},
     "output_type": "display_data"
    }
   ],
   "source": [
    "length(fnames)"
   ]
  },
  {
   "cell_type": "markdown",
   "metadata": {
    "deletable": false,
    "editable": false,
    "run_control": {
     "frozen": true
    }
   },
   "source": [
    "# Functions"
   ]
  },
  {
   "cell_type": "code",
   "execution_count": 10,
   "metadata": {
    "ExecuteTime": {
     "end_time": "2021-11-23T16:41:46.015044Z",
     "start_time": "2021-11-23T16:41:45.434Z"
    }
   },
   "outputs": [],
   "source": [
    "getInterpo <- function(x, lim){\n",
    "    tmp <- approx(x[[1]]$fp, x[[1]]$tp, xout = 1:lim, ties = max)\n",
    "    tmp <- as.data.frame(do.call(cbind, tmp))\n",
    "        \n",
    "    # add max values to the extrapolations\n",
    "    mafp <- max(tmp$x[!is.na(tmp$y)])\n",
    "    tmp$y[tmp$x>mafp] <- max(x[[1]]$tp)\n",
    "    \n",
    "    # add the proba for the min \n",
    "    tmp <- tmp[complete.cases(tmp),]\n",
    "    mifp <- min(tmp$x[!is.na(tmp$y)])\n",
    "    if (max(mifp)-1 > 1){\n",
    "        mitp <- min(tmp$y, na.rm = TRUE)\n",
    "        x <- 1:(mifp+mitp)\n",
    "        mifp <- x*mifp/max(x)\n",
    "        mitp <- x*mitp/max(x)\n",
    "        tmp <- rbind(tmp, as.data.frame(do.call(cbind,approx(mifp, mitp, xout = 1:(max(mifp)-1), ties = max)) ))\n",
    "    }\n",
    "    \n",
    "    tmp <- tmp %>% add_row(x = 0, y = 0)\n",
    "\n",
    "    colnames(tmp) <- c('fp', 'tp')\n",
    "    return(tmp)\n",
    "}"
   ]
  },
  {
   "cell_type": "code",
   "execution_count": 11,
   "metadata": {
    "ExecuteTime": {
     "end_time": "2021-11-23T16:41:46.212620Z",
     "start_time": "2021-11-23T16:41:45.645Z"
    }
   },
   "outputs": [],
   "source": [
    "getPR <- function(thr, res, related_taxa){\n",
    "    \n",
    "    tmp <- subset(res, val >= thr)\n",
    "    if (nrow(tmp) == 0){\n",
    "        return(c('tp' = NA, 'fp' = NA, 'tn' = NA, 'fn' = NA) )\n",
    "    }\n",
    "    nodes <- unique(tmp$var)\n",
    "    \n",
    "    # those that should not be but are = in pred_edges but not truth\n",
    "    fp <- sum(!(nodes %in% related_taxa))\n",
    "    \n",
    "    # those that should be and are\n",
    "    tp <- sum(sapply(related_taxa, function(x){ifelse(sum(x %in% nodes) > 0, 1, 0)}))\n",
    "    \n",
    "    # those that should be but are not = in truth but not in pred_edges\n",
    "    fn <- length(which(!(names(related_taxa) %in% nodes)))\n",
    "    \n",
    "    res <- c('tp' = tp, 'fp' = fp, 'fn' = fn) \n",
    "    return(res)\n",
    "    \n",
    "}\n"
   ]
  },
  {
   "cell_type": "code",
   "execution_count": 12,
   "metadata": {
    "ExecuteTime": {
     "end_time": "2021-11-23T16:41:48.291313Z",
     "start_time": "2021-11-23T16:41:47.471Z"
    }
   },
   "outputs": [],
   "source": [
    "### Modify the DALEX function: silence the initial check\n",
    "shap_bab <- function(X, explain_rf) {\n",
    "  # call the shap from iBreakDown\n",
    "  res <- iBreakDown::shap(x = explain_rf, new_observation = X)\n",
    "  class(res) <- c('predict_parts', class(res))\n",
    "  return(res)\n",
    "}"
   ]
  },
  {
   "cell_type": "code",
   "execution_count": 13,
   "metadata": {
    "ExecuteTime": {
     "end_time": "2021-11-23T16:41:48.332975Z",
     "start_time": "2021-11-23T16:41:47.743Z"
    }
   },
   "outputs": [],
   "source": [
    "formatSingleSHAP <- function(i, res){\n",
    "    res <- res[[i]] %>% select(variable_name, variable_value, contribution) %>% \n",
    "                group_by(variable_name, variable_value) %>% summarise_all(mean) %>% \n",
    "                ungroup()\n",
    "    res$sample <- i\n",
    "    return(res)\n",
    "}"
   ]
  },
  {
   "cell_type": "code",
   "execution_count": 14,
   "metadata": {
    "ExecuteTime": {
     "end_time": "2021-11-23T16:41:48.886139Z",
     "start_time": "2021-11-23T16:41:48.315Z"
    }
   },
   "outputs": [],
   "source": [
    "wrapComp <- function(fname, data_ori, related_taxa, path, n_cores = 10){\n",
    "    \n",
    "    res <- list()\n",
    "    on.exit(return(res))\n",
    "    # get data \n",
    "    message('Data preparation...')\n",
    "    seedOri <- as.numeric(str_extract(fname, pattern = '(?<=simu)[:digit:]+(?=\\\\_)'))\n",
    "    res$seedOri <- seedOri\n",
    "    set.seed(seedOri)\n",
    "    data_ori <- data_ori[sample(1:nrow(data_ori)),]\n",
    "    simu <- qread(fname)\n",
    "    message(paste0(\"Let's go with seed \", seedOri))\n",
    "    \n",
    "    # ground truth\n",
    "    message('Ground truth...')\n",
    "    tn <- unique( str_replace(unlist(simu$true_edges), pattern = '\\\\_{2}.*', replacement = '') ) \n",
    "    related_taxa <- related_taxa[tn] \n",
    "    res$tp_nodes <- length(tn)\n",
    "    res$n_nodes <- ncol(data_ori)\n",
    "    \n",
    "    # shap\n",
    "    message('DALEX...')\n",
    "    explain_rf <- DALEX::explain( model = simu$rf, data = simu$data, y = simu$target == \"1\")\n",
    "    listed_data <- as.list(lapply(seq_len(nrow(simu$data)), function(i){simu$data[i,]}))\n",
    "    \n",
    "    message('shap_bab...')\n",
    "    cl <- makeCluster(n_cores)\n",
    "    clusterEvalQ(cl, library(iBreakDown))\n",
    "    clusterEvalQ(cl, library(DALEX))\n",
    "    clusterEvalQ(cl, library(randomForest))\n",
    "    on.exit(stopCluster(cl), add = TRUE, after =  FALSE)\n",
    "    res_shap <- parLapply(cl = cl, X = listed_data, fun = shap_bab, explain_rf = explain_rf)\n",
    "    \n",
    "    res$raw_shap <- res_shap\n",
    "    qsave(res_shap, paste0(path, 'raw_shap_', seedOri, '.qs'))\n",
    "    \n",
    "    # format res \n",
    "    message('Formatting...')\n",
    "    res_shap <- lapply(1:length(res_shap), formatSingleSHAP, res = res_shap) \n",
    "    res_shap <- as.data.frame(do.call(rbind, res_shap))\n",
    "    res_shap$contribution <- as.numeric(res_shap$contribution)\n",
    "    res_shap$variable_value <- as.numeric(res_shap$variable_value)\n",
    "    res$res_shap <- res_shap\n",
    "    \n",
    "    # PR curves\n",
    "    # edges\n",
    "    message('PR curves...')\n",
    "    resM <- group_by(res_shap, variable_name) %>% summarise(val = mean(abs(contribution)))\n",
    "    colnames(resM)[1] <- 'var'\n",
    "    thr <- sort(unique(resM$val)) \n",
    "    pr_nodes <- as.data.frame(t(sapply(thr, getPR, res=resM, related_taxa=related_taxa)))\n",
    "    pr_nodes <- arrange(pr_nodes, tp, fp)\n",
    "    \n",
    "    res$nodes <- pr_nodes\n",
    "    return(res)\n",
    "    \n",
    "}"
   ]
  },
  {
   "cell_type": "markdown",
   "metadata": {},
   "source": [
    "# go"
   ]
  },
  {
   "cell_type": "code",
   "execution_count": 15,
   "metadata": {
    "ExecuteTime": {
     "end_time": "2021-11-23T16:42:21.892565Z",
     "start_time": "2021-11-23T16:42:21.312Z"
    }
   },
   "outputs": [],
   "source": [
    "tmpl <- list(conda = \"r-ml\", cores = 20, job_time = '96:00:00', job_mem = '1G')"
   ]
  },
  {
   "cell_type": "code",
   "execution_count": 18,
   "metadata": {
    "ExecuteTime": {
     "end_time": "2021-09-24T18:02:35.085257Z",
     "start_time": "2021-09-24T16:42:36.543Z"
    },
    "deletable": false,
    "editable": false,
    "run_control": {
     "frozen": true
    },
    "scrolled": true
   },
   "outputs": [
    {
     "name": "stderr",
     "output_type": "stream",
     "text": [
      "Warning message in (function (...) :\n",
      "“Common data is 8.6 Mb. Recommended limit is  (set by clustermq.data.warning option)”\n",
      "Submitting 50 worker jobs (ID: cmq8392) ...\n",
      "\n",
      "Running 50 calculations (7 objs/8.6 Mb common; 1 calls/chunk) ...\n",
      "\n",
      "\n",
      "[---------------------------------------------------]   0% (1/50 wrk) eta:  ?s\n",
      "\n",
      "[---------------------------------------------------]   0% (2/50 wrk) eta:  ?s\n",
      "\n",
      "[---------------------------------------------------]   0% (3/50 wrk) eta:  ?s\n",
      "\n",
      "[---------------------------------------------------]   0% (4/50 wrk) eta:  ?s\n",
      "\n",
      "[---------------------------------------------------]   0% (5/50 wrk) eta:  ?s\n",
      "\n",
      "[---------------------------------------------------]   0% (6/50 wrk) eta:  ?s\n",
      "\n",
      "[---------------------------------------------------]   0% (7/50 wrk) eta:  ?s\n",
      "\n",
      "[---------------------------------------------------]   0% (8/50 wrk) eta:  ?s\n",
      "\n",
      "[---------------------------------------------------]   0% (9/50 wrk) eta:  ?s\n",
      "\n",
      "[--------------------------------------------------]   0% (10/50 wrk) eta:  ?s\n",
      "\n",
      "[--------------------------------------------------]   0% (11/50 wrk) eta:  ?s\n",
      "\n",
      "[--------------------------------------------------]   0% (12/50 wrk) eta:  ?s\n",
      "\n",
      "[--------------------------------------------------]   0% (13/50 wrk) eta:  ?s\n",
      "\n",
      "[--------------------------------------------------]   0% (14/50 wrk) eta:  ?s\n",
      "\n",
      "[--------------------------------------------------]   0% (15/50 wrk) eta:  ?s\n",
      "\n",
      "[--------------------------------------------------]   0% (16/50 wrk) eta:  ?s\n",
      "\n",
      "[--------------------------------------------------]   0% (17/50 wrk) eta:  ?s\n",
      "\n",
      "[--------------------------------------------------]   0% (18/50 wrk) eta:  ?s\n",
      "\n",
      "[--------------------------------------------------]   0% (19/50 wrk) eta:  ?s\n",
      "\n",
      "[--------------------------------------------------]   0% (20/50 wrk) eta:  ?s\n",
      "\n",
      "[--------------------------------------------------]   0% (21/50 wrk) eta:  ?s\n",
      "\n",
      "[--------------------------------------------------]   0% (22/50 wrk) eta:  ?s\n",
      "\n",
      "[--------------------------------------------------]   0% (23/50 wrk) eta:  ?s\n",
      "\n",
      "[--------------------------------------------------]   0% (24/50 wrk) eta:  ?s\n",
      "\n",
      "[--------------------------------------------------]   0% (25/50 wrk) eta:  ?s\n",
      "\n",
      "[--------------------------------------------------]   0% (26/50 wrk) eta:  ?s\n",
      "\n",
      "[--------------------------------------------------]   0% (27/50 wrk) eta:  ?s\n",
      "\n",
      "[--------------------------------------------------]   0% (28/50 wrk) eta:  ?s\n",
      "\n",
      "[--------------------------------------------------]   0% (29/50 wrk) eta:  ?s\n",
      "\n",
      "[--------------------------------------------------]   0% (30/50 wrk) eta:  ?s\n",
      "\n",
      "[--------------------------------------------------]   0% (31/50 wrk) eta:  ?s\n",
      "\n",
      "[--------------------------------------------------]   0% (32/50 wrk) eta:  ?s\n",
      "\n",
      "[--------------------------------------------------]   0% (33/50 wrk) eta:  ?s\n",
      "\n",
      "[--------------------------------------------------]   0% (34/50 wrk) eta:  ?s\n",
      "\n",
      "[--------------------------------------------------]   0% (35/50 wrk) eta:  ?s\n",
      "\n",
      "[--------------------------------------------------]   0% (36/50 wrk) eta:  ?s\n",
      "\n",
      "[--------------------------------------------------]   0% (37/50 wrk) eta:  ?s\n",
      "\n",
      "[--------------------------------------------------]   0% (38/50 wrk) eta:  ?s\n",
      "\n",
      "[--------------------------------------------------]   0% (39/50 wrk) eta:  ?s\n",
      "\n",
      "[--------------------------------------------------]   0% (40/50 wrk) eta:  ?s\n",
      "\n",
      "[--------------------------------------------------]   0% (41/50 wrk) eta:  ?s\n",
      "\n",
      "[--------------------------------------------------]   0% (42/50 wrk) eta:  ?s\n",
      "\n",
      "[--------------------------------------------------]   0% (43/50 wrk) eta:  ?s\n",
      "\n",
      "[--------------------------------------------------]   0% (44/50 wrk) eta:  ?s\n",
      "\n",
      "[--------------------------------------------------]   0% (45/50 wrk) eta:  ?s\n",
      "\n",
      "[--------------------------------------------------]   0% (46/50 wrk) eta:  ?s\n",
      "\n",
      "[--------------------------------------------------]   0% (47/50 wrk) eta:  ?s\n",
      "\n",
      "[--------------------------------------------------]   0% (48/50 wrk) eta:  ?s\n",
      "\n",
      "[--------------------------------------------------]   0% (49/50 wrk) eta:  ?s\n",
      "\n",
      "[--------------------------------------------------]   0% (50/50 wrk) eta:  ?s\n",
      "\n",
      "[>-------------------------------------------------]   2% (50/50 wrk) eta:  1d\n",
      "\n",
      "[=>------------------------------------------------]   4% (49/49 wrk) eta: 15h\n",
      "\n",
      "[==>-----------------------------------------------]   6% (48/48 wrk) eta: 10h\n",
      "\n",
      "[===>----------------------------------------------]   8% (47/47 wrk) eta:  8h\n",
      "\n",
      "[====>---------------------------------------------]  10% (46/46 wrk) eta:  6h\n",
      "\n",
      "[=====>--------------------------------------------]  12% (45/45 wrk) eta:  6h\n",
      "\n",
      "[======>-------------------------------------------]  14% (44/44 wrk) eta:  5h\n",
      "\n",
      "[=======>------------------------------------------]  16% (43/43 wrk) eta:  4h\n",
      "\n",
      "[========>-----------------------------------------]  18% (42/42 wrk) eta:  4h\n",
      "\n",
      "[=========>----------------------------------------]  20% (41/41 wrk) eta:  3h\n",
      "\n",
      "[==========>---------------------------------------]  22% (40/40 wrk) eta:  3h\n",
      "\n",
      "[===========>--------------------------------------]  24% (39/39 wrk) eta:  3h\n",
      "\n",
      "[============>-------------------------------------]  26% (38/38 wrk) eta:  2h\n",
      "\n",
      "[=============>------------------------------------]  28% (37/37 wrk) eta:  2h\n",
      "\n",
      "[==============>-----------------------------------]  30% (36/36 wrk) eta:  2h\n",
      "\n",
      "[===============>----------------------------------]  32% (35/35 wrk) eta:  2h\n",
      "\n",
      "[================>---------------------------------]  34% (34/34 wrk) eta:  2h\n",
      "\n",
      "[=================>--------------------------------]  36% (33/33 wrk) eta:  2h\n",
      "\n",
      "[==================>-------------------------------]  38% (32/32 wrk) eta:  2h\n",
      "\n",
      "[===================>------------------------------]  40% (32/32 wrk) eta:  1h\n",
      "\n",
      "[====================>-----------------------------]  42% (30/30 wrk) eta:  1h\n",
      "\n",
      "[=====================>----------------------------]  44% (30/30 wrk) eta:  1h\n",
      "\n",
      "[======================>---------------------------]  46% (30/30 wrk) eta:  1h\n",
      "\n",
      "[=======================>--------------------------]  48% (27/27 wrk) eta:  1h\n",
      "\n",
      "[========================>-------------------------]  50% (26/26 wrk) eta:  1h\n",
      "\n",
      "[=========================>------------------------]  52% (25/25 wrk) eta:  1h\n",
      "\n",
      "[==========================>-----------------------]  54% (24/24 wrk) eta:  1h\n",
      "\n",
      "[===========================>----------------------]  56% (23/23 wrk) eta: 48m\n",
      "\n",
      "[============================>---------------------]  58% (22/22 wrk) eta: 44m\n",
      "\n",
      "[=============================>--------------------]  60% (21/21 wrk) eta: 41m\n",
      "\n",
      "[==============================>-------------------]  62% (20/20 wrk) eta: 38m\n",
      "\n",
      "[===============================>------------------]  64% (20/20 wrk) eta: 35m\n",
      "\n",
      "[================================>-----------------]  66% (18/18 wrk) eta: 32m\n",
      "\n",
      "[=================================>----------------]  68% (18/18 wrk) eta: 29m\n",
      "\n",
      "[==================================>---------------]  70% (16/16 wrk) eta: 28m\n",
      "\n",
      "[===================================>--------------]  72% (15/15 wrk) eta: 26m\n",
      "\n",
      "[====================================>-------------]  74% (14/14 wrk) eta: 24m\n",
      "\n",
      "[=====================================>------------]  76% (13/13 wrk) eta: 21m\n",
      "\n",
      "[======================================>-----------]  78% (12/12 wrk) eta: 19m\n",
      "\n",
      "[=======================================>----------]  80% (11/11 wrk) eta: 17m\n",
      "\n",
      "[========================================>---------]  82% (10/10 wrk) eta: 15m\n",
      "\n",
      "[===========================================>--------]  84% (9/9 wrk) eta: 14m\n",
      "\n",
      "[============================================>-------]  86% (8/8 wrk) eta: 12m\n",
      "\n",
      "[=============================================>------]  88% (7/7 wrk) eta: 10m\n",
      "\n",
      "[==============================================>-----]  90% (6/6 wrk) eta:  8m\n",
      "\n",
      "[===============================================>----]  92% (5/5 wrk) eta:  6m\n",
      "\n",
      "[================================================>---]  94% (4/4 wrk) eta:  5m\n",
      "\n",
      "[=================================================>--]  96% (3/3 wrk) eta:  3m\n",
      "\n",
      "[==================================================>-]  98% (2/2 wrk) eta:  2m\n",
      "\n",
      "[====================================================] 100% (1/1 wrk) eta:  0s\n"
     ]
    },
    {
     "name": "stderr",
     "output_type": "stream",
     "text": [
      "                                                                              \n",
      "\n",
      "Master: [4798.1s 3.6% CPU]; Worker: [avg 0.8% CPU, max 1002.8 Mb]\n",
      "\n"
     ]
    }
   ],
   "source": [
    "res <- Q(wrapComp\n",
    "         , fail_on_error = TRUE\n",
    "         , fname = fnames\n",
    "         , const = list('data_ori' = X, 'related_taxa' = related_taxa\n",
    "                       , 'path' = '/ebio/abt3_projects/temp_data/aruaud/MtgSimu50/comparison_SHAP_rf/'\n",
    "                       , 'n_cores' = 20)\n",
    "         , export = c('getPR' = getPR, 'shap_bab' = shap_bab, 'formatSingleSHAP' = formatSingleSHAP)\n",
    "         , pkgs = c('DALEX', 'iBreakDown', 'qs', 'stringr', 'tidyverse', 'parallel', 'randomForest')\n",
    "         , n_jobs = length(fnames)\n",
    "         , template = tmpl\n",
    "         , log_worker=TRUE\n",
    "        )"
   ]
  },
  {
   "cell_type": "code",
   "execution_count": 22,
   "metadata": {
    "ExecuteTime": {
     "end_time": "2021-09-24T18:25:11.931595Z",
     "start_time": "2021-09-24T18:25:11.628Z"
    }
   },
   "outputs": [],
   "source": [
    "res_trimmed <- lapply(res, function(x){x[names(x) != 'raw_shap']})"
   ]
  },
  {
   "cell_type": "code",
   "execution_count": 16,
   "metadata": {
    "ExecuteTime": {
     "end_time": "2021-11-23T16:43:18.183178Z",
     "start_time": "2021-11-23T16:43:17.591Z"
    }
   },
   "outputs": [],
   "source": [
    "qsave(res_trimmed, '../tmp/comparison_shapRF.qs')"
   ]
  },
  {
   "cell_type": "code",
   "execution_count": null,
   "metadata": {},
   "outputs": [],
   "source": []
  }
 ],
 "metadata": {
  "kernelspec": {
   "display_name": "R [conda env:Metagenomes_methanogen-r-ml] *",
   "language": "R",
   "name": "conda-env-Metagenomes_methanogen-r-ml-r"
  },
  "language_info": {
   "codemirror_mode": "r",
   "file_extension": ".r",
   "mimetype": "text/x-r-source",
   "name": "R",
   "pygments_lexer": "r",
   "version": "4.0.3"
  },
  "notify_time": "30",
  "toc": {
   "base_numbering": 1,
   "nav_menu": {},
   "number_sections": true,
   "sideBar": true,
   "skip_h1_title": false,
   "title_cell": "Table of Contents",
   "title_sidebar": "Contents",
   "toc_cell": false,
   "toc_position": {
    "height": "calc(100% - 180px)",
    "left": "10px",
    "top": "150px",
    "width": "255px"
   },
   "toc_section_display": true,
   "toc_window_display": true
  }
 },
 "nbformat": 4,
 "nbformat_minor": 4
}
