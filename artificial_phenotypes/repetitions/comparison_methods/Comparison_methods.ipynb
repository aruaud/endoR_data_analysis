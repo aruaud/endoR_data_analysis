{
 "cells": [
  {
   "cell_type": "markdown",
   "metadata": {},
   "source": [
    "Functions written to get results from each methos and for each replicate in an automatic manner are in the Functions section. They may be a little hard to read so do not hesitate to write me in case of questions :) \n",
    "- the SHAP values from RF models were ran later in the Comparison_methods_shapRF notebook\n",
    "- sparCC\n",
    "- gLASSO"
   ]
  },
  {
   "cell_type": "markdown",
   "metadata": {},
   "source": [
    "# Preambule"
   ]
  },
  {
   "cell_type": "code",
   "execution_count": 1,
   "metadata": {
    "ExecuteTime": {
     "end_time": "2021-11-23T15:47:23.845302Z",
     "start_time": "2021-11-23T15:47:18.475Z"
    }
   },
   "outputs": [
    {
     "name": "stderr",
     "output_type": "stream",
     "text": [
      "── \u001b[1mAttaching packages\u001b[22m ────────────────────────────────────────────────────────────────────────────────────────────────────────────────────────────────────── tidyverse 1.3.0 ──\n",
      "\n",
      "\u001b[32m✔\u001b[39m \u001b[34mggplot2\u001b[39m 3.3.2     \u001b[32m✔\u001b[39m \u001b[34mpurrr  \u001b[39m 0.3.4\n",
      "\u001b[32m✔\u001b[39m \u001b[34mtibble \u001b[39m 3.0.4     \u001b[32m✔\u001b[39m \u001b[34mdplyr  \u001b[39m 1.0.2\n",
      "\u001b[32m✔\u001b[39m \u001b[34mtidyr  \u001b[39m 1.1.2     \u001b[32m✔\u001b[39m \u001b[34mstringr\u001b[39m 1.4.0\n",
      "\u001b[32m✔\u001b[39m \u001b[34mreadr  \u001b[39m 1.4.0     \u001b[32m✔\u001b[39m \u001b[34mforcats\u001b[39m 0.5.0\n",
      "\n",
      "── \u001b[1mConflicts\u001b[22m ───────────────────────────────────────────────────────────────────────────────────────────────────────────────────────────────────────── tidyverse_conflicts() ──\n",
      "\u001b[31m✖\u001b[39m \u001b[34mdplyr\u001b[39m::\u001b[32mfilter()\u001b[39m masks \u001b[34mstats\u001b[39m::filter()\n",
      "\u001b[31m✖\u001b[39m \u001b[34mdplyr\u001b[39m::\u001b[32mlag()\u001b[39m    masks \u001b[34mstats\u001b[39m::lag()\n",
      "\n",
      "Loading required package: lattice\n",
      "\n",
      "\n",
      "Attaching package: ‘caret’\n",
      "\n",
      "\n",
      "The following object is masked from ‘package:purrr’:\n",
      "\n",
      "    lift\n",
      "\n",
      "\n",
      "\n",
      "Attaching package: ‘data.table’\n",
      "\n",
      "\n",
      "The following objects are masked from ‘package:dplyr’:\n",
      "\n",
      "    between, first, last\n",
      "\n",
      "\n",
      "The following object is masked from ‘package:purrr’:\n",
      "\n",
      "    transpose\n",
      "\n",
      "\n",
      "randomForest 4.6-14\n",
      "\n",
      "Type rfNews() to see new features/changes/bug fixes.\n",
      "\n",
      "\n",
      "Attaching package: ‘randomForest’\n",
      "\n",
      "\n",
      "The following object is masked from ‘package:dplyr’:\n",
      "\n",
      "    combine\n",
      "\n",
      "\n",
      "The following object is masked from ‘package:ggplot2’:\n",
      "\n",
      "    margin\n",
      "\n",
      "\n",
      "qs v0.23.4.\n",
      "\n",
      "\n",
      "Attaching package: ‘igraph’\n",
      "\n",
      "\n",
      "The following objects are masked from ‘package:dplyr’:\n",
      "\n",
      "    as_data_frame, groups, union\n",
      "\n",
      "\n",
      "The following objects are masked from ‘package:purrr’:\n",
      "\n",
      "    compose, simplify\n",
      "\n",
      "\n",
      "The following object is masked from ‘package:tidyr’:\n",
      "\n",
      "    crossing\n",
      "\n",
      "\n",
      "The following object is masked from ‘package:tibble’:\n",
      "\n",
      "    as_data_frame\n",
      "\n",
      "\n",
      "The following objects are masked from ‘package:stats’:\n",
      "\n",
      "    decompose, spectrum\n",
      "\n",
      "\n",
      "The following object is masked from ‘package:base’:\n",
      "\n",
      "    union\n",
      "\n",
      "\n",
      "Registered S3 method overwritten by 'RRF':\n",
      "  method      from        \n",
      "  plot.margin randomForest\n",
      "\n",
      "RRF 1.9.1\n",
      "\n",
      "Type rrfNews() to see new features/changes/bug fixes.\n",
      "\n",
      "\n",
      "Attaching package: ‘RRF’\n",
      "\n",
      "\n",
      "The following objects are masked from ‘package:randomForest’:\n",
      "\n",
      "    classCenter, combine, getTree, grow, importance, margin, MDSplot,\n",
      "    na.roughfix, outlier, partialPlot, treesize, varImpPlot, varUsed\n",
      "\n",
      "\n",
      "The following object is masked from ‘package:dplyr’:\n",
      "\n",
      "    combine\n",
      "\n",
      "\n",
      "The following object is masked from ‘package:ggplot2’:\n",
      "\n",
      "    margin\n",
      "\n",
      "\n",
      "Warning message:\n",
      "“replacing previous import ‘data.table::last’ by ‘dplyr::last’ when loading ‘endoR’”\n",
      "Warning message:\n",
      "“replacing previous import ‘data.table::first’ by ‘dplyr::first’ when loading ‘endoR’”\n",
      "Warning message:\n",
      "“replacing previous import ‘data.table::between’ by ‘dplyr::between’ when loading ‘endoR’”\n",
      "Warning message:\n",
      "“replacing previous import ‘dplyr::union’ by ‘igraph::union’ when loading ‘endoR’”\n",
      "Warning message:\n",
      "“replacing previous import ‘dplyr::as_data_frame’ by ‘igraph::as_data_frame’ when loading ‘endoR’”\n",
      "Warning message:\n",
      "“replacing previous import ‘dplyr::groups’ by ‘igraph::groups’ when loading ‘endoR’”\n"
     ]
    }
   ],
   "source": [
    "library(tidyverse)\n",
    "library(stringr)\n",
    "library(caret)\n",
    "library(data.table)\n",
    "library(stringr)\n",
    "library(dplyr)\n",
    "library(randomForest)\n",
    "library(qs)\n",
    "library(parallel)\n",
    "library(igraph)\n",
    "library(ggraph)\n",
    "library(inTrees)\n",
    "library(RRF)\n",
    "library(clustermq)\n",
    "library(endoR)\n",
    "library(SHAPforxgboost)\n",
    "library(iBreakDown)\n",
    "library(ggpubr)"
   ]
  },
  {
   "cell_type": "code",
   "execution_count": 2,
   "metadata": {
    "ExecuteTime": {
     "end_time": "2021-11-23T15:47:23.954606Z",
     "start_time": "2021-11-23T15:47:18.984Z"
    }
   },
   "outputs": [
    {
     "data": {
      "text/plain": [
       "R version 4.0.3 (2020-10-10)\n",
       "Platform: x86_64-conda-linux-gnu (64-bit)\n",
       "Running under: Ubuntu 18.04.6 LTS\n",
       "\n",
       "Matrix products: default\n",
       "BLAS/LAPACK: /ebio/abt3_projects/Methanogen_SCFA/Metagenomes_methanogen/envs/r-ml/lib/libopenblasp-r0.3.10.so\n",
       "\n",
       "locale:\n",
       " [1] LC_CTYPE=en_US.UTF-8       LC_NUMERIC=C              \n",
       " [3] LC_TIME=en_US.UTF-8        LC_COLLATE=en_US.UTF-8    \n",
       " [5] LC_MONETARY=en_US.UTF-8    LC_MESSAGES=en_US.UTF-8   \n",
       " [7] LC_PAPER=en_US.UTF-8       LC_NAME=C                 \n",
       " [9] LC_ADDRESS=C               LC_TELEPHONE=C            \n",
       "[11] LC_MEASUREMENT=en_US.UTF-8 LC_IDENTIFICATION=C       \n",
       "\n",
       "attached base packages:\n",
       "[1] parallel  stats     graphics  grDevices utils     datasets  methods  \n",
       "[8] base     \n",
       "\n",
       "other attached packages:\n",
       " [1] ggpubr_0.4.0         iBreakDown_1.3.1     SHAPforxgboost_0.1.0\n",
       " [4] endoR_0.1.0          clustermq_0.8.95.1   RRF_1.9.1           \n",
       " [7] inTrees_1.3          ggraph_2.0.4         igraph_1.2.6        \n",
       "[10] qs_0.23.4            randomForest_4.6-14  data.table_1.13.4   \n",
       "[13] caret_6.0-86         lattice_0.20-41      forcats_0.5.0       \n",
       "[16] stringr_1.4.0        dplyr_1.0.2          purrr_0.3.4         \n",
       "[19] readr_1.4.0          tidyr_1.1.2          tibble_3.0.4        \n",
       "[22] ggplot2_3.3.2        tidyverse_1.3.0     \n",
       "\n",
       "loaded via a namespace (and not attached):\n",
       "  [1] colorspace_2.0-0     ggsignif_0.6.0       rio_0.5.16          \n",
       "  [4] ellipsis_0.3.1       class_7.3-17         IRdisplay_0.7.0     \n",
       "  [7] base64enc_0.1-3      fs_1.5.0             rstudioapi_0.13     \n",
       " [10] farver_2.0.3         graphlayouts_0.7.1   ggrepel_0.8.2       \n",
       " [13] prodlim_2019.11.13   fansi_0.4.1          lubridate_1.7.9.2   \n",
       " [16] ranger_0.12.1        xml2_1.3.2           codetools_0.2-18    \n",
       " [19] splines_4.0.3        arules_1.6-6         polyclip_1.10-0     \n",
       " [22] IRkernel_1.1.1       jsonlite_1.7.2       pROC_1.16.2         \n",
       " [25] broom_0.7.2          dbplyr_2.0.0         ggforce_0.3.2       \n",
       " [28] compiler_4.0.3       httr_1.4.2           backports_1.2.0     \n",
       " [31] assertthat_0.2.1     Matrix_1.2-18        cli_2.2.0           \n",
       " [34] tweenr_1.0.1         htmltools_0.5.0      tools_4.0.3         \n",
       " [37] gtable_0.3.0         glue_1.4.2           reshape2_1.4.4      \n",
       " [40] Rcpp_1.0.5           carData_3.0-4        cellranger_1.1.0    \n",
       " [43] vctrs_0.3.6          nlme_3.1-150         iterators_1.0.13    \n",
       " [46] timeDate_3043.102    gower_0.2.2          ps_1.5.0            \n",
       " [49] openxlsx_4.2.3       rvest_0.3.6          lifecycle_0.2.0     \n",
       " [52] rstatix_0.6.0        MASS_7.3-53          scales_1.1.1        \n",
       " [55] ipred_0.9-9          tidygraph_1.2.0      hms_0.5.3           \n",
       " [58] lightgbm_3.1.1       RColorBrewer_1.1-2   BBmisc_1.11         \n",
       " [61] curl_4.3             gridExtra_2.3        rpart_4.1-15        \n",
       " [64] stringi_1.5.3        foreach_1.5.1        checkmate_2.0.0     \n",
       " [67] zip_2.1.1            lava_1.6.8.1         repr_1.1.2.9000     \n",
       " [70] rlang_0.4.10         pkgconfig_2.0.3      evaluate_0.14       \n",
       " [73] recipes_0.1.15       tidyselect_1.1.0     gbm_2.1.8           \n",
       " [76] plyr_1.8.6           magrittr_2.0.1       R6_2.5.0            \n",
       " [79] generics_0.1.0       pbdZMQ_0.3-3.1       DBI_1.1.0           \n",
       " [82] foreign_0.8-80       pillar_1.4.7         haven_2.3.1         \n",
       " [85] withr_2.3.0          abind_1.4-5          survival_3.2-7      \n",
       " [88] nnet_7.3-14          car_3.0-10           modelr_0.1.8        \n",
       " [91] crayon_1.3.4         xgboost_1.2.0.1      uuid_0.1-4          \n",
       " [94] RApiSerialize_0.1.0  viridis_0.5.1        grid_4.0.3          \n",
       " [97] readxl_1.3.1         ModelMetrics_1.2.2.2 reprex_0.3.0        \n",
       "[100] digest_0.6.27        xtable_1.8-4         RcppParallel_5.0.2  \n",
       "[103] stats4_4.0.3         munsell_0.5.0        stringfish_0.14.2   \n",
       "[106] viridisLite_0.3.0   "
      ]
     },
     "metadata": {},
     "output_type": "display_data"
    }
   ],
   "source": [
    "sessionInfo()"
   ]
  },
  {
   "cell_type": "code",
   "execution_count": 3,
   "metadata": {
    "ExecuteTime": {
     "end_time": "2021-11-23T15:47:23.984370Z",
     "start_time": "2021-11-23T15:47:19.332Z"
    }
   },
   "outputs": [],
   "source": [
    "file.sources <- list.files('../scripts/', pattern = '*.R', full.names=TRUE, ignore.case=TRUE)\n",
    "for (f in file.sources) {\n",
    "    source(f)\n",
    "}\n",
    "rm('file.sources', 'f')"
   ]
  },
  {
   "cell_type": "markdown",
   "metadata": {},
   "source": [
    "# Data"
   ]
  },
  {
   "cell_type": "code",
   "execution_count": 4,
   "metadata": {
    "ExecuteTime": {
     "end_time": "2021-11-23T15:47:23.998937Z",
     "start_time": "2021-11-23T15:47:19.960Z"
    }
   },
   "outputs": [],
   "source": [
    "meta <- c('dataset','Sample','age','gender','country','BMI','westernized', 'number_reads')"
   ]
  },
  {
   "cell_type": "code",
   "execution_count": 5,
   "metadata": {
    "ExecuteTime": {
     "end_time": "2021-11-23T15:47:24.058353Z",
     "start_time": "2021-11-23T15:47:20.365Z"
    }
   },
   "outputs": [],
   "source": [
    "rules <- qread('../tmp/ruleExec_full.qs')\n",
    "X <- qread('../tmp/X.qs')"
   ]
  },
  {
   "cell_type": "code",
   "execution_count": 6,
   "metadata": {
    "ExecuteTime": {
     "end_time": "2021-11-23T15:48:30.300673Z",
     "start_time": "2021-11-23T15:48:29.900Z"
    }
   },
   "outputs": [],
   "source": [
    "# list of species/genera/family of each taxonomic feature in the dataset\n",
    "related_taxa <- qread('../tmp/related_taxa_full.qs')\n",
    "is_s <- str_which(names(related_taxa), pattern = '^s_')\n",
    "related_taxa[is_s] <- related_taxa[is_s] %>% lapply(function(x){str_subset(x, pattern = '^s|g')})\n",
    "# we add the groups so they can be counted later when counting TP and FP\n",
    "related_taxa$groupa <- 'groupa'\n",
    "related_taxa$groupb <- 'groupb'\n",
    "related_taxa$groupc <- 'groupc'\n",
    "related_taxa$groupd <- 'groupd'"
   ]
  },
  {
   "cell_type": "code",
   "execution_count": 7,
   "metadata": {
    "ExecuteTime": {
     "end_time": "2021-11-23T15:48:32.522073Z",
     "start_time": "2021-11-23T15:48:32.134Z"
    }
   },
   "outputs": [],
   "source": [
    "related_taxa <- related_taxa[!duplicated(related_taxa) ]"
   ]
  },
  {
   "cell_type": "code",
   "execution_count": 8,
   "metadata": {
    "ExecuteTime": {
     "end_time": "2021-11-23T15:49:02.077592Z",
     "start_time": "2021-11-23T15:49:01.654Z"
    }
   },
   "outputs": [],
   "source": [
    "# location of the simulated data\n",
    "fnames <- list.files('/ebio/abt3_projects/temp_data/aruaud/MtgSimu50/p005_B10/', full.names = TRUE, pattern = 'simu')"
   ]
  },
  {
   "cell_type": "code",
   "execution_count": 9,
   "metadata": {
    "ExecuteTime": {
     "end_time": "2021-11-23T15:49:26.778438Z",
     "start_time": "2021-11-23T15:49:26.360Z"
    }
   },
   "outputs": [
    {
     "data": {
      "text/html": [
       "50"
      ],
      "text/latex": [
       "50"
      ],
      "text/markdown": [
       "50"
      ],
      "text/plain": [
       "[1] 50"
      ]
     },
     "metadata": {},
     "output_type": "display_data"
    }
   ],
   "source": [
    "length(fnames)"
   ]
  },
  {
   "cell_type": "markdown",
   "metadata": {
    "heading_collapsed": true
   },
   "source": [
    "# Interpolation function"
   ]
  },
  {
   "cell_type": "code",
   "execution_count": 10,
   "metadata": {
    "ExecuteTime": {
     "end_time": "2021-11-23T15:49:31.640597Z",
     "start_time": "2021-11-23T15:49:31.247Z"
    },
    "hidden": true
   },
   "outputs": [],
   "source": [
    "getInterpo <- function(x, lim){\n",
    "    tmp <- approx(x[[1]]$fp, x[[1]]$tp, xout = 1:lim, ties = max)\n",
    "    tmp <- as.data.frame(do.call(cbind, tmp))\n",
    "        \n",
    "    # add max values to the extrapolations\n",
    "    mafp <- max(tmp$x[!is.na(tmp$y)])\n",
    "    tmp$y[tmp$x>mafp] <- max(x[[1]]$tp)\n",
    "    \n",
    "    # add the proba for the min \n",
    "    tmp <- tmp[complete.cases(tmp),]\n",
    "    mifp <- min(tmp$x[!is.na(tmp$y)])\n",
    "    if (max(mifp)-1 > 1){\n",
    "        mitp <- min(tmp$y, na.rm = TRUE)\n",
    "        x <- 1:(mifp+mitp)\n",
    "        mifp <- x*mifp/max(x)\n",
    "        mitp <- x*mitp/max(x)\n",
    "        tmp <- rbind(tmp, as.data.frame(do.call(cbind,approx(mifp, mitp, xout = 1:(max(mifp)-1), ties = max)) ))\n",
    "    }\n",
    "    \n",
    "    tmp <- tmp %>% add_row(x = 0, y = 0)\n",
    "\n",
    "    colnames(tmp) <- c('fp', 'tp')\n",
    "    return(tmp)\n",
    "}"
   ]
  },
  {
   "cell_type": "markdown",
   "metadata": {
    "deletable": false,
    "editable": false,
    "run_control": {
     "frozen": true
    }
   },
   "source": [
    "# Functions"
   ]
  },
  {
   "cell_type": "markdown",
   "metadata": {
    "deletable": false,
    "editable": false,
    "run_control": {
     "frozen": true
    }
   },
   "source": [
    "## for curves"
   ]
  },
  {
   "cell_type": "code",
   "execution_count": 10,
   "metadata": {
    "ExecuteTime": {
     "end_time": "2021-05-27T09:25:13.315212Z",
     "start_time": "2021-05-27T09:25:13.119Z"
    },
    "deletable": false,
    "editable": false,
    "run_control": {
     "frozen": true
    }
   },
   "outputs": [],
   "source": [
    "getPR <- function(thr, res, related_taxa){\n",
    "    \n",
    "    tmp <- subset(res, val >= thr)\n",
    "    if (nrow(tmp) == 0){\n",
    "        return(c('tp' = NA, 'fp' = NA, 'tn' = NA, 'fn' = NA) )\n",
    "    }\n",
    "    nodes <- unique(tmp$var)\n",
    "    \n",
    "    # those that should not be but are = in pred_edges but not truth\n",
    "    fp <- sum(!(nodes %in% related_taxa))\n",
    "    \n",
    "    # those that should be and are\n",
    "    tp <- sum(sapply(related_taxa, function(x){ifelse(sum(x %in% nodes) > 0, 1, 0)}))\n",
    "    \n",
    "    # those that should be but are not = in truth but not in pred_edges\n",
    "    fn <- length(which(!(names(related_taxa) %in% nodes)))\n",
    "    \n",
    "    res <- c('tp' = tp, 'fp' = fp, 'fn' = fn) \n",
    "    return(res)\n",
    "    \n",
    "}\n"
   ]
  },
  {
   "cell_type": "code",
   "execution_count": 11,
   "metadata": {
    "ExecuteTime": {
     "end_time": "2021-05-27T09:25:13.348379Z",
     "start_time": "2021-05-27T09:25:13.122Z"
    },
    "deletable": false,
    "editable": false,
    "run_control": {
     "frozen": true
    }
   },
   "outputs": [],
   "source": [
    "getWilcox <- function(X, target, group, related_taxa){\n",
    "    iP <- which(target == '1')\n",
    "    class(X) <- 'data.frame'\n",
    "    \n",
    "    # calculate values\n",
    "    res <- lapply(X,\n",
    "        function(v, iP){tmp <- wilcox.test(v[iP], v[-iP]);return(c('W' = tmp$statistic, 'pval' = tmp$p.value))}\n",
    "                  , iP = iP)\n",
    "    res <- as.data.frame(do.call(rbind, res))\n",
    "    res$var <- rownames(res)\n",
    "    tmp <- chisq.test(group, target)\n",
    "    res <- rbind(res, c(tmp$statistic, tmp$p.value, 'group'))\n",
    "    res$val <- 1 - p.adjust(res$pval, method = 'BH')\n",
    "    \n",
    "    # get the TP vs FP curves\n",
    "    thr <- sort(unique(res$val)) \n",
    "    pr <- as.data.frame(t(sapply(thr, getPR, res=res, related_taxa=related_taxa)))\n",
    "    pr <- arrange(pr, tp,fp)\n",
    "    \n",
    "    return(pr)\n",
    "}"
   ]
  },
  {
   "cell_type": "code",
   "execution_count": 12,
   "metadata": {
    "ExecuteTime": {
     "end_time": "2021-05-27T09:25:13.369222Z",
     "start_time": "2021-05-27T09:25:13.125Z"
    },
    "deletable": false,
    "editable": false,
    "run_control": {
     "frozen": true
    }
   },
   "outputs": [],
   "source": [
    "getGini <- function(rf, related_taxa){\n",
    "    \n",
    "    # calculate values\n",
    "    res <- data.frame(var = rownames(rf$importance), val = rf$importance)\n",
    "    colnames(res) <- c('var', 'val')\n",
    "    \n",
    "    # get the TP vs FP curves\n",
    "    thr <- sort(unique(res$val)) \n",
    "    pr <- as.data.frame(t(sapply(thr, getPR, res=res, related_taxa=related_taxa)))\n",
    "    pr <- arrange(pr, tp,fp)\n",
    "    \n",
    "    return(pr)\n",
    "}"
   ]
  },
  {
   "cell_type": "code",
   "execution_count": 13,
   "metadata": {
    "ExecuteTime": {
     "end_time": "2021-05-27T09:25:13.389773Z",
     "start_time": "2021-05-27T09:25:13.127Z"
    },
    "deletable": false,
    "editable": false,
    "run_control": {
     "frozen": true
    }
   },
   "outputs": [],
   "source": [
    "getEndoRrf <- function(resampled, related_taxa, expanded_edges){\n",
    "    r <- stabilitySelection(resampled, alpha_error = 10, pi_thr = 0.7)\n",
    "    \n",
    "    # nodes \n",
    "    r$nodes$var <- str_replace(r$nodes$var, pattern = '\\\\_{2}.*', replacement = '')\n",
    "    colnames(r$nodes)[2] <- 'val'\n",
    "    thr <- sort(unique(r$nodes$val)) \n",
    "    pr_nodes <- as.data.frame(t(sapply(thr, getPR, res=r$nodes, related_taxa=related_taxa)))\n",
    "    pr_nodes <- arrange(pr_nodes, tp, fp)\n",
    "    \n",
    "    # edges\n",
    "    tmp <- unique(select(r$edges, c('x', 'y'))) \n",
    "    tmp <- asplit(as.matrix(tmp), MARGIN = 1)\n",
    "    tmp <- lapply(tmp, str_replace, pattern = '\\\\_{2}.*', replacement = '')\n",
    "    tmp <- sapply(tmp, function(x){paste(x, collapse = ' - ')})    \n",
    "    r$edges$var <- tmp\n",
    "    colnames(r$edges)[3] <- 'val'\n",
    "    thr <- sort(unique(r$edges$val)) \n",
    "    pr_edges <- as.data.frame(t(sapply(thr, getPR, res=r$edges, related_taxa=expanded_edges)))\n",
    "    pr_edges <- arrange(pr_edges, tp, fp)\n",
    "    \n",
    "    return(list('nodes' = pr_nodes, 'edges' = pr_edges))\n",
    "}"
   ]
  },
  {
   "cell_type": "code",
   "execution_count": 14,
   "metadata": {
    "ExecuteTime": {
     "end_time": "2021-05-27T09:25:13.411571Z",
     "start_time": "2021-05-27T09:25:13.130Z"
    },
    "deletable": false,
    "editable": false,
    "run_control": {
     "frozen": true
    }
   },
   "outputs": [],
   "source": [
    "getEndoRxgboost <- function(xgb_model, X, target, times = 10, n_cores = 5, n_proc = 3\n",
    "                           , expanded_edges, related_taxa){\n",
    "    res <- list()\n",
    "    # Run .... \n",
    "    preclu <- preCluster(model = xgb_model, model_type = 'xgboost', dummy_var = 'group'\n",
    "                         , discretize = TRUE, K = 3\n",
    "                         , times = times, p = .75, ntree = 'all'\n",
    "                         , data = X, target = target\n",
    "                         , seed = 1, in_parallel = TRUE, n_cores = n_cores)\n",
    "    res$preclu <- preclu\n",
    "    \n",
    "    options(clustermq.scheduler = \"multiprocess\")\n",
    "    rules <- Q(model2DE_cluster\n",
    "              , partition = preclu$partitions\n",
    "              , export=list(data = preclu$data, target = target\n",
    "                            , exec = preclu$exec, classPos = '1'\n",
    "                            , prune = TRUE, maxDecay = 0.05, typeDecay = 2 \n",
    "                            , filter = TRUE\n",
    "                            , in_parallel = TRUE, n_cores = n_cores\n",
    "                           )\n",
    "              , n_jobs= n_proc\n",
    "              , pkgs=c('data.table', 'parallel', 'caret', 'stringr', 'scales', 'dplyr', 'inTrees', 'babR')\n",
    "             )\n",
    "    res$rules <- rules\n",
    "    \n",
    "    r <- stabilitySelection(res = rules, alpha_error = 10, pi_thr = 0.7)\n",
    "    \n",
    "    # nodes \n",
    "    r$nodes$var <- str_replace(r$nodes$var, pattern = '\\\\_{2}.*', replacement = '')\n",
    "    colnames(r$nodes)[2] <- 'val'\n",
    "    thr <- sort(unique(r$nodes$val)) \n",
    "    pr_nodes <- as.data.frame(t(sapply(thr, getPR, res=r$nodes, related_taxa=related_taxa)))\n",
    "    pr_nodes <- arrange(pr_nodes, tp, fp)\n",
    "    res$pr_nodes <- pr_nodes\n",
    "    \n",
    "    # edges\n",
    "    tmp <- unique(select(r$edges, c('x', 'y'))) \n",
    "    tmp <- asplit(as.matrix(tmp), MARGIN = 1)\n",
    "    tmp <- lapply(tmp, str_replace, pattern = '\\\\_{2}.*', replacement = '')\n",
    "    tmp <- sapply(tmp, function(x){paste(x, collapse = ' - ')})    \n",
    "    r$edges$var <- tmp\n",
    "    colnames(r$edges)[3] <- 'val'\n",
    "    thr <- sort(unique(r$edges$val)) \n",
    "    pr_edges <- as.data.frame(t(sapply(thr, getPR, res=r$edges, related_taxa=expanded_edges)))\n",
    "    pr_edges <- arrange(pr_edges, tp, fp)\n",
    "    res$pr_edges <- pr_edges\n",
    "    \n",
    "    return(res)\n",
    "}"
   ]
  },
  {
   "cell_type": "code",
   "execution_count": null,
   "metadata": {
    "deletable": false,
    "editable": false,
    "run_control": {
     "frozen": true
    }
   },
   "outputs": [],
   "source": [
    "getGiniXgboost <- function(xgb_model, related_taxa){\n",
    "    feat_imp <- xgb.importance(model = xgb_model)\n",
    "    colnames(feat_imp)[1:2] <- c('var', 'val')\n",
    "    class(feat_imp)<- 'data.frame'\n",
    "    thr <- sort(unique(feat_imp$val)) \n",
    "    pr_nodes <- as.data.frame(t(sapply(thr, getPR, res=feat_imp, related_taxa=related_taxa)))\n",
    "    pr_nodes <- arrange(pr_nodes, tp)\n",
    "    return(pr_nodes)\n",
    "}"
   ]
  },
  {
   "cell_type": "markdown",
   "metadata": {
    "deletable": false,
    "editable": false,
    "heading_collapsed": true,
    "run_control": {
     "frozen": true
    }
   },
   "source": [
    "## for shap xgboost"
   ]
  },
  {
   "cell_type": "code",
   "execution_count": 15,
   "metadata": {
    "ExecuteTime": {
     "end_time": "2021-05-27T09:25:13.432210Z",
     "start_time": "2021-05-27T09:25:13.135Z"
    },
    "deletable": false,
    "editable": false,
    "hidden": true,
    "run_control": {
     "frozen": true
    }
   },
   "outputs": [],
   "source": [
    "getSingleInteractions <- function(data_long,data_int, x,y){\n",
    "    data0 <- data.frame(x = rep(x, nrow(data_int))\n",
    "                        , y = rep(y, nrow(data_int))\n",
    "                        , shap_int = data_int[, x, y] )\n",
    "    return(data0)\n",
    "}"
   ]
  },
  {
   "cell_type": "code",
   "execution_count": 16,
   "metadata": {
    "ExecuteTime": {
     "end_time": "2021-05-27T09:25:13.452299Z",
     "start_time": "2021-05-27T09:25:13.136Z"
    },
    "deletable": false,
    "editable": false,
    "hidden": true,
    "run_control": {
     "frozen": true
    }
   },
   "outputs": [],
   "source": [
    "getAllInteractions <- function(data_long,data_int){\n",
    "    colN <- as.character(unique(data_long$variable))\n",
    "    res <- list()\n",
    "    k <- 1\n",
    "    for (i in 1:(length(colN)-1)){\n",
    "        for (j in (i+1):length(colN)){\n",
    "            res[[k]] <- getSingleInteractions(data_long, data_int, x = colN[i],y = colN[j])\n",
    "            k <- k+1\n",
    "        }\n",
    "    }\n",
    "    \n",
    "    res <- do.call(rbind, res)\n",
    "    \n",
    "    return(res)\n",
    "}"
   ]
  },
  {
   "cell_type": "code",
   "execution_count": 17,
   "metadata": {
    "ExecuteTime": {
     "end_time": "2021-05-27T09:25:13.473612Z",
     "start_time": "2021-05-27T09:25:13.138Z"
    },
    "deletable": false,
    "editable": false,
    "hidden": true,
    "run_control": {
     "frozen": true
    }
   },
   "outputs": [],
   "source": [
    "getSHAPxgboost <- function(xgb_model, X_train, related_taxa,expanded_edges){\n",
    "    # To prepare the long-format data:\n",
    "    shap_long <- shap.prep(xgb_model = xgb_model, X_train = X_train)\n",
    "    \n",
    "    # nodes\n",
    "    shap_nodes <- unique(select(shap_long, variable,mean_value))\n",
    "    colnames(shap_nodes) <- c('var', 'val')\n",
    "    thr <- sort(unique(shap_nodes$val)) \n",
    "    pr_nodes <- as.data.frame(t(sapply(thr, getPR, res=shap_nodes, related_taxa=related_taxa)))\n",
    "    pr_nodes <- arrange(pr_nodes, tp)\n",
    "    \n",
    "    # edges\n",
    "    shap_int <- predict(xgb_model, X_train, predinteraction = TRUE)\n",
    "    shap_edges <- getAllInteractions(data_long = shap_long, data_int = shap_int)\n",
    "    shap_edges <- shap_edges %>% group_by(x,y) %>% summarise(shap_mean = mean(abs(shap_int)))\n",
    "    tmp <- unique(select(shap_edges, c('x', 'y'))) \n",
    "    tmp <- asplit(as.matrix(tmp), MARGIN = 1)\n",
    "    tmp <- lapply(tmp, str_replace, pattern = '\\\\_{2}.*', replacement = '')\n",
    "    tmp <- sapply(tmp, function(x){paste(x, collapse = ' - ')})    \n",
    "    shap_edges$var <- tmp\n",
    "    colnames(shap_edges)[3] <- 'val'\n",
    "    thr <- sort(unique(shap_edges$val)) \n",
    "    pr_edges <- as.data.frame(t(sapply(thr, getPR, res=shap_edges, related_taxa=expanded_edges)))\n",
    "    pr_edges <- arrange(pr_edges, tp)\n",
    "    \n",
    "    return(list('nodes' = pr_nodes, 'edges' = pr_edges))\n",
    "}"
   ]
  },
  {
   "cell_type": "markdown",
   "metadata": {
    "deletable": false,
    "editable": false,
    "heading_collapsed": true,
    "run_control": {
     "frozen": true
    }
   },
   "source": [
    "## get randoms"
   ]
  },
  {
   "cell_type": "code",
   "execution_count": 20,
   "metadata": {
    "ExecuteTime": {
     "end_time": "2021-05-27T09:25:13.535881Z",
     "start_time": "2021-05-27T09:25:13.148Z"
    },
    "deletable": false,
    "editable": false,
    "hidden": true,
    "run_control": {
     "frozen": true
    }
   },
   "outputs": [],
   "source": [
    "getRandom <- function(K, N, B = 1000, lim = NULL, edges = FALSE){\n",
    "    # Careful, by default we assume we look at nodes\n",
    "    if(edges == TRUE){\n",
    "        N <- (N^2-N)/2\n",
    "        #K <- x$tp_edges\n",
    "    } #else {K <- x$tp_nodes}\n",
    "    \n",
    "    if (is.null(lim)){lim<-N}\n",
    "    \n",
    "    urn <- c(rep(1, K), rep(0, N-K))\n",
    "    rdm <- list()\n",
    "\n",
    "    for(j in 1:B){\n",
    "        set.seed(j)\n",
    "        random_draw <- urn[sample(1:N)]\n",
    "        tp <- cumsum(random_draw)\n",
    "        fp <- 1:N - cumsum(random_draw)\n",
    "        linfit <- approx(fp, tp, xout = 1:lim,ties = max)\n",
    "\n",
    "        tmp <- as.data.frame(do.call(cbind, linfit))\n",
    "        colnames(tmp)<- c('fp', 'tp')\n",
    "        # add 0 and max values to the extrapolations\n",
    "        mifp <- min(tmp$fp[!is.na(tmp$tp)])\n",
    "        mafp <- max(tmp$fp[!is.na(tmp$tp)])\n",
    "        tmp$tp[tmp$fp<mifp] <- min(tmp$tp)\n",
    "        tmp$tp[tmp$fp>mafp] <- K  \n",
    "        rdm[[j]] <- tmp %>% add_row(tp = 0, fp = 0)\n",
    "        #rdm[[j]] <- tmp[ complete.cases(tmp), ]\n",
    "      }\n",
    "\n",
    "    rdm <- do.call(rbind, rdm)\n",
    "    suppressMessages(rdm <- rdm %>% group_by(fp) %>% summarise(tp = mean(tp)))\n",
    "    \n",
    "    return(rdm)\n",
    "}"
   ]
  },
  {
   "cell_type": "markdown",
   "metadata": {
    "deletable": false,
    "editable": false,
    "run_control": {
     "frozen": true
    }
   },
   "source": [
    "## wrapper"
   ]
  },
  {
   "cell_type": "code",
   "execution_count": 21,
   "metadata": {
    "ExecuteTime": {
     "end_time": "2021-05-27T09:25:13.557933Z",
     "start_time": "2021-05-27T09:25:13.151Z"
    },
    "deletable": false,
    "editable": false,
    "run_control": {
     "frozen": true
    }
   },
   "outputs": [],
   "source": [
    "wrapComp <- function(f, data_ori, related_taxa, times = 10\n",
    "                     , lim = 100, B = 100\n",
    "                     , n_cores = 5, n_proc = 5\n",
    "                     , n_jobs = 100){\n",
    "    \n",
    "    res <- list()\n",
    "    # get data \n",
    "    seedOri <- as.numeric(str_extract(f, pattern = '(?<=simu)[:digit:]+(?=\\\\_)'))\n",
    "    res$seedOri <- seedOri\n",
    "    set.seed(seedOri)\n",
    "    data_ori <- data_ori[sample(1:nrow(data_ori)),]\n",
    "    simu <- qread(f)\n",
    "    \n",
    "    # ground truth\n",
    "    tn <- unique( str_replace(unlist(simu$true_edges), pattern = '\\\\_{2}.*', replacement = '') ) \n",
    "    related_taxa <- related_taxa[tn] \n",
    "    \n",
    "    te <- lapply(simu$true_edges, str_replace, pattern = '\\\\_{2}.*', replacement = '') \n",
    "    te <- unique(lapply(te, sort))\n",
    "    expanded_edges <- list()\n",
    "    for (i in 1:length(te)){\n",
    "        tmp <- related_taxa[ te[[i]] ]\n",
    "        tmp <- expand.grid(tmp[[1]], tmp[[2]])  \n",
    "        tmp <- asplit(tmp, MARGIN=1)\n",
    "        expanded_edges[[i]] <- sapply(lapply(tmp, sort), paste, collapse = ' - ')\n",
    "        names(expanded_edges)[i] <- paste(sort(te[[i]]), collapse = ' - ')\n",
    "    }\n",
    "    res$tp_nodes <- length(tn)\n",
    "    res$tp_edges <- length(te)\n",
    "    res$n_nodes <- ncol(simu$data)\n",
    "    res$n_edges <- (ncol(simu$data)^2 -ncol(simu$data))/2\n",
    "\n",
    "    # random\n",
    "    res$rdm_nodes <- getRandom(K = length(tn), N = ncol(data_ori), B = B, lim = lim)\n",
    "    res$rdm_edges <- getRandom(K = length(te), N = ncol(data_ori), B = B, lim = lim, edges = TRUE)\n",
    "    \n",
    "    # wilcox\n",
    "    res$wil <- getWilcox(X = data_ori, target = simu$target, group = simu$group, related_taxa=related_taxa)\n",
    "    \n",
    "    # spiec-easi: too long, too bad.\n",
    "    \n",
    "    # gini\n",
    "    res$gini <- getGini(rf = simu$rf, related_taxa=related_taxa)    \n",
    "    \n",
    "    # endoR\n",
    "    res$endoR <- getEndoRrf(resampled = simu$resampled, related_taxa = related_taxa, expanded_edges=expanded_edges )\n",
    "    \n",
    "    # shap: too long?\n",
    "    #res$SHARrf <- getSHAPrf(model = simu$rf, data = simu$data, target = simu$target\n",
    "    #                        , classPos = '1', n_jobs = n_jobs)\n",
    "    \n",
    "    \n",
    "    # xgboost\n",
    "    y <- ifelse(simu$target == '1', 1, 0)\n",
    "    set.seed(seedOri)\n",
    "    res$xgb_model <- xgboost::xgboost(data = as.matrix(simu$data), label = y\n",
    "                                      , objective = 'binary:logistic', nrounds = 10)\n",
    "\n",
    "    # shap\n",
    "    res$SHAPxgboost <- getSHAPxgboost(xgb_model = res$xgb_model, X_train = as.matrix(simu$data)\n",
    "                                     , related_taxa = related_taxa, expanded_edges=expanded_edges)\n",
    "    \n",
    "    # endoR\n",
    "    res$endoRxgboost <- getEndoRxgboost(xgb_model = res$xgb_model, X = simu$data, target = simu$target\n",
    "                                        , times = times\n",
    "                                        , n_cores = n_cores, n_proc = n_proc\n",
    "                                        , related_taxa = related_taxa, expanded_edges=expanded_edges)\n",
    "    \n",
    "    # gini\n",
    "    res$gini_xgboost <- getGiniXgboost(xgb_model = res$xgb_model, related_taxa)\n",
    "    \n",
    "    return(res)\n",
    "    \n",
    "}"
   ]
  },
  {
   "cell_type": "markdown",
   "metadata": {
    "heading_collapsed": true
   },
   "source": [
    "# go"
   ]
  },
  {
   "cell_type": "code",
   "execution_count": 24,
   "metadata": {
    "ExecuteTime": {
     "end_time": "2021-03-18T11:51:39.543774Z",
     "start_time": "2021-03-18T11:12:04.349Z"
    },
    "collapsed": true,
    "hidden": true
   },
   "outputs": [
    {
     "name": "stdout",
     "output_type": "stream",
     "text": [
      "57.27827  rules per sub-sample selected. 27 decisions in >= 7 subsets.\n",
      "[1]\ttrain-error:0.049371 \n",
      "[2]\ttrain-error:0.021891 \n",
      "[3]\ttrain-error:0.021425 \n",
      "[4]\ttrain-error:0.015836 \n",
      "[5]\ttrain-error:0.013973 \n",
      "[6]\ttrain-error:0.013973 \n",
      "[7]\ttrain-error:0.013973 \n",
      "[8]\ttrain-error:0.013507 \n",
      "[9]\ttrain-error:0.011644 \n",
      "[10]\ttrain-error:0.011644 \n"
     ]
    },
    {
     "name": "stderr",
     "output_type": "stream",
     "text": [
      "`summarise()` regrouping output by 'x' (override with `.groups` argument)\n",
      "\n",
      "Extract rules...\n",
      "\n",
      "Discretise data\n",
      "\n",
      "Discretise rules\n",
      "\n",
      "Starting 5 processes ...\n",
      "\n",
      "Running 10 calculations (10 objs/0.7 Mb common; 1 calls/chunk) ...\n",
      "\n",
      "\n",
      "[----------------------------------------------------]   0% (1/5 wrk) eta:  ?s\n",
      "\n",
      "[----------------------------------------------------]   0% (2/5 wrk) eta:  ?s\n",
      "\n",
      "[----------------------------------------------------]   0% (3/5 wrk) eta:  ?s\n",
      "\n",
      "[----------------------------------------------------]   0% (4/5 wrk) eta:  ?s\n",
      "\n",
      "[----------------------------------------------------]   0% (5/5 wrk) eta:  ?s\n",
      "\n",
      "[====>-----------------------------------------------]  10% (5/5 wrk) eta:  2m\n",
      "\n",
      "[=========>------------------------------------------]  20% (5/5 wrk) eta:  1m\n",
      "\n",
      "[===============>------------------------------------]  30% (5/5 wrk) eta: 31s\n",
      "\n",
      "[====================>-------------------------------]  40% (5/5 wrk) eta: 22s\n",
      "\n",
      "[=========================>--------------------------]  50% (5/5 wrk) eta: 15s\n",
      "\n",
      "[==============================>---------------------]  60% (5/5 wrk) eta: 16s\n",
      "\n",
      "[===================================>----------------]  70% (5/5 wrk) eta: 10s\n",
      "\n",
      "[=========================================>----------]  80% (5/5 wrk) eta:  6s\n",
      "\n",
      "[==============================================>-----]  90% (3/3 wrk) eta:  3s\n",
      "\n",
      "[====================================================] 100% (2/2 wrk) eta:  0s\n",
      "                                                                              \n",
      "\n",
      "Master: [25.5s 1.5% CPU]; Worker: [avg 20.0% CPU, max 517.1 Mb]\n",
      "\n"
     ]
    },
    {
     "name": "stdout",
     "output_type": "stream",
     "text": [
      "35.97221  rules per sub-sample selected. 25 decisions in >= 7 subsets.\n",
      "76.98571  rules per sub-sample selected. 38 decisions in >= 7 subsets.\n",
      "[1]\ttrain-error:0.034001 \n",
      "[2]\ttrain-error:0.026083 \n",
      "[3]\ttrain-error:0.020028 \n",
      "[4]\ttrain-error:0.019562 \n",
      "[5]\ttrain-error:0.013973 \n",
      "[6]\ttrain-error:0.012576 \n",
      "[7]\ttrain-error:0.012576 \n",
      "[8]\ttrain-error:0.011644 \n",
      "[9]\ttrain-error:0.012110 \n",
      "[10]\ttrain-error:0.011178 \n"
     ]
    },
    {
     "name": "stderr",
     "output_type": "stream",
     "text": [
      "`summarise()` regrouping output by 'x' (override with `.groups` argument)\n",
      "\n",
      "Extract rules...\n",
      "\n",
      "Discretise data\n",
      "\n",
      "Discretise rules\n",
      "\n",
      "Starting 5 processes ...\n",
      "\n",
      "Running 10 calculations (10 objs/0.7 Mb common; 1 calls/chunk) ...\n",
      "\n",
      "\n",
      "[----------------------------------------------------]   0% (1/5 wrk) eta:  ?s\n",
      "\n",
      "[----------------------------------------------------]   0% (2/5 wrk) eta:  ?s\n",
      "\n",
      "[----------------------------------------------------]   0% (3/5 wrk) eta:  ?s\n",
      "\n",
      "[----------------------------------------------------]   0% (4/5 wrk) eta:  ?s\n",
      "\n",
      "[----------------------------------------------------]   0% (5/5 wrk) eta:  ?s\n",
      "\n",
      "[====>-----------------------------------------------]  10% (5/5 wrk) eta:  2m\n",
      "\n",
      "[=========>------------------------------------------]  20% (5/5 wrk) eta:  1m\n",
      "\n",
      "[===============>------------------------------------]  30% (5/5 wrk) eta: 40s\n",
      "\n",
      "[====================>-------------------------------]  40% (5/5 wrk) eta: 27s\n",
      "\n",
      "[=========================>--------------------------]  50% (5/5 wrk) eta: 19s\n",
      "\n",
      "[==============================>---------------------]  60% (5/5 wrk) eta: 21s\n",
      "\n",
      "[===================================>----------------]  70% (4/4 wrk) eta: 13s\n",
      "\n",
      "[=========================================>----------]  80% (4/4 wrk) eta:  8s\n",
      "\n",
      "[==============================================>-----]  90% (3/3 wrk) eta:  4s\n",
      "\n",
      "[====================================================] 100% (1/1 wrk) eta:  0s\n",
      "                                                                              \n",
      "\n",
      "Master: [33.6s 1.2% CPU]; Worker: [avg 16.0% CPU, max 517.2 Mb]\n",
      "\n"
     ]
    },
    {
     "name": "stdout",
     "output_type": "stream",
     "text": [
      "42.18531  rules per sub-sample selected. 27 decisions in >= 7 subsets.\n",
      "75.44004  rules per sub-sample selected. 23 decisions in >= 7 subsets.\n",
      "[1]\ttrain-error:0.020028 \n",
      "[2]\ttrain-error:0.019562 \n",
      "[3]\ttrain-error:0.019562 \n",
      "[4]\ttrain-error:0.019562 \n",
      "[5]\ttrain-error:0.020028 \n",
      "[6]\ttrain-error:0.019562 \n",
      "[7]\ttrain-error:0.019096 \n",
      "[8]\ttrain-error:0.017699 \n",
      "[9]\ttrain-error:0.017233 \n",
      "[10]\ttrain-error:0.016768 \n"
     ]
    },
    {
     "name": "stderr",
     "output_type": "stream",
     "text": [
      "`summarise()` regrouping output by 'x' (override with `.groups` argument)\n",
      "\n",
      "Extract rules...\n",
      "\n",
      "Discretise data\n",
      "\n",
      "Discretise rules\n",
      "\n",
      "Starting 5 processes ...\n",
      "\n",
      "Running 10 calculations (10 objs/0.7 Mb common; 1 calls/chunk) ...\n",
      "\n",
      "\n",
      "[----------------------------------------------------]   0% (2/5 wrk) eta:  ?s\n",
      "\n",
      "[----------------------------------------------------]   0% (3/5 wrk) eta:  ?s\n",
      "\n",
      "[----------------------------------------------------]   0% (4/5 wrk) eta:  ?s\n",
      "\n",
      "[----------------------------------------------------]   0% (5/5 wrk) eta:  ?s\n",
      "\n",
      "[====>-----------------------------------------------]  10% (5/5 wrk) eta:  2m\n",
      "\n",
      "[=========>------------------------------------------]  20% (5/5 wrk) eta: 46s\n",
      "\n",
      "[===============>------------------------------------]  30% (5/5 wrk) eta: 27s\n",
      "\n",
      "[====================>-------------------------------]  40% (5/5 wrk) eta: 18s\n",
      "\n",
      "[=========================>--------------------------]  50% (5/5 wrk) eta: 12s\n",
      "\n",
      "[==============================>---------------------]  60% (5/5 wrk) eta: 13s\n",
      "\n",
      "[===================================>----------------]  70% (4/4 wrk) eta:  9s\n",
      "\n",
      "[=========================================>----------]  80% (4/4 wrk) eta:  5s\n",
      "\n",
      "[==============================================>-----]  90% (4/4 wrk) eta:  2s\n",
      "\n",
      "[====================================================] 100% (3/3 wrk) eta:  0s\n",
      "                                                                              \n",
      "\n",
      "Master: [21.3s 1.9% CPU]; Worker: [avg 23.9% CPU, max 517.1 Mb]\n",
      "\n"
     ]
    },
    {
     "name": "stdout",
     "output_type": "stream",
     "text": [
      "23.57965  rules per sub-sample selected. 9 decisions in >= 7 subsets.\n",
      "91.16578  rules per sub-sample selected. 29 decisions in >= 7 subsets.\n",
      "[1]\ttrain-error:0.018631 \n",
      "[2]\ttrain-error:0.018631 \n",
      "[3]\ttrain-error:0.018631 \n",
      "[4]\ttrain-error:0.017699 \n",
      "[5]\ttrain-error:0.017699 \n",
      "[6]\ttrain-error:0.016768 \n",
      "[7]\ttrain-error:0.016768 \n",
      "[8]\ttrain-error:0.016768 \n",
      "[9]\ttrain-error:0.016302 \n",
      "[10]\ttrain-error:0.014905 \n"
     ]
    },
    {
     "name": "stderr",
     "output_type": "stream",
     "text": [
      "`summarise()` regrouping output by 'x' (override with `.groups` argument)\n",
      "\n",
      "Extract rules...\n",
      "\n",
      "Discretise data\n",
      "\n",
      "Discretise rules\n",
      "\n",
      "Starting 5 processes ...\n",
      "\n",
      "Running 10 calculations (10 objs/0.7 Mb common; 1 calls/chunk) ...\n",
      "\n",
      "\n",
      "[----------------------------------------------------]   0% (1/5 wrk) eta:  ?s\n",
      "\n",
      "[----------------------------------------------------]   0% (2/5 wrk) eta:  ?s\n",
      "\n",
      "[----------------------------------------------------]   0% (3/5 wrk) eta:  ?s\n",
      "\n",
      "[----------------------------------------------------]   0% (4/5 wrk) eta:  ?s\n",
      "\n",
      "[----------------------------------------------------]   0% (5/5 wrk) eta:  ?s\n",
      "\n",
      "[====>-----------------------------------------------]  10% (5/5 wrk) eta:  2m\n",
      "\n",
      "[=========>------------------------------------------]  20% (5/5 wrk) eta:  1m\n",
      "\n",
      "[===============>------------------------------------]  30% (5/5 wrk) eta: 30s\n",
      "\n",
      "[====================>-------------------------------]  40% (5/5 wrk) eta: 20s\n",
      "\n",
      "[=========================>--------------------------]  50% (5/5 wrk) eta: 14s\n",
      "\n",
      "[==============================>---------------------]  60% (5/5 wrk) eta: 15s\n",
      "\n",
      "[===================================>----------------]  70% (5/5 wrk) eta:  9s\n",
      "\n",
      "[=========================================>----------]  80% (3/3 wrk) eta:  6s\n",
      "\n",
      "[==============================================>-----]  90% (2/2 wrk) eta:  3s\n",
      "\n",
      "[====================================================] 100% (2/2 wrk) eta:  0s\n",
      "                                                                              \n",
      "\n",
      "Master: [24.2s 1.7% CPU]; Worker: [avg 20.7% CPU, max 517.1 Mb]\n",
      "\n"
     ]
    },
    {
     "name": "stdout",
     "output_type": "stream",
     "text": [
      "34.08812  rules per sub-sample selected. 22 decisions in >= 7 subsets.\n",
      "76.22598  rules per sub-sample selected. 26 decisions in >= 7 subsets.\n",
      "[1]\ttrain-error:0.061481 \n",
      "[2]\ttrain-error:0.013973 \n",
      "[3]\ttrain-error:0.018165 \n",
      "[4]\ttrain-error:0.013507 \n",
      "[5]\ttrain-error:0.012576 \n",
      "[6]\ttrain-error:0.011644 \n",
      "[7]\ttrain-error:0.012110 \n",
      "[8]\ttrain-error:0.010247 \n",
      "[9]\ttrain-error:0.009781 \n",
      "[10]\ttrain-error:0.009315 \n"
     ]
    },
    {
     "name": "stderr",
     "output_type": "stream",
     "text": [
      "`summarise()` regrouping output by 'x' (override with `.groups` argument)\n",
      "\n",
      "Extract rules...\n",
      "\n",
      "Discretise data\n",
      "\n",
      "Discretise rules\n",
      "\n",
      "Starting 5 processes ...\n",
      "\n",
      "Running 10 calculations (10 objs/0.7 Mb common; 1 calls/chunk) ...\n",
      "\n",
      "\n",
      "[----------------------------------------------------]   0% (1/5 wrk) eta:  ?s\n",
      "\n",
      "[----------------------------------------------------]   0% (2/5 wrk) eta:  ?s\n",
      "\n",
      "[----------------------------------------------------]   0% (3/5 wrk) eta:  ?s\n",
      "\n",
      "[----------------------------------------------------]   0% (4/5 wrk) eta:  ?s\n",
      "\n",
      "[----------------------------------------------------]   0% (5/5 wrk) eta:  ?s\n",
      "\n",
      "[====>-----------------------------------------------]  10% (5/5 wrk) eta:  2m\n",
      "\n",
      "[=========>------------------------------------------]  20% (5/5 wrk) eta: 49s\n",
      "\n",
      "[===============>------------------------------------]  30% (5/5 wrk) eta: 29s\n",
      "\n",
      "[====================>-------------------------------]  40% (5/5 wrk) eta: 19s\n",
      "\n",
      "[=========================>--------------------------]  50% (5/5 wrk) eta: 14s\n",
      "\n",
      "[==============================>---------------------]  60% (5/5 wrk) eta: 14s\n",
      "\n",
      "[===================================>----------------]  70% (5/5 wrk) eta:  9s\n",
      "\n",
      "[=========================================>----------]  80% (5/5 wrk) eta:  5s\n",
      "\n",
      "[==============================================>-----]  90% (3/3 wrk) eta:  2s\n",
      "\n",
      "[====================================================] 100% (2/2 wrk) eta:  0s\n",
      "                                                                              \n",
      "\n",
      "Master: [22.1s 1.8% CPU]; Worker: [avg 23.2% CPU, max 517.1 Mb]\n",
      "\n"
     ]
    },
    {
     "name": "stdout",
     "output_type": "stream",
     "text": [
      "30.1264  rules per sub-sample selected. 20 decisions in >= 7 subsets.\n",
      "69.50396  rules per sub-sample selected. 25 decisions in >= 7 subsets.\n",
      "[1]\ttrain-error:0.040056 \n",
      "[2]\ttrain-error:0.028412 \n",
      "[3]\ttrain-error:0.026549 \n",
      "[4]\ttrain-error:0.018631 \n",
      "[5]\ttrain-error:0.018165 \n",
      "[6]\ttrain-error:0.017699 \n",
      "[7]\ttrain-error:0.017699 \n",
      "[8]\ttrain-error:0.017699 \n",
      "[9]\ttrain-error:0.017699 \n",
      "[10]\ttrain-error:0.017233 \n"
     ]
    },
    {
     "name": "stderr",
     "output_type": "stream",
     "text": [
      "`summarise()` regrouping output by 'x' (override with `.groups` argument)\n",
      "\n",
      "Extract rules...\n",
      "\n",
      "Discretise data\n",
      "\n",
      "Discretise rules\n",
      "\n",
      "Starting 5 processes ...\n",
      "\n",
      "Running 10 calculations (10 objs/0.6 Mb common; 1 calls/chunk) ...\n",
      "\n",
      "\n",
      "[----------------------------------------------------]   0% (1/5 wrk) eta:  ?s\n",
      "\n",
      "[----------------------------------------------------]   0% (2/5 wrk) eta:  ?s\n",
      "\n",
      "[----------------------------------------------------]   0% (3/5 wrk) eta:  ?s\n",
      "\n",
      "[----------------------------------------------------]   0% (4/5 wrk) eta:  ?s\n",
      "\n",
      "[----------------------------------------------------]   0% (5/5 wrk) eta:  ?s\n",
      "\n",
      "[====>-----------------------------------------------]  10% (5/5 wrk) eta:  2m\n",
      "\n",
      "[=========>------------------------------------------]  20% (5/5 wrk) eta:  1m\n",
      "\n",
      "[===============>------------------------------------]  30% (5/5 wrk) eta: 30s\n",
      "\n",
      "[====================>-------------------------------]  40% (5/5 wrk) eta: 19s\n",
      "\n",
      "[=========================>--------------------------]  50% (5/5 wrk) eta: 14s\n",
      "\n",
      "[==============================>---------------------]  60% (5/5 wrk) eta: 14s\n",
      "\n",
      "[===================================>----------------]  70% (4/4 wrk) eta: 10s\n",
      "\n",
      "[=========================================>----------]  80% (4/4 wrk) eta:  6s\n",
      "\n",
      "[==============================================>-----]  90% (3/3 wrk) eta:  3s\n",
      "\n",
      "[====================================================] 100% (3/3 wrk) eta:  0s\n",
      "                                                                              \n",
      "\n",
      "Master: [23.9s 1.6% CPU]; Worker: [avg 21.3% CPU, max 517.2 Mb]\n",
      "\n"
     ]
    },
    {
     "name": "stdout",
     "output_type": "stream",
     "text": [
      "35.41186  rules per sub-sample selected. 26 decisions in >= 7 subsets.\n",
      "56.4234  rules per sub-sample selected. 20 decisions in >= 7 subsets.\n",
      "[1]\ttrain-error:0.053563 \n",
      "[2]\ttrain-error:0.025617 \n",
      "[3]\ttrain-error:0.024686 \n",
      "[4]\ttrain-error:0.020494 \n",
      "[5]\ttrain-error:0.012576 \n",
      "[6]\ttrain-error:0.012110 \n",
      "[7]\ttrain-error:0.012576 \n",
      "[8]\ttrain-error:0.012110 \n",
      "[9]\ttrain-error:0.012576 \n",
      "[10]\ttrain-error:0.011644 \n"
     ]
    },
    {
     "name": "stderr",
     "output_type": "stream",
     "text": [
      "`summarise()` regrouping output by 'x' (override with `.groups` argument)\n",
      "\n",
      "Extract rules...\n",
      "\n",
      "Discretise data\n",
      "\n",
      "Discretise rules\n",
      "\n",
      "Starting 5 processes ...\n",
      "\n",
      "Running 10 calculations (10 objs/0.6 Mb common; 1 calls/chunk) ...\n",
      "\n",
      "\n",
      "[----------------------------------------------------]   0% (1/5 wrk) eta:  ?s\n",
      "\n",
      "[----------------------------------------------------]   0% (2/5 wrk) eta:  ?s\n",
      "\n",
      "[----------------------------------------------------]   0% (3/5 wrk) eta:  ?s\n",
      "\n",
      "[----------------------------------------------------]   0% (4/5 wrk) eta:  ?s\n",
      "\n",
      "[----------------------------------------------------]   0% (5/5 wrk) eta:  ?s\n",
      "\n",
      "[====>-----------------------------------------------]  10% (5/5 wrk) eta:  2m\n",
      "\n",
      "[=========>------------------------------------------]  20% (5/5 wrk) eta:  1m\n",
      "\n",
      "[===============>------------------------------------]  30% (5/5 wrk) eta: 35s\n",
      "\n",
      "[====================>-------------------------------]  40% (5/5 wrk) eta: 24s\n",
      "\n",
      "[=========================>--------------------------]  50% (5/5 wrk) eta: 16s\n",
      "\n",
      "[==============================>---------------------]  60% (5/5 wrk) eta: 17s\n",
      "\n",
      "[===================================>----------------]  70% (4/4 wrk) eta: 11s\n",
      "\n",
      "[=========================================>----------]  80% (4/4 wrk) eta:  6s\n",
      "\n",
      "[==============================================>-----]  90% (4/4 wrk) eta:  3s\n",
      "\n",
      "[====================================================] 100% (1/1 wrk) eta:  0s\n",
      "                                                                              \n",
      "\n",
      "Master: [27.2s 1.5% CPU]; Worker: [avg 18.8% CPU, max 517.1 Mb]\n",
      "\n"
     ]
    },
    {
     "name": "stdout",
     "output_type": "stream",
     "text": [
      "36.72057  rules per sub-sample selected. 27 decisions in >= 7 subsets.\n",
      "40.30881  rules per sub-sample selected. 18 decisions in >= 7 subsets.\n",
      "[1]\ttrain-error:0.055892 \n",
      "[2]\ttrain-error:0.028878 \n",
      "[3]\ttrain-error:0.021891 \n",
      "[4]\ttrain-error:0.018165 \n",
      "[5]\ttrain-error:0.018165 \n",
      "[6]\ttrain-error:0.018165 \n",
      "[7]\ttrain-error:0.016768 \n",
      "[8]\ttrain-error:0.016302 \n",
      "[9]\ttrain-error:0.015836 \n",
      "[10]\ttrain-error:0.015836 \n"
     ]
    },
    {
     "name": "stderr",
     "output_type": "stream",
     "text": [
      "`summarise()` regrouping output by 'x' (override with `.groups` argument)\n",
      "\n",
      "Extract rules...\n",
      "\n",
      "Discretise data\n",
      "\n",
      "Discretise rules\n",
      "\n",
      "Starting 5 processes ...\n",
      "\n",
      "Running 10 calculations (10 objs/0.5 Mb common; 1 calls/chunk) ...\n",
      "\n",
      "\n",
      "[----------------------------------------------------]   0% (1/5 wrk) eta:  ?s\n",
      "\n",
      "[----------------------------------------------------]   0% (2/5 wrk) eta:  ?s\n",
      "\n",
      "[----------------------------------------------------]   0% (3/5 wrk) eta:  ?s\n",
      "\n",
      "[----------------------------------------------------]   0% (4/5 wrk) eta:  ?s\n",
      "\n",
      "[----------------------------------------------------]   0% (5/5 wrk) eta:  ?s\n",
      "\n",
      "[====>-----------------------------------------------]  10% (5/5 wrk) eta:  2m\n",
      "\n",
      "[=========>------------------------------------------]  20% (5/5 wrk) eta:  1m\n",
      "\n",
      "[===============>------------------------------------]  30% (5/5 wrk) eta: 32s\n",
      "\n",
      "[====================>-------------------------------]  40% (5/5 wrk) eta: 21s\n",
      "\n",
      "[=========================>--------------------------]  50% (5/5 wrk) eta: 15s\n",
      "\n",
      "[==============================>---------------------]  60% (5/5 wrk) eta: 15s\n",
      "\n",
      "[===================================>----------------]  70% (4/4 wrk) eta: 10s\n",
      "\n",
      "[=========================================>----------]  80% (4/4 wrk) eta:  6s\n",
      "\n",
      "[==============================================>-----]  90% (3/3 wrk) eta:  3s\n",
      "\n",
      "[====================================================] 100% (1/1 wrk) eta:  0s\n",
      "                                                                              \n",
      "\n",
      "Master: [26.0s 1.5% CPU]; Worker: [avg 20.1% CPU, max 517.1 Mb]\n",
      "\n"
     ]
    },
    {
     "name": "stdout",
     "output_type": "stream",
     "text": [
      "34.47318  rules per sub-sample selected. 15 decisions in >= 7 subsets.\n",
      "59.68584  rules per sub-sample selected. 26 decisions in >= 7 subsets.\n",
      "[1]\ttrain-error:0.062413 \n",
      "[2]\ttrain-error:0.023288 \n",
      "[3]\ttrain-error:0.016302 \n",
      "[4]\ttrain-error:0.015370 \n",
      "[5]\ttrain-error:0.016302 \n",
      "[6]\ttrain-error:0.015370 \n",
      "[7]\ttrain-error:0.014905 \n",
      "[8]\ttrain-error:0.014439 \n",
      "[9]\ttrain-error:0.013973 \n",
      "[10]\ttrain-error:0.013507 \n"
     ]
    },
    {
     "name": "stderr",
     "output_type": "stream",
     "text": [
      "`summarise()` regrouping output by 'x' (override with `.groups` argument)\n",
      "\n",
      "Extract rules...\n",
      "\n",
      "Discretise data\n",
      "\n",
      "Discretise rules\n",
      "\n",
      "Starting 5 processes ...\n",
      "\n",
      "Running 10 calculations (10 objs/0.7 Mb common; 1 calls/chunk) ...\n",
      "\n",
      "\n",
      "[----------------------------------------------------]   0% (1/5 wrk) eta:  ?s\n",
      "\n",
      "[----------------------------------------------------]   0% (2/5 wrk) eta:  ?s\n",
      "\n",
      "[----------------------------------------------------]   0% (3/5 wrk) eta:  ?s\n",
      "\n",
      "[----------------------------------------------------]   0% (4/5 wrk) eta:  ?s\n",
      "\n",
      "[----------------------------------------------------]   0% (5/5 wrk) eta:  ?s\n",
      "\n",
      "[====>-----------------------------------------------]  10% (5/5 wrk) eta:  2m\n",
      "\n",
      "[=========>------------------------------------------]  20% (5/5 wrk) eta:  1m\n",
      "\n",
      "[===============>------------------------------------]  30% (5/5 wrk) eta: 37s\n",
      "\n",
      "[====================>-------------------------------]  40% (5/5 wrk) eta: 24s\n",
      "\n",
      "[=========================>--------------------------]  50% (5/5 wrk) eta: 16s\n",
      "\n",
      "[==============================>---------------------]  60% (5/5 wrk) eta: 18s\n",
      "\n",
      "[===================================>----------------]  70% (4/4 wrk) eta: 12s\n",
      "\n",
      "[=========================================>----------]  80% (4/4 wrk) eta:  7s\n",
      "\n",
      "[==============================================>-----]  90% (4/4 wrk) eta:  3s\n",
      "\n",
      "[====================================================] 100% (2/2 wrk) eta:  0s\n",
      "                                                                              \n",
      "\n",
      "Master: [28.9s 1.4% CPU]; Worker: [avg 17.8% CPU, max 517.2 Mb]\n",
      "\n"
     ]
    },
    {
     "name": "stdout",
     "output_type": "stream",
     "text": [
      "39.14077  rules per sub-sample selected. 25 decisions in >= 7 subsets.\n",
      "96.55672  rules per sub-sample selected. 33 decisions in >= 7 subsets.\n",
      "[1]\ttrain-error:0.054495 \n",
      "[2]\ttrain-error:0.039590 \n",
      "[3]\ttrain-error:0.026083 \n",
      "[4]\ttrain-error:0.020959 \n",
      "[5]\ttrain-error:0.019562 \n",
      "[6]\ttrain-error:0.019562 \n",
      "[7]\ttrain-error:0.018631 \n",
      "[8]\ttrain-error:0.018631 \n",
      "[9]\ttrain-error:0.018631 \n",
      "[10]\ttrain-error:0.017699 \n"
     ]
    },
    {
     "name": "stderr",
     "output_type": "stream",
     "text": [
      "`summarise()` regrouping output by 'x' (override with `.groups` argument)\n",
      "\n",
      "Extract rules...\n",
      "\n",
      "Discretise data\n",
      "\n",
      "Discretise rules\n",
      "\n",
      "Starting 5 processes ...\n",
      "\n",
      "Running 10 calculations (10 objs/0.8 Mb common; 1 calls/chunk) ...\n",
      "\n",
      "\n",
      "[----------------------------------------------------]   0% (1/5 wrk) eta:  ?s\n",
      "\n",
      "[----------------------------------------------------]   0% (2/5 wrk) eta:  ?s\n",
      "\n",
      "[----------------------------------------------------]   0% (3/5 wrk) eta:  ?s\n",
      "\n",
      "[----------------------------------------------------]   0% (4/5 wrk) eta:  ?s\n",
      "\n",
      "[----------------------------------------------------]   0% (5/5 wrk) eta:  ?s\n",
      "\n",
      "[====>-----------------------------------------------]  10% (5/5 wrk) eta:  3m\n",
      "\n",
      "[=========>------------------------------------------]  20% (5/5 wrk) eta:  1m\n",
      "\n",
      "[===============>------------------------------------]  30% (5/5 wrk) eta: 44s\n",
      "\n",
      "[====================>-------------------------------]  40% (5/5 wrk) eta: 30s\n",
      "\n",
      "[=========================>--------------------------]  50% (5/5 wrk) eta: 21s\n",
      "\n",
      "[==============================>---------------------]  60% (5/5 wrk) eta: 22s\n",
      "\n",
      "[===================================>----------------]  70% (4/4 wrk) eta: 14s\n",
      "\n",
      "[=========================================>----------]  80% (3/3 wrk) eta:  9s\n",
      "\n",
      "[==============================================>-----]  90% (2/2 wrk) eta:  4s\n",
      "\n",
      "[====================================================] 100% (1/1 wrk) eta:  0s\n",
      "                                                                              \n",
      "\n",
      "Master: [37.3s 1.1% CPU]; Worker: [avg 14.5% CPU, max 517.2 Mb]\n",
      "\n"
     ]
    },
    {
     "name": "stdout",
     "output_type": "stream",
     "text": [
      "46.82734  rules per sub-sample selected. 23 decisions in >= 7 subsets.\n",
      "67.8852  rules per sub-sample selected. 33 decisions in >= 7 subsets.\n",
      "[1]\ttrain-error:0.057755 \n",
      "[2]\ttrain-error:0.027014 \n",
      "[3]\ttrain-error:0.037261 \n",
      "[4]\ttrain-error:0.024686 \n",
      "[5]\ttrain-error:0.022357 \n",
      "[6]\ttrain-error:0.021891 \n",
      "[7]\ttrain-error:0.020959 \n",
      "[8]\ttrain-error:0.020494 \n",
      "[9]\ttrain-error:0.020028 \n",
      "[10]\ttrain-error:0.020494 \n"
     ]
    },
    {
     "name": "stderr",
     "output_type": "stream",
     "text": [
      "`summarise()` regrouping output by 'x' (override with `.groups` argument)\n",
      "\n",
      "Extract rules...\n",
      "\n",
      "Discretise data\n",
      "\n",
      "Discretise rules\n",
      "\n",
      "Starting 5 processes ...\n",
      "\n",
      "Running 10 calculations (10 objs/0.6 Mb common; 1 calls/chunk) ...\n",
      "\n",
      "\n",
      "[----------------------------------------------------]   0% (1/5 wrk) eta:  ?s\n",
      "\n",
      "[----------------------------------------------------]   0% (2/5 wrk) eta:  ?s\n",
      "\n",
      "[----------------------------------------------------]   0% (3/5 wrk) eta:  ?s\n",
      "\n",
      "[----------------------------------------------------]   0% (4/5 wrk) eta:  ?s\n",
      "\n",
      "[----------------------------------------------------]   0% (5/5 wrk) eta:  ?s\n",
      "\n",
      "[====>-----------------------------------------------]  10% (5/5 wrk) eta:  2m\n",
      "\n",
      "[=========>------------------------------------------]  20% (5/5 wrk) eta:  1m\n",
      "\n",
      "[===============>------------------------------------]  30% (5/5 wrk) eta: 32s\n",
      "\n",
      "[====================>-------------------------------]  40% (5/5 wrk) eta: 21s\n",
      "\n",
      "[=========================>--------------------------]  50% (5/5 wrk) eta: 15s\n",
      "\n",
      "[==============================>---------------------]  60% (5/5 wrk) eta: 16s\n",
      "\n",
      "[===================================>----------------]  70% (5/5 wrk) eta: 10s\n",
      "\n",
      "[=========================================>----------]  80% (5/5 wrk) eta:  6s\n",
      "\n",
      "[==============================================>-----]  90% (4/4 wrk) eta:  3s\n",
      "\n",
      "[====================================================] 100% (3/3 wrk) eta:  0s\n",
      "                                                                              \n",
      "\n",
      "Master: [25.6s 1.6% CPU]; Worker: [avg 20.0% CPU, max 517.1 Mb]\n",
      "\n"
     ]
    },
    {
     "name": "stdout",
     "output_type": "stream",
     "text": [
      "38.04208  rules per sub-sample selected. 20 decisions in >= 7 subsets.\n",
      "77.85628  rules per sub-sample selected. 31 decisions in >= 7 subsets.\n",
      "[1]\ttrain-error:0.041919 \n",
      "[2]\ttrain-error:0.024686 \n",
      "[3]\ttrain-error:0.021891 \n",
      "[4]\ttrain-error:0.017233 \n",
      "[5]\ttrain-error:0.016302 \n",
      "[6]\ttrain-error:0.016768 \n",
      "[7]\ttrain-error:0.015836 \n",
      "[8]\ttrain-error:0.015836 \n",
      "[9]\ttrain-error:0.015370 \n",
      "[10]\ttrain-error:0.014905 \n"
     ]
    },
    {
     "name": "stderr",
     "output_type": "stream",
     "text": [
      "`summarise()` regrouping output by 'x' (override with `.groups` argument)\n",
      "\n",
      "Extract rules...\n",
      "\n",
      "Discretise data\n",
      "\n",
      "Discretise rules\n",
      "\n",
      "Starting 5 processes ...\n",
      "\n",
      "Running 10 calculations (10 objs/0.7 Mb common; 1 calls/chunk) ...\n",
      "\n",
      "\n",
      "[----------------------------------------------------]   0% (1/5 wrk) eta:  ?s\n",
      "\n",
      "[----------------------------------------------------]   0% (2/5 wrk) eta:  ?s\n",
      "\n",
      "[----------------------------------------------------]   0% (3/5 wrk) eta:  ?s\n",
      "\n",
      "[----------------------------------------------------]   0% (4/5 wrk) eta:  ?s\n",
      "\n",
      "[----------------------------------------------------]   0% (5/5 wrk) eta:  ?s\n",
      "\n",
      "[====>-----------------------------------------------]  10% (5/5 wrk) eta:  2m\n",
      "\n",
      "[=========>------------------------------------------]  20% (5/5 wrk) eta:  1m\n",
      "\n",
      "[===============>------------------------------------]  30% (5/5 wrk) eta: 37s\n",
      "\n",
      "[====================>-------------------------------]  40% (5/5 wrk) eta: 25s\n",
      "\n",
      "[=========================>--------------------------]  50% (5/5 wrk) eta: 17s\n",
      "\n",
      "[==============================>---------------------]  60% (5/5 wrk) eta: 18s\n",
      "\n",
      "[===================================>----------------]  70% (5/5 wrk) eta: 12s\n",
      "\n",
      "[=========================================>----------]  80% (3/3 wrk) eta:  7s\n",
      "\n",
      "[==============================================>-----]  90% (3/3 wrk) eta:  3s\n",
      "\n",
      "[====================================================] 100% (1/1 wrk) eta:  0s\n",
      "                                                                              \n",
      "\n",
      "Master: [30.1s 1.4% CPU]; Worker: [avg 17.4% CPU, max 517.2 Mb]\n",
      "\n"
     ]
    },
    {
     "name": "stdout",
     "output_type": "stream",
     "text": [
      "39.30903  rules per sub-sample selected. 22 decisions in >= 7 subsets.\n",
      "89.02359  rules per sub-sample selected. 32 decisions in >= 7 subsets.\n",
      "[1]\ttrain-error:0.068002 \n",
      "[2]\ttrain-error:0.047042 \n",
      "[3]\ttrain-error:0.022357 \n",
      "[4]\ttrain-error:0.012110 \n",
      "[5]\ttrain-error:0.012110 \n",
      "[6]\ttrain-error:0.011644 \n",
      "[7]\ttrain-error:0.012110 \n",
      "[8]\ttrain-error:0.012110 \n",
      "[9]\ttrain-error:0.011644 \n",
      "[10]\ttrain-error:0.011644 \n"
     ]
    },
    {
     "name": "stderr",
     "output_type": "stream",
     "text": [
      "`summarise()` regrouping output by 'x' (override with `.groups` argument)\n",
      "\n",
      "Extract rules...\n",
      "\n",
      "Discretise data\n",
      "\n",
      "Discretise rules\n",
      "\n",
      "Starting 5 processes ...\n",
      "\n",
      "Running 10 calculations (10 objs/0.7 Mb common; 1 calls/chunk) ...\n",
      "\n",
      "\n",
      "[----------------------------------------------------]   0% (1/5 wrk) eta:  ?s\n",
      "\n",
      "[----------------------------------------------------]   0% (2/5 wrk) eta:  ?s\n",
      "\n",
      "[----------------------------------------------------]   0% (3/5 wrk) eta:  ?s\n",
      "\n",
      "[----------------------------------------------------]   0% (4/5 wrk) eta:  ?s\n",
      "\n",
      "[----------------------------------------------------]   0% (5/5 wrk) eta:  ?s\n",
      "\n",
      "[====>-----------------------------------------------]  10% (5/5 wrk) eta:  2m\n",
      "\n",
      "[=========>------------------------------------------]  20% (5/5 wrk) eta:  1m\n",
      "\n",
      "[===============>------------------------------------]  30% (5/5 wrk) eta: 36s\n",
      "\n",
      "[====================>-------------------------------]  40% (5/5 wrk) eta: 23s\n",
      "\n",
      "[=========================>--------------------------]  50% (5/5 wrk) eta: 16s\n",
      "\n",
      "[==============================>---------------------]  60% (5/5 wrk) eta: 17s\n",
      "\n",
      "[===================================>----------------]  70% (5/5 wrk) eta: 11s\n",
      "\n",
      "[=========================================>----------]  80% (5/5 wrk) eta:  7s\n",
      "\n",
      "[==============================================>-----]  90% (4/4 wrk) eta:  3s\n",
      "\n",
      "[====================================================] 100% (1/1 wrk) eta:  0s\n",
      "                                                                              \n",
      "\n",
      "Master: [28.2s 1.5% CPU]; Worker: [avg 18.2% CPU, max 517.1 Mb]\n",
      "\n"
     ]
    },
    {
     "name": "stdout",
     "output_type": "stream",
     "text": [
      "37.67227  rules per sub-sample selected. 20 decisions in >= 7 subsets.\n",
      "95.30373  rules per sub-sample selected. 34 decisions in >= 7 subsets.\n",
      "[1]\ttrain-error:0.066605 \n",
      "[2]\ttrain-error:0.025617 \n",
      "[3]\ttrain-error:0.024686 \n",
      "[4]\ttrain-error:0.021891 \n",
      "[5]\ttrain-error:0.019562 \n",
      "[6]\ttrain-error:0.020028 \n",
      "[7]\ttrain-error:0.018631 \n",
      "[8]\ttrain-error:0.017233 \n",
      "[9]\ttrain-error:0.018165 \n",
      "[10]\ttrain-error:0.017699 \n"
     ]
    },
    {
     "name": "stderr",
     "output_type": "stream",
     "text": [
      "`summarise()` regrouping output by 'x' (override with `.groups` argument)\n",
      "\n",
      "Extract rules...\n",
      "\n",
      "Discretise data\n",
      "\n",
      "Discretise rules\n",
      "\n",
      "Starting 5 processes ...\n",
      "\n",
      "Running 10 calculations (10 objs/0.8 Mb common; 1 calls/chunk) ...\n",
      "\n",
      "\n",
      "[----------------------------------------------------]   0% (1/5 wrk) eta:  ?s\n",
      "\n",
      "[----------------------------------------------------]   0% (2/5 wrk) eta:  ?s\n",
      "\n",
      "[----------------------------------------------------]   0% (3/5 wrk) eta:  ?s\n",
      "\n",
      "[----------------------------------------------------]   0% (4/5 wrk) eta:  ?s\n",
      "\n",
      "[----------------------------------------------------]   0% (5/5 wrk) eta:  ?s\n",
      "\n",
      "[====>-----------------------------------------------]  10% (5/5 wrk) eta:  2m\n",
      "\n",
      "[=========>------------------------------------------]  20% (5/5 wrk) eta:  1m\n",
      "\n",
      "[===============>------------------------------------]  30% (5/5 wrk) eta: 41s\n",
      "\n",
      "[====================>-------------------------------]  40% (5/5 wrk) eta: 27s\n",
      "\n",
      "[=========================>--------------------------]  50% (5/5 wrk) eta: 19s\n",
      "\n",
      "[==============================>---------------------]  60% (5/5 wrk) eta: 20s\n",
      "\n",
      "[===================================>----------------]  70% (4/4 wrk) eta: 13s\n",
      "\n",
      "[=========================================>----------]  80% (4/4 wrk) eta:  8s\n",
      "\n",
      "[==============================================>-----]  90% (2/2 wrk) eta:  4s\n",
      "\n",
      "[====================================================] 100% (1/1 wrk) eta:  0s\n",
      "                                                                              \n",
      "\n",
      "Master: [33.7s 1.2% CPU]; Worker: [avg 15.6% CPU, max 515.3 Mb]\n",
      "\n"
     ]
    },
    {
     "name": "stdout",
     "output_type": "stream",
     "text": [
      "46.00435  rules per sub-sample selected. 31 decisions in >= 7 subsets.\n",
      "63.1981  rules per sub-sample selected. 30 decisions in >= 7 subsets.\n",
      "[1]\ttrain-error:0.014905 \n",
      "[2]\ttrain-error:0.014905 \n",
      "[3]\ttrain-error:0.014905 \n",
      "[4]\ttrain-error:0.014905 \n",
      "[5]\ttrain-error:0.014905 \n",
      "[6]\ttrain-error:0.014905 \n",
      "[7]\ttrain-error:0.014439 \n",
      "[8]\ttrain-error:0.014905 \n",
      "[9]\ttrain-error:0.013507 \n",
      "[10]\ttrain-error:0.013041 \n"
     ]
    },
    {
     "name": "stderr",
     "output_type": "stream",
     "text": [
      "`summarise()` regrouping output by 'x' (override with `.groups` argument)\n",
      "\n",
      "Extract rules...\n",
      "\n",
      "Discretise data\n",
      "\n",
      "Discretise rules\n",
      "\n",
      "Starting 5 processes ...\n",
      "\n",
      "Running 10 calculations (10 objs/0.6 Mb common; 1 calls/chunk) ...\n",
      "\n",
      "\n",
      "[----------------------------------------------------]   0% (1/5 wrk) eta:  ?s\n",
      "\n",
      "[----------------------------------------------------]   0% (2/5 wrk) eta:  ?s\n",
      "\n",
      "[----------------------------------------------------]   0% (3/5 wrk) eta:  ?s\n",
      "\n",
      "[----------------------------------------------------]   0% (4/5 wrk) eta:  ?s\n",
      "\n",
      "[----------------------------------------------------]   0% (5/5 wrk) eta:  ?s\n",
      "\n",
      "[====>-----------------------------------------------]  10% (5/5 wrk) eta:  2m\n",
      "\n",
      "[=========>------------------------------------------]  20% (5/5 wrk) eta: 50s\n",
      "\n",
      "[===============>------------------------------------]  30% (5/5 wrk) eta: 29s\n",
      "\n",
      "[====================>-------------------------------]  40% (5/5 wrk) eta: 19s\n",
      "\n",
      "[=========================>--------------------------]  50% (5/5 wrk) eta: 14s\n",
      "\n",
      "[==============================>---------------------]  60% (5/5 wrk) eta: 14s\n",
      "\n",
      "[===================================>----------------]  70% (4/4 wrk) eta:  9s\n",
      "\n",
      "[=========================================>----------]  80% (4/4 wrk) eta:  5s\n",
      "\n",
      "[==============================================>-----]  90% (3/3 wrk) eta:  2s\n",
      "\n",
      "[====================================================] 100% (2/2 wrk) eta:  0s\n",
      "                                                                              \n",
      "\n",
      "Master: [23.2s 1.8% CPU]; Worker: [avg 21.4% CPU, max 517.1 Mb]\n",
      "\n"
     ]
    },
    {
     "name": "stdout",
     "output_type": "stream",
     "text": [
      "30.78311  rules per sub-sample selected. 16 decisions in >= 7 subsets.\n",
      "106.7015  rules per sub-sample selected. 25 decisions in >= 7 subsets.\n",
      "[1]\ttrain-error:0.057289 \n",
      "[2]\ttrain-error:0.035864 \n",
      "[3]\ttrain-error:0.024686 \n",
      "[4]\ttrain-error:0.029809 \n",
      "[5]\ttrain-error:0.022823 \n",
      "[6]\ttrain-error:0.021425 \n",
      "[7]\ttrain-error:0.020959 \n",
      "[8]\ttrain-error:0.020028 \n",
      "[9]\ttrain-error:0.019562 \n",
      "[10]\ttrain-error:0.019096 \n"
     ]
    },
    {
     "name": "stderr",
     "output_type": "stream",
     "text": [
      "`summarise()` regrouping output by 'x' (override with `.groups` argument)\n",
      "\n",
      "Extract rules...\n",
      "\n",
      "Discretise data\n",
      "\n",
      "Discretise rules\n",
      "\n",
      "Starting 5 processes ...\n",
      "\n",
      "Running 10 calculations (10 objs/0.8 Mb common; 1 calls/chunk) ...\n",
      "\n",
      "\n",
      "[----------------------------------------------------]   0% (1/5 wrk) eta:  ?s\n",
      "\n",
      "[----------------------------------------------------]   0% (2/5 wrk) eta:  ?s\n",
      "\n",
      "[----------------------------------------------------]   0% (3/5 wrk) eta:  ?s\n",
      "\n",
      "[----------------------------------------------------]   0% (4/5 wrk) eta:  ?s\n",
      "\n",
      "[----------------------------------------------------]   0% (5/5 wrk) eta:  ?s\n",
      "\n",
      "[====>-----------------------------------------------]  10% (5/5 wrk) eta:  2m\n",
      "\n",
      "[=========>------------------------------------------]  20% (5/5 wrk) eta:  1m\n",
      "\n",
      "[===============>------------------------------------]  30% (5/5 wrk) eta: 43s\n",
      "\n",
      "[====================>-------------------------------]  40% (5/5 wrk) eta: 28s\n",
      "\n",
      "[=========================>--------------------------]  50% (5/5 wrk) eta: 19s\n",
      "\n",
      "[==============================>---------------------]  60% (5/5 wrk) eta: 21s\n",
      "\n",
      "[===================================>----------------]  70% (5/5 wrk) eta: 14s\n",
      "\n",
      "[=========================================>----------]  80% (4/4 wrk) eta:  8s\n",
      "\n",
      "[==============================================>-----]  90% (2/2 wrk) eta:  4s\n",
      "\n",
      "[====================================================] 100% (2/2 wrk) eta:  0s\n",
      "                                                                              \n",
      "\n",
      "Master: [34.4s 1.2% CPU]; Worker: [avg 14.7% CPU, max 514.3 Mb]\n",
      "\n"
     ]
    },
    {
     "name": "stdout",
     "output_type": "stream",
     "text": [
      "47.4426  rules per sub-sample selected. 27 decisions in >= 7 subsets.\n",
      "76.92594  rules per sub-sample selected. 7 decisions in >= 7 subsets.\n",
      "[1]\ttrain-error:0.083838 \n",
      "[2]\ttrain-error:0.027480 \n",
      "[3]\ttrain-error:0.020959 \n",
      "[4]\ttrain-error:0.020959 \n",
      "[5]\ttrain-error:0.020028 \n",
      "[6]\ttrain-error:0.017699 \n",
      "[7]\ttrain-error:0.018165 \n",
      "[8]\ttrain-error:0.017233 \n",
      "[9]\ttrain-error:0.016768 \n",
      "[10]\ttrain-error:0.016768 \n"
     ]
    },
    {
     "name": "stderr",
     "output_type": "stream",
     "text": [
      "`summarise()` regrouping output by 'x' (override with `.groups` argument)\n",
      "\n",
      "Extract rules...\n",
      "\n",
      "Discretise data\n",
      "\n",
      "Discretise rules\n",
      "\n",
      "Starting 5 processes ...\n",
      "\n",
      "Running 10 calculations (10 objs/0.7 Mb common; 1 calls/chunk) ...\n",
      "\n",
      "\n",
      "[----------------------------------------------------]   0% (1/5 wrk) eta:  ?s\n",
      "\n",
      "[----------------------------------------------------]   0% (2/5 wrk) eta:  ?s\n",
      "\n",
      "[----------------------------------------------------]   0% (3/5 wrk) eta:  ?s\n",
      "\n",
      "[----------------------------------------------------]   0% (4/5 wrk) eta:  ?s\n",
      "\n",
      "[----------------------------------------------------]   0% (5/5 wrk) eta:  ?s\n",
      "\n",
      "[====>-----------------------------------------------]  10% (5/5 wrk) eta:  2m\n",
      "\n",
      "[=========>------------------------------------------]  20% (5/5 wrk) eta:  1m\n",
      "\n",
      "[===============>------------------------------------]  30% (5/5 wrk) eta: 33s\n",
      "\n",
      "[====================>-------------------------------]  40% (5/5 wrk) eta: 22s\n",
      "\n",
      "[=========================>--------------------------]  50% (5/5 wrk) eta: 15s\n",
      "\n",
      "[==============================>---------------------]  60% (5/5 wrk) eta: 16s\n",
      "\n",
      "[===================================>----------------]  70% (5/5 wrk) eta: 10s\n",
      "\n",
      "[=========================================>----------]  80% (3/3 wrk) eta:  6s\n",
      "\n",
      "[==============================================>-----]  90% (3/3 wrk) eta:  3s\n",
      "\n",
      "[====================================================] 100% (1/1 wrk) eta:  0s\n",
      "                                                                              \n",
      "\n",
      "Master: [26.6s 1.6% CPU]; Worker: [avg 19.3% CPU, max 517.1 Mb]\n",
      "\n"
     ]
    },
    {
     "name": "stdout",
     "output_type": "stream",
     "text": [
      "33.03332  rules per sub-sample selected. 23 decisions in >= 7 subsets.\n",
      "35.54153  rules per sub-sample selected. 12 decisions in >= 7 subsets.\n",
      "[1]\ttrain-error:0.043782 \n",
      "[2]\ttrain-error:0.027480 \n",
      "[3]\ttrain-error:0.025617 \n",
      "[4]\ttrain-error:0.012110 \n",
      "[5]\ttrain-error:0.012576 \n",
      "[6]\ttrain-error:0.013041 \n",
      "[7]\ttrain-error:0.012110 \n",
      "[8]\ttrain-error:0.012110 \n",
      "[9]\ttrain-error:0.012110 \n",
      "[10]\ttrain-error:0.012110 \n"
     ]
    },
    {
     "name": "stderr",
     "output_type": "stream",
     "text": [
      "`summarise()` regrouping output by 'x' (override with `.groups` argument)\n",
      "\n",
      "Extract rules...\n",
      "\n",
      "Discretise data\n",
      "\n",
      "Discretise rules\n",
      "\n",
      "Starting 5 processes ...\n",
      "\n",
      "Running 10 calculations (10 objs/0.5 Mb common; 1 calls/chunk) ...\n",
      "\n",
      "\n",
      "[----------------------------------------------------]   0% (1/5 wrk) eta:  ?s\n",
      "\n",
      "[----------------------------------------------------]   0% (2/5 wrk) eta:  ?s\n",
      "\n",
      "[----------------------------------------------------]   0% (3/5 wrk) eta:  ?s\n",
      "\n",
      "[----------------------------------------------------]   0% (4/5 wrk) eta:  ?s\n",
      "\n",
      "[----------------------------------------------------]   0% (5/5 wrk) eta:  ?s\n",
      "\n",
      "[====>-----------------------------------------------]  10% (5/5 wrk) eta:  2m\n",
      "\n",
      "[=========>------------------------------------------]  20% (5/5 wrk) eta:  1m\n",
      "\n",
      "[===============>------------------------------------]  30% (5/5 wrk) eta: 32s\n",
      "\n",
      "[====================>-------------------------------]  40% (5/5 wrk) eta: 21s\n",
      "\n",
      "[=========================>--------------------------]  50% (5/5 wrk) eta: 14s\n",
      "\n",
      "[==============================>---------------------]  60% (5/5 wrk) eta: 15s\n",
      "\n",
      "[===================================>----------------]  70% (4/4 wrk) eta: 10s\n",
      "\n",
      "[=========================================>----------]  80% (4/4 wrk) eta:  6s\n",
      "\n",
      "[==============================================>-----]  90% (4/4 wrk) eta:  3s\n",
      "\n",
      "[====================================================] 100% (3/3 wrk) eta:  0s\n",
      "                                                                              \n",
      "\n",
      "Master: [24.7s 1.7% CPU]; Worker: [avg 21.2% CPU, max 517.1 Mb]\n",
      "\n"
     ]
    },
    {
     "name": "stdout",
     "output_type": "stream",
     "text": [
      "34.2228  rules per sub-sample selected. 23 decisions in >= 7 subsets.\n",
      "47.34976  rules per sub-sample selected. 21 decisions in >= 7 subsets.\n",
      "[1]\ttrain-error:0.015836 \n",
      "[2]\ttrain-error:0.015836 \n",
      "[3]\ttrain-error:0.016302 \n",
      "[4]\ttrain-error:0.015370 \n",
      "[5]\ttrain-error:0.016302 \n",
      "[6]\ttrain-error:0.015370 \n",
      "[7]\ttrain-error:0.015370 \n",
      "[8]\ttrain-error:0.014905 \n",
      "[9]\ttrain-error:0.014905 \n",
      "[10]\ttrain-error:0.015370 \n"
     ]
    },
    {
     "name": "stderr",
     "output_type": "stream",
     "text": [
      "`summarise()` regrouping output by 'x' (override with `.groups` argument)\n",
      "\n",
      "Extract rules...\n",
      "\n",
      "Discretise data\n",
      "\n",
      "Discretise rules\n",
      "\n",
      "Starting 5 processes ...\n",
      "\n",
      "Running 10 calculations (10 objs/0.6 Mb common; 1 calls/chunk) ...\n",
      "\n",
      "\n",
      "[----------------------------------------------------]   0% (1/5 wrk) eta:  ?s\n",
      "\n",
      "[----------------------------------------------------]   0% (2/5 wrk) eta:  ?s\n",
      "\n",
      "[----------------------------------------------------]   0% (3/5 wrk) eta:  ?s\n",
      "\n",
      "[----------------------------------------------------]   0% (4/5 wrk) eta:  ?s\n",
      "\n",
      "[----------------------------------------------------]   0% (5/5 wrk) eta:  ?s\n",
      "\n",
      "[====>-----------------------------------------------]  10% (5/5 wrk) eta:  2m\n",
      "\n",
      "[=========>------------------------------------------]  20% (5/5 wrk) eta: 48s\n",
      "\n",
      "[===============>------------------------------------]  30% (5/5 wrk) eta: 28s\n",
      "\n",
      "[====================>-------------------------------]  40% (5/5 wrk) eta: 19s\n",
      "\n",
      "[=========================>--------------------------]  50% (5/5 wrk) eta: 13s\n",
      "\n",
      "[==============================>---------------------]  60% (5/5 wrk) eta: 14s\n",
      "\n",
      "[===================================>----------------]  70% (5/5 wrk) eta:  9s\n",
      "\n",
      "[=========================================>----------]  80% (4/4 wrk) eta:  5s\n",
      "\n",
      "[==============================================>-----]  90% (3/3 wrk) eta:  2s\n",
      "\n",
      "[====================================================] 100% (1/1 wrk) eta:  0s\n",
      "                                                                              \n",
      "\n",
      "Master: [22.2s 1.8% CPU]; Worker: [avg 22.2% CPU, max 517.1 Mb]\n",
      "\n"
     ]
    },
    {
     "name": "stdout",
     "output_type": "stream",
     "text": [
      "26.9963  rules per sub-sample selected. 18 decisions in >= 7 subsets.\n",
      "115.8154  rules per sub-sample selected. 39 decisions in >= 7 subsets.\n",
      "[1]\ttrain-error:0.038659 \n",
      "[2]\ttrain-error:0.025617 \n",
      "[3]\ttrain-error:0.016768 \n",
      "[4]\ttrain-error:0.016302 \n",
      "[5]\ttrain-error:0.011644 \n",
      "[6]\ttrain-error:0.011644 \n",
      "[7]\ttrain-error:0.010713 \n",
      "[8]\ttrain-error:0.010247 \n",
      "[9]\ttrain-error:0.010247 \n",
      "[10]\ttrain-error:0.009315 \n"
     ]
    },
    {
     "name": "stderr",
     "output_type": "stream",
     "text": [
      "`summarise()` regrouping output by 'x' (override with `.groups` argument)\n",
      "\n",
      "Extract rules...\n",
      "\n",
      "Discretise data\n",
      "\n",
      "Discretise rules\n",
      "\n",
      "Starting 5 processes ...\n",
      "\n",
      "Running 10 calculations (10 objs/0.9 Mb common; 1 calls/chunk) ...\n",
      "\n",
      "\n",
      "[----------------------------------------------------]   0% (2/5 wrk) eta:  ?s\n",
      "\n",
      "[----------------------------------------------------]   0% (3/5 wrk) eta:  ?s\n",
      "\n",
      "[----------------------------------------------------]   0% (4/5 wrk) eta:  ?s\n",
      "\n",
      "[----------------------------------------------------]   0% (5/5 wrk) eta:  ?s\n",
      "\n",
      "[====>-----------------------------------------------]  10% (5/5 wrk) eta:  3m\n",
      "\n",
      "[=========>------------------------------------------]  20% (5/5 wrk) eta:  1m\n",
      "\n",
      "[===============>------------------------------------]  30% (5/5 wrk) eta: 45s\n",
      "\n",
      "[====================>-------------------------------]  40% (5/5 wrk) eta: 30s\n",
      "\n",
      "[=========================>--------------------------]  50% (5/5 wrk) eta: 21s\n",
      "\n",
      "[==============================>---------------------]  60% (5/5 wrk) eta: 23s\n",
      "\n",
      "[===================================>----------------]  70% (4/4 wrk) eta: 15s\n",
      "\n",
      "[=========================================>----------]  80% (4/4 wrk) eta:  9s\n",
      "\n",
      "[==============================================>-----]  90% (4/4 wrk) eta:  4s\n",
      "\n",
      "[====================================================] 100% (1/1 wrk) eta:  0s\n",
      "                                                                              \n",
      "\n",
      "Master: [36.8s 1.1% CPU]; Worker: [avg 14.2% CPU, max 513.2 Mb]\n",
      "\n"
     ]
    },
    {
     "name": "stdout",
     "output_type": "stream",
     "text": [
      "47.51842  rules per sub-sample selected. 35 decisions in >= 7 subsets.\n",
      "28.47455  rules per sub-sample selected. 18 decisions in >= 7 subsets.\n",
      "[1]\ttrain-error:0.023754 \n",
      "[2]\ttrain-error:0.015836 \n",
      "[3]\ttrain-error:0.011644 \n",
      "[4]\ttrain-error:0.013041 \n",
      "[5]\ttrain-error:0.012576 \n",
      "[6]\ttrain-error:0.012110 \n",
      "[7]\ttrain-error:0.011178 \n",
      "[8]\ttrain-error:0.011178 \n",
      "[9]\ttrain-error:0.011178 \n",
      "[10]\ttrain-error:0.011178 \n"
     ]
    },
    {
     "name": "stderr",
     "output_type": "stream",
     "text": [
      "`summarise()` regrouping output by 'x' (override with `.groups` argument)\n",
      "\n",
      "Extract rules...\n",
      "\n",
      "Discretise data\n",
      "\n",
      "Discretise rules\n",
      "\n",
      "Starting 5 processes ...\n",
      "\n",
      "Running 10 calculations (10 objs/0.5 Mb common; 1 calls/chunk) ...\n",
      "\n",
      "\n",
      "[----------------------------------------------------]   0% (1/5 wrk) eta:  ?s\n",
      "\n",
      "[----------------------------------------------------]   0% (2/5 wrk) eta:  ?s\n",
      "\n",
      "[----------------------------------------------------]   0% (3/5 wrk) eta:  ?s\n",
      "\n",
      "[----------------------------------------------------]   0% (4/5 wrk) eta:  ?s\n",
      "\n",
      "[----------------------------------------------------]   0% (5/5 wrk) eta:  ?s\n",
      "\n",
      "[====>-----------------------------------------------]  10% (5/5 wrk) eta:  2m\n",
      "\n",
      "[=========>------------------------------------------]  20% (5/5 wrk) eta: 49s\n",
      "\n",
      "[===============>------------------------------------]  30% (5/5 wrk) eta: 30s\n",
      "\n",
      "[====================>-------------------------------]  40% (5/5 wrk) eta: 20s\n",
      "\n",
      "[=========================>--------------------------]  50% (5/5 wrk) eta: 13s\n",
      "\n",
      "[==============================>---------------------]  60% (5/5 wrk) eta: 14s\n",
      "\n",
      "[===================================>----------------]  70% (5/5 wrk) eta:  9s\n",
      "\n",
      "[=========================================>----------]  80% (5/5 wrk) eta:  5s\n",
      "\n",
      "[==============================================>-----]  90% (4/4 wrk) eta:  2s\n",
      "\n",
      "[====================================================] 100% (1/1 wrk) eta:  0s\n",
      "                                                                              \n",
      "\n",
      "Master: [22.7s 1.8% CPU]; Worker: [avg 23.3% CPU, max 517.1 Mb]\n",
      "\n"
     ]
    },
    {
     "name": "stdout",
     "output_type": "stream",
     "text": [
      "28.62866  rules per sub-sample selected. 23 decisions in >= 7 subsets.\n",
      "66.97761  rules per sub-sample selected. 28 decisions in >= 7 subsets.\n",
      "[1]\ttrain-error:0.019562 \n",
      "[2]\ttrain-error:0.020028 \n",
      "[3]\ttrain-error:0.018165 \n",
      "[4]\ttrain-error:0.018165 \n",
      "[5]\ttrain-error:0.018165 \n",
      "[6]\ttrain-error:0.018165 \n",
      "[7]\ttrain-error:0.018165 \n",
      "[8]\ttrain-error:0.018165 \n",
      "[9]\ttrain-error:0.017699 \n",
      "[10]\ttrain-error:0.017699 \n"
     ]
    },
    {
     "name": "stderr",
     "output_type": "stream",
     "text": [
      "`summarise()` regrouping output by 'x' (override with `.groups` argument)\n",
      "\n",
      "Extract rules...\n",
      "\n",
      "Discretise data\n",
      "\n",
      "Discretise rules\n",
      "\n",
      "Starting 5 processes ...\n",
      "\n",
      "Running 10 calculations (10 objs/0.6 Mb common; 1 calls/chunk) ...\n",
      "\n",
      "\n",
      "[----------------------------------------------------]   0% (1/5 wrk) eta:  ?s\n",
      "\n",
      "[----------------------------------------------------]   0% (2/5 wrk) eta:  ?s\n",
      "\n",
      "[----------------------------------------------------]   0% (3/5 wrk) eta:  ?s\n",
      "\n",
      "[----------------------------------------------------]   0% (4/5 wrk) eta:  ?s\n",
      "\n",
      "[----------------------------------------------------]   0% (5/5 wrk) eta:  ?s\n",
      "\n",
      "[====>-----------------------------------------------]  10% (5/5 wrk) eta:  2m\n",
      "\n",
      "[=========>------------------------------------------]  20% (5/5 wrk) eta: 46s\n",
      "\n",
      "[===============>------------------------------------]  30% (5/5 wrk) eta: 28s\n",
      "\n",
      "[====================>-------------------------------]  40% (5/5 wrk) eta: 18s\n",
      "\n",
      "[=========================>--------------------------]  50% (5/5 wrk) eta: 13s\n",
      "\n",
      "[==============================>---------------------]  60% (5/5 wrk) eta: 13s\n",
      "\n",
      "[===================================>----------------]  70% (5/5 wrk) eta:  8s\n",
      "\n",
      "[=========================================>----------]  80% (4/4 wrk) eta:  5s\n",
      "\n",
      "[==============================================>-----]  90% (3/3 wrk) eta:  2s\n",
      "\n",
      "[====================================================] 100% (2/2 wrk) eta:  0s\n",
      "                                                                              \n",
      "\n",
      "Master: [21.0s 2.0% CPU]; Worker: [avg 24.9% CPU, max 517.1 Mb]\n",
      "\n"
     ]
    },
    {
     "name": "stdout",
     "output_type": "stream",
     "text": [
      "30.99677  rules per sub-sample selected. 18 decisions in >= 7 subsets.\n",
      "101.6248  rules per sub-sample selected. 35 decisions in >= 7 subsets.\n",
      "[1]\ttrain-error:0.084304 \n",
      "[2]\ttrain-error:0.024220 \n",
      "[3]\ttrain-error:0.020028 \n",
      "[4]\ttrain-error:0.016768 \n",
      "[5]\ttrain-error:0.014905 \n",
      "[6]\ttrain-error:0.013973 \n",
      "[7]\ttrain-error:0.012110 \n",
      "[8]\ttrain-error:0.012576 \n",
      "[9]\ttrain-error:0.011644 \n",
      "[10]\ttrain-error:0.012110 \n"
     ]
    },
    {
     "name": "stderr",
     "output_type": "stream",
     "text": [
      "`summarise()` regrouping output by 'x' (override with `.groups` argument)\n",
      "\n",
      "Extract rules...\n",
      "\n",
      "Discretise data\n",
      "\n",
      "Discretise rules\n",
      "\n",
      "Starting 5 processes ...\n",
      "\n",
      "Running 10 calculations (10 objs/0.9 Mb common; 1 calls/chunk) ...\n",
      "\n",
      "\n",
      "[----------------------------------------------------]   0% (2/5 wrk) eta:  ?s\n",
      "\n",
      "[----------------------------------------------------]   0% (3/5 wrk) eta:  ?s\n",
      "\n",
      "[----------------------------------------------------]   0% (4/5 wrk) eta:  ?s\n",
      "\n",
      "[----------------------------------------------------]   0% (5/5 wrk) eta:  ?s\n",
      "\n",
      "[====>-----------------------------------------------]  10% (5/5 wrk) eta:  2m\n",
      "\n",
      "[=========>------------------------------------------]  20% (5/5 wrk) eta:  1m\n",
      "\n",
      "[===============>------------------------------------]  30% (5/5 wrk) eta: 41s\n",
      "\n",
      "[====================>-------------------------------]  40% (5/5 wrk) eta: 26s\n",
      "\n",
      "[=========================>--------------------------]  50% (5/5 wrk) eta: 19s\n",
      "\n",
      "[==============================>---------------------]  60% (5/5 wrk) eta: 21s\n",
      "\n",
      "[===================================>----------------]  70% (5/5 wrk) eta: 13s\n",
      "\n",
      "[=========================================>----------]  80% (3/3 wrk) eta:  8s\n",
      "\n",
      "[==============================================>-----]  90% (2/2 wrk) eta:  4s\n",
      "\n",
      "[====================================================] 100% (2/2 wrk) eta:  0s\n",
      "                                                                              \n",
      "\n",
      "Master: [33.5s 1.3% CPU]; Worker: [avg 15.1% CPU, max 516.4 Mb]\n",
      "\n"
     ]
    },
    {
     "name": "stdout",
     "output_type": "stream",
     "text": [
      "45.96085  rules per sub-sample selected. 25 decisions in >= 7 subsets.\n",
      "109.5317  rules per sub-sample selected. 40 decisions in >= 7 subsets.\n",
      "[1]\ttrain-error:0.053563 \n",
      "[2]\ttrain-error:0.033535 \n",
      "[3]\ttrain-error:0.021425 \n",
      "[4]\ttrain-error:0.019562 \n",
      "[5]\ttrain-error:0.015836 \n",
      "[6]\ttrain-error:0.015836 \n",
      "[7]\ttrain-error:0.014905 \n",
      "[8]\ttrain-error:0.015836 \n",
      "[9]\ttrain-error:0.015836 \n",
      "[10]\ttrain-error:0.015836 \n"
     ]
    },
    {
     "name": "stderr",
     "output_type": "stream",
     "text": [
      "`summarise()` regrouping output by 'x' (override with `.groups` argument)\n",
      "\n",
      "Extract rules...\n",
      "\n",
      "Discretise data\n",
      "\n",
      "Discretise rules\n",
      "\n",
      "Starting 5 processes ...\n",
      "\n",
      "Running 10 calculations (10 objs/0.8 Mb common; 1 calls/chunk) ...\n",
      "\n",
      "\n",
      "[----------------------------------------------------]   0% (1/5 wrk) eta:  ?s\n",
      "\n",
      "[----------------------------------------------------]   0% (2/5 wrk) eta:  ?s\n",
      "\n",
      "[----------------------------------------------------]   0% (3/5 wrk) eta:  ?s\n",
      "\n",
      "[----------------------------------------------------]   0% (4/5 wrk) eta:  ?s\n",
      "\n",
      "[----------------------------------------------------]   0% (5/5 wrk) eta:  ?s\n",
      "\n",
      "[====>-----------------------------------------------]  10% (5/5 wrk) eta:  2m\n",
      "\n",
      "[=========>------------------------------------------]  20% (5/5 wrk) eta:  1m\n",
      "\n",
      "[===============>------------------------------------]  30% (5/5 wrk) eta: 40s\n",
      "\n",
      "[====================>-------------------------------]  40% (5/5 wrk) eta: 26s\n",
      "\n",
      "[=========================>--------------------------]  50% (5/5 wrk) eta: 18s\n",
      "\n",
      "[==============================>---------------------]  60% (5/5 wrk) eta: 19s\n",
      "\n",
      "[===================================>----------------]  70% (5/5 wrk) eta: 13s\n",
      "\n",
      "[=========================================>----------]  80% (4/4 wrk) eta:  7s\n",
      "\n",
      "[==============================================>-----]  90% (3/3 wrk) eta:  3s\n",
      "\n",
      "[====================================================] 100% (2/2 wrk) eta:  0s\n",
      "                                                                              \n",
      "\n",
      "Master: [30.8s 1.4% CPU]; Worker: [avg 17.4% CPU, max 517.2 Mb]\n",
      "\n"
     ]
    },
    {
     "name": "stdout",
     "output_type": "stream",
     "text": [
      "43.731  rules per sub-sample selected. 26 decisions in >= 7 subsets.\n",
      "65.82705  rules per sub-sample selected. 28 decisions in >= 7 subsets.\n",
      "[1]\ttrain-error:0.047508 \n",
      "[2]\ttrain-error:0.019562 \n",
      "[3]\ttrain-error:0.019562 \n",
      "[4]\ttrain-error:0.017233 \n",
      "[5]\ttrain-error:0.016768 \n",
      "[6]\ttrain-error:0.013041 \n",
      "[7]\ttrain-error:0.014905 \n",
      "[8]\ttrain-error:0.013041 \n",
      "[9]\ttrain-error:0.013041 \n",
      "[10]\ttrain-error:0.013041 \n"
     ]
    },
    {
     "name": "stderr",
     "output_type": "stream",
     "text": [
      "`summarise()` regrouping output by 'x' (override with `.groups` argument)\n",
      "\n",
      "Extract rules...\n",
      "\n",
      "Discretise data\n",
      "\n",
      "Discretise rules\n",
      "\n",
      "Starting 5 processes ...\n",
      "\n",
      "Running 10 calculations (10 objs/0.7 Mb common; 1 calls/chunk) ...\n",
      "\n",
      "\n",
      "[----------------------------------------------------]   0% (1/5 wrk) eta:  ?s\n",
      "\n",
      "[----------------------------------------------------]   0% (2/5 wrk) eta:  ?s\n",
      "\n",
      "[----------------------------------------------------]   0% (3/5 wrk) eta:  ?s\n",
      "\n",
      "[----------------------------------------------------]   0% (4/5 wrk) eta:  ?s\n",
      "\n",
      "[----------------------------------------------------]   0% (5/5 wrk) eta:  ?s\n",
      "\n",
      "[====>-----------------------------------------------]  10% (5/5 wrk) eta:  2m\n",
      "\n",
      "[=========>------------------------------------------]  20% (5/5 wrk) eta:  1m\n",
      "\n",
      "[===============>------------------------------------]  30% (5/5 wrk) eta: 39s\n",
      "\n",
      "[====================>-------------------------------]  40% (5/5 wrk) eta: 25s\n",
      "\n",
      "[=========================>--------------------------]  50% (5/5 wrk) eta: 18s\n",
      "\n",
      "[==============================>---------------------]  60% (5/5 wrk) eta: 19s\n",
      "\n",
      "[===================================>----------------]  70% (4/4 wrk) eta: 12s\n",
      "\n",
      "[=========================================>----------]  80% (3/3 wrk) eta:  7s\n",
      "\n",
      "[==============================================>-----]  90% (2/2 wrk) eta:  3s\n",
      "\n",
      "[====================================================] 100% (2/2 wrk) eta:  0s\n",
      "                                                                              \n",
      "\n",
      "Master: [30.9s 1.4% CPU]; Worker: [avg 16.5% CPU, max 517.2 Mb]\n",
      "\n"
     ]
    },
    {
     "name": "stdout",
     "output_type": "stream",
     "text": [
      "41.82344  rules per sub-sample selected. 21 decisions in >= 7 subsets.\n",
      "79.22121  rules per sub-sample selected. 20 decisions in >= 7 subsets.\n",
      "[1]\ttrain-error:0.040522 \n",
      "[2]\ttrain-error:0.028412 \n",
      "[3]\ttrain-error:0.026549 \n",
      "[4]\ttrain-error:0.023288 \n",
      "[5]\ttrain-error:0.020959 \n",
      "[6]\ttrain-error:0.020494 \n",
      "[7]\ttrain-error:0.020028 \n",
      "[8]\ttrain-error:0.020494 \n",
      "[9]\ttrain-error:0.017233 \n",
      "[10]\ttrain-error:0.017233 \n"
     ]
    },
    {
     "name": "stderr",
     "output_type": "stream",
     "text": [
      "`summarise()` regrouping output by 'x' (override with `.groups` argument)\n",
      "\n",
      "Extract rules...\n",
      "\n",
      "Discretise data\n",
      "\n",
      "Discretise rules\n",
      "\n",
      "Starting 5 processes ...\n",
      "\n",
      "Running 10 calculations (10 objs/0.7 Mb common; 1 calls/chunk) ...\n",
      "\n",
      "\n",
      "[----------------------------------------------------]   0% (1/5 wrk) eta:  ?s\n",
      "\n",
      "[----------------------------------------------------]   0% (2/5 wrk) eta:  ?s\n",
      "\n",
      "[----------------------------------------------------]   0% (3/5 wrk) eta:  ?s\n",
      "\n",
      "[----------------------------------------------------]   0% (4/5 wrk) eta:  ?s\n",
      "\n",
      "[----------------------------------------------------]   0% (5/5 wrk) eta:  ?s\n",
      "\n",
      "[====>-----------------------------------------------]  10% (5/5 wrk) eta:  2m\n",
      "\n",
      "[=========>------------------------------------------]  20% (5/5 wrk) eta:  1m\n",
      "\n",
      "[===============>------------------------------------]  30% (5/5 wrk) eta: 32s\n",
      "\n",
      "[====================>-------------------------------]  40% (5/5 wrk) eta: 20s\n",
      "\n",
      "[=========================>--------------------------]  50% (5/5 wrk) eta: 14s\n",
      "\n",
      "[==============================>---------------------]  60% (5/5 wrk) eta: 15s\n",
      "\n",
      "[===================================>----------------]  70% (5/5 wrk) eta: 10s\n",
      "\n",
      "[=========================================>----------]  80% (4/4 wrk) eta:  6s\n",
      "\n",
      "[==============================================>-----]  90% (3/3 wrk) eta:  3s\n",
      "\n",
      "[====================================================] 100% (1/1 wrk) eta:  0s\n",
      "                                                                              \n",
      "\n",
      "Master: [24.6s 1.6% CPU]; Worker: [avg 20.5% CPU, max 517.1 Mb]\n",
      "\n"
     ]
    },
    {
     "name": "stdout",
     "output_type": "stream",
     "text": [
      "36.52944  rules per sub-sample selected. 20 decisions in >= 7 subsets.\n",
      "117.5738  rules per sub-sample selected. 25 decisions in >= 7 subsets.\n",
      "[1]\ttrain-error:0.094551 \n",
      "[2]\ttrain-error:0.027480 \n",
      "[3]\ttrain-error:0.031206 \n",
      "[4]\ttrain-error:0.023754 \n",
      "[5]\ttrain-error:0.023288 \n",
      "[6]\ttrain-error:0.022357 \n",
      "[7]\ttrain-error:0.021425 \n",
      "[8]\ttrain-error:0.020494 \n",
      "[9]\ttrain-error:0.019096 \n",
      "[10]\ttrain-error:0.019562 \n"
     ]
    },
    {
     "name": "stderr",
     "output_type": "stream",
     "text": [
      "`summarise()` regrouping output by 'x' (override with `.groups` argument)\n",
      "\n",
      "Extract rules...\n",
      "\n",
      "Discretise data\n",
      "\n",
      "Discretise rules\n",
      "\n",
      "Starting 5 processes ...\n",
      "\n",
      "Running 10 calculations (10 objs/0.9 Mb common; 1 calls/chunk) ...\n",
      "\n",
      "\n",
      "[----------------------------------------------------]   0% (2/5 wrk) eta:  ?s\n",
      "\n",
      "[----------------------------------------------------]   0% (3/5 wrk) eta:  ?s\n",
      "\n",
      "[----------------------------------------------------]   0% (4/5 wrk) eta:  ?s\n",
      "\n",
      "[----------------------------------------------------]   0% (5/5 wrk) eta:  ?s\n",
      "\n",
      "[====>-----------------------------------------------]  10% (5/5 wrk) eta:  2m\n",
      "\n",
      "[=========>------------------------------------------]  20% (5/5 wrk) eta:  1m\n",
      "\n",
      "[===============>------------------------------------]  30% (5/5 wrk) eta: 39s\n",
      "\n",
      "[====================>-------------------------------]  40% (5/5 wrk) eta: 25s\n",
      "\n",
      "[=========================>--------------------------]  50% (5/5 wrk) eta: 17s\n",
      "\n",
      "[==============================>---------------------]  60% (5/5 wrk) eta: 19s\n",
      "\n",
      "[===================================>----------------]  70% (4/4 wrk) eta: 12s\n",
      "\n",
      "[=========================================>----------]  80% (3/3 wrk) eta:  7s\n",
      "\n",
      "[==============================================>-----]  90% (3/3 wrk) eta:  3s\n",
      "\n",
      "[====================================================] 100% (1/1 wrk) eta:  0s\n",
      "                                                                              \n",
      "\n",
      "Master: [30.5s 1.4% CPU]; Worker: [avg 16.5% CPU, max 514.0 Mb]\n",
      "\n"
     ]
    },
    {
     "name": "stdout",
     "output_type": "stream",
     "text": [
      "44.75265  rules per sub-sample selected. 30 decisions in >= 7 subsets.\n",
      "68.19971  rules per sub-sample selected. 30 decisions in >= 7 subsets.\n",
      "[1]\ttrain-error:0.036330 \n",
      "[2]\ttrain-error:0.026549 \n",
      "[3]\ttrain-error:0.024220 \n",
      "[4]\ttrain-error:0.016302 \n",
      "[5]\ttrain-error:0.015836 \n",
      "[6]\ttrain-error:0.015370 \n",
      "[7]\ttrain-error:0.012576 \n",
      "[8]\ttrain-error:0.012576 \n",
      "[9]\ttrain-error:0.011644 \n",
      "[10]\ttrain-error:0.011644 \n"
     ]
    },
    {
     "name": "stderr",
     "output_type": "stream",
     "text": [
      "`summarise()` regrouping output by 'x' (override with `.groups` argument)\n",
      "\n",
      "Extract rules...\n",
      "\n",
      "Discretise data\n",
      "\n",
      "Discretise rules\n",
      "\n",
      "Starting 5 processes ...\n",
      "\n",
      "Running 10 calculations (10 objs/0.6 Mb common; 1 calls/chunk) ...\n",
      "\n",
      "\n",
      "[----------------------------------------------------]   0% (1/5 wrk) eta:  ?s\n",
      "\n",
      "[----------------------------------------------------]   0% (2/5 wrk) eta:  ?s\n",
      "\n",
      "[----------------------------------------------------]   0% (3/5 wrk) eta:  ?s\n",
      "\n",
      "[----------------------------------------------------]   0% (4/5 wrk) eta:  ?s\n",
      "\n",
      "[----------------------------------------------------]   0% (5/5 wrk) eta:  ?s\n",
      "\n",
      "[====>-----------------------------------------------]  10% (5/5 wrk) eta:  2m\n",
      "\n",
      "[=========>------------------------------------------]  20% (5/5 wrk) eta: 46s\n",
      "\n",
      "[===============>------------------------------------]  30% (5/5 wrk) eta: 27s\n",
      "\n",
      "[====================>-------------------------------]  40% (5/5 wrk) eta: 18s\n",
      "\n",
      "[=========================>--------------------------]  50% (5/5 wrk) eta: 12s\n",
      "\n",
      "[==============================>---------------------]  60% (5/5 wrk) eta: 13s\n",
      "\n",
      "[===================================>----------------]  70% (4/4 wrk) eta:  8s\n",
      "\n",
      "[=========================================>----------]  80% (4/4 wrk) eta:  5s\n",
      "\n",
      "[==============================================>-----]  90% (3/3 wrk) eta:  2s\n",
      "\n",
      "[====================================================] 100% (2/2 wrk) eta:  0s\n",
      "                                                                              \n",
      "\n",
      "Master: [21.4s 2.0% CPU]; Worker: [avg 24.2% CPU, max 517.1 Mb]\n",
      "\n"
     ]
    },
    {
     "name": "stdout",
     "output_type": "stream",
     "text": [
      "28.55171  rules per sub-sample selected. 19 decisions in >= 7 subsets.\n",
      "70.75309  rules per sub-sample selected. 27 decisions in >= 7 subsets.\n",
      "[1]\ttrain-error:0.051700 \n",
      "[2]\ttrain-error:0.041453 \n",
      "[3]\ttrain-error:0.020959 \n",
      "[4]\ttrain-error:0.015836 \n",
      "[5]\ttrain-error:0.015836 \n",
      "[6]\ttrain-error:0.017233 \n",
      "[7]\ttrain-error:0.015370 \n",
      "[8]\ttrain-error:0.015370 \n",
      "[9]\ttrain-error:0.014905 \n",
      "[10]\ttrain-error:0.014905 \n"
     ]
    },
    {
     "name": "stderr",
     "output_type": "stream",
     "text": [
      "`summarise()` regrouping output by 'x' (override with `.groups` argument)\n",
      "\n",
      "Extract rules...\n",
      "\n",
      "Discretise data\n",
      "\n",
      "Discretise rules\n",
      "\n",
      "Starting 5 processes ...\n",
      "\n",
      "Running 10 calculations (10 objs/0.7 Mb common; 1 calls/chunk) ...\n",
      "\n",
      "\n",
      "[----------------------------------------------------]   0% (1/5 wrk) eta:  ?s\n",
      "\n",
      "[----------------------------------------------------]   0% (2/5 wrk) eta:  ?s\n",
      "\n",
      "[----------------------------------------------------]   0% (3/5 wrk) eta:  ?s\n",
      "\n",
      "[----------------------------------------------------]   0% (4/5 wrk) eta:  ?s\n",
      "\n",
      "[----------------------------------------------------]   0% (5/5 wrk) eta:  ?s\n",
      "\n",
      "[====>-----------------------------------------------]  10% (5/5 wrk) eta:  2m\n",
      "\n",
      "[=========>------------------------------------------]  20% (5/5 wrk) eta:  1m\n",
      "\n",
      "[===============>------------------------------------]  30% (5/5 wrk) eta: 35s\n",
      "\n",
      "[====================>-------------------------------]  40% (5/5 wrk) eta: 23s\n",
      "\n",
      "[=========================>--------------------------]  50% (5/5 wrk) eta: 16s\n",
      "\n",
      "[==============================>---------------------]  60% (5/5 wrk) eta: 17s\n",
      "\n",
      "[===================================>----------------]  70% (5/5 wrk) eta: 11s\n",
      "\n",
      "[=========================================>----------]  80% (4/4 wrk) eta:  7s\n",
      "\n",
      "[==============================================>-----]  90% (4/4 wrk) eta:  3s\n",
      "\n",
      "[====================================================] 100% (3/3 wrk) eta:  0s\n",
      "                                                                              \n",
      "\n",
      "Master: [28.0s 1.5% CPU]; Worker: [avg 18.6% CPU, max 517.2 Mb]\n",
      "\n"
     ]
    },
    {
     "name": "stdout",
     "output_type": "stream",
     "text": [
      "36.43625  rules per sub-sample selected. 22 decisions in >= 7 subsets.\n",
      "134.7709  rules per sub-sample selected. 28 decisions in >= 7 subsets.\n",
      "[1]\ttrain-error:0.047974 \n",
      "[2]\ttrain-error:0.021891 \n",
      "[3]\ttrain-error:0.022823 \n",
      "[4]\ttrain-error:0.015370 \n",
      "[5]\ttrain-error:0.014905 \n",
      "[6]\ttrain-error:0.015370 \n",
      "[7]\ttrain-error:0.014439 \n",
      "[8]\ttrain-error:0.014439 \n",
      "[9]\ttrain-error:0.013973 \n",
      "[10]\ttrain-error:0.013041 \n"
     ]
    },
    {
     "name": "stderr",
     "output_type": "stream",
     "text": [
      "`summarise()` regrouping output by 'x' (override with `.groups` argument)\n",
      "\n",
      "Extract rules...\n",
      "\n",
      "Discretise data\n",
      "\n",
      "Discretise rules\n",
      "\n",
      "Starting 5 processes ...\n",
      "\n",
      "Running 10 calculations (10 objs/0.9 Mb common; 1 calls/chunk) ...\n",
      "\n",
      "\n",
      "[----------------------------------------------------]   0% (1/5 wrk) eta:  ?s\n",
      "\n",
      "[----------------------------------------------------]   0% (2/5 wrk) eta:  ?s\n",
      "\n",
      "[----------------------------------------------------]   0% (3/5 wrk) eta:  ?s\n",
      "\n",
      "[----------------------------------------------------]   0% (4/5 wrk) eta:  ?s\n",
      "\n",
      "[----------------------------------------------------]   0% (5/5 wrk) eta:  ?s\n",
      "\n",
      "[====>-----------------------------------------------]  10% (5/5 wrk) eta:  2m\n",
      "\n",
      "[=========>------------------------------------------]  20% (5/5 wrk) eta:  1m\n",
      "\n",
      "[===============>------------------------------------]  30% (5/5 wrk) eta: 32s\n",
      "\n",
      "[====================>-------------------------------]  40% (5/5 wrk) eta: 21s\n",
      "\n",
      "[=========================>--------------------------]  50% (5/5 wrk) eta: 14s\n",
      "\n",
      "[==============================>---------------------]  60% (5/5 wrk) eta: 16s\n",
      "\n",
      "[===================================>----------------]  70% (4/4 wrk) eta: 10s\n",
      "\n",
      "[=========================================>----------]  80% (4/4 wrk) eta:  6s\n",
      "\n",
      "[==============================================>-----]  90% (4/4 wrk) eta:  3s\n",
      "\n",
      "[====================================================] 100% (2/2 wrk) eta:  0s\n",
      "                                                                              \n",
      "\n",
      "Master: [25.5s 1.7% CPU]; Worker: [avg 19.9% CPU, max 517.1 Mb]\n",
      "\n"
     ]
    },
    {
     "name": "stdout",
     "output_type": "stream",
     "text": [
      "37.518  rules per sub-sample selected. 21 decisions in >= 7 subsets.\n",
      "67.46555  rules per sub-sample selected. 23 decisions in >= 7 subsets.\n",
      "[1]\ttrain-error:0.044714 \n",
      "[2]\ttrain-error:0.020028 \n",
      "[3]\ttrain-error:0.020028 \n",
      "[4]\ttrain-error:0.016302 \n",
      "[5]\ttrain-error:0.016302 \n",
      "[6]\ttrain-error:0.016302 \n",
      "[7]\ttrain-error:0.016302 \n",
      "[8]\ttrain-error:0.016302 \n",
      "[9]\ttrain-error:0.015836 \n",
      "[10]\ttrain-error:0.014905 \n"
     ]
    },
    {
     "name": "stderr",
     "output_type": "stream",
     "text": [
      "`summarise()` regrouping output by 'x' (override with `.groups` argument)\n",
      "\n",
      "Extract rules...\n",
      "\n",
      "Discretise data\n",
      "\n",
      "Discretise rules\n",
      "\n",
      "Starting 5 processes ...\n",
      "\n",
      "Running 10 calculations (10 objs/0.6 Mb common; 1 calls/chunk) ...\n",
      "\n",
      "\n",
      "[----------------------------------------------------]   0% (1/5 wrk) eta:  ?s\n",
      "\n",
      "[----------------------------------------------------]   0% (2/5 wrk) eta:  ?s\n",
      "\n",
      "[----------------------------------------------------]   0% (3/5 wrk) eta:  ?s\n",
      "\n",
      "[----------------------------------------------------]   0% (4/5 wrk) eta:  ?s\n",
      "\n",
      "[----------------------------------------------------]   0% (5/5 wrk) eta:  ?s\n",
      "\n",
      "[====>-----------------------------------------------]  10% (5/5 wrk) eta:  2m\n",
      "\n",
      "[=========>------------------------------------------]  20% (5/5 wrk) eta: 44s\n",
      "\n",
      "[===============>------------------------------------]  30% (5/5 wrk) eta: 26s\n",
      "\n",
      "[====================>-------------------------------]  40% (5/5 wrk) eta: 17s\n",
      "\n",
      "[=========================>--------------------------]  50% (5/5 wrk) eta: 11s\n",
      "\n",
      "[==============================>---------------------]  60% (5/5 wrk) eta: 12s\n",
      "\n",
      "[===================================>----------------]  70% (5/5 wrk) eta:  8s\n",
      "\n",
      "[=========================================>----------]  80% (4/4 wrk) eta:  5s\n",
      "\n",
      "[==============================================>-----]  90% (4/4 wrk) eta:  2s\n",
      "\n",
      "[====================================================] 100% (1/1 wrk) eta:  0s\n",
      "                                                                              \n",
      "\n",
      "Master: [20.9s 2.0% CPU]; Worker: [avg 22.5% CPU, max 517.1 Mb]\n",
      "\n"
     ]
    },
    {
     "name": "stdout",
     "output_type": "stream",
     "text": [
      "28.78889  rules per sub-sample selected. 16 decisions in >= 7 subsets.\n",
      "118.9655  rules per sub-sample selected. 50 decisions in >= 7 subsets.\n",
      "[1]\ttrain-error:0.020494 \n",
      "[2]\ttrain-error:0.012110 \n",
      "[3]\ttrain-error:0.018165 \n",
      "[4]\ttrain-error:0.013041 \n",
      "[5]\ttrain-error:0.011178 \n",
      "[6]\ttrain-error:0.009781 \n",
      "[7]\ttrain-error:0.008850 \n",
      "[8]\ttrain-error:0.008850 \n",
      "[9]\ttrain-error:0.006986 \n",
      "[10]\ttrain-error:0.006986 \n"
     ]
    },
    {
     "name": "stderr",
     "output_type": "stream",
     "text": [
      "`summarise()` regrouping output by 'x' (override with `.groups` argument)\n",
      "\n",
      "Extract rules...\n",
      "\n",
      "Discretise data\n",
      "\n",
      "Discretise rules\n",
      "\n",
      "Starting 5 processes ...\n",
      "\n",
      "Running 10 calculations (10 objs/0.9 Mb common; 1 calls/chunk) ...\n",
      "\n",
      "\n",
      "[----------------------------------------------------]   0% (2/5 wrk) eta:  ?s\n",
      "\n",
      "[----------------------------------------------------]   0% (3/5 wrk) eta:  ?s\n",
      "\n",
      "[----------------------------------------------------]   0% (4/5 wrk) eta:  ?s\n",
      "\n",
      "[----------------------------------------------------]   0% (5/5 wrk) eta:  ?s\n",
      "\n",
      "[====>-----------------------------------------------]  10% (5/5 wrk) eta:  2m\n",
      "\n",
      "[=========>------------------------------------------]  20% (5/5 wrk) eta:  1m\n",
      "\n",
      "[===============>------------------------------------]  30% (5/5 wrk) eta: 36s\n",
      "\n",
      "[====================>-------------------------------]  40% (5/5 wrk) eta: 24s\n",
      "\n",
      "[=========================>--------------------------]  50% (5/5 wrk) eta: 17s\n",
      "\n",
      "[==============================>---------------------]  60% (5/5 wrk) eta: 18s\n",
      "\n",
      "[===================================>----------------]  70% (5/5 wrk) eta: 12s\n",
      "\n",
      "[=========================================>----------]  80% (5/5 wrk) eta:  7s\n",
      "\n",
      "[==============================================>-----]  90% (3/3 wrk) eta:  3s\n",
      "\n",
      "[====================================================] 100% (1/1 wrk) eta:  0s\n",
      "                                                                              \n",
      "\n",
      "Master: [28.8s 1.5% CPU]; Worker: [avg 18.3% CPU, max 517.2 Mb]\n",
      "\n"
     ]
    },
    {
     "name": "stdout",
     "output_type": "stream",
     "text": [
      "38.12086  rules per sub-sample selected. 24 decisions in >= 7 subsets.\n",
      "57.18391  rules per sub-sample selected. 27 decisions in >= 7 subsets.\n",
      "[1]\ttrain-error:0.032604 \n",
      "[2]\ttrain-error:0.025151 \n",
      "[3]\ttrain-error:0.013041 \n",
      "[4]\ttrain-error:0.013041 \n",
      "[5]\ttrain-error:0.012576 \n",
      "[6]\ttrain-error:0.012110 \n",
      "[7]\ttrain-error:0.012110 \n",
      "[8]\ttrain-error:0.011178 \n",
      "[9]\ttrain-error:0.011178 \n",
      "[10]\ttrain-error:0.011178 \n"
     ]
    },
    {
     "name": "stderr",
     "output_type": "stream",
     "text": [
      "`summarise()` regrouping output by 'x' (override with `.groups` argument)\n",
      "\n",
      "Extract rules...\n",
      "\n",
      "Discretise data\n",
      "\n",
      "Discretise rules\n",
      "\n",
      "Starting 5 processes ...\n",
      "\n",
      "Running 10 calculations (10 objs/0.6 Mb common; 1 calls/chunk) ...\n",
      "\n",
      "\n",
      "[----------------------------------------------------]   0% (2/5 wrk) eta:  ?s\n",
      "\n",
      "[----------------------------------------------------]   0% (3/5 wrk) eta:  ?s\n",
      "\n",
      "[----------------------------------------------------]   0% (4/5 wrk) eta:  ?s\n",
      "\n",
      "[----------------------------------------------------]   0% (5/5 wrk) eta:  ?s\n",
      "\n",
      "[====>-----------------------------------------------]  10% (5/5 wrk) eta:  2m\n",
      "\n",
      "[=========>------------------------------------------]  20% (5/5 wrk) eta: 49s\n",
      "\n",
      "[===============>------------------------------------]  30% (5/5 wrk) eta: 30s\n",
      "\n",
      "[====================>-------------------------------]  40% (5/5 wrk) eta: 19s\n",
      "\n",
      "[=========================>--------------------------]  50% (5/5 wrk) eta: 13s\n",
      "\n",
      "[==============================>---------------------]  60% (5/5 wrk) eta: 14s\n",
      "\n",
      "[===================================>----------------]  70% (4/4 wrk) eta:  9s\n",
      "\n",
      "[=========================================>----------]  80% (4/4 wrk) eta:  5s\n",
      "\n",
      "[==============================================>-----]  90% (4/4 wrk) eta:  2s\n",
      "\n",
      "[====================================================] 100% (4/4 wrk) eta:  0s\n",
      "                                                                              \n",
      "\n",
      "Master: [22.8s 1.9% CPU]; Worker: [avg 22.8% CPU, max 517.1 Mb]\n",
      "\n"
     ]
    },
    {
     "name": "stdout",
     "output_type": "stream",
     "text": [
      "30.71807  rules per sub-sample selected. 22 decisions in >= 7 subsets.\n"
     ]
    }
   ],
   "source": [
    "#res <- lapply(fnames, FUN = wrapComp, data_ori = X, related_taxa=related_taxa\n",
    "#              , B = 100, lim = 100\n",
    "#              , times = 10, n_cores = 5, n_proc = 5 )"
   ]
  },
  {
   "cell_type": "code",
   "execution_count": 13,
   "metadata": {
    "ExecuteTime": {
     "end_time": "2021-11-23T15:57:08.236995Z",
     "start_time": "2021-11-23T15:57:07.269Z"
    },
    "hidden": true
   },
   "outputs": [],
   "source": [
    "res <- qread('../tmp/comparison_main.qs')"
   ]
  },
  {
   "cell_type": "markdown",
   "metadata": {
    "heading_collapsed": true
   },
   "source": [
    "# Get the ones ran separately"
   ]
  },
  {
   "cell_type": "code",
   "execution_count": 19,
   "metadata": {
    "ExecuteTime": {
     "end_time": "2021-11-23T16:29:13.077137Z",
     "start_time": "2021-11-23T16:29:12.195Z"
    },
    "hidden": true
   },
   "outputs": [],
   "source": [
    "res_sparcc <- qread('../tmp/comparison_sparcc.qs')"
   ]
  },
  {
   "cell_type": "code",
   "execution_count": 20,
   "metadata": {
    "ExecuteTime": {
     "end_time": "2021-11-23T16:29:14.216280Z",
     "start_time": "2021-11-23T16:29:13.679Z"
    },
    "hidden": true,
    "scrolled": true
   },
   "outputs": [
    {
     "data": {
      "text/html": [
       "50"
      ],
      "text/latex": [
       "50"
      ],
      "text/markdown": [
       "50"
      ],
      "text/plain": [
       "[1] 50"
      ]
     },
     "metadata": {},
     "output_type": "display_data"
    },
    {
     "data": {
      "text/html": [
       "50"
      ],
      "text/latex": [
       "50"
      ],
      "text/markdown": [
       "50"
      ],
      "text/plain": [
       "[1] 50"
      ]
     },
     "metadata": {},
     "output_type": "display_data"
    }
   ],
   "source": [
    "length(res)\n",
    "length(res_sparcc)"
   ]
  },
  {
   "cell_type": "code",
   "execution_count": 21,
   "metadata": {
    "ExecuteTime": {
     "end_time": "2021-11-23T16:29:17.317576Z",
     "start_time": "2021-11-23T16:29:16.332Z"
    },
    "hidden": true
   },
   "outputs": [],
   "source": [
    "res_glasso <- qread('../tmp/comparison_glasso.qs')"
   ]
  },
  {
   "cell_type": "code",
   "execution_count": 22,
   "metadata": {
    "ExecuteTime": {
     "end_time": "2021-11-23T16:29:18.058500Z",
     "start_time": "2021-11-23T16:29:17.516Z"
    },
    "hidden": true
   },
   "outputs": [
    {
     "data": {
      "text/html": [
       "50"
      ],
      "text/latex": [
       "50"
      ],
      "text/markdown": [
       "50"
      ],
      "text/plain": [
       "[1] 50"
      ]
     },
     "metadata": {},
     "output_type": "display_data"
    }
   ],
   "source": [
    "length(res_glasso)"
   ]
  },
  {
   "cell_type": "code",
   "execution_count": 23,
   "metadata": {
    "ExecuteTime": {
     "end_time": "2021-11-23T16:29:18.709157Z",
     "start_time": "2021-11-23T16:29:17.973Z"
    },
    "hidden": true
   },
   "outputs": [],
   "source": [
    "res_shaprf <- qread('../tmp/comparison_shapRF.qs')"
   ]
  },
  {
   "cell_type": "code",
   "execution_count": 24,
   "metadata": {
    "ExecuteTime": {
     "end_time": "2021-11-23T16:29:18.860062Z",
     "start_time": "2021-11-23T16:29:18.340Z"
    },
    "hidden": true
   },
   "outputs": [
    {
     "data": {
      "text/html": [
       "50"
      ],
      "text/latex": [
       "50"
      ],
      "text/markdown": [
       "50"
      ],
      "text/plain": [
       "[1] 50"
      ]
     },
     "metadata": {},
     "output_type": "display_data"
    }
   ],
   "source": [
    "length(res_shaprf)"
   ]
  },
  {
   "cell_type": "markdown",
   "metadata": {
    "heading_collapsed": true
   },
   "source": [
    "# format results"
   ]
  },
  {
   "cell_type": "code",
   "execution_count": 25,
   "metadata": {
    "ExecuteTime": {
     "end_time": "2021-11-23T16:29:20.752238Z",
     "start_time": "2021-11-23T16:29:20.230Z"
    },
    "hidden": true
   },
   "outputs": [],
   "source": [
    "crossRes <- function(x){\n",
    "    x <- do.call(rbind,x)\n",
    "    x <- x %>% group_by(fp) %>% summarise_all(mean) %>% \n",
    "            left_join( x %>% group_by(fp) %>% \n",
    "            summarise_all(sd), by = 'fp', suffix = c('_avg', '_sd'))\n",
    "    return(x)\n",
    "}"
   ]
  },
  {
   "cell_type": "code",
   "execution_count": 26,
   "metadata": {
    "ExecuteTime": {
     "end_time": "2021-11-23T16:29:20.954920Z",
     "start_time": "2021-11-23T16:29:20.427Z"
    },
    "hidden": true
   },
   "outputs": [
    {
     "data": {
      "text/plain": [
       "     nodes           edges       \n",
       " Min.   : 9.00   Min.   : 36.00  \n",
       " 1st Qu.:13.00   1st Qu.: 78.00  \n",
       " Median :14.00   Median : 91.00  \n",
       " Mean   :14.42   Mean   : 99.16  \n",
       " 3rd Qu.:16.00   3rd Qu.:120.00  \n",
       " Max.   :20.00   Max.   :190.00  "
      ]
     },
     "metadata": {},
     "output_type": "display_data"
    }
   ],
   "source": [
    "lims <- as.data.frame(t(sapply(res, function(x)c('nodes' = x$n_nodes, 'edges' = x$n_edges))))\n",
    "summary(lims)"
   ]
  },
  {
   "cell_type": "markdown",
   "metadata": {
    "heading_collapsed": true,
    "hidden": true
   },
   "source": [
    "## nodes"
   ]
  },
  {
   "cell_type": "code",
   "execution_count": 27,
   "metadata": {
    "ExecuteTime": {
     "end_time": "2021-11-23T16:29:30.596879Z",
     "start_time": "2021-11-23T16:29:30.027Z"
    },
    "hidden": true
   },
   "outputs": [],
   "source": [
    "rdm_nodes <- lapply(res, function(x)x$rdm_nodes)\n",
    "#rdm_nodes <- lapply(rdm_nodes, function(x){x$proba <- x$tp / (x$tp + x$fp);return(x)})\n",
    "rdm_nodes <- crossRes(rdm_nodes)\n",
    "rdm_nodes[is.na(rdm_nodes)] <- 0"
   ]
  },
  {
   "cell_type": "code",
   "execution_count": 28,
   "metadata": {
    "ExecuteTime": {
     "end_time": "2021-11-23T16:29:31.171097Z",
     "start_time": "2021-11-23T16:29:30.446Z"
    },
    "hidden": true
   },
   "outputs": [],
   "source": [
    "wil_res <- lapply(res, function(x)list(x$wil, x$tp_nodes))\n",
    "wil_interp <- lapply(wil_res, getInterpo, lim = ncol(X))\n",
    "wil_interp <- crossRes(wil_interp)"
   ]
  },
  {
   "cell_type": "code",
   "execution_count": 29,
   "metadata": {
    "ExecuteTime": {
     "end_time": "2021-11-23T16:29:31.339063Z",
     "start_time": "2021-11-23T16:29:30.686Z"
    },
    "hidden": true
   },
   "outputs": [],
   "source": [
    "gini_res <- lapply(res, function(x)list(x$gini, x$tp_nodes))\n",
    "gini_interp <- lapply(gini_res, getInterpo, lim = max(lims$nodes))\n",
    "gini_interp <- crossRes(gini_interp)"
   ]
  },
  {
   "cell_type": "code",
   "execution_count": 30,
   "metadata": {
    "ExecuteTime": {
     "end_time": "2021-11-23T16:29:32.670281Z",
     "start_time": "2021-11-23T16:29:32.051Z"
    },
    "hidden": true
   },
   "outputs": [],
   "source": [
    "ginixgboost_res <- lapply(res, function(x)list(x$gini_xgboost, x$tp_nodes))\n",
    "ginixgboost_interp <- lapply(ginixgboost_res, getInterpo, lim = max(lims$nodes))\n",
    "ginixgboost_interp <- crossRes(ginixgboost_interp)"
   ]
  },
  {
   "cell_type": "code",
   "execution_count": 31,
   "metadata": {
    "ExecuteTime": {
     "end_time": "2021-11-23T16:29:32.941318Z",
     "start_time": "2021-11-23T16:29:32.321Z"
    },
    "hidden": true
   },
   "outputs": [],
   "source": [
    "endorRF_nodes <- lapply(res, function(x)list(x$endoR$nodes, x$tp_nodes))\n",
    "endorRF_nodes <- lapply(endorRF_nodes, getInterpo, lim = max(lims$nodes))\n",
    "endorRF_nodes <- crossRes(endorRF_nodes)"
   ]
  },
  {
   "cell_type": "code",
   "execution_count": 32,
   "metadata": {
    "ExecuteTime": {
     "end_time": "2021-11-23T16:29:33.110927Z",
     "start_time": "2021-11-23T16:29:32.489Z"
    },
    "hidden": true
   },
   "outputs": [],
   "source": [
    "shapXGB_nodes <- lapply(res, function(x)list(x$SHAPxgboost$nodes, x$tp_nodes))\n",
    "shapXGB_nodes <- lapply(shapXGB_nodes, getInterpo, lim = max(lims$nodes))\n",
    "shapXGB_nodes <- crossRes(shapXGB_nodes)"
   ]
  },
  {
   "cell_type": "code",
   "execution_count": 33,
   "metadata": {
    "ExecuteTime": {
     "end_time": "2021-11-23T16:29:34.454732Z",
     "start_time": "2021-11-23T16:29:33.821Z"
    },
    "hidden": true
   },
   "outputs": [],
   "source": [
    "endorXGB_nodes <- lapply(res, function(x)list(x$endoRxgboost$pr_nodes, x$tp_nodes))\n",
    "endorXGB_nodes <- lapply(endorXGB_nodes, getInterpo, lim = max(lims$nodes))\n",
    "endorXGB_nodes <- crossRes(endorXGB_nodes)"
   ]
  },
  {
   "cell_type": "code",
   "execution_count": 34,
   "metadata": {
    "ExecuteTime": {
     "end_time": "2021-11-23T16:29:34.721201Z",
     "start_time": "2021-11-23T16:29:34.106Z"
    },
    "hidden": true
   },
   "outputs": [],
   "source": [
    "shapRF_nodes <- lapply(res_shaprf, function(x)list(x$nodes, x$tp_nodes))\n",
    "shapRF_nodes <- lapply(shapRF_nodes, getInterpo, lim = max(lims$nodes))\n",
    "shapRF_nodes <- crossRes(shapRF_nodes)"
   ]
  },
  {
   "cell_type": "code",
   "execution_count": 35,
   "metadata": {
    "ExecuteTime": {
     "end_time": "2021-11-23T16:29:34.802570Z",
     "start_time": "2021-11-23T16:29:34.272Z"
    },
    "hidden": true
   },
   "outputs": [],
   "source": [
    "nodes <- rbind(wil_interp %>% add_column(method = 'Wilcoxon rank-sum and \\u03C72 tests')\n",
    "               , gini_interp %>% add_column(method = 'Gini importance (RF model)')\n",
    "               , endorRF_nodes %>% add_column(method = 'endoR (RF model)')\n",
    "               , shapRF_nodes %>% add_column(method = 'SHAP (RF model)')\n",
    "               , ginixgboost_interp %>% add_column(method = 'Gini importance (xgboost model)')\n",
    "               , shapXGB_nodes %>% add_column(method = 'SHAP (xgboost model)')\n",
    "               , endorXGB_nodes %>% add_column(method = 'endoR (xgboost model)')\n",
    "               , rdm_nodes %>% add_column(method = 'Random')\n",
    "              )"
   ]
  },
  {
   "cell_type": "code",
   "execution_count": 36,
   "metadata": {
    "ExecuteTime": {
     "end_time": "2021-11-23T16:29:36.100307Z",
     "start_time": "2021-11-23T16:29:35.577Z"
    },
    "hidden": true
   },
   "outputs": [],
   "source": [
    "nodes$method <- factor(nodes$method\n",
    "                       , levels = c('endoR (RF model)', 'SHAP (RF model)', 'Gini importance (RF model)'\n",
    "                                    ,'endoR (xgboost model)','SHAP (xgboost model)'\n",
    "                                    ,'Gini importance (xgboost model)'\n",
    "                       ,'Wilcoxon rank-sum and \\u03C72 tests', 'Random'))"
   ]
  },
  {
   "cell_type": "code",
   "execution_count": 37,
   "metadata": {
    "ExecuteTime": {
     "end_time": "2021-11-23T16:29:36.350727Z",
     "start_time": "2021-11-23T16:29:35.816Z"
    },
    "hidden": true
   },
   "outputs": [
    {
     "data": {
      "text/plain": [
       "     nodes          edges     \n",
       " Min.   :8.00   Min.   :7.00  \n",
       " 1st Qu.:8.00   1st Qu.:9.00  \n",
       " Median :9.00   Median :9.00  \n",
       " Mean   :8.56   Mean   :8.92  \n",
       " 3rd Qu.:9.00   3rd Qu.:9.00  \n",
       " Max.   :9.00   Max.   :9.00  "
      ]
     },
     "metadata": {},
     "output_type": "display_data"
    }
   ],
   "source": [
    "tps <- as.data.frame(t(sapply(res, function(x)c('nodes' = x$tp_nodes, 'edges' = x$tp_edges))))\n",
    "summary(tps)"
   ]
  },
  {
   "cell_type": "code",
   "execution_count": 38,
   "metadata": {
    "ExecuteTime": {
     "end_time": "2021-11-23T16:29:37.880465Z",
     "start_time": "2021-11-23T16:29:37.361Z"
    },
    "hidden": true
   },
   "outputs": [],
   "source": [
    "cols <- c(\"#E69F00\", \"#56B4E9\", \"palegreen2\", \"#D55E00\", \"#0072B2\", \"#009E73\", \"#CC79A7\", 'grey')"
   ]
  },
  {
   "cell_type": "code",
   "execution_count": 39,
   "metadata": {
    "ExecuteTime": {
     "end_time": "2021-11-23T16:29:38.148442Z",
     "start_time": "2021-11-23T16:29:37.587Z"
    },
    "hidden": true
   },
   "outputs": [],
   "source": [
    "nodes_p <- ggplot(nodes %>% arrange(tp_avg) %>% subset(fp <= 12)\n",
    "       , aes(x = fp, y = tp_avg, color = method, group = method))+\n",
    "\n",
    "# number of tp\n",
    "#geom_hline(yintercept = mean(tps$nodes), color = 'lightgrey', linetype = 'dashed')+\n",
    "\n",
    "# results\n",
    "geom_ribbon(data = nodes %>% arrange(tp_avg) %>% subset(fp <= 12)\n",
    "    , aes(ymin = tp_avg - tp_sd/2, ymax = tp_avg + tp_sd/2, fill = method, group = method)\n",
    "    , color = NA, alpha = 0.25) +\n",
    "geom_line(data = nodes %>% arrange(tp_avg) %>% subset(fp <= 12)\n",
    "          , aes(x = fp, y = tp_avg, color = method, group = method), size = 1)+\n",
    "\n",
    "# add SHAP rf on top\n",
    "geom_line(size = 1.5)+\n",
    "geom_line(data = nodes %>% subset(fp <= 12 & method == 'SHAP (RF model)'), size = 1\n",
    "          , color = \"#56B4E9\")+\n",
    "geom_line(data = nodes %>% subset(fp <= 12 & method == 'endoR (xgboost model)'), size = 1\n",
    "          , color = \"#D55E00\")+\n",
    "\n",
    "theme_classic()+\n",
    "labs(x = 'Number of FP', y = 'Number of tp', title = 'Nodes')+\n",
    "scale_color_manual(values = cols, name = 'Method')+\n",
    "scale_fill_manual(values = cols, name = 'Method')+\n",
    "theme(legend.text = element_text(size = rel(1.2)), legend.title = element_text(size = rel(1.2)))"
   ]
  },
  {
   "cell_type": "code",
   "execution_count": 40,
   "metadata": {
    "ExecuteTime": {
     "end_time": "2021-11-23T16:29:39.045313Z",
     "start_time": "2021-11-23T16:29:37.781Z"
    },
    "hidden": true
   },
   "outputs": [
    {
     "data": {
      "image/png": "[encoded data removed]",
      "text/plain": [
       "plot without title"
      ]
     },
     "metadata": {
      "image/png": {
       "height": 240,
       "width": 480
      }
     },
     "output_type": "display_data"
    }
   ],
   "source": [
    "options(repr.plot.width=8, repr.plot.height=4)\n",
    "nodes_p"
   ]
  },
  {
   "cell_type": "markdown",
   "metadata": {
    "ExecuteTime": {
     "end_time": "2021-03-14T15:15:09.794242Z",
     "start_time": "2021-03-14T15:15:07.750Z"
    },
    "heading_collapsed": true,
    "hidden": true
   },
   "source": [
    "## edges"
   ]
  },
  {
   "cell_type": "code",
   "execution_count": 41,
   "metadata": {
    "ExecuteTime": {
     "end_time": "2021-11-23T16:29:43.619347Z",
     "start_time": "2021-11-23T16:29:43.060Z"
    },
    "hidden": true
   },
   "outputs": [],
   "source": [
    "rdm_edges <- lapply(res, function(x)x$rdm_edges)\n",
    "rdm_edges <- crossRes(rdm_edges)"
   ]
  },
  {
   "cell_type": "code",
   "execution_count": 42,
   "metadata": {
    "ExecuteTime": {
     "end_time": "2021-11-23T16:29:43.933905Z",
     "start_time": "2021-11-23T16:29:43.253Z"
    },
    "hidden": true
   },
   "outputs": [],
   "source": [
    "sparcc_edges <- lapply(res_sparcc, function(x)list(x$edges, x$tp_edges))\n",
    "sparcc_edges <- lapply(sparcc_edges, getInterpo, lim = max(lims$edges))\n",
    "sparcc_edges <- crossRes(sparcc_edges)"
   ]
  },
  {
   "cell_type": "code",
   "execution_count": 43,
   "metadata": {
    "ExecuteTime": {
     "end_time": "2021-11-23T16:29:44.069007Z",
     "start_time": "2021-11-23T16:29:43.420Z"
    },
    "hidden": true
   },
   "outputs": [],
   "source": [
    "glasso_edges <- lapply(res_glasso, function(x)list(x$edges, x$tp_edges))\n",
    "glasso_edges <- lapply(glasso_edges, getInterpo, lim = max(lims$edges))\n",
    "glasso_edges <- crossRes(glasso_edges)"
   ]
  },
  {
   "cell_type": "code",
   "execution_count": 44,
   "metadata": {
    "ExecuteTime": {
     "end_time": "2021-11-23T16:29:44.233963Z",
     "start_time": "2021-11-23T16:29:43.615Z"
    },
    "hidden": true
   },
   "outputs": [],
   "source": [
    "endorRF_edges <- lapply(res, function(x)list(x$endoR$edges, x$tp_edges))\n",
    "endorRF_edges <- lapply(endorRF_edges, getInterpo, lim = max(lims$edges))\n",
    "endorRF_edges <- crossRes(endorRF_edges)"
   ]
  },
  {
   "cell_type": "code",
   "execution_count": 45,
   "metadata": {
    "ExecuteTime": {
     "end_time": "2021-11-23T16:29:44.444457Z",
     "start_time": "2021-11-23T16:29:43.809Z"
    },
    "hidden": true
   },
   "outputs": [],
   "source": [
    "endorXGB_edges <- lapply(res, function(x)list(x$endoRxgboost$pr_edges, x$tp_edges))\n",
    "endorXGB_edges <- lapply(endorXGB_edges, getInterpo, lim = max(lims$edges))\n",
    "endorXGB_edges <- crossRes(endorXGB_edges)"
   ]
  },
  {
   "cell_type": "code",
   "execution_count": 46,
   "metadata": {
    "ExecuteTime": {
     "end_time": "2021-11-23T16:29:44.574795Z",
     "start_time": "2021-11-23T16:29:43.958Z"
    },
    "hidden": true
   },
   "outputs": [],
   "source": [
    "shapXGB_edges <- lapply(res, function(x)list(x$SHAPxgboost$edges, x$tp_edges))\n",
    "shapXGB_edges <- lapply(shapXGB_edges, getInterpo, lim = max(lims$edges))\n",
    "shapXGB_edges <- crossRes(shapXGB_edges)"
   ]
  },
  {
   "cell_type": "code",
   "execution_count": 47,
   "metadata": {
    "ExecuteTime": {
     "end_time": "2021-11-23T16:29:45.762442Z",
     "start_time": "2021-11-23T16:29:45.221Z"
    },
    "hidden": true
   },
   "outputs": [],
   "source": [
    "edges <- rbind(endorRF_edges %>% add_column(method = 'endoR (RF model)')\n",
    "              , endorXGB_edges %>% add_column(method = 'endoR (xgboost model)')\n",
    "              , shapXGB_edges %>% add_column(method = 'SHAP (xgboost model)')\n",
    "              , glasso_edges %>% add_column(method = 'gLASSO')\n",
    "              , sparcc_edges %>% add_column(method = 'sparCC')\n",
    "              , rdm_edges %>% add_column(method = 'Random') \n",
    "              )"
   ]
  },
  {
   "cell_type": "code",
   "execution_count": 48,
   "metadata": {
    "ExecuteTime": {
     "end_time": "2021-11-23T16:29:45.984783Z",
     "start_time": "2021-11-23T16:29:45.462Z"
    },
    "hidden": true
   },
   "outputs": [],
   "source": [
    "edges$method <- factor(edges$method\n",
    "                       , levels = c('endoR (RF model)','endoR (xgboost model)'\n",
    "                       ,'SHAP (xgboost model)', \"gLASSO\", 'sparCC', 'Random'))"
   ]
  },
  {
   "cell_type": "code",
   "execution_count": 49,
   "metadata": {
    "ExecuteTime": {
     "end_time": "2021-11-23T16:29:46.181230Z",
     "start_time": "2021-11-23T16:29:45.640Z"
    },
    "hidden": true
   },
   "outputs": [],
   "source": [
    "cols <- c(\"#E69F00\", \"#D55E00\", \"#0072B2\", \"#009E73\", \"#CC79A7\", 'grey')\n",
    "\n",
    "edges_p <- ggplot(edges %>% arrange(tp_avg) %>% subset(fp < 50)\n",
    "       , aes(x = fp, y = tp_avg, color = method, group = method))+\n",
    "\n",
    "# number of TP\n",
    "geom_hline(yintercept = mean(tps$edges), color = 'lightgrey', linetype = 'dashed')+\n",
    "  \n",
    "# res\n",
    "geom_ribbon(aes(ymin = tp_avg - tp_sd/2, ymax = tp_avg + tp_sd/2, fill = method)\n",
    "                , color = NA, alpha = 0.25) +\n",
    "\n",
    "geom_line(size = 1.5)+\n",
    "geom_line(data = edges %>% subset(fp < 50 & method == 'gLASSO'), size = 1.5\n",
    "          , color = \"#009E73\", linetype = 'dashed')+\n",
    "\n",
    "theme_classic()+\n",
    "labs(x = 'Number of FP', y = 'Number of TP', title = 'Edges')+\n",
    "scale_color_manual(values = cols, name = 'Method')+\n",
    "scale_fill_manual(values = cols, name = 'Method')+\n",
    "theme(legend.text = element_text(size = rel(1.2)), legend.title = element_text(size = rel(1.2)))"
   ]
  },
  {
   "cell_type": "code",
   "execution_count": 50,
   "metadata": {
    "ExecuteTime": {
     "end_time": "2021-11-23T16:29:48.190780Z",
     "start_time": "2021-11-23T16:29:47.125Z"
    },
    "hidden": true
   },
   "outputs": [
    {
     "data": {
      "image/png": "[encoded data removed]",
      "text/plain": [
       "plot without title"
      ]
     },
     "metadata": {
      "image/png": {
       "height": 240,
       "width": 360
      }
     },
     "output_type": "display_data"
    }
   ],
   "source": [
    "options(repr.plot.width=6, repr.plot.height=4)\n",
    "edges_p"
   ]
  },
  {
   "cell_type": "markdown",
   "metadata": {},
   "source": [
    "# check the XGBoost accuracy"
   ]
  },
  {
   "cell_type": "code",
   "execution_count": 51,
   "metadata": {
    "ExecuteTime": {
     "end_time": "2021-11-23T16:30:10.044478Z",
     "start_time": "2021-11-23T16:30:09.518Z"
    }
   },
   "outputs": [],
   "source": [
    "# could use confusionMatrix()\n",
    "getKappa <- function(x){\n",
    "    p0 <- (x[1,1] + x[2,2]) / sum(x)\n",
    "    py <- (x[1,1] + x[1,2])*(x[1,1] + x[2,1]) / sum(x)^2\n",
    "    pn <- (x[2,1] + x[2,2])*(x[1,2] + x[2,2]) / sum(x)^2\n",
    "    pe <- py+pn\n",
    "    \n",
    "    k <- 1 - (1-p0)/(1-pe)\n",
    "    return(k)\n",
    "}"
   ]
  },
  {
   "cell_type": "code",
   "execution_count": 96,
   "metadata": {
    "ExecuteTime": {
     "end_time": "2021-11-23T17:02:56.137583Z",
     "start_time": "2021-11-23T17:02:56.063Z"
    }
   },
   "outputs": [],
   "source": [
    "getXGBoostKappas <- function(i, fnames, res, seeds_f){\n",
    "    print(i)\n",
    "    simu <- qread(fnames[seeds_f == res[[i]]$seedOri])\n",
    "    \n",
    "    set.seed(res[[i]]$seedOri)\n",
    "    trainIx <- createDataPartition(y = simu$target, times = 10, p = .7, list = TRUE)\n",
    "    xgb_kappas <- sapply(trainIx, getSingleXGBkappa, model = res[[i]]$xgb_model\n",
    "                         , data = as.matrix(simu$data), target = ifelse(simu$target == '1', 1, 0))\n",
    "    \n",
    "    return(c('xgb_avg'= mean(xgb_kappas), 'xgb_sd'= sd(xgb_kappas)\n",
    "             , 'rf_avg' = simu$gamma_all[as.character(simu$gamma), 'meanK']\n",
    "             , 'rf_sd' = simu$gamma_all[as.character(simu$gamma), 'sdK']\n",
    "            ))\n",
    "}"
   ]
  },
  {
   "cell_type": "code",
   "execution_count": 97,
   "metadata": {
    "ExecuteTime": {
     "end_time": "2021-11-23T17:02:56.871041Z",
     "start_time": "2021-11-23T17:02:56.799Z"
    }
   },
   "outputs": [],
   "source": [
    "getSingleXGBkappa <- function(ix, model, data, target){\n",
    "    xgb_pred <- predict(object = model, data[ix, ])\n",
    "    xgb_pred <- as.matrix(table(round(xgb_pred, digits = 0), target[ix]))\n",
    "    return(getKappa(xgb_pred))\n",
    "}"
   ]
  },
  {
   "cell_type": "code",
   "execution_count": 98,
   "metadata": {
    "ExecuteTime": {
     "end_time": "2021-11-23T17:02:57.115985Z",
     "start_time": "2021-11-23T17:02:57.007Z"
    }
   },
   "outputs": [],
   "source": [
    "seeds_f <- str_extract(fnames, pattern = '[:digit:]*(?=\\\\_p0)') %>% as.numeric"
   ]
  },
  {
   "cell_type": "code",
   "execution_count": 99,
   "metadata": {
    "ExecuteTime": {
     "end_time": "2021-11-23T17:02:57.433844Z",
     "start_time": "2021-11-23T17:02:57.354Z"
    }
   },
   "outputs": [],
   "source": [
    "fnames <- list.files('/ebio/abt3_projects/temp_data/aruaud/MtgSimu50/p005_B10/', full.names = TRUE, pattern = 'simu')"
   ]
  },
  {
   "cell_type": "code",
   "execution_count": 101,
   "metadata": {
    "ExecuteTime": {
     "end_time": "2021-11-23T17:03:31.804269Z",
     "start_time": "2021-11-23T17:03:11.318Z"
    }
   },
   "outputs": [
    {
     "name": "stdout",
     "output_type": "stream",
     "text": [
      "[1] 1\n",
      "[1] 2\n",
      "[1] 3\n",
      "[1] 4\n",
      "[1] 5\n",
      "[1] 6\n",
      "[1] 7\n",
      "[1] 8\n",
      "[1] 9\n",
      "[1] 10\n",
      "[1] 11\n",
      "[1] 12\n",
      "[1] 13\n",
      "[1] 14\n",
      "[1] 15\n",
      "[1] 16\n",
      "[1] 17\n",
      "[1] 18\n",
      "[1] 19\n",
      "[1] 20\n",
      "[1] 21\n",
      "[1] 22\n",
      "[1] 23\n",
      "[1] 24\n",
      "[1] 25\n",
      "[1] 26\n",
      "[1] 27\n",
      "[1] 28\n",
      "[1] 29\n",
      "[1] 30\n",
      "[1] 31\n",
      "[1] 32\n",
      "[1] 33\n",
      "[1] 34\n",
      "[1] 35\n",
      "[1] 36\n",
      "[1] 37\n",
      "[1] 38\n",
      "[1] 39\n",
      "[1] 40\n",
      "[1] 41\n",
      "[1] 42\n",
      "[1] 43\n",
      "[1] 44\n",
      "[1] 45\n",
      "[1] 46\n",
      "[1] 47\n",
      "[1] 48\n",
      "[1] 49\n",
      "[1] 50\n"
     ]
    }
   ],
   "source": [
    "kappas <- lapply(1:length(res), getXGBoostKappas, fnames = fnames, res = res, seeds_f=seeds_f)"
   ]
  },
  {
   "cell_type": "code",
   "execution_count": 102,
   "metadata": {
    "ExecuteTime": {
     "end_time": "2021-11-23T17:03:31.822805Z",
     "start_time": "2021-11-23T17:03:29.990Z"
    }
   },
   "outputs": [],
   "source": [
    "kappas <- do.call(rbind, kappas)"
   ]
  },
  {
   "cell_type": "code",
   "execution_count": 103,
   "metadata": {
    "ExecuteTime": {
     "end_time": "2021-11-23T17:03:31.847225Z",
     "start_time": "2021-11-23T17:03:30.260Z"
    }
   },
   "outputs": [
    {
     "data": {
      "text/plain": [
       "    xgb_avg           xgb_sd             rf_avg           rf_sd        \n",
       " Min.   :0.9436   Min.   :0.002304   Min.   :0.8553   Min.   :0.01177  \n",
       " 1st Qu.:0.9643   1st Qu.:0.003192   1st Qu.:0.8897   1st Qu.:0.01885  \n",
       " Median :0.9718   Median :0.003610   Median :0.9041   Median :0.02212  \n",
       " Mean   :0.9702   Mean   :0.003711   Mean   :0.9059   Mean   :0.03048  \n",
       " 3rd Qu.:0.9761   3rd Qu.:0.004366   3rd Qu.:0.9261   3rd Qu.:0.03430  \n",
       " Max.   :0.9863   Max.   :0.005762   Max.   :0.9431   Max.   :0.13051  "
      ]
     },
     "metadata": {},
     "output_type": "display_data"
    }
   ],
   "source": [
    "kappas %>% summary"
   ]
  },
  {
   "cell_type": "code",
   "execution_count": null,
   "metadata": {},
   "outputs": [],
   "source": []
  }
 ],
 "metadata": {
  "kernelspec": {
   "display_name": "R [conda env:Metagenomes_methanogen-r-ml] *",
   "language": "R",
   "name": "conda-env-Metagenomes_methanogen-r-ml-r"
  },
  "language_info": {
   "codemirror_mode": "r",
   "file_extension": ".r",
   "mimetype": "text/x-r-source",
   "name": "R",
   "pygments_lexer": "r",
   "version": "4.0.3"
  },
  "notify_time": "30",
  "toc": {
   "base_numbering": 1,
   "nav_menu": {},
   "number_sections": true,
   "sideBar": true,
   "skip_h1_title": false,
   "title_cell": "Table of Contents",
   "title_sidebar": "Contents",
   "toc_cell": false,
   "toc_position": {},
   "toc_section_display": true,
   "toc_window_display": true
  }
 },
 "nbformat": 4,
 "nbformat_minor": 4
}
