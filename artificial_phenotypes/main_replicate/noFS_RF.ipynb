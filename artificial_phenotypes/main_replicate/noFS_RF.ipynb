{
 "cells": [
  {
   "cell_type": "markdown",
   "metadata": {
    "heading_collapsed": true
   },
   "source": [
    "# Preambule"
   ]
  },
  {
   "cell_type": "code",
   "execution_count": 1,
   "metadata": {
    "ExecuteTime": {
     "end_time": "2021-04-03T10:58:14.748630Z",
     "start_time": "2021-04-03T10:58:05.980Z"
    },
    "collapsed": true,
    "hidden": true
   },
   "outputs": [
    {
     "name": "stderr",
     "output_type": "stream",
     "text": [
      "── \u001b[1mAttaching packages\u001b[22m ───────────────────────────────────────────────────────────────────────────────────────────────────────────────────────────────────────────────────────────── tidyverse 1.3.0 ──\n",
      "\n",
      "\u001b[32m✔\u001b[39m \u001b[34mggplot2\u001b[39m 3.3.2     \u001b[32m✔\u001b[39m \u001b[34mpurrr  \u001b[39m 0.3.4\n",
      "\u001b[32m✔\u001b[39m \u001b[34mtibble \u001b[39m 3.0.4     \u001b[32m✔\u001b[39m \u001b[34mdplyr  \u001b[39m 1.0.2\n",
      "\u001b[32m✔\u001b[39m \u001b[34mtidyr  \u001b[39m 1.1.2     \u001b[32m✔\u001b[39m \u001b[34mstringr\u001b[39m 1.4.0\n",
      "\u001b[32m✔\u001b[39m \u001b[34mreadr  \u001b[39m 1.4.0     \u001b[32m✔\u001b[39m \u001b[34mforcats\u001b[39m 0.5.0\n",
      "\n",
      "── \u001b[1mConflicts\u001b[22m ──────────────────────────────────────────────────────────────────────────────────────────────────────────────────────────────────────────────────────────────── tidyverse_conflicts() ──\n",
      "\u001b[31m✖\u001b[39m \u001b[34mdplyr\u001b[39m::\u001b[32mfilter()\u001b[39m masks \u001b[34mstats\u001b[39m::filter()\n",
      "\u001b[31m✖\u001b[39m \u001b[34mdplyr\u001b[39m::\u001b[32mlag()\u001b[39m    masks \u001b[34mstats\u001b[39m::lag()\n",
      "\n",
      "Loading required package: lattice\n",
      "\n",
      "\n",
      "Attaching package: ‘caret’\n",
      "\n",
      "\n",
      "The following object is masked from ‘package:purrr’:\n",
      "\n",
      "    lift\n",
      "\n",
      "\n",
      "\n",
      "Attaching package: ‘data.table’\n",
      "\n",
      "\n",
      "The following objects are masked from ‘package:dplyr’:\n",
      "\n",
      "    between, first, last\n",
      "\n",
      "\n",
      "The following object is masked from ‘package:purrr’:\n",
      "\n",
      "    transpose\n",
      "\n",
      "\n",
      "randomForest 4.6-14\n",
      "\n",
      "Type rfNews() to see new features/changes/bug fixes.\n",
      "\n",
      "\n",
      "Attaching package: ‘randomForest’\n",
      "\n",
      "\n",
      "The following object is masked from ‘package:dplyr’:\n",
      "\n",
      "    combine\n",
      "\n",
      "\n",
      "The following object is masked from ‘package:ggplot2’:\n",
      "\n",
      "    margin\n",
      "\n",
      "\n",
      "qs v0.23.4.\n",
      "\n"
     ]
    }
   ],
   "source": [
    "library(tidyverse)\n",
    "library(stringr)\n",
    "library(caret)\n",
    "library(data.table)\n",
    "library(stringr)\n",
    "library(dplyr)\n",
    "library(randomForest)\n",
    "library(qs)\n",
    "library(parallel)"
   ]
  },
  {
   "cell_type": "code",
   "execution_count": 2,
   "metadata": {
    "ExecuteTime": {
     "end_time": "2021-04-03T10:58:19.170753Z",
     "start_time": "2021-04-03T10:58:13.716Z"
    },
    "hidden": true
   },
   "outputs": [
    {
     "data": {
      "text/plain": [
       "R version 4.0.3 (2020-10-10)\n",
       "Platform: x86_64-conda-linux-gnu (64-bit)\n",
       "Running under: Ubuntu 18.04.5 LTS\n",
       "\n",
       "Matrix products: default\n",
       "BLAS/LAPACK: /ebio/abt3_projects/Methanogen_SCFA/Metagenomes_methanogen/envs/r-ml/lib/libopenblasp-r0.3.10.so\n",
       "\n",
       "locale:\n",
       " [1] LC_CTYPE=en_US.UTF-8       LC_NUMERIC=C              \n",
       " [3] LC_TIME=en_US.UTF-8        LC_COLLATE=en_US.UTF-8    \n",
       " [5] LC_MONETARY=en_US.UTF-8    LC_MESSAGES=en_US.UTF-8   \n",
       " [7] LC_PAPER=en_US.UTF-8       LC_NAME=C                 \n",
       " [9] LC_ADDRESS=C               LC_TELEPHONE=C            \n",
       "[11] LC_MEASUREMENT=en_US.UTF-8 LC_IDENTIFICATION=C       \n",
       "\n",
       "attached base packages:\n",
       "[1] parallel  stats     graphics  grDevices utils     datasets  methods  \n",
       "[8] base     \n",
       "\n",
       "other attached packages:\n",
       " [1] qs_0.23.4           randomForest_4.6-14 data.table_1.13.4  \n",
       " [4] caret_6.0-86        lattice_0.20-41     forcats_0.5.0      \n",
       " [7] stringr_1.4.0       dplyr_1.0.2         purrr_0.3.4        \n",
       "[10] readr_1.4.0         tidyr_1.1.2         tibble_3.0.4       \n",
       "[13] ggplot2_3.3.2       tidyverse_1.3.0    \n",
       "\n",
       "loaded via a namespace (and not attached):\n",
       " [1] httr_1.4.2           jsonlite_1.7.2       splines_4.0.3       \n",
       " [4] foreach_1.5.1        prodlim_2019.11.13   modelr_0.1.8        \n",
       " [7] RcppParallel_5.0.2   assertthat_0.2.1     stats4_4.0.3        \n",
       "[10] cellranger_1.1.0     ipred_0.9-9          pillar_1.4.7        \n",
       "[13] backports_1.2.0      glue_1.4.2           pROC_1.16.2         \n",
       "[16] uuid_0.1-4           digest_0.6.27        rvest_0.3.6         \n",
       "[19] stringfish_0.14.2    colorspace_2.0-0     recipes_0.1.15      \n",
       "[22] htmltools_0.5.0      Matrix_1.2-18        plyr_1.8.6          \n",
       "[25] timeDate_3043.102    pkgconfig_2.0.3      broom_0.7.2         \n",
       "[28] haven_2.3.1          scales_1.1.1         gower_0.2.2         \n",
       "[31] RApiSerialize_0.1.0  lava_1.6.8.1         generics_0.1.0      \n",
       "[34] ellipsis_0.3.1       withr_2.3.0          repr_1.1.2.9000     \n",
       "[37] nnet_7.3-14          cli_2.2.0            survival_3.2-7      \n",
       "[40] magrittr_2.0.1       crayon_1.3.4         readxl_1.3.1        \n",
       "[43] evaluate_0.14        ps_1.5.0             fs_1.5.0            \n",
       "[46] fansi_0.4.1          nlme_3.1-150         MASS_7.3-53         \n",
       "[49] xml2_1.3.2           class_7.3-17         tools_4.0.3         \n",
       "[52] hms_0.5.3            lifecycle_0.2.0      munsell_0.5.0       \n",
       "[55] reprex_0.3.0         compiler_4.0.3       rlang_0.4.10        \n",
       "[58] grid_4.0.3           pbdZMQ_0.3-3.1       iterators_1.0.13    \n",
       "[61] IRkernel_1.1.1       rstudioapi_0.13      base64enc_0.1-3     \n",
       "[64] ModelMetrics_1.2.2.2 gtable_0.3.0         codetools_0.2-18    \n",
       "[67] DBI_1.1.0            reshape2_1.4.4       R6_2.5.0            \n",
       "[70] lubridate_1.7.9.2    stringi_1.5.3        IRdisplay_0.7.0     \n",
       "[73] Rcpp_1.0.5           vctrs_0.3.6          rpart_4.1-15        \n",
       "[76] dbplyr_2.0.0         tidyselect_1.1.0    "
      ]
     },
     "metadata": {},
     "output_type": "display_data"
    }
   ],
   "source": [
    "sessionInfo()"
   ]
  },
  {
   "cell_type": "markdown",
   "metadata": {},
   "source": [
    "# Data"
   ]
  },
  {
   "cell_type": "code",
   "execution_count": 3,
   "metadata": {
    "ExecuteTime": {
     "end_time": "2021-04-03T10:58:52.246921Z",
     "start_time": "2021-04-03T10:58:46.517Z"
    }
   },
   "outputs": [],
   "source": [
    "taxa <- qread('../data/taxa_table.qs')\n",
    "pp <- qread('../data/tax_meta.qs')"
   ]
  },
  {
   "cell_type": "code",
   "execution_count": 4,
   "metadata": {
    "ExecuteTime": {
     "end_time": "2021-04-03T10:58:52.498348Z",
     "start_time": "2021-04-03T10:58:47.115Z"
    }
   },
   "outputs": [
    {
     "data": {
      "text/html": [
       "<style>\n",
       ".list-inline {list-style: none; margin:0; padding: 0}\n",
       ".list-inline>li {display: inline-block}\n",
       ".list-inline>li:not(:last-child)::after {content: \"\\00b7\"; padding: 0 .5ex}\n",
       "</style>\n",
       "<ol class=list-inline><li>2147</li><li>2513</li></ol>\n"
      ],
      "text/latex": [
       "\\begin{enumerate*}\n",
       "\\item 2147\n",
       "\\item 2513\n",
       "\\end{enumerate*}\n"
      ],
      "text/markdown": [
       "1. 2147\n",
       "2. 2513\n",
       "\n",
       "\n"
      ],
      "text/plain": [
       "[1] 2147 2513"
      ]
     },
     "metadata": {},
     "output_type": "display_data"
    }
   ],
   "source": [
    "# remove the MetaCyc pathways\n",
    "to_rm <- seq(pp %>% colnames %>% str_which(pattern = '^[:lower:]\\\\_{1}') %>% max, ncol(pp), 1)\n",
    "pp <- pp[,-to_rm]\n",
    "pp %>% dim"
   ]
  },
  {
   "cell_type": "code",
   "execution_count": 5,
   "metadata": {
    "ExecuteTime": {
     "end_time": "2021-04-03T10:58:53.508357Z",
     "start_time": "2021-04-03T10:58:48.115Z"
    }
   },
   "outputs": [],
   "source": [
    "# remove the metadata\n",
    "meta <- c('dataset_name','Sample','age','gender','country','BMI','westernized')\n",
    "X <- select(pp, -all_of(meta))"
   ]
  },
  {
   "cell_type": "code",
   "execution_count": 6,
   "metadata": {
    "ExecuteTime": {
     "end_time": "2021-04-03T10:58:54.227814Z",
     "start_time": "2021-04-03T10:58:48.332Z"
    }
   },
   "outputs": [
    {
     "data": {
      "text/html": [
       "<style>\n",
       ".list-inline {list-style: none; margin:0; padding: 0}\n",
       ".list-inline>li {display: inline-block}\n",
       ".list-inline>li:not(:last-child)::after {content: \"\\00b7\"; padding: 0 .5ex}\n",
       "</style>\n",
       "<ol class=list-inline><li>2147</li><li>520</li></ol>\n"
      ],
      "text/latex": [
       "\\begin{enumerate*}\n",
       "\\item 2147\n",
       "\\item 520\n",
       "\\end{enumerate*}\n"
      ],
      "text/markdown": [
       "1. 2147\n",
       "2. 520\n",
       "\n",
       "\n"
      ],
      "text/plain": [
       "[1] 2147  520"
      ]
     },
     "metadata": {},
     "output_type": "display_data"
    }
   ],
   "source": [
    "# keep only taxa with prevalance > 24%\n",
    "tmp <- colnames(X)[which(colSums(X != 0) > nrow(X)/4)]\n",
    "X <- select(X, all_of(tmp))\n",
    "X %>% dim"
   ]
  },
  {
   "cell_type": "code",
   "execution_count": 7,
   "metadata": {
    "ExecuteTime": {
     "end_time": "2021-04-03T10:58:54.268572Z",
     "start_time": "2021-04-03T10:58:48.546Z"
    }
   },
   "outputs": [],
   "source": [
    "# shuffle samples\n",
    "set.seed(0)\n",
    "X <- X[complete.cases(X),][sample(1:nrow(X)),]"
   ]
  },
  {
   "cell_type": "markdown",
   "metadata": {},
   "source": [
    "# Make the target"
   ]
  },
  {
   "cell_type": "code",
   "execution_count": 8,
   "metadata": {
    "ExecuteTime": {
     "end_time": "2021-04-03T10:58:55.753298Z",
     "start_time": "2021-04-03T10:58:50.348Z"
    }
   },
   "outputs": [],
   "source": [
    "# draw random variables for predicting groups\n",
    "set.seed(1209)\n",
    "var_ix <- sample(which(colSums(X != 0) > nrow(X)/2), 9, replace = FALSE)\n",
    "var_n <- colnames(X)[var_ix]"
   ]
  },
  {
   "cell_type": "code",
   "execution_count": 9,
   "metadata": {
    "ExecuteTime": {
     "end_time": "2021-04-03T10:58:55.965129Z",
     "start_time": "2021-04-03T10:58:50.591Z"
    }
   },
   "outputs": [
    {
     "data": {
      "text/html": [
       "<style>\n",
       ".list-inline {list-style: none; margin:0; padding: 0}\n",
       ".list-inline>li {display: inline-block}\n",
       ".list-inline>li:not(:last-child)::after {content: \"\\00b7\"; padding: 0 .5ex}\n",
       "</style>\n",
       "<ol class=list-inline><li>'s_Marvinbryantia_sp900066075'</li><li>'g_Alistipes_A'</li><li>'f_Bacteroidaceae'</li><li>'g_Dialister'</li><li>'s_Oscillibacter_sp001916835'</li><li>'s_Bacteroides_clarus'</li><li>'s_Faecalibacterium_prausnitzii_G'</li><li>'s_Lawsonibacter_sp000177015'</li><li>'f_Anaerovoracaceae'</li></ol>\n"
      ],
      "text/latex": [
       "\\begin{enumerate*}\n",
       "\\item 's\\_Marvinbryantia\\_sp900066075'\n",
       "\\item 'g\\_Alistipes\\_A'\n",
       "\\item 'f\\_Bacteroidaceae'\n",
       "\\item 'g\\_Dialister'\n",
       "\\item 's\\_Oscillibacter\\_sp001916835'\n",
       "\\item 's\\_Bacteroides\\_clarus'\n",
       "\\item 's\\_Faecalibacterium\\_prausnitzii\\_G'\n",
       "\\item 's\\_Lawsonibacter\\_sp000177015'\n",
       "\\item 'f\\_Anaerovoracaceae'\n",
       "\\end{enumerate*}\n"
      ],
      "text/markdown": [
       "1. 's_Marvinbryantia_sp900066075'\n",
       "2. 'g_Alistipes_A'\n",
       "3. 'f_Bacteroidaceae'\n",
       "4. 'g_Dialister'\n",
       "5. 's_Oscillibacter_sp001916835'\n",
       "6. 's_Bacteroides_clarus'\n",
       "7. 's_Faecalibacterium_prausnitzii_G'\n",
       "8. 's_Lawsonibacter_sp000177015'\n",
       "9. 'f_Anaerovoracaceae'\n",
       "\n",
       "\n"
      ],
      "text/plain": [
       "[1] \"s_Marvinbryantia_sp900066075\"     \"g_Alistipes_A\"                   \n",
       "[3] \"f_Bacteroidaceae\"                 \"g_Dialister\"                     \n",
       "[5] \"s_Oscillibacter_sp001916835\"      \"s_Bacteroides_clarus\"            \n",
       "[7] \"s_Faecalibacterium_prausnitzii_G\" \"s_Lawsonibacter_sp000177015\"     \n",
       "[9] \"f_Anaerovoracaceae\"              "
      ]
     },
     "metadata": {},
     "output_type": "display_data"
    }
   ],
   "source": [
    "var_n"
   ]
  },
  {
   "cell_type": "code",
   "execution_count": 10,
   "metadata": {
    "ExecuteTime": {
     "end_time": "2021-04-03T10:58:56.348396Z",
     "start_time": "2021-04-03T10:58:50.955Z"
    }
   },
   "outputs": [],
   "source": [
    "nr <- nrow(X)\n",
    "ng <- floor(nr/4)\n",
    "# make groups\n",
    "X <- as.data.table(X)[,'group':=c(rep('a',ng), rep('b', ng), rep('c', ng), rep('d', nr-3*ng))]"
   ]
  },
  {
   "cell_type": "code",
   "execution_count": 11,
   "metadata": {
    "ExecuteTime": {
     "end_time": "2021-04-03T10:58:57.738685Z",
     "start_time": "2021-04-03T10:58:52.367Z"
    }
   },
   "outputs": [],
   "source": [
    "target <- data.frame('group'= X$group, 'tc'='1', stringsAsFactors = FALSE)"
   ]
  },
  {
   "cell_type": "code",
   "execution_count": 12,
   "metadata": {
    "ExecuteTime": {
     "end_time": "2021-04-03T10:58:58.006446Z",
     "start_time": "2021-04-03T10:58:52.626Z"
    }
   },
   "outputs": [],
   "source": [
    "# for each group, make target according to random drawn taxa of var_n\n",
    "target$tc[target$group == 'a'] <- ifelse( X$s_Marvinbryantia_sp900066075[target$group == 'a'] > 0 \n",
    "                                         & X$g_Alistipes_A[target$group == 'a'] > 0 \n",
    "                                         , '1', '-1')\n",
    "target$tc[target$group == 'b'] <- ifelse( X$f_Bacteroidaceae[target$group == 'b'] > 10^-(1) \n",
    "                                         & X$g_Dialister[target$group == 'b'] > 10^-(2.5)\n",
    "                                         , '1', '-1')\n",
    "target$tc[target$group == 'c'] <- ifelse((X$s_Oscillibacter_sp001916835[target$group == 'c'] > 0 \n",
    "                                         & X$s_Bacteroides_clarus[target$group == 'c'] > 0)\n",
    "                                         | X$s_Faecalibacterium_prausnitzii_G[target$group == 'c'] >10^-2\n",
    "                                         , '1', '-1')\n",
    "target$tc[target$group == 'd'] <- ifelse( X$s_Lawsonibacter_sp000177015[target$group == 'd'] <= 10^-3.4 \n",
    "                                         & X$f_Anaerovoracaceae[target$group == 'd'] > 0\n",
    "                                         , '1', '-1')"
   ]
  },
  {
   "cell_type": "code",
   "execution_count": 13,
   "metadata": {
    "ExecuteTime": {
     "end_time": "2021-04-03T10:58:58.207410Z",
     "start_time": "2021-04-03T10:58:52.831Z"
    },
    "scrolled": true
   },
   "outputs": [
    {
     "data": {
      "text/plain": [
       "    \n",
       "       a   b   c   d\n",
       "  -1 319 299 214 361\n",
       "  1  217 237 322 178"
      ]
     },
     "metadata": {},
     "output_type": "display_data"
    }
   ],
   "source": [
    "table(target$tc, target$group)"
   ]
  },
  {
   "cell_type": "code",
   "execution_count": 14,
   "metadata": {
    "ExecuteTime": {
     "end_time": "2021-04-03T10:59:00.023297Z",
     "start_time": "2021-04-03T10:58:54.043Z"
    }
   },
   "outputs": [],
   "source": [
    "# randomise group labels\n",
    "groups <- c('a', 'b', 'c', 'd', 'e')\n",
    "set.seed(0)\n",
    "brnounou <- rbinom(n = length(X$group), size = 1,prob = 0.05)\n",
    "for (i in 1:length(brnounou)){\n",
    "    if (brnounou[i] == 1){\n",
    "        set.seed(i)\n",
    "        X$group[i] <- sample(groups[groups != X$group[i]], 1)\n",
    "    }\n",
    "}"
   ]
  },
  {
   "cell_type": "code",
   "execution_count": 15,
   "metadata": {
    "ExecuteTime": {
     "end_time": "2021-04-03T10:59:00.038786Z",
     "start_time": "2021-04-03T10:58:54.481Z"
    }
   },
   "outputs": [
    {
     "data": {
      "text/plain": [
       "    \n",
       "       a   b   c   d   e\n",
       "  -1 312 296 226 347  12\n",
       "  1  219 232 318 175  10"
      ]
     },
     "metadata": {},
     "output_type": "display_data"
    }
   ],
   "source": [
    "table(target$tc, X$group)"
   ]
  },
  {
   "cell_type": "markdown",
   "metadata": {},
   "source": [
    "# Train "
   ]
  },
  {
   "cell_type": "markdown",
   "metadata": {},
   "source": [
    "## data"
   ]
  },
  {
   "cell_type": "code",
   "execution_count": 19,
   "metadata": {
    "ExecuteTime": {
     "end_time": "2021-04-03T10:59:45.706891Z",
     "start_time": "2021-04-03T10:59:40.327Z"
    }
   },
   "outputs": [],
   "source": [
    "target_c <- as.factor(target$tc)\n",
    "X <- X[, 'group':= as.factor(group)]"
   ]
  },
  {
   "cell_type": "code",
   "execution_count": 20,
   "metadata": {
    "ExecuteTime": {
     "end_time": "2021-04-03T10:59:46.515802Z",
     "start_time": "2021-04-03T10:59:40.770Z"
    }
   },
   "outputs": [],
   "source": [
    "# transform to dummy\n",
    "dummies <- dummyVars(~ ., data = X )\n",
    "dummies <- as.data.table(predict(dummies, newdata = X ))"
   ]
  },
  {
   "cell_type": "code",
   "execution_count": 21,
   "metadata": {
    "ExecuteTime": {
     "end_time": "2021-04-03T10:59:46.530565Z",
     "start_time": "2021-04-03T10:59:41.082Z"
    }
   },
   "outputs": [],
   "source": [
    "colnames(dummies) <- colnames(dummies) %>% str_replace_all(pattern = '\\\\.', replacement ='')"
   ]
  },
  {
   "cell_type": "code",
   "execution_count": 22,
   "metadata": {
    "ExecuteTime": {
     "end_time": "2021-04-03T10:59:52.989292Z",
     "start_time": "2021-04-03T10:59:47.592Z"
    }
   },
   "outputs": [],
   "source": [
    "set.seed(0)\n",
    "trainIx <- createDataPartition(y = target_c, times = 10, p = .7, list = TRUE)"
   ]
  },
  {
   "cell_type": "markdown",
   "metadata": {},
   "source": [
    "## go!"
   ]
  },
  {
   "cell_type": "code",
   "execution_count": 16,
   "metadata": {
    "ExecuteTime": {
     "end_time": "2021-04-03T10:59:20.318675Z",
     "start_time": "2021-04-03T10:59:14.848Z"
    }
   },
   "outputs": [],
   "source": [
    "library(clustermq)\n",
    "options(clustermq.scheduler = \"sge\", clustermq.template = \"~/.clustermq.tmpl\")\n",
    "tmpl <- list(conda = \"r-ml\", cores = 1, job_time = '00:59:00', job_mem = '1G')"
   ]
  },
  {
   "cell_type": "code",
   "execution_count": 17,
   "metadata": {
    "ExecuteTime": {
     "end_time": "2021-04-03T10:59:20.969611Z",
     "start_time": "2021-04-03T10:59:15.597Z"
    }
   },
   "outputs": [],
   "source": [
    "wf <- function(ix, data, target, ntree = 500){\n",
    "    set.seed(ix[1])\n",
    "    res <- list()\n",
    "    # RF\n",
    "    message('RF')\n",
    "    rf <- randomForest(x = data[ix,], y = target[ix], ntree = ntree)\n",
    "    pred <- predict(object = rf, newdata = data[-ix, ])\n",
    "    tmp <- confusionMatrix(data = pred, reference = target[-ix])\n",
    "    res$rf_performance <- tmp$overall\n",
    "    \n",
    "    return(res)\n",
    "}"
   ]
  },
  {
   "cell_type": "code",
   "execution_count": 31,
   "metadata": {
    "ExecuteTime": {
     "end_time": "2021-01-05T11:24:11.018215Z",
     "start_time": "2021-01-05T11:22:21.826Z"
    },
    "collapsed": true
   },
   "outputs": [
    {
     "name": "stderr",
     "output_type": "stream",
     "text": [
      "Warning message in (function (...) :\n",
      "“Common data is 8.7 Mb. Recommended limit is  (set by clustermq.data.warning option)”\n",
      "Submitting 8 worker jobs (ID: cmq6799) ...\n",
      "\n",
      "Running 10 calculations (3 objs/8.7 Mb common; 1 calls/chunk) ...\n",
      "\n",
      "\n",
      "[----------------------------------------------------]   0% (1/8 wrk) eta:  ?s\n",
      "\n",
      "[----------------------------------------------------]   0% (2/8 wrk) eta:  ?s\n",
      "\n",
      "[----------------------------------------------------]   0% (3/8 wrk) eta:  ?s\n",
      "\n",
      "[----------------------------------------------------]   0% (4/8 wrk) eta:  ?s\n",
      "\n",
      "[----------------------------------------------------]   0% (5/8 wrk) eta:  ?s\n",
      "\n",
      "[----------------------------------------------------]   0% (6/8 wrk) eta:  ?s\n",
      "\n",
      "[----------------------------------------------------]   0% (7/8 wrk) eta:  ?s\n",
      "\n",
      "[----------------------------------------------------]   0% (8/8 wrk) eta:  ?s\n",
      "\n",
      "[====>-----------------------------------------------]  10% (8/8 wrk) eta:  9m\n",
      "\n",
      "[=========>------------------------------------------]  20% (8/8 wrk) eta:  4m\n",
      "\n",
      "[===============>------------------------------------]  30% (8/8 wrk) eta:  2m\n",
      "\n",
      "[====================>-------------------------------]  40% (7/7 wrk) eta:  2m\n",
      "\n",
      "[=========================>--------------------------]  50% (6/6 wrk) eta:  1m\n",
      "\n",
      "[==============================>---------------------]  60% (6/6 wrk) eta: 42s\n",
      "\n",
      "[===================================>----------------]  70% (4/4 wrk) eta: 27s\n",
      "\n",
      "[=========================================>----------]  80% (4/4 wrk) eta: 16s\n",
      "\n",
      "[==============================================>-----]  90% (2/2 wrk) eta: 11s\n",
      "\n",
      "[====================================================] 100% (1/1 wrk) eta:  0s\n",
      "                                                                              \n",
      "\n",
      "Master: [108.4s 2.2% CPU]; Worker: [avg 99.8% CPU, max 531.3 Mb]\n",
      "\n"
     ]
    }
   ],
   "source": [
    "res <- Q(wf\n",
    "  , ix = trainIx\n",
    "  , const = list('data'= dummies, 'target' = target_c, 'ntree' = 500)\n",
    "  , n_jobs= 8\n",
    "  , pkgs=c('caret', 'randomForest', 'dplyr', 'RRF')\n",
    "  , log_worker=FALSE\n",
    "  , template = tmpl\n",
    " )"
   ]
  },
  {
   "cell_type": "code",
   "execution_count": 38,
   "metadata": {
    "ExecuteTime": {
     "end_time": "2021-01-05T11:25:22.731242Z",
     "start_time": "2021-01-05T11:25:22.380Z"
    }
   },
   "outputs": [],
   "source": [
    "all <- t(res %>% sapply(function(x){return(x$rf_performance)})) %>% \n",
    "            as.data.frame"
   ]
  },
  {
   "cell_type": "code",
   "execution_count": 41,
   "metadata": {
    "ExecuteTime": {
     "end_time": "2021-01-05T11:26:33.400694Z",
     "start_time": "2021-01-05T11:26:33.022Z"
    }
   },
   "outputs": [
    {
     "data": {
      "text/plain": [
       "    Accuracy          Kappa       \n",
       " Min.   :0.6781   Min.   :0.3360  \n",
       " 1st Qu.:0.6804   1st Qu.:0.3437  \n",
       " Median :0.6874   Median :0.3541  \n",
       " Mean   :0.6869   Mean   :0.3558  \n",
       " 3rd Qu.:0.6874   3rd Qu.:0.3602  \n",
       " Max.   :0.7030   Max.   :0.3860  "
      ]
     },
     "metadata": {},
     "output_type": "display_data"
    },
    {
     "data": {
      "text/html": [
       "<style>\n",
       ".dl-inline {width: auto; margin:0; padding: 0}\n",
       ".dl-inline>dt, .dl-inline>dd {float: none; width: auto; display: inline-block}\n",
       ".dl-inline>dt::after {content: \":\\0020\"; padding-right: .5ex}\n",
       ".dl-inline>dt:not(:first-of-type) {padding-left: .5ex}\n",
       "</style><dl class=dl-inline><dt>Accuracy</dt><dd>0.0083</dd><dt>Kappa</dt><dd>0.0168</dd></dl>\n"
      ],
      "text/latex": [
       "\\begin{description*}\n",
       "\\item[Accuracy] 0.0083\n",
       "\\item[Kappa] 0.0168\n",
       "\\end{description*}\n"
      ],
      "text/markdown": [
       "Accuracy\n",
       ":   0.0083Kappa\n",
       ":   0.0168\n",
       "\n"
      ],
      "text/plain": [
       "Accuracy    Kappa \n",
       "  0.0083   0.0168 "
      ]
     },
     "metadata": {},
     "output_type": "display_data"
    }
   ],
   "source": [
    "all %>% select(Accuracy, Kappa) %>% summary\n",
    "all %>% select(Accuracy, Kappa) %>% sapply(function(x){round(sd(x), digits = 4)})"
   ]
  }
 ],
 "metadata": {
  "kernelspec": {
   "display_name": "R [conda env:Metagenomes_methanogen-r-ml] *",
   "language": "R",
   "name": "conda-env-Metagenomes_methanogen-r-ml-r"
  },
  "language_info": {
   "codemirror_mode": "r",
   "file_extension": ".r",
   "mimetype": "text/x-r-source",
   "name": "R",
   "pygments_lexer": "r",
   "version": "4.0.3"
  },
  "notify_time": "30",
  "toc": {
   "base_numbering": 1,
   "nav_menu": {},
   "number_sections": true,
   "sideBar": true,
   "skip_h1_title": false,
   "title_cell": "Table of Contents",
   "title_sidebar": "Contents",
   "toc_cell": false,
   "toc_position": {
    "height": "calc(100% - 180px)",
    "left": "10px",
    "top": "150px",
    "width": "175.2px"
   },
   "toc_section_display": true,
   "toc_window_display": true
  }
 },
 "nbformat": 4,
 "nbformat_minor": 4
}
