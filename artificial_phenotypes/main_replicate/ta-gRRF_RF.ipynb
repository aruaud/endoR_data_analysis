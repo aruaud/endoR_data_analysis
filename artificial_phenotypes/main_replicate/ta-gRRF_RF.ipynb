{
 "cells": [
  {
   "cell_type": "markdown",
   "metadata": {},
   "source": [
    "# Preambule"
   ]
  },
  {
   "cell_type": "markdown",
   "metadata": {},
   "source": [
    "## libraries"
   ]
  },
  {
   "cell_type": "code",
   "execution_count": 1,
   "metadata": {
    "ExecuteTime": {
     "end_time": "2021-11-23T11:19:26.002315Z",
     "start_time": "2021-11-23T11:19:19.227Z"
    }
   },
   "outputs": [
    {
     "name": "stderr",
     "output_type": "stream",
     "text": [
      "── \u001b[1mAttaching packages\u001b[22m ────────────────────────────────────────────────────────────────────────────────────────────────────────────────────────────────────── tidyverse 1.3.0 ──\n",
      "\n",
      "\u001b[32m✔\u001b[39m \u001b[34mggplot2\u001b[39m 3.3.2     \u001b[32m✔\u001b[39m \u001b[34mpurrr  \u001b[39m 0.3.4\n",
      "\u001b[32m✔\u001b[39m \u001b[34mtibble \u001b[39m 3.0.4     \u001b[32m✔\u001b[39m \u001b[34mdplyr  \u001b[39m 1.0.2\n",
      "\u001b[32m✔\u001b[39m \u001b[34mtidyr  \u001b[39m 1.1.2     \u001b[32m✔\u001b[39m \u001b[34mstringr\u001b[39m 1.4.0\n",
      "\u001b[32m✔\u001b[39m \u001b[34mreadr  \u001b[39m 1.4.0     \u001b[32m✔\u001b[39m \u001b[34mforcats\u001b[39m 0.5.0\n",
      "\n",
      "── \u001b[1mConflicts\u001b[22m ───────────────────────────────────────────────────────────────────────────────────────────────────────────────────────────────────────── tidyverse_conflicts() ──\n",
      "\u001b[31m✖\u001b[39m \u001b[34mdplyr\u001b[39m::\u001b[32mfilter()\u001b[39m masks \u001b[34mstats\u001b[39m::filter()\n",
      "\u001b[31m✖\u001b[39m \u001b[34mdplyr\u001b[39m::\u001b[32mlag()\u001b[39m    masks \u001b[34mstats\u001b[39m::lag()\n",
      "\n",
      "Loading required package: lattice\n",
      "\n",
      "\n",
      "Attaching package: ‘caret’\n",
      "\n",
      "\n",
      "The following object is masked from ‘package:purrr’:\n",
      "\n",
      "    lift\n",
      "\n",
      "\n",
      "\n",
      "Attaching package: ‘data.table’\n",
      "\n",
      "\n",
      "The following objects are masked from ‘package:dplyr’:\n",
      "\n",
      "    between, first, last\n",
      "\n",
      "\n",
      "The following object is masked from ‘package:purrr’:\n",
      "\n",
      "    transpose\n",
      "\n",
      "\n",
      "randomForest 4.6-14\n",
      "\n",
      "Type rfNews() to see new features/changes/bug fixes.\n",
      "\n",
      "\n",
      "Attaching package: ‘randomForest’\n",
      "\n",
      "\n",
      "The following object is masked from ‘package:dplyr’:\n",
      "\n",
      "    combine\n",
      "\n",
      "\n",
      "The following object is masked from ‘package:ggplot2’:\n",
      "\n",
      "    margin\n",
      "\n",
      "\n",
      "qs v0.23.4.\n",
      "\n",
      "Registered S3 method overwritten by 'RRF':\n",
      "  method      from        \n",
      "  plot.margin randomForest\n",
      "\n",
      "RRF 1.9.1\n",
      "\n",
      "Type rrfNews() to see new features/changes/bug fixes.\n",
      "\n",
      "\n",
      "Attaching package: ‘RRF’\n",
      "\n",
      "\n",
      "The following objects are masked from ‘package:randomForest’:\n",
      "\n",
      "    classCenter, combine, getTree, grow, importance, margin, MDSplot,\n",
      "    na.roughfix, outlier, partialPlot, treesize, varImpPlot, varUsed\n",
      "\n",
      "\n",
      "The following object is masked from ‘package:dplyr’:\n",
      "\n",
      "    combine\n",
      "\n",
      "\n",
      "The following object is masked from ‘package:ggplot2’:\n",
      "\n",
      "    margin\n",
      "\n",
      "\n"
     ]
    }
   ],
   "source": [
    "library(tidyverse)\n",
    "library(stringr)\n",
    "library(caret)\n",
    "library(data.table)\n",
    "library(stringr)\n",
    "library(dplyr)\n",
    "library(randomForest)\n",
    "library(qs)\n",
    "library(parallel)\n",
    "library(clustermq)\n",
    "library(inTrees)\n",
    "library(RRF)"
   ]
  },
  {
   "cell_type": "code",
   "execution_count": 2,
   "metadata": {
    "ExecuteTime": {
     "end_time": "2021-11-23T11:19:26.167627Z",
     "start_time": "2021-11-23T11:19:20.692Z"
    }
   },
   "outputs": [
    {
     "data": {
      "text/plain": [
       "R version 4.0.3 (2020-10-10)\n",
       "Platform: x86_64-conda-linux-gnu (64-bit)\n",
       "Running under: Ubuntu 18.04.6 LTS\n",
       "\n",
       "Matrix products: default\n",
       "BLAS/LAPACK: /ebio/abt3_projects/Methanogen_SCFA/Metagenomes_methanogen/envs/r-ml/lib/libopenblasp-r0.3.10.so\n",
       "\n",
       "locale:\n",
       " [1] LC_CTYPE=en_US.UTF-8       LC_NUMERIC=C              \n",
       " [3] LC_TIME=en_US.UTF-8        LC_COLLATE=en_US.UTF-8    \n",
       " [5] LC_MONETARY=en_US.UTF-8    LC_MESSAGES=en_US.UTF-8   \n",
       " [7] LC_PAPER=en_US.UTF-8       LC_NAME=C                 \n",
       " [9] LC_ADDRESS=C               LC_TELEPHONE=C            \n",
       "[11] LC_MEASUREMENT=en_US.UTF-8 LC_IDENTIFICATION=C       \n",
       "\n",
       "attached base packages:\n",
       "[1] parallel  stats     graphics  grDevices utils     datasets  methods  \n",
       "[8] base     \n",
       "\n",
       "other attached packages:\n",
       " [1] RRF_1.9.1           inTrees_1.3         clustermq_0.8.95.1 \n",
       " [4] qs_0.23.4           randomForest_4.6-14 data.table_1.13.4  \n",
       " [7] caret_6.0-86        lattice_0.20-41     forcats_0.5.0      \n",
       "[10] stringr_1.4.0       dplyr_1.0.2         purrr_0.3.4        \n",
       "[13] readr_1.4.0         tidyr_1.1.2         tibble_3.0.4       \n",
       "[16] ggplot2_3.3.2       tidyverse_1.3.0    \n",
       "\n",
       "loaded via a namespace (and not attached):\n",
       " [1] nlme_3.1-150         fs_1.5.0             lubridate_1.7.9.2   \n",
       " [4] httr_1.4.2           repr_1.1.2.9000      tools_4.0.3         \n",
       " [7] backports_1.2.0      R6_2.5.0             rpart_4.1-15        \n",
       "[10] arules_1.6-6         DBI_1.1.0            colorspace_2.0-0    \n",
       "[13] nnet_7.3-14          gbm_2.1.8            withr_2.3.0         \n",
       "[16] tidyselect_1.1.0     compiler_4.0.3       cli_2.2.0           \n",
       "[19] rvest_0.3.6          xml2_1.3.2           stringfish_0.14.2   \n",
       "[22] scales_1.1.1         pbdZMQ_0.3-3.1       digest_0.6.27       \n",
       "[25] base64enc_0.1-3      pkgconfig_2.0.3      htmltools_0.5.0     \n",
       "[28] dbplyr_2.0.0         rlang_0.4.10         readxl_1.3.1        \n",
       "[31] rstudioapi_0.13      generics_0.1.0       RApiSerialize_0.1.0 \n",
       "[34] jsonlite_1.7.2       ModelMetrics_1.2.2.2 magrittr_2.0.1      \n",
       "[37] Matrix_1.2-18        Rcpp_1.0.5           IRkernel_1.1.1      \n",
       "[40] munsell_0.5.0        fansi_0.4.1          lifecycle_0.2.0     \n",
       "[43] stringi_1.5.3        pROC_1.16.2          MASS_7.3-53         \n",
       "[46] plyr_1.8.6           recipes_0.1.15       grid_4.0.3          \n",
       "[49] crayon_1.3.4         IRdisplay_0.7.0      haven_2.3.1         \n",
       "[52] splines_4.0.3        hms_0.5.3            ps_1.5.0            \n",
       "[55] pillar_1.4.7         ranger_0.12.1        uuid_0.1-4          \n",
       "[58] xgboost_1.2.0.1      reshape2_1.4.4       codetools_0.2-18    \n",
       "[61] stats4_4.0.3         reprex_0.3.0         glue_1.4.2          \n",
       "[64] evaluate_0.14        RcppParallel_5.0.2   modelr_0.1.8        \n",
       "[67] vctrs_0.3.6          foreach_1.5.1        cellranger_1.1.0    \n",
       "[70] gtable_0.3.0         assertthat_0.2.1     gower_0.2.2         \n",
       "[73] prodlim_2019.11.13   xtable_1.8-4         broom_0.7.2         \n",
       "[76] class_7.3-17         survival_3.2-7       timeDate_3043.102   \n",
       "[79] iterators_1.0.13     lava_1.6.8.1         ellipsis_0.3.1      \n",
       "[82] ipred_0.9-9         "
      ]
     },
     "metadata": {},
     "output_type": "display_data"
    }
   ],
   "source": [
    "sessionInfo()"
   ]
  },
  {
   "cell_type": "code",
   "execution_count": 3,
   "metadata": {
    "ExecuteTime": {
     "end_time": "2021-11-23T11:19:26.186938Z",
     "start_time": "2021-11-23T11:19:20.948Z"
    }
   },
   "outputs": [],
   "source": [
    "options(clustermq.scheduler = \"sge\", clustermq.template = \"~/.clustermq.tmpl\")"
   ]
  },
  {
   "cell_type": "markdown",
   "metadata": {},
   "source": [
    "# Data"
   ]
  },
  {
   "cell_type": "code",
   "execution_count": 4,
   "metadata": {
    "ExecuteTime": {
     "end_time": "2021-11-23T11:20:11.911711Z",
     "start_time": "2021-11-23T11:20:11.044Z"
    }
   },
   "outputs": [],
   "source": [
    "taxa <- qread('../data/taxa_table.qs')\n",
    "pp <- qread('../data/tax_meta.qs')"
   ]
  },
  {
   "cell_type": "code",
   "execution_count": 5,
   "metadata": {
    "ExecuteTime": {
     "end_time": "2021-11-23T11:20:11.948365Z",
     "start_time": "2021-11-23T11:20:11.526Z"
    }
   },
   "outputs": [
    {
     "data": {
      "text/html": [
       "<style>\n",
       ".list-inline {list-style: none; margin:0; padding: 0}\n",
       ".list-inline>li {display: inline-block}\n",
       ".list-inline>li:not(:last-child)::after {content: \"\\00b7\"; padding: 0 .5ex}\n",
       "</style>\n",
       "<ol class=list-inline><li>2147</li><li>2513</li></ol>\n"
      ],
      "text/latex": [
       "\\begin{enumerate*}\n",
       "\\item 2147\n",
       "\\item 2513\n",
       "\\end{enumerate*}\n"
      ],
      "text/markdown": [
       "1. 2147\n",
       "2. 2513\n",
       "\n",
       "\n"
      ],
      "text/plain": [
       "[1] 2147 2513"
      ]
     },
     "metadata": {},
     "output_type": "display_data"
    }
   ],
   "source": [
    "# remove the MetaCyc pathways\n",
    "to_rm <- seq(pp %>% colnames %>% str_which(pattern = '^[:lower:]\\\\_{1}') %>% max, ncol(pp), 1)\n",
    "pp <- pp[,-to_rm]\n",
    "pp %>% dim"
   ]
  },
  {
   "cell_type": "code",
   "execution_count": 6,
   "metadata": {
    "ExecuteTime": {
     "end_time": "2021-11-23T11:20:12.381351Z",
     "start_time": "2021-11-23T11:20:12.051Z"
    }
   },
   "outputs": [],
   "source": [
    "# remove the metadata\n",
    "meta <- c('dataset_name','Sample','age','gender','country','BMI','westernized')\n",
    "X <- select(pp, -all_of(meta))"
   ]
  },
  {
   "cell_type": "code",
   "execution_count": 7,
   "metadata": {
    "ExecuteTime": {
     "end_time": "2021-11-23T11:20:13.408048Z",
     "start_time": "2021-11-23T11:20:12.287Z"
    }
   },
   "outputs": [
    {
     "data": {
      "text/html": [
       "<style>\n",
       ".list-inline {list-style: none; margin:0; padding: 0}\n",
       ".list-inline>li {display: inline-block}\n",
       ".list-inline>li:not(:last-child)::after {content: \"\\00b7\"; padding: 0 .5ex}\n",
       "</style>\n",
       "<ol class=list-inline><li>2147</li><li>520</li></ol>\n"
      ],
      "text/latex": [
       "\\begin{enumerate*}\n",
       "\\item 2147\n",
       "\\item 520\n",
       "\\end{enumerate*}\n"
      ],
      "text/markdown": [
       "1. 2147\n",
       "2. 520\n",
       "\n",
       "\n"
      ],
      "text/plain": [
       "[1] 2147  520"
      ]
     },
     "metadata": {},
     "output_type": "display_data"
    }
   ],
   "source": [
    "# keep only taxa with prevalance > 24%\n",
    "tmp <- colnames(X)[which(colSums(X != 0) > nrow(X)/4)]\n",
    "X <- select(X, all_of(tmp))\n",
    "X %>% dim"
   ]
  },
  {
   "cell_type": "code",
   "execution_count": 8,
   "metadata": {
    "ExecuteTime": {
     "end_time": "2021-11-23T11:20:13.464694Z",
     "start_time": "2021-11-23T11:20:12.409Z"
    }
   },
   "outputs": [],
   "source": [
    "# shuffle samples\n",
    "set.seed(0)\n",
    "X <- X[complete.cases(X),][sample(1:nrow(X)),]"
   ]
  },
  {
   "cell_type": "markdown",
   "metadata": {
    "heading_collapsed": true
   },
   "source": [
    "# Make the target"
   ]
  },
  {
   "cell_type": "code",
   "execution_count": 9,
   "metadata": {
    "ExecuteTime": {
     "end_time": "2021-11-23T11:20:15.990444Z",
     "start_time": "2021-11-23T11:20:15.619Z"
    },
    "hidden": true
   },
   "outputs": [],
   "source": [
    "# draw random variables for predicting groups\n",
    "set.seed(1209)\n",
    "var_ix <- sample(which(colSums(X != 0) > nrow(X)/2), 9, replace = FALSE)\n",
    "var_n <- colnames(X)[var_ix]"
   ]
  },
  {
   "cell_type": "code",
   "execution_count": 10,
   "metadata": {
    "ExecuteTime": {
     "end_time": "2021-11-23T11:20:16.135781Z",
     "start_time": "2021-11-23T11:20:15.815Z"
    },
    "hidden": true
   },
   "outputs": [
    {
     "data": {
      "text/html": [
       "<style>\n",
       ".list-inline {list-style: none; margin:0; padding: 0}\n",
       ".list-inline>li {display: inline-block}\n",
       ".list-inline>li:not(:last-child)::after {content: \"\\00b7\"; padding: 0 .5ex}\n",
       "</style>\n",
       "<ol class=list-inline><li>'s_Marvinbryantia_sp900066075'</li><li>'g_Alistipes_A'</li><li>'f_Bacteroidaceae'</li><li>'g_Dialister'</li><li>'s_Oscillibacter_sp001916835'</li><li>'s_Bacteroides_clarus'</li><li>'s_Faecalibacterium_prausnitzii_G'</li><li>'s_Lawsonibacter_sp000177015'</li><li>'f_Anaerovoracaceae'</li></ol>\n"
      ],
      "text/latex": [
       "\\begin{enumerate*}\n",
       "\\item 's\\_Marvinbryantia\\_sp900066075'\n",
       "\\item 'g\\_Alistipes\\_A'\n",
       "\\item 'f\\_Bacteroidaceae'\n",
       "\\item 'g\\_Dialister'\n",
       "\\item 's\\_Oscillibacter\\_sp001916835'\n",
       "\\item 's\\_Bacteroides\\_clarus'\n",
       "\\item 's\\_Faecalibacterium\\_prausnitzii\\_G'\n",
       "\\item 's\\_Lawsonibacter\\_sp000177015'\n",
       "\\item 'f\\_Anaerovoracaceae'\n",
       "\\end{enumerate*}\n"
      ],
      "text/markdown": [
       "1. 's_Marvinbryantia_sp900066075'\n",
       "2. 'g_Alistipes_A'\n",
       "3. 'f_Bacteroidaceae'\n",
       "4. 'g_Dialister'\n",
       "5. 's_Oscillibacter_sp001916835'\n",
       "6. 's_Bacteroides_clarus'\n",
       "7. 's_Faecalibacterium_prausnitzii_G'\n",
       "8. 's_Lawsonibacter_sp000177015'\n",
       "9. 'f_Anaerovoracaceae'\n",
       "\n",
       "\n"
      ],
      "text/plain": [
       "[1] \"s_Marvinbryantia_sp900066075\"     \"g_Alistipes_A\"                   \n",
       "[3] \"f_Bacteroidaceae\"                 \"g_Dialister\"                     \n",
       "[5] \"s_Oscillibacter_sp001916835\"      \"s_Bacteroides_clarus\"            \n",
       "[7] \"s_Faecalibacterium_prausnitzii_G\" \"s_Lawsonibacter_sp000177015\"     \n",
       "[9] \"f_Anaerovoracaceae\"              "
      ]
     },
     "metadata": {},
     "output_type": "display_data"
    }
   ],
   "source": [
    "var_n"
   ]
  },
  {
   "cell_type": "code",
   "execution_count": 11,
   "metadata": {
    "ExecuteTime": {
     "end_time": "2021-11-23T11:20:16.300629Z",
     "start_time": "2021-11-23T11:20:15.978Z"
    },
    "hidden": true
   },
   "outputs": [],
   "source": [
    "nr <- nrow(X)\n",
    "ng <- floor(nr/4)\n",
    "# make groups\n",
    "X <- as.data.table(X)[,'group':=c(rep('a',ng), rep('b', ng), rep('c', ng), rep('d', nr-3*ng))]"
   ]
  },
  {
   "cell_type": "code",
   "execution_count": 12,
   "metadata": {
    "ExecuteTime": {
     "end_time": "2021-11-23T11:20:16.474164Z",
     "start_time": "2021-11-23T11:20:16.175Z"
    },
    "hidden": true
   },
   "outputs": [],
   "source": [
    "target <- data.frame('group'= X$group, 'tc'='1', stringsAsFactors = FALSE)"
   ]
  },
  {
   "cell_type": "code",
   "execution_count": 13,
   "metadata": {
    "ExecuteTime": {
     "end_time": "2021-11-23T11:20:18.070642Z",
     "start_time": "2021-11-23T11:20:17.765Z"
    },
    "hidden": true
   },
   "outputs": [],
   "source": [
    "# for each group, make target according to random drawn taxa of var_n\n",
    "target$tc[target$group == 'a'] <- ifelse( X$s_Marvinbryantia_sp900066075[target$group == 'a'] > 0 \n",
    "                                         & X$g_Alistipes_A[target$group == 'a'] > 0 \n",
    "                                         , '1', '-1')\n",
    "target$tc[target$group == 'b'] <- ifelse( X$f_Bacteroidaceae[target$group == 'b'] > 10^-(1) \n",
    "                                         & X$g_Dialister[target$group == 'b'] > 10^-(2.5)\n",
    "                                         , '1', '-1')\n",
    "target$tc[target$group == 'c'] <- ifelse((X$s_Oscillibacter_sp001916835[target$group == 'c'] > 0 \n",
    "                                         & X$s_Bacteroides_clarus[target$group == 'c'] > 0)\n",
    "                                         | X$s_Faecalibacterium_prausnitzii_G[target$group == 'c'] >10^-2\n",
    "                                         , '1', '-1')\n",
    "target$tc[target$group == 'd'] <- ifelse( X$s_Lawsonibacter_sp000177015[target$group == 'd'] <= 10^-3.4 \n",
    "                                         & X$f_Anaerovoracaceae[target$group == 'd'] > 0\n",
    "                                         , '1', '-1')"
   ]
  },
  {
   "cell_type": "code",
   "execution_count": 14,
   "metadata": {
    "ExecuteTime": {
     "end_time": "2021-11-23T11:20:18.257317Z",
     "start_time": "2021-11-23T11:20:17.959Z"
    },
    "hidden": true,
    "scrolled": true
   },
   "outputs": [
    {
     "data": {
      "text/plain": [
       "    \n",
       "       a   b   c   d\n",
       "  -1 319 299 214 361\n",
       "  1  217 237 322 178"
      ]
     },
     "metadata": {},
     "output_type": "display_data"
    }
   ],
   "source": [
    "table(target$tc, target$group)"
   ]
  },
  {
   "cell_type": "code",
   "execution_count": 15,
   "metadata": {
    "ExecuteTime": {
     "end_time": "2021-11-23T11:20:19.178121Z",
     "start_time": "2021-11-23T11:20:18.138Z"
    },
    "hidden": true
   },
   "outputs": [],
   "source": [
    "# randomise group labels\n",
    "groups <- c('a', 'b', 'c', 'd', 'e')\n",
    "set.seed(0)\n",
    "brnounou <- rbinom(n = length(X$group), size = 1,prob = 0.05)\n",
    "for (i in 1:length(brnounou)){\n",
    "    if (brnounou[i] == 1){\n",
    "        set.seed(i)\n",
    "        X$group[i] <- sample(groups[groups != X$group[i]], 1)\n",
    "    }\n",
    "}"
   ]
  },
  {
   "cell_type": "code",
   "execution_count": 16,
   "metadata": {
    "ExecuteTime": {
     "end_time": "2021-11-23T11:20:19.194779Z",
     "start_time": "2021-11-23T11:20:18.335Z"
    },
    "hidden": true
   },
   "outputs": [
    {
     "data": {
      "text/plain": [
       "    \n",
       "       a   b   c   d   e\n",
       "  -1 312 296 226 347  12\n",
       "  1  219 232 318 175  10"
      ]
     },
     "metadata": {},
     "output_type": "display_data"
    }
   ],
   "source": [
    "table(target$tc, X$group)"
   ]
  },
  {
   "cell_type": "markdown",
   "metadata": {},
   "source": [
    "# Get taxonomic lists"
   ]
  },
  {
   "cell_type": "code",
   "execution_count": 20,
   "metadata": {
    "ExecuteTime": {
     "end_time": "2021-11-23T14:30:07.920400Z",
     "start_time": "2021-11-23T14:30:07.346Z"
    }
   },
   "outputs": [],
   "source": [
    "source('../../Common_scripts//get_taxa_lists.R')"
   ]
  },
  {
   "cell_type": "code",
   "execution_count": 21,
   "metadata": {
    "ExecuteTime": {
     "end_time": "2021-11-23T14:30:57.207934Z",
     "start_time": "2021-11-23T14:30:55.811Z"
    }
   },
   "outputs": [
    {
     "name": "stderr",
     "output_type": "stream",
     "text": [
      "Warning message:\n",
      "“replacing previous import ‘data.table::last’ by ‘dplyr::last’ when loading ‘endoR’”\n",
      "Warning message:\n",
      "“replacing previous import ‘data.table::first’ by ‘dplyr::first’ when loading ‘endoR’”\n",
      "Warning message:\n",
      "“replacing previous import ‘data.table::between’ by ‘dplyr::between’ when loading ‘endoR’”\n",
      "Warning message:\n",
      "“replacing previous import ‘dplyr::union’ by ‘igraph::union’ when loading ‘endoR’”\n",
      "Warning message:\n",
      "“replacing previous import ‘dplyr::as_data_frame’ by ‘igraph::as_data_frame’ when loading ‘endoR’”\n",
      "Warning message:\n",
      "“replacing previous import ‘dplyr::groups’ by ‘igraph::groups’ when loading ‘endoR’”\n"
     ]
    }
   ],
   "source": [
    "tax_names <- taxa %>% select(f,g,s)\n",
    "tax_names$f <- endoR::compatibleNames(paste0('f_',tax_names$f))\n",
    "tax_names$g <- endoR::compatibleNames(paste0('g_',tax_names$g))\n",
    "tax_names$s <- endoR::compatibleNames(paste0('s_',tax_names$s))"
   ]
  },
  {
   "cell_type": "code",
   "execution_count": 22,
   "metadata": {
    "ExecuteTime": {
     "end_time": "2021-11-23T14:31:22.827061Z",
     "start_time": "2021-11-23T14:31:19.910Z"
    }
   },
   "outputs": [],
   "source": [
    "families <- lapply(unique(tax_names$f), getFamilies, tax_names = tax_names)\n",
    "names(families) <- unique(tax_names$f)\n",
    "genera <- lapply(unique(tax_names$g), getGenera, tax_names = tax_names)\n",
    "names(genera) <- unique(tax_names$g)\n",
    "species <- lapply(unique(tax_names$s), getSpecies, tax_names = tax_names)\n",
    "names(species) <- unique(tax_names$s)"
   ]
  },
  {
   "cell_type": "markdown",
   "metadata": {},
   "source": [
    "# Train "
   ]
  },
  {
   "cell_type": "markdown",
   "metadata": {},
   "source": [
    "## data"
   ]
  },
  {
   "cell_type": "code",
   "execution_count": 23,
   "metadata": {
    "ExecuteTime": {
     "end_time": "2021-11-23T14:31:32.295192Z",
     "start_time": "2021-11-23T14:31:31.699Z"
    }
   },
   "outputs": [],
   "source": [
    "target_c <- as.factor(target$tc)\n",
    "X <- X[, 'group':= as.factor(group)]"
   ]
  },
  {
   "cell_type": "code",
   "execution_count": 24,
   "metadata": {
    "ExecuteTime": {
     "end_time": "2021-11-23T14:31:33.164201Z",
     "start_time": "2021-11-23T14:31:32.134Z"
    }
   },
   "outputs": [],
   "source": [
    "# transform to dummy\n",
    "dummies <- dummyVars(~ ., data = X )\n",
    "dummies <- as.data.table(predict(dummies, newdata = X ))"
   ]
  },
  {
   "cell_type": "code",
   "execution_count": 25,
   "metadata": {
    "ExecuteTime": {
     "end_time": "2021-11-23T14:31:33.180257Z",
     "start_time": "2021-11-23T14:31:32.420Z"
    }
   },
   "outputs": [],
   "source": [
    "colnames(dummies) <- colnames(dummies) %>% str_replace_all(pattern = '\\\\.', replacement ='')"
   ]
  },
  {
   "cell_type": "markdown",
   "metadata": {},
   "source": [
    "## CV"
   ]
  },
  {
   "cell_type": "code",
   "execution_count": 26,
   "metadata": {
    "ExecuteTime": {
     "end_time": "2021-11-23T14:31:49.660027Z",
     "start_time": "2021-11-23T14:31:49.082Z"
    }
   },
   "outputs": [],
   "source": [
    "tmpl <- list(conda = \"r-ml\", cores = 1, job_time = '00:59:00', job_mem = '1G')"
   ]
  },
  {
   "cell_type": "code",
   "execution_count": 27,
   "metadata": {
    "ExecuteTime": {
     "end_time": "2021-11-23T14:31:54.704114Z",
     "start_time": "2021-11-23T14:31:54.114Z"
    }
   },
   "outputs": [],
   "source": [
    "wf <- function(ix, data, target, families, genera, species, ntree = 500, gamma = 1, k = 0.5){\n",
    "    set.seed(ix[1])\n",
    "    res <- list()\n",
    "    \n",
    "    # Feature selection\n",
    "    message('Feature selection')\n",
    "    RF <- RRF(data[ix,], flagReg=0, as.factor(target[ix]))\n",
    "    regterm <- data.frame(Feature = names(RF$importance[,\"MeanDecreaseGini\"])\n",
    "                     , imp = RF$importance[,\"MeanDecreaseGini\"])\n",
    "    # normalization across all features\n",
    "    regterm$imp_norm <- (regterm$imp - min(regterm$imp))/(max(regterm$imp) - min(regterm$imp))\n",
    "    # normalization per branch\n",
    "    regterm$imp_tax <- NA\n",
    "    regterm$mb <- NA\n",
    "    for (x in regterm$Feature){\n",
    "        tmp <- unique(c(families[[x]], genera[[x]], species[[x]]))\n",
    "        ib <- which(regterm$Feature %in% tmp)\n",
    "        if (length(ib) == 0) next\n",
    "        mb <- max(regterm$imp[ib])\n",
    "\n",
    "        ib <- which(regterm$Feature == x)\n",
    "        regterm$mb[ib] <- mb\n",
    "        regterm$imp_tax[ib] <- regterm$imp[ib] / mb\n",
    "    }\n",
    "    regterm$imp_tax <- ifelse(is.na(regterm$imp_tax), regterm$imp_norm, regterm$imp_tax)\n",
    "    # regularization term\n",
    "    regterm$lambda <- (1-gamma) + gamma*regterm$imp_norm^(1-k)*regterm$imp_tax^k\n",
    "    GRRF <- RRF(data[ix,], as.factor(target[ix]), flagReg=1, coefReg=regterm$lambda)\n",
    "    \n",
    "    \n",
    "    # Select data\n",
    "    message('Subset data')\n",
    "    to_keep <- colnames(data)[GRRF$feaSet]\n",
    "    X_fs <- select(data, all_of(to_keep))\n",
    "    res$confirmed <- to_keep\n",
    "    \n",
    "    # RF\n",
    "    message('RF')\n",
    "    rf_fs <- randomForest(x = X_fs[ix,], y = target[ix], ntree = ntree)\n",
    "    pred <- predict(object = rf_fs, newdata = X_fs[-ix, ])\n",
    "    tmp <- confusionMatrix(data = pred, reference = target[-ix])\n",
    "    res$rf_performance <- tmp$overall\n",
    "    \n",
    "    return(res)\n",
    "}"
   ]
  },
  {
   "cell_type": "code",
   "execution_count": 28,
   "metadata": {
    "ExecuteTime": {
     "end_time": "2021-11-23T14:32:04.730588Z",
     "start_time": "2021-11-23T14:32:04.144Z"
    }
   },
   "outputs": [],
   "source": [
    "gammaTuning <- function(trainIx, data, target, families, genera, species, gamma = 1, k = seq(0,1,0.25), ntree = 500){\n",
    "    res <- list()\n",
    "    for (kk in k){\n",
    "        res[[as.character(kk)]] <- lapply(trainIx, wf, data=data, target=target\n",
    "                                          , families = families, genera = genera, species = species\n",
    "                                          , gamma=gamma, k = kk, ntree=ntree)\n",
    "    }\n",
    "    return(res)\n",
    "}"
   ]
  },
  {
   "cell_type": "code",
   "execution_count": 29,
   "metadata": {
    "ExecuteTime": {
     "end_time": "2021-11-23T14:32:07.287555Z",
     "start_time": "2021-11-23T14:32:06.676Z"
    }
   },
   "outputs": [],
   "source": [
    "set.seed(0)\n",
    "trainIx <- createDataPartition(y = target_c, times = 10, p = .7, list = TRUE)"
   ]
  },
  {
   "cell_type": "code",
   "execution_count": 30,
   "metadata": {
    "ExecuteTime": {
     "end_time": "2021-11-23T14:32:16.839031Z",
     "start_time": "2021-11-23T14:32:16.247Z"
    }
   },
   "outputs": [],
   "source": [
    "gammas <- seq(0,1, by = 0.05)\n",
    "ks <- seq(0,1,0.25)"
   ]
  },
  {
   "cell_type": "code",
   "execution_count": 33,
   "metadata": {
    "ExecuteTime": {
     "end_time": "2020-12-16T10:36:43.334574Z",
     "start_time": "2020-12-16T10:17:43.060Z"
    },
    "collapsed": true
   },
   "outputs": [
    {
     "name": "stderr",
     "output_type": "stream",
     "text": [
      "Warning message in (function (...) :\n",
      "“Common data is 8.7 Mb. Recommended limit is  (set by clustermq.data.warning option)”\n",
      "Submitting 21 worker jobs (ID: cmq6799) ...\n",
      "\n",
      "Running 21 calculations (5 objs/8.7 Mb common; 1 calls/chunk) ...\n",
      "\n",
      "\n",
      "[---------------------------------------------------]   0% (1/21 wrk) eta:  ?s\n",
      "\n",
      "[---------------------------------------------------]   0% (2/21 wrk) eta:  ?s\n",
      "\n",
      "[---------------------------------------------------]   0% (3/21 wrk) eta:  ?s\n",
      "\n",
      "[---------------------------------------------------]   0% (4/21 wrk) eta:  ?s\n",
      "\n",
      "[---------------------------------------------------]   0% (5/21 wrk) eta:  ?s\n",
      "\n",
      "[---------------------------------------------------]   0% (6/21 wrk) eta:  ?s\n",
      "\n",
      "[---------------------------------------------------]   0% (7/21 wrk) eta:  ?s\n",
      "\n",
      "[---------------------------------------------------]   0% (8/21 wrk) eta:  ?s\n",
      "\n",
      "[---------------------------------------------------]   0% (9/21 wrk) eta:  ?s\n",
      "\n",
      "[--------------------------------------------------]   0% (10/21 wrk) eta:  ?s\n",
      "\n",
      "[--------------------------------------------------]   0% (11/21 wrk) eta:  ?s\n",
      "\n",
      "[--------------------------------------------------]   0% (12/21 wrk) eta:  ?s\n",
      "\n",
      "[--------------------------------------------------]   0% (13/21 wrk) eta:  ?s\n",
      "\n",
      "[--------------------------------------------------]   0% (14/21 wrk) eta:  ?s\n",
      "\n",
      "[--------------------------------------------------]   0% (15/21 wrk) eta:  ?s\n",
      "\n",
      "[--------------------------------------------------]   0% (16/21 wrk) eta:  ?s\n",
      "\n",
      "[--------------------------------------------------]   0% (17/21 wrk) eta:  ?s\n",
      "\n",
      "[--------------------------------------------------]   0% (18/21 wrk) eta:  ?s\n",
      "\n",
      "[--------------------------------------------------]   0% (19/21 wrk) eta:  ?s\n",
      "\n",
      "[--------------------------------------------------]   0% (20/21 wrk) eta:  ?s\n",
      "\n",
      "[--------------------------------------------------]   0% (21/21 wrk) eta:  ?s\n",
      "\n",
      "[=>------------------------------------------------]   5% (21/21 wrk) eta:  2h\n",
      "\n",
      "[====>---------------------------------------------]  10% (20/20 wrk) eta:  1h\n",
      "\n",
      "[======>-------------------------------------------]  14% (19/19 wrk) eta: 44m\n",
      "\n",
      "[=========>----------------------------------------]  19% (18/18 wrk) eta: 32m\n",
      "\n",
      "[===========>--------------------------------------]  24% (17/17 wrk) eta: 24m\n",
      "\n",
      "[=============>------------------------------------]  29% (16/16 wrk) eta: 20m\n",
      "\n",
      "[================>---------------------------------]  33% (15/15 wrk) eta: 16m\n",
      "\n",
      "[==================>-------------------------------]  38% (14/14 wrk) eta: 13m\n",
      "\n",
      "[====================>-----------------------------]  43% (13/13 wrk) eta: 11m\n",
      "\n",
      "[=======================>--------------------------]  48% (12/12 wrk) eta: 10m\n",
      "\n",
      "[=========================>------------------------]  52% (11/11 wrk) eta:  8m\n",
      "\n",
      "[============================>---------------------]  57% (10/10 wrk) eta:  7m\n",
      "\n",
      "[===============================>--------------------]  62% (9/9 wrk) eta:  6m\n",
      "\n",
      "[==================================>-----------------]  67% (8/8 wrk) eta:  5m\n",
      "\n",
      "[====================================>---------------]  71% (7/7 wrk) eta:  4m\n",
      "\n",
      "[=======================================>------------]  76% (6/6 wrk) eta:  3m\n",
      "\n",
      "[=========================================>----------]  81% (5/5 wrk) eta:  3m\n",
      "\n",
      "[============================================>-------]  86% (4/4 wrk) eta:  2m\n",
      "\n",
      "[==============================================>-----]  90% (3/3 wrk) eta:  1m\n",
      "\n",
      "[=================================================>--]  95% (2/2 wrk) eta: 43s\n",
      "\n",
      "[====================================================] 100% (1/1 wrk) eta:  0s\n",
      "                                                                              \n",
      "\n",
      "Master: [1139.3s 0.3% CPU]; Worker: [avg 100.0% CPU, max 569.6 Mb]\n",
      "\n"
     ]
    }
   ],
   "source": [
    "res <- Q(gammaTuning\n",
    "  , gamma = gammas\n",
    "  , const = list('data'= dummies, 'target' = target_c, 'trainIx' = trainIx\n",
    "                 , 'families' = families, 'genera' = genera, 'species' = species\n",
    "                 , 'k' = ks, 'ntree' = 500)\n",
    "  , export = list('wf' = wf)\n",
    "  , n_jobs= length(gammas)\n",
    "  , pkgs=c('caret', 'randomForest', 'dplyr', 'RRF')\n",
    "  , log_worker=FALSE\n",
    "  , template = tmpl\n",
    " )"
   ]
  },
  {
   "cell_type": "markdown",
   "metadata": {},
   "source": [
    "# Results"
   ]
  },
  {
   "cell_type": "code",
   "execution_count": 25,
   "metadata": {
    "ExecuteTime": {
     "end_time": "2021-04-02T12:58:39.463668Z",
     "start_time": "2021-04-02T12:58:39.110Z"
    }
   },
   "outputs": [],
   "source": [
    "all <- list()\n",
    "for (i in 1:length(res)){\n",
    "    all[[i]] <- list()\n",
    "    for (j in 1:length(res[[i]])){\n",
    "        tmp <- t(sapply(res[[i]][[j]], function(x){return(x$rf_performance)}))\n",
    "        tmp <- data.frame(meanAcc = mean(tmp[,1]), sdAcc = sd(tmp[,1])\n",
    "                          , meanK = mean(tmp[,2]), sdK = sd(tmp[,2]), ks = ks[j])\n",
    "        all[[i]][[j]] <- tmp\n",
    "    }\n",
    "    all[[i]] <- do.call(rbind, all[[i]])\n",
    "    all[[i]]$gamma <- gammas[i]\n",
    "}\n",
    "all <- do.call(rbind, all)"
   ]
  },
  {
   "cell_type": "code",
   "execution_count": 44,
   "metadata": {
    "ExecuteTime": {
     "end_time": "2021-02-22T16:57:05.018437Z",
     "start_time": "2021-02-22T16:57:04.739Z"
    },
    "scrolled": true
   },
   "outputs": [
    {
     "data": {
      "text/html": [
       "<table class=\"dataframe\">\n",
       "<caption>A tibble: 5 × 6</caption>\n",
       "<thead>\n",
       "\t<tr><th scope=col>ks</th><th scope=col>meanAcc</th><th scope=col>sdAcc</th><th scope=col>meanK</th><th scope=col>sdK</th><th scope=col>gamma</th></tr>\n",
       "\t<tr><th scope=col>&lt;dbl&gt;</th><th scope=col>&lt;dbl&gt;</th><th scope=col>&lt;dbl&gt;</th><th scope=col>&lt;dbl&gt;</th><th scope=col>&lt;dbl&gt;</th><th scope=col>&lt;dbl&gt;</th></tr>\n",
       "</thead>\n",
       "<tbody>\n",
       "\t<tr><td>0.00</td><td>0.7814782</td><td>0.03154637</td><td>0.5525106</td><td>0.06493909</td><td>0.5</td></tr>\n",
       "\t<tr><td>0.25</td><td>0.6759017</td><td>0.01527241</td><td>0.3353188</td><td>0.03161351</td><td>0.5</td></tr>\n",
       "\t<tr><td>0.50</td><td>0.6752722</td><td>0.01455877</td><td>0.3333558</td><td>0.03010379</td><td>0.5</td></tr>\n",
       "\t<tr><td>0.75</td><td>0.6738132</td><td>0.01201444</td><td>0.3296025</td><td>0.02468818</td><td>0.5</td></tr>\n",
       "\t<tr><td>1.00</td><td>0.6665630</td><td>0.01118714</td><td>0.3135224</td><td>0.02221691</td><td>0.5</td></tr>\n",
       "</tbody>\n",
       "</table>\n"
      ],
      "text/latex": [
       "A tibble: 5 × 6\n",
       "\\begin{tabular}{llllll}\n",
       " ks & meanAcc & sdAcc & meanK & sdK & gamma\\\\\n",
       " <dbl> & <dbl> & <dbl> & <dbl> & <dbl> & <dbl>\\\\\n",
       "\\hline\n",
       "\t 0.00 & 0.7814782 & 0.03154637 & 0.5525106 & 0.06493909 & 0.5\\\\\n",
       "\t 0.25 & 0.6759017 & 0.01527241 & 0.3353188 & 0.03161351 & 0.5\\\\\n",
       "\t 0.50 & 0.6752722 & 0.01455877 & 0.3333558 & 0.03010379 & 0.5\\\\\n",
       "\t 0.75 & 0.6738132 & 0.01201444 & 0.3296025 & 0.02468818 & 0.5\\\\\n",
       "\t 1.00 & 0.6665630 & 0.01118714 & 0.3135224 & 0.02221691 & 0.5\\\\\n",
       "\\end{tabular}\n"
      ],
      "text/markdown": [
       "\n",
       "A tibble: 5 × 6\n",
       "\n",
       "| ks &lt;dbl&gt; | meanAcc &lt;dbl&gt; | sdAcc &lt;dbl&gt; | meanK &lt;dbl&gt; | sdK &lt;dbl&gt; | gamma &lt;dbl&gt; |\n",
       "|---|---|---|---|---|---|\n",
       "| 0.00 | 0.7814782 | 0.03154637 | 0.5525106 | 0.06493909 | 0.5 |\n",
       "| 0.25 | 0.6759017 | 0.01527241 | 0.3353188 | 0.03161351 | 0.5 |\n",
       "| 0.50 | 0.6752722 | 0.01455877 | 0.3333558 | 0.03010379 | 0.5 |\n",
       "| 0.75 | 0.6738132 | 0.01201444 | 0.3296025 | 0.02468818 | 0.5 |\n",
       "| 1.00 | 0.6665630 | 0.01118714 | 0.3135224 | 0.02221691 | 0.5 |\n",
       "\n"
      ],
      "text/plain": [
       "  ks   meanAcc   sdAcc      meanK     sdK        gamma\n",
       "1 0.00 0.7814782 0.03154637 0.5525106 0.06493909 0.5  \n",
       "2 0.25 0.6759017 0.01527241 0.3353188 0.03161351 0.5  \n",
       "3 0.50 0.6752722 0.01455877 0.3333558 0.03010379 0.5  \n",
       "4 0.75 0.6738132 0.01201444 0.3296025 0.02468818 0.5  \n",
       "5 1.00 0.6665630 0.01118714 0.3135224 0.02221691 0.5  "
      ]
     },
     "metadata": {},
     "output_type": "display_data"
    }
   ],
   "source": [
    "all %>% group_by(ks) %>% summarise_all(mean)"
   ]
  },
  {
   "cell_type": "code",
   "execution_count": 49,
   "metadata": {
    "ExecuteTime": {
     "end_time": "2021-02-23T16:56:23.186909Z",
     "start_time": "2021-02-23T16:56:23.119Z"
    }
   },
   "outputs": [
    {
     "data": {
      "text/html": [
       "<table class=\"dataframe\">\n",
       "<caption>A data.frame: 6 × 6</caption>\n",
       "<thead>\n",
       "\t<tr><th></th><th scope=col>meanAcc</th><th scope=col>sdAcc</th><th scope=col>meanK</th><th scope=col>sdK</th><th scope=col>ks</th><th scope=col>gamma</th></tr>\n",
       "\t<tr><th></th><th scope=col>&lt;dbl&gt;</th><th scope=col>&lt;dbl&gt;</th><th scope=col>&lt;dbl&gt;</th><th scope=col>&lt;dbl&gt;</th><th scope=col>&lt;dbl&gt;</th><th scope=col>&lt;dbl&gt;</th></tr>\n",
       "</thead>\n",
       "<tbody>\n",
       "\t<tr><th scope=row>1</th><td>0.7306376</td><td>0.03185376</td><td>0.4449608</td><td>0.06526011</td><td>0.25</td><td>0.25</td></tr>\n",
       "\t<tr><th scope=row>2</th><td>0.7297045</td><td>0.02737052</td><td>0.4434044</td><td>0.05731672</td><td>0.25</td><td>0.20</td></tr>\n",
       "\t<tr><th scope=row>3</th><td>0.7283048</td><td>0.01515033</td><td>0.4411198</td><td>0.03150921</td><td>0.25</td><td>0.15</td></tr>\n",
       "\t<tr><th scope=row>4</th><td>0.7214619</td><td>0.01205664</td><td>0.4266573</td><td>0.02483762</td><td>0.50</td><td>0.15</td></tr>\n",
       "\t<tr><th scope=row>5</th><td>0.7150855</td><td>0.01462228</td><td>0.4140012</td><td>0.03114154</td><td>0.25</td><td>0.10</td></tr>\n",
       "\t<tr><th scope=row>6</th><td>0.7138414</td><td>0.01415915</td><td>0.4113256</td><td>0.02816726</td><td>0.75</td><td>0.15</td></tr>\n",
       "</tbody>\n",
       "</table>\n"
      ],
      "text/latex": [
       "A data.frame: 6 × 6\n",
       "\\begin{tabular}{r|llllll}\n",
       "  & meanAcc & sdAcc & meanK & sdK & ks & gamma\\\\\n",
       "  & <dbl> & <dbl> & <dbl> & <dbl> & <dbl> & <dbl>\\\\\n",
       "\\hline\n",
       "\t1 & 0.7306376 & 0.03185376 & 0.4449608 & 0.06526011 & 0.25 & 0.25\\\\\n",
       "\t2 & 0.7297045 & 0.02737052 & 0.4434044 & 0.05731672 & 0.25 & 0.20\\\\\n",
       "\t3 & 0.7283048 & 0.01515033 & 0.4411198 & 0.03150921 & 0.25 & 0.15\\\\\n",
       "\t4 & 0.7214619 & 0.01205664 & 0.4266573 & 0.02483762 & 0.50 & 0.15\\\\\n",
       "\t5 & 0.7150855 & 0.01462228 & 0.4140012 & 0.03114154 & 0.25 & 0.10\\\\\n",
       "\t6 & 0.7138414 & 0.01415915 & 0.4113256 & 0.02816726 & 0.75 & 0.15\\\\\n",
       "\\end{tabular}\n"
      ],
      "text/markdown": [
       "\n",
       "A data.frame: 6 × 6\n",
       "\n",
       "| <!--/--> | meanAcc &lt;dbl&gt; | sdAcc &lt;dbl&gt; | meanK &lt;dbl&gt; | sdK &lt;dbl&gt; | ks &lt;dbl&gt; | gamma &lt;dbl&gt; |\n",
       "|---|---|---|---|---|---|---|\n",
       "| 1 | 0.7306376 | 0.03185376 | 0.4449608 | 0.06526011 | 0.25 | 0.25 |\n",
       "| 2 | 0.7297045 | 0.02737052 | 0.4434044 | 0.05731672 | 0.25 | 0.20 |\n",
       "| 3 | 0.7283048 | 0.01515033 | 0.4411198 | 0.03150921 | 0.25 | 0.15 |\n",
       "| 4 | 0.7214619 | 0.01205664 | 0.4266573 | 0.02483762 | 0.50 | 0.15 |\n",
       "| 5 | 0.7150855 | 0.01462228 | 0.4140012 | 0.03114154 | 0.25 | 0.10 |\n",
       "| 6 | 0.7138414 | 0.01415915 | 0.4113256 | 0.02816726 | 0.75 | 0.15 |\n",
       "\n"
      ],
      "text/plain": [
       "  meanAcc   sdAcc      meanK     sdK        ks   gamma\n",
       "1 0.7306376 0.03185376 0.4449608 0.06526011 0.25 0.25 \n",
       "2 0.7297045 0.02737052 0.4434044 0.05731672 0.25 0.20 \n",
       "3 0.7283048 0.01515033 0.4411198 0.03150921 0.25 0.15 \n",
       "4 0.7214619 0.01205664 0.4266573 0.02483762 0.50 0.15 \n",
       "5 0.7150855 0.01462228 0.4140012 0.03114154 0.25 0.10 \n",
       "6 0.7138414 0.01415915 0.4113256 0.02816726 0.75 0.15 "
      ]
     },
     "metadata": {},
     "output_type": "display_data"
    }
   ],
   "source": [
    "all %>% subset(ks>0) %>% arrange(-meanK) %>% head"
   ]
  },
  {
   "cell_type": "markdown",
   "metadata": {},
   "source": [
    "# FS all data"
   ]
  },
  {
   "cell_type": "code",
   "execution_count": 58,
   "metadata": {
    "ExecuteTime": {
     "end_time": "2021-02-23T17:02:43.552424Z",
     "start_time": "2021-02-23T17:02:43.481Z"
    }
   },
   "outputs": [],
   "source": [
    "gamma <- 0.25; k <- 0.25"
   ]
  },
  {
   "cell_type": "code",
   "execution_count": 51,
   "metadata": {
    "ExecuteTime": {
     "end_time": "2021-02-23T17:01:51.278997Z",
     "start_time": "2021-02-23T17:01:01.754Z"
    }
   },
   "outputs": [],
   "source": [
    "RF <- RRF(dummies, flagReg=0, as.factor(target_c))\n",
    "regterm <- data.frame(Feature = names(RF$importance[,\"MeanDecreaseGini\"])\n",
    " , imp = RF$importance[,\"MeanDecreaseGini\"])"
   ]
  },
  {
   "cell_type": "code",
   "execution_count": 52,
   "metadata": {
    "ExecuteTime": {
     "end_time": "2021-02-23T17:01:51.294752Z",
     "start_time": "2021-02-23T17:01:03.915Z"
    }
   },
   "outputs": [],
   "source": [
    "# normalization across all features\n",
    "regterm$imp_norm <- (regterm$imp - min(regterm$imp))/(max(regterm$imp) - min(regterm$imp))"
   ]
  },
  {
   "cell_type": "code",
   "execution_count": 56,
   "metadata": {
    "ExecuteTime": {
     "end_time": "2021-02-23T17:02:21.747674Z",
     "start_time": "2021-02-23T17:02:21.582Z"
    }
   },
   "outputs": [],
   "source": [
    "# normalization per branch\n",
    "regterm$imp_tax <- NA\n",
    "regterm$mb <- NA\n",
    "for (x in regterm$Feature){\n",
    "    tmp <- unique(c(families[[x]], genera[[x]], species[[x]]))\n",
    "    ib <- which(regterm$Feature %in% tmp)\n",
    "    if (length(ib) == 0) next\n",
    "    mb <- max(regterm$imp[ib])\n",
    "\n",
    "    ib <- which(regterm$Feature == x)\n",
    "    regterm$mb[ib] <- mb\n",
    "    regterm$imp_tax[ib] <- regterm$imp[ib] / mb\n",
    "}\n",
    "regterm$imp_tax <- ifelse(is.na(regterm$imp_tax), regterm$imp_norm, regterm$imp_tax)"
   ]
  },
  {
   "cell_type": "code",
   "execution_count": 59,
   "metadata": {
    "ExecuteTime": {
     "end_time": "2021-02-23T17:03:32.370767Z",
     "start_time": "2021-02-23T17:02:45.069Z"
    }
   },
   "outputs": [],
   "source": [
    "# regularization term\n",
    "regterm$lambda <- (1-gamma) + gamma*regterm$imp_norm^(1-k)*regterm$imp_tax^k\n",
    "GRRF <- RRF(dummies, as.factor(target_c), flagReg=1, coefReg=regterm$lambda)"
   ]
  },
  {
   "cell_type": "code",
   "execution_count": 60,
   "metadata": {
    "ExecuteTime": {
     "end_time": "2021-02-23T17:03:32.394803Z",
     "start_time": "2021-02-23T17:02:47.723Z"
    }
   },
   "outputs": [
    {
     "name": "stderr",
     "output_type": "stream",
     "text": [
      "Subset data\n",
      "\n"
     ]
    },
    {
     "data": {
      "text/html": [
       "75"
      ],
      "text/latex": [
       "75"
      ],
      "text/markdown": [
       "75"
      ],
      "text/plain": [
       "[1] 75"
      ]
     },
     "metadata": {},
     "output_type": "display_data"
    }
   ],
   "source": [
    "# Select data\n",
    "message('Subset data')\n",
    "to_keep <- colnames(dummies)[GRRF$feaSet]\n",
    "length(to_keep)"
   ]
  },
  {
   "cell_type": "code",
   "execution_count": null,
   "metadata": {},
   "outputs": [],
   "source": []
  }
 ],
 "metadata": {
  "kernelspec": {
   "display_name": "R [conda env:Metagenomes_methanogen-r-ml] *",
   "language": "R",
   "name": "conda-env-Metagenomes_methanogen-r-ml-r"
  },
  "language_info": {
   "codemirror_mode": "r",
   "file_extension": ".r",
   "mimetype": "text/x-r-source",
   "name": "R",
   "pygments_lexer": "r",
   "version": "4.0.3"
  },
  "notify_time": "30",
  "toc": {
   "base_numbering": 1,
   "nav_menu": {},
   "number_sections": true,
   "sideBar": true,
   "skip_h1_title": false,
   "title_cell": "Table of Contents",
   "title_sidebar": "Contents",
   "toc_cell": false,
   "toc_position": {
    "height": "calc(100% - 180px)",
    "left": "10px",
    "top": "150px",
    "width": "175.2px"
   },
   "toc_section_display": true,
   "toc_window_display": true
  }
 },
 "nbformat": 4,
 "nbformat_minor": 4
}
