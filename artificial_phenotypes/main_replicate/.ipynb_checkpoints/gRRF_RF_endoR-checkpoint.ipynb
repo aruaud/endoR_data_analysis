{
 "cells": [
  {
   "cell_type": "markdown",
   "metadata": {},
   "source": [
    "# Preambule"
   ]
  },
  {
   "cell_type": "code",
   "execution_count": 1,
   "metadata": {
    "ExecuteTime": {
     "end_time": "2021-11-23T14:41:18.004554Z",
     "start_time": "2021-11-23T14:41:13.218Z"
    }
   },
   "outputs": [
    {
     "name": "stderr",
     "output_type": "stream",
     "text": [
      "── \u001b[1mAttaching packages\u001b[22m ────────────────────────────────────────────────────────────────────────────────────────────────────────────────────────────────────── tidyverse 1.3.0 ──\n",
      "\n",
      "\u001b[32m✔\u001b[39m \u001b[34mggplot2\u001b[39m 3.3.2     \u001b[32m✔\u001b[39m \u001b[34mpurrr  \u001b[39m 0.3.4\n",
      "\u001b[32m✔\u001b[39m \u001b[34mtibble \u001b[39m 3.0.4     \u001b[32m✔\u001b[39m \u001b[34mdplyr  \u001b[39m 1.0.2\n",
      "\u001b[32m✔\u001b[39m \u001b[34mtidyr  \u001b[39m 1.1.2     \u001b[32m✔\u001b[39m \u001b[34mstringr\u001b[39m 1.4.0\n",
      "\u001b[32m✔\u001b[39m \u001b[34mreadr  \u001b[39m 1.4.0     \u001b[32m✔\u001b[39m \u001b[34mforcats\u001b[39m 0.5.0\n",
      "\n",
      "── \u001b[1mConflicts\u001b[22m ───────────────────────────────────────────────────────────────────────────────────────────────────────────────────────────────────────── tidyverse_conflicts() ──\n",
      "\u001b[31m✖\u001b[39m \u001b[34mdplyr\u001b[39m::\u001b[32mfilter()\u001b[39m masks \u001b[34mstats\u001b[39m::filter()\n",
      "\u001b[31m✖\u001b[39m \u001b[34mdplyr\u001b[39m::\u001b[32mlag()\u001b[39m    masks \u001b[34mstats\u001b[39m::lag()\n",
      "\n",
      "Loading required package: lattice\n",
      "\n",
      "\n",
      "Attaching package: ‘caret’\n",
      "\n",
      "\n",
      "The following object is masked from ‘package:purrr’:\n",
      "\n",
      "    lift\n",
      "\n",
      "\n",
      "\n",
      "Attaching package: ‘data.table’\n",
      "\n",
      "\n",
      "The following objects are masked from ‘package:dplyr’:\n",
      "\n",
      "    between, first, last\n",
      "\n",
      "\n",
      "The following object is masked from ‘package:purrr’:\n",
      "\n",
      "    transpose\n",
      "\n",
      "\n",
      "randomForest 4.6-14\n",
      "\n",
      "Type rfNews() to see new features/changes/bug fixes.\n",
      "\n",
      "\n",
      "Attaching package: ‘randomForest’\n",
      "\n",
      "\n",
      "The following object is masked from ‘package:dplyr’:\n",
      "\n",
      "    combine\n",
      "\n",
      "\n",
      "The following object is masked from ‘package:ggplot2’:\n",
      "\n",
      "    margin\n",
      "\n",
      "\n",
      "qs v0.23.4.\n",
      "\n",
      "\n",
      "Attaching package: ‘igraph’\n",
      "\n",
      "\n",
      "The following objects are masked from ‘package:dplyr’:\n",
      "\n",
      "    as_data_frame, groups, union\n",
      "\n",
      "\n",
      "The following objects are masked from ‘package:purrr’:\n",
      "\n",
      "    compose, simplify\n",
      "\n",
      "\n",
      "The following object is masked from ‘package:tidyr’:\n",
      "\n",
      "    crossing\n",
      "\n",
      "\n",
      "The following object is masked from ‘package:tibble’:\n",
      "\n",
      "    as_data_frame\n",
      "\n",
      "\n",
      "The following objects are masked from ‘package:stats’:\n",
      "\n",
      "    decompose, spectrum\n",
      "\n",
      "\n",
      "The following object is masked from ‘package:base’:\n",
      "\n",
      "    union\n",
      "\n",
      "\n",
      "Registered S3 method overwritten by 'RRF':\n",
      "  method      from        \n",
      "  plot.margin randomForest\n",
      "\n",
      "RRF 1.9.1\n",
      "\n",
      "Type rrfNews() to see new features/changes/bug fixes.\n",
      "\n",
      "\n",
      "Attaching package: ‘RRF’\n",
      "\n",
      "\n",
      "The following objects are masked from ‘package:randomForest’:\n",
      "\n",
      "    classCenter, combine, getTree, grow, importance, margin, MDSplot,\n",
      "    na.roughfix, outlier, partialPlot, treesize, varImpPlot, varUsed\n",
      "\n",
      "\n",
      "The following object is masked from ‘package:dplyr’:\n",
      "\n",
      "    combine\n",
      "\n",
      "\n",
      "The following object is masked from ‘package:ggplot2’:\n",
      "\n",
      "    margin\n",
      "\n",
      "\n",
      "Warning message:\n",
      "“replacing previous import ‘data.table::last’ by ‘dplyr::last’ when loading ‘endoR’”\n",
      "Warning message:\n",
      "“replacing previous import ‘data.table::first’ by ‘dplyr::first’ when loading ‘endoR’”\n",
      "Warning message:\n",
      "“replacing previous import ‘data.table::between’ by ‘dplyr::between’ when loading ‘endoR’”\n",
      "Warning message:\n",
      "“replacing previous import ‘dplyr::union’ by ‘igraph::union’ when loading ‘endoR’”\n",
      "Warning message:\n",
      "“replacing previous import ‘dplyr::as_data_frame’ by ‘igraph::as_data_frame’ when loading ‘endoR’”\n",
      "Warning message:\n",
      "“replacing previous import ‘dplyr::groups’ by ‘igraph::groups’ when loading ‘endoR’”\n"
     ]
    }
   ],
   "source": [
    "library(tidyverse)\n",
    "library(stringr)\n",
    "library(caret)\n",
    "library(data.table)\n",
    "library(stringr)\n",
    "library(dplyr)\n",
    "library(randomForest)\n",
    "library(qs)\n",
    "library(parallel)\n",
    "library(igraph)\n",
    "library(ggraph)\n",
    "library(clustermq)\n",
    "library(inTrees)\n",
    "library(RRF)\n",
    "library(endoR)"
   ]
  },
  {
   "cell_type": "code",
   "execution_count": 2,
   "metadata": {
    "ExecuteTime": {
     "end_time": "2021-11-23T14:41:18.112441Z",
     "start_time": "2021-11-23T14:41:13.693Z"
    }
   },
   "outputs": [
    {
     "data": {
      "text/plain": [
       "R version 4.0.3 (2020-10-10)\n",
       "Platform: x86_64-conda-linux-gnu (64-bit)\n",
       "Running under: Ubuntu 18.04.6 LTS\n",
       "\n",
       "Matrix products: default\n",
       "BLAS/LAPACK: /ebio/abt3_projects/Methanogen_SCFA/Metagenomes_methanogen/envs/r-ml/lib/libopenblasp-r0.3.10.so\n",
       "\n",
       "locale:\n",
       " [1] LC_CTYPE=en_US.UTF-8       LC_NUMERIC=C              \n",
       " [3] LC_TIME=en_US.UTF-8        LC_COLLATE=en_US.UTF-8    \n",
       " [5] LC_MONETARY=en_US.UTF-8    LC_MESSAGES=en_US.UTF-8   \n",
       " [7] LC_PAPER=en_US.UTF-8       LC_NAME=C                 \n",
       " [9] LC_ADDRESS=C               LC_TELEPHONE=C            \n",
       "[11] LC_MEASUREMENT=en_US.UTF-8 LC_IDENTIFICATION=C       \n",
       "\n",
       "attached base packages:\n",
       "[1] parallel  stats     graphics  grDevices utils     datasets  methods  \n",
       "[8] base     \n",
       "\n",
       "other attached packages:\n",
       " [1] endoR_0.1.0         RRF_1.9.1           inTrees_1.3        \n",
       " [4] clustermq_0.8.95.1  ggraph_2.0.4        igraph_1.2.6       \n",
       " [7] qs_0.23.4           randomForest_4.6-14 data.table_1.13.4  \n",
       "[10] caret_6.0-86        lattice_0.20-41     forcats_0.5.0      \n",
       "[13] stringr_1.4.0       dplyr_1.0.2         purrr_0.3.4        \n",
       "[16] readr_1.4.0         tidyr_1.1.2         tibble_3.0.4       \n",
       "[19] ggplot2_3.3.2       tidyverse_1.3.0    \n",
       "\n",
       "loaded via a namespace (and not attached):\n",
       " [1] colorspace_2.0-0     ellipsis_0.3.1       class_7.3-17        \n",
       " [4] IRdisplay_0.7.0      base64enc_0.1-3      fs_1.5.0            \n",
       " [7] rstudioapi_0.13      farver_2.0.3         graphlayouts_0.7.1  \n",
       "[10] ggrepel_0.8.2        prodlim_2019.11.13   fansi_0.4.1         \n",
       "[13] lubridate_1.7.9.2    ranger_0.12.1        xml2_1.3.2          \n",
       "[16] codetools_0.2-18     splines_4.0.3        arules_1.6-6        \n",
       "[19] polyclip_1.10-0      IRkernel_1.1.1       jsonlite_1.7.2      \n",
       "[22] pROC_1.16.2          broom_0.7.2          dbplyr_2.0.0        \n",
       "[25] ggforce_0.3.2        compiler_4.0.3       httr_1.4.2          \n",
       "[28] backports_1.2.0      assertthat_0.2.1     Matrix_1.2-18       \n",
       "[31] cli_2.2.0            tweenr_1.0.1         htmltools_0.5.0     \n",
       "[34] tools_4.0.3          gtable_0.3.0         glue_1.4.2          \n",
       "[37] reshape2_1.4.4       Rcpp_1.0.5           cellranger_1.1.0    \n",
       "[40] vctrs_0.3.6          nlme_3.1-150         iterators_1.0.13    \n",
       "[43] timeDate_3043.102    gower_0.2.2          ps_1.5.0            \n",
       "[46] rvest_0.3.6          lifecycle_0.2.0      MASS_7.3-53         \n",
       "[49] scales_1.1.1         ipred_0.9-9          tidygraph_1.2.0     \n",
       "[52] hms_0.5.3            gridExtra_2.3        rpart_4.1-15        \n",
       "[55] stringi_1.5.3        foreach_1.5.1        lava_1.6.8.1        \n",
       "[58] repr_1.1.2.9000      rlang_0.4.10         pkgconfig_2.0.3     \n",
       "[61] evaluate_0.14        recipes_0.1.15       tidyselect_1.1.0    \n",
       "[64] gbm_2.1.8            plyr_1.8.6           magrittr_2.0.1      \n",
       "[67] R6_2.5.0             generics_0.1.0       pbdZMQ_0.3-3.1      \n",
       "[70] DBI_1.1.0            pillar_1.4.7         haven_2.3.1         \n",
       "[73] withr_2.3.0          survival_3.2-7       nnet_7.3-14         \n",
       "[76] modelr_0.1.8         crayon_1.3.4         xgboost_1.2.0.1     \n",
       "[79] uuid_0.1-4           RApiSerialize_0.1.0  viridis_0.5.1       \n",
       "[82] grid_4.0.3           readxl_1.3.1         ModelMetrics_1.2.2.2\n",
       "[85] reprex_0.3.0         digest_0.6.27        xtable_1.8-4        \n",
       "[88] RcppParallel_5.0.2   stats4_4.0.3         munsell_0.5.0       \n",
       "[91] stringfish_0.14.2    viridisLite_0.3.0   "
      ]
     },
     "metadata": {},
     "output_type": "display_data"
    }
   ],
   "source": [
    "sessionInfo()"
   ]
  },
  {
   "cell_type": "code",
   "execution_count": 3,
   "metadata": {
    "ExecuteTime": {
     "end_time": "2021-04-02T12:55:34.945569Z",
     "start_time": "2021-04-02T12:55:29.674Z"
    }
   },
   "outputs": [],
   "source": [
    "options(clustermq.scheduler = \"sge\", clustermq.template = \"~/.clustermq.tmpl\")"
   ]
  },
  {
   "cell_type": "markdown",
   "metadata": {},
   "source": [
    "# Data"
   ]
  },
  {
   "cell_type": "code",
   "execution_count": 4,
   "metadata": {
    "ExecuteTime": {
     "end_time": "2021-04-02T12:55:35.420446Z",
     "start_time": "2021-04-02T12:55:31.673Z"
    }
   },
   "outputs": [],
   "source": [
    "taxa <- qread('../data/taxa_table.qs')\n",
    "pp <- qread('../data/tax_meta.qs')"
   ]
  },
  {
   "cell_type": "code",
   "execution_count": 5,
   "metadata": {
    "ExecuteTime": {
     "end_time": "2021-04-02T12:55:35.450098Z",
     "start_time": "2021-04-02T12:55:32.017Z"
    }
   },
   "outputs": [
    {
     "data": {
      "text/html": [
       "<style>\n",
       ".list-inline {list-style: none; margin:0; padding: 0}\n",
       ".list-inline>li {display: inline-block}\n",
       ".list-inline>li:not(:last-child)::after {content: \"\\00b7\"; padding: 0 .5ex}\n",
       "</style>\n",
       "<ol class=list-inline><li>2147</li><li>2513</li></ol>\n"
      ],
      "text/latex": [
       "\\begin{enumerate*}\n",
       "\\item 2147\n",
       "\\item 2513\n",
       "\\end{enumerate*}\n"
      ],
      "text/markdown": [
       "1. 2147\n",
       "2. 2513\n",
       "\n",
       "\n"
      ],
      "text/plain": [
       "[1] 2147 2513"
      ]
     },
     "metadata": {},
     "output_type": "display_data"
    }
   ],
   "source": [
    "# remove the MetaCyc pathways\n",
    "to_rm <- seq(pp %>% colnames %>% str_which(pattern = '^[:lower:]\\\\_{1}') %>% max, ncol(pp), 1)\n",
    "pp <- pp[,-to_rm]\n",
    "pp %>% dim"
   ]
  },
  {
   "cell_type": "code",
   "execution_count": 6,
   "metadata": {
    "ExecuteTime": {
     "end_time": "2021-04-02T12:55:37.507178Z",
     "start_time": "2021-04-02T12:55:37.149Z"
    }
   },
   "outputs": [],
   "source": [
    "# remove the metadata\n",
    "meta <- c('dataset_name','Sample','age','gender','country','BMI','westernized')\n",
    "X <- select(pp, -all_of(meta))"
   ]
  },
  {
   "cell_type": "code",
   "execution_count": 7,
   "metadata": {
    "ExecuteTime": {
     "end_time": "2021-04-02T12:55:40.309442Z",
     "start_time": "2021-04-02T12:55:39.312Z"
    }
   },
   "outputs": [
    {
     "data": {
      "text/html": [
       "<style>\n",
       ".list-inline {list-style: none; margin:0; padding: 0}\n",
       ".list-inline>li {display: inline-block}\n",
       ".list-inline>li:not(:last-child)::after {content: \"\\00b7\"; padding: 0 .5ex}\n",
       "</style>\n",
       "<ol class=list-inline><li>2147</li><li>520</li></ol>\n"
      ],
      "text/latex": [
       "\\begin{enumerate*}\n",
       "\\item 2147\n",
       "\\item 520\n",
       "\\end{enumerate*}\n"
      ],
      "text/markdown": [
       "1. 2147\n",
       "2. 520\n",
       "\n",
       "\n"
      ],
      "text/plain": [
       "[1] 2147  520"
      ]
     },
     "metadata": {},
     "output_type": "display_data"
    }
   ],
   "source": [
    "# keep only taxa with prevalance > 24%\n",
    "tmp <- colnames(X)[which(colSums(X != 0) > nrow(X)/4)]\n",
    "X <- select(X, all_of(tmp))\n",
    "X %>% dim"
   ]
  },
  {
   "cell_type": "code",
   "execution_count": 8,
   "metadata": {
    "ExecuteTime": {
     "end_time": "2021-04-02T12:55:43.033306Z",
     "start_time": "2021-04-02T12:55:42.667Z"
    }
   },
   "outputs": [],
   "source": [
    "# shuffle samples\n",
    "set.seed(0)\n",
    "X <- X[complete.cases(X),][sample(1:nrow(X)),]"
   ]
  },
  {
   "cell_type": "markdown",
   "metadata": {},
   "source": [
    "# Make the target"
   ]
  },
  {
   "cell_type": "code",
   "execution_count": 9,
   "metadata": {
    "ExecuteTime": {
     "end_time": "2021-04-02T12:56:07.274424Z",
     "start_time": "2021-04-02T12:56:06.903Z"
    }
   },
   "outputs": [],
   "source": [
    "# draw random variables for predicting groups\n",
    "set.seed(1209)\n",
    "var_ix <- sample(which(colSums(X != 0) > nrow(X)/2), 9, replace = FALSE)\n",
    "var_n <- colnames(X)[var_ix]"
   ]
  },
  {
   "cell_type": "code",
   "execution_count": 10,
   "metadata": {
    "ExecuteTime": {
     "end_time": "2021-04-02T12:56:08.637129Z",
     "start_time": "2021-04-02T12:56:08.295Z"
    }
   },
   "outputs": [
    {
     "data": {
      "text/html": [
       "<style>\n",
       ".list-inline {list-style: none; margin:0; padding: 0}\n",
       ".list-inline>li {display: inline-block}\n",
       ".list-inline>li:not(:last-child)::after {content: \"\\00b7\"; padding: 0 .5ex}\n",
       "</style>\n",
       "<ol class=list-inline><li>'s_Marvinbryantia_sp900066075'</li><li>'g_Alistipes_A'</li><li>'f_Bacteroidaceae'</li><li>'g_Dialister'</li><li>'s_Oscillibacter_sp001916835'</li><li>'s_Bacteroides_clarus'</li><li>'s_Faecalibacterium_prausnitzii_G'</li><li>'s_Lawsonibacter_sp000177015'</li><li>'f_Anaerovoracaceae'</li></ol>\n"
      ],
      "text/latex": [
       "\\begin{enumerate*}\n",
       "\\item 's\\_Marvinbryantia\\_sp900066075'\n",
       "\\item 'g\\_Alistipes\\_A'\n",
       "\\item 'f\\_Bacteroidaceae'\n",
       "\\item 'g\\_Dialister'\n",
       "\\item 's\\_Oscillibacter\\_sp001916835'\n",
       "\\item 's\\_Bacteroides\\_clarus'\n",
       "\\item 's\\_Faecalibacterium\\_prausnitzii\\_G'\n",
       "\\item 's\\_Lawsonibacter\\_sp000177015'\n",
       "\\item 'f\\_Anaerovoracaceae'\n",
       "\\end{enumerate*}\n"
      ],
      "text/markdown": [
       "1. 's_Marvinbryantia_sp900066075'\n",
       "2. 'g_Alistipes_A'\n",
       "3. 'f_Bacteroidaceae'\n",
       "4. 'g_Dialister'\n",
       "5. 's_Oscillibacter_sp001916835'\n",
       "6. 's_Bacteroides_clarus'\n",
       "7. 's_Faecalibacterium_prausnitzii_G'\n",
       "8. 's_Lawsonibacter_sp000177015'\n",
       "9. 'f_Anaerovoracaceae'\n",
       "\n",
       "\n"
      ],
      "text/plain": [
       "[1] \"s_Marvinbryantia_sp900066075\"     \"g_Alistipes_A\"                   \n",
       "[3] \"f_Bacteroidaceae\"                 \"g_Dialister\"                     \n",
       "[5] \"s_Oscillibacter_sp001916835\"      \"s_Bacteroides_clarus\"            \n",
       "[7] \"s_Faecalibacterium_prausnitzii_G\" \"s_Lawsonibacter_sp000177015\"     \n",
       "[9] \"f_Anaerovoracaceae\"              "
      ]
     },
     "metadata": {},
     "output_type": "display_data"
    }
   ],
   "source": [
    "var_n"
   ]
  },
  {
   "cell_type": "code",
   "execution_count": 11,
   "metadata": {
    "ExecuteTime": {
     "end_time": "2021-04-02T12:56:17.375215Z",
     "start_time": "2021-04-02T12:56:17.020Z"
    }
   },
   "outputs": [],
   "source": [
    "nr <- nrow(X)\n",
    "ng <- floor(nr/4)\n",
    "# make groups\n",
    "X <- as.data.table(X)[,'group':=c(rep('a',ng), rep('b', ng), rep('c', ng), rep('d', nr-3*ng))]"
   ]
  },
  {
   "cell_type": "code",
   "execution_count": 12,
   "metadata": {
    "ExecuteTime": {
     "end_time": "2021-04-02T12:56:21.418284Z",
     "start_time": "2021-04-02T12:56:21.078Z"
    }
   },
   "outputs": [],
   "source": [
    "target <- data.frame('group'= X$group, 'tc'='1', stringsAsFactors = FALSE)"
   ]
  },
  {
   "cell_type": "code",
   "execution_count": 13,
   "metadata": {
    "ExecuteTime": {
     "end_time": "2021-04-02T12:56:42.314996Z",
     "start_time": "2021-04-02T12:56:41.965Z"
    }
   },
   "outputs": [],
   "source": [
    "# for each group, make target according to random drawn taxa of var_n\n",
    "target$tc[target$group == 'a'] <- ifelse( X$s_Marvinbryantia_sp900066075[target$group == 'a'] > 0 \n",
    "                                         & X$g_Alistipes_A[target$group == 'a'] > 0 \n",
    "                                         , '1', '-1')\n",
    "target$tc[target$group == 'b'] <- ifelse( X$f_Bacteroidaceae[target$group == 'b'] > 10^-(1) \n",
    "                                         & X$g_Dialister[target$group == 'b'] > 10^-(2.5)\n",
    "                                         , '1', '-1')\n",
    "target$tc[target$group == 'c'] <- ifelse((X$s_Oscillibacter_sp001916835[target$group == 'c'] > 0 \n",
    "                                         & X$s_Bacteroides_clarus[target$group == 'c'] > 0)\n",
    "                                         | X$s_Faecalibacterium_prausnitzii_G[target$group == 'c'] >10^-2\n",
    "                                         , '1', '-1')\n",
    "target$tc[target$group == 'd'] <- ifelse( X$s_Lawsonibacter_sp000177015[target$group == 'd'] <= 10^-3.4 \n",
    "                                         & X$f_Anaerovoracaceae[target$group == 'd'] > 0\n",
    "                                         , '1', '-1')"
   ]
  },
  {
   "cell_type": "code",
   "execution_count": 14,
   "metadata": {
    "ExecuteTime": {
     "end_time": "2021-04-02T12:56:44.087238Z",
     "start_time": "2021-04-02T12:56:43.742Z"
    },
    "scrolled": true
   },
   "outputs": [
    {
     "data": {
      "text/plain": [
       "    \n",
       "       a   b   c   d\n",
       "  -1 319 299 214 361\n",
       "  1  217 237 322 178"
      ]
     },
     "metadata": {},
     "output_type": "display_data"
    }
   ],
   "source": [
    "table(target$tc, target$group)"
   ]
  },
  {
   "cell_type": "code",
   "execution_count": 15,
   "metadata": {
    "ExecuteTime": {
     "end_time": "2021-04-02T12:56:52.507782Z",
     "start_time": "2021-04-02T12:56:51.435Z"
    }
   },
   "outputs": [],
   "source": [
    "# randomise group labels\n",
    "groups <- c('a', 'b', 'c', 'd', 'e')\n",
    "set.seed(0)\n",
    "brnounou <- rbinom(n = length(X$group), size = 1,prob = 0.05)\n",
    "for (i in 1:length(brnounou)){\n",
    "    if (brnounou[i] == 1){\n",
    "        set.seed(i)\n",
    "        X$group[i] <- sample(groups[groups != X$group[i]], 1)\n",
    "    }\n",
    "}"
   ]
  },
  {
   "cell_type": "code",
   "execution_count": 16,
   "metadata": {
    "ExecuteTime": {
     "end_time": "2021-04-02T12:56:53.913570Z",
     "start_time": "2021-04-02T12:56:53.570Z"
    }
   },
   "outputs": [
    {
     "data": {
      "text/plain": [
       "    \n",
       "       a   b   c   d   e\n",
       "  -1 312 296 226 347  12\n",
       "  1  219 232 318 175  10"
      ]
     },
     "metadata": {},
     "output_type": "display_data"
    }
   ],
   "source": [
    "table(target$tc, X$group)"
   ]
  },
  {
   "cell_type": "markdown",
   "metadata": {},
   "source": [
    "# Train "
   ]
  },
  {
   "cell_type": "markdown",
   "metadata": {},
   "source": [
    "## data"
   ]
  },
  {
   "cell_type": "code",
   "execution_count": 17,
   "metadata": {
    "ExecuteTime": {
     "end_time": "2021-04-02T12:57:05.058249Z",
     "start_time": "2021-04-02T12:57:04.715Z"
    }
   },
   "outputs": [],
   "source": [
    "target_c <- as.factor(target$tc)\n",
    "X <- X[, 'group':= as.factor(group)]"
   ]
  },
  {
   "cell_type": "code",
   "execution_count": 18,
   "metadata": {
    "ExecuteTime": {
     "end_time": "2021-04-02T12:57:06.063454Z",
     "start_time": "2021-04-02T12:57:05.057Z"
    }
   },
   "outputs": [],
   "source": [
    "# transform to dummy\n",
    "dummies <- dummyVars(~ ., data = X )\n",
    "dummies <- as.data.table(predict(dummies, newdata = X ))"
   ]
  },
  {
   "cell_type": "code",
   "execution_count": 19,
   "metadata": {
    "ExecuteTime": {
     "end_time": "2021-04-02T12:57:06.080303Z",
     "start_time": "2021-04-02T12:57:05.443Z"
    }
   },
   "outputs": [],
   "source": [
    "colnames(dummies) <- colnames(dummies) %>% str_replace_all(pattern = '\\\\.', replacement ='')"
   ]
  },
  {
   "cell_type": "markdown",
   "metadata": {},
   "source": [
    "## CV"
   ]
  },
  {
   "cell_type": "code",
   "execution_count": 24,
   "metadata": {
    "ExecuteTime": {
     "end_time": "2020-12-16T10:17:02.736437Z",
     "start_time": "2020-12-16T10:17:02.315Z"
    },
    "deletable": false,
    "editable": false,
    "run_control": {
     "frozen": true
    }
   },
   "outputs": [],
   "source": [
    "tmpl <- list(conda = \"r-ml\", cores = 1, job_time = '00:59:00', job_mem = '1G')"
   ]
  },
  {
   "cell_type": "code",
   "execution_count": 25,
   "metadata": {
    "ExecuteTime": {
     "end_time": "2020-12-16T10:17:05.116093Z",
     "start_time": "2020-12-16T10:17:04.821Z"
    },
    "deletable": false,
    "editable": false,
    "run_control": {
     "frozen": true
    }
   },
   "outputs": [],
   "source": [
    "wf <- function(ix, data, target, ntree = 500, gamma = 1){\n",
    "    set.seed(ix[1])\n",
    "    res <- list()\n",
    "    # feature selection\n",
    "    message('Feature selection')\n",
    "    RF <- RRF(data[ix,], flagReg=0, as.factor(target[ix]))\n",
    "    imp <-RF$importance[,\"MeanDecreaseGini\"]\n",
    "    impRF <- (imp - min(imp))/(max(imp) - min(imp))# normalization\n",
    "    coefReg <- (1-gamma) + gamma*impRF\n",
    "    GRRF <- RRF(data[ix,], as.factor(target[ix]), flagReg=1, coefReg=coefReg)\n",
    "    \n",
    "    # select data\n",
    "    message('Subset data')\n",
    "    to_keep <- colnames(data)[GRRF$feaSet]\n",
    "    X_fs <- select(data, all_of(to_keep))\n",
    "    res$confirmed <- to_keep\n",
    "    \n",
    "    # RF\n",
    "    message('RF')\n",
    "    rf_fs <- randomForest(x = X_fs[ix,], y = target[ix], ntree = ntree)\n",
    "    pred <- predict(object = rf_fs, newdata = X_fs[-ix, ])\n",
    "    tmp <- confusionMatrix(data = pred, reference = target[-ix])\n",
    "    res$rf_performance <- tmp$overall\n",
    "    \n",
    "    return(res)\n",
    "}"
   ]
  },
  {
   "cell_type": "code",
   "execution_count": 26,
   "metadata": {
    "ExecuteTime": {
     "end_time": "2020-12-16T10:17:07.653088Z",
     "start_time": "2020-12-16T10:17:07.364Z"
    },
    "deletable": false,
    "editable": false,
    "run_control": {
     "frozen": true
    }
   },
   "outputs": [],
   "source": [
    "gammaTuning <- function(trainIx, data, target, gamma = 1, ntree = 500){\n",
    "    res <- lapply(trainIx, wf, data=data, target=target, gamma=gamma, ntree=ntree)\n",
    "    return(res)\n",
    "}"
   ]
  },
  {
   "cell_type": "code",
   "execution_count": 22,
   "metadata": {
    "ExecuteTime": {
     "end_time": "2021-04-02T12:58:15.589217Z",
     "start_time": "2021-04-02T12:58:15.219Z"
    }
   },
   "outputs": [],
   "source": [
    "set.seed(0)\n",
    "trainIx <- createDataPartition(y = target_c, times = 10, p = .7, list = TRUE)"
   ]
  },
  {
   "cell_type": "code",
   "execution_count": 23,
   "metadata": {
    "ExecuteTime": {
     "end_time": "2021-04-02T12:58:15.603125Z",
     "start_time": "2021-04-02T12:58:15.222Z"
    }
   },
   "outputs": [],
   "source": [
    "gammas <- seq(0,1, by = 0.05)"
   ]
  },
  {
   "cell_type": "code",
   "execution_count": 33,
   "metadata": {
    "ExecuteTime": {
     "end_time": "2020-12-16T10:36:43.334574Z",
     "start_time": "2020-12-16T10:17:43.060Z"
    },
    "collapsed": true,
    "deletable": false,
    "editable": false,
    "run_control": {
     "frozen": true
    }
   },
   "outputs": [
    {
     "name": "stderr",
     "output_type": "stream",
     "text": [
      "Warning message in (function (...) :\n",
      "“Common data is 8.7 Mb. Recommended limit is  (set by clustermq.data.warning option)”\n",
      "Submitting 21 worker jobs (ID: cmq6799) ...\n",
      "\n",
      "Running 21 calculations (5 objs/8.7 Mb common; 1 calls/chunk) ...\n",
      "\n",
      "\n",
      "[---------------------------------------------------]   0% (1/21 wrk) eta:  ?s\n",
      "\n",
      "[---------------------------------------------------]   0% (2/21 wrk) eta:  ?s\n",
      "\n",
      "[---------------------------------------------------]   0% (3/21 wrk) eta:  ?s\n",
      "\n",
      "[---------------------------------------------------]   0% (4/21 wrk) eta:  ?s\n",
      "\n",
      "[---------------------------------------------------]   0% (5/21 wrk) eta:  ?s\n",
      "\n",
      "[---------------------------------------------------]   0% (6/21 wrk) eta:  ?s\n",
      "\n",
      "[---------------------------------------------------]   0% (7/21 wrk) eta:  ?s\n",
      "\n",
      "[---------------------------------------------------]   0% (8/21 wrk) eta:  ?s\n",
      "\n",
      "[---------------------------------------------------]   0% (9/21 wrk) eta:  ?s\n",
      "\n",
      "[--------------------------------------------------]   0% (10/21 wrk) eta:  ?s\n",
      "\n",
      "[--------------------------------------------------]   0% (11/21 wrk) eta:  ?s\n",
      "\n",
      "[--------------------------------------------------]   0% (12/21 wrk) eta:  ?s\n",
      "\n",
      "[--------------------------------------------------]   0% (13/21 wrk) eta:  ?s\n",
      "\n",
      "[--------------------------------------------------]   0% (14/21 wrk) eta:  ?s\n",
      "\n",
      "[--------------------------------------------------]   0% (15/21 wrk) eta:  ?s\n",
      "\n",
      "[--------------------------------------------------]   0% (16/21 wrk) eta:  ?s\n",
      "\n",
      "[--------------------------------------------------]   0% (17/21 wrk) eta:  ?s\n",
      "\n",
      "[--------------------------------------------------]   0% (18/21 wrk) eta:  ?s\n",
      "\n",
      "[--------------------------------------------------]   0% (19/21 wrk) eta:  ?s\n",
      "\n",
      "[--------------------------------------------------]   0% (20/21 wrk) eta:  ?s\n",
      "\n",
      "[--------------------------------------------------]   0% (21/21 wrk) eta:  ?s\n",
      "\n",
      "[=>------------------------------------------------]   5% (21/21 wrk) eta:  2h\n",
      "\n",
      "[====>---------------------------------------------]  10% (20/20 wrk) eta:  1h\n",
      "\n",
      "[======>-------------------------------------------]  14% (19/19 wrk) eta: 44m\n",
      "\n",
      "[=========>----------------------------------------]  19% (18/18 wrk) eta: 32m\n",
      "\n",
      "[===========>--------------------------------------]  24% (17/17 wrk) eta: 24m\n",
      "\n",
      "[=============>------------------------------------]  29% (16/16 wrk) eta: 20m\n",
      "\n",
      "[================>---------------------------------]  33% (15/15 wrk) eta: 16m\n",
      "\n",
      "[==================>-------------------------------]  38% (14/14 wrk) eta: 13m\n",
      "\n",
      "[====================>-----------------------------]  43% (13/13 wrk) eta: 11m\n",
      "\n",
      "[=======================>--------------------------]  48% (12/12 wrk) eta: 10m\n",
      "\n",
      "[=========================>------------------------]  52% (11/11 wrk) eta:  8m\n",
      "\n",
      "[============================>---------------------]  57% (10/10 wrk) eta:  7m\n",
      "\n",
      "[===============================>--------------------]  62% (9/9 wrk) eta:  6m\n",
      "\n",
      "[==================================>-----------------]  67% (8/8 wrk) eta:  5m\n",
      "\n",
      "[====================================>---------------]  71% (7/7 wrk) eta:  4m\n",
      "\n",
      "[=======================================>------------]  76% (6/6 wrk) eta:  3m\n",
      "\n",
      "[=========================================>----------]  81% (5/5 wrk) eta:  3m\n",
      "\n",
      "[============================================>-------]  86% (4/4 wrk) eta:  2m\n",
      "\n",
      "[==============================================>-----]  90% (3/3 wrk) eta:  1m\n",
      "\n",
      "[=================================================>--]  95% (2/2 wrk) eta: 43s\n",
      "\n",
      "[====================================================] 100% (1/1 wrk) eta:  0s\n",
      "                                                                              \n",
      "\n",
      "Master: [1139.3s 0.3% CPU]; Worker: [avg 100.0% CPU, max 569.6 Mb]\n",
      "\n"
     ]
    }
   ],
   "source": [
    "res <- Q(gammaTuning\n",
    "  , gamma = gammas\n",
    "  , const = list('data'= dummies, 'target' = target_c, 'trainIx' = trainIx, 'ntree' = 500)\n",
    "  , export = list('wf' = wf)\n",
    "  , n_jobs= length(gammas)\n",
    "  , pkgs=c('caret', 'randomForest', 'dplyr', 'RRF')\n",
    "  , log_worker=FALSE\n",
    "  , template = tmpl\n",
    " )\n",
    "qsave(res, file = '../../tmp/Mtg_p005_gRRF_CV.qs')"
   ]
  },
  {
   "cell_type": "code",
   "execution_count": 20,
   "metadata": {
    "ExecuteTime": {
     "end_time": "2021-04-02T12:58:07.655630Z",
     "start_time": "2021-04-02T12:58:07.289Z"
    }
   },
   "outputs": [],
   "source": [
    "res <- qread('/ebio/abt3_projects/Methanogen_SCFA/Metagenomes_methanogen/RF_coocc/RF_coocc/tmp/Mtg_p005_gRRF_CV.qs')"
   ]
  },
  {
   "cell_type": "code",
   "execution_count": 25,
   "metadata": {
    "ExecuteTime": {
     "end_time": "2021-04-02T12:58:39.463668Z",
     "start_time": "2021-04-02T12:58:39.110Z"
    }
   },
   "outputs": [],
   "source": [
    "# average results across CV sets\n",
    "all <- res %>% lapply(function(x){t(sapply(x, function(x){return(x$rf_performance)}))})\n",
    "all <- t(all %>% sapply(function(x){return(c('meanAcc' = mean(x[,1]*100), 'sdAcc' = sd(x[,1]*100)\n",
    "                                             , 'meanK' = mean(x[,2]), 'sdK' = sd(x[,2])))}))\n",
    "rownames(all) <- gammas"
   ]
  },
  {
   "cell_type": "code",
   "execution_count": 26,
   "metadata": {
    "ExecuteTime": {
     "end_time": "2021-04-02T12:58:43.548236Z",
     "start_time": "2021-04-02T12:58:43.163Z"
    },
    "scrolled": true
   },
   "outputs": [
    {
     "data": {
      "text/html": [
       "<table class=\"dataframe\">\n",
       "<caption>A data.frame: 3 × 4</caption>\n",
       "<thead>\n",
       "\t<tr><th></th><th scope=col>meanAcc</th><th scope=col>sdAcc</th><th scope=col>meanK</th><th scope=col>sdK</th></tr>\n",
       "\t<tr><th></th><th scope=col>&lt;dbl&gt;</th><th scope=col>&lt;dbl&gt;</th><th scope=col>&lt;dbl&gt;</th><th scope=col>&lt;dbl&gt;</th></tr>\n",
       "</thead>\n",
       "<tbody>\n",
       "\t<tr><th scope=row>0.45</th><td>85.19440</td><td>2.362918</td><td>0.6969377</td><td>0.04909877</td></tr>\n",
       "\t<tr><th scope=row>0.5</th><td>84.85226</td><td>2.393879</td><td>0.6910305</td><td>0.04903255</td></tr>\n",
       "\t<tr><th scope=row>0.55</th><td>84.55677</td><td>3.060819</td><td>0.6845043</td><td>0.06331969</td></tr>\n",
       "</tbody>\n",
       "</table>\n"
      ],
      "text/latex": [
       "A data.frame: 3 × 4\n",
       "\\begin{tabular}{r|llll}\n",
       "  & meanAcc & sdAcc & meanK & sdK\\\\\n",
       "  & <dbl> & <dbl> & <dbl> & <dbl>\\\\\n",
       "\\hline\n",
       "\t0.45 & 85.19440 & 2.362918 & 0.6969377 & 0.04909877\\\\\n",
       "\t0.5 & 84.85226 & 2.393879 & 0.6910305 & 0.04903255\\\\\n",
       "\t0.55 & 84.55677 & 3.060819 & 0.6845043 & 0.06331969\\\\\n",
       "\\end{tabular}\n"
      ],
      "text/markdown": [
       "\n",
       "A data.frame: 3 × 4\n",
       "\n",
       "| <!--/--> | meanAcc &lt;dbl&gt; | sdAcc &lt;dbl&gt; | meanK &lt;dbl&gt; | sdK &lt;dbl&gt; |\n",
       "|---|---|---|---|---|\n",
       "| 0.45 | 85.19440 | 2.362918 | 0.6969377 | 0.04909877 |\n",
       "| 0.5 | 84.85226 | 2.393879 | 0.6910305 | 0.04903255 |\n",
       "| 0.55 | 84.55677 | 3.060819 | 0.6845043 | 0.06331969 |\n",
       "\n"
      ],
      "text/plain": [
       "     meanAcc  sdAcc    meanK     sdK       \n",
       "0.45 85.19440 2.362918 0.6969377 0.04909877\n",
       "0.5  84.85226 2.393879 0.6910305 0.04903255\n",
       "0.55 84.55677 3.060819 0.6845043 0.06331969"
      ]
     },
     "metadata": {},
     "output_type": "display_data"
    }
   ],
   "source": [
    "# gamma = 0.45: best results across 10-folds CV\n",
    "all %>% as.data.frame %>% arrange(desc(meanK), desc(meanAcc)) %>% \n",
    "head(3)"
   ]
  },
  {
   "cell_type": "markdown",
   "metadata": {},
   "source": [
    "# final"
   ]
  },
  {
   "cell_type": "code",
   "execution_count": 27,
   "metadata": {
    "ExecuteTime": {
     "end_time": "2021-04-02T13:01:49.333391Z",
     "start_time": "2021-04-02T13:01:48.972Z"
    }
   },
   "outputs": [],
   "source": [
    "gamma <- 0.45"
   ]
  },
  {
   "cell_type": "code",
   "execution_count": 28,
   "metadata": {
    "ExecuteTime": {
     "end_time": "2021-04-02T13:03:12.246608Z",
     "start_time": "2021-04-02T13:01:48.975Z"
    }
   },
   "outputs": [
    {
     "name": "stderr",
     "output_type": "stream",
     "text": [
      "Feature selection\n",
      "\n"
     ]
    }
   ],
   "source": [
    "set.seed(0)\n",
    "message('Feature selection')\n",
    "RF <- RRF(dummies, flagReg=0, as.factor(target_c))\n",
    "imp <-RF$importance[,\"MeanDecreaseGini\"]\n",
    "impRF <- (imp - min(imp))/(max(imp) - min(imp))# normalization\n",
    "coefReg <- (1-gamma) + gamma*impRF\n",
    "GRRF <- RRF(dummies, as.factor(target_c), flagReg=1, coefReg=coefReg)"
   ]
  },
  {
   "cell_type": "code",
   "execution_count": 29,
   "metadata": {
    "ExecuteTime": {
     "end_time": "2021-04-02T13:03:12.272375Z",
     "start_time": "2021-04-02T13:01:48.978Z"
    }
   },
   "outputs": [],
   "source": [
    "# select data\n",
    "to_keep <- colnames(dummies)[GRRF$feaSet]\n",
    "X_fs <- select(dummies, all_of(to_keep))"
   ]
  },
  {
   "cell_type": "code",
   "execution_count": 30,
   "metadata": {
    "ExecuteTime": {
     "end_time": "2021-04-02T13:03:12.290786Z",
     "start_time": "2021-04-02T13:01:48.982Z"
    }
   },
   "outputs": [
    {
     "data": {
      "text/html": [
       "18"
      ],
      "text/latex": [
       "18"
      ],
      "text/markdown": [
       "18"
      ],
      "text/plain": [
       "[1] 18"
      ]
     },
     "metadata": {},
     "output_type": "display_data"
    }
   ],
   "source": [
    "length(to_keep)"
   ]
  },
  {
   "cell_type": "code",
   "execution_count": 31,
   "metadata": {
    "ExecuteTime": {
     "end_time": "2021-04-02T13:03:12.315655Z",
     "start_time": "2021-04-02T13:01:48.987Z"
    }
   },
   "outputs": [
    {
     "data": {
      "text/html": [
       "<style>\n",
       ".list-inline {list-style: none; margin:0; padding: 0}\n",
       ".list-inline>li {display: inline-block}\n",
       ".list-inline>li:not(:last-child)::after {content: \"\\00b7\"; padding: 0 .5ex}\n",
       "</style>\n",
       "<ol class=list-inline><li>FALSE</li><li>TRUE</li><li>TRUE</li><li>TRUE</li><li>TRUE</li><li>TRUE</li><li>TRUE</li><li>TRUE</li><li>TRUE</li></ol>\n"
      ],
      "text/latex": [
       "\\begin{enumerate*}\n",
       "\\item FALSE\n",
       "\\item TRUE\n",
       "\\item TRUE\n",
       "\\item TRUE\n",
       "\\item TRUE\n",
       "\\item TRUE\n",
       "\\item TRUE\n",
       "\\item TRUE\n",
       "\\item TRUE\n",
       "\\end{enumerate*}\n"
      ],
      "text/markdown": [
       "1. FALSE\n",
       "2. TRUE\n",
       "3. TRUE\n",
       "4. TRUE\n",
       "5. TRUE\n",
       "6. TRUE\n",
       "7. TRUE\n",
       "8. TRUE\n",
       "9. TRUE\n",
       "\n",
       "\n"
      ],
      "text/plain": [
       "[1] FALSE  TRUE  TRUE  TRUE  TRUE  TRUE  TRUE  TRUE  TRUE"
      ]
     },
     "metadata": {},
     "output_type": "display_data"
    },
    {
     "data": {
      "text/html": [
       "<style>\n",
       ".list-inline {list-style: none; margin:0; padding: 0}\n",
       ".list-inline>li {display: inline-block}\n",
       ".list-inline>li:not(:last-child)::after {content: \"\\00b7\"; padding: 0 .5ex}\n",
       "</style>\n",
       "<ol class=list-inline><li>'s_Marvinbryantia_sp900066075'</li><li>'g_Alistipes_A'</li><li>'f_Bacteroidaceae'</li><li>'g_Dialister'</li><li>'s_Oscillibacter_sp001916835'</li><li>'s_Bacteroides_clarus'</li><li>'s_Faecalibacterium_prausnitzii_G'</li><li>'s_Lawsonibacter_sp000177015'</li><li>'f_Anaerovoracaceae'</li></ol>\n"
      ],
      "text/latex": [
       "\\begin{enumerate*}\n",
       "\\item 's\\_Marvinbryantia\\_sp900066075'\n",
       "\\item 'g\\_Alistipes\\_A'\n",
       "\\item 'f\\_Bacteroidaceae'\n",
       "\\item 'g\\_Dialister'\n",
       "\\item 's\\_Oscillibacter\\_sp001916835'\n",
       "\\item 's\\_Bacteroides\\_clarus'\n",
       "\\item 's\\_Faecalibacterium\\_prausnitzii\\_G'\n",
       "\\item 's\\_Lawsonibacter\\_sp000177015'\n",
       "\\item 'f\\_Anaerovoracaceae'\n",
       "\\end{enumerate*}\n"
      ],
      "text/markdown": [
       "1. 's_Marvinbryantia_sp900066075'\n",
       "2. 'g_Alistipes_A'\n",
       "3. 'f_Bacteroidaceae'\n",
       "4. 'g_Dialister'\n",
       "5. 's_Oscillibacter_sp001916835'\n",
       "6. 's_Bacteroides_clarus'\n",
       "7. 's_Faecalibacterium_prausnitzii_G'\n",
       "8. 's_Lawsonibacter_sp000177015'\n",
       "9. 'f_Anaerovoracaceae'\n",
       "\n",
       "\n"
      ],
      "text/plain": [
       "[1] \"s_Marvinbryantia_sp900066075\"     \"g_Alistipes_A\"                   \n",
       "[3] \"f_Bacteroidaceae\"                 \"g_Dialister\"                     \n",
       "[5] \"s_Oscillibacter_sp001916835\"      \"s_Bacteroides_clarus\"            \n",
       "[7] \"s_Faecalibacterium_prausnitzii_G\" \"s_Lawsonibacter_sp000177015\"     \n",
       "[9] \"f_Anaerovoracaceae\"              "
      ]
     },
     "metadata": {},
     "output_type": "display_data"
    }
   ],
   "source": [
    "# not all true variables were selected \n",
    "var_n %in% to_keep\n",
    "var_n"
   ]
  },
  {
   "cell_type": "code",
   "execution_count": 32,
   "metadata": {
    "ExecuteTime": {
     "end_time": "2021-04-02T13:03:14.745360Z",
     "start_time": "2021-04-02T13:01:48.989Z"
    }
   },
   "outputs": [],
   "source": [
    "# RF\n",
    "set.seed(0)\n",
    "rf_fs <- randomForest(x = X_fs, y = as.factor(target_c), ntree = 500)"
   ]
  },
  {
   "cell_type": "code",
   "execution_count": 33,
   "metadata": {
    "ExecuteTime": {
     "end_time": "2021-04-02T13:03:14.769553Z",
     "start_time": "2021-04-02T13:01:48.993Z"
    }
   },
   "outputs": [
    {
     "data": {
      "text/plain": [
       "\n",
       "Call:\n",
       " randomForest(x = X_fs, y = as.factor(target_c), ntree = 500) \n",
       "               Type of random forest: classification\n",
       "                     Number of trees: 500\n",
       "No. of variables tried at each split: 4\n",
       "\n",
       "        OOB estimate of  error rate: 6.66%\n",
       "Confusion matrix:\n",
       "     -1   1 class.error\n",
       "-1 1145  48  0.04023470\n",
       "1    95 859  0.09958071"
      ]
     },
     "metadata": {},
     "output_type": "display_data"
    },
    {
     "name": "stdout",
     "output_type": "stream",
     "text": [
      "RF accuracy =  93.33"
     ]
    }
   ],
   "source": [
    "rf_fs\n",
    "cat('RF accuracy = ', 100*round((rf_fs$confusion[1,1] + rf_fs$confusion[2,2])/sum(rf_fs$confusion), digits = 4))"
   ]
  },
  {
   "cell_type": "code",
   "execution_count": 34,
   "metadata": {
    "ExecuteTime": {
     "end_time": "2021-04-02T13:03:14.795464Z",
     "start_time": "2021-04-02T13:01:48.995Z"
    }
   },
   "outputs": [],
   "source": [
    "gini <- rf_fs$importance %>% as.data.frame %>% arrange(desc(MeanDecreaseGini))\n",
    "gini$feature <- rownames(gini)\n",
    "rownames(gini) <- NULL\n",
    "gini$feature <- factor(gini$feature, levels = gini$feature[order(-gini$MeanDecreaseGini)])"
   ]
  },
  {
   "cell_type": "code",
   "execution_count": 35,
   "metadata": {
    "ExecuteTime": {
     "end_time": "2021-04-02T13:03:14.822383Z",
     "start_time": "2021-04-02T13:01:48.999Z"
    }
   },
   "outputs": [
    {
     "data": {
      "text/html": [
       "<table class=\"dataframe\">\n",
       "<caption>A data.frame: 6 × 2</caption>\n",
       "<thead>\n",
       "\t<tr><th></th><th scope=col>MeanDecreaseGini</th><th scope=col>feature</th></tr>\n",
       "\t<tr><th></th><th scope=col>&lt;dbl&gt;</th><th scope=col>&lt;fct&gt;</th></tr>\n",
       "</thead>\n",
       "<tbody>\n",
       "\t<tr><th scope=row>1</th><td>79.41305</td><td>f_Bacteroidaceae                </td></tr>\n",
       "\t<tr><th scope=row>2</th><td>72.01129</td><td>s_Lawsonibacter_sp000177015     </td></tr>\n",
       "\t<tr><th scope=row>3</th><td>71.32860</td><td>groupb                          </td></tr>\n",
       "\t<tr><th scope=row>4</th><td>70.64042</td><td>s_Faecalibacterium_prausnitzii_G</td></tr>\n",
       "\t<tr><th scope=row>5</th><td>66.98962</td><td>g_Alistipes_A                   </td></tr>\n",
       "\t<tr><th scope=row>6</th><td>61.49104</td><td>f_Anaerovoracaceae              </td></tr>\n",
       "</tbody>\n",
       "</table>\n"
      ],
      "text/latex": [
       "A data.frame: 6 × 2\n",
       "\\begin{tabular}{r|ll}\n",
       "  & MeanDecreaseGini & feature\\\\\n",
       "  & <dbl> & <fct>\\\\\n",
       "\\hline\n",
       "\t1 & 79.41305 & f\\_Bacteroidaceae                \\\\\n",
       "\t2 & 72.01129 & s\\_Lawsonibacter\\_sp000177015     \\\\\n",
       "\t3 & 71.32860 & groupb                          \\\\\n",
       "\t4 & 70.64042 & s\\_Faecalibacterium\\_prausnitzii\\_G\\\\\n",
       "\t5 & 66.98962 & g\\_Alistipes\\_A                   \\\\\n",
       "\t6 & 61.49104 & f\\_Anaerovoracaceae              \\\\\n",
       "\\end{tabular}\n"
      ],
      "text/markdown": [
       "\n",
       "A data.frame: 6 × 2\n",
       "\n",
       "| <!--/--> | MeanDecreaseGini &lt;dbl&gt; | feature &lt;fct&gt; |\n",
       "|---|---|---|\n",
       "| 1 | 79.41305 | f_Bacteroidaceae                 |\n",
       "| 2 | 72.01129 | s_Lawsonibacter_sp000177015      |\n",
       "| 3 | 71.32860 | groupb                           |\n",
       "| 4 | 70.64042 | s_Faecalibacterium_prausnitzii_G |\n",
       "| 5 | 66.98962 | g_Alistipes_A                    |\n",
       "| 6 | 61.49104 | f_Anaerovoracaceae               |\n",
       "\n"
      ],
      "text/plain": [
       "  MeanDecreaseGini feature                         \n",
       "1 79.41305         f_Bacteroidaceae                \n",
       "2 72.01129         s_Lawsonibacter_sp000177015     \n",
       "3 71.32860         groupb                          \n",
       "4 70.64042         s_Faecalibacterium_prausnitzii_G\n",
       "5 66.98962         g_Alistipes_A                   \n",
       "6 61.49104         f_Anaerovoracaceae              "
      ]
     },
     "metadata": {},
     "output_type": "display_data"
    }
   ],
   "source": [
    "gini %>% head"
   ]
  },
  {
   "cell_type": "code",
   "execution_count": 36,
   "metadata": {
    "ExecuteTime": {
     "end_time": "2021-04-02T13:03:14.839107Z",
     "start_time": "2021-04-02T13:01:49.003Z"
    }
   },
   "outputs": [],
   "source": [
    "saveRDS(gini, 'Gini_main.RDS')"
   ]
  },
  {
   "cell_type": "markdown",
   "metadata": {},
   "source": [
    "# 100 resamples"
   ]
  },
  {
   "cell_type": "code",
   "execution_count": 35,
   "metadata": {
    "ExecuteTime": {
     "end_time": "2021-03-16T11:09:26.409135Z",
     "start_time": "2021-03-16T11:09:26.331Z"
    }
   },
   "outputs": [
    {
     "data": {
      "text/plain": [
       "target_c\n",
       "  -1    1 \n",
       "1193  954 "
      ]
     },
     "metadata": {},
     "output_type": "display_data"
    }
   ],
   "source": [
    "table(target_c)"
   ]
  },
  {
   "cell_type": "code",
   "execution_count": 37,
   "metadata": {
    "ExecuteTime": {
     "end_time": "2021-04-02T13:07:26.908436Z",
     "start_time": "2021-04-02T13:03:55.369Z"
    }
   },
   "outputs": [
    {
     "name": "stderr",
     "output_type": "stream",
     "text": [
      "Extract rules...\n",
      "\n",
      "Discretise data\n",
      "\n",
      "Discretise rules\n",
      "\n"
     ]
    }
   ],
   "source": [
    "preclu <- preCluster(model = rf_fs, model_type = 'rf', sample_weight = c(0.55, 0.45), classPos = '1'\n",
    "                , dummy_var = 'group'\n",
    "                , discretize = TRUE, K = 3\n",
    "                , times = 100, p = .5\n",
    "                , ntree = 'all'\n",
    "                , data = X_fs, target = target_c\n",
    "                , seed = 1\n",
    "                , in_parallel = TRUE, n_cores = 15)"
   ]
  },
  {
   "cell_type": "code",
   "execution_count": 38,
   "metadata": {
    "ExecuteTime": {
     "end_time": "2021-04-02T13:07:27.325913Z",
     "start_time": "2021-04-02T13:03:58.105Z"
    }
   },
   "outputs": [],
   "source": [
    "qsave(preclu, 'Pre_bootstraps.qs')"
   ]
  },
  {
   "cell_type": "code",
   "execution_count": 39,
   "metadata": {
    "ExecuteTime": {
     "end_time": "2021-03-16T12:19:05.425223Z",
     "start_time": "2021-03-16T12:19:05.186Z"
    },
    "deletable": false,
    "editable": false,
    "run_control": {
     "frozen": true
    }
   },
   "outputs": [],
   "source": [
    "tmpl <- list(conda = \"r-ml\", cores = 15, job_time = '24:00:00', job_mem = '3G')"
   ]
  },
  {
   "cell_type": "code",
   "execution_count": 40,
   "metadata": {
    "ExecuteTime": {
     "end_time": "2021-03-16T12:54:41.261463Z",
     "start_time": "2021-03-16T12:19:09.083Z"
    },
    "deletable": false,
    "editable": false,
    "run_control": {
     "frozen": true
    },
    "scrolled": true
   },
   "outputs": [
    {
     "name": "stderr",
     "output_type": "stream",
     "text": [
      "Warning message in (function (...) :\n",
      "“Common data is 165.7 Mb. Recommended limit is  (set by clustermq.data.warning option)”\n",
      "Submitting 100 worker jobs (ID: cmq6048) ...\n",
      "\n",
      "Running 100 calculations (10 objs/165.7 Mb common; 1 calls/chunk) ...\n",
      "\n",
      "\n",
      "[--------------------------------------------------]   0% (1/100 wrk) eta:  ?s\n",
      "\n",
      "[--------------------------------------------------]   0% (2/100 wrk) eta:  ?s\n",
      "\n",
      "[--------------------------------------------------]   0% (3/100 wrk) eta:  ?s\n",
      "\n",
      "[--------------------------------------------------]   0% (4/100 wrk) eta:  ?s\n",
      "\n",
      "[--------------------------------------------------]   0% (5/100 wrk) eta:  ?s\n",
      "\n",
      "[--------------------------------------------------]   0% (6/100 wrk) eta:  ?s\n",
      "\n",
      "[--------------------------------------------------]   0% (7/100 wrk) eta:  ?s\n",
      "\n",
      "[--------------------------------------------------]   0% (8/100 wrk) eta:  ?s\n",
      "\n",
      "[--------------------------------------------------]   0% (9/100 wrk) eta:  ?s\n",
      "\n",
      "[-------------------------------------------------]   0% (10/100 wrk) eta:  ?s\n",
      "\n",
      "[-------------------------------------------------]   0% (11/100 wrk) eta:  ?s\n",
      "\n",
      "[-------------------------------------------------]   0% (12/100 wrk) eta:  ?s\n",
      "\n",
      "[-------------------------------------------------]   0% (13/100 wrk) eta:  ?s\n",
      "\n",
      "[-------------------------------------------------]   0% (14/100 wrk) eta:  ?s\n",
      "\n",
      "[-------------------------------------------------]   0% (15/100 wrk) eta:  ?s\n",
      "\n",
      "[-------------------------------------------------]   0% (16/100 wrk) eta:  ?s\n",
      "\n",
      "[-------------------------------------------------]   0% (17/100 wrk) eta:  ?s\n",
      "\n",
      "[-------------------------------------------------]   0% (18/100 wrk) eta:  ?s\n",
      "\n",
      "[-------------------------------------------------]   0% (19/100 wrk) eta:  ?s\n",
      "\n",
      "[-------------------------------------------------]   0% (20/100 wrk) eta:  ?s\n",
      "\n",
      "[-------------------------------------------------]   0% (21/100 wrk) eta:  ?s\n",
      "\n",
      "[-------------------------------------------------]   0% (22/100 wrk) eta:  ?s\n",
      "\n",
      "[-------------------------------------------------]   0% (23/100 wrk) eta:  ?s\n",
      "\n",
      "[-------------------------------------------------]   0% (24/100 wrk) eta:  ?s\n",
      "\n",
      "[-------------------------------------------------]   0% (25/100 wrk) eta:  ?s\n",
      "\n",
      "[-------------------------------------------------]   1% (25/100 wrk) eta: 14h\n",
      "\n",
      "[>------------------------------------------------]   2% (25/100 wrk) eta:  7h\n",
      "\n",
      "[>------------------------------------------------]   3% (25/100 wrk) eta:  4h\n",
      "\n",
      "[=>-----------------------------------------------]   4% (25/100 wrk) eta:  4h\n",
      "\n",
      "[=>-----------------------------------------------]   5% (25/100 wrk) eta:  3h\n",
      "\n",
      "[==>----------------------------------------------]   6% (25/100 wrk) eta:  2h\n",
      "\n",
      "[==>----------------------------------------------]   7% (25/100 wrk) eta:  2h\n",
      "\n",
      "[===>---------------------------------------------]   8% (25/100 wrk) eta:  2h\n",
      "\n",
      "[===>---------------------------------------------]   9% (25/100 wrk) eta:  2h\n",
      "\n",
      "[====>--------------------------------------------]  10% (25/100 wrk) eta:  2h\n",
      "\n",
      "[====>--------------------------------------------]  11% (25/100 wrk) eta:  1h\n",
      "\n",
      "[=====>-------------------------------------------]  12% (25/100 wrk) eta:  1h\n",
      "\n",
      "[=====>-------------------------------------------]  13% (25/100 wrk) eta:  1h\n",
      "\n",
      "[======>------------------------------------------]  14% (25/100 wrk) eta:  1h\n",
      "\n",
      "[======>------------------------------------------]  15% (25/100 wrk) eta:  1h\n",
      "\n",
      "[=======>-----------------------------------------]  16% (25/100 wrk) eta:  1h\n",
      "\n",
      "[=======>-----------------------------------------]  17% (25/100 wrk) eta:  1h\n",
      "\n",
      "[========>----------------------------------------]  18% (25/100 wrk) eta:  1h\n",
      "\n",
      "[========>----------------------------------------]  19% (25/100 wrk) eta:  1h\n",
      "\n",
      "[=========>---------------------------------------]  20% (25/100 wrk) eta:  1h\n",
      "\n",
      "[=========>---------------------------------------]  21% (25/100 wrk) eta: 49m\n",
      "\n",
      "[==========>--------------------------------------]  22% (25/100 wrk) eta: 47m\n",
      "\n",
      "[==========>--------------------------------------]  23% (25/100 wrk) eta: 45m\n",
      "\n",
      "[===========>-------------------------------------]  24% (25/100 wrk) eta: 42m\n",
      "\n",
      "[===========>-------------------------------------]  25% (25/100 wrk) eta: 41m\n",
      "\n",
      "[============>------------------------------------]  26% (25/100 wrk) eta: 39m\n",
      "\n",
      "[============>------------------------------------]  27% (25/100 wrk) eta: 38m\n",
      "\n",
      "[=============>-----------------------------------]  28% (25/100 wrk) eta: 39m\n",
      "\n",
      "[=============>-----------------------------------]  29% (25/100 wrk) eta: 38m\n",
      "\n",
      "[==============>----------------------------------]  30% (25/100 wrk) eta: 38m\n",
      "\n",
      "[==============>----------------------------------]  31% (25/100 wrk) eta: 38m\n",
      "\n",
      "[===============>---------------------------------]  32% (25/100 wrk) eta: 37m\n",
      "\n",
      "[===============>---------------------------------]  33% (25/100 wrk) eta: 36m\n",
      "\n",
      "[================>--------------------------------]  34% (25/100 wrk) eta: 34m\n",
      "\n",
      "[================>--------------------------------]  35% (25/100 wrk) eta: 34m\n",
      "\n",
      "[=================>-------------------------------]  36% (25/100 wrk) eta: 33m\n",
      "\n",
      "[=================>-------------------------------]  36% (26/100 wrk) eta: 33m\n",
      "\n",
      "[=================>-------------------------------]  37% (26/100 wrk) eta: 32m\n",
      "\n",
      "[=================>-------------------------------]  37% (27/100 wrk) eta: 32m\n",
      "\n",
      "[=================>-------------------------------]  37% (27/100 wrk) eta: 33m\n",
      "\n",
      "[==================>------------------------------]  38% (27/100 wrk) eta: 31m\n",
      "\n",
      "[==================>------------------------------]  38% (28/100 wrk) eta: 32m\n",
      "\n",
      "[==================>------------------------------]  39% (28/100 wrk) eta: 31m\n",
      "\n",
      "[===================>-----------------------------]  40% (28/100 wrk) eta: 31m\n",
      "\n",
      "[===================>-----------------------------]  40% (29/100 wrk) eta: 31m\n",
      "\n",
      "[===================>-----------------------------]  40% (30/100 wrk) eta: 31m\n",
      "\n",
      "[===================>-----------------------------]  41% (30/100 wrk) eta: 30m\n",
      "\n",
      "[====================>----------------------------]  42% (30/100 wrk) eta: 29m\n",
      "\n",
      "[====================>----------------------------]  42% (31/100 wrk) eta: 29m\n",
      "\n",
      "[====================>----------------------------]  42% (32/100 wrk) eta: 29m\n",
      "\n",
      "[====================>----------------------------]  42% (33/100 wrk) eta: 29m\n",
      "\n",
      "[====================>----------------------------]  42% (34/100 wrk) eta: 29m\n",
      "\n",
      "[====================>----------------------------]  42% (35/100 wrk) eta: 29m\n",
      "\n",
      "[====================>----------------------------]  42% (35/100 wrk) eta: 30m\n",
      "\n",
      "[====================>----------------------------]  42% (36/100 wrk) eta: 30m\n",
      "\n",
      "[====================>----------------------------]  43% (36/100 wrk) eta: 29m\n",
      "\n",
      "[====================>----------------------------]  43% (37/100 wrk) eta: 29m\n",
      "\n",
      "[=====================>---------------------------]  44% (37/100 wrk) eta: 28m\n",
      "\n",
      "[=====================>---------------------------]  45% (37/100 wrk) eta: 27m\n",
      "\n",
      "[=====================>---------------------------]  45% (38/100 wrk) eta: 27m\n",
      "\n",
      "[======================>--------------------------]  46% (38/100 wrk) eta: 26m\n",
      "\n",
      "[======================>--------------------------]  46% (39/100 wrk) eta: 26m\n",
      "\n",
      "[======================>--------------------------]  47% (39/100 wrk) eta: 25m\n",
      "\n",
      "[=======================>-------------------------]  48% (39/100 wrk) eta: 24m\n",
      "\n",
      "[=======================>-------------------------]  49% (39/100 wrk) eta: 24m\n",
      "\n",
      "[=======================>-------------------------]  50% (39/100 wrk) eta: 23m\n",
      "\n",
      "[=======================>-------------------------]  50% (40/100 wrk) eta: 23m\n",
      "\n",
      "[========================>------------------------]  51% (40/100 wrk) eta: 22m\n",
      "\n",
      "[========================>------------------------]  51% (41/100 wrk) eta: 22m\n",
      "\n",
      "[========================>------------------------]  51% (41/100 wrk) eta: 23m\n",
      "\n",
      "[========================>------------------------]  51% (42/100 wrk) eta: 23m\n",
      "\n",
      "[========================>------------------------]  51% (43/100 wrk) eta: 23m\n",
      "\n",
      "[========================>------------------------]  52% (43/100 wrk) eta: 22m\n",
      "\n",
      "[=========================>-----------------------]  53% (43/100 wrk) eta: 21m\n",
      "\n",
      "[=========================>-----------------------]  53% (44/100 wrk) eta: 21m\n"
     ]
    },
    {
     "name": "stderr",
     "output_type": "stream",
     "text": [
      "\n",
      "[=========================>-----------------------]  53% (45/100 wrk) eta: 21m\n",
      "\n",
      "[=========================>-----------------------]  53% (45/100 wrk) eta: 22m\n",
      "\n",
      "[=========================>-----------------------]  54% (45/100 wrk) eta: 21m\n",
      "\n",
      "[==========================>----------------------]  55% (45/100 wrk) eta: 20m\n",
      "\n",
      "[==========================>----------------------]  56% (45/100 wrk) eta: 19m\n",
      "\n",
      "[===========================>----------------------]  57% (44/99 wrk) eta: 19m\n",
      "\n",
      "[============================>---------------------]  58% (43/98 wrk) eta: 18m\n",
      "\n",
      "[=============================>--------------------]  59% (42/97 wrk) eta: 18m\n",
      "\n",
      "[=============================>--------------------]  59% (42/96 wrk) eta: 18m\n",
      "\n",
      "[=============================>--------------------]  60% (42/96 wrk) eta: 17m\n",
      "\n",
      "[=============================>--------------------]  60% (41/95 wrk) eta: 17m\n",
      "\n",
      "[=============================>--------------------]  61% (40/94 wrk) eta: 17m\n",
      "\n",
      "[==============================>-------------------]  62% (39/93 wrk) eta: 16m\n",
      "\n",
      "[==============================>-------------------]  62% (39/92 wrk) eta: 16m\n",
      "\n",
      "[==============================>-------------------]  62% (40/92 wrk) eta: 16m\n",
      "\n",
      "[==============================>-------------------]  62% (41/92 wrk) eta: 16m\n",
      "\n",
      "[==============================>-------------------]  62% (40/91 wrk) eta: 16m\n",
      "\n",
      "[==============================>-------------------]  62% (39/90 wrk) eta: 16m\n",
      "\n",
      "[==============================>-------------------]  62% (39/89 wrk) eta: 17m\n",
      "\n",
      "[==============================>-------------------]  62% (40/89 wrk) eta: 17m\n",
      "\n",
      "[==============================>-------------------]  62% (41/89 wrk) eta: 17m\n",
      "\n",
      "[==============================>-------------------]  62% (42/89 wrk) eta: 17m\n",
      "\n",
      "[==============================>-------------------]  62% (41/87 wrk) eta: 17m\n",
      "\n",
      "[==============================>-------------------]  62% (40/86 wrk) eta: 17m\n",
      "\n",
      "[==============================>-------------------]  62% (39/85 wrk) eta: 17m\n",
      "\n",
      "[==============================>-------------------]  62% (39/84 wrk) eta: 17m\n",
      "\n",
      "[==============================>-------------------]  62% (40/84 wrk) eta: 17m\n",
      "\n",
      "[==============================>-------------------]  62% (41/84 wrk) eta: 17m\n",
      "\n",
      "[==============================>-------------------]  62% (42/84 wrk) eta: 17m\n",
      "\n",
      "[===============================>------------------]  63% (42/84 wrk) eta: 16m\n",
      "\n",
      "[===============================>------------------]  63% (41/83 wrk) eta: 16m\n",
      "\n",
      "[===============================>------------------]  64% (41/83 wrk) eta: 16m\n",
      "\n",
      "[===============================>------------------]  64% (39/81 wrk) eta: 16m\n",
      "\n",
      "[===============================>------------------]  65% (36/78 wrk) eta: 15m\n",
      "\n",
      "[===============================>------------------]  65% (36/77 wrk) eta: 15m\n",
      "\n",
      "[===============================>------------------]  65% (37/77 wrk) eta: 15m\n",
      "\n",
      "[================================>-----------------]  66% (37/77 wrk) eta: 14m\n",
      "\n",
      "[================================>-----------------]  66% (36/76 wrk) eta: 14m\n",
      "\n",
      "[================================>-----------------]  66% (35/75 wrk) eta: 14m\n",
      "\n",
      "[=================================>----------------]  67% (34/74 wrk) eta: 14m\n",
      "\n",
      "[=================================>----------------]  67% (34/73 wrk) eta: 14m\n",
      "\n",
      "[=================================>----------------]  68% (33/72 wrk) eta: 13m\n",
      "\n",
      "[=================================>----------------]  68% (33/71 wrk) eta: 13m\n",
      "\n",
      "[=================================>----------------]  69% (33/71 wrk) eta: 13m\n",
      "\n",
      "[=================================>----------------]  69% (33/70 wrk) eta: 13m\n",
      "\n",
      "[=================================>----------------]  69% (34/70 wrk) eta: 13m\n",
      "\n",
      "[=================================>----------------]  69% (34/69 wrk) eta: 13m\n",
      "\n",
      "[=================================>----------------]  69% (35/69 wrk) eta: 13m\n",
      "\n",
      "[=================================>----------------]  69% (36/69 wrk) eta: 13m\n",
      "\n",
      "[=================================>----------------]  69% (37/69 wrk) eta: 13m\n",
      "\n",
      "[=================================>----------------]  69% (36/68 wrk) eta: 13m\n",
      "\n",
      "[=================================>----------------]  69% (35/67 wrk) eta: 13m\n",
      "\n",
      "[=================================>----------------]  69% (34/66 wrk) eta: 13m\n",
      "\n",
      "[=================================>----------------]  69% (33/65 wrk) eta: 13m\n",
      "\n",
      "[=================================>----------------]  69% (32/63 wrk) eta: 13m\n",
      "\n",
      "[=================================>----------------]  69% (33/63 wrk) eta: 13m\n",
      "\n",
      "[=================================>----------------]  69% (32/62 wrk) eta: 13m\n",
      "\n",
      "[=================================>----------------]  69% (32/61 wrk) eta: 13m\n",
      "\n",
      "[=================================>----------------]  69% (33/61 wrk) eta: 13m\n",
      "\n",
      "[=================================>----------------]  69% (32/60 wrk) eta: 13m\n",
      "\n",
      "[=================================>----------------]  69% (33/60 wrk) eta: 13m\n",
      "\n",
      "[=================================>----------------]  69% (33/59 wrk) eta: 13m\n",
      "\n",
      "[==================================>---------------]  70% (33/59 wrk) eta: 13m\n",
      "\n",
      "[==================================>---------------]  70% (34/59 wrk) eta: 13m\n",
      "\n",
      "[==================================>---------------]  70% (34/58 wrk) eta: 13m\n",
      "\n",
      "[==================================>---------------]  70% (35/58 wrk) eta: 13m\n",
      "\n",
      "[==================================>---------------]  70% (33/56 wrk) eta: 13m\n",
      "\n",
      "[==================================>---------------]  70% (31/54 wrk) eta: 13m\n",
      "\n",
      "[===================================>--------------]  71% (30/53 wrk) eta: 12m\n",
      "\n",
      "[===================================>--------------]  72% (30/53 wrk) eta: 12m\n",
      "\n",
      "[===================================>--------------]  72% (29/51 wrk) eta: 12m\n",
      "\n",
      "[===================================>--------------]  72% (30/51 wrk) eta: 12m\n",
      "\n",
      "[===================================>--------------]  72% (31/51 wrk) eta: 12m\n",
      "\n",
      "[===================================>--------------]  73% (30/50 wrk) eta: 11m\n",
      "\n",
      "[====================================>-------------]  74% (27/47 wrk) eta: 11m\n",
      "\n",
      "[====================================>-------------]  74% (27/46 wrk) eta: 11m\n",
      "\n",
      "[====================================>-------------]  74% (28/46 wrk) eta: 11m\n",
      "\n",
      "[====================================>-------------]  74% (29/46 wrk) eta: 11m\n",
      "\n",
      "[====================================>-------------]  74% (30/46 wrk) eta: 11m\n",
      "\n",
      "[====================================>-------------]  74% (31/46 wrk) eta: 11m\n",
      "\n",
      "[====================================>-------------]  74% (32/46 wrk) eta: 11m\n",
      "\n",
      "[====================================>-------------]  74% (33/46 wrk) eta: 11m\n",
      "\n",
      "[====================================>-------------]  74% (34/46 wrk) eta: 11m\n",
      "\n",
      "[====================================>-------------]  74% (33/45 wrk) eta: 11m\n",
      "\n",
      "[====================================>-------------]  74% (31/43 wrk) eta: 11m\n",
      "\n",
      "[====================================>-------------]  74% (29/41 wrk) eta: 11m\n",
      "\n",
      "[=====================================>------------]  75% (27/39 wrk) eta: 10m\n",
      "\n",
      "[=====================================>------------]  75% (28/39 wrk) eta: 10m\n",
      "\n",
      "[=====================================>------------]  75% (28/38 wrk) eta: 10m\n",
      "\n",
      "[=====================================>------------]  75% (29/38 wrk) eta: 10m\n",
      "\n",
      "[=====================================>------------]  75% (30/38 wrk) eta: 10m\n",
      "\n",
      "[=====================================>------------]  75% (30/37 wrk) eta: 10m\n",
      "\n",
      "[=====================================>------------]  76% (30/37 wrk) eta: 10m\n",
      "\n",
      "[=====================================>------------]  76% (29/36 wrk) eta: 10m\n",
      "\n",
      "[=====================================>------------]  76% (30/36 wrk) eta: 10m\n",
      "\n",
      "[=====================================>------------]  76% (29/35 wrk) eta: 10m\n",
      "\n",
      "[=====================================>------------]  77% (28/34 wrk) eta:  9m\n",
      "\n",
      "[=====================================>------------]  77% (26/32 wrk) eta:  9m\n",
      "\n",
      "[=====================================>------------]  77% (24/30 wrk) eta:  9m\n",
      "\n",
      "[=====================================>------------]  77% (25/30 wrk) eta:  9m\n",
      "\n",
      "[=====================================>------------]  77% (25/29 wrk) eta:  9m\n",
      "\n",
      "[=====================================>------------]  77% (26/29 wrk) eta:  9m\n",
      "\n",
      "[======================================>-----------]  78% (26/29 wrk) eta:  9m\n"
     ]
    },
    {
     "name": "stderr",
     "output_type": "stream",
     "text": [
      "\n",
      "[======================================>-----------]  78% (25/28 wrk) eta:  9m\n",
      "\n",
      "[======================================>-----------]  78% (24/27 wrk) eta:  9m\n",
      "\n",
      "[======================================>-----------]  78% (23/26 wrk) eta:  9m\n",
      "\n",
      "[======================================>-----------]  78% (23/25 wrk) eta:  9m\n",
      "\n",
      "[======================================>-----------]  78% (24/25 wrk) eta:  9m\n",
      "\n",
      "[=======================================>----------]  79% (24/25 wrk) eta:  8m\n",
      "\n",
      "[=======================================>----------]  79% (24/24 wrk) eta:  8m\n",
      "\n",
      "[=======================================>----------]  80% (24/24 wrk) eta:  8m\n",
      "\n",
      "[=======================================>----------]  80% (23/23 wrk) eta:  8m\n",
      "\n",
      "[=======================================>----------]  80% (22/22 wrk) eta:  8m\n",
      "\n",
      "[=======================================>----------]  80% (21/21 wrk) eta:  8m\n",
      "\n",
      "[=======================================>----------]  81% (20/20 wrk) eta:  7m\n",
      "\n",
      "[========================================>---------]  82% (19/19 wrk) eta:  7m\n",
      "\n",
      "[=========================================>--------]  83% (18/18 wrk) eta:  7m\n",
      "\n",
      "[=========================================>--------]  84% (17/17 wrk) eta:  6m\n",
      "\n",
      "[=========================================>--------]  85% (16/16 wrk) eta:  6m\n",
      "\n",
      "[==========================================>-------]  86% (15/15 wrk) eta:  5m\n",
      "\n",
      "[===========================================>------]  87% (14/14 wrk) eta:  5m\n",
      "\n",
      "[===========================================>------]  88% (13/13 wrk) eta:  4m\n",
      "\n",
      "[===========================================>------]  89% (12/12 wrk) eta:  4m\n",
      "\n",
      "[============================================>-----]  90% (11/11 wrk) eta:  4m\n",
      "\n",
      "[=============================================>----]  91% (10/10 wrk) eta:  3m\n",
      "\n",
      "[===============================================>----]  92% (9/9 wrk) eta:  3m\n",
      "\n",
      "[===============================================>----]  93% (8/8 wrk) eta:  3m\n",
      "\n",
      "[================================================>---]  94% (7/7 wrk) eta:  2m\n",
      "\n",
      "[================================================>---]  95% (6/6 wrk) eta:  2m\n",
      "\n",
      "[=================================================>--]  96% (5/5 wrk) eta:  1m\n",
      "\n",
      "[=================================================>--]  97% (4/4 wrk) eta:  1m\n",
      "\n",
      "[==================================================>-]  98% (3/3 wrk) eta: 42s\n",
      "\n",
      "[==================================================>-]  99% (2/2 wrk) eta: 21s\n",
      "\n",
      "[====================================================] 100% (1/1 wrk) eta:  0s\n",
      "                                                                              \n",
      "\n",
      "Master: [2130.4s 4.4% CPU]; Worker: [avg 5.0% CPU, max 1501.8 Mb]\n",
      "\n"
     ]
    }
   ],
   "source": [
    "rules <- Q(model2DE_cluster\n",
    "  , partition = preclu$partitions\n",
    "  , export=list(data = preclu$data\n",
    "                , target = target_c\n",
    "                , exec = preclu$exec\n",
    "                , classPos = '1'\n",
    "                , prune = TRUE, maxDecay = 0.05, typeDecay = 2 \n",
    "                , filter = TRUE\n",
    "                , in_parallel = TRUE, n_cores = 15\n",
    "               )\n",
    "  , n_jobs= 100\n",
    "  , pkgs=c('data.table', 'parallel', 'caret', 'stringr', 'scales', 'dplyr', 'inTrees', 'babR')\n",
    "  , log_worker=FALSE\n",
    "  , template = tmpl\n",
    " )"
   ]
  },
  {
   "cell_type": "code",
   "execution_count": 41,
   "metadata": {
    "ExecuteTime": {
     "end_time": "2021-03-16T12:54:43.776743Z",
     "start_time": "2021-03-16T12:19:19.505Z"
    },
    "deletable": false,
    "editable": false,
    "run_control": {
     "frozen": true
    }
   },
   "outputs": [],
   "source": [
    "qsave(rules, 'All_bootstraps.qs')"
   ]
  }
 ],
 "metadata": {
  "kernelspec": {
   "display_name": "R [conda env:Metagenomes_methanogen-r-ml] *",
   "language": "R",
   "name": "conda-env-Metagenomes_methanogen-r-ml-r"
  },
  "language_info": {
   "codemirror_mode": "r",
   "file_extension": ".r",
   "mimetype": "text/x-r-source",
   "name": "R",
   "pygments_lexer": "r",
   "version": "4.0.3"
  },
  "notify_time": "30",
  "toc": {
   "base_numbering": 1,
   "nav_menu": {},
   "number_sections": true,
   "sideBar": true,
   "skip_h1_title": false,
   "title_cell": "Table of Contents",
   "title_sidebar": "Contents",
   "toc_cell": false,
   "toc_position": {
    "height": "calc(100% - 180px)",
    "left": "10px",
    "top": "150px",
    "width": "175.2px"
   },
   "toc_section_display": true,
   "toc_window_display": true
  }
 },
 "nbformat": 4,
 "nbformat_minor": 4
}
