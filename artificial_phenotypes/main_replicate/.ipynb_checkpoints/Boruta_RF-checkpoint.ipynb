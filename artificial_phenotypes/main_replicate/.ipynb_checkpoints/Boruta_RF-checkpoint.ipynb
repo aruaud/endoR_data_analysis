{
 "cells": [
  {
   "cell_type": "markdown",
   "metadata": {
    "heading_collapsed": true
   },
   "source": [
    "# Preambule"
   ]
  },
  {
   "cell_type": "code",
   "execution_count": 1,
   "metadata": {
    "ExecuteTime": {
     "end_time": "2021-04-03T10:55:58.456737Z",
     "start_time": "2021-04-03T10:55:49.142Z"
    },
    "hidden": true
   },
   "outputs": [
    {
     "name": "stderr",
     "output_type": "stream",
     "text": [
      "── \u001b[1mAttaching packages\u001b[22m ───────────────────────────────────────────────────────────────────────────────────────────────────────────────────────────────────────────────────────────── tidyverse 1.3.0 ──\n",
      "\n",
      "\u001b[32m✔\u001b[39m \u001b[34mggplot2\u001b[39m 3.3.2     \u001b[32m✔\u001b[39m \u001b[34mpurrr  \u001b[39m 0.3.4\n",
      "\u001b[32m✔\u001b[39m \u001b[34mtibble \u001b[39m 3.0.4     \u001b[32m✔\u001b[39m \u001b[34mdplyr  \u001b[39m 1.0.2\n",
      "\u001b[32m✔\u001b[39m \u001b[34mtidyr  \u001b[39m 1.1.2     \u001b[32m✔\u001b[39m \u001b[34mstringr\u001b[39m 1.4.0\n",
      "\u001b[32m✔\u001b[39m \u001b[34mreadr  \u001b[39m 1.4.0     \u001b[32m✔\u001b[39m \u001b[34mforcats\u001b[39m 0.5.0\n",
      "\n",
      "── \u001b[1mConflicts\u001b[22m ──────────────────────────────────────────────────────────────────────────────────────────────────────────────────────────────────────────────────────────────── tidyverse_conflicts() ──\n",
      "\u001b[31m✖\u001b[39m \u001b[34mdplyr\u001b[39m::\u001b[32mfilter()\u001b[39m masks \u001b[34mstats\u001b[39m::filter()\n",
      "\u001b[31m✖\u001b[39m \u001b[34mdplyr\u001b[39m::\u001b[32mlag()\u001b[39m    masks \u001b[34mstats\u001b[39m::lag()\n",
      "\n",
      "Loading required package: lattice\n",
      "\n",
      "\n",
      "Attaching package: ‘caret’\n",
      "\n",
      "\n",
      "The following object is masked from ‘package:purrr’:\n",
      "\n",
      "    lift\n",
      "\n",
      "\n",
      "\n",
      "Attaching package: ‘data.table’\n",
      "\n",
      "\n",
      "The following objects are masked from ‘package:dplyr’:\n",
      "\n",
      "    between, first, last\n",
      "\n",
      "\n",
      "The following object is masked from ‘package:purrr’:\n",
      "\n",
      "    transpose\n",
      "\n",
      "\n",
      "randomForest 4.6-14\n",
      "\n",
      "Type rfNews() to see new features/changes/bug fixes.\n",
      "\n",
      "\n",
      "Attaching package: ‘randomForest’\n",
      "\n",
      "\n",
      "The following object is masked from ‘package:dplyr’:\n",
      "\n",
      "    combine\n",
      "\n",
      "\n",
      "The following object is masked from ‘package:ggplot2’:\n",
      "\n",
      "    margin\n",
      "\n",
      "\n",
      "qs v0.23.4.\n",
      "\n"
     ]
    }
   ],
   "source": [
    "library(tidyverse)\n",
    "library(stringr)\n",
    "library(caret)\n",
    "library(data.table)\n",
    "library(stringr)\n",
    "library(dplyr)\n",
    "library(randomForest)\n",
    "library(qs)\n",
    "library(parallel)\n",
    "library(Boruta)\n",
    "library(clustermq)"
   ]
  },
  {
   "cell_type": "code",
   "execution_count": 2,
   "metadata": {
    "ExecuteTime": {
     "end_time": "2021-04-03T10:55:58.553189Z",
     "start_time": "2021-04-03T10:55:49.933Z"
    },
    "hidden": true
   },
   "outputs": [
    {
     "data": {
      "text/plain": [
       "R version 4.0.3 (2020-10-10)\n",
       "Platform: x86_64-conda-linux-gnu (64-bit)\n",
       "Running under: Ubuntu 18.04.5 LTS\n",
       "\n",
       "Matrix products: default\n",
       "BLAS/LAPACK: /ebio/abt3_projects/Methanogen_SCFA/Metagenomes_methanogen/envs/r-ml/lib/libopenblasp-r0.3.10.so\n",
       "\n",
       "locale:\n",
       " [1] LC_CTYPE=en_US.UTF-8       LC_NUMERIC=C              \n",
       " [3] LC_TIME=en_US.UTF-8        LC_COLLATE=en_US.UTF-8    \n",
       " [5] LC_MONETARY=en_US.UTF-8    LC_MESSAGES=en_US.UTF-8   \n",
       " [7] LC_PAPER=en_US.UTF-8       LC_NAME=C                 \n",
       " [9] LC_ADDRESS=C               LC_TELEPHONE=C            \n",
       "[11] LC_MEASUREMENT=en_US.UTF-8 LC_IDENTIFICATION=C       \n",
       "\n",
       "attached base packages:\n",
       "[1] parallel  stats     graphics  grDevices utils     datasets  methods  \n",
       "[8] base     \n",
       "\n",
       "other attached packages:\n",
       " [1] clustermq_0.8.95.1  Boruta_7.0.0        qs_0.23.4          \n",
       " [4] randomForest_4.6-14 data.table_1.13.4   caret_6.0-86       \n",
       " [7] lattice_0.20-41     forcats_0.5.0       stringr_1.4.0      \n",
       "[10] dplyr_1.0.2         purrr_0.3.4         readr_1.4.0        \n",
       "[13] tidyr_1.1.2         tibble_3.0.4        ggplot2_3.3.2      \n",
       "[16] tidyverse_1.3.0    \n",
       "\n",
       "loaded via a namespace (and not attached):\n",
       " [1] nlme_3.1-150         fs_1.5.0             lubridate_1.7.9.2   \n",
       " [4] httr_1.4.2           repr_1.1.2.9000      tools_4.0.3         \n",
       " [7] backports_1.2.0      R6_2.5.0             rpart_4.1-15        \n",
       "[10] DBI_1.1.0            colorspace_2.0-0     nnet_7.3-14         \n",
       "[13] withr_2.3.0          tidyselect_1.1.0     compiler_4.0.3      \n",
       "[16] cli_2.2.0            rvest_0.3.6          xml2_1.3.2          \n",
       "[19] stringfish_0.14.2    scales_1.1.1         pbdZMQ_0.3-3.1      \n",
       "[22] digest_0.6.27        base64enc_0.1-3      pkgconfig_2.0.3     \n",
       "[25] htmltools_0.5.0      dbplyr_2.0.0         rlang_0.4.10        \n",
       "[28] readxl_1.3.1         rstudioapi_0.13      generics_0.1.0      \n",
       "[31] RApiSerialize_0.1.0  jsonlite_1.7.2       ModelMetrics_1.2.2.2\n",
       "[34] magrittr_2.0.1       Matrix_1.2-18        Rcpp_1.0.5          \n",
       "[37] IRkernel_1.1.1       munsell_0.5.0        fansi_0.4.1         \n",
       "[40] lifecycle_0.2.0      stringi_1.5.3        pROC_1.16.2         \n",
       "[43] MASS_7.3-53          plyr_1.8.6           recipes_0.1.15      \n",
       "[46] grid_4.0.3           crayon_1.3.4         IRdisplay_0.7.0     \n",
       "[49] haven_2.3.1          splines_4.0.3        hms_0.5.3           \n",
       "[52] ps_1.5.0             pillar_1.4.7         uuid_0.1-4          \n",
       "[55] reshape2_1.4.4       codetools_0.2-18     stats4_4.0.3        \n",
       "[58] reprex_0.3.0         glue_1.4.2           evaluate_0.14       \n",
       "[61] RcppParallel_5.0.2   modelr_0.1.8         vctrs_0.3.6         \n",
       "[64] foreach_1.5.1        cellranger_1.1.0     gtable_0.3.0        \n",
       "[67] assertthat_0.2.1     gower_0.2.2          prodlim_2019.11.13  \n",
       "[70] broom_0.7.2          class_7.3-17         survival_3.2-7      \n",
       "[73] timeDate_3043.102    iterators_1.0.13     lava_1.6.8.1        \n",
       "[76] ellipsis_0.3.1       ipred_0.9-9         "
      ]
     },
     "metadata": {},
     "output_type": "display_data"
    }
   ],
   "source": [
    "sessionInfo()"
   ]
  },
  {
   "cell_type": "markdown",
   "metadata": {},
   "source": [
    "# Data"
   ]
  },
  {
   "cell_type": "code",
   "execution_count": 3,
   "metadata": {
    "ExecuteTime": {
     "end_time": "2021-01-05T11:52:58.567198Z",
     "start_time": "2021-01-05T11:52:51.174Z"
    }
   },
   "outputs": [],
   "source": [
    "taxa <- qread('../data/taxa_table.qs')\n",
    "pp <- qread('../data/tax_meta.qs')"
   ]
  },
  {
   "cell_type": "code",
   "execution_count": 5,
   "metadata": {
    "ExecuteTime": {
     "end_time": "2021-04-02T12:55:35.450098Z",
     "start_time": "2021-04-02T12:55:32.017Z"
    }
   },
   "outputs": [
    {
     "data": {
      "text/html": [
       "<style>\n",
       ".list-inline {list-style: none; margin:0; padding: 0}\n",
       ".list-inline>li {display: inline-block}\n",
       ".list-inline>li:not(:last-child)::after {content: \"\\00b7\"; padding: 0 .5ex}\n",
       "</style>\n",
       "<ol class=list-inline><li>2147</li><li>2513</li></ol>\n"
      ],
      "text/latex": [
       "\\begin{enumerate*}\n",
       "\\item 2147\n",
       "\\item 2513\n",
       "\\end{enumerate*}\n"
      ],
      "text/markdown": [
       "1. 2147\n",
       "2. 2513\n",
       "\n",
       "\n"
      ],
      "text/plain": [
       "[1] 2147 2513"
      ]
     },
     "metadata": {},
     "output_type": "display_data"
    }
   ],
   "source": [
    "# remove the MetaCyc pathways\n",
    "to_rm <- seq(pp %>% colnames %>% str_which(pattern = '^[:lower:]\\\\_{1}') %>% max, ncol(pp), 1)\n",
    "pp <- pp[,-to_rm]\n",
    "pp %>% dim"
   ]
  },
  {
   "cell_type": "code",
   "execution_count": 6,
   "metadata": {
    "ExecuteTime": {
     "end_time": "2021-04-02T12:55:37.507178Z",
     "start_time": "2021-04-02T12:55:37.149Z"
    }
   },
   "outputs": [],
   "source": [
    "# remove the metadata\n",
    "meta <- c('dataset_name','Sample','age','gender','country','BMI','westernized')\n",
    "X <- select(pp, -all_of(meta))"
   ]
  },
  {
   "cell_type": "code",
   "execution_count": 7,
   "metadata": {
    "ExecuteTime": {
     "end_time": "2021-04-02T12:55:40.309442Z",
     "start_time": "2021-04-02T12:55:39.312Z"
    },
    "collapsed": true
   },
   "outputs": [
    {
     "data": {
      "text/html": [
       "<style>\n",
       ".list-inline {list-style: none; margin:0; padding: 0}\n",
       ".list-inline>li {display: inline-block}\n",
       ".list-inline>li:not(:last-child)::after {content: \"\\00b7\"; padding: 0 .5ex}\n",
       "</style>\n",
       "<ol class=list-inline><li>2147</li><li>520</li></ol>\n"
      ],
      "text/latex": [
       "\\begin{enumerate*}\n",
       "\\item 2147\n",
       "\\item 520\n",
       "\\end{enumerate*}\n"
      ],
      "text/markdown": [
       "1. 2147\n",
       "2. 520\n",
       "\n",
       "\n"
      ],
      "text/plain": [
       "[1] 2147  520"
      ]
     },
     "metadata": {},
     "output_type": "display_data"
    }
   ],
   "source": [
    "# keep only taxa with prevalance > 24%\n",
    "tmp <- colnames(X)[which(colSums(X != 0) > nrow(X)/4)]\n",
    "X <- select(X, all_of(tmp))\n",
    "X %>% dim"
   ]
  },
  {
   "cell_type": "code",
   "execution_count": 8,
   "metadata": {
    "ExecuteTime": {
     "end_time": "2021-04-02T12:55:43.033306Z",
     "start_time": "2021-04-02T12:55:42.667Z"
    }
   },
   "outputs": [],
   "source": [
    "# shuffle samples\n",
    "set.seed(0)\n",
    "X <- X[complete.cases(X),][sample(1:nrow(X)),]"
   ]
  },
  {
   "cell_type": "markdown",
   "metadata": {
    "heading_collapsed": true
   },
   "source": [
    "# Make the target"
   ]
  },
  {
   "cell_type": "code",
   "execution_count": 9,
   "metadata": {
    "ExecuteTime": {
     "end_time": "2021-04-02T12:56:07.274424Z",
     "start_time": "2021-04-02T12:56:06.903Z"
    },
    "hidden": true
   },
   "outputs": [],
   "source": [
    "# draw random variables for predicting groups\n",
    "set.seed(1209)\n",
    "var_ix <- sample(which(colSums(X != 0) > nrow(X)/2), 9, replace = FALSE)\n",
    "var_n <- colnames(X)[var_ix]"
   ]
  },
  {
   "cell_type": "code",
   "execution_count": 10,
   "metadata": {
    "ExecuteTime": {
     "end_time": "2021-04-02T12:56:08.637129Z",
     "start_time": "2021-04-02T12:56:08.295Z"
    },
    "hidden": true
   },
   "outputs": [
    {
     "data": {
      "text/html": [
       "<style>\n",
       ".list-inline {list-style: none; margin:0; padding: 0}\n",
       ".list-inline>li {display: inline-block}\n",
       ".list-inline>li:not(:last-child)::after {content: \"\\00b7\"; padding: 0 .5ex}\n",
       "</style>\n",
       "<ol class=list-inline><li>'s_Marvinbryantia_sp900066075'</li><li>'g_Alistipes_A'</li><li>'f_Bacteroidaceae'</li><li>'g_Dialister'</li><li>'s_Oscillibacter_sp001916835'</li><li>'s_Bacteroides_clarus'</li><li>'s_Faecalibacterium_prausnitzii_G'</li><li>'s_Lawsonibacter_sp000177015'</li><li>'f_Anaerovoracaceae'</li></ol>\n"
      ],
      "text/latex": [
       "\\begin{enumerate*}\n",
       "\\item 's\\_Marvinbryantia\\_sp900066075'\n",
       "\\item 'g\\_Alistipes\\_A'\n",
       "\\item 'f\\_Bacteroidaceae'\n",
       "\\item 'g\\_Dialister'\n",
       "\\item 's\\_Oscillibacter\\_sp001916835'\n",
       "\\item 's\\_Bacteroides\\_clarus'\n",
       "\\item 's\\_Faecalibacterium\\_prausnitzii\\_G'\n",
       "\\item 's\\_Lawsonibacter\\_sp000177015'\n",
       "\\item 'f\\_Anaerovoracaceae'\n",
       "\\end{enumerate*}\n"
      ],
      "text/markdown": [
       "1. 's_Marvinbryantia_sp900066075'\n",
       "2. 'g_Alistipes_A'\n",
       "3. 'f_Bacteroidaceae'\n",
       "4. 'g_Dialister'\n",
       "5. 's_Oscillibacter_sp001916835'\n",
       "6. 's_Bacteroides_clarus'\n",
       "7. 's_Faecalibacterium_prausnitzii_G'\n",
       "8. 's_Lawsonibacter_sp000177015'\n",
       "9. 'f_Anaerovoracaceae'\n",
       "\n",
       "\n"
      ],
      "text/plain": [
       "[1] \"s_Marvinbryantia_sp900066075\"     \"g_Alistipes_A\"                   \n",
       "[3] \"f_Bacteroidaceae\"                 \"g_Dialister\"                     \n",
       "[5] \"s_Oscillibacter_sp001916835\"      \"s_Bacteroides_clarus\"            \n",
       "[7] \"s_Faecalibacterium_prausnitzii_G\" \"s_Lawsonibacter_sp000177015\"     \n",
       "[9] \"f_Anaerovoracaceae\"              "
      ]
     },
     "metadata": {},
     "output_type": "display_data"
    }
   ],
   "source": [
    "var_n"
   ]
  },
  {
   "cell_type": "code",
   "execution_count": 11,
   "metadata": {
    "ExecuteTime": {
     "end_time": "2021-04-02T12:56:17.375215Z",
     "start_time": "2021-04-02T12:56:17.020Z"
    },
    "hidden": true
   },
   "outputs": [],
   "source": [
    "nr <- nrow(X)\n",
    "ng <- floor(nr/4)\n",
    "# make groups\n",
    "X <- as.data.table(X)[,'group':=c(rep('a',ng), rep('b', ng), rep('c', ng), rep('d', nr-3*ng))]"
   ]
  },
  {
   "cell_type": "code",
   "execution_count": 12,
   "metadata": {
    "ExecuteTime": {
     "end_time": "2021-04-02T12:56:21.418284Z",
     "start_time": "2021-04-02T12:56:21.078Z"
    },
    "hidden": true
   },
   "outputs": [],
   "source": [
    "target <- data.frame('group'= X$group, 'tc'='1', stringsAsFactors = FALSE)"
   ]
  },
  {
   "cell_type": "code",
   "execution_count": 13,
   "metadata": {
    "ExecuteTime": {
     "end_time": "2021-04-02T12:56:42.314996Z",
     "start_time": "2021-04-02T12:56:41.965Z"
    },
    "hidden": true
   },
   "outputs": [],
   "source": [
    "# for each group, make target according to random drawn taxa of var_n\n",
    "target$tc[target$group == 'a'] <- ifelse( X$s_Marvinbryantia_sp900066075[target$group == 'a'] > 0 \n",
    "                                         & X$g_Alistipes_A[target$group == 'a'] > 0 \n",
    "                                         , '1', '-1')\n",
    "target$tc[target$group == 'b'] <- ifelse( X$f_Bacteroidaceae[target$group == 'b'] > 10^-(1) \n",
    "                                         & X$g_Dialister[target$group == 'b'] > 10^-(2.5)\n",
    "                                         , '1', '-1')\n",
    "target$tc[target$group == 'c'] <- ifelse((X$s_Oscillibacter_sp001916835[target$group == 'c'] > 0 \n",
    "                                         & X$s_Bacteroides_clarus[target$group == 'c'] > 0)\n",
    "                                         | X$s_Faecalibacterium_prausnitzii_G[target$group == 'c'] >10^-2\n",
    "                                         , '1', '-1')\n",
    "target$tc[target$group == 'd'] <- ifelse( X$s_Lawsonibacter_sp000177015[target$group == 'd'] <= 10^-3.4 \n",
    "                                         & X$f_Anaerovoracaceae[target$group == 'd'] > 0\n",
    "                                         , '1', '-1')"
   ]
  },
  {
   "cell_type": "code",
   "execution_count": 14,
   "metadata": {
    "ExecuteTime": {
     "end_time": "2021-04-02T12:56:44.087238Z",
     "start_time": "2021-04-02T12:56:43.742Z"
    },
    "hidden": true,
    "scrolled": true
   },
   "outputs": [
    {
     "data": {
      "text/plain": [
       "    \n",
       "       a   b   c   d\n",
       "  -1 319 299 214 361\n",
       "  1  217 237 322 178"
      ]
     },
     "metadata": {},
     "output_type": "display_data"
    }
   ],
   "source": [
    "table(target$tc, target$group)"
   ]
  },
  {
   "cell_type": "code",
   "execution_count": 15,
   "metadata": {
    "ExecuteTime": {
     "end_time": "2021-04-02T12:56:52.507782Z",
     "start_time": "2021-04-02T12:56:51.435Z"
    },
    "hidden": true
   },
   "outputs": [],
   "source": [
    "# randomise group labels\n",
    "groups <- c('a', 'b', 'c', 'd', 'e')\n",
    "set.seed(0)\n",
    "brnounou <- rbinom(n = length(X$group), size = 1,prob = 0.05)\n",
    "for (i in 1:length(brnounou)){\n",
    "    if (brnounou[i] == 1){\n",
    "        set.seed(i)\n",
    "        X$group[i] <- sample(groups[groups != X$group[i]], 1)\n",
    "    }\n",
    "}"
   ]
  },
  {
   "cell_type": "code",
   "execution_count": 16,
   "metadata": {
    "ExecuteTime": {
     "end_time": "2021-04-02T12:56:53.913570Z",
     "start_time": "2021-04-02T12:56:53.570Z"
    },
    "hidden": true
   },
   "outputs": [
    {
     "data": {
      "text/plain": [
       "    \n",
       "       a   b   c   d   e\n",
       "  -1 312 296 226 347  12\n",
       "  1  219 232 318 175  10"
      ]
     },
     "metadata": {},
     "output_type": "display_data"
    }
   ],
   "source": [
    "table(target$tc, X$group)"
   ]
  },
  {
   "cell_type": "markdown",
   "metadata": {},
   "source": [
    "# Train "
   ]
  },
  {
   "cell_type": "markdown",
   "metadata": {},
   "source": [
    "## data"
   ]
  },
  {
   "cell_type": "code",
   "execution_count": 18,
   "metadata": {
    "ExecuteTime": {
     "end_time": "2021-01-05T11:53:02.003312Z",
     "start_time": "2021-01-05T11:52:51.213Z"
    }
   },
   "outputs": [],
   "source": [
    "target_c <- as.factor(target$tc)\n",
    "X <- X[, 'group':= as.factor(group)]"
   ]
  },
  {
   "cell_type": "code",
   "execution_count": 19,
   "metadata": {
    "ExecuteTime": {
     "end_time": "2021-01-05T11:53:02.409033Z",
     "start_time": "2021-01-05T11:52:51.215Z"
    }
   },
   "outputs": [],
   "source": [
    "# transform to dummy\n",
    "dummies <- dummyVars(~ ., data = X )\n",
    "dummies <- as.data.table(predict(dummies, newdata = X ))"
   ]
  },
  {
   "cell_type": "code",
   "execution_count": 20,
   "metadata": {
    "ExecuteTime": {
     "end_time": "2021-01-05T11:53:02.428246Z",
     "start_time": "2021-01-05T11:52:51.218Z"
    }
   },
   "outputs": [],
   "source": [
    "colnames(dummies) <- colnames(dummies) %>% str_replace_all(pattern = '\\\\.', replacement ='')"
   ]
  },
  {
   "cell_type": "markdown",
   "metadata": {},
   "source": [
    "## CV"
   ]
  },
  {
   "cell_type": "code",
   "execution_count": 21,
   "metadata": {
    "ExecuteTime": {
     "end_time": "2021-01-05T11:53:02.448166Z",
     "start_time": "2021-01-05T11:52:51.222Z"
    }
   },
   "outputs": [],
   "source": [
    "options(clustermq.scheduler = \"sge\", clustermq.template = \"~/.clustermq.tmpl\")\n",
    "tmpl <- list(conda = \"r-ml\", cores = 5, job_time = '00:59:00', job_mem = '5G')"
   ]
  },
  {
   "cell_type": "code",
   "execution_count": 22,
   "metadata": {
    "ExecuteTime": {
     "end_time": "2021-01-05T11:53:02.468806Z",
     "start_time": "2021-01-05T11:52:51.223Z"
    }
   },
   "outputs": [],
   "source": [
    "wf <- function(ix, data, target, ntree = 100){\n",
    "    \n",
    "    set.seed(ix[1])\n",
    "    res <- list()\n",
    "    # feature selection\n",
    "    message('Boruta')\n",
    "    bor <-  Boruta(x = data[ix,], y = target[ix])\n",
    "    bor <- TentativeRoughFix(x = bor)\n",
    "    res$confirmed <- names(bor$finalDecision[bor$finalDecision == 'Confirmed']) \n",
    "    \n",
    "    # select data\n",
    "    message('Subset data')\n",
    "    to_keep <- res$confirmed %>% unique\n",
    "    X_fs <- select(data, all_of(to_keep))\n",
    "    \n",
    "    # RF\n",
    "    message('RF')\n",
    "    rf_fs <- randomForest(x = X_fs[ix,], y = target[ix], ntree = ntree)\n",
    "    pred <- predict(object = rf_fs, newdata = X_fs[-ix, ])\n",
    "    tmp <- confusionMatrix(data = pred, reference = target[-ix])\n",
    "    res$rf_performance <- tmp$overall\n",
    "    \n",
    "    return(res)\n",
    "}"
   ]
  },
  {
   "cell_type": "code",
   "execution_count": 23,
   "metadata": {
    "ExecuteTime": {
     "end_time": "2021-01-05T11:53:02.516997Z",
     "start_time": "2021-01-05T11:52:51.226Z"
    }
   },
   "outputs": [],
   "source": [
    "set.seed(0)\n",
    "trainIx <- createDataPartition(y = target_c, times = 10, p = .7, list = TRUE)"
   ]
  },
  {
   "cell_type": "code",
   "execution_count": 29,
   "metadata": {
    "ExecuteTime": {
     "end_time": "2021-01-05T12:11:43.359316Z",
     "start_time": "2021-01-05T11:53:48.832Z"
    },
    "collapsed": true
   },
   "outputs": [
    {
     "name": "stderr",
     "output_type": "stream",
     "text": [
      "Warning message in (function (...) :\n",
      "“Common data is 8.7 Mb. Recommended limit is  (set by clustermq.data.warning option)”\n",
      "Submitting 9 worker jobs (ID: cmq9742) ...\n",
      "\n",
      "Running 10 calculations (3 objs/8.7 Mb common; 1 calls/chunk) ...\n",
      "\n",
      "\n",
      "[----------------------------------------------------]   0% (1/9 wrk) eta:  ?s\n",
      "\n",
      "[----------------------------------------------------]   0% (2/9 wrk) eta:  ?s\n",
      "\n",
      "[----------------------------------------------------]   0% (3/9 wrk) eta:  ?s\n",
      "\n",
      "[----------------------------------------------------]   0% (4/9 wrk) eta:  ?s\n",
      "\n",
      "[----------------------------------------------------]   0% (5/9 wrk) eta:  ?s\n",
      "\n",
      "[----------------------------------------------------]   0% (6/9 wrk) eta:  ?s\n",
      "\n",
      "[----------------------------------------------------]   0% (7/9 wrk) eta:  ?s\n",
      "\n",
      "[----------------------------------------------------]   0% (8/9 wrk) eta:  ?s\n",
      "\n",
      "[----------------------------------------------------]   0% (9/9 wrk) eta:  ?s\n",
      "\n",
      "[====>-----------------------------------------------]  10% (9/9 wrk) eta:  1h\n",
      "\n",
      "[=========>------------------------------------------]  20% (9/9 wrk) eta: 38m\n",
      "\n",
      "[===============>------------------------------------]  30% (8/8 wrk) eta: 22m\n",
      "\n",
      "[====================>-------------------------------]  40% (7/7 wrk) eta: 15m\n",
      "\n",
      "[=========================>--------------------------]  50% (6/6 wrk) eta: 10m\n",
      "\n",
      "[==============================>---------------------]  60% (5/5 wrk) eta:  7m\n",
      "\n",
      "[===================================>----------------]  70% (4/4 wrk) eta:  5m\n",
      "\n",
      "[=========================================>----------]  80% (3/3 wrk) eta:  3m\n",
      "\n",
      "[==============================================>-----]  90% (2/2 wrk) eta:  1m\n",
      "\n",
      "[====================================================] 100% (1/1 wrk) eta:  0s\n",
      "                                                                              \n",
      "\n",
      "Master: [1073.8s 0.2% CPU]; Worker: [avg 490.2% CPU, max 568.3 Mb]\n",
      "\n"
     ]
    }
   ],
   "source": [
    "res <- Q(wf\n",
    "  , ix = trainIx\n",
    "  , const = list('data'= dummies, 'target' = target_c, 'ntree' = 500)\n",
    "  , n_jobs= 9\n",
    "  , pkgs=c('caret', 'randomForest', 'dplyr', 'Boruta')\n",
    "  , log_worker=FALSE\n",
    "  , template = tmpl\n",
    " )"
   ]
  },
  {
   "cell_type": "code",
   "execution_count": 31,
   "metadata": {
    "ExecuteTime": {
     "end_time": "2021-01-05T12:11:43.402623Z",
     "start_time": "2021-01-05T11:53:54.921Z"
    }
   },
   "outputs": [],
   "source": [
    "rf_sum <- t(sapply(res, function(x){x$rf_performance}))"
   ]
  },
  {
   "cell_type": "code",
   "execution_count": 32,
   "metadata": {
    "ExecuteTime": {
     "end_time": "2021-01-05T12:11:43.446533Z",
     "start_time": "2021-01-05T11:53:55.395Z"
    },
    "scrolled": false
   },
   "outputs": [
    {
     "data": {
      "text/plain": [
       "    Accuracy          Kappa        AccuracyLower    AccuracyUpper   \n",
       " Min.   :0.7589   Min.   :0.5052   Min.   :0.7240   Min.   :0.7915  \n",
       " 1st Qu.:0.7652   1st Qu.:0.5194   1st Qu.:0.7304   1st Qu.:0.7974  \n",
       " Median :0.7714   Median :0.5306   Median :0.7369   Median :0.8033  \n",
       " Mean   :0.7762   Mean   :0.5406   Mean   :0.7420   Mean   :0.8078  \n",
       " 3rd Qu.:0.7858   3rd Qu.:0.5593   3rd Qu.:0.7520   3rd Qu.:0.8169  \n",
       " Max.   :0.8009   Max.   :0.5941   Max.   :0.7679   Max.   :0.8311  \n",
       "  AccuracyNull    AccuracyPValue      McnemarPValue      \n",
       " Min.   :0.5552   Min.   :0.000e+00   Min.   :9.040e-06  \n",
       " 1st Qu.:0.5552   1st Qu.:1.000e-33   1st Qu.:1.354e-04  \n",
       " Median :0.5552   Median :4.096e-30   Median :1.323e-03  \n",
       " Mean   :0.5552   Mean   :7.176e-28   Mean   :1.676e-02  \n",
       " 3rd Qu.:0.5552   3rd Qu.:2.648e-28   3rd Qu.:4.969e-03  \n",
       " Max.   :0.5552   Max.   :5.903e-27   Max.   :9.308e-02  "
      ]
     },
     "metadata": {},
     "output_type": "display_data"
    },
    {
     "data": {
      "text/html": [
       "1.44"
      ],
      "text/latex": [
       "1.44"
      ],
      "text/markdown": [
       "1.44"
      ],
      "text/plain": [
       "[1] 1.44"
      ]
     },
     "metadata": {},
     "output_type": "display_data"
    },
    {
     "data": {
      "text/html": [
       "0.03"
      ],
      "text/latex": [
       "0.03"
      ],
      "text/markdown": [
       "0.03"
      ],
      "text/plain": [
       "[1] 0.03"
      ]
     },
     "metadata": {},
     "output_type": "display_data"
    }
   ],
   "source": [
    "rf_sum %>% summary\n",
    "round(sd(rf_sum[,1]*100), digits=2)\n",
    "round(sd(rf_sum[,2]), digits=2)"
   ]
  },
  {
   "cell_type": "markdown",
   "metadata": {},
   "source": [
    "## final"
   ]
  },
  {
   "cell_type": "code",
   "execution_count": 33,
   "metadata": {
    "ExecuteTime": {
     "end_time": "2021-01-05T12:13:53.502609Z",
     "start_time": "2021-01-05T11:53:57.905Z"
    }
   },
   "outputs": [],
   "source": [
    "set.seed(0)\n",
    "bor <-  Boruta(x = dummies, y = as.factor(target_c))\n",
    "bor <- TentativeRoughFix(x = bor)"
   ]
  },
  {
   "cell_type": "code",
   "execution_count": 34,
   "metadata": {
    "ExecuteTime": {
     "end_time": "2021-01-05T12:13:53.539477Z",
     "start_time": "2021-01-05T11:53:58.137Z"
    }
   },
   "outputs": [
    {
     "data": {
      "text/html": [
       "91"
      ],
      "text/latex": [
       "91"
      ],
      "text/markdown": [
       "91"
      ],
      "text/plain": [
       "[1] 91"
      ]
     },
     "metadata": {},
     "output_type": "display_data"
    }
   ],
   "source": [
    "# select data\n",
    "to_keep <- names(bor$finalDecision[bor$finalDecision == 'Confirmed']) \n",
    "X_fs <- select(dummies, all_of(to_keep))\n",
    "length(to_keep)"
   ]
  },
  {
   "cell_type": "code",
   "execution_count": 35,
   "metadata": {
    "ExecuteTime": {
     "end_time": "2021-01-05T12:13:53.570698Z",
     "start_time": "2021-01-05T11:53:58.339Z"
    }
   },
   "outputs": [
    {
     "data": {
      "text/html": [
       "<style>\n",
       ".list-inline {list-style: none; margin:0; padding: 0}\n",
       ".list-inline>li {display: inline-block}\n",
       ".list-inline>li:not(:last-child)::after {content: \"\\00b7\"; padding: 0 .5ex}\n",
       "</style>\n",
       "<ol class=list-inline><li>TRUE</li><li>TRUE</li><li>TRUE</li><li>TRUE</li><li>TRUE</li><li>TRUE</li><li>TRUE</li><li>TRUE</li><li>TRUE</li></ol>\n"
      ],
      "text/latex": [
       "\\begin{enumerate*}\n",
       "\\item TRUE\n",
       "\\item TRUE\n",
       "\\item TRUE\n",
       "\\item TRUE\n",
       "\\item TRUE\n",
       "\\item TRUE\n",
       "\\item TRUE\n",
       "\\item TRUE\n",
       "\\item TRUE\n",
       "\\end{enumerate*}\n"
      ],
      "text/markdown": [
       "1. TRUE\n",
       "2. TRUE\n",
       "3. TRUE\n",
       "4. TRUE\n",
       "5. TRUE\n",
       "6. TRUE\n",
       "7. TRUE\n",
       "8. TRUE\n",
       "9. TRUE\n",
       "\n",
       "\n"
      ],
      "text/plain": [
       "[1] TRUE TRUE TRUE TRUE TRUE TRUE TRUE TRUE TRUE"
      ]
     },
     "metadata": {},
     "output_type": "display_data"
    },
    {
     "data": {
      "text/html": [
       "<style>\n",
       ".list-inline {list-style: none; margin:0; padding: 0}\n",
       ".list-inline>li {display: inline-block}\n",
       ".list-inline>li:not(:last-child)::after {content: \"\\00b7\"; padding: 0 .5ex}\n",
       "</style>\n",
       "<ol class=list-inline><li>'s_Marvinbryantia_sp900066075'</li><li>'g_Alistipes_A'</li><li>'f_Bacteroidaceae'</li><li>'g_Dialister'</li><li>'s_Oscillibacter_sp001916835'</li><li>'s_Bacteroides_clarus'</li><li>'s_Faecalibacterium_prausnitzii_G'</li><li>'s_Lawsonibacter_sp000177015'</li><li>'f_Anaerovoracaceae'</li></ol>\n"
      ],
      "text/latex": [
       "\\begin{enumerate*}\n",
       "\\item 's\\_Marvinbryantia\\_sp900066075'\n",
       "\\item 'g\\_Alistipes\\_A'\n",
       "\\item 'f\\_Bacteroidaceae'\n",
       "\\item 'g\\_Dialister'\n",
       "\\item 's\\_Oscillibacter\\_sp001916835'\n",
       "\\item 's\\_Bacteroides\\_clarus'\n",
       "\\item 's\\_Faecalibacterium\\_prausnitzii\\_G'\n",
       "\\item 's\\_Lawsonibacter\\_sp000177015'\n",
       "\\item 'f\\_Anaerovoracaceae'\n",
       "\\end{enumerate*}\n"
      ],
      "text/markdown": [
       "1. 's_Marvinbryantia_sp900066075'\n",
       "2. 'g_Alistipes_A'\n",
       "3. 'f_Bacteroidaceae'\n",
       "4. 'g_Dialister'\n",
       "5. 's_Oscillibacter_sp001916835'\n",
       "6. 's_Bacteroides_clarus'\n",
       "7. 's_Faecalibacterium_prausnitzii_G'\n",
       "8. 's_Lawsonibacter_sp000177015'\n",
       "9. 'f_Anaerovoracaceae'\n",
       "\n",
       "\n"
      ],
      "text/plain": [
       "[1] \"s_Marvinbryantia_sp900066075\"     \"g_Alistipes_A\"                   \n",
       "[3] \"f_Bacteroidaceae\"                 \"g_Dialister\"                     \n",
       "[5] \"s_Oscillibacter_sp001916835\"      \"s_Bacteroides_clarus\"            \n",
       "[7] \"s_Faecalibacterium_prausnitzii_G\" \"s_Lawsonibacter_sp000177015\"     \n",
       "[9] \"f_Anaerovoracaceae\"              "
      ]
     },
     "metadata": {},
     "output_type": "display_data"
    }
   ],
   "source": [
    "var_n %in% to_keep\n",
    "var_n"
   ]
  },
  {
   "cell_type": "code",
   "execution_count": 36,
   "metadata": {
    "ExecuteTime": {
     "end_time": "2021-01-05T12:14:02.287832Z",
     "start_time": "2021-01-05T11:53:58.542Z"
    }
   },
   "outputs": [],
   "source": [
    "# RF\n",
    "set.seed(0)\n",
    "rf_fs <- randomForest(x = X_fs, y = as.factor(target_c), ntree = 500)"
   ]
  },
  {
   "cell_type": "code",
   "execution_count": 37,
   "metadata": {
    "ExecuteTime": {
     "end_time": "2021-01-05T12:14:02.310845Z",
     "start_time": "2021-01-05T11:53:59.213Z"
    }
   },
   "outputs": [
    {
     "data": {
      "text/plain": [
       "\n",
       "Call:\n",
       " randomForest(x = X_fs, y = as.factor(target_c), ntree = 500) \n",
       "               Type of random forest: classification\n",
       "                     Number of trees: 500\n",
       "No. of variables tried at each split: 9\n",
       "\n",
       "        OOB estimate of  error rate: 20.91%\n",
       "Confusion matrix:\n",
       "     -1   1 class.error\n",
       "-1 1032 161   0.1349539\n",
       "1   288 666   0.3018868"
      ]
     },
     "metadata": {},
     "output_type": "display_data"
    },
    {
     "name": "stdout",
     "output_type": "stream",
     "text": [
      "RF accuracy =  79.07"
     ]
    }
   ],
   "source": [
    "rf_fs\n",
    "cat('RF accuracy = ', 100*round((rf_fs$confusion[1,1] + rf_fs$confusion[2,2])/sum(rf_fs$confusion), digits = 4))"
   ]
  },
  {
   "cell_type": "code",
   "execution_count": null,
   "metadata": {},
   "outputs": [],
   "source": []
  }
 ],
 "metadata": {
  "kernelspec": {
   "display_name": "R [conda env:Metagenomes_methanogen-r-ml] *",
   "language": "R",
   "name": "conda-env-Metagenomes_methanogen-r-ml-r"
  },
  "language_info": {
   "codemirror_mode": "r",
   "file_extension": ".r",
   "mimetype": "text/x-r-source",
   "name": "R",
   "pygments_lexer": "r",
   "version": "4.0.3"
  },
  "notify_time": "30",
  "toc": {
   "base_numbering": 1,
   "nav_menu": {},
   "number_sections": true,
   "sideBar": true,
   "skip_h1_title": false,
   "title_cell": "Table of Contents",
   "title_sidebar": "Contents",
   "toc_cell": false,
   "toc_position": {
    "height": "calc(100% - 180px)",
    "left": "10px",
    "top": "150px",
    "width": "175.2px"
   },
   "toc_section_display": true,
   "toc_window_display": true
  }
 },
 "nbformat": 4,
 "nbformat_minor": 4
}
