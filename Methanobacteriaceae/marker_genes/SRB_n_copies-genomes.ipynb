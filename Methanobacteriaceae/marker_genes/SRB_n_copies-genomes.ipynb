{
 "cells": [
  {
   "cell_type": "markdown",
   "metadata": {},
   "source": [
    "Notebook to take into account the relative abundances of species when calculating the average number of gene copies across species of a same genus / family.\n",
    "- data too large to be included in this Git repository \n",
    "- data available on demand: albane.ruaud@tuebingen.mpg.de"
   ]
  },
  {
   "cell_type": "markdown",
   "metadata": {},
   "source": [
    "# Preambule"
   ]
  },
  {
   "cell_type": "code",
   "execution_count": 1,
   "metadata": {
    "ExecuteTime": {
     "end_time": "2021-12-15T09:51:33.815463Z",
     "start_time": "2021-12-15T09:51:32.671Z"
    }
   },
   "outputs": [
    {
     "name": "stderr",
     "output_type": "stream",
     "text": [
      "\n",
      "Attaching package: ‘dplyr’\n",
      "\n",
      "\n",
      "The following objects are masked from ‘package:stats’:\n",
      "\n",
      "    filter, lag\n",
      "\n",
      "\n",
      "The following objects are masked from ‘package:base’:\n",
      "\n",
      "    intersect, setdiff, setequal, union\n",
      "\n",
      "\n",
      "\n",
      "Attaching package: ‘data.table’\n",
      "\n",
      "\n",
      "The following objects are masked from ‘package:dplyr’:\n",
      "\n",
      "    between, first, last\n",
      "\n",
      "\n",
      "qs v0.23.4.\n",
      "\n"
     ]
    }
   ],
   "source": [
    "library(dplyr)\n",
    "library(tidyr)\n",
    "library(ggplot2)\n",
    "library(data.table)\n",
    "library(qs)\n",
    "library(stringr)"
   ]
  },
  {
   "cell_type": "markdown",
   "metadata": {},
   "source": [
    "# Taxa"
   ]
  },
  {
   "cell_type": "code",
   "execution_count": 2,
   "metadata": {
    "ExecuteTime": {
     "end_time": "2021-12-15T09:51:34.533327Z",
     "start_time": "2021-12-15T09:51:33.058Z"
    }
   },
   "outputs": [],
   "source": [
    "# taxa used in the model\n",
    "feats <- qread('../data/taxa_not_flt.qs') %>%\n",
    "    select(-Sample)\n",
    "feats <- data.frame(Feature = colnames(feats), Abundance_avg = colMeans(feats))"
   ]
  },
  {
   "cell_type": "code",
   "execution_count": 3,
   "metadata": {
    "ExecuteTime": {
     "end_time": "2021-12-15T09:51:34.555908Z",
     "start_time": "2021-12-15T09:51:33.254Z"
    }
   },
   "outputs": [
    {
     "data": {
      "text/html": [
       "<style>\n",
       ".list-inline {list-style: none; margin:0; padding: 0}\n",
       ".list-inline>li {display: inline-block}\n",
       ".list-inline>li:not(:last-child)::after {content: \"\\00b7\"; padding: 0 .5ex}\n",
       "</style>\n",
       "<ol class=list-inline><li>4733</li><li>2</li></ol>\n"
      ],
      "text/latex": [
       "\\begin{enumerate*}\n",
       "\\item 4733\n",
       "\\item 2\n",
       "\\end{enumerate*}\n"
      ],
      "text/markdown": [
       "1. 4733\n",
       "2. 2\n",
       "\n",
       "\n"
      ],
      "text/plain": [
       "[1] 4733    2"
      ]
     },
     "metadata": {},
     "output_type": "display_data"
    }
   ],
   "source": [
    "feats <- feats %>% subset(Abundance_avg > 0 ) \n",
    "feats %>% dim"
   ]
  },
  {
   "cell_type": "code",
   "execution_count": 4,
   "metadata": {
    "ExecuteTime": {
     "end_time": "2021-12-15T09:51:34.580746Z",
     "start_time": "2021-12-15T09:51:33.435Z"
    }
   },
   "outputs": [
    {
     "data": {
      "text/html": [
       "<table class=\"dataframe\">\n",
       "<caption>A data.frame: 2 × 2</caption>\n",
       "<thead>\n",
       "\t<tr><th></th><th scope=col>Feature</th><th scope=col>Abundance_avg</th></tr>\n",
       "\t<tr><th></th><th scope=col>&lt;chr&gt;</th><th scope=col>&lt;dbl&gt;</th></tr>\n",
       "</thead>\n",
       "<tbody>\n",
       "\t<tr><th scope=row>s_1_14_0_10_34_76_sp002763075</th><td>s_1_14_0_10_34_76_sp002763075</td><td>6.173400e-07</td></tr>\n",
       "\t<tr><th scope=row>s_1_19_sp001922585</th><td>s_1_19_sp001922585           </td><td>4.584657e-07</td></tr>\n",
       "</tbody>\n",
       "</table>\n"
      ],
      "text/latex": [
       "A data.frame: 2 × 2\n",
       "\\begin{tabular}{r|ll}\n",
       "  & Feature & Abundance\\_avg\\\\\n",
       "  & <chr> & <dbl>\\\\\n",
       "\\hline\n",
       "\ts\\_1\\_14\\_0\\_10\\_34\\_76\\_sp002763075 & s\\_1\\_14\\_0\\_10\\_34\\_76\\_sp002763075 & 6.173400e-07\\\\\n",
       "\ts\\_1\\_19\\_sp001922585 & s\\_1\\_19\\_sp001922585            & 4.584657e-07\\\\\n",
       "\\end{tabular}\n"
      ],
      "text/markdown": [
       "\n",
       "A data.frame: 2 × 2\n",
       "\n",
       "| <!--/--> | Feature &lt;chr&gt; | Abundance_avg &lt;dbl&gt; |\n",
       "|---|---|---|\n",
       "| s_1_14_0_10_34_76_sp002763075 | s_1_14_0_10_34_76_sp002763075 | 6.173400e-07 |\n",
       "| s_1_19_sp001922585 | s_1_19_sp001922585            | 4.584657e-07 |\n",
       "\n"
      ],
      "text/plain": [
       "                              Feature                       Abundance_avg\n",
       "s_1_14_0_10_34_76_sp002763075 s_1_14_0_10_34_76_sp002763075 6.173400e-07 \n",
       "s_1_19_sp001922585            s_1_19_sp001922585            4.584657e-07 "
      ]
     },
     "metadata": {},
     "output_type": "display_data"
    }
   ],
   "source": [
    "feats %>% head(2)"
   ]
  },
  {
   "cell_type": "markdown",
   "metadata": {},
   "source": [
    "# llcds results"
   ]
  },
  {
   "cell_type": "code",
   "execution_count": 5,
   "metadata": {
    "ExecuteTime": {
     "end_time": "2021-12-15T09:51:43.930372Z",
     "start_time": "2021-12-15T09:51:36.838Z"
    }
   },
   "outputs": [],
   "source": [
    "hits <- fread('/ebio/abt3_projects/Methanogen_SCFA/Metagenomes_methanogen/Bacteria_marker_genes/data/llcds_fungene/annotate//dmnd_hits_all.tsv.gz')"
   ]
  },
  {
   "cell_type": "code",
   "execution_count": 6,
   "metadata": {
    "ExecuteTime": {
     "end_time": "2021-12-15T09:51:44.875642Z",
     "start_time": "2021-12-15T09:51:37.095Z"
    }
   },
   "outputs": [],
   "source": [
    "# filtering\n",
    "hits_f <- hits %>% subset(pident >= 50 & length / qlen > 0.8)"
   ]
  },
  {
   "cell_type": "code",
   "execution_count": 7,
   "metadata": {
    "ExecuteTime": {
     "end_time": "2021-12-15T09:51:44.912184Z",
     "start_time": "2021-12-15T09:51:37.317Z"
    }
   },
   "outputs": [
    {
     "data": {
      "text/html": [
       "<style>\n",
       ".list-inline {list-style: none; margin:0; padding: 0}\n",
       ".list-inline>li {display: inline-block}\n",
       ".list-inline>li:not(:last-child)::after {content: \"\\00b7\"; padding: 0 .5ex}\n",
       "</style>\n",
       "<ol class=list-inline><li>2971470</li><li>15</li></ol>\n"
      ],
      "text/latex": [
       "\\begin{enumerate*}\n",
       "\\item 2971470\n",
       "\\item 15\n",
       "\\end{enumerate*}\n"
      ],
      "text/markdown": [
       "1. 2971470\n",
       "2. 15\n",
       "\n",
       "\n"
      ],
      "text/plain": [
       "[1] 2971470      15"
      ]
     },
     "metadata": {},
     "output_type": "display_data"
    },
    {
     "data": {
      "text/html": [
       "<style>\n",
       ".list-inline {list-style: none; margin:0; padding: 0}\n",
       ".list-inline>li {display: inline-block}\n",
       ".list-inline>li:not(:last-child)::after {content: \"\\00b7\"; padding: 0 .5ex}\n",
       "</style>\n",
       "<ol class=list-inline><li>379393</li><li>15</li></ol>\n"
      ],
      "text/latex": [
       "\\begin{enumerate*}\n",
       "\\item 379393\n",
       "\\item 15\n",
       "\\end{enumerate*}\n"
      ],
      "text/markdown": [
       "1. 379393\n",
       "2. 15\n",
       "\n",
       "\n"
      ],
      "text/plain": [
       "[1] 379393     15"
      ]
     },
     "metadata": {},
     "output_type": "display_data"
    }
   ],
   "source": [
    "hits %>% dim\n",
    "hits_f %>% dim"
   ]
  },
  {
   "cell_type": "markdown",
   "metadata": {},
   "source": [
    "# Add taxonomic level"
   ]
  },
  {
   "cell_type": "code",
   "execution_count": 8,
   "metadata": {
    "ExecuteTime": {
     "end_time": "2021-12-15T09:51:45.217221Z",
     "start_time": "2021-12-15T09:51:39.118Z"
    }
   },
   "outputs": [],
   "source": [
    "aa_files_f <- read.table('/ebio/abt3_projects/Methanogen_SCFA/Metagenomes_methanogen/Bacteria_marker_genes/data/samples.tsv'\n",
    "                        , sep = '\\t', header = TRUE)  %>%\n",
    "    select(Sample, Phylum, Class, Order, Family, Genus, Species) %>%\n",
    "    rename('Genome' = Sample)"
   ]
  },
  {
   "cell_type": "code",
   "execution_count": 9,
   "metadata": {
    "ExecuteTime": {
     "end_time": "2021-12-15T09:51:45.938600Z",
     "start_time": "2021-12-15T09:51:39.402Z"
    }
   },
   "outputs": [],
   "source": [
    "# all taxa lacking hits\n",
    "hits_f <- aa_files_f %>%\n",
    "    left_join(hits_f, by = 'Genome')\n",
    "hits_f$V5[is.na(hits_f$V5)] <- 'None'"
   ]
  },
  {
   "cell_type": "code",
   "execution_count": 10,
   "metadata": {
    "ExecuteTime": {
     "end_time": "2021-12-15T09:51:45.959082Z",
     "start_time": "2021-12-15T09:51:39.659Z"
    }
   },
   "outputs": [
    {
     "data": {
      "text/html": [
       "<style>\n",
       ".list-inline {list-style: none; margin:0; padding: 0}\n",
       ".list-inline>li {display: inline-block}\n",
       ".list-inline>li:not(:last-child)::after {content: \"\\00b7\"; padding: 0 .5ex}\n",
       "</style>\n",
       "<ol class=list-inline><li>'Genome'</li><li>'Phylum'</li><li>'Class'</li><li>'Order'</li><li>'Family'</li><li>'Genus'</li><li>'Species'</li><li>'qseqid'</li><li>'sseqid'</li><li>'pident'</li><li>'length'</li><li>'mismatch'</li><li>'gapopen'</li><li>'qstart'</li><li>'qend'</li><li>'sstart'</li><li>'send'</li><li>'evalue'</li><li>'bitscore'</li><li>'qlen'</li><li>'V5'</li></ol>\n"
      ],
      "text/latex": [
       "\\begin{enumerate*}\n",
       "\\item 'Genome'\n",
       "\\item 'Phylum'\n",
       "\\item 'Class'\n",
       "\\item 'Order'\n",
       "\\item 'Family'\n",
       "\\item 'Genus'\n",
       "\\item 'Species'\n",
       "\\item 'qseqid'\n",
       "\\item 'sseqid'\n",
       "\\item 'pident'\n",
       "\\item 'length'\n",
       "\\item 'mismatch'\n",
       "\\item 'gapopen'\n",
       "\\item 'qstart'\n",
       "\\item 'qend'\n",
       "\\item 'sstart'\n",
       "\\item 'send'\n",
       "\\item 'evalue'\n",
       "\\item 'bitscore'\n",
       "\\item 'qlen'\n",
       "\\item 'V5'\n",
       "\\end{enumerate*}\n"
      ],
      "text/markdown": [
       "1. 'Genome'\n",
       "2. 'Phylum'\n",
       "3. 'Class'\n",
       "4. 'Order'\n",
       "5. 'Family'\n",
       "6. 'Genus'\n",
       "7. 'Species'\n",
       "8. 'qseqid'\n",
       "9. 'sseqid'\n",
       "10. 'pident'\n",
       "11. 'length'\n",
       "12. 'mismatch'\n",
       "13. 'gapopen'\n",
       "14. 'qstart'\n",
       "15. 'qend'\n",
       "16. 'sstart'\n",
       "17. 'send'\n",
       "18. 'evalue'\n",
       "19. 'bitscore'\n",
       "20. 'qlen'\n",
       "21. 'V5'\n",
       "\n",
       "\n"
      ],
      "text/plain": [
       " [1] \"Genome\"   \"Phylum\"   \"Class\"    \"Order\"    \"Family\"   \"Genus\"   \n",
       " [7] \"Species\"  \"qseqid\"   \"sseqid\"   \"pident\"   \"length\"   \"mismatch\"\n",
       "[13] \"gapopen\"  \"qstart\"   \"qend\"     \"sstart\"   \"send\"     \"evalue\"  \n",
       "[19] \"bitscore\" \"qlen\"     \"V5\"      "
      ]
     },
     "metadata": {},
     "output_type": "display_data"
    }
   ],
   "source": [
    "hits_f %>% colnames"
   ]
  },
  {
   "cell_type": "code",
   "execution_count": 11,
   "metadata": {
    "ExecuteTime": {
     "end_time": "2021-12-15T09:51:46.016566Z",
     "start_time": "2021-12-15T09:51:39.839Z"
    }
   },
   "outputs": [],
   "source": [
    "hits_tax <- hits_f %>% select(Genome, Phylum, Class, Order, Family, Genus, Species, V5, pident) %>% \n",
    "                subset(Species %in% feats$Feature)"
   ]
  },
  {
   "cell_type": "code",
   "execution_count": 12,
   "metadata": {
    "ExecuteTime": {
     "end_time": "2021-12-15T09:51:49.111835Z",
     "start_time": "2021-12-15T09:51:48.869Z"
    }
   },
   "outputs": [
    {
     "data": {
      "text/html": [
       "<style>\n",
       ".list-inline {list-style: none; margin:0; padding: 0}\n",
       ".list-inline>li {display: inline-block}\n",
       ".list-inline>li:not(:last-child)::after {content: \"\\00b7\"; padding: 0 .5ex}\n",
       "</style>\n",
       "<ol class=list-inline><li>90251</li><li>9</li></ol>\n"
      ],
      "text/latex": [
       "\\begin{enumerate*}\n",
       "\\item 90251\n",
       "\\item 9\n",
       "\\end{enumerate*}\n"
      ],
      "text/markdown": [
       "1. 90251\n",
       "2. 9\n",
       "\n",
       "\n"
      ],
      "text/plain": [
       "[1] 90251     9"
      ]
     },
     "metadata": {},
     "output_type": "display_data"
    }
   ],
   "source": [
    "dim(hits_tax)"
   ]
  },
  {
   "cell_type": "markdown",
   "metadata": {},
   "source": [
    "# Weight by genome size"
   ]
  },
  {
   "cell_type": "code",
   "execution_count": 13,
   "metadata": {
    "ExecuteTime": {
     "end_time": "2021-12-15T09:52:01.287496Z",
     "start_time": "2021-12-15T09:52:00.792Z"
    }
   },
   "outputs": [],
   "source": [
    "samps_tbl_file <- read.table(header = TRUE, sep = '\\t', dec = '.', fill = TRUE\n",
    " , '/ebio/abt3_projects/Methanogen_SCFA/Metagenomes_methanogen/Bacteria_marker_genes/data/samples.tsv')"
   ]
  },
  {
   "cell_type": "code",
   "execution_count": 14,
   "metadata": {
    "ExecuteTime": {
     "end_time": "2021-12-15T09:52:02.486568Z",
     "start_time": "2021-12-15T09:52:01.647Z"
    }
   },
   "outputs": [],
   "source": [
    "struo_meta <- fread('/ebio/abt3_projects/databases_no-backup/GTDB/release89/LLMGP-DB/metadata_1per-GTDB-Spec_gte50comp-lt5cont_wtaxID_wPath.tsv')"
   ]
  },
  {
   "cell_type": "code",
   "execution_count": 15,
   "metadata": {
    "ExecuteTime": {
     "end_time": "2021-12-15T09:52:02.939300Z",
     "start_time": "2021-12-15T09:52:01.859Z"
    }
   },
   "outputs": [],
   "source": [
    "struo_meta$Genome <- str_replace(struo_meta$gtdb_genome_representative, pattern = '\\\\.', replacement = '_')"
   ]
  },
  {
   "cell_type": "code",
   "execution_count": 16,
   "metadata": {
    "ExecuteTime": {
     "end_time": "2021-12-15T09:52:03.026631Z",
     "start_time": "2021-12-15T09:52:02.051Z"
    }
   },
   "outputs": [],
   "source": [
    "hits_tax$Genome_short <- str_extract(hits_tax$Genome, pattern = '^[:upper:]+\\\\_[:upper:]+\\\\_[:digit:]+\\\\_[:digit:]+')"
   ]
  },
  {
   "cell_type": "code",
   "execution_count": 17,
   "metadata": {
    "ExecuteTime": {
     "end_time": "2021-12-15T09:52:05.878664Z",
     "start_time": "2021-12-15T09:52:05.623Z"
    }
   },
   "outputs": [
    {
     "data": {
      "text/html": [
       "90251"
      ],
      "text/latex": [
       "90251"
      ],
      "text/markdown": [
       "90251"
      ],
      "text/plain": [
       "[1] 90251"
      ]
     },
     "metadata": {},
     "output_type": "display_data"
    },
    {
     "data": {
      "text/html": [
       "90251"
      ],
      "text/latex": [
       "90251"
      ],
      "text/markdown": [
       "90251"
      ],
      "text/plain": [
       "[1] 90251"
      ]
     },
     "metadata": {},
     "output_type": "display_data"
    }
   ],
   "source": [
    "sum(hits_tax$Genome_short %in% unique(struo_meta$Genome))\n",
    "length(hits_tax$Genome)"
   ]
  },
  {
   "cell_type": "code",
   "execution_count": 18,
   "metadata": {
    "ExecuteTime": {
     "end_time": "2021-12-15T09:52:07.930086Z",
     "start_time": "2021-12-15T09:52:07.660Z"
    }
   },
   "outputs": [],
   "source": [
    "hits_tax <- left_join(hits_tax, select(struo_meta, Genome, genome_size), by = c('Genome_short' = 'Genome'))"
   ]
  },
  {
   "cell_type": "code",
   "execution_count": 19,
   "metadata": {
    "ExecuteTime": {
     "end_time": "2021-12-15T09:52:08.625653Z",
     "start_time": "2021-12-15T09:52:08.082Z"
    }
   },
   "outputs": [
    {
     "data": {
      "text/html": [
       "<style>\n",
       ".list-inline {list-style: none; margin:0; padding: 0}\n",
       ".list-inline>li {display: inline-block}\n",
       ".list-inline>li:not(:last-child)::after {content: \"\\00b7\"; padding: 0 .5ex}\n",
       "</style>\n",
       "<ol class=list-inline><li>90251</li><li>11</li></ol>\n"
      ],
      "text/latex": [
       "\\begin{enumerate*}\n",
       "\\item 90251\n",
       "\\item 11\n",
       "\\end{enumerate*}\n"
      ],
      "text/markdown": [
       "1. 90251\n",
       "2. 11\n",
       "\n",
       "\n"
      ],
      "text/plain": [
       "[1] 90251    11"
      ]
     },
     "metadata": {},
     "output_type": "display_data"
    }
   ],
   "source": [
    "dim(hits_tax)"
   ]
  },
  {
   "cell_type": "markdown",
   "metadata": {},
   "source": [
    "# Per taxonomic level"
   ]
  },
  {
   "cell_type": "markdown",
   "metadata": {},
   "source": [
    "## species"
   ]
  },
  {
   "cell_type": "code",
   "execution_count": 20,
   "metadata": {
    "ExecuteTime": {
     "end_time": "2021-12-15T09:52:20.364647Z",
     "start_time": "2021-12-15T09:52:18.927Z"
    }
   },
   "outputs": [
    {
     "name": "stderr",
     "output_type": "stream",
     "text": [
      "`summarise()` regrouping output by 'Phylum', 'Class', 'Order', 'Family', 'Genus', 'Species' (override with `.groups` argument)\n",
      "\n"
     ]
    }
   ],
   "source": [
    "pp <- hits_tax %>% group_by(Phylum, Class, Order, Family, Genus, Species, V5) %>% \n",
    "        summarise(n_copies = n(), pident = mean(pident, na.rm = TRUE), genome_size = unique(genome_size))"
   ]
  },
  {
   "cell_type": "code",
   "execution_count": 21,
   "metadata": {
    "ExecuteTime": {
     "end_time": "2021-12-15T09:52:26.956221Z",
     "start_time": "2021-12-15T09:52:26.710Z"
    }
   },
   "outputs": [],
   "source": [
    "pp$r_copies <- pp$n_copies/pp$genome_size\n",
    "pp <- select(pp, -n_copies, -genome_size)"
   ]
  },
  {
   "cell_type": "markdown",
   "metadata": {},
   "source": [
    "## add all missing categories for each species"
   ]
  },
  {
   "cell_type": "code",
   "execution_count": 22,
   "metadata": {
    "ExecuteTime": {
     "end_time": "2021-12-15T09:52:31.724765Z",
     "start_time": "2021-12-15T09:52:31.480Z"
    }
   },
   "outputs": [],
   "source": [
    "sp <- pp$Species %>% unique\n",
    "hctg <- pp$V5 %>% unique"
   ]
  },
  {
   "cell_type": "code",
   "execution_count": 23,
   "metadata": {
    "ExecuteTime": {
     "end_time": "2021-12-15T09:52:45.992391Z",
     "start_time": "2021-12-15T09:52:45.596Z"
    }
   },
   "outputs": [],
   "source": [
    "# create all combinations of species and acetobase gene needed\n",
    "to_add <- expand.grid(sp, hctg) %>% as.data.frame\n",
    "colnames(to_add) <- c('Species', 'V5')\n",
    "    \n",
    "# keep only the ones missing: give them a 0 count number and NA pident\n",
    "to_add <- setdiff(to_add, pp %>% ungroup %>% select(Species, V5)) %>% \n",
    "                # add the taxonomic levels\n",
    "                left_join(pp %>% ungroup %>% select(Phylum, Class, Order,Family, Genus, Species) %>% unique, by = 'Species') \n",
    "to_add$r_copies <- 0\n",
    "to_add$pident <- NaN\n",
    "    \n",
    "# add them to the dataset\n",
    "pp <- rbind(pp, to_add)"
   ]
  },
  {
   "cell_type": "code",
   "execution_count": 24,
   "metadata": {
    "ExecuteTime": {
     "end_time": "2021-12-15T09:52:47.620488Z",
     "start_time": "2021-12-15T09:52:47.364Z"
    }
   },
   "outputs": [
    {
     "data": {
      "text/html": [
       "<table class=\"dataframe\">\n",
       "<caption>A grouped_df: 2 × 9</caption>\n",
       "<thead>\n",
       "\t<tr><th scope=col>Phylum</th><th scope=col>Class</th><th scope=col>Order</th><th scope=col>Family</th><th scope=col>Genus</th><th scope=col>Species</th><th scope=col>V5</th><th scope=col>pident</th><th scope=col>r_copies</th></tr>\n",
       "\t<tr><th scope=col>&lt;chr&gt;</th><th scope=col>&lt;chr&gt;</th><th scope=col>&lt;chr&gt;</th><th scope=col>&lt;chr&gt;</th><th scope=col>&lt;chr&gt;</th><th scope=col>&lt;chr&gt;</th><th scope=col>&lt;chr&gt;</th><th scope=col>&lt;dbl&gt;</th><th scope=col>&lt;dbl&gt;</th></tr>\n",
       "</thead>\n",
       "<tbody>\n",
       "\t<tr><td>p_Verrucomicrobiota</td><td>c_Verrucomicrobiae</td><td>o_Verrucomicrobiales</td><td>f_Akkermansiaceae</td><td>g_Akkermansia</td><td>s_Akkermansia_sp001580195</td><td>mcrA</td><td>NaN</td><td>0</td></tr>\n",
       "\t<tr><td>p_Verrucomicrobiota</td><td>c_Verrucomicrobiae</td><td>o_Verrucomicrobiales</td><td>f_Akkermansiaceae</td><td>g_Akkermansia</td><td>s_Akkermansia_sp002358905</td><td>mcrA</td><td>NaN</td><td>0</td></tr>\n",
       "</tbody>\n",
       "</table>\n"
      ],
      "text/latex": [
       "A grouped\\_df: 2 × 9\n",
       "\\begin{tabular}{lllllllll}\n",
       " Phylum & Class & Order & Family & Genus & Species & V5 & pident & r\\_copies\\\\\n",
       " <chr> & <chr> & <chr> & <chr> & <chr> & <chr> & <chr> & <dbl> & <dbl>\\\\\n",
       "\\hline\n",
       "\t p\\_Verrucomicrobiota & c\\_Verrucomicrobiae & o\\_Verrucomicrobiales & f\\_Akkermansiaceae & g\\_Akkermansia & s\\_Akkermansia\\_sp001580195 & mcrA & NaN & 0\\\\\n",
       "\t p\\_Verrucomicrobiota & c\\_Verrucomicrobiae & o\\_Verrucomicrobiales & f\\_Akkermansiaceae & g\\_Akkermansia & s\\_Akkermansia\\_sp002358905 & mcrA & NaN & 0\\\\\n",
       "\\end{tabular}\n"
      ],
      "text/markdown": [
       "\n",
       "A grouped_df: 2 × 9\n",
       "\n",
       "| Phylum &lt;chr&gt; | Class &lt;chr&gt; | Order &lt;chr&gt; | Family &lt;chr&gt; | Genus &lt;chr&gt; | Species &lt;chr&gt; | V5 &lt;chr&gt; | pident &lt;dbl&gt; | r_copies &lt;dbl&gt; |\n",
       "|---|---|---|---|---|---|---|---|---|\n",
       "| p_Verrucomicrobiota | c_Verrucomicrobiae | o_Verrucomicrobiales | f_Akkermansiaceae | g_Akkermansia | s_Akkermansia_sp001580195 | mcrA | NaN | 0 |\n",
       "| p_Verrucomicrobiota | c_Verrucomicrobiae | o_Verrucomicrobiales | f_Akkermansiaceae | g_Akkermansia | s_Akkermansia_sp002358905 | mcrA | NaN | 0 |\n",
       "\n"
      ],
      "text/plain": [
       "  Phylum              Class              Order                Family           \n",
       "1 p_Verrucomicrobiota c_Verrucomicrobiae o_Verrucomicrobiales f_Akkermansiaceae\n",
       "2 p_Verrucomicrobiota c_Verrucomicrobiae o_Verrucomicrobiales f_Akkermansiaceae\n",
       "  Genus         Species                   V5   pident r_copies\n",
       "1 g_Akkermansia s_Akkermansia_sp001580195 mcrA NaN    0       \n",
       "2 g_Akkermansia s_Akkermansia_sp002358905 mcrA NaN    0       "
      ]
     },
     "metadata": {},
     "output_type": "display_data"
    }
   ],
   "source": [
    "pp %>% tail(2)"
   ]
  },
  {
   "cell_type": "code",
   "execution_count": 25,
   "metadata": {
    "ExecuteTime": {
     "end_time": "2021-12-15T09:52:50.543590Z",
     "start_time": "2021-12-15T09:52:50.112Z"
    }
   },
   "outputs": [],
   "source": [
    "pp <- pp %>% subset(V5 != 'None')"
   ]
  },
  {
   "cell_type": "markdown",
   "metadata": {},
   "source": [
    "## genera"
   ]
  },
  {
   "cell_type": "code",
   "execution_count": 26,
   "metadata": {
    "ExecuteTime": {
     "end_time": "2021-12-15T09:52:59.067723Z",
     "start_time": "2021-12-15T09:52:58.555Z"
    }
   },
   "outputs": [
    {
     "name": "stderr",
     "output_type": "stream",
     "text": [
      "`summarise()` regrouping output by 'Phylum', 'Class', 'Order', 'Family', 'Genus' (override with `.groups` argument)\n",
      "\n"
     ]
    }
   ],
   "source": [
    "gen <- pp %>% left_join(feats, by = c('Species' = 'Feature')) %>% \n",
    "        group_by(Phylum, Class, Order, Family, Genus, V5) %>% \n",
    "        summarise(r_copies = weighted.mean(x = r_copies, w = Abundance_avg, na.rm = TRUE)\n",
    "                  , pident =  weighted.mean(x = pident, w = Abundance_avg, na.rm = TRUE))\n",
    "gen$Feature <- gen$Genus "
   ]
  },
  {
   "cell_type": "markdown",
   "metadata": {},
   "source": [
    "## family"
   ]
  },
  {
   "cell_type": "code",
   "execution_count": 27,
   "metadata": {
    "ExecuteTime": {
     "end_time": "2021-12-15T09:53:10.163416Z",
     "start_time": "2021-12-15T09:53:09.836Z"
    }
   },
   "outputs": [
    {
     "name": "stderr",
     "output_type": "stream",
     "text": [
      "`summarise()` regrouping output by 'Phylum', 'Class', 'Order', 'Family' (override with `.groups` argument)\n",
      "\n"
     ]
    }
   ],
   "source": [
    "fam <- pp %>% left_join(feats, by = c('Species' = 'Feature')) %>% \n",
    "        group_by(Phylum, Class, Order, Family, V5) %>% \n",
    "        summarise(r_copies = weighted.mean(x = r_copies, w = Abundance_avg, na.rm = TRUE)\n",
    "                  , pident =  weighted.mean(x = pident, w = Abundance_avg, na.rm = TRUE))\n",
    "fam$Feature <- fam$Family"
   ]
  },
  {
   "cell_type": "markdown",
   "metadata": {},
   "source": [
    "## merge"
   ]
  },
  {
   "cell_type": "code",
   "execution_count": 28,
   "metadata": {
    "ExecuteTime": {
     "end_time": "2021-12-15T09:53:12.249889Z",
     "start_time": "2021-12-15T09:53:11.995Z"
    }
   },
   "outputs": [
    {
     "data": {
      "text/html": [
       "<style>\n",
       ".list-inline {list-style: none; margin:0; padding: 0}\n",
       ".list-inline>li {display: inline-block}\n",
       ".list-inline>li:not(:last-child)::after {content: \"\\00b7\"; padding: 0 .5ex}\n",
       "</style>\n",
       "<ol class=list-inline><li>'Phylum'</li><li>'Class'</li><li>'Order'</li><li>'Family'</li><li>'Genus'</li><li>'Species'</li><li>'V5'</li><li>'pident'</li><li>'r_copies'</li></ol>\n"
      ],
      "text/latex": [
       "\\begin{enumerate*}\n",
       "\\item 'Phylum'\n",
       "\\item 'Class'\n",
       "\\item 'Order'\n",
       "\\item 'Family'\n",
       "\\item 'Genus'\n",
       "\\item 'Species'\n",
       "\\item 'V5'\n",
       "\\item 'pident'\n",
       "\\item 'r\\_copies'\n",
       "\\end{enumerate*}\n"
      ],
      "text/markdown": [
       "1. 'Phylum'\n",
       "2. 'Class'\n",
       "3. 'Order'\n",
       "4. 'Family'\n",
       "5. 'Genus'\n",
       "6. 'Species'\n",
       "7. 'V5'\n",
       "8. 'pident'\n",
       "9. 'r_copies'\n",
       "\n",
       "\n"
      ],
      "text/plain": [
       "[1] \"Phylum\"   \"Class\"    \"Order\"    \"Family\"   \"Genus\"    \"Species\"  \"V5\"      \n",
       "[8] \"pident\"   \"r_copies\""
      ]
     },
     "metadata": {},
     "output_type": "display_data"
    },
    {
     "data": {
      "text/html": [
       "<style>\n",
       ".list-inline {list-style: none; margin:0; padding: 0}\n",
       ".list-inline>li {display: inline-block}\n",
       ".list-inline>li:not(:last-child)::after {content: \"\\00b7\"; padding: 0 .5ex}\n",
       "</style>\n",
       "<ol class=list-inline><li>'Phylum'</li><li>'Class'</li><li>'Order'</li><li>'Family'</li><li>'Genus'</li><li>'V5'</li><li>'r_copies'</li><li>'pident'</li><li>'Feature'</li></ol>\n"
      ],
      "text/latex": [
       "\\begin{enumerate*}\n",
       "\\item 'Phylum'\n",
       "\\item 'Class'\n",
       "\\item 'Order'\n",
       "\\item 'Family'\n",
       "\\item 'Genus'\n",
       "\\item 'V5'\n",
       "\\item 'r\\_copies'\n",
       "\\item 'pident'\n",
       "\\item 'Feature'\n",
       "\\end{enumerate*}\n"
      ],
      "text/markdown": [
       "1. 'Phylum'\n",
       "2. 'Class'\n",
       "3. 'Order'\n",
       "4. 'Family'\n",
       "5. 'Genus'\n",
       "6. 'V5'\n",
       "7. 'r_copies'\n",
       "8. 'pident'\n",
       "9. 'Feature'\n",
       "\n",
       "\n"
      ],
      "text/plain": [
       "[1] \"Phylum\"   \"Class\"    \"Order\"    \"Family\"   \"Genus\"    \"V5\"       \"r_copies\"\n",
       "[8] \"pident\"   \"Feature\" "
      ]
     },
     "metadata": {},
     "output_type": "display_data"
    },
    {
     "data": {
      "text/html": [
       "<style>\n",
       ".list-inline {list-style: none; margin:0; padding: 0}\n",
       ".list-inline>li {display: inline-block}\n",
       ".list-inline>li:not(:last-child)::after {content: \"\\00b7\"; padding: 0 .5ex}\n",
       "</style>\n",
       "<ol class=list-inline><li>'Phylum'</li><li>'Class'</li><li>'Order'</li><li>'Family'</li><li>'V5'</li><li>'r_copies'</li><li>'pident'</li><li>'Feature'</li></ol>\n"
      ],
      "text/latex": [
       "\\begin{enumerate*}\n",
       "\\item 'Phylum'\n",
       "\\item 'Class'\n",
       "\\item 'Order'\n",
       "\\item 'Family'\n",
       "\\item 'V5'\n",
       "\\item 'r\\_copies'\n",
       "\\item 'pident'\n",
       "\\item 'Feature'\n",
       "\\end{enumerate*}\n"
      ],
      "text/markdown": [
       "1. 'Phylum'\n",
       "2. 'Class'\n",
       "3. 'Order'\n",
       "4. 'Family'\n",
       "5. 'V5'\n",
       "6. 'r_copies'\n",
       "7. 'pident'\n",
       "8. 'Feature'\n",
       "\n",
       "\n"
      ],
      "text/plain": [
       "[1] \"Phylum\"   \"Class\"    \"Order\"    \"Family\"   \"V5\"       \"r_copies\" \"pident\"  \n",
       "[8] \"Feature\" "
      ]
     },
     "metadata": {},
     "output_type": "display_data"
    }
   ],
   "source": [
    "colnames(pp)\n",
    "colnames(gen)\n",
    "colnames(fam)"
   ]
  },
  {
   "cell_type": "code",
   "execution_count": 29,
   "metadata": {
    "ExecuteTime": {
     "end_time": "2021-12-15T09:53:14.093672Z",
     "start_time": "2021-12-15T09:53:13.852Z"
    }
   },
   "outputs": [],
   "source": [
    "gen$Species <- NA\n",
    "fam$Genus <- NA\n",
    "fam$Species <- NA\n",
    "pp$Feature <- pp$Species"
   ]
  },
  {
   "cell_type": "code",
   "execution_count": 30,
   "metadata": {
    "ExecuteTime": {
     "end_time": "2021-12-15T09:53:14.589487Z",
     "start_time": "2021-12-15T09:53:14.229Z"
    }
   },
   "outputs": [
    {
     "data": {
      "text/html": [
       "17646"
      ],
      "text/latex": [
       "17646"
      ],
      "text/markdown": [
       "17646"
      ],
      "text/plain": [
       "[1] 17646"
      ]
     },
     "metadata": {},
     "output_type": "display_data"
    },
    {
     "data": {
      "text/html": [
       "5646"
      ],
      "text/latex": [
       "5646"
      ],
      "text/markdown": [
       "5646"
      ],
      "text/plain": [
       "[1] 5646"
      ]
     },
     "metadata": {},
     "output_type": "display_data"
    },
    {
     "data": {
      "text/html": [
       "1098"
      ],
      "text/latex": [
       "1098"
      ],
      "text/markdown": [
       "1098"
      ],
      "text/plain": [
       "[1] 1098"
      ]
     },
     "metadata": {},
     "output_type": "display_data"
    }
   ],
   "source": [
    "nrow(pp)\n",
    "nrow(gen)\n",
    "nrow(fam)"
   ]
  },
  {
   "cell_type": "code",
   "execution_count": 31,
   "metadata": {
    "ExecuteTime": {
     "end_time": "2021-12-15T09:53:16.615791Z",
     "start_time": "2021-12-15T09:53:16.072Z"
    }
   },
   "outputs": [],
   "source": [
    "pp <- union(pp, gen) %>% union(fam)"
   ]
  },
  {
   "cell_type": "code",
   "execution_count": 32,
   "metadata": {
    "ExecuteTime": {
     "end_time": "2021-12-15T09:53:16.634593Z",
     "start_time": "2021-12-15T09:53:16.327Z"
    }
   },
   "outputs": [
    {
     "data": {
      "text/html": [
       "24390"
      ],
      "text/latex": [
       "24390"
      ],
      "text/markdown": [
       "24390"
      ],
      "text/plain": [
       "[1] 24390"
      ]
     },
     "metadata": {},
     "output_type": "display_data"
    }
   ],
   "source": [
    "nrow(pp)"
   ]
  },
  {
   "cell_type": "code",
   "execution_count": 33,
   "metadata": {
    "ExecuteTime": {
     "end_time": "2021-12-15T09:53:17.301745Z",
     "start_time": "2021-12-15T09:53:17.033Z"
    }
   },
   "outputs": [
    {
     "data": {
      "text/html": [
       "<table class=\"dataframe\">\n",
       "<caption>A grouped_df: 3 × 10</caption>\n",
       "<thead>\n",
       "\t<tr><th scope=col>Phylum</th><th scope=col>Class</th><th scope=col>Order</th><th scope=col>Family</th><th scope=col>Genus</th><th scope=col>Species</th><th scope=col>V5</th><th scope=col>pident</th><th scope=col>r_copies</th><th scope=col>Feature</th></tr>\n",
       "\t<tr><th scope=col>&lt;chr&gt;</th><th scope=col>&lt;chr&gt;</th><th scope=col>&lt;chr&gt;</th><th scope=col>&lt;chr&gt;</th><th scope=col>&lt;chr&gt;</th><th scope=col>&lt;chr&gt;</th><th scope=col>&lt;chr&gt;</th><th scope=col>&lt;dbl&gt;</th><th scope=col>&lt;dbl&gt;</th><th scope=col>&lt;chr&gt;</th></tr>\n",
       "</thead>\n",
       "<tbody>\n",
       "\t<tr><td>p_Acidobacteriota</td><td>c_Acidobacteriae</td><td>o_Acidobacteriales</td><td>f_Koribacteraceae</td><td>g_QIAA01</td><td>s_QIAA01_sp003224905</td><td>acs </td><td>54.20</td><td>1.772694e-06</td><td>s_QIAA01_sp003224905</td></tr>\n",
       "\t<tr><td>p_Acidobacteriota</td><td>c_Acidobacteriae</td><td>o_Acidobacteriales</td><td>f_Koribacteraceae</td><td>g_QIAA01</td><td>s_QIAA01_sp003224905</td><td>dsrB</td><td>68.90</td><td>7.090777e-07</td><td>s_QIAA01_sp003224905</td></tr>\n",
       "\t<tr><td>p_Acidobacteriota</td><td>c_Acidobacteriae</td><td>o_Acidobacteriales</td><td>f_Koribacteraceae</td><td>g_QIAA01</td><td>s_QIAA01_sp003224905</td><td>hydA</td><td>63.09</td><td>1.772694e-06</td><td>s_QIAA01_sp003224905</td></tr>\n",
       "</tbody>\n",
       "</table>\n"
      ],
      "text/latex": [
       "A grouped\\_df: 3 × 10\n",
       "\\begin{tabular}{llllllllll}\n",
       " Phylum & Class & Order & Family & Genus & Species & V5 & pident & r\\_copies & Feature\\\\\n",
       " <chr> & <chr> & <chr> & <chr> & <chr> & <chr> & <chr> & <dbl> & <dbl> & <chr>\\\\\n",
       "\\hline\n",
       "\t p\\_Acidobacteriota & c\\_Acidobacteriae & o\\_Acidobacteriales & f\\_Koribacteraceae & g\\_QIAA01 & s\\_QIAA01\\_sp003224905 & acs  & 54.20 & 1.772694e-06 & s\\_QIAA01\\_sp003224905\\\\\n",
       "\t p\\_Acidobacteriota & c\\_Acidobacteriae & o\\_Acidobacteriales & f\\_Koribacteraceae & g\\_QIAA01 & s\\_QIAA01\\_sp003224905 & dsrB & 68.90 & 7.090777e-07 & s\\_QIAA01\\_sp003224905\\\\\n",
       "\t p\\_Acidobacteriota & c\\_Acidobacteriae & o\\_Acidobacteriales & f\\_Koribacteraceae & g\\_QIAA01 & s\\_QIAA01\\_sp003224905 & hydA & 63.09 & 1.772694e-06 & s\\_QIAA01\\_sp003224905\\\\\n",
       "\\end{tabular}\n"
      ],
      "text/markdown": [
       "\n",
       "A grouped_df: 3 × 10\n",
       "\n",
       "| Phylum &lt;chr&gt; | Class &lt;chr&gt; | Order &lt;chr&gt; | Family &lt;chr&gt; | Genus &lt;chr&gt; | Species &lt;chr&gt; | V5 &lt;chr&gt; | pident &lt;dbl&gt; | r_copies &lt;dbl&gt; | Feature &lt;chr&gt; |\n",
       "|---|---|---|---|---|---|---|---|---|---|\n",
       "| p_Acidobacteriota | c_Acidobacteriae | o_Acidobacteriales | f_Koribacteraceae | g_QIAA01 | s_QIAA01_sp003224905 | acs  | 54.20 | 1.772694e-06 | s_QIAA01_sp003224905 |\n",
       "| p_Acidobacteriota | c_Acidobacteriae | o_Acidobacteriales | f_Koribacteraceae | g_QIAA01 | s_QIAA01_sp003224905 | dsrB | 68.90 | 7.090777e-07 | s_QIAA01_sp003224905 |\n",
       "| p_Acidobacteriota | c_Acidobacteriae | o_Acidobacteriales | f_Koribacteraceae | g_QIAA01 | s_QIAA01_sp003224905 | hydA | 63.09 | 1.772694e-06 | s_QIAA01_sp003224905 |\n",
       "\n"
      ],
      "text/plain": [
       "  Phylum            Class            Order              Family           \n",
       "1 p_Acidobacteriota c_Acidobacteriae o_Acidobacteriales f_Koribacteraceae\n",
       "2 p_Acidobacteriota c_Acidobacteriae o_Acidobacteriales f_Koribacteraceae\n",
       "3 p_Acidobacteriota c_Acidobacteriae o_Acidobacteriales f_Koribacteraceae\n",
       "  Genus    Species              V5   pident r_copies     Feature             \n",
       "1 g_QIAA01 s_QIAA01_sp003224905 acs  54.20  1.772694e-06 s_QIAA01_sp003224905\n",
       "2 g_QIAA01 s_QIAA01_sp003224905 dsrB 68.90  7.090777e-07 s_QIAA01_sp003224905\n",
       "3 g_QIAA01 s_QIAA01_sp003224905 hydA 63.09  1.772694e-06 s_QIAA01_sp003224905"
      ]
     },
     "metadata": {},
     "output_type": "display_data"
    },
    {
     "data": {
      "text/html": [
       "<table class=\"dataframe\">\n",
       "<caption>A grouped_df: 3 × 10</caption>\n",
       "<thead>\n",
       "\t<tr><th scope=col>Phylum</th><th scope=col>Class</th><th scope=col>Order</th><th scope=col>Family</th><th scope=col>Genus</th><th scope=col>Species</th><th scope=col>V5</th><th scope=col>pident</th><th scope=col>r_copies</th><th scope=col>Feature</th></tr>\n",
       "\t<tr><th scope=col>&lt;chr&gt;</th><th scope=col>&lt;chr&gt;</th><th scope=col>&lt;chr&gt;</th><th scope=col>&lt;chr&gt;</th><th scope=col>&lt;chr&gt;</th><th scope=col>&lt;chr&gt;</th><th scope=col>&lt;chr&gt;</th><th scope=col>&lt;dbl&gt;</th><th scope=col>&lt;dbl&gt;</th><th scope=col>&lt;chr&gt;</th></tr>\n",
       "</thead>\n",
       "<tbody>\n",
       "\t<tr><td>p_Verrucomicrobiota</td><td>c_Verrucomicrobiae</td><td>o_Verrucomicrobiales</td><td>f_Akkermansiaceae</td><td>NA</td><td>NA</td><td>dsrB</td><td>     NaN</td><td>0.000000e+00</td><td>f_Akkermansiaceae</td></tr>\n",
       "\t<tr><td>p_Verrucomicrobiota</td><td>c_Verrucomicrobiae</td><td>o_Verrucomicrobiales</td><td>f_Akkermansiaceae</td><td>NA</td><td>NA</td><td>hydA</td><td>52.79006</td><td>3.955956e-06</td><td>f_Akkermansiaceae</td></tr>\n",
       "\t<tr><td>p_Verrucomicrobiota</td><td>c_Verrucomicrobiae</td><td>o_Verrucomicrobiales</td><td>f_Akkermansiaceae</td><td>NA</td><td>NA</td><td>mcrA</td><td>     NaN</td><td>0.000000e+00</td><td>f_Akkermansiaceae</td></tr>\n",
       "</tbody>\n",
       "</table>\n"
      ],
      "text/latex": [
       "A grouped\\_df: 3 × 10\n",
       "\\begin{tabular}{llllllllll}\n",
       " Phylum & Class & Order & Family & Genus & Species & V5 & pident & r\\_copies & Feature\\\\\n",
       " <chr> & <chr> & <chr> & <chr> & <chr> & <chr> & <chr> & <dbl> & <dbl> & <chr>\\\\\n",
       "\\hline\n",
       "\t p\\_Verrucomicrobiota & c\\_Verrucomicrobiae & o\\_Verrucomicrobiales & f\\_Akkermansiaceae & NA & NA & dsrB &      NaN & 0.000000e+00 & f\\_Akkermansiaceae\\\\\n",
       "\t p\\_Verrucomicrobiota & c\\_Verrucomicrobiae & o\\_Verrucomicrobiales & f\\_Akkermansiaceae & NA & NA & hydA & 52.79006 & 3.955956e-06 & f\\_Akkermansiaceae\\\\\n",
       "\t p\\_Verrucomicrobiota & c\\_Verrucomicrobiae & o\\_Verrucomicrobiales & f\\_Akkermansiaceae & NA & NA & mcrA &      NaN & 0.000000e+00 & f\\_Akkermansiaceae\\\\\n",
       "\\end{tabular}\n"
      ],
      "text/markdown": [
       "\n",
       "A grouped_df: 3 × 10\n",
       "\n",
       "| Phylum &lt;chr&gt; | Class &lt;chr&gt; | Order &lt;chr&gt; | Family &lt;chr&gt; | Genus &lt;chr&gt; | Species &lt;chr&gt; | V5 &lt;chr&gt; | pident &lt;dbl&gt; | r_copies &lt;dbl&gt; | Feature &lt;chr&gt; |\n",
       "|---|---|---|---|---|---|---|---|---|---|\n",
       "| p_Verrucomicrobiota | c_Verrucomicrobiae | o_Verrucomicrobiales | f_Akkermansiaceae | NA | NA | dsrB |      NaN | 0.000000e+00 | f_Akkermansiaceae |\n",
       "| p_Verrucomicrobiota | c_Verrucomicrobiae | o_Verrucomicrobiales | f_Akkermansiaceae | NA | NA | hydA | 52.79006 | 3.955956e-06 | f_Akkermansiaceae |\n",
       "| p_Verrucomicrobiota | c_Verrucomicrobiae | o_Verrucomicrobiales | f_Akkermansiaceae | NA | NA | mcrA |      NaN | 0.000000e+00 | f_Akkermansiaceae |\n",
       "\n"
      ],
      "text/plain": [
       "  Phylum              Class              Order                Family           \n",
       "1 p_Verrucomicrobiota c_Verrucomicrobiae o_Verrucomicrobiales f_Akkermansiaceae\n",
       "2 p_Verrucomicrobiota c_Verrucomicrobiae o_Verrucomicrobiales f_Akkermansiaceae\n",
       "3 p_Verrucomicrobiota c_Verrucomicrobiae o_Verrucomicrobiales f_Akkermansiaceae\n",
       "  Genus Species V5   pident   r_copies     Feature          \n",
       "1 NA    NA      dsrB      NaN 0.000000e+00 f_Akkermansiaceae\n",
       "2 NA    NA      hydA 52.79006 3.955956e-06 f_Akkermansiaceae\n",
       "3 NA    NA      mcrA      NaN 0.000000e+00 f_Akkermansiaceae"
      ]
     },
     "metadata": {},
     "output_type": "display_data"
    }
   ],
   "source": [
    "pp %>% head(3)\n",
    "pp %>% tail(3)"
   ]
  },
  {
   "cell_type": "code",
   "execution_count": 34,
   "metadata": {
    "ExecuteTime": {
     "end_time": "2021-12-15T09:53:21.897557Z",
     "start_time": "2021-12-15T09:53:21.653Z"
    }
   },
   "outputs": [
    {
     "data": {
      "text/html": [
       "0"
      ],
      "text/latex": [
       "0"
      ],
      "text/markdown": [
       "0"
      ],
      "text/plain": [
       "[1] 0"
      ]
     },
     "metadata": {},
     "output_type": "display_data"
    }
   ],
   "source": [
    "(!(unique(pp$Feature) %in% feats$Feature)) %>% sum"
   ]
  },
  {
   "cell_type": "markdown",
   "metadata": {},
   "source": [
    "# Formatting"
   ]
  },
  {
   "cell_type": "code",
   "execution_count": 35,
   "metadata": {
    "ExecuteTime": {
     "end_time": "2021-12-15T09:53:25.542186Z",
     "start_time": "2021-12-15T09:53:25.298Z"
    }
   },
   "outputs": [],
   "source": [
    "colnames(pp)[colnames(pp) == 'V5'] <- 'dmnd_ctg'"
   ]
  },
  {
   "cell_type": "code",
   "execution_count": 36,
   "metadata": {
    "ExecuteTime": {
     "end_time": "2021-12-15T09:53:26.129618Z",
     "start_time": "2021-12-15T09:53:25.778Z"
    }
   },
   "outputs": [],
   "source": [
    "dmnd_pergene <- pp %>% ungroup %>% select(-Phylum, -Class, -Order, -Family, -Genus, -Species)"
   ]
  },
  {
   "cell_type": "code",
   "execution_count": 37,
   "metadata": {
    "ExecuteTime": {
     "end_time": "2021-12-15T09:53:26.355686Z",
     "start_time": "2021-12-15T09:53:26.107Z"
    }
   },
   "outputs": [],
   "source": [
    "feat_imp <- qread('../tmp/Variable_importance.qs')\n",
    "dmnd_pergene <- dmnd_pergene %>% left_join(feat_imp, by = 'Feature')"
   ]
  },
  {
   "cell_type": "code",
   "execution_count": 38,
   "metadata": {
    "ExecuteTime": {
     "end_time": "2021-12-15T09:53:26.917458Z",
     "start_time": "2021-12-15T09:53:26.679Z"
    }
   },
   "outputs": [
    {
     "data": {
      "text/html": [
       "<style>\n",
       ".list-inline {list-style: none; margin:0; padding: 0}\n",
       ".list-inline>li {display: inline-block}\n",
       ".list-inline>li:not(:last-child)::after {content: \"\\00b7\"; padding: 0 .5ex}\n",
       "</style>\n",
       "<ol class=list-inline><li>'acs'</li><li>'cooS'</li><li>'dsrA'</li><li>'dsrB'</li><li>'hydA'</li><li>'mcrA'</li></ol>\n"
      ],
      "text/latex": [
       "\\begin{enumerate*}\n",
       "\\item 'acs'\n",
       "\\item 'cooS'\n",
       "\\item 'dsrA'\n",
       "\\item 'dsrB'\n",
       "\\item 'hydA'\n",
       "\\item 'mcrA'\n",
       "\\end{enumerate*}\n"
      ],
      "text/markdown": [
       "1. 'acs'\n",
       "2. 'cooS'\n",
       "3. 'dsrA'\n",
       "4. 'dsrB'\n",
       "5. 'hydA'\n",
       "6. 'mcrA'\n",
       "\n",
       "\n"
      ],
      "text/plain": [
       "[1] \"acs\"  \"cooS\" \"dsrA\" \"dsrB\" \"hydA\" \"mcrA\""
      ]
     },
     "metadata": {},
     "output_type": "display_data"
    }
   ],
   "source": [
    "unique(dmnd_pergene$dmnd_ctg ) %>% sort"
   ]
  },
  {
   "cell_type": "code",
   "execution_count": 39,
   "metadata": {
    "ExecuteTime": {
     "end_time": "2021-12-15T09:53:27.966841Z",
     "start_time": "2021-12-15T09:53:27.725Z"
    }
   },
   "outputs": [],
   "source": [
    "dmnd_pergene <- dmnd_pergene %>% subset(dmnd_ctg %in% c('dsrA', 'dsrB'))\n",
    "dmnd_pergene$pred_general <- 'SRB'"
   ]
  },
  {
   "cell_type": "code",
   "execution_count": 40,
   "metadata": {
    "ExecuteTime": {
     "end_time": "2021-12-15T09:53:28.237092Z",
     "start_time": "2021-12-15T09:53:27.984Z"
    }
   },
   "outputs": [
    {
     "data": {
      "text/html": [
       "<table class=\"dataframe\">\n",
       "<caption>A tibble: 6 × 7</caption>\n",
       "<thead>\n",
       "\t<tr><th scope=col>dmnd_ctg</th><th scope=col>pident</th><th scope=col>r_copies</th><th scope=col>Feature</th><th scope=col>Gini</th><th scope=col>importance</th><th scope=col>pred_general</th></tr>\n",
       "\t<tr><th scope=col>&lt;chr&gt;</th><th scope=col>&lt;dbl&gt;</th><th scope=col>&lt;dbl&gt;</th><th scope=col>&lt;chr&gt;</th><th scope=col>&lt;dbl&gt;</th><th scope=col>&lt;dbl&gt;</th><th scope=col>&lt;chr&gt;</th></tr>\n",
       "</thead>\n",
       "<tbody>\n",
       "\t<tr><td>dsrB</td><td>68.90000</td><td>7.090777e-07</td><td>s_QIAA01_sp003224905      </td><td>NA</td><td>NA</td><td>SRB</td></tr>\n",
       "\t<tr><td>dsrB</td><td>50.00000</td><td>2.977571e-07</td><td>s_OLB17_sp002360555       </td><td>NA</td><td>NA</td><td>SRB</td></tr>\n",
       "\t<tr><td>dsrB</td><td>53.33333</td><td>1.188200e-06</td><td>s_F0332_sp001652275       </td><td>NA</td><td>NA</td><td>SRB</td></tr>\n",
       "\t<tr><td>dsrB</td><td>57.27500</td><td>1.932138e-06</td><td>s_Gleimia_europaea_A      </td><td>NA</td><td>NA</td><td>SRB</td></tr>\n",
       "\t<tr><td>dsrB</td><td>57.27500</td><td>2.054550e-06</td><td>s_Gleimia_urinae          </td><td>NA</td><td>NA</td><td>SRB</td></tr>\n",
       "\t<tr><td>dsrB</td><td>52.90000</td><td>4.385363e-07</td><td>s_Varibaculum_cambriense_A</td><td>NA</td><td>NA</td><td>SRB</td></tr>\n",
       "</tbody>\n",
       "</table>\n"
      ],
      "text/latex": [
       "A tibble: 6 × 7\n",
       "\\begin{tabular}{lllllll}\n",
       " dmnd\\_ctg & pident & r\\_copies & Feature & Gini & importance & pred\\_general\\\\\n",
       " <chr> & <dbl> & <dbl> & <chr> & <dbl> & <dbl> & <chr>\\\\\n",
       "\\hline\n",
       "\t dsrB & 68.90000 & 7.090777e-07 & s\\_QIAA01\\_sp003224905       & NA & NA & SRB\\\\\n",
       "\t dsrB & 50.00000 & 2.977571e-07 & s\\_OLB17\\_sp002360555        & NA & NA & SRB\\\\\n",
       "\t dsrB & 53.33333 & 1.188200e-06 & s\\_F0332\\_sp001652275        & NA & NA & SRB\\\\\n",
       "\t dsrB & 57.27500 & 1.932138e-06 & s\\_Gleimia\\_europaea\\_A       & NA & NA & SRB\\\\\n",
       "\t dsrB & 57.27500 & 2.054550e-06 & s\\_Gleimia\\_urinae           & NA & NA & SRB\\\\\n",
       "\t dsrB & 52.90000 & 4.385363e-07 & s\\_Varibaculum\\_cambriense\\_A & NA & NA & SRB\\\\\n",
       "\\end{tabular}\n"
      ],
      "text/markdown": [
       "\n",
       "A tibble: 6 × 7\n",
       "\n",
       "| dmnd_ctg &lt;chr&gt; | pident &lt;dbl&gt; | r_copies &lt;dbl&gt; | Feature &lt;chr&gt; | Gini &lt;dbl&gt; | importance &lt;dbl&gt; | pred_general &lt;chr&gt; |\n",
       "|---|---|---|---|---|---|---|\n",
       "| dsrB | 68.90000 | 7.090777e-07 | s_QIAA01_sp003224905       | NA | NA | SRB |\n",
       "| dsrB | 50.00000 | 2.977571e-07 | s_OLB17_sp002360555        | NA | NA | SRB |\n",
       "| dsrB | 53.33333 | 1.188200e-06 | s_F0332_sp001652275        | NA | NA | SRB |\n",
       "| dsrB | 57.27500 | 1.932138e-06 | s_Gleimia_europaea_A       | NA | NA | SRB |\n",
       "| dsrB | 57.27500 | 2.054550e-06 | s_Gleimia_urinae           | NA | NA | SRB |\n",
       "| dsrB | 52.90000 | 4.385363e-07 | s_Varibaculum_cambriense_A | NA | NA | SRB |\n",
       "\n"
      ],
      "text/plain": [
       "  dmnd_ctg pident   r_copies     Feature                    Gini importance\n",
       "1 dsrB     68.90000 7.090777e-07 s_QIAA01_sp003224905       NA   NA        \n",
       "2 dsrB     50.00000 2.977571e-07 s_OLB17_sp002360555        NA   NA        \n",
       "3 dsrB     53.33333 1.188200e-06 s_F0332_sp001652275        NA   NA        \n",
       "4 dsrB     57.27500 1.932138e-06 s_Gleimia_europaea_A       NA   NA        \n",
       "5 dsrB     57.27500 2.054550e-06 s_Gleimia_urinae           NA   NA        \n",
       "6 dsrB     52.90000 4.385363e-07 s_Varibaculum_cambriense_A NA   NA        \n",
       "  pred_general\n",
       "1 SRB         \n",
       "2 SRB         \n",
       "3 SRB         \n",
       "4 SRB         \n",
       "5 SRB         \n",
       "6 SRB         "
      ]
     },
     "metadata": {},
     "output_type": "display_data"
    }
   ],
   "source": [
    "head(dmnd_pergene)"
   ]
  },
  {
   "cell_type": "code",
   "execution_count": 41,
   "metadata": {
    "ExecuteTime": {
     "end_time": "2021-12-15T09:53:33.238123Z",
     "start_time": "2021-12-15T09:53:32.991Z"
    }
   },
   "outputs": [],
   "source": [
    "qsave(dmnd_pergene, 'Fungene_dmnd_pergene_r.qs')"
   ]
  },
  {
   "cell_type": "code",
   "execution_count": null,
   "metadata": {},
   "outputs": [],
   "source": []
  }
 ],
 "metadata": {
  "kernelspec": {
   "display_name": "R [conda env:Metagenomes_methanogen-r-ml] *",
   "language": "R",
   "name": "conda-env-Metagenomes_methanogen-r-ml-r"
  },
  "language_info": {
   "codemirror_mode": "r",
   "file_extension": ".r",
   "mimetype": "text/x-r-source",
   "name": "R",
   "pygments_lexer": "r",
   "version": "4.0.3"
  },
  "notify_time": "30",
  "toc": {
   "base_numbering": 1,
   "nav_menu": {},
   "number_sections": true,
   "sideBar": true,
   "skip_h1_title": false,
   "title_cell": "Table of Contents",
   "title_sidebar": "Contents",
   "toc_cell": false,
   "toc_position": {
    "height": "calc(100% - 180px)",
    "left": "10px",
    "top": "150px",
    "width": "165px"
   },
   "toc_section_display": true,
   "toc_window_display": true
  }
 },
 "nbformat": 4,
 "nbformat_minor": 4
}
