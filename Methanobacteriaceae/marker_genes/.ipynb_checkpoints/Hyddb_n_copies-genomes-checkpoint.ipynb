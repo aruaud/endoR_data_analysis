{
 "cells": [
  {
   "cell_type": "markdown",
   "metadata": {},
   "source": [
    "Notebook to take into account the relative abundances of species when calculating the average number of gene copies across species of a same genus / family.\n",
    "- data too large to be included in this Git repository \n",
    "- data available on demand: albane.ruaud@tuebingen.mpg.de"
   ]
  },
  {
   "cell_type": "markdown",
   "metadata": {},
   "source": [
    "# Preambule"
   ]
  },
  {
   "cell_type": "code",
   "execution_count": 1,
   "metadata": {
    "ExecuteTime": {
     "end_time": "2021-12-15T09:45:02.104064Z",
     "start_time": "2021-12-15T09:45:01.043Z"
    }
   },
   "outputs": [
    {
     "name": "stderr",
     "output_type": "stream",
     "text": [
      "\n",
      "Attaching package: ‘dplyr’\n",
      "\n",
      "\n",
      "The following objects are masked from ‘package:stats’:\n",
      "\n",
      "    filter, lag\n",
      "\n",
      "\n",
      "The following objects are masked from ‘package:base’:\n",
      "\n",
      "    intersect, setdiff, setequal, union\n",
      "\n",
      "\n",
      "\n",
      "Attaching package: ‘data.table’\n",
      "\n",
      "\n",
      "The following objects are masked from ‘package:dplyr’:\n",
      "\n",
      "    between, first, last\n",
      "\n",
      "\n",
      "qs v0.23.4.\n",
      "\n"
     ]
    }
   ],
   "source": [
    "library(dplyr)\n",
    "library(tidyr)\n",
    "library(ggplot2)\n",
    "library(data.table)\n",
    "library(qs)\n",
    "library(stringr)"
   ]
  },
  {
   "cell_type": "markdown",
   "metadata": {},
   "source": [
    "# Taxa"
   ]
  },
  {
   "cell_type": "code",
   "execution_count": 2,
   "metadata": {
    "ExecuteTime": {
     "end_time": "2021-12-15T09:45:02.856408Z",
     "start_time": "2021-12-15T09:45:01.048Z"
    }
   },
   "outputs": [],
   "source": [
    "# taxa used in the model\n",
    "feats <- qread('../data/taxa_not_flt.qs') %>%\n",
    "    select(-Sample)\n",
    "feats <- data.frame(Feature = colnames(feats), Abundance_avg = colMeans(feats))"
   ]
  },
  {
   "cell_type": "code",
   "execution_count": 3,
   "metadata": {
    "ExecuteTime": {
     "end_time": "2021-12-15T09:45:02.880362Z",
     "start_time": "2021-12-15T09:45:01.051Z"
    }
   },
   "outputs": [
    {
     "data": {
      "text/html": [
       "<style>\n",
       ".list-inline {list-style: none; margin:0; padding: 0}\n",
       ".list-inline>li {display: inline-block}\n",
       ".list-inline>li:not(:last-child)::after {content: \"\\00b7\"; padding: 0 .5ex}\n",
       "</style>\n",
       "<ol class=list-inline><li>4733</li><li>2</li></ol>\n"
      ],
      "text/latex": [
       "\\begin{enumerate*}\n",
       "\\item 4733\n",
       "\\item 2\n",
       "\\end{enumerate*}\n"
      ],
      "text/markdown": [
       "1. 4733\n",
       "2. 2\n",
       "\n",
       "\n"
      ],
      "text/plain": [
       "[1] 4733    2"
      ]
     },
     "metadata": {},
     "output_type": "display_data"
    }
   ],
   "source": [
    "feats <- feats %>% subset(Abundance_avg > 0 ) \n",
    "feats %>% dim"
   ]
  },
  {
   "cell_type": "code",
   "execution_count": 4,
   "metadata": {
    "ExecuteTime": {
     "end_time": "2021-12-15T09:45:02.906775Z",
     "start_time": "2021-12-15T09:45:01.053Z"
    }
   },
   "outputs": [
    {
     "data": {
      "text/html": [
       "<table class=\"dataframe\">\n",
       "<caption>A data.frame: 2 × 2</caption>\n",
       "<thead>\n",
       "\t<tr><th></th><th scope=col>Feature</th><th scope=col>Abundance_avg</th></tr>\n",
       "\t<tr><th></th><th scope=col>&lt;chr&gt;</th><th scope=col>&lt;dbl&gt;</th></tr>\n",
       "</thead>\n",
       "<tbody>\n",
       "\t<tr><th scope=row>s_1_14_0_10_34_76_sp002763075</th><td>s_1_14_0_10_34_76_sp002763075</td><td>6.173400e-07</td></tr>\n",
       "\t<tr><th scope=row>s_1_19_sp001922585</th><td>s_1_19_sp001922585           </td><td>4.584657e-07</td></tr>\n",
       "</tbody>\n",
       "</table>\n"
      ],
      "text/latex": [
       "A data.frame: 2 × 2\n",
       "\\begin{tabular}{r|ll}\n",
       "  & Feature & Abundance\\_avg\\\\\n",
       "  & <chr> & <dbl>\\\\\n",
       "\\hline\n",
       "\ts\\_1\\_14\\_0\\_10\\_34\\_76\\_sp002763075 & s\\_1\\_14\\_0\\_10\\_34\\_76\\_sp002763075 & 6.173400e-07\\\\\n",
       "\ts\\_1\\_19\\_sp001922585 & s\\_1\\_19\\_sp001922585            & 4.584657e-07\\\\\n",
       "\\end{tabular}\n"
      ],
      "text/markdown": [
       "\n",
       "A data.frame: 2 × 2\n",
       "\n",
       "| <!--/--> | Feature &lt;chr&gt; | Abundance_avg &lt;dbl&gt; |\n",
       "|---|---|---|\n",
       "| s_1_14_0_10_34_76_sp002763075 | s_1_14_0_10_34_76_sp002763075 | 6.173400e-07 |\n",
       "| s_1_19_sp001922585 | s_1_19_sp001922585            | 4.584657e-07 |\n",
       "\n"
      ],
      "text/plain": [
       "                              Feature                       Abundance_avg\n",
       "s_1_14_0_10_34_76_sp002763075 s_1_14_0_10_34_76_sp002763075 6.173400e-07 \n",
       "s_1_19_sp001922585            s_1_19_sp001922585            4.584657e-07 "
      ]
     },
     "metadata": {},
     "output_type": "display_data"
    }
   ],
   "source": [
    "feats %>% head(2)"
   ]
  },
  {
   "cell_type": "markdown",
   "metadata": {},
   "source": [
    "# llcds results"
   ]
  },
  {
   "cell_type": "code",
   "execution_count": 5,
   "metadata": {
    "ExecuteTime": {
     "end_time": "2021-12-15T09:45:03.123770Z",
     "start_time": "2021-12-15T09:45:01.057Z"
    }
   },
   "outputs": [],
   "source": [
    "# hyddb\n",
    "hyddb <- fread('/ebio/abt3_projects/Methanogen_SCFA/Metagenomes_methanogen/Bacteria_marker_genes/data/hydDB/hyddb-results.csv'\n",
    "               , sep=',', header=FALSE) %>%\n",
    "    select(-V6, -V7, -V8) \n",
    "hyddb$V3 <- hyddb$V3 %>% str_replace(pattern = ' +$', replacement = '')"
   ]
  },
  {
   "cell_type": "code",
   "execution_count": 6,
   "metadata": {
    "ExecuteTime": {
     "end_time": "2021-12-15T09:45:13.976399Z",
     "start_time": "2021-12-15T09:45:01.060Z"
    }
   },
   "outputs": [],
   "source": [
    "# re-loading table\n",
    "hits <- fread('/ebio/abt3_projects/Methanogen_SCFA/Metagenomes_methanogen/Bacteria_marker_genes/data/llcds_hyd/annotate/dmnd_hits_all.tsv.gz')"
   ]
  },
  {
   "cell_type": "code",
   "execution_count": 7,
   "metadata": {
    "ExecuteTime": {
     "end_time": "2021-12-15T09:45:15.600812Z",
     "start_time": "2021-12-15T09:45:01.062Z"
    }
   },
   "outputs": [],
   "source": [
    "# filtering\n",
    "hits_f <- hits %>% subset(pident >= 50 & length / qlen > 0.8)"
   ]
  },
  {
   "cell_type": "code",
   "execution_count": 8,
   "metadata": {
    "ExecuteTime": {
     "end_time": "2021-12-15T09:45:15.626446Z",
     "start_time": "2021-12-15T09:45:01.065Z"
    }
   },
   "outputs": [
    {
     "data": {
      "text/html": [
       "<style>\n",
       ".list-inline {list-style: none; margin:0; padding: 0}\n",
       ".list-inline>li {display: inline-block}\n",
       ".list-inline>li:not(:last-child)::after {content: \"\\00b7\"; padding: 0 .5ex}\n",
       "</style>\n",
       "<ol class=list-inline><li>3737934</li><li>14</li></ol>\n"
      ],
      "text/latex": [
       "\\begin{enumerate*}\n",
       "\\item 3737934\n",
       "\\item 14\n",
       "\\end{enumerate*}\n"
      ],
      "text/markdown": [
       "1. 3737934\n",
       "2. 14\n",
       "\n",
       "\n"
      ],
      "text/plain": [
       "[1] 3737934      14"
      ]
     },
     "metadata": {},
     "output_type": "display_data"
    },
    {
     "data": {
      "text/html": [
       "<style>\n",
       ".list-inline {list-style: none; margin:0; padding: 0}\n",
       ".list-inline>li {display: inline-block}\n",
       ".list-inline>li:not(:last-child)::after {content: \"\\00b7\"; padding: 0 .5ex}\n",
       "</style>\n",
       "<ol class=list-inline><li>111187</li><li>14</li></ol>\n"
      ],
      "text/latex": [
       "\\begin{enumerate*}\n",
       "\\item 111187\n",
       "\\item 14\n",
       "\\end{enumerate*}\n"
      ],
      "text/markdown": [
       "1. 111187\n",
       "2. 14\n",
       "\n",
       "\n"
      ],
      "text/plain": [
       "[1] 111187     14"
      ]
     },
     "metadata": {},
     "output_type": "display_data"
    }
   ],
   "source": [
    "hits %>% dim\n",
    "hits_f %>% dim"
   ]
  },
  {
   "cell_type": "code",
   "execution_count": 9,
   "metadata": {
    "ExecuteTime": {
     "end_time": "2021-12-15T09:45:15.682886Z",
     "start_time": "2021-12-15T09:45:01.067Z"
    }
   },
   "outputs": [],
   "source": [
    "hits_f <- hits_f %>% left_join(hyddb, c('sseqid'='V3'))"
   ]
  },
  {
   "cell_type": "code",
   "execution_count": 10,
   "metadata": {
    "ExecuteTime": {
     "end_time": "2021-12-15T09:45:15.704589Z",
     "start_time": "2021-12-15T09:45:01.071Z"
    }
   },
   "outputs": [
    {
     "data": {
      "text/html": [
       "<style>\n",
       ".list-inline {list-style: none; margin:0; padding: 0}\n",
       ".list-inline>li {display: inline-block}\n",
       ".list-inline>li:not(:last-child)::after {content: \"\\00b7\"; padding: 0 .5ex}\n",
       "</style>\n",
       "<ol class=list-inline><li>111300</li><li>25</li></ol>\n"
      ],
      "text/latex": [
       "\\begin{enumerate*}\n",
       "\\item 111300\n",
       "\\item 25\n",
       "\\end{enumerate*}\n"
      ],
      "text/markdown": [
       "1. 111300\n",
       "2. 25\n",
       "\n",
       "\n"
      ],
      "text/plain": [
       "[1] 111300     25"
      ]
     },
     "metadata": {},
     "output_type": "display_data"
    }
   ],
   "source": [
    "hits_f %>% dim"
   ]
  },
  {
   "cell_type": "markdown",
   "metadata": {},
   "source": [
    "# Add taxonomic level"
   ]
  },
  {
   "cell_type": "code",
   "execution_count": 11,
   "metadata": {
    "ExecuteTime": {
     "end_time": "2021-12-15T09:45:15.990515Z",
     "start_time": "2021-12-15T09:45:01.074Z"
    }
   },
   "outputs": [],
   "source": [
    "aa_files_f <- read.table('/ebio/abt3_projects/Methanogen_SCFA/Metagenomes_methanogen/Bacteria_marker_genes/data/samples.tsv'\n",
    "                        , sep = '\\t', header = TRUE)  %>%\n",
    "    select(Sample, Phylum, Class, Order, Family, Genus, Species) %>%\n",
    "    rename('Genome' = Sample)"
   ]
  },
  {
   "cell_type": "code",
   "execution_count": 12,
   "metadata": {
    "ExecuteTime": {
     "end_time": "2021-12-15T09:45:16.233452Z",
     "start_time": "2021-12-15T09:45:01.077Z"
    }
   },
   "outputs": [],
   "source": [
    "# all taxa lacking hits\n",
    "hits_f <- aa_files_f %>%\n",
    "    left_join(hits_f, by = 'Genome')\n",
    "hits_f$V5[is.na(hits_f$V5)] <- 'None'"
   ]
  },
  {
   "cell_type": "code",
   "execution_count": 13,
   "metadata": {
    "ExecuteTime": {
     "end_time": "2021-12-15T09:45:16.254244Z",
     "start_time": "2021-12-15T09:45:01.079Z"
    }
   },
   "outputs": [
    {
     "data": {
      "text/html": [
       "<style>\n",
       ".list-inline {list-style: none; margin:0; padding: 0}\n",
       ".list-inline>li {display: inline-block}\n",
       ".list-inline>li:not(:last-child)::after {content: \"\\00b7\"; padding: 0 .5ex}\n",
       "</style>\n",
       "<ol class=list-inline><li>'Genome'</li><li>'Phylum'</li><li>'Class'</li><li>'Order'</li><li>'Family'</li><li>'Genus'</li><li>'Species'</li><li>'qseqid'</li><li>'sseqid'</li><li>'pident'</li><li>'length'</li><li>'mismatch'</li><li>'gapopen'</li><li>'qstart'</li><li>'qend'</li><li>'sstart'</li><li>'send'</li><li>'evalue'</li><li>'bitscore'</li><li>'qlen'</li><li>'V1'</li><li>'V2'</li><li>'V4'</li><li>'V5'</li><li>'V9'</li><li>'V10'</li><li>'V11'</li><li>'V12'</li><li>'V13'</li><li>'V14'</li><li>'V15'</li></ol>\n"
      ],
      "text/latex": [
       "\\begin{enumerate*}\n",
       "\\item 'Genome'\n",
       "\\item 'Phylum'\n",
       "\\item 'Class'\n",
       "\\item 'Order'\n",
       "\\item 'Family'\n",
       "\\item 'Genus'\n",
       "\\item 'Species'\n",
       "\\item 'qseqid'\n",
       "\\item 'sseqid'\n",
       "\\item 'pident'\n",
       "\\item 'length'\n",
       "\\item 'mismatch'\n",
       "\\item 'gapopen'\n",
       "\\item 'qstart'\n",
       "\\item 'qend'\n",
       "\\item 'sstart'\n",
       "\\item 'send'\n",
       "\\item 'evalue'\n",
       "\\item 'bitscore'\n",
       "\\item 'qlen'\n",
       "\\item 'V1'\n",
       "\\item 'V2'\n",
       "\\item 'V4'\n",
       "\\item 'V5'\n",
       "\\item 'V9'\n",
       "\\item 'V10'\n",
       "\\item 'V11'\n",
       "\\item 'V12'\n",
       "\\item 'V13'\n",
       "\\item 'V14'\n",
       "\\item 'V15'\n",
       "\\end{enumerate*}\n"
      ],
      "text/markdown": [
       "1. 'Genome'\n",
       "2. 'Phylum'\n",
       "3. 'Class'\n",
       "4. 'Order'\n",
       "5. 'Family'\n",
       "6. 'Genus'\n",
       "7. 'Species'\n",
       "8. 'qseqid'\n",
       "9. 'sseqid'\n",
       "10. 'pident'\n",
       "11. 'length'\n",
       "12. 'mismatch'\n",
       "13. 'gapopen'\n",
       "14. 'qstart'\n",
       "15. 'qend'\n",
       "16. 'sstart'\n",
       "17. 'send'\n",
       "18. 'evalue'\n",
       "19. 'bitscore'\n",
       "20. 'qlen'\n",
       "21. 'V1'\n",
       "22. 'V2'\n",
       "23. 'V4'\n",
       "24. 'V5'\n",
       "25. 'V9'\n",
       "26. 'V10'\n",
       "27. 'V11'\n",
       "28. 'V12'\n",
       "29. 'V13'\n",
       "30. 'V14'\n",
       "31. 'V15'\n",
       "\n",
       "\n"
      ],
      "text/plain": [
       " [1] \"Genome\"   \"Phylum\"   \"Class\"    \"Order\"    \"Family\"   \"Genus\"   \n",
       " [7] \"Species\"  \"qseqid\"   \"sseqid\"   \"pident\"   \"length\"   \"mismatch\"\n",
       "[13] \"gapopen\"  \"qstart\"   \"qend\"     \"sstart\"   \"send\"     \"evalue\"  \n",
       "[19] \"bitscore\" \"qlen\"     \"V1\"       \"V2\"       \"V4\"       \"V5\"      \n",
       "[25] \"V9\"       \"V10\"      \"V11\"      \"V12\"      \"V13\"      \"V14\"     \n",
       "[31] \"V15\"     "
      ]
     },
     "metadata": {},
     "output_type": "display_data"
    }
   ],
   "source": [
    "hits_f %>% colnames"
   ]
  },
  {
   "cell_type": "code",
   "execution_count": 14,
   "metadata": {
    "ExecuteTime": {
     "end_time": "2021-12-15T09:45:16.302874Z",
     "start_time": "2021-12-15T09:45:01.083Z"
    }
   },
   "outputs": [],
   "source": [
    "hits_tax <- hits_f %>% select(Genome, Phylum, Class, Order, Family, Genus, Species, V5, pident) %>% \n",
    "                subset(Species %in% feats$Feature)"
   ]
  },
  {
   "cell_type": "markdown",
   "metadata": {},
   "source": [
    "# Weight by genome size"
   ]
  },
  {
   "cell_type": "code",
   "execution_count": 15,
   "metadata": {
    "ExecuteTime": {
     "end_time": "2021-12-15T09:45:16.548891Z",
     "start_time": "2021-12-15T09:45:01.085Z"
    }
   },
   "outputs": [],
   "source": [
    "samps_tbl_file <- read.table(header = TRUE, sep = '\\t', dec = '.', fill = TRUE\n",
    " , '/ebio/abt3_projects/Methanogen_SCFA/Metagenomes_methanogen/Bacteria_marker_genes/data/samples.tsv')"
   ]
  },
  {
   "cell_type": "code",
   "execution_count": 16,
   "metadata": {
    "ExecuteTime": {
     "end_time": "2021-12-15T09:45:17.409492Z",
     "start_time": "2021-12-15T09:45:01.089Z"
    }
   },
   "outputs": [],
   "source": [
    "struo_meta <- fread('/ebio/abt3_projects/databases_no-backup/GTDB/release89/LLMGP-DB/metadata_1per-GTDB-Spec_gte50comp-lt5cont_wtaxID_wPath.tsv')"
   ]
  },
  {
   "cell_type": "code",
   "execution_count": 17,
   "metadata": {
    "ExecuteTime": {
     "end_time": "2021-12-15T09:45:17.471832Z",
     "start_time": "2021-12-15T09:45:01.092Z"
    }
   },
   "outputs": [],
   "source": [
    "struo_meta$Genome <- str_replace(struo_meta$gtdb_genome_representative, pattern = '\\\\.', replacement = '_')"
   ]
  },
  {
   "cell_type": "code",
   "execution_count": 18,
   "metadata": {
    "ExecuteTime": {
     "end_time": "2021-12-15T09:45:17.524304Z",
     "start_time": "2021-12-15T09:45:01.093Z"
    }
   },
   "outputs": [],
   "source": [
    "hits_tax$Genome_short <- str_extract(hits_tax$Genome, pattern = '^[:upper:]+\\\\_[:upper:]+\\\\_[:digit:]+\\\\_[:digit:]+')"
   ]
  },
  {
   "cell_type": "code",
   "execution_count": 19,
   "metadata": {
    "ExecuteTime": {
     "end_time": "2021-12-15T09:45:17.553746Z",
     "start_time": "2021-12-15T09:45:01.096Z"
    }
   },
   "outputs": [
    {
     "data": {
      "text/html": [
       "53703"
      ],
      "text/latex": [
       "53703"
      ],
      "text/markdown": [
       "53703"
      ],
      "text/plain": [
       "[1] 53703"
      ]
     },
     "metadata": {},
     "output_type": "display_data"
    },
    {
     "data": {
      "text/html": [
       "53703"
      ],
      "text/latex": [
       "53703"
      ],
      "text/markdown": [
       "53703"
      ],
      "text/plain": [
       "[1] 53703"
      ]
     },
     "metadata": {},
     "output_type": "display_data"
    }
   ],
   "source": [
    "sum(hits_tax$Genome_short %in% struo_meta$Genome)\n",
    "length(hits_tax$Genome)"
   ]
  },
  {
   "cell_type": "code",
   "execution_count": 20,
   "metadata": {
    "ExecuteTime": {
     "end_time": "2021-12-15T09:45:18.494346Z",
     "start_time": "2021-12-15T09:45:01.099Z"
    }
   },
   "outputs": [],
   "source": [
    "hits_tax <- left_join(hits_tax,  select(struo_meta, Genome, genome_size), by = c('Genome_short' = 'Genome'))"
   ]
  },
  {
   "cell_type": "code",
   "execution_count": 21,
   "metadata": {
    "ExecuteTime": {
     "end_time": "2021-12-15T09:45:18.513978Z",
     "start_time": "2021-12-15T09:45:02.814Z"
    }
   },
   "outputs": [
    {
     "data": {
      "text/html": [
       "<style>\n",
       ".list-inline {list-style: none; margin:0; padding: 0}\n",
       ".list-inline>li {display: inline-block}\n",
       ".list-inline>li:not(:last-child)::after {content: \"\\00b7\"; padding: 0 .5ex}\n",
       "</style>\n",
       "<ol class=list-inline><li>53703</li><li>11</li></ol>\n"
      ],
      "text/latex": [
       "\\begin{enumerate*}\n",
       "\\item 53703\n",
       "\\item 11\n",
       "\\end{enumerate*}\n"
      ],
      "text/markdown": [
       "1. 53703\n",
       "2. 11\n",
       "\n",
       "\n"
      ],
      "text/plain": [
       "[1] 53703    11"
      ]
     },
     "metadata": {},
     "output_type": "display_data"
    }
   ],
   "source": [
    "dim(hits_tax)"
   ]
  },
  {
   "cell_type": "markdown",
   "metadata": {},
   "source": [
    "# Per taxonomic level"
   ]
  },
  {
   "cell_type": "markdown",
   "metadata": {},
   "source": [
    "## species"
   ]
  },
  {
   "cell_type": "code",
   "execution_count": 22,
   "metadata": {
    "ExecuteTime": {
     "end_time": "2021-12-15T09:45:52.486089Z",
     "start_time": "2021-12-15T09:45:51.966Z"
    }
   },
   "outputs": [
    {
     "name": "stderr",
     "output_type": "stream",
     "text": [
      "`summarise()` regrouping output by 'Phylum', 'Class', 'Order', 'Family', 'Genus', 'Species' (override with `.groups` argument)\n",
      "\n"
     ]
    }
   ],
   "source": [
    "pp <- hits_tax %>% group_by(Phylum, Class, Order, Family, Genus, Species, V5) %>% \n",
    "        summarise(n_copies = n(), pident = mean(pident, na.rm = TRUE), genome_size = unique(genome_size))"
   ]
  },
  {
   "cell_type": "code",
   "execution_count": 23,
   "metadata": {
    "ExecuteTime": {
     "end_time": "2021-12-15T09:45:52.515218Z",
     "start_time": "2021-12-15T09:45:52.173Z"
    }
   },
   "outputs": [],
   "source": [
    "pp$r_copies <- pp$n_copies/pp$genome_size\n",
    "pp <- select(pp, -n_copies, -genome_size)"
   ]
  },
  {
   "cell_type": "markdown",
   "metadata": {},
   "source": [
    "## add all missing categories for each species"
   ]
  },
  {
   "cell_type": "code",
   "execution_count": 24,
   "metadata": {
    "ExecuteTime": {
     "end_time": "2021-12-15T09:45:54.181176Z",
     "start_time": "2021-12-15T09:45:53.960Z"
    }
   },
   "outputs": [],
   "source": [
    "sp <- pp$Species %>% unique\n",
    "hctg <- pp$V5 %>% unique"
   ]
  },
  {
   "cell_type": "code",
   "execution_count": 25,
   "metadata": {
    "ExecuteTime": {
     "end_time": "2021-12-15T09:45:54.681645Z",
     "start_time": "2021-12-15T09:45:54.200Z"
    }
   },
   "outputs": [],
   "source": [
    "# create all combinations of species and hydrogenases needed\n",
    "to_add <- expand.grid(sp, hctg) %>% as.data.frame\n",
    "colnames(to_add) <- c('Species', 'V5')\n",
    "    \n",
    "# keep only the ones missing: give them a 0 count number and NA pident\n",
    "to_add <- setdiff(to_add, pp %>% ungroup %>% select(Species, V5)) %>% \n",
    "                # add the taxonomic levels\n",
    "                left_join(pp%>% ungroup %>% select(Phylum, Class, Order,Family, Genus, Species), by = 'Species') \n",
    "to_add$r_copies <- 0\n",
    "to_add$pident <- NaN\n",
    "    \n",
    "# add them to the dataset\n",
    "pp <- rbind(pp, to_add)"
   ]
  },
  {
   "cell_type": "code",
   "execution_count": 26,
   "metadata": {
    "ExecuteTime": {
     "end_time": "2021-12-15T09:45:56.043338Z",
     "start_time": "2021-12-15T09:45:55.608Z"
    }
   },
   "outputs": [
    {
     "data": {
      "text/html": [
       "<table class=\"dataframe\">\n",
       "<caption>A grouped_df: 2 × 9</caption>\n",
       "<thead>\n",
       "\t<tr><th scope=col>Phylum</th><th scope=col>Class</th><th scope=col>Order</th><th scope=col>Family</th><th scope=col>Genus</th><th scope=col>Species</th><th scope=col>V5</th><th scope=col>pident</th><th scope=col>r_copies</th></tr>\n",
       "\t<tr><th scope=col>&lt;chr&gt;</th><th scope=col>&lt;chr&gt;</th><th scope=col>&lt;chr&gt;</th><th scope=col>&lt;chr&gt;</th><th scope=col>&lt;chr&gt;</th><th scope=col>&lt;chr&gt;</th><th scope=col>&lt;chr&gt;</th><th scope=col>&lt;dbl&gt;</th><th scope=col>&lt;dbl&gt;</th></tr>\n",
       "</thead>\n",
       "<tbody>\n",
       "\t<tr><td>p_Verrucomicrobiota</td><td>c_Verrucomicrobiae</td><td>o_Verrucomicrobiales</td><td>f_Akkermansiaceae</td><td>g_Akkermansia</td><td>s_Akkermansia_sp001580195</td><td>[NiFe] Group 3c</td><td>NaN</td><td>0</td></tr>\n",
       "\t<tr><td>p_Verrucomicrobiota</td><td>c_Verrucomicrobiae</td><td>o_Verrucomicrobiales</td><td>f_Akkermansiaceae</td><td>g_Akkermansia</td><td>s_Akkermansia_sp002358905</td><td>[NiFe] Group 3c</td><td>NaN</td><td>0</td></tr>\n",
       "</tbody>\n",
       "</table>\n"
      ],
      "text/latex": [
       "A grouped\\_df: 2 × 9\n",
       "\\begin{tabular}{lllllllll}\n",
       " Phylum & Class & Order & Family & Genus & Species & V5 & pident & r\\_copies\\\\\n",
       " <chr> & <chr> & <chr> & <chr> & <chr> & <chr> & <chr> & <dbl> & <dbl>\\\\\n",
       "\\hline\n",
       "\t p\\_Verrucomicrobiota & c\\_Verrucomicrobiae & o\\_Verrucomicrobiales & f\\_Akkermansiaceae & g\\_Akkermansia & s\\_Akkermansia\\_sp001580195 & {[}NiFe{]} Group 3c & NaN & 0\\\\\n",
       "\t p\\_Verrucomicrobiota & c\\_Verrucomicrobiae & o\\_Verrucomicrobiales & f\\_Akkermansiaceae & g\\_Akkermansia & s\\_Akkermansia\\_sp002358905 & {[}NiFe{]} Group 3c & NaN & 0\\\\\n",
       "\\end{tabular}\n"
      ],
      "text/markdown": [
       "\n",
       "A grouped_df: 2 × 9\n",
       "\n",
       "| Phylum &lt;chr&gt; | Class &lt;chr&gt; | Order &lt;chr&gt; | Family &lt;chr&gt; | Genus &lt;chr&gt; | Species &lt;chr&gt; | V5 &lt;chr&gt; | pident &lt;dbl&gt; | r_copies &lt;dbl&gt; |\n",
       "|---|---|---|---|---|---|---|---|---|\n",
       "| p_Verrucomicrobiota | c_Verrucomicrobiae | o_Verrucomicrobiales | f_Akkermansiaceae | g_Akkermansia | s_Akkermansia_sp001580195 | [NiFe] Group 3c | NaN | 0 |\n",
       "| p_Verrucomicrobiota | c_Verrucomicrobiae | o_Verrucomicrobiales | f_Akkermansiaceae | g_Akkermansia | s_Akkermansia_sp002358905 | [NiFe] Group 3c | NaN | 0 |\n",
       "\n"
      ],
      "text/plain": [
       "  Phylum              Class              Order                Family           \n",
       "1 p_Verrucomicrobiota c_Verrucomicrobiae o_Verrucomicrobiales f_Akkermansiaceae\n",
       "2 p_Verrucomicrobiota c_Verrucomicrobiae o_Verrucomicrobiales f_Akkermansiaceae\n",
       "  Genus         Species                   V5              pident r_copies\n",
       "1 g_Akkermansia s_Akkermansia_sp001580195 [NiFe] Group 3c NaN    0       \n",
       "2 g_Akkermansia s_Akkermansia_sp002358905 [NiFe] Group 3c NaN    0       "
      ]
     },
     "metadata": {},
     "output_type": "display_data"
    }
   ],
   "source": [
    "pp %>% tail(2)"
   ]
  },
  {
   "cell_type": "markdown",
   "metadata": {},
   "source": [
    "## genera"
   ]
  },
  {
   "cell_type": "code",
   "execution_count": 27,
   "metadata": {
    "ExecuteTime": {
     "end_time": "2021-12-15T09:45:57.426866Z",
     "start_time": "2021-12-15T09:45:55.970Z"
    }
   },
   "outputs": [
    {
     "name": "stderr",
     "output_type": "stream",
     "text": [
      "`summarise()` regrouping output by 'Phylum', 'Class', 'Order', 'Family', 'Genus' (override with `.groups` argument)\n",
      "\n"
     ]
    }
   ],
   "source": [
    "gen <- pp %>% left_join(feats, by = c('Species' = 'Feature')) %>% \n",
    "        group_by(Phylum, Class, Order, Family, Genus, V5) %>% \n",
    "        summarise(r_copies = weighted.mean(x = r_copies, w = Abundance_avg, na.rm = TRUE)\n",
    "                  , pident =  weighted.mean(x = pident, w = Abundance_avg, na.rm = TRUE))\n",
    "gen$Feature <- gen$Genus "
   ]
  },
  {
   "cell_type": "markdown",
   "metadata": {},
   "source": [
    "## family"
   ]
  },
  {
   "cell_type": "code",
   "execution_count": 28,
   "metadata": {
    "ExecuteTime": {
     "end_time": "2021-12-15T09:45:58.701000Z",
     "start_time": "2021-12-15T09:45:58.235Z"
    }
   },
   "outputs": [
    {
     "name": "stderr",
     "output_type": "stream",
     "text": [
      "`summarise()` regrouping output by 'Phylum', 'Class', 'Order', 'Family' (override with `.groups` argument)\n",
      "\n"
     ]
    }
   ],
   "source": [
    "fam <- pp %>% left_join(feats, by = c('Species' = 'Feature')) %>% \n",
    "        group_by(Phylum, Class, Order, Family, V5) %>% \n",
    "        summarise(r_copies = weighted.mean(x = r_copies, w = Abundance_avg, na.rm = TRUE)\n",
    "                  , pident =  weighted.mean(x = pident, w = Abundance_avg, na.rm = TRUE))\n",
    "fam$Feature <- fam$Family"
   ]
  },
  {
   "cell_type": "markdown",
   "metadata": {},
   "source": [
    "## merge"
   ]
  },
  {
   "cell_type": "code",
   "execution_count": 29,
   "metadata": {
    "ExecuteTime": {
     "end_time": "2021-12-15T09:45:59.914584Z",
     "start_time": "2021-12-15T09:45:59.688Z"
    }
   },
   "outputs": [
    {
     "data": {
      "text/html": [
       "<style>\n",
       ".list-inline {list-style: none; margin:0; padding: 0}\n",
       ".list-inline>li {display: inline-block}\n",
       ".list-inline>li:not(:last-child)::after {content: \"\\00b7\"; padding: 0 .5ex}\n",
       "</style>\n",
       "<ol class=list-inline><li>'Phylum'</li><li>'Class'</li><li>'Order'</li><li>'Family'</li><li>'Genus'</li><li>'Species'</li><li>'V5'</li><li>'pident'</li><li>'r_copies'</li></ol>\n"
      ],
      "text/latex": [
       "\\begin{enumerate*}\n",
       "\\item 'Phylum'\n",
       "\\item 'Class'\n",
       "\\item 'Order'\n",
       "\\item 'Family'\n",
       "\\item 'Genus'\n",
       "\\item 'Species'\n",
       "\\item 'V5'\n",
       "\\item 'pident'\n",
       "\\item 'r\\_copies'\n",
       "\\end{enumerate*}\n"
      ],
      "text/markdown": [
       "1. 'Phylum'\n",
       "2. 'Class'\n",
       "3. 'Order'\n",
       "4. 'Family'\n",
       "5. 'Genus'\n",
       "6. 'Species'\n",
       "7. 'V5'\n",
       "8. 'pident'\n",
       "9. 'r_copies'\n",
       "\n",
       "\n"
      ],
      "text/plain": [
       "[1] \"Phylum\"   \"Class\"    \"Order\"    \"Family\"   \"Genus\"    \"Species\"  \"V5\"      \n",
       "[8] \"pident\"   \"r_copies\""
      ]
     },
     "metadata": {},
     "output_type": "display_data"
    },
    {
     "data": {
      "text/html": [
       "<style>\n",
       ".list-inline {list-style: none; margin:0; padding: 0}\n",
       ".list-inline>li {display: inline-block}\n",
       ".list-inline>li:not(:last-child)::after {content: \"\\00b7\"; padding: 0 .5ex}\n",
       "</style>\n",
       "<ol class=list-inline><li>'Phylum'</li><li>'Class'</li><li>'Order'</li><li>'Family'</li><li>'Genus'</li><li>'V5'</li><li>'r_copies'</li><li>'pident'</li><li>'Feature'</li></ol>\n"
      ],
      "text/latex": [
       "\\begin{enumerate*}\n",
       "\\item 'Phylum'\n",
       "\\item 'Class'\n",
       "\\item 'Order'\n",
       "\\item 'Family'\n",
       "\\item 'Genus'\n",
       "\\item 'V5'\n",
       "\\item 'r\\_copies'\n",
       "\\item 'pident'\n",
       "\\item 'Feature'\n",
       "\\end{enumerate*}\n"
      ],
      "text/markdown": [
       "1. 'Phylum'\n",
       "2. 'Class'\n",
       "3. 'Order'\n",
       "4. 'Family'\n",
       "5. 'Genus'\n",
       "6. 'V5'\n",
       "7. 'r_copies'\n",
       "8. 'pident'\n",
       "9. 'Feature'\n",
       "\n",
       "\n"
      ],
      "text/plain": [
       "[1] \"Phylum\"   \"Class\"    \"Order\"    \"Family\"   \"Genus\"    \"V5\"       \"r_copies\"\n",
       "[8] \"pident\"   \"Feature\" "
      ]
     },
     "metadata": {},
     "output_type": "display_data"
    },
    {
     "data": {
      "text/html": [
       "<style>\n",
       ".list-inline {list-style: none; margin:0; padding: 0}\n",
       ".list-inline>li {display: inline-block}\n",
       ".list-inline>li:not(:last-child)::after {content: \"\\00b7\"; padding: 0 .5ex}\n",
       "</style>\n",
       "<ol class=list-inline><li>'Phylum'</li><li>'Class'</li><li>'Order'</li><li>'Family'</li><li>'V5'</li><li>'r_copies'</li><li>'pident'</li><li>'Feature'</li></ol>\n"
      ],
      "text/latex": [
       "\\begin{enumerate*}\n",
       "\\item 'Phylum'\n",
       "\\item 'Class'\n",
       "\\item 'Order'\n",
       "\\item 'Family'\n",
       "\\item 'V5'\n",
       "\\item 'r\\_copies'\n",
       "\\item 'pident'\n",
       "\\item 'Feature'\n",
       "\\end{enumerate*}\n"
      ],
      "text/markdown": [
       "1. 'Phylum'\n",
       "2. 'Class'\n",
       "3. 'Order'\n",
       "4. 'Family'\n",
       "5. 'V5'\n",
       "6. 'r_copies'\n",
       "7. 'pident'\n",
       "8. 'Feature'\n",
       "\n",
       "\n"
      ],
      "text/plain": [
       "[1] \"Phylum\"   \"Class\"    \"Order\"    \"Family\"   \"V5\"       \"r_copies\" \"pident\"  \n",
       "[8] \"Feature\" "
      ]
     },
     "metadata": {},
     "output_type": "display_data"
    }
   ],
   "source": [
    "colnames(pp)\n",
    "colnames(gen)\n",
    "colnames(fam)"
   ]
  },
  {
   "cell_type": "code",
   "execution_count": 30,
   "metadata": {
    "ExecuteTime": {
     "end_time": "2021-12-15T09:46:00.153266Z",
     "start_time": "2021-12-15T09:45:59.928Z"
    }
   },
   "outputs": [],
   "source": [
    "gen$Species <- NA\n",
    "fam$Genus <- NA\n",
    "fam$Species <- NA\n",
    "pp$Feature <- pp$Species"
   ]
  },
  {
   "cell_type": "code",
   "execution_count": 31,
   "metadata": {
    "ExecuteTime": {
     "end_time": "2021-12-15T09:46:02.409918Z",
     "start_time": "2021-12-15T09:46:02.178Z"
    }
   },
   "outputs": [
    {
     "data": {
      "text/html": [
       "181348"
      ],
      "text/latex": [
       "181348"
      ],
      "text/markdown": [
       "181348"
      ],
      "text/plain": [
       "[1] 181348"
      ]
     },
     "metadata": {},
     "output_type": "display_data"
    },
    {
     "data": {
      "text/html": [
       "30112"
      ],
      "text/latex": [
       "30112"
      ],
      "text/markdown": [
       "30112"
      ],
      "text/plain": [
       "[1] 30112"
      ]
     },
     "metadata": {},
     "output_type": "display_data"
    },
    {
     "data": {
      "text/html": [
       "5856"
      ],
      "text/latex": [
       "5856"
      ],
      "text/markdown": [
       "5856"
      ],
      "text/plain": [
       "[1] 5856"
      ]
     },
     "metadata": {},
     "output_type": "display_data"
    }
   ],
   "source": [
    "nrow(pp)\n",
    "nrow(gen)\n",
    "nrow(fam)"
   ]
  },
  {
   "cell_type": "code",
   "execution_count": 32,
   "metadata": {
    "ExecuteTime": {
     "end_time": "2021-12-15T09:46:05.058201Z",
     "start_time": "2021-12-15T09:46:04.142Z"
    }
   },
   "outputs": [],
   "source": [
    "pp <- union(pp, gen) %>% union(fam)"
   ]
  },
  {
   "cell_type": "code",
   "execution_count": 33,
   "metadata": {
    "ExecuteTime": {
     "end_time": "2021-12-15T09:46:06.164200Z",
     "start_time": "2021-12-15T09:46:05.944Z"
    }
   },
   "outputs": [
    {
     "data": {
      "text/html": [
       "130080"
      ],
      "text/latex": [
       "130080"
      ],
      "text/markdown": [
       "130080"
      ],
      "text/plain": [
       "[1] 130080"
      ]
     },
     "metadata": {},
     "output_type": "display_data"
    }
   ],
   "source": [
    "nrow(pp) #130080"
   ]
  },
  {
   "cell_type": "code",
   "execution_count": 35,
   "metadata": {
    "ExecuteTime": {
     "end_time": "2021-12-15T09:46:13.142571Z",
     "start_time": "2021-12-15T09:46:12.920Z"
    }
   },
   "outputs": [
    {
     "data": {
      "text/html": [
       "0"
      ],
      "text/latex": [
       "0"
      ],
      "text/markdown": [
       "0"
      ],
      "text/plain": [
       "[1] 0"
      ]
     },
     "metadata": {},
     "output_type": "display_data"
    }
   ],
   "source": [
    "(!(unique(pp$Feature) %in% feats$Feature)) %>% sum"
   ]
  },
  {
   "cell_type": "code",
   "execution_count": 36,
   "metadata": {
    "ExecuteTime": {
     "end_time": "2021-12-15T09:46:15.309748Z",
     "start_time": "2021-12-15T09:46:15.093Z"
    }
   },
   "outputs": [],
   "source": [
    "#write.table(pp, file = '../data/llcds_hyd/hyd-annot_byPredFeat_byHyd_weightedRA.txt'\n",
    "#            , sep = '\\t', quote = FALSE)"
   ]
  },
  {
   "cell_type": "markdown",
   "metadata": {},
   "source": [
    "# Formatting"
   ]
  },
  {
   "cell_type": "code",
   "execution_count": 37,
   "metadata": {
    "ExecuteTime": {
     "end_time": "2021-12-15T09:46:15.715959Z",
     "start_time": "2021-12-15T09:46:15.496Z"
    }
   },
   "outputs": [],
   "source": [
    "colnames(pp)[colnames(pp) == 'V5'] <- 'hyd_ctg'"
   ]
  },
  {
   "cell_type": "code",
   "execution_count": 38,
   "metadata": {
    "ExecuteTime": {
     "end_time": "2021-12-15T09:46:15.924019Z",
     "start_time": "2021-12-15T09:46:15.677Z"
    }
   },
   "outputs": [],
   "source": [
    "feat_imp <- qread('../tmp/Variable_importance.qs')\n",
    "hyd_pergene <- pp %>% ungroup %>% select(-Phylum, -Class, -Order, -Family, -Genus, -Species) %>% \n",
    "                    left_join(feat_imp, by = 'Feature')"
   ]
  },
  {
   "cell_type": "markdown",
   "metadata": {},
   "source": [
    "## add descriptions"
   ]
  },
  {
   "cell_type": "code",
   "execution_count": 39,
   "metadata": {
    "ExecuteTime": {
     "end_time": "2021-12-15T09:46:18.656042Z",
     "start_time": "2021-12-15T09:46:18.422Z"
    }
   },
   "outputs": [],
   "source": [
    "hyd_description <- read.table('hydDB_curated.txt', sep = '\\t', header = TRUE)"
   ]
  },
  {
   "cell_type": "code",
   "execution_count": 40,
   "metadata": {
    "ExecuteTime": {
     "end_time": "2021-12-15T09:46:18.991309Z",
     "start_time": "2021-12-15T09:46:18.754Z"
    }
   },
   "outputs": [
    {
     "data": {
      "text/html": [
       "<table class=\"dataframe\">\n",
       "<caption>A data.frame: 6 × 5</caption>\n",
       "<thead>\n",
       "\t<tr><th></th><th scope=col>hyd_ctg</th><th scope=col>pred_function</th><th scope=col>electron_donor_acceptor</th><th scope=col>O2</th><th scope=col>comment</th></tr>\n",
       "\t<tr><th></th><th scope=col>&lt;chr&gt;</th><th scope=col>&lt;chr&gt;</th><th scope=col>&lt;chr&gt;</th><th scope=col>&lt;chr&gt;</th><th scope=col>&lt;chr&gt;</th></tr>\n",
       "</thead>\n",
       "<tbody>\n",
       "\t<tr><th scope=row>1</th><td>[Fe]           </td><td>Bidirectional</td><td>Hmd                           </td><td>tolerant</td><td>Reduction of Hmd during hydrogenotrophic methanogenesis                                                    </td></tr>\n",
       "\t<tr><th scope=row>4</th><td>[FeFe] Group A3</td><td>Bifurcating  </td><td>NAD, ferredoxin               </td><td>labile  </td><td>                                                                                                           </td></tr>\n",
       "\t<tr><th scope=row>26</th><td>[NiFe] Group 3a</td><td>Bidirectional</td><td>F420                          </td><td>tolerant</td><td>Reduction of F420 during hydrogenotrophic methanogenesis                                                   </td></tr>\n",
       "\t<tr><th scope=row>27</th><td>[NiFe] Group 3b</td><td>Bidirectional</td><td>NADP                          </td><td>tolerant</td><td>Directly couples oxidation of NADPH to fermentative evolution of H2. Diverse soil and aquatic environments.</td></tr>\n",
       "\t<tr><th scope=row>28</th><td>[NiFe] Group 3c</td><td>Bifurcating  </td><td>heterodisulfide and ferredoxin</td><td>tolerant</td><td>In methanogens                                                                                             </td></tr>\n",
       "\t<tr><th scope=row>29</th><td>[NiFe] Group 3d</td><td>Bidirectional</td><td>NAD                           </td><td>tolerant</td><td>                                                                                                           </td></tr>\n",
       "</tbody>\n",
       "</table>\n"
      ],
      "text/latex": [
       "A data.frame: 6 × 5\n",
       "\\begin{tabular}{r|lllll}\n",
       "  & hyd\\_ctg & pred\\_function & electron\\_donor\\_acceptor & O2 & comment\\\\\n",
       "  & <chr> & <chr> & <chr> & <chr> & <chr>\\\\\n",
       "\\hline\n",
       "\t1 & {[}Fe{]}            & Bidirectional & Hmd                            & tolerant & Reduction of Hmd during hydrogenotrophic methanogenesis                                                    \\\\\n",
       "\t4 & {[}FeFe{]} Group A3 & Bifurcating   & NAD, ferredoxin                & labile   &                                                                                                            \\\\\n",
       "\t26 & {[}NiFe{]} Group 3a & Bidirectional & F420                           & tolerant & Reduction of F420 during hydrogenotrophic methanogenesis                                                   \\\\\n",
       "\t27 & {[}NiFe{]} Group 3b & Bidirectional & NADP                           & tolerant & Directly couples oxidation of NADPH to fermentative evolution of H2. Diverse soil and aquatic environments.\\\\\n",
       "\t28 & {[}NiFe{]} Group 3c & Bifurcating   & heterodisulfide and ferredoxin & tolerant & In methanogens                                                                                             \\\\\n",
       "\t29 & {[}NiFe{]} Group 3d & Bidirectional & NAD                            & tolerant &                                                                                                            \\\\\n",
       "\\end{tabular}\n"
      ],
      "text/markdown": [
       "\n",
       "A data.frame: 6 × 5\n",
       "\n",
       "| <!--/--> | hyd_ctg &lt;chr&gt; | pred_function &lt;chr&gt; | electron_donor_acceptor &lt;chr&gt; | O2 &lt;chr&gt; | comment &lt;chr&gt; |\n",
       "|---|---|---|---|---|---|\n",
       "| 1 | [Fe]            | Bidirectional | Hmd                            | tolerant | Reduction of Hmd during hydrogenotrophic methanogenesis                                                     |\n",
       "| 4 | [FeFe] Group A3 | Bifurcating   | NAD, ferredoxin                | labile   | <!----> |\n",
       "| 26 | [NiFe] Group 3a | Bidirectional | F420                           | tolerant | Reduction of F420 during hydrogenotrophic methanogenesis                                                    |\n",
       "| 27 | [NiFe] Group 3b | Bidirectional | NADP                           | tolerant | Directly couples oxidation of NADPH to fermentative evolution of H2. Diverse soil and aquatic environments. |\n",
       "| 28 | [NiFe] Group 3c | Bifurcating   | heterodisulfide and ferredoxin | tolerant | In methanogens                                                                                              |\n",
       "| 29 | [NiFe] Group 3d | Bidirectional | NAD                            | tolerant | <!----> |\n",
       "\n"
      ],
      "text/plain": [
       "   hyd_ctg         pred_function electron_donor_acceptor        O2      \n",
       "1  [Fe]            Bidirectional Hmd                            tolerant\n",
       "4  [FeFe] Group A3 Bifurcating   NAD, ferredoxin                labile  \n",
       "26 [NiFe] Group 3a Bidirectional F420                           tolerant\n",
       "27 [NiFe] Group 3b Bidirectional NADP                           tolerant\n",
       "28 [NiFe] Group 3c Bifurcating   heterodisulfide and ferredoxin tolerant\n",
       "29 [NiFe] Group 3d Bidirectional NAD                            tolerant\n",
       "   comment                                                                                                    \n",
       "1  Reduction of Hmd during hydrogenotrophic methanogenesis                                                    \n",
       "4                                                                                                             \n",
       "26 Reduction of F420 during hydrogenotrophic methanogenesis                                                   \n",
       "27 Directly couples oxidation of NADPH to fermentative evolution of H2. Diverse soil and aquatic environments.\n",
       "28 In methanogens                                                                                             \n",
       "29                                                                                                            "
      ]
     },
     "metadata": {},
     "output_type": "display_data"
    }
   ],
   "source": [
    "hyd_description %>% subset(pred_function %in% c('Bifurcating', 'Bidirectional'))"
   ]
  },
  {
   "cell_type": "code",
   "execution_count": 41,
   "metadata": {
    "ExecuteTime": {
     "end_time": "2021-12-15T09:46:20.599440Z",
     "start_time": "2021-12-15T09:46:20.358Z"
    }
   },
   "outputs": [],
   "source": [
    "hyd_pergene <- hyd_pergene %>% left_join(hyd_description %>% select(-comment), by = 'hyd_ctg')"
   ]
  },
  {
   "cell_type": "code",
   "execution_count": 42,
   "metadata": {
    "ExecuteTime": {
     "end_time": "2021-12-15T09:46:20.867451Z",
     "start_time": "2021-12-15T09:46:20.599Z"
    }
   },
   "outputs": [],
   "source": [
    "hyd_pergene <- hyd_pergene %>% subset(!(str_detect(Feature, pattern = '^(f|g)\\\\_') & hyd_ctg == 'None') )"
   ]
  },
  {
   "cell_type": "code",
   "execution_count": 43,
   "metadata": {
    "ExecuteTime": {
     "end_time": "2021-12-15T09:46:21.120339Z",
     "start_time": "2021-12-15T09:46:20.808Z"
    }
   },
   "outputs": [],
   "source": [
    "# simplify electron donor/acceptor variable: Sulfate and others if sulfate listed\n",
    "hyd_pergene$electron_donor_acceptor <- ifelse(str_detect(hyd_pergene$electron_donor_acceptor, pattern = 'Sulfate')\n",
    "                                             , 'Sulfate and others', hyd_pergene$electron_donor_acceptor)\n",
    "# simplify: keep only the interesting labels (in tmp) and group the others\n",
    "tmp <- c('Ferredoxin', 'NAD', 'NAD, ferredoxin', 'NADP', 'Formate', 'Sulfate and others')\n",
    "hyd_pergene$electron_donor_acceptor <- ifelse(!(hyd_pergene$electron_donor_acceptor %in% tmp), 'Other', hyd_pergene$electron_donor_acceptor)"
   ]
  },
  {
   "cell_type": "code",
   "execution_count": 44,
   "metadata": {
    "ExecuteTime": {
     "end_time": "2021-12-15T09:46:21.241011Z",
     "start_time": "2021-12-15T09:46:20.987Z"
    }
   },
   "outputs": [],
   "source": [
    "hyd_pergene$pred_general <- ifelse(hyd_pergene$pred_function %in% c('Bifurcating', 'Evolving'), 'H2 producing'\n",
    "                                   , hyd_pergene$pred_function)"
   ]
  },
  {
   "cell_type": "code",
   "execution_count": 45,
   "metadata": {
    "ExecuteTime": {
     "end_time": "2021-12-15T09:46:22.709637Z",
     "start_time": "2021-12-15T09:46:22.489Z"
    }
   },
   "outputs": [],
   "source": [
    "# this one is bifurcating but actually involved in H2 uptake\n",
    "hyd_pergene$pred_general[ hyd_pergene$hyd_ctg == '[NiFe] Group 3c' ] <- 'H2 uptake'"
   ]
  },
  {
   "cell_type": "code",
   "execution_count": 46,
   "metadata": {
    "ExecuteTime": {
     "end_time": "2021-12-15T09:46:22.946300Z",
     "start_time": "2021-12-15T09:46:22.699Z"
    }
   },
   "outputs": [],
   "source": [
    "tmpFun <- function(x){ifelse(is.na(x), 0, x)}\n",
    "hyd_pergene <- hyd_pergene %>% mutate_at(vars(Gini, importance), tmpFun)"
   ]
  },
  {
   "cell_type": "code",
   "execution_count": 47,
   "metadata": {
    "ExecuteTime": {
     "end_time": "2021-12-15T09:46:23.123987Z",
     "start_time": "2021-12-15T09:46:22.907Z"
    }
   },
   "outputs": [],
   "source": [
    "colnames(hyd_pergene) <- str_replace(colnames(hyd_pergene), pattern = 'importance', replacement = 'endoR')"
   ]
  },
  {
   "cell_type": "code",
   "execution_count": 48,
   "metadata": {
    "ExecuteTime": {
     "end_time": "2021-12-15T09:46:27.509919Z",
     "start_time": "2021-12-15T09:46:27.211Z"
    }
   },
   "outputs": [],
   "source": [
    "qsave(hyd_pergene, 'HydDB_res_r.qs')"
   ]
  },
  {
   "cell_type": "code",
   "execution_count": null,
   "metadata": {},
   "outputs": [],
   "source": []
  }
 ],
 "metadata": {
  "kernelspec": {
   "display_name": "R [conda env:Metagenomes_methanogen-r-ml] *",
   "language": "R",
   "name": "conda-env-Metagenomes_methanogen-r-ml-r"
  },
  "language_info": {
   "codemirror_mode": "r",
   "file_extension": ".r",
   "mimetype": "text/x-r-source",
   "name": "R",
   "pygments_lexer": "r",
   "version": "4.0.3"
  },
  "toc": {
   "base_numbering": 1,
   "nav_menu": {},
   "number_sections": true,
   "sideBar": true,
   "skip_h1_title": false,
   "title_cell": "Table of Contents",
   "title_sidebar": "Contents",
   "toc_cell": false,
   "toc_position": {
    "height": "calc(100% - 180px)",
    "left": "10px",
    "top": "150px",
    "width": "246px"
   },
   "toc_section_display": true,
   "toc_window_display": true
  }
 },
 "nbformat": 4,
 "nbformat_minor": 4
}
