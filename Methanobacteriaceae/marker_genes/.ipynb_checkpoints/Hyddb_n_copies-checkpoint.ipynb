{
 "cells": [
  {
   "cell_type": "markdown",
   "metadata": {},
   "source": [
    "Notebook to take into account the relative abundances of species when calculating the average number of gene copies across species of a same genus / family.\n",
    "- data too large to be included in this Git repository \n",
    "- data available on demand: albane.ruaud@tuebingen.mpg.de"
   ]
  },
  {
   "cell_type": "markdown",
   "metadata": {},
   "source": [
    "# Preambule"
   ]
  },
  {
   "cell_type": "code",
   "execution_count": 1,
   "metadata": {
    "ExecuteTime": {
     "end_time": "2021-12-12T17:00:16.113214Z",
     "start_time": "2021-12-12T17:00:14.674Z"
    }
   },
   "outputs": [
    {
     "name": "stderr",
     "output_type": "stream",
     "text": [
      "\n",
      "Attaching package: ‘dplyr’\n",
      "\n",
      "\n",
      "The following objects are masked from ‘package:stats’:\n",
      "\n",
      "    filter, lag\n",
      "\n",
      "\n",
      "The following objects are masked from ‘package:base’:\n",
      "\n",
      "    intersect, setdiff, setequal, union\n",
      "\n",
      "\n",
      "\n",
      "Attaching package: ‘data.table’\n",
      "\n",
      "\n",
      "The following objects are masked from ‘package:dplyr’:\n",
      "\n",
      "    between, first, last\n",
      "\n",
      "\n",
      "qs v0.23.4.\n",
      "\n"
     ]
    }
   ],
   "source": [
    "library(dplyr)\n",
    "library(tidyr)\n",
    "library(ggplot2)\n",
    "library(data.table)\n",
    "library(qs)\n",
    "library(stringr)"
   ]
  },
  {
   "cell_type": "markdown",
   "metadata": {},
   "source": [
    "# Taxa"
   ]
  },
  {
   "cell_type": "code",
   "execution_count": 2,
   "metadata": {
    "ExecuteTime": {
     "end_time": "2021-12-12T17:00:16.804124Z",
     "start_time": "2021-12-12T17:00:15.034Z"
    }
   },
   "outputs": [],
   "source": [
    "# taxa used in the model\n",
    "feats <- qread('../data/taxa_not_flt.qs') %>%\n",
    "    select(-Sample)\n",
    "feats <- data.frame(Feature = colnames(feats), Abundance_avg = colMeans(feats))"
   ]
  },
  {
   "cell_type": "code",
   "execution_count": 3,
   "metadata": {
    "ExecuteTime": {
     "end_time": "2021-12-12T17:00:16.825269Z",
     "start_time": "2021-12-12T17:00:15.213Z"
    }
   },
   "outputs": [
    {
     "data": {
      "text/html": [
       "<style>\n",
       ".list-inline {list-style: none; margin:0; padding: 0}\n",
       ".list-inline>li {display: inline-block}\n",
       ".list-inline>li:not(:last-child)::after {content: \"\\00b7\"; padding: 0 .5ex}\n",
       "</style>\n",
       "<ol class=list-inline><li>4733</li><li>2</li></ol>\n"
      ],
      "text/latex": [
       "\\begin{enumerate*}\n",
       "\\item 4733\n",
       "\\item 2\n",
       "\\end{enumerate*}\n"
      ],
      "text/markdown": [
       "1. 4733\n",
       "2. 2\n",
       "\n",
       "\n"
      ],
      "text/plain": [
       "[1] 4733    2"
      ]
     },
     "metadata": {},
     "output_type": "display_data"
    }
   ],
   "source": [
    "feats <- feats %>% subset(Abundance_avg > 0 ) \n",
    "feats %>% dim"
   ]
  },
  {
   "cell_type": "code",
   "execution_count": 4,
   "metadata": {
    "ExecuteTime": {
     "end_time": "2021-12-12T17:00:16.848068Z",
     "start_time": "2021-12-12T17:00:15.366Z"
    }
   },
   "outputs": [
    {
     "data": {
      "text/html": [
       "<table class=\"dataframe\">\n",
       "<caption>A data.frame: 2 × 2</caption>\n",
       "<thead>\n",
       "\t<tr><th></th><th scope=col>Feature</th><th scope=col>Abundance_avg</th></tr>\n",
       "\t<tr><th></th><th scope=col>&lt;chr&gt;</th><th scope=col>&lt;dbl&gt;</th></tr>\n",
       "</thead>\n",
       "<tbody>\n",
       "\t<tr><th scope=row>s_1_14_0_10_34_76_sp002763075</th><td>s_1_14_0_10_34_76_sp002763075</td><td>6.173400e-07</td></tr>\n",
       "\t<tr><th scope=row>s_1_19_sp001922585</th><td>s_1_19_sp001922585           </td><td>4.584657e-07</td></tr>\n",
       "</tbody>\n",
       "</table>\n"
      ],
      "text/latex": [
       "A data.frame: 2 × 2\n",
       "\\begin{tabular}{r|ll}\n",
       "  & Feature & Abundance\\_avg\\\\\n",
       "  & <chr> & <dbl>\\\\\n",
       "\\hline\n",
       "\ts\\_1\\_14\\_0\\_10\\_34\\_76\\_sp002763075 & s\\_1\\_14\\_0\\_10\\_34\\_76\\_sp002763075 & 6.173400e-07\\\\\n",
       "\ts\\_1\\_19\\_sp001922585 & s\\_1\\_19\\_sp001922585            & 4.584657e-07\\\\\n",
       "\\end{tabular}\n"
      ],
      "text/markdown": [
       "\n",
       "A data.frame: 2 × 2\n",
       "\n",
       "| <!--/--> | Feature &lt;chr&gt; | Abundance_avg &lt;dbl&gt; |\n",
       "|---|---|---|\n",
       "| s_1_14_0_10_34_76_sp002763075 | s_1_14_0_10_34_76_sp002763075 | 6.173400e-07 |\n",
       "| s_1_19_sp001922585 | s_1_19_sp001922585            | 4.584657e-07 |\n",
       "\n"
      ],
      "text/plain": [
       "                              Feature                       Abundance_avg\n",
       "s_1_14_0_10_34_76_sp002763075 s_1_14_0_10_34_76_sp002763075 6.173400e-07 \n",
       "s_1_19_sp001922585            s_1_19_sp001922585            4.584657e-07 "
      ]
     },
     "metadata": {},
     "output_type": "display_data"
    }
   ],
   "source": [
    "feats %>% head(2)"
   ]
  },
  {
   "cell_type": "markdown",
   "metadata": {},
   "source": [
    "# llcds results"
   ]
  },
  {
   "cell_type": "code",
   "execution_count": 5,
   "metadata": {
    "ExecuteTime": {
     "end_time": "2021-12-12T17:00:17.239695Z",
     "start_time": "2021-12-12T17:00:15.662Z"
    }
   },
   "outputs": [],
   "source": [
    "# hyddb\n",
    "hyddb <- fread('/ebio/abt3_projects/Methanogen_SCFA/Metagenomes_methanogen/Bacteria_marker_genes/data/hydDB/hyddb-results.csv'\n",
    "               , sep=',', header=FALSE) %>%\n",
    "    select(-V6, -V7, -V8) \n",
    "hyddb$V3 <- hyddb$V3 %>% str_replace(pattern = ' +$', replacement = '')"
   ]
  },
  {
   "cell_type": "code",
   "execution_count": 6,
   "metadata": {
    "ExecuteTime": {
     "end_time": "2021-12-12T17:00:27.787923Z",
     "start_time": "2021-12-12T17:00:15.782Z"
    }
   },
   "outputs": [],
   "source": [
    "# re-loading table\n",
    "hits <- fread('/ebio/abt3_projects/Methanogen_SCFA/Metagenomes_methanogen/Bacteria_marker_genes/data/llcds_hyd/annotate/dmnd_hits_all.tsv.gz')"
   ]
  },
  {
   "cell_type": "code",
   "execution_count": 7,
   "metadata": {
    "ExecuteTime": {
     "end_time": "2021-12-12T17:00:29.383328Z",
     "start_time": "2021-12-12T17:00:15.933Z"
    }
   },
   "outputs": [],
   "source": [
    "# filtering\n",
    "hits_f <- hits %>% subset(pident >= 50 & length / qlen > 0.8)"
   ]
  },
  {
   "cell_type": "code",
   "execution_count": 8,
   "metadata": {
    "ExecuteTime": {
     "end_time": "2021-12-12T17:00:29.407505Z",
     "start_time": "2021-12-12T17:00:16.056Z"
    }
   },
   "outputs": [
    {
     "data": {
      "text/html": [
       "<style>\n",
       ".list-inline {list-style: none; margin:0; padding: 0}\n",
       ".list-inline>li {display: inline-block}\n",
       ".list-inline>li:not(:last-child)::after {content: \"\\00b7\"; padding: 0 .5ex}\n",
       "</style>\n",
       "<ol class=list-inline><li>3737934</li><li>14</li></ol>\n"
      ],
      "text/latex": [
       "\\begin{enumerate*}\n",
       "\\item 3737934\n",
       "\\item 14\n",
       "\\end{enumerate*}\n"
      ],
      "text/markdown": [
       "1. 3737934\n",
       "2. 14\n",
       "\n",
       "\n"
      ],
      "text/plain": [
       "[1] 3737934      14"
      ]
     },
     "metadata": {},
     "output_type": "display_data"
    },
    {
     "data": {
      "text/html": [
       "<style>\n",
       ".list-inline {list-style: none; margin:0; padding: 0}\n",
       ".list-inline>li {display: inline-block}\n",
       ".list-inline>li:not(:last-child)::after {content: \"\\00b7\"; padding: 0 .5ex}\n",
       "</style>\n",
       "<ol class=list-inline><li>111187</li><li>14</li></ol>\n"
      ],
      "text/latex": [
       "\\begin{enumerate*}\n",
       "\\item 111187\n",
       "\\item 14\n",
       "\\end{enumerate*}\n"
      ],
      "text/markdown": [
       "1. 111187\n",
       "2. 14\n",
       "\n",
       "\n"
      ],
      "text/plain": [
       "[1] 111187     14"
      ]
     },
     "metadata": {},
     "output_type": "display_data"
    }
   ],
   "source": [
    "hits %>% dim\n",
    "hits_f %>% dim"
   ]
  },
  {
   "cell_type": "code",
   "execution_count": 9,
   "metadata": {
    "ExecuteTime": {
     "end_time": "2021-12-12T17:00:29.455062Z",
     "start_time": "2021-12-12T17:00:16.203Z"
    }
   },
   "outputs": [],
   "source": [
    "hits_f <- hits_f %>% left_join(hyddb, c('sseqid'='V3'))"
   ]
  },
  {
   "cell_type": "code",
   "execution_count": 10,
   "metadata": {
    "ExecuteTime": {
     "end_time": "2021-12-12T17:00:29.473068Z",
     "start_time": "2021-12-12T17:00:16.356Z"
    }
   },
   "outputs": [
    {
     "data": {
      "text/html": [
       "<style>\n",
       ".list-inline {list-style: none; margin:0; padding: 0}\n",
       ".list-inline>li {display: inline-block}\n",
       ".list-inline>li:not(:last-child)::after {content: \"\\00b7\"; padding: 0 .5ex}\n",
       "</style>\n",
       "<ol class=list-inline><li>111300</li><li>25</li></ol>\n"
      ],
      "text/latex": [
       "\\begin{enumerate*}\n",
       "\\item 111300\n",
       "\\item 25\n",
       "\\end{enumerate*}\n"
      ],
      "text/markdown": [
       "1. 111300\n",
       "2. 25\n",
       "\n",
       "\n"
      ],
      "text/plain": [
       "[1] 111300     25"
      ]
     },
     "metadata": {},
     "output_type": "display_data"
    }
   ],
   "source": [
    "hits_f %>% dim"
   ]
  },
  {
   "cell_type": "markdown",
   "metadata": {},
   "source": [
    "# Add taxonomic level"
   ]
  },
  {
   "cell_type": "code",
   "execution_count": 11,
   "metadata": {
    "ExecuteTime": {
     "end_time": "2021-12-12T17:00:29.743916Z",
     "start_time": "2021-12-12T17:00:16.818Z"
    }
   },
   "outputs": [],
   "source": [
    "aa_files_f <- read.table('/ebio/abt3_projects/Methanogen_SCFA/Metagenomes_methanogen/Bacteria_marker_genes/data/samples.tsv'\n",
    "                        , sep = '\\t', header = TRUE)  %>%\n",
    "    select(Sample, Phylum, Class, Order, Family, Genus, Species) %>%\n",
    "    rename('Genome' = Sample)"
   ]
  },
  {
   "cell_type": "code",
   "execution_count": 12,
   "metadata": {
    "ExecuteTime": {
     "end_time": "2021-12-12T17:00:29.973258Z",
     "start_time": "2021-12-12T17:00:16.969Z"
    }
   },
   "outputs": [],
   "source": [
    "# all taxa lacking hits\n",
    "hits_f <- aa_files_f %>%\n",
    "    left_join(hits_f, by = 'Genome')\n",
    "hits_f$V5[is.na(hits_f$V5)] <- 'None'"
   ]
  },
  {
   "cell_type": "code",
   "execution_count": 13,
   "metadata": {
    "ExecuteTime": {
     "end_time": "2021-12-12T17:00:29.992221Z",
     "start_time": "2021-12-12T17:00:17.133Z"
    }
   },
   "outputs": [
    {
     "data": {
      "text/html": [
       "<style>\n",
       ".list-inline {list-style: none; margin:0; padding: 0}\n",
       ".list-inline>li {display: inline-block}\n",
       ".list-inline>li:not(:last-child)::after {content: \"\\00b7\"; padding: 0 .5ex}\n",
       "</style>\n",
       "<ol class=list-inline><li>'Genome'</li><li>'Phylum'</li><li>'Class'</li><li>'Order'</li><li>'Family'</li><li>'Genus'</li><li>'Species'</li><li>'qseqid'</li><li>'sseqid'</li><li>'pident'</li><li>'length'</li><li>'mismatch'</li><li>'gapopen'</li><li>'qstart'</li><li>'qend'</li><li>'sstart'</li><li>'send'</li><li>'evalue'</li><li>'bitscore'</li><li>'qlen'</li><li>'V1'</li><li>'V2'</li><li>'V4'</li><li>'V5'</li><li>'V9'</li><li>'V10'</li><li>'V11'</li><li>'V12'</li><li>'V13'</li><li>'V14'</li><li>'V15'</li></ol>\n"
      ],
      "text/latex": [
       "\\begin{enumerate*}\n",
       "\\item 'Genome'\n",
       "\\item 'Phylum'\n",
       "\\item 'Class'\n",
       "\\item 'Order'\n",
       "\\item 'Family'\n",
       "\\item 'Genus'\n",
       "\\item 'Species'\n",
       "\\item 'qseqid'\n",
       "\\item 'sseqid'\n",
       "\\item 'pident'\n",
       "\\item 'length'\n",
       "\\item 'mismatch'\n",
       "\\item 'gapopen'\n",
       "\\item 'qstart'\n",
       "\\item 'qend'\n",
       "\\item 'sstart'\n",
       "\\item 'send'\n",
       "\\item 'evalue'\n",
       "\\item 'bitscore'\n",
       "\\item 'qlen'\n",
       "\\item 'V1'\n",
       "\\item 'V2'\n",
       "\\item 'V4'\n",
       "\\item 'V5'\n",
       "\\item 'V9'\n",
       "\\item 'V10'\n",
       "\\item 'V11'\n",
       "\\item 'V12'\n",
       "\\item 'V13'\n",
       "\\item 'V14'\n",
       "\\item 'V15'\n",
       "\\end{enumerate*}\n"
      ],
      "text/markdown": [
       "1. 'Genome'\n",
       "2. 'Phylum'\n",
       "3. 'Class'\n",
       "4. 'Order'\n",
       "5. 'Family'\n",
       "6. 'Genus'\n",
       "7. 'Species'\n",
       "8. 'qseqid'\n",
       "9. 'sseqid'\n",
       "10. 'pident'\n",
       "11. 'length'\n",
       "12. 'mismatch'\n",
       "13. 'gapopen'\n",
       "14. 'qstart'\n",
       "15. 'qend'\n",
       "16. 'sstart'\n",
       "17. 'send'\n",
       "18. 'evalue'\n",
       "19. 'bitscore'\n",
       "20. 'qlen'\n",
       "21. 'V1'\n",
       "22. 'V2'\n",
       "23. 'V4'\n",
       "24. 'V5'\n",
       "25. 'V9'\n",
       "26. 'V10'\n",
       "27. 'V11'\n",
       "28. 'V12'\n",
       "29. 'V13'\n",
       "30. 'V14'\n",
       "31. 'V15'\n",
       "\n",
       "\n"
      ],
      "text/plain": [
       " [1] \"Genome\"   \"Phylum\"   \"Class\"    \"Order\"    \"Family\"   \"Genus\"   \n",
       " [7] \"Species\"  \"qseqid\"   \"sseqid\"   \"pident\"   \"length\"   \"mismatch\"\n",
       "[13] \"gapopen\"  \"qstart\"   \"qend\"     \"sstart\"   \"send\"     \"evalue\"  \n",
       "[19] \"bitscore\" \"qlen\"     \"V1\"       \"V2\"       \"V4\"       \"V5\"      \n",
       "[25] \"V9\"       \"V10\"      \"V11\"      \"V12\"      \"V13\"      \"V14\"     \n",
       "[31] \"V15\"     "
      ]
     },
     "metadata": {},
     "output_type": "display_data"
    }
   ],
   "source": [
    "hits_f %>% colnames"
   ]
  },
  {
   "cell_type": "code",
   "execution_count": 14,
   "metadata": {
    "ExecuteTime": {
     "end_time": "2021-12-12T17:00:30.033294Z",
     "start_time": "2021-12-12T17:00:17.284Z"
    }
   },
   "outputs": [],
   "source": [
    "hits_tax <- hits_f %>% select(Genome, Phylum, Class, Order, Family, Genus, Species, V5, pident) %>% \n",
    "                subset(Species %in% feats$Feature)"
   ]
  },
  {
   "cell_type": "markdown",
   "metadata": {},
   "source": [
    "# Per taxonomic level"
   ]
  },
  {
   "cell_type": "markdown",
   "metadata": {},
   "source": [
    "## species"
   ]
  },
  {
   "cell_type": "code",
   "execution_count": 15,
   "metadata": {
    "ExecuteTime": {
     "end_time": "2021-12-12T17:00:30.457397Z",
     "start_time": "2021-12-12T17:00:17.718Z"
    }
   },
   "outputs": [
    {
     "name": "stderr",
     "output_type": "stream",
     "text": [
      "`summarise()` regrouping output by 'Phylum', 'Class', 'Order', 'Family', 'Genus', 'Species' (override with `.groups` argument)\n",
      "\n"
     ]
    }
   ],
   "source": [
    "pp <- hits_tax %>% group_by(Phylum, Class, Order, Family, Genus, Species, V5) %>% \n",
    "        summarise(n_copies = n(), pident = mean(pident, na.rm = TRUE))"
   ]
  },
  {
   "cell_type": "markdown",
   "metadata": {},
   "source": [
    "## add all missing categories for each species"
   ]
  },
  {
   "cell_type": "code",
   "execution_count": 16,
   "metadata": {
    "ExecuteTime": {
     "end_time": "2021-12-12T17:00:30.474383Z",
     "start_time": "2021-12-12T17:00:18.019Z"
    }
   },
   "outputs": [],
   "source": [
    "sp <- pp$Species %>% unique\n",
    "hctg <- pp$V5 %>% unique"
   ]
  },
  {
   "cell_type": "code",
   "execution_count": 17,
   "metadata": {
    "ExecuteTime": {
     "end_time": "2021-12-12T17:00:30.700524Z",
     "start_time": "2021-12-12T17:00:18.198Z"
    }
   },
   "outputs": [],
   "source": [
    "# create all combinations of species and hydrogenases needed\n",
    "to_add <- expand.grid(sp, hctg) %>% as.data.frame\n",
    "colnames(to_add) <- c('Species', 'V5')\n",
    "    \n",
    "# keep only the ones missing: give them a 0 count number and NA pident\n",
    "to_add <- setdiff(to_add, pp %>% ungroup %>% select(Species, V5)) %>% \n",
    "                # add the taxonomic levels\n",
    "                left_join(pp %>% select(Phylum, Class, Order,Family, Genus, Species), by = 'Species') \n",
    "to_add$n_copies <- 0\n",
    "to_add$pident <- NaN\n",
    "    \n",
    "# add them to the dataset\n",
    "pp <- rbind(pp, to_add)"
   ]
  },
  {
   "cell_type": "code",
   "execution_count": 18,
   "metadata": {
    "ExecuteTime": {
     "end_time": "2021-12-12T17:00:31.358997Z",
     "start_time": "2021-12-12T17:00:21.648Z"
    }
   },
   "outputs": [
    {
     "data": {
      "text/html": [
       "<table class=\"dataframe\">\n",
       "<caption>A grouped_df: 2 × 9</caption>\n",
       "<thead>\n",
       "\t<tr><th scope=col>Phylum</th><th scope=col>Class</th><th scope=col>Order</th><th scope=col>Family</th><th scope=col>Genus</th><th scope=col>Species</th><th scope=col>V5</th><th scope=col>n_copies</th><th scope=col>pident</th></tr>\n",
       "\t<tr><th scope=col>&lt;chr&gt;</th><th scope=col>&lt;chr&gt;</th><th scope=col>&lt;chr&gt;</th><th scope=col>&lt;chr&gt;</th><th scope=col>&lt;chr&gt;</th><th scope=col>&lt;chr&gt;</th><th scope=col>&lt;chr&gt;</th><th scope=col>&lt;dbl&gt;</th><th scope=col>&lt;dbl&gt;</th></tr>\n",
       "</thead>\n",
       "<tbody>\n",
       "\t<tr><td>p_Verrucomicrobiota</td><td>c_Verrucomicrobiae</td><td>o_Verrucomicrobiales</td><td>f_Akkermansiaceae</td><td>g_Akkermansia</td><td>s_Akkermansia_sp001580195</td><td>[NiFe] Group 3c</td><td>0</td><td>NaN</td></tr>\n",
       "\t<tr><td>p_Verrucomicrobiota</td><td>c_Verrucomicrobiae</td><td>o_Verrucomicrobiales</td><td>f_Akkermansiaceae</td><td>g_Akkermansia</td><td>s_Akkermansia_sp002358905</td><td>[NiFe] Group 3c</td><td>0</td><td>NaN</td></tr>\n",
       "</tbody>\n",
       "</table>\n"
      ],
      "text/latex": [
       "A grouped\\_df: 2 × 9\n",
       "\\begin{tabular}{lllllllll}\n",
       " Phylum & Class & Order & Family & Genus & Species & V5 & n\\_copies & pident\\\\\n",
       " <chr> & <chr> & <chr> & <chr> & <chr> & <chr> & <chr> & <dbl> & <dbl>\\\\\n",
       "\\hline\n",
       "\t p\\_Verrucomicrobiota & c\\_Verrucomicrobiae & o\\_Verrucomicrobiales & f\\_Akkermansiaceae & g\\_Akkermansia & s\\_Akkermansia\\_sp001580195 & {[}NiFe{]} Group 3c & 0 & NaN\\\\\n",
       "\t p\\_Verrucomicrobiota & c\\_Verrucomicrobiae & o\\_Verrucomicrobiales & f\\_Akkermansiaceae & g\\_Akkermansia & s\\_Akkermansia\\_sp002358905 & {[}NiFe{]} Group 3c & 0 & NaN\\\\\n",
       "\\end{tabular}\n"
      ],
      "text/markdown": [
       "\n",
       "A grouped_df: 2 × 9\n",
       "\n",
       "| Phylum &lt;chr&gt; | Class &lt;chr&gt; | Order &lt;chr&gt; | Family &lt;chr&gt; | Genus &lt;chr&gt; | Species &lt;chr&gt; | V5 &lt;chr&gt; | n_copies &lt;dbl&gt; | pident &lt;dbl&gt; |\n",
       "|---|---|---|---|---|---|---|---|---|\n",
       "| p_Verrucomicrobiota | c_Verrucomicrobiae | o_Verrucomicrobiales | f_Akkermansiaceae | g_Akkermansia | s_Akkermansia_sp001580195 | [NiFe] Group 3c | 0 | NaN |\n",
       "| p_Verrucomicrobiota | c_Verrucomicrobiae | o_Verrucomicrobiales | f_Akkermansiaceae | g_Akkermansia | s_Akkermansia_sp002358905 | [NiFe] Group 3c | 0 | NaN |\n",
       "\n"
      ],
      "text/plain": [
       "  Phylum              Class              Order                Family           \n",
       "1 p_Verrucomicrobiota c_Verrucomicrobiae o_Verrucomicrobiales f_Akkermansiaceae\n",
       "2 p_Verrucomicrobiota c_Verrucomicrobiae o_Verrucomicrobiales f_Akkermansiaceae\n",
       "  Genus         Species                   V5              n_copies pident\n",
       "1 g_Akkermansia s_Akkermansia_sp001580195 [NiFe] Group 3c 0        NaN   \n",
       "2 g_Akkermansia s_Akkermansia_sp002358905 [NiFe] Group 3c 0        NaN   "
      ]
     },
     "metadata": {},
     "output_type": "display_data"
    }
   ],
   "source": [
    "pp %>% tail(2)"
   ]
  },
  {
   "cell_type": "markdown",
   "metadata": {},
   "source": [
    "## genera"
   ]
  },
  {
   "cell_type": "code",
   "execution_count": 19,
   "metadata": {
    "ExecuteTime": {
     "end_time": "2021-12-12T17:00:32.630692Z",
     "start_time": "2021-12-12T17:00:22.053Z"
    }
   },
   "outputs": [
    {
     "name": "stderr",
     "output_type": "stream",
     "text": [
      "`summarise()` regrouping output by 'Phylum', 'Class', 'Order', 'Family', 'Genus' (override with `.groups` argument)\n",
      "\n"
     ]
    }
   ],
   "source": [
    "gen <- pp %>% left_join(feats, by = c('Species' = 'Feature')) %>% \n",
    "        group_by(Phylum, Class, Order, Family, Genus, V5) %>% \n",
    "        summarise(n_copies = weighted.mean(x = n_copies, w = Abundance_avg, na.rm = TRUE)\n",
    "                  , pident =  weighted.mean(x = pident, w = Abundance_avg, na.rm = TRUE))\n",
    "gen$Feature <- gen$Genus "
   ]
  },
  {
   "cell_type": "markdown",
   "metadata": {},
   "source": [
    "## family"
   ]
  },
  {
   "cell_type": "code",
   "execution_count": 20,
   "metadata": {
    "ExecuteTime": {
     "end_time": "2021-12-12T17:00:33.020325Z",
     "start_time": "2021-12-12T17:00:22.427Z"
    }
   },
   "outputs": [
    {
     "name": "stderr",
     "output_type": "stream",
     "text": [
      "`summarise()` regrouping output by 'Phylum', 'Class', 'Order', 'Family' (override with `.groups` argument)\n",
      "\n"
     ]
    }
   ],
   "source": [
    "fam <- pp %>% left_join(feats, by = c('Species' = 'Feature')) %>% \n",
    "        group_by(Phylum, Class, Order, Family, V5) %>% \n",
    "        summarise(n_copies = weighted.mean(x = n_copies, w = Abundance_avg, na.rm = TRUE)\n",
    "                  , pident =  weighted.mean(x = pident, w = Abundance_avg, na.rm = TRUE))\n",
    "fam$Feature <- fam$Family"
   ]
  },
  {
   "cell_type": "markdown",
   "metadata": {},
   "source": [
    "## merge"
   ]
  },
  {
   "cell_type": "code",
   "execution_count": 21,
   "metadata": {
    "ExecuteTime": {
     "end_time": "2021-12-12T17:00:33.048118Z",
     "start_time": "2021-12-12T17:00:22.794Z"
    }
   },
   "outputs": [
    {
     "data": {
      "text/html": [
       "<style>\n",
       ".list-inline {list-style: none; margin:0; padding: 0}\n",
       ".list-inline>li {display: inline-block}\n",
       ".list-inline>li:not(:last-child)::after {content: \"\\00b7\"; padding: 0 .5ex}\n",
       "</style>\n",
       "<ol class=list-inline><li>'Phylum'</li><li>'Class'</li><li>'Order'</li><li>'Family'</li><li>'Genus'</li><li>'Species'</li><li>'V5'</li><li>'n_copies'</li><li>'pident'</li></ol>\n"
      ],
      "text/latex": [
       "\\begin{enumerate*}\n",
       "\\item 'Phylum'\n",
       "\\item 'Class'\n",
       "\\item 'Order'\n",
       "\\item 'Family'\n",
       "\\item 'Genus'\n",
       "\\item 'Species'\n",
       "\\item 'V5'\n",
       "\\item 'n\\_copies'\n",
       "\\item 'pident'\n",
       "\\end{enumerate*}\n"
      ],
      "text/markdown": [
       "1. 'Phylum'\n",
       "2. 'Class'\n",
       "3. 'Order'\n",
       "4. 'Family'\n",
       "5. 'Genus'\n",
       "6. 'Species'\n",
       "7. 'V5'\n",
       "8. 'n_copies'\n",
       "9. 'pident'\n",
       "\n",
       "\n"
      ],
      "text/plain": [
       "[1] \"Phylum\"   \"Class\"    \"Order\"    \"Family\"   \"Genus\"    \"Species\"  \"V5\"      \n",
       "[8] \"n_copies\" \"pident\"  "
      ]
     },
     "metadata": {},
     "output_type": "display_data"
    },
    {
     "data": {
      "text/html": [
       "<style>\n",
       ".list-inline {list-style: none; margin:0; padding: 0}\n",
       ".list-inline>li {display: inline-block}\n",
       ".list-inline>li:not(:last-child)::after {content: \"\\00b7\"; padding: 0 .5ex}\n",
       "</style>\n",
       "<ol class=list-inline><li>'Phylum'</li><li>'Class'</li><li>'Order'</li><li>'Family'</li><li>'Genus'</li><li>'V5'</li><li>'n_copies'</li><li>'pident'</li><li>'Feature'</li></ol>\n"
      ],
      "text/latex": [
       "\\begin{enumerate*}\n",
       "\\item 'Phylum'\n",
       "\\item 'Class'\n",
       "\\item 'Order'\n",
       "\\item 'Family'\n",
       "\\item 'Genus'\n",
       "\\item 'V5'\n",
       "\\item 'n\\_copies'\n",
       "\\item 'pident'\n",
       "\\item 'Feature'\n",
       "\\end{enumerate*}\n"
      ],
      "text/markdown": [
       "1. 'Phylum'\n",
       "2. 'Class'\n",
       "3. 'Order'\n",
       "4. 'Family'\n",
       "5. 'Genus'\n",
       "6. 'V5'\n",
       "7. 'n_copies'\n",
       "8. 'pident'\n",
       "9. 'Feature'\n",
       "\n",
       "\n"
      ],
      "text/plain": [
       "[1] \"Phylum\"   \"Class\"    \"Order\"    \"Family\"   \"Genus\"    \"V5\"       \"n_copies\"\n",
       "[8] \"pident\"   \"Feature\" "
      ]
     },
     "metadata": {},
     "output_type": "display_data"
    },
    {
     "data": {
      "text/html": [
       "<style>\n",
       ".list-inline {list-style: none; margin:0; padding: 0}\n",
       ".list-inline>li {display: inline-block}\n",
       ".list-inline>li:not(:last-child)::after {content: \"\\00b7\"; padding: 0 .5ex}\n",
       "</style>\n",
       "<ol class=list-inline><li>'Phylum'</li><li>'Class'</li><li>'Order'</li><li>'Family'</li><li>'V5'</li><li>'n_copies'</li><li>'pident'</li><li>'Feature'</li></ol>\n"
      ],
      "text/latex": [
       "\\begin{enumerate*}\n",
       "\\item 'Phylum'\n",
       "\\item 'Class'\n",
       "\\item 'Order'\n",
       "\\item 'Family'\n",
       "\\item 'V5'\n",
       "\\item 'n\\_copies'\n",
       "\\item 'pident'\n",
       "\\item 'Feature'\n",
       "\\end{enumerate*}\n"
      ],
      "text/markdown": [
       "1. 'Phylum'\n",
       "2. 'Class'\n",
       "3. 'Order'\n",
       "4. 'Family'\n",
       "5. 'V5'\n",
       "6. 'n_copies'\n",
       "7. 'pident'\n",
       "8. 'Feature'\n",
       "\n",
       "\n"
      ],
      "text/plain": [
       "[1] \"Phylum\"   \"Class\"    \"Order\"    \"Family\"   \"V5\"       \"n_copies\" \"pident\"  \n",
       "[8] \"Feature\" "
      ]
     },
     "metadata": {},
     "output_type": "display_data"
    }
   ],
   "source": [
    "colnames(pp)\n",
    "colnames(gen)\n",
    "colnames(fam)"
   ]
  },
  {
   "cell_type": "code",
   "execution_count": 22,
   "metadata": {
    "ExecuteTime": {
     "end_time": "2021-12-12T17:00:33.222557Z",
     "start_time": "2021-12-12T17:00:22.966Z"
    }
   },
   "outputs": [],
   "source": [
    "gen$Species <- NA\n",
    "fam$Genus <- NA\n",
    "fam$Species <- NA\n",
    "pp$Feature <- pp$Species"
   ]
  },
  {
   "cell_type": "code",
   "execution_count": 23,
   "metadata": {
    "ExecuteTime": {
     "end_time": "2021-12-12T17:00:33.250768Z",
     "start_time": "2021-12-12T17:00:23.120Z"
    }
   },
   "outputs": [
    {
     "data": {
      "text/html": [
       "181348"
      ],
      "text/latex": [
       "181348"
      ],
      "text/markdown": [
       "181348"
      ],
      "text/plain": [
       "[1] 181348"
      ]
     },
     "metadata": {},
     "output_type": "display_data"
    },
    {
     "data": {
      "text/html": [
       "30112"
      ],
      "text/latex": [
       "30112"
      ],
      "text/markdown": [
       "30112"
      ],
      "text/plain": [
       "[1] 30112"
      ]
     },
     "metadata": {},
     "output_type": "display_data"
    },
    {
     "data": {
      "text/html": [
       "5856"
      ],
      "text/latex": [
       "5856"
      ],
      "text/markdown": [
       "5856"
      ],
      "text/plain": [
       "[1] 5856"
      ]
     },
     "metadata": {},
     "output_type": "display_data"
    }
   ],
   "source": [
    "nrow(pp)\n",
    "nrow(gen)\n",
    "nrow(fam)"
   ]
  },
  {
   "cell_type": "code",
   "execution_count": 24,
   "metadata": {
    "ExecuteTime": {
     "end_time": "2021-12-12T17:00:33.763294Z",
     "start_time": "2021-12-12T17:00:23.388Z"
    }
   },
   "outputs": [],
   "source": [
    "pp <- union(pp, gen) %>% union(fam)"
   ]
  },
  {
   "cell_type": "code",
   "execution_count": 25,
   "metadata": {
    "ExecuteTime": {
     "end_time": "2021-12-12T17:00:33.935006Z",
     "start_time": "2021-12-12T17:00:23.538Z"
    }
   },
   "outputs": [
    {
     "data": {
      "text/html": [
       "130080"
      ],
      "text/latex": [
       "130080"
      ],
      "text/markdown": [
       "130080"
      ],
      "text/plain": [
       "[1] 130080"
      ]
     },
     "metadata": {},
     "output_type": "display_data"
    }
   ],
   "source": [
    "nrow(pp)"
   ]
  },
  {
   "cell_type": "code",
   "execution_count": 26,
   "metadata": {
    "ExecuteTime": {
     "end_time": "2021-12-12T17:00:33.968464Z",
     "start_time": "2021-12-12T17:00:23.690Z"
    }
   },
   "outputs": [
    {
     "data": {
      "text/html": [
       "<table class=\"dataframe\">\n",
       "<caption>A grouped_df: 6 × 10</caption>\n",
       "<thead>\n",
       "\t<tr><th scope=col>Phylum</th><th scope=col>Class</th><th scope=col>Order</th><th scope=col>Family</th><th scope=col>Genus</th><th scope=col>Species</th><th scope=col>V5</th><th scope=col>n_copies</th><th scope=col>pident</th><th scope=col>Feature</th></tr>\n",
       "\t<tr><th scope=col>&lt;chr&gt;</th><th scope=col>&lt;chr&gt;</th><th scope=col>&lt;chr&gt;</th><th scope=col>&lt;chr&gt;</th><th scope=col>&lt;chr&gt;</th><th scope=col>&lt;chr&gt;</th><th scope=col>&lt;chr&gt;</th><th scope=col>&lt;dbl&gt;</th><th scope=col>&lt;dbl&gt;</th><th scope=col>&lt;chr&gt;</th></tr>\n",
       "</thead>\n",
       "<tbody>\n",
       "\t<tr><td>p_Acidobacteriota </td><td>c_Acidobacteriae</td><td>o_Acidobacteriales</td><td>f_Koribacteraceae </td><td>g_QIAA01     </td><td>s_QIAA01_sp003224905      </td><td>None</td><td>1</td><td>NaN</td><td>s_QIAA01_sp003224905      </td></tr>\n",
       "\t<tr><td>p_Acidobacteriota </td><td>c_Blastocatellia</td><td>o_Pyrinomonadales </td><td>f_Pyrinomonadaceae</td><td>g_OLB17      </td><td>s_OLB17_sp002360555       </td><td>None</td><td>1</td><td>NaN</td><td>s_OLB17_sp002360555       </td></tr>\n",
       "\t<tr><td>p_Actinobacteriota</td><td>c_Actinobacteria</td><td>o_Actinomycetales </td><td>f_Actinomycetaceae</td><td>g_Actinomyces</td><td>s_Actinomyces_dentalis    </td><td>None</td><td>1</td><td>NaN</td><td>s_Actinomyces_dentalis    </td></tr>\n",
       "\t<tr><td>p_Actinobacteriota</td><td>c_Actinobacteria</td><td>o_Actinomycetales </td><td>f_Actinomycetaceae</td><td>g_Actinomyces</td><td>s_Actinomyces_gerencseriae</td><td>None</td><td>1</td><td>NaN</td><td>s_Actinomyces_gerencseriae</td></tr>\n",
       "\t<tr><td>p_Actinobacteriota</td><td>c_Actinobacteria</td><td>o_Actinomycetales </td><td>f_Actinomycetaceae</td><td>g_Actinomyces</td><td>s_Actinomyces_graevenitzii</td><td>None</td><td>1</td><td>NaN</td><td>s_Actinomyces_graevenitzii</td></tr>\n",
       "\t<tr><td>p_Actinobacteriota</td><td>c_Actinobacteria</td><td>o_Actinomycetales </td><td>f_Actinomycetaceae</td><td>g_Actinomyces</td><td>s_Actinomyces_israelii    </td><td>None</td><td>1</td><td>NaN</td><td>s_Actinomyces_israelii    </td></tr>\n",
       "</tbody>\n",
       "</table>\n"
      ],
      "text/latex": [
       "A grouped\\_df: 6 × 10\n",
       "\\begin{tabular}{llllllllll}\n",
       " Phylum & Class & Order & Family & Genus & Species & V5 & n\\_copies & pident & Feature\\\\\n",
       " <chr> & <chr> & <chr> & <chr> & <chr> & <chr> & <chr> & <dbl> & <dbl> & <chr>\\\\\n",
       "\\hline\n",
       "\t p\\_Acidobacteriota  & c\\_Acidobacteriae & o\\_Acidobacteriales & f\\_Koribacteraceae  & g\\_QIAA01      & s\\_QIAA01\\_sp003224905       & None & 1 & NaN & s\\_QIAA01\\_sp003224905      \\\\\n",
       "\t p\\_Acidobacteriota  & c\\_Blastocatellia & o\\_Pyrinomonadales  & f\\_Pyrinomonadaceae & g\\_OLB17       & s\\_OLB17\\_sp002360555        & None & 1 & NaN & s\\_OLB17\\_sp002360555       \\\\\n",
       "\t p\\_Actinobacteriota & c\\_Actinobacteria & o\\_Actinomycetales  & f\\_Actinomycetaceae & g\\_Actinomyces & s\\_Actinomyces\\_dentalis     & None & 1 & NaN & s\\_Actinomyces\\_dentalis    \\\\\n",
       "\t p\\_Actinobacteriota & c\\_Actinobacteria & o\\_Actinomycetales  & f\\_Actinomycetaceae & g\\_Actinomyces & s\\_Actinomyces\\_gerencseriae & None & 1 & NaN & s\\_Actinomyces\\_gerencseriae\\\\\n",
       "\t p\\_Actinobacteriota & c\\_Actinobacteria & o\\_Actinomycetales  & f\\_Actinomycetaceae & g\\_Actinomyces & s\\_Actinomyces\\_graevenitzii & None & 1 & NaN & s\\_Actinomyces\\_graevenitzii\\\\\n",
       "\t p\\_Actinobacteriota & c\\_Actinobacteria & o\\_Actinomycetales  & f\\_Actinomycetaceae & g\\_Actinomyces & s\\_Actinomyces\\_israelii     & None & 1 & NaN & s\\_Actinomyces\\_israelii    \\\\\n",
       "\\end{tabular}\n"
      ],
      "text/markdown": [
       "\n",
       "A grouped_df: 6 × 10\n",
       "\n",
       "| Phylum &lt;chr&gt; | Class &lt;chr&gt; | Order &lt;chr&gt; | Family &lt;chr&gt; | Genus &lt;chr&gt; | Species &lt;chr&gt; | V5 &lt;chr&gt; | n_copies &lt;dbl&gt; | pident &lt;dbl&gt; | Feature &lt;chr&gt; |\n",
       "|---|---|---|---|---|---|---|---|---|---|\n",
       "| p_Acidobacteriota  | c_Acidobacteriae | o_Acidobacteriales | f_Koribacteraceae  | g_QIAA01      | s_QIAA01_sp003224905       | None | 1 | NaN | s_QIAA01_sp003224905       |\n",
       "| p_Acidobacteriota  | c_Blastocatellia | o_Pyrinomonadales  | f_Pyrinomonadaceae | g_OLB17       | s_OLB17_sp002360555        | None | 1 | NaN | s_OLB17_sp002360555        |\n",
       "| p_Actinobacteriota | c_Actinobacteria | o_Actinomycetales  | f_Actinomycetaceae | g_Actinomyces | s_Actinomyces_dentalis     | None | 1 | NaN | s_Actinomyces_dentalis     |\n",
       "| p_Actinobacteriota | c_Actinobacteria | o_Actinomycetales  | f_Actinomycetaceae | g_Actinomyces | s_Actinomyces_gerencseriae | None | 1 | NaN | s_Actinomyces_gerencseriae |\n",
       "| p_Actinobacteriota | c_Actinobacteria | o_Actinomycetales  | f_Actinomycetaceae | g_Actinomyces | s_Actinomyces_graevenitzii | None | 1 | NaN | s_Actinomyces_graevenitzii |\n",
       "| p_Actinobacteriota | c_Actinobacteria | o_Actinomycetales  | f_Actinomycetaceae | g_Actinomyces | s_Actinomyces_israelii     | None | 1 | NaN | s_Actinomyces_israelii     |\n",
       "\n"
      ],
      "text/plain": [
       "  Phylum             Class            Order              Family            \n",
       "1 p_Acidobacteriota  c_Acidobacteriae o_Acidobacteriales f_Koribacteraceae \n",
       "2 p_Acidobacteriota  c_Blastocatellia o_Pyrinomonadales  f_Pyrinomonadaceae\n",
       "3 p_Actinobacteriota c_Actinobacteria o_Actinomycetales  f_Actinomycetaceae\n",
       "4 p_Actinobacteriota c_Actinobacteria o_Actinomycetales  f_Actinomycetaceae\n",
       "5 p_Actinobacteriota c_Actinobacteria o_Actinomycetales  f_Actinomycetaceae\n",
       "6 p_Actinobacteriota c_Actinobacteria o_Actinomycetales  f_Actinomycetaceae\n",
       "  Genus         Species                    V5   n_copies pident\n",
       "1 g_QIAA01      s_QIAA01_sp003224905       None 1        NaN   \n",
       "2 g_OLB17       s_OLB17_sp002360555        None 1        NaN   \n",
       "3 g_Actinomyces s_Actinomyces_dentalis     None 1        NaN   \n",
       "4 g_Actinomyces s_Actinomyces_gerencseriae None 1        NaN   \n",
       "5 g_Actinomyces s_Actinomyces_graevenitzii None 1        NaN   \n",
       "6 g_Actinomyces s_Actinomyces_israelii     None 1        NaN   \n",
       "  Feature                   \n",
       "1 s_QIAA01_sp003224905      \n",
       "2 s_OLB17_sp002360555       \n",
       "3 s_Actinomyces_dentalis    \n",
       "4 s_Actinomyces_gerencseriae\n",
       "5 s_Actinomyces_graevenitzii\n",
       "6 s_Actinomyces_israelii    "
      ]
     },
     "metadata": {},
     "output_type": "display_data"
    }
   ],
   "source": [
    "pp %>% head"
   ]
  },
  {
   "cell_type": "code",
   "execution_count": 27,
   "metadata": {
    "ExecuteTime": {
     "end_time": "2021-12-12T17:00:33.989360Z",
     "start_time": "2021-12-12T17:00:23.838Z"
    }
   },
   "outputs": [
    {
     "data": {
      "text/html": [
       "0"
      ],
      "text/latex": [
       "0"
      ],
      "text/markdown": [
       "0"
      ],
      "text/plain": [
       "[1] 0"
      ]
     },
     "metadata": {},
     "output_type": "display_data"
    }
   ],
   "source": [
    "(!(unique(pp$Feature) %in% feats$Feature)) %>% sum"
   ]
  },
  {
   "cell_type": "code",
   "execution_count": 28,
   "metadata": {
    "ExecuteTime": {
     "end_time": "2021-12-12T17:00:34.001574Z",
     "start_time": "2021-12-12T17:00:24.018Z"
    }
   },
   "outputs": [],
   "source": [
    "#write.table(pp, file = '../data/llcds_hyd/hyd-annot_byPredFeat_byHyd_weightedRA.txt'\n",
    "#            , sep = '\\t', quote = FALSE)"
   ]
  },
  {
   "cell_type": "markdown",
   "metadata": {},
   "source": [
    "# Formatting"
   ]
  },
  {
   "cell_type": "code",
   "execution_count": 29,
   "metadata": {
    "ExecuteTime": {
     "end_time": "2021-12-12T17:00:53.588930Z",
     "start_time": "2021-12-12T17:00:52.998Z"
    }
   },
   "outputs": [],
   "source": [
    "colnames(pp)[colnames(pp) == 'V5'] <- 'hyd_ctg'"
   ]
  },
  {
   "cell_type": "code",
   "execution_count": 30,
   "metadata": {
    "ExecuteTime": {
     "end_time": "2021-12-12T17:00:54.284052Z",
     "start_time": "2021-12-12T17:00:53.672Z"
    }
   },
   "outputs": [],
   "source": [
    "feat_imp <- qread('../tmp/Variable_importance.qs')\n",
    "hyd_pergene <- pp %>% ungroup %>% select(-Phylum, -Class, -Order, -Family, -Genus, -Species) %>% \n",
    "                    left_join(feat_imp, by = 'Feature')"
   ]
  },
  {
   "cell_type": "markdown",
   "metadata": {},
   "source": [
    "## add descriptions"
   ]
  },
  {
   "cell_type": "code",
   "execution_count": 31,
   "metadata": {
    "ExecuteTime": {
     "end_time": "2021-12-12T17:01:06.506047Z",
     "start_time": "2021-12-12T17:01:05.911Z"
    }
   },
   "outputs": [],
   "source": [
    "hyd_description <- read.table('hydDB_curated.txt', sep = '\\t', header = TRUE)"
   ]
  },
  {
   "cell_type": "code",
   "execution_count": 32,
   "metadata": {
    "ExecuteTime": {
     "end_time": "2021-12-12T17:01:13.521372Z",
     "start_time": "2021-12-12T17:01:12.931Z"
    }
   },
   "outputs": [
    {
     "data": {
      "text/html": [
       "<table class=\"dataframe\">\n",
       "<caption>A data.frame: 6 × 5</caption>\n",
       "<thead>\n",
       "\t<tr><th></th><th scope=col>hyd_ctg</th><th scope=col>pred_function</th><th scope=col>electron_donor_acceptor</th><th scope=col>O2</th><th scope=col>comment</th></tr>\n",
       "\t<tr><th></th><th scope=col>&lt;chr&gt;</th><th scope=col>&lt;chr&gt;</th><th scope=col>&lt;chr&gt;</th><th scope=col>&lt;chr&gt;</th><th scope=col>&lt;chr&gt;</th></tr>\n",
       "</thead>\n",
       "<tbody>\n",
       "\t<tr><th scope=row>1</th><td>[Fe]           </td><td>Bidirectional</td><td>Hmd                           </td><td>tolerant</td><td>Reduction of Hmd during hydrogenotrophic methanogenesis                                                    </td></tr>\n",
       "\t<tr><th scope=row>4</th><td>[FeFe] Group A3</td><td>Bifurcating  </td><td>NAD, ferredoxin               </td><td>labile  </td><td>                                                                                                           </td></tr>\n",
       "\t<tr><th scope=row>26</th><td>[NiFe] Group 3a</td><td>Bidirectional</td><td>F420                          </td><td>tolerant</td><td>Reduction of F420 during hydrogenotrophic methanogenesis                                                   </td></tr>\n",
       "\t<tr><th scope=row>27</th><td>[NiFe] Group 3b</td><td>Bidirectional</td><td>NADP                          </td><td>tolerant</td><td>Directly couples oxidation of NADPH to fermentative evolution of H2. Diverse soil and aquatic environments.</td></tr>\n",
       "\t<tr><th scope=row>28</th><td>[NiFe] Group 3c</td><td>Bifurcating  </td><td>heterodisulfide and ferredoxin</td><td>tolerant</td><td>In methanogens                                                                                             </td></tr>\n",
       "\t<tr><th scope=row>29</th><td>[NiFe] Group 3d</td><td>Bidirectional</td><td>NAD                           </td><td>tolerant</td><td>                                                                                                           </td></tr>\n",
       "</tbody>\n",
       "</table>\n"
      ],
      "text/latex": [
       "A data.frame: 6 × 5\n",
       "\\begin{tabular}{r|lllll}\n",
       "  & hyd\\_ctg & pred\\_function & electron\\_donor\\_acceptor & O2 & comment\\\\\n",
       "  & <chr> & <chr> & <chr> & <chr> & <chr>\\\\\n",
       "\\hline\n",
       "\t1 & {[}Fe{]}            & Bidirectional & Hmd                            & tolerant & Reduction of Hmd during hydrogenotrophic methanogenesis                                                    \\\\\n",
       "\t4 & {[}FeFe{]} Group A3 & Bifurcating   & NAD, ferredoxin                & labile   &                                                                                                            \\\\\n",
       "\t26 & {[}NiFe{]} Group 3a & Bidirectional & F420                           & tolerant & Reduction of F420 during hydrogenotrophic methanogenesis                                                   \\\\\n",
       "\t27 & {[}NiFe{]} Group 3b & Bidirectional & NADP                           & tolerant & Directly couples oxidation of NADPH to fermentative evolution of H2. Diverse soil and aquatic environments.\\\\\n",
       "\t28 & {[}NiFe{]} Group 3c & Bifurcating   & heterodisulfide and ferredoxin & tolerant & In methanogens                                                                                             \\\\\n",
       "\t29 & {[}NiFe{]} Group 3d & Bidirectional & NAD                            & tolerant &                                                                                                            \\\\\n",
       "\\end{tabular}\n"
      ],
      "text/markdown": [
       "\n",
       "A data.frame: 6 × 5\n",
       "\n",
       "| <!--/--> | hyd_ctg &lt;chr&gt; | pred_function &lt;chr&gt; | electron_donor_acceptor &lt;chr&gt; | O2 &lt;chr&gt; | comment &lt;chr&gt; |\n",
       "|---|---|---|---|---|---|\n",
       "| 1 | [Fe]            | Bidirectional | Hmd                            | tolerant | Reduction of Hmd during hydrogenotrophic methanogenesis                                                     |\n",
       "| 4 | [FeFe] Group A3 | Bifurcating   | NAD, ferredoxin                | labile   | <!----> |\n",
       "| 26 | [NiFe] Group 3a | Bidirectional | F420                           | tolerant | Reduction of F420 during hydrogenotrophic methanogenesis                                                    |\n",
       "| 27 | [NiFe] Group 3b | Bidirectional | NADP                           | tolerant | Directly couples oxidation of NADPH to fermentative evolution of H2. Diverse soil and aquatic environments. |\n",
       "| 28 | [NiFe] Group 3c | Bifurcating   | heterodisulfide and ferredoxin | tolerant | In methanogens                                                                                              |\n",
       "| 29 | [NiFe] Group 3d | Bidirectional | NAD                            | tolerant | <!----> |\n",
       "\n"
      ],
      "text/plain": [
       "   hyd_ctg         pred_function electron_donor_acceptor        O2      \n",
       "1  [Fe]            Bidirectional Hmd                            tolerant\n",
       "4  [FeFe] Group A3 Bifurcating   NAD, ferredoxin                labile  \n",
       "26 [NiFe] Group 3a Bidirectional F420                           tolerant\n",
       "27 [NiFe] Group 3b Bidirectional NADP                           tolerant\n",
       "28 [NiFe] Group 3c Bifurcating   heterodisulfide and ferredoxin tolerant\n",
       "29 [NiFe] Group 3d Bidirectional NAD                            tolerant\n",
       "   comment                                                                                                    \n",
       "1  Reduction of Hmd during hydrogenotrophic methanogenesis                                                    \n",
       "4                                                                                                             \n",
       "26 Reduction of F420 during hydrogenotrophic methanogenesis                                                   \n",
       "27 Directly couples oxidation of NADPH to fermentative evolution of H2. Diverse soil and aquatic environments.\n",
       "28 In methanogens                                                                                             \n",
       "29                                                                                                            "
      ]
     },
     "metadata": {},
     "output_type": "display_data"
    }
   ],
   "source": [
    "hyd_description %>% subset(pred_function %in% c('Bifurcating', 'Bidirectional'))"
   ]
  },
  {
   "cell_type": "code",
   "execution_count": 33,
   "metadata": {
    "ExecuteTime": {
     "end_time": "2021-12-12T17:01:25.237335Z",
     "start_time": "2021-12-12T17:01:24.617Z"
    }
   },
   "outputs": [],
   "source": [
    "hyd_pergene <- hyd_pergene %>% left_join(hyd_description %>% select(-comment), by = 'hyd_ctg')"
   ]
  },
  {
   "cell_type": "code",
   "execution_count": 34,
   "metadata": {
    "ExecuteTime": {
     "end_time": "2021-12-12T17:01:27.520705Z",
     "start_time": "2021-12-12T17:01:26.866Z"
    }
   },
   "outputs": [],
   "source": [
    "hyd_pergene <- hyd_pergene %>% subset(!(str_detect(Feature, pattern = '^(f|g)\\\\_') & hyd_ctg == 'None') )"
   ]
  },
  {
   "cell_type": "code",
   "execution_count": 35,
   "metadata": {
    "ExecuteTime": {
     "end_time": "2021-12-12T17:01:36.240774Z",
     "start_time": "2021-12-12T17:01:35.566Z"
    }
   },
   "outputs": [],
   "source": [
    "# simplify electron donor/acceptor variable: Sulfate and others if sulfate listed\n",
    "hyd_pergene$electron_donor_acceptor <- ifelse(str_detect(hyd_pergene$electron_donor_acceptor, pattern = 'Sulfate')\n",
    "                                             , 'Sulfate and others', hyd_pergene$electron_donor_acceptor)\n",
    "# simplify: keep only the interesting labels (in tmp) and group the others\n",
    "tmp <- c('Ferredoxin', 'NAD', 'NAD, ferredoxin', 'NADP', 'Formate', 'Sulfate and others')\n",
    "hyd_pergene$electron_donor_acceptor <- ifelse(!(hyd_pergene$electron_donor_acceptor %in% tmp), 'Other', hyd_pergene$electron_donor_acceptor)"
   ]
  },
  {
   "cell_type": "code",
   "execution_count": 36,
   "metadata": {
    "ExecuteTime": {
     "end_time": "2021-12-12T17:02:09.352043Z",
     "start_time": "2021-12-12T17:02:08.578Z"
    }
   },
   "outputs": [],
   "source": [
    "hyd_pergene$pred_general <- ifelse(hyd_pergene$pred_function %in% c('Bifurcating', 'Evolving'), 'H2 producing'\n",
    "                                   , hyd_pergene$pred_function)"
   ]
  },
  {
   "cell_type": "code",
   "execution_count": 37,
   "metadata": {
    "ExecuteTime": {
     "end_time": "2021-12-12T17:02:12.482234Z",
     "start_time": "2021-12-12T17:02:11.895Z"
    }
   },
   "outputs": [],
   "source": [
    "# this one is bifurcating but actually involved in H2 uptake\n",
    "hyd_pergene$pred_general[ hyd_pergene$hyd_ctg == '[NiFe] Group 3c' ] <- 'H2uptake'"
   ]
  },
  {
   "cell_type": "code",
   "execution_count": 38,
   "metadata": {
    "ExecuteTime": {
     "end_time": "2021-12-12T17:02:13.026122Z",
     "start_time": "2021-12-12T17:02:12.419Z"
    }
   },
   "outputs": [],
   "source": [
    "tmpFun <- function(x){ifelse(is.na(x), 0, x)}\n",
    "hyd_pergene <- hyd_pergene %>% mutate_at(vars(Gini, importance), tmpFun)"
   ]
  },
  {
   "cell_type": "code",
   "execution_count": 39,
   "metadata": {
    "ExecuteTime": {
     "end_time": "2021-12-12T17:02:13.440457Z",
     "start_time": "2021-12-12T17:02:12.853Z"
    }
   },
   "outputs": [],
   "source": [
    "colnames(hyd_pergene) <- str_replace(colnames(hyd_pergene), pattern = 'importance', replacement = 'endoR')"
   ]
  },
  {
   "cell_type": "code",
   "execution_count": 40,
   "metadata": {
    "ExecuteTime": {
     "end_time": "2021-12-12T17:02:13.902186Z",
     "start_time": "2021-12-12T17:02:13.259Z"
    }
   },
   "outputs": [],
   "source": [
    "qsave(hyd_pergene, 'HydDB_res.qs')"
   ]
  },
  {
   "cell_type": "code",
   "execution_count": null,
   "metadata": {},
   "outputs": [],
   "source": []
  }
 ],
 "metadata": {
  "kernelspec": {
   "display_name": "R [conda env:Metagenomes_methanogen-r-ml] *",
   "language": "R",
   "name": "conda-env-Metagenomes_methanogen-r-ml-r"
  },
  "language_info": {
   "codemirror_mode": "r",
   "file_extension": ".r",
   "mimetype": "text/x-r-source",
   "name": "R",
   "pygments_lexer": "r",
   "version": "4.0.3"
  },
  "toc": {
   "base_numbering": 1,
   "nav_menu": {},
   "number_sections": true,
   "sideBar": true,
   "skip_h1_title": false,
   "title_cell": "Table of Contents",
   "title_sidebar": "Contents",
   "toc_cell": false,
   "toc_position": {
    "height": "calc(100% - 180px)",
    "left": "10px",
    "top": "150px",
    "width": "246px"
   },
   "toc_section_display": true,
   "toc_window_display": true
  }
 },
 "nbformat": 4,
 "nbformat_minor": 4
}
