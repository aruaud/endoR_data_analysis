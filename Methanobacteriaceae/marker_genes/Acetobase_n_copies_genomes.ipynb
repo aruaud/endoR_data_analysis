{
 "cells": [
  {
   "cell_type": "markdown",
   "metadata": {},
   "source": [
    "Notebook to take into account the relative abundances of species when calculating the average number of gene copies across species of a same genus / family.\n",
    "- data too large to be included in this Git repository \n",
    "- data available on demand: albane.ruaud@tuebingen.mpg.de"
   ]
  },
  {
   "cell_type": "markdown",
   "metadata": {},
   "source": [
    "# Preambule"
   ]
  },
  {
   "cell_type": "code",
   "execution_count": 1,
   "metadata": {
    "ExecuteTime": {
     "end_time": "2021-12-15T09:43:42.802409Z",
     "start_time": "2021-12-15T09:43:41.703Z"
    }
   },
   "outputs": [
    {
     "name": "stderr",
     "output_type": "stream",
     "text": [
      "\n",
      "Attaching package: ‘dplyr’\n",
      "\n",
      "\n",
      "The following objects are masked from ‘package:stats’:\n",
      "\n",
      "    filter, lag\n",
      "\n",
      "\n",
      "The following objects are masked from ‘package:base’:\n",
      "\n",
      "    intersect, setdiff, setequal, union\n",
      "\n",
      "\n",
      "\n",
      "Attaching package: ‘data.table’\n",
      "\n",
      "\n",
      "The following objects are masked from ‘package:dplyr’:\n",
      "\n",
      "    between, first, last\n",
      "\n",
      "\n",
      "qs v0.23.4.\n",
      "\n"
     ]
    }
   ],
   "source": [
    "library(dplyr)\n",
    "library(tidyr)\n",
    "library(ggplot2)\n",
    "library(data.table)\n",
    "library(qs)\n",
    "library(stringr)"
   ]
  },
  {
   "cell_type": "markdown",
   "metadata": {},
   "source": [
    "# Taxa"
   ]
  },
  {
   "cell_type": "code",
   "execution_count": 2,
   "metadata": {
    "ExecuteTime": {
     "end_time": "2021-12-15T09:43:43.551207Z",
     "start_time": "2021-12-15T09:43:41.707Z"
    }
   },
   "outputs": [],
   "source": [
    "# taxa used in the model\n",
    "feats <- qread('../data/taxa_not_flt.qs') %>%\n",
    "    select(-Sample)\n",
    "feats <- data.frame(Feature = colnames(feats), Abundance_avg = colMeans(feats))"
   ]
  },
  {
   "cell_type": "code",
   "execution_count": 3,
   "metadata": {
    "ExecuteTime": {
     "end_time": "2021-12-15T09:43:43.574040Z",
     "start_time": "2021-12-15T09:43:41.709Z"
    }
   },
   "outputs": [
    {
     "data": {
      "text/html": [
       "<style>\n",
       ".list-inline {list-style: none; margin:0; padding: 0}\n",
       ".list-inline>li {display: inline-block}\n",
       ".list-inline>li:not(:last-child)::after {content: \"\\00b7\"; padding: 0 .5ex}\n",
       "</style>\n",
       "<ol class=list-inline><li>4733</li><li>2</li></ol>\n"
      ],
      "text/latex": [
       "\\begin{enumerate*}\n",
       "\\item 4733\n",
       "\\item 2\n",
       "\\end{enumerate*}\n"
      ],
      "text/markdown": [
       "1. 4733\n",
       "2. 2\n",
       "\n",
       "\n"
      ],
      "text/plain": [
       "[1] 4733    2"
      ]
     },
     "metadata": {},
     "output_type": "display_data"
    }
   ],
   "source": [
    "feats <- feats %>% subset(Abundance_avg > 0 ) \n",
    "feats %>% dim"
   ]
  },
  {
   "cell_type": "code",
   "execution_count": 4,
   "metadata": {
    "ExecuteTime": {
     "end_time": "2021-12-15T09:43:43.599690Z",
     "start_time": "2021-12-15T09:43:41.711Z"
    }
   },
   "outputs": [
    {
     "data": {
      "text/html": [
       "<table class=\"dataframe\">\n",
       "<caption>A data.frame: 2 × 2</caption>\n",
       "<thead>\n",
       "\t<tr><th></th><th scope=col>Feature</th><th scope=col>Abundance_avg</th></tr>\n",
       "\t<tr><th></th><th scope=col>&lt;chr&gt;</th><th scope=col>&lt;dbl&gt;</th></tr>\n",
       "</thead>\n",
       "<tbody>\n",
       "\t<tr><th scope=row>s_1_14_0_10_34_76_sp002763075</th><td>s_1_14_0_10_34_76_sp002763075</td><td>6.173400e-07</td></tr>\n",
       "\t<tr><th scope=row>s_1_19_sp001922585</th><td>s_1_19_sp001922585           </td><td>4.584657e-07</td></tr>\n",
       "</tbody>\n",
       "</table>\n"
      ],
      "text/latex": [
       "A data.frame: 2 × 2\n",
       "\\begin{tabular}{r|ll}\n",
       "  & Feature & Abundance\\_avg\\\\\n",
       "  & <chr> & <dbl>\\\\\n",
       "\\hline\n",
       "\ts\\_1\\_14\\_0\\_10\\_34\\_76\\_sp002763075 & s\\_1\\_14\\_0\\_10\\_34\\_76\\_sp002763075 & 6.173400e-07\\\\\n",
       "\ts\\_1\\_19\\_sp001922585 & s\\_1\\_19\\_sp001922585            & 4.584657e-07\\\\\n",
       "\\end{tabular}\n"
      ],
      "text/markdown": [
       "\n",
       "A data.frame: 2 × 2\n",
       "\n",
       "| <!--/--> | Feature &lt;chr&gt; | Abundance_avg &lt;dbl&gt; |\n",
       "|---|---|---|\n",
       "| s_1_14_0_10_34_76_sp002763075 | s_1_14_0_10_34_76_sp002763075 | 6.173400e-07 |\n",
       "| s_1_19_sp001922585 | s_1_19_sp001922585            | 4.584657e-07 |\n",
       "\n"
      ],
      "text/plain": [
       "                              Feature                       Abundance_avg\n",
       "s_1_14_0_10_34_76_sp002763075 s_1_14_0_10_34_76_sp002763075 6.173400e-07 \n",
       "s_1_19_sp001922585            s_1_19_sp001922585            4.584657e-07 "
      ]
     },
     "metadata": {},
     "output_type": "display_data"
    }
   ],
   "source": [
    "feats %>% head(2)"
   ]
  },
  {
   "cell_type": "markdown",
   "metadata": {},
   "source": [
    "# llcds results"
   ]
  },
  {
   "cell_type": "code",
   "execution_count": 5,
   "metadata": {
    "ExecuteTime": {
     "end_time": "2021-12-15T09:43:45.128829Z",
     "start_time": "2021-12-15T09:43:41.714Z"
    }
   },
   "outputs": [],
   "source": [
    "hits <- fread('/ebio/abt3_projects/Methanogen_SCFA/Metagenomes_methanogen/Bacteria_marker_genes/data/llcds_acetobase/annotate/dmnd_hits_all.tsv.gz')"
   ]
  },
  {
   "cell_type": "code",
   "execution_count": 6,
   "metadata": {
    "ExecuteTime": {
     "end_time": "2021-12-15T09:43:45.173699Z",
     "start_time": "2021-12-15T09:43:41.716Z"
    }
   },
   "outputs": [],
   "source": [
    "# filtering\n",
    "hits_f <- hits %>% subset(pident >= 50 & length / qlen > 0.8)\n",
    "hits_f$V5 <- 'fhs'"
   ]
  },
  {
   "cell_type": "code",
   "execution_count": 7,
   "metadata": {
    "ExecuteTime": {
     "end_time": "2021-12-15T09:43:45.198856Z",
     "start_time": "2021-12-15T09:43:41.718Z"
    }
   },
   "outputs": [
    {
     "data": {
      "text/html": [
       "<style>\n",
       ".list-inline {list-style: none; margin:0; padding: 0}\n",
       ".list-inline>li {display: inline-block}\n",
       ".list-inline>li:not(:last-child)::after {content: \"\\00b7\"; padding: 0 .5ex}\n",
       "</style>\n",
       "<ol class=list-inline><li>518963</li><li>14</li></ol>\n"
      ],
      "text/latex": [
       "\\begin{enumerate*}\n",
       "\\item 518963\n",
       "\\item 14\n",
       "\\end{enumerate*}\n"
      ],
      "text/markdown": [
       "1. 518963\n",
       "2. 14\n",
       "\n",
       "\n"
      ],
      "text/plain": [
       "[1] 518963     14"
      ]
     },
     "metadata": {},
     "output_type": "display_data"
    },
    {
     "data": {
      "text/html": [
       "<style>\n",
       ".list-inline {list-style: none; margin:0; padding: 0}\n",
       ".list-inline>li {display: inline-block}\n",
       ".list-inline>li:not(:last-child)::after {content: \"\\00b7\"; padding: 0 .5ex}\n",
       "</style>\n",
       "<ol class=list-inline><li>62575</li><li>15</li></ol>\n"
      ],
      "text/latex": [
       "\\begin{enumerate*}\n",
       "\\item 62575\n",
       "\\item 15\n",
       "\\end{enumerate*}\n"
      ],
      "text/markdown": [
       "1. 62575\n",
       "2. 15\n",
       "\n",
       "\n"
      ],
      "text/plain": [
       "[1] 62575    15"
      ]
     },
     "metadata": {},
     "output_type": "display_data"
    }
   ],
   "source": [
    "hits %>% dim\n",
    "hits_f %>% dim"
   ]
  },
  {
   "cell_type": "markdown",
   "metadata": {},
   "source": [
    "# Add taxonomic level"
   ]
  },
  {
   "cell_type": "code",
   "execution_count": 8,
   "metadata": {
    "ExecuteTime": {
     "end_time": "2021-12-15T09:43:45.461546Z",
     "start_time": "2021-12-15T09:43:41.721Z"
    }
   },
   "outputs": [],
   "source": [
    "aa_files_f <- read.table('/ebio/abt3_projects/Methanogen_SCFA/Metagenomes_methanogen/Bacteria_marker_genes/data/samples.tsv'\n",
    "                        , sep = '\\t', header = TRUE)  %>%\n",
    "    select(Sample, Phylum, Class, Order, Family, Genus, Species) %>%\n",
    "    rename('Genome' = Sample)"
   ]
  },
  {
   "cell_type": "code",
   "execution_count": 9,
   "metadata": {
    "ExecuteTime": {
     "end_time": "2021-12-15T09:43:45.592668Z",
     "start_time": "2021-12-15T09:43:41.723Z"
    }
   },
   "outputs": [],
   "source": [
    "# all taxa lacking hits\n",
    "hits_f <- aa_files_f %>%\n",
    "    left_join(hits_f, by = 'Genome')\n",
    "hits_f$V5[is.na(hits_f$V5)] <- 'None'"
   ]
  },
  {
   "cell_type": "code",
   "execution_count": 10,
   "metadata": {
    "ExecuteTime": {
     "end_time": "2021-12-15T09:43:45.613859Z",
     "start_time": "2021-12-15T09:43:41.726Z"
    }
   },
   "outputs": [
    {
     "data": {
      "text/html": [
       "<style>\n",
       ".list-inline {list-style: none; margin:0; padding: 0}\n",
       ".list-inline>li {display: inline-block}\n",
       ".list-inline>li:not(:last-child)::after {content: \"\\00b7\"; padding: 0 .5ex}\n",
       "</style>\n",
       "<ol class=list-inline><li>'Genome'</li><li>'Phylum'</li><li>'Class'</li><li>'Order'</li><li>'Family'</li><li>'Genus'</li><li>'Species'</li><li>'qseqid'</li><li>'sseqid'</li><li>'pident'</li><li>'length'</li><li>'mismatch'</li><li>'gapopen'</li><li>'qstart'</li><li>'qend'</li><li>'sstart'</li><li>'send'</li><li>'evalue'</li><li>'bitscore'</li><li>'qlen'</li><li>'V5'</li></ol>\n"
      ],
      "text/latex": [
       "\\begin{enumerate*}\n",
       "\\item 'Genome'\n",
       "\\item 'Phylum'\n",
       "\\item 'Class'\n",
       "\\item 'Order'\n",
       "\\item 'Family'\n",
       "\\item 'Genus'\n",
       "\\item 'Species'\n",
       "\\item 'qseqid'\n",
       "\\item 'sseqid'\n",
       "\\item 'pident'\n",
       "\\item 'length'\n",
       "\\item 'mismatch'\n",
       "\\item 'gapopen'\n",
       "\\item 'qstart'\n",
       "\\item 'qend'\n",
       "\\item 'sstart'\n",
       "\\item 'send'\n",
       "\\item 'evalue'\n",
       "\\item 'bitscore'\n",
       "\\item 'qlen'\n",
       "\\item 'V5'\n",
       "\\end{enumerate*}\n"
      ],
      "text/markdown": [
       "1. 'Genome'\n",
       "2. 'Phylum'\n",
       "3. 'Class'\n",
       "4. 'Order'\n",
       "5. 'Family'\n",
       "6. 'Genus'\n",
       "7. 'Species'\n",
       "8. 'qseqid'\n",
       "9. 'sseqid'\n",
       "10. 'pident'\n",
       "11. 'length'\n",
       "12. 'mismatch'\n",
       "13. 'gapopen'\n",
       "14. 'qstart'\n",
       "15. 'qend'\n",
       "16. 'sstart'\n",
       "17. 'send'\n",
       "18. 'evalue'\n",
       "19. 'bitscore'\n",
       "20. 'qlen'\n",
       "21. 'V5'\n",
       "\n",
       "\n"
      ],
      "text/plain": [
       " [1] \"Genome\"   \"Phylum\"   \"Class\"    \"Order\"    \"Family\"   \"Genus\"   \n",
       " [7] \"Species\"  \"qseqid\"   \"sseqid\"   \"pident\"   \"length\"   \"mismatch\"\n",
       "[13] \"gapopen\"  \"qstart\"   \"qend\"     \"sstart\"   \"send\"     \"evalue\"  \n",
       "[19] \"bitscore\" \"qlen\"     \"V5\"      "
      ]
     },
     "metadata": {},
     "output_type": "display_data"
    }
   ],
   "source": [
    "hits_f %>% colnames"
   ]
  },
  {
   "cell_type": "code",
   "execution_count": 11,
   "metadata": {
    "ExecuteTime": {
     "end_time": "2021-12-15T09:43:45.645822Z",
     "start_time": "2021-12-15T09:43:41.728Z"
    }
   },
   "outputs": [],
   "source": [
    "hits_tax <- hits_f %>% select(Genome, Phylum, Class, Order, Family, Genus, Species, V5, pident) %>% \n",
    "                subset(Species %in% feats$Feature)"
   ]
  },
  {
   "cell_type": "code",
   "execution_count": 12,
   "metadata": {
    "ExecuteTime": {
     "end_time": "2021-12-15T09:43:45.666595Z",
     "start_time": "2021-12-15T09:43:41.730Z"
    }
   },
   "outputs": [
    {
     "data": {
      "text/html": [
       "<style>\n",
       ".list-inline {list-style: none; margin:0; padding: 0}\n",
       ".list-inline>li {display: inline-block}\n",
       ".list-inline>li:not(:last-child)::after {content: \"\\00b7\"; padding: 0 .5ex}\n",
       "</style>\n",
       "<ol class=list-inline><li>22494</li><li>9</li></ol>\n"
      ],
      "text/latex": [
       "\\begin{enumerate*}\n",
       "\\item 22494\n",
       "\\item 9\n",
       "\\end{enumerate*}\n"
      ],
      "text/markdown": [
       "1. 22494\n",
       "2. 9\n",
       "\n",
       "\n"
      ],
      "text/plain": [
       "[1] 22494     9"
      ]
     },
     "metadata": {},
     "output_type": "display_data"
    }
   ],
   "source": [
    "dim(hits_tax)"
   ]
  },
  {
   "cell_type": "markdown",
   "metadata": {},
   "source": [
    "# Weight by genome size"
   ]
  },
  {
   "cell_type": "code",
   "execution_count": 13,
   "metadata": {
    "ExecuteTime": {
     "end_time": "2021-12-15T09:43:45.983239Z",
     "start_time": "2021-12-15T09:43:41.732Z"
    }
   },
   "outputs": [],
   "source": [
    "samps_tbl_file <- read.table(header = TRUE, sep = '\\t', dec = '.', fill = TRUE\n",
    " , '/ebio/abt3_projects/Methanogen_SCFA/Metagenomes_methanogen/Bacteria_marker_genes/data/samples.tsv')"
   ]
  },
  {
   "cell_type": "code",
   "execution_count": 14,
   "metadata": {
    "ExecuteTime": {
     "end_time": "2021-12-15T09:43:47.171715Z",
     "start_time": "2021-12-15T09:43:41.735Z"
    }
   },
   "outputs": [],
   "source": [
    "struo_meta <- fread('/ebio/abt3_projects/databases_no-backup/GTDB/release89/LLMGP-DB/metadata_1per-GTDB-Spec_gte50comp-lt5cont_wtaxID_wPath.tsv')"
   ]
  },
  {
   "cell_type": "code",
   "execution_count": 15,
   "metadata": {
    "ExecuteTime": {
     "end_time": "2021-12-15T09:43:47.231970Z",
     "start_time": "2021-12-15T09:43:41.736Z"
    }
   },
   "outputs": [],
   "source": [
    "struo_meta$Genome <- str_replace(struo_meta$gtdb_genome_representative, pattern = '\\\\.', replacement = '_')"
   ]
  },
  {
   "cell_type": "code",
   "execution_count": 16,
   "metadata": {
    "ExecuteTime": {
     "end_time": "2021-12-15T09:43:47.264370Z",
     "start_time": "2021-12-15T09:43:41.738Z"
    }
   },
   "outputs": [],
   "source": [
    "hits_tax$Genome_short <- str_extract(hits_tax$Genome, pattern = '^[:upper:]+\\\\_[:upper:]+\\\\_[:digit:]+\\\\_[:digit:]+')"
   ]
  },
  {
   "cell_type": "code",
   "execution_count": 17,
   "metadata": {
    "ExecuteTime": {
     "end_time": "2021-12-15T09:43:47.290307Z",
     "start_time": "2021-12-15T09:43:41.742Z"
    }
   },
   "outputs": [
    {
     "data": {
      "text/html": [
       "22494"
      ],
      "text/latex": [
       "22494"
      ],
      "text/markdown": [
       "22494"
      ],
      "text/plain": [
       "[1] 22494"
      ]
     },
     "metadata": {},
     "output_type": "display_data"
    },
    {
     "data": {
      "text/html": [
       "22494"
      ],
      "text/latex": [
       "22494"
      ],
      "text/markdown": [
       "22494"
      ],
      "text/plain": [
       "[1] 22494"
      ]
     },
     "metadata": {},
     "output_type": "display_data"
    }
   ],
   "source": [
    "sum(hits_tax$Genome_short %in% unique(struo_meta$Genome))\n",
    "length(hits_tax$Genome)"
   ]
  },
  {
   "cell_type": "code",
   "execution_count": 18,
   "metadata": {
    "ExecuteTime": {
     "end_time": "2021-12-15T09:43:47.320755Z",
     "start_time": "2021-12-15T09:43:41.745Z"
    }
   },
   "outputs": [],
   "source": [
    "hits_tax <- left_join(hits_tax, select(struo_meta, Genome, genome_size), by = c('Genome_short' = 'Genome'))"
   ]
  },
  {
   "cell_type": "code",
   "execution_count": 19,
   "metadata": {
    "ExecuteTime": {
     "end_time": "2021-12-15T09:43:51.502751Z",
     "start_time": "2021-12-15T09:43:51.286Z"
    }
   },
   "outputs": [
    {
     "data": {
      "text/html": [
       "<style>\n",
       ".list-inline {list-style: none; margin:0; padding: 0}\n",
       ".list-inline>li {display: inline-block}\n",
       ".list-inline>li:not(:last-child)::after {content: \"\\00b7\"; padding: 0 .5ex}\n",
       "</style>\n",
       "<ol class=list-inline><li>22494</li><li>11</li></ol>\n"
      ],
      "text/latex": [
       "\\begin{enumerate*}\n",
       "\\item 22494\n",
       "\\item 11\n",
       "\\end{enumerate*}\n"
      ],
      "text/markdown": [
       "1. 22494\n",
       "2. 11\n",
       "\n",
       "\n"
      ],
      "text/plain": [
       "[1] 22494    11"
      ]
     },
     "metadata": {},
     "output_type": "display_data"
    }
   ],
   "source": [
    "dim(hits_tax)"
   ]
  },
  {
   "cell_type": "markdown",
   "metadata": {},
   "source": [
    "# Per taxonomic level"
   ]
  },
  {
   "cell_type": "markdown",
   "metadata": {},
   "source": [
    "## species"
   ]
  },
  {
   "cell_type": "code",
   "execution_count": 20,
   "metadata": {
    "ExecuteTime": {
     "end_time": "2021-12-15T09:43:52.459462Z",
     "start_time": "2021-12-15T09:43:52.094Z"
    }
   },
   "outputs": [
    {
     "name": "stderr",
     "output_type": "stream",
     "text": [
      "`summarise()` regrouping output by 'Phylum', 'Class', 'Order', 'Family', 'Genus', 'Species' (override with `.groups` argument)\n",
      "\n"
     ]
    }
   ],
   "source": [
    "pp <- hits_tax %>% group_by(Phylum, Class, Order, Family, Genus, Species, V5) %>% \n",
    "        summarise(n_copies = n(), pident = mean(pident, na.rm = TRUE), genome_size = unique(genome_size))"
   ]
  },
  {
   "cell_type": "code",
   "execution_count": 21,
   "metadata": {
    "ExecuteTime": {
     "end_time": "2021-12-15T09:43:52.484004Z",
     "start_time": "2021-12-15T09:43:52.260Z"
    }
   },
   "outputs": [],
   "source": [
    "pp$r_copies <- pp$n_copies/pp$genome_size\n",
    "pp <- select(pp, -n_copies, -genome_size)"
   ]
  },
  {
   "cell_type": "markdown",
   "metadata": {},
   "source": [
    "## add all missing categories for each species"
   ]
  },
  {
   "cell_type": "code",
   "execution_count": 22,
   "metadata": {
    "ExecuteTime": {
     "end_time": "2021-12-15T09:43:53.746101Z",
     "start_time": "2021-12-15T09:43:53.533Z"
    }
   },
   "outputs": [],
   "source": [
    "sp <- pp$Species %>% unique\n",
    "hctg <- pp$V5 %>% unique"
   ]
  },
  {
   "cell_type": "code",
   "execution_count": 23,
   "metadata": {
    "ExecuteTime": {
     "end_time": "2021-12-15T09:43:54.148831Z",
     "start_time": "2021-12-15T09:43:53.712Z"
    }
   },
   "outputs": [],
   "source": [
    "# create all combinations of species and acetobase gene needed\n",
    "to_add <- expand.grid(sp, hctg) %>% as.data.frame\n",
    "colnames(to_add) <- c('Species', 'V5')\n",
    "    \n",
    "# keep only the ones missing: give them a 0 count number and NA pident\n",
    "to_add <- setdiff(to_add, pp %>% ungroup %>% select(Species, V5)) %>% \n",
    "                # add the taxonomic levels\n",
    "                left_join(pp %>% ungroup %>% select(Phylum, Class, Order,Family, Genus, Species), by = 'Species') \n",
    "to_add$r_copies <- 0\n",
    "to_add$pident <- NaN\n",
    "    \n",
    "# add them to the dataset\n",
    "pp <- rbind(pp, to_add)"
   ]
  },
  {
   "cell_type": "markdown",
   "metadata": {},
   "source": [
    "## genera"
   ]
  },
  {
   "cell_type": "code",
   "execution_count": 24,
   "metadata": {
    "ExecuteTime": {
     "end_time": "2021-12-15T09:43:54.241625Z",
     "start_time": "2021-12-15T09:43:53.968Z"
    }
   },
   "outputs": [
    {
     "name": "stderr",
     "output_type": "stream",
     "text": [
      "`summarise()` regrouping output by 'Phylum', 'Class', 'Order', 'Family', 'Genus' (override with `.groups` argument)\n",
      "\n"
     ]
    }
   ],
   "source": [
    "gen <- pp %>% left_join(feats, by = c('Species' = 'Feature')) %>% \n",
    "        group_by(Phylum, Class, Order, Family, Genus, V5) %>% \n",
    "        summarise(r_copies = weighted.mean(x = r_copies, w = Abundance_avg, na.rm = TRUE)\n",
    "                  , pident =  weighted.mean(x = pident, w = Abundance_avg, na.rm = TRUE))\n",
    "gen$Feature <- gen$Genus "
   ]
  },
  {
   "cell_type": "markdown",
   "metadata": {},
   "source": [
    "## family"
   ]
  },
  {
   "cell_type": "code",
   "execution_count": 25,
   "metadata": {
    "ExecuteTime": {
     "end_time": "2021-12-15T09:43:55.620819Z",
     "start_time": "2021-12-15T09:43:55.366Z"
    }
   },
   "outputs": [
    {
     "name": "stderr",
     "output_type": "stream",
     "text": [
      "`summarise()` regrouping output by 'Phylum', 'Class', 'Order', 'Family' (override with `.groups` argument)\n",
      "\n"
     ]
    }
   ],
   "source": [
    "fam <- pp %>% left_join(feats, by = c('Species' = 'Feature')) %>% \n",
    "        group_by(Phylum, Class, Order, Family, V5) %>% \n",
    "        summarise(r_copies = weighted.mean(x = r_copies, w = Abundance_avg, na.rm = TRUE)\n",
    "                  , pident =  weighted.mean(x = pident, w = Abundance_avg, na.rm = TRUE))\n",
    "fam$Feature <- fam$Family"
   ]
  },
  {
   "cell_type": "markdown",
   "metadata": {},
   "source": [
    "## merge"
   ]
  },
  {
   "cell_type": "code",
   "execution_count": 26,
   "metadata": {
    "ExecuteTime": {
     "end_time": "2021-12-15T09:43:57.076685Z",
     "start_time": "2021-12-15T09:43:56.851Z"
    }
   },
   "outputs": [
    {
     "data": {
      "text/html": [
       "<style>\n",
       ".list-inline {list-style: none; margin:0; padding: 0}\n",
       ".list-inline>li {display: inline-block}\n",
       ".list-inline>li:not(:last-child)::after {content: \"\\00b7\"; padding: 0 .5ex}\n",
       "</style>\n",
       "<ol class=list-inline><li>'Phylum'</li><li>'Class'</li><li>'Order'</li><li>'Family'</li><li>'Genus'</li><li>'Species'</li><li>'V5'</li><li>'pident'</li><li>'r_copies'</li></ol>\n"
      ],
      "text/latex": [
       "\\begin{enumerate*}\n",
       "\\item 'Phylum'\n",
       "\\item 'Class'\n",
       "\\item 'Order'\n",
       "\\item 'Family'\n",
       "\\item 'Genus'\n",
       "\\item 'Species'\n",
       "\\item 'V5'\n",
       "\\item 'pident'\n",
       "\\item 'r\\_copies'\n",
       "\\end{enumerate*}\n"
      ],
      "text/markdown": [
       "1. 'Phylum'\n",
       "2. 'Class'\n",
       "3. 'Order'\n",
       "4. 'Family'\n",
       "5. 'Genus'\n",
       "6. 'Species'\n",
       "7. 'V5'\n",
       "8. 'pident'\n",
       "9. 'r_copies'\n",
       "\n",
       "\n"
      ],
      "text/plain": [
       "[1] \"Phylum\"   \"Class\"    \"Order\"    \"Family\"   \"Genus\"    \"Species\"  \"V5\"      \n",
       "[8] \"pident\"   \"r_copies\""
      ]
     },
     "metadata": {},
     "output_type": "display_data"
    },
    {
     "data": {
      "text/html": [
       "<style>\n",
       ".list-inline {list-style: none; margin:0; padding: 0}\n",
       ".list-inline>li {display: inline-block}\n",
       ".list-inline>li:not(:last-child)::after {content: \"\\00b7\"; padding: 0 .5ex}\n",
       "</style>\n",
       "<ol class=list-inline><li>'Phylum'</li><li>'Class'</li><li>'Order'</li><li>'Family'</li><li>'Genus'</li><li>'V5'</li><li>'r_copies'</li><li>'pident'</li><li>'Feature'</li></ol>\n"
      ],
      "text/latex": [
       "\\begin{enumerate*}\n",
       "\\item 'Phylum'\n",
       "\\item 'Class'\n",
       "\\item 'Order'\n",
       "\\item 'Family'\n",
       "\\item 'Genus'\n",
       "\\item 'V5'\n",
       "\\item 'r\\_copies'\n",
       "\\item 'pident'\n",
       "\\item 'Feature'\n",
       "\\end{enumerate*}\n"
      ],
      "text/markdown": [
       "1. 'Phylum'\n",
       "2. 'Class'\n",
       "3. 'Order'\n",
       "4. 'Family'\n",
       "5. 'Genus'\n",
       "6. 'V5'\n",
       "7. 'r_copies'\n",
       "8. 'pident'\n",
       "9. 'Feature'\n",
       "\n",
       "\n"
      ],
      "text/plain": [
       "[1] \"Phylum\"   \"Class\"    \"Order\"    \"Family\"   \"Genus\"    \"V5\"       \"r_copies\"\n",
       "[8] \"pident\"   \"Feature\" "
      ]
     },
     "metadata": {},
     "output_type": "display_data"
    },
    {
     "data": {
      "text/html": [
       "<style>\n",
       ".list-inline {list-style: none; margin:0; padding: 0}\n",
       ".list-inline>li {display: inline-block}\n",
       ".list-inline>li:not(:last-child)::after {content: \"\\00b7\"; padding: 0 .5ex}\n",
       "</style>\n",
       "<ol class=list-inline><li>'Phylum'</li><li>'Class'</li><li>'Order'</li><li>'Family'</li><li>'V5'</li><li>'r_copies'</li><li>'pident'</li><li>'Feature'</li></ol>\n"
      ],
      "text/latex": [
       "\\begin{enumerate*}\n",
       "\\item 'Phylum'\n",
       "\\item 'Class'\n",
       "\\item 'Order'\n",
       "\\item 'Family'\n",
       "\\item 'V5'\n",
       "\\item 'r\\_copies'\n",
       "\\item 'pident'\n",
       "\\item 'Feature'\n",
       "\\end{enumerate*}\n"
      ],
      "text/markdown": [
       "1. 'Phylum'\n",
       "2. 'Class'\n",
       "3. 'Order'\n",
       "4. 'Family'\n",
       "5. 'V5'\n",
       "6. 'r_copies'\n",
       "7. 'pident'\n",
       "8. 'Feature'\n",
       "\n",
       "\n"
      ],
      "text/plain": [
       "[1] \"Phylum\"   \"Class\"    \"Order\"    \"Family\"   \"V5\"       \"r_copies\" \"pident\"  \n",
       "[8] \"Feature\" "
      ]
     },
     "metadata": {},
     "output_type": "display_data"
    }
   ],
   "source": [
    "colnames(pp)\n",
    "colnames(gen)\n",
    "colnames(fam)"
   ]
  },
  {
   "cell_type": "code",
   "execution_count": 27,
   "metadata": {
    "ExecuteTime": {
     "end_time": "2021-12-15T09:43:57.728128Z",
     "start_time": "2021-12-15T09:43:57.511Z"
    }
   },
   "outputs": [],
   "source": [
    "gen$Species <- NA\n",
    "fam$Genus <- NA\n",
    "fam$Species <- NA\n",
    "pp$Feature <- pp$Species"
   ]
  },
  {
   "cell_type": "code",
   "execution_count": 28,
   "metadata": {
    "ExecuteTime": {
     "end_time": "2021-12-15T09:43:58.798820Z",
     "start_time": "2021-12-15T09:43:58.574Z"
    }
   },
   "outputs": [
    {
     "data": {
      "text/html": [
       "5882"
      ],
      "text/latex": [
       "5882"
      ],
      "text/markdown": [
       "5882"
      ],
      "text/plain": [
       "[1] 5882"
      ]
     },
     "metadata": {},
     "output_type": "display_data"
    },
    {
     "data": {
      "text/html": [
       "1882"
      ],
      "text/latex": [
       "1882"
      ],
      "text/markdown": [
       "1882"
      ],
      "text/plain": [
       "[1] 1882"
      ]
     },
     "metadata": {},
     "output_type": "display_data"
    },
    {
     "data": {
      "text/html": [
       "366"
      ],
      "text/latex": [
       "366"
      ],
      "text/markdown": [
       "366"
      ],
      "text/plain": [
       "[1] 366"
      ]
     },
     "metadata": {},
     "output_type": "display_data"
    }
   ],
   "source": [
    "nrow(pp)\n",
    "nrow(gen)\n",
    "nrow(fam)"
   ]
  },
  {
   "cell_type": "code",
   "execution_count": 29,
   "metadata": {
    "ExecuteTime": {
     "end_time": "2021-12-15T09:44:01.102365Z",
     "start_time": "2021-12-15T09:44:00.733Z"
    }
   },
   "outputs": [
    {
     "data": {
      "text/html": [
       "<table class=\"dataframe\">\n",
       "<caption>A tibble: 4 × 4</caption>\n",
       "<thead>\n",
       "\t<tr><th scope=col>V5</th><th scope=col>is.na(pident)</th><th scope=col>r_copies &gt; 0</th><th scope=col>n</th></tr>\n",
       "\t<tr><th scope=col>&lt;chr&gt;</th><th scope=col>&lt;lgl&gt;</th><th scope=col>&lt;lgl&gt;</th><th scope=col>&lt;int&gt;</th></tr>\n",
       "</thead>\n",
       "<tbody>\n",
       "\t<tr><td>fhs </td><td>FALSE</td><td> TRUE</td><td>695</td></tr>\n",
       "\t<tr><td>fhs </td><td> TRUE</td><td>FALSE</td><td>246</td></tr>\n",
       "\t<tr><td>None</td><td> TRUE</td><td>FALSE</td><td>642</td></tr>\n",
       "\t<tr><td>None</td><td> TRUE</td><td> TRUE</td><td>299</td></tr>\n",
       "</tbody>\n",
       "</table>\n"
      ],
      "text/latex": [
       "A tibble: 4 × 4\n",
       "\\begin{tabular}{llll}\n",
       " V5 & is.na(pident) & r\\_copies > 0 & n\\\\\n",
       " <chr> & <lgl> & <lgl> & <int>\\\\\n",
       "\\hline\n",
       "\t fhs  & FALSE &  TRUE & 695\\\\\n",
       "\t fhs  &  TRUE & FALSE & 246\\\\\n",
       "\t None &  TRUE & FALSE & 642\\\\\n",
       "\t None &  TRUE &  TRUE & 299\\\\\n",
       "\\end{tabular}\n"
      ],
      "text/markdown": [
       "\n",
       "A tibble: 4 × 4\n",
       "\n",
       "| V5 &lt;chr&gt; | is.na(pident) &lt;lgl&gt; | r_copies &gt; 0 &lt;lgl&gt; | n &lt;int&gt; |\n",
       "|---|---|---|---|\n",
       "| fhs  | FALSE |  TRUE | 695 |\n",
       "| fhs  |  TRUE | FALSE | 246 |\n",
       "| None |  TRUE | FALSE | 642 |\n",
       "| None |  TRUE |  TRUE | 299 |\n",
       "\n"
      ],
      "text/plain": [
       "  V5   is.na(pident) r_copies > 0 n  \n",
       "1 fhs  FALSE          TRUE        695\n",
       "2 fhs   TRUE         FALSE        246\n",
       "3 None  TRUE         FALSE        642\n",
       "4 None  TRUE          TRUE        299"
      ]
     },
     "metadata": {},
     "output_type": "display_data"
    }
   ],
   "source": [
    "gen  %>% ungroup %>% count(V5, is.na(pident), r_copies > 0)"
   ]
  },
  {
   "cell_type": "code",
   "execution_count": 30,
   "metadata": {
    "ExecuteTime": {
     "end_time": "2021-12-15T09:44:01.435806Z",
     "start_time": "2021-12-15T09:44:00.945Z"
    }
   },
   "outputs": [],
   "source": [
    "pp <- union(pp, gen) %>% union(fam)"
   ]
  },
  {
   "cell_type": "code",
   "execution_count": 31,
   "metadata": {
    "ExecuteTime": {
     "end_time": "2021-12-15T09:44:01.456119Z",
     "start_time": "2021-12-15T09:44:01.215Z"
    }
   },
   "outputs": [
    {
     "data": {
      "text/html": [
       "8130"
      ],
      "text/latex": [
       "8130"
      ],
      "text/markdown": [
       "8130"
      ],
      "text/plain": [
       "[1] 8130"
      ]
     },
     "metadata": {},
     "output_type": "display_data"
    }
   ],
   "source": [
    "nrow(pp)"
   ]
  },
  {
   "cell_type": "code",
   "execution_count": 32,
   "metadata": {
    "ExecuteTime": {
     "end_time": "2021-12-15T09:44:01.657062Z",
     "start_time": "2021-12-15T09:44:01.423Z"
    }
   },
   "outputs": [
    {
     "data": {
      "text/html": [
       "<table class=\"dataframe\">\n",
       "<caption>A grouped_df: 6 × 10</caption>\n",
       "<thead>\n",
       "\t<tr><th scope=col>Phylum</th><th scope=col>Class</th><th scope=col>Order</th><th scope=col>Family</th><th scope=col>Genus</th><th scope=col>Species</th><th scope=col>V5</th><th scope=col>pident</th><th scope=col>r_copies</th><th scope=col>Feature</th></tr>\n",
       "\t<tr><th scope=col>&lt;chr&gt;</th><th scope=col>&lt;chr&gt;</th><th scope=col>&lt;chr&gt;</th><th scope=col>&lt;chr&gt;</th><th scope=col>&lt;chr&gt;</th><th scope=col>&lt;chr&gt;</th><th scope=col>&lt;chr&gt;</th><th scope=col>&lt;dbl&gt;</th><th scope=col>&lt;dbl&gt;</th><th scope=col>&lt;chr&gt;</th></tr>\n",
       "</thead>\n",
       "<tbody>\n",
       "\t<tr><td>p_Acidobacteriota </td><td>c_Acidobacteriae</td><td>o_Acidobacteriales</td><td>f_Koribacteraceae </td><td>g_QIAA01     </td><td>s_QIAA01_sp003224905      </td><td>None</td><td>  NaN</td><td>1.772694e-07</td><td>s_QIAA01_sp003224905      </td></tr>\n",
       "\t<tr><td>p_Acidobacteriota </td><td>c_Blastocatellia</td><td>o_Pyrinomonadales </td><td>f_Pyrinomonadaceae</td><td>g_OLB17      </td><td>s_OLB17_sp002360555       </td><td>fhs </td><td>93.85</td><td>2.977571e-06</td><td>s_OLB17_sp002360555       </td></tr>\n",
       "\t<tr><td>p_Actinobacteriota</td><td>c_Actinobacteria</td><td>o_Actinomycetales </td><td>f_Actinomycetaceae</td><td>g_Actinomyces</td><td>s_Actinomyces_dentalis    </td><td>None</td><td>  NaN</td><td>2.831744e-07</td><td>s_Actinomyces_dentalis    </td></tr>\n",
       "\t<tr><td>p_Actinobacteriota</td><td>c_Actinobacteria</td><td>o_Actinomycetales </td><td>f_Actinomycetaceae</td><td>g_Actinomyces</td><td>s_Actinomyces_gerencseriae</td><td>fhs </td><td>77.18</td><td>2.923960e-06</td><td>s_Actinomyces_gerencseriae</td></tr>\n",
       "\t<tr><td>p_Actinobacteriota</td><td>c_Actinobacteria</td><td>o_Actinomycetales </td><td>f_Actinomycetaceae</td><td>g_Actinomyces</td><td>s_Actinomyces_graevenitzii</td><td>fhs </td><td>77.52</td><td>4.533657e-06</td><td>s_Actinomyces_graevenitzii</td></tr>\n",
       "\t<tr><td>p_Actinobacteriota</td><td>c_Actinobacteria</td><td>o_Actinomycetales </td><td>f_Actinomycetaceae</td><td>g_Actinomyces</td><td>s_Actinomyces_israelii    </td><td>fhs </td><td>79.61</td><td>2.483996e-06</td><td>s_Actinomyces_israelii    </td></tr>\n",
       "</tbody>\n",
       "</table>\n"
      ],
      "text/latex": [
       "A grouped\\_df: 6 × 10\n",
       "\\begin{tabular}{llllllllll}\n",
       " Phylum & Class & Order & Family & Genus & Species & V5 & pident & r\\_copies & Feature\\\\\n",
       " <chr> & <chr> & <chr> & <chr> & <chr> & <chr> & <chr> & <dbl> & <dbl> & <chr>\\\\\n",
       "\\hline\n",
       "\t p\\_Acidobacteriota  & c\\_Acidobacteriae & o\\_Acidobacteriales & f\\_Koribacteraceae  & g\\_QIAA01      & s\\_QIAA01\\_sp003224905       & None &   NaN & 1.772694e-07 & s\\_QIAA01\\_sp003224905      \\\\\n",
       "\t p\\_Acidobacteriota  & c\\_Blastocatellia & o\\_Pyrinomonadales  & f\\_Pyrinomonadaceae & g\\_OLB17       & s\\_OLB17\\_sp002360555        & fhs  & 93.85 & 2.977571e-06 & s\\_OLB17\\_sp002360555       \\\\\n",
       "\t p\\_Actinobacteriota & c\\_Actinobacteria & o\\_Actinomycetales  & f\\_Actinomycetaceae & g\\_Actinomyces & s\\_Actinomyces\\_dentalis     & None &   NaN & 2.831744e-07 & s\\_Actinomyces\\_dentalis    \\\\\n",
       "\t p\\_Actinobacteriota & c\\_Actinobacteria & o\\_Actinomycetales  & f\\_Actinomycetaceae & g\\_Actinomyces & s\\_Actinomyces\\_gerencseriae & fhs  & 77.18 & 2.923960e-06 & s\\_Actinomyces\\_gerencseriae\\\\\n",
       "\t p\\_Actinobacteriota & c\\_Actinobacteria & o\\_Actinomycetales  & f\\_Actinomycetaceae & g\\_Actinomyces & s\\_Actinomyces\\_graevenitzii & fhs  & 77.52 & 4.533657e-06 & s\\_Actinomyces\\_graevenitzii\\\\\n",
       "\t p\\_Actinobacteriota & c\\_Actinobacteria & o\\_Actinomycetales  & f\\_Actinomycetaceae & g\\_Actinomyces & s\\_Actinomyces\\_israelii     & fhs  & 79.61 & 2.483996e-06 & s\\_Actinomyces\\_israelii    \\\\\n",
       "\\end{tabular}\n"
      ],
      "text/markdown": [
       "\n",
       "A grouped_df: 6 × 10\n",
       "\n",
       "| Phylum &lt;chr&gt; | Class &lt;chr&gt; | Order &lt;chr&gt; | Family &lt;chr&gt; | Genus &lt;chr&gt; | Species &lt;chr&gt; | V5 &lt;chr&gt; | pident &lt;dbl&gt; | r_copies &lt;dbl&gt; | Feature &lt;chr&gt; |\n",
       "|---|---|---|---|---|---|---|---|---|---|\n",
       "| p_Acidobacteriota  | c_Acidobacteriae | o_Acidobacteriales | f_Koribacteraceae  | g_QIAA01      | s_QIAA01_sp003224905       | None |   NaN | 1.772694e-07 | s_QIAA01_sp003224905       |\n",
       "| p_Acidobacteriota  | c_Blastocatellia | o_Pyrinomonadales  | f_Pyrinomonadaceae | g_OLB17       | s_OLB17_sp002360555        | fhs  | 93.85 | 2.977571e-06 | s_OLB17_sp002360555        |\n",
       "| p_Actinobacteriota | c_Actinobacteria | o_Actinomycetales  | f_Actinomycetaceae | g_Actinomyces | s_Actinomyces_dentalis     | None |   NaN | 2.831744e-07 | s_Actinomyces_dentalis     |\n",
       "| p_Actinobacteriota | c_Actinobacteria | o_Actinomycetales  | f_Actinomycetaceae | g_Actinomyces | s_Actinomyces_gerencseriae | fhs  | 77.18 | 2.923960e-06 | s_Actinomyces_gerencseriae |\n",
       "| p_Actinobacteriota | c_Actinobacteria | o_Actinomycetales  | f_Actinomycetaceae | g_Actinomyces | s_Actinomyces_graevenitzii | fhs  | 77.52 | 4.533657e-06 | s_Actinomyces_graevenitzii |\n",
       "| p_Actinobacteriota | c_Actinobacteria | o_Actinomycetales  | f_Actinomycetaceae | g_Actinomyces | s_Actinomyces_israelii     | fhs  | 79.61 | 2.483996e-06 | s_Actinomyces_israelii     |\n",
       "\n"
      ],
      "text/plain": [
       "  Phylum             Class            Order              Family            \n",
       "1 p_Acidobacteriota  c_Acidobacteriae o_Acidobacteriales f_Koribacteraceae \n",
       "2 p_Acidobacteriota  c_Blastocatellia o_Pyrinomonadales  f_Pyrinomonadaceae\n",
       "3 p_Actinobacteriota c_Actinobacteria o_Actinomycetales  f_Actinomycetaceae\n",
       "4 p_Actinobacteriota c_Actinobacteria o_Actinomycetales  f_Actinomycetaceae\n",
       "5 p_Actinobacteriota c_Actinobacteria o_Actinomycetales  f_Actinomycetaceae\n",
       "6 p_Actinobacteriota c_Actinobacteria o_Actinomycetales  f_Actinomycetaceae\n",
       "  Genus         Species                    V5   pident r_copies    \n",
       "1 g_QIAA01      s_QIAA01_sp003224905       None   NaN  1.772694e-07\n",
       "2 g_OLB17       s_OLB17_sp002360555        fhs  93.85  2.977571e-06\n",
       "3 g_Actinomyces s_Actinomyces_dentalis     None   NaN  2.831744e-07\n",
       "4 g_Actinomyces s_Actinomyces_gerencseriae fhs  77.18  2.923960e-06\n",
       "5 g_Actinomyces s_Actinomyces_graevenitzii fhs  77.52  4.533657e-06\n",
       "6 g_Actinomyces s_Actinomyces_israelii     fhs  79.61  2.483996e-06\n",
       "  Feature                   \n",
       "1 s_QIAA01_sp003224905      \n",
       "2 s_OLB17_sp002360555       \n",
       "3 s_Actinomyces_dentalis    \n",
       "4 s_Actinomyces_gerencseriae\n",
       "5 s_Actinomyces_graevenitzii\n",
       "6 s_Actinomyces_israelii    "
      ]
     },
     "metadata": {},
     "output_type": "display_data"
    }
   ],
   "source": [
    "pp %>% head"
   ]
  },
  {
   "cell_type": "code",
   "execution_count": 33,
   "metadata": {
    "ExecuteTime": {
     "end_time": "2021-12-15T09:44:03.435220Z",
     "start_time": "2021-12-15T09:44:03.222Z"
    }
   },
   "outputs": [
    {
     "data": {
      "text/html": [
       "0"
      ],
      "text/latex": [
       "0"
      ],
      "text/markdown": [
       "0"
      ],
      "text/plain": [
       "[1] 0"
      ]
     },
     "metadata": {},
     "output_type": "display_data"
    }
   ],
   "source": [
    "(!(unique(pp$Feature) %in% feats$Feature)) %>% sum"
   ]
  },
  {
   "cell_type": "markdown",
   "metadata": {},
   "source": [
    "# Formatting"
   ]
  },
  {
   "cell_type": "code",
   "execution_count": 34,
   "metadata": {
    "ExecuteTime": {
     "end_time": "2021-12-15T09:44:05.190087Z",
     "start_time": "2021-12-15T09:44:04.976Z"
    }
   },
   "outputs": [],
   "source": [
    "feat_imp <- qread('../tmp/Variable_importance.qs')"
   ]
  },
  {
   "cell_type": "code",
   "execution_count": 35,
   "metadata": {
    "ExecuteTime": {
     "end_time": "2021-12-15T09:44:05.737953Z",
     "start_time": "2021-12-15T09:44:05.474Z"
    }
   },
   "outputs": [],
   "source": [
    "pp <- pp %>% subset(V5 != 'None') %>% ungroup %>% \n",
    "        select(-Phylum, -Class, -Order, -Family, -Genus, -Species) %>% \n",
    "        left_join(feat_imp, by = 'Feature')"
   ]
  },
  {
   "cell_type": "code",
   "execution_count": 36,
   "metadata": {
    "ExecuteTime": {
     "end_time": "2021-12-15T09:44:05.870489Z",
     "start_time": "2021-12-15T09:44:05.654Z"
    }
   },
   "outputs": [],
   "source": [
    "qsave(pp, 'Acetobase_res_r.qs')"
   ]
  },
  {
   "cell_type": "code",
   "execution_count": null,
   "metadata": {},
   "outputs": [],
   "source": []
  }
 ],
 "metadata": {
  "kernelspec": {
   "display_name": "R [conda env:Metagenomes_methanogen-r-ml] *",
   "language": "R",
   "name": "conda-env-Metagenomes_methanogen-r-ml-r"
  },
  "language_info": {
   "codemirror_mode": "r",
   "file_extension": ".r",
   "mimetype": "text/x-r-source",
   "name": "R",
   "pygments_lexer": "r",
   "version": "4.0.3"
  },
  "toc": {
   "base_numbering": 1,
   "nav_menu": {},
   "number_sections": true,
   "sideBar": true,
   "skip_h1_title": false,
   "title_cell": "Table of Contents",
   "title_sidebar": "Contents",
   "toc_cell": false,
   "toc_position": {
    "height": "calc(100% - 180px)",
    "left": "10px",
    "top": "150px",
    "width": "246px"
   },
   "toc_section_display": true,
   "toc_window_display": true
  }
 },
 "nbformat": 4,
 "nbformat_minor": 4
}
