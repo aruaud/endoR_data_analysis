{
 "cells": [
  {
   "cell_type": "markdown",
   "metadata": {},
   "source": [
    "# Preambule"
   ]
  },
  {
   "cell_type": "code",
   "execution_count": 1,
   "metadata": {
    "ExecuteTime": {
     "end_time": "2021-11-22T16:20:33.279654Z",
     "start_time": "2021-11-22T16:20:29.253Z"
    }
   },
   "outputs": [
    {
     "name": "stderr",
     "output_type": "stream",
     "text": [
      "── \u001b[1mAttaching packages\u001b[22m ────────────────────────────────────────────────────────────────────────────────────────────────────────────────────────────────────── tidyverse 1.3.0 ──\n",
      "\n",
      "\u001b[32m✔\u001b[39m \u001b[34mggplot2\u001b[39m 3.3.2     \u001b[32m✔\u001b[39m \u001b[34mpurrr  \u001b[39m 0.3.4\n",
      "\u001b[32m✔\u001b[39m \u001b[34mtibble \u001b[39m 3.0.4     \u001b[32m✔\u001b[39m \u001b[34mdplyr  \u001b[39m 1.0.2\n",
      "\u001b[32m✔\u001b[39m \u001b[34mtidyr  \u001b[39m 1.1.2     \u001b[32m✔\u001b[39m \u001b[34mstringr\u001b[39m 1.4.0\n",
      "\u001b[32m✔\u001b[39m \u001b[34mreadr  \u001b[39m 1.4.0     \u001b[32m✔\u001b[39m \u001b[34mforcats\u001b[39m 0.5.0\n",
      "\n",
      "── \u001b[1mConflicts\u001b[22m ───────────────────────────────────────────────────────────────────────────────────────────────────────────────────────────────────────── tidyverse_conflicts() ──\n",
      "\u001b[31m✖\u001b[39m \u001b[34mdplyr\u001b[39m::\u001b[32mfilter()\u001b[39m masks \u001b[34mstats\u001b[39m::filter()\n",
      "\u001b[31m✖\u001b[39m \u001b[34mdplyr\u001b[39m::\u001b[32mlag()\u001b[39m    masks \u001b[34mstats\u001b[39m::lag()\n",
      "\n",
      "qs v0.23.4.\n",
      "\n",
      "Warning message:\n",
      "“replacing previous import ‘data.table::last’ by ‘dplyr::last’ when loading ‘endoR’”\n",
      "Warning message:\n",
      "“replacing previous import ‘data.table::first’ by ‘dplyr::first’ when loading ‘endoR’”\n",
      "Warning message:\n",
      "“replacing previous import ‘data.table::between’ by ‘dplyr::between’ when loading ‘endoR’”\n",
      "Warning message:\n",
      "“replacing previous import ‘dplyr::union’ by ‘igraph::union’ when loading ‘endoR’”\n",
      "Warning message:\n",
      "“replacing previous import ‘dplyr::as_data_frame’ by ‘igraph::as_data_frame’ when loading ‘endoR’”\n",
      "Warning message:\n",
      "“replacing previous import ‘dplyr::groups’ by ‘igraph::groups’ when loading ‘endoR’”\n"
     ]
    }
   ],
   "source": [
    "library(tidyverse)\n",
    "library(qs)\n",
    "library(endoR)"
   ]
  },
  {
   "cell_type": "code",
   "execution_count": 2,
   "metadata": {
    "ExecuteTime": {
     "end_time": "2021-11-22T16:20:33.370221Z",
     "start_time": "2021-11-22T16:20:29.580Z"
    }
   },
   "outputs": [
    {
     "data": {
      "text/plain": [
       "R version 4.0.3 (2020-10-10)\n",
       "Platform: x86_64-conda-linux-gnu (64-bit)\n",
       "Running under: Ubuntu 18.04.6 LTS\n",
       "\n",
       "Matrix products: default\n",
       "BLAS/LAPACK: /ebio/abt3_projects/Methanogen_SCFA/Metagenomes_methanogen/envs/r-ml/lib/libopenblasp-r0.3.10.so\n",
       "\n",
       "locale:\n",
       " [1] LC_CTYPE=en_US.UTF-8       LC_NUMERIC=C              \n",
       " [3] LC_TIME=en_US.UTF-8        LC_COLLATE=en_US.UTF-8    \n",
       " [5] LC_MONETARY=en_US.UTF-8    LC_MESSAGES=en_US.UTF-8   \n",
       " [7] LC_PAPER=en_US.UTF-8       LC_NAME=C                 \n",
       " [9] LC_ADDRESS=C               LC_TELEPHONE=C            \n",
       "[11] LC_MEASUREMENT=en_US.UTF-8 LC_IDENTIFICATION=C       \n",
       "\n",
       "attached base packages:\n",
       "[1] stats     graphics  grDevices utils     datasets  methods   base     \n",
       "\n",
       "other attached packages:\n",
       " [1] endoR_0.1.0     qs_0.23.4       forcats_0.5.0   stringr_1.4.0  \n",
       " [5] dplyr_1.0.2     purrr_0.3.4     readr_1.4.0     tidyr_1.1.2    \n",
       " [9] tibble_3.0.4    ggplot2_3.3.2   tidyverse_1.3.0\n",
       "\n",
       "loaded via a namespace (and not attached):\n",
       " [1] fs_1.5.0            lubridate_1.7.9.2   httr_1.4.2         \n",
       " [4] repr_1.1.2.9000     tools_4.0.3         backports_1.2.0    \n",
       " [7] R6_2.5.0            arules_1.6-6        DBI_1.1.0          \n",
       "[10] colorspace_2.0-0    withr_2.3.0         gbm_2.1.8          \n",
       "[13] tidyselect_1.1.0    gridExtra_2.3       compiler_4.0.3     \n",
       "[16] cli_2.2.0           rvest_0.3.6         xml2_1.3.2         \n",
       "[19] stringfish_0.14.2   scales_1.1.1        pbdZMQ_0.3-3.1     \n",
       "[22] digest_0.6.27       base64enc_0.1-3     pkgconfig_2.0.3    \n",
       "[25] htmltools_0.5.0     dbplyr_2.0.0        rlang_0.4.10       \n",
       "[28] readxl_1.3.1        rstudioapi_0.13     farver_2.0.3       \n",
       "[31] generics_0.1.0      RApiSerialize_0.1.0 jsonlite_1.7.2     \n",
       "[34] magrittr_2.0.1      Matrix_1.2-18       Rcpp_1.0.5         \n",
       "[37] IRkernel_1.1.1      munsell_0.5.0       fansi_0.4.1        \n",
       "[40] viridis_0.5.1       lifecycle_0.2.0     stringi_1.5.3      \n",
       "[43] ggraph_2.0.4        MASS_7.3-53         grid_4.0.3         \n",
       "[46] ggrepel_0.8.2       crayon_1.3.4        lattice_0.20-41    \n",
       "[49] splines_4.0.3       IRdisplay_0.7.0     graphlayouts_0.7.1 \n",
       "[52] haven_2.3.1         hms_0.5.3           ps_1.5.0           \n",
       "[55] RRF_1.9.1           pillar_1.4.7        ranger_0.12.1      \n",
       "[58] igraph_1.2.6        uuid_0.1-4          xgboost_1.2.0.1    \n",
       "[61] reprex_0.3.0        glue_1.4.2          evaluate_0.14      \n",
       "[64] data.table_1.13.4   RcppParallel_5.0.2  modelr_0.1.8       \n",
       "[67] vctrs_0.3.6         inTrees_1.3         tweenr_1.0.1       \n",
       "[70] cellranger_1.1.0    gtable_0.3.0        polyclip_1.10-0    \n",
       "[73] assertthat_0.2.1    ggforce_0.3.2       xtable_1.8-4       \n",
       "[76] broom_0.7.2         tidygraph_1.2.0     survival_3.2-7     \n",
       "[79] viridisLite_0.3.0   ellipsis_0.3.1     "
      ]
     },
     "metadata": {},
     "output_type": "display_data"
    }
   ],
   "source": [
    "sessionInfo()"
   ]
  },
  {
   "cell_type": "markdown",
   "metadata": {},
   "source": [
    "# Data"
   ]
  },
  {
   "cell_type": "code",
   "execution_count": 3,
   "metadata": {
    "ExecuteTime": {
     "end_time": "2021-11-22T16:20:33.736442Z",
     "start_time": "2021-11-22T16:20:29.940Z"
    }
   },
   "outputs": [],
   "source": [
    "meta <- qread('../data/meta_entero.qs') \n",
    "tax <- qread('../data/taxa_nometh.qs') \n",
    "targets <- qread('../data/targets_meth.qs')"
   ]
  },
  {
   "cell_type": "code",
   "execution_count": 4,
   "metadata": {
    "ExecuteTime": {
     "end_time": "2021-11-22T16:20:34.443073Z",
     "start_time": "2021-11-22T16:20:30.182Z"
    }
   },
   "outputs": [],
   "source": [
    "pp <- left_join(meta, tax, by = 'Sample') %>% left_join(select(targets, Sample, Mtbc), by = 'Sample')\n",
    "target <- as.factor(pp$Mtbc)\n",
    "pp <- pp %>% select(-Mtbc)\n",
    "colnames(pp) <- compatibleNames(colnames(pp))"
   ]
  },
  {
   "cell_type": "code",
   "execution_count": 5,
   "metadata": {
    "ExecuteTime": {
     "end_time": "2021-11-22T16:20:34.556319Z",
     "start_time": "2021-11-22T16:20:30.389Z"
    }
   },
   "outputs": [],
   "source": [
    "tax_names <- qread('../data/taxa_table.qs')\n",
    "tax_names <- mutate_all(tax_names, compatibleNames )"
   ]
  },
  {
   "cell_type": "code",
   "execution_count": 6,
   "metadata": {
    "ExecuteTime": {
     "end_time": "2021-11-22T16:20:34.578979Z",
     "start_time": "2021-11-22T16:20:30.571Z"
    }
   },
   "outputs": [],
   "source": [
    "tax_names$f <- paste0('f_', tax_names$f)\n",
    "tax_names$g <- paste0('g_', tax_names$g)\n",
    "tax_names$s <- paste0('s_', tax_names$s)"
   ]
  },
  {
   "cell_type": "markdown",
   "metadata": {},
   "source": [
    "# Count number of taxa in pp from each order"
   ]
  },
  {
   "cell_type": "code",
   "execution_count": 7,
   "metadata": {
    "ExecuteTime": {
     "end_time": "2021-11-22T16:20:34.592701Z",
     "start_time": "2021-11-22T16:20:31.111Z"
    }
   },
   "outputs": [],
   "source": [
    "getOrder <- function(tax_names, feature){\n",
    "    tmp <- subset(tax_names, f == feature | g == feature | s == feature, select = o) %>% unique %>% unlist\n",
    "    if (length(tmp) == 0){\n",
    "        return(NA)\n",
    "    } else {return(tmp)}\n",
    "}"
   ]
  },
  {
   "cell_type": "code",
   "execution_count": 8,
   "metadata": {
    "ExecuteTime": {
     "end_time": "2021-11-22T16:20:35.985885Z",
     "start_time": "2021-11-22T16:20:31.322Z"
    }
   },
   "outputs": [],
   "source": [
    "tax_pp <- data.frame(Feature = str_subset(colnames(pp), pattern = '^[:lower:]{1}\\\\_'))\n",
    "tax_pp$order <- sapply(tax_pp$Feature, getOrder, tax_names = tax_names)"
   ]
  },
  {
   "cell_type": "code",
   "execution_count": 9,
   "metadata": {
    "ExecuteTime": {
     "end_time": "2021-11-22T16:20:36.027213Z",
     "start_time": "2021-11-22T16:20:31.743Z"
    }
   },
   "outputs": [
    {
     "data": {
      "text/html": [
       "<table class=\"dataframe\">\n",
       "<caption>A data.frame: 6 × 2</caption>\n",
       "<thead>\n",
       "\t<tr><th></th><th scope=col>order</th><th scope=col>n</th></tr>\n",
       "\t<tr><th></th><th scope=col>&lt;chr&gt;</th><th scope=col>&lt;int&gt;</th></tr>\n",
       "</thead>\n",
       "<tbody>\n",
       "\t<tr><th scope=row>1</th><td>Bacteroidales   </td><td>392</td></tr>\n",
       "\t<tr><th scope=row>2</th><td>Lachnospirales  </td><td>283</td></tr>\n",
       "\t<tr><th scope=row>3</th><td>Oscillospirales </td><td>272</td></tr>\n",
       "\t<tr><th scope=row>4</th><td>Enterobacterales</td><td>169</td></tr>\n",
       "\t<tr><th scope=row>5</th><td>Lactobacillales </td><td>126</td></tr>\n",
       "\t<tr><th scope=row>6</th><td>Actinomycetales </td><td> 79</td></tr>\n",
       "</tbody>\n",
       "</table>\n"
      ],
      "text/latex": [
       "A data.frame: 6 × 2\n",
       "\\begin{tabular}{r|ll}\n",
       "  & order & n\\\\\n",
       "  & <chr> & <int>\\\\\n",
       "\\hline\n",
       "\t1 & Bacteroidales    & 392\\\\\n",
       "\t2 & Lachnospirales   & 283\\\\\n",
       "\t3 & Oscillospirales  & 272\\\\\n",
       "\t4 & Enterobacterales & 169\\\\\n",
       "\t5 & Lactobacillales  & 126\\\\\n",
       "\t6 & Actinomycetales  &  79\\\\\n",
       "\\end{tabular}\n"
      ],
      "text/markdown": [
       "\n",
       "A data.frame: 6 × 2\n",
       "\n",
       "| <!--/--> | order &lt;chr&gt; | n &lt;int&gt; |\n",
       "|---|---|---|\n",
       "| 1 | Bacteroidales    | 392 |\n",
       "| 2 | Lachnospirales   | 283 |\n",
       "| 3 | Oscillospirales  | 272 |\n",
       "| 4 | Enterobacterales | 169 |\n",
       "| 5 | Lactobacillales  | 126 |\n",
       "| 6 | Actinomycetales  |  79 |\n",
       "\n"
      ],
      "text/plain": [
       "  order            n  \n",
       "1 Bacteroidales    392\n",
       "2 Lachnospirales   283\n",
       "3 Oscillospirales  272\n",
       "4 Enterobacterales 169\n",
       "5 Lactobacillales  126\n",
       "6 Actinomycetales   79"
      ]
     },
     "metadata": {},
     "output_type": "display_data"
    }
   ],
   "source": [
    "tax_pp %>% count(order) %>% arrange(-n) %>% \n",
    "head"
   ]
  },
  {
   "cell_type": "code",
   "execution_count": 10,
   "metadata": {
    "ExecuteTime": {
     "end_time": "2021-11-22T16:20:36.376143Z",
     "start_time": "2021-11-22T16:20:32.130Z"
    }
   },
   "outputs": [
    {
     "data": {
      "image/png": "[encoded data removed]",
      "text/plain": [
       "plot without title"
      ]
     },
     "metadata": {
      "image/png": {
       "height": 180,
       "width": 180
      }
     },
     "output_type": "display_data"
    }
   ],
   "source": [
    "options(repr.plot.width=3, repr.plot.height=3)\n",
    "ggplot(tax_pp %>% count(order), aes(n) )+\n",
    "geom_histogram(bins = 50)+\n",
    "theme_classic()"
   ]
  },
  {
   "cell_type": "markdown",
   "metadata": {},
   "source": [
    "# endor results"
   ]
  },
  {
   "cell_type": "code",
   "execution_count": 11,
   "metadata": {
    "ExecuteTime": {
     "end_time": "2021-11-22T16:20:46.438501Z",
     "start_time": "2021-11-22T16:20:33.735Z"
    }
   },
   "outputs": [
    {
     "name": "stdout",
     "output_type": "stream",
     "text": [
      "497.7927  rules per sub-sample selected. 24 decisions in >= 70 subsets.\n"
     ]
    }
   ],
   "source": [
    "endoR_boot <- qread('../tmp/endoR_boots.qs')\n",
    "endoR_boot <- stabilitySelection(rules = endoR_boot, alpha_error = 15, pi_thr = 0.7)"
   ]
  },
  {
   "cell_type": "code",
   "execution_count": 12,
   "metadata": {
    "ExecuteTime": {
     "end_time": "2021-11-22T16:20:46.453032Z",
     "start_time": "2021-11-22T16:20:33.945Z"
    }
   },
   "outputs": [],
   "source": [
    "decisions <- unlist(subset(endoR_boot$rules_summary, inN >= 70, select = condition))"
   ]
  },
  {
   "cell_type": "code",
   "execution_count": 13,
   "metadata": {
    "ExecuteTime": {
     "end_time": "2021-11-22T16:20:46.543995Z",
     "start_time": "2021-11-22T16:20:34.156Z"
    }
   },
   "outputs": [],
   "source": [
    "endor_features <- featureImportance(subset(endoR_boot$nodes_agg, condition %in% decisions))\n",
    "endor_features <- endor_features %>% left_join(tax_pp, by = 'Feature') %>% subset(!is.na(order))"
   ]
  },
  {
   "cell_type": "code",
   "execution_count": 14,
   "metadata": {
    "ExecuteTime": {
     "end_time": "2021-11-22T16:20:46.561658Z",
     "start_time": "2021-11-22T16:20:34.335Z"
    }
   },
   "outputs": [],
   "source": [
    "endor_order <- endor_features %>% count(order)"
   ]
  },
  {
   "cell_type": "markdown",
   "metadata": {},
   "source": [
    "# compare endoR to expected by random"
   ]
  },
  {
   "cell_type": "code",
   "execution_count": 15,
   "metadata": {
    "ExecuteTime": {
     "end_time": "2021-11-22T16:20:46.574722Z",
     "start_time": "2021-11-22T16:20:34.786Z"
    }
   },
   "outputs": [],
   "source": [
    "getRdm <- function(i, tax_pp, K){\n",
    "    set.seed(i)\n",
    "    res <- tax_pp[sample(1:nrow(tax_pp), size = K, replace = FALSE), ]\n",
    "    res <- count(res, order)\n",
    "    return(res)\n",
    "}"
   ]
  },
  {
   "cell_type": "code",
   "execution_count": 16,
   "metadata": {
    "ExecuteTime": {
     "end_time": "2021-11-22T16:20:46.587323Z",
     "start_time": "2021-11-22T16:20:36.164Z"
    }
   },
   "outputs": [],
   "source": [
    "getNullOne <- function(X, order_name){\n",
    "    res <- unlist(subset(X, order == order_name, select = n))\n",
    "    if (length(res) == 0){ res <- 0 }\n",
    "    return(res)\n",
    "}"
   ]
  },
  {
   "cell_type": "code",
   "execution_count": 17,
   "metadata": {
    "ExecuteTime": {
     "end_time": "2021-11-22T16:20:46.601081Z",
     "start_time": "2021-11-22T16:20:36.376Z"
    }
   },
   "outputs": [],
   "source": [
    "# adapted from the swfscMisc R-package written by Eric Archer\n",
    "# https://github.com/cran/swfscMisc/blob/master/R/pVal.R\n",
    "getPval <- function(order_name, obs, rdm){\n",
    "    null.dist <- unlist(lapply(rdm, getNullOne, order_name = order_name))\n",
    "    obs <- obs$n[obs$order == order_name]\n",
    "    (sum(null.dist >= obs)+1) / (length(null.dist)+1)\n",
    "}"
   ]
  },
  {
   "cell_type": "code",
   "execution_count": 18,
   "metadata": {
    "ExecuteTime": {
     "end_time": "2021-11-22T16:20:51.651263Z",
     "start_time": "2021-11-22T16:20:36.555Z"
    }
   },
   "outputs": [],
   "source": [
    "K <- length(endor_features$Feature)\n",
    "rdm <- lapply(1:1000, getRdm, tax_pp = tax_pp, K = K)"
   ]
  },
  {
   "cell_type": "code",
   "execution_count": 19,
   "metadata": {
    "ExecuteTime": {
     "end_time": "2021-11-22T16:21:00.288900Z",
     "start_time": "2021-11-22T16:21:00.119Z"
    }
   },
   "outputs": [],
   "source": [
    "endor_order <- endor_order %>% left_join(tax_pp %>% count(order), by = 'order', suffix = c('', '_total'))"
   ]
  },
  {
   "cell_type": "code",
   "execution_count": 20,
   "metadata": {
    "ExecuteTime": {
     "end_time": "2021-11-22T16:21:01.292539Z",
     "start_time": "2021-11-22T16:21:00.419Z"
    }
   },
   "outputs": [],
   "source": [
    "endor_order$pval <- sapply(endor_order$order, getPval, obs = endor_order, rdm = rdm)"
   ]
  },
  {
   "cell_type": "code",
   "execution_count": 21,
   "metadata": {
    "ExecuteTime": {
     "end_time": "2021-11-22T16:21:02.518247Z",
     "start_time": "2021-11-22T16:21:02.356Z"
    }
   },
   "outputs": [
    {
     "data": {
      "text/html": [
       "<table class=\"dataframe\">\n",
       "<caption>A data.table: 8 × 4</caption>\n",
       "<thead>\n",
       "\t<tr><th scope=col>order</th><th scope=col>n</th><th scope=col>n_total</th><th scope=col>pval</th></tr>\n",
       "\t<tr><th scope=col>&lt;chr&gt;</th><th scope=col>&lt;int&gt;</th><th scope=col>&lt;int&gt;</th><th scope=col>&lt;dbl&gt;</th></tr>\n",
       "</thead>\n",
       "<tbody>\n",
       "\t<tr><td>Christensenellales  </td><td>2</td><td> 38</td><td>0.040959041</td></tr>\n",
       "\t<tr><td>Clostridiales       </td><td>1</td><td> 25</td><td>0.188811189</td></tr>\n",
       "\t<tr><td>Coriobacteriales    </td><td>1</td><td> 79</td><td>0.488511489</td></tr>\n",
       "\t<tr><td>Erysipelotrichales  </td><td>1</td><td> 44</td><td>0.280719281</td></tr>\n",
       "\t<tr><td>Lachnospirales      </td><td>1</td><td>283</td><td>0.913086913</td></tr>\n",
       "\t<tr><td>Oscillospirales     </td><td>8</td><td>272</td><td>0.001998002</td></tr>\n",
       "\t<tr><td>Peptostreptococcales</td><td>2</td><td> 44</td><td>0.037962038</td></tr>\n",
       "\t<tr><td>TANB77              </td><td>2</td><td> 34</td><td>0.032967033</td></tr>\n",
       "</tbody>\n",
       "</table>\n"
      ],
      "text/latex": [
       "A data.table: 8 × 4\n",
       "\\begin{tabular}{llll}\n",
       " order & n & n\\_total & pval\\\\\n",
       " <chr> & <int> & <int> & <dbl>\\\\\n",
       "\\hline\n",
       "\t Christensenellales   & 2 &  38 & 0.040959041\\\\\n",
       "\t Clostridiales        & 1 &  25 & 0.188811189\\\\\n",
       "\t Coriobacteriales     & 1 &  79 & 0.488511489\\\\\n",
       "\t Erysipelotrichales   & 1 &  44 & 0.280719281\\\\\n",
       "\t Lachnospirales       & 1 & 283 & 0.913086913\\\\\n",
       "\t Oscillospirales      & 8 & 272 & 0.001998002\\\\\n",
       "\t Peptostreptococcales & 2 &  44 & 0.037962038\\\\\n",
       "\t TANB77               & 2 &  34 & 0.032967033\\\\\n",
       "\\end{tabular}\n"
      ],
      "text/markdown": [
       "\n",
       "A data.table: 8 × 4\n",
       "\n",
       "| order &lt;chr&gt; | n &lt;int&gt; | n_total &lt;int&gt; | pval &lt;dbl&gt; |\n",
       "|---|---|---|---|\n",
       "| Christensenellales   | 2 |  38 | 0.040959041 |\n",
       "| Clostridiales        | 1 |  25 | 0.188811189 |\n",
       "| Coriobacteriales     | 1 |  79 | 0.488511489 |\n",
       "| Erysipelotrichales   | 1 |  44 | 0.280719281 |\n",
       "| Lachnospirales       | 1 | 283 | 0.913086913 |\n",
       "| Oscillospirales      | 8 | 272 | 0.001998002 |\n",
       "| Peptostreptococcales | 2 |  44 | 0.037962038 |\n",
       "| TANB77               | 2 |  34 | 0.032967033 |\n",
       "\n"
      ],
      "text/plain": [
       "  order                n n_total pval       \n",
       "1 Christensenellales   2  38     0.040959041\n",
       "2 Clostridiales        1  25     0.188811189\n",
       "3 Coriobacteriales     1  79     0.488511489\n",
       "4 Erysipelotrichales   1  44     0.280719281\n",
       "5 Lachnospirales       1 283     0.913086913\n",
       "6 Oscillospirales      8 272     0.001998002\n",
       "7 Peptostreptococcales 2  44     0.037962038\n",
       "8 TANB77               2  34     0.032967033"
      ]
     },
     "metadata": {},
     "output_type": "display_data"
    }
   ],
   "source": [
    "endor_order"
   ]
  },
  {
   "cell_type": "code",
   "execution_count": null,
   "metadata": {},
   "outputs": [],
   "source": []
  }
 ],
 "metadata": {
  "kernelspec": {
   "display_name": "R [conda env:Metagenomes_methanogen-r-ml] *",
   "language": "R",
   "name": "conda-env-Metagenomes_methanogen-r-ml-r"
  },
  "language_info": {
   "codemirror_mode": "r",
   "file_extension": ".r",
   "mimetype": "text/x-r-source",
   "name": "R",
   "pygments_lexer": "r",
   "version": "4.0.3"
  },
  "toc": {
   "base_numbering": 1,
   "nav_menu": {},
   "number_sections": true,
   "sideBar": true,
   "skip_h1_title": false,
   "title_cell": "Table of Contents",
   "title_sidebar": "Contents",
   "toc_cell": false,
   "toc_position": {
    "height": "calc(100% - 180px)",
    "left": "10px",
    "top": "150px",
    "width": "286px"
   },
   "toc_section_display": true,
   "toc_window_display": true
  }
 },
 "nbformat": 4,
 "nbformat_minor": 4
}
