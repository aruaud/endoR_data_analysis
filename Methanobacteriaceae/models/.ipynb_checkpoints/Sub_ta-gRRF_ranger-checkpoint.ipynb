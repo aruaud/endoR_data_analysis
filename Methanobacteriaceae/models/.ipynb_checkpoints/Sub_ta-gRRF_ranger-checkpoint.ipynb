{
 "cells": [
  {
   "cell_type": "markdown",
   "metadata": {},
   "source": [
    "# Preambule"
   ]
  },
  {
   "cell_type": "code",
   "execution_count": 1,
   "metadata": {
    "ExecuteTime": {
     "end_time": "2021-11-22T14:58:54.590245Z",
     "start_time": "2021-11-22T14:58:50.959Z"
    },
    "scrolled": true
   },
   "outputs": [
    {
     "name": "stderr",
     "output_type": "stream",
     "text": [
      "── \u001b[1mAttaching packages\u001b[22m ────────────────────────────────────────────────────────────────────────────────────────────────────────────────────────────────────── tidyverse 1.3.0 ──\n",
      "\n",
      "\u001b[32m✔\u001b[39m \u001b[34mggplot2\u001b[39m 3.3.2     \u001b[32m✔\u001b[39m \u001b[34mpurrr  \u001b[39m 0.3.4\n",
      "\u001b[32m✔\u001b[39m \u001b[34mtibble \u001b[39m 3.0.4     \u001b[32m✔\u001b[39m \u001b[34mdplyr  \u001b[39m 1.0.2\n",
      "\u001b[32m✔\u001b[39m \u001b[34mtidyr  \u001b[39m 1.1.2     \u001b[32m✔\u001b[39m \u001b[34mstringr\u001b[39m 1.4.0\n",
      "\u001b[32m✔\u001b[39m \u001b[34mreadr  \u001b[39m 1.4.0     \u001b[32m✔\u001b[39m \u001b[34mforcats\u001b[39m 0.5.0\n",
      "\n",
      "── \u001b[1mConflicts\u001b[22m ───────────────────────────────────────────────────────────────────────────────────────────────────────────────────────────────────────── tidyverse_conflicts() ──\n",
      "\u001b[31m✖\u001b[39m \u001b[34mdplyr\u001b[39m::\u001b[32mfilter()\u001b[39m masks \u001b[34mstats\u001b[39m::filter()\n",
      "\u001b[31m✖\u001b[39m \u001b[34mdplyr\u001b[39m::\u001b[32mlag()\u001b[39m    masks \u001b[34mstats\u001b[39m::lag()\n",
      "\n",
      "Loading required package: lattice\n",
      "\n",
      "\n",
      "Attaching package: ‘caret’\n",
      "\n",
      "\n",
      "The following object is masked from ‘package:purrr’:\n",
      "\n",
      "    lift\n",
      "\n",
      "\n",
      "qs v0.23.4.\n",
      "\n",
      "\n",
      "Attaching package: ‘data.table’\n",
      "\n",
      "\n",
      "The following objects are masked from ‘package:dplyr’:\n",
      "\n",
      "    between, first, last\n",
      "\n",
      "\n",
      "The following object is masked from ‘package:purrr’:\n",
      "\n",
      "    transpose\n",
      "\n",
      "\n"
     ]
    }
   ],
   "source": [
    "library(tidyverse)\n",
    "library(stringr)\n",
    "library(caret)\n",
    "library(dplyr)\n",
    "library('qs')\n",
    "library(data.table)"
   ]
  },
  {
   "cell_type": "code",
   "execution_count": 2,
   "metadata": {
    "ExecuteTime": {
     "end_time": "2021-11-22T14:58:54.740568Z",
     "start_time": "2021-11-22T14:58:50.963Z"
    }
   },
   "outputs": [],
   "source": [
    "library(clustermq)\n",
    "options(clustermq.scheduler = \"sge\", clustermq.template = \"~/.clustermq.tmpl\")"
   ]
  },
  {
   "cell_type": "code",
   "execution_count": 3,
   "metadata": {
    "ExecuteTime": {
     "end_time": "2021-11-22T14:58:54.790513Z",
     "start_time": "2021-11-22T14:58:50.966Z"
    }
   },
   "outputs": [
    {
     "data": {
      "text/plain": [
       "R version 4.0.3 (2020-10-10)\n",
       "Platform: x86_64-conda-linux-gnu (64-bit)\n",
       "Running under: Ubuntu 18.04.6 LTS\n",
       "\n",
       "Matrix products: default\n",
       "BLAS/LAPACK: /ebio/abt3_projects/Methanogen_SCFA/Metagenomes_methanogen/envs/r-ml/lib/libopenblasp-r0.3.10.so\n",
       "\n",
       "locale:\n",
       " [1] LC_CTYPE=en_US.UTF-8       LC_NUMERIC=C              \n",
       " [3] LC_TIME=en_US.UTF-8        LC_COLLATE=en_US.UTF-8    \n",
       " [5] LC_MONETARY=en_US.UTF-8    LC_MESSAGES=en_US.UTF-8   \n",
       " [7] LC_PAPER=en_US.UTF-8       LC_NAME=C                 \n",
       " [9] LC_ADDRESS=C               LC_TELEPHONE=C            \n",
       "[11] LC_MEASUREMENT=en_US.UTF-8 LC_IDENTIFICATION=C       \n",
       "\n",
       "attached base packages:\n",
       "[1] stats     graphics  grDevices utils     datasets  methods   base     \n",
       "\n",
       "other attached packages:\n",
       " [1] clustermq_0.8.95.1 data.table_1.13.4  qs_0.23.4          caret_6.0-86      \n",
       " [5] lattice_0.20-41    forcats_0.5.0      stringr_1.4.0      dplyr_1.0.2       \n",
       " [9] purrr_0.3.4        readr_1.4.0        tidyr_1.1.2        tibble_3.0.4      \n",
       "[13] ggplot2_3.3.2      tidyverse_1.3.0   \n",
       "\n",
       "loaded via a namespace (and not attached):\n",
       " [1] httr_1.4.2           jsonlite_1.7.2       splines_4.0.3       \n",
       " [4] foreach_1.5.1        prodlim_2019.11.13   modelr_0.1.8        \n",
       " [7] RcppParallel_5.0.2   assertthat_0.2.1     stats4_4.0.3        \n",
       "[10] cellranger_1.1.0     ipred_0.9-9          pillar_1.4.7        \n",
       "[13] backports_1.2.0      glue_1.4.2           pROC_1.16.2         \n",
       "[16] uuid_0.1-4           digest_0.6.27        rvest_0.3.6         \n",
       "[19] stringfish_0.14.2    colorspace_2.0-0     recipes_0.1.15      \n",
       "[22] htmltools_0.5.0      Matrix_1.2-18        plyr_1.8.6          \n",
       "[25] timeDate_3043.102    pkgconfig_2.0.3      broom_0.7.2         \n",
       "[28] haven_2.3.1          scales_1.1.1         gower_0.2.2         \n",
       "[31] RApiSerialize_0.1.0  lava_1.6.8.1         generics_0.1.0      \n",
       "[34] ellipsis_0.3.1       withr_2.3.0          repr_1.1.2.9000     \n",
       "[37] nnet_7.3-14          cli_2.2.0            survival_3.2-7      \n",
       "[40] magrittr_2.0.1       crayon_1.3.4         readxl_1.3.1        \n",
       "[43] evaluate_0.14        ps_1.5.0             fs_1.5.0            \n",
       "[46] fansi_0.4.1          nlme_3.1-150         MASS_7.3-53         \n",
       "[49] xml2_1.3.2           class_7.3-17         tools_4.0.3         \n",
       "[52] hms_0.5.3            lifecycle_0.2.0      munsell_0.5.0       \n",
       "[55] reprex_0.3.0         compiler_4.0.3       rlang_0.4.10        \n",
       "[58] grid_4.0.3           pbdZMQ_0.3-3.1       iterators_1.0.13    \n",
       "[61] IRkernel_1.1.1       rstudioapi_0.13      base64enc_0.1-3     \n",
       "[64] ModelMetrics_1.2.2.2 gtable_0.3.0         codetools_0.2-18    \n",
       "[67] DBI_1.1.0            reshape2_1.4.4       R6_2.5.0            \n",
       "[70] lubridate_1.7.9.2    stringi_1.5.3        IRdisplay_0.7.0     \n",
       "[73] Rcpp_1.0.5           vctrs_0.3.6          rpart_4.1-15        \n",
       "[76] dbplyr_2.0.0         tidyselect_1.1.0    "
      ]
     },
     "metadata": {},
     "output_type": "display_data"
    }
   ],
   "source": [
    "sessionInfo()"
   ]
  },
  {
   "cell_type": "markdown",
   "metadata": {},
   "source": [
    "# Functions"
   ]
  },
  {
   "cell_type": "code",
   "execution_count": 4,
   "metadata": {
    "ExecuteTime": {
     "end_time": "2021-11-22T14:58:54.823840Z",
     "start_time": "2021-11-22T14:58:50.968Z"
    }
   },
   "outputs": [],
   "source": [
    "file.sources <- list.files('../scripts/', pattern = '*.R', full.names=TRUE, ignore.case=TRUE)\n",
    "for (f in file.sources) {\n",
    "    source(f)\n",
    "}\n",
    "rm('file.sources', 'f')"
   ]
  },
  {
   "cell_type": "code",
   "execution_count": 5,
   "metadata": {
    "ExecuteTime": {
     "end_time": "2021-11-22T14:58:54.837209Z",
     "start_time": "2021-11-22T14:58:50.971Z"
    }
   },
   "outputs": [],
   "source": [
    "source('../../Common_scripts/get_taxa_lists.R')"
   ]
  },
  {
   "cell_type": "code",
   "execution_count": 6,
   "metadata": {
    "ExecuteTime": {
     "end_time": "2021-11-22T14:58:54.849993Z",
     "start_time": "2021-11-22T14:58:50.972Z"
    }
   },
   "outputs": [],
   "source": [
    "gammaTuning <- function(trainIx, data, meta, target, families, genera, species, params, num.trees=500){\n",
    "    res <- list()\n",
    "    res <- lapply(trainIx, tagRRFRanger_wcase, data=data, meta=meta, target=target\n",
    "                  , families = families, genera = genera, species = species\n",
    "                  , gamma=params[['gamma']], k = params[['k']], num.trees=num.trees)\n",
    "    names(res) <- rep(paste0(params['gamma'], '_', params['k']), length(res))\n",
    "    return(res)\n",
    "}"
   ]
  },
  {
   "cell_type": "markdown",
   "metadata": {},
   "source": [
    "# Data"
   ]
  },
  {
   "cell_type": "markdown",
   "metadata": {},
   "source": [
    "## data"
   ]
  },
  {
   "cell_type": "code",
   "execution_count": 7,
   "metadata": {
    "ExecuteTime": {
     "end_time": "2021-11-22T14:58:55.201868Z",
     "start_time": "2021-11-22T14:58:50.976Z"
    }
   },
   "outputs": [],
   "source": [
    "meta <- qread('../data/meta_pp.qs')\n",
    "tax <- qread('../data/taxa_nometh.qs') \n",
    "pth <- qread('../data/pathways_nometh.qs')\n",
    "targets <- qread('../data/targets_meth.qs')"
   ]
  },
  {
   "cell_type": "code",
   "execution_count": 8,
   "metadata": {
    "ExecuteTime": {
     "end_time": "2021-11-22T14:58:55.221679Z",
     "start_time": "2021-11-22T14:58:50.977Z"
    }
   },
   "outputs": [
    {
     "name": "stdout",
     "output_type": "stream",
     "text": [
      "Number of samples =  2203.. only complete cases for age, BMI, etc =  748"
     ]
    }
   ],
   "source": [
    "cat('Number of samples = ', nrow(meta))\n",
    "pp <- meta[ complete.cases(meta), ]\n",
    "cat('.. only complete cases for age, BMI, etc = ', nrow(pp))"
   ]
  },
  {
   "cell_type": "code",
   "execution_count": 9,
   "metadata": {
    "ExecuteTime": {
     "end_time": "2021-11-22T14:58:56.173817Z",
     "start_time": "2021-11-22T14:58:50.980Z"
    }
   },
   "outputs": [],
   "source": [
    "pp <- left_join(meta, tax, by = 'Sample') %>% left_join(pth, by = 'Sample') %>% \n",
    "            left_join(select(targets, Sample, Mtbc), by = 'Sample') \n",
    "target <- as.factor(pp$Mtbc)\n",
    "pp <- pp %>% select(-Sample, -Mtbc)"
   ]
  },
  {
   "cell_type": "code",
   "execution_count": 10,
   "metadata": {
    "ExecuteTime": {
     "end_time": "2021-11-22T14:58:56.191527Z",
     "start_time": "2021-11-22T14:58:50.982Z"
    }
   },
   "outputs": [
    {
     "data": {
      "text/html": [
       "<style>\n",
       ".list-inline {list-style: none; margin:0; padding: 0}\n",
       ".list-inline>li {display: inline-block}\n",
       ".list-inline>li:not(:last-child)::after {content: \"\\00b7\"; padding: 0 .5ex}\n",
       "</style>\n",
       "<ol class=list-inline><li>2203</li><li>2318</li></ol>\n"
      ],
      "text/latex": [
       "\\begin{enumerate*}\n",
       "\\item 2203\n",
       "\\item 2318\n",
       "\\end{enumerate*}\n"
      ],
      "text/markdown": [
       "1. 2203\n",
       "2. 2318\n",
       "\n",
       "\n"
      ],
      "text/plain": [
       "[1] 2203 2318"
      ]
     },
     "metadata": {},
     "output_type": "display_data"
    }
   ],
   "source": [
    "dim(pp)"
   ]
  },
  {
   "cell_type": "code",
   "execution_count": 11,
   "metadata": {
    "ExecuteTime": {
     "end_time": "2021-11-22T14:58:56.235434Z",
     "start_time": "2021-11-22T14:58:50.984Z"
    }
   },
   "outputs": [],
   "source": [
    "set.seed(0)\n",
    "trainIx <- createDataPartition(y = target, times = 10, p = .7, list = TRUE)"
   ]
  },
  {
   "cell_type": "code",
   "execution_count": 12,
   "metadata": {
    "ExecuteTime": {
     "end_time": "2021-11-22T14:58:56.252206Z",
     "start_time": "2021-11-22T14:58:50.986Z"
    }
   },
   "outputs": [],
   "source": [
    "meta_names <- c(str_subset(colnames(pp), pattern = 'dataset'), 'number_reads')"
   ]
  },
  {
   "cell_type": "markdown",
   "metadata": {},
   "source": [
    "## get taxa lists for FS"
   ]
  },
  {
   "cell_type": "code",
   "execution_count": 13,
   "metadata": {
    "ExecuteTime": {
     "end_time": "2021-11-22T14:58:57.132145Z",
     "start_time": "2021-11-22T14:58:50.989Z"
    }
   },
   "outputs": [
    {
     "name": "stderr",
     "output_type": "stream",
     "text": [
      "Warning message:\n",
      "“replacing previous import ‘data.table::last’ by ‘dplyr::last’ when loading ‘endoR’”\n",
      "Warning message:\n",
      "“replacing previous import ‘data.table::first’ by ‘dplyr::first’ when loading ‘endoR’”\n",
      "Warning message:\n",
      "“replacing previous import ‘data.table::between’ by ‘dplyr::between’ when loading ‘endoR’”\n",
      "Warning message:\n",
      "“replacing previous import ‘dplyr::union’ by ‘igraph::union’ when loading ‘endoR’”\n",
      "Warning message:\n",
      "“replacing previous import ‘dplyr::as_data_frame’ by ‘igraph::as_data_frame’ when loading ‘endoR’”\n",
      "Warning message:\n",
      "“replacing previous import ‘dplyr::groups’ by ‘igraph::groups’ when loading ‘endoR’”\n"
     ]
    }
   ],
   "source": [
    "tax_names <- qread('../data/taxa_table.qs')\n",
    "tax_names <- mutate_all(tax_names, endoR::compatibleNames )"
   ]
  },
  {
   "cell_type": "code",
   "execution_count": 14,
   "metadata": {
    "ExecuteTime": {
     "end_time": "2021-11-22T14:58:57.152556Z",
     "start_time": "2021-11-22T14:58:50.991Z"
    }
   },
   "outputs": [],
   "source": [
    "tax_names$f <- paste0('f_', tax_names$f)\n",
    "tax_names$g <- paste0('g_', tax_names$g)\n",
    "tax_names$s <- paste0('s_', tax_names$s)"
   ]
  },
  {
   "cell_type": "code",
   "execution_count": 15,
   "metadata": {
    "ExecuteTime": {
     "end_time": "2021-11-22T14:58:59.534506Z",
     "start_time": "2021-11-22T14:58:50.993Z"
    }
   },
   "outputs": [],
   "source": [
    "families <- lapply(unique(tax_names$f), getFamilies, tax_names = tax_names)\n",
    "names(families) <- unique(tax_names$f)\n",
    "genera <- lapply(unique(tax_names$g), getGenera, tax_names = tax_names)\n",
    "names(genera) <- unique(tax_names$g)\n",
    "species <- lapply(unique(tax_names$s), getSpecies, tax_names = tax_names)\n",
    "names(species) <- unique(tax_names$s)"
   ]
  },
  {
   "cell_type": "markdown",
   "metadata": {},
   "source": [
    "# CV"
   ]
  },
  {
   "cell_type": "code",
   "execution_count": 16,
   "metadata": {
    "ExecuteTime": {
     "end_time": "2021-11-22T14:58:59.549110Z",
     "start_time": "2021-11-22T14:58:50.995Z"
    }
   },
   "outputs": [],
   "source": [
    "gammas <- seq(0,1, by = 0.1)\n",
    "ks <- seq(0,1,0.1)"
   ]
  },
  {
   "cell_type": "code",
   "execution_count": 17,
   "metadata": {
    "ExecuteTime": {
     "end_time": "2021-11-22T14:58:59.567989Z",
     "start_time": "2021-11-22T14:58:50.998Z"
    }
   },
   "outputs": [],
   "source": [
    "params<-as.list(data.frame(t(expand.grid(gammas, ks))))\n",
    "params <- params %>% lapply(function(x){names(x)<-c('gamma', 'k');return(x)})\n",
    "names(params) <- params %>% sapply(paste, collapse = '_')"
   ]
  },
  {
   "cell_type": "code",
   "execution_count": 18,
   "metadata": {
    "ExecuteTime": {
     "end_time": "2021-11-22T14:58:59.580379Z",
     "start_time": "2021-11-22T14:58:51.000Z"
    }
   },
   "outputs": [],
   "source": [
    "tmpl <- list(conda = \"r-ml\", cores = 10, job_time = '2:00:00', job_mem = '5G')"
   ]
  },
  {
   "cell_type": "code",
   "execution_count": 19,
   "metadata": {
    "ExecuteTime": {
     "end_time": "2021-11-22T14:58:59.591864Z",
     "start_time": "2021-11-22T14:58:51.002Z"
    },
    "scrolled": true
   },
   "outputs": [],
   "source": [
    "# res <- Q(gammaTuning\n",
    "#  , params = params\n",
    "#  , const = list('data'= pp, 'meta' = meta_names, 'target' = target, 'trainIx' = trainIx\n",
    "#                 , 'families' = families,'genera' = genera, 'species' = species)\n",
    "#  , export = list('tagRRFRanger_wcase' = tagRRFRanger_wcase)\n",
    "#  , n_jobs= length(params)\n",
    "#  , pkgs=c('caret', 'ranger', 'dplyr', 'RRF')\n",
    "#  , log_worker=FALSE\n",
    "#  , template = tmpl\n",
    "# )"
   ]
  },
  {
   "cell_type": "code",
   "execution_count": 20,
   "metadata": {
    "ExecuteTime": {
     "end_time": "2021-11-22T14:58:59.602980Z",
     "start_time": "2021-11-22T14:58:51.004Z"
    }
   },
   "outputs": [],
   "source": [
    "#qsave(res, '../tmp/Sub_ta-gRRF_range.qs')"
   ]
  },
  {
   "cell_type": "code",
   "execution_count": 22,
   "metadata": {
    "ExecuteTime": {
     "end_time": "2021-11-22T15:00:07.525708Z",
     "start_time": "2021-11-22T14:59:54.041Z"
    }
   },
   "outputs": [],
   "source": [
    "res <- qread('../tmp/Sub_ta-gRRF_range.qs')"
   ]
  },
  {
   "cell_type": "markdown",
   "metadata": {},
   "source": [
    "# check"
   ]
  },
  {
   "cell_type": "code",
   "execution_count": 23,
   "metadata": {
    "ExecuteTime": {
     "end_time": "2021-11-22T15:00:07.588354Z",
     "start_time": "2021-11-22T14:59:58.118Z"
    }
   },
   "outputs": [],
   "source": [
    "all <- list()\n",
    "for (i in 1:length(res)){\n",
    "    all[[i]] <- as.data.frame(do.call(rbind, lapply(res[[i]], function(x) x$rf_performance)))\n",
    "    all[[i]]$nconf <- sapply(res[[i]], function(x)length(x$confirmed))\n",
    "    all[[i]]$gamma <- params[[i]]['gamma'] \n",
    "    all[[i]]$k <- params[[i]]['k']        \n",
    "}"
   ]
  },
  {
   "cell_type": "code",
   "execution_count": 24,
   "metadata": {
    "ExecuteTime": {
     "end_time": "2021-11-22T15:00:07.618761Z",
     "start_time": "2021-11-22T14:59:58.315Z"
    }
   },
   "outputs": [],
   "source": [
    "all <- do.call(rbind, all)"
   ]
  },
  {
   "cell_type": "code",
   "execution_count": 25,
   "metadata": {
    "ExecuteTime": {
     "end_time": "2021-11-22T15:00:07.675589Z",
     "start_time": "2021-11-22T14:59:58.493Z"
    }
   },
   "outputs": [
    {
     "data": {
      "text/html": [
       "<table class=\"dataframe\">\n",
       "<caption>A grouped_df: 3 × 5</caption>\n",
       "<thead>\n",
       "\t<tr><th scope=col>Accuracy</th><th scope=col>Kappa</th><th scope=col>k</th><th scope=col>gamma</th><th scope=col>nconf</th></tr>\n",
       "\t<tr><th scope=col>&lt;dbl&gt;</th><th scope=col>&lt;dbl&gt;</th><th scope=col>&lt;dbl&gt;</th><th scope=col>&lt;dbl&gt;</th><th scope=col>&lt;dbl&gt;</th></tr>\n",
       "</thead>\n",
       "<tbody>\n",
       "\t<tr><td>0.8013393</td><td>0.5514460</td><td>0.8</td><td>0.2</td><td> 99.7</td></tr>\n",
       "\t<tr><td>0.7982143</td><td>0.5422721</td><td>0.8</td><td>0.1</td><td>156.9</td></tr>\n",
       "\t<tr><td>0.7973214</td><td>0.5394769</td><td>0.1</td><td>0.1</td><td>121.1</td></tr>\n",
       "</tbody>\n",
       "</table>\n"
      ],
      "text/latex": [
       "A grouped\\_df: 3 × 5\n",
       "\\begin{tabular}{lllll}\n",
       " Accuracy & Kappa & k & gamma & nconf\\\\\n",
       " <dbl> & <dbl> & <dbl> & <dbl> & <dbl>\\\\\n",
       "\\hline\n",
       "\t 0.8013393 & 0.5514460 & 0.8 & 0.2 &  99.7\\\\\n",
       "\t 0.7982143 & 0.5422721 & 0.8 & 0.1 & 156.9\\\\\n",
       "\t 0.7973214 & 0.5394769 & 0.1 & 0.1 & 121.1\\\\\n",
       "\\end{tabular}\n"
      ],
      "text/markdown": [
       "\n",
       "A grouped_df: 3 × 5\n",
       "\n",
       "| Accuracy &lt;dbl&gt; | Kappa &lt;dbl&gt; | k &lt;dbl&gt; | gamma &lt;dbl&gt; | nconf &lt;dbl&gt; |\n",
       "|---|---|---|---|---|\n",
       "| 0.8013393 | 0.5514460 | 0.8 | 0.2 |  99.7 |\n",
       "| 0.7982143 | 0.5422721 | 0.8 | 0.1 | 156.9 |\n",
       "| 0.7973214 | 0.5394769 | 0.1 | 0.1 | 121.1 |\n",
       "\n"
      ],
      "text/plain": [
       "  Accuracy  Kappa     k   gamma nconf\n",
       "1 0.8013393 0.5514460 0.8 0.2    99.7\n",
       "2 0.7982143 0.5422721 0.8 0.1   156.9\n",
       "3 0.7973214 0.5394769 0.1 0.1   121.1"
      ]
     },
     "metadata": {},
     "output_type": "display_data"
    }
   ],
   "source": [
    "all %>% group_by(gamma, k) %>%\n",
    "summarise_all(mean) %>%\n",
    "arrange(-Kappa) %>% \n",
    "head(3)%>% \n",
    "select(Accuracy, Kappa, k, gamma, nconf)"
   ]
  },
  {
   "cell_type": "code",
   "execution_count": 26,
   "metadata": {
    "ExecuteTime": {
     "end_time": "2021-11-22T15:00:07.734267Z",
     "start_time": "2021-11-22T14:59:58.688Z"
    }
   },
   "outputs": [
    {
     "data": {
      "text/html": [
       "<table class=\"dataframe\">\n",
       "<caption>A grouped_df: 1 × 5</caption>\n",
       "<thead>\n",
       "\t<tr><th scope=col>Accuracy</th><th scope=col>Kappa</th><th scope=col>k</th><th scope=col>gamma</th><th scope=col>nconf</th></tr>\n",
       "\t<tr><th scope=col>&lt;dbl&gt;</th><th scope=col>&lt;dbl&gt;</th><th scope=col>&lt;dbl&gt;</th><th scope=col>&lt;dbl&gt;</th><th scope=col>&lt;dbl&gt;</th></tr>\n",
       "</thead>\n",
       "<tbody>\n",
       "\t<tr><td>0.02879762</td><td>0.06425079</td><td>0.8</td><td>0.2</td><td>4.595892</td></tr>\n",
       "</tbody>\n",
       "</table>\n"
      ],
      "text/latex": [
       "A grouped\\_df: 1 × 5\n",
       "\\begin{tabular}{lllll}\n",
       " Accuracy & Kappa & k & gamma & nconf\\\\\n",
       " <dbl> & <dbl> & <dbl> & <dbl> & <dbl>\\\\\n",
       "\\hline\n",
       "\t 0.02879762 & 0.06425079 & 0.8 & 0.2 & 4.595892\\\\\n",
       "\\end{tabular}\n"
      ],
      "text/markdown": [
       "\n",
       "A grouped_df: 1 × 5\n",
       "\n",
       "| Accuracy &lt;dbl&gt; | Kappa &lt;dbl&gt; | k &lt;dbl&gt; | gamma &lt;dbl&gt; | nconf &lt;dbl&gt; |\n",
       "|---|---|---|---|---|\n",
       "| 0.02879762 | 0.06425079 | 0.8 | 0.2 | 4.595892 |\n",
       "\n"
      ],
      "text/plain": [
       "  Accuracy   Kappa      k   gamma nconf   \n",
       "1 0.02879762 0.06425079 0.8 0.2   4.595892"
      ]
     },
     "metadata": {},
     "output_type": "display_data"
    }
   ],
   "source": [
    "all %>% group_by(gamma, k) %>%\n",
    "summarise_all(sd) %>%\n",
    "subset(k == 0.8 & gamma == 0.2) %>% \n",
    "head(3) %>% \n",
    "select(Accuracy, Kappa, k, gamma, nconf)"
   ]
  },
  {
   "cell_type": "markdown",
   "metadata": {},
   "source": [
    "# BMI and age selected?"
   ]
  },
  {
   "cell_type": "code",
   "execution_count": 27,
   "metadata": {
    "ExecuteTime": {
     "end_time": "2021-11-22T15:00:07.753660Z",
     "start_time": "2021-11-22T14:59:59.321Z"
    }
   },
   "outputs": [
    {
     "data": {
      "text/html": [
       "27"
      ],
      "text/latex": [
       "27"
      ],
      "text/markdown": [
       "27"
      ],
      "text/plain": [
       "[1] 27"
      ]
     },
     "metadata": {},
     "output_type": "display_data"
    }
   ],
   "source": [
    "length(meta_names)"
   ]
  },
  {
   "cell_type": "code",
   "execution_count": 28,
   "metadata": {
    "ExecuteTime": {
     "end_time": "2021-11-22T15:00:07.840101Z",
     "start_time": "2021-11-22T15:00:00.668Z"
    }
   },
   "outputs": [],
   "source": [
    "meta_c <- list()\n",
    "for (i in 1:length(res)){\n",
    "    bmi_c <- sapply(res[[i]], function(x) sum(x$confirmed[-c(1:length(meta_names))] == 'BMI') )\n",
    "    age_c <- sapply(res[[i]], function(x) sum(x$confirmed[-c(1:length(meta_names))] == 'age') )\n",
    "    gen_c <- sapply(res[[i]], function(x) sum(x$confirmed[-c(1:length(meta_names))] == 'genderfemale') ) \n",
    "    meta_c[[i]] <- c('bmi' = mean(bmi_c), 'age' = mean(age_c), 'gender' = mean(gen_c)\n",
    "                     , 'k' = params[[i]]['k'] , 'gamma' = params[[i]]['gamma'] )\n",
    "}"
   ]
  },
  {
   "cell_type": "code",
   "execution_count": 29,
   "metadata": {
    "ExecuteTime": {
     "end_time": "2021-11-22T15:00:07.858399Z",
     "start_time": "2021-11-22T15:00:00.880Z"
    }
   },
   "outputs": [],
   "source": [
    "meta_c <- as.data.frame(do.call(rbind, meta_c))\n",
    "colnames(meta_c)[4:5] <- c('k', 'gamma')"
   ]
  },
  {
   "cell_type": "code",
   "execution_count": 30,
   "metadata": {
    "ExecuteTime": {
     "end_time": "2021-11-22T15:00:07.892845Z",
     "start_time": "2021-11-22T15:00:01.045Z"
    }
   },
   "outputs": [
    {
     "data": {
      "text/html": [
       "<table class=\"dataframe\">\n",
       "<caption>A data.frame: 1 × 5</caption>\n",
       "<thead>\n",
       "\t<tr><th></th><th scope=col>bmi</th><th scope=col>age</th><th scope=col>gender</th><th scope=col>k</th><th scope=col>gamma</th></tr>\n",
       "\t<tr><th></th><th scope=col>&lt;dbl&gt;</th><th scope=col>&lt;dbl&gt;</th><th scope=col>&lt;dbl&gt;</th><th scope=col>&lt;dbl&gt;</th><th scope=col>&lt;dbl&gt;</th></tr>\n",
       "</thead>\n",
       "<tbody>\n",
       "\t<tr><th scope=row>91</th><td>0</td><td>0</td><td>0</td><td>0.8</td><td>0.2</td></tr>\n",
       "</tbody>\n",
       "</table>\n"
      ],
      "text/latex": [
       "A data.frame: 1 × 5\n",
       "\\begin{tabular}{r|lllll}\n",
       "  & bmi & age & gender & k & gamma\\\\\n",
       "  & <dbl> & <dbl> & <dbl> & <dbl> & <dbl>\\\\\n",
       "\\hline\n",
       "\t91 & 0 & 0 & 0 & 0.8 & 0.2\\\\\n",
       "\\end{tabular}\n"
      ],
      "text/markdown": [
       "\n",
       "A data.frame: 1 × 5\n",
       "\n",
       "| <!--/--> | bmi &lt;dbl&gt; | age &lt;dbl&gt; | gender &lt;dbl&gt; | k &lt;dbl&gt; | gamma &lt;dbl&gt; |\n",
       "|---|---|---|---|---|---|\n",
       "| 91 | 0 | 0 | 0 | 0.8 | 0.2 |\n",
       "\n"
      ],
      "text/plain": [
       "   bmi age gender k   gamma\n",
       "91 0   0   0      0.8 0.2  "
      ]
     },
     "metadata": {},
     "output_type": "display_data"
    },
    {
     "data": {
      "text/plain": [
       "      bmi         age        gender        k           gamma    \n",
       " Min.   :0   Min.   :0   Min.   :0   Min.   :0.0   Min.   :0.0  \n",
       " 1st Qu.:0   1st Qu.:0   1st Qu.:0   1st Qu.:0.2   1st Qu.:0.2  \n",
       " Median :0   Median :0   Median :0   Median :0.5   Median :0.5  \n",
       " Mean   :0   Mean   :0   Mean   :0   Mean   :0.5   Mean   :0.5  \n",
       " 3rd Qu.:0   3rd Qu.:0   3rd Qu.:0   3rd Qu.:0.8   3rd Qu.:0.8  \n",
       " Max.   :0   Max.   :0   Max.   :0   Max.   :1.0   Max.   :1.0  "
      ]
     },
     "metadata": {},
     "output_type": "display_data"
    }
   ],
   "source": [
    "meta_c %>% subset(k == 0.8 & gamma == 0.2)\n",
    "meta_c %>% summary"
   ]
  },
  {
   "cell_type": "code",
   "execution_count": null,
   "metadata": {},
   "outputs": [],
   "source": []
  }
 ],
 "metadata": {
  "kernelspec": {
   "display_name": "R [conda env:Metagenomes_methanogen-r-ml] *",
   "language": "R",
   "name": "conda-env-Metagenomes_methanogen-r-ml-r"
  },
  "language_info": {
   "codemirror_mode": "r",
   "file_extension": ".r",
   "mimetype": "text/x-r-source",
   "name": "R",
   "pygments_lexer": "r",
   "version": "4.0.3"
  },
  "toc": {
   "base_numbering": 1,
   "nav_menu": {},
   "number_sections": true,
   "sideBar": true,
   "skip_h1_title": false,
   "title_cell": "Table of Contents",
   "title_sidebar": "Contents",
   "toc_cell": false,
   "toc_position": {
    "height": "calc(100% - 180px)",
    "left": "10px",
    "top": "150px",
    "width": "384px"
   },
   "toc_section_display": true,
   "toc_window_display": true
  }
 },
 "nbformat": 4,
 "nbformat_minor": 4
}
