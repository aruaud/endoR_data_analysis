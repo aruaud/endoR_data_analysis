{
 "cells": [
  {
   "cell_type": "markdown",
   "metadata": {},
   "source": [
    "# Preambule"
   ]
  },
  {
   "cell_type": "code",
   "execution_count": 1,
   "metadata": {
    "ExecuteTime": {
     "end_time": "2021-11-22T14:51:37.127986Z",
     "start_time": "2021-11-22T14:51:33.971Z"
    },
    "scrolled": true
   },
   "outputs": [
    {
     "name": "stderr",
     "output_type": "stream",
     "text": [
      "── \u001b[1mAttaching packages\u001b[22m ────────────────────────────────────────────────────────────────────────────────────────────────────────────────────────────────────── tidyverse 1.3.0 ──\n",
      "\n",
      "\u001b[32m✔\u001b[39m \u001b[34mggplot2\u001b[39m 3.3.2     \u001b[32m✔\u001b[39m \u001b[34mpurrr  \u001b[39m 0.3.4\n",
      "\u001b[32m✔\u001b[39m \u001b[34mtibble \u001b[39m 3.0.4     \u001b[32m✔\u001b[39m \u001b[34mdplyr  \u001b[39m 1.0.2\n",
      "\u001b[32m✔\u001b[39m \u001b[34mtidyr  \u001b[39m 1.1.2     \u001b[32m✔\u001b[39m \u001b[34mstringr\u001b[39m 1.4.0\n",
      "\u001b[32m✔\u001b[39m \u001b[34mreadr  \u001b[39m 1.4.0     \u001b[32m✔\u001b[39m \u001b[34mforcats\u001b[39m 0.5.0\n",
      "\n",
      "── \u001b[1mConflicts\u001b[22m ───────────────────────────────────────────────────────────────────────────────────────────────────────────────────────────────────────── tidyverse_conflicts() ──\n",
      "\u001b[31m✖\u001b[39m \u001b[34mdplyr\u001b[39m::\u001b[32mfilter()\u001b[39m masks \u001b[34mstats\u001b[39m::filter()\n",
      "\u001b[31m✖\u001b[39m \u001b[34mdplyr\u001b[39m::\u001b[32mlag()\u001b[39m    masks \u001b[34mstats\u001b[39m::lag()\n",
      "\n",
      "Loading required package: lattice\n",
      "\n",
      "\n",
      "Attaching package: ‘caret’\n",
      "\n",
      "\n",
      "The following object is masked from ‘package:purrr’:\n",
      "\n",
      "    lift\n",
      "\n",
      "\n",
      "qs v0.23.4.\n",
      "\n",
      "\n",
      "Attaching package: ‘data.table’\n",
      "\n",
      "\n",
      "The following objects are masked from ‘package:dplyr’:\n",
      "\n",
      "    between, first, last\n",
      "\n",
      "\n",
      "The following object is masked from ‘package:purrr’:\n",
      "\n",
      "    transpose\n",
      "\n",
      "\n"
     ]
    }
   ],
   "source": [
    "library(tidyverse)\n",
    "library(stringr)\n",
    "library(caret)\n",
    "library(dplyr)\n",
    "library('qs')\n",
    "library(ranger)\n",
    "library(parallel)\n",
    "library(data.table)"
   ]
  },
  {
   "cell_type": "code",
   "execution_count": 2,
   "metadata": {
    "ExecuteTime": {
     "end_time": "2021-11-22T14:51:37.266301Z",
     "start_time": "2021-11-22T14:51:34.182Z"
    }
   },
   "outputs": [],
   "source": [
    "library(clustermq)\n",
    "options(clustermq.scheduler = \"sge\", clustermq.template = \"~/.clustermq.tmpl\")"
   ]
  },
  {
   "cell_type": "code",
   "execution_count": 3,
   "metadata": {
    "ExecuteTime": {
     "end_time": "2021-11-22T14:51:37.327484Z",
     "start_time": "2021-11-22T14:51:34.346Z"
    }
   },
   "outputs": [
    {
     "data": {
      "text/plain": [
       "R version 4.0.3 (2020-10-10)\n",
       "Platform: x86_64-conda-linux-gnu (64-bit)\n",
       "Running under: Ubuntu 18.04.6 LTS\n",
       "\n",
       "Matrix products: default\n",
       "BLAS/LAPACK: /ebio/abt3_projects/Methanogen_SCFA/Metagenomes_methanogen/envs/r-ml/lib/libopenblasp-r0.3.10.so\n",
       "\n",
       "locale:\n",
       " [1] LC_CTYPE=en_US.UTF-8       LC_NUMERIC=C              \n",
       " [3] LC_TIME=en_US.UTF-8        LC_COLLATE=en_US.UTF-8    \n",
       " [5] LC_MONETARY=en_US.UTF-8    LC_MESSAGES=en_US.UTF-8   \n",
       " [7] LC_PAPER=en_US.UTF-8       LC_NAME=C                 \n",
       " [9] LC_ADDRESS=C               LC_TELEPHONE=C            \n",
       "[11] LC_MEASUREMENT=en_US.UTF-8 LC_IDENTIFICATION=C       \n",
       "\n",
       "attached base packages:\n",
       "[1] parallel  stats     graphics  grDevices utils     datasets  methods  \n",
       "[8] base     \n",
       "\n",
       "other attached packages:\n",
       " [1] clustermq_0.8.95.1 data.table_1.13.4  ranger_0.12.1      qs_0.23.4         \n",
       " [5] caret_6.0-86       lattice_0.20-41    forcats_0.5.0      stringr_1.4.0     \n",
       " [9] dplyr_1.0.2        purrr_0.3.4        readr_1.4.0        tidyr_1.1.2       \n",
       "[13] tibble_3.0.4       ggplot2_3.3.2      tidyverse_1.3.0   \n",
       "\n",
       "loaded via a namespace (and not attached):\n",
       " [1] httr_1.4.2           jsonlite_1.7.2       splines_4.0.3       \n",
       " [4] foreach_1.5.1        prodlim_2019.11.13   modelr_0.1.8        \n",
       " [7] RcppParallel_5.0.2   assertthat_0.2.1     stats4_4.0.3        \n",
       "[10] cellranger_1.1.0     ipred_0.9-9          pillar_1.4.7        \n",
       "[13] backports_1.2.0      glue_1.4.2           pROC_1.16.2         \n",
       "[16] uuid_0.1-4           digest_0.6.27        rvest_0.3.6         \n",
       "[19] stringfish_0.14.2    colorspace_2.0-0     recipes_0.1.15      \n",
       "[22] htmltools_0.5.0      Matrix_1.2-18        plyr_1.8.6          \n",
       "[25] timeDate_3043.102    pkgconfig_2.0.3      broom_0.7.2         \n",
       "[28] haven_2.3.1          scales_1.1.1         gower_0.2.2         \n",
       "[31] RApiSerialize_0.1.0  lava_1.6.8.1         generics_0.1.0      \n",
       "[34] ellipsis_0.3.1       withr_2.3.0          repr_1.1.2.9000     \n",
       "[37] nnet_7.3-14          cli_2.2.0            survival_3.2-7      \n",
       "[40] magrittr_2.0.1       crayon_1.3.4         readxl_1.3.1        \n",
       "[43] evaluate_0.14        ps_1.5.0             fs_1.5.0            \n",
       "[46] fansi_0.4.1          nlme_3.1-150         MASS_7.3-53         \n",
       "[49] xml2_1.3.2           class_7.3-17         tools_4.0.3         \n",
       "[52] hms_0.5.3            lifecycle_0.2.0      munsell_0.5.0       \n",
       "[55] reprex_0.3.0         compiler_4.0.3       rlang_0.4.10        \n",
       "[58] grid_4.0.3           pbdZMQ_0.3-3.1       iterators_1.0.13    \n",
       "[61] IRkernel_1.1.1       rstudioapi_0.13      base64enc_0.1-3     \n",
       "[64] ModelMetrics_1.2.2.2 gtable_0.3.0         codetools_0.2-18    \n",
       "[67] DBI_1.1.0            reshape2_1.4.4       R6_2.5.0            \n",
       "[70] lubridate_1.7.9.2    stringi_1.5.3        IRdisplay_0.7.0     \n",
       "[73] Rcpp_1.0.5           vctrs_0.3.6          rpart_4.1-15        \n",
       "[76] dbplyr_2.0.0         tidyselect_1.1.0    "
      ]
     },
     "metadata": {},
     "output_type": "display_data"
    }
   ],
   "source": [
    "sessionInfo()"
   ]
  },
  {
   "cell_type": "markdown",
   "metadata": {},
   "source": [
    "# Functions"
   ]
  },
  {
   "cell_type": "code",
   "execution_count": 4,
   "metadata": {
    "ExecuteTime": {
     "end_time": "2021-11-22T14:51:37.350391Z",
     "start_time": "2021-11-22T14:51:34.722Z"
    }
   },
   "outputs": [],
   "source": [
    "file.sources <- list.files('../scripts/', pattern = '*.R', full.names=TRUE, ignore.case=TRUE)\n",
    "for (f in file.sources) {\n",
    "    source(f)\n",
    "}\n",
    "rm('file.sources', 'f')"
   ]
  },
  {
   "cell_type": "code",
   "execution_count": 5,
   "metadata": {
    "ExecuteTime": {
     "end_time": "2021-11-22T14:51:37.363862Z",
     "start_time": "2021-11-22T14:51:34.902Z"
    }
   },
   "outputs": [],
   "source": [
    "noneRanger_wcase <- function (ix, data, meta, target, num.trees = 500) \n",
    "{\n",
    "    set.seed(ix[1])\n",
    "    res <- list()\n",
    "    data <- mutate_if(data, is.character, as.factor)\n",
    "    \n",
    "    message(\"RF\")\n",
    "    class_weights <- round(sum(target == levels(target)[1])/length(target), \n",
    "        digits = 2)\n",
    "    class_weights <- c(1-class_weights, class_weights)\n",
    "    case_weights <- ifelse(target == levels(target)[1], class_weights[1], class_weights[2])   \n",
    "    \n",
    "    set.seed(ix[1])\n",
    "    rf_fs <- ranger(x = data[ix, ], y = target[ix], case.weights = case_weights[ix], \n",
    "        num.trees = num.trees, importance = \"impurity\")\n",
    "    res$rf_model <- rf_fs\n",
    "    if (length(ix) != nrow(data)) {\n",
    "        pred <- predict(rf_fs, data = data[-ix, ])\n",
    "        tmp <- confusionMatrix(data = pred$predictions, reference = target[-ix])\n",
    "        res$rf_performance <- tmp$overall\n",
    "    }\n",
    "    return(res)\n",
    "}"
   ]
  },
  {
   "cell_type": "markdown",
   "metadata": {},
   "source": [
    "# Data"
   ]
  },
  {
   "cell_type": "code",
   "execution_count": 6,
   "metadata": {
    "ExecuteTime": {
     "end_time": "2021-11-22T14:51:38.059764Z",
     "start_time": "2021-11-22T14:51:37.602Z"
    }
   },
   "outputs": [],
   "source": [
    "meta <- qread('../data/meta_pp.qs') %>% select(-all_of(c('age', 'BMI', 'genderfemale')))\n",
    "tax <- qread('../data/taxa_nometh.qs') \n",
    "pth <- qread('../data/pathways_nometh.qs')\n",
    "targets <- qread('../data/targets_meth.qs')"
   ]
  },
  {
   "cell_type": "code",
   "execution_count": 7,
   "metadata": {
    "ExecuteTime": {
     "end_time": "2021-11-22T14:51:38.971449Z",
     "start_time": "2021-11-22T14:51:37.901Z"
    }
   },
   "outputs": [],
   "source": [
    "pp <- left_join(meta, tax, by = 'Sample') %>% left_join(pth, by = 'Sample') %>% \n",
    "            left_join(select(targets, Sample, Mtbc), by = 'Sample') \n",
    "target <- as.factor(pp$Mtbc)\n",
    "pp <- pp %>% select(-Sample, -Mtbc)"
   ]
  },
  {
   "cell_type": "code",
   "execution_count": 8,
   "metadata": {
    "ExecuteTime": {
     "end_time": "2021-11-22T14:51:38.988467Z",
     "start_time": "2021-11-22T14:51:38.113Z"
    }
   },
   "outputs": [
    {
     "data": {
      "text/html": [
       "<style>\n",
       ".list-inline {list-style: none; margin:0; padding: 0}\n",
       ".list-inline>li {display: inline-block}\n",
       ".list-inline>li:not(:last-child)::after {content: \"\\00b7\"; padding: 0 .5ex}\n",
       "</style>\n",
       "<ol class=list-inline><li>2203</li><li>2315</li></ol>\n"
      ],
      "text/latex": [
       "\\begin{enumerate*}\n",
       "\\item 2203\n",
       "\\item 2315\n",
       "\\end{enumerate*}\n"
      ],
      "text/markdown": [
       "1. 2203\n",
       "2. 2315\n",
       "\n",
       "\n"
      ],
      "text/plain": [
       "[1] 2203 2315"
      ]
     },
     "metadata": {},
     "output_type": "display_data"
    }
   ],
   "source": [
    "dim(pp)"
   ]
  },
  {
   "cell_type": "code",
   "execution_count": 9,
   "metadata": {
    "ExecuteTime": {
     "end_time": "2021-11-22T14:51:39.030359Z",
     "start_time": "2021-11-22T14:51:38.305Z"
    }
   },
   "outputs": [],
   "source": [
    "set.seed(0)\n",
    "trainIx <- createDataPartition(y = target, times = 10, p = .7, list = TRUE)"
   ]
  },
  {
   "cell_type": "code",
   "execution_count": 10,
   "metadata": {
    "ExecuteTime": {
     "end_time": "2021-11-22T14:51:40.988424Z",
     "start_time": "2021-11-22T14:51:40.899Z"
    }
   },
   "outputs": [],
   "source": [
    "meta_names <- c(str_subset(colnames(pp), pattern = 'dataset'), 'number_reads')"
   ]
  },
  {
   "cell_type": "code",
   "execution_count": 11,
   "metadata": {
    "ExecuteTime": {
     "end_time": "2021-11-22T14:51:41.342780Z",
     "start_time": "2021-11-22T14:51:41.245Z"
    }
   },
   "outputs": [
    {
     "data": {
      "text/html": [
       "<style>\n",
       ".list-inline {list-style: none; margin:0; padding: 0}\n",
       ".list-inline>li {display: inline-block}\n",
       ".list-inline>li:not(:last-child)::after {content: \"\\00b7\"; padding: 0 .5ex}\n",
       "</style>\n",
       "<ol class=list-inline><li>'dataset_nameAsnicarF_2017'</li><li>'dataset_nameBengtsson_PalmeJ_2015'</li><li>'dataset_nameBritoIL_2016'</li><li>'dataset_nameCosteaPI_2017'</li><li>'dataset_nameDhakanDB_2019'</li><li>'dataset_nameFengQ_2015'</li><li>'dataset_nameHanniganGD_2017'</li><li>'dataset_nameHansenLBS_2018'</li><li>'dataset_nameHeitz_BuschartA_2016'</li><li>'dataset_nameHMP_2012'</li><li>'dataset_nameJieZ_2017'</li><li>'dataset_nameKarlssonFH_2013'</li><li>'dataset_nameLiJ_2017'</li><li>'dataset_nameLiuW_2016'</li><li>'dataset_nameLouisS_2016'</li><li>'dataset_nameObregon_TitoAJ_2015'</li><li>'dataset_namePasolliE_2018'</li><li>'dataset_namePehrssonE_2016'</li><li>'dataset_nameRaymondF_2016'</li><li>'dataset_nameSchirmerM_2016'</li><li>'dataset_nameTettAJ_2019_a'</li><li>'dataset_nameTettAJ_2019_b'</li><li>'dataset_nameTettAJ_2019_c'</li><li>'dataset_nameXieH_2016'</li><li>'dataset_nameYeZ_2018'</li><li>'dataset_nameYuJ_2015'</li><li>'number_reads'</li></ol>\n"
      ],
      "text/latex": [
       "\\begin{enumerate*}\n",
       "\\item 'dataset\\_nameAsnicarF\\_2017'\n",
       "\\item 'dataset\\_nameBengtsson\\_PalmeJ\\_2015'\n",
       "\\item 'dataset\\_nameBritoIL\\_2016'\n",
       "\\item 'dataset\\_nameCosteaPI\\_2017'\n",
       "\\item 'dataset\\_nameDhakanDB\\_2019'\n",
       "\\item 'dataset\\_nameFengQ\\_2015'\n",
       "\\item 'dataset\\_nameHanniganGD\\_2017'\n",
       "\\item 'dataset\\_nameHansenLBS\\_2018'\n",
       "\\item 'dataset\\_nameHeitz\\_BuschartA\\_2016'\n",
       "\\item 'dataset\\_nameHMP\\_2012'\n",
       "\\item 'dataset\\_nameJieZ\\_2017'\n",
       "\\item 'dataset\\_nameKarlssonFH\\_2013'\n",
       "\\item 'dataset\\_nameLiJ\\_2017'\n",
       "\\item 'dataset\\_nameLiuW\\_2016'\n",
       "\\item 'dataset\\_nameLouisS\\_2016'\n",
       "\\item 'dataset\\_nameObregon\\_TitoAJ\\_2015'\n",
       "\\item 'dataset\\_namePasolliE\\_2018'\n",
       "\\item 'dataset\\_namePehrssonE\\_2016'\n",
       "\\item 'dataset\\_nameRaymondF\\_2016'\n",
       "\\item 'dataset\\_nameSchirmerM\\_2016'\n",
       "\\item 'dataset\\_nameTettAJ\\_2019\\_a'\n",
       "\\item 'dataset\\_nameTettAJ\\_2019\\_b'\n",
       "\\item 'dataset\\_nameTettAJ\\_2019\\_c'\n",
       "\\item 'dataset\\_nameXieH\\_2016'\n",
       "\\item 'dataset\\_nameYeZ\\_2018'\n",
       "\\item 'dataset\\_nameYuJ\\_2015'\n",
       "\\item 'number\\_reads'\n",
       "\\end{enumerate*}\n"
      ],
      "text/markdown": [
       "1. 'dataset_nameAsnicarF_2017'\n",
       "2. 'dataset_nameBengtsson_PalmeJ_2015'\n",
       "3. 'dataset_nameBritoIL_2016'\n",
       "4. 'dataset_nameCosteaPI_2017'\n",
       "5. 'dataset_nameDhakanDB_2019'\n",
       "6. 'dataset_nameFengQ_2015'\n",
       "7. 'dataset_nameHanniganGD_2017'\n",
       "8. 'dataset_nameHansenLBS_2018'\n",
       "9. 'dataset_nameHeitz_BuschartA_2016'\n",
       "10. 'dataset_nameHMP_2012'\n",
       "11. 'dataset_nameJieZ_2017'\n",
       "12. 'dataset_nameKarlssonFH_2013'\n",
       "13. 'dataset_nameLiJ_2017'\n",
       "14. 'dataset_nameLiuW_2016'\n",
       "15. 'dataset_nameLouisS_2016'\n",
       "16. 'dataset_nameObregon_TitoAJ_2015'\n",
       "17. 'dataset_namePasolliE_2018'\n",
       "18. 'dataset_namePehrssonE_2016'\n",
       "19. 'dataset_nameRaymondF_2016'\n",
       "20. 'dataset_nameSchirmerM_2016'\n",
       "21. 'dataset_nameTettAJ_2019_a'\n",
       "22. 'dataset_nameTettAJ_2019_b'\n",
       "23. 'dataset_nameTettAJ_2019_c'\n",
       "24. 'dataset_nameXieH_2016'\n",
       "25. 'dataset_nameYeZ_2018'\n",
       "26. 'dataset_nameYuJ_2015'\n",
       "27. 'number_reads'\n",
       "\n",
       "\n"
      ],
      "text/plain": [
       " [1] \"dataset_nameAsnicarF_2017\"         \"dataset_nameBengtsson_PalmeJ_2015\"\n",
       " [3] \"dataset_nameBritoIL_2016\"          \"dataset_nameCosteaPI_2017\"        \n",
       " [5] \"dataset_nameDhakanDB_2019\"         \"dataset_nameFengQ_2015\"           \n",
       " [7] \"dataset_nameHanniganGD_2017\"       \"dataset_nameHansenLBS_2018\"       \n",
       " [9] \"dataset_nameHeitz_BuschartA_2016\"  \"dataset_nameHMP_2012\"             \n",
       "[11] \"dataset_nameJieZ_2017\"             \"dataset_nameKarlssonFH_2013\"      \n",
       "[13] \"dataset_nameLiJ_2017\"              \"dataset_nameLiuW_2016\"            \n",
       "[15] \"dataset_nameLouisS_2016\"           \"dataset_nameObregon_TitoAJ_2015\"  \n",
       "[17] \"dataset_namePasolliE_2018\"         \"dataset_namePehrssonE_2016\"       \n",
       "[19] \"dataset_nameRaymondF_2016\"         \"dataset_nameSchirmerM_2016\"       \n",
       "[21] \"dataset_nameTettAJ_2019_a\"         \"dataset_nameTettAJ_2019_b\"        \n",
       "[23] \"dataset_nameTettAJ_2019_c\"         \"dataset_nameXieH_2016\"            \n",
       "[25] \"dataset_nameYeZ_2018\"              \"dataset_nameYuJ_2015\"             \n",
       "[27] \"number_reads\"                     "
      ]
     },
     "metadata": {},
     "output_type": "display_data"
    }
   ],
   "source": [
    "meta_names"
   ]
  },
  {
   "cell_type": "markdown",
   "metadata": {},
   "source": [
    "# CV"
   ]
  },
  {
   "cell_type": "code",
   "execution_count": 12,
   "metadata": {
    "ExecuteTime": {
     "end_time": "2021-11-22T14:51:43.192931Z",
     "start_time": "2021-11-22T14:51:43.092Z"
    }
   },
   "outputs": [],
   "source": [
    "tmpl <- list(conda = \"r-ml\", cores = 5, job_time = '00:59:00', job_mem = '5G')"
   ]
  },
  {
   "cell_type": "code",
   "execution_count": 13,
   "metadata": {
    "ExecuteTime": {
     "end_time": "2021-11-22T14:51:43.357979Z",
     "start_time": "2021-11-22T14:51:43.256Z"
    },
    "scrolled": true
   },
   "outputs": [],
   "source": [
    "# Do not run\n",
    "#res <- Q(noneRanger_wcase\n",
    "#  , ix = trainIx\n",
    "#  , const = list('data'= pp, 'target' = target, num.trees = 250\n",
    "#                 )\n",
    "#  , n_jobs= length(trainIx)\n",
    "#  , pkgs=c('caret', 'ranger', 'dplyr')\n",
    "#  , log_worker=FALSE\n",
    "#  , template = tmpl\n",
    "# )"
   ]
  },
  {
   "cell_type": "code",
   "execution_count": 14,
   "metadata": {
    "ExecuteTime": {
     "end_time": "2021-11-22T14:51:43.861688Z",
     "start_time": "2021-11-22T14:51:43.765Z"
    }
   },
   "outputs": [],
   "source": [
    "#qsave(res, '../tmp/none_ranger_nt250.qs')"
   ]
  },
  {
   "cell_type": "code",
   "execution_count": 15,
   "metadata": {
    "ExecuteTime": {
     "end_time": "2021-11-22T14:51:44.114290Z",
     "start_time": "2021-11-22T14:51:44.004Z"
    }
   },
   "outputs": [],
   "source": [
    "#res500 <- Q(noneRanger_wcase\n",
    "#  , ix = trainIx\n",
    "#  , const = list('data'= pp, 'target' = target, num.trees = 500)\n",
    "#  , n_jobs= length(trainIx)\n",
    "#  , pkgs=c('caret', 'ranger', 'dplyr')\n",
    "#  , log_worker=FALSE\n",
    "#  , template = tmpl\n",
    "# )"
   ]
  },
  {
   "cell_type": "code",
   "execution_count": 16,
   "metadata": {
    "ExecuteTime": {
     "end_time": "2021-11-22T14:51:44.312027Z",
     "start_time": "2021-11-22T14:51:44.231Z"
    }
   },
   "outputs": [],
   "source": [
    "# qsave(res500, '../tmp/none_ranger_nt500.qs')"
   ]
  },
  {
   "cell_type": "markdown",
   "metadata": {},
   "source": [
    "# res"
   ]
  },
  {
   "cell_type": "code",
   "execution_count": 18,
   "metadata": {
    "ExecuteTime": {
     "end_time": "2021-11-22T14:51:55.193864Z",
     "start_time": "2021-11-22T14:51:54.671Z"
    }
   },
   "outputs": [],
   "source": [
    "res250 <- qread('../tmp/none_ranger_nt250.qs')\n",
    "res500 <- qread('../tmp/none_ranger_nt500.qs')"
   ]
  },
  {
   "cell_type": "code",
   "execution_count": 19,
   "metadata": {
    "ExecuteTime": {
     "end_time": "2021-11-22T14:51:56.685466Z",
     "start_time": "2021-11-22T14:51:56.544Z"
    }
   },
   "outputs": [],
   "source": [
    "all <- lapply(res250, function(x){x$rf_performance}) %>% \n",
    "            do.call(what = rbind) %>% as.data.frame %>% add_column(ntrees = 250)\n",
    "tmp <- lapply(res500, function(x){x$rf_performance}) %>% \n",
    "            do.call(what = rbind) %>% as.data.frame %>% add_column(ntrees = 500)\n",
    "all <- rbind(all, tmp)"
   ]
  },
  {
   "cell_type": "code",
   "execution_count": 20,
   "metadata": {
    "ExecuteTime": {
     "end_time": "2021-11-22T14:51:57.226397Z",
     "start_time": "2021-11-22T14:51:57.071Z"
    }
   },
   "outputs": [
    {
     "data": {
      "text/html": [
       "<table class=\"dataframe\">\n",
       "<caption>A tibble: 2 × 3</caption>\n",
       "<thead>\n",
       "\t<tr><th scope=col>Accuracy</th><th scope=col>Kappa</th><th scope=col>ntrees</th></tr>\n",
       "\t<tr><th scope=col>&lt;dbl&gt;</th><th scope=col>&lt;dbl&gt;</th><th scope=col>&lt;dbl&gt;</th></tr>\n",
       "</thead>\n",
       "<tbody>\n",
       "\t<tr><td>0.8142</td><td>0.5779</td><td>500</td></tr>\n",
       "\t<tr><td>0.8135</td><td>0.5765</td><td>250</td></tr>\n",
       "</tbody>\n",
       "</table>\n"
      ],
      "text/latex": [
       "A tibble: 2 × 3\n",
       "\\begin{tabular}{lll}\n",
       " Accuracy & Kappa & ntrees\\\\\n",
       " <dbl> & <dbl> & <dbl>\\\\\n",
       "\\hline\n",
       "\t 0.8142 & 0.5779 & 500\\\\\n",
       "\t 0.8135 & 0.5765 & 250\\\\\n",
       "\\end{tabular}\n"
      ],
      "text/markdown": [
       "\n",
       "A tibble: 2 × 3\n",
       "\n",
       "| Accuracy &lt;dbl&gt; | Kappa &lt;dbl&gt; | ntrees &lt;dbl&gt; |\n",
       "|---|---|---|\n",
       "| 0.8142 | 0.5779 | 500 |\n",
       "| 0.8135 | 0.5765 | 250 |\n",
       "\n"
      ],
      "text/plain": [
       "  Accuracy Kappa  ntrees\n",
       "1 0.8142   0.5779 500   \n",
       "2 0.8135   0.5765 250   "
      ]
     },
     "metadata": {},
     "output_type": "display_data"
    }
   ],
   "source": [
    "all %>% group_by(ntrees) %>%\n",
    "summarise_all(mean) %>%\n",
    "arrange(-Kappa) %>% \n",
    "select(Accuracy, Kappa, ntrees) %>%\n",
    "mutate_all(round, digits = 4)"
   ]
  },
  {
   "cell_type": "code",
   "execution_count": 21,
   "metadata": {
    "ExecuteTime": {
     "end_time": "2021-11-22T14:51:58.263657Z",
     "start_time": "2021-11-22T14:51:58.120Z"
    }
   },
   "outputs": [
    {
     "data": {
      "text/html": [
       "<table class=\"dataframe\">\n",
       "<caption>A tibble: 2 × 3</caption>\n",
       "<thead>\n",
       "\t<tr><th scope=col>Accuracy</th><th scope=col>Kappa</th><th scope=col>ntrees</th></tr>\n",
       "\t<tr><th scope=col>&lt;dbl&gt;</th><th scope=col>&lt;dbl&gt;</th><th scope=col>&lt;dbl&gt;</th></tr>\n",
       "</thead>\n",
       "<tbody>\n",
       "\t<tr><td>0.0128</td><td>0.0305</td><td>250</td></tr>\n",
       "\t<tr><td>0.0119</td><td>0.0283</td><td>500</td></tr>\n",
       "</tbody>\n",
       "</table>\n"
      ],
      "text/latex": [
       "A tibble: 2 × 3\n",
       "\\begin{tabular}{lll}\n",
       " Accuracy & Kappa & ntrees\\\\\n",
       " <dbl> & <dbl> & <dbl>\\\\\n",
       "\\hline\n",
       "\t 0.0128 & 0.0305 & 250\\\\\n",
       "\t 0.0119 & 0.0283 & 500\\\\\n",
       "\\end{tabular}\n"
      ],
      "text/markdown": [
       "\n",
       "A tibble: 2 × 3\n",
       "\n",
       "| Accuracy &lt;dbl&gt; | Kappa &lt;dbl&gt; | ntrees &lt;dbl&gt; |\n",
       "|---|---|---|\n",
       "| 0.0128 | 0.0305 | 250 |\n",
       "| 0.0119 | 0.0283 | 500 |\n",
       "\n"
      ],
      "text/plain": [
       "  Accuracy Kappa  ntrees\n",
       "1 0.0128   0.0305 250   \n",
       "2 0.0119   0.0283 500   "
      ]
     },
     "metadata": {},
     "output_type": "display_data"
    }
   ],
   "source": [
    "all %>% group_by(ntrees) %>%\n",
    "summarise_all(sd) %>%\n",
    "arrange(-Kappa) %>% \n",
    "select(Accuracy, Kappa, ntrees)%>%\n",
    "mutate_all(round, digits = 4)"
   ]
  },
  {
   "cell_type": "code",
   "execution_count": null,
   "metadata": {},
   "outputs": [],
   "source": []
  }
 ],
 "metadata": {
  "kernelspec": {
   "display_name": "R [conda env:Metagenomes_methanogen-r-ml] *",
   "language": "R",
   "name": "conda-env-Metagenomes_methanogen-r-ml-r"
  },
  "language_info": {
   "codemirror_mode": "r",
   "file_extension": ".r",
   "mimetype": "text/x-r-source",
   "name": "R",
   "pygments_lexer": "r",
   "version": "4.0.3"
  },
  "notify_time": "30",
  "toc": {
   "base_numbering": 1,
   "nav_menu": {},
   "number_sections": true,
   "sideBar": true,
   "skip_h1_title": false,
   "title_cell": "Table of Contents",
   "title_sidebar": "Contents",
   "toc_cell": false,
   "toc_position": {},
   "toc_section_display": true,
   "toc_window_display": true
  }
 },
 "nbformat": 4,
 "nbformat_minor": 4
}
