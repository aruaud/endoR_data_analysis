{
 "cells": [
  {
   "cell_type": "markdown",
   "metadata": {},
   "source": [
    "# Preambule"
   ]
  },
  {
   "cell_type": "code",
   "execution_count": 1,
   "metadata": {
    "ExecuteTime": {
     "end_time": "2021-11-22T15:21:01.380483Z",
     "start_time": "2021-11-22T15:20:57.733Z"
    },
    "scrolled": true
   },
   "outputs": [
    {
     "name": "stderr",
     "output_type": "stream",
     "text": [
      "── \u001b[1mAttaching packages\u001b[22m ────────────────────────────────────────────────────────────────────────────────────────────────────────────────────────────────────── tidyverse 1.3.0 ──\n",
      "\n",
      "\u001b[32m✔\u001b[39m \u001b[34mggplot2\u001b[39m 3.3.2     \u001b[32m✔\u001b[39m \u001b[34mpurrr  \u001b[39m 0.3.4\n",
      "\u001b[32m✔\u001b[39m \u001b[34mtibble \u001b[39m 3.0.4     \u001b[32m✔\u001b[39m \u001b[34mdplyr  \u001b[39m 1.0.2\n",
      "\u001b[32m✔\u001b[39m \u001b[34mtidyr  \u001b[39m 1.1.2     \u001b[32m✔\u001b[39m \u001b[34mstringr\u001b[39m 1.4.0\n",
      "\u001b[32m✔\u001b[39m \u001b[34mreadr  \u001b[39m 1.4.0     \u001b[32m✔\u001b[39m \u001b[34mforcats\u001b[39m 0.5.0\n",
      "\n",
      "── \u001b[1mConflicts\u001b[22m ───────────────────────────────────────────────────────────────────────────────────────────────────────────────────────────────────────── tidyverse_conflicts() ──\n",
      "\u001b[31m✖\u001b[39m \u001b[34mdplyr\u001b[39m::\u001b[32mfilter()\u001b[39m masks \u001b[34mstats\u001b[39m::filter()\n",
      "\u001b[31m✖\u001b[39m \u001b[34mdplyr\u001b[39m::\u001b[32mlag()\u001b[39m    masks \u001b[34mstats\u001b[39m::lag()\n",
      "\n",
      "Loading required package: lattice\n",
      "\n",
      "\n",
      "Attaching package: ‘caret’\n",
      "\n",
      "\n",
      "The following object is masked from ‘package:purrr’:\n",
      "\n",
      "    lift\n",
      "\n",
      "\n",
      "qs v0.23.4.\n",
      "\n",
      "\n",
      "Attaching package: ‘data.table’\n",
      "\n",
      "\n",
      "The following objects are masked from ‘package:dplyr’:\n",
      "\n",
      "    between, first, last\n",
      "\n",
      "\n",
      "The following object is masked from ‘package:purrr’:\n",
      "\n",
      "    transpose\n",
      "\n",
      "\n"
     ]
    }
   ],
   "source": [
    "library(tidyverse)\n",
    "library(stringr)\n",
    "library(caret)\n",
    "library(dplyr)\n",
    "library('qs')\n",
    "library(ranger)\n",
    "library(parallel)\n",
    "library(data.table)"
   ]
  },
  {
   "cell_type": "code",
   "execution_count": 2,
   "metadata": {
    "ExecuteTime": {
     "end_time": "2021-11-22T15:21:01.526289Z",
     "start_time": "2021-11-22T15:20:57.736Z"
    }
   },
   "outputs": [],
   "source": [
    "library(clustermq)\n",
    "options(clustermq.scheduler = \"sge\", clustermq.template = \"~/.clustermq.tmpl\")"
   ]
  },
  {
   "cell_type": "code",
   "execution_count": 3,
   "metadata": {
    "ExecuteTime": {
     "end_time": "2021-11-22T15:21:01.589998Z",
     "start_time": "2021-11-22T15:20:57.738Z"
    }
   },
   "outputs": [
    {
     "data": {
      "text/plain": [
       "R version 4.0.3 (2020-10-10)\n",
       "Platform: x86_64-conda-linux-gnu (64-bit)\n",
       "Running under: Ubuntu 18.04.6 LTS\n",
       "\n",
       "Matrix products: default\n",
       "BLAS/LAPACK: /ebio/abt3_projects/Methanogen_SCFA/Metagenomes_methanogen/envs/r-ml/lib/libopenblasp-r0.3.10.so\n",
       "\n",
       "locale:\n",
       " [1] LC_CTYPE=en_US.UTF-8       LC_NUMERIC=C              \n",
       " [3] LC_TIME=en_US.UTF-8        LC_COLLATE=en_US.UTF-8    \n",
       " [5] LC_MONETARY=en_US.UTF-8    LC_MESSAGES=en_US.UTF-8   \n",
       " [7] LC_PAPER=en_US.UTF-8       LC_NAME=C                 \n",
       " [9] LC_ADDRESS=C               LC_TELEPHONE=C            \n",
       "[11] LC_MEASUREMENT=en_US.UTF-8 LC_IDENTIFICATION=C       \n",
       "\n",
       "attached base packages:\n",
       "[1] parallel  stats     graphics  grDevices utils     datasets  methods  \n",
       "[8] base     \n",
       "\n",
       "other attached packages:\n",
       " [1] clustermq_0.8.95.1 data.table_1.13.4  ranger_0.12.1      qs_0.23.4         \n",
       " [5] caret_6.0-86       lattice_0.20-41    forcats_0.5.0      stringr_1.4.0     \n",
       " [9] dplyr_1.0.2        purrr_0.3.4        readr_1.4.0        tidyr_1.1.2       \n",
       "[13] tibble_3.0.4       ggplot2_3.3.2      tidyverse_1.3.0   \n",
       "\n",
       "loaded via a namespace (and not attached):\n",
       " [1] httr_1.4.2           jsonlite_1.7.2       splines_4.0.3       \n",
       " [4] foreach_1.5.1        prodlim_2019.11.13   modelr_0.1.8        \n",
       " [7] RcppParallel_5.0.2   assertthat_0.2.1     stats4_4.0.3        \n",
       "[10] cellranger_1.1.0     ipred_0.9-9          pillar_1.4.7        \n",
       "[13] backports_1.2.0      glue_1.4.2           pROC_1.16.2         \n",
       "[16] uuid_0.1-4           digest_0.6.27        rvest_0.3.6         \n",
       "[19] stringfish_0.14.2    colorspace_2.0-0     recipes_0.1.15      \n",
       "[22] htmltools_0.5.0      Matrix_1.2-18        plyr_1.8.6          \n",
       "[25] timeDate_3043.102    pkgconfig_2.0.3      broom_0.7.2         \n",
       "[28] haven_2.3.1          scales_1.1.1         gower_0.2.2         \n",
       "[31] RApiSerialize_0.1.0  lava_1.6.8.1         generics_0.1.0      \n",
       "[34] ellipsis_0.3.1       withr_2.3.0          repr_1.1.2.9000     \n",
       "[37] nnet_7.3-14          cli_2.2.0            survival_3.2-7      \n",
       "[40] magrittr_2.0.1       crayon_1.3.4         readxl_1.3.1        \n",
       "[43] evaluate_0.14        ps_1.5.0             fs_1.5.0            \n",
       "[46] fansi_0.4.1          nlme_3.1-150         MASS_7.3-53         \n",
       "[49] xml2_1.3.2           class_7.3-17         tools_4.0.3         \n",
       "[52] hms_0.5.3            lifecycle_0.2.0      munsell_0.5.0       \n",
       "[55] reprex_0.3.0         compiler_4.0.3       rlang_0.4.10        \n",
       "[58] grid_4.0.3           pbdZMQ_0.3-3.1       iterators_1.0.13    \n",
       "[61] IRkernel_1.1.1       rstudioapi_0.13      base64enc_0.1-3     \n",
       "[64] ModelMetrics_1.2.2.2 gtable_0.3.0         codetools_0.2-18    \n",
       "[67] DBI_1.1.0            reshape2_1.4.4       R6_2.5.0            \n",
       "[70] lubridate_1.7.9.2    stringi_1.5.3        IRdisplay_0.7.0     \n",
       "[73] Rcpp_1.0.5           vctrs_0.3.6          rpart_4.1-15        \n",
       "[76] dbplyr_2.0.0         tidyselect_1.1.0    "
      ]
     },
     "metadata": {},
     "output_type": "display_data"
    }
   ],
   "source": [
    "sessionInfo()"
   ]
  },
  {
   "cell_type": "markdown",
   "metadata": {},
   "source": [
    "# Functions"
   ]
  },
  {
   "cell_type": "code",
   "execution_count": 4,
   "metadata": {
    "ExecuteTime": {
     "end_time": "2021-11-22T15:21:01.614443Z",
     "start_time": "2021-11-22T15:20:57.741Z"
    }
   },
   "outputs": [],
   "source": [
    "file.sources <- list.files('../scripts/', pattern = '*.R', full.names=TRUE, ignore.case=TRUE)\n",
    "for (f in file.sources) {\n",
    "    source(f)\n",
    "}\n",
    "rm('file.sources', 'f')"
   ]
  },
  {
   "cell_type": "code",
   "execution_count": 5,
   "metadata": {
    "ExecuteTime": {
     "end_time": "2021-11-22T15:21:01.627880Z",
     "start_time": "2021-11-22T15:20:57.742Z"
    }
   },
   "outputs": [],
   "source": [
    "gammaTuning <- function(trainIx, data, meta, target, families, genera, species, params, num.trees=500){\n",
    "    res <- list()\n",
    "    res <- lapply(trainIx, tagRRFRanger_wcase, data=data, meta=meta, target=target\n",
    "                  , families = families, genera = genera, species = species\n",
    "                  , gamma=params[['gamma']], k = params[['k']], num.trees=num.trees)\n",
    "    names(res) <- rep(paste0(params['gamma'], '_', params['k']), length(res))\n",
    "    return(res)\n",
    "}"
   ]
  },
  {
   "cell_type": "markdown",
   "metadata": {},
   "source": [
    "# Data"
   ]
  },
  {
   "cell_type": "markdown",
   "metadata": {},
   "source": [
    "## data"
   ]
  },
  {
   "cell_type": "code",
   "execution_count": 6,
   "metadata": {
    "ExecuteTime": {
     "end_time": "2021-11-22T15:21:02.012425Z",
     "start_time": "2021-11-22T15:20:57.745Z"
    }
   },
   "outputs": [],
   "source": [
    "meta <- qread('../data/meta_pp.qs') %>% select(-all_of(c('age', 'BMI', 'genderfemale')))\n",
    "tax <- qread('../data/taxa_nometh.qs') \n",
    "pth <- qread('../data/pathways_nometh.qs')\n",
    "targets <- qread('../data/targets_meth.qs')"
   ]
  },
  {
   "cell_type": "code",
   "execution_count": 7,
   "metadata": {
    "ExecuteTime": {
     "end_time": "2021-11-22T15:21:02.970846Z",
     "start_time": "2021-11-22T15:20:57.746Z"
    }
   },
   "outputs": [],
   "source": [
    "pp <- left_join(meta, tax, by = 'Sample') %>% left_join(pth, by = 'Sample') %>% \n",
    "            left_join(select(targets, Sample, Mtbc), by = 'Sample') \n",
    "target <- as.factor(pp$Mtbc)\n",
    "pp <- pp %>% select(-Sample, -Mtbc)"
   ]
  },
  {
   "cell_type": "code",
   "execution_count": 8,
   "metadata": {
    "ExecuteTime": {
     "end_time": "2021-11-22T15:21:02.988726Z",
     "start_time": "2021-11-22T15:20:57.749Z"
    }
   },
   "outputs": [
    {
     "data": {
      "text/html": [
       "<style>\n",
       ".list-inline {list-style: none; margin:0; padding: 0}\n",
       ".list-inline>li {display: inline-block}\n",
       ".list-inline>li:not(:last-child)::after {content: \"\\00b7\"; padding: 0 .5ex}\n",
       "</style>\n",
       "<ol class=list-inline><li>2203</li><li>2315</li></ol>\n"
      ],
      "text/latex": [
       "\\begin{enumerate*}\n",
       "\\item 2203\n",
       "\\item 2315\n",
       "\\end{enumerate*}\n"
      ],
      "text/markdown": [
       "1. 2203\n",
       "2. 2315\n",
       "\n",
       "\n"
      ],
      "text/plain": [
       "[1] 2203 2315"
      ]
     },
     "metadata": {},
     "output_type": "display_data"
    }
   ],
   "source": [
    "dim(pp)"
   ]
  },
  {
   "cell_type": "code",
   "execution_count": 9,
   "metadata": {
    "ExecuteTime": {
     "end_time": "2021-11-22T15:21:03.035544Z",
     "start_time": "2021-11-22T15:20:57.751Z"
    }
   },
   "outputs": [],
   "source": [
    "set.seed(0)\n",
    "trainIx <- createDataPartition(y = target, times = 10, p = .7, list = TRUE)"
   ]
  },
  {
   "cell_type": "code",
   "execution_count": 10,
   "metadata": {
    "ExecuteTime": {
     "end_time": "2021-11-22T15:21:03.053015Z",
     "start_time": "2021-11-22T15:20:57.753Z"
    }
   },
   "outputs": [],
   "source": [
    "meta_names <- c(str_subset(colnames(pp), pattern = 'dataset'), 'number_reads')"
   ]
  },
  {
   "cell_type": "code",
   "execution_count": 11,
   "metadata": {
    "ExecuteTime": {
     "end_time": "2021-11-22T15:21:03.069931Z",
     "start_time": "2021-11-22T15:20:57.755Z"
    }
   },
   "outputs": [
    {
     "data": {
      "text/html": [
       "<style>\n",
       ".list-inline {list-style: none; margin:0; padding: 0}\n",
       ".list-inline>li {display: inline-block}\n",
       ".list-inline>li:not(:last-child)::after {content: \"\\00b7\"; padding: 0 .5ex}\n",
       "</style>\n",
       "<ol class=list-inline><li>'dataset_nameAsnicarF_2017'</li><li>'dataset_nameBengtsson_PalmeJ_2015'</li><li>'dataset_nameBritoIL_2016'</li><li>'dataset_nameCosteaPI_2017'</li><li>'dataset_nameDhakanDB_2019'</li><li>'dataset_nameFengQ_2015'</li><li>'dataset_nameHanniganGD_2017'</li><li>'dataset_nameHansenLBS_2018'</li><li>'dataset_nameHeitz_BuschartA_2016'</li><li>'dataset_nameHMP_2012'</li><li>'dataset_nameJieZ_2017'</li><li>'dataset_nameKarlssonFH_2013'</li><li>'dataset_nameLiJ_2017'</li><li>'dataset_nameLiuW_2016'</li><li>'dataset_nameLouisS_2016'</li><li>'dataset_nameObregon_TitoAJ_2015'</li><li>'dataset_namePasolliE_2018'</li><li>'dataset_namePehrssonE_2016'</li><li>'dataset_nameRaymondF_2016'</li><li>'dataset_nameSchirmerM_2016'</li><li>'dataset_nameTettAJ_2019_a'</li><li>'dataset_nameTettAJ_2019_b'</li><li>'dataset_nameTettAJ_2019_c'</li><li>'dataset_nameXieH_2016'</li><li>'dataset_nameYeZ_2018'</li><li>'dataset_nameYuJ_2015'</li><li>'number_reads'</li></ol>\n"
      ],
      "text/latex": [
       "\\begin{enumerate*}\n",
       "\\item 'dataset\\_nameAsnicarF\\_2017'\n",
       "\\item 'dataset\\_nameBengtsson\\_PalmeJ\\_2015'\n",
       "\\item 'dataset\\_nameBritoIL\\_2016'\n",
       "\\item 'dataset\\_nameCosteaPI\\_2017'\n",
       "\\item 'dataset\\_nameDhakanDB\\_2019'\n",
       "\\item 'dataset\\_nameFengQ\\_2015'\n",
       "\\item 'dataset\\_nameHanniganGD\\_2017'\n",
       "\\item 'dataset\\_nameHansenLBS\\_2018'\n",
       "\\item 'dataset\\_nameHeitz\\_BuschartA\\_2016'\n",
       "\\item 'dataset\\_nameHMP\\_2012'\n",
       "\\item 'dataset\\_nameJieZ\\_2017'\n",
       "\\item 'dataset\\_nameKarlssonFH\\_2013'\n",
       "\\item 'dataset\\_nameLiJ\\_2017'\n",
       "\\item 'dataset\\_nameLiuW\\_2016'\n",
       "\\item 'dataset\\_nameLouisS\\_2016'\n",
       "\\item 'dataset\\_nameObregon\\_TitoAJ\\_2015'\n",
       "\\item 'dataset\\_namePasolliE\\_2018'\n",
       "\\item 'dataset\\_namePehrssonE\\_2016'\n",
       "\\item 'dataset\\_nameRaymondF\\_2016'\n",
       "\\item 'dataset\\_nameSchirmerM\\_2016'\n",
       "\\item 'dataset\\_nameTettAJ\\_2019\\_a'\n",
       "\\item 'dataset\\_nameTettAJ\\_2019\\_b'\n",
       "\\item 'dataset\\_nameTettAJ\\_2019\\_c'\n",
       "\\item 'dataset\\_nameXieH\\_2016'\n",
       "\\item 'dataset\\_nameYeZ\\_2018'\n",
       "\\item 'dataset\\_nameYuJ\\_2015'\n",
       "\\item 'number\\_reads'\n",
       "\\end{enumerate*}\n"
      ],
      "text/markdown": [
       "1. 'dataset_nameAsnicarF_2017'\n",
       "2. 'dataset_nameBengtsson_PalmeJ_2015'\n",
       "3. 'dataset_nameBritoIL_2016'\n",
       "4. 'dataset_nameCosteaPI_2017'\n",
       "5. 'dataset_nameDhakanDB_2019'\n",
       "6. 'dataset_nameFengQ_2015'\n",
       "7. 'dataset_nameHanniganGD_2017'\n",
       "8. 'dataset_nameHansenLBS_2018'\n",
       "9. 'dataset_nameHeitz_BuschartA_2016'\n",
       "10. 'dataset_nameHMP_2012'\n",
       "11. 'dataset_nameJieZ_2017'\n",
       "12. 'dataset_nameKarlssonFH_2013'\n",
       "13. 'dataset_nameLiJ_2017'\n",
       "14. 'dataset_nameLiuW_2016'\n",
       "15. 'dataset_nameLouisS_2016'\n",
       "16. 'dataset_nameObregon_TitoAJ_2015'\n",
       "17. 'dataset_namePasolliE_2018'\n",
       "18. 'dataset_namePehrssonE_2016'\n",
       "19. 'dataset_nameRaymondF_2016'\n",
       "20. 'dataset_nameSchirmerM_2016'\n",
       "21. 'dataset_nameTettAJ_2019_a'\n",
       "22. 'dataset_nameTettAJ_2019_b'\n",
       "23. 'dataset_nameTettAJ_2019_c'\n",
       "24. 'dataset_nameXieH_2016'\n",
       "25. 'dataset_nameYeZ_2018'\n",
       "26. 'dataset_nameYuJ_2015'\n",
       "27. 'number_reads'\n",
       "\n",
       "\n"
      ],
      "text/plain": [
       " [1] \"dataset_nameAsnicarF_2017\"         \"dataset_nameBengtsson_PalmeJ_2015\"\n",
       " [3] \"dataset_nameBritoIL_2016\"          \"dataset_nameCosteaPI_2017\"        \n",
       " [5] \"dataset_nameDhakanDB_2019\"         \"dataset_nameFengQ_2015\"           \n",
       " [7] \"dataset_nameHanniganGD_2017\"       \"dataset_nameHansenLBS_2018\"       \n",
       " [9] \"dataset_nameHeitz_BuschartA_2016\"  \"dataset_nameHMP_2012\"             \n",
       "[11] \"dataset_nameJieZ_2017\"             \"dataset_nameKarlssonFH_2013\"      \n",
       "[13] \"dataset_nameLiJ_2017\"              \"dataset_nameLiuW_2016\"            \n",
       "[15] \"dataset_nameLouisS_2016\"           \"dataset_nameObregon_TitoAJ_2015\"  \n",
       "[17] \"dataset_namePasolliE_2018\"         \"dataset_namePehrssonE_2016\"       \n",
       "[19] \"dataset_nameRaymondF_2016\"         \"dataset_nameSchirmerM_2016\"       \n",
       "[21] \"dataset_nameTettAJ_2019_a\"         \"dataset_nameTettAJ_2019_b\"        \n",
       "[23] \"dataset_nameTettAJ_2019_c\"         \"dataset_nameXieH_2016\"            \n",
       "[25] \"dataset_nameYeZ_2018\"              \"dataset_nameYuJ_2015\"             \n",
       "[27] \"number_reads\"                     "
      ]
     },
     "metadata": {},
     "output_type": "display_data"
    }
   ],
   "source": [
    "meta_names"
   ]
  },
  {
   "cell_type": "markdown",
   "metadata": {},
   "source": [
    "## get taxa lists for FS"
   ]
  },
  {
   "cell_type": "code",
   "execution_count": 12,
   "metadata": {
    "ExecuteTime": {
     "end_time": "2021-11-22T15:21:03.083915Z",
     "start_time": "2021-11-22T15:20:57.759Z"
    }
   },
   "outputs": [],
   "source": [
    "source('../../Common_scripts/get_taxa_lists.R')"
   ]
  },
  {
   "cell_type": "code",
   "execution_count": 13,
   "metadata": {
    "ExecuteTime": {
     "end_time": "2021-11-22T15:21:04.187129Z",
     "start_time": "2021-11-22T15:20:57.761Z"
    }
   },
   "outputs": [
    {
     "name": "stderr",
     "output_type": "stream",
     "text": [
      "Warning message:\n",
      "“replacing previous import ‘data.table::last’ by ‘dplyr::last’ when loading ‘endoR’”\n",
      "Warning message:\n",
      "“replacing previous import ‘data.table::first’ by ‘dplyr::first’ when loading ‘endoR’”\n",
      "Warning message:\n",
      "“replacing previous import ‘data.table::between’ by ‘dplyr::between’ when loading ‘endoR’”\n",
      "Warning message:\n",
      "“replacing previous import ‘dplyr::union’ by ‘igraph::union’ when loading ‘endoR’”\n",
      "Warning message:\n",
      "“replacing previous import ‘dplyr::as_data_frame’ by ‘igraph::as_data_frame’ when loading ‘endoR’”\n",
      "Warning message:\n",
      "“replacing previous import ‘dplyr::groups’ by ‘igraph::groups’ when loading ‘endoR’”\n"
     ]
    }
   ],
   "source": [
    "tax_names <- qread('../data/taxa_table.qs')\n",
    "tax_names <- mutate_all(tax_names, endoR::compatibleNames )"
   ]
  },
  {
   "cell_type": "code",
   "execution_count": 14,
   "metadata": {
    "ExecuteTime": {
     "end_time": "2021-11-22T15:21:04.209061Z",
     "start_time": "2021-11-22T15:20:57.763Z"
    }
   },
   "outputs": [],
   "source": [
    "tax_names$f <- paste0('f_', tax_names$f)\n",
    "tax_names$g <- paste0('g_', tax_names$g)\n",
    "tax_names$s <- paste0('s_', tax_names$s)"
   ]
  },
  {
   "cell_type": "code",
   "execution_count": 15,
   "metadata": {
    "ExecuteTime": {
     "end_time": "2021-11-22T15:21:06.394751Z",
     "start_time": "2021-11-22T15:20:57.764Z"
    }
   },
   "outputs": [],
   "source": [
    "families <- lapply(unique(tax_names$f), getFamilies, tax_names = tax_names)\n",
    "names(families) <- unique(tax_names$f)\n",
    "genera <- lapply(unique(tax_names$g), getGenera, tax_names = tax_names)\n",
    "names(genera) <- unique(tax_names$g)\n",
    "species <- lapply(unique(tax_names$s), getSpecies, tax_names = tax_names)\n",
    "names(species) <- unique(tax_names$s)"
   ]
  },
  {
   "cell_type": "markdown",
   "metadata": {},
   "source": [
    "# CV"
   ]
  },
  {
   "cell_type": "code",
   "execution_count": 16,
   "metadata": {
    "ExecuteTime": {
     "end_time": "2021-11-22T15:21:06.410583Z",
     "start_time": "2021-11-22T15:20:57.766Z"
    }
   },
   "outputs": [],
   "source": [
    "gammas <- seq(0,1, by = 0.1)\n",
    "ks <- seq(0,1,0.1)"
   ]
  },
  {
   "cell_type": "code",
   "execution_count": 17,
   "metadata": {
    "ExecuteTime": {
     "end_time": "2021-11-22T15:21:06.425922Z",
     "start_time": "2021-11-22T15:20:57.769Z"
    }
   },
   "outputs": [],
   "source": [
    "params<-as.list(data.frame(t(expand.grid(gammas, ks))))"
   ]
  },
  {
   "cell_type": "code",
   "execution_count": 18,
   "metadata": {
    "ExecuteTime": {
     "end_time": "2021-11-22T15:21:06.442758Z",
     "start_time": "2021-11-22T15:20:57.771Z"
    }
   },
   "outputs": [],
   "source": [
    "params <- params %>% lapply(function(x){names(x)<-c('gamma', 'k');return(x)})\n",
    "names(params) <- params %>% sapply(paste, collapse = '_')"
   ]
  },
  {
   "cell_type": "code",
   "execution_count": 19,
   "metadata": {
    "ExecuteTime": {
     "end_time": "2021-11-22T15:21:06.456448Z",
     "start_time": "2021-11-22T15:20:57.773Z"
    }
   },
   "outputs": [],
   "source": [
    "tmpl <- list(conda = \"r-ml\", cores = 10, job_time = '24:00:00', job_mem = '5G')"
   ]
  },
  {
   "cell_type": "code",
   "execution_count": 20,
   "metadata": {
    "ExecuteTime": {
     "end_time": "2021-11-22T15:21:06.469181Z",
     "start_time": "2021-11-22T15:20:57.774Z"
    },
    "scrolled": true
   },
   "outputs": [],
   "source": [
    "#res <- Q(gammaTuning\n",
    "#  , params = params\n",
    "#  , const = list('data'= pp, 'meta' = meta_names, 'target' = target, 'trainIx' = trainIx\n",
    "#                 , 'families' = families,'genera' = genera, 'species' = species, num.trees = 250\n",
    "#                 )\n",
    "#  , export = list('tagRRFRanger_wcase' = tagRRFRanger_wcase)\n",
    "#  , n_jobs= length(params)\n",
    "#  , pkgs=c('caret', 'ranger', 'dplyr', 'RRF')\n",
    "#  , log_worker=FALSE\n",
    "#  , template = tmpl\n",
    "# )"
   ]
  },
  {
   "cell_type": "code",
   "execution_count": 21,
   "metadata": {
    "ExecuteTime": {
     "end_time": "2021-11-22T15:21:06.481186Z",
     "start_time": "2021-11-22T15:20:57.776Z"
    }
   },
   "outputs": [],
   "source": [
    "# qsave(res, '../tmp/ta_ranger_nt250.qs')"
   ]
  },
  {
   "cell_type": "code",
   "execution_count": 22,
   "metadata": {
    "ExecuteTime": {
     "end_time": "2021-11-22T15:21:20.953092Z",
     "start_time": "2021-11-22T15:20:57.778Z"
    }
   },
   "outputs": [],
   "source": [
    "res <- qread('../tmp/ta_ranger_nt250.qs')"
   ]
  },
  {
   "cell_type": "markdown",
   "metadata": {},
   "source": [
    "# res"
   ]
  },
  {
   "cell_type": "code",
   "execution_count": 23,
   "metadata": {
    "ExecuteTime": {
     "end_time": "2021-11-22T15:21:34.910258Z",
     "start_time": "2021-11-22T15:21:34.622Z"
    }
   },
   "outputs": [],
   "source": [
    "all <- list()\n",
    "for (i in 1:length(res)){\n",
    "    all[[i]] <- as.data.frame(do.call(rbind, lapply(res[[i]], function(x) x$rf_performance)))\n",
    "    all[[i]]$nconf <- sapply(res[[i]], function(x)length(x$confirmed))\n",
    "    all[[i]]$gamma <- params[[i]]['gamma'] \n",
    "    all[[i]]$k <- params[[i]]['k']        \n",
    "}"
   ]
  },
  {
   "cell_type": "code",
   "execution_count": 24,
   "metadata": {
    "ExecuteTime": {
     "end_time": "2021-11-22T15:21:36.908650Z",
     "start_time": "2021-11-22T15:21:36.661Z"
    }
   },
   "outputs": [],
   "source": [
    "all <- do.call(rbind, all)"
   ]
  },
  {
   "cell_type": "code",
   "execution_count": 25,
   "metadata": {
    "ExecuteTime": {
     "end_time": "2021-11-22T15:21:38.594188Z",
     "start_time": "2021-11-22T15:21:38.328Z"
    }
   },
   "outputs": [
    {
     "data": {
      "text/html": [
       "<table class=\"dataframe\">\n",
       "<caption>A grouped_df: 10 × 5</caption>\n",
       "<thead>\n",
       "\t<tr><th scope=col>Accuracy</th><th scope=col>Kappa</th><th scope=col>k</th><th scope=col>gamma</th><th scope=col>nconf</th></tr>\n",
       "\t<tr><th scope=col>&lt;dbl&gt;</th><th scope=col>&lt;dbl&gt;</th><th scope=col>&lt;dbl&gt;</th><th scope=col>&lt;dbl&gt;</th><th scope=col>&lt;dbl&gt;</th></tr>\n",
       "</thead>\n",
       "<tbody>\n",
       "\t<tr><td>0.8246970</td><td>0.6004235</td><td>1.0</td><td>0.2</td><td>332.5</td></tr>\n",
       "\t<tr><td>0.8245455</td><td>0.5995138</td><td>1.0</td><td>0.5</td><td>286.6</td></tr>\n",
       "\t<tr><td>0.8239394</td><td>0.5989855</td><td>1.0</td><td>0.8</td><td>275.2</td></tr>\n",
       "\t<tr><td>0.8240909</td><td>0.5987378</td><td>1.0</td><td>0.9</td><td>274.6</td></tr>\n",
       "\t<tr><td>0.8242424</td><td>0.5978190</td><td>1.0</td><td>0.7</td><td>280.0</td></tr>\n",
       "\t<tr><td>0.8233333</td><td>0.5972403</td><td>1.0</td><td>1.0</td><td>270.8</td></tr>\n",
       "\t<tr><td>0.8234848</td><td>0.5964878</td><td>1.0</td><td>0.4</td><td>295.1</td></tr>\n",
       "\t<tr><td>0.8231818</td><td>0.5964407</td><td>1.0</td><td>0.3</td><td>307.4</td></tr>\n",
       "\t<tr><td>0.8228788</td><td>0.5957346</td><td>0.9</td><td>0.4</td><td>123.9</td></tr>\n",
       "\t<tr><td>0.8215152</td><td>0.5936124</td><td>1.0</td><td>0.6</td><td>283.7</td></tr>\n",
       "</tbody>\n",
       "</table>\n"
      ],
      "text/latex": [
       "A grouped\\_df: 10 × 5\n",
       "\\begin{tabular}{lllll}\n",
       " Accuracy & Kappa & k & gamma & nconf\\\\\n",
       " <dbl> & <dbl> & <dbl> & <dbl> & <dbl>\\\\\n",
       "\\hline\n",
       "\t 0.8246970 & 0.6004235 & 1.0 & 0.2 & 332.5\\\\\n",
       "\t 0.8245455 & 0.5995138 & 1.0 & 0.5 & 286.6\\\\\n",
       "\t 0.8239394 & 0.5989855 & 1.0 & 0.8 & 275.2\\\\\n",
       "\t 0.8240909 & 0.5987378 & 1.0 & 0.9 & 274.6\\\\\n",
       "\t 0.8242424 & 0.5978190 & 1.0 & 0.7 & 280.0\\\\\n",
       "\t 0.8233333 & 0.5972403 & 1.0 & 1.0 & 270.8\\\\\n",
       "\t 0.8234848 & 0.5964878 & 1.0 & 0.4 & 295.1\\\\\n",
       "\t 0.8231818 & 0.5964407 & 1.0 & 0.3 & 307.4\\\\\n",
       "\t 0.8228788 & 0.5957346 & 0.9 & 0.4 & 123.9\\\\\n",
       "\t 0.8215152 & 0.5936124 & 1.0 & 0.6 & 283.7\\\\\n",
       "\\end{tabular}\n"
      ],
      "text/markdown": [
       "\n",
       "A grouped_df: 10 × 5\n",
       "\n",
       "| Accuracy &lt;dbl&gt; | Kappa &lt;dbl&gt; | k &lt;dbl&gt; | gamma &lt;dbl&gt; | nconf &lt;dbl&gt; |\n",
       "|---|---|---|---|---|\n",
       "| 0.8246970 | 0.6004235 | 1.0 | 0.2 | 332.5 |\n",
       "| 0.8245455 | 0.5995138 | 1.0 | 0.5 | 286.6 |\n",
       "| 0.8239394 | 0.5989855 | 1.0 | 0.8 | 275.2 |\n",
       "| 0.8240909 | 0.5987378 | 1.0 | 0.9 | 274.6 |\n",
       "| 0.8242424 | 0.5978190 | 1.0 | 0.7 | 280.0 |\n",
       "| 0.8233333 | 0.5972403 | 1.0 | 1.0 | 270.8 |\n",
       "| 0.8234848 | 0.5964878 | 1.0 | 0.4 | 295.1 |\n",
       "| 0.8231818 | 0.5964407 | 1.0 | 0.3 | 307.4 |\n",
       "| 0.8228788 | 0.5957346 | 0.9 | 0.4 | 123.9 |\n",
       "| 0.8215152 | 0.5936124 | 1.0 | 0.6 | 283.7 |\n",
       "\n"
      ],
      "text/plain": [
       "   Accuracy  Kappa     k   gamma nconf\n",
       "1  0.8246970 0.6004235 1.0 0.2   332.5\n",
       "2  0.8245455 0.5995138 1.0 0.5   286.6\n",
       "3  0.8239394 0.5989855 1.0 0.8   275.2\n",
       "4  0.8240909 0.5987378 1.0 0.9   274.6\n",
       "5  0.8242424 0.5978190 1.0 0.7   280.0\n",
       "6  0.8233333 0.5972403 1.0 1.0   270.8\n",
       "7  0.8234848 0.5964878 1.0 0.4   295.1\n",
       "8  0.8231818 0.5964407 1.0 0.3   307.4\n",
       "9  0.8228788 0.5957346 0.9 0.4   123.9\n",
       "10 0.8215152 0.5936124 1.0 0.6   283.7"
      ]
     },
     "metadata": {},
     "output_type": "display_data"
    }
   ],
   "source": [
    "all %>% group_by(gamma, k) %>%\n",
    "summarise_all(mean) %>%\n",
    "arrange(-Kappa) %>% \n",
    "head(10)%>% \n",
    "select(Accuracy, Kappa, k, gamma, nconf)"
   ]
  },
  {
   "cell_type": "code",
   "execution_count": 26,
   "metadata": {
    "ExecuteTime": {
     "end_time": "2021-11-22T15:21:59.297724Z",
     "start_time": "2021-11-22T15:21:58.979Z"
    }
   },
   "outputs": [
    {
     "data": {
      "text/html": [
       "<table class=\"dataframe\">\n",
       "<caption>A grouped_df: 1 × 5</caption>\n",
       "<thead>\n",
       "\t<tr><th scope=col>Accuracy</th><th scope=col>Kappa</th><th scope=col>k</th><th scope=col>gamma</th><th scope=col>nconf</th></tr>\n",
       "\t<tr><th scope=col>&lt;dbl&gt;</th><th scope=col>&lt;dbl&gt;</th><th scope=col>&lt;dbl&gt;</th><th scope=col>&lt;dbl&gt;</th><th scope=col>&lt;dbl&gt;</th></tr>\n",
       "</thead>\n",
       "<tbody>\n",
       "\t<tr><td>0.0102626</td><td>0.02531284</td><td>0.9</td><td>0.4</td><td>4.771443</td></tr>\n",
       "</tbody>\n",
       "</table>\n"
      ],
      "text/latex": [
       "A grouped\\_df: 1 × 5\n",
       "\\begin{tabular}{lllll}\n",
       " Accuracy & Kappa & k & gamma & nconf\\\\\n",
       " <dbl> & <dbl> & <dbl> & <dbl> & <dbl>\\\\\n",
       "\\hline\n",
       "\t 0.0102626 & 0.02531284 & 0.9 & 0.4 & 4.771443\\\\\n",
       "\\end{tabular}\n"
      ],
      "text/markdown": [
       "\n",
       "A grouped_df: 1 × 5\n",
       "\n",
       "| Accuracy &lt;dbl&gt; | Kappa &lt;dbl&gt; | k &lt;dbl&gt; | gamma &lt;dbl&gt; | nconf &lt;dbl&gt; |\n",
       "|---|---|---|---|---|\n",
       "| 0.0102626 | 0.02531284 | 0.9 | 0.4 | 4.771443 |\n",
       "\n"
      ],
      "text/plain": [
       "  Accuracy  Kappa      k   gamma nconf   \n",
       "1 0.0102626 0.02531284 0.9 0.4   4.771443"
      ]
     },
     "metadata": {},
     "output_type": "display_data"
    }
   ],
   "source": [
    "all %>% group_by(gamma, k) %>%\n",
    "summarise_all(sd) %>%\n",
    "subset(k == .9\n",
    "       & gamma == 0.4) %>%\n",
    "select(Accuracy, Kappa, k, gamma, nconf)"
   ]
  },
  {
   "cell_type": "markdown",
   "metadata": {},
   "source": [
    "# selected features"
   ]
  },
  {
   "cell_type": "code",
   "execution_count": 27,
   "metadata": {
    "ExecuteTime": {
     "end_time": "2021-11-22T15:22:02.816734Z",
     "start_time": "2021-11-22T15:22:02.580Z"
    }
   },
   "outputs": [
    {
     "data": {
      "text/html": [
       "104"
      ],
      "text/latex": [
       "104"
      ],
      "text/markdown": [
       "104"
      ],
      "text/plain": [
       "[1] 104"
      ]
     },
     "metadata": {},
     "output_type": "display_data"
    }
   ],
   "source": [
    "which(names(params) == '0.4_0.9')"
   ]
  },
  {
   "cell_type": "code",
   "execution_count": 28,
   "metadata": {
    "ExecuteTime": {
     "end_time": "2021-11-22T15:22:03.967511Z",
     "start_time": "2021-11-22T15:22:03.705Z"
    }
   },
   "outputs": [],
   "source": [
    "fs_names_each <- lapply(res[[104]], function(x){x$confirmed})"
   ]
  },
  {
   "cell_type": "code",
   "execution_count": 29,
   "metadata": {
    "ExecuteTime": {
     "end_time": "2021-11-22T15:22:05.266615Z",
     "start_time": "2021-11-22T15:22:04.981Z"
    }
   },
   "outputs": [
    {
     "name": "stderr",
     "output_type": "stream",
     "text": [
      "`summarise()` ungrouping output (override with `.groups` argument)\n",
      "\n"
     ]
    }
   ],
   "source": [
    "fs_names <- data.frame(Feature = fs_names_each %>% unlist) %>% group_by(Feature) %>% summarise(n = n()) %>% \n",
    "                arrange(-n) %>% subset(Feature != 'number_reads' & !str_detect(Feature, pattern = 'dataset_'))"
   ]
  },
  {
   "cell_type": "code",
   "execution_count": 30,
   "metadata": {
    "ExecuteTime": {
     "end_time": "2021-11-22T15:22:18.936545Z",
     "start_time": "2021-11-22T15:22:18.659Z"
    }
   },
   "outputs": [],
   "source": [
    "saveRDS(fs_names, file = '../tmp/FS_10cv.RDS')"
   ]
  },
  {
   "cell_type": "code",
   "execution_count": null,
   "metadata": {},
   "outputs": [],
   "source": []
  }
 ],
 "metadata": {
  "kernelspec": {
   "display_name": "R [conda env:Metagenomes_methanogen-r-ml] *",
   "language": "R",
   "name": "conda-env-Metagenomes_methanogen-r-ml-r"
  },
  "language_info": {
   "codemirror_mode": "r",
   "file_extension": ".r",
   "mimetype": "text/x-r-source",
   "name": "R",
   "pygments_lexer": "r",
   "version": "4.0.3"
  },
  "notify_time": "30",
  "toc": {
   "base_numbering": 1,
   "nav_menu": {},
   "number_sections": true,
   "sideBar": true,
   "skip_h1_title": false,
   "title_cell": "Table of Contents",
   "title_sidebar": "Contents",
   "toc_cell": false,
   "toc_position": {},
   "toc_section_display": true,
   "toc_window_display": true
  }
 },
 "nbformat": 4,
 "nbformat_minor": 4
}
