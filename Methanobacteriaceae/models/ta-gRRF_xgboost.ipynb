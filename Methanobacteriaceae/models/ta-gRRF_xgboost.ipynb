{
 "cells": [
  {
   "cell_type": "markdown",
   "metadata": {},
   "source": [
    "# Preambule"
   ]
  },
  {
   "cell_type": "code",
   "execution_count": 1,
   "metadata": {
    "ExecuteTime": {
     "end_time": "2021-11-22T14:47:01.822934Z",
     "start_time": "2021-11-22T14:46:58.218Z"
    },
    "scrolled": true
   },
   "outputs": [
    {
     "name": "stderr",
     "output_type": "stream",
     "text": [
      "── \u001b[1mAttaching packages\u001b[22m ────────────────────────────────────────────────────────────────────────────────────────────────────────────────────────────────────── tidyverse 1.3.0 ──\n",
      "\n",
      "\u001b[32m✔\u001b[39m \u001b[34mggplot2\u001b[39m 3.3.2     \u001b[32m✔\u001b[39m \u001b[34mpurrr  \u001b[39m 0.3.4\n",
      "\u001b[32m✔\u001b[39m \u001b[34mtibble \u001b[39m 3.0.4     \u001b[32m✔\u001b[39m \u001b[34mdplyr  \u001b[39m 1.0.2\n",
      "\u001b[32m✔\u001b[39m \u001b[34mtidyr  \u001b[39m 1.1.2     \u001b[32m✔\u001b[39m \u001b[34mstringr\u001b[39m 1.4.0\n",
      "\u001b[32m✔\u001b[39m \u001b[34mreadr  \u001b[39m 1.4.0     \u001b[32m✔\u001b[39m \u001b[34mforcats\u001b[39m 0.5.0\n",
      "\n",
      "── \u001b[1mConflicts\u001b[22m ───────────────────────────────────────────────────────────────────────────────────────────────────────────────────────────────────────── tidyverse_conflicts() ──\n",
      "\u001b[31m✖\u001b[39m \u001b[34mdplyr\u001b[39m::\u001b[32mfilter()\u001b[39m masks \u001b[34mstats\u001b[39m::filter()\n",
      "\u001b[31m✖\u001b[39m \u001b[34mdplyr\u001b[39m::\u001b[32mlag()\u001b[39m    masks \u001b[34mstats\u001b[39m::lag()\n",
      "\n",
      "Loading required package: lattice\n",
      "\n",
      "\n",
      "Attaching package: ‘caret’\n",
      "\n",
      "\n",
      "The following object is masked from ‘package:purrr’:\n",
      "\n",
      "    lift\n",
      "\n",
      "\n",
      "qs v0.23.4.\n",
      "\n"
     ]
    }
   ],
   "source": [
    "library(tidyverse)\n",
    "library(stringr)\n",
    "library(caret)\n",
    "library(dplyr)\n",
    "library('qs')"
   ]
  },
  {
   "cell_type": "code",
   "execution_count": 2,
   "metadata": {
    "ExecuteTime": {
     "end_time": "2021-11-22T14:47:01.969224Z",
     "start_time": "2021-11-22T14:46:58.863Z"
    }
   },
   "outputs": [],
   "source": [
    "library(clustermq)\n",
    "options(clustermq.scheduler = \"sge\", clustermq.template = \"~/.clustermq.tmpl\")"
   ]
  },
  {
   "cell_type": "code",
   "execution_count": 3,
   "metadata": {
    "ExecuteTime": {
     "end_time": "2021-11-22T14:47:02.023939Z",
     "start_time": "2021-11-22T14:46:59.102Z"
    }
   },
   "outputs": [
    {
     "data": {
      "text/plain": [
       "R version 4.0.3 (2020-10-10)\n",
       "Platform: x86_64-conda-linux-gnu (64-bit)\n",
       "Running under: Ubuntu 18.04.6 LTS\n",
       "\n",
       "Matrix products: default\n",
       "BLAS/LAPACK: /ebio/abt3_projects/Methanogen_SCFA/Metagenomes_methanogen/envs/r-ml/lib/libopenblasp-r0.3.10.so\n",
       "\n",
       "locale:\n",
       " [1] LC_CTYPE=en_US.UTF-8       LC_NUMERIC=C              \n",
       " [3] LC_TIME=en_US.UTF-8        LC_COLLATE=en_US.UTF-8    \n",
       " [5] LC_MONETARY=en_US.UTF-8    LC_MESSAGES=en_US.UTF-8   \n",
       " [7] LC_PAPER=en_US.UTF-8       LC_NAME=C                 \n",
       " [9] LC_ADDRESS=C               LC_TELEPHONE=C            \n",
       "[11] LC_MEASUREMENT=en_US.UTF-8 LC_IDENTIFICATION=C       \n",
       "\n",
       "attached base packages:\n",
       "[1] stats     graphics  grDevices utils     datasets  methods   base     \n",
       "\n",
       "other attached packages:\n",
       " [1] clustermq_0.8.95.1 qs_0.23.4          caret_6.0-86       lattice_0.20-41   \n",
       " [5] forcats_0.5.0      stringr_1.4.0      dplyr_1.0.2        purrr_0.3.4       \n",
       " [9] readr_1.4.0        tidyr_1.1.2        tibble_3.0.4       ggplot2_3.3.2     \n",
       "[13] tidyverse_1.3.0   \n",
       "\n",
       "loaded via a namespace (and not attached):\n",
       " [1] httr_1.4.2           jsonlite_1.7.2       splines_4.0.3       \n",
       " [4] foreach_1.5.1        prodlim_2019.11.13   modelr_0.1.8        \n",
       " [7] RcppParallel_5.0.2   assertthat_0.2.1     stats4_4.0.3        \n",
       "[10] cellranger_1.1.0     ipred_0.9-9          pillar_1.4.7        \n",
       "[13] backports_1.2.0      glue_1.4.2           pROC_1.16.2         \n",
       "[16] uuid_0.1-4           digest_0.6.27        rvest_0.3.6         \n",
       "[19] stringfish_0.14.2    colorspace_2.0-0     recipes_0.1.15      \n",
       "[22] htmltools_0.5.0      Matrix_1.2-18        plyr_1.8.6          \n",
       "[25] timeDate_3043.102    pkgconfig_2.0.3      broom_0.7.2         \n",
       "[28] haven_2.3.1          scales_1.1.1         gower_0.2.2         \n",
       "[31] RApiSerialize_0.1.0  lava_1.6.8.1         generics_0.1.0      \n",
       "[34] ellipsis_0.3.1       withr_2.3.0          repr_1.1.2.9000     \n",
       "[37] nnet_7.3-14          cli_2.2.0            survival_3.2-7      \n",
       "[40] magrittr_2.0.1       crayon_1.3.4         readxl_1.3.1        \n",
       "[43] evaluate_0.14        ps_1.5.0             fs_1.5.0            \n",
       "[46] fansi_0.4.1          nlme_3.1-150         MASS_7.3-53         \n",
       "[49] xml2_1.3.2           class_7.3-17         data.table_1.13.4   \n",
       "[52] tools_4.0.3          hms_0.5.3            lifecycle_0.2.0     \n",
       "[55] munsell_0.5.0        reprex_0.3.0         compiler_4.0.3      \n",
       "[58] rlang_0.4.10         grid_4.0.3           pbdZMQ_0.3-3.1      \n",
       "[61] iterators_1.0.13     IRkernel_1.1.1       rstudioapi_0.13     \n",
       "[64] base64enc_0.1-3      ModelMetrics_1.2.2.2 gtable_0.3.0        \n",
       "[67] codetools_0.2-18     DBI_1.1.0            reshape2_1.4.4      \n",
       "[70] R6_2.5.0             lubridate_1.7.9.2    stringi_1.5.3       \n",
       "[73] IRdisplay_0.7.0      Rcpp_1.0.5           vctrs_0.3.6         \n",
       "[76] rpart_4.1-15         dbplyr_2.0.0         tidyselect_1.1.0    "
      ]
     },
     "metadata": {},
     "output_type": "display_data"
    }
   ],
   "source": [
    "sessionInfo()"
   ]
  },
  {
   "cell_type": "markdown",
   "metadata": {},
   "source": [
    "# Functions"
   ]
  },
  {
   "cell_type": "code",
   "execution_count": 4,
   "metadata": {
    "ExecuteTime": {
     "end_time": "2021-11-22T14:47:05.747128Z",
     "start_time": "2021-11-22T14:47:05.623Z"
    }
   },
   "outputs": [],
   "source": [
    "file.sources <- list.files('../scripts/', pattern = '*.R', full.names=TRUE, ignore.case=TRUE)\n",
    "for (f in file.sources) {\n",
    "    source(f)\n",
    "}\n",
    "rm('file.sources', 'f')"
   ]
  },
  {
   "cell_type": "code",
   "execution_count": 5,
   "metadata": {
    "ExecuteTime": {
     "end_time": "2021-11-22T14:47:05.936239Z",
     "start_time": "2021-11-22T14:47:05.863Z"
    }
   },
   "outputs": [],
   "source": [
    "source('../../Common_scripts/get_taxa_lists.R')"
   ]
  },
  {
   "cell_type": "markdown",
   "metadata": {},
   "source": [
    "# Data"
   ]
  },
  {
   "cell_type": "markdown",
   "metadata": {},
   "source": [
    "## data"
   ]
  },
  {
   "cell_type": "code",
   "execution_count": 6,
   "metadata": {
    "ExecuteTime": {
     "end_time": "2021-11-22T14:47:18.580283Z",
     "start_time": "2021-11-22T14:47:18.060Z"
    }
   },
   "outputs": [],
   "source": [
    "meta <- qread('../data/meta_pp.qs') %>% select(-all_of(c('age', 'BMI', 'genderfemale')))\n",
    "tax <- qread('../data/taxa_nometh.qs') \n",
    "pth <- qread('../data/pathways_nometh.qs')\n",
    "targets <- qread('../data/targets_meth.qs')"
   ]
  },
  {
   "cell_type": "code",
   "execution_count": 7,
   "metadata": {
    "ExecuteTime": {
     "end_time": "2021-11-22T14:47:22.288631Z",
     "start_time": "2021-11-22T14:47:21.116Z"
    }
   },
   "outputs": [],
   "source": [
    "pp <- left_join(meta, tax, by = 'Sample') %>% left_join(pth, by = 'Sample') %>% \n",
    "            left_join(select(targets, Sample, Mtbc), by = 'Sample') \n",
    "target <- as.factor(pp$Mtbc)\n",
    "pp <- pp %>% select(-Sample, -Mtbc)"
   ]
  },
  {
   "cell_type": "code",
   "execution_count": 8,
   "metadata": {
    "ExecuteTime": {
     "end_time": "2021-11-22T14:47:24.931104Z",
     "start_time": "2021-11-22T14:47:24.840Z"
    }
   },
   "outputs": [
    {
     "data": {
      "text/html": [
       "<style>\n",
       ".list-inline {list-style: none; margin:0; padding: 0}\n",
       ".list-inline>li {display: inline-block}\n",
       ".list-inline>li:not(:last-child)::after {content: \"\\00b7\"; padding: 0 .5ex}\n",
       "</style>\n",
       "<ol class=list-inline><li>2203</li><li>2315</li></ol>\n"
      ],
      "text/latex": [
       "\\begin{enumerate*}\n",
       "\\item 2203\n",
       "\\item 2315\n",
       "\\end{enumerate*}\n"
      ],
      "text/markdown": [
       "1. 2203\n",
       "2. 2315\n",
       "\n",
       "\n"
      ],
      "text/plain": [
       "[1] 2203 2315"
      ]
     },
     "metadata": {},
     "output_type": "display_data"
    }
   ],
   "source": [
    "dim(pp)"
   ]
  },
  {
   "cell_type": "code",
   "execution_count": 9,
   "metadata": {
    "ExecuteTime": {
     "end_time": "2021-11-22T14:47:37.316678Z",
     "start_time": "2021-11-22T14:47:37.197Z"
    }
   },
   "outputs": [],
   "source": [
    "set.seed(0)\n",
    "trainIx <- createDataPartition(y = target, times = 10, p = .7, list = TRUE)"
   ]
  },
  {
   "cell_type": "code",
   "execution_count": 10,
   "metadata": {
    "ExecuteTime": {
     "end_time": "2021-11-22T14:47:37.880296Z",
     "start_time": "2021-11-22T14:47:37.783Z"
    }
   },
   "outputs": [],
   "source": [
    "meta_names <- c(str_subset(colnames(pp), pattern = 'dataset'), 'number_reads')"
   ]
  },
  {
   "cell_type": "code",
   "execution_count": 11,
   "metadata": {
    "ExecuteTime": {
     "end_time": "2021-11-22T14:47:38.285110Z",
     "start_time": "2021-11-22T14:47:38.203Z"
    }
   },
   "outputs": [
    {
     "data": {
      "text/html": [
       "<style>\n",
       ".list-inline {list-style: none; margin:0; padding: 0}\n",
       ".list-inline>li {display: inline-block}\n",
       ".list-inline>li:not(:last-child)::after {content: \"\\00b7\"; padding: 0 .5ex}\n",
       "</style>\n",
       "<ol class=list-inline><li>'dataset_nameAsnicarF_2017'</li><li>'dataset_nameBengtsson_PalmeJ_2015'</li><li>'dataset_nameBritoIL_2016'</li><li>'dataset_nameCosteaPI_2017'</li><li>'dataset_nameDhakanDB_2019'</li><li>'dataset_nameFengQ_2015'</li><li>'dataset_nameHanniganGD_2017'</li><li>'dataset_nameHansenLBS_2018'</li><li>'dataset_nameHeitz_BuschartA_2016'</li><li>'dataset_nameHMP_2012'</li><li>'dataset_nameJieZ_2017'</li><li>'dataset_nameKarlssonFH_2013'</li><li>'dataset_nameLiJ_2017'</li><li>'dataset_nameLiuW_2016'</li><li>'dataset_nameLouisS_2016'</li><li>'dataset_nameObregon_TitoAJ_2015'</li><li>'dataset_namePasolliE_2018'</li><li>'dataset_namePehrssonE_2016'</li><li>'dataset_nameRaymondF_2016'</li><li>'dataset_nameSchirmerM_2016'</li><li>'dataset_nameTettAJ_2019_a'</li><li>'dataset_nameTettAJ_2019_b'</li><li>'dataset_nameTettAJ_2019_c'</li><li>'dataset_nameXieH_2016'</li><li>'dataset_nameYeZ_2018'</li><li>'dataset_nameYuJ_2015'</li><li>'number_reads'</li></ol>\n"
      ],
      "text/latex": [
       "\\begin{enumerate*}\n",
       "\\item 'dataset\\_nameAsnicarF\\_2017'\n",
       "\\item 'dataset\\_nameBengtsson\\_PalmeJ\\_2015'\n",
       "\\item 'dataset\\_nameBritoIL\\_2016'\n",
       "\\item 'dataset\\_nameCosteaPI\\_2017'\n",
       "\\item 'dataset\\_nameDhakanDB\\_2019'\n",
       "\\item 'dataset\\_nameFengQ\\_2015'\n",
       "\\item 'dataset\\_nameHanniganGD\\_2017'\n",
       "\\item 'dataset\\_nameHansenLBS\\_2018'\n",
       "\\item 'dataset\\_nameHeitz\\_BuschartA\\_2016'\n",
       "\\item 'dataset\\_nameHMP\\_2012'\n",
       "\\item 'dataset\\_nameJieZ\\_2017'\n",
       "\\item 'dataset\\_nameKarlssonFH\\_2013'\n",
       "\\item 'dataset\\_nameLiJ\\_2017'\n",
       "\\item 'dataset\\_nameLiuW\\_2016'\n",
       "\\item 'dataset\\_nameLouisS\\_2016'\n",
       "\\item 'dataset\\_nameObregon\\_TitoAJ\\_2015'\n",
       "\\item 'dataset\\_namePasolliE\\_2018'\n",
       "\\item 'dataset\\_namePehrssonE\\_2016'\n",
       "\\item 'dataset\\_nameRaymondF\\_2016'\n",
       "\\item 'dataset\\_nameSchirmerM\\_2016'\n",
       "\\item 'dataset\\_nameTettAJ\\_2019\\_a'\n",
       "\\item 'dataset\\_nameTettAJ\\_2019\\_b'\n",
       "\\item 'dataset\\_nameTettAJ\\_2019\\_c'\n",
       "\\item 'dataset\\_nameXieH\\_2016'\n",
       "\\item 'dataset\\_nameYeZ\\_2018'\n",
       "\\item 'dataset\\_nameYuJ\\_2015'\n",
       "\\item 'number\\_reads'\n",
       "\\end{enumerate*}\n"
      ],
      "text/markdown": [
       "1. 'dataset_nameAsnicarF_2017'\n",
       "2. 'dataset_nameBengtsson_PalmeJ_2015'\n",
       "3. 'dataset_nameBritoIL_2016'\n",
       "4. 'dataset_nameCosteaPI_2017'\n",
       "5. 'dataset_nameDhakanDB_2019'\n",
       "6. 'dataset_nameFengQ_2015'\n",
       "7. 'dataset_nameHanniganGD_2017'\n",
       "8. 'dataset_nameHansenLBS_2018'\n",
       "9. 'dataset_nameHeitz_BuschartA_2016'\n",
       "10. 'dataset_nameHMP_2012'\n",
       "11. 'dataset_nameJieZ_2017'\n",
       "12. 'dataset_nameKarlssonFH_2013'\n",
       "13. 'dataset_nameLiJ_2017'\n",
       "14. 'dataset_nameLiuW_2016'\n",
       "15. 'dataset_nameLouisS_2016'\n",
       "16. 'dataset_nameObregon_TitoAJ_2015'\n",
       "17. 'dataset_namePasolliE_2018'\n",
       "18. 'dataset_namePehrssonE_2016'\n",
       "19. 'dataset_nameRaymondF_2016'\n",
       "20. 'dataset_nameSchirmerM_2016'\n",
       "21. 'dataset_nameTettAJ_2019_a'\n",
       "22. 'dataset_nameTettAJ_2019_b'\n",
       "23. 'dataset_nameTettAJ_2019_c'\n",
       "24. 'dataset_nameXieH_2016'\n",
       "25. 'dataset_nameYeZ_2018'\n",
       "26. 'dataset_nameYuJ_2015'\n",
       "27. 'number_reads'\n",
       "\n",
       "\n"
      ],
      "text/plain": [
       " [1] \"dataset_nameAsnicarF_2017\"         \"dataset_nameBengtsson_PalmeJ_2015\"\n",
       " [3] \"dataset_nameBritoIL_2016\"          \"dataset_nameCosteaPI_2017\"        \n",
       " [5] \"dataset_nameDhakanDB_2019\"         \"dataset_nameFengQ_2015\"           \n",
       " [7] \"dataset_nameHanniganGD_2017\"       \"dataset_nameHansenLBS_2018\"       \n",
       " [9] \"dataset_nameHeitz_BuschartA_2016\"  \"dataset_nameHMP_2012\"             \n",
       "[11] \"dataset_nameJieZ_2017\"             \"dataset_nameKarlssonFH_2013\"      \n",
       "[13] \"dataset_nameLiJ_2017\"              \"dataset_nameLiuW_2016\"            \n",
       "[15] \"dataset_nameLouisS_2016\"           \"dataset_nameObregon_TitoAJ_2015\"  \n",
       "[17] \"dataset_namePasolliE_2018\"         \"dataset_namePehrssonE_2016\"       \n",
       "[19] \"dataset_nameRaymondF_2016\"         \"dataset_nameSchirmerM_2016\"       \n",
       "[21] \"dataset_nameTettAJ_2019_a\"         \"dataset_nameTettAJ_2019_b\"        \n",
       "[23] \"dataset_nameTettAJ_2019_c\"         \"dataset_nameXieH_2016\"            \n",
       "[25] \"dataset_nameYeZ_2018\"              \"dataset_nameYuJ_2015\"             \n",
       "[27] \"number_reads\"                     "
      ]
     },
     "metadata": {},
     "output_type": "display_data"
    }
   ],
   "source": [
    "meta_names"
   ]
  },
  {
   "cell_type": "markdown",
   "metadata": {},
   "source": [
    "## get taxa lists for FS"
   ]
  },
  {
   "cell_type": "code",
   "execution_count": 12,
   "metadata": {
    "ExecuteTime": {
     "end_time": "2021-11-22T14:47:43.219183Z",
     "start_time": "2021-11-22T14:47:42.013Z"
    }
   },
   "outputs": [
    {
     "name": "stderr",
     "output_type": "stream",
     "text": [
      "Warning message:\n",
      "“replacing previous import ‘data.table::last’ by ‘dplyr::last’ when loading ‘endoR’”\n",
      "Warning message:\n",
      "“replacing previous import ‘data.table::first’ by ‘dplyr::first’ when loading ‘endoR’”\n",
      "Warning message:\n",
      "“replacing previous import ‘data.table::between’ by ‘dplyr::between’ when loading ‘endoR’”\n",
      "Warning message:\n",
      "“replacing previous import ‘dplyr::union’ by ‘igraph::union’ when loading ‘endoR’”\n",
      "Warning message:\n",
      "“replacing previous import ‘dplyr::as_data_frame’ by ‘igraph::as_data_frame’ when loading ‘endoR’”\n",
      "Warning message:\n",
      "“replacing previous import ‘dplyr::groups’ by ‘igraph::groups’ when loading ‘endoR’”\n"
     ]
    }
   ],
   "source": [
    "tax_names <- qread('../data/taxa_table.qs')\n",
    "tax_names <- mutate_all(tax_names, endoR::compatibleNames )"
   ]
  },
  {
   "cell_type": "code",
   "execution_count": 13,
   "metadata": {
    "ExecuteTime": {
     "end_time": "2021-11-22T14:47:43.243413Z",
     "start_time": "2021-11-22T14:47:42.253Z"
    }
   },
   "outputs": [],
   "source": [
    "tax_names$f <- paste0('f_', tax_names$f)\n",
    "tax_names$g <- paste0('g_', tax_names$g)\n",
    "tax_names$s <- paste0('s_', tax_names$s)"
   ]
  },
  {
   "cell_type": "code",
   "execution_count": 14,
   "metadata": {
    "ExecuteTime": {
     "end_time": "2021-11-22T14:47:47.086943Z",
     "start_time": "2021-11-22T14:47:44.591Z"
    }
   },
   "outputs": [],
   "source": [
    "families <- lapply(unique(tax_names$f), getFamilies, tax_names = tax_names)\n",
    "names(families) <- unique(tax_names$f)\n",
    "genera <- lapply(unique(tax_names$g), getGenera, tax_names = tax_names)\n",
    "names(genera) <- unique(tax_names$g)\n",
    "species <- lapply(unique(tax_names$s), getSpecies, tax_names = tax_names)\n",
    "names(species) <- unique(tax_names$s)"
   ]
  },
  {
   "cell_type": "markdown",
   "metadata": {},
   "source": [
    "# CV"
   ]
  },
  {
   "cell_type": "code",
   "execution_count": 22,
   "metadata": {
    "ExecuteTime": {
     "end_time": "2021-11-22T14:48:26.674568Z",
     "start_time": "2021-11-22T14:48:26.588Z"
    }
   },
   "outputs": [],
   "source": [
    "gammas <- seq(0,1, by = 0.1)\n",
    "ks <- seq(0,1,0.1)\n",
    "fs_param<-as.list(data.frame(t(expand.grid(gammas, ks)))) %>% \n",
    "            lapply(function(x){names(x) <- c('gamma', 'k');return(x)})"
   ]
  },
  {
   "cell_type": "code",
   "execution_count": 16,
   "metadata": {
    "ExecuteTime": {
     "end_time": "2021-11-22T14:03:00.363685Z",
     "start_time": "2021-11-22T14:02:59.661Z"
    }
   },
   "outputs": [],
   "source": [
    "nrounds <- c(10, 50, 100, 250, 500, 750, 1000, 1500)\n",
    "max_depth <- 1:10\n",
    "xgboost_param <- as.list(data.frame(t(expand.grid(nrounds, max_depth))))%>% \n",
    "                    lapply(function(x){names(x) <- c('nrounds', 'max_depth');return(x)})"
   ]
  },
  {
   "cell_type": "code",
   "execution_count": 15,
   "metadata": {
    "ExecuteTime": {
     "end_time": "2021-11-22T14:48:08.229450Z",
     "start_time": "2021-11-22T14:48:08.140Z"
    }
   },
   "outputs": [],
   "source": [
    "class_weights <- round(sum(target == levels(target)[1])/length(target), digits = 2)\n",
    "case_weights <- ifelse(target == levels(target)[1], class_weights[2], class_weights[1])  "
   ]
  },
  {
   "cell_type": "code",
   "execution_count": 16,
   "metadata": {
    "ExecuteTime": {
     "end_time": "2021-11-22T14:48:08.716129Z",
     "start_time": "2021-11-22T14:48:08.650Z"
    }
   },
   "outputs": [],
   "source": [
    "tmpl <- list(conda = \"r-ml\", cores = 10, job_time = '24:00:00', job_mem = '10G')"
   ]
  },
  {
   "cell_type": "code",
   "execution_count": 17,
   "metadata": {
    "ExecuteTime": {
     "end_time": "2021-11-22T14:48:11.123922Z",
     "start_time": "2021-11-22T14:48:11.019Z"
    },
    "scrolled": true
   },
   "outputs": [],
   "source": [
    "## to run on HPC\n",
    "#tuning_res <- Q(gammaTuning\n",
    "#  , fs_param = fs_param\n",
    "#  , const = list('trainIx' = trainIx, 'data'= pp, 'meta' = meta_names, 'target' = target\n",
    "#                 , 'case_weights'=case_weights\n",
    "#                 , 'families' = families,'genera' = genera, 'species' = species\n",
    "#                 , 'xgboost_param' = xgboost_param)\n",
    "#  , export = list('tagRRFxgboost' = tagRRFxgboost)\n",
    "#  , n_jobs= length(fs_param)\n",
    "#  , pkgs=c('caret', 'xgboost', 'dplyr', 'RRF')\n",
    "#  , log_worker=FALSE\n",
    "#  , template = tmpl\n",
    "# )"
   ]
  },
  {
   "cell_type": "code",
   "execution_count": 18,
   "metadata": {
    "ExecuteTime": {
     "end_time": "2021-11-22T14:48:11.801959Z",
     "start_time": "2021-11-22T14:48:11.710Z"
    }
   },
   "outputs": [],
   "source": [
    "# qsave(tuning_res, '../tmp/All_ta-gRRF_xgboost.qs')"
   ]
  },
  {
   "cell_type": "code",
   "execution_count": 19,
   "metadata": {
    "ExecuteTime": {
     "end_time": "2021-11-22T14:48:13.014675Z",
     "start_time": "2021-11-22T14:48:12.791Z"
    }
   },
   "outputs": [],
   "source": [
    "tuning_res <- qread('../tmp/All_ta-gRRF_xgboost.qs')"
   ]
  },
  {
   "cell_type": "markdown",
   "metadata": {},
   "source": [
    "# res"
   ]
  },
  {
   "cell_type": "code",
   "execution_count": 20,
   "metadata": {
    "ExecuteTime": {
     "end_time": "2021-11-22T14:48:13.376581Z",
     "start_time": "2021-11-22T14:48:13.299Z"
    }
   },
   "outputs": [],
   "source": [
    "getCV <- function(res){\n",
    "    eachIx <- list()\n",
    "    for (i in 1:length(res)){\n",
    "        tmp <- res[[i]]$tuned_xgb\n",
    "        #tmp <- lapply(tmp, function(x){x$xgboost_performance})\n",
    "        tmp <- as.data.frame(do.call(rbind, tmp))\n",
    "        tmp$max_depth <- str_extract(names(res[[i]]$tuned_xgb), pattern = '(?<=maxdepth).*$') %>% as.numeric\n",
    "        tmp$nrounds <- str_extract(names(res[[i]]$tuned_xgb), pattern = '^.*(?=nrounds)') %>% as.numeric\n",
    "        tmp$nconfirmed <- length( res[[i]]$confirmed )\n",
    "        eachIx[[i]] <- tmp\n",
    "    }\n",
    "    \n",
    "    eachIx <- do.call(rbind, eachIx)\n",
    "    return(eachIx)\n",
    "}"
   ]
  },
  {
   "cell_type": "code",
   "execution_count": 23,
   "metadata": {
    "ExecuteTime": {
     "end_time": "2021-11-22T14:48:32.216775Z",
     "start_time": "2021-11-22T14:48:30.337Z"
    }
   },
   "outputs": [],
   "source": [
    "res_cv <- lapply(tuning_res, getCV)\n",
    "for (i in 1:length(res_cv)){\n",
    "    res_cv[[i]]$gamma <- fs_param[[i]]['gamma']\n",
    "    res_cv[[i]]$k <- fs_param[[i]]['k']\n",
    "}\n",
    "res_cv <- do.call(rbind, res_cv)"
   ]
  },
  {
   "cell_type": "code",
   "execution_count": 24,
   "metadata": {
    "ExecuteTime": {
     "end_time": "2021-11-22T14:48:34.896445Z",
     "start_time": "2021-11-22T14:48:32.903Z"
    }
   },
   "outputs": [],
   "source": [
    "res_m <- res_cv %>% group_by(gamma,k, max_depth, nrounds) %>% summarise_all(mean)\n",
    "res_sd <- res_cv %>% group_by(gamma,k, max_depth, nrounds) %>% summarise_all(sd)\n",
    "\n",
    "res_summary <- left_join(res_m, res_sd, by = c('gamma','k', 'max_depth', 'nrounds'), suffix = c('_avg', '_sd'))"
   ]
  },
  {
   "cell_type": "code",
   "execution_count": 33,
   "metadata": {
    "ExecuteTime": {
     "end_time": "2021-11-22T14:50:54.801930Z",
     "start_time": "2021-11-22T14:50:54.660Z"
    }
   },
   "outputs": [
    {
     "data": {
      "text/html": [
       "<table class=\"dataframe\">\n",
       "<caption>A grouped_df: 10 × 10</caption>\n",
       "<thead>\n",
       "\t<tr><th scope=col>gamma</th><th scope=col>k</th><th scope=col>max_depth</th><th scope=col>nrounds</th><th scope=col>Kappa_avg</th><th scope=col>Kappa_sd</th><th scope=col>Accuracy_avg</th><th scope=col>Accuracy_sd</th><th scope=col>nconfirmed_avg</th><th scope=col>nconfirmed_sd</th></tr>\n",
       "\t<tr><th scope=col>&lt;dbl&gt;</th><th scope=col>&lt;dbl&gt;</th><th scope=col>&lt;dbl&gt;</th><th scope=col>&lt;dbl&gt;</th><th scope=col>&lt;dbl&gt;</th><th scope=col>&lt;dbl&gt;</th><th scope=col>&lt;dbl&gt;</th><th scope=col>&lt;dbl&gt;</th><th scope=col>&lt;dbl&gt;</th><th scope=col>&lt;dbl&gt;</th></tr>\n",
       "</thead>\n",
       "<tbody>\n",
       "\t<tr><td>0</td><td>0.0</td><td>1</td><td>250</td><td>0.5747835</td><td>0.008837095</td><td>0.8116667</td><td>0.003034509</td><td>883.2</td><td>24.88105</td></tr>\n",
       "\t<tr><td>0</td><td>0.1</td><td>1</td><td>250</td><td>0.5747835</td><td>0.008837095</td><td>0.8116667</td><td>0.003034509</td><td>883.2</td><td>24.88105</td></tr>\n",
       "\t<tr><td>0</td><td>0.2</td><td>1</td><td>250</td><td>0.5747835</td><td>0.008837095</td><td>0.8116667</td><td>0.003034509</td><td>883.2</td><td>24.88105</td></tr>\n",
       "\t<tr><td>0</td><td>0.3</td><td>1</td><td>250</td><td>0.5747835</td><td>0.008837095</td><td>0.8116667</td><td>0.003034509</td><td>883.2</td><td>24.88105</td></tr>\n",
       "\t<tr><td>0</td><td>0.4</td><td>1</td><td>250</td><td>0.5747835</td><td>0.008837095</td><td>0.8116667</td><td>0.003034509</td><td>883.2</td><td>24.88105</td></tr>\n",
       "\t<tr><td>0</td><td>0.5</td><td>1</td><td>250</td><td>0.5747835</td><td>0.008837095</td><td>0.8116667</td><td>0.003034509</td><td>883.2</td><td>24.88105</td></tr>\n",
       "\t<tr><td>0</td><td>0.6</td><td>1</td><td>250</td><td>0.5747835</td><td>0.008837095</td><td>0.8116667</td><td>0.003034509</td><td>883.2</td><td>24.88105</td></tr>\n",
       "\t<tr><td>0</td><td>0.7</td><td>1</td><td>250</td><td>0.5747835</td><td>0.008837095</td><td>0.8116667</td><td>0.003034509</td><td>883.2</td><td>24.88105</td></tr>\n",
       "\t<tr><td>0</td><td>0.8</td><td>1</td><td>250</td><td>0.5747835</td><td>0.008837095</td><td>0.8116667</td><td>0.003034509</td><td>883.2</td><td>24.88105</td></tr>\n",
       "\t<tr><td>0</td><td>0.9</td><td>1</td><td>250</td><td>0.5747835</td><td>0.008837095</td><td>0.8116667</td><td>0.003034509</td><td>883.2</td><td>24.88105</td></tr>\n",
       "</tbody>\n",
       "</table>\n"
      ],
      "text/latex": [
       "A grouped\\_df: 10 × 10\n",
       "\\begin{tabular}{llllllllll}\n",
       " gamma & k & max\\_depth & nrounds & Kappa\\_avg & Kappa\\_sd & Accuracy\\_avg & Accuracy\\_sd & nconfirmed\\_avg & nconfirmed\\_sd\\\\\n",
       " <dbl> & <dbl> & <dbl> & <dbl> & <dbl> & <dbl> & <dbl> & <dbl> & <dbl> & <dbl>\\\\\n",
       "\\hline\n",
       "\t 0 & 0.0 & 1 & 250 & 0.5747835 & 0.008837095 & 0.8116667 & 0.003034509 & 883.2 & 24.88105\\\\\n",
       "\t 0 & 0.1 & 1 & 250 & 0.5747835 & 0.008837095 & 0.8116667 & 0.003034509 & 883.2 & 24.88105\\\\\n",
       "\t 0 & 0.2 & 1 & 250 & 0.5747835 & 0.008837095 & 0.8116667 & 0.003034509 & 883.2 & 24.88105\\\\\n",
       "\t 0 & 0.3 & 1 & 250 & 0.5747835 & 0.008837095 & 0.8116667 & 0.003034509 & 883.2 & 24.88105\\\\\n",
       "\t 0 & 0.4 & 1 & 250 & 0.5747835 & 0.008837095 & 0.8116667 & 0.003034509 & 883.2 & 24.88105\\\\\n",
       "\t 0 & 0.5 & 1 & 250 & 0.5747835 & 0.008837095 & 0.8116667 & 0.003034509 & 883.2 & 24.88105\\\\\n",
       "\t 0 & 0.6 & 1 & 250 & 0.5747835 & 0.008837095 & 0.8116667 & 0.003034509 & 883.2 & 24.88105\\\\\n",
       "\t 0 & 0.7 & 1 & 250 & 0.5747835 & 0.008837095 & 0.8116667 & 0.003034509 & 883.2 & 24.88105\\\\\n",
       "\t 0 & 0.8 & 1 & 250 & 0.5747835 & 0.008837095 & 0.8116667 & 0.003034509 & 883.2 & 24.88105\\\\\n",
       "\t 0 & 0.9 & 1 & 250 & 0.5747835 & 0.008837095 & 0.8116667 & 0.003034509 & 883.2 & 24.88105\\\\\n",
       "\\end{tabular}\n"
      ],
      "text/markdown": [
       "\n",
       "A grouped_df: 10 × 10\n",
       "\n",
       "| gamma &lt;dbl&gt; | k &lt;dbl&gt; | max_depth &lt;dbl&gt; | nrounds &lt;dbl&gt; | Kappa_avg &lt;dbl&gt; | Kappa_sd &lt;dbl&gt; | Accuracy_avg &lt;dbl&gt; | Accuracy_sd &lt;dbl&gt; | nconfirmed_avg &lt;dbl&gt; | nconfirmed_sd &lt;dbl&gt; |\n",
       "|---|---|---|---|---|---|---|---|---|---|\n",
       "| 0 | 0.0 | 1 | 250 | 0.5747835 | 0.008837095 | 0.8116667 | 0.003034509 | 883.2 | 24.88105 |\n",
       "| 0 | 0.1 | 1 | 250 | 0.5747835 | 0.008837095 | 0.8116667 | 0.003034509 | 883.2 | 24.88105 |\n",
       "| 0 | 0.2 | 1 | 250 | 0.5747835 | 0.008837095 | 0.8116667 | 0.003034509 | 883.2 | 24.88105 |\n",
       "| 0 | 0.3 | 1 | 250 | 0.5747835 | 0.008837095 | 0.8116667 | 0.003034509 | 883.2 | 24.88105 |\n",
       "| 0 | 0.4 | 1 | 250 | 0.5747835 | 0.008837095 | 0.8116667 | 0.003034509 | 883.2 | 24.88105 |\n",
       "| 0 | 0.5 | 1 | 250 | 0.5747835 | 0.008837095 | 0.8116667 | 0.003034509 | 883.2 | 24.88105 |\n",
       "| 0 | 0.6 | 1 | 250 | 0.5747835 | 0.008837095 | 0.8116667 | 0.003034509 | 883.2 | 24.88105 |\n",
       "| 0 | 0.7 | 1 | 250 | 0.5747835 | 0.008837095 | 0.8116667 | 0.003034509 | 883.2 | 24.88105 |\n",
       "| 0 | 0.8 | 1 | 250 | 0.5747835 | 0.008837095 | 0.8116667 | 0.003034509 | 883.2 | 24.88105 |\n",
       "| 0 | 0.9 | 1 | 250 | 0.5747835 | 0.008837095 | 0.8116667 | 0.003034509 | 883.2 | 24.88105 |\n",
       "\n"
      ],
      "text/plain": [
       "   gamma k   max_depth nrounds Kappa_avg Kappa_sd    Accuracy_avg Accuracy_sd\n",
       "1  0     0.0 1         250     0.5747835 0.008837095 0.8116667    0.003034509\n",
       "2  0     0.1 1         250     0.5747835 0.008837095 0.8116667    0.003034509\n",
       "3  0     0.2 1         250     0.5747835 0.008837095 0.8116667    0.003034509\n",
       "4  0     0.3 1         250     0.5747835 0.008837095 0.8116667    0.003034509\n",
       "5  0     0.4 1         250     0.5747835 0.008837095 0.8116667    0.003034509\n",
       "6  0     0.5 1         250     0.5747835 0.008837095 0.8116667    0.003034509\n",
       "7  0     0.6 1         250     0.5747835 0.008837095 0.8116667    0.003034509\n",
       "8  0     0.7 1         250     0.5747835 0.008837095 0.8116667    0.003034509\n",
       "9  0     0.8 1         250     0.5747835 0.008837095 0.8116667    0.003034509\n",
       "10 0     0.9 1         250     0.5747835 0.008837095 0.8116667    0.003034509\n",
       "   nconfirmed_avg nconfirmed_sd\n",
       "1  883.2          24.88105     \n",
       "2  883.2          24.88105     \n",
       "3  883.2          24.88105     \n",
       "4  883.2          24.88105     \n",
       "5  883.2          24.88105     \n",
       "6  883.2          24.88105     \n",
       "7  883.2          24.88105     \n",
       "8  883.2          24.88105     \n",
       "9  883.2          24.88105     \n",
       "10 883.2          24.88105     "
      ]
     },
     "metadata": {},
     "output_type": "display_data"
    }
   ],
   "source": [
    "res_summary %>% select(gamma,k, max_depth, nrounds,Kappa_avg, Kappa_sd, Accuracy_avg, Accuracy_sd\n",
    "                      , nconfirmed_avg, nconfirmed_sd) %>% \n",
    "arrange(-Kappa_avg) %>% head(10)"
   ]
  },
  {
   "cell_type": "code",
   "execution_count": null,
   "metadata": {},
   "outputs": [],
   "source": []
  },
  {
   "cell_type": "code",
   "execution_count": null,
   "metadata": {},
   "outputs": [],
   "source": []
  }
 ],
 "metadata": {
  "kernelspec": {
   "display_name": "R [conda env:Metagenomes_methanogen-r-ml] *",
   "language": "R",
   "name": "conda-env-Metagenomes_methanogen-r-ml-r"
  },
  "language_info": {
   "codemirror_mode": "r",
   "file_extension": ".r",
   "mimetype": "text/x-r-source",
   "name": "R",
   "pygments_lexer": "r",
   "version": "4.0.3"
  },
  "notify_time": "30",
  "toc": {
   "base_numbering": 1,
   "nav_menu": {},
   "number_sections": true,
   "sideBar": true,
   "skip_h1_title": false,
   "title_cell": "Table of Contents",
   "title_sidebar": "Contents",
   "toc_cell": false,
   "toc_position": {},
   "toc_section_display": true,
   "toc_window_display": true
  }
 },
 "nbformat": 4,
 "nbformat_minor": 4
}
