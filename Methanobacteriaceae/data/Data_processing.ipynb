{
 "cells": [
  {
   "cell_type": "markdown",
   "metadata": {},
   "source": [
    "We will use the data pre-processed by Youngblut et al., 2020 (bioRxiv)."
   ]
  },
  {
   "cell_type": "markdown",
   "metadata": {},
   "source": [
    "# Packages"
   ]
  },
  {
   "cell_type": "code",
   "execution_count": 1,
   "metadata": {
    "ExecuteTime": {
     "end_time": "2021-11-22T14:46:24.365500Z",
     "start_time": "2021-11-22T14:46:20.083Z"
    }
   },
   "outputs": [
    {
     "name": "stderr",
     "output_type": "stream",
     "text": [
      "── \u001b[1mAttaching packages\u001b[22m ────────────────────────────────────────────────────────────────────────────────────────────────────────────────────────────────────── tidyverse 1.3.0 ──\n",
      "\n",
      "\u001b[32m✔\u001b[39m \u001b[34mggplot2\u001b[39m 3.3.2     \u001b[32m✔\u001b[39m \u001b[34mpurrr  \u001b[39m 0.3.4\n",
      "\u001b[32m✔\u001b[39m \u001b[34mtibble \u001b[39m 3.0.4     \u001b[32m✔\u001b[39m \u001b[34mdplyr  \u001b[39m 1.0.2\n",
      "\u001b[32m✔\u001b[39m \u001b[34mtidyr  \u001b[39m 1.1.2     \u001b[32m✔\u001b[39m \u001b[34mstringr\u001b[39m 1.4.0\n",
      "\u001b[32m✔\u001b[39m \u001b[34mreadr  \u001b[39m 1.4.0     \u001b[32m✔\u001b[39m \u001b[34mforcats\u001b[39m 0.5.0\n",
      "\n",
      "── \u001b[1mConflicts\u001b[22m ───────────────────────────────────────────────────────────────────────────────────────────────────────────────────────────────────────── tidyverse_conflicts() ──\n",
      "\u001b[31m✖\u001b[39m \u001b[34mdplyr\u001b[39m::\u001b[32mfilter()\u001b[39m masks \u001b[34mstats\u001b[39m::filter()\n",
      "\u001b[31m✖\u001b[39m \u001b[34mdplyr\u001b[39m::\u001b[32mlag()\u001b[39m    masks \u001b[34mstats\u001b[39m::lag()\n",
      "\n",
      "qs v0.23.4.\n",
      "\n",
      "\n",
      "Attaching package: ‘reshape2’\n",
      "\n",
      "\n",
      "The following object is masked from ‘package:tidyr’:\n",
      "\n",
      "    smiths\n",
      "\n",
      "\n",
      "\n",
      "Attaching package: ‘data.table’\n",
      "\n",
      "\n",
      "The following objects are masked from ‘package:reshape2’:\n",
      "\n",
      "    dcast, melt\n",
      "\n",
      "\n",
      "The following objects are masked from ‘package:dplyr’:\n",
      "\n",
      "    between, first, last\n",
      "\n",
      "\n",
      "The following object is masked from ‘package:purrr’:\n",
      "\n",
      "    transpose\n",
      "\n",
      "\n",
      "Loading required package: lattice\n",
      "\n",
      "\n",
      "Attaching package: ‘caret’\n",
      "\n",
      "\n",
      "The following object is masked from ‘package:purrr’:\n",
      "\n",
      "    lift\n",
      "\n",
      "\n",
      "Loading required package: viridisLite\n",
      "\n"
     ]
    }
   ],
   "source": [
    "library(tidyverse)\n",
    "library(stringr)\n",
    "library(qs)\n",
    "library(reshape2)\n",
    "library(data.table)\n",
    "library(ggplot2)\n",
    "library(caret)\n",
    "library(viridis)\n",
    "library(ggpubr)"
   ]
  },
  {
   "cell_type": "code",
   "execution_count": 2,
   "metadata": {
    "ExecuteTime": {
     "end_time": "2021-11-22T14:46:24.456360Z",
     "start_time": "2021-11-22T14:46:20.086Z"
    }
   },
   "outputs": [
    {
     "data": {
      "text/plain": [
       "R version 4.0.3 (2020-10-10)\n",
       "Platform: x86_64-conda-linux-gnu (64-bit)\n",
       "Running under: Ubuntu 18.04.6 LTS\n",
       "\n",
       "Matrix products: default\n",
       "BLAS/LAPACK: /ebio/abt3_projects/Methanogen_SCFA/Metagenomes_methanogen/envs/r-ml/lib/libopenblasp-r0.3.10.so\n",
       "\n",
       "locale:\n",
       " [1] LC_CTYPE=en_US.UTF-8       LC_NUMERIC=C              \n",
       " [3] LC_TIME=en_US.UTF-8        LC_COLLATE=en_US.UTF-8    \n",
       " [5] LC_MONETARY=en_US.UTF-8    LC_MESSAGES=en_US.UTF-8   \n",
       " [7] LC_PAPER=en_US.UTF-8       LC_NAME=C                 \n",
       " [9] LC_ADDRESS=C               LC_TELEPHONE=C            \n",
       "[11] LC_MEASUREMENT=en_US.UTF-8 LC_IDENTIFICATION=C       \n",
       "\n",
       "attached base packages:\n",
       "[1] stats     graphics  grDevices utils     datasets  methods   base     \n",
       "\n",
       "other attached packages:\n",
       " [1] ggpubr_0.4.0      viridis_0.5.1     viridisLite_0.3.0 caret_6.0-86     \n",
       " [5] lattice_0.20-41   data.table_1.13.4 reshape2_1.4.4    qs_0.23.4        \n",
       " [9] forcats_0.5.0     stringr_1.4.0     dplyr_1.0.2       purrr_0.3.4      \n",
       "[13] readr_1.4.0       tidyr_1.1.2       tibble_3.0.4      ggplot2_3.3.2    \n",
       "[17] tidyverse_1.3.0  \n",
       "\n",
       "loaded via a namespace (and not attached):\n",
       " [1] nlme_3.1-150         fs_1.5.0             lubridate_1.7.9.2   \n",
       " [4] httr_1.4.2           repr_1.1.2.9000      tools_4.0.3         \n",
       " [7] backports_1.2.0      R6_2.5.0             rpart_4.1-15        \n",
       "[10] DBI_1.1.0            colorspace_2.0-0     nnet_7.3-14         \n",
       "[13] withr_2.3.0          gridExtra_2.3        tidyselect_1.1.0    \n",
       "[16] curl_4.3             compiler_4.0.3       cli_2.2.0           \n",
       "[19] rvest_0.3.6          xml2_1.3.2           stringfish_0.14.2   \n",
       "[22] scales_1.1.1         pbdZMQ_0.3-3.1       digest_0.6.27       \n",
       "[25] foreign_0.8-80       rio_0.5.16           base64enc_0.1-3     \n",
       "[28] pkgconfig_2.0.3      htmltools_0.5.0      dbplyr_2.0.0        \n",
       "[31] rlang_0.4.10         readxl_1.3.1         rstudioapi_0.13     \n",
       "[34] generics_0.1.0       RApiSerialize_0.1.0  jsonlite_1.7.2      \n",
       "[37] zip_2.1.1            car_3.0-10           ModelMetrics_1.2.2.2\n",
       "[40] magrittr_2.0.1       Matrix_1.2-18        Rcpp_1.0.5          \n",
       "[43] IRkernel_1.1.1       munsell_0.5.0        fansi_0.4.1         \n",
       "[46] abind_1.4-5          lifecycle_0.2.0      stringi_1.5.3       \n",
       "[49] pROC_1.16.2          carData_3.0-4        MASS_7.3-53         \n",
       "[52] plyr_1.8.6           recipes_0.1.15       grid_4.0.3          \n",
       "[55] crayon_1.3.4         IRdisplay_0.7.0      haven_2.3.1         \n",
       "[58] splines_4.0.3        hms_0.5.3            ps_1.5.0            \n",
       "[61] pillar_1.4.7         uuid_0.1-4           ggsignif_0.6.0      \n",
       "[64] codetools_0.2-18     stats4_4.0.3         reprex_0.3.0        \n",
       "[67] glue_1.4.2           evaluate_0.14        RcppParallel_5.0.2  \n",
       "[70] modelr_0.1.8         vctrs_0.3.6          foreach_1.5.1       \n",
       "[73] cellranger_1.1.0     gtable_0.3.0         assertthat_0.2.1    \n",
       "[76] openxlsx_4.2.3       gower_0.2.2          prodlim_2019.11.13  \n",
       "[79] broom_0.7.2          rstatix_0.6.0        class_7.3-17        \n",
       "[82] survival_3.2-7       timeDate_3043.102    iterators_1.0.13    \n",
       "[85] lava_1.6.8.1         ellipsis_0.3.1       ipred_0.9-9         "
      ]
     },
     "metadata": {},
     "output_type": "display_data"
    }
   ],
   "source": [
    "sessionInfo()"
   ]
  },
  {
   "cell_type": "markdown",
   "metadata": {},
   "source": [
    "# Data"
   ]
  },
  {
   "cell_type": "code",
   "execution_count": 3,
   "metadata": {
    "ExecuteTime": {
     "end_time": "2021-11-22T14:46:24.472365Z",
     "start_time": "2021-11-22T14:46:20.089Z"
    }
   },
   "outputs": [],
   "source": [
    "source('../../Common_scripts/get_taxa_lists.R')"
   ]
  },
  {
   "cell_type": "code",
   "execution_count": 4,
   "metadata": {
    "ExecuteTime": {
     "end_time": "2021-11-22T14:46:24.495418Z",
     "start_time": "2021-11-22T14:46:20.092Z"
    }
   },
   "outputs": [],
   "source": [
    "taxa <- qread('./taxa_table.qs')\n",
    "meta <- qread('meta_entero.qs') "
   ]
  },
  {
   "cell_type": "code",
   "execution_count": 5,
   "metadata": {
    "ExecuteTime": {
     "end_time": "2021-11-22T14:46:24.512641Z",
     "start_time": "2021-11-22T14:46:20.094Z"
    }
   },
   "outputs": [
    {
     "data": {
      "text/html": [
       "<style>\n",
       ".list-inline {list-style: none; margin:0; padding: 0}\n",
       ".list-inline>li {display: inline-block}\n",
       ".list-inline>li:not(:last-child)::after {content: \"\\00b7\"; padding: 0 .5ex}\n",
       "</style>\n",
       "<ol class=list-inline><li>'dataset_name'</li><li>'age'</li><li>'country'</li><li>'number_reads'</li><li>'BMI'</li><li>'westernized'</li><li>'Sample'</li><li>'clus'</li><li>'region'</li><li>'gender'</li></ol>\n"
      ],
      "text/latex": [
       "\\begin{enumerate*}\n",
       "\\item 'dataset\\_name'\n",
       "\\item 'age'\n",
       "\\item 'country'\n",
       "\\item 'number\\_reads'\n",
       "\\item 'BMI'\n",
       "\\item 'westernized'\n",
       "\\item 'Sample'\n",
       "\\item 'clus'\n",
       "\\item 'region'\n",
       "\\item 'gender'\n",
       "\\end{enumerate*}\n"
      ],
      "text/markdown": [
       "1. 'dataset_name'\n",
       "2. 'age'\n",
       "3. 'country'\n",
       "4. 'number_reads'\n",
       "5. 'BMI'\n",
       "6. 'westernized'\n",
       "7. 'Sample'\n",
       "8. 'clus'\n",
       "9. 'region'\n",
       "10. 'gender'\n",
       "\n",
       "\n"
      ],
      "text/plain": [
       " [1] \"dataset_name\" \"age\"          \"country\"      \"number_reads\" \"BMI\"         \n",
       " [6] \"westernized\"  \"Sample\"       \"clus\"         \"region\"       \"gender\"      "
      ]
     },
     "metadata": {},
     "output_type": "display_data"
    }
   ],
   "source": [
    "colnames(meta)"
   ]
  },
  {
   "cell_type": "code",
   "execution_count": 6,
   "metadata": {
    "ExecuteTime": {
     "end_time": "2021-11-22T14:46:25.445449Z",
     "start_time": "2021-11-22T14:46:20.096Z"
    }
   },
   "outputs": [],
   "source": [
    "tax_wt <- qread('./taxa_not_flt.qs')"
   ]
  },
  {
   "cell_type": "code",
   "execution_count": 7,
   "metadata": {
    "ExecuteTime": {
     "end_time": "2021-11-22T14:46:25.476153Z",
     "start_time": "2021-11-22T14:46:20.098Z"
    }
   },
   "outputs": [],
   "source": [
    "# metaCyc pathways with coverage > 0 \n",
    "pathw_cov <- qread('pathways_all_cov.qs')"
   ]
  },
  {
   "cell_type": "markdown",
   "metadata": {},
   "source": [
    "# Filter rare taxa"
   ]
  },
  {
   "cell_type": "markdown",
   "metadata": {},
   "source": [
    "## compile prevalence and average abundance when present"
   ]
  },
  {
   "cell_type": "code",
   "execution_count": 8,
   "metadata": {
    "ExecuteTime": {
     "end_time": "2021-11-22T14:46:25.552910Z",
     "start_time": "2021-11-22T14:46:20.101Z"
    }
   },
   "outputs": [
    {
     "name": "stderr",
     "output_type": "stream",
     "text": [
      "Note: Using an external vector in selections is ambiguous.\n",
      "\u001b[34mℹ\u001b[39m Use `all_of(tmp)` instead of `tmp` to silence this message.\n",
      "\u001b[34mℹ\u001b[39m See <https://tidyselect.r-lib.org/reference/faq-external-vector.html>.\n",
      "\u001b[90mThis message is displayed once per session.\u001b[39m\n",
      "\n"
     ]
    }
   ],
   "source": [
    "# keep taxa from family to specie\n",
    "tmp <- str_subset(colnames(tax_wt), pattern = '^[^(k|p|c|o)\\\\_]') \n",
    "tax_flt <- tax_wt %>% select(c('Sample', tmp))"
   ]
  },
  {
   "cell_type": "code",
   "execution_count": 9,
   "metadata": {
    "ExecuteTime": {
     "end_time": "2021-11-22T14:46:26.821332Z",
     "start_time": "2021-11-22T14:46:20.104Z"
    }
   },
   "outputs": [],
   "source": [
    "### Compute the prevalence and the average abundance of each taxa\n",
    "# average abundances in samples carrying the organisms\n",
    "\n",
    "fil_detectLimit <- data.frame(Taxa = colnames(tax_flt %>% select(-Sample))\n",
    " , Prevalence = colSums((tax_flt %>% select(-Sample)) > 0)*100/nrow(tax_flt) %>% unlist \n",
    " , maxAbundance = tax_flt %>% select(-Sample) %>% sapply(max) %>% unlist\n",
    " , meanAbundance = tax_flt %>% select(-Sample) %>% sapply(function(x) mean(x[x>0], na.rm = TRUE)) %>% unlist\n",
    " , minAbundance = tax_flt %>% select(-Sample) %>% sapply(min) %>% unlist\n",
    " , stringsAsFactors = FALSE, row.names = NULL)"
   ]
  },
  {
   "cell_type": "code",
   "execution_count": 10,
   "metadata": {
    "ExecuteTime": {
     "end_time": "2021-11-22T14:46:26.856578Z",
     "start_time": "2021-11-22T14:46:20.106Z"
    }
   },
   "outputs": [],
   "source": [
    "rownames(fil_detectLimit) <- NULL\n",
    "rownames(fil_detectLimit) <- fil_detectLimit$Taxa\n",
    "# remove the redundant taxa (ie 1 species in 1 genus)\n",
    "fil_detectLimit <- fil_detectLimit %>% select(-Taxa) %>% unique(fromLast = TRUE) \n",
    "fil_detectLimit$Taxa <- rownames(fil_detectLimit)\n",
    "# one taxa is absent from all samples -> meanAbundance = 0\n",
    "fil_detectLimit[is.na(fil_detectLimit)] <- 0 "
   ]
  },
  {
   "cell_type": "code",
   "execution_count": 11,
   "metadata": {
    "ExecuteTime": {
     "end_time": "2021-11-22T14:46:26.877275Z",
     "start_time": "2021-11-22T14:46:20.109Z"
    }
   },
   "outputs": [
    {
     "data": {
      "text/plain": [
       "   Prevalence        maxAbundance      meanAbundance        minAbundance      \n",
       " Min.   :  0.0000   Min.   :0.000000   Min.   :0.0000000   Min.   :0.000e+00  \n",
       " 1st Qu.:  0.1816   1st Qu.:0.000630   1st Qu.:0.0003059   1st Qu.:0.000e+00  \n",
       " Median :  0.9986   Median :0.001925   Median :0.0005367   Median :0.000e+00  \n",
       " Mean   : 11.4201   Mean   :0.031715   Mean   :0.0020086   Mean   :9.001e-08  \n",
       " 3rd Qu.:  9.5325   3rd Qu.:0.016172   3rd Qu.:0.0013612   3rd Qu.:0.000e+00  \n",
       " Max.   :100.0000   Max.   :0.970130   Max.   :0.3367829   Max.   :3.100e-04  \n",
       "     Taxa          \n",
       " Length:3444       \n",
       " Class :character  \n",
       " Mode  :character  \n",
       "                   \n",
       "                   \n",
       "                   "
      ]
     },
     "metadata": {},
     "output_type": "display_data"
    }
   ],
   "source": [
    "fil_detectLimit %>% summary"
   ]
  },
  {
   "cell_type": "code",
   "execution_count": 12,
   "metadata": {
    "ExecuteTime": {
     "end_time": "2021-11-22T14:46:26.906365Z",
     "start_time": "2021-11-22T14:46:20.112Z"
    }
   },
   "outputs": [
    {
     "data": {
      "text/html": [
       "<style>\n",
       ".dl-inline {width: auto; margin:0; padding: 0}\n",
       ".dl-inline>dt, .dl-inline>dd {float: none; width: auto; display: inline-block}\n",
       ".dl-inline>dt::after {content: \":\\0020\"; padding-right: .5ex}\n",
       ".dl-inline>dt:not(:first-of-type) {padding-left: .5ex}\n",
       "</style><dl class=dl-inline><dt>No</dt><dd>1126</dd><dt>Yes</dt><dd>2318</dd></dl>\n"
      ],
      "text/latex": [
       "\\begin{description*}\n",
       "\\item[No] 1126\n",
       "\\item[Yes] 2318\n",
       "\\end{description*}\n"
      ],
      "text/markdown": [
       "No\n",
       ":   1126Yes\n",
       ":   2318\n",
       "\n"
      ],
      "text/plain": [
       "  No  Yes \n",
       "1126 2318 "
      ]
     },
     "metadata": {},
     "output_type": "display_data"
    }
   ],
   "source": [
    "### thresholds for filtering based on the median and 1st quartiles of prevalences and abundances \n",
    "a <- (median(fil_detectLimit$Prevalence) - quantile(fil_detectLimit$Prevalence, probs = 0.25))/(quantile(fil_detectLimit$meanAbundance, probs = 0.25) - median(fil_detectLimit$meanAbundance))\n",
    "b <- quantile(fil_detectLimit$Prevalence, probs = 0.25) - a*median(fil_detectLimit$meanAbundance)\n",
    "\n",
    "fil_detectLimit$toKeep <- ifelse(fil_detectLimit$Prevalence < fil_detectLimit$meanAbundance*a + b, 'No', 'Yes') %>% as.factor\n",
    "fil_detectLimit$toKeep[is.na(fil_detectLimit$toKeep)] <- 'No'\n",
    "fil_detectLimit$toKeep %>% summary"
   ]
  },
  {
   "cell_type": "code",
   "execution_count": 13,
   "metadata": {
    "ExecuteTime": {
     "end_time": "2021-11-22T14:46:26.966171Z",
     "start_time": "2021-11-22T14:46:20.114Z"
    }
   },
   "outputs": [],
   "source": [
    "tax_filt_plot <- ggplot(data = fil_detectLimit\n",
    "       , aes(x = Prevalence, y = log(meanAbundance), color = toKeep))+\n",
    "geom_point(alpha = .5, size = 2.5)+\n",
    "scale_color_manual(values = viridis(4)[2:3], name = 'Taxa', labels = c('Removed = 1126', 'Kept = 2318'))+\n",
    "theme_classic()+\n",
    "labs(x = 'Prevalence (%)', y = 'Mean relative\\nabundance (log10)', title = 'All families, genera and species')+\n",
    "theme(legend.text = element_text(size = rel(1.2))\n",
    "      , legend.title = element_text(size = rel(1.2))\n",
    "      , axis.title = element_text(size = rel(1.2))\n",
    "      , axis.text = element_text(size = rel(1)))+\n",
    "guides(color = guide_legend(override.aes = list(alpha = 1) ) )"
   ]
  },
  {
   "cell_type": "code",
   "execution_count": 14,
   "metadata": {
    "ExecuteTime": {
     "end_time": "2021-11-22T14:46:27.003100Z",
     "start_time": "2021-11-22T14:46:20.116Z"
    }
   },
   "outputs": [],
   "source": [
    "tax_filt_zoom <- ggplot(data = fil_detectLimit %>% subset(Prevalence <= 5)\n",
    "       , aes(x = Prevalence, y = log(meanAbundance), color = toKeep))+\n",
    "geom_point(alpha = .5, size = 2.5)+\n",
    "scale_color_manual(values = viridis(4)[2:3], name = 'Taxa', labels = c('Removed = 1127', 'Kept = 2318'))+\n",
    "theme_classic()+\n",
    "labs(x = 'Prevalence (%)', y = 'Mean relative\\nabundance (log10)', title = 'Zoom-in: prevalence < 5%')+\n",
    "theme(legend.text = element_text(size = rel(1.2))\n",
    "      , legend.title = element_text(size = rel(1.2))\n",
    "      , axis.title = element_text(size = rel(1.2))\n",
    "      , axis.text = element_text(size = rel(1)))"
   ]
  },
  {
   "cell_type": "code",
   "execution_count": 15,
   "metadata": {
    "ExecuteTime": {
     "end_time": "2021-11-22T14:46:27.490890Z",
     "start_time": "2021-11-22T14:46:20.118Z"
    }
   },
   "outputs": [],
   "source": [
    "tax_plot <- ggarrange(tax_filt_plot, tax_filt_zoom, ncol = 2, labels = c('A', 'B')\n",
    "                      , common.legend = TRUE, legend = 'right')"
   ]
  },
  {
   "cell_type": "code",
   "execution_count": 16,
   "metadata": {
    "ExecuteTime": {
     "end_time": "2021-11-22T14:46:28.519441Z",
     "start_time": "2021-11-22T14:46:20.121Z"
    },
    "scrolled": true
   },
   "outputs": [
    {
     "data": {
      "image/png": "[encoded data removed]",
      "text/plain": [
       "plot without title"
      ]
     },
     "metadata": {
      "image/png": {
       "height": 180,
       "width": 720
      }
     },
     "output_type": "display_data"
    }
   ],
   "source": [
    "options(repr.plot.width=12, repr.plot.height=3)\n",
    "tax_plot"
   ]
  },
  {
   "cell_type": "code",
   "execution_count": 17,
   "metadata": {
    "ExecuteTime": {
     "end_time": "2021-11-22T14:46:28.558746Z",
     "start_time": "2021-11-22T14:46:20.123Z"
    }
   },
   "outputs": [
    {
     "data": {
      "text/html": [
       "<table class=\"dataframe\">\n",
       "<caption>A data.frame: 10 × 6</caption>\n",
       "<thead>\n",
       "\t<tr><th></th><th scope=col>Prevalence</th><th scope=col>maxAbundance</th><th scope=col>meanAbundance</th><th scope=col>minAbundance</th><th scope=col>Taxa</th><th scope=col>toKeep</th></tr>\n",
       "\t<tr><th></th><th scope=col>&lt;dbl&gt;</th><th scope=col>&lt;dbl&gt;</th><th scope=col>&lt;dbl&gt;</th><th scope=col>&lt;dbl&gt;</th><th scope=col>&lt;chr&gt;</th><th scope=col>&lt;fct&gt;</th></tr>\n",
       "</thead>\n",
       "<tbody>\n",
       "\t<tr><th scope=row>f_Bacteroidaceae</th><td>100.00000</td><td>0.96875</td><td>0.33678287</td><td>0.00031</td><td>f_Bacteroidaceae  </td><td>Yes</td></tr>\n",
       "\t<tr><th scope=row>f_Lachnospiraceae</th><td> 99.95461</td><td>0.92446</td><td>0.23385968</td><td>0.00000</td><td>f_Lachnospiraceae </td><td>Yes</td></tr>\n",
       "\t<tr><th scope=row>f_Ruminococcaceae</th><td> 99.77304</td><td>0.62028</td><td>0.08575825</td><td>0.00000</td><td>f_Ruminococcaceae </td><td>Yes</td></tr>\n",
       "\t<tr><th scope=row>f_Oscillospiraceae</th><td> 99.09215</td><td>0.34907</td><td>0.04991090</td><td>0.00000</td><td>f_Oscillospiraceae</td><td>Yes</td></tr>\n",
       "\t<tr><th scope=row>g_Bacteroides</th><td> 99.04675</td><td>0.84667</td><td>0.11608553</td><td>0.00000</td><td>g_Bacteroides     </td><td>Yes</td></tr>\n",
       "\t<tr><th scope=row>g_Roseburia</th><td> 99.00136</td><td>0.24809</td><td>0.01401433</td><td>0.00000</td><td>g_Roseburia       </td><td>Yes</td></tr>\n",
       "\t<tr><th scope=row>g_Blautia_A</th><td> 98.77440</td><td>0.56171</td><td>0.04327957</td><td>0.00000</td><td>g_Blautia_A       </td><td>Yes</td></tr>\n",
       "\t<tr><th scope=row>g_Faecalibacterium</th><td> 98.72901</td><td>0.41700</td><td>0.05779269</td><td>0.00000</td><td>g_Faecalibacterium</td><td>Yes</td></tr>\n",
       "\t<tr><th scope=row>g_Faecalicatena</th><td> 98.32047</td><td>0.33374</td><td>0.01217640</td><td>0.00000</td><td>g_Faecalicatena   </td><td>Yes</td></tr>\n",
       "\t<tr><th scope=row>g_Agathobacter</th><td> 98.22969</td><td>0.34301</td><td>0.04112334</td><td>0.00000</td><td>g_Agathobacter    </td><td>Yes</td></tr>\n",
       "</tbody>\n",
       "</table>\n"
      ],
      "text/latex": [
       "A data.frame: 10 × 6\n",
       "\\begin{tabular}{r|llllll}\n",
       "  & Prevalence & maxAbundance & meanAbundance & minAbundance & Taxa & toKeep\\\\\n",
       "  & <dbl> & <dbl> & <dbl> & <dbl> & <chr> & <fct>\\\\\n",
       "\\hline\n",
       "\tf\\_Bacteroidaceae & 100.00000 & 0.96875 & 0.33678287 & 0.00031 & f\\_Bacteroidaceae   & Yes\\\\\n",
       "\tf\\_Lachnospiraceae &  99.95461 & 0.92446 & 0.23385968 & 0.00000 & f\\_Lachnospiraceae  & Yes\\\\\n",
       "\tf\\_Ruminococcaceae &  99.77304 & 0.62028 & 0.08575825 & 0.00000 & f\\_Ruminococcaceae  & Yes\\\\\n",
       "\tf\\_Oscillospiraceae &  99.09215 & 0.34907 & 0.04991090 & 0.00000 & f\\_Oscillospiraceae & Yes\\\\\n",
       "\tg\\_Bacteroides &  99.04675 & 0.84667 & 0.11608553 & 0.00000 & g\\_Bacteroides      & Yes\\\\\n",
       "\tg\\_Roseburia &  99.00136 & 0.24809 & 0.01401433 & 0.00000 & g\\_Roseburia        & Yes\\\\\n",
       "\tg\\_Blautia\\_A &  98.77440 & 0.56171 & 0.04327957 & 0.00000 & g\\_Blautia\\_A        & Yes\\\\\n",
       "\tg\\_Faecalibacterium &  98.72901 & 0.41700 & 0.05779269 & 0.00000 & g\\_Faecalibacterium & Yes\\\\\n",
       "\tg\\_Faecalicatena &  98.32047 & 0.33374 & 0.01217640 & 0.00000 & g\\_Faecalicatena    & Yes\\\\\n",
       "\tg\\_Agathobacter &  98.22969 & 0.34301 & 0.04112334 & 0.00000 & g\\_Agathobacter     & Yes\\\\\n",
       "\\end{tabular}\n"
      ],
      "text/markdown": [
       "\n",
       "A data.frame: 10 × 6\n",
       "\n",
       "| <!--/--> | Prevalence &lt;dbl&gt; | maxAbundance &lt;dbl&gt; | meanAbundance &lt;dbl&gt; | minAbundance &lt;dbl&gt; | Taxa &lt;chr&gt; | toKeep &lt;fct&gt; |\n",
       "|---|---|---|---|---|---|---|\n",
       "| f_Bacteroidaceae | 100.00000 | 0.96875 | 0.33678287 | 0.00031 | f_Bacteroidaceae   | Yes |\n",
       "| f_Lachnospiraceae |  99.95461 | 0.92446 | 0.23385968 | 0.00000 | f_Lachnospiraceae  | Yes |\n",
       "| f_Ruminococcaceae |  99.77304 | 0.62028 | 0.08575825 | 0.00000 | f_Ruminococcaceae  | Yes |\n",
       "| f_Oscillospiraceae |  99.09215 | 0.34907 | 0.04991090 | 0.00000 | f_Oscillospiraceae | Yes |\n",
       "| g_Bacteroides |  99.04675 | 0.84667 | 0.11608553 | 0.00000 | g_Bacteroides      | Yes |\n",
       "| g_Roseburia |  99.00136 | 0.24809 | 0.01401433 | 0.00000 | g_Roseburia        | Yes |\n",
       "| g_Blautia_A |  98.77440 | 0.56171 | 0.04327957 | 0.00000 | g_Blautia_A        | Yes |\n",
       "| g_Faecalibacterium |  98.72901 | 0.41700 | 0.05779269 | 0.00000 | g_Faecalibacterium | Yes |\n",
       "| g_Faecalicatena |  98.32047 | 0.33374 | 0.01217640 | 0.00000 | g_Faecalicatena    | Yes |\n",
       "| g_Agathobacter |  98.22969 | 0.34301 | 0.04112334 | 0.00000 | g_Agathobacter     | Yes |\n",
       "\n"
      ],
      "text/plain": [
       "                   Prevalence maxAbundance meanAbundance minAbundance\n",
       "f_Bacteroidaceae   100.00000  0.96875      0.33678287    0.00031     \n",
       "f_Lachnospiraceae   99.95461  0.92446      0.23385968    0.00000     \n",
       "f_Ruminococcaceae   99.77304  0.62028      0.08575825    0.00000     \n",
       "f_Oscillospiraceae  99.09215  0.34907      0.04991090    0.00000     \n",
       "g_Bacteroides       99.04675  0.84667      0.11608553    0.00000     \n",
       "g_Roseburia         99.00136  0.24809      0.01401433    0.00000     \n",
       "g_Blautia_A         98.77440  0.56171      0.04327957    0.00000     \n",
       "g_Faecalibacterium  98.72901  0.41700      0.05779269    0.00000     \n",
       "g_Faecalicatena     98.32047  0.33374      0.01217640    0.00000     \n",
       "g_Agathobacter      98.22969  0.34301      0.04112334    0.00000     \n",
       "                   Taxa               toKeep\n",
       "f_Bacteroidaceae   f_Bacteroidaceae   Yes   \n",
       "f_Lachnospiraceae  f_Lachnospiraceae  Yes   \n",
       "f_Ruminococcaceae  f_Ruminococcaceae  Yes   \n",
       "f_Oscillospiraceae f_Oscillospiraceae Yes   \n",
       "g_Bacteroides      g_Bacteroides      Yes   \n",
       "g_Roseburia        g_Roseburia        Yes   \n",
       "g_Blautia_A        g_Blautia_A        Yes   \n",
       "g_Faecalibacterium g_Faecalibacterium Yes   \n",
       "g_Faecalicatena    g_Faecalicatena    Yes   \n",
       "g_Agathobacter     g_Agathobacter     Yes   "
      ]
     },
     "metadata": {},
     "output_type": "display_data"
    }
   ],
   "source": [
    "fil_detectLimit %>% arrange(desc(Prevalence)) %>% head(10)"
   ]
  },
  {
   "cell_type": "code",
   "execution_count": 18,
   "metadata": {
    "ExecuteTime": {
     "end_time": "2021-11-22T14:46:28.596978Z",
     "start_time": "2021-11-22T14:46:20.126Z"
    }
   },
   "outputs": [
    {
     "data": {
      "text/html": [
       "<table class=\"dataframe\">\n",
       "<caption>A data.frame: 10 × 6</caption>\n",
       "<thead>\n",
       "\t<tr><th></th><th scope=col>Prevalence</th><th scope=col>maxAbundance</th><th scope=col>meanAbundance</th><th scope=col>minAbundance</th><th scope=col>Taxa</th><th scope=col>toKeep</th></tr>\n",
       "\t<tr><th></th><th scope=col>&lt;dbl&gt;</th><th scope=col>&lt;dbl&gt;</th><th scope=col>&lt;dbl&gt;</th><th scope=col>&lt;dbl&gt;</th><th scope=col>&lt;chr&gt;</th><th scope=col>&lt;fct&gt;</th></tr>\n",
       "</thead>\n",
       "<tbody>\n",
       "\t<tr><th scope=row>f_Bacteroidaceae</th><td>100.00000</td><td>0.96875</td><td>0.33678287</td><td>0.00031</td><td>f_Bacteroidaceae     </td><td>Yes</td></tr>\n",
       "\t<tr><th scope=row>f_Lachnospiraceae</th><td> 99.95461</td><td>0.92446</td><td>0.23385968</td><td>0.00000</td><td>f_Lachnospiraceae    </td><td>Yes</td></tr>\n",
       "\t<tr><th scope=row>g_Prevotella</th><td> 88.51566</td><td>0.94955</td><td>0.14603349</td><td>0.00000</td><td>g_Prevotella         </td><td>Yes</td></tr>\n",
       "\t<tr><th scope=row>g_Bacteroides</th><td> 99.04675</td><td>0.84667</td><td>0.11608553</td><td>0.00000</td><td>g_Bacteroides        </td><td>Yes</td></tr>\n",
       "\t<tr><th scope=row>s_Prevotella_copri</th><td> 53.83568</td><td>0.71116</td><td>0.08900780</td><td>0.00000</td><td>s_Prevotella_copri   </td><td>Yes</td></tr>\n",
       "\t<tr><th scope=row>f_Ruminococcaceae</th><td> 99.77304</td><td>0.62028</td><td>0.08575825</td><td>0.00000</td><td>f_Ruminococcaceae    </td><td>Yes</td></tr>\n",
       "\t<tr><th scope=row>g_Bacteroides_B</th><td> 94.96142</td><td>0.74328</td><td>0.07181011</td><td>0.00000</td><td>g_Bacteroides_B      </td><td>Yes</td></tr>\n",
       "\t<tr><th scope=row>g_Faecalibacterium</th><td> 98.72901</td><td>0.41700</td><td>0.05779269</td><td>0.00000</td><td>g_Faecalibacterium   </td><td>Yes</td></tr>\n",
       "\t<tr><th scope=row>g_Succinivibrio</th><td> 17.38538</td><td>0.64675</td><td>0.05545645</td><td>0.00000</td><td>g_Succinivibrio      </td><td>Yes</td></tr>\n",
       "\t<tr><th scope=row>f_Succinivibrionaceae</th><td> 17.97549</td><td>0.67027</td><td>0.05405126</td><td>0.00000</td><td>f_Succinivibrionaceae</td><td>Yes</td></tr>\n",
       "</tbody>\n",
       "</table>\n"
      ],
      "text/latex": [
       "A data.frame: 10 × 6\n",
       "\\begin{tabular}{r|llllll}\n",
       "  & Prevalence & maxAbundance & meanAbundance & minAbundance & Taxa & toKeep\\\\\n",
       "  & <dbl> & <dbl> & <dbl> & <dbl> & <chr> & <fct>\\\\\n",
       "\\hline\n",
       "\tf\\_Bacteroidaceae & 100.00000 & 0.96875 & 0.33678287 & 0.00031 & f\\_Bacteroidaceae      & Yes\\\\\n",
       "\tf\\_Lachnospiraceae &  99.95461 & 0.92446 & 0.23385968 & 0.00000 & f\\_Lachnospiraceae     & Yes\\\\\n",
       "\tg\\_Prevotella &  88.51566 & 0.94955 & 0.14603349 & 0.00000 & g\\_Prevotella          & Yes\\\\\n",
       "\tg\\_Bacteroides &  99.04675 & 0.84667 & 0.11608553 & 0.00000 & g\\_Bacteroides         & Yes\\\\\n",
       "\ts\\_Prevotella\\_copri &  53.83568 & 0.71116 & 0.08900780 & 0.00000 & s\\_Prevotella\\_copri    & Yes\\\\\n",
       "\tf\\_Ruminococcaceae &  99.77304 & 0.62028 & 0.08575825 & 0.00000 & f\\_Ruminococcaceae     & Yes\\\\\n",
       "\tg\\_Bacteroides\\_B &  94.96142 & 0.74328 & 0.07181011 & 0.00000 & g\\_Bacteroides\\_B       & Yes\\\\\n",
       "\tg\\_Faecalibacterium &  98.72901 & 0.41700 & 0.05779269 & 0.00000 & g\\_Faecalibacterium    & Yes\\\\\n",
       "\tg\\_Succinivibrio &  17.38538 & 0.64675 & 0.05545645 & 0.00000 & g\\_Succinivibrio       & Yes\\\\\n",
       "\tf\\_Succinivibrionaceae &  17.97549 & 0.67027 & 0.05405126 & 0.00000 & f\\_Succinivibrionaceae & Yes\\\\\n",
       "\\end{tabular}\n"
      ],
      "text/markdown": [
       "\n",
       "A data.frame: 10 × 6\n",
       "\n",
       "| <!--/--> | Prevalence &lt;dbl&gt; | maxAbundance &lt;dbl&gt; | meanAbundance &lt;dbl&gt; | minAbundance &lt;dbl&gt; | Taxa &lt;chr&gt; | toKeep &lt;fct&gt; |\n",
       "|---|---|---|---|---|---|---|\n",
       "| f_Bacteroidaceae | 100.00000 | 0.96875 | 0.33678287 | 0.00031 | f_Bacteroidaceae      | Yes |\n",
       "| f_Lachnospiraceae |  99.95461 | 0.92446 | 0.23385968 | 0.00000 | f_Lachnospiraceae     | Yes |\n",
       "| g_Prevotella |  88.51566 | 0.94955 | 0.14603349 | 0.00000 | g_Prevotella          | Yes |\n",
       "| g_Bacteroides |  99.04675 | 0.84667 | 0.11608553 | 0.00000 | g_Bacteroides         | Yes |\n",
       "| s_Prevotella_copri |  53.83568 | 0.71116 | 0.08900780 | 0.00000 | s_Prevotella_copri    | Yes |\n",
       "| f_Ruminococcaceae |  99.77304 | 0.62028 | 0.08575825 | 0.00000 | f_Ruminococcaceae     | Yes |\n",
       "| g_Bacteroides_B |  94.96142 | 0.74328 | 0.07181011 | 0.00000 | g_Bacteroides_B       | Yes |\n",
       "| g_Faecalibacterium |  98.72901 | 0.41700 | 0.05779269 | 0.00000 | g_Faecalibacterium    | Yes |\n",
       "| g_Succinivibrio |  17.38538 | 0.64675 | 0.05545645 | 0.00000 | g_Succinivibrio       | Yes |\n",
       "| f_Succinivibrionaceae |  17.97549 | 0.67027 | 0.05405126 | 0.00000 | f_Succinivibrionaceae | Yes |\n",
       "\n"
      ],
      "text/plain": [
       "                      Prevalence maxAbundance meanAbundance minAbundance\n",
       "f_Bacteroidaceae      100.00000  0.96875      0.33678287    0.00031     \n",
       "f_Lachnospiraceae      99.95461  0.92446      0.23385968    0.00000     \n",
       "g_Prevotella           88.51566  0.94955      0.14603349    0.00000     \n",
       "g_Bacteroides          99.04675  0.84667      0.11608553    0.00000     \n",
       "s_Prevotella_copri     53.83568  0.71116      0.08900780    0.00000     \n",
       "f_Ruminococcaceae      99.77304  0.62028      0.08575825    0.00000     \n",
       "g_Bacteroides_B        94.96142  0.74328      0.07181011    0.00000     \n",
       "g_Faecalibacterium     98.72901  0.41700      0.05779269    0.00000     \n",
       "g_Succinivibrio        17.38538  0.64675      0.05545645    0.00000     \n",
       "f_Succinivibrionaceae  17.97549  0.67027      0.05405126    0.00000     \n",
       "                      Taxa                  toKeep\n",
       "f_Bacteroidaceae      f_Bacteroidaceae      Yes   \n",
       "f_Lachnospiraceae     f_Lachnospiraceae     Yes   \n",
       "g_Prevotella          g_Prevotella          Yes   \n",
       "g_Bacteroides         g_Bacteroides         Yes   \n",
       "s_Prevotella_copri    s_Prevotella_copri    Yes   \n",
       "f_Ruminococcaceae     f_Ruminococcaceae     Yes   \n",
       "g_Bacteroides_B       g_Bacteroides_B       Yes   \n",
       "g_Faecalibacterium    g_Faecalibacterium    Yes   \n",
       "g_Succinivibrio       g_Succinivibrio       Yes   \n",
       "f_Succinivibrionaceae f_Succinivibrionaceae Yes   "
      ]
     },
     "metadata": {},
     "output_type": "display_data"
    }
   ],
   "source": [
    "fil_detectLimit %>% arrange(desc(meanAbundance)) %>% head(10)"
   ]
  },
  {
   "cell_type": "markdown",
   "metadata": {},
   "source": [
    "## remove from table"
   ]
  },
  {
   "cell_type": "code",
   "execution_count": 19,
   "metadata": {
    "ExecuteTime": {
     "end_time": "2021-11-22T14:46:28.625024Z",
     "start_time": "2021-11-22T14:46:20.129Z"
    }
   },
   "outputs": [],
   "source": [
    "to_keep <- subset(fil_detectLimit, toKeep == 'Yes', select = 'Taxa') %>% mutate_at('Taxa', as.character) %>% unlist\n",
    "names(to_keep) <- NULL"
   ]
  },
  {
   "cell_type": "code",
   "execution_count": 20,
   "metadata": {
    "ExecuteTime": {
     "end_time": "2021-11-22T14:46:28.662389Z",
     "start_time": "2021-11-22T14:46:20.132Z"
    }
   },
   "outputs": [
    {
     "name": "stderr",
     "output_type": "stream",
     "text": [
      "Note: Using an external vector in selections is ambiguous.\n",
      "\u001b[34mℹ\u001b[39m Use `all_of(to_keep)` instead of `to_keep` to silence this message.\n",
      "\u001b[34mℹ\u001b[39m See <https://tidyselect.r-lib.org/reference/faq-external-vector.html>.\n",
      "\u001b[90mThis message is displayed once per session.\u001b[39m\n",
      "\n"
     ]
    }
   ],
   "source": [
    "tax_pp <- tax_wt %>% select(c('Sample', to_keep)) "
   ]
  },
  {
   "cell_type": "code",
   "execution_count": 21,
   "metadata": {
    "ExecuteTime": {
     "end_time": "2021-11-22T14:46:28.687992Z",
     "start_time": "2021-11-22T14:46:20.134Z"
    }
   },
   "outputs": [
    {
     "data": {
      "text/html": [
       "<style>\n",
       ".list-inline {list-style: none; margin:0; padding: 0}\n",
       ".list-inline>li {display: inline-block}\n",
       ".list-inline>li:not(:last-child)::after {content: \"\\00b7\"; padding: 0 .5ex}\n",
       "</style>\n",
       "<ol class=list-inline><li>2203</li><li>2319</li></ol>\n"
      ],
      "text/latex": [
       "\\begin{enumerate*}\n",
       "\\item 2203\n",
       "\\item 2319\n",
       "\\end{enumerate*}\n"
      ],
      "text/markdown": [
       "1. 2203\n",
       "2. 2319\n",
       "\n",
       "\n"
      ],
      "text/plain": [
       "[1] 2203 2319"
      ]
     },
     "metadata": {},
     "output_type": "display_data"
    },
    {
     "data": {
      "text/html": [
       "<style>\n",
       ".list-inline {list-style: none; margin:0; padding: 0}\n",
       ".list-inline>li {display: inline-block}\n",
       ".list-inline>li:not(:last-child)::after {content: \"\\00b7\"; padding: 0 .5ex}\n",
       "</style>\n",
       "<ol class=list-inline><li>2203</li><li>10</li></ol>\n"
      ],
      "text/latex": [
       "\\begin{enumerate*}\n",
       "\\item 2203\n",
       "\\item 10\n",
       "\\end{enumerate*}\n"
      ],
      "text/markdown": [
       "1. 2203\n",
       "2. 10\n",
       "\n",
       "\n"
      ],
      "text/plain": [
       "[1] 2203   10"
      ]
     },
     "metadata": {},
     "output_type": "display_data"
    }
   ],
   "source": [
    "tax_pp %>% dim\n",
    "meta %>% dim"
   ]
  },
  {
   "cell_type": "markdown",
   "metadata": {},
   "source": [
    "# Filter correlated taxa from same taxonomic branch"
   ]
  },
  {
   "cell_type": "code",
   "execution_count": 22,
   "metadata": {
    "ExecuteTime": {
     "end_time": "2021-11-22T14:46:30.144662Z",
     "start_time": "2021-11-22T14:46:20.137Z"
    },
    "scrolled": true
   },
   "outputs": [
    {
     "name": "stderr",
     "output_type": "stream",
     "text": [
      "Warning message:\n",
      "“replacing previous import ‘data.table::last’ by ‘dplyr::last’ when loading ‘endoR’”\n",
      "Warning message:\n",
      "“replacing previous import ‘data.table::first’ by ‘dplyr::first’ when loading ‘endoR’”\n",
      "Warning message:\n",
      "“replacing previous import ‘data.table::between’ by ‘dplyr::between’ when loading ‘endoR’”\n",
      "Warning message:\n",
      "“replacing previous import ‘dplyr::union’ by ‘igraph::union’ when loading ‘endoR’”\n",
      "Warning message:\n",
      "“replacing previous import ‘dplyr::as_data_frame’ by ‘igraph::as_data_frame’ when loading ‘endoR’”\n",
      "Warning message:\n",
      "“replacing previous import ‘dplyr::groups’ by ‘igraph::groups’ when loading ‘endoR’”\n"
     ]
    }
   ],
   "source": [
    "tax_names <- mutate_all(taxa, endoR::compatibleNames )"
   ]
  },
  {
   "cell_type": "code",
   "execution_count": 23,
   "metadata": {
    "ExecuteTime": {
     "end_time": "2021-11-22T14:46:30.171355Z",
     "start_time": "2021-11-22T14:46:20.139Z"
    }
   },
   "outputs": [],
   "source": [
    "tax_names$f <- paste0('f_', tax_names$f)\n",
    "tax_names$g <- paste0('g_', tax_names$g)\n",
    "tax_names$s <- paste0('s_', tax_names$s)"
   ]
  },
  {
   "cell_type": "code",
   "execution_count": 24,
   "metadata": {
    "ExecuteTime": {
     "end_time": "2021-11-22T14:46:32.425667Z",
     "start_time": "2021-11-22T14:46:20.141Z"
    }
   },
   "outputs": [],
   "source": [
    "genera <- lapply(unique(tax_names$g), getGenera, tax_names = tax_names)\n",
    "names(genera) <- unique(tax_names$g)\n",
    "species <- lapply(unique(tax_names$s), getSpecies, tax_names = tax_names)\n",
    "names(species) <- unique(tax_names$s)"
   ]
  },
  {
   "cell_type": "code",
   "execution_count": 25,
   "metadata": {
    "ExecuteTime": {
     "end_time": "2021-11-22T14:46:32.444451Z",
     "start_time": "2021-11-22T14:46:20.143Z"
    }
   },
   "outputs": [],
   "source": [
    "species <- species[which((names(species) %in% colnames(tax_pp)))]\n",
    "genera <- genera[which((names(genera) %in% colnames(tax_pp)))]"
   ]
  },
  {
   "cell_type": "code",
   "execution_count": 26,
   "metadata": {
    "ExecuteTime": {
     "end_time": "2021-11-22T14:46:32.479396Z",
     "start_time": "2021-11-22T14:46:20.146Z"
    }
   },
   "outputs": [
    {
     "data": {
      "text/html": [
       "<style>\n",
       ".list-inline {list-style: none; margin:0; padding: 0}\n",
       ".list-inline>li {display: inline-block}\n",
       ".list-inline>li:not(:last-child)::after {content: \"\\00b7\"; padding: 0 .5ex}\n",
       "</style>\n",
       "<ol class=list-inline><li>2203</li><li>2319</li></ol>\n"
      ],
      "text/latex": [
       "\\begin{enumerate*}\n",
       "\\item 2203\n",
       "\\item 2319\n",
       "\\end{enumerate*}\n"
      ],
      "text/markdown": [
       "1. 2203\n",
       "2. 2319\n",
       "\n",
       "\n"
      ],
      "text/plain": [
       "[1] 2203 2319"
      ]
     },
     "metadata": {},
     "output_type": "display_data"
    }
   ],
   "source": [
    "tax_pp <- as.data.frame(tax_pp)\n",
    "dim(tax_pp)"
   ]
  },
  {
   "cell_type": "code",
   "execution_count": 27,
   "metadata": {
    "ExecuteTime": {
     "end_time": "2021-11-22T14:46:35.615337Z",
     "start_time": "2021-11-22T14:46:20.148Z"
    }
   },
   "outputs": [],
   "source": [
    "for (s in names(species)){\n",
    "    g <- str_subset(species[[s]], pattern = '^g\\\\_')\n",
    "    iS <- which(colnames(tax_pp) == s)\n",
    "    iG <- which(colnames(tax_pp) == g)\n",
    "    if (length(iG) == 0) next\n",
    "    \n",
    "    suppressWarnings(test <- cor.test(unlist(tax_pp[,iS]), unlist(tax_pp[,iG]), method = 'spearman'))\n",
    "    if (test$p.value < 0.05 & test$estimate^2 >= .95){\n",
    "        tax_pp <- select(tax_pp, -all_of(s))\n",
    "    }\n",
    "}"
   ]
  },
  {
   "cell_type": "code",
   "execution_count": 28,
   "metadata": {
    "ExecuteTime": {
     "end_time": "2021-11-22T14:46:35.634429Z",
     "start_time": "2021-11-22T14:46:20.151Z"
    }
   },
   "outputs": [
    {
     "data": {
      "text/html": [
       "<style>\n",
       ".list-inline {list-style: none; margin:0; padding: 0}\n",
       ".list-inline>li {display: inline-block}\n",
       ".list-inline>li:not(:last-child)::after {content: \"\\00b7\"; padding: 0 .5ex}\n",
       "</style>\n",
       "<ol class=list-inline><li>2203</li><li>2230</li></ol>\n"
      ],
      "text/latex": [
       "\\begin{enumerate*}\n",
       "\\item 2203\n",
       "\\item 2230\n",
       "\\end{enumerate*}\n"
      ],
      "text/markdown": [
       "1. 2203\n",
       "2. 2230\n",
       "\n",
       "\n"
      ],
      "text/plain": [
       "[1] 2203 2230"
      ]
     },
     "metadata": {},
     "output_type": "display_data"
    }
   ],
   "source": [
    "tax_pp %>% dim"
   ]
  },
  {
   "cell_type": "code",
   "execution_count": 29,
   "metadata": {
    "ExecuteTime": {
     "end_time": "2021-11-22T14:46:36.735216Z",
     "start_time": "2021-11-22T14:46:20.153Z"
    }
   },
   "outputs": [],
   "source": [
    "for (g in names(genera)){\n",
    "    f <- str_subset(genera[[g]], pattern = '^f\\\\_')\n",
    "    iF <- which(colnames(tax_pp) == f)\n",
    "    if (length(iF) == 0) next\n",
    "    iG <- which(colnames(tax_pp) == g)\n",
    "    \n",
    "    suppressWarnings(test <- cor.test(unlist(tax_pp[,iF]), unlist(tax_pp[,iG]), method = 'spearman'))\n",
    "    if (test$p.value < 0.05 & test$estimate^2 >= .95){\n",
    "        tax_pp <- select(tax_pp, -all_of(g))\n",
    "    }\n",
    "}"
   ]
  },
  {
   "cell_type": "code",
   "execution_count": 30,
   "metadata": {
    "ExecuteTime": {
     "end_time": "2021-11-22T14:46:36.755481Z",
     "start_time": "2021-11-22T14:46:20.156Z"
    },
    "scrolled": true
   },
   "outputs": [
    {
     "data": {
      "text/html": [
       "<style>\n",
       ".list-inline {list-style: none; margin:0; padding: 0}\n",
       ".list-inline>li {display: inline-block}\n",
       ".list-inline>li:not(:last-child)::after {content: \"\\00b7\"; padding: 0 .5ex}\n",
       "</style>\n",
       "<ol class=list-inline><li>2203</li><li>2207</li></ol>\n"
      ],
      "text/latex": [
       "\\begin{enumerate*}\n",
       "\\item 2203\n",
       "\\item 2207\n",
       "\\end{enumerate*}\n"
      ],
      "text/markdown": [
       "1. 2203\n",
       "2. 2207\n",
       "\n",
       "\n"
      ],
      "text/plain": [
       "[1] 2203 2207"
      ]
     },
     "metadata": {},
     "output_type": "display_data"
    }
   ],
   "source": [
    "tax_pp %>% dim"
   ]
  },
  {
   "cell_type": "markdown",
   "metadata": {},
   "source": [
    "# Remove Methanobacteriaceae from taxa"
   ]
  },
  {
   "cell_type": "code",
   "execution_count": 31,
   "metadata": {
    "ExecuteTime": {
     "end_time": "2021-11-22T14:46:36.781803Z",
     "start_time": "2021-11-22T14:46:20.159Z"
    }
   },
   "outputs": [],
   "source": [
    "tmeth <- taxa %>% subset(f == 'Methanobacteriaceae') %>% select(f, g, s) \n",
    "tmeth$f <- paste0('f_', tmeth$f)\n",
    "tmeth$g <- paste0('g_', tmeth$g)\n",
    "tmeth$s <- paste0('s_', tmeth$s)"
   ]
  },
  {
   "cell_type": "code",
   "execution_count": 32,
   "metadata": {
    "ExecuteTime": {
     "end_time": "2021-11-22T14:46:36.796794Z",
     "start_time": "2021-11-22T14:46:20.161Z"
    }
   },
   "outputs": [],
   "source": [
    "tmeth <- endoR::compatibleNames(tmeth %>% unlist %>% unique)"
   ]
  },
  {
   "cell_type": "code",
   "execution_count": 33,
   "metadata": {
    "ExecuteTime": {
     "end_time": "2021-11-22T14:46:36.810831Z",
     "start_time": "2021-11-22T14:46:20.163Z"
    }
   },
   "outputs": [],
   "source": [
    "tmeth <- tmeth[tmeth %in% colnames(tax_pp)]"
   ]
  },
  {
   "cell_type": "code",
   "execution_count": 34,
   "metadata": {
    "ExecuteTime": {
     "end_time": "2021-11-22T14:46:36.843325Z",
     "start_time": "2021-11-22T14:46:20.165Z"
    }
   },
   "outputs": [
    {
     "data": {
      "text/html": [
       "<style>\n",
       ".list-inline {list-style: none; margin:0; padding: 0}\n",
       ".list-inline>li {display: inline-block}\n",
       ".list-inline>li:not(:last-child)::after {content: \"\\00b7\"; padding: 0 .5ex}\n",
       "</style>\n",
       "<ol class=list-inline><li>'f_Methanobacteriaceae'</li><li>'g_Methanosphaera'</li><li>'g_Methanobrevibacter_B'</li><li>'g_Methanobrevibacter'</li><li>'s_Methanosphaera_stadtmanae'</li><li>'s_Methanobrevibacter_A_smithii_A'</li><li>'s_Methanobrevibacter_A_smithii'</li><li>'s_Methanobrevibacter_B_wolinii'</li><li>'s_Methanobrevibacter_A_sp900319535'</li><li>'s_Methanobrevibacter_A_thaueri'</li><li>'s_Methanobrevibacter_A_sp001548675'</li><li>'s_Methanobrevibacter_A_sp900316895'</li><li>'s_Methanobrevibacter_A_sp900314695'</li><li>'s_Methanobrevibacter_A_sp900313645'</li><li>'s_Methanobrevibacter_olleyae'</li><li>'s_Methanobrevibacter_A_woesei'</li></ol>\n"
      ],
      "text/latex": [
       "\\begin{enumerate*}\n",
       "\\item 'f\\_Methanobacteriaceae'\n",
       "\\item 'g\\_Methanosphaera'\n",
       "\\item 'g\\_Methanobrevibacter\\_B'\n",
       "\\item 'g\\_Methanobrevibacter'\n",
       "\\item 's\\_Methanosphaera\\_stadtmanae'\n",
       "\\item 's\\_Methanobrevibacter\\_A\\_smithii\\_A'\n",
       "\\item 's\\_Methanobrevibacter\\_A\\_smithii'\n",
       "\\item 's\\_Methanobrevibacter\\_B\\_wolinii'\n",
       "\\item 's\\_Methanobrevibacter\\_A\\_sp900319535'\n",
       "\\item 's\\_Methanobrevibacter\\_A\\_thaueri'\n",
       "\\item 's\\_Methanobrevibacter\\_A\\_sp001548675'\n",
       "\\item 's\\_Methanobrevibacter\\_A\\_sp900316895'\n",
       "\\item 's\\_Methanobrevibacter\\_A\\_sp900314695'\n",
       "\\item 's\\_Methanobrevibacter\\_A\\_sp900313645'\n",
       "\\item 's\\_Methanobrevibacter\\_olleyae'\n",
       "\\item 's\\_Methanobrevibacter\\_A\\_woesei'\n",
       "\\end{enumerate*}\n"
      ],
      "text/markdown": [
       "1. 'f_Methanobacteriaceae'\n",
       "2. 'g_Methanosphaera'\n",
       "3. 'g_Methanobrevibacter_B'\n",
       "4. 'g_Methanobrevibacter'\n",
       "5. 's_Methanosphaera_stadtmanae'\n",
       "6. 's_Methanobrevibacter_A_smithii_A'\n",
       "7. 's_Methanobrevibacter_A_smithii'\n",
       "8. 's_Methanobrevibacter_B_wolinii'\n",
       "9. 's_Methanobrevibacter_A_sp900319535'\n",
       "10. 's_Methanobrevibacter_A_thaueri'\n",
       "11. 's_Methanobrevibacter_A_sp001548675'\n",
       "12. 's_Methanobrevibacter_A_sp900316895'\n",
       "13. 's_Methanobrevibacter_A_sp900314695'\n",
       "14. 's_Methanobrevibacter_A_sp900313645'\n",
       "15. 's_Methanobrevibacter_olleyae'\n",
       "16. 's_Methanobrevibacter_A_woesei'\n",
       "\n",
       "\n"
      ],
      "text/plain": [
       " [1] \"f_Methanobacteriaceae\"              \"g_Methanosphaera\"                  \n",
       " [3] \"g_Methanobrevibacter_B\"             \"g_Methanobrevibacter\"              \n",
       " [5] \"s_Methanosphaera_stadtmanae\"        \"s_Methanobrevibacter_A_smithii_A\"  \n",
       " [7] \"s_Methanobrevibacter_A_smithii\"     \"s_Methanobrevibacter_B_wolinii\"    \n",
       " [9] \"s_Methanobrevibacter_A_sp900319535\" \"s_Methanobrevibacter_A_thaueri\"    \n",
       "[11] \"s_Methanobrevibacter_A_sp001548675\" \"s_Methanobrevibacter_A_sp900316895\"\n",
       "[13] \"s_Methanobrevibacter_A_sp900314695\" \"s_Methanobrevibacter_A_sp900313645\"\n",
       "[15] \"s_Methanobrevibacter_olleyae\"       \"s_Methanobrevibacter_A_woesei\"     "
      ]
     },
     "metadata": {},
     "output_type": "display_data"
    }
   ],
   "source": [
    "tmeth"
   ]
  },
  {
   "cell_type": "code",
   "execution_count": 35,
   "metadata": {
    "ExecuteTime": {
     "end_time": "2021-11-22T14:46:36.858742Z",
     "start_time": "2021-11-22T14:46:20.167Z"
    }
   },
   "outputs": [],
   "source": [
    "targets <- data.frame( \n",
    "    Mtbc = ifelse(tax_pp$f_Methanobacteriaceae > 0, 1, 0)\n",
    "    , Msmi = ifelse(tax_pp$s_Methanobrevibacter_A_smithii > 0 | tax_pp$s_Methanobrevibacter_A_smithii_A > 0, 1, 0) \n",
    "    , Sample = tax_pp$Sample\n",
    "                     )"
   ]
  },
  {
   "cell_type": "code",
   "execution_count": 36,
   "metadata": {
    "ExecuteTime": {
     "end_time": "2021-11-22T14:46:36.896961Z",
     "start_time": "2021-11-22T14:46:20.170Z"
    }
   },
   "outputs": [
    {
     "data": {
      "text/html": [
       "<table class=\"dataframe\">\n",
       "<caption>A data.frame: 3 × 3</caption>\n",
       "<thead>\n",
       "\t<tr><th scope=col>Mtbc</th><th scope=col>Msmi</th><th scope=col>n</th></tr>\n",
       "\t<tr><th scope=col>&lt;dbl&gt;</th><th scope=col>&lt;dbl&gt;</th><th scope=col>&lt;int&gt;</th></tr>\n",
       "</thead>\n",
       "<tbody>\n",
       "\t<tr><td>0</td><td>0</td><td>1510</td></tr>\n",
       "\t<tr><td>1</td><td>0</td><td>  37</td></tr>\n",
       "\t<tr><td>1</td><td>1</td><td> 656</td></tr>\n",
       "</tbody>\n",
       "</table>\n"
      ],
      "text/latex": [
       "A data.frame: 3 × 3\n",
       "\\begin{tabular}{lll}\n",
       " Mtbc & Msmi & n\\\\\n",
       " <dbl> & <dbl> & <int>\\\\\n",
       "\\hline\n",
       "\t 0 & 0 & 1510\\\\\n",
       "\t 1 & 0 &   37\\\\\n",
       "\t 1 & 1 &  656\\\\\n",
       "\\end{tabular}\n"
      ],
      "text/markdown": [
       "\n",
       "A data.frame: 3 × 3\n",
       "\n",
       "| Mtbc &lt;dbl&gt; | Msmi &lt;dbl&gt; | n &lt;int&gt; |\n",
       "|---|---|---|\n",
       "| 0 | 0 | 1510 |\n",
       "| 1 | 0 |   37 |\n",
       "| 1 | 1 |  656 |\n",
       "\n"
      ],
      "text/plain": [
       "  Mtbc Msmi n   \n",
       "1 0    0    1510\n",
       "2 1    0      37\n",
       "3 1    1     656"
      ]
     },
     "metadata": {},
     "output_type": "display_data"
    }
   ],
   "source": [
    "targets %>% count(Mtbc, Msmi)"
   ]
  },
  {
   "cell_type": "code",
   "execution_count": 37,
   "metadata": {
    "ExecuteTime": {
     "end_time": "2021-11-22T14:46:36.914196Z",
     "start_time": "2021-11-22T14:46:20.173Z"
    }
   },
   "outputs": [],
   "source": [
    "qsave(targets, 'targets_meth.qs')"
   ]
  },
  {
   "cell_type": "code",
   "execution_count": 38,
   "metadata": {
    "ExecuteTime": {
     "end_time": "2021-11-22T14:46:36.938544Z",
     "start_time": "2021-11-22T14:46:20.175Z"
    }
   },
   "outputs": [],
   "source": [
    "tax_nometh <- select(tax_pp, -all_of(tmeth))"
   ]
  },
  {
   "cell_type": "code",
   "execution_count": 39,
   "metadata": {
    "ExecuteTime": {
     "end_time": "2021-11-22T14:46:37.182891Z",
     "start_time": "2021-11-22T14:46:20.177Z"
    }
   },
   "outputs": [],
   "source": [
    "qsave(tax_nometh, 'taxa_nometh.qs')"
   ]
  },
  {
   "cell_type": "markdown",
   "metadata": {},
   "source": [
    "# humann2: metacyc"
   ]
  },
  {
   "cell_type": "markdown",
   "metadata": {},
   "source": [
    "## Remove the prevalence < 25%"
   ]
  },
  {
   "cell_type": "code",
   "execution_count": 40,
   "metadata": {
    "ExecuteTime": {
     "end_time": "2021-11-22T14:46:37.215828Z",
     "start_time": "2021-11-22T14:46:20.181Z"
    }
   },
   "outputs": [],
   "source": [
    "tmp <- colSums(pathw_cov > 0)"
   ]
  },
  {
   "cell_type": "code",
   "execution_count": 41,
   "metadata": {
    "ExecuteTime": {
     "end_time": "2021-11-22T14:46:37.231457Z",
     "start_time": "2021-11-22T14:46:20.183Z"
    }
   },
   "outputs": [],
   "source": [
    "pathw_cov <- pathw_cov[, which(tmp >= nrow(pathw_cov)/4)]"
   ]
  },
  {
   "cell_type": "code",
   "execution_count": 42,
   "metadata": {
    "ExecuteTime": {
     "end_time": "2021-11-22T14:46:37.255771Z",
     "start_time": "2021-11-22T14:46:20.185Z"
    }
   },
   "outputs": [
    {
     "data": {
      "text/plain": [
       "   Min. 1st Qu.  Median    Mean 3rd Qu.    Max. \n",
       "   1.00   49.75  188.50  640.06 1207.50 2203.00 "
      ]
     },
     "metadata": {},
     "output_type": "display_data"
    },
    {
     "data": {
      "text/html": [
       "550.75"
      ],
      "text/latex": [
       "550.75"
      ],
      "text/markdown": [
       "550.75"
      ],
      "text/plain": [
       "[1] 550.75"
      ]
     },
     "metadata": {},
     "output_type": "display_data"
    }
   ],
   "source": [
    "summary(tmp)\n",
    "nrow(pathw_cov)/4"
   ]
  },
  {
   "cell_type": "code",
   "execution_count": 43,
   "metadata": {
    "ExecuteTime": {
     "end_time": "2021-11-22T14:46:37.273711Z",
     "start_time": "2021-11-22T14:46:20.187Z"
    }
   },
   "outputs": [
    {
     "data": {
      "text/html": [
       "<strong>METHANOGENESIS_PWY_methanogenesis_from_H2_and_CO2:</strong> 10"
      ],
      "text/latex": [
       "\\textbf{METHANOGENESIS\\textbackslash{}\\_PWY\\textbackslash{}\\_methanogenesis\\textbackslash{}\\_from\\textbackslash{}\\_H2\\textbackslash{}\\_and\\textbackslash{}\\_CO2:} 10"
      ],
      "text/markdown": [
       "**METHANOGENESIS_PWY_methanogenesis_from_H2_and_CO2:** 10"
      ],
      "text/plain": [
       "METHANOGENESIS_PWY_methanogenesis_from_H2_and_CO2 \n",
       "                                               10 "
      ]
     },
     "metadata": {},
     "output_type": "display_data"
    }
   ],
   "source": [
    "tmp['METHANOGENESIS_PWY_methanogenesis_from_H2_and_CO2']"
   ]
  },
  {
   "cell_type": "code",
   "execution_count": 44,
   "metadata": {
    "ExecuteTime": {
     "end_time": "2021-11-22T14:46:37.291506Z",
     "start_time": "2021-11-22T14:46:20.190Z"
    }
   },
   "outputs": [],
   "source": [
    "pathw_cov <- select(pathw_cov, -UNMAPPED, -UNINTEGRATED)"
   ]
  },
  {
   "cell_type": "code",
   "execution_count": 45,
   "metadata": {
    "ExecuteTime": {
     "end_time": "2021-11-22T14:46:37.308802Z",
     "start_time": "2021-11-22T14:46:20.192Z"
    }
   },
   "outputs": [
    {
     "data": {
      "text/html": [
       "117"
      ],
      "text/latex": [
       "117"
      ],
      "text/markdown": [
       "117"
      ],
      "text/plain": [
       "[1] 117"
      ]
     },
     "metadata": {},
     "output_type": "display_data"
    }
   ],
   "source": [
    "(pathw_cov %>% ncol)-1"
   ]
  },
  {
   "cell_type": "markdown",
   "metadata": {},
   "source": [
    "## remove methanogen's pathways"
   ]
  },
  {
   "cell_type": "code",
   "execution_count": 46,
   "metadata": {
    "ExecuteTime": {
     "end_time": "2021-11-22T14:46:37.322278Z",
     "start_time": "2021-11-22T14:46:20.194Z"
    }
   },
   "outputs": [],
   "source": [
    "## do not run\n",
    "#getMethPathways <- function(dataset\n",
    "#                        , prefix = '/ebio/abt3_projects/databases_no-backup/curatedMetagenomicData/global_metagenomes/LLMGP/'\n",
    "#                        , suffix = '/humann2/normalized/stratified/pathabundance.tsv.gz'\n",
    "#                        ){\n",
    "#    path <- paste0(prefix, dataset, suffix)\n",
    "#    \n",
    "#    res <- data.table::fread(file = path,select=1)\n",
    "#    \n",
    "#    return(res)\n",
    "#}"
   ]
  },
  {
   "cell_type": "code",
   "execution_count": 47,
   "metadata": {
    "ExecuteTime": {
     "end_time": "2021-11-22T14:46:37.337597Z",
     "start_time": "2021-11-22T14:46:20.197Z"
    }
   },
   "outputs": [],
   "source": [
    "## do not run\n",
    "#datasets <- list.dirs(path = \"/ebio/abt3_projects/databases_no-backup/curatedMetagenomicData/global_metagenomes/LLMGP/\"\n",
    "#          , full.names = FALSE, recursive = FALSE)\n",
    "#dtshorts <- str_replace_all(datasets, pattern = '^[:digit:]+\\\\_', replacement = '')\n",
    "#iX <- which(dtshorts %in% meta$dataset_name)"
   ]
  },
  {
   "cell_type": "code",
   "execution_count": 48,
   "metadata": {
    "ExecuteTime": {
     "end_time": "2021-11-22T14:46:37.352086Z",
     "start_time": "2021-11-22T14:46:20.199Z"
    }
   },
   "outputs": [],
   "source": [
    "#all_path <- sapply(datasets[iX], getMethPathways) %>% unlist %>% unique\n",
    "#saveRDS(all_path, '../tmp/all_path.RDS')"
   ]
  },
  {
   "cell_type": "code",
   "execution_count": 49,
   "metadata": {
    "ExecuteTime": {
     "end_time": "2021-11-22T14:46:37.421790Z",
     "start_time": "2021-11-22T14:46:20.202Z"
    }
   },
   "outputs": [],
   "source": [
    "all_path <- readRDS('../tmp/all_path.RDS')"
   ]
  },
  {
   "cell_type": "code",
   "execution_count": 50,
   "metadata": {
    "ExecuteTime": {
     "end_time": "2021-11-22T14:46:37.441580Z",
     "start_time": "2021-11-22T14:46:20.204Z"
    }
   },
   "outputs": [
    {
     "data": {
      "text/html": [
       "<style>\n",
       ".list-inline {list-style: none; margin:0; padding: 0}\n",
       ".list-inline>li {display: inline-block}\n",
       ".list-inline>li:not(:last-child)::after {content: \"\\00b7\"; padding: 0 .5ex}\n",
       "</style>\n",
       "<ol class=list-inline><li>'UNINTEGRATED|g__51-20.s__51-20_sp001917175__taxID168716'</li><li>'UNINTEGRATED|g__ASF356.s__ASF356_sp000364165__taxID176596'</li><li>'UNINTEGRATED|g__Acetatifactor.s__Acetatifactor_sp002431915__taxID173790'</li><li>'UNINTEGRATED|g__Acetatifactor.s__Acetatifactor_sp900066365__taxID120562'</li><li>'UNINTEGRATED|g__Acetatifactor.s__Acetatifactor_sp900066565__taxID121909'</li><li>'UNINTEGRATED|g__Acidaminococcus.s__Acidaminococcus_sp000437815__taxID178988'</li></ol>\n"
      ],
      "text/latex": [
       "\\begin{enumerate*}\n",
       "\\item 'UNINTEGRATED\\textbar{}g\\_\\_51-20.s\\_\\_51-20\\_sp001917175\\_\\_taxID168716'\n",
       "\\item 'UNINTEGRATED\\textbar{}g\\_\\_ASF356.s\\_\\_ASF356\\_sp000364165\\_\\_taxID176596'\n",
       "\\item 'UNINTEGRATED\\textbar{}g\\_\\_Acetatifactor.s\\_\\_Acetatifactor\\_sp002431915\\_\\_taxID173790'\n",
       "\\item 'UNINTEGRATED\\textbar{}g\\_\\_Acetatifactor.s\\_\\_Acetatifactor\\_sp900066365\\_\\_taxID120562'\n",
       "\\item 'UNINTEGRATED\\textbar{}g\\_\\_Acetatifactor.s\\_\\_Acetatifactor\\_sp900066565\\_\\_taxID121909'\n",
       "\\item 'UNINTEGRATED\\textbar{}g\\_\\_Acidaminococcus.s\\_\\_Acidaminococcus\\_sp000437815\\_\\_taxID178988'\n",
       "\\end{enumerate*}\n"
      ],
      "text/markdown": [
       "1. 'UNINTEGRATED|g__51-20.s__51-20_sp001917175__taxID168716'\n",
       "2. 'UNINTEGRATED|g__ASF356.s__ASF356_sp000364165__taxID176596'\n",
       "3. 'UNINTEGRATED|g__Acetatifactor.s__Acetatifactor_sp002431915__taxID173790'\n",
       "4. 'UNINTEGRATED|g__Acetatifactor.s__Acetatifactor_sp900066365__taxID120562'\n",
       "5. 'UNINTEGRATED|g__Acetatifactor.s__Acetatifactor_sp900066565__taxID121909'\n",
       "6. 'UNINTEGRATED|g__Acidaminococcus.s__Acidaminococcus_sp000437815__taxID178988'\n",
       "\n",
       "\n"
      ],
      "text/plain": [
       "[1] \"UNINTEGRATED|g__51-20.s__51-20_sp001917175__taxID168716\"                    \n",
       "[2] \"UNINTEGRATED|g__ASF356.s__ASF356_sp000364165__taxID176596\"                  \n",
       "[3] \"UNINTEGRATED|g__Acetatifactor.s__Acetatifactor_sp002431915__taxID173790\"    \n",
       "[4] \"UNINTEGRATED|g__Acetatifactor.s__Acetatifactor_sp900066365__taxID120562\"    \n",
       "[5] \"UNINTEGRATED|g__Acetatifactor.s__Acetatifactor_sp900066565__taxID121909\"    \n",
       "[6] \"UNINTEGRATED|g__Acidaminococcus.s__Acidaminococcus_sp000437815__taxID178988\""
      ]
     },
     "metadata": {},
     "output_type": "display_data"
    }
   ],
   "source": [
    "all_path %>% head"
   ]
  },
  {
   "cell_type": "code",
   "execution_count": 51,
   "metadata": {
    "ExecuteTime": {
     "end_time": "2021-11-22T14:46:37.458472Z",
     "start_time": "2021-11-22T14:46:20.207Z"
    }
   },
   "outputs": [],
   "source": [
    "# Methanobacteriaceae genera\n",
    "gmeth <- taxa %>% subset(f == 'Methanobacteriaceae', select = g) %>% unlist %>% unique"
   ]
  },
  {
   "cell_type": "code",
   "execution_count": 52,
   "metadata": {
    "ExecuteTime": {
     "end_time": "2021-11-22T14:46:37.622955Z",
     "start_time": "2021-11-22T14:46:20.209Z"
    }
   },
   "outputs": [],
   "source": [
    "# Subset pathways attributed to a Methanobacteriaceae genera\n",
    "to_rm <- c()\n",
    "for (g in gmeth){\n",
    "    to_rm <- c(to_rm, str_subset(all_path, pattern = g))\n",
    "}"
   ]
  },
  {
   "cell_type": "code",
   "execution_count": 53,
   "metadata": {
    "ExecuteTime": {
     "end_time": "2021-11-22T14:46:37.648484Z",
     "start_time": "2021-11-22T14:46:20.211Z"
    }
   },
   "outputs": [
    {
     "data": {
      "text/html": [
       "382"
      ],
      "text/latex": [
       "382"
      ],
      "text/markdown": [
       "382"
      ],
      "text/plain": [
       "[1] 382"
      ]
     },
     "metadata": {},
     "output_type": "display_data"
    },
    {
     "data": {
      "text/html": [
       "<style>\n",
       ".list-inline {list-style: none; margin:0; padding: 0}\n",
       ".list-inline>li {display: inline-block}\n",
       ".list-inline>li:not(:last-child)::after {content: \"\\00b7\"; padding: 0 .5ex}\n",
       "</style>\n",
       "<ol class=list-inline><li>'UNINTEGRATED|g__Methanosphaera.s__Methanosphaera_stadtmanae__taxID1172'</li><li>'P261-PWY: coenzyme M biosynthesis I|g__Methanosphaera.s__Methanosphaera_stadtmanae__taxID1172'</li><li>'PWY-5097: L-lysine biosynthesis VI|g__Methanosphaera.s__Methanosphaera_stadtmanae__taxID1172'</li></ol>\n"
      ],
      "text/latex": [
       "\\begin{enumerate*}\n",
       "\\item 'UNINTEGRATED\\textbar{}g\\_\\_Methanosphaera.s\\_\\_Methanosphaera\\_stadtmanae\\_\\_taxID1172'\n",
       "\\item 'P261-PWY: coenzyme M biosynthesis I\\textbar{}g\\_\\_Methanosphaera.s\\_\\_Methanosphaera\\_stadtmanae\\_\\_taxID1172'\n",
       "\\item 'PWY-5097: L-lysine biosynthesis VI\\textbar{}g\\_\\_Methanosphaera.s\\_\\_Methanosphaera\\_stadtmanae\\_\\_taxID1172'\n",
       "\\end{enumerate*}\n"
      ],
      "text/markdown": [
       "1. 'UNINTEGRATED|g__Methanosphaera.s__Methanosphaera_stadtmanae__taxID1172'\n",
       "2. 'P261-PWY: coenzyme M biosynthesis I|g__Methanosphaera.s__Methanosphaera_stadtmanae__taxID1172'\n",
       "3. 'PWY-5097: L-lysine biosynthesis VI|g__Methanosphaera.s__Methanosphaera_stadtmanae__taxID1172'\n",
       "\n",
       "\n"
      ],
      "text/plain": [
       "[1] \"UNINTEGRATED|g__Methanosphaera.s__Methanosphaera_stadtmanae__taxID1172\"                       \n",
       "[2] \"P261-PWY: coenzyme M biosynthesis I|g__Methanosphaera.s__Methanosphaera_stadtmanae__taxID1172\"\n",
       "[3] \"PWY-5097: L-lysine biosynthesis VI|g__Methanosphaera.s__Methanosphaera_stadtmanae__taxID1172\" "
      ]
     },
     "metadata": {},
     "output_type": "display_data"
    }
   ],
   "source": [
    "length(to_rm)\n",
    "head(to_rm, 3)"
   ]
  },
  {
   "cell_type": "code",
   "execution_count": 54,
   "metadata": {
    "ExecuteTime": {
     "end_time": "2021-11-22T14:46:37.673873Z",
     "start_time": "2021-11-22T14:46:20.214Z"
    }
   },
   "outputs": [
    {
     "data": {
      "text/html": [
       "<style>\n",
       ".list-inline {list-style: none; margin:0; padding: 0}\n",
       ".list-inline>li {display: inline-block}\n",
       ".list-inline>li:not(:last-child)::after {content: \"\\00b7\"; padding: 0 .5ex}\n",
       "</style>\n",
       "<ol class=list-inline><li>'UNINTEGRATED'</li><li>'P261_PWY_coenzyme_M_biosynthesis_I'</li><li>'PWY_5097_L_lysine_biosynthesis_VI'</li></ol>\n"
      ],
      "text/latex": [
       "\\begin{enumerate*}\n",
       "\\item 'UNINTEGRATED'\n",
       "\\item 'P261\\_PWY\\_coenzyme\\_M\\_biosynthesis\\_I'\n",
       "\\item 'PWY\\_5097\\_L\\_lysine\\_biosynthesis\\_VI'\n",
       "\\end{enumerate*}\n"
      ],
      "text/markdown": [
       "1. 'UNINTEGRATED'\n",
       "2. 'P261_PWY_coenzyme_M_biosynthesis_I'\n",
       "3. 'PWY_5097_L_lysine_biosynthesis_VI'\n",
       "\n",
       "\n"
      ],
      "text/plain": [
       "[1] \"UNINTEGRATED\"                       \"P261_PWY_coenzyme_M_biosynthesis_I\"\n",
       "[3] \"PWY_5097_L_lysine_biosynthesis_VI\" "
      ]
     },
     "metadata": {},
     "output_type": "display_data"
    }
   ],
   "source": [
    "to_rm <- str_extract(to_rm, pattern = '.*(?=\\\\|)') %>% unique\n",
    "to_rm <- endoR::compatibleNames(to_rm) \n",
    "to_rm %>% head(3)"
   ]
  },
  {
   "cell_type": "code",
   "execution_count": 55,
   "metadata": {
    "ExecuteTime": {
     "end_time": "2021-11-22T14:46:37.701877Z",
     "start_time": "2021-11-22T14:46:20.218Z"
    }
   },
   "outputs": [
    {
     "data": {
      "text/html": [
       "<style>\n",
       ".list-inline {list-style: none; margin:0; padding: 0}\n",
       ".list-inline>li {display: inline-block}\n",
       ".list-inline>li:not(:last-child)::after {content: \"\\00b7\"; padding: 0 .5ex}\n",
       "</style>\n",
       "<ol class=list-inline><li>'PWY_5097_L_lysine_biosynthesis_VI'</li><li>'PWY_5188_tetrapyrrole_biosynthesis_I_from_glutamate'</li><li>'PWY_6121_5_aminoimidazole_ribonucleotide_biosynthesis_I'</li><li>'PWY_6122_5_aminoimidazole_ribonucleotide_biosynthesis_II'</li><li>'PWY_6277_superpathway_of_5_aminoimidazole_ribonucleotide_biosynthesis'</li><li>'PWY_7219_adenosine_ribonucleotides_de_novo_biosynthesis'</li><li>'BRANCHED_CHAIN_AA_SYN_PWY_superpathway_of_branched_amino_acid_biosynthesis'</li><li>'DTDPRHAMSYN_PWY_dTDP_L_rhamnose_biosynthesis_I'</li><li>'ILEUSYN_PWY_L_isoleucine_biosynthesis_I_from_threonine'</li><li>'PWY_3001_superpathway_of_L_isoleucine_biosynthesis_I'</li><li>'PWY_5103_L_isoleucine_biosynthesis_III'</li><li>'PWY_5686_UMP_biosynthesis'</li><li>'PWY_6305_putrescine_biosynthesis_IV'</li><li>'PWY_7111_pyruvate_fermentation_to_isobutanol_engineered'</li><li>'PWY_7221_guanosine_ribonucleotides_de_novo_biosynthesis'</li><li>'THRESYN_PWY_superpathway_of_L_threonine_biosynthesis'</li><li>'VALSYN_PWY_L_valine_biosynthesis'</li><li>'PWY_7234_inosine_5_phosphate_biosynthesis_III'</li><li>'HISTSYN_PWY_L_histidine_biosynthesis'</li><li>'PWY_2942_L_lysine_biosynthesis_III'</li><li>'PWY_6163_chorismate_biosynthesis_from_3_dehydroquinate'</li><li>'PWY_7187_pyrimidine_deoxyribonucleotides_de_novo_biosynthesis_II'</li><li>'PWY_7197_pyrimidine_deoxyribonucleotide_phosphorylation'</li><li>'PWY_7229_superpathway_of_adenosine_nucleotides_de_novo_biosynthesis_I'</li><li>'PWY_724_superpathway_of_L_lysine_L_threonine_and_L_methionine_biosynthesis_II'</li><li>'HSERMETANA_PWY_L_methionine_biosynthesis_III'</li><li>'PWY_6124_inosine_5_phosphate_biosynthesis_II'</li><li>'PWY_6703_preQ0_biosynthesis'</li><li>'PWY_7208_superpathway_of_pyrimidine_nucleobases_salvage'</li><li>'PWY_6936_seleno_amino_acid_biosynthesis'</li><li>'TRPSYN_PWY_L_tryptophan_biosynthesis'</li></ol>\n"
      ],
      "text/latex": [
       "\\begin{enumerate*}\n",
       "\\item 'PWY\\_5097\\_L\\_lysine\\_biosynthesis\\_VI'\n",
       "\\item 'PWY\\_5188\\_tetrapyrrole\\_biosynthesis\\_I\\_from\\_glutamate'\n",
       "\\item 'PWY\\_6121\\_5\\_aminoimidazole\\_ribonucleotide\\_biosynthesis\\_I'\n",
       "\\item 'PWY\\_6122\\_5\\_aminoimidazole\\_ribonucleotide\\_biosynthesis\\_II'\n",
       "\\item 'PWY\\_6277\\_superpathway\\_of\\_5\\_aminoimidazole\\_ribonucleotide\\_biosynthesis'\n",
       "\\item 'PWY\\_7219\\_adenosine\\_ribonucleotides\\_de\\_novo\\_biosynthesis'\n",
       "\\item 'BRANCHED\\_CHAIN\\_AA\\_SYN\\_PWY\\_superpathway\\_of\\_branched\\_amino\\_acid\\_biosynthesis'\n",
       "\\item 'DTDPRHAMSYN\\_PWY\\_dTDP\\_L\\_rhamnose\\_biosynthesis\\_I'\n",
       "\\item 'ILEUSYN\\_PWY\\_L\\_isoleucine\\_biosynthesis\\_I\\_from\\_threonine'\n",
       "\\item 'PWY\\_3001\\_superpathway\\_of\\_L\\_isoleucine\\_biosynthesis\\_I'\n",
       "\\item 'PWY\\_5103\\_L\\_isoleucine\\_biosynthesis\\_III'\n",
       "\\item 'PWY\\_5686\\_UMP\\_biosynthesis'\n",
       "\\item 'PWY\\_6305\\_putrescine\\_biosynthesis\\_IV'\n",
       "\\item 'PWY\\_7111\\_pyruvate\\_fermentation\\_to\\_isobutanol\\_engineered'\n",
       "\\item 'PWY\\_7221\\_guanosine\\_ribonucleotides\\_de\\_novo\\_biosynthesis'\n",
       "\\item 'THRESYN\\_PWY\\_superpathway\\_of\\_L\\_threonine\\_biosynthesis'\n",
       "\\item 'VALSYN\\_PWY\\_L\\_valine\\_biosynthesis'\n",
       "\\item 'PWY\\_7234\\_inosine\\_5\\_phosphate\\_biosynthesis\\_III'\n",
       "\\item 'HISTSYN\\_PWY\\_L\\_histidine\\_biosynthesis'\n",
       "\\item 'PWY\\_2942\\_L\\_lysine\\_biosynthesis\\_III'\n",
       "\\item 'PWY\\_6163\\_chorismate\\_biosynthesis\\_from\\_3\\_dehydroquinate'\n",
       "\\item 'PWY\\_7187\\_pyrimidine\\_deoxyribonucleotides\\_de\\_novo\\_biosynthesis\\_II'\n",
       "\\item 'PWY\\_7197\\_pyrimidine\\_deoxyribonucleotide\\_phosphorylation'\n",
       "\\item 'PWY\\_7229\\_superpathway\\_of\\_adenosine\\_nucleotides\\_de\\_novo\\_biosynthesis\\_I'\n",
       "\\item 'PWY\\_724\\_superpathway\\_of\\_L\\_lysine\\_L\\_threonine\\_and\\_L\\_methionine\\_biosynthesis\\_II'\n",
       "\\item 'HSERMETANA\\_PWY\\_L\\_methionine\\_biosynthesis\\_III'\n",
       "\\item 'PWY\\_6124\\_inosine\\_5\\_phosphate\\_biosynthesis\\_II'\n",
       "\\item 'PWY\\_6703\\_preQ0\\_biosynthesis'\n",
       "\\item 'PWY\\_7208\\_superpathway\\_of\\_pyrimidine\\_nucleobases\\_salvage'\n",
       "\\item 'PWY\\_6936\\_seleno\\_amino\\_acid\\_biosynthesis'\n",
       "\\item 'TRPSYN\\_PWY\\_L\\_tryptophan\\_biosynthesis'\n",
       "\\end{enumerate*}\n"
      ],
      "text/markdown": [
       "1. 'PWY_5097_L_lysine_biosynthesis_VI'\n",
       "2. 'PWY_5188_tetrapyrrole_biosynthesis_I_from_glutamate'\n",
       "3. 'PWY_6121_5_aminoimidazole_ribonucleotide_biosynthesis_I'\n",
       "4. 'PWY_6122_5_aminoimidazole_ribonucleotide_biosynthesis_II'\n",
       "5. 'PWY_6277_superpathway_of_5_aminoimidazole_ribonucleotide_biosynthesis'\n",
       "6. 'PWY_7219_adenosine_ribonucleotides_de_novo_biosynthesis'\n",
       "7. 'BRANCHED_CHAIN_AA_SYN_PWY_superpathway_of_branched_amino_acid_biosynthesis'\n",
       "8. 'DTDPRHAMSYN_PWY_dTDP_L_rhamnose_biosynthesis_I'\n",
       "9. 'ILEUSYN_PWY_L_isoleucine_biosynthesis_I_from_threonine'\n",
       "10. 'PWY_3001_superpathway_of_L_isoleucine_biosynthesis_I'\n",
       "11. 'PWY_5103_L_isoleucine_biosynthesis_III'\n",
       "12. 'PWY_5686_UMP_biosynthesis'\n",
       "13. 'PWY_6305_putrescine_biosynthesis_IV'\n",
       "14. 'PWY_7111_pyruvate_fermentation_to_isobutanol_engineered'\n",
       "15. 'PWY_7221_guanosine_ribonucleotides_de_novo_biosynthesis'\n",
       "16. 'THRESYN_PWY_superpathway_of_L_threonine_biosynthesis'\n",
       "17. 'VALSYN_PWY_L_valine_biosynthesis'\n",
       "18. 'PWY_7234_inosine_5_phosphate_biosynthesis_III'\n",
       "19. 'HISTSYN_PWY_L_histidine_biosynthesis'\n",
       "20. 'PWY_2942_L_lysine_biosynthesis_III'\n",
       "21. 'PWY_6163_chorismate_biosynthesis_from_3_dehydroquinate'\n",
       "22. 'PWY_7187_pyrimidine_deoxyribonucleotides_de_novo_biosynthesis_II'\n",
       "23. 'PWY_7197_pyrimidine_deoxyribonucleotide_phosphorylation'\n",
       "24. 'PWY_7229_superpathway_of_adenosine_nucleotides_de_novo_biosynthesis_I'\n",
       "25. 'PWY_724_superpathway_of_L_lysine_L_threonine_and_L_methionine_biosynthesis_II'\n",
       "26. 'HSERMETANA_PWY_L_methionine_biosynthesis_III'\n",
       "27. 'PWY_6124_inosine_5_phosphate_biosynthesis_II'\n",
       "28. 'PWY_6703_preQ0_biosynthesis'\n",
       "29. 'PWY_7208_superpathway_of_pyrimidine_nucleobases_salvage'\n",
       "30. 'PWY_6936_seleno_amino_acid_biosynthesis'\n",
       "31. 'TRPSYN_PWY_L_tryptophan_biosynthesis'\n",
       "\n",
       "\n"
      ],
      "text/plain": [
       " [1] \"PWY_5097_L_lysine_biosynthesis_VI\"                                            \n",
       " [2] \"PWY_5188_tetrapyrrole_biosynthesis_I_from_glutamate\"                          \n",
       " [3] \"PWY_6121_5_aminoimidazole_ribonucleotide_biosynthesis_I\"                      \n",
       " [4] \"PWY_6122_5_aminoimidazole_ribonucleotide_biosynthesis_II\"                     \n",
       " [5] \"PWY_6277_superpathway_of_5_aminoimidazole_ribonucleotide_biosynthesis\"        \n",
       " [6] \"PWY_7219_adenosine_ribonucleotides_de_novo_biosynthesis\"                      \n",
       " [7] \"BRANCHED_CHAIN_AA_SYN_PWY_superpathway_of_branched_amino_acid_biosynthesis\"   \n",
       " [8] \"DTDPRHAMSYN_PWY_dTDP_L_rhamnose_biosynthesis_I\"                               \n",
       " [9] \"ILEUSYN_PWY_L_isoleucine_biosynthesis_I_from_threonine\"                       \n",
       "[10] \"PWY_3001_superpathway_of_L_isoleucine_biosynthesis_I\"                         \n",
       "[11] \"PWY_5103_L_isoleucine_biosynthesis_III\"                                       \n",
       "[12] \"PWY_5686_UMP_biosynthesis\"                                                    \n",
       "[13] \"PWY_6305_putrescine_biosynthesis_IV\"                                          \n",
       "[14] \"PWY_7111_pyruvate_fermentation_to_isobutanol_engineered\"                      \n",
       "[15] \"PWY_7221_guanosine_ribonucleotides_de_novo_biosynthesis\"                      \n",
       "[16] \"THRESYN_PWY_superpathway_of_L_threonine_biosynthesis\"                         \n",
       "[17] \"VALSYN_PWY_L_valine_biosynthesis\"                                             \n",
       "[18] \"PWY_7234_inosine_5_phosphate_biosynthesis_III\"                                \n",
       "[19] \"HISTSYN_PWY_L_histidine_biosynthesis\"                                         \n",
       "[20] \"PWY_2942_L_lysine_biosynthesis_III\"                                           \n",
       "[21] \"PWY_6163_chorismate_biosynthesis_from_3_dehydroquinate\"                       \n",
       "[22] \"PWY_7187_pyrimidine_deoxyribonucleotides_de_novo_biosynthesis_II\"             \n",
       "[23] \"PWY_7197_pyrimidine_deoxyribonucleotide_phosphorylation\"                      \n",
       "[24] \"PWY_7229_superpathway_of_adenosine_nucleotides_de_novo_biosynthesis_I\"        \n",
       "[25] \"PWY_724_superpathway_of_L_lysine_L_threonine_and_L_methionine_biosynthesis_II\"\n",
       "[26] \"HSERMETANA_PWY_L_methionine_biosynthesis_III\"                                 \n",
       "[27] \"PWY_6124_inosine_5_phosphate_biosynthesis_II\"                                 \n",
       "[28] \"PWY_6703_preQ0_biosynthesis\"                                                  \n",
       "[29] \"PWY_7208_superpathway_of_pyrimidine_nucleobases_salvage\"                      \n",
       "[30] \"PWY_6936_seleno_amino_acid_biosynthesis\"                                      \n",
       "[31] \"TRPSYN_PWY_L_tryptophan_biosynthesis\"                                         "
      ]
     },
     "metadata": {},
     "output_type": "display_data"
    },
    {
     "data": {
      "text/html": [
       "31"
      ],
      "text/latex": [
       "31"
      ],
      "text/markdown": [
       "31"
      ],
      "text/plain": [
       "[1] 31"
      ]
     },
     "metadata": {},
     "output_type": "display_data"
    }
   ],
   "source": [
    "to_rm <- to_rm[(to_rm %in% colnames(pathw_cov))]\n",
    "to_rm\n",
    "length(to_rm)"
   ]
  },
  {
   "cell_type": "code",
   "execution_count": 56,
   "metadata": {
    "ExecuteTime": {
     "end_time": "2021-11-22T14:46:37.720257Z",
     "start_time": "2021-11-22T14:46:20.220Z"
    }
   },
   "outputs": [],
   "source": [
    "path_nometh <- select(pathw_cov, -all_of(to_rm))"
   ]
  },
  {
   "cell_type": "code",
   "execution_count": 57,
   "metadata": {
    "ExecuteTime": {
     "end_time": "2021-11-22T14:46:37.761281Z",
     "start_time": "2021-11-22T14:46:20.223Z"
    }
   },
   "outputs": [],
   "source": [
    "qsave(path_nometh, 'pathways_nometh.qs')"
   ]
  },
  {
   "cell_type": "markdown",
   "metadata": {},
   "source": [
    "# Working table for ML"
   ]
  },
  {
   "cell_type": "code",
   "execution_count": 58,
   "metadata": {
    "ExecuteTime": {
     "end_time": "2021-11-22T14:46:37.785696Z",
     "start_time": "2021-11-22T14:46:20.225Z"
    }
   },
   "outputs": [],
   "source": [
    "# remove the country variables that are on for less than 100 samples\n",
    "tmp <- meta %>% count(country) %>% subset(n < 100, select = country) %>% unlist\n",
    "to_rm <- paste0('country', tmp)"
   ]
  },
  {
   "cell_type": "code",
   "execution_count": 59,
   "metadata": {
    "ExecuteTime": {
     "end_time": "2021-11-22T14:46:37.878956Z",
     "start_time": "2021-11-22T14:46:20.228Z"
    }
   },
   "outputs": [
    {
     "data": {
      "text/html": [
       "<table class=\"dataframe\">\n",
       "<caption>A data.frame: 13 × 3</caption>\n",
       "<thead>\n",
       "\t<tr><th scope=col>country</th><th scope=col>dataset_name</th><th scope=col>n</th></tr>\n",
       "\t<tr><th scope=col>&lt;chr&gt;</th><th scope=col>&lt;chr&gt;</th><th scope=col>&lt;int&gt;</th></tr>\n",
       "</thead>\n",
       "<tbody>\n",
       "\t<tr><td>AUT</td><td>FengQ_2015          </td><td> 12</td></tr>\n",
       "\t<tr><td>DNK</td><td>HansenLBS_2018      </td><td>204</td></tr>\n",
       "\t<tr><td>ETH</td><td>TettAJ_2019_c       </td><td> 24</td></tr>\n",
       "\t<tr><td>FJI</td><td>BritoIL_2016        </td><td>115</td></tr>\n",
       "\t<tr><td>GBR</td><td>XieH_2016           </td><td>250</td></tr>\n",
       "\t<tr><td>GHA</td><td>TettAJ_2019_b       </td><td> 23</td></tr>\n",
       "\t<tr><td>IND</td><td>DhakanDB_2019       </td><td> 88</td></tr>\n",
       "\t<tr><td>ITA</td><td>AsnicarF_2017       </td><td>  8</td></tr>\n",
       "\t<tr><td>LUX</td><td>Heitz-BuschartA_2016</td><td>  2</td></tr>\n",
       "\t<tr><td>MDG</td><td>PasolliE_2018       </td><td>107</td></tr>\n",
       "\t<tr><td>MNG</td><td>LiuW_2016           </td><td>110</td></tr>\n",
       "\t<tr><td>NLD</td><td>SchirmerM_2016      </td><td>405</td></tr>\n",
       "\t<tr><td>TZA</td><td>TettAJ_2019_a       </td><td> 36</td></tr>\n",
       "</tbody>\n",
       "</table>\n"
      ],
      "text/latex": [
       "A data.frame: 13 × 3\n",
       "\\begin{tabular}{lll}\n",
       " country & dataset\\_name & n\\\\\n",
       " <chr> & <chr> & <int>\\\\\n",
       "\\hline\n",
       "\t AUT & FengQ\\_2015           &  12\\\\\n",
       "\t DNK & HansenLBS\\_2018       & 204\\\\\n",
       "\t ETH & TettAJ\\_2019\\_c        &  24\\\\\n",
       "\t FJI & BritoIL\\_2016         & 115\\\\\n",
       "\t GBR & XieH\\_2016            & 250\\\\\n",
       "\t GHA & TettAJ\\_2019\\_b        &  23\\\\\n",
       "\t IND & DhakanDB\\_2019        &  88\\\\\n",
       "\t ITA & AsnicarF\\_2017        &   8\\\\\n",
       "\t LUX & Heitz-BuschartA\\_2016 &   2\\\\\n",
       "\t MDG & PasolliE\\_2018        & 107\\\\\n",
       "\t MNG & LiuW\\_2016            & 110\\\\\n",
       "\t NLD & SchirmerM\\_2016       & 405\\\\\n",
       "\t TZA & TettAJ\\_2019\\_a        &  36\\\\\n",
       "\\end{tabular}\n"
      ],
      "text/markdown": [
       "\n",
       "A data.frame: 13 × 3\n",
       "\n",
       "| country &lt;chr&gt; | dataset_name &lt;chr&gt; | n &lt;int&gt; |\n",
       "|---|---|---|\n",
       "| AUT | FengQ_2015           |  12 |\n",
       "| DNK | HansenLBS_2018       | 204 |\n",
       "| ETH | TettAJ_2019_c        |  24 |\n",
       "| FJI | BritoIL_2016         | 115 |\n",
       "| GBR | XieH_2016            | 250 |\n",
       "| GHA | TettAJ_2019_b        |  23 |\n",
       "| IND | DhakanDB_2019        |  88 |\n",
       "| ITA | AsnicarF_2017        |   8 |\n",
       "| LUX | Heitz-BuschartA_2016 |   2 |\n",
       "| MDG | PasolliE_2018        | 107 |\n",
       "| MNG | LiuW_2016            | 110 |\n",
       "| NLD | SchirmerM_2016       | 405 |\n",
       "| TZA | TettAJ_2019_a        |  36 |\n",
       "\n"
      ],
      "text/plain": [
       "   country dataset_name         n  \n",
       "1  AUT     FengQ_2015            12\n",
       "2  DNK     HansenLBS_2018       204\n",
       "3  ETH     TettAJ_2019_c         24\n",
       "4  FJI     BritoIL_2016         115\n",
       "5  GBR     XieH_2016            250\n",
       "6  GHA     TettAJ_2019_b         23\n",
       "7  IND     DhakanDB_2019         88\n",
       "8  ITA     AsnicarF_2017          8\n",
       "9  LUX     Heitz-BuschartA_2016   2\n",
       "10 MDG     PasolliE_2018        107\n",
       "11 MNG     LiuW_2016            110\n",
       "12 NLD     SchirmerM_2016       405\n",
       "13 TZA     TettAJ_2019_a         36"
      ]
     },
     "metadata": {},
     "output_type": "display_data"
    }
   ],
   "source": [
    "# remove the countries that are confounded with their dataset\n",
    "# ie 1 country <=> 1 dataset\n",
    "tmp1 <- meta %>% count(country, dataset_name) %>% count(country) %>% subset(n == 1, select = country) %>% unlist\n",
    "tmp2 <- meta %>% count(country, dataset_name) %>% count(dataset_name) %>% subset(n == 1, select = dataset_name) %>% unlist\n",
    "tmp <- meta %>% subset(country %in% tmp1 & dataset_name %in% tmp2) %>% count(country, dataset_name)\n",
    "tmp \n",
    "to_rm <- c(to_rm, paste0('country', tmp$country)) %>% unique"
   ]
  },
  {
   "cell_type": "code",
   "execution_count": 60,
   "metadata": {
    "ExecuteTime": {
     "end_time": "2021-11-22T14:46:37.942490Z",
     "start_time": "2021-11-22T14:46:20.230Z"
    }
   },
   "outputs": [
    {
     "data": {
      "text/html": [
       "<table class=\"dataframe\">\n",
       "<caption>A data.frame: 2 × 3</caption>\n",
       "<thead>\n",
       "\t<tr><th scope=col>region</th><th scope=col>dataset_name</th><th scope=col>n</th></tr>\n",
       "\t<tr><th scope=col>&lt;chr&gt;</th><th scope=col>&lt;chr&gt;</th><th scope=col>&lt;int&gt;</th></tr>\n",
       "</thead>\n",
       "<tbody>\n",
       "\t<tr><td>Fiji </td><td>BritoIL_2016 </td><td>115</td></tr>\n",
       "\t<tr><td>India</td><td>DhakanDB_2019</td><td> 88</td></tr>\n",
       "</tbody>\n",
       "</table>\n"
      ],
      "text/latex": [
       "A data.frame: 2 × 3\n",
       "\\begin{tabular}{lll}\n",
       " region & dataset\\_name & n\\\\\n",
       " <chr> & <chr> & <int>\\\\\n",
       "\\hline\n",
       "\t Fiji  & BritoIL\\_2016  & 115\\\\\n",
       "\t India & DhakanDB\\_2019 &  88\\\\\n",
       "\\end{tabular}\n"
      ],
      "text/markdown": [
       "\n",
       "A data.frame: 2 × 3\n",
       "\n",
       "| region &lt;chr&gt; | dataset_name &lt;chr&gt; | n &lt;int&gt; |\n",
       "|---|---|---|\n",
       "| Fiji  | BritoIL_2016  | 115 |\n",
       "| India | DhakanDB_2019 |  88 |\n",
       "\n"
      ],
      "text/plain": [
       "  region dataset_name  n  \n",
       "1 Fiji   BritoIL_2016  115\n",
       "2 India  DhakanDB_2019  88"
      ]
     },
     "metadata": {},
     "output_type": "display_data"
    }
   ],
   "source": [
    "# idem for the regions\n",
    "tmp1 <- meta %>% count(region, dataset_name) %>% count(region) %>% subset(n == 1, select = region) %>% unlist\n",
    "tmp2 <- meta %>% count(region, dataset_name) %>% count(dataset_name) %>% subset(n == 1, select = dataset_name) %>% unlist\n",
    "tmp <- meta %>% subset(region %in% tmp1 & dataset_name %in% tmp2) %>% count(region, dataset_name)\n",
    "tmp \n",
    "to_rm <- c(to_rm, paste0('region', tmp$region)) %>% unique"
   ]
  },
  {
   "cell_type": "code",
   "execution_count": 61,
   "metadata": {
    "ExecuteTime": {
     "end_time": "2021-11-22T14:46:37.961107Z",
     "start_time": "2021-11-22T14:46:20.233Z"
    }
   },
   "outputs": [
    {
     "data": {
      "text/html": [
       "<style>\n",
       ".list-inline {list-style: none; margin:0; padding: 0}\n",
       ".list-inline>li {display: inline-block}\n",
       ".list-inline>li:not(:last-child)::after {content: \"\\00b7\"; padding: 0 .5ex}\n",
       "</style>\n",
       "<ol class=list-inline><li>NA</li><li>'male'</li><li>'female'</li><li>''</li></ol>\n"
      ],
      "text/latex": [
       "\\begin{enumerate*}\n",
       "\\item NA\n",
       "\\item 'male'\n",
       "\\item 'female'\n",
       "\\item ''\n",
       "\\end{enumerate*}\n"
      ],
      "text/markdown": [
       "1. NA\n",
       "2. 'male'\n",
       "3. 'female'\n",
       "4. ''\n",
       "\n",
       "\n"
      ],
      "text/plain": [
       "[1] NA       \"male\"   \"female\" \"\"      "
      ]
     },
     "metadata": {},
     "output_type": "display_data"
    }
   ],
   "source": [
    "meta$gender %>% unique"
   ]
  },
  {
   "cell_type": "code",
   "execution_count": 62,
   "metadata": {
    "ExecuteTime": {
     "end_time": "2021-11-22T14:46:37.975850Z",
     "start_time": "2021-11-22T14:46:20.236Z"
    }
   },
   "outputs": [],
   "source": [
    "meta$genderfemale <- ifelse(meta$gender == 'female', 1, ifelse(meta$gender == 'male', 0, NA))"
   ]
  },
  {
   "cell_type": "code",
   "execution_count": 63,
   "metadata": {
    "ExecuteTime": {
     "end_time": "2021-11-22T14:46:37.990975Z",
     "start_time": "2021-11-22T14:46:20.238Z"
    }
   },
   "outputs": [],
   "source": [
    "to_rm <- c(to_rm, 'westernizedFALSE')"
   ]
  },
  {
   "cell_type": "code",
   "execution_count": 64,
   "metadata": {
    "ExecuteTime": {
     "end_time": "2021-11-22T14:46:38.005631Z",
     "start_time": "2021-11-22T14:46:20.240Z"
    }
   },
   "outputs": [],
   "source": [
    "samp <- meta$Sample"
   ]
  },
  {
   "cell_type": "code",
   "execution_count": 65,
   "metadata": {
    "ExecuteTime": {
     "end_time": "2021-11-22T14:46:38.074340Z",
     "start_time": "2021-11-22T14:46:20.242Z"
    }
   },
   "outputs": [],
   "source": [
    "# transform categorical variable into dummy variables\n",
    "tmp <- dummyVars(formula = ~., data = meta %>% select(-Sample, -gender))\n",
    "pp <- as.data.frame(predict(tmp, newdata = meta %>% select(-Sample, -gender))) %>% \n",
    "            add_column(Sample = samp, `.before` = 1)\n",
    "colnames(pp) <- endoR::compatibleNames(colnames(pp))"
   ]
  },
  {
   "cell_type": "code",
   "execution_count": 66,
   "metadata": {
    "ExecuteTime": {
     "end_time": "2021-11-22T14:46:38.092391Z",
     "start_time": "2021-11-22T14:46:20.245Z"
    }
   },
   "outputs": [],
   "source": [
    "pp <- pp %>% select(-all_of(to_rm))"
   ]
  },
  {
   "cell_type": "code",
   "execution_count": 67,
   "metadata": {
    "ExecuteTime": {
     "end_time": "2021-11-22T14:46:38.110410Z",
     "start_time": "2021-11-22T14:46:20.247Z"
    }
   },
   "outputs": [
    {
     "data": {
      "text/html": [
       "<style>\n",
       ".list-inline {list-style: none; margin:0; padding: 0}\n",
       ".list-inline>li {display: inline-block}\n",
       ".list-inline>li:not(:last-child)::after {content: \"\\00b7\"; padding: 0 .5ex}\n",
       "</style>\n",
       "<ol class=list-inline><li>2203</li><li>43</li></ol>\n"
      ],
      "text/latex": [
       "\\begin{enumerate*}\n",
       "\\item 2203\n",
       "\\item 43\n",
       "\\end{enumerate*}\n"
      ],
      "text/markdown": [
       "1. 2203\n",
       "2. 43\n",
       "\n",
       "\n"
      ],
      "text/plain": [
       "[1] 2203   43"
      ]
     },
     "metadata": {},
     "output_type": "display_data"
    }
   ],
   "source": [
    "dim(pp)"
   ]
  },
  {
   "cell_type": "code",
   "execution_count": 68,
   "metadata": {
    "ExecuteTime": {
     "end_time": "2021-11-22T14:46:38.130047Z",
     "start_time": "2021-11-22T14:46:20.250Z"
    }
   },
   "outputs": [],
   "source": [
    "qsave(pp, file = 'meta_pp.qs')"
   ]
  },
  {
   "cell_type": "code",
   "execution_count": null,
   "metadata": {},
   "outputs": [],
   "source": []
  }
 ],
 "metadata": {
  "kernelspec": {
   "display_name": "R [conda env:Metagenomes_methanogen-r-ml] *",
   "language": "R",
   "name": "conda-env-Metagenomes_methanogen-r-ml-r"
  },
  "language_info": {
   "codemirror_mode": "r",
   "file_extension": ".r",
   "mimetype": "text/x-r-source",
   "name": "R",
   "pygments_lexer": "r",
   "version": "4.0.3"
  },
  "notify_time": "30",
  "toc": {
   "base_numbering": 1,
   "nav_menu": {},
   "number_sections": true,
   "sideBar": true,
   "skip_h1_title": false,
   "title_cell": "Table of Contents",
   "title_sidebar": "Contents",
   "toc_cell": false,
   "toc_position": {
    "height": "975px",
    "left": "0px",
    "right": "1650px",
    "top": "107px",
    "width": "229px"
   },
   "toc_section_display": true,
   "toc_window_display": true
  }
 },
 "nbformat": 4,
 "nbformat_minor": 2
}
