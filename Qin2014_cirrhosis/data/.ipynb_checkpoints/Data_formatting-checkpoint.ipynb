{
 "cells": [
  {
   "cell_type": "markdown",
   "metadata": {},
   "source": [
    "# Libraries"
   ]
  },
  {
   "cell_type": "code",
   "execution_count": 1,
   "metadata": {
    "ExecuteTime": {
     "end_time": "2021-11-19T10:18:11.409907Z",
     "start_time": "2021-11-19T10:18:09.366Z"
    }
   },
   "outputs": [
    {
     "name": "stderr",
     "output_type": "stream",
     "text": [
      "── \u001b[1mAttaching packages\u001b[22m ────────────────────────────────────────────────────────────────────────────────────────────────────────────────────────────────────── tidyverse 1.3.0 ──\n",
      "\n",
      "\u001b[32m✔\u001b[39m \u001b[34mggplot2\u001b[39m 3.3.2     \u001b[32m✔\u001b[39m \u001b[34mpurrr  \u001b[39m 0.3.4\n",
      "\u001b[32m✔\u001b[39m \u001b[34mtibble \u001b[39m 3.0.4     \u001b[32m✔\u001b[39m \u001b[34mdplyr  \u001b[39m 1.0.2\n",
      "\u001b[32m✔\u001b[39m \u001b[34mtidyr  \u001b[39m 1.1.2     \u001b[32m✔\u001b[39m \u001b[34mstringr\u001b[39m 1.4.0\n",
      "\u001b[32m✔\u001b[39m \u001b[34mreadr  \u001b[39m 1.4.0     \u001b[32m✔\u001b[39m \u001b[34mforcats\u001b[39m 0.5.0\n",
      "\n",
      "── \u001b[1mConflicts\u001b[22m ───────────────────────────────────────────────────────────────────────────────────────────────────────────────────────────────────────── tidyverse_conflicts() ──\n",
      "\u001b[31m✖\u001b[39m \u001b[34mdplyr\u001b[39m::\u001b[32mfilter()\u001b[39m masks \u001b[34mstats\u001b[39m::filter()\n",
      "\u001b[31m✖\u001b[39m \u001b[34mdplyr\u001b[39m::\u001b[32mlag()\u001b[39m    masks \u001b[34mstats\u001b[39m::lag()\n",
      "\n",
      "qs v0.23.4.\n",
      "\n"
     ]
    }
   ],
   "source": [
    "library(tidyverse)\n",
    "library(stringr)\n",
    "library(qs)"
   ]
  },
  {
   "cell_type": "code",
   "execution_count": 2,
   "metadata": {
    "ExecuteTime": {
     "end_time": "2021-11-19T10:18:11.672533Z",
     "start_time": "2021-11-19T10:18:09.544Z"
    }
   },
   "outputs": [
    {
     "data": {
      "text/plain": [
       "R version 4.0.3 (2020-10-10)\n",
       "Platform: x86_64-conda-linux-gnu (64-bit)\n",
       "Running under: Ubuntu 18.04.6 LTS\n",
       "\n",
       "Matrix products: default\n",
       "BLAS/LAPACK: /ebio/abt3_projects/Methanogen_SCFA/Metagenomes_methanogen/envs/r-ml/lib/libopenblasp-r0.3.10.so\n",
       "\n",
       "locale:\n",
       " [1] LC_CTYPE=en_US.UTF-8       LC_NUMERIC=C              \n",
       " [3] LC_TIME=en_US.UTF-8        LC_COLLATE=en_US.UTF-8    \n",
       " [5] LC_MONETARY=en_US.UTF-8    LC_MESSAGES=en_US.UTF-8   \n",
       " [7] LC_PAPER=en_US.UTF-8       LC_NAME=C                 \n",
       " [9] LC_ADDRESS=C               LC_TELEPHONE=C            \n",
       "[11] LC_MEASUREMENT=en_US.UTF-8 LC_IDENTIFICATION=C       \n",
       "\n",
       "attached base packages:\n",
       "[1] stats     graphics  grDevices utils     datasets  methods   base     \n",
       "\n",
       "other attached packages:\n",
       " [1] qs_0.23.4       forcats_0.5.0   stringr_1.4.0   dplyr_1.0.2    \n",
       " [5] purrr_0.3.4     readr_1.4.0     tidyr_1.1.2     tibble_3.0.4   \n",
       " [9] ggplot2_3.3.2   tidyverse_1.3.0\n",
       "\n",
       "loaded via a namespace (and not attached):\n",
       " [1] pbdZMQ_0.3-3.1      tidyselect_1.1.0    repr_1.1.2.9000    \n",
       " [4] haven_2.3.1         colorspace_2.0-0    vctrs_0.3.6        \n",
       " [7] generics_0.1.0      htmltools_0.5.0     base64enc_0.1-3    \n",
       "[10] rlang_0.4.10        pillar_1.4.7        glue_1.4.2         \n",
       "[13] withr_2.3.0         DBI_1.1.0           dbplyr_2.0.0       \n",
       "[16] modelr_0.1.8        readxl_1.3.1        uuid_0.1-4         \n",
       "[19] lifecycle_0.2.0     munsell_0.5.0       gtable_0.3.0       \n",
       "[22] cellranger_1.1.0    rvest_0.3.6         stringfish_0.14.2  \n",
       "[25] evaluate_0.14       RApiSerialize_0.1.0 ps_1.5.0           \n",
       "[28] fansi_0.4.1         broom_0.7.2         IRdisplay_0.7.0    \n",
       "[31] Rcpp_1.0.5          scales_1.1.1        backports_1.2.0    \n",
       "[34] IRkernel_1.1.1      RcppParallel_5.0.2  jsonlite_1.7.2     \n",
       "[37] fs_1.5.0            hms_0.5.3           digest_0.6.27      \n",
       "[40] stringi_1.5.3       grid_4.0.3          cli_2.2.0          \n",
       "[43] tools_4.0.3         magrittr_2.0.1      crayon_1.3.4       \n",
       "[46] pkgconfig_2.0.3     ellipsis_0.3.1      xml2_1.3.2         \n",
       "[49] reprex_0.3.0        lubridate_1.7.9.2   assertthat_0.2.1   \n",
       "[52] httr_1.4.2          rstudioapi_0.13     R6_2.5.0           \n",
       "[55] compiler_4.0.3     "
      ]
     },
     "metadata": {},
     "output_type": "display_data"
    }
   ],
   "source": [
    "sessionInfo()"
   ]
  },
  {
   "cell_type": "markdown",
   "metadata": {},
   "source": [
    "# functions"
   ]
  },
  {
   "cell_type": "code",
   "execution_count": 3,
   "metadata": {
    "ExecuteTime": {
     "end_time": "2021-11-19T10:18:11.701227Z",
     "start_time": "2021-11-19T10:18:09.875Z"
    }
   },
   "outputs": [],
   "source": [
    "# from common scripts \n",
    "file.sources <- list.files('../../Common_scripts/', pattern = '*.R', full.names=TRUE, ignore.case=TRUE)\n",
    "for (f in file.sources) {\n",
    "    source(f)\n",
    "}\n",
    "rm('file.sources', 'f')"
   ]
  },
  {
   "cell_type": "code",
   "execution_count": 4,
   "metadata": {
    "ExecuteTime": {
     "end_time": "2021-11-19T10:18:11.726338Z",
     "start_time": "2021-11-19T10:18:10.039Z"
    }
   },
   "outputs": [],
   "source": [
    "compatibleNames <- function(x){\n",
    "    x <- x %>% str_replace_all(pattern = '[:punct:]', replacement = '_') %>% \n",
    "                    str_replace_all(pattern = ' ', replacement = '_') %>% \n",
    "                    str_replace_all(pattern = '\\\\_+', replacement = '_') %>%\n",
    "                    str_replace_all(pattern = '\\\\_$', replacement = '')\n",
    "    return(x)\n",
    "}"
   ]
  },
  {
   "cell_type": "code",
   "execution_count": 5,
   "metadata": {
    "ExecuteTime": {
     "end_time": "2021-11-19T10:18:11.752046Z",
     "start_time": "2021-11-19T10:18:10.268Z"
    }
   },
   "outputs": [],
   "source": [
    "countSingleTaxa <- function(taxaN, taxa_table, count_table){\n",
    "    # data: the data to get the abundance from \n",
    "    # lvl: the taxonomic level wanted\n",
    "    # tax: the table with the taxonomy_id\n",
    "    \n",
    "    lvl <- str_extract(taxaN, pattern = '^[:lower:](?=\\\\_)')\n",
    "    iC <- which(colnames(taxa_table) == lvl)\n",
    "    iR <- which(taxa_table[,iC] == taxaN)\n",
    "    if (length(iR) == 0){\n",
    "        return()\n",
    "    }\n",
    "    to_count <- unique(unlist(taxa_table[iR, iC:ncol(taxa_table)]))\n",
    "    to_count <- to_count[!is.na(to_count) & (to_count %in% colnames(count_table))]\n",
    "    \n",
    "    counted <- rowSums(select(count_table, all_of(to_count)))\n",
    "    \n",
    "    return(counted)\n",
    "}"
   ]
  },
  {
   "cell_type": "markdown",
   "metadata": {},
   "source": [
    "# Taxonomy"
   ]
  },
  {
   "cell_type": "code",
   "execution_count": 6,
   "metadata": {
    "ExecuteTime": {
     "end_time": "2021-11-19T10:18:13.512159Z",
     "start_time": "2021-11-19T10:18:11.782Z"
    }
   },
   "outputs": [],
   "source": [
    "tax_names <- read.table('../data/taxatable.txt', header = TRUE, sep = '\\t') %>% select(OTU.ID) %>% unlist\n",
    "tax_names <- tax_names %>% strsplit(split = ';')\n",
    "tax_names <- lapply(tax_names, compatibleNames )\n",
    "tax_names <- lapply(tax_names, function(x){c(x, rep(NA, 8-length(x)))})\n",
    "tax_names <- as.data.frame(do.call(rbind, tax_names))\n",
    "colnames(tax_names) <- c('k', 'p', 'c', 'o', 'f', 'g', 's', 't')\n",
    "tax_names <- tax_names %>% select(-t) %>% unique"
   ]
  },
  {
   "cell_type": "code",
   "execution_count": 8,
   "metadata": {
    "ExecuteTime": {
     "end_time": "2021-11-19T10:18:29.715234Z",
     "start_time": "2021-11-19T10:18:29.468Z"
    }
   },
   "outputs": [
    {
     "data": {
      "text/html": [
       "<table class=\"dataframe\">\n",
       "<caption>A data.frame: 3 × 7</caption>\n",
       "<thead>\n",
       "\t<tr><th></th><th scope=col>k</th><th scope=col>p</th><th scope=col>c</th><th scope=col>o</th><th scope=col>f</th><th scope=col>g</th><th scope=col>s</th></tr>\n",
       "\t<tr><th></th><th scope=col>&lt;chr&gt;</th><th scope=col>&lt;chr&gt;</th><th scope=col>&lt;chr&gt;</th><th scope=col>&lt;chr&gt;</th><th scope=col>&lt;chr&gt;</th><th scope=col>&lt;chr&gt;</th><th scope=col>&lt;chr&gt;</th></tr>\n",
       "</thead>\n",
       "<tbody>\n",
       "\t<tr><th scope=row>OTU.ID1</th><td>k_Bacteria</td><td>p_Firmicutes   </td><td>c_Clostridia </td><td>o_Clostridiales</td><td>f_Lachnospiraceae </td><td>g            </td><td>s_Eubacterium_rectale     </td></tr>\n",
       "\t<tr><th scope=row>OTU.ID2</th><td>k_Bacteria</td><td>p_Bacteroidetes</td><td>c_Bacteroidia</td><td>o_Bacteroidales</td><td>f_Odoribacteraceae</td><td>g_Odoribacter</td><td>s_Odoribacter_splanchnicus</td></tr>\n",
       "\t<tr><th scope=row>OTU.ID3</th><td>k_Bacteria</td><td>p_Bacteroidetes</td><td>c_Bacteroidia</td><td>o_Bacteroidales</td><td>f_Bacteroidaceae  </td><td>g_Bacteroides</td><td>s_Bacteroides_uniformis   </td></tr>\n",
       "</tbody>\n",
       "</table>\n"
      ],
      "text/latex": [
       "A data.frame: 3 × 7\n",
       "\\begin{tabular}{r|lllllll}\n",
       "  & k & p & c & o & f & g & s\\\\\n",
       "  & <chr> & <chr> & <chr> & <chr> & <chr> & <chr> & <chr>\\\\\n",
       "\\hline\n",
       "\tOTU.ID1 & k\\_Bacteria & p\\_Firmicutes    & c\\_Clostridia  & o\\_Clostridiales & f\\_Lachnospiraceae  & g             & s\\_Eubacterium\\_rectale     \\\\\n",
       "\tOTU.ID2 & k\\_Bacteria & p\\_Bacteroidetes & c\\_Bacteroidia & o\\_Bacteroidales & f\\_Odoribacteraceae & g\\_Odoribacter & s\\_Odoribacter\\_splanchnicus\\\\\n",
       "\tOTU.ID3 & k\\_Bacteria & p\\_Bacteroidetes & c\\_Bacteroidia & o\\_Bacteroidales & f\\_Bacteroidaceae   & g\\_Bacteroides & s\\_Bacteroides\\_uniformis   \\\\\n",
       "\\end{tabular}\n"
      ],
      "text/markdown": [
       "\n",
       "A data.frame: 3 × 7\n",
       "\n",
       "| <!--/--> | k &lt;chr&gt; | p &lt;chr&gt; | c &lt;chr&gt; | o &lt;chr&gt; | f &lt;chr&gt; | g &lt;chr&gt; | s &lt;chr&gt; |\n",
       "|---|---|---|---|---|---|---|---|\n",
       "| OTU.ID1 | k_Bacteria | p_Firmicutes    | c_Clostridia  | o_Clostridiales | f_Lachnospiraceae  | g             | s_Eubacterium_rectale      |\n",
       "| OTU.ID2 | k_Bacteria | p_Bacteroidetes | c_Bacteroidia | o_Bacteroidales | f_Odoribacteraceae | g_Odoribacter | s_Odoribacter_splanchnicus |\n",
       "| OTU.ID3 | k_Bacteria | p_Bacteroidetes | c_Bacteroidia | o_Bacteroidales | f_Bacteroidaceae   | g_Bacteroides | s_Bacteroides_uniformis    |\n",
       "\n"
      ],
      "text/plain": [
       "        k          p               c             o              \n",
       "OTU.ID1 k_Bacteria p_Firmicutes    c_Clostridia  o_Clostridiales\n",
       "OTU.ID2 k_Bacteria p_Bacteroidetes c_Bacteroidia o_Bacteroidales\n",
       "OTU.ID3 k_Bacteria p_Bacteroidetes c_Bacteroidia o_Bacteroidales\n",
       "        f                  g             s                         \n",
       "OTU.ID1 f_Lachnospiraceae  g             s_Eubacterium_rectale     \n",
       "OTU.ID2 f_Odoribacteraceae g_Odoribacter s_Odoribacter_splanchnicus\n",
       "OTU.ID3 f_Bacteroidaceae   g_Bacteroides s_Bacteroides_uniformis   "
      ]
     },
     "metadata": {},
     "output_type": "display_data"
    }
   ],
   "source": [
    "head(tax_names, 3)"
   ]
  },
  {
   "cell_type": "code",
   "execution_count": 7,
   "metadata": {
    "ExecuteTime": {
     "end_time": "2021-11-19T10:18:14.701042Z",
     "start_time": "2021-11-19T10:18:13.750Z"
    }
   },
   "outputs": [],
   "source": [
    "families <- lapply(unique(tax_names$f), getFamilies, tax_names = tax_names)\n",
    "names(families) <- unique(tax_names$f)\n",
    "genera <- lapply(unique(tax_names$g), getGenera, tax_names = tax_names)\n",
    "names(genera) <- unique(tax_names$g)\n",
    "species <- lapply(unique(tax_names$s), getSpecies, tax_names = tax_names)\n",
    "names(species) <- unique(tax_names$s)"
   ]
  },
  {
   "cell_type": "code",
   "execution_count": 9,
   "metadata": {
    "ExecuteTime": {
     "end_time": "2021-11-19T10:18:32.762813Z",
     "start_time": "2021-11-19T10:18:32.527Z"
    },
    "scrolled": true
   },
   "outputs": [
    {
     "data": {
      "text/html": [
       "<dl>\n",
       "\t<dt>$f_Lachnospiraceae</dt>\n",
       "\t\t<dd><style>\n",
       ".list-inline {list-style: none; margin:0; padding: 0}\n",
       ".list-inline>li {display: inline-block}\n",
       ".list-inline>li:not(:last-child)::after {content: \"\\00b7\"; padding: 0 .5ex}\n",
       "</style>\n",
       "<ol class=list-inline><li>'f_Lachnospiraceae'</li><li>'g'</li><li>'g_Anaerostipes'</li><li>'g_Roseburia'</li><li>'g_Lachnoclostridium'</li><li>'g_Blautia'</li></ol>\n",
       "</dd>\n",
       "\t<dt>$f_Odoribacteraceae</dt>\n",
       "\t\t<dd><style>\n",
       ".list-inline {list-style: none; margin:0; padding: 0}\n",
       ".list-inline>li {display: inline-block}\n",
       ".list-inline>li:not(:last-child)::after {content: \"\\00b7\"; padding: 0 .5ex}\n",
       "</style>\n",
       "<ol class=list-inline><li>'f_Odoribacteraceae'</li><li>'g_Odoribacter'</li><li>'g_Butyricimonas'</li></ol>\n",
       "</dd>\n",
       "\t<dt>$f_Bacteroidaceae</dt>\n",
       "\t\t<dd><style>\n",
       ".list-inline {list-style: none; margin:0; padding: 0}\n",
       ".list-inline>li {display: inline-block}\n",
       ".list-inline>li:not(:last-child)::after {content: \"\\00b7\"; padding: 0 .5ex}\n",
       "</style>\n",
       "<ol class=list-inline><li>'f_Bacteroidaceae'</li><li>'g_Bacteroides'</li></ol>\n",
       "</dd>\n",
       "</dl>\n"
      ],
      "text/latex": [
       "\\begin{description}\n",
       "\\item[\\$f\\_Lachnospiraceae] \\begin{enumerate*}\n",
       "\\item 'f\\_Lachnospiraceae'\n",
       "\\item 'g'\n",
       "\\item 'g\\_Anaerostipes'\n",
       "\\item 'g\\_Roseburia'\n",
       "\\item 'g\\_Lachnoclostridium'\n",
       "\\item 'g\\_Blautia'\n",
       "\\end{enumerate*}\n",
       "\n",
       "\\item[\\$f\\_Odoribacteraceae] \\begin{enumerate*}\n",
       "\\item 'f\\_Odoribacteraceae'\n",
       "\\item 'g\\_Odoribacter'\n",
       "\\item 'g\\_Butyricimonas'\n",
       "\\end{enumerate*}\n",
       "\n",
       "\\item[\\$f\\_Bacteroidaceae] \\begin{enumerate*}\n",
       "\\item 'f\\_Bacteroidaceae'\n",
       "\\item 'g\\_Bacteroides'\n",
       "\\end{enumerate*}\n",
       "\n",
       "\\end{description}\n"
      ],
      "text/markdown": [
       "$f_Lachnospiraceae\n",
       ":   1. 'f_Lachnospiraceae'\n",
       "2. 'g'\n",
       "3. 'g_Anaerostipes'\n",
       "4. 'g_Roseburia'\n",
       "5. 'g_Lachnoclostridium'\n",
       "6. 'g_Blautia'\n",
       "\n",
       "\n",
       "\n",
       "$f_Odoribacteraceae\n",
       ":   1. 'f_Odoribacteraceae'\n",
       "2. 'g_Odoribacter'\n",
       "3. 'g_Butyricimonas'\n",
       "\n",
       "\n",
       "\n",
       "$f_Bacteroidaceae\n",
       ":   1. 'f_Bacteroidaceae'\n",
       "2. 'g_Bacteroides'\n",
       "\n",
       "\n",
       "\n",
       "\n",
       "\n"
      ],
      "text/plain": [
       "$f_Lachnospiraceae\n",
       "[1] \"f_Lachnospiraceae\"   \"g\"                   \"g_Anaerostipes\"     \n",
       "[4] \"g_Roseburia\"         \"g_Lachnoclostridium\" \"g_Blautia\"          \n",
       "\n",
       "$f_Odoribacteraceae\n",
       "[1] \"f_Odoribacteraceae\" \"g_Odoribacter\"      \"g_Butyricimonas\"   \n",
       "\n",
       "$f_Bacteroidaceae\n",
       "[1] \"f_Bacteroidaceae\" \"g_Bacteroides\"   \n"
      ]
     },
     "metadata": {},
     "output_type": "display_data"
    }
   ],
   "source": [
    "families[1:3] %>% lapply(head)"
   ]
  },
  {
   "cell_type": "code",
   "execution_count": 10,
   "metadata": {
    "ExecuteTime": {
     "end_time": "2021-11-19T10:18:34.365939Z",
     "start_time": "2021-11-19T10:18:34.117Z"
    }
   },
   "outputs": [],
   "source": [
    "write.table(x = tax_names, file = './taxonomy_table.txt', sep = '\\t', row.names = FALSE)"
   ]
  },
  {
   "cell_type": "code",
   "execution_count": 11,
   "metadata": {
    "ExecuteTime": {
     "end_time": "2021-11-19T10:18:34.598260Z",
     "start_time": "2021-11-19T10:18:34.308Z"
    }
   },
   "outputs": [],
   "source": [
    "saveRDS(list('families' = families, 'genera' = genera, 'species' = species), file = './taxa_lists.RDS')"
   ]
  },
  {
   "cell_type": "markdown",
   "metadata": {
    "deletable": false,
    "editable": false,
    "run_control": {
     "frozen": true
    }
   },
   "source": [
    "# Metadata"
   ]
  },
  {
   "cell_type": "code",
   "execution_count": 12,
   "metadata": {
    "ExecuteTime": {
     "end_time": "2021-11-19T10:18:37.236006Z",
     "start_time": "2021-11-19T10:18:36.979Z"
    }
   },
   "outputs": [],
   "source": [
    "meta <- read.table('mapping-orig.txt', header = TRUE, sep = '\\t') \n",
    "tmp <- which((meta %>% sapply(function(x){length(str_which(x, pattern = '-'))}))>0)\n",
    "meta <- meta[,-tmp] %>% select(-Country, -Other_causes_related, -HBV_related\n",
    "                               ,-Alcohol_related, -Serum_creatine,-Serum_albumin,-Total_bilirubin)"
   ]
  },
  {
   "cell_type": "code",
   "execution_count": 13,
   "metadata": {
    "ExecuteTime": {
     "end_time": "2021-11-19T10:18:37.465572Z",
     "start_time": "2021-11-19T10:18:37.192Z"
    },
    "scrolled": true
   },
   "outputs": [
    {
     "data": {
      "text/plain": [
       "     Sex          Age             BMI            Cirrhotic \n",
       " female:46   Min.   :18.00   Min.   :15.94   Cirrhosis:68  \n",
       " male  :84   1st Qu.:37.00   1st Qu.:20.14   Healthy  :62  \n",
       "             Median :44.00   Median :21.67                 \n",
       "             Mean   :45.29   Mean   :22.03                 \n",
       "             3rd Qu.:52.00   3rd Qu.:24.05                 \n",
       "             Max.   :78.00   Max.   :29.03                 "
      ]
     },
     "metadata": {},
     "output_type": "display_data"
    }
   ],
   "source": [
    "meta %>% select(-SampleID) %>% mutate_if(is.character, as.factor) %>% summary"
   ]
  },
  {
   "cell_type": "code",
   "execution_count": 14,
   "metadata": {
    "ExecuteTime": {
     "end_time": "2021-11-19T10:18:49.549880Z",
     "start_time": "2021-11-19T10:18:49.310Z"
    }
   },
   "outputs": [
    {
     "data": {
      "text/html": [
       "<style>\n",
       ".list-inline {list-style: none; margin:0; padding: 0}\n",
       ".list-inline>li {display: inline-block}\n",
       ".list-inline>li:not(:last-child)::after {content: \"\\00b7\"; padding: 0 .5ex}\n",
       "</style>\n",
       "<ol class=list-inline><li>'Sex'</li><li>'Age'</li><li>'BMI'</li></ol>\n"
      ],
      "text/latex": [
       "\\begin{enumerate*}\n",
       "\\item 'Sex'\n",
       "\\item 'Age'\n",
       "\\item 'BMI'\n",
       "\\end{enumerate*}\n"
      ],
      "text/markdown": [
       "1. 'Sex'\n",
       "2. 'Age'\n",
       "3. 'BMI'\n",
       "\n",
       "\n"
      ],
      "text/plain": [
       "[1] \"Sex\" \"Age\" \"BMI\""
      ]
     },
     "metadata": {},
     "output_type": "display_data"
    }
   ],
   "source": [
    "mnames <- colnames(meta)[!(colnames(meta) %in% c('SampleID', 'Cirrhotic' ))]\n",
    "mnames"
   ]
  },
  {
   "cell_type": "markdown",
   "metadata": {
    "deletable": false,
    "editable": false,
    "run_control": {
     "frozen": true
    }
   },
   "source": [
    "# Taxa"
   ]
  },
  {
   "cell_type": "markdown",
   "metadata": {
    "deletable": false,
    "editable": false,
    "run_control": {
     "frozen": true
    }
   },
   "source": [
    "## get the RA"
   ]
  },
  {
   "cell_type": "code",
   "execution_count": 15,
   "metadata": {
    "ExecuteTime": {
     "end_time": "2021-11-19T10:18:56.099363Z",
     "start_time": "2021-11-19T10:18:55.714Z"
    }
   },
   "outputs": [],
   "source": [
    "# import table and rotate it\n",
    "taxa <- read.table('taxatable.txt', header = TRUE, sep = '\\t')\n",
    "rnames <- colnames(taxa)[-1]\n",
    "cnames <- str_replace(taxa$OTU.ID, pattern = '.*;', replacement = '')\n",
    "taxa <- as.data.frame(t(taxa %>% select(-OTU.ID)))\n",
    "colnames(taxa) <- compatibleNames(cnames)\n",
    "rownames(taxa) <- rnames"
   ]
  },
  {
   "cell_type": "code",
   "execution_count": 16,
   "metadata": {
    "ExecuteTime": {
     "end_time": "2021-11-19T10:19:30.149401Z",
     "start_time": "2021-11-19T10:19:29.897Z"
    }
   },
   "outputs": [
    {
     "data": {
      "text/html": [
       "2603"
      ],
      "text/latex": [
       "2603"
      ],
      "text/markdown": [
       "2603"
      ],
      "text/plain": [
       "[1] 2603"
      ]
     },
     "metadata": {},
     "output_type": "display_data"
    }
   ],
   "source": [
    "# list of each taxa\n",
    "tmp <- tax_names %>% unlist %>% unique\n",
    "tmp <- tmp[!is.na(tmp) & str_detect(tmp, pattern = '_')]\n",
    "length(tmp)"
   ]
  },
  {
   "cell_type": "code",
   "execution_count": 17,
   "metadata": {
    "ExecuteTime": {
     "end_time": "2021-11-19T10:20:16.529411Z",
     "start_time": "2021-11-19T10:19:54.781Z"
    }
   },
   "outputs": [],
   "source": [
    "# count each taxa in the OTU table\n",
    "taxa <- sapply(tmp, countSingleTaxa,taxa_table = tax_names, count_table = taxa )\n",
    "taxa <- as.data.frame(taxa)\n",
    "taxa$SampleID <- rownames(taxa)"
   ]
  },
  {
   "cell_type": "code",
   "execution_count": 18,
   "metadata": {
    "ExecuteTime": {
     "end_time": "2021-11-19T10:32:41.043899Z",
     "start_time": "2021-11-19T10:32:40.754Z"
    }
   },
   "outputs": [
    {
     "data": {
      "text/html": [
       "2427"
      ],
      "text/latex": [
       "2427"
      ],
      "text/markdown": [
       "2427"
      ],
      "text/plain": [
       "[1] 2427"
      ]
     },
     "metadata": {},
     "output_type": "display_data"
    }
   ],
   "source": [
    "# subset to family, genera, and species\n",
    "to_keep <- c('SampleID', colnames(taxa) %>% str_subset(pattern = '^(f|g|s)'))\n",
    "length(to_keep)"
   ]
  },
  {
   "cell_type": "code",
   "execution_count": 19,
   "metadata": {
    "ExecuteTime": {
     "end_time": "2021-11-19T10:34:18.488894Z",
     "start_time": "2021-11-19T10:33:40.812Z"
    }
   },
   "outputs": [],
   "source": [
    "# number reads = sum reads for each kingdom\n",
    "number_reads <- data.frame(number_reads = rowSums(select(taxa, all_of(str_subset(colnames(taxa), pattern = '^k'))))\n",
    "                          , SampleID = taxa$SampleID)\n",
    "# get the relative abundance\n",
    "X <- select(taxa, all_of(to_keep))\n",
    "for (i in 1:nrow(X)){\n",
    "    X[i,-1] <- X[i,-1] / number_reads$number_reads[i]\n",
    "}"
   ]
  },
  {
   "cell_type": "code",
   "execution_count": 20,
   "metadata": {
    "ExecuteTime": {
     "end_time": "2021-11-19T10:34:18.508370Z",
     "start_time": "2021-11-19T10:33:44.443Z"
    }
   },
   "outputs": [
    {
     "data": {
      "text/html": [
       "<style>\n",
       ".list-inline {list-style: none; margin:0; padding: 0}\n",
       ".list-inline>li {display: inline-block}\n",
       ".list-inline>li:not(:last-child)::after {content: \"\\00b7\"; padding: 0 .5ex}\n",
       "</style>\n",
       "<ol class=list-inline><li>130</li><li>2427</li></ol>\n"
      ],
      "text/latex": [
       "\\begin{enumerate*}\n",
       "\\item 130\n",
       "\\item 2427\n",
       "\\end{enumerate*}\n"
      ],
      "text/markdown": [
       "1. 130\n",
       "2. 2427\n",
       "\n",
       "\n"
      ],
      "text/plain": [
       "[1]  130 2427"
      ]
     },
     "metadata": {},
     "output_type": "display_data"
    }
   ],
   "source": [
    "dim(X)"
   ]
  },
  {
   "cell_type": "markdown",
   "metadata": {
    "deletable": false,
    "editable": false,
    "run_control": {
     "frozen": true
    }
   },
   "source": [
    "## pre-filter"
   ]
  },
  {
   "cell_type": "code",
   "execution_count": 21,
   "metadata": {
    "ExecuteTime": {
     "end_time": "2021-11-19T10:36:12.512553Z",
     "start_time": "2021-11-19T10:36:12.064Z"
    }
   },
   "outputs": [],
   "source": [
    "# not the percentage but the fraction !\n",
    "# detection limit counted as 0 !!!!!\n",
    "# average abundances in samples carrying the organisms (ie > 10^-5 instead of > 0)\n",
    "\n",
    "fil_detectLimit <- data.frame(Taxa = colnames(X %>% select(-SampleID))\n",
    " , Prevalence = colSums((X %>% select(-SampleID)) > 0)*100/nrow(X) %>% unlist \n",
    " , maxAbundance = X %>% select(-SampleID) %>% sapply(max) %>% unlist\n",
    " , meanAbundance = X %>% select(-SampleID) %>% sapply(function(x) mean(x[x>0])) %>% unlist\n",
    " , minAbundance = X %>% select(-SampleID) %>% sapply(min) %>% unlist\n",
    " , stringsAsFactors = FALSE, row.names = NULL)"
   ]
  },
  {
   "cell_type": "code",
   "execution_count": 22,
   "metadata": {
    "ExecuteTime": {
     "end_time": "2021-11-19T10:36:17.373823Z",
     "start_time": "2021-11-19T10:36:17.044Z"
    }
   },
   "outputs": [],
   "source": [
    "rownames(fil_detectLimit) <- NULL\n",
    "rownames(fil_detectLimit) <- fil_detectLimit$Taxa\n",
    "fil_detectLimit <- fil_detectLimit %>% select(-Taxa) %>% unique(fromLast = TRUE)\n",
    "fil_detectLimit$Taxa <- rownames(fil_detectLimit)"
   ]
  },
  {
   "cell_type": "code",
   "execution_count": 23,
   "metadata": {
    "ExecuteTime": {
     "end_time": "2021-11-19T10:36:19.919445Z",
     "start_time": "2021-11-19T10:36:19.622Z"
    }
   },
   "outputs": [],
   "source": [
    "fil_detectLimit <- fil_detectLimit[complete.cases(fil_detectLimit),]"
   ]
  },
  {
   "cell_type": "code",
   "execution_count": 24,
   "metadata": {
    "ExecuteTime": {
     "end_time": "2021-11-19T10:36:24.904870Z",
     "start_time": "2021-11-19T10:36:24.589Z"
    }
   },
   "outputs": [
    {
     "data": {
      "text/html": [
       "<style>\n",
       ".dl-inline {width: auto; margin:0; padding: 0}\n",
       ".dl-inline>dt, .dl-inline>dd {float: none; width: auto; display: inline-block}\n",
       ".dl-inline>dt::after {content: \":\\0020\"; padding-right: .5ex}\n",
       ".dl-inline>dt:not(:first-of-type) {padding-left: .5ex}\n",
       "</style><dl class=dl-inline><dt>No</dt><dd>548</dd><dt>Yes</dt><dd>922</dd></dl>\n"
      ],
      "text/latex": [
       "\\begin{description*}\n",
       "\\item[No] 548\n",
       "\\item[Yes] 922\n",
       "\\end{description*}\n"
      ],
      "text/markdown": [
       "No\n",
       ":   548Yes\n",
       ":   922\n",
       "\n"
      ],
      "text/plain": [
       " No Yes \n",
       "548 922 "
      ]
     },
     "metadata": {},
     "output_type": "display_data"
    }
   ],
   "source": [
    "### thresholds based on the median and 1st quartiles of prevalences and abundances \n",
    "a <- (median(fil_detectLimit$Prevalence) - quantile(fil_detectLimit$Prevalence, probs = 0.25))/(quantile(fil_detectLimit$meanAbundance, probs = 0.25) - median(fil_detectLimit$meanAbundance))\n",
    "b <- quantile(fil_detectLimit$Prevalence, probs = 0.25) - a*median(fil_detectLimit$meanAbundance)\n",
    "\n",
    "fil_detectLimit$toKeep <- ifelse(fil_detectLimit$Prevalence < fil_detectLimit$meanAbundance*a + b, 'No', 'Yes') %>% as.factor\n",
    "fil_detectLimit$toKeep[is.na(fil_detectLimit$toKeep)] <- 'No'\n",
    "fil_detectLimit$toKeep %>% summary"
   ]
  },
  {
   "cell_type": "code",
   "execution_count": 25,
   "metadata": {
    "ExecuteTime": {
     "end_time": "2021-11-19T10:36:37.026243Z",
     "start_time": "2021-11-19T10:36:36.708Z"
    }
   },
   "outputs": [],
   "source": [
    "taxa_filt <- ggplot(fil_detectLimit, aes(x = Prevalence, y = meanAbundance, color = toKeep))+\n",
    "geom_point(size = 2, alpha = 0.5)+\n",
    "scale_y_log10(breaks = scales::trans_breaks(\"log10\", function(x){10^x})\n",
    "            , labels = scales::trans_format(\"log10\", scales::math_format(10^.x)) ) +\n",
    "annotation_logticks(colour = 'dimgrey', sides = 'l'\n",
    "                    , short = unit(0.15, \"cm\"), mid = unit(0.3, \"cm\"),long = unit(0.45, \"cm\"))+ \n",
    "theme_classic()+\n",
    "theme(legend.position = 'right'\n",
    "      , panel.grid.minor = element_blank()\n",
    "      , legend.text = element_text(size = rel(1)))+\n",
    "scale_color_manual(values = c(\"#E69F00\", \"#009E73\"), labels = c('Removed (n = 548)', 'Kept (n = 922)'))+\n",
    "guides(color = guide_legend(override.aes = list(size = 3, alpha = 1)))+\n",
    "labs(x = 'Prevalence (%)', y = 'Mean relative abundance (log10)', color = 'Taxon:')"
   ]
  },
  {
   "cell_type": "code",
   "execution_count": 26,
   "metadata": {
    "ExecuteTime": {
     "end_time": "2021-11-19T10:36:39.991493Z",
     "start_time": "2021-11-19T10:36:38.987Z"
    }
   },
   "outputs": [
    {
     "data": {
      "image/png": "[encoded data removed]",
      "text/plain": [
       "plot without title"
      ]
     },
     "metadata": {
      "image/png": {
       "height": 180,
       "width": 360
      }
     },
     "output_type": "display_data"
    }
   ],
   "source": [
    "options(repr.plot.width=6, repr.plot.height=3)\n",
    "taxa_filt"
   ]
  },
  {
   "cell_type": "markdown",
   "metadata": {
    "deletable": false,
    "editable": false,
    "run_control": {
     "frozen": true
    }
   },
   "source": [
    "## merge"
   ]
  },
  {
   "cell_type": "code",
   "execution_count": 27,
   "metadata": {
    "ExecuteTime": {
     "end_time": "2021-11-19T10:36:49.164682Z",
     "start_time": "2021-11-19T10:36:48.875Z"
    }
   },
   "outputs": [],
   "source": [
    "X <- select(X, all_of(c('SampleID', fil_detectLimit$Taxa[fil_detectLimit$toKeep == 'Yes'])))"
   ]
  },
  {
   "cell_type": "code",
   "execution_count": 28,
   "metadata": {
    "ExecuteTime": {
     "end_time": "2021-11-19T10:36:50.963620Z",
     "start_time": "2021-11-19T10:36:50.606Z"
    }
   },
   "outputs": [],
   "source": [
    "X <- left_join(left_join(meta, number_reads, by = 'SampleID'), X, by = 'SampleID')\n",
    "target <- as.factor(X$Cirrhotic)\n",
    "X <- select(X, -c(Cirrhotic, SampleID))"
   ]
  },
  {
   "cell_type": "code",
   "execution_count": 29,
   "metadata": {
    "ExecuteTime": {
     "end_time": "2021-11-19T10:36:52.683414Z",
     "start_time": "2021-11-19T10:36:52.388Z"
    }
   },
   "outputs": [
    {
     "data": {
      "text/html": [
       "<style>\n",
       ".list-inline {list-style: none; margin:0; padding: 0}\n",
       ".list-inline>li {display: inline-block}\n",
       ".list-inline>li:not(:last-child)::after {content: \"\\00b7\"; padding: 0 .5ex}\n",
       "</style>\n",
       "<ol class=list-inline><li>130</li><li>926</li></ol>\n"
      ],
      "text/latex": [
       "\\begin{enumerate*}\n",
       "\\item 130\n",
       "\\item 926\n",
       "\\end{enumerate*}\n"
      ],
      "text/markdown": [
       "1. 130\n",
       "2. 926\n",
       "\n",
       "\n"
      ],
      "text/plain": [
       "[1] 130 926"
      ]
     },
     "metadata": {},
     "output_type": "display_data"
    }
   ],
   "source": [
    "dim(X)"
   ]
  },
  {
   "cell_type": "code",
   "execution_count": 30,
   "metadata": {
    "ExecuteTime": {
     "end_time": "2021-11-19T10:37:31.607639Z",
     "start_time": "2021-11-19T10:37:31.259Z"
    }
   },
   "outputs": [],
   "source": [
    "saveRDS(X, './X.RDS')\n",
    "saveRDS(target, './target.RDS')"
   ]
  }
 ],
 "metadata": {
  "kernelspec": {
   "display_name": "R [conda env:Metagenomes_methanogen-r-ml] *",
   "language": "R",
   "name": "conda-env-Metagenomes_methanogen-r-ml-r"
  },
  "language_info": {
   "codemirror_mode": "r",
   "file_extension": ".r",
   "mimetype": "text/x-r-source",
   "name": "R",
   "pygments_lexer": "r",
   "version": "4.0.3"
  },
  "notify_time": "30",
  "toc": {
   "base_numbering": 1,
   "nav_menu": {},
   "number_sections": true,
   "sideBar": true,
   "skip_h1_title": false,
   "title_cell": "Table of Contents",
   "title_sidebar": "Contents",
   "toc_cell": false,
   "toc_position": {
    "height": "calc(100% - 180px)",
    "left": "10px",
    "top": "150px",
    "width": "238px"
   },
   "toc_section_display": true,
   "toc_window_display": true
  }
 },
 "nbformat": 4,
 "nbformat_minor": 4
}
