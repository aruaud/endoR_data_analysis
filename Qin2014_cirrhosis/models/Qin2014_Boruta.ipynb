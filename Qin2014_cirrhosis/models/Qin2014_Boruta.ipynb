{
 "cells": [
  {
   "cell_type": "markdown",
   "metadata": {},
   "source": [
    "# Libraries"
   ]
  },
  {
   "cell_type": "code",
   "execution_count": 1,
   "metadata": {
    "ExecuteTime": {
     "end_time": "2021-11-19T11:25:24.611890Z",
     "start_time": "2021-11-19T11:25:20.474Z"
    },
    "scrolled": true
   },
   "outputs": [
    {
     "name": "stderr",
     "output_type": "stream",
     "text": [
      "── \u001b[1mAttaching packages\u001b[22m ────────────────────────────────────────────────────────────────────────────────────────────────────────────────────────────────────── tidyverse 1.3.0 ──\n",
      "\n",
      "\u001b[32m✔\u001b[39m \u001b[34mggplot2\u001b[39m 3.3.2     \u001b[32m✔\u001b[39m \u001b[34mpurrr  \u001b[39m 0.3.4\n",
      "\u001b[32m✔\u001b[39m \u001b[34mtibble \u001b[39m 3.0.4     \u001b[32m✔\u001b[39m \u001b[34mdplyr  \u001b[39m 1.0.2\n",
      "\u001b[32m✔\u001b[39m \u001b[34mtidyr  \u001b[39m 1.1.2     \u001b[32m✔\u001b[39m \u001b[34mstringr\u001b[39m 1.4.0\n",
      "\u001b[32m✔\u001b[39m \u001b[34mreadr  \u001b[39m 1.4.0     \u001b[32m✔\u001b[39m \u001b[34mforcats\u001b[39m 0.5.0\n",
      "\n",
      "── \u001b[1mConflicts\u001b[22m ───────────────────────────────────────────────────────────────────────────────────────────────────────────────────────────────────────── tidyverse_conflicts() ──\n",
      "\u001b[31m✖\u001b[39m \u001b[34mdplyr\u001b[39m::\u001b[32mfilter()\u001b[39m masks \u001b[34mstats\u001b[39m::filter()\n",
      "\u001b[31m✖\u001b[39m \u001b[34mdplyr\u001b[39m::\u001b[32mlag()\u001b[39m    masks \u001b[34mstats\u001b[39m::lag()\n",
      "\n",
      "Loading required package: lattice\n",
      "\n",
      "\n",
      "Attaching package: ‘caret’\n",
      "\n",
      "\n",
      "The following object is masked from ‘package:purrr’:\n",
      "\n",
      "    lift\n",
      "\n",
      "\n",
      "\n",
      "Attaching package: ‘data.table’\n",
      "\n",
      "\n",
      "The following objects are masked from ‘package:dplyr’:\n",
      "\n",
      "    between, first, last\n",
      "\n",
      "\n",
      "The following object is masked from ‘package:purrr’:\n",
      "\n",
      "    transpose\n",
      "\n",
      "\n",
      "qs v0.23.4.\n",
      "\n"
     ]
    }
   ],
   "source": [
    "library(tidyverse)\n",
    "library(caret)\n",
    "library(data.table)\n",
    "library(stringr)\n",
    "library(dplyr)\n",
    "library(qs)"
   ]
  },
  {
   "cell_type": "code",
   "execution_count": 2,
   "metadata": {
    "ExecuteTime": {
     "end_time": "2021-11-19T11:25:39.394023Z",
     "start_time": "2021-11-19T11:25:38.816Z"
    }
   },
   "outputs": [],
   "source": [
    "library(clustermq)\n",
    "options(clustermq.scheduler = \"sge\", clustermq.template = \"~/.clustermq.tmpl\")"
   ]
  },
  {
   "cell_type": "code",
   "execution_count": 3,
   "metadata": {
    "ExecuteTime": {
     "end_time": "2021-11-19T11:25:39.576404Z",
     "start_time": "2021-11-19T11:25:39.085Z"
    }
   },
   "outputs": [
    {
     "data": {
      "text/plain": [
       "R version 4.0.3 (2020-10-10)\n",
       "Platform: x86_64-conda-linux-gnu (64-bit)\n",
       "Running under: Ubuntu 18.04.6 LTS\n",
       "\n",
       "Matrix products: default\n",
       "BLAS/LAPACK: /ebio/abt3_projects/Methanogen_SCFA/Metagenomes_methanogen/envs/r-ml/lib/libopenblasp-r0.3.10.so\n",
       "\n",
       "locale:\n",
       " [1] LC_CTYPE=en_US.UTF-8       LC_NUMERIC=C              \n",
       " [3] LC_TIME=en_US.UTF-8        LC_COLLATE=en_US.UTF-8    \n",
       " [5] LC_MONETARY=en_US.UTF-8    LC_MESSAGES=en_US.UTF-8   \n",
       " [7] LC_PAPER=en_US.UTF-8       LC_NAME=C                 \n",
       " [9] LC_ADDRESS=C               LC_TELEPHONE=C            \n",
       "[11] LC_MEASUREMENT=en_US.UTF-8 LC_IDENTIFICATION=C       \n",
       "\n",
       "attached base packages:\n",
       "[1] stats     graphics  grDevices utils     datasets  methods   base     \n",
       "\n",
       "other attached packages:\n",
       " [1] clustermq_0.8.95.1 qs_0.23.4          data.table_1.13.4  caret_6.0-86      \n",
       " [5] lattice_0.20-41    forcats_0.5.0      stringr_1.4.0      dplyr_1.0.2       \n",
       " [9] purrr_0.3.4        readr_1.4.0        tidyr_1.1.2        tibble_3.0.4      \n",
       "[13] ggplot2_3.3.2      tidyverse_1.3.0   \n",
       "\n",
       "loaded via a namespace (and not attached):\n",
       " [1] httr_1.4.2           jsonlite_1.7.2       splines_4.0.3       \n",
       " [4] foreach_1.5.1        prodlim_2019.11.13   modelr_0.1.8        \n",
       " [7] RcppParallel_5.0.2   assertthat_0.2.1     stats4_4.0.3        \n",
       "[10] cellranger_1.1.0     ipred_0.9-9          pillar_1.4.7        \n",
       "[13] backports_1.2.0      glue_1.4.2           pROC_1.16.2         \n",
       "[16] uuid_0.1-4           digest_0.6.27        rvest_0.3.6         \n",
       "[19] stringfish_0.14.2    colorspace_2.0-0     recipes_0.1.15      \n",
       "[22] htmltools_0.5.0      Matrix_1.2-18        plyr_1.8.6          \n",
       "[25] timeDate_3043.102    pkgconfig_2.0.3      broom_0.7.2         \n",
       "[28] haven_2.3.1          scales_1.1.1         gower_0.2.2         \n",
       "[31] RApiSerialize_0.1.0  lava_1.6.8.1         generics_0.1.0      \n",
       "[34] ellipsis_0.3.1       withr_2.3.0          repr_1.1.2.9000     \n",
       "[37] nnet_7.3-14          cli_2.2.0            survival_3.2-7      \n",
       "[40] magrittr_2.0.1       crayon_1.3.4         readxl_1.3.1        \n",
       "[43] evaluate_0.14        ps_1.5.0             fs_1.5.0            \n",
       "[46] fansi_0.4.1          nlme_3.1-150         MASS_7.3-53         \n",
       "[49] xml2_1.3.2           class_7.3-17         tools_4.0.3         \n",
       "[52] hms_0.5.3            lifecycle_0.2.0      munsell_0.5.0       \n",
       "[55] reprex_0.3.0         compiler_4.0.3       rlang_0.4.10        \n",
       "[58] grid_4.0.3           pbdZMQ_0.3-3.1       iterators_1.0.13    \n",
       "[61] IRkernel_1.1.1       rstudioapi_0.13      base64enc_0.1-3     \n",
       "[64] ModelMetrics_1.2.2.2 gtable_0.3.0         codetools_0.2-18    \n",
       "[67] DBI_1.1.0            reshape2_1.4.4       R6_2.5.0            \n",
       "[70] lubridate_1.7.9.2    stringi_1.5.3        IRdisplay_0.7.0     \n",
       "[73] Rcpp_1.0.5           vctrs_0.3.6          rpart_4.1-15        \n",
       "[76] dbplyr_2.0.0         tidyselect_1.1.0    "
      ]
     },
     "metadata": {},
     "output_type": "display_data"
    }
   ],
   "source": [
    "sessionInfo()"
   ]
  },
  {
   "cell_type": "markdown",
   "metadata": {},
   "source": [
    "# Function"
   ]
  },
  {
   "cell_type": "code",
   "execution_count": 4,
   "metadata": {
    "ExecuteTime": {
     "end_time": "2021-11-19T11:25:47.130584Z",
     "start_time": "2021-11-19T11:25:46.676Z"
    }
   },
   "outputs": [],
   "source": [
    "wf <- function(ix, data, meta, target, ntree){\n",
    "    \n",
    "    res <- list()\n",
    "    # feature selection\n",
    "    message('Boruta')\n",
    "    bor <-  Boruta(x = data[ix,], y = target[ix])\n",
    "    message('Rough boruta')\n",
    "    bor <- TentativeRoughFix(x = bor)\n",
    "    res$confirmed <- names(bor$finalDecision[bor$finalDecision == 'Confirmed']) \n",
    "    \n",
    "    # select data\n",
    "    message('Subset data')\n",
    "    tmp <- unique(c(meta, res$confirmed))\n",
    "    X_fs <- select(data, all_of(tmp) )\n",
    "    X_fs <- mutate_if(X_fs, is.character, as.factor)\n",
    "    \n",
    "    # RF\n",
    "    message('RF')\n",
    "    set.seed(ix[1])\n",
    "    rf_fs <- randomForest(x = X_fs[ix,], y = target[ix], ntree = ntree)\n",
    "    pred <- predict(object = rf_fs, newdata = X_fs[-ix,])\n",
    "    tmp <- confusionMatrix(data = pred, reference = target[-ix])\n",
    "    res$rf_performance <- tmp$overall\n",
    "    \n",
    "    return(res)\n",
    "}"
   ]
  },
  {
   "cell_type": "markdown",
   "metadata": {},
   "source": [
    "# data"
   ]
  },
  {
   "cell_type": "code",
   "execution_count": 5,
   "metadata": {
    "ExecuteTime": {
     "end_time": "2021-11-19T11:26:22.079476Z",
     "start_time": "2021-11-19T11:26:21.623Z"
    }
   },
   "outputs": [],
   "source": [
    "X <- readRDS('../data/X.RDS')\n",
    "target <- readRDS('../data/target.RDS')"
   ]
  },
  {
   "cell_type": "code",
   "execution_count": 6,
   "metadata": {
    "ExecuteTime": {
     "end_time": "2021-11-19T11:26:23.207122Z",
     "start_time": "2021-11-19T11:26:22.765Z"
    }
   },
   "outputs": [
    {
     "data": {
      "text/html": [
       "<style>\n",
       ".list-inline {list-style: none; margin:0; padding: 0}\n",
       ".list-inline>li {display: inline-block}\n",
       ".list-inline>li:not(:last-child)::after {content: \"\\00b7\"; padding: 0 .5ex}\n",
       "</style>\n",
       "<ol class=list-inline><li>'Sex'</li><li>'Age'</li><li>'BMI'</li><li>'number_reads'</li><li>'f_Lachnospiraceae'</li><li>'f_Odoribacteraceae'</li></ol>\n"
      ],
      "text/latex": [
       "\\begin{enumerate*}\n",
       "\\item 'Sex'\n",
       "\\item 'Age'\n",
       "\\item 'BMI'\n",
       "\\item 'number\\_reads'\n",
       "\\item 'f\\_Lachnospiraceae'\n",
       "\\item 'f\\_Odoribacteraceae'\n",
       "\\end{enumerate*}\n"
      ],
      "text/markdown": [
       "1. 'Sex'\n",
       "2. 'Age'\n",
       "3. 'BMI'\n",
       "4. 'number_reads'\n",
       "5. 'f_Lachnospiraceae'\n",
       "6. 'f_Odoribacteraceae'\n",
       "\n",
       "\n"
      ],
      "text/plain": [
       "[1] \"Sex\"                \"Age\"                \"BMI\"               \n",
       "[4] \"number_reads\"       \"f_Lachnospiraceae\"  \"f_Odoribacteraceae\""
      ]
     },
     "metadata": {},
     "output_type": "display_data"
    }
   ],
   "source": [
    "colnames(X) %>% head"
   ]
  },
  {
   "cell_type": "code",
   "execution_count": 7,
   "metadata": {
    "ExecuteTime": {
     "end_time": "2021-11-19T11:26:23.643224Z",
     "start_time": "2021-11-19T11:26:23.183Z"
    }
   },
   "outputs": [],
   "source": [
    "mnames <- c('Age', 'BMI', 'Sex')"
   ]
  },
  {
   "cell_type": "code",
   "execution_count": 8,
   "metadata": {
    "ExecuteTime": {
     "end_time": "2021-11-19T11:26:24.111960Z",
     "start_time": "2021-11-19T11:26:23.647Z"
    }
   },
   "outputs": [],
   "source": [
    "set.seed(0)\n",
    "trainIx <- createDataPartition(y = target, times = 10, p = .7, list = TRUE)"
   ]
  },
  {
   "cell_type": "markdown",
   "metadata": {},
   "source": [
    "# Train "
   ]
  },
  {
   "cell_type": "markdown",
   "metadata": {
    "deletable": false,
    "editable": false,
    "run_control": {
     "frozen": true
    }
   },
   "source": [
    "## CV"
   ]
  },
  {
   "cell_type": "code",
   "execution_count": 9,
   "metadata": {
    "ExecuteTime": {
     "end_time": "2021-11-19T11:26:36.625956Z",
     "start_time": "2021-11-19T11:26:36.186Z"
    }
   },
   "outputs": [],
   "source": [
    "tmpl <- list(conda = \"r-ml\", cores = 3, job_time = '00:59:00', job_mem = '5G')"
   ]
  },
  {
   "cell_type": "code",
   "execution_count": 13,
   "metadata": {
    "ExecuteTime": {
     "end_time": "2021-11-19T11:27:40.035109Z",
     "start_time": "2021-11-19T11:26:49.971Z"
    }
   },
   "outputs": [
    {
     "name": "stderr",
     "output_type": "stream",
     "text": [
      "Submitting 10 worker jobs (ID: cmq6890) ...\n",
      "\n",
      "Running 10 calculations (4 objs/1 Mb common; 1 calls/chunk) ...\n",
      "\n",
      "\n",
      "[---------------------------------------------------]   0% (1/10 wrk) eta:  ?s\n",
      "\n",
      "[---------------------------------------------------]   0% (2/10 wrk) eta:  ?s\n",
      "\n",
      "[---------------------------------------------------]   0% (3/10 wrk) eta:  ?s\n",
      "\n",
      "[---------------------------------------------------]   0% (4/10 wrk) eta:  ?s\n",
      "\n",
      "[---------------------------------------------------]   0% (5/10 wrk) eta:  ?s\n",
      "\n",
      "[---------------------------------------------------]   0% (6/10 wrk) eta:  ?s\n",
      "\n",
      "[---------------------------------------------------]   0% (7/10 wrk) eta:  ?s\n",
      "\n",
      "[---------------------------------------------------]   0% (8/10 wrk) eta:  ?s\n",
      "\n",
      "[---------------------------------------------------]   0% (9/10 wrk) eta:  ?s\n",
      "\n",
      "[--------------------------------------------------]   0% (10/10 wrk) eta:  ?s\n",
      "\n",
      "[====>---------------------------------------------]  10% (10/10 wrk) eta:  7m\n",
      "\n",
      "[=========>----------------------------------------]  20% (10/10 wrk) eta:  3m\n",
      "\n",
      "[==============>-----------------------------------]  30% (10/10 wrk) eta:  2m\n",
      "\n",
      "[====================>-------------------------------]  40% (7/7 wrk) eta:  1m\n",
      "\n",
      "[=========================>--------------------------]  50% (7/7 wrk) eta: 46s\n",
      "\n",
      "[==============================>---------------------]  60% (7/7 wrk) eta: 31s\n",
      "\n",
      "[===================================>----------------]  70% (4/4 wrk) eta: 20s\n",
      "\n",
      "[=========================================>----------]  80% (3/3 wrk) eta: 12s\n",
      "\n",
      "[==============================================>-----]  90% (2/2 wrk) eta:  5s\n",
      "\n",
      "[====================================================] 100% (1/1 wrk) eta:  0s\n",
      "                                                                              \n",
      "\n",
      "Master: [49.3s 0.6% CPU]; Worker: [avg 234.4% CPU, max 392.9 Mb]\n",
      "\n"
     ]
    }
   ],
   "source": [
    "res <- Q(wf\n",
    "  , ix = trainIx\n",
    "  , const = list('data'= X, 'meta' = mnames, 'target' = target, 'ntree' = 500)\n",
    "  , n_jobs= 10\n",
    "  , pkgs=c('caret', 'randomForest', 'dplyr', 'Boruta')\n",
    "  , log_worker=FALSE\n",
    "  , template = tmpl\n",
    " )"
   ]
  },
  {
   "cell_type": "code",
   "execution_count": 14,
   "metadata": {
    "ExecuteTime": {
     "end_time": "2021-11-19T11:27:44.722963Z",
     "start_time": "2021-11-19T11:27:44.272Z"
    }
   },
   "outputs": [],
   "source": [
    "saveRDS(res, '../tmp/Boruta.RDS')"
   ]
  },
  {
   "cell_type": "code",
   "execution_count": 55,
   "metadata": {
    "ExecuteTime": {
     "end_time": "2021-02-04T14:52:43.983158Z",
     "start_time": "2021-02-04T14:51:34.727Z"
    }
   },
   "outputs": [],
   "source": [
    "#res <- readRDS('../tmp/Boruta.RDS')"
   ]
  },
  {
   "cell_type": "code",
   "execution_count": 15,
   "metadata": {
    "ExecuteTime": {
     "end_time": "2021-11-19T11:27:49.667567Z",
     "start_time": "2021-11-19T11:27:49.206Z"
    }
   },
   "outputs": [],
   "source": [
    "rf_sum <- t(sapply(res, function(x){x$rf_performance}))"
   ]
  },
  {
   "cell_type": "code",
   "execution_count": 16,
   "metadata": {
    "ExecuteTime": {
     "end_time": "2021-11-19T11:27:49.949859Z",
     "start_time": "2021-11-19T11:27:49.476Z"
    }
   },
   "outputs": [
    {
     "data": {
      "text/plain": [
       "    Accuracy          Kappa        AccuracyLower    AccuracyUpper   \n",
       " Min.   :0.7632   Min.   :0.5289   Min.   :0.5976   Min.   :0.8856  \n",
       " 1st Qu.:0.8224   1st Qu.:0.6484   1st Qu.:0.6644   1st Qu.:0.9269  \n",
       " Median :0.8684   Median :0.7354   Median :0.7191   Median :0.9559  \n",
       " Mean   :0.8553   Mean   :0.7109   Mean   :0.7046   Mean   :0.9463  \n",
       " 3rd Qu.:0.8882   3rd Qu.:0.7754   3rd Qu.:0.7437   3rd Qu.:0.9669  \n",
       " Max.   :0.9211   Max.   :0.8421   Max.   :0.7862   Max.   :0.9834  \n",
       "  AccuracyNull    AccuracyPValue      McnemarPValue   \n",
       " Min.   :0.5263   Min.   :1.726e-07   Min.   :0.1306  \n",
       " 1st Qu.:0.5263   1st Qu.:3.303e-06   1st Qu.:0.3711  \n",
       " Median :0.5263   Median :8.982e-06   Median :0.5610  \n",
       " Mean   :0.5263   Mean   :2.830e-04   Mean   :0.6215  \n",
       " 3rd Qu.:0.5263   3rd Qu.:1.621e-04   3rd Qu.:1.0000  \n",
       " Max.   :0.5263   Max.   :2.352e-03   Max.   :1.0000  "
      ]
     },
     "metadata": {},
     "output_type": "display_data"
    },
    {
     "data": {
      "text/html": [
       "0.0468"
      ],
      "text/latex": [
       "0.0468"
      ],
      "text/markdown": [
       "0.0468"
      ],
      "text/plain": [
       "[1] 0.0468"
      ]
     },
     "metadata": {},
     "output_type": "display_data"
    },
    {
     "data": {
      "text/html": [
       "0.0926"
      ],
      "text/latex": [
       "0.0926"
      ],
      "text/markdown": [
       "0.0926"
      ],
      "text/plain": [
       "[1] 0.0926"
      ]
     },
     "metadata": {},
     "output_type": "display_data"
    }
   ],
   "source": [
    "rf_sum %>% summary\n",
    "sd(rf_sum[,1]) %>% round(digits = 4)\n",
    "sd(rf_sum[,2]) %>% round(digits = 4)"
   ]
  },
  {
   "cell_type": "code",
   "execution_count": null,
   "metadata": {},
   "outputs": [],
   "source": []
  }
 ],
 "metadata": {
  "kernelspec": {
   "display_name": "R [conda env:Metagenomes_methanogen-r-ml] *",
   "language": "R",
   "name": "conda-env-Metagenomes_methanogen-r-ml-r"
  },
  "language_info": {
   "codemirror_mode": "r",
   "file_extension": ".r",
   "mimetype": "text/x-r-source",
   "name": "R",
   "pygments_lexer": "r",
   "version": "4.0.3"
  },
  "notify_time": "30",
  "toc": {
   "base_numbering": 1,
   "nav_menu": {},
   "number_sections": true,
   "sideBar": true,
   "skip_h1_title": false,
   "title_cell": "Table of Contents",
   "title_sidebar": "Contents",
   "toc_cell": false,
   "toc_position": {},
   "toc_section_display": true,
   "toc_window_display": true
  }
 },
 "nbformat": 4,
 "nbformat_minor": 4
}
