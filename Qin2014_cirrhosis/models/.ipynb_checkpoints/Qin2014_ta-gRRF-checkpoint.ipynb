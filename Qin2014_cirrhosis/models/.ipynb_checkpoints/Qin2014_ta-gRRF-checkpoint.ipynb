{
 "cells": [
  {
   "cell_type": "markdown",
   "metadata": {},
   "source": [
    "Many objects are saved in the ../tmp/ folder (e.g., model, endoR bootstraps, ...). Import them instead of running everything to save time ;) "
   ]
  },
  {
   "cell_type": "markdown",
   "metadata": {},
   "source": [
    "# Libraries"
   ]
  },
  {
   "cell_type": "code",
   "execution_count": 1,
   "metadata": {
    "ExecuteTime": {
     "end_time": "2021-12-12T09:02:34.038598Z",
     "start_time": "2021-12-12T09:02:25.571Z"
    }
   },
   "outputs": [
    {
     "name": "stderr",
     "output_type": "stream",
     "text": [
      "── \u001b[1mAttaching packages\u001b[22m ────────────────────────────────────────────────────────────────────────────────────────────────────────────────────────────────────── tidyverse 1.3.0 ──\n",
      "\n",
      "\u001b[32m✔\u001b[39m \u001b[34mggplot2\u001b[39m 3.3.2     \u001b[32m✔\u001b[39m \u001b[34mpurrr  \u001b[39m 0.3.4\n",
      "\u001b[32m✔\u001b[39m \u001b[34mtibble \u001b[39m 3.0.4     \u001b[32m✔\u001b[39m \u001b[34mdplyr  \u001b[39m 1.0.2\n",
      "\u001b[32m✔\u001b[39m \u001b[34mtidyr  \u001b[39m 1.1.2     \u001b[32m✔\u001b[39m \u001b[34mstringr\u001b[39m 1.4.0\n",
      "\u001b[32m✔\u001b[39m \u001b[34mreadr  \u001b[39m 1.4.0     \u001b[32m✔\u001b[39m \u001b[34mforcats\u001b[39m 0.5.0\n",
      "\n",
      "── \u001b[1mConflicts\u001b[22m ───────────────────────────────────────────────────────────────────────────────────────────────────────────────────────────────────────── tidyverse_conflicts() ──\n",
      "\u001b[31m✖\u001b[39m \u001b[34mdplyr\u001b[39m::\u001b[32mfilter()\u001b[39m masks \u001b[34mstats\u001b[39m::filter()\n",
      "\u001b[31m✖\u001b[39m \u001b[34mdplyr\u001b[39m::\u001b[32mlag()\u001b[39m    masks \u001b[34mstats\u001b[39m::lag()\n",
      "\n",
      "Loading required package: lattice\n",
      "\n",
      "\n",
      "Attaching package: ‘caret’\n",
      "\n",
      "\n",
      "The following object is masked from ‘package:purrr’:\n",
      "\n",
      "    lift\n",
      "\n",
      "\n",
      "\n",
      "Attaching package: ‘data.table’\n",
      "\n",
      "\n",
      "The following objects are masked from ‘package:dplyr’:\n",
      "\n",
      "    between, first, last\n",
      "\n",
      "\n",
      "The following object is masked from ‘package:purrr’:\n",
      "\n",
      "    transpose\n",
      "\n",
      "\n",
      "randomForest 4.6-14\n",
      "\n",
      "Type rfNews() to see new features/changes/bug fixes.\n",
      "\n",
      "\n",
      "Attaching package: ‘randomForest’\n",
      "\n",
      "\n",
      "The following object is masked from ‘package:dplyr’:\n",
      "\n",
      "    combine\n",
      "\n",
      "\n",
      "The following object is masked from ‘package:ggplot2’:\n",
      "\n",
      "    margin\n",
      "\n",
      "\n",
      "qs v0.23.4.\n",
      "\n",
      "Registered S3 method overwritten by 'RRF':\n",
      "  method      from        \n",
      "  plot.margin randomForest\n",
      "\n",
      "RRF 1.9.1\n",
      "\n",
      "Type rrfNews() to see new features/changes/bug fixes.\n",
      "\n",
      "\n",
      "Attaching package: ‘RRF’\n",
      "\n",
      "\n",
      "The following objects are masked from ‘package:randomForest’:\n",
      "\n",
      "    classCenter, combine, getTree, grow, importance, margin, MDSplot,\n",
      "    na.roughfix, outlier, partialPlot, treesize, varImpPlot, varUsed\n",
      "\n",
      "\n",
      "The following object is masked from ‘package:dplyr’:\n",
      "\n",
      "    combine\n",
      "\n",
      "\n",
      "The following object is masked from ‘package:ggplot2’:\n",
      "\n",
      "    margin\n",
      "\n",
      "\n",
      "\n",
      "Attaching package: ‘igraph’\n",
      "\n",
      "\n",
      "The following objects are masked from ‘package:dplyr’:\n",
      "\n",
      "    as_data_frame, groups, union\n",
      "\n",
      "\n",
      "The following objects are masked from ‘package:purrr’:\n",
      "\n",
      "    compose, simplify\n",
      "\n",
      "\n",
      "The following object is masked from ‘package:tidyr’:\n",
      "\n",
      "    crossing\n",
      "\n",
      "\n",
      "The following object is masked from ‘package:tibble’:\n",
      "\n",
      "    as_data_frame\n",
      "\n",
      "\n",
      "The following objects are masked from ‘package:stats’:\n",
      "\n",
      "    decompose, spectrum\n",
      "\n",
      "\n",
      "The following object is masked from ‘package:base’:\n",
      "\n",
      "    union\n",
      "\n",
      "\n",
      "* Option 'clustermq.scheduler' not set, defaulting to ‘SGE’\n",
      "\n",
      "--- see: https://mschubert.github.io/clustermq/articles/userguide.html#configuration\n",
      "\n",
      "Warning message:\n",
      "“replacing previous import ‘data.table::last’ by ‘dplyr::last’ when loading ‘endoR’”\n",
      "Warning message:\n",
      "“replacing previous import ‘data.table::first’ by ‘dplyr::first’ when loading ‘endoR’”\n",
      "Warning message:\n",
      "“replacing previous import ‘data.table::between’ by ‘dplyr::between’ when loading ‘endoR’”\n",
      "Warning message:\n",
      "“replacing previous import ‘dplyr::union’ by ‘igraph::union’ when loading ‘endoR’”\n",
      "Warning message:\n",
      "“replacing previous import ‘dplyr::as_data_frame’ by ‘igraph::as_data_frame’ when loading ‘endoR’”\n",
      "Warning message:\n",
      "“replacing previous import ‘dplyr::groups’ by ‘igraph::groups’ when loading ‘endoR’”\n"
     ]
    }
   ],
   "source": [
    "library(tidyverse)\n",
    "library(caret)\n",
    "library(data.table)\n",
    "library(stringr)\n",
    "library(dplyr)\n",
    "library(randomForest)\n",
    "library(qs)\n",
    "library(e1071)\n",
    "library(RRF)\n",
    "library(parallel)\n",
    "library(igraph)\n",
    "library(ggraph)\n",
    "library(inTrees)\n",
    "library(ggpubr)\n",
    "library(clustermq)\n",
    "library(endoR)"
   ]
  },
  {
   "cell_type": "code",
   "execution_count": 2,
   "metadata": {
    "ExecuteTime": {
     "end_time": "2021-12-12T09:02:34.114163Z",
     "start_time": "2021-12-12T09:02:25.575Z"
    }
   },
   "outputs": [],
   "source": [
    "library(clustermq)\n",
    "options(clustermq.scheduler = \"sge\", clustermq.template = \"~/.clustermq.tmpl\")"
   ]
  },
  {
   "cell_type": "code",
   "execution_count": 3,
   "metadata": {
    "ExecuteTime": {
     "end_time": "2021-12-12T09:02:34.202646Z",
     "start_time": "2021-12-12T09:02:25.577Z"
    }
   },
   "outputs": [
    {
     "data": {
      "text/plain": [
       "R version 4.0.3 (2020-10-10)\n",
       "Platform: x86_64-conda-linux-gnu (64-bit)\n",
       "Running under: Ubuntu 18.04.6 LTS\n",
       "\n",
       "Matrix products: default\n",
       "BLAS/LAPACK: /ebio/abt3_projects/Methanogen_SCFA/Metagenomes_methanogen/envs/r-ml/lib/libopenblasp-r0.3.10.so\n",
       "\n",
       "locale:\n",
       " [1] LC_CTYPE=en_US.UTF-8       LC_NUMERIC=C              \n",
       " [3] LC_TIME=en_US.UTF-8        LC_COLLATE=en_US.UTF-8    \n",
       " [5] LC_MONETARY=en_US.UTF-8    LC_MESSAGES=en_US.UTF-8   \n",
       " [7] LC_PAPER=en_US.UTF-8       LC_NAME=C                 \n",
       " [9] LC_ADDRESS=C               LC_TELEPHONE=C            \n",
       "[11] LC_MEASUREMENT=en_US.UTF-8 LC_IDENTIFICATION=C       \n",
       "\n",
       "attached base packages:\n",
       "[1] parallel  stats     graphics  grDevices utils     datasets  methods  \n",
       "[8] base     \n",
       "\n",
       "other attached packages:\n",
       " [1] endoR_0.1.0         clustermq_0.8.95.1  ggpubr_0.4.0       \n",
       " [4] inTrees_1.3         ggraph_2.0.4        igraph_1.2.6       \n",
       " [7] RRF_1.9.1           e1071_1.7-4         qs_0.23.4          \n",
       "[10] randomForest_4.6-14 data.table_1.13.4   caret_6.0-86       \n",
       "[13] lattice_0.20-41     forcats_0.5.0       stringr_1.4.0      \n",
       "[16] dplyr_1.0.2         purrr_0.3.4         readr_1.4.0        \n",
       "[19] tidyr_1.1.2         tibble_3.0.4        ggplot2_3.3.2      \n",
       "[22] tidyverse_1.3.0    \n",
       "\n",
       "loaded via a namespace (and not attached):\n",
       "  [1] colorspace_2.0-0     ggsignif_0.6.0       rio_0.5.16          \n",
       "  [4] ellipsis_0.3.1       class_7.3-17         IRdisplay_0.7.0     \n",
       "  [7] base64enc_0.1-3      fs_1.5.0             rstudioapi_0.13     \n",
       " [10] farver_2.0.3         graphlayouts_0.7.1   ggrepel_0.8.2       \n",
       " [13] prodlim_2019.11.13   fansi_0.4.1          lubridate_1.7.9.2   \n",
       " [16] ranger_0.12.1        xml2_1.3.2           codetools_0.2-18    \n",
       " [19] splines_4.0.3        arules_1.6-6         polyclip_1.10-0     \n",
       " [22] IRkernel_1.1.1       jsonlite_1.7.2       pROC_1.16.2         \n",
       " [25] broom_0.7.2          dbplyr_2.0.0         ggforce_0.3.2       \n",
       " [28] compiler_4.0.3       httr_1.4.2           backports_1.2.0     \n",
       " [31] assertthat_0.2.1     Matrix_1.2-18        cli_2.2.0           \n",
       " [34] tweenr_1.0.1         htmltools_0.5.0      tools_4.0.3         \n",
       " [37] gtable_0.3.0         glue_1.4.2           reshape2_1.4.4      \n",
       " [40] Rcpp_1.0.5           carData_3.0-4        cellranger_1.1.0    \n",
       " [43] vctrs_0.3.6          nlme_3.1-150         iterators_1.0.13    \n",
       " [46] timeDate_3043.102    gower_0.2.2          ps_1.5.0            \n",
       " [49] openxlsx_4.2.3       rvest_0.3.6          lifecycle_0.2.0     \n",
       " [52] rstatix_0.6.0        MASS_7.3-53          scales_1.1.1        \n",
       " [55] ipred_0.9-9          tidygraph_1.2.0      hms_0.5.3           \n",
       " [58] curl_4.3             gridExtra_2.3        rpart_4.1-15        \n",
       " [61] stringi_1.5.3        foreach_1.5.1        zip_2.1.1           \n",
       " [64] lava_1.6.8.1         repr_1.1.2.9000      rlang_0.4.10        \n",
       " [67] pkgconfig_2.0.3      evaluate_0.14        recipes_0.1.15      \n",
       " [70] tidyselect_1.1.0     gbm_2.1.8            plyr_1.8.6          \n",
       " [73] magrittr_2.0.1       R6_2.5.0             generics_0.1.0      \n",
       " [76] pbdZMQ_0.3-3.1       DBI_1.1.0            foreign_0.8-80      \n",
       " [79] pillar_1.4.7         haven_2.3.1          withr_2.3.0         \n",
       " [82] abind_1.4-5          survival_3.2-7       nnet_7.3-14         \n",
       " [85] car_3.0-10           modelr_0.1.8         crayon_1.3.4        \n",
       " [88] xgboost_1.2.0.1      uuid_0.1-4           RApiSerialize_0.1.0 \n",
       " [91] viridis_0.5.1        grid_4.0.3           readxl_1.3.1        \n",
       " [94] ModelMetrics_1.2.2.2 reprex_0.3.0         digest_0.6.27       \n",
       " [97] xtable_1.8-4         RcppParallel_5.0.2   stats4_4.0.3        \n",
       "[100] munsell_0.5.0        stringfish_0.14.2    viridisLite_0.3.0   "
      ]
     },
     "metadata": {},
     "output_type": "display_data"
    }
   ],
   "source": [
    "sessionInfo()"
   ]
  },
  {
   "cell_type": "markdown",
   "metadata": {},
   "source": [
    "# Functions"
   ]
  },
  {
   "cell_type": "code",
   "execution_count": 4,
   "metadata": {
    "ExecuteTime": {
     "end_time": "2021-12-12T09:02:34.240407Z",
     "start_time": "2021-12-12T09:02:25.580Z"
    }
   },
   "outputs": [],
   "source": [
    "# from common scripts \n",
    "file.sources <- list.files('../../Common_scripts/', pattern = '*.R', full.names=TRUE, ignore.case=TRUE)\n",
    "for (f in file.sources) {\n",
    "    source(f)\n",
    "}\n",
    "rm('file.sources', 'f')"
   ]
  },
  {
   "cell_type": "code",
   "execution_count": 5,
   "metadata": {
    "ExecuteTime": {
     "end_time": "2021-12-12T09:02:34.263819Z",
     "start_time": "2021-12-12T09:02:25.583Z"
    }
   },
   "outputs": [],
   "source": [
    "wf <- function (ix, data, meta, target, families, genera, species, \n",
    "    gamma = 1, k = 0.5, ntree = 500) \n",
    "{\n",
    "    set.seed(ix[1])\n",
    "    res <- list()\n",
    "    data <- mutate_if(data, is.character, as.factor)\n",
    "    \n",
    "    message(\"Feature selection\")\n",
    "    RF <- RRF(data[ix, ], flagReg = 0, as.factor(target[ix]))\n",
    "    regterm <- data.frame(Feature = names(RF$importance[, \"MeanDecreaseGini\"]), \n",
    "        imp = RF$importance[, \"MeanDecreaseGini\"])\n",
    "    regterm$imp_norm <- (regterm$imp - min(regterm$imp))/(max(regterm$imp) - \n",
    "        min(regterm$imp))\n",
    "    regterm$imp_tax <- NA\n",
    "    regterm$mb <- NA\n",
    "    for (x in regterm$Feature) {\n",
    "        tmp <- unique(c(families[[x]], genera[[x]], species[[x]]))\n",
    "        ib <- which(regterm$Feature %in% tmp)\n",
    "        if (length(ib) == 0) \n",
    "            next\n",
    "        mb <- max(regterm$imp[ib])\n",
    "        ib <- which(regterm$Feature == x)\n",
    "        regterm$mb[ib] <- mb\n",
    "        regterm$imp_tax[ib] <- regterm$imp[ib]/mb\n",
    "    }\n",
    "    regterm$imp_tax <- ifelse(is.na(regterm$imp_tax), regterm$imp_norm, \n",
    "        regterm$imp_tax)\n",
    "    regterm$lambda <- (1 - gamma) + gamma * regterm$imp_norm^(1 - \n",
    "        k) * regterm$imp_tax^k\n",
    "    GRRF <- RRF(data[ix, ], as.factor(target[ix]), flagReg = 1, \n",
    "        coefReg = regterm$lambda)\n",
    "    \n",
    "    message(\"Subset data\")\n",
    "    to_keep <- c(meta, colnames(data)[GRRF$feaSet])\n",
    "    res$confirmed <- to_keep\n",
    "    X_fs <- select(data, all_of(unique(to_keep)))\n",
    "    \n",
    "    message(\"RF\")\n",
    "    set.seed(ix[1])\n",
    "    rf_fs <- randomForest(x = X_fs[ix,], y = target[ix], ntree = ntree)\n",
    "    res$rf_model <- rf_fs\n",
    "    if (length(ix) != nrow(data)) {\n",
    "        pred <- predict(object = rf_fs, newdata = X_fs[-ix,])\n",
    "        tmp <- confusionMatrix(data = pred, reference = target[-ix])\n",
    "        res$rf_performance <- tmp$overall\n",
    "    }\n",
    "    return(res)\n",
    "}"
   ]
  },
  {
   "cell_type": "code",
   "execution_count": 6,
   "metadata": {
    "ExecuteTime": {
     "end_time": "2021-12-12T09:02:34.285618Z",
     "start_time": "2021-12-12T09:02:25.585Z"
    }
   },
   "outputs": [],
   "source": [
    "gammaTuning <- function(trainIx, data, meta, target, families, genera, species, params, ntree=500){\n",
    "    res <- list()\n",
    "    res <- lapply(trainIx, wf, data=data, meta=meta, target=target\n",
    "                  , families = families, genera = genera, species = species\n",
    "                  , gamma=params[['gamma']], k = params[['k']], ntree=ntree)\n",
    "    names(res) <- rep(paste0(params['gamma'], '_', params['k']), length(res))\n",
    "    return(res)\n",
    "}"
   ]
  },
  {
   "cell_type": "markdown",
   "metadata": {},
   "source": [
    "# Data"
   ]
  },
  {
   "cell_type": "code",
   "execution_count": 7,
   "metadata": {
    "ExecuteTime": {
     "end_time": "2021-12-12T09:02:34.317836Z",
     "start_time": "2021-12-12T09:02:25.588Z"
    }
   },
   "outputs": [],
   "source": [
    "tax_names <- read.table('../data/taxonomy_table.txt', sep = '\\t', header = TRUE)"
   ]
  },
  {
   "cell_type": "code",
   "execution_count": 8,
   "metadata": {
    "ExecuteTime": {
     "end_time": "2021-12-12T09:02:34.354030Z",
     "start_time": "2021-12-12T09:02:25.592Z"
    }
   },
   "outputs": [
    {
     "data": {
      "text/html": [
       "<table class=\"dataframe\">\n",
       "<caption>A data.frame: 3 × 7</caption>\n",
       "<thead>\n",
       "\t<tr><th></th><th scope=col>k</th><th scope=col>p</th><th scope=col>c</th><th scope=col>o</th><th scope=col>f</th><th scope=col>g</th><th scope=col>s</th></tr>\n",
       "\t<tr><th></th><th scope=col>&lt;chr&gt;</th><th scope=col>&lt;chr&gt;</th><th scope=col>&lt;chr&gt;</th><th scope=col>&lt;chr&gt;</th><th scope=col>&lt;chr&gt;</th><th scope=col>&lt;chr&gt;</th><th scope=col>&lt;chr&gt;</th></tr>\n",
       "</thead>\n",
       "<tbody>\n",
       "\t<tr><th scope=row>1</th><td>k_Bacteria</td><td>p_Firmicutes   </td><td>c_Clostridia </td><td>o_Clostridiales</td><td>f_Lachnospiraceae </td><td>g            </td><td>s_Eubacterium_rectale     </td></tr>\n",
       "\t<tr><th scope=row>2</th><td>k_Bacteria</td><td>p_Bacteroidetes</td><td>c_Bacteroidia</td><td>o_Bacteroidales</td><td>f_Odoribacteraceae</td><td>g_Odoribacter</td><td>s_Odoribacter_splanchnicus</td></tr>\n",
       "\t<tr><th scope=row>3</th><td>k_Bacteria</td><td>p_Bacteroidetes</td><td>c_Bacteroidia</td><td>o_Bacteroidales</td><td>f_Bacteroidaceae  </td><td>g_Bacteroides</td><td>s_Bacteroides_uniformis   </td></tr>\n",
       "</tbody>\n",
       "</table>\n"
      ],
      "text/latex": [
       "A data.frame: 3 × 7\n",
       "\\begin{tabular}{r|lllllll}\n",
       "  & k & p & c & o & f & g & s\\\\\n",
       "  & <chr> & <chr> & <chr> & <chr> & <chr> & <chr> & <chr>\\\\\n",
       "\\hline\n",
       "\t1 & k\\_Bacteria & p\\_Firmicutes    & c\\_Clostridia  & o\\_Clostridiales & f\\_Lachnospiraceae  & g             & s\\_Eubacterium\\_rectale     \\\\\n",
       "\t2 & k\\_Bacteria & p\\_Bacteroidetes & c\\_Bacteroidia & o\\_Bacteroidales & f\\_Odoribacteraceae & g\\_Odoribacter & s\\_Odoribacter\\_splanchnicus\\\\\n",
       "\t3 & k\\_Bacteria & p\\_Bacteroidetes & c\\_Bacteroidia & o\\_Bacteroidales & f\\_Bacteroidaceae   & g\\_Bacteroides & s\\_Bacteroides\\_uniformis   \\\\\n",
       "\\end{tabular}\n"
      ],
      "text/markdown": [
       "\n",
       "A data.frame: 3 × 7\n",
       "\n",
       "| <!--/--> | k &lt;chr&gt; | p &lt;chr&gt; | c &lt;chr&gt; | o &lt;chr&gt; | f &lt;chr&gt; | g &lt;chr&gt; | s &lt;chr&gt; |\n",
       "|---|---|---|---|---|---|---|---|\n",
       "| 1 | k_Bacteria | p_Firmicutes    | c_Clostridia  | o_Clostridiales | f_Lachnospiraceae  | g             | s_Eubacterium_rectale      |\n",
       "| 2 | k_Bacteria | p_Bacteroidetes | c_Bacteroidia | o_Bacteroidales | f_Odoribacteraceae | g_Odoribacter | s_Odoribacter_splanchnicus |\n",
       "| 3 | k_Bacteria | p_Bacteroidetes | c_Bacteroidia | o_Bacteroidales | f_Bacteroidaceae   | g_Bacteroides | s_Bacteroides_uniformis    |\n",
       "\n"
      ],
      "text/plain": [
       "  k          p               c             o               f                 \n",
       "1 k_Bacteria p_Firmicutes    c_Clostridia  o_Clostridiales f_Lachnospiraceae \n",
       "2 k_Bacteria p_Bacteroidetes c_Bacteroidia o_Bacteroidales f_Odoribacteraceae\n",
       "3 k_Bacteria p_Bacteroidetes c_Bacteroidia o_Bacteroidales f_Bacteroidaceae  \n",
       "  g             s                         \n",
       "1 g             s_Eubacterium_rectale     \n",
       "2 g_Odoribacter s_Odoribacter_splanchnicus\n",
       "3 g_Bacteroides s_Bacteroides_uniformis   "
      ]
     },
     "metadata": {},
     "output_type": "display_data"
    }
   ],
   "source": [
    "head(tax_names, 3)"
   ]
  },
  {
   "cell_type": "code",
   "execution_count": 9,
   "metadata": {
    "ExecuteTime": {
     "end_time": "2021-12-12T09:02:34.417840Z",
     "start_time": "2021-12-12T09:02:25.595Z"
    }
   },
   "outputs": [],
   "source": [
    "tmp <- readRDS('../data/taxa_lists.RDS')\n",
    "families <- tmp[[1]]\n",
    "genera <- tmp[[2]]\n",
    "species <- tmp[[3]]"
   ]
  },
  {
   "cell_type": "code",
   "execution_count": 10,
   "metadata": {
    "ExecuteTime": {
     "end_time": "2021-12-12T09:02:34.464516Z",
     "start_time": "2021-12-12T09:02:25.598Z"
    }
   },
   "outputs": [
    {
     "data": {
      "text/html": [
       "<dl>\n",
       "\t<dt>$f_Lachnospiraceae</dt>\n",
       "\t\t<dd><style>\n",
       ".list-inline {list-style: none; margin:0; padding: 0}\n",
       ".list-inline>li {display: inline-block}\n",
       ".list-inline>li:not(:last-child)::after {content: \"\\00b7\"; padding: 0 .5ex}\n",
       "</style>\n",
       "<ol class=list-inline><li>'f_Lachnospiraceae'</li><li>'g'</li><li>'g_Anaerostipes'</li><li>'g_Roseburia'</li><li>'g_Lachnoclostridium'</li><li>'g_Blautia'</li></ol>\n",
       "</dd>\n",
       "\t<dt>$f_Odoribacteraceae</dt>\n",
       "\t\t<dd><style>\n",
       ".list-inline {list-style: none; margin:0; padding: 0}\n",
       ".list-inline>li {display: inline-block}\n",
       ".list-inline>li:not(:last-child)::after {content: \"\\00b7\"; padding: 0 .5ex}\n",
       "</style>\n",
       "<ol class=list-inline><li>'f_Odoribacteraceae'</li><li>'g_Odoribacter'</li><li>'g_Butyricimonas'</li></ol>\n",
       "</dd>\n",
       "\t<dt>$f_Bacteroidaceae</dt>\n",
       "\t\t<dd><style>\n",
       ".list-inline {list-style: none; margin:0; padding: 0}\n",
       ".list-inline>li {display: inline-block}\n",
       ".list-inline>li:not(:last-child)::after {content: \"\\00b7\"; padding: 0 .5ex}\n",
       "</style>\n",
       "<ol class=list-inline><li>'f_Bacteroidaceae'</li><li>'g_Bacteroides'</li></ol>\n",
       "</dd>\n",
       "</dl>\n"
      ],
      "text/latex": [
       "\\begin{description}\n",
       "\\item[\\$f\\_Lachnospiraceae] \\begin{enumerate*}\n",
       "\\item 'f\\_Lachnospiraceae'\n",
       "\\item 'g'\n",
       "\\item 'g\\_Anaerostipes'\n",
       "\\item 'g\\_Roseburia'\n",
       "\\item 'g\\_Lachnoclostridium'\n",
       "\\item 'g\\_Blautia'\n",
       "\\end{enumerate*}\n",
       "\n",
       "\\item[\\$f\\_Odoribacteraceae] \\begin{enumerate*}\n",
       "\\item 'f\\_Odoribacteraceae'\n",
       "\\item 'g\\_Odoribacter'\n",
       "\\item 'g\\_Butyricimonas'\n",
       "\\end{enumerate*}\n",
       "\n",
       "\\item[\\$f\\_Bacteroidaceae] \\begin{enumerate*}\n",
       "\\item 'f\\_Bacteroidaceae'\n",
       "\\item 'g\\_Bacteroides'\n",
       "\\end{enumerate*}\n",
       "\n",
       "\\end{description}\n"
      ],
      "text/markdown": [
       "$f_Lachnospiraceae\n",
       ":   1. 'f_Lachnospiraceae'\n",
       "2. 'g'\n",
       "3. 'g_Anaerostipes'\n",
       "4. 'g_Roseburia'\n",
       "5. 'g_Lachnoclostridium'\n",
       "6. 'g_Blautia'\n",
       "\n",
       "\n",
       "\n",
       "$f_Odoribacteraceae\n",
       ":   1. 'f_Odoribacteraceae'\n",
       "2. 'g_Odoribacter'\n",
       "3. 'g_Butyricimonas'\n",
       "\n",
       "\n",
       "\n",
       "$f_Bacteroidaceae\n",
       ":   1. 'f_Bacteroidaceae'\n",
       "2. 'g_Bacteroides'\n",
       "\n",
       "\n",
       "\n",
       "\n",
       "\n"
      ],
      "text/plain": [
       "$f_Lachnospiraceae\n",
       "[1] \"f_Lachnospiraceae\"   \"g\"                   \"g_Anaerostipes\"     \n",
       "[4] \"g_Roseburia\"         \"g_Lachnoclostridium\" \"g_Blautia\"          \n",
       "\n",
       "$f_Odoribacteraceae\n",
       "[1] \"f_Odoribacteraceae\" \"g_Odoribacter\"      \"g_Butyricimonas\"   \n",
       "\n",
       "$f_Bacteroidaceae\n",
       "[1] \"f_Bacteroidaceae\" \"g_Bacteroides\"   \n"
      ]
     },
     "metadata": {},
     "output_type": "display_data"
    }
   ],
   "source": [
    "families[1:3] %>% lapply(head)"
   ]
  },
  {
   "cell_type": "code",
   "execution_count": 11,
   "metadata": {
    "ExecuteTime": {
     "end_time": "2021-12-12T09:02:34.499998Z",
     "start_time": "2021-12-12T09:02:25.600Z"
    }
   },
   "outputs": [],
   "source": [
    "X <- readRDS('../data/X.RDS')\n",
    "target <- readRDS('../data/target.RDS')"
   ]
  },
  {
   "cell_type": "code",
   "execution_count": 12,
   "metadata": {
    "ExecuteTime": {
     "end_time": "2021-12-12T09:02:34.810479Z",
     "start_time": "2021-12-12T09:02:25.602Z"
    }
   },
   "outputs": [],
   "source": [
    "tmp <- dummyVars(~., data = X)\n",
    "X <- predict(tmp, newdata = X) %>% as.data.frame %>% select(-Sexmale)"
   ]
  },
  {
   "cell_type": "code",
   "execution_count": 13,
   "metadata": {
    "ExecuteTime": {
     "end_time": "2021-12-12T09:02:34.836595Z",
     "start_time": "2021-12-12T09:02:25.604Z"
    }
   },
   "outputs": [
    {
     "data": {
      "text/plain": [
       "target\n",
       "Cirrhosis   Healthy \n",
       "       68        62 "
      ]
     },
     "metadata": {},
     "output_type": "display_data"
    }
   ],
   "source": [
    "table(target)"
   ]
  },
  {
   "cell_type": "code",
   "execution_count": 14,
   "metadata": {
    "ExecuteTime": {
     "end_time": "2021-12-12T09:02:34.856827Z",
     "start_time": "2021-12-12T09:02:25.607Z"
    }
   },
   "outputs": [],
   "source": [
    "mnames <- c('Sexfemale','Age','BMI','number_reads')"
   ]
  },
  {
   "cell_type": "code",
   "execution_count": 15,
   "metadata": {
    "ExecuteTime": {
     "end_time": "2021-12-12T09:02:34.907592Z",
     "start_time": "2021-12-12T09:02:25.609Z"
    }
   },
   "outputs": [],
   "source": [
    "set.seed(0)\n",
    "trainIx <- createDataPartition(y = target, times = 10, p = .7, list = TRUE)"
   ]
  },
  {
   "cell_type": "markdown",
   "metadata": {},
   "source": [
    "# Train "
   ]
  },
  {
   "cell_type": "markdown",
   "metadata": {
    "deletable": false,
    "editable": false,
    "run_control": {
     "frozen": true
    }
   },
   "source": [
    "## CV"
   ]
  },
  {
   "cell_type": "code",
   "execution_count": 16,
   "metadata": {
    "ExecuteTime": {
     "end_time": "2021-12-12T09:02:34.936174Z",
     "start_time": "2021-12-12T09:02:25.612Z"
    }
   },
   "outputs": [],
   "source": [
    "gammas <- seq(0,1, by = 0.1)\n",
    "ks <- seq(0,1,0.1)"
   ]
  },
  {
   "cell_type": "code",
   "execution_count": 17,
   "metadata": {
    "ExecuteTime": {
     "end_time": "2021-12-12T09:02:34.966111Z",
     "start_time": "2021-12-12T09:02:25.614Z"
    }
   },
   "outputs": [],
   "source": [
    "params<-as.list(data.frame(t(expand.grid(gammas, ks))))"
   ]
  },
  {
   "cell_type": "code",
   "execution_count": 18,
   "metadata": {
    "ExecuteTime": {
     "end_time": "2021-12-12T09:02:34.996332Z",
     "start_time": "2021-12-12T09:02:25.617Z"
    }
   },
   "outputs": [],
   "source": [
    "params <- params %>% lapply(function(x){names(x)<-c('gamma', 'k');return(x)})\n",
    "names(params) <- params %>% sapply(paste, collapse = '_')"
   ]
  },
  {
   "cell_type": "code",
   "execution_count": 19,
   "metadata": {
    "ExecuteTime": {
     "end_time": "2021-12-12T09:02:35.020190Z",
     "start_time": "2021-12-12T09:02:25.620Z"
    }
   },
   "outputs": [],
   "source": [
    "tmpl <- list(conda = \"r-ml\", cores = 5, job_time = '00:59:00', job_mem = '5G')"
   ]
  },
  {
   "cell_type": "code",
   "execution_count": 20,
   "metadata": {
    "ExecuteTime": {
     "end_time": "2021-11-19T10:45:02.821418Z",
     "start_time": "2021-11-19T10:43:29.356Z"
    },
    "deletable": false,
    "editable": false,
    "run_control": {
     "frozen": true
    }
   },
   "outputs": [
    {
     "name": "stderr",
     "output_type": "stream",
     "text": [
      "Warning message in (function (...) :\n",
      "“Common data is 3.5 Mb. Recommended limit is  (set by clustermq.data.warning option)”\n",
      "Submitting 121 worker jobs (ID: cmq7546) ...\n",
      "\n",
      "Running 121 calculations (9 objs/3.5 Mb common; 1 calls/chunk) ...\n",
      "\n",
      "\n",
      "[--------------------------------------------------]   0% (1/121 wrk) eta:  ?s\n",
      "\n",
      "[--------------------------------------------------]   0% (2/121 wrk) eta:  ?s\n",
      "\n",
      "[--------------------------------------------------]   0% (3/121 wrk) eta:  ?s\n",
      "\n",
      "[--------------------------------------------------]   0% (4/121 wrk) eta:  ?s\n",
      "\n",
      "[--------------------------------------------------]   0% (5/121 wrk) eta:  ?s\n",
      "\n",
      "[--------------------------------------------------]   0% (6/121 wrk) eta:  ?s\n",
      "\n",
      "[--------------------------------------------------]   0% (7/121 wrk) eta:  ?s\n",
      "\n",
      "[--------------------------------------------------]   0% (8/121 wrk) eta:  ?s\n",
      "\n",
      "[--------------------------------------------------]   0% (9/121 wrk) eta:  ?s\n",
      "\n",
      "[-------------------------------------------------]   0% (10/121 wrk) eta:  ?s\n",
      "\n",
      "[-------------------------------------------------]   0% (11/121 wrk) eta:  ?s\n",
      "\n",
      "[-------------------------------------------------]   0% (12/121 wrk) eta:  ?s\n",
      "\n",
      "[-------------------------------------------------]   0% (13/121 wrk) eta:  ?s\n",
      "\n",
      "[-------------------------------------------------]   0% (14/121 wrk) eta:  ?s\n",
      "\n",
      "[-------------------------------------------------]   0% (15/121 wrk) eta:  ?s\n",
      "\n",
      "[-------------------------------------------------]   0% (16/121 wrk) eta:  ?s\n",
      "\n",
      "[-------------------------------------------------]   0% (17/121 wrk) eta:  ?s\n",
      "\n",
      "[-------------------------------------------------]   0% (18/121 wrk) eta:  ?s\n",
      "\n",
      "[-------------------------------------------------]   0% (19/121 wrk) eta:  ?s\n",
      "\n",
      "[-------------------------------------------------]   0% (20/121 wrk) eta:  ?s\n",
      "\n",
      "[-------------------------------------------------]   0% (21/121 wrk) eta:  ?s\n",
      "\n",
      "[-------------------------------------------------]   0% (22/121 wrk) eta:  ?s\n",
      "\n",
      "[-------------------------------------------------]   0% (23/121 wrk) eta:  ?s\n",
      "\n",
      "[-------------------------------------------------]   0% (24/121 wrk) eta:  ?s\n",
      "\n",
      "[-------------------------------------------------]   0% (25/121 wrk) eta:  ?s\n",
      "\n",
      "[-------------------------------------------------]   0% (26/121 wrk) eta:  ?s\n",
      "\n",
      "[-------------------------------------------------]   0% (27/121 wrk) eta:  ?s\n",
      "\n",
      "[-------------------------------------------------]   0% (28/121 wrk) eta:  ?s\n",
      "\n",
      "[-------------------------------------------------]   0% (29/121 wrk) eta:  ?s\n",
      "\n",
      "[-------------------------------------------------]   0% (30/121 wrk) eta:  ?s\n",
      "\n",
      "[-------------------------------------------------]   0% (31/121 wrk) eta:  ?s\n",
      "\n",
      "[-------------------------------------------------]   0% (32/121 wrk) eta:  ?s\n",
      "\n",
      "[-------------------------------------------------]   0% (33/121 wrk) eta:  ?s\n",
      "\n",
      "[-------------------------------------------------]   0% (34/121 wrk) eta:  ?s\n",
      "\n",
      "[-------------------------------------------------]   0% (35/121 wrk) eta:  ?s\n",
      "\n",
      "[-------------------------------------------------]   0% (36/121 wrk) eta:  ?s\n",
      "\n",
      "[-------------------------------------------------]   0% (37/121 wrk) eta:  ?s\n",
      "\n",
      "[-------------------------------------------------]   0% (38/121 wrk) eta:  ?s\n",
      "\n",
      "[-------------------------------------------------]   0% (39/121 wrk) eta:  ?s\n",
      "\n",
      "[-------------------------------------------------]   0% (40/121 wrk) eta:  ?s\n",
      "\n",
      "[-------------------------------------------------]   0% (41/121 wrk) eta:  ?s\n",
      "\n",
      "[-------------------------------------------------]   0% (42/121 wrk) eta:  ?s\n",
      "\n",
      "[-------------------------------------------------]   0% (43/121 wrk) eta:  ?s\n",
      "\n",
      "[-------------------------------------------------]   0% (44/121 wrk) eta:  ?s\n",
      "\n",
      "[-------------------------------------------------]   0% (45/121 wrk) eta:  ?s\n",
      "\n",
      "[-------------------------------------------------]   0% (46/121 wrk) eta:  ?s\n",
      "\n",
      "[-------------------------------------------------]   0% (47/121 wrk) eta:  ?s\n",
      "\n",
      "[-------------------------------------------------]   0% (48/121 wrk) eta:  ?s\n",
      "\n",
      "[-------------------------------------------------]   0% (49/121 wrk) eta:  ?s\n",
      "\n",
      "[-------------------------------------------------]   0% (50/121 wrk) eta:  ?s\n",
      "\n",
      "[-------------------------------------------------]   0% (51/121 wrk) eta:  ?s\n",
      "\n",
      "[-------------------------------------------------]   0% (52/121 wrk) eta:  ?s\n",
      "\n",
      "[-------------------------------------------------]   0% (53/121 wrk) eta:  ?s\n",
      "\n",
      "[-------------------------------------------------]   0% (54/121 wrk) eta:  ?s\n",
      "\n",
      "[-------------------------------------------------]   0% (55/121 wrk) eta:  ?s\n",
      "\n",
      "[-------------------------------------------------]   0% (56/121 wrk) eta:  ?s\n",
      "\n",
      "[-------------------------------------------------]   0% (57/121 wrk) eta:  ?s\n",
      "\n",
      "[-------------------------------------------------]   0% (58/121 wrk) eta:  ?s\n",
      "\n",
      "[-------------------------------------------------]   0% (59/121 wrk) eta:  ?s\n",
      "\n",
      "[-------------------------------------------------]   0% (60/121 wrk) eta:  ?s\n",
      "\n",
      "[-------------------------------------------------]   0% (61/121 wrk) eta:  ?s\n",
      "\n",
      "[-------------------------------------------------]   0% (62/121 wrk) eta:  ?s\n",
      "\n",
      "[-------------------------------------------------]   0% (63/121 wrk) eta:  ?s\n",
      "\n",
      "[-------------------------------------------------]   0% (64/121 wrk) eta:  ?s\n",
      "\n",
      "[-------------------------------------------------]   0% (65/121 wrk) eta:  ?s\n",
      "\n",
      "[-------------------------------------------------]   0% (66/121 wrk) eta:  ?s\n",
      "\n",
      "[-------------------------------------------------]   0% (67/121 wrk) eta:  ?s\n",
      "\n",
      "[-------------------------------------------------]   0% (68/121 wrk) eta:  ?s\n",
      "\n",
      "[-------------------------------------------------]   0% (69/121 wrk) eta:  ?s\n",
      "\n",
      "[-------------------------------------------------]   0% (70/121 wrk) eta:  ?s\n",
      "\n",
      "[-------------------------------------------------]   0% (71/121 wrk) eta:  ?s\n",
      "\n",
      "[-------------------------------------------------]   0% (72/121 wrk) eta:  ?s\n",
      "\n",
      "[-------------------------------------------------]   0% (73/121 wrk) eta:  ?s\n",
      "\n",
      "[-------------------------------------------------]   0% (74/121 wrk) eta:  ?s\n",
      "\n",
      "[-------------------------------------------------]   0% (75/121 wrk) eta:  ?s\n",
      "\n",
      "[-------------------------------------------------]   0% (76/121 wrk) eta:  ?s\n",
      "\n",
      "[-------------------------------------------------]   0% (77/121 wrk) eta:  ?s\n",
      "\n",
      "[-------------------------------------------------]   1% (77/121 wrk) eta:  2h\n",
      "\n",
      "[>------------------------------------------------]   2% (77/121 wrk) eta: 47m\n",
      "\n",
      "[>------------------------------------------------]   2% (77/121 wrk) eta: 32m\n",
      "\n",
      "[=>-----------------------------------------------]   3% (77/121 wrk) eta: 24m\n",
      "\n",
      "[=>-----------------------------------------------]   4% (77/121 wrk) eta: 19m\n",
      "\n",
      "[=>-----------------------------------------------]   5% (77/121 wrk) eta: 16m\n",
      "\n",
      "[==>----------------------------------------------]   6% (77/121 wrk) eta: 14m\n",
      "\n",
      "[==>----------------------------------------------]   7% (77/121 wrk) eta: 12m\n",
      "\n",
      "[===>---------------------------------------------]   7% (77/121 wrk) eta: 11m\n",
      "\n",
      "[===>---------------------------------------------]   8% (77/121 wrk) eta: 10m\n",
      "\n",
      "[===>---------------------------------------------]   9% (77/121 wrk) eta:  9m\n",
      "\n",
      "[====>--------------------------------------------]  10% (77/121 wrk) eta:  8m\n",
      "\n",
      "[====>--------------------------------------------]  11% (77/121 wrk) eta:  8m\n",
      "\n",
      "[=====>-------------------------------------------]  12% (77/121 wrk) eta:  7m\n",
      "\n",
      "[=====>-------------------------------------------]  13% (77/121 wrk) eta:  6m\n",
      "\n",
      "[======>------------------------------------------]  14% (77/121 wrk) eta:  6m\n",
      "\n",
      "[======>------------------------------------------]  15% (77/121 wrk) eta:  5m\n",
      "\n",
      "[=======>-----------------------------------------]  16% (77/121 wrk) eta:  5m\n",
      "\n",
      "[=======>-----------------------------------------]  17% (77/121 wrk) eta:  5m\n",
      "\n",
      "[========>----------------------------------------]  17% (77/121 wrk) eta:  4m\n",
      "\n",
      "[========>----------------------------------------]  18% (77/121 wrk) eta:  4m\n",
      "\n",
      "[========>----------------------------------------]  19% (77/121 wrk) eta:  4m\n",
      "\n",
      "[=========>---------------------------------------]  20% (77/121 wrk) eta:  4m\n"
     ]
    },
    {
     "name": "stderr",
     "output_type": "stream",
     "text": [
      "\n",
      "[=========>---------------------------------------]  21% (77/121 wrk) eta:  4m\n",
      "\n",
      "[==========>--------------------------------------]  21% (77/121 wrk) eta:  3m\n",
      "\n",
      "[==========>--------------------------------------]  22% (77/121 wrk) eta:  3m\n",
      "\n",
      "[==========>--------------------------------------]  23% (77/121 wrk) eta:  3m\n",
      "\n",
      "[===========>-------------------------------------]  24% (77/121 wrk) eta:  3m\n",
      "\n",
      "[===========>-------------------------------------]  25% (77/121 wrk) eta:  3m\n",
      "\n",
      "[============>------------------------------------]  26% (77/121 wrk) eta:  3m\n",
      "\n",
      "[============>------------------------------------]  27% (77/121 wrk) eta:  3m\n",
      "\n",
      "[=============>-----------------------------------]  28% (77/121 wrk) eta:  2m\n",
      "\n",
      "[=============>-----------------------------------]  29% (77/121 wrk) eta:  2m\n",
      "\n",
      "[==============>----------------------------------]  30% (77/121 wrk) eta:  2m\n",
      "\n",
      "[==============>----------------------------------]  31% (77/121 wrk) eta:  2m\n",
      "\n",
      "[===============>---------------------------------]  32% (77/121 wrk) eta:  2m\n",
      "\n",
      "[===============>---------------------------------]  33% (77/121 wrk) eta:  2m\n",
      "\n",
      "[================>--------------------------------]  34% (77/121 wrk) eta:  2m\n",
      "\n",
      "[================>--------------------------------]  35% (77/121 wrk) eta:  2m\n",
      "\n",
      "[================>--------------------------------]  36% (77/121 wrk) eta:  2m\n",
      "\n",
      "[=================>-------------------------------]  36% (77/121 wrk) eta:  2m\n",
      "\n",
      "[=================>-------------------------------]  37% (77/121 wrk) eta:  2m\n",
      "\n",
      "[==================>------------------------------]  38% (77/121 wrk) eta:  2m\n",
      "\n",
      "[==================>------------------------------]  39% (77/121 wrk) eta:  2m\n",
      "\n",
      "[==================>------------------------------]  40% (77/121 wrk) eta:  2m\n",
      "\n",
      "[===================>-----------------------------]  40% (77/121 wrk) eta:  1m\n",
      "\n",
      "[===================>-----------------------------]  41% (76/120 wrk) eta:  1m\n",
      "\n",
      "[====================>----------------------------]  42% (76/120 wrk) eta:  1m\n",
      "\n",
      "[====================>----------------------------]  43% (76/120 wrk) eta:  1m\n",
      "\n",
      "[====================>----------------------------]  44% (76/120 wrk) eta:  1m\n",
      "\n",
      "[=====================>---------------------------]  45% (69/113 wrk) eta:  1m\n",
      "\n",
      "[=====================>---------------------------]  45% (68/112 wrk) eta:  1m\n",
      "\n",
      "[======================>--------------------------]  46% (67/111 wrk) eta:  1m\n",
      "\n",
      "[======================>--------------------------]  47% (67/111 wrk) eta:  1m\n",
      "\n",
      "[======================>--------------------------]  48% (67/111 wrk) eta:  1m\n",
      "\n",
      "[=======================>-------------------------]  49% (64/108 wrk) eta:  1m\n",
      "\n",
      "[=======================>-------------------------]  50% (64/108 wrk) eta:  1m\n",
      "\n",
      "[========================>------------------------]  50% (64/108 wrk) eta:  1m\n",
      "\n",
      "[========================>------------------------]  51% (63/107 wrk) eta:  1m\n",
      "\n",
      "[=========================>-----------------------]  52% (63/107 wrk) eta:  1m\n",
      "\n",
      "[=========================>-----------------------]  53% (63/107 wrk) eta:  1m\n",
      "\n",
      "[=========================>-----------------------]  54% (61/105 wrk) eta:  1m\n",
      "\n",
      "[==========================>----------------------]  55% (61/105 wrk) eta:  1m\n",
      "\n",
      "[==========================>----------------------]  55% (60/104 wrk) eta: 50s\n",
      "\n",
      "[===========================>---------------------]  56% (56/100 wrk) eta: 48s\n",
      "\n",
      "[============================>---------------------]  57% (54/98 wrk) eta: 47s\n",
      "\n",
      "[============================>---------------------]  58% (52/96 wrk) eta: 45s\n",
      "\n",
      "[============================>---------------------]  59% (51/95 wrk) eta: 44s\n",
      "\n",
      "[=============================>--------------------]  60% (51/95 wrk) eta: 43s\n",
      "\n",
      "[=============================>--------------------]  60% (49/93 wrk) eta: 44s\n",
      "\n",
      "[==============================>-------------------]  61% (48/92 wrk) eta: 43s\n",
      "\n",
      "[==============================>-------------------]  62% (48/92 wrk) eta: 42s\n",
      "\n",
      "[==============================>-------------------]  63% (46/90 wrk) eta: 41s\n",
      "\n",
      "[===============================>------------------]  64% (45/89 wrk) eta: 39s\n",
      "\n",
      "[===============================>------------------]  64% (44/88 wrk) eta: 38s\n",
      "\n",
      "[================================>-----------------]  65% (43/87 wrk) eta: 38s\n",
      "\n",
      "[================================>-----------------]  66% (42/86 wrk) eta: 36s\n",
      "\n",
      "[================================>-----------------]  67% (41/85 wrk) eta: 36s\n",
      "\n",
      "[=================================>----------------]  68% (40/84 wrk) eta: 34s\n",
      "\n",
      "[=================================>----------------]  69% (39/83 wrk) eta: 33s\n",
      "\n",
      "[==================================>---------------]  69% (38/82 wrk) eta: 32s\n",
      "\n",
      "[==================================>---------------]  70% (38/82 wrk) eta: 31s\n",
      "\n",
      "[===================================>--------------]  71% (36/80 wrk) eta: 31s\n",
      "\n",
      "[===================================>--------------]  72% (35/79 wrk) eta: 30s\n",
      "\n",
      "[===================================>--------------]  73% (34/78 wrk) eta: 30s\n",
      "\n",
      "[====================================>-------------]  74% (33/77 wrk) eta: 29s\n",
      "\n",
      "[====================================>-------------]  74% (32/76 wrk) eta: 28s\n",
      "\n",
      "[=====================================>------------]  75% (31/75 wrk) eta: 27s\n",
      "\n",
      "[=====================================>------------]  76% (31/75 wrk) eta: 26s\n",
      "\n",
      "[=====================================>------------]  76% (30/73 wrk) eta: 26s\n",
      "\n",
      "[=====================================>------------]  77% (30/73 wrk) eta: 25s\n",
      "\n",
      "[=====================================>------------]  77% (31/73 wrk) eta: 25s\n",
      "\n",
      "[=====================================>------------]  77% (31/72 wrk) eta: 25s\n",
      "\n",
      "[======================================>-----------]  78% (31/72 wrk) eta: 24s\n",
      "\n",
      "[======================================>-----------]  78% (32/72 wrk) eta: 24s\n",
      "\n",
      "[======================================>-----------]  78% (32/71 wrk) eta: 24s\n",
      "\n",
      "[======================================>-----------]  79% (32/71 wrk) eta: 23s\n",
      "\n",
      "[======================================>-----------]  79% (32/70 wrk) eta: 23s\n",
      "\n",
      "[=======================================>----------]  79% (32/70 wrk) eta: 22s\n",
      "\n",
      "[=======================================>----------]  79% (33/70 wrk) eta: 22s\n",
      "\n",
      "[=======================================>----------]  79% (34/70 wrk) eta: 22s\n",
      "\n",
      "[=======================================>----------]  79% (35/70 wrk) eta: 22s\n",
      "\n",
      "[=======================================>----------]  79% (36/70 wrk) eta: 22s\n",
      "\n",
      "[=======================================>----------]  80% (36/70 wrk) eta: 21s\n",
      "\n",
      "[=======================================>----------]  81% (34/68 wrk) eta: 20s\n",
      "\n",
      "[========================================>---------]  82% (34/68 wrk) eta: 19s\n",
      "\n",
      "[========================================>---------]  83% (34/68 wrk) eta: 18s\n",
      "\n",
      "[========================================>---------]  83% (33/66 wrk) eta: 18s\n",
      "\n",
      "[=========================================>--------]  83% (31/64 wrk) eta: 17s\n",
      "\n",
      "[=========================================>--------]  84% (31/64 wrk) eta: 16s\n",
      "\n",
      "[=========================================>--------]  84% (32/64 wrk) eta: 16s\n",
      "\n",
      "[=========================================>--------]  84% (32/63 wrk) eta: 16s\n",
      "\n",
      "[==========================================>-------]  85% (32/63 wrk) eta: 15s\n",
      "\n",
      "[==========================================>-------]  85% (32/62 wrk) eta: 15s\n",
      "\n",
      "[==========================================>-------]  86% (32/62 wrk) eta: 14s\n",
      "\n",
      "[==========================================>-------]  87% (31/61 wrk) eta: 13s\n",
      "\n",
      "[===========================================>------]  88% (28/58 wrk) eta: 12s\n",
      "\n",
      "[===========================================>------]  88% (28/58 wrk) eta: 11s\n",
      "\n",
      "[============================================>-----]  89% (25/55 wrk) eta: 10s\n",
      "\n",
      "[============================================>-----]  90% (25/55 wrk) eta: 10s\n",
      "\n",
      "[============================================>-----]  91% (21/51 wrk) eta:  9s\n",
      "\n",
      "[============================================>-----]  91% (21/50 wrk) eta:  9s\n",
      "\n",
      "[============================================>-----]  91% (20/49 wrk) eta:  9s\n",
      "\n",
      "[============================================>-----]  91% (19/48 wrk) eta:  9s\n",
      "\n",
      "[============================================>-----]  91% (20/48 wrk) eta:  9s\n",
      "\n",
      "[============================================>-----]  91% (21/48 wrk) eta:  9s\n"
     ]
    },
    {
     "name": "stderr",
     "output_type": "stream",
     "text": [
      "\n",
      "[============================================>-----]  91% (21/47 wrk) eta:  9s\n",
      "\n",
      "[============================================>-----]  91% (22/47 wrk) eta:  9s\n",
      "\n",
      "[=============================================>----]  92% (22/47 wrk) eta:  8s\n",
      "\n",
      "[=============================================>----]  93% (21/46 wrk) eta:  7s\n",
      "\n",
      "[=============================================>----]  93% (21/45 wrk) eta:  7s\n",
      "\n",
      "[=============================================>----]  93% (21/44 wrk) eta:  7s\n",
      "\n",
      "[=============================================>----]  93% (22/44 wrk) eta:  7s\n",
      "\n",
      "[=============================================>----]  93% (23/44 wrk) eta:  7s\n",
      "\n",
      "[=============================================>----]  93% (23/43 wrk) eta:  7s\n",
      "\n",
      "[=============================================>----]  93% (24/43 wrk) eta:  7s\n",
      "\n",
      "[==============================================>---]  93% (23/42 wrk) eta:  6s\n",
      "\n",
      "[==============================================>---]  94% (23/42 wrk) eta:  5s\n",
      "\n",
      "[==============================================>---]  94% (24/42 wrk) eta:  5s\n",
      "\n",
      "[==============================================>---]  94% (24/41 wrk) eta:  5s\n",
      "\n",
      "[==============================================>---]  94% (25/41 wrk) eta:  5s\n",
      "\n",
      "[==============================================>---]  94% (26/41 wrk) eta:  5s\n",
      "\n",
      "[==============================================>---]  94% (27/41 wrk) eta:  5s\n",
      "\n",
      "[==============================================>---]  94% (28/41 wrk) eta:  5s\n",
      "\n",
      "[===============================================>--]  95% (28/41 wrk) eta:  5s\n",
      "\n",
      "[===============================================>--]  95% (29/41 wrk) eta:  5s\n",
      "\n",
      "[===============================================>--]  96% (26/38 wrk) eta:  4s\n",
      "\n",
      "[===============================================>--]  97% (26/38 wrk) eta:  3s\n",
      "\n",
      "[===============================================>--]  97% (27/38 wrk) eta:  3s\n",
      "\n",
      "[================================================>-]  98% (27/38 wrk) eta:  2s\n",
      "\n",
      "[================================================>-]  98% (28/38 wrk) eta:  2s\n",
      "\n",
      "[================================================>-]  98% (29/38 wrk) eta:  2s\n",
      "\n",
      "[================================================>-]  98% (30/38 wrk) eta:  2s\n",
      "\n",
      "[================================================>-]  98% (29/37 wrk) eta:  1s\n",
      "\n",
      "[================================================>-]  98% (28/35 wrk) eta:  1s\n",
      "\n",
      "[=================================================>]  99% (25/32 wrk) eta:  1s\n",
      "\n",
      "[=================================================>]  99% (23/30 wrk) eta:  1s\n",
      "\n",
      "[=================================================>]  99% (22/29 wrk) eta:  1s\n",
      "\n",
      "[=================================================>]  99% (19/26 wrk) eta:  1s\n",
      "\n",
      "[=================================================>]  99% (18/25 wrk) eta:  1s\n",
      "\n",
      "[=================================================>]  99% (15/22 wrk) eta:  1s\n",
      "\n",
      "[=================================================>]  99% (14/21 wrk) eta:  1s\n",
      "\n",
      "[==================================================] 100% (14/21 wrk) eta:  0s\n",
      "                                                                              \n",
      "\n",
      "Master: [92.8s 9.5% CPU]; Worker: [avg 99.2% CPU, max 508.9 Mb]\n",
      "\n"
     ]
    }
   ],
   "source": [
    "res <- Q(gammaTuning\n",
    "  , params = params\n",
    "  , const = list('data'= X, 'meta' = mnames, 'target' = target, 'trainIx' = trainIx\n",
    "                 , 'families' = families,'genera' = genera, 'species' = species, ntree = 500\n",
    "                 )\n",
    "  , export = list('wf' = wf)\n",
    "  , n_jobs= length(params)\n",
    "  , pkgs=c('caret', 'randomForest', 'dplyr', 'RRF')\n",
    "  , log_worker=FALSE\n",
    "  , template = tmpl\n",
    " )"
   ]
  },
  {
   "cell_type": "code",
   "execution_count": 3,
   "metadata": {
    "ExecuteTime": {
     "end_time": "2021-11-24T14:39:55.301187Z",
     "start_time": "2021-11-24T14:39:25.365Z"
    },
    "deletable": false,
    "editable": false,
    "run_control": {
     "frozen": true
    }
   },
   "outputs": [],
   "source": [
    "saveRDS(res, '../tmp/ta-gRRF.RDS')"
   ]
  },
  {
   "cell_type": "markdown",
   "metadata": {},
   "source": [
    "## Results"
   ]
  },
  {
   "cell_type": "code",
   "execution_count": 20,
   "metadata": {
    "ExecuteTime": {
     "end_time": "2021-12-03T14:57:48.050865Z",
     "start_time": "2021-12-03T14:57:39.664Z"
    },
    "deletable": false,
    "editable": false,
    "run_control": {
     "frozen": true
    }
   },
   "outputs": [],
   "source": [
    "res <- readRDS('../tmp/ta-gRRF.RDS')"
   ]
  },
  {
   "cell_type": "code",
   "execution_count": 21,
   "metadata": {
    "ExecuteTime": {
     "end_time": "2021-12-03T14:57:48.126151Z",
     "start_time": "2021-12-03T14:57:40.322Z"
    },
    "deletable": false,
    "editable": false,
    "run_control": {
     "frozen": true
    }
   },
   "outputs": [],
   "source": [
    "all <- list()\n",
    "for (i in 1:length(res)){\n",
    "    all[[i]] <- as.data.frame(do.call(rbind, lapply(res[[i]], function(x) x$rf_performance)))\n",
    "    all[[i]]$nconf <- sapply(res[[i]], function(x)length(x$confirmed))\n",
    "    all[[i]]$gamma <- params[[i]]['gamma'] \n",
    "    all[[i]]$k <- params[[i]]['k']        \n",
    "}"
   ]
  },
  {
   "cell_type": "code",
   "execution_count": 22,
   "metadata": {
    "ExecuteTime": {
     "end_time": "2021-12-03T14:57:48.159750Z",
     "start_time": "2021-12-03T14:57:40.805Z"
    },
    "deletable": false,
    "editable": false,
    "run_control": {
     "frozen": true
    }
   },
   "outputs": [],
   "source": [
    "all <- do.call(rbind, all)"
   ]
  },
  {
   "cell_type": "code",
   "execution_count": 23,
   "metadata": {
    "ExecuteTime": {
     "end_time": "2021-12-03T14:57:48.253363Z",
     "start_time": "2021-12-03T14:57:42.212Z"
    },
    "deletable": false,
    "editable": false,
    "run_control": {
     "frozen": true
    },
    "scrolled": true
   },
   "outputs": [
    {
     "data": {
      "text/html": [
       "<table class=\"dataframe\">\n",
       "<caption>A grouped_df: 3 × 5</caption>\n",
       "<thead>\n",
       "\t<tr><th scope=col>Accuracy</th><th scope=col>Kappa</th><th scope=col>k</th><th scope=col>gamma</th><th scope=col>nconf</th></tr>\n",
       "\t<tr><th scope=col>&lt;dbl&gt;</th><th scope=col>&lt;dbl&gt;</th><th scope=col>&lt;dbl&gt;</th><th scope=col>&lt;dbl&gt;</th><th scope=col>&lt;dbl&gt;</th></tr>\n",
       "</thead>\n",
       "<tbody>\n",
       "\t<tr><td>0.8657895</td><td>0.7322431</td><td>1.0</td><td>0.9</td><td>68.7</td></tr>\n",
       "\t<tr><td>0.8657895</td><td>0.7322056</td><td>0.0</td><td>0.1</td><td>33.8</td></tr>\n",
       "\t<tr><td>0.8631579</td><td>0.7270019</td><td>0.6</td><td>0.1</td><td>37.2</td></tr>\n",
       "</tbody>\n",
       "</table>\n"
      ],
      "text/latex": [
       "A grouped\\_df: 3 × 5\n",
       "\\begin{tabular}{lllll}\n",
       " Accuracy & Kappa & k & gamma & nconf\\\\\n",
       " <dbl> & <dbl> & <dbl> & <dbl> & <dbl>\\\\\n",
       "\\hline\n",
       "\t 0.8657895 & 0.7322431 & 1.0 & 0.9 & 68.7\\\\\n",
       "\t 0.8657895 & 0.7322056 & 0.0 & 0.1 & 33.8\\\\\n",
       "\t 0.8631579 & 0.7270019 & 0.6 & 0.1 & 37.2\\\\\n",
       "\\end{tabular}\n"
      ],
      "text/markdown": [
       "\n",
       "A grouped_df: 3 × 5\n",
       "\n",
       "| Accuracy &lt;dbl&gt; | Kappa &lt;dbl&gt; | k &lt;dbl&gt; | gamma &lt;dbl&gt; | nconf &lt;dbl&gt; |\n",
       "|---|---|---|---|---|\n",
       "| 0.8657895 | 0.7322431 | 1.0 | 0.9 | 68.7 |\n",
       "| 0.8657895 | 0.7322056 | 0.0 | 0.1 | 33.8 |\n",
       "| 0.8631579 | 0.7270019 | 0.6 | 0.1 | 37.2 |\n",
       "\n"
      ],
      "text/plain": [
       "  Accuracy  Kappa     k   gamma nconf\n",
       "1 0.8657895 0.7322431 1.0 0.9   68.7 \n",
       "2 0.8657895 0.7322056 0.0 0.1   33.8 \n",
       "3 0.8631579 0.7270019 0.6 0.1   37.2 "
      ]
     },
     "metadata": {},
     "output_type": "display_data"
    }
   ],
   "source": [
    "all %>% group_by(gamma, k) %>%\n",
    "summarise_all(mean) %>%\n",
    "arrange(-Kappa) %>% \n",
    "head(3)%>% \n",
    "select(Accuracy, Kappa, k, gamma, nconf)"
   ]
  },
  {
   "cell_type": "code",
   "execution_count": 24,
   "metadata": {
    "ExecuteTime": {
     "end_time": "2021-12-03T14:57:48.315681Z",
     "start_time": "2021-12-03T14:57:42.466Z"
    },
    "deletable": false,
    "editable": false,
    "run_control": {
     "frozen": true
    }
   },
   "outputs": [
    {
     "data": {
      "text/html": [
       "<table class=\"dataframe\">\n",
       "<caption>A grouped_df: 1 × 5</caption>\n",
       "<thead>\n",
       "\t<tr><th scope=col>Accuracy</th><th scope=col>Kappa</th><th scope=col>k</th><th scope=col>gamma</th><th scope=col>nconf</th></tr>\n",
       "\t<tr><th scope=col>&lt;dbl&gt;</th><th scope=col>&lt;dbl&gt;</th><th scope=col>&lt;dbl&gt;</th><th scope=col>&lt;dbl&gt;</th><th scope=col>&lt;dbl&gt;</th></tr>\n",
       "</thead>\n",
       "<tbody>\n",
       "\t<tr><td>0.0381352</td><td>0.07550325</td><td>1</td><td>0.9</td><td>10.65677</td></tr>\n",
       "</tbody>\n",
       "</table>\n"
      ],
      "text/latex": [
       "A grouped\\_df: 1 × 5\n",
       "\\begin{tabular}{lllll}\n",
       " Accuracy & Kappa & k & gamma & nconf\\\\\n",
       " <dbl> & <dbl> & <dbl> & <dbl> & <dbl>\\\\\n",
       "\\hline\n",
       "\t 0.0381352 & 0.07550325 & 1 & 0.9 & 10.65677\\\\\n",
       "\\end{tabular}\n"
      ],
      "text/markdown": [
       "\n",
       "A grouped_df: 1 × 5\n",
       "\n",
       "| Accuracy &lt;dbl&gt; | Kappa &lt;dbl&gt; | k &lt;dbl&gt; | gamma &lt;dbl&gt; | nconf &lt;dbl&gt; |\n",
       "|---|---|---|---|---|\n",
       "| 0.0381352 | 0.07550325 | 1 | 0.9 | 10.65677 |\n",
       "\n"
      ],
      "text/plain": [
       "  Accuracy  Kappa      k gamma nconf   \n",
       "1 0.0381352 0.07550325 1 0.9   10.65677"
      ]
     },
     "metadata": {},
     "output_type": "display_data"
    }
   ],
   "source": [
    "all %>% group_by(gamma, k) %>%\n",
    "summarise_all(sd) %>%\n",
    "subset(k == 1 & gamma == 0.9) %>% \n",
    "\n",
    "select(Accuracy, Kappa, k, gamma, nconf)"
   ]
  },
  {
   "cell_type": "markdown",
   "metadata": {
    "deletable": false,
    "editable": false,
    "run_control": {
     "frozen": true
    }
   },
   "source": [
    "# Final"
   ]
  },
  {
   "cell_type": "code",
   "execution_count": 28,
   "metadata": {
    "ExecuteTime": {
     "end_time": "2021-11-19T10:46:55.071327Z",
     "start_time": "2021-11-19T10:46:50.009Z"
    },
    "deletable": false,
    "editable": false,
    "run_control": {
     "frozen": true
    }
   },
   "outputs": [
    {
     "name": "stderr",
     "output_type": "stream",
     "text": [
      "Feature selection\n",
      "\n",
      "Subset data\n",
      "\n",
      "RF\n",
      "\n"
     ]
    }
   ],
   "source": [
    "rf_final <- wf(ix = 1:nrow(X), data = X, meta = mnames, target = target\n",
    "                 , families = families,genera = genera, species = species, ntree = 500\n",
    "              , gamma=0.9, k = 1)"
   ]
  },
  {
   "cell_type": "code",
   "execution_count": 29,
   "metadata": {
    "ExecuteTime": {
     "end_time": "2021-11-19T10:46:55.092304Z",
     "start_time": "2021-11-19T10:46:52.063Z"
    },
    "deletable": false,
    "editable": false,
    "run_control": {
     "frozen": true
    }
   },
   "outputs": [
    {
     "data": {
      "text/plain": [
       "          Length Class        Mode     \n",
       "confirmed 85     -none-       character\n",
       "rf_model  18     randomForest list     "
      ]
     },
     "metadata": {},
     "output_type": "display_data"
    }
   ],
   "source": [
    "rf_final %>% summary"
   ]
  },
  {
   "cell_type": "code",
   "execution_count": 30,
   "metadata": {
    "ExecuteTime": {
     "end_time": "2021-11-19T10:47:15.296823Z",
     "start_time": "2021-11-19T10:47:14.335Z"
    },
    "deletable": false,
    "editable": false,
    "run_control": {
     "frozen": true
    }
   },
   "outputs": [],
   "source": [
    "qsave(rf_final, '../tmp/ta-gRRF_final.qs')"
   ]
  },
  {
   "cell_type": "code",
   "execution_count": 20,
   "metadata": {
    "ExecuteTime": {
     "end_time": "2021-12-12T09:02:35.046887Z",
     "start_time": "2021-12-12T09:02:25.630Z"
    }
   },
   "outputs": [],
   "source": [
    "rf_final <- qread('../tmp/ta-gRRF_final.qs')"
   ]
  },
  {
   "cell_type": "code",
   "execution_count": 21,
   "metadata": {
    "ExecuteTime": {
     "end_time": "2021-12-12T09:02:35.084562Z",
     "start_time": "2021-12-12T09:02:25.633Z"
    }
   },
   "outputs": [
    {
     "data": {
      "text/plain": [
       "\n",
       "Call:\n",
       " randomForest(x = X_fs[ix, ], y = target[ix], ntree = ntree) \n",
       "               Type of random forest: classification\n",
       "                     Number of trees: 500\n",
       "No. of variables tried at each split: 9\n",
       "\n",
       "        OOB estimate of  error rate: 9.23%\n",
       "Confusion matrix:\n",
       "          Cirrhosis Healthy class.error\n",
       "Cirrhosis        60       8  0.11764706\n",
       "Healthy           4      58  0.06451613"
      ]
     },
     "metadata": {},
     "output_type": "display_data"
    }
   ],
   "source": [
    "rf_final$rf_model #%>% summary"
   ]
  },
  {
   "cell_type": "code",
   "execution_count": 22,
   "metadata": {
    "ExecuteTime": {
     "end_time": "2021-12-12T09:02:35.115678Z",
     "start_time": "2021-12-12T09:02:25.635Z"
    }
   },
   "outputs": [
    {
     "name": "stdout",
     "output_type": "stream",
     "text": [
      "RF accuracy =  90.64"
     ]
    }
   ],
   "source": [
    "cat('RF accuracy = ', 100*round((rf_final$rf_model$confusion[1,1] + rf_final$rf_model$confusion[2,2])/sum(rf_final$rf_model$confusion), digits = 4))"
   ]
  },
  {
   "cell_type": "code",
   "execution_count": 23,
   "metadata": {
    "ExecuteTime": {
     "end_time": "2021-12-12T09:02:35.164281Z",
     "start_time": "2021-12-12T09:02:25.637Z"
    }
   },
   "outputs": [],
   "source": [
    "gini <- data.frame(MeanDecreaseGini = rf_final$rf_model$importance[,1]\n",
    "                   , Feature = names(rf_final$rf_model$importance[,1])) %>% arrange(-MeanDecreaseGini)\n",
    "rownames(gini) <- NULL\n",
    "gini$Feature <- factor(gini$Feature, levels = gini$Feature[order(-gini$MeanDecreaseGini)])"
   ]
  },
  {
   "cell_type": "code",
   "execution_count": 24,
   "metadata": {
    "ExecuteTime": {
     "end_time": "2021-12-12T09:02:35.201588Z",
     "start_time": "2021-12-12T09:02:25.640Z"
    }
   },
   "outputs": [
    {
     "data": {
      "text/html": [
       "<table class=\"dataframe\">\n",
       "<caption>A data.frame: 6 × 2</caption>\n",
       "<thead>\n",
       "\t<tr><th></th><th scope=col>MeanDecreaseGini</th><th scope=col>Feature</th></tr>\n",
       "\t<tr><th></th><th scope=col>&lt;dbl&gt;</th><th scope=col>&lt;fct&gt;</th></tr>\n",
       "</thead>\n",
       "<tbody>\n",
       "\t<tr><th scope=row>1</th><td>6.637459</td><td>s_Megasphaera_micronuciformis</td></tr>\n",
       "\t<tr><th scope=row>2</th><td>4.184697</td><td>f_Veillonellaceae            </td></tr>\n",
       "\t<tr><th scope=row>3</th><td>3.642787</td><td>s_Veillonella_parvula        </td></tr>\n",
       "\t<tr><th scope=row>4</th><td>2.768751</td><td>g_Leptotrichia               </td></tr>\n",
       "\t<tr><th scope=row>5</th><td>2.588696</td><td>g_Streptococcus              </td></tr>\n",
       "\t<tr><th scope=row>6</th><td>2.439022</td><td>f_Eggerthellaceae            </td></tr>\n",
       "</tbody>\n",
       "</table>\n"
      ],
      "text/latex": [
       "A data.frame: 6 × 2\n",
       "\\begin{tabular}{r|ll}\n",
       "  & MeanDecreaseGini & Feature\\\\\n",
       "  & <dbl> & <fct>\\\\\n",
       "\\hline\n",
       "\t1 & 6.637459 & s\\_Megasphaera\\_micronuciformis\\\\\n",
       "\t2 & 4.184697 & f\\_Veillonellaceae            \\\\\n",
       "\t3 & 3.642787 & s\\_Veillonella\\_parvula        \\\\\n",
       "\t4 & 2.768751 & g\\_Leptotrichia               \\\\\n",
       "\t5 & 2.588696 & g\\_Streptococcus              \\\\\n",
       "\t6 & 2.439022 & f\\_Eggerthellaceae            \\\\\n",
       "\\end{tabular}\n"
      ],
      "text/markdown": [
       "\n",
       "A data.frame: 6 × 2\n",
       "\n",
       "| <!--/--> | MeanDecreaseGini &lt;dbl&gt; | Feature &lt;fct&gt; |\n",
       "|---|---|---|\n",
       "| 1 | 6.637459 | s_Megasphaera_micronuciformis |\n",
       "| 2 | 4.184697 | f_Veillonellaceae             |\n",
       "| 3 | 3.642787 | s_Veillonella_parvula         |\n",
       "| 4 | 2.768751 | g_Leptotrichia                |\n",
       "| 5 | 2.588696 | g_Streptococcus               |\n",
       "| 6 | 2.439022 | f_Eggerthellaceae             |\n",
       "\n"
      ],
      "text/plain": [
       "  MeanDecreaseGini Feature                      \n",
       "1 6.637459         s_Megasphaera_micronuciformis\n",
       "2 4.184697         f_Veillonellaceae            \n",
       "3 3.642787         s_Veillonella_parvula        \n",
       "4 2.768751         g_Leptotrichia               \n",
       "5 2.588696         g_Streptococcus              \n",
       "6 2.439022         f_Eggerthellaceae            "
      ]
     },
     "metadata": {},
     "output_type": "display_data"
    }
   ],
   "source": [
    "gini %>% head"
   ]
  },
  {
   "cell_type": "code",
   "execution_count": 25,
   "metadata": {
    "ExecuteTime": {
     "end_time": "2021-12-12T09:02:35.255511Z",
     "start_time": "2021-12-12T09:02:25.642Z"
    }
   },
   "outputs": [],
   "source": [
    "X_fs <- X %>% select(unique(c(mnames, rf_final$confirmed)))"
   ]
  },
  {
   "cell_type": "code",
   "execution_count": 26,
   "metadata": {
    "ExecuteTime": {
     "end_time": "2021-12-12T09:02:35.289817Z",
     "start_time": "2021-12-12T09:02:25.645Z"
    }
   },
   "outputs": [
    {
     "data": {
      "text/html": [
       "<style>\n",
       ".list-inline {list-style: none; margin:0; padding: 0}\n",
       ".list-inline>li {display: inline-block}\n",
       ".list-inline>li:not(:last-child)::after {content: \"\\00b7\"; padding: 0 .5ex}\n",
       "</style>\n",
       "<ol class=list-inline><li>130</li><li>85</li></ol>\n"
      ],
      "text/latex": [
       "\\begin{enumerate*}\n",
       "\\item 130\n",
       "\\item 85\n",
       "\\end{enumerate*}\n"
      ],
      "text/markdown": [
       "1. 130\n",
       "2. 85\n",
       "\n",
       "\n"
      ],
      "text/plain": [
       "[1] 130  85"
      ]
     },
     "metadata": {},
     "output_type": "display_data"
    }
   ],
   "source": [
    "X_fs %>% dim"
   ]
  },
  {
   "cell_type": "markdown",
   "metadata": {
    "deletable": false,
    "editable": false,
    "run_control": {
     "frozen": true
    }
   },
   "source": [
    "# endoR"
   ]
  },
  {
   "cell_type": "code",
   "execution_count": 27,
   "metadata": {
    "ExecuteTime": {
     "end_time": "2021-12-12T09:02:35.320300Z",
     "start_time": "2021-12-12T09:02:25.649Z"
    }
   },
   "outputs": [],
   "source": [
    "colnames(X_fs) <- compatibleNames(colnames(X_fs)) "
   ]
  },
  {
   "cell_type": "code",
   "execution_count": 29,
   "metadata": {
    "ExecuteTime": {
     "end_time": "2021-12-11T09:54:05.699544Z",
     "start_time": "2021-12-11T09:53:35.725Z"
    },
    "deletable": false,
    "editable": false,
    "run_control": {
     "frozen": true
    }
   },
   "outputs": [
    {
     "name": "stderr",
     "output_type": "stream",
     "text": [
      "Extract rules...\n",
      "\n",
      "Discretise data\n",
      "\n",
      "Discretise rules\n",
      "\n"
     ]
    }
   ],
   "source": [
    "preclu <- preCluster(model = rf_final$rf_model\n",
    "                , model_type = 'rf'\n",
    "                , discretize = TRUE, K = 3\n",
    "                , times = 100, p = .75, ntree = 'all'\n",
    "                , data = X_fs, target = target\n",
    "                , seed = 1\n",
    "                , in_parallel = TRUE, n_cores = 5)"
   ]
  },
  {
   "cell_type": "code",
   "execution_count": 28,
   "metadata": {
    "ExecuteTime": {
     "end_time": "2021-12-12T09:02:35.347633Z",
     "start_time": "2021-12-12T09:02:25.653Z"
    }
   },
   "outputs": [
    {
     "data": {
      "text/plain": [
       "target\n",
       "Cirrhosis   Healthy \n",
       "       68        62 "
      ]
     },
     "metadata": {},
     "output_type": "display_data"
    }
   ],
   "source": [
    "table(target)"
   ]
  },
  {
   "cell_type": "code",
   "execution_count": 33,
   "metadata": {
    "ExecuteTime": {
     "end_time": "2021-12-03T15:57:15.550383Z",
     "start_time": "2021-12-03T15:57:15.469Z"
    },
    "deletable": false,
    "editable": false,
    "run_control": {
     "frozen": true
    }
   },
   "outputs": [],
   "source": [
    "qsave(preclu, '../tmp/ta-gRRF_preclu.qs')"
   ]
  },
  {
   "cell_type": "code",
   "execution_count": 29,
   "metadata": {
    "ExecuteTime": {
     "end_time": "2021-12-12T09:02:35.506472Z",
     "start_time": "2021-12-12T09:02:25.657Z"
    }
   },
   "outputs": [],
   "source": [
    "preclu <- qread('../tmp/ta-gRRF_preclu.qs')"
   ]
  },
  {
   "cell_type": "code",
   "execution_count": 30,
   "metadata": {
    "ExecuteTime": {
     "end_time": "2021-12-12T09:02:35.526464Z",
     "start_time": "2021-12-12T09:02:25.660Z"
    }
   },
   "outputs": [],
   "source": [
    "tmpl <- list(conda = \"r-ml\", cores = 10, job_time = '00:59:00', job_mem = '2G')"
   ]
  },
  {
   "cell_type": "code",
   "execution_count": 37,
   "metadata": {
    "ExecuteTime": {
     "end_time": "2021-12-03T15:58:47.812174Z",
     "start_time": "2021-12-03T15:58:10.217Z"
    },
    "deletable": false,
    "editable": false,
    "run_control": {
     "frozen": true
    },
    "scrolled": true
   },
   "outputs": [
    {
     "name": "stderr",
     "output_type": "stream",
     "text": [
      "Submitting 100 worker jobs (ID: cmq7785) ...\n",
      "\n",
      "Running 100 calculations (10 objs/0.9 Mb common; 1 calls/chunk) ...\n",
      "\n",
      "\n",
      "[--------------------------------------------------]   0% (1/100 wrk) eta:  ?s\n",
      "\n",
      "[--------------------------------------------------]   0% (2/100 wrk) eta:  ?s\n",
      "\n",
      "[--------------------------------------------------]   0% (3/100 wrk) eta:  ?s\n",
      "\n",
      "[--------------------------------------------------]   0% (4/100 wrk) eta:  ?s\n",
      "\n",
      "[--------------------------------------------------]   0% (5/100 wrk) eta:  ?s\n",
      "\n",
      "[--------------------------------------------------]   0% (6/100 wrk) eta:  ?s\n",
      "\n",
      "[--------------------------------------------------]   0% (7/100 wrk) eta:  ?s\n",
      "\n",
      "[--------------------------------------------------]   0% (8/100 wrk) eta:  ?s\n",
      "\n",
      "[--------------------------------------------------]   0% (9/100 wrk) eta:  ?s\n",
      "\n",
      "[-------------------------------------------------]   0% (10/100 wrk) eta:  ?s\n",
      "\n",
      "[-------------------------------------------------]   0% (11/100 wrk) eta:  ?s\n",
      "\n",
      "[-------------------------------------------------]   0% (12/100 wrk) eta:  ?s\n",
      "\n",
      "[-------------------------------------------------]   0% (13/100 wrk) eta:  ?s\n",
      "\n",
      "[-------------------------------------------------]   0% (14/100 wrk) eta:  ?s\n",
      "\n",
      "[-------------------------------------------------]   0% (15/100 wrk) eta:  ?s\n",
      "\n",
      "[-------------------------------------------------]   0% (16/100 wrk) eta:  ?s\n",
      "\n",
      "[-------------------------------------------------]   0% (17/100 wrk) eta:  ?s\n",
      "\n",
      "[-------------------------------------------------]   0% (18/100 wrk) eta:  ?s\n",
      "\n",
      "[-------------------------------------------------]   0% (19/100 wrk) eta:  ?s\n",
      "\n",
      "[-------------------------------------------------]   0% (20/100 wrk) eta:  ?s\n",
      "\n",
      "[-------------------------------------------------]   0% (21/100 wrk) eta:  ?s\n",
      "\n",
      "[-------------------------------------------------]   0% (22/100 wrk) eta:  ?s\n",
      "\n",
      "[-------------------------------------------------]   0% (23/100 wrk) eta:  ?s\n",
      "\n",
      "[-------------------------------------------------]   0% (24/100 wrk) eta:  ?s\n",
      "\n",
      "[-------------------------------------------------]   0% (25/100 wrk) eta:  ?s\n",
      "\n",
      "[-------------------------------------------------]   0% (26/100 wrk) eta:  ?s\n",
      "\n",
      "[-------------------------------------------------]   0% (27/100 wrk) eta:  ?s\n",
      "\n",
      "[-------------------------------------------------]   0% (28/100 wrk) eta:  ?s\n",
      "\n",
      "[-------------------------------------------------]   0% (29/100 wrk) eta:  ?s\n",
      "\n",
      "[-------------------------------------------------]   0% (30/100 wrk) eta:  ?s\n",
      "\n",
      "[-------------------------------------------------]   0% (31/100 wrk) eta:  ?s\n",
      "\n",
      "[-------------------------------------------------]   0% (32/100 wrk) eta:  ?s\n",
      "\n",
      "[-------------------------------------------------]   0% (33/100 wrk) eta:  ?s\n",
      "\n",
      "[-------------------------------------------------]   0% (34/100 wrk) eta:  ?s\n",
      "\n",
      "[-------------------------------------------------]   0% (35/100 wrk) eta:  ?s\n",
      "\n",
      "[-------------------------------------------------]   0% (36/100 wrk) eta:  ?s\n",
      "\n",
      "[-------------------------------------------------]   0% (37/100 wrk) eta:  ?s\n",
      "\n",
      "[-------------------------------------------------]   0% (38/100 wrk) eta:  ?s\n",
      "\n",
      "[-------------------------------------------------]   0% (39/100 wrk) eta:  ?s\n",
      "\n",
      "[-------------------------------------------------]   0% (40/100 wrk) eta:  ?s\n",
      "\n",
      "[-------------------------------------------------]   0% (41/100 wrk) eta:  ?s\n",
      "\n",
      "[-------------------------------------------------]   0% (42/100 wrk) eta:  ?s\n",
      "\n",
      "[-------------------------------------------------]   0% (43/100 wrk) eta:  ?s\n",
      "\n",
      "[-------------------------------------------------]   0% (44/100 wrk) eta:  ?s\n",
      "\n",
      "[-------------------------------------------------]   0% (45/100 wrk) eta:  ?s\n",
      "\n",
      "[-------------------------------------------------]   0% (46/100 wrk) eta:  ?s\n",
      "\n",
      "[-------------------------------------------------]   0% (47/100 wrk) eta:  ?s\n",
      "\n",
      "[-------------------------------------------------]   0% (48/100 wrk) eta:  ?s\n",
      "\n",
      "[-------------------------------------------------]   0% (49/100 wrk) eta:  ?s\n",
      "\n",
      "[-------------------------------------------------]   0% (50/100 wrk) eta:  ?s\n",
      "\n",
      "[-------------------------------------------------]   0% (51/100 wrk) eta:  ?s\n",
      "\n",
      "[-------------------------------------------------]   0% (52/100 wrk) eta:  ?s\n",
      "\n",
      "[-------------------------------------------------]   0% (53/100 wrk) eta:  ?s\n",
      "\n",
      "[-------------------------------------------------]   0% (54/100 wrk) eta:  ?s\n",
      "\n",
      "[-------------------------------------------------]   0% (55/100 wrk) eta:  ?s\n",
      "\n",
      "[-------------------------------------------------]   0% (56/100 wrk) eta:  ?s\n",
      "\n",
      "[-------------------------------------------------]   0% (57/100 wrk) eta:  ?s\n",
      "\n",
      "[-------------------------------------------------]   0% (58/100 wrk) eta:  ?s\n",
      "\n",
      "[-------------------------------------------------]   0% (59/100 wrk) eta:  ?s\n",
      "\n",
      "[-------------------------------------------------]   0% (60/100 wrk) eta:  ?s\n",
      "\n",
      "[-------------------------------------------------]   0% (61/100 wrk) eta:  ?s\n",
      "\n",
      "[-------------------------------------------------]   0% (62/100 wrk) eta:  ?s\n",
      "\n",
      "[-------------------------------------------------]   0% (63/100 wrk) eta:  ?s\n",
      "\n",
      "[-------------------------------------------------]   0% (64/100 wrk) eta:  ?s\n",
      "\n",
      "[-------------------------------------------------]   0% (65/100 wrk) eta:  ?s\n",
      "\n",
      "[-------------------------------------------------]   0% (66/100 wrk) eta:  ?s\n",
      "\n",
      "[-------------------------------------------------]   0% (67/100 wrk) eta:  ?s\n",
      "\n",
      "[-------------------------------------------------]   0% (68/100 wrk) eta:  ?s\n",
      "\n",
      "[-------------------------------------------------]   0% (69/100 wrk) eta:  ?s\n",
      "\n",
      "[-------------------------------------------------]   0% (70/100 wrk) eta:  ?s\n",
      "\n",
      "[-------------------------------------------------]   0% (71/100 wrk) eta:  ?s\n",
      "\n",
      "[-------------------------------------------------]   0% (72/100 wrk) eta:  ?s\n",
      "\n",
      "[-------------------------------------------------]   0% (73/100 wrk) eta:  ?s\n",
      "\n",
      "[-------------------------------------------------]   0% (74/100 wrk) eta:  ?s\n",
      "\n",
      "[-------------------------------------------------]   0% (75/100 wrk) eta:  ?s\n",
      "\n",
      "[-------------------------------------------------]   0% (76/100 wrk) eta:  ?s\n",
      "\n",
      "[-------------------------------------------------]   0% (77/100 wrk) eta:  ?s\n",
      "\n",
      "[-------------------------------------------------]   0% (78/100 wrk) eta:  ?s\n",
      "\n",
      "[-------------------------------------------------]   0% (79/100 wrk) eta:  ?s\n",
      "\n",
      "[-------------------------------------------------]   0% (80/100 wrk) eta:  ?s\n",
      "\n",
      "[-------------------------------------------------]   0% (81/100 wrk) eta:  ?s\n",
      "\n",
      "[-------------------------------------------------]   0% (82/100 wrk) eta:  ?s\n",
      "\n",
      "[-------------------------------------------------]   0% (83/100 wrk) eta:  ?s\n",
      "\n",
      "[-------------------------------------------------]   0% (84/100 wrk) eta:  ?s\n",
      "\n",
      "[-------------------------------------------------]   0% (85/100 wrk) eta:  ?s\n",
      "\n",
      "[-------------------------------------------------]   0% (86/100 wrk) eta:  ?s\n",
      "\n",
      "[-------------------------------------------------]   0% (87/100 wrk) eta:  ?s\n",
      "\n",
      "[-------------------------------------------------]   0% (88/100 wrk) eta:  ?s\n",
      "\n",
      "[-------------------------------------------------]   0% (89/100 wrk) eta:  ?s\n",
      "\n",
      "[-------------------------------------------------]   1% (89/100 wrk) eta: 42m\n",
      "\n",
      "[>------------------------------------------------]   2% (89/100 wrk) eta: 21m\n",
      "\n",
      "[>------------------------------------------------]   3% (89/100 wrk) eta: 14m\n",
      "\n",
      "[=>-----------------------------------------------]   4% (89/100 wrk) eta: 10m\n",
      "\n",
      "[=>-----------------------------------------------]   4% (90/100 wrk) eta: 10m\n",
      "\n",
      "[=>-----------------------------------------------]   5% (90/100 wrk) eta:  8m\n",
      "\n",
      "[==>----------------------------------------------]   6% (90/100 wrk) eta:  7m\n",
      "\n",
      "[==>----------------------------------------------]   7% (90/100 wrk) eta:  6m\n",
      "\n",
      "[===>---------------------------------------------]   8% (90/100 wrk) eta:  5m\n",
      "\n",
      "[===>---------------------------------------------]   9% (90/100 wrk) eta:  4m\n",
      "\n",
      "[====>--------------------------------------------]  10% (90/100 wrk) eta:  4m\n",
      "\n",
      "[====>--------------------------------------------]  11% (90/100 wrk) eta:  4m\n"
     ]
    },
    {
     "name": "stderr",
     "output_type": "stream",
     "text": [
      "\n",
      "[=====>-------------------------------------------]  12% (90/100 wrk) eta:  3m\n",
      "\n",
      "[=====>-------------------------------------------]  13% (90/100 wrk) eta:  3m\n",
      "\n",
      "[======>------------------------------------------]  14% (90/100 wrk) eta:  3m\n",
      "\n",
      "[======>------------------------------------------]  15% (90/100 wrk) eta:  3m\n",
      "\n",
      "[=======>-----------------------------------------]  16% (90/100 wrk) eta:  2m\n",
      "\n",
      "[=======>-----------------------------------------]  17% (90/100 wrk) eta:  2m\n",
      "\n",
      "[========>----------------------------------------]  18% (90/100 wrk) eta:  2m\n",
      "\n",
      "[========>----------------------------------------]  19% (90/100 wrk) eta:  2m\n",
      "\n",
      "[=========>---------------------------------------]  20% (90/100 wrk) eta:  2m\n",
      "\n",
      "[=========>---------------------------------------]  21% (90/100 wrk) eta:  2m\n",
      "\n",
      "[==========>--------------------------------------]  22% (90/100 wrk) eta:  2m\n",
      "\n",
      "[===========>--------------------------------------]  23% (87/97 wrk) eta:  2m\n",
      "\n",
      "[===========>--------------------------------------]  24% (83/93 wrk) eta:  1m\n",
      "\n",
      "[===========>--------------------------------------]  25% (80/90 wrk) eta:  1m\n",
      "\n",
      "[============>-------------------------------------]  26% (79/89 wrk) eta:  1m\n",
      "\n",
      "[=============>------------------------------------]  27% (78/88 wrk) eta:  1m\n",
      "\n",
      "[=============>------------------------------------]  28% (76/86 wrk) eta:  1m\n",
      "\n",
      "[=============>------------------------------------]  29% (76/86 wrk) eta:  1m\n",
      "\n",
      "[==============>-----------------------------------]  30% (76/86 wrk) eta:  1m\n",
      "\n",
      "[===============>----------------------------------]  31% (74/84 wrk) eta:  1m\n",
      "\n",
      "[===============>----------------------------------]  32% (74/84 wrk) eta:  1m\n",
      "\n",
      "[===============>----------------------------------]  33% (72/82 wrk) eta:  1m\n",
      "\n",
      "[================>---------------------------------]  34% (71/81 wrk) eta:  1m\n",
      "\n",
      "[================>---------------------------------]  34% (70/79 wrk) eta:  1m\n",
      "\n",
      "[=================>--------------------------------]  35% (70/79 wrk) eta:  1m\n",
      "\n",
      "[=================>--------------------------------]  36% (69/78 wrk) eta:  1m\n",
      "\n",
      "[=================>--------------------------------]  37% (67/76 wrk) eta: 48s\n",
      "\n",
      "[==================>-------------------------------]  38% (66/75 wrk) eta: 46s\n",
      "\n",
      "[===================>------------------------------]  39% (66/75 wrk) eta: 45s\n",
      "\n",
      "[===================>------------------------------]  40% (64/73 wrk) eta: 43s\n",
      "\n",
      "[===================>------------------------------]  40% (63/72 wrk) eta: 43s\n",
      "\n",
      "[===================>------------------------------]  41% (63/72 wrk) eta: 42s\n",
      "\n",
      "[====================>-----------------------------]  42% (63/72 wrk) eta: 40s\n",
      "\n",
      "[====================>-----------------------------]  42% (63/71 wrk) eta: 40s\n",
      "\n",
      "[=====================>----------------------------]  43% (63/71 wrk) eta: 39s\n",
      "\n",
      "[=====================>----------------------------]  44% (61/69 wrk) eta: 37s\n",
      "\n",
      "[=====================>----------------------------]  45% (60/68 wrk) eta: 36s\n",
      "\n",
      "[======================>---------------------------]  46% (58/66 wrk) eta: 35s\n",
      "\n",
      "[=======================>--------------------------]  47% (58/66 wrk) eta: 33s\n",
      "\n",
      "[=======================>--------------------------]  48% (57/65 wrk) eta: 32s\n",
      "\n",
      "[=======================>--------------------------]  49% (57/65 wrk) eta: 31s\n",
      "\n",
      "[========================>-------------------------]  50% (57/65 wrk) eta: 30s\n",
      "\n",
      "[=========================>------------------------]  51% (52/60 wrk) eta: 29s\n",
      "\n",
      "[=========================>------------------------]  52% (52/60 wrk) eta: 28s\n",
      "\n",
      "[=========================>------------------------]  53% (52/60 wrk) eta: 27s\n",
      "\n",
      "[=========================>------------------------]  53% (49/57 wrk) eta: 27s\n",
      "\n",
      "[==========================>-----------------------]  54% (49/57 wrk) eta: 26s\n",
      "\n",
      "[===========================>----------------------]  55% (49/57 wrk) eta: 25s\n",
      "\n",
      "[===========================>----------------------]  56% (49/57 wrk) eta: 24s\n",
      "\n",
      "[===========================>----------------------]  57% (49/57 wrk) eta: 23s\n",
      "\n",
      "[============================>---------------------]  58% (49/57 wrk) eta: 22s\n",
      "\n",
      "[=============================>--------------------]  59% (48/56 wrk) eta: 22s\n",
      "\n",
      "[=============================>--------------------]  60% (44/52 wrk) eta: 21s\n",
      "\n",
      "[=============================>--------------------]  60% (45/52 wrk) eta: 21s\n",
      "\n",
      "[=============================>--------------------]  61% (44/51 wrk) eta: 20s\n",
      "\n",
      "[==============================>-------------------]  62% (44/51 wrk) eta: 19s\n",
      "\n",
      "[===============================>------------------]  63% (44/51 wrk) eta: 18s\n",
      "\n",
      "[===============================>------------------]  64% (44/51 wrk) eta: 18s\n",
      "\n",
      "[===============================>------------------]  65% (44/51 wrk) eta: 17s\n",
      "\n",
      "[===============================>------------------]  65% (43/50 wrk) eta: 17s\n",
      "\n",
      "[================================>-----------------]  66% (41/48 wrk) eta: 16s\n",
      "\n",
      "[=================================>----------------]  67% (38/45 wrk) eta: 16s\n",
      "\n",
      "[=================================>----------------]  68% (36/43 wrk) eta: 15s\n",
      "\n",
      "[=================================>----------------]  69% (36/43 wrk) eta: 14s\n",
      "\n",
      "[==================================>---------------]  70% (36/43 wrk) eta: 14s\n",
      "\n",
      "[===================================>--------------]  71% (35/42 wrk) eta: 13s\n",
      "\n",
      "[===================================>--------------]  72% (32/39 wrk) eta: 12s\n",
      "\n",
      "[===================================>--------------]  73% (29/36 wrk) eta: 12s\n",
      "\n",
      "[====================================>-------------]  74% (29/36 wrk) eta: 11s\n",
      "\n",
      "[=====================================>------------]  75% (29/36 wrk) eta: 11s\n",
      "\n",
      "[=====================================>------------]  76% (27/34 wrk) eta: 10s\n",
      "\n",
      "[=====================================>------------]  77% (26/33 wrk) eta: 10s\n",
      "\n",
      "[======================================>-----------]  78% (26/33 wrk) eta:  9s\n",
      "\n",
      "[=======================================>----------]  79% (25/32 wrk) eta:  9s\n",
      "\n",
      "[=======================================>----------]  80% (24/31 wrk) eta:  8s\n",
      "\n",
      "[=======================================>----------]  81% (24/31 wrk) eta:  8s\n",
      "\n",
      "[========================================>---------]  82% (24/31 wrk) eta:  7s\n",
      "\n",
      "[========================================>---------]  82% (19/25 wrk) eta:  7s\n",
      "\n",
      "[=========================================>--------]  83% (19/25 wrk) eta:  7s\n",
      "\n",
      "[=========================================>--------]  84% (19/25 wrk) eta:  6s\n",
      "\n",
      "[=========================================>--------]  85% (18/24 wrk) eta:  6s\n",
      "\n",
      "[==========================================>-------]  86% (18/24 wrk) eta:  6s\n",
      "\n",
      "[===========================================>------]  87% (18/24 wrk) eta:  5s\n",
      "\n",
      "[===========================================>------]  88% (18/24 wrk) eta:  5s\n",
      "\n",
      "[===========================================>------]  89% (18/24 wrk) eta:  4s\n",
      "\n",
      "[============================================>-----]  90% (17/23 wrk) eta:  4s\n",
      "\n",
      "[=============================================>----]  91% (15/21 wrk) eta:  3s\n",
      "\n",
      "[=============================================>----]  92% (15/21 wrk) eta:  3s\n",
      "\n",
      "[=============================================>----]  93% (13/19 wrk) eta:  3s\n",
      "\n",
      "[===============================================>---]  94% (9/15 wrk) eta:  2s\n",
      "\n",
      "[===============================================>---]  95% (8/14 wrk) eta:  2s\n",
      "\n",
      "[================================================>--]  96% (7/13 wrk) eta:  1s\n",
      "\n",
      "[================================================>--]  97% (6/12 wrk) eta:  1s\n",
      "\n",
      "[=================================================>-]  98% (5/11 wrk) eta:  1s\n",
      "\n",
      "[==================================================>-]  98% (3/9 wrk) eta:  1s\n",
      "\n",
      "[==================================================>-]  99% (3/9 wrk) eta:  0s\n",
      "\n",
      "[====================================================] 100% (3/9 wrk) eta:  0s\n",
      "                                                                              \n",
      "\n",
      "Master: [36.8s 6.5% CPU]; Worker: [avg 27.5% CPU, max 523.8 Mb]\n",
      "\n"
     ]
    }
   ],
   "source": [
    "rules <- Q(model2DE_cluster\n",
    "  , partition = preclu$partitions\n",
    "  , export=list(data = preclu$data, target = as.character(target)\n",
    "                , exec = preclu$exec, classPos = 'Cirrhosis'\n",
    "                , prune = TRUE, maxDecay = 0.05, typeDecay = 2 \n",
    "                , filter = TRUE\n",
    "                , in_parallel = TRUE, n_cores = 10\n",
    "               )\n",
    "  , n_jobs= length(preclu$partitions)\n",
    "  , pkgs=c('data.table', 'parallel', 'caret', 'stringr', 'scales', 'dplyr', 'inTrees', 'endoR')\n",
    "  , log_worker=FALSE\n",
    "  , template = tmpl\n",
    " )"
   ]
  },
  {
   "cell_type": "code",
   "execution_count": 31,
   "metadata": {
    "ExecuteTime": {
     "end_time": "2021-12-12T09:02:35.545249Z",
     "start_time": "2021-12-12T09:02:25.663Z"
    }
   },
   "outputs": [],
   "source": [
    "#qsave(rules, '../tmp/ta-gRRF_bootstraps.qs')"
   ]
  },
  {
   "cell_type": "code",
   "execution_count": 32,
   "metadata": {
    "ExecuteTime": {
     "end_time": "2021-12-12T09:02:37.914051Z",
     "start_time": "2021-12-12T09:02:25.665Z"
    }
   },
   "outputs": [],
   "source": [
    "rules <- qread('../tmp/ta-gRRF_bootstraps.qs')"
   ]
  },
  {
   "cell_type": "markdown",
   "metadata": {},
   "source": [
    "# Results"
   ]
  },
  {
   "cell_type": "markdown",
   "metadata": {},
   "source": [
    "## Choose alpha"
   ]
  },
  {
   "cell_type": "code",
   "execution_count": 33,
   "metadata": {
    "ExecuteTime": {
     "end_time": "2021-12-12T09:02:45.571359Z",
     "start_time": "2021-12-12T09:02:25.669Z"
    }
   },
   "outputs": [
    {
     "name": "stdout",
     "output_type": "stream",
     "text": [
      "50.00236  rules per sub-sample selected. 16 decisions in >= 70 subsets.\n",
      "111.8087  rules per sub-sample selected. 25 decisions in >= 70 subsets.\n",
      "158.1213  rules per sub-sample selected. 39 decisions in >= 70 subsets.\n",
      "193.6583  rules per sub-sample selected. 46 decisions in >= 70 subsets.\n",
      "223.6174  rules per sub-sample selected. 54 decisions in >= 70 subsets.\n",
      "273.8742  rules per sub-sample selected. 66 decisions in >= 70 subsets.\n"
     ]
    }
   ],
   "source": [
    "check_sampl <- evaluateAlpha(rules = rules, alphas = c(1,5, 10, 15, 20, 30), pi_thr = 0.7\n",
    "                            , data = preclu$data, decision_ensembles = FALSE)"
   ]
  },
  {
   "cell_type": "code",
   "execution_count": 34,
   "metadata": {
    "ExecuteTime": {
     "end_time": "2021-12-12T09:02:45.618944Z",
     "start_time": "2021-12-12T09:02:25.672Z"
    }
   },
   "outputs": [],
   "source": [
    "al_plot <- ggplot(check_sampl, aes(y = n_samp, x = alpha))+\n",
    "geom_hline(yintercept = nrow(preclu$data), color = \"#00A08A\", size = .5)+\n",
    "geom_vline(xintercept = 5, color = 'darkgrey', linetype = 'longdash')+\n",
    "geom_line()+\n",
    "geom_point(aes(size = n_dec))+\n",
    "theme_classic()+\n",
    "ylim(c(0, NA))+\n",
    "\n",
    "scale_size(breaks = c(10, 30))+\n",
    "\n",
    "labs(x = expression(alpha*' error'), y = '# predicted samples'\n",
    "     , size = '# decisions'\n",
    "     , title = 'Effect of \\u03b1')+ \n",
    "theme(axis.title = element_text(size = rel(1.2))\n",
    "      , axis.text = element_text(size = rel(1))\n",
    "      , legend.title = element_text(size = rel(1.2))\n",
    "      , legend.text = element_text(size = rel(1.2))\n",
    "      , legend.position = 'bottom'\n",
    "     )"
   ]
  },
  {
   "cell_type": "code",
   "execution_count": 35,
   "metadata": {
    "ExecuteTime": {
     "end_time": "2021-12-12T09:02:46.135755Z",
     "start_time": "2021-12-12T09:02:25.674Z"
    },
    "scrolled": false
   },
   "outputs": [
    {
     "data": {
      "image/png": "[encoded data removed]",
      "text/plain": [
       "plot without title"
      ]
     },
     "metadata": {
      "image/png": {
       "height": 240,
       "width": 300
      }
     },
     "output_type": "display_data"
    }
   ],
   "source": [
    "options(repr.plot.width=5, repr.plot.height=4)\n",
    "al_plot"
   ]
  },
  {
   "cell_type": "markdown",
   "metadata": {},
   "source": [
    "## stable decision ensemble"
   ]
  },
  {
   "cell_type": "code",
   "execution_count": 36,
   "metadata": {
    "ExecuteTime": {
     "end_time": "2021-12-12T09:02:47.259629Z",
     "start_time": "2021-12-12T09:02:25.678Z"
    },
    "scrolled": true
   },
   "outputs": [
    {
     "name": "stdout",
     "output_type": "stream",
     "text": [
      "111.8087  rules per sub-sample selected. 25 decisions in >= 70 subsets.\n"
     ]
    }
   ],
   "source": [
    "pc <- stabilitySelection(rules = rules, alpha_error = 5, pi_thr = .7)"
   ]
  },
  {
   "cell_type": "code",
   "execution_count": 75,
   "metadata": {
    "ExecuteTime": {
     "end_time": "2021-12-12T15:04:16.494379Z",
     "start_time": "2021-12-12T15:04:16.207Z"
    }
   },
   "outputs": [
    {
     "data": {
      "text/html": [
       "<table class=\"dataframe\">\n",
       "<caption>A data.table: 25 × 10</caption>\n",
       "<thead>\n",
       "\t<tr><th scope=col>condition</th><th scope=col>inN</th><th scope=col>len</th><th scope=col>support</th><th scope=col>err</th><th scope=col>pred</th><th scope=col>imp</th><th scope=col>imp_sd</th><th scope=col>n</th><th scope=col>n_sd</th></tr>\n",
       "\t<tr><th scope=col>&lt;chr&gt;</th><th scope=col>&lt;int&gt;</th><th scope=col>&lt;dbl&gt;</th><th scope=col>&lt;dbl&gt;</th><th scope=col>&lt;dbl&gt;</th><th scope=col>&lt;dbl&gt;</th><th scope=col>&lt;dbl&gt;</th><th scope=col>&lt;dbl&gt;</th><th scope=col>&lt;dbl&gt;</th><th scope=col>&lt;dbl&gt;</th></tr>\n",
       "</thead>\n",
       "<tbody>\n",
       "\t<tr><td><span style=white-space:pre-wrap>s_Megasphaera_micronuciformis__High&gt;0.5                                             </span></td><td>100</td><td>1</td><td>0.3325773</td><td>0.08223299</td><td>0.9758546</td><td>0.2759222</td><td>0.07549542</td><td>92.852681</td><td>50.54727757</td></tr>\n",
       "\t<tr><td><span style=white-space:pre-wrap>s_Veillonella_parvula__High&gt;0.5                                                     </span></td><td>100</td><td>1</td><td>0.3337113</td><td>0.13921422</td><td>0.9547858</td><td>0.2371671</td><td>0.08041435</td><td>35.268681</td><td>32.72294244</td></tr>\n",
       "\t<tr><td><span style=white-space:pre-wrap>s_Megasphaera_micronuciformis__Low&gt;0.5 &amp; s_Adlercreutzia_equolifaciens__High&gt;0.5    </span></td><td>100</td><td>2</td><td>0.2265979</td><td>0.00000000</td><td>0.0000000</td><td>0.2265979</td><td>0.04092299</td><td> 3.574815</td><td> 0.27674606</td></tr>\n",
       "\t<tr><td><span style=white-space:pre-wrap>s_Clostridium_symbiosum__Medium&gt;0.5 &amp; s_Megasphaera_micronuciformis__Low&gt;0.5        </span></td><td>100</td><td>2</td><td>0.1758763</td><td>0.00000000</td><td>0.0000000</td><td>0.1758763</td><td>0.03840141</td><td> 2.513627</td><td> 0.37510258</td></tr>\n",
       "\t<tr><td><span style=white-space:pre-wrap>g_Streptococcus__High&gt;0.5                                                           </span></td><td> 99</td><td>1</td><td>0.3327085</td><td>0.19116688</td><td>0.9346965</td><td>0.2007038</td><td>0.07835386</td><td>22.948697</td><td>18.68879391</td></tr>\n",
       "\t<tr><td><span style=white-space:pre-wrap>f_Veillonellaceae__High&gt;0.5                                                         </span></td><td> 99</td><td>1</td><td>0.3329168</td><td>0.19814400</td><td>0.9289553</td><td>0.1947522</td><td>0.07872461</td><td>27.860266</td><td>24.21832575</td></tr>\n",
       "\t<tr><td><span style=white-space:pre-wrap>g_Leptotrichia__High&gt;0.5                                                            </span></td><td> 98</td><td>1</td><td>0.3371555</td><td>0.18970890</td><td>0.9356017</td><td>0.2027485</td><td>0.07191983</td><td>17.279431</td><td>17.94806037</td></tr>\n",
       "\t<tr><td>s_Lachnoanaerobaculum_saburreum__Medium&gt;0.5 &amp; s_Megasphaera_micronuciformis__Low&gt;0.5</td><td> 98</td><td>2</td><td>0.1782032</td><td>0.00000000</td><td>0.0000000</td><td>0.1782032</td><td>0.03759562</td><td> 2.334201</td><td> 0.28694461</td></tr>\n",
       "\t<tr><td><span style=white-space:pre-wrap>s_Lactobacillus_salivarius__High&gt;0.5                                                </span></td><td> 96</td><td>1</td><td>0.3368771</td><td>0.23286661</td><td>0.9134655</td><td>0.1721755</td><td>0.06869253</td><td>15.224248</td><td>17.19599346</td></tr>\n",
       "\t<tr><td><span style=white-space:pre-wrap>s_Veillonella_parvula__Low&gt;0.5 &amp; s_Adlercreutzia_equolifaciens__High&gt;0.5            </span></td><td> 96</td><td>2</td><td>0.1675258</td><td>0.00000000</td><td>0.0000000</td><td>0.1675258</td><td>0.03334722</td><td> 2.148438</td><td> 0.10537674</td></tr>\n",
       "\t<tr><td><span style=white-space:pre-wrap>g_Campylobacter__High&gt;0.5                                                           </span></td><td> 96</td><td>1</td><td>0.3367698</td><td>0.24644128</td><td>0.9075018</td><td>0.1610949</td><td>0.06018892</td><td>11.325876</td><td> 8.01526494</td></tr>\n",
       "\t<tr><td><span style=white-space:pre-wrap>s_Fusobacterium_nucleatum__High&gt;0.5                                                 </span></td><td> 95</td><td>1</td><td>0.3360825</td><td>0.22840401</td><td>0.9176652</td><td>0.1710481</td><td>0.06309959</td><td>14.889017</td><td>11.46125716</td></tr>\n",
       "\t<tr><td><span style=white-space:pre-wrap>s_Adlercreutzia_equolifaciens__High&gt;0.5                                             </span></td><td> 94</td><td>1</td><td>0.3230972</td><td>0.28142265</td><td>0.1094742</td><td>0.1475728</td><td>0.04419778</td><td>21.150709</td><td> 4.57943209</td></tr>\n",
       "\t<tr><td><span style=white-space:pre-wrap>s_Lactobacillus_salivarius__High&gt;0.5 &amp; s_Collinsella_stercoris__Low&gt;0.5             </span></td><td> 93</td><td>2</td><td>0.2652699</td><td>0.00000000</td><td>1.0000000</td><td>0.2652699</td><td>0.04264570</td><td> 1.606481</td><td> 0.43699089</td></tr>\n",
       "\t<tr><td><span style=white-space:pre-wrap>s_Megasphaera_micronuciformis__Low&gt;0.5                                              </span></td><td> 90</td><td>1</td><td>0.4383734</td><td>0.35759792</td><td>0.1694066</td><td>0.1321227</td><td>0.04355354</td><td>14.205143</td><td> 4.83885020</td></tr>\n",
       "\t<tr><td><span style=white-space:pre-wrap>f_Veillonellaceae__Low&gt;0.5 &amp; s_Adlercreutzia_equolifaciens__High&gt;0.5                </span></td><td> 88</td><td>2</td><td>0.1580366</td><td>0.00000000</td><td>0.0000000</td><td>0.1580366</td><td>0.03532448</td><td> 2.277357</td><td> 0.45838823</td></tr>\n",
       "\t<tr><td><span style=white-space:pre-wrap>s_Rikenella_microfusus__Low&gt;0.5 &amp; f_Pasteurellaceae__High&gt;0.5                       </span></td><td> 86</td><td>2</td><td>0.1770559</td><td>0.00000000</td><td>1.0000000</td><td>0.1770559</td><td>0.03568408</td><td> 1.559432</td><td> 0.03560593</td></tr>\n",
       "\t<tr><td><span style=white-space:pre-wrap>s_Barnesiella_viscericola__Low&gt;0.5 &amp; f_Veillonellaceae__High&gt;0.5                    </span></td><td> 85</td><td>2</td><td>0.1708914</td><td>0.00000000</td><td>1.0000000</td><td>0.1708914</td><td>0.04112578</td><td> 1.937500</td><td> 0.21330865</td></tr>\n",
       "\t<tr><td><span style=white-space:pre-wrap>s_Kingella_denitrificans__High&gt;0.5                                                  </span></td><td> 80</td><td>1</td><td>0.3396907</td><td>0.29098501</td><td>0.8823397</td><td>0.1322230</td><td>0.05391686</td><td>10.713137</td><td> 4.44523623</td></tr>\n",
       "\t<tr><td><span style=white-space:pre-wrap>s_Rikenella_microfusus__Low&gt;0.5 &amp; f_Veillonellaceae__High&gt;0.5                       </span></td><td> 75</td><td>2</td><td>0.1694845</td><td>0.00000000</td><td>1.0000000</td><td>0.1694845</td><td>0.03390687</td><td> 1.557407</td><td> 0.16700000</td></tr>\n",
       "\t<tr><td><span style=white-space:pre-wrap>f_Eggerthellaceae__High&gt;0.5                                                         </span></td><td> 75</td><td>1</td><td>0.3241237</td><td>0.31139276</td><td>0.1309270</td><td>0.1249543</td><td>0.03877000</td><td>13.667443</td><td> 7.83313327</td></tr>\n",
       "\t<tr><td><span style=white-space:pre-wrap>f_Veillonellaceae__High&gt;0.5 &amp; g_Erysipelatoclostridium__High&gt;0.5                    </span></td><td> 73</td><td>2</td><td>0.1818952</td><td>0.00000000</td><td>1.0000000</td><td>0.1818952</td><td>0.03835773</td><td> 1.883562</td><td> 0.34942688</td></tr>\n",
       "\t<tr><td><span style=white-space:pre-wrap>s_Fermentimonas_caenicola__Medium&gt;0.5 &amp; s_Megasphaera_micronuciformis__Low&gt;0.5      </span></td><td> 72</td><td>2</td><td>0.1927262</td><td>0.00000000</td><td>0.0000000</td><td>0.1927262</td><td>0.03253824</td><td> 1.371142</td><td> 0.20035424</td></tr>\n",
       "\t<tr><td><span style=white-space:pre-wrap>s_Veillonella_parvula__Low&gt;0.5 &amp; s_Bacteroides_uniformis__High&gt;0.5                  </span></td><td> 72</td><td>2</td><td>0.1384593</td><td>0.00000000</td><td>0.0000000</td><td>0.1384593</td><td>0.03142366</td><td> 2.371914</td><td> 0.44064828</td></tr>\n",
       "\t<tr><td><span style=white-space:pre-wrap>s_Lachnoanaerobaculum_saburreum__Medium&gt;0.5 &amp; f_Veillonellaceae__Low&gt;0.5            </span></td><td> 71</td><td>2</td><td>0.1395383</td><td>0.00000000</td><td>0.0000000</td><td>0.1395383</td><td>0.02336827</td><td> 2.104509</td><td> 0.25416191</td></tr>\n",
       "</tbody>\n",
       "</table>\n"
      ],
      "text/latex": [
       "A data.table: 25 × 10\n",
       "\\begin{tabular}{llllllllll}\n",
       " condition & inN & len & support & err & pred & imp & imp\\_sd & n & n\\_sd\\\\\n",
       " <chr> & <int> & <dbl> & <dbl> & <dbl> & <dbl> & <dbl> & <dbl> & <dbl> & <dbl>\\\\\n",
       "\\hline\n",
       "\t s\\_Megasphaera\\_micronuciformis\\_\\_High>0.5                                              & 100 & 1 & 0.3325773 & 0.08223299 & 0.9758546 & 0.2759222 & 0.07549542 & 92.852681 & 50.54727757\\\\\n",
       "\t s\\_Veillonella\\_parvula\\_\\_High>0.5                                                      & 100 & 1 & 0.3337113 & 0.13921422 & 0.9547858 & 0.2371671 & 0.08041435 & 35.268681 & 32.72294244\\\\\n",
       "\t s\\_Megasphaera\\_micronuciformis\\_\\_Low>0.5 \\& s\\_Adlercreutzia\\_equolifaciens\\_\\_High>0.5     & 100 & 2 & 0.2265979 & 0.00000000 & 0.0000000 & 0.2265979 & 0.04092299 &  3.574815 &  0.27674606\\\\\n",
       "\t s\\_Clostridium\\_symbiosum\\_\\_Medium>0.5 \\& s\\_Megasphaera\\_micronuciformis\\_\\_Low>0.5         & 100 & 2 & 0.1758763 & 0.00000000 & 0.0000000 & 0.1758763 & 0.03840141 &  2.513627 &  0.37510258\\\\\n",
       "\t g\\_Streptococcus\\_\\_High>0.5                                                            &  99 & 1 & 0.3327085 & 0.19116688 & 0.9346965 & 0.2007038 & 0.07835386 & 22.948697 & 18.68879391\\\\\n",
       "\t f\\_Veillonellaceae\\_\\_High>0.5                                                          &  99 & 1 & 0.3329168 & 0.19814400 & 0.9289553 & 0.1947522 & 0.07872461 & 27.860266 & 24.21832575\\\\\n",
       "\t g\\_Leptotrichia\\_\\_High>0.5                                                             &  98 & 1 & 0.3371555 & 0.18970890 & 0.9356017 & 0.2027485 & 0.07191983 & 17.279431 & 17.94806037\\\\\n",
       "\t s\\_Lachnoanaerobaculum\\_saburreum\\_\\_Medium>0.5 \\& s\\_Megasphaera\\_micronuciformis\\_\\_Low>0.5 &  98 & 2 & 0.1782032 & 0.00000000 & 0.0000000 & 0.1782032 & 0.03759562 &  2.334201 &  0.28694461\\\\\n",
       "\t s\\_Lactobacillus\\_salivarius\\_\\_High>0.5                                                 &  96 & 1 & 0.3368771 & 0.23286661 & 0.9134655 & 0.1721755 & 0.06869253 & 15.224248 & 17.19599346\\\\\n",
       "\t s\\_Veillonella\\_parvula\\_\\_Low>0.5 \\& s\\_Adlercreutzia\\_equolifaciens\\_\\_High>0.5             &  96 & 2 & 0.1675258 & 0.00000000 & 0.0000000 & 0.1675258 & 0.03334722 &  2.148438 &  0.10537674\\\\\n",
       "\t g\\_Campylobacter\\_\\_High>0.5                                                            &  96 & 1 & 0.3367698 & 0.24644128 & 0.9075018 & 0.1610949 & 0.06018892 & 11.325876 &  8.01526494\\\\\n",
       "\t s\\_Fusobacterium\\_nucleatum\\_\\_High>0.5                                                  &  95 & 1 & 0.3360825 & 0.22840401 & 0.9176652 & 0.1710481 & 0.06309959 & 14.889017 & 11.46125716\\\\\n",
       "\t s\\_Adlercreutzia\\_equolifaciens\\_\\_High>0.5                                              &  94 & 1 & 0.3230972 & 0.28142265 & 0.1094742 & 0.1475728 & 0.04419778 & 21.150709 &  4.57943209\\\\\n",
       "\t s\\_Lactobacillus\\_salivarius\\_\\_High>0.5 \\& s\\_Collinsella\\_stercoris\\_\\_Low>0.5              &  93 & 2 & 0.2652699 & 0.00000000 & 1.0000000 & 0.2652699 & 0.04264570 &  1.606481 &  0.43699089\\\\\n",
       "\t s\\_Megasphaera\\_micronuciformis\\_\\_Low>0.5                                               &  90 & 1 & 0.4383734 & 0.35759792 & 0.1694066 & 0.1321227 & 0.04355354 & 14.205143 &  4.83885020\\\\\n",
       "\t f\\_Veillonellaceae\\_\\_Low>0.5 \\& s\\_Adlercreutzia\\_equolifaciens\\_\\_High>0.5                 &  88 & 2 & 0.1580366 & 0.00000000 & 0.0000000 & 0.1580366 & 0.03532448 &  2.277357 &  0.45838823\\\\\n",
       "\t s\\_Rikenella\\_microfusus\\_\\_Low>0.5 \\& f\\_Pasteurellaceae\\_\\_High>0.5                        &  86 & 2 & 0.1770559 & 0.00000000 & 1.0000000 & 0.1770559 & 0.03568408 &  1.559432 &  0.03560593\\\\\n",
       "\t s\\_Barnesiella\\_viscericola\\_\\_Low>0.5 \\& f\\_Veillonellaceae\\_\\_High>0.5                     &  85 & 2 & 0.1708914 & 0.00000000 & 1.0000000 & 0.1708914 & 0.04112578 &  1.937500 &  0.21330865\\\\\n",
       "\t s\\_Kingella\\_denitrificans\\_\\_High>0.5                                                   &  80 & 1 & 0.3396907 & 0.29098501 & 0.8823397 & 0.1322230 & 0.05391686 & 10.713137 &  4.44523623\\\\\n",
       "\t s\\_Rikenella\\_microfusus\\_\\_Low>0.5 \\& f\\_Veillonellaceae\\_\\_High>0.5                        &  75 & 2 & 0.1694845 & 0.00000000 & 1.0000000 & 0.1694845 & 0.03390687 &  1.557407 &  0.16700000\\\\\n",
       "\t f\\_Eggerthellaceae\\_\\_High>0.5                                                          &  75 & 1 & 0.3241237 & 0.31139276 & 0.1309270 & 0.1249543 & 0.03877000 & 13.667443 &  7.83313327\\\\\n",
       "\t f\\_Veillonellaceae\\_\\_High>0.5 \\& g\\_Erysipelatoclostridium\\_\\_High>0.5                     &  73 & 2 & 0.1818952 & 0.00000000 & 1.0000000 & 0.1818952 & 0.03835773 &  1.883562 &  0.34942688\\\\\n",
       "\t s\\_Fermentimonas\\_caenicola\\_\\_Medium>0.5 \\& s\\_Megasphaera\\_micronuciformis\\_\\_Low>0.5       &  72 & 2 & 0.1927262 & 0.00000000 & 0.0000000 & 0.1927262 & 0.03253824 &  1.371142 &  0.20035424\\\\\n",
       "\t s\\_Veillonella\\_parvula\\_\\_Low>0.5 \\& s\\_Bacteroides\\_uniformis\\_\\_High>0.5                   &  72 & 2 & 0.1384593 & 0.00000000 & 0.0000000 & 0.1384593 & 0.03142366 &  2.371914 &  0.44064828\\\\\n",
       "\t s\\_Lachnoanaerobaculum\\_saburreum\\_\\_Medium>0.5 \\& f\\_Veillonellaceae\\_\\_Low>0.5             &  71 & 2 & 0.1395383 & 0.00000000 & 0.0000000 & 0.1395383 & 0.02336827 &  2.104509 &  0.25416191\\\\\n",
       "\\end{tabular}\n"
      ],
      "text/markdown": [
       "\n",
       "A data.table: 25 × 10\n",
       "\n",
       "| condition &lt;chr&gt; | inN &lt;int&gt; | len &lt;dbl&gt; | support &lt;dbl&gt; | err &lt;dbl&gt; | pred &lt;dbl&gt; | imp &lt;dbl&gt; | imp_sd &lt;dbl&gt; | n &lt;dbl&gt; | n_sd &lt;dbl&gt; |\n",
       "|---|---|---|---|---|---|---|---|---|---|\n",
       "| s_Megasphaera_micronuciformis__High&gt;0.5                                              | 100 | 1 | 0.3325773 | 0.08223299 | 0.9758546 | 0.2759222 | 0.07549542 | 92.852681 | 50.54727757 |\n",
       "| s_Veillonella_parvula__High&gt;0.5                                                      | 100 | 1 | 0.3337113 | 0.13921422 | 0.9547858 | 0.2371671 | 0.08041435 | 35.268681 | 32.72294244 |\n",
       "| s_Megasphaera_micronuciformis__Low&gt;0.5 &amp; s_Adlercreutzia_equolifaciens__High&gt;0.5     | 100 | 2 | 0.2265979 | 0.00000000 | 0.0000000 | 0.2265979 | 0.04092299 |  3.574815 |  0.27674606 |\n",
       "| s_Clostridium_symbiosum__Medium&gt;0.5 &amp; s_Megasphaera_micronuciformis__Low&gt;0.5         | 100 | 2 | 0.1758763 | 0.00000000 | 0.0000000 | 0.1758763 | 0.03840141 |  2.513627 |  0.37510258 |\n",
       "| g_Streptococcus__High&gt;0.5                                                            |  99 | 1 | 0.3327085 | 0.19116688 | 0.9346965 | 0.2007038 | 0.07835386 | 22.948697 | 18.68879391 |\n",
       "| f_Veillonellaceae__High&gt;0.5                                                          |  99 | 1 | 0.3329168 | 0.19814400 | 0.9289553 | 0.1947522 | 0.07872461 | 27.860266 | 24.21832575 |\n",
       "| g_Leptotrichia__High&gt;0.5                                                             |  98 | 1 | 0.3371555 | 0.18970890 | 0.9356017 | 0.2027485 | 0.07191983 | 17.279431 | 17.94806037 |\n",
       "| s_Lachnoanaerobaculum_saburreum__Medium&gt;0.5 &amp; s_Megasphaera_micronuciformis__Low&gt;0.5 |  98 | 2 | 0.1782032 | 0.00000000 | 0.0000000 | 0.1782032 | 0.03759562 |  2.334201 |  0.28694461 |\n",
       "| s_Lactobacillus_salivarius__High&gt;0.5                                                 |  96 | 1 | 0.3368771 | 0.23286661 | 0.9134655 | 0.1721755 | 0.06869253 | 15.224248 | 17.19599346 |\n",
       "| s_Veillonella_parvula__Low&gt;0.5 &amp; s_Adlercreutzia_equolifaciens__High&gt;0.5             |  96 | 2 | 0.1675258 | 0.00000000 | 0.0000000 | 0.1675258 | 0.03334722 |  2.148438 |  0.10537674 |\n",
       "| g_Campylobacter__High&gt;0.5                                                            |  96 | 1 | 0.3367698 | 0.24644128 | 0.9075018 | 0.1610949 | 0.06018892 | 11.325876 |  8.01526494 |\n",
       "| s_Fusobacterium_nucleatum__High&gt;0.5                                                  |  95 | 1 | 0.3360825 | 0.22840401 | 0.9176652 | 0.1710481 | 0.06309959 | 14.889017 | 11.46125716 |\n",
       "| s_Adlercreutzia_equolifaciens__High&gt;0.5                                              |  94 | 1 | 0.3230972 | 0.28142265 | 0.1094742 | 0.1475728 | 0.04419778 | 21.150709 |  4.57943209 |\n",
       "| s_Lactobacillus_salivarius__High&gt;0.5 &amp; s_Collinsella_stercoris__Low&gt;0.5              |  93 | 2 | 0.2652699 | 0.00000000 | 1.0000000 | 0.2652699 | 0.04264570 |  1.606481 |  0.43699089 |\n",
       "| s_Megasphaera_micronuciformis__Low&gt;0.5                                               |  90 | 1 | 0.4383734 | 0.35759792 | 0.1694066 | 0.1321227 | 0.04355354 | 14.205143 |  4.83885020 |\n",
       "| f_Veillonellaceae__Low&gt;0.5 &amp; s_Adlercreutzia_equolifaciens__High&gt;0.5                 |  88 | 2 | 0.1580366 | 0.00000000 | 0.0000000 | 0.1580366 | 0.03532448 |  2.277357 |  0.45838823 |\n",
       "| s_Rikenella_microfusus__Low&gt;0.5 &amp; f_Pasteurellaceae__High&gt;0.5                        |  86 | 2 | 0.1770559 | 0.00000000 | 1.0000000 | 0.1770559 | 0.03568408 |  1.559432 |  0.03560593 |\n",
       "| s_Barnesiella_viscericola__Low&gt;0.5 &amp; f_Veillonellaceae__High&gt;0.5                     |  85 | 2 | 0.1708914 | 0.00000000 | 1.0000000 | 0.1708914 | 0.04112578 |  1.937500 |  0.21330865 |\n",
       "| s_Kingella_denitrificans__High&gt;0.5                                                   |  80 | 1 | 0.3396907 | 0.29098501 | 0.8823397 | 0.1322230 | 0.05391686 | 10.713137 |  4.44523623 |\n",
       "| s_Rikenella_microfusus__Low&gt;0.5 &amp; f_Veillonellaceae__High&gt;0.5                        |  75 | 2 | 0.1694845 | 0.00000000 | 1.0000000 | 0.1694845 | 0.03390687 |  1.557407 |  0.16700000 |\n",
       "| f_Eggerthellaceae__High&gt;0.5                                                          |  75 | 1 | 0.3241237 | 0.31139276 | 0.1309270 | 0.1249543 | 0.03877000 | 13.667443 |  7.83313327 |\n",
       "| f_Veillonellaceae__High&gt;0.5 &amp; g_Erysipelatoclostridium__High&gt;0.5                     |  73 | 2 | 0.1818952 | 0.00000000 | 1.0000000 | 0.1818952 | 0.03835773 |  1.883562 |  0.34942688 |\n",
       "| s_Fermentimonas_caenicola__Medium&gt;0.5 &amp; s_Megasphaera_micronuciformis__Low&gt;0.5       |  72 | 2 | 0.1927262 | 0.00000000 | 0.0000000 | 0.1927262 | 0.03253824 |  1.371142 |  0.20035424 |\n",
       "| s_Veillonella_parvula__Low&gt;0.5 &amp; s_Bacteroides_uniformis__High&gt;0.5                   |  72 | 2 | 0.1384593 | 0.00000000 | 0.0000000 | 0.1384593 | 0.03142366 |  2.371914 |  0.44064828 |\n",
       "| s_Lachnoanaerobaculum_saburreum__Medium&gt;0.5 &amp; f_Veillonellaceae__Low&gt;0.5             |  71 | 2 | 0.1395383 | 0.00000000 | 0.0000000 | 0.1395383 | 0.02336827 |  2.104509 |  0.25416191 |\n",
       "\n"
      ],
      "text/plain": [
       "   condition                                                                           \n",
       "1  s_Megasphaera_micronuciformis__High>0.5                                             \n",
       "2  s_Veillonella_parvula__High>0.5                                                     \n",
       "3  s_Megasphaera_micronuciformis__Low>0.5 & s_Adlercreutzia_equolifaciens__High>0.5    \n",
       "4  s_Clostridium_symbiosum__Medium>0.5 & s_Megasphaera_micronuciformis__Low>0.5        \n",
       "5  g_Streptococcus__High>0.5                                                           \n",
       "6  f_Veillonellaceae__High>0.5                                                         \n",
       "7  g_Leptotrichia__High>0.5                                                            \n",
       "8  s_Lachnoanaerobaculum_saburreum__Medium>0.5 & s_Megasphaera_micronuciformis__Low>0.5\n",
       "9  s_Lactobacillus_salivarius__High>0.5                                                \n",
       "10 s_Veillonella_parvula__Low>0.5 & s_Adlercreutzia_equolifaciens__High>0.5            \n",
       "11 g_Campylobacter__High>0.5                                                           \n",
       "12 s_Fusobacterium_nucleatum__High>0.5                                                 \n",
       "13 s_Adlercreutzia_equolifaciens__High>0.5                                             \n",
       "14 s_Lactobacillus_salivarius__High>0.5 & s_Collinsella_stercoris__Low>0.5             \n",
       "15 s_Megasphaera_micronuciformis__Low>0.5                                              \n",
       "16 f_Veillonellaceae__Low>0.5 & s_Adlercreutzia_equolifaciens__High>0.5                \n",
       "17 s_Rikenella_microfusus__Low>0.5 & f_Pasteurellaceae__High>0.5                       \n",
       "18 s_Barnesiella_viscericola__Low>0.5 & f_Veillonellaceae__High>0.5                    \n",
       "19 s_Kingella_denitrificans__High>0.5                                                  \n",
       "20 s_Rikenella_microfusus__Low>0.5 & f_Veillonellaceae__High>0.5                       \n",
       "21 f_Eggerthellaceae__High>0.5                                                         \n",
       "22 f_Veillonellaceae__High>0.5 & g_Erysipelatoclostridium__High>0.5                    \n",
       "23 s_Fermentimonas_caenicola__Medium>0.5 & s_Megasphaera_micronuciformis__Low>0.5      \n",
       "24 s_Veillonella_parvula__Low>0.5 & s_Bacteroides_uniformis__High>0.5                  \n",
       "25 s_Lachnoanaerobaculum_saburreum__Medium>0.5 & f_Veillonellaceae__Low>0.5            \n",
       "   inN len support   err        pred      imp       imp_sd     n        \n",
       "1  100 1   0.3325773 0.08223299 0.9758546 0.2759222 0.07549542 92.852681\n",
       "2  100 1   0.3337113 0.13921422 0.9547858 0.2371671 0.08041435 35.268681\n",
       "3  100 2   0.2265979 0.00000000 0.0000000 0.2265979 0.04092299  3.574815\n",
       "4  100 2   0.1758763 0.00000000 0.0000000 0.1758763 0.03840141  2.513627\n",
       "5   99 1   0.3327085 0.19116688 0.9346965 0.2007038 0.07835386 22.948697\n",
       "6   99 1   0.3329168 0.19814400 0.9289553 0.1947522 0.07872461 27.860266\n",
       "7   98 1   0.3371555 0.18970890 0.9356017 0.2027485 0.07191983 17.279431\n",
       "8   98 2   0.1782032 0.00000000 0.0000000 0.1782032 0.03759562  2.334201\n",
       "9   96 1   0.3368771 0.23286661 0.9134655 0.1721755 0.06869253 15.224248\n",
       "10  96 2   0.1675258 0.00000000 0.0000000 0.1675258 0.03334722  2.148438\n",
       "11  96 1   0.3367698 0.24644128 0.9075018 0.1610949 0.06018892 11.325876\n",
       "12  95 1   0.3360825 0.22840401 0.9176652 0.1710481 0.06309959 14.889017\n",
       "13  94 1   0.3230972 0.28142265 0.1094742 0.1475728 0.04419778 21.150709\n",
       "14  93 2   0.2652699 0.00000000 1.0000000 0.2652699 0.04264570  1.606481\n",
       "15  90 1   0.4383734 0.35759792 0.1694066 0.1321227 0.04355354 14.205143\n",
       "16  88 2   0.1580366 0.00000000 0.0000000 0.1580366 0.03532448  2.277357\n",
       "17  86 2   0.1770559 0.00000000 1.0000000 0.1770559 0.03568408  1.559432\n",
       "18  85 2   0.1708914 0.00000000 1.0000000 0.1708914 0.04112578  1.937500\n",
       "19  80 1   0.3396907 0.29098501 0.8823397 0.1322230 0.05391686 10.713137\n",
       "20  75 2   0.1694845 0.00000000 1.0000000 0.1694845 0.03390687  1.557407\n",
       "21  75 1   0.3241237 0.31139276 0.1309270 0.1249543 0.03877000 13.667443\n",
       "22  73 2   0.1818952 0.00000000 1.0000000 0.1818952 0.03835773  1.883562\n",
       "23  72 2   0.1927262 0.00000000 0.0000000 0.1927262 0.03253824  1.371142\n",
       "24  72 2   0.1384593 0.00000000 0.0000000 0.1384593 0.03142366  2.371914\n",
       "25  71 2   0.1395383 0.00000000 0.0000000 0.1395383 0.02336827  2.104509\n",
       "   n_sd       \n",
       "1  50.54727757\n",
       "2  32.72294244\n",
       "3   0.27674606\n",
       "4   0.37510258\n",
       "5  18.68879391\n",
       "6  24.21832575\n",
       "7  17.94806037\n",
       "8   0.28694461\n",
       "9  17.19599346\n",
       "10  0.10537674\n",
       "11  8.01526494\n",
       "12 11.46125716\n",
       "13  4.57943209\n",
       "14  0.43699089\n",
       "15  4.83885020\n",
       "16  0.45838823\n",
       "17  0.03560593\n",
       "18  0.21330865\n",
       "19  4.44523623\n",
       "20  0.16700000\n",
       "21  7.83313327\n",
       "22  0.34942688\n",
       "23  0.20035424\n",
       "24  0.44064828\n",
       "25  0.25416191"
      ]
     },
     "metadata": {},
     "output_type": "display_data"
    }
   ],
   "source": [
    "pc$rules_summary %>% subset(inN >= 70) %>% presentRules(colN = colnames(preclu$data))"
   ]
  },
  {
   "cell_type": "markdown",
   "metadata": {},
   "source": [
    "## some formatting for plots"
   ]
  },
  {
   "cell_type": "code",
   "execution_count": 37,
   "metadata": {
    "ExecuteTime": {
     "end_time": "2021-12-12T09:02:47.280685Z",
     "start_time": "2021-12-12T09:02:25.682Z"
    }
   },
   "outputs": [
    {
     "data": {
      "text/html": [
       "20"
      ],
      "text/latex": [
       "20"
      ],
      "text/markdown": [
       "20"
      ],
      "text/plain": [
       "[1] 20"
      ]
     },
     "metadata": {},
     "output_type": "display_data"
    }
   ],
   "source": [
    "pc$nodes$var %>% str_replace(pattern = '\\\\_{2}.*', replacement = '') %>%unique %>% length"
   ]
  },
  {
   "cell_type": "code",
   "execution_count": 38,
   "metadata": {
    "ExecuteTime": {
     "end_time": "2021-12-12T09:02:47.296706Z",
     "start_time": "2021-12-12T09:02:25.685Z"
    }
   },
   "outputs": [],
   "source": [
    "pc$nodes$Feature <- pc$nodes$var"
   ]
  },
  {
   "cell_type": "code",
   "execution_count": 39,
   "metadata": {
    "ExecuteTime": {
     "end_time": "2021-12-12T09:02:47.318251Z",
     "start_time": "2021-12-12T09:02:25.687Z"
    }
   },
   "outputs": [],
   "source": [
    "pc$edges$x <- pc$edges$x %>% str_replace(pattern = '(?<=s\\\\_[:upper:])[:lower:]+(?=\\\\_)', replacement = '') %>%\n",
    "                str_replace(pattern = '^[:lower:]\\\\_', replacement = '')\n",
    "pc$edges$y <- pc$edges$y %>% str_replace(pattern = '(?<=s\\\\_[:upper:])[:lower:]+(?=\\\\_)', replacement = '') %>%\n",
    "                str_replace(pattern = '^[:lower:]\\\\_', replacement = '')\n",
    "pc$nodes$var <- pc$nodes$var %>% str_replace(pattern = '(?<=s\\\\_[:upper:])[:lower:]+(?=\\\\_)', replacement = '') %>%\n",
    "                str_replace(pattern = '^[:lower:]\\\\_', replacement = '')"
   ]
  },
  {
   "cell_type": "code",
   "execution_count": 40,
   "metadata": {
    "ExecuteTime": {
     "end_time": "2021-12-12T09:02:47.344439Z",
     "start_time": "2021-12-12T09:02:25.689Z"
    }
   },
   "outputs": [],
   "source": [
    "tmp <- pc$nodes %>% arrange(-importance) %>% head(20) %>% select(var) %>% unlist\n",
    "pc$nodes$lab <- ifelse(pc$nodes$var %in% tmp, pc$nodes$var, '')"
   ]
  },
  {
   "cell_type": "markdown",
   "metadata": {},
   "source": [
    "# plots"
   ]
  },
  {
   "cell_type": "markdown",
   "metadata": {},
   "source": [
    "## Networks"
   ]
  },
  {
   "cell_type": "code",
   "execution_count": 41,
   "metadata": {
    "ExecuteTime": {
     "end_time": "2021-12-12T09:02:47.360044Z",
     "start_time": "2021-12-12T09:02:25.693Z"
    }
   },
   "outputs": [],
   "source": [
    "lims <- c(min(pc$edges$influence, pc$nodes$influence), \n",
    "max(pc$edges$influence, pc$nodes$influence))"
   ]
  },
  {
   "cell_type": "code",
   "execution_count": 42,
   "metadata": {
    "ExecuteTime": {
     "end_time": "2021-12-12T09:02:47.377941Z",
     "start_time": "2021-12-12T09:02:25.696Z"
    }
   },
   "outputs": [
    {
     "data": {
      "text/html": [
       "-0.334328175673691"
      ],
      "text/latex": [
       "-0.334328175673691"
      ],
      "text/markdown": [
       "-0.334328175673691"
      ],
      "text/plain": [
       "[1] -0.3343282"
      ]
     },
     "metadata": {},
     "output_type": "display_data"
    }
   ],
   "source": [
    "min(pc$edges$influence)"
   ]
  },
  {
   "cell_type": "code",
   "execution_count": 43,
   "metadata": {
    "ExecuteTime": {
     "end_time": "2021-12-12T09:02:47.394245Z",
     "start_time": "2021-12-12T09:02:25.698Z"
    }
   },
   "outputs": [],
   "source": [
    "lims_imp <- c(min(pc$edges$importance, pc$nodes$importance), \n",
    "max(pc$edges$importance, pc$nodes$importance))"
   ]
  },
  {
   "cell_type": "code",
   "execution_count": 44,
   "metadata": {
    "ExecuteTime": {
     "end_time": "2021-12-12T09:02:47.718405Z",
     "start_time": "2021-12-12T09:02:25.701Z"
    }
   },
   "outputs": [
    {
     "name": "stderr",
     "output_type": "stream",
     "text": [
      "Scale for 'fill' is already present. Adding another scale for 'fill', which\n",
      "will replace the existing scale.\n",
      "\n",
      "Scale for 'size' is already present. Adding another scale for 'size', which\n",
      "will replace the existing scale.\n",
      "\n",
      "Scale for 'edge_width' is already present. Adding another scale for\n",
      "'edge_width', which will replace the existing scale.\n",
      "\n"
     ]
    }
   ],
   "source": [
    "net25 <- plotNetwork(pc, layout = 'fr', hide_isolated_nodes = FALSE \n",
    "                     , colour_edge_low = \"#E69F00\", colour_edge_mid = \"grey87\", colour_edge_high = \"#0072B2\"\n",
    "                     , colour_node_low = \"#E69F00\", colour_node_mid = \"grey87\", colour_node_high = \"#0072B2\"\n",
    "                     , text_size = 4)+\n",
    "scale_edge_alpha(range = c(0.8, 1))+\n",
    "\n",
    "labs(size = 'Importance', edge_width = 'Importance', fill = 'Influence'\n",
    "     , title = expression('endoR network (B = 100, \\u03b1 = 30, '*pi*' = 0.7)'))+ \n",
    "\n",
    "scale_fill_gradient2(low = \"#E69F00\", mid = \"grey87\", high =\"#0072B2\", midpoint = 0, lim = lims,\n",
    "    breaks = c(-0.35, 0 , 0.4), labels = c('healthy', 'neutral', 'cirrhosis'))+\n",
    "theme_graph(base_family=\"sans\")+\n",
    "\n",
    "theme(plot.title = element_text(size = rel(1.25), face=\"plain\")\n",
    "      , legend.title=element_text(size=rel(1.2), vjust = .85)\n",
    "      , legend.text = element_text(size = rel(1.2))) +\n",
    "\n",
    "scale_size(limits = lims_imp)+\n",
    "scale_edge_width(limits = lims_imp)"
   ]
  },
  {
   "cell_type": "code",
   "execution_count": 45,
   "metadata": {
    "ExecuteTime": {
     "end_time": "2021-12-12T09:02:48.581798Z",
     "start_time": "2021-12-12T09:02:25.704Z"
    },
    "scrolled": true
   },
   "outputs": [
    {
     "data": {
      "image/png": "[encoded data removed]",
      "text/plain": [
       "plot without title"
      ]
     },
     "metadata": {
      "image/png": {
       "height": 300,
       "width": 600
      }
     },
     "output_type": "display_data"
    }
   ],
   "source": [
    "options(repr.plot.width=10, repr.plot.height=5)\n",
    "net25"
   ]
  },
  {
   "cell_type": "markdown",
   "metadata": {},
   "source": [
    "## aggregated features"
   ]
  },
  {
   "cell_type": "code",
   "execution_count": 46,
   "metadata": {
    "ExecuteTime": {
     "end_time": "2021-12-12T09:02:48.710440Z",
     "start_time": "2021-12-12T09:02:25.708Z"
    }
   },
   "outputs": [],
   "source": [
    "# from the main text and supplementary table 4:\n",
    "# order ignored\n",
    "# Strains: species used, if the species was not detected in data, then the genus is used\n",
    "qinH <- c('g_Bacteroides', 'g_Alistipes', 'g_Clostridium', 'g_Dialister ', 'g_Eggerthella', 'g_Eubacterium'\n",
    "          , 'g_Oscillibacter', 'g_Parabacteroides', 'g_Subdoligranulum', 'f_Lachnospiraceae', 'f_Porphyromonadaceae'\n",
    "          , 'f_Ruminococcaceae', 's_Alistipes_indistinctus', 's_Bacteroides_clarus', 's_Bacteroides_uniformis'\n",
    "          , 's_Bilophila_wadsworthia', 's_Coprococcus_comes', 's_Faecalibacterium_prausnitzii')\n",
    "\n",
    "qinC <- c('g_Veillonella', 'g_Streptococcus', 'g_Clostridium', 'g_Prevotella','g_Lactobacillus', 'g_Aggregatibacter'\n",
    "          , 'g_Campylobacter', 'g_Haemophilus', 's_Bifidobacterium_dentium', 's_Clostridium_perfringens'\n",
    "          , 's_Clostridium_symbiosum', 's_Fusobacterium_nucleatum', 's_Lactobacillus_fermentum'\n",
    "          , 's_Lactobacillus_mucosae', 's_Lactobacillus_salivarius', 's_Megasphaera_micronuciformis'\n",
    "          , 's_Prevotella_buccae', 's_Ruminococcus_gnavus', 's_Streptococcus_anginosus', 's_Streptococcus_oralis'\n",
    "          , 's_Streptococcus_parasanguinis', 's_Streptococcus_salivarius', 's_Veillonella_parvula' )"
   ]
  },
  {
   "cell_type": "code",
   "execution_count": 47,
   "metadata": {
    "ExecuteTime": {
     "end_time": "2021-12-12T09:02:48.812683Z",
     "start_time": "2021-12-12T09:02:25.710Z"
    }
   },
   "outputs": [],
   "source": [
    "relH <- list()\n",
    "for (f in qinH){\n",
    "    i <- which(colnames(tax_names) == str_extract(f, pattern = '^[:lower:]'))\n",
    "    tmp <- unique(unlist(tax_names[which(tax_names[,i]==f), 5:7]))\n",
    "    \n",
    "    if (str_extract(f, pattern = '^[:lower:]') == 's'){\n",
    "        tmp <- unique(c(tmp, unlist(tax_names[which(tax_names[,6]==tmp[2]), 5:7])))\n",
    "    }\n",
    "    \n",
    "    relH[[f]] <- tmp\n",
    "}\n",
    "\n",
    "relC <- list()\n",
    "for (f in qinC){\n",
    "    i <- which(colnames(tax_names) == str_extract(f, pattern = '^[:lower:]'))\n",
    "    tmp <- unique(unlist(tax_names[which(tax_names[,i]==f), 5:7]))\n",
    "    \n",
    "    if (str_extract(f, pattern = '^[:lower:]') == 's'){\n",
    "        tmp <- unique(c(tmp, unlist(tax_names[which(tax_names[,6]==tmp[2]), 5:7])))\n",
    "    }\n",
    "    relC[[f]] <- tmp\n",
    "}"
   ]
  },
  {
   "cell_type": "code",
   "execution_count": 48,
   "metadata": {
    "ExecuteTime": {
     "end_time": "2021-12-12T09:02:48.832560Z",
     "start_time": "2021-12-12T09:02:25.712Z"
    }
   },
   "outputs": [],
   "source": [
    "featureImportance <- function(nodes){\n",
    "    featImp <- copy(nodes)\n",
    "    featImp$Feature <- str_replace(nodes$Feature, pattern = '\\\\_{2}.*', replacement = '')\n",
    "    featImp <- group_by(featImp, Feature) %>% summarise(importance = sum(importance)) %>% arrange(-importance)\n",
    "    return(featImp)\n",
    "}"
   ]
  },
  {
   "cell_type": "code",
   "execution_count": 49,
   "metadata": {
    "ExecuteTime": {
     "end_time": "2021-12-12T09:02:48.872300Z",
     "start_time": "2021-12-12T09:02:25.715Z"
    }
   },
   "outputs": [
    {
     "name": "stderr",
     "output_type": "stream",
     "text": [
      "`summarise()` ungrouping output (override with `.groups` argument)\n",
      "\n"
     ]
    }
   ],
   "source": [
    "agg_imp <- featureImportance(pc$nodes)\n",
    "agg_imp$Feature <- factor(agg_imp$Feature, levels = agg_imp$Feature[order(agg_imp$importance)])"
   ]
  },
  {
   "cell_type": "code",
   "execution_count": 50,
   "metadata": {
    "ExecuteTime": {
     "end_time": "2021-12-12T09:02:48.895288Z",
     "start_time": "2021-12-12T09:02:25.717Z"
    }
   },
   "outputs": [],
   "source": [
    "agg_imp$inQin <- ifelse(agg_imp$Feature %in% c(qinH, qinC), 'yes'\n",
    "                       , ifelse(agg_imp$Feature %in% c(unlist(relH), unlist(relC)), 'a related taxa was'\n",
    "                                , 'no'))\n",
    "agg_imp$inQin <- factor(agg_imp$inQin, levels = c('yes', 'a related taxa was', 'no'))"
   ]
  },
  {
   "cell_type": "code",
   "execution_count": 51,
   "metadata": {
    "ExecuteTime": {
     "end_time": "2021-12-12T09:02:48.929483Z",
     "start_time": "2021-12-12T09:02:25.720Z"
    }
   },
   "outputs": [],
   "source": [
    "feat_agg <- ggplot(agg_imp, aes(x = Feature, y = importance)) + \n",
    "#geom_col(fill = 'lightgray', width = .1) + \n",
    "geom_point(aes(fill = inQin), size = 3, shape = 21) + coord_flip() + \n",
    "theme_classic() + \n",
    "\n",
    "theme(panel.grid.major.y = element_line(colour = \"grey\", size = .2)\n",
    "      ,axis.text.x = element_text(size = rel(1.4))\n",
    "      ,axis.text.y = element_text(size = rel(1.4))\n",
    "      ,legend.text = element_text(size = rel(1.2)), legend.title = element_text(size = rel(1.2))\n",
    "     , legend.position = 'left'\n",
    "     #,legend.margin = unit(c(0,200,0,-100), 'pt')\n",
    "     ) + \n",
    "\n",
    "labs(x = '', y = 'Importance', title = 'Importance')+\n",
    "scale_fill_manual(values = c('chocolate2', 'goldenrod1', 'white'), name = 'Detected in Qin et al., 2014:'\n",
    "                 , guide = guide_legend(ncol = 1, byrow = T, title.vjust = 0.5, title.position=\"top\"))"
   ]
  },
  {
   "cell_type": "code",
   "execution_count": 52,
   "metadata": {
    "ExecuteTime": {
     "end_time": "2021-12-12T09:02:49.305725Z",
     "start_time": "2021-12-12T09:02:25.723Z"
    }
   },
   "outputs": [
    {
     "data": {
      "image/png": "[encoded data removed]",
      "text/plain": [
       "plot without title"
      ]
     },
     "metadata": {
      "image/png": {
       "height": 240,
       "width": 420
      }
     },
     "output_type": "display_data"
    }
   ],
   "source": [
    "options(repr.plot.width=7, repr.plot.height=4)\n",
    "feat_agg"
   ]
  },
  {
   "cell_type": "markdown",
   "metadata": {},
   "source": [
    "## features"
   ]
  },
  {
   "cell_type": "code",
   "execution_count": 53,
   "metadata": {
    "ExecuteTime": {
     "end_time": "2021-12-12T09:02:49.321998Z",
     "start_time": "2021-12-12T09:02:25.726Z"
    }
   },
   "outputs": [],
   "source": [
    "agg_imp$Feature_short <- agg_imp$Feature %>% str_replace(pattern = '(?<=s\\\\_[:upper:])[:lower:]+(?=\\\\_)', replacement = '') %>%\n",
    "                str_replace(pattern = '^[:lower:]\\\\_', replacement = '')"
   ]
  },
  {
   "cell_type": "code",
   "execution_count": 54,
   "metadata": {
    "ExecuteTime": {
     "end_time": "2021-12-12T09:02:49.368957Z",
     "start_time": "2021-12-12T09:02:25.728Z"
    }
   },
   "outputs": [],
   "source": [
    "tmp <- pc$nodes %>% select(var, influence)\n",
    "tmp$level <- str_extract(tmp$var, pattern = '(?<=\\\\_{2}).*')\n",
    "tmp$Feature_short <- str_extract(tmp$var, pattern = '.*(?=\\\\_{2})')\n",
    "tmp <- left_join(tmp, select(agg_imp, Feature_short, Feature, importance), by = 'Feature_short')"
   ]
  },
  {
   "cell_type": "code",
   "execution_count": 55,
   "metadata": {
    "ExecuteTime": {
     "end_time": "2021-12-12T09:02:49.388496Z",
     "start_time": "2021-12-12T09:02:25.731Z"
    }
   },
   "outputs": [],
   "source": [
    "tmp$Feature <- factor(tmp$Feature, levels = agg_imp$Feature[order(agg_imp$importance)])"
   ]
  },
  {
   "cell_type": "code",
   "execution_count": 56,
   "metadata": {
    "ExecuteTime": {
     "end_time": "2021-12-12T09:02:49.407707Z",
     "start_time": "2021-12-12T09:02:25.733Z"
    }
   },
   "outputs": [],
   "source": [
    "tmp$level <- factor(tmp$level, levels = c('Low', 'Medium', 'High', 'male'))"
   ]
  },
  {
   "cell_type": "code",
   "execution_count": 57,
   "metadata": {
    "ExecuteTime": {
     "end_time": "2021-12-12T09:02:50.170311Z",
     "start_time": "2021-12-12T09:02:25.736Z"
    }
   },
   "outputs": [],
   "source": [
    "level_inf <- ggplot(tmp, aes(x = level, Feature, fill= influence)) + geom_tile(color = 'white')+\n",
    "theme_classic()+\n",
    "theme(axis.text.x = element_text(size = rel(1.4))\n",
    "      ,axis.text.y = element_blank()\n",
    "      ,legend.text = element_text(size = rel(1.2))\n",
    "      , legend.title=element_text(size=rel(1.2), vjust = .85)\n",
    "      ) + \n",
    "\n",
    "labs(x = 'Level', y = '', title = 'Influence per level') +\n",
    "\n",
    "scale_fill_gradient2(low = \"#E69F00\", mid = \"grey87\", high =\"#0072B2\", midpoint = 0, \n",
    "    , lim = lims,breaks = c(-0.35, 0, 0.4), labels = c('healthy', 'neutral', 'cirrhosis'), name = 'Influence')"
   ]
  },
  {
   "cell_type": "markdown",
   "metadata": {},
   "source": [
    "## Assemblage"
   ]
  },
  {
   "cell_type": "code",
   "execution_count": 71,
   "metadata": {
    "ExecuteTime": {
     "end_time": "2021-12-12T09:45:45.640020Z",
     "start_time": "2021-12-12T09:45:45.320Z"
    }
   },
   "outputs": [],
   "source": [
    "feats <- ggarrange(feat_agg, level_inf, ncol = 2, nrow = 1, widths = c(1, .5)) #, labels = c('A', NULL)"
   ]
  },
  {
   "cell_type": "code",
   "execution_count": 59,
   "metadata": {
    "ExecuteTime": {
     "end_time": "2021-12-12T09:02:50.915643Z",
     "start_time": "2021-12-12T09:02:25.741Z"
    }
   },
   "outputs": [],
   "source": [
    "r2 <- ggarrange(al_plot, net25, ncol = 2, nrow = 1, widths = c(0.25,0.75), labels = c('B', 'C'))"
   ]
  },
  {
   "cell_type": "code",
   "execution_count": 72,
   "metadata": {
    "ExecuteTime": {
     "end_time": "2021-12-12T09:45:53.444877Z",
     "start_time": "2021-12-12T09:45:53.043Z"
    }
   },
   "outputs": [],
   "source": [
    "qin_plot <- ggarrange(feats, net25, ncol = 1, nrow = 2, heights = c(0.6,0.4), labels = c('A', 'B'))"
   ]
  },
  {
   "cell_type": "code",
   "execution_count": 73,
   "metadata": {
    "ExecuteTime": {
     "end_time": "2021-12-12T09:45:54.584735Z",
     "start_time": "2021-12-12T09:45:53.341Z"
    }
   },
   "outputs": [
    {
     "data": {
      "image/png": "[encoded data removed]",
      "text/plain": [
       "plot without title"
      ]
     },
     "metadata": {
      "image/png": {
       "height": 480,
       "width": 720
      }
     },
     "output_type": "display_data"
    }
   ],
   "source": [
    "options(repr.plot.width=12, repr.plot.height=8)\n",
    "qin_plot"
   ]
  },
  {
   "cell_type": "code",
   "execution_count": 74,
   "metadata": {
    "ExecuteTime": {
     "end_time": "2021-12-12T09:45:59.034568Z",
     "start_time": "2021-12-12T09:45:58.324Z"
    }
   },
   "outputs": [
    {
     "name": "stderr",
     "output_type": "stream",
     "text": [
      "Warning message in grid.Call(C_textBounds, as.graphicsAnnot(x$label), x$x, x$y, :\n",
      "“font metrics unknown for Unicode character U+03b1”\n",
      "Warning message in grid.Call(C_textBounds, as.graphicsAnnot(x$label), x$x, x$y, :\n",
      "“conversion failure on 'endoR network (B = 100, α = 30, ' in 'mbcsToSbcs': dot substituted for <ce>”\n",
      "Warning message in grid.Call(C_textBounds, as.graphicsAnnot(x$label), x$x, x$y, :\n",
      "“conversion failure on 'endoR network (B = 100, α = 30, ' in 'mbcsToSbcs': dot substituted for <b1>”\n",
      "Warning message in grid.Call(C_textBounds, as.graphicsAnnot(x$label), x$x, x$y, :\n",
      "“font metrics unknown for Unicode character U+03b1”\n",
      "Warning message in grid.Call(C_textBounds, as.graphicsAnnot(x$label), x$x, x$y, :\n",
      "“conversion failure on 'endoR network (B = 100, α = 30, ' in 'mbcsToSbcs': dot substituted for <ce>”\n",
      "Warning message in grid.Call(C_textBounds, as.graphicsAnnot(x$label), x$x, x$y, :\n",
      "“conversion failure on 'endoR network (B = 100, α = 30, ' in 'mbcsToSbcs': dot substituted for <b1>”\n",
      "Warning message in grid.Call(C_textBounds, as.graphicsAnnot(x$label), x$x, x$y, :\n",
      "“font metrics unknown for Unicode character U+03b1”\n",
      "Warning message in grid.Call(C_textBounds, as.graphicsAnnot(x$label), x$x, x$y, :\n",
      "“conversion failure on 'endoR network (B = 100, α = 30, ' in 'mbcsToSbcs': dot substituted for <ce>”\n",
      "Warning message in grid.Call(C_textBounds, as.graphicsAnnot(x$label), x$x, x$y, :\n",
      "“conversion failure on 'endoR network (B = 100, α = 30, ' in 'mbcsToSbcs': dot substituted for <b1>”\n",
      "Warning message in grid.Call(C_textBounds, as.graphicsAnnot(x$label), x$x, x$y, :\n",
      "“font metrics unknown for Unicode character U+03b1”\n",
      "Warning message in grid.Call(C_textBounds, as.graphicsAnnot(x$label), x$x, x$y, :\n",
      "“conversion failure on 'endoR network (B = 100, α = 30, ' in 'mbcsToSbcs': dot substituted for <ce>”\n",
      "Warning message in grid.Call(C_textBounds, as.graphicsAnnot(x$label), x$x, x$y, :\n",
      "“conversion failure on 'endoR network (B = 100, α = 30, ' in 'mbcsToSbcs': dot substituted for <b1>”\n",
      "Warning message in grid.Call(C_textBounds, as.graphicsAnnot(x$label), x$x, x$y, :\n",
      "“font metrics unknown for Unicode character U+03b1”\n",
      "Warning message in grid.Call(C_textBounds, as.graphicsAnnot(x$label), x$x, x$y, :\n",
      "“conversion failure on 'endoR network (B = 100, α = 30, ' in 'mbcsToSbcs': dot substituted for <ce>”\n",
      "Warning message in grid.Call(C_textBounds, as.graphicsAnnot(x$label), x$x, x$y, :\n",
      "“conversion failure on 'endoR network (B = 100, α = 30, ' in 'mbcsToSbcs': dot substituted for <b1>”\n",
      "Warning message in grid.Call(C_textBounds, as.graphicsAnnot(x$label), x$x, x$y, :\n",
      "“font metrics unknown for Unicode character U+03b1”\n",
      "Warning message in grid.Call(C_textBounds, as.graphicsAnnot(x$label), x$x, x$y, :\n",
      "“conversion failure on 'endoR network (B = 100, α = 30, ' in 'mbcsToSbcs': dot substituted for <ce>”\n",
      "Warning message in grid.Call(C_textBounds, as.graphicsAnnot(x$label), x$x, x$y, :\n",
      "“conversion failure on 'endoR network (B = 100, α = 30, ' in 'mbcsToSbcs': dot substituted for <b1>”\n",
      "Warning message in grid.Call(C_textBounds, as.graphicsAnnot(x$label), x$x, x$y, :\n",
      "“font metrics unknown for Unicode character U+03b1”\n",
      "Warning message in grid.Call(C_textBounds, as.graphicsAnnot(x$label), x$x, x$y, :\n",
      "“conversion failure on 'endoR network (B = 100, α = 30, ' in 'mbcsToSbcs': dot substituted for <ce>”\n",
      "Warning message in grid.Call(C_textBounds, as.graphicsAnnot(x$label), x$x, x$y, :\n",
      "“conversion failure on 'endoR network (B = 100, α = 30, ' in 'mbcsToSbcs': dot substituted for <b1>”\n",
      "Warning message in grid.Call(C_textBounds, as.graphicsAnnot(x$label), x$x, x$y, :\n",
      "“font metrics unknown for Unicode character U+03b1”\n",
      "Warning message in grid.Call(C_textBounds, as.graphicsAnnot(x$label), x$x, x$y, :\n",
      "“conversion failure on 'endoR network (B = 100, α = 30, ' in 'mbcsToSbcs': dot substituted for <ce>”\n",
      "Warning message in grid.Call(C_textBounds, as.graphicsAnnot(x$label), x$x, x$y, :\n",
      "“conversion failure on 'endoR network (B = 100, α = 30, ' in 'mbcsToSbcs': dot substituted for <b1>”\n",
      "Warning message in grid.Call(C_textBounds, as.graphicsAnnot(x$label), x$x, x$y, :\n",
      "“font metrics unknown for Unicode character U+03b1”\n",
      "Warning message in grid.Call(C_textBounds, as.graphicsAnnot(x$label), x$x, x$y, :\n",
      "“conversion failure on 'endoR network (B = 100, α = 30, ' in 'mbcsToSbcs': dot substituted for <ce>”\n",
      "Warning message in grid.Call(C_textBounds, as.graphicsAnnot(x$label), x$x, x$y, :\n",
      "“conversion failure on 'endoR network (B = 100, α = 30, ' in 'mbcsToSbcs': dot substituted for <b1>”\n",
      "Warning message in grid.Call(C_textBounds, as.graphicsAnnot(x$label), x$x, x$y, :\n",
      "“font metrics unknown for Unicode character U+03b1”\n",
      "Warning message in grid.Call(C_textBounds, as.graphicsAnnot(x$label), x$x, x$y, :\n",
      "“conversion failure on 'endoR network (B = 100, α = 30, ' in 'mbcsToSbcs': dot substituted for <ce>”\n",
      "Warning message in grid.Call(C_textBounds, as.graphicsAnnot(x$label), x$x, x$y, :\n",
      "“conversion failure on 'endoR network (B = 100, α = 30, ' in 'mbcsToSbcs': dot substituted for <b1>”\n",
      "Warning message in grid.Call(C_textBounds, as.graphicsAnnot(x$label), x$x, x$y, :\n",
      "“font metrics unknown for Unicode character U+03b1”\n",
      "Warning message in grid.Call(C_textBounds, as.graphicsAnnot(x$label), x$x, x$y, :\n",
      "“conversion failure on 'endoR network (B = 100, α = 30, ' in 'mbcsToSbcs': dot substituted for <ce>”\n",
      "Warning message in grid.Call(C_textBounds, as.graphicsAnnot(x$label), x$x, x$y, :\n",
      "“conversion failure on 'endoR network (B = 100, α = 30, ' in 'mbcsToSbcs': dot substituted for <b1>”\n",
      "Warning message in grid.Call(C_textBounds, as.graphicsAnnot(x$label), x$x, x$y, :\n",
      "“font metrics unknown for Unicode character U+03b1”\n",
      "Warning message in grid.Call(C_textBounds, as.graphicsAnnot(x$label), x$x, x$y, :\n",
      "“conversion failure on 'endoR network (B = 100, α = 30, ' in 'mbcsToSbcs': dot substituted for <ce>”\n",
      "Warning message in grid.Call(C_textBounds, as.graphicsAnnot(x$label), x$x, x$y, :\n",
      "“conversion failure on 'endoR network (B = 100, α = 30, ' in 'mbcsToSbcs': dot substituted for <b1>”\n",
      "Warning message in grid.Call(C_textBounds, as.graphicsAnnot(x$label), x$x, x$y, :\n",
      "“font metrics unknown for Unicode character U+03b1”\n",
      "Warning message in grid.Call(C_textBounds, as.graphicsAnnot(x$label), x$x, x$y, :\n",
      "“conversion failure on 'endoR network (B = 100, α = 30, ' in 'mbcsToSbcs': dot substituted for <ce>”\n",
      "Warning message in grid.Call(C_textBounds, as.graphicsAnnot(x$label), x$x, x$y, :\n",
      "“conversion failure on 'endoR network (B = 100, α = 30, ' in 'mbcsToSbcs': dot substituted for <b1>”\n",
      "Warning message in grid.Call(C_textBounds, as.graphicsAnnot(x$label), x$x, x$y, :\n",
      "“font metrics unknown for Unicode character U+03b1”\n",
      "Warning message in grid.Call(C_textBounds, as.graphicsAnnot(x$label), x$x, x$y, :\n",
      "“conversion failure on 'endoR network (B = 100, α = 30, ' in 'mbcsToSbcs': dot substituted for <ce>”\n",
      "Warning message in grid.Call(C_textBounds, as.graphicsAnnot(x$label), x$x, x$y, :\n",
      "“conversion failure on 'endoR network (B = 100, α = 30, ' in 'mbcsToSbcs': dot substituted for <b1>”\n",
      "Warning message in grid.Call.graphics(C_text, as.graphicsAnnot(x$label), x$x, x$y, :\n",
      "“font metrics unknown for Unicode character U+03b1”\n",
      "Warning message in grid.Call.graphics(C_text, as.graphicsAnnot(x$label), x$x, x$y, :\n",
      "“conversion failure on 'endoR network (B = 100, α = 30, ' in 'mbcsToSbcs': dot substituted for <ce>”\n",
      "Warning message in grid.Call.graphics(C_text, as.graphicsAnnot(x$label), x$x, x$y, :\n",
      "“conversion failure on 'endoR network (B = 100, α = 30, ' in 'mbcsToSbcs': dot substituted for <b1>”\n",
      "Warning message in grid.Call.graphics(C_text, as.graphicsAnnot(x$label), x$x, x$y, :\n",
      "“font metrics unknown for Unicode character U+03b1”\n",
      "Warning message in grid.Call.graphics(C_text, as.graphicsAnnot(x$label), x$x, x$y, :\n",
      "“conversion failure on 'endoR network (B = 100, α = 30, ' in 'mbcsToSbcs': dot substituted for <ce>”\n",
      "Warning message in grid.Call.graphics(C_text, as.graphicsAnnot(x$label), x$x, x$y, :\n",
      "“conversion failure on 'endoR network (B = 100, α = 30, ' in 'mbcsToSbcs': dot substituted for <b1>”\n",
      "Warning message in grid.Call.graphics(C_text, as.graphicsAnnot(x$label), x$x, x$y, :\n",
      "“conversion failure on 'endoR network (B = 100, α = 30, ' in 'mbcsToSbcs': dot substituted for <ce>”\n"
     ]
    },
    {
     "name": "stderr",
     "output_type": "stream",
     "text": [
      "Warning message in grid.Call.graphics(C_text, as.graphicsAnnot(x$label), x$x, x$y, :\n",
      "“conversion failure on 'endoR network (B = 100, α = 30, ' in 'mbcsToSbcs': dot substituted for <b1>”\n",
      "Warning message in grid.Call.graphics(C_text, as.graphicsAnnot(x$label), x$x, x$y, :\n",
      "“conversion failure on 'endoR network (B = 100, α = 30, ' in 'mbcsToSbcs': dot substituted for <ce>”\n",
      "Warning message in grid.Call.graphics(C_text, as.graphicsAnnot(x$label), x$x, x$y, :\n",
      "“conversion failure on 'endoR network (B = 100, α = 30, ' in 'mbcsToSbcs': dot substituted for <b1>”\n"
     ]
    }
   ],
   "source": [
    "ggsave(qin_plot, device = 'pdf', dpi = 300, width = 12, height = 8\n",
    ", filename = '/ebio/abt3_projects/Methanogen_SCFA/Metagenomes_methanogen/RF_coocc/RF_coocc/MLtasks_repo//qin2014/tmp/Cirrhosis_tafs_tmp.pdf')"
   ]
  },
  {
   "cell_type": "markdown",
   "metadata": {},
   "source": [
    "# Save misc"
   ]
  },
  {
   "cell_type": "code",
   "execution_count": 62,
   "metadata": {
    "ExecuteTime": {
     "end_time": "2021-12-12T09:08:17.022934Z",
     "start_time": "2021-12-12T09:08:15.474Z"
    }
   },
   "outputs": [],
   "source": [
    "saveRDS(agg_imp, '../tmp/agg_imp.RDS')"
   ]
  },
  {
   "cell_type": "code",
   "execution_count": 79,
   "metadata": {
    "ExecuteTime": {
     "end_time": "2021-12-12T15:06:01.000573Z",
     "start_time": "2021-12-12T15:06:00.779Z"
    }
   },
   "outputs": [
    {
     "data": {
      "text/html": [
       "<table class=\"dataframe\">\n",
       "<caption>A data.table: 23 × 3</caption>\n",
       "<thead>\n",
       "\t<tr><th scope=col>Feature</th><th scope=col>importance</th><th scope=col>influence</th></tr>\n",
       "\t<tr><th scope=col>&lt;chr&gt;</th><th scope=col>&lt;dbl&gt;</th><th scope=col>&lt;dbl&gt;</th></tr>\n",
       "</thead>\n",
       "<tbody>\n",
       "\t<tr><td>s_Megasphaera_micronuciformis__High    </td><td>10.00619499</td><td> 0.44801959</td></tr>\n",
       "\t<tr><td>s_Veillonella_parvula__High            </td><td> 2.79596222</td><td> 0.42695076</td></tr>\n",
       "\t<tr><td>f_Veillonellaceae__High                </td><td> 1.72376194</td><td> 0.37706647</td></tr>\n",
       "\t<tr><td>g_Streptococcus__High                  </td><td> 1.30409219</td><td> 0.40673645</td></tr>\n",
       "\t<tr><td>s_Adlercreutzia_equolifaciens__High    </td><td> 1.04027605</td><td>-0.34314730</td></tr>\n",
       "\t<tr><td>g_Leptotrichia__High                   </td><td> 0.99843850</td><td> 0.40793494</td></tr>\n",
       "\t<tr><td>s_Lactobacillus_salivarius__High       </td><td> 0.80692971</td><td> 0.38826883</td></tr>\n",
       "\t<tr><td>s_Megasphaera_micronuciformis__Low     </td><td> 0.76512143</td><td>-0.29754029</td></tr>\n",
       "\t<tr><td>s_Fusobacterium_nucleatum__High        </td><td> 0.62492825</td><td> 0.38614051</td></tr>\n",
       "\t<tr><td>g_Campylobacter__High                  </td><td> 0.41901681</td><td> 0.37936608</td></tr>\n",
       "\t<tr><td>f_Eggerthellaceae__High                </td><td> 0.34911611</td><td>-0.38976025</td></tr>\n",
       "\t<tr><td>s_Kingella_denitrificans__High         </td><td> 0.26383097</td><td> 0.35424689</td></tr>\n",
       "\t<tr><td>f_Veillonellaceae__Low                 </td><td> 0.13845850</td><td>-0.21185110</td></tr>\n",
       "\t<tr><td>s_Lachnoanaerobaculum_saburreum__Medium</td><td> 0.13358752</td><td>-0.18825172</td></tr>\n",
       "\t<tr><td>s_Veillonella_parvula__Low             </td><td> 0.13190321</td><td>-0.19162724</td></tr>\n",
       "\t<tr><td>s_Clostridium_symbiosum__Medium        </td><td> 0.07964943</td><td>-0.18016673</td></tr>\n",
       "\t<tr><td>s_Bacteroides_uniformis__High          </td><td> 0.06770520</td><td>-0.20615833</td></tr>\n",
       "\t<tr><td>s_Rikenella_microfusus__Low            </td><td> 0.06656339</td><td> 0.12325117</td></tr>\n",
       "\t<tr><td>f_Pasteurellaceae__High                </td><td> 0.06306403</td><td> 0.22840472</td></tr>\n",
       "\t<tr><td>s_Fermentimonas_caenicola__Medium      </td><td> 0.04755703</td><td>-0.17996640</td></tr>\n",
       "\t<tr><td>s_Collinsella_stercoris__Low           </td><td> 0.04135234</td><td> 0.09703678</td></tr>\n",
       "\t<tr><td>g_Erysipelatoclostridium__High         </td><td> 0.02907320</td><td> 0.08485780</td></tr>\n",
       "\t<tr><td>s_Barnesiella_viscericola__Low         </td><td> 0.02809660</td><td> 0.08485780</td></tr>\n",
       "</tbody>\n",
       "</table>\n"
      ],
      "text/latex": [
       "A data.table: 23 × 3\n",
       "\\begin{tabular}{lll}\n",
       " Feature & importance & influence\\\\\n",
       " <chr> & <dbl> & <dbl>\\\\\n",
       "\\hline\n",
       "\t s\\_Megasphaera\\_micronuciformis\\_\\_High     & 10.00619499 &  0.44801959\\\\\n",
       "\t s\\_Veillonella\\_parvula\\_\\_High             &  2.79596222 &  0.42695076\\\\\n",
       "\t f\\_Veillonellaceae\\_\\_High                 &  1.72376194 &  0.37706647\\\\\n",
       "\t g\\_Streptococcus\\_\\_High                   &  1.30409219 &  0.40673645\\\\\n",
       "\t s\\_Adlercreutzia\\_equolifaciens\\_\\_High     &  1.04027605 & -0.34314730\\\\\n",
       "\t g\\_Leptotrichia\\_\\_High                    &  0.99843850 &  0.40793494\\\\\n",
       "\t s\\_Lactobacillus\\_salivarius\\_\\_High        &  0.80692971 &  0.38826883\\\\\n",
       "\t s\\_Megasphaera\\_micronuciformis\\_\\_Low      &  0.76512143 & -0.29754029\\\\\n",
       "\t s\\_Fusobacterium\\_nucleatum\\_\\_High         &  0.62492825 &  0.38614051\\\\\n",
       "\t g\\_Campylobacter\\_\\_High                   &  0.41901681 &  0.37936608\\\\\n",
       "\t f\\_Eggerthellaceae\\_\\_High                 &  0.34911611 & -0.38976025\\\\\n",
       "\t s\\_Kingella\\_denitrificans\\_\\_High          &  0.26383097 &  0.35424689\\\\\n",
       "\t f\\_Veillonellaceae\\_\\_Low                  &  0.13845850 & -0.21185110\\\\\n",
       "\t s\\_Lachnoanaerobaculum\\_saburreum\\_\\_Medium &  0.13358752 & -0.18825172\\\\\n",
       "\t s\\_Veillonella\\_parvula\\_\\_Low              &  0.13190321 & -0.19162724\\\\\n",
       "\t s\\_Clostridium\\_symbiosum\\_\\_Medium         &  0.07964943 & -0.18016673\\\\\n",
       "\t s\\_Bacteroides\\_uniformis\\_\\_High           &  0.06770520 & -0.20615833\\\\\n",
       "\t s\\_Rikenella\\_microfusus\\_\\_Low             &  0.06656339 &  0.12325117\\\\\n",
       "\t f\\_Pasteurellaceae\\_\\_High                 &  0.06306403 &  0.22840472\\\\\n",
       "\t s\\_Fermentimonas\\_caenicola\\_\\_Medium       &  0.04755703 & -0.17996640\\\\\n",
       "\t s\\_Collinsella\\_stercoris\\_\\_Low            &  0.04135234 &  0.09703678\\\\\n",
       "\t g\\_Erysipelatoclostridium\\_\\_High          &  0.02907320 &  0.08485780\\\\\n",
       "\t s\\_Barnesiella\\_viscericola\\_\\_Low          &  0.02809660 &  0.08485780\\\\\n",
       "\\end{tabular}\n"
      ],
      "text/markdown": [
       "\n",
       "A data.table: 23 × 3\n",
       "\n",
       "| Feature &lt;chr&gt; | importance &lt;dbl&gt; | influence &lt;dbl&gt; |\n",
       "|---|---|---|\n",
       "| s_Megasphaera_micronuciformis__High     | 10.00619499 |  0.44801959 |\n",
       "| s_Veillonella_parvula__High             |  2.79596222 |  0.42695076 |\n",
       "| f_Veillonellaceae__High                 |  1.72376194 |  0.37706647 |\n",
       "| g_Streptococcus__High                   |  1.30409219 |  0.40673645 |\n",
       "| s_Adlercreutzia_equolifaciens__High     |  1.04027605 | -0.34314730 |\n",
       "| g_Leptotrichia__High                    |  0.99843850 |  0.40793494 |\n",
       "| s_Lactobacillus_salivarius__High        |  0.80692971 |  0.38826883 |\n",
       "| s_Megasphaera_micronuciformis__Low      |  0.76512143 | -0.29754029 |\n",
       "| s_Fusobacterium_nucleatum__High         |  0.62492825 |  0.38614051 |\n",
       "| g_Campylobacter__High                   |  0.41901681 |  0.37936608 |\n",
       "| f_Eggerthellaceae__High                 |  0.34911611 | -0.38976025 |\n",
       "| s_Kingella_denitrificans__High          |  0.26383097 |  0.35424689 |\n",
       "| f_Veillonellaceae__Low                  |  0.13845850 | -0.21185110 |\n",
       "| s_Lachnoanaerobaculum_saburreum__Medium |  0.13358752 | -0.18825172 |\n",
       "| s_Veillonella_parvula__Low              |  0.13190321 | -0.19162724 |\n",
       "| s_Clostridium_symbiosum__Medium         |  0.07964943 | -0.18016673 |\n",
       "| s_Bacteroides_uniformis__High           |  0.06770520 | -0.20615833 |\n",
       "| s_Rikenella_microfusus__Low             |  0.06656339 |  0.12325117 |\n",
       "| f_Pasteurellaceae__High                 |  0.06306403 |  0.22840472 |\n",
       "| s_Fermentimonas_caenicola__Medium       |  0.04755703 | -0.17996640 |\n",
       "| s_Collinsella_stercoris__Low            |  0.04135234 |  0.09703678 |\n",
       "| g_Erysipelatoclostridium__High          |  0.02907320 |  0.08485780 |\n",
       "| s_Barnesiella_viscericola__Low          |  0.02809660 |  0.08485780 |\n",
       "\n"
      ],
      "text/plain": [
       "   Feature                                 importance  influence  \n",
       "1  s_Megasphaera_micronuciformis__High     10.00619499  0.44801959\n",
       "2  s_Veillonella_parvula__High              2.79596222  0.42695076\n",
       "3  f_Veillonellaceae__High                  1.72376194  0.37706647\n",
       "4  g_Streptococcus__High                    1.30409219  0.40673645\n",
       "5  s_Adlercreutzia_equolifaciens__High      1.04027605 -0.34314730\n",
       "6  g_Leptotrichia__High                     0.99843850  0.40793494\n",
       "7  s_Lactobacillus_salivarius__High         0.80692971  0.38826883\n",
       "8  s_Megasphaera_micronuciformis__Low       0.76512143 -0.29754029\n",
       "9  s_Fusobacterium_nucleatum__High          0.62492825  0.38614051\n",
       "10 g_Campylobacter__High                    0.41901681  0.37936608\n",
       "11 f_Eggerthellaceae__High                  0.34911611 -0.38976025\n",
       "12 s_Kingella_denitrificans__High           0.26383097  0.35424689\n",
       "13 f_Veillonellaceae__Low                   0.13845850 -0.21185110\n",
       "14 s_Lachnoanaerobaculum_saburreum__Medium  0.13358752 -0.18825172\n",
       "15 s_Veillonella_parvula__Low               0.13190321 -0.19162724\n",
       "16 s_Clostridium_symbiosum__Medium          0.07964943 -0.18016673\n",
       "17 s_Bacteroides_uniformis__High            0.06770520 -0.20615833\n",
       "18 s_Rikenella_microfusus__Low              0.06656339  0.12325117\n",
       "19 f_Pasteurellaceae__High                  0.06306403  0.22840472\n",
       "20 s_Fermentimonas_caenicola__Medium        0.04755703 -0.17996640\n",
       "21 s_Collinsella_stercoris__Low             0.04135234  0.09703678\n",
       "22 g_Erysipelatoclostridium__High           0.02907320  0.08485780\n",
       "23 s_Barnesiella_viscericola__Low           0.02809660  0.08485780"
      ]
     },
     "metadata": {},
     "output_type": "display_data"
    }
   ],
   "source": [
    "pc$nodes %>% select(Feature, importance, influence) %>% arrange(-importance)"
   ]
  },
  {
   "cell_type": "code",
   "execution_count": 80,
   "metadata": {
    "ExecuteTime": {
     "end_time": "2021-12-12T15:06:34.266922Z",
     "start_time": "2021-12-12T15:06:34.028Z"
    }
   },
   "outputs": [
    {
     "data": {
      "text/html": [
       "<table class=\"dataframe\">\n",
       "<caption>A data.table: 13 × 4</caption>\n",
       "<thead>\n",
       "\t<tr><th scope=col>x</th><th scope=col>y</th><th scope=col>importance</th><th scope=col>influence</th></tr>\n",
       "\t<tr><th scope=col>&lt;chr&gt;</th><th scope=col>&lt;chr&gt;</th><th scope=col>&lt;dbl&gt;</th><th scope=col>&lt;dbl&gt;</th></tr>\n",
       "</thead>\n",
       "<tbody>\n",
       "\t<tr><td>M_micronuciformis__Low</td><td>A_equolifaciens__High       </td><td>0.11308376</td><td>-0.2174808</td></tr>\n",
       "\t<tr><td>C_symbiosum__Medium   </td><td>M_micronuciformis__Low      </td><td>0.10685143</td><td>-0.3217031</td></tr>\n",
       "\t<tr><td>L_saburreum__Medium   </td><td>M_micronuciformis__Low      </td><td>0.10034445</td><td>-0.3226144</td></tr>\n",
       "\t<tr><td>L_salivarius__High    </td><td>C_stercoris__Low            </td><td>0.08099686</td><td> 0.4060143</td></tr>\n",
       "\t<tr><td>V_parvula__Low        </td><td>B_uniformis__High           </td><td>0.07616673</td><td>-0.2996295</td></tr>\n",
       "\t<tr><td>L_saburreum__Medium   </td><td>Veillonellaceae__Low        </td><td>0.07396699</td><td>-0.3343282</td></tr>\n",
       "\t<tr><td>F_caenicola__Medium   </td><td>M_micronuciformis__Low      </td><td>0.06192182</td><td>-0.3107740</td></tr>\n",
       "\t<tr><td>V_parvula__Low        </td><td>A_equolifaciens__High       </td><td>0.05396574</td><td>-0.2200366</td></tr>\n",
       "\t<tr><td>Veillonellaceae__Low  </td><td>A_equolifaciens__High       </td><td>0.05341722</td><td>-0.2136665</td></tr>\n",
       "\t<tr><td>R_microfusus__Low     </td><td>Pasteurellaceae__High       </td><td>0.05096363</td><td> 0.2609835</td></tr>\n",
       "\t<tr><td>Veillonellaceae__High </td><td>Erysipelatoclostridium__High</td><td>0.04767793</td><td> 0.2293402</td></tr>\n",
       "\t<tr><td>B_viscericola__Low    </td><td>Veillonellaceae__High       </td><td>0.04269074</td><td> 0.2012741</td></tr>\n",
       "\t<tr><td>R_microfusus__Low     </td><td>Veillonellaceae__High       </td><td>0.03478249</td><td> 0.2065790</td></tr>\n",
       "</tbody>\n",
       "</table>\n"
      ],
      "text/latex": [
       "A data.table: 13 × 4\n",
       "\\begin{tabular}{llll}\n",
       " x & y & importance & influence\\\\\n",
       " <chr> & <chr> & <dbl> & <dbl>\\\\\n",
       "\\hline\n",
       "\t M\\_micronuciformis\\_\\_Low & A\\_equolifaciens\\_\\_High        & 0.11308376 & -0.2174808\\\\\n",
       "\t C\\_symbiosum\\_\\_Medium    & M\\_micronuciformis\\_\\_Low       & 0.10685143 & -0.3217031\\\\\n",
       "\t L\\_saburreum\\_\\_Medium    & M\\_micronuciformis\\_\\_Low       & 0.10034445 & -0.3226144\\\\\n",
       "\t L\\_salivarius\\_\\_High     & C\\_stercoris\\_\\_Low             & 0.08099686 &  0.4060143\\\\\n",
       "\t V\\_parvula\\_\\_Low         & B\\_uniformis\\_\\_High            & 0.07616673 & -0.2996295\\\\\n",
       "\t L\\_saburreum\\_\\_Medium    & Veillonellaceae\\_\\_Low         & 0.07396699 & -0.3343282\\\\\n",
       "\t F\\_caenicola\\_\\_Medium    & M\\_micronuciformis\\_\\_Low       & 0.06192182 & -0.3107740\\\\\n",
       "\t V\\_parvula\\_\\_Low         & A\\_equolifaciens\\_\\_High        & 0.05396574 & -0.2200366\\\\\n",
       "\t Veillonellaceae\\_\\_Low   & A\\_equolifaciens\\_\\_High        & 0.05341722 & -0.2136665\\\\\n",
       "\t R\\_microfusus\\_\\_Low      & Pasteurellaceae\\_\\_High        & 0.05096363 &  0.2609835\\\\\n",
       "\t Veillonellaceae\\_\\_High  & Erysipelatoclostridium\\_\\_High & 0.04767793 &  0.2293402\\\\\n",
       "\t B\\_viscericola\\_\\_Low     & Veillonellaceae\\_\\_High        & 0.04269074 &  0.2012741\\\\\n",
       "\t R\\_microfusus\\_\\_Low      & Veillonellaceae\\_\\_High        & 0.03478249 &  0.2065790\\\\\n",
       "\\end{tabular}\n"
      ],
      "text/markdown": [
       "\n",
       "A data.table: 13 × 4\n",
       "\n",
       "| x &lt;chr&gt; | y &lt;chr&gt; | importance &lt;dbl&gt; | influence &lt;dbl&gt; |\n",
       "|---|---|---|---|\n",
       "| M_micronuciformis__Low | A_equolifaciens__High        | 0.11308376 | -0.2174808 |\n",
       "| C_symbiosum__Medium    | M_micronuciformis__Low       | 0.10685143 | -0.3217031 |\n",
       "| L_saburreum__Medium    | M_micronuciformis__Low       | 0.10034445 | -0.3226144 |\n",
       "| L_salivarius__High     | C_stercoris__Low             | 0.08099686 |  0.4060143 |\n",
       "| V_parvula__Low         | B_uniformis__High            | 0.07616673 | -0.2996295 |\n",
       "| L_saburreum__Medium    | Veillonellaceae__Low         | 0.07396699 | -0.3343282 |\n",
       "| F_caenicola__Medium    | M_micronuciformis__Low       | 0.06192182 | -0.3107740 |\n",
       "| V_parvula__Low         | A_equolifaciens__High        | 0.05396574 | -0.2200366 |\n",
       "| Veillonellaceae__Low   | A_equolifaciens__High        | 0.05341722 | -0.2136665 |\n",
       "| R_microfusus__Low      | Pasteurellaceae__High        | 0.05096363 |  0.2609835 |\n",
       "| Veillonellaceae__High  | Erysipelatoclostridium__High | 0.04767793 |  0.2293402 |\n",
       "| B_viscericola__Low     | Veillonellaceae__High        | 0.04269074 |  0.2012741 |\n",
       "| R_microfusus__Low      | Veillonellaceae__High        | 0.03478249 |  0.2065790 |\n",
       "\n"
      ],
      "text/plain": [
       "   x                      y                            importance influence \n",
       "1  M_micronuciformis__Low A_equolifaciens__High        0.11308376 -0.2174808\n",
       "2  C_symbiosum__Medium    M_micronuciformis__Low       0.10685143 -0.3217031\n",
       "3  L_saburreum__Medium    M_micronuciformis__Low       0.10034445 -0.3226144\n",
       "4  L_salivarius__High     C_stercoris__Low             0.08099686  0.4060143\n",
       "5  V_parvula__Low         B_uniformis__High            0.07616673 -0.2996295\n",
       "6  L_saburreum__Medium    Veillonellaceae__Low         0.07396699 -0.3343282\n",
       "7  F_caenicola__Medium    M_micronuciformis__Low       0.06192182 -0.3107740\n",
       "8  V_parvula__Low         A_equolifaciens__High        0.05396574 -0.2200366\n",
       "9  Veillonellaceae__Low   A_equolifaciens__High        0.05341722 -0.2136665\n",
       "10 R_microfusus__Low      Pasteurellaceae__High        0.05096363  0.2609835\n",
       "11 Veillonellaceae__High  Erysipelatoclostridium__High 0.04767793  0.2293402\n",
       "12 B_viscericola__Low     Veillonellaceae__High        0.04269074  0.2012741\n",
       "13 R_microfusus__Low      Veillonellaceae__High        0.03478249  0.2065790"
      ]
     },
     "metadata": {},
     "output_type": "display_data"
    }
   ],
   "source": [
    "pc$edges %>% select(x, y, importance, influence) %>% arrange(-importance)"
   ]
  },
  {
   "cell_type": "code",
   "execution_count": null,
   "metadata": {},
   "outputs": [],
   "source": []
  }
 ],
 "metadata": {
  "kernelspec": {
   "display_name": "R [conda env:Metagenomes_methanogen-r-ml] *",
   "language": "R",
   "name": "conda-env-Metagenomes_methanogen-r-ml-r"
  },
  "language_info": {
   "codemirror_mode": "r",
   "file_extension": ".r",
   "mimetype": "text/x-r-source",
   "name": "R",
   "pygments_lexer": "r",
   "version": "4.0.3"
  },
  "notify_time": "30",
  "toc": {
   "base_numbering": 1,
   "nav_menu": {},
   "number_sections": true,
   "sideBar": true,
   "skip_h1_title": false,
   "title_cell": "Table of Contents",
   "title_sidebar": "Contents",
   "toc_cell": false,
   "toc_position": {
    "height": "calc(100% - 180px)",
    "left": "10px",
    "top": "150px",
    "width": "268px"
   },
   "toc_section_display": true,
   "toc_window_display": true
  }
 },
 "nbformat": 4,
 "nbformat_minor": 4
}
