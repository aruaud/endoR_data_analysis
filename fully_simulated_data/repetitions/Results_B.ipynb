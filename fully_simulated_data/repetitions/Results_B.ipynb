{
 "cells": [
  {
   "cell_type": "markdown",
   "metadata": {},
   "source": [
    "# Preambule"
   ]
  },
  {
   "cell_type": "markdown",
   "metadata": {},
   "source": [
    "## libraries"
   ]
  },
  {
   "cell_type": "code",
   "execution_count": 1,
   "metadata": {
    "ExecuteTime": {
     "end_time": "2021-11-24T09:37:54.286818Z",
     "start_time": "2021-11-24T09:37:48.297Z"
    }
   },
   "outputs": [
    {
     "name": "stderr",
     "output_type": "stream",
     "text": [
      "── \u001b[1mAttaching packages\u001b[22m ────────────────────────────────────────────────────────────────────────────────────────────────────────────────────────────────────── tidyverse 1.3.0 ──\n",
      "\n",
      "\u001b[32m✔\u001b[39m \u001b[34mggplot2\u001b[39m 3.3.2     \u001b[32m✔\u001b[39m \u001b[34mpurrr  \u001b[39m 0.3.4\n",
      "\u001b[32m✔\u001b[39m \u001b[34mtibble \u001b[39m 3.0.4     \u001b[32m✔\u001b[39m \u001b[34mdplyr  \u001b[39m 1.0.2\n",
      "\u001b[32m✔\u001b[39m \u001b[34mtidyr  \u001b[39m 1.1.2     \u001b[32m✔\u001b[39m \u001b[34mstringr\u001b[39m 1.4.0\n",
      "\u001b[32m✔\u001b[39m \u001b[34mreadr  \u001b[39m 1.4.0     \u001b[32m✔\u001b[39m \u001b[34mforcats\u001b[39m 0.5.0\n",
      "\n",
      "── \u001b[1mConflicts\u001b[22m ───────────────────────────────────────────────────────────────────────────────────────────────────────────────────────────────────────── tidyverse_conflicts() ──\n",
      "\u001b[31m✖\u001b[39m \u001b[34mdplyr\u001b[39m::\u001b[32mfilter()\u001b[39m masks \u001b[34mstats\u001b[39m::filter()\n",
      "\u001b[31m✖\u001b[39m \u001b[34mdplyr\u001b[39m::\u001b[32mlag()\u001b[39m    masks \u001b[34mstats\u001b[39m::lag()\n",
      "\n",
      "Loading required package: lattice\n",
      "\n",
      "\n",
      "Attaching package: ‘caret’\n",
      "\n",
      "\n",
      "The following object is masked from ‘package:purrr’:\n",
      "\n",
      "    lift\n",
      "\n",
      "\n",
      "\n",
      "Attaching package: ‘data.table’\n",
      "\n",
      "\n",
      "The following objects are masked from ‘package:dplyr’:\n",
      "\n",
      "    between, first, last\n",
      "\n",
      "\n",
      "The following object is masked from ‘package:purrr’:\n",
      "\n",
      "    transpose\n",
      "\n",
      "\n",
      "qs v0.23.4.\n",
      "\n",
      "randomForest 4.6-14\n",
      "\n",
      "Type rfNews() to see new features/changes/bug fixes.\n",
      "\n",
      "\n",
      "Attaching package: ‘randomForest’\n",
      "\n",
      "\n",
      "The following object is masked from ‘package:dplyr’:\n",
      "\n",
      "    combine\n",
      "\n",
      "\n",
      "The following object is masked from ‘package:ggplot2’:\n",
      "\n",
      "    margin\n",
      "\n",
      "\n",
      "Registered S3 method overwritten by 'RRF':\n",
      "  method      from        \n",
      "  plot.margin randomForest\n",
      "\n",
      "Warning message:\n",
      "“replacing previous import ‘data.table::last’ by ‘dplyr::last’ when loading ‘endoR’”\n",
      "Warning message:\n",
      "“replacing previous import ‘data.table::first’ by ‘dplyr::first’ when loading ‘endoR’”\n",
      "Warning message:\n",
      "“replacing previous import ‘data.table::between’ by ‘dplyr::between’ when loading ‘endoR’”\n",
      "Warning message:\n",
      "“replacing previous import ‘dplyr::union’ by ‘igraph::union’ when loading ‘endoR’”\n",
      "Warning message:\n",
      "“replacing previous import ‘dplyr::as_data_frame’ by ‘igraph::as_data_frame’ when loading ‘endoR’”\n",
      "Warning message:\n",
      "“replacing previous import ‘dplyr::groups’ by ‘igraph::groups’ when loading ‘endoR’”\n"
     ]
    }
   ],
   "source": [
    "library(tidyverse)\n",
    "library(stringr)\n",
    "library(caret)\n",
    "library(data.table)\n",
    "library(stringr)\n",
    "library(dplyr)\n",
    "library(qs)\n",
    "library(parallel)\n",
    "library(randomForest)\n",
    "library(inTrees)\n",
    "library(endoR)"
   ]
  },
  {
   "cell_type": "code",
   "execution_count": 2,
   "metadata": {
    "ExecuteTime": {
     "end_time": "2021-11-24T09:37:54.368167Z",
     "start_time": "2021-11-24T09:37:49.195Z"
    }
   },
   "outputs": [
    {
     "name": "stderr",
     "output_type": "stream",
     "text": [
      "Loading required package: viridisLite\n",
      "\n"
     ]
    }
   ],
   "source": [
    "library(viridis)"
   ]
  },
  {
   "cell_type": "code",
   "execution_count": 3,
   "metadata": {
    "ExecuteTime": {
     "end_time": "2021-11-24T09:37:54.727045Z",
     "start_time": "2021-11-24T09:37:49.399Z"
    }
   },
   "outputs": [],
   "source": [
    "library(ggpubr)"
   ]
  },
  {
   "cell_type": "code",
   "execution_count": 4,
   "metadata": {
    "ExecuteTime": {
     "end_time": "2021-11-24T09:37:54.859795Z",
     "start_time": "2021-11-24T09:37:49.728Z"
    }
   },
   "outputs": [
    {
     "data": {
      "text/plain": [
       "R version 4.0.3 (2020-10-10)\n",
       "Platform: x86_64-conda-linux-gnu (64-bit)\n",
       "Running under: Ubuntu 18.04.6 LTS\n",
       "\n",
       "Matrix products: default\n",
       "BLAS/LAPACK: /ebio/abt3_projects/Methanogen_SCFA/Metagenomes_methanogen/envs/r-ml/lib/libopenblasp-r0.3.10.so\n",
       "\n",
       "locale:\n",
       " [1] LC_CTYPE=en_US.UTF-8       LC_NUMERIC=C              \n",
       " [3] LC_TIME=en_US.UTF-8        LC_COLLATE=en_US.UTF-8    \n",
       " [5] LC_MONETARY=en_US.UTF-8    LC_MESSAGES=en_US.UTF-8   \n",
       " [7] LC_PAPER=en_US.UTF-8       LC_NAME=C                 \n",
       " [9] LC_ADDRESS=C               LC_TELEPHONE=C            \n",
       "[11] LC_MEASUREMENT=en_US.UTF-8 LC_IDENTIFICATION=C       \n",
       "\n",
       "attached base packages:\n",
       "[1] parallel  stats     graphics  grDevices utils     datasets  methods  \n",
       "[8] base     \n",
       "\n",
       "other attached packages:\n",
       " [1] ggpubr_0.4.0        viridis_0.5.1       viridisLite_0.3.0  \n",
       " [4] endoR_0.1.0         inTrees_1.3         randomForest_4.6-14\n",
       " [7] qs_0.23.4           data.table_1.13.4   caret_6.0-86       \n",
       "[10] lattice_0.20-41     forcats_0.5.0       stringr_1.4.0      \n",
       "[13] dplyr_1.0.2         purrr_0.3.4         readr_1.4.0        \n",
       "[16] tidyr_1.1.2         tibble_3.0.4        ggplot2_3.3.2      \n",
       "[19] tidyverse_1.3.0    \n",
       "\n",
       "loaded via a namespace (and not attached):\n",
       "  [1] colorspace_2.0-0     ggsignif_0.6.0       rio_0.5.16          \n",
       "  [4] ellipsis_0.3.1       class_7.3-17         IRdisplay_0.7.0     \n",
       "  [7] base64enc_0.1-3      fs_1.5.0             rstudioapi_0.13     \n",
       " [10] farver_2.0.3         graphlayouts_0.7.1   ggrepel_0.8.2       \n",
       " [13] prodlim_2019.11.13   fansi_0.4.1          lubridate_1.7.9.2   \n",
       " [16] ranger_0.12.1        xml2_1.3.2           codetools_0.2-18    \n",
       " [19] splines_4.0.3        arules_1.6-6         polyclip_1.10-0     \n",
       " [22] IRkernel_1.1.1       jsonlite_1.7.2       pROC_1.16.2         \n",
       " [25] broom_0.7.2          dbplyr_2.0.0         ggforce_0.3.2       \n",
       " [28] compiler_4.0.3       httr_1.4.2           backports_1.2.0     \n",
       " [31] assertthat_0.2.1     Matrix_1.2-18        cli_2.2.0           \n",
       " [34] tweenr_1.0.1         htmltools_0.5.0      tools_4.0.3         \n",
       " [37] igraph_1.2.6         gtable_0.3.0         glue_1.4.2          \n",
       " [40] reshape2_1.4.4       Rcpp_1.0.5           carData_3.0-4       \n",
       " [43] cellranger_1.1.0     vctrs_0.3.6          nlme_3.1-150        \n",
       " [46] iterators_1.0.13     ggraph_2.0.4         timeDate_3043.102   \n",
       " [49] gower_0.2.2          ps_1.5.0             openxlsx_4.2.3      \n",
       " [52] rvest_0.3.6          lifecycle_0.2.0      rstatix_0.6.0       \n",
       " [55] MASS_7.3-53          scales_1.1.1         ipred_0.9-9         \n",
       " [58] tidygraph_1.2.0      hms_0.5.3            curl_4.3            \n",
       " [61] gridExtra_2.3        rpart_4.1-15         stringi_1.5.3       \n",
       " [64] foreach_1.5.1        zip_2.1.1            lava_1.6.8.1        \n",
       " [67] repr_1.1.2.9000      rlang_0.4.10         pkgconfig_2.0.3     \n",
       " [70] evaluate_0.14        recipes_0.1.15       tidyselect_1.1.0    \n",
       " [73] gbm_2.1.8            plyr_1.8.6           magrittr_2.0.1      \n",
       " [76] R6_2.5.0             generics_0.1.0       pbdZMQ_0.3-3.1      \n",
       " [79] DBI_1.1.0            foreign_0.8-80       pillar_1.4.7        \n",
       " [82] haven_2.3.1          withr_2.3.0          abind_1.4-5         \n",
       " [85] survival_3.2-7       nnet_7.3-14          car_3.0-10          \n",
       " [88] modelr_0.1.8         crayon_1.3.4         xgboost_1.2.0.1     \n",
       " [91] uuid_0.1-4           RApiSerialize_0.1.0  RRF_1.9.1           \n",
       " [94] grid_4.0.3           readxl_1.3.1         ModelMetrics_1.2.2.2\n",
       " [97] reprex_0.3.0         digest_0.6.27        xtable_1.8-4        \n",
       "[100] RcppParallel_5.0.2   stats4_4.0.3         munsell_0.5.0       \n",
       "[103] stringfish_0.14.2   "
      ]
     },
     "metadata": {},
     "output_type": "display_data"
    }
   ],
   "source": [
    "sessionInfo()"
   ]
  },
  {
   "cell_type": "markdown",
   "metadata": {},
   "source": [
    "## functions"
   ]
  },
  {
   "cell_type": "code",
   "execution_count": 5,
   "metadata": {
    "ExecuteTime": {
     "end_time": "2021-11-24T09:38:27.818287Z",
     "start_time": "2021-11-24T09:38:27.544Z"
    }
   },
   "outputs": [],
   "source": [
    "getSinglePR <- function(pc, true_edges, colN){\n",
    "    \n",
    "    # prepare edges from endoR\n",
    "    edges <- pc$edges_agg %>% select(x, y, condition, importance, influence, d.x, d.y) %>% \n",
    "        subset(condition %in% pc$rules_summary$condition) %>%\n",
    "        group_by(x, y, condition) %>% \n",
    "        summarise(importance= mean(importance), influence = mean(influence*(d.x+d.y)/2)) %>%\n",
    "        ungroup %>% \n",
    "        left_join(select(pc$rules_summary,condition, inN, imp, n), by = 'condition') %>% \n",
    "        select(-condition) \n",
    "    \n",
    "    # get the PR\n",
    "    edi <- lapply(unique(edges$inN)\n",
    "            , function(i, edges, true_edges, colN){\n",
    "                suppressMessages(edges <- edges %>% subset(inN >= i) %>% group_by(x, y) %>% \n",
    "                                 summarise( inN = max(inN), importance = sum(importance*imp*n)\n",
    "                                           , influence = sum(influence*imp*n)/sum(imp*n) ) %>% ungroup)\n",
    "                metricsNet(edges = edges,true_edges=true_edges, colN = colN)\n",
    "              }, edges=edges,true_edges=true_edges, colN = colN)\n",
    "    \n",
    "    edi <- as.data.frame(do.call(rbind, edi))\n",
    "    edi$inN <- unique(edges$inN)\n",
    "    edi <- add_row(edi, n_edges=0, tp=0,fp=0,tn=0,fn=0,inN=0)\n",
    "    \n",
    "    return(edi %>% arrange(tp))\n",
    "}"
   ]
  },
  {
   "cell_type": "code",
   "execution_count": 6,
   "metadata": {
    "ExecuteTime": {
     "end_time": "2021-11-24T09:38:28.202050Z",
     "start_time": "2021-11-24T09:38:27.918Z"
    }
   },
   "outputs": [],
   "source": [
    "getPR <- function(f, true_edges, alpha, pi_thr, colN ){\n",
    "    res <- qread(f)\n",
    "    \n",
    "    # other parameters\n",
    "    seedN <- str_extract(f, pattern = '(?<=simu)[:digit:]+(?=\\\\_)')\n",
    "    K <- length(true_edges)\n",
    "    \n",
    "    # for b = 10\n",
    "    set.seed(as.numeric(seedN))\n",
    "    i_10 <- sample(1:100, 10, replace = FALSE)\n",
    "    pc10 <- stabilitySelection(rules = res$resamp[i_10], alpha_error = alpha, pi_thr = pi_thr)\n",
    "    edi10 <- getSinglePR(pc10, true_edges=true_edges, colN = colN)\n",
    "    edi10$B <- length(i_10)\n",
    "    edi10$ndec <- nrow(pc10$rules_summary %>% subset(inN >= 7))\n",
    "    \n",
    "    # for b = 90\n",
    "    pc100 <- quiet(stabilitySelection(rules = res$resamp[-i_10], alpha_error = alpha, pi_thr = pi_thr))\n",
    "    edi100 <- getSinglePR(pc100, true_edges=true_edges, colN = colN)\n",
    "    edi100$B <- 100-length(i_10)\n",
    "    edi100$ndec <- nrow(pc100$rules_summary %>% subset(inN >= 63))\n",
    "    \n",
    "    # bind\n",
    "    edi <- rbind(edi10, edi100)\n",
    "    edi$seedN <- seedN\n",
    "    edi$K <- K\n",
    "    \n",
    "    return(edi)\n",
    "}"
   ]
  },
  {
   "cell_type": "code",
   "execution_count": 7,
   "metadata": {
    "ExecuteTime": {
     "end_time": "2021-11-24T09:38:30.284688Z",
     "start_time": "2021-11-24T09:38:30.001Z"
    }
   },
   "outputs": [],
   "source": [
    "file.sources <- list.files('./scripts/', pattern = '*.R', full.names=TRUE, ignore.case=TRUE)\n",
    "for (f in file.sources) {\n",
    "    source(f)\n",
    "}\n",
    "rm('file.sources', 'f')"
   ]
  },
  {
   "cell_type": "markdown",
   "metadata": {},
   "source": [
    "# Run"
   ]
  },
  {
   "cell_type": "code",
   "execution_count": 8,
   "metadata": {
    "ExecuteTime": {
     "end_time": "2021-11-24T09:38:30.880836Z",
     "start_time": "2021-11-24T09:38:30.563Z"
    }
   },
   "outputs": [],
   "source": [
    "true_edges <- qread('true_edges.qs')\n",
    "fnames <- list.files(path = '/ebio/abt3_projects/temp_data/aruaud/Toy_p005_N1000_B100', full.names = TRUE)"
   ]
  },
  {
   "cell_type": "code",
   "execution_count": 9,
   "metadata": {
    "ExecuteTime": {
     "end_time": "2021-11-24T09:38:34.079504Z",
     "start_time": "2021-11-24T09:38:32.867Z"
    }
   },
   "outputs": [],
   "source": [
    "tmp <- qread(fnames[1])\n",
    "colN <- colnames(tmp$data$x)"
   ]
  },
  {
   "cell_type": "code",
   "execution_count": 10,
   "metadata": {
    "ExecuteTime": {
     "end_time": "2021-11-24T09:38:39.840203Z",
     "start_time": "2021-11-24T09:38:33.105Z"
    }
   },
   "outputs": [],
   "source": [
    "#stopCluster(cluster)\n",
    "cluster <- makeCluster(7)\n",
    "quiet(clusterEvalQ(cluster, library(qs)))\n",
    "quiet(clusterEvalQ(cluster, library(endoR)))\n",
    "quiet(clusterEvalQ(cluster, library(tidyverse)))\n",
    "quiet(clusterExport(cluster, c('getSinglePR', 'metricsNet', 'quiet' )))"
   ]
  },
  {
   "cell_type": "code",
   "execution_count": 11,
   "metadata": {
    "ExecuteTime": {
     "end_time": "2021-11-24T09:39:55.488312Z",
     "start_time": "2021-11-24T09:38:33.272Z"
    }
   },
   "outputs": [],
   "source": [
    "test_sev <- parLapply(cl = cluster,fnames, getPR, alpha = 5, pi_thr = 0.7, true_edges = true_edges, colN = colN)\n",
    "test_sev <- do.call(rbind, test_sev)"
   ]
  },
  {
   "cell_type": "code",
   "execution_count": 12,
   "metadata": {
    "ExecuteTime": {
     "end_time": "2021-11-24T09:39:55.508564Z",
     "start_time": "2021-11-24T09:38:33.466Z"
    }
   },
   "outputs": [],
   "source": [
    "stopCluster(cluster)"
   ]
  },
  {
   "cell_type": "code",
   "execution_count": 13,
   "metadata": {
    "ExecuteTime": {
     "end_time": "2021-11-24T09:39:55.609732Z",
     "start_time": "2021-11-24T09:38:34.020Z"
    }
   },
   "outputs": [],
   "source": [
    "suppressWarnings(av_res <- test_sev %>% group_by(B, inN) %>% summarise_all(mean))"
   ]
  },
  {
   "cell_type": "markdown",
   "metadata": {},
   "source": [
    "# random"
   ]
  },
  {
   "cell_type": "code",
   "execution_count": 14,
   "metadata": {
    "ExecuteTime": {
     "end_time": "2021-11-24T09:39:55.631000Z",
     "start_time": "2021-11-24T09:38:36.106Z"
    }
   },
   "outputs": [],
   "source": [
    "## Total number of edges\n",
    "N <- (length(colN)*length(colN) - length(colN))/2 \n",
    "## Total number of correct edges\n",
    "K <- length(true_edges)"
   ]
  },
  {
   "cell_type": "code",
   "execution_count": 15,
   "metadata": {
    "ExecuteTime": {
     "end_time": "2021-11-24T09:39:55.653062Z",
     "start_time": "2021-11-24T09:38:36.300Z"
    }
   },
   "outputs": [],
   "source": [
    "random_pr_curve <- function(i){\n",
    "  set.seed(i)\n",
    "  random_draw <- urn[sample(1:N)]\n",
    "  tp <- cumsum(random_draw)\n",
    "  fp <- 1:N - cumsum(random_draw)\n",
    "  linfit <- approx(fp, tp, xout = seq(1, N-K, length.out = 1000),ties = max)\n",
    "  \n",
    "  return(do.call(cbind, linfit))\n",
    "}"
   ]
  },
  {
   "cell_type": "code",
   "execution_count": 16,
   "metadata": {
    "ExecuteTime": {
     "end_time": "2021-11-24T09:39:56.251437Z",
     "start_time": "2021-11-24T09:38:36.497Z"
    }
   },
   "outputs": [],
   "source": [
    "## Resample\n",
    "urn <- c(rep(1, K), rep(0, N-K))\n",
    "B <- 1000\n",
    "rdm <- list()\n",
    "for(j in 1:B){\n",
    "  rdm[[j]] <- random_pr_curve(j)\n",
    "}"
   ]
  },
  {
   "cell_type": "code",
   "execution_count": 17,
   "metadata": {
    "ExecuteTime": {
     "end_time": "2021-11-24T09:39:56.658599Z",
     "start_time": "2021-11-24T09:38:36.690Z"
    }
   },
   "outputs": [],
   "source": [
    "rdm <- as.data.frame(do.call(rbind, rdm))\n",
    "colnames(rdm)<- c('fp', 'tp')"
   ]
  },
  {
   "cell_type": "code",
   "execution_count": 18,
   "metadata": {
    "ExecuteTime": {
     "end_time": "2021-11-24T09:39:57.072336Z",
     "start_time": "2021-11-24T09:38:38.340Z"
    }
   },
   "outputs": [
    {
     "name": "stderr",
     "output_type": "stream",
     "text": [
      "`summarise()` ungrouping output (override with `.groups` argument)\n",
      "\n"
     ]
    }
   ],
   "source": [
    "rdm <- group_by(rdm, fp) %>% summarise(tp_av = mean(tp), tp_sd = sd(tp), tp_qtiles = quantile(tp, 0.99))"
   ]
  },
  {
   "cell_type": "markdown",
   "metadata": {},
   "source": [
    "# Interpolate"
   ]
  },
  {
   "cell_type": "code",
   "execution_count": 19,
   "metadata": {
    "ExecuteTime": {
     "end_time": "2021-11-24T09:39:57.095315Z",
     "start_time": "2021-11-24T09:38:38.942Z"
    }
   },
   "outputs": [],
   "source": [
    "getInterpo <- function(i, raw){\n",
    "    raw <- subset(raw, seedN == i)\n",
    "    res <- list()\n",
    "    \n",
    "    i <- 1\n",
    "    for (a in unique(raw$B)){\n",
    "        tmp <- approx(raw$fp[raw$B == a]\n",
    "                       , raw$tp[raw$B == a]\n",
    "                       , xout = seq(1, N-K, length.out = 1000)\n",
    "                       , ties = max)\n",
    "        tmp <- as.data.frame(do.call(cbind, tmp))\n",
    "        colnames(tmp) <- c('fp', 'tp')\n",
    "        tmp$B <- a\n",
    "        \n",
    "        # add 0 and max values to the extrapolations\n",
    "        mafp <- max(tmp$fp[!is.na(tmp$tp)])\n",
    "        tmp$tp[tmp$fp>mafp] <-  max(tmp$tp, na.rm = TRUE)\n",
    "\n",
    "        res[[i]] <- tmp\n",
    "        i <- i+1\n",
    "    }\n",
    "    res <- do.call(rbind, res)\n",
    "    res$seedN <- i\n",
    "    \n",
    "    return(res)\n",
    "}"
   ]
  },
  {
   "cell_type": "code",
   "execution_count": 20,
   "metadata": {
    "ExecuteTime": {
     "end_time": "2021-11-24T09:39:57.761456Z",
     "start_time": "2021-11-24T09:38:40.772Z"
    }
   },
   "outputs": [],
   "source": [
    "pr_byseed <- suppressWarnings(lapply(unique(test_sev$seedN), getInterpo, raw = test_sev))"
   ]
  },
  {
   "cell_type": "code",
   "execution_count": 21,
   "metadata": {
    "ExecuteTime": {
     "end_time": "2021-11-24T09:39:58.089847Z",
     "start_time": "2021-11-24T09:38:41.010Z"
    }
   },
   "outputs": [],
   "source": [
    "pr_byseed_av <- do.call(rbind, pr_byseed) %>% select(-seedN) %>% group_by(fp, B) %>% summarise_all(mean, na.rm = TRUE)\n",
    "pr_byseed_sd <- do.call(rbind, pr_byseed) %>% select(-seedN) %>% group_by(fp, B) %>% summarise_all(sd, na.rm = TRUE)\n",
    "\n",
    "pr_forplots <- left_join(pr_byseed_av, pr_byseed_sd, by = c('fp', 'B'), suffix = c('_av', '_sd'))"
   ]
  },
  {
   "cell_type": "markdown",
   "metadata": {},
   "source": [
    "# plots"
   ]
  },
  {
   "cell_type": "code",
   "execution_count": 22,
   "metadata": {
    "ExecuteTime": {
     "end_time": "2021-11-24T09:39:58.147066Z",
     "start_time": "2021-11-24T09:38:41.579Z"
    }
   },
   "outputs": [],
   "source": [
    "cols <- plasma(length(unique(av_res$B)) + 2)\n",
    "cols <- cols[-c(1, length(cols))]"
   ]
  },
  {
   "cell_type": "code",
   "execution_count": 23,
   "metadata": {
    "ExecuteTime": {
     "end_time": "2021-11-24T09:39:58.282360Z",
     "start_time": "2021-11-24T09:38:41.835Z"
    }
   },
   "outputs": [],
   "source": [
    "pr_forplots$B <- factor(as.character(pr_forplots$B), levels = c('10', '90'))"
   ]
  },
  {
   "cell_type": "code",
   "execution_count": 24,
   "metadata": {
    "ExecuteTime": {
     "end_time": "2021-11-24T09:39:58.380506Z",
     "start_time": "2021-11-24T09:38:42.044Z"
    }
   },
   "outputs": [],
   "source": [
    "wp <- ggplot(pr_forplots \n",
    "             , aes(x = fp, y = tp_av, group = as.factor(B), color = as.factor(B)))+\n",
    "geom_hline(yintercept = 10, color = 'lightgrey', linetype = 'dashed')+\n",
    "geom_line(data = pr_forplots , size = 1)+\n",
    "\n",
    "geom_ribbon(aes(ymin = tp_av - tp_sd/2, ymax = tp_av + tp_sd/2\n",
    "                , group =as.factor(B), fill = as.factor(B)), color = NA\n",
    "            , alpha = 0.25) +\n",
    "\n",
    "geom_line(data = rdm, aes(y = tp_av, x = fp), group=NA, color = 'darkgrey')+\n",
    "geom_ribbon(data = rdm\n",
    "            , aes(ymin = tp_av - tp_sd/2, ymax = tp_av + tp_sd/2, y = tp_av\n",
    "                  , group=NULL, color = NULL)\n",
    "            , alpha = 0.25, fill = 'darkgrey') +\n",
    "\n",
    "geom_point(data = av_res %>% subset((B == '10' & inN == 7) | (B == '90' & inN == 63))\n",
    "           , aes(y = tp, x = fp, fill = as.factor(B))\n",
    "           , size = 4, shape = 21, color = 'black')+\n",
    "\n",
    "\n",
    "theme_classic()+\n",
    "labs(x = 'Number of FP', y = 'Number of TP')+\n",
    "scale_color_manual(values = cols, name = 'B') +\n",
    "scale_fill_manual(values = cols, name = 'B') "
   ]
  },
  {
   "cell_type": "code",
   "execution_count": 25,
   "metadata": {
    "ExecuteTime": {
     "end_time": "2021-11-24T09:39:59.594276Z",
     "start_time": "2021-11-24T09:38:47.009Z"
    }
   },
   "outputs": [
    {
     "data": {
      "image/png": "[encoded data removed]",
      "text/plain": [
       "plot without title"
      ]
     },
     "metadata": {
      "image/png": {
       "height": 240,
       "width": 300
      }
     },
     "output_type": "display_data"
    }
   ],
   "source": [
    "options(repr.plot.width=5, repr.plot.height=4)\n",
    "wp"
   ]
  },
  {
   "cell_type": "markdown",
   "metadata": {},
   "source": [
    "# check"
   ]
  },
  {
   "cell_type": "code",
   "execution_count": 26,
   "metadata": {
    "ExecuteTime": {
     "end_time": "2021-11-24T09:39:59.623837Z",
     "start_time": "2021-11-24T09:38:49.695Z"
    }
   },
   "outputs": [],
   "source": [
    "getSingleRes <- function(pc, cond, true_edges){\n",
    "    \n",
    "    if (length(cond) > 0){\n",
    "        imp_edges <- pc$edges_agg %>% subset(condition %in% cond) %>% select(x,y, importance, n, imp)\n",
    "        imp_edges$x <- str_replace(imp_edges$x, pattern = '\\\\_{2}.*', replacement = '')\n",
    "        imp_edges$y <- str_replace(imp_edges$y, pattern = '\\\\_{2}.*', replacement = '')\n",
    "        suppressMessages(imp_edges <- imp_edges %>% group_by(x,y) %>% summarise(importance = sum(n*imp*importance)))\n",
    "        imp_edges <- asplit(as.matrix(imp_edges), MARGIN = 1)\n",
    "        imp_edges <- lapply(imp_edges, sort) \n",
    "        pred_edges <- sapply(imp_edges, function(x){paste(x[-1], collapse = ' - ')}) \n",
    "        \n",
    "        if(length(pred_edges) == 0){\n",
    "            return(c('n_decisions' = 0\n",
    "                , 'tp_imp' = 0, 'fp_imp' = 0, 'tp' = 0, 'fp' = 0, 'fn' = 0))\n",
    "        } else {\n",
    "            # those that should not be but are = in pred_edges but not truth\n",
    "            tp <- which(sapply(pred_edges, function(x){x %in% true_edges}))\n",
    "            fp <- which(sapply(pred_edges, function(x){!(x %in% true_edges)}))\n",
    "            fn <- sum(sapply(true_edges, function(x){!(x %in% pred_edges)}))\n",
    "\n",
    "            # sum of FP importances\n",
    "            if(length(fp) > 0) {\n",
    "                fp_imp <- sum(sapply(imp_edges[fp], function(x){as.numeric(x['importance'])}))\n",
    "            } else {fp_imp <- 0}\n",
    "            # sum of TP importances\n",
    "            if(length(tp) > 0) {\n",
    "                tp_imp <- sum(sapply(imp_edges[tp], function(x){as.numeric(x['importance'])}))\n",
    "            } else {tp_imp <- 0}\n",
    "\n",
    "            res <- c('n_decisions' = length(cond)\n",
    "                    , 'tp_imp' = tp_imp, 'fp_imp' = fp_imp, 'tp' = length(tp), 'fp' = length(fp)\n",
    "                    , 'fn' = fn)\n",
    "            \n",
    "        }\n",
    "    } else {\n",
    "        res <- c('n_decisions' = 0, 'tp_imp' = 0, 'fp_imp' = 0, 'tp' = 0, 'fp' = 0, 'fn' = 0)\n",
    "    }\n",
    "    \n",
    "    return(res)\n",
    "}"
   ]
  },
  {
   "cell_type": "code",
   "execution_count": 27,
   "metadata": {
    "ExecuteTime": {
     "end_time": "2021-11-24T09:39:59.652310Z",
     "start_time": "2021-11-24T09:38:49.874Z"
    }
   },
   "outputs": [],
   "source": [
    "getRes <- function(f, p = NULL, true_edges, alpha = 10, pi_thr = 0.7){\n",
    "    tmp <- qread(f)\n",
    "    seedN <- str_extract(f, pattern = '(?<=simu)[:digit:]+(?=\\\\_)')\n",
    "    K <- length(true_edges)\n",
    "    \n",
    "    # for b = 10\n",
    "    set.seed(as.numeric(seedN))\n",
    "    i_10 <- sample(1:100, 10, replace = FALSE)\n",
    "    quiet(pc <- stabilitySelection(rules = tmp$resamp[i_10], alpha_error = alpha, pi_thr = pi_thr))\n",
    "    cond <- pc$rules_summary %>% subset(inN >= 7, select = condition) %>% unlist\n",
    "    res10 <- c('b'=10, getSingleRes(pc = pc, cond = cond, true_edges=true_edges))\n",
    "    \n",
    "    # for b = 90\n",
    "    quiet(pc <- stabilitySelection(rules = tmp$resamp[-i_10], alpha_error = alpha, pi_thr = pi_thr))\n",
    "    cond <- pc$rules_summary %>% subset(inN >= 63, select = condition) %>% unlist\n",
    "    res100 <- c('b'=90, getSingleRes(pc = pc, cond = cond, true_edges=true_edges))\n",
    "    \n",
    "    res <- as.data.frame(rbind(res10, res100))\n",
    "    res$rf_accuracy <- tmp$rf_accuracy\n",
    "    \n",
    "    return(res)\n",
    "}"
   ]
  },
  {
   "cell_type": "code",
   "execution_count": 28,
   "metadata": {
    "ExecuteTime": {
     "end_time": "2021-11-24T09:39:59.685774Z",
     "start_time": "2021-11-24T09:39:14.563Z"
    }
   },
   "outputs": [],
   "source": [
    "true_edges <- qread('true_edges.qs')%>% \n",
    "            lapply(sort) %>% sapply(paste, collapse = ' - ')\n",
    "fnames <- list.files(path = '/ebio/abt3_projects/temp_data/aruaud/Toy_p005_N1000_B100', full.names = TRUE) "
   ]
  },
  {
   "cell_type": "code",
   "execution_count": 29,
   "metadata": {
    "ExecuteTime": {
     "end_time": "2021-11-24T09:42:20.478774Z",
     "start_time": "2021-11-24T09:39:14.802Z"
    }
   },
   "outputs": [],
   "source": [
    "check <- lapply(fnames, getRes, true_edges = true_edges, alpha = 5, pi_thr = 0.7)\n",
    "check <- do.call(rbind, check) "
   ]
  },
  {
   "cell_type": "code",
   "execution_count": 30,
   "metadata": {
    "ExecuteTime": {
     "end_time": "2021-11-24T09:42:20.508828Z",
     "start_time": "2021-11-24T09:39:14.997Z"
    }
   },
   "outputs": [],
   "source": [
    "check$precision <- check$tp/(check$tp+check$fp)\n",
    "check$recall <- check$tp/(check$tp+check$fn)\n",
    "check$w_precision <- check$tp_imp/(check$tp_imp+check$fp_imp)"
   ]
  },
  {
   "cell_type": "code",
   "execution_count": 64,
   "metadata": {
    "ExecuteTime": {
     "end_time": "2021-04-02T10:50:39.111521Z",
     "start_time": "2021-04-02T10:48:38.801Z"
    }
   },
   "outputs": [
    {
     "data": {
      "text/html": [
       "<table class=\"dataframe\">\n",
       "<caption>A tibble: 2 × 11</caption>\n",
       "<thead>\n",
       "\t<tr><th scope=col>b</th><th scope=col>rf_accuracy</th><th scope=col>n_decisions</th><th scope=col>tp</th><th scope=col>fp</th><th scope=col>fn</th><th scope=col>tp_imp</th><th scope=col>fp_imp</th><th scope=col>precision</th><th scope=col>recall</th><th scope=col>w_precision</th></tr>\n",
       "\t<tr><th scope=col>&lt;dbl&gt;</th><th scope=col>&lt;dbl&gt;</th><th scope=col>&lt;dbl&gt;</th><th scope=col>&lt;dbl&gt;</th><th scope=col>&lt;dbl&gt;</th><th scope=col>&lt;dbl&gt;</th><th scope=col>&lt;dbl&gt;</th><th scope=col>&lt;dbl&gt;</th><th scope=col>&lt;dbl&gt;</th><th scope=col>&lt;dbl&gt;</th><th scope=col>&lt;dbl&gt;</th></tr>\n",
       "</thead>\n",
       "<tbody>\n",
       "\t<tr><td>10</td><td>0.83005</td><td>5.96</td><td>5.46</td><td>5.81</td><td>4.54</td><td> 40.02631</td><td> 6.030784</td><td>0.5569519</td><td>0.546</td><td>0.8636605</td></tr>\n",
       "\t<tr><td>90</td><td>0.83005</td><td>3.74</td><td>4.05</td><td>2.26</td><td>5.95</td><td>277.69908</td><td>30.353662</td><td>0.7140870</td><td>0.405</td><td>0.9029843</td></tr>\n",
       "</tbody>\n",
       "</table>\n"
      ],
      "text/latex": [
       "A tibble: 2 × 11\n",
       "\\begin{tabular}{lllllllllll}\n",
       " b & rf\\_accuracy & n\\_decisions & tp & fp & fn & tp\\_imp & fp\\_imp & precision & recall & w\\_precision\\\\\n",
       " <dbl> & <dbl> & <dbl> & <dbl> & <dbl> & <dbl> & <dbl> & <dbl> & <dbl> & <dbl> & <dbl>\\\\\n",
       "\\hline\n",
       "\t 10 & 0.83005 & 5.96 & 5.46 & 5.81 & 4.54 &  40.02631 &  6.030784 & 0.5569519 & 0.546 & 0.8636605\\\\\n",
       "\t 90 & 0.83005 & 3.74 & 4.05 & 2.26 & 5.95 & 277.69908 & 30.353662 & 0.7140870 & 0.405 & 0.9029843\\\\\n",
       "\\end{tabular}\n"
      ],
      "text/markdown": [
       "\n",
       "A tibble: 2 × 11\n",
       "\n",
       "| b &lt;dbl&gt; | rf_accuracy &lt;dbl&gt; | n_decisions &lt;dbl&gt; | tp &lt;dbl&gt; | fp &lt;dbl&gt; | fn &lt;dbl&gt; | tp_imp &lt;dbl&gt; | fp_imp &lt;dbl&gt; | precision &lt;dbl&gt; | recall &lt;dbl&gt; | w_precision &lt;dbl&gt; |\n",
       "|---|---|---|---|---|---|---|---|---|---|---|\n",
       "| 10 | 0.83005 | 5.96 | 5.46 | 5.81 | 4.54 |  40.02631 |  6.030784 | 0.5569519 | 0.546 | 0.8636605 |\n",
       "| 90 | 0.83005 | 3.74 | 4.05 | 2.26 | 5.95 | 277.69908 | 30.353662 | 0.7140870 | 0.405 | 0.9029843 |\n",
       "\n"
      ],
      "text/plain": [
       "  b  rf_accuracy n_decisions tp   fp   fn   tp_imp    fp_imp    precision\n",
       "1 10 0.83005     5.96        5.46 5.81 4.54  40.02631  6.030784 0.5569519\n",
       "2 90 0.83005     3.74        4.05 2.26 5.95 277.69908 30.353662 0.7140870\n",
       "  recall w_precision\n",
       "1 0.546  0.8636605  \n",
       "2 0.405  0.9029843  "
      ]
     },
     "metadata": {},
     "output_type": "display_data"
    }
   ],
   "source": [
    "check %>% group_by(b) %>% summarise_all(mean) %>% \n",
    "select(b, rf_accuracy, n_decisions, tp, fp, fn, tp_imp, fp_imp, precision, recall, w_precision) "
   ]
  },
  {
   "cell_type": "code",
   "execution_count": 65,
   "metadata": {
    "ExecuteTime": {
     "end_time": "2021-04-02T10:50:45.697994Z",
     "start_time": "2021-04-02T10:50:45.417Z"
    }
   },
   "outputs": [
    {
     "data": {
      "text/html": [
       "<table class=\"dataframe\">\n",
       "<caption>A tibble: 2 × 11</caption>\n",
       "<thead>\n",
       "\t<tr><th scope=col>b</th><th scope=col>rf_accuracy</th><th scope=col>n_decisions</th><th scope=col>tp</th><th scope=col>fp</th><th scope=col>fn</th><th scope=col>tp_imp</th><th scope=col>fp_imp</th><th scope=col>precision</th><th scope=col>recall</th><th scope=col>w_precision</th></tr>\n",
       "\t<tr><th scope=col>&lt;dbl&gt;</th><th scope=col>&lt;dbl&gt;</th><th scope=col>&lt;dbl&gt;</th><th scope=col>&lt;dbl&gt;</th><th scope=col>&lt;dbl&gt;</th><th scope=col>&lt;dbl&gt;</th><th scope=col>&lt;dbl&gt;</th><th scope=col>&lt;dbl&gt;</th><th scope=col>&lt;dbl&gt;</th><th scope=col>&lt;dbl&gt;</th><th scope=col>&lt;dbl&gt;</th></tr>\n",
       "</thead>\n",
       "<tbody>\n",
       "\t<tr><td>10</td><td>0.01949223</td><td>2.562038</td><td>2.401262</td><td>4.598408</td><td>2.401262</td><td> 22.5127</td><td> 5.98833</td><td>0.2561057</td><td>0.2401262</td><td>0.111469</td></tr>\n",
       "\t<tr><td>90</td><td>0.01949223</td><td>1.920753</td><td>2.171324</td><td>2.600000</td><td>2.171324</td><td>175.4426</td><td>37.38150</td><td>0.2566352</td><td>0.2171324</td><td>0.102485</td></tr>\n",
       "</tbody>\n",
       "</table>\n"
      ],
      "text/latex": [
       "A tibble: 2 × 11\n",
       "\\begin{tabular}{lllllllllll}\n",
       " b & rf\\_accuracy & n\\_decisions & tp & fp & fn & tp\\_imp & fp\\_imp & precision & recall & w\\_precision\\\\\n",
       " <dbl> & <dbl> & <dbl> & <dbl> & <dbl> & <dbl> & <dbl> & <dbl> & <dbl> & <dbl> & <dbl>\\\\\n",
       "\\hline\n",
       "\t 10 & 0.01949223 & 2.562038 & 2.401262 & 4.598408 & 2.401262 &  22.5127 &  5.98833 & 0.2561057 & 0.2401262 & 0.111469\\\\\n",
       "\t 90 & 0.01949223 & 1.920753 & 2.171324 & 2.600000 & 2.171324 & 175.4426 & 37.38150 & 0.2566352 & 0.2171324 & 0.102485\\\\\n",
       "\\end{tabular}\n"
      ],
      "text/markdown": [
       "\n",
       "A tibble: 2 × 11\n",
       "\n",
       "| b &lt;dbl&gt; | rf_accuracy &lt;dbl&gt; | n_decisions &lt;dbl&gt; | tp &lt;dbl&gt; | fp &lt;dbl&gt; | fn &lt;dbl&gt; | tp_imp &lt;dbl&gt; | fp_imp &lt;dbl&gt; | precision &lt;dbl&gt; | recall &lt;dbl&gt; | w_precision &lt;dbl&gt; |\n",
       "|---|---|---|---|---|---|---|---|---|---|---|\n",
       "| 10 | 0.01949223 | 2.562038 | 2.401262 | 4.598408 | 2.401262 |  22.5127 |  5.98833 | 0.2561057 | 0.2401262 | 0.111469 |\n",
       "| 90 | 0.01949223 | 1.920753 | 2.171324 | 2.600000 | 2.171324 | 175.4426 | 37.38150 | 0.2566352 | 0.2171324 | 0.102485 |\n",
       "\n"
      ],
      "text/plain": [
       "  b  rf_accuracy n_decisions tp       fp       fn       tp_imp   fp_imp  \n",
       "1 10 0.01949223  2.562038    2.401262 4.598408 2.401262  22.5127  5.98833\n",
       "2 90 0.01949223  1.920753    2.171324 2.600000 2.171324 175.4426 37.38150\n",
       "  precision recall    w_precision\n",
       "1 0.2561057 0.2401262 0.111469   \n",
       "2 0.2566352 0.2171324 0.102485   "
      ]
     },
     "metadata": {},
     "output_type": "display_data"
    }
   ],
   "source": [
    "check %>% group_by(b) %>% summarise_all(sd) %>% \n",
    "select(b, rf_accuracy, n_decisions, tp, fp, fn, tp_imp, fp_imp, precision, recall, w_precision) "
   ]
  },
  {
   "cell_type": "code",
   "execution_count": null,
   "metadata": {},
   "outputs": [],
   "source": []
  }
 ],
 "metadata": {
  "kernelspec": {
   "display_name": "R [conda env:Metagenomes_methanogen-r-ml] *",
   "language": "R",
   "name": "conda-env-Metagenomes_methanogen-r-ml-r"
  },
  "language_info": {
   "codemirror_mode": "r",
   "file_extension": ".r",
   "mimetype": "text/x-r-source",
   "name": "R",
   "pygments_lexer": "r",
   "version": "4.0.3"
  },
  "notify_time": "30",
  "toc": {
   "base_numbering": 1,
   "nav_menu": {},
   "number_sections": true,
   "sideBar": true,
   "skip_h1_title": false,
   "title_cell": "Table of Contents",
   "title_sidebar": "Contents",
   "toc_cell": false,
   "toc_position": {
    "height": "calc(100% - 180px)",
    "left": "10px",
    "top": "150px",
    "width": "165px"
   },
   "toc_section_display": true,
   "toc_window_display": true
  }
 },
 "nbformat": 4,
 "nbformat_minor": 4
}
