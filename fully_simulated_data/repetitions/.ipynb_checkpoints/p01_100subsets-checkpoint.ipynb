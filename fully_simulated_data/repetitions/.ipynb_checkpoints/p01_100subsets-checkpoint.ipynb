{
 "cells": [
  {
   "cell_type": "markdown",
   "metadata": {},
   "source": [
    "# Preambule"
   ]
  },
  {
   "cell_type": "markdown",
   "metadata": {
    "heading_collapsed": true
   },
   "source": [
    "## libraries"
   ]
  },
  {
   "cell_type": "code",
   "execution_count": 1,
   "metadata": {
    "ExecuteTime": {
     "end_time": "2020-11-18T12:52:37.768114Z",
     "start_time": "2020-11-18T12:52:33.876Z"
    },
    "collapsed": true,
    "hidden": true
   },
   "outputs": [
    {
     "name": "stderr",
     "output_type": "stream",
     "text": [
      "Loading required package: lattice\n",
      "\n",
      "Loading required package: ggplot2\n",
      "\n",
      "Loading required package: viridisLite\n",
      "\n",
      "\n",
      "Attaching package: ‘igraph’\n",
      "\n",
      "\n",
      "The following objects are masked from ‘package:stats’:\n",
      "\n",
      "    decompose, spectrum\n",
      "\n",
      "\n",
      "The following object is masked from ‘package:base’:\n",
      "\n",
      "    union\n",
      "\n",
      "\n",
      "\n",
      "Attaching package: ‘scales’\n",
      "\n",
      "\n",
      "The following object is masked from ‘package:viridis’:\n",
      "\n",
      "    viridis_pal\n",
      "\n",
      "\n",
      "\n",
      "Attaching package: ‘dplyr’\n",
      "\n",
      "\n",
      "The following objects are masked from ‘package:igraph’:\n",
      "\n",
      "    as_data_frame, groups, union\n",
      "\n",
      "\n",
      "The following objects are masked from ‘package:data.table’:\n",
      "\n",
      "    between, first, last\n",
      "\n",
      "\n",
      "The following objects are masked from ‘package:stats’:\n",
      "\n",
      "    filter, lag\n",
      "\n",
      "\n",
      "The following objects are masked from ‘package:base’:\n",
      "\n",
      "    intersect, setdiff, setequal, union\n",
      "\n",
      "\n",
      "Registered S3 method overwritten by 'randomForest':\n",
      "  method      from\n",
      "  plot.margin RRF \n",
      "\n",
      "randomForest 4.6-14\n",
      "\n",
      "Type rfNews() to see new features/changes/bug fixes.\n",
      "\n",
      "\n",
      "Attaching package: ‘randomForest’\n",
      "\n",
      "\n",
      "The following object is masked from ‘package:dplyr’:\n",
      "\n",
      "    combine\n",
      "\n",
      "\n",
      "The following object is masked from ‘package:ggplot2’:\n",
      "\n",
      "    margin\n",
      "\n",
      "\n"
     ]
    }
   ],
   "source": [
    "library(parallel)\n",
    "library(caret)\n",
    "library(viridis)\n",
    "library(data.table)\n",
    "library(igraph)\n",
    "library(ggraph)\n",
    "library(stringr)\n",
    "library(scales)\n",
    "library(dplyr)\n",
    "library(\"inTrees\")\n",
    "library(randomForest)"
   ]
  },
  {
   "cell_type": "code",
   "execution_count": 78,
   "metadata": {
    "ExecuteTime": {
     "end_time": "2020-11-18T15:16:15.680929Z",
     "start_time": "2020-11-18T15:16:15.226Z"
    },
    "hidden": true
   },
   "outputs": [
    {
     "name": "stderr",
     "output_type": "stream",
     "text": [
      "Warning message:\n",
      "“replacing previous import ‘dplyr::last’ by ‘data.table::last’ when loading ‘babR’”\n",
      "Warning message:\n",
      "“replacing previous import ‘dplyr::between’ by ‘data.table::between’ when loading ‘babR’”\n",
      "Warning message:\n",
      "“replacing previous import ‘dplyr::first’ by ‘data.table::first’ when loading ‘babR’”\n"
     ]
    }
   ],
   "source": [
    "detach(\"package:babR\", unload=TRUE)\n",
    "library(babR)"
   ]
  },
  {
   "cell_type": "code",
   "execution_count": 3,
   "metadata": {
    "ExecuteTime": {
     "end_time": "2020-11-18T12:52:38.070628Z",
     "start_time": "2020-11-18T12:52:33.882Z"
    },
    "collapsed": true,
    "hidden": true
   },
   "outputs": [
    {
     "data": {
      "text/plain": [
       "R version 3.6.3 (2020-02-29)\n",
       "Platform: x86_64-conda-linux-gnu (64-bit)\n",
       "Running under: Ubuntu 18.04.5 LTS\n",
       "\n",
       "Matrix products: default\n",
       "BLAS/LAPACK: /ebio/abt3_projects/Methanogen_SCFA/Metagenomes_methanogen/envs/r-ml/lib/libopenblasp-r0.3.12.so\n",
       "\n",
       "locale:\n",
       " [1] LC_CTYPE=en_US.UTF-8       LC_NUMERIC=C              \n",
       " [3] LC_TIME=en_US.UTF-8        LC_COLLATE=en_US.UTF-8    \n",
       " [5] LC_MONETARY=en_US.UTF-8    LC_MESSAGES=en_US.UTF-8   \n",
       " [7] LC_PAPER=en_US.UTF-8       LC_NAME=C                 \n",
       " [9] LC_ADDRESS=C               LC_TELEPHONE=C            \n",
       "[11] LC_MEASUREMENT=en_US.UTF-8 LC_IDENTIFICATION=C       \n",
       "\n",
       "attached base packages:\n",
       "[1] parallel  stats     graphics  grDevices utils     datasets  methods  \n",
       "[8] base     \n",
       "\n",
       "other attached packages:\n",
       " [1] babR_0.0.0.9000     randomForest_4.6-14 inTrees_1.2        \n",
       " [4] dplyr_1.0.2         scales_1.1.1        stringr_1.4.0      \n",
       " [7] ggraph_2.0.3        igraph_1.2.6        data.table_1.13.2  \n",
       "[10] viridis_0.5.1       viridisLite_0.3.0   caret_6.0-83       \n",
       "[13] ggplot2_3.3.2       lattice_0.20-41    \n",
       "\n",
       "loaded via a namespace (and not attached):\n",
       " [1] ggrepel_0.8.2        Rcpp_1.0.5           lubridate_1.7.9     \n",
       " [4] RRF_1.9.1            tidyr_1.1.2          class_7.3-17        \n",
       " [7] digest_0.6.27        ipred_0.9-9          foreach_1.5.1       \n",
       "[10] ggforce_0.3.2        IRdisplay_0.7.0      R6_2.5.0            \n",
       "[13] plyr_1.8.6           repr_1.1.0           stats4_3.6.3        \n",
       "[16] evaluate_0.14        pillar_1.4.6         rlang_0.4.8         \n",
       "[19] uuid_0.1-4           rpart_4.1-15         Matrix_1.2-18       \n",
       "[22] splines_3.6.3        gower_0.2.2          polyclip_1.10-0     \n",
       "[25] munsell_0.5.0        compiler_3.6.3       pkgconfig_2.0.3     \n",
       "[28] base64enc_0.1-3      gbm_2.1.8            htmltools_0.5.0     \n",
       "[31] nnet_7.3-14          tidyselect_1.1.0     tibble_3.0.4        \n",
       "[34] gridExtra_2.3        prodlim_2019.11.13   graphlayouts_0.7.1  \n",
       "[37] codetools_0.2-17     crayon_1.3.4         withr_2.3.0         \n",
       "[40] arules_1.6-6         MASS_7.3-53          recipes_0.1.14      \n",
       "[43] ModelMetrics_1.2.2.2 grid_3.6.3           xtable_1.8-4        \n",
       "[46] nlme_3.1-150         jsonlite_1.7.1       gtable_0.3.0        \n",
       "[49] lifecycle_0.2.0      magrittr_1.5         stringi_1.5.3       \n",
       "[52] farver_2.0.3         reshape2_1.4.4       timeDate_3043.102   \n",
       "[55] ellipsis_0.3.1       generics_0.1.0       vctrs_0.3.4         \n",
       "[58] xgboost_1.2.0.1      IRkernel_1.1.1       lava_1.6.8          \n",
       "[61] iterators_1.0.13     tools_3.6.3          glue_1.4.2          \n",
       "[64] tweenr_1.0.1         purrr_0.3.4          survival_3.2-7      \n",
       "[67] colorspace_1.4-1     tidygraph_1.2.0      pbdZMQ_0.3-3.1      "
      ]
     },
     "metadata": {},
     "output_type": "display_data"
    }
   ],
   "source": [
    "sessionInfo()"
   ]
  },
  {
   "cell_type": "markdown",
   "metadata": {
    "heading_collapsed": true
   },
   "source": [
    "## clustermq"
   ]
  },
  {
   "cell_type": "code",
   "execution_count": 4,
   "metadata": {
    "ExecuteTime": {
     "end_time": "2020-11-18T12:52:38.220544Z",
     "start_time": "2020-11-18T12:52:33.885Z"
    },
    "hidden": true
   },
   "outputs": [],
   "source": [
    "library(clustermq)\n",
    "options(clustermq.scheduler = \"sge\", clustermq.template = \"~/.clustermq.tmpl\")"
   ]
  },
  {
   "cell_type": "code",
   "execution_count": 5,
   "metadata": {
    "ExecuteTime": {
     "end_time": "2020-11-18T12:52:38.236248Z",
     "start_time": "2020-11-18T12:52:33.887Z"
    },
    "hidden": true
   },
   "outputs": [],
   "source": [
    "n_cores <- 10\n",
    "tmpl <- list(conda = \"r-ml\", cores = n_cores\n",
    "            , job_time = '10:00:00'\n",
    "             , job_mem = '5G'\n",
    "            )"
   ]
  },
  {
   "cell_type": "markdown",
   "metadata": {
    "heading_collapsed": true
   },
   "source": [
    "# Simulate data"
   ]
  },
  {
   "cell_type": "code",
   "execution_count": 6,
   "metadata": {
    "ExecuteTime": {
     "end_time": "2020-11-18T12:52:38.249349Z",
     "start_time": "2020-11-18T12:52:33.890Z"
    },
    "hidden": true
   },
   "outputs": [],
   "source": [
    "nr <- 5000"
   ]
  },
  {
   "cell_type": "code",
   "execution_count": 7,
   "metadata": {
    "ExecuteTime": {
     "end_time": "2020-11-18T12:52:38.308291Z",
     "start_time": "2020-11-18T12:52:33.892Z"
    },
    "hidden": true
   },
   "outputs": [],
   "source": [
    "simu <- data.table(tmp = 1:nr)\n",
    "\n",
    "for (j in 1:12){\n",
    "    set.seed(j)\n",
    "    set(simu, NULL, paste0('V',j), value = rnorm(nr, mean = .5, sd = 1))\n",
    "}\n",
    "simu <- simu[,tmp:=NULL]\n",
    "\n",
    "set(simu, 1:(0.25*nr), 'target', simu[[1]][ 1:(0.25*nr) ]*simu[[2]][ 1:(0.25*nr) ] )\n",
    "set(simu, 1:(0.25*nr), 'group', 'a')\n",
    "\n",
    "set(simu, (0.25*nr+1):(0.5*nr), 'target', simu[[3]][ (0.25*nr+1):(0.5*nr) ])\n",
    "set(simu, (0.25*nr+1):(0.5*nr), 'group', 'b')\n",
    "\n",
    "set(simu, (0.5*nr+1):(0.75*nr), 'target', simu[[4]][(0.5*nr+1):(0.75*nr) ]+simu[[5]][ (0.5*nr+1):(0.75*nr) ])\n",
    "set(simu, (0.5*nr+1):(0.75*nr), 'group', 'c')\n",
    "\n",
    "set(simu, (0.75*nr+1):nr, 'target', simu[[6]][(0.75*nr+1):nr] - simu[[7]][(0.75*nr+1):nr])\n",
    "set(simu, (0.75*nr+1):nr, 'group', 'd')"
   ]
  },
  {
   "cell_type": "code",
   "execution_count": 8,
   "metadata": {
    "ExecuteTime": {
     "end_time": "2020-11-18T12:52:38.326794Z",
     "start_time": "2020-11-18T12:52:33.895Z"
    },
    "hidden": true
   },
   "outputs": [],
   "source": [
    "set.seed(0)\n",
    "brnounou <- rbinom(n = nr, size = 1,prob = 0.2)\n",
    "simu$target[brnounou == 1] <- -simu$target[brnounou == 1]"
   ]
  },
  {
   "cell_type": "code",
   "execution_count": 9,
   "metadata": {
    "ExecuteTime": {
     "end_time": "2020-11-18T12:52:38.344321Z",
     "start_time": "2020-11-18T12:52:33.897Z"
    },
    "hidden": true
   },
   "outputs": [],
   "source": [
    "set(simu, NULL, 'target_ctg', as.character(sign(simu[['target']])))"
   ]
  },
  {
   "cell_type": "code",
   "execution_count": 10,
   "metadata": {
    "ExecuteTime": {
     "end_time": "2020-11-18T12:52:38.412597Z",
     "start_time": "2020-11-18T12:52:33.899Z"
    },
    "hidden": true
   },
   "outputs": [],
   "source": [
    "dummies <- dummyVars(target_ctg ~ ., data = simu )\n",
    "dummies <- as.data.table(predict(dummies, newdata = simu ))\n",
    "dummies <- select(dummies, -target)"
   ]
  },
  {
   "cell_type": "code",
   "execution_count": 11,
   "metadata": {
    "ExecuteTime": {
     "end_time": "2020-11-18T12:52:38.478644Z",
     "start_time": "2020-11-18T12:52:33.903Z"
    },
    "hidden": true
   },
   "outputs": [
    {
     "name": "stderr",
     "output_type": "stream",
     "text": [
      "`summarise()` ungrouping output (override with `.groups` argument)\n",
      "\n"
     ]
    },
    {
     "data": {
      "text/html": [
       "<table>\n",
       "<caption>A tibble: 4 × 4</caption>\n",
       "<thead>\n",
       "\t<tr><th scope=col>group</th><th scope=col>nsamples</th><th scope=col>variance</th><th scope=col>posi</th></tr>\n",
       "\t<tr><th scope=col>&lt;chr&gt;</th><th scope=col>&lt;int&gt;</th><th scope=col>&lt;dbl&gt;</th><th scope=col>&lt;dbl&gt;</th></tr>\n",
       "</thead>\n",
       "<tbody>\n",
       "\t<tr><td>a</td><td>1250</td><td>1.715</td><td>0.5584</td></tr>\n",
       "\t<tr><td>b</td><td>1250</td><td>1.160</td><td>0.6136</td></tr>\n",
       "\t<tr><td>c</td><td>1250</td><td>2.665</td><td>0.6456</td></tr>\n",
       "\t<tr><td>d</td><td>1250</td><td>2.044</td><td>0.4952</td></tr>\n",
       "</tbody>\n",
       "</table>\n"
      ],
      "text/latex": [
       "A tibble: 4 × 4\n",
       "\\begin{tabular}{llll}\n",
       " group & nsamples & variance & posi\\\\\n",
       " <chr> & <int> & <dbl> & <dbl>\\\\\n",
       "\\hline\n",
       "\t a & 1250 & 1.715 & 0.5584\\\\\n",
       "\t b & 1250 & 1.160 & 0.6136\\\\\n",
       "\t c & 1250 & 2.665 & 0.6456\\\\\n",
       "\t d & 1250 & 2.044 & 0.4952\\\\\n",
       "\\end{tabular}\n"
      ],
      "text/markdown": [
       "\n",
       "A tibble: 4 × 4\n",
       "\n",
       "| group &lt;chr&gt; | nsamples &lt;int&gt; | variance &lt;dbl&gt; | posi &lt;dbl&gt; |\n",
       "|---|---|---|---|\n",
       "| a | 1250 | 1.715 | 0.5584 |\n",
       "| b | 1250 | 1.160 | 0.6136 |\n",
       "| c | 1250 | 2.665 | 0.6456 |\n",
       "| d | 1250 | 2.044 | 0.4952 |\n",
       "\n"
      ],
      "text/plain": [
       "  group nsamples variance posi  \n",
       "1 a     1250     1.715    0.5584\n",
       "2 b     1250     1.160    0.6136\n",
       "3 c     1250     2.665    0.6456\n",
       "4 d     1250     2.044    0.4952"
      ]
     },
     "metadata": {},
     "output_type": "display_data"
    }
   ],
   "source": [
    "simu %>% group_by(group) %>% summarise(nsamples = n()\n",
    "                                       , variance = round(sd(target)^2, digits = 3)\n",
    "                                       , posi = sum(target_ctg == 1)/n()\n",
    "                                      )"
   ]
  },
  {
   "cell_type": "markdown",
   "metadata": {
    "heading_collapsed": true
   },
   "source": [
    "# Model"
   ]
  },
  {
   "cell_type": "code",
   "execution_count": 12,
   "metadata": {
    "ExecuteTime": {
     "end_time": "2020-11-18T12:52:38.493593Z",
     "start_time": "2020-11-18T12:52:33.907Z"
    },
    "hidden": true
   },
   "outputs": [],
   "source": [
    "simu <- simu[, group:=as.factor(group)]"
   ]
  },
  {
   "cell_type": "code",
   "execution_count": 13,
   "metadata": {
    "ExecuteTime": {
     "end_time": "2020-11-18T12:52:38.512369Z",
     "start_time": "2020-11-18T12:52:33.910Z"
    },
    "hidden": true
   },
   "outputs": [
    {
     "data": {
      "text/html": [
       "<style>\n",
       ".dl-inline {width: auto; margin:0; padding: 0}\n",
       ".dl-inline>dt, .dl-inline>dd {float: none; width: auto; display: inline-block}\n",
       ".dl-inline>dt::after {content: \":\\0020\"; padding-right: .5ex}\n",
       ".dl-inline>dt:not(:first-of-type) {padding-left: .5ex}\n",
       "</style><dl class=dl-inline><dt>-1</dt><dd>2109</dd><dt>1</dt><dd>2891</dd></dl>\n"
      ],
      "text/latex": [
       "\\begin{description*}\n",
       "\\item[-1] 2109\n",
       "\\item[1] 2891\n",
       "\\end{description*}\n"
      ],
      "text/markdown": [
       "-1\n",
       ":   21091\n",
       ":   2891\n",
       "\n"
      ],
      "text/plain": [
       "  -1    1 \n",
       "2109 2891 "
      ]
     },
     "metadata": {},
     "output_type": "display_data"
    }
   ],
   "source": [
    "as.factor(simu$target_ctg) %>% summary"
   ]
  },
  {
   "cell_type": "code",
   "execution_count": 14,
   "metadata": {
    "ExecuteTime": {
     "end_time": "2020-11-18T12:52:45.325198Z",
     "start_time": "2020-11-18T12:52:33.912Z"
    },
    "hidden": true
   },
   "outputs": [
    {
     "data": {
      "text/plain": [
       "\n",
       "Call:\n",
       " randomForest(x = dummies, y = as.factor(simu$target_ctg)) \n",
       "               Type of random forest: classification\n",
       "                     Number of trees: 500\n",
       "No. of variables tried at each split: 4\n",
       "\n",
       "        OOB estimate of  error rate: 25.54%\n",
       "Confusion matrix:\n",
       "     -1    1 class.error\n",
       "-1 1279  830   0.3935514\n",
       "1   447 2444   0.1546178"
      ]
     },
     "metadata": {},
     "output_type": "display_data"
    }
   ],
   "source": [
    "set.seed(0)\n",
    "rf_class <- randomForest(y = as.factor(simu$target_ctg), x = dummies)\n",
    "rf_class"
   ]
  },
  {
   "cell_type": "code",
   "execution_count": 15,
   "metadata": {
    "ExecuteTime": {
     "end_time": "2020-11-18T12:52:45.342845Z",
     "start_time": "2020-11-18T12:52:33.915Z"
    },
    "hidden": true
   },
   "outputs": [
    {
     "name": "stdout",
     "output_type": "stream",
     "text": [
      "Accuracy =  0.7446"
     ]
    }
   ],
   "source": [
    "acc <- (rf_class$confusion[1,1] + rf_class$confusion[2,2])/nr\n",
    "cat('Accuracy = ', acc)"
   ]
  },
  {
   "cell_type": "markdown",
   "metadata": {
    "heading_collapsed": true
   },
   "source": [
    "# 100"
   ]
  },
  {
   "cell_type": "code",
   "execution_count": 16,
   "metadata": {
    "ExecuteTime": {
     "end_time": "2020-11-18T12:55:53.980787Z",
     "start_time": "2020-11-18T12:52:33.917Z"
    },
    "hidden": true
   },
   "outputs": [
    {
     "name": "stderr",
     "output_type": "stream",
     "text": [
      "Extract rules...\n",
      "\n",
      "Discretise data\n",
      "\n",
      "Discretise rules\n",
      "\n"
     ]
    }
   ],
   "source": [
    "preclu <- preCluster(model = rf_class, model_type = 'rf', times = 100, p = 0.5\n",
    "                     , ntree = 'all'\n",
    "                     ,data = dummies, target = as.factor(simu$target_ctg),dummy_var = 'group'\n",
    "                     , discretize = TRUE, K = 3, seed = 1\n",
    "                     , in_parallel = TRUE, n_cores = 10\n",
    "                     )"
   ]
  },
  {
   "cell_type": "code",
   "execution_count": 17,
   "metadata": {
    "ExecuteTime": {
     "end_time": "2020-11-18T13:16:07.862735Z",
     "start_time": "2020-11-18T12:52:33.919Z"
    },
    "collapsed": true,
    "hidden": true
   },
   "outputs": [
    {
     "name": "stderr",
     "output_type": "stream",
     "text": [
      "Warning message in (function (...) :\n",
      "“Common data is 49.3 Mb. Recommended limit is  (set by clustermq.data.warning option)”\n",
      "Submitting 80 worker jobs (ID: cmq8780) ...\n",
      "\n",
      "Running 100 calculations (10 objs/49.3 Mb common; 1 calls/chunk) ...\n",
      "\n",
      "\n",
      "[---------------------------------------------------]   0% (1/80 wrk) eta:  ?s\n",
      "\n",
      "[---------------------------------------------------]   0% (2/80 wrk) eta:  ?s\n",
      "\n",
      "[---------------------------------------------------]   0% (3/80 wrk) eta:  ?s\n",
      "\n",
      "[---------------------------------------------------]   0% (4/80 wrk) eta:  ?s\n",
      "\n",
      "[---------------------------------------------------]   0% (5/80 wrk) eta:  ?s\n",
      "\n",
      "[---------------------------------------------------]   0% (6/80 wrk) eta:  ?s\n",
      "\n",
      "[---------------------------------------------------]   0% (7/80 wrk) eta:  ?s\n",
      "\n",
      "[---------------------------------------------------]   0% (8/80 wrk) eta:  ?s\n",
      "\n",
      "[---------------------------------------------------]   0% (9/80 wrk) eta:  ?s\n",
      "\n",
      "[--------------------------------------------------]   0% (10/80 wrk) eta:  ?s\n",
      "\n",
      "[--------------------------------------------------]   0% (11/80 wrk) eta:  ?s\n",
      "\n",
      "[--------------------------------------------------]   0% (12/80 wrk) eta:  ?s\n",
      "\n",
      "[--------------------------------------------------]   0% (13/80 wrk) eta:  ?s\n",
      "\n",
      "[--------------------------------------------------]   0% (14/80 wrk) eta:  ?s\n",
      "\n",
      "[--------------------------------------------------]   0% (15/80 wrk) eta:  ?s\n",
      "\n",
      "[--------------------------------------------------]   0% (16/80 wrk) eta:  ?s\n",
      "\n",
      "[--------------------------------------------------]   0% (17/80 wrk) eta:  ?s\n",
      "\n",
      "[--------------------------------------------------]   0% (18/80 wrk) eta:  ?s\n",
      "\n",
      "[--------------------------------------------------]   0% (19/80 wrk) eta:  ?s\n",
      "\n",
      "[--------------------------------------------------]   0% (20/80 wrk) eta:  ?s\n",
      "\n",
      "[--------------------------------------------------]   0% (21/80 wrk) eta:  ?s\n",
      "\n",
      "[--------------------------------------------------]   0% (22/80 wrk) eta:  ?s\n",
      "\n",
      "[--------------------------------------------------]   0% (23/80 wrk) eta:  ?s\n",
      "\n",
      "[--------------------------------------------------]   0% (24/80 wrk) eta:  ?s\n",
      "\n",
      "[--------------------------------------------------]   0% (25/80 wrk) eta:  ?s\n",
      "\n",
      "[--------------------------------------------------]   0% (26/80 wrk) eta:  ?s\n",
      "\n",
      "[--------------------------------------------------]   0% (27/80 wrk) eta:  ?s\n",
      "\n",
      "[--------------------------------------------------]   0% (28/80 wrk) eta:  ?s\n",
      "\n",
      "[--------------------------------------------------]   0% (29/80 wrk) eta:  ?s\n",
      "\n",
      "[--------------------------------------------------]   0% (30/80 wrk) eta:  ?s\n",
      "\n",
      "[--------------------------------------------------]   0% (31/80 wrk) eta:  ?s\n",
      "\n",
      "[--------------------------------------------------]   0% (32/80 wrk) eta:  ?s\n",
      "\n",
      "[--------------------------------------------------]   0% (33/80 wrk) eta:  ?s\n",
      "\n",
      "[--------------------------------------------------]   0% (34/80 wrk) eta:  ?s\n",
      "\n",
      "[--------------------------------------------------]   0% (35/80 wrk) eta:  ?s\n",
      "\n",
      "[--------------------------------------------------]   0% (36/80 wrk) eta:  ?s\n",
      "\n",
      "[--------------------------------------------------]   0% (37/80 wrk) eta:  ?s\n",
      "\n",
      "[--------------------------------------------------]   0% (38/80 wrk) eta:  ?s\n",
      "\n",
      "[--------------------------------------------------]   0% (39/80 wrk) eta:  ?s\n",
      "\n",
      "[--------------------------------------------------]   0% (40/80 wrk) eta:  ?s\n",
      "\n",
      "[--------------------------------------------------]   0% (41/80 wrk) eta:  ?s\n",
      "\n",
      "[--------------------------------------------------]   0% (42/80 wrk) eta:  ?s\n",
      "\n",
      "[--------------------------------------------------]   0% (43/80 wrk) eta:  ?s\n",
      "\n",
      "[--------------------------------------------------]   0% (44/80 wrk) eta:  ?s\n",
      "\n",
      "[--------------------------------------------------]   0% (45/80 wrk) eta:  ?s\n",
      "\n",
      "[--------------------------------------------------]   0% (46/80 wrk) eta:  ?s\n",
      "\n",
      "[--------------------------------------------------]   0% (47/80 wrk) eta:  ?s\n",
      "\n",
      "[--------------------------------------------------]   0% (48/80 wrk) eta:  ?s\n",
      "\n",
      "[--------------------------------------------------]   0% (49/80 wrk) eta:  ?s\n",
      "\n",
      "[--------------------------------------------------]   0% (50/80 wrk) eta:  ?s\n",
      "\n",
      "[--------------------------------------------------]   0% (51/80 wrk) eta:  ?s\n",
      "\n",
      "[--------------------------------------------------]   0% (52/80 wrk) eta:  ?s\n",
      "\n",
      "[--------------------------------------------------]   0% (53/80 wrk) eta:  ?s\n",
      "\n",
      "[--------------------------------------------------]   0% (54/80 wrk) eta:  ?s\n",
      "\n",
      "[--------------------------------------------------]   0% (55/80 wrk) eta:  ?s\n",
      "\n",
      "[--------------------------------------------------]   0% (56/80 wrk) eta:  ?s\n",
      "\n",
      "[--------------------------------------------------]   0% (57/80 wrk) eta:  ?s\n",
      "\n",
      "[--------------------------------------------------]   0% (58/80 wrk) eta:  ?s\n",
      "\n",
      "[--------------------------------------------------]   0% (59/80 wrk) eta:  ?s\n",
      "\n",
      "[--------------------------------------------------]   0% (60/80 wrk) eta:  ?s\n",
      "\n",
      "[--------------------------------------------------]   0% (61/80 wrk) eta:  ?s\n",
      "\n",
      "[--------------------------------------------------]   0% (62/80 wrk) eta:  ?s\n",
      "\n",
      "[--------------------------------------------------]   0% (63/80 wrk) eta:  ?s\n",
      "\n",
      "[--------------------------------------------------]   0% (64/80 wrk) eta:  ?s\n",
      "\n",
      "[--------------------------------------------------]   0% (65/80 wrk) eta:  ?s\n",
      "\n",
      "[--------------------------------------------------]   0% (66/80 wrk) eta:  ?s\n",
      "\n",
      "[--------------------------------------------------]   0% (67/80 wrk) eta:  ?s\n",
      "\n",
      "[--------------------------------------------------]   0% (68/80 wrk) eta:  ?s\n",
      "\n",
      "[--------------------------------------------------]   0% (69/80 wrk) eta:  ?s\n",
      "\n",
      "[--------------------------------------------------]   0% (70/80 wrk) eta:  ?s\n",
      "\n",
      "[--------------------------------------------------]   0% (71/80 wrk) eta:  ?s\n",
      "\n",
      "[--------------------------------------------------]   0% (72/80 wrk) eta:  ?s\n",
      "\n",
      "[--------------------------------------------------]   0% (73/80 wrk) eta:  ?s\n",
      "\n",
      "[--------------------------------------------------]   0% (74/80 wrk) eta:  ?s\n",
      "\n",
      "[--------------------------------------------------]   0% (75/80 wrk) eta:  ?s\n",
      "\n",
      "[--------------------------------------------------]   0% (76/80 wrk) eta:  ?s\n",
      "\n",
      "[--------------------------------------------------]   0% (77/80 wrk) eta:  ?s\n",
      "\n",
      "[--------------------------------------------------]   0% (78/80 wrk) eta:  ?s\n",
      "\n",
      "[--------------------------------------------------]   0% (79/80 wrk) eta:  ?s\n",
      "\n",
      "[--------------------------------------------------]   0% (80/80 wrk) eta:  ?s\n",
      "\n",
      "[--------------------------------------------------]   1% (80/80 wrk) eta:  9h\n",
      "\n",
      "[>-------------------------------------------------]   2% (80/80 wrk) eta:  5h\n",
      "\n",
      "[=>------------------------------------------------]   3% (80/80 wrk) eta:  3h\n",
      "\n",
      "[=>------------------------------------------------]   4% (80/80 wrk) eta:  2h\n",
      "\n",
      "[=>------------------------------------------------]   5% (80/80 wrk) eta:  2h\n",
      "\n",
      "[==>-----------------------------------------------]   6% (80/80 wrk) eta:  2h\n",
      "\n",
      "[===>----------------------------------------------]   7% (80/80 wrk) eta:  1h\n",
      "\n",
      "[===>----------------------------------------------]   8% (80/80 wrk) eta:  1h\n",
      "\n",
      "[===>----------------------------------------------]   9% (80/80 wrk) eta:  1h\n",
      "\n",
      "[====>---------------------------------------------]  10% (80/80 wrk) eta:  1h\n",
      "\n",
      "[=====>--------------------------------------------]  11% (80/80 wrk) eta:  1h\n",
      "\n",
      "[=====>--------------------------------------------]  12% (80/80 wrk) eta: 47m\n",
      "\n",
      "[=====>--------------------------------------------]  13% (80/80 wrk) eta: 43m\n",
      "\n",
      "[======>-------------------------------------------]  14% (80/80 wrk) eta: 39m\n",
      "\n",
      "[=======>------------------------------------------]  15% (80/80 wrk) eta: 36m\n",
      "\n",
      "[=======>------------------------------------------]  16% (80/80 wrk) eta: 34m\n",
      "\n",
      "[=======>------------------------------------------]  17% (80/80 wrk) eta: 36m\n",
      "\n",
      "[========>-----------------------------------------]  18% (80/80 wrk) eta: 33m\n",
      "\n",
      "[=========>----------------------------------------]  19% (80/80 wrk) eta: 32m\n",
      "\n",
      "[=========>----------------------------------------]  20% (80/80 wrk) eta: 30m\n"
     ]
    },
    {
     "name": "stderr",
     "output_type": "stream",
     "text": [
      "\n",
      "[=========>----------------------------------------]  21% (80/80 wrk) eta: 29m\n",
      "\n",
      "[==========>---------------------------------------]  22% (80/80 wrk) eta: 27m\n",
      "\n",
      "[===========>--------------------------------------]  23% (78/78 wrk) eta: 26m\n",
      "\n",
      "[===========>--------------------------------------]  24% (77/77 wrk) eta: 24m\n",
      "\n",
      "[===========>--------------------------------------]  25% (76/76 wrk) eta: 23m\n",
      "\n",
      "[============>-------------------------------------]  26% (75/75 wrk) eta: 22m\n",
      "\n",
      "[=============>------------------------------------]  27% (74/74 wrk) eta: 21m\n",
      "\n",
      "[=============>------------------------------------]  28% (73/73 wrk) eta: 20m\n",
      "\n",
      "[=============>------------------------------------]  29% (72/72 wrk) eta: 19m\n",
      "\n",
      "[==============>-----------------------------------]  30% (71/71 wrk) eta: 19m\n",
      "\n",
      "[===============>----------------------------------]  31% (71/71 wrk) eta: 18m\n",
      "\n",
      "[===============>----------------------------------]  32% (69/69 wrk) eta: 17m\n",
      "\n",
      "[===============>----------------------------------]  33% (69/69 wrk) eta: 16m\n",
      "\n",
      "[================>---------------------------------]  34% (67/67 wrk) eta: 16m\n",
      "\n",
      "[=================>--------------------------------]  35% (67/67 wrk) eta: 15m\n",
      "\n",
      "[=================>--------------------------------]  36% (65/65 wrk) eta: 14m\n",
      "\n",
      "[=================>--------------------------------]  37% (64/64 wrk) eta: 14m\n",
      "\n",
      "[==================>-------------------------------]  38% (63/63 wrk) eta: 13m\n",
      "\n",
      "[===================>------------------------------]  39% (63/63 wrk) eta: 13m\n",
      "\n",
      "[===================>------------------------------]  40% (61/61 wrk) eta: 12m\n",
      "\n",
      "[===================>------------------------------]  41% (60/60 wrk) eta: 12m\n",
      "\n",
      "[====================>-----------------------------]  42% (59/59 wrk) eta: 11m\n",
      "\n",
      "[=====================>----------------------------]  43% (59/59 wrk) eta: 11m\n",
      "\n",
      "[=====================>----------------------------]  44% (57/57 wrk) eta: 11m\n",
      "\n",
      "[=====================>----------------------------]  45% (56/56 wrk) eta: 10m\n",
      "\n",
      "[======================>---------------------------]  46% (56/56 wrk) eta: 10m\n",
      "\n",
      "[=======================>--------------------------]  47% (56/56 wrk) eta:  9m\n",
      "\n",
      "[=======================>--------------------------]  48% (55/55 wrk) eta:  9m\n",
      "\n",
      "[=======================>--------------------------]  49% (52/52 wrk) eta:  9m\n",
      "\n",
      "[========================>-------------------------]  50% (51/51 wrk) eta:  8m\n",
      "\n",
      "[=========================>------------------------]  51% (50/50 wrk) eta:  8m\n",
      "\n",
      "[=========================>------------------------]  52% (49/49 wrk) eta:  8m\n",
      "\n",
      "[=========================>------------------------]  53% (48/48 wrk) eta:  8m\n",
      "\n",
      "[==========================>-----------------------]  54% (47/47 wrk) eta:  7m\n",
      "\n",
      "[===========================>----------------------]  55% (46/46 wrk) eta:  7m\n",
      "\n",
      "[===========================>----------------------]  56% (45/45 wrk) eta:  7m\n",
      "\n",
      "[===========================>----------------------]  57% (44/44 wrk) eta:  7m\n",
      "\n",
      "[============================>---------------------]  58% (44/44 wrk) eta:  6m\n",
      "\n",
      "[=============================>--------------------]  59% (42/42 wrk) eta:  6m\n",
      "\n",
      "[=============================>--------------------]  60% (42/42 wrk) eta:  6m\n",
      "\n",
      "[=============================>--------------------]  61% (40/40 wrk) eta:  6m\n",
      "\n",
      "[==============================>-------------------]  62% (39/39 wrk) eta:  6m\n",
      "\n",
      "[===============================>------------------]  63% (38/38 wrk) eta:  6m\n",
      "\n",
      "[===============================>------------------]  64% (37/37 wrk) eta:  6m\n",
      "\n",
      "[===============================>------------------]  65% (36/36 wrk) eta:  5m\n",
      "\n",
      "[================================>-----------------]  66% (35/35 wrk) eta:  5m\n",
      "\n",
      "[=================================>----------------]  67% (34/34 wrk) eta:  5m\n",
      "\n",
      "[=================================>----------------]  68% (33/33 wrk) eta:  5m\n",
      "\n",
      "[=================================>----------------]  69% (32/32 wrk) eta:  5m\n",
      "\n",
      "[==================================>---------------]  70% (31/31 wrk) eta:  5m\n",
      "\n",
      "[===================================>--------------]  71% (30/30 wrk) eta:  5m\n",
      "\n",
      "[===================================>--------------]  72% (29/29 wrk) eta:  5m\n",
      "\n",
      "[===================================>--------------]  73% (28/28 wrk) eta:  4m\n",
      "\n",
      "[====================================>-------------]  74% (27/27 wrk) eta:  4m\n",
      "\n",
      "[=====================================>------------]  75% (26/26 wrk) eta:  4m\n",
      "\n",
      "[=====================================>------------]  76% (25/25 wrk) eta:  4m\n",
      "\n",
      "[=====================================>------------]  77% (24/24 wrk) eta:  4m\n",
      "\n",
      "[======================================>-----------]  78% (23/23 wrk) eta:  3m\n",
      "\n",
      "[=======================================>----------]  79% (22/22 wrk) eta:  3m\n",
      "\n",
      "[=======================================>----------]  80% (21/21 wrk) eta:  3m\n",
      "\n",
      "[=======================================>----------]  81% (20/20 wrk) eta:  3m\n",
      "\n",
      "[========================================>---------]  82% (20/20 wrk) eta:  3m\n",
      "\n",
      "[=========================================>--------]  83% (18/18 wrk) eta:  2m\n",
      "\n",
      "[=========================================>--------]  84% (17/17 wrk) eta:  2m\n",
      "\n",
      "[=========================================>--------]  85% (16/16 wrk) eta:  2m\n",
      "\n",
      "[==========================================>-------]  86% (15/15 wrk) eta:  2m\n",
      "\n",
      "[===========================================>------]  87% (14/14 wrk) eta:  2m\n",
      "\n",
      "[===========================================>------]  88% (13/13 wrk) eta:  2m\n",
      "\n",
      "[===========================================>------]  89% (12/12 wrk) eta:  2m\n",
      "\n",
      "[============================================>-----]  90% (11/11 wrk) eta:  2m\n",
      "\n",
      "[=============================================>----]  91% (10/10 wrk) eta:  1m\n",
      "\n",
      "[===============================================>----]  92% (9/9 wrk) eta:  1m\n",
      "\n",
      "[===============================================>----]  93% (8/8 wrk) eta:  1m\n",
      "\n",
      "[================================================>---]  94% (7/7 wrk) eta:  1m\n",
      "\n",
      "[================================================>---]  95% (6/6 wrk) eta:  1m\n",
      "\n",
      "[=================================================>--]  96% (5/5 wrk) eta: 42s\n",
      "\n",
      "[=================================================>--]  97% (5/5 wrk) eta: 32s\n",
      "\n",
      "[==================================================>-]  98% (3/3 wrk) eta: 22s\n",
      "\n",
      "[==================================================>-]  99% (2/2 wrk) eta: 11s\n",
      "\n",
      "[====================================================] 100% (1/1 wrk) eta:  0s\n",
      "                                                                              \n",
      "\n",
      "Master: [1212.6s 3.4% CPU]; Worker: [avg 1.8% CPU, max 812.2 Mb]\n",
      "\n"
     ]
    }
   ],
   "source": [
    "rules <- Q(model2RE_cluster\n",
    "  , partition = preclu$partitions\n",
    "  , export=list(data = preclu$data\n",
    "                , target = as.factor(simu$target_ctg)\n",
    "                , exec = preclu$exec\n",
    "                , classPos = '1'\n",
    "                , prune = TRUE, maxDecay = 0.05, typeDecay = 2 \n",
    "                , filter = TRUE\n",
    "                , in_parallel = TRUE, n_cores = n_cores\n",
    "               )\n",
    "  , n_jobs= 80\n",
    "  , pkgs=c('data.table', 'parallel', 'caret', 'stringr', 'scales', 'dplyr', 'inTrees', 'babR')\n",
    "  , log_worker=FALSE\n",
    "  , template = tmpl\n",
    " )"
   ]
  },
  {
   "cell_type": "code",
   "execution_count": 18,
   "metadata": {
    "ExecuteTime": {
     "end_time": "2020-11-18T13:16:52.129197Z",
     "start_time": "2020-11-18T12:52:33.922Z"
    },
    "hidden": true
   },
   "outputs": [],
   "source": [
    "saveRDS(rules, '/ebio/abt3_projects/Methanogen_SCFA/Metagenomes_methanogen/RF_coocc/RF_coocc/tmp/p02_100resamp.RDS')"
   ]
  },
  {
   "cell_type": "markdown",
   "metadata": {},
   "source": [
    "# Network"
   ]
  },
  {
   "cell_type": "code",
   "execution_count": 19,
   "metadata": {
    "ExecuteTime": {
     "end_time": "2020-11-18T13:17:15.280259Z",
     "start_time": "2020-11-18T13:17:15.026Z"
    }
   },
   "outputs": [],
   "source": [
    "true_edges <- readRDS('/ebio/abt3_projects/Methanogen_SCFA/Metagenomes_methanogen/RF_coocc/RF_coocc/tmp/true_edgesK3.RDS')"
   ]
  },
  {
   "cell_type": "code",
   "execution_count": 20,
   "metadata": {
    "ExecuteTime": {
     "end_time": "2020-11-18T13:17:17.134958Z",
     "start_time": "2020-11-18T13:17:16.843Z"
    }
   },
   "outputs": [],
   "source": [
    "data_ctg <- discretizeData(data = copy(dummies), K = 3)"
   ]
  },
  {
   "cell_type": "code",
   "execution_count": 79,
   "metadata": {
    "ExecuteTime": {
     "end_time": "2020-11-18T15:16:22.862360Z",
     "start_time": "2020-11-18T15:16:21.049Z"
    }
   },
   "outputs": [
    {
     "name": "stdout",
     "output_type": "stream",
     "text": [
      "15.76144  rules per sub-sample selected.4 decisions in >= 70 subsets.\n"
     ]
    }
   ],
   "source": [
    "net <- postCluster(rules, alpha_error = 0.05, minN = 0.7)"
   ]
  },
  {
   "cell_type": "code",
   "execution_count": 81,
   "metadata": {
    "ExecuteTime": {
     "end_time": "2020-11-18T15:17:28.449152Z",
     "start_time": "2020-11-18T15:17:28.191Z"
    }
   },
   "outputs": [
    {
     "data": {
      "text/html": [
       "<style>\n",
       ".dl-inline {width: auto; margin:0; padding: 0}\n",
       ".dl-inline>dt, .dl-inline>dd {float: none; width: auto; display: inline-block}\n",
       ".dl-inline>dt::after {content: \":\\0020\"; padding-right: .5ex}\n",
       ".dl-inline>dt:not(:first-of-type) {padding-left: .5ex}\n",
       "</style><dl class=dl-inline><dt>accuracy</dt><dd>0.708</dd><dt>sensitivity</dt><dd>0.103</dd><dt>specificity</dt><dd>1</dd><dt>precision</dt><dd>1</dd><dt>FDR</dt><dd>0</dd></dl>\n"
      ],
      "text/latex": [
       "\\begin{description*}\n",
       "\\item[accuracy] 0.708\n",
       "\\item[sensitivity] 0.103\n",
       "\\item[specificity] 1\n",
       "\\item[precision] 1\n",
       "\\item[FDR] 0\n",
       "\\end{description*}\n"
      ],
      "text/markdown": [
       "accuracy\n",
       ":   0.708sensitivity\n",
       ":   0.103specificity\n",
       ":   1precision\n",
       ":   1FDR\n",
       ":   0\n",
       "\n"
      ],
      "text/plain": [
       "   accuracy sensitivity specificity   precision         FDR \n",
       "      0.708       0.103       1.000       1.000       0.000 "
      ]
     },
     "metadata": {},
     "output_type": "display_data"
    }
   ],
   "source": [
    "round(metricsNet(net$edges, true_edges, colN = colnames(data_ctg)), digits = 3)"
   ]
  },
  {
   "cell_type": "code",
   "execution_count": 84,
   "metadata": {
    "ExecuteTime": {
     "end_time": "2020-11-18T15:18:03.919899Z",
     "start_time": "2020-11-18T15:18:03.691Z"
    }
   },
   "outputs": [
    {
     "data": {
      "text/html": [
       "<table>\n",
       "<caption>A data.table: 6 × 10</caption>\n",
       "<thead>\n",
       "\t<tr><th scope=col>condition</th><th scope=col>inN</th><th scope=col>len</th><th scope=col>support</th><th scope=col>err</th><th scope=col>pred</th><th scope=col>imp</th><th scope=col>imp_sd</th><th scope=col>n</th><th scope=col>n_sd</th></tr>\n",
       "\t<tr><th scope=col>&lt;chr&gt;</th><th scope=col>&lt;int&gt;</th><th scope=col>&lt;dbl&gt;</th><th scope=col>&lt;dbl&gt;</th><th scope=col>&lt;dbl&gt;</th><th scope=col>&lt;dbl&gt;</th><th scope=col>&lt;dbl&gt;</th><th scope=col>&lt;dbl&gt;</th><th scope=col>&lt;dbl&gt;</th><th scope=col>&lt;dbl&gt;</th></tr>\n",
       "</thead>\n",
       "<tbody>\n",
       "\t<tr><td><span style=white-space:pre-wrap>X[,38]&gt;0.5 &amp; X[,8]&gt;0.5              </span></td><td>100</td><td>2</td><td>0.07960416</td><td>0.4160004</td><td>0.2304891</td><td>0.01894985</td><td>0.002812084</td><td>11.416539</td><td>2.6309050</td></tr>\n",
       "\t<tr><td><span style=white-space:pre-wrap>X[,38]&gt;0.5 &amp; X[,7]&gt;0.5              </span></td><td>100</td><td>2</td><td>0.08183127</td><td>0.3723988</td><td>0.8225624</td><td>0.01458118</td><td>0.002664844</td><td> 1.906358</td><td>0.4835150</td></tr>\n",
       "\t<tr><td><span style=white-space:pre-wrap>X[,40]&gt;0.5 &amp; X[,17]&gt;0.5             </span></td><td> 97</td><td>2</td><td>0.08560287</td><td>0.4598395</td><td>0.3072252</td><td>0.01205384</td><td>0.001828302</td><td> 2.193609</td><td>2.2721880</td></tr>\n",
       "\t<tr><td><span style=white-space:pre-wrap>X[,40]&gt;0.5 &amp; X[,19]&gt;0.5             </span></td><td> 97</td><td>2</td><td>0.07839751</td><td>0.4581738</td><td>0.3036942</td><td>0.01135445</td><td>0.001902252</td><td> 1.981125</td><td>1.3797378</td></tr>\n",
       "\t<tr><td><span style=white-space:pre-wrap>X[,38]&gt;0.5 &amp; X[,9]&gt;0.5              </span></td><td> 95</td><td>2</td><td>0.08846146</td><td>0.4146022</td><td>0.7723221</td><td>0.00905985</td><td>0.001839352</td><td> 1.818860</td><td>0.6089596</td></tr>\n",
       "\t<tr><td>X[,39]&gt;0.5 &amp; X[,11]&gt;0.5 &amp; X[,14]&gt;0.5</td><td> 90</td><td>3</td><td>0.03226265</td><td>0.4012832</td><td>0.2112708</td><td>0.00867836</td><td>0.001538140</td><td> 3.333025</td><td>1.4547284</td></tr>\n",
       "</tbody>\n",
       "</table>\n"
      ],
      "text/latex": [
       "A data.table: 6 × 10\n",
       "\\begin{tabular}{llllllllll}\n",
       " condition & inN & len & support & err & pred & imp & imp\\_sd & n & n\\_sd\\\\\n",
       " <chr> & <int> & <dbl> & <dbl> & <dbl> & <dbl> & <dbl> & <dbl> & <dbl> & <dbl>\\\\\n",
       "\\hline\n",
       "\t X{[},38{]}>0.5 \\& X{[},8{]}>0.5               & 100 & 2 & 0.07960416 & 0.4160004 & 0.2304891 & 0.01894985 & 0.002812084 & 11.416539 & 2.6309050\\\\\n",
       "\t X{[},38{]}>0.5 \\& X{[},7{]}>0.5               & 100 & 2 & 0.08183127 & 0.3723988 & 0.8225624 & 0.01458118 & 0.002664844 &  1.906358 & 0.4835150\\\\\n",
       "\t X{[},40{]}>0.5 \\& X{[},17{]}>0.5              &  97 & 2 & 0.08560287 & 0.4598395 & 0.3072252 & 0.01205384 & 0.001828302 &  2.193609 & 2.2721880\\\\\n",
       "\t X{[},40{]}>0.5 \\& X{[},19{]}>0.5              &  97 & 2 & 0.07839751 & 0.4581738 & 0.3036942 & 0.01135445 & 0.001902252 &  1.981125 & 1.3797378\\\\\n",
       "\t X{[},38{]}>0.5 \\& X{[},9{]}>0.5               &  95 & 2 & 0.08846146 & 0.4146022 & 0.7723221 & 0.00905985 & 0.001839352 &  1.818860 & 0.6089596\\\\\n",
       "\t X{[},39{]}>0.5 \\& X{[},11{]}>0.5 \\& X{[},14{]}>0.5 &  90 & 3 & 0.03226265 & 0.4012832 & 0.2112708 & 0.00867836 & 0.001538140 &  3.333025 & 1.4547284\\\\\n",
       "\\end{tabular}\n"
      ],
      "text/markdown": [
       "\n",
       "A data.table: 6 × 10\n",
       "\n",
       "| condition &lt;chr&gt; | inN &lt;int&gt; | len &lt;dbl&gt; | support &lt;dbl&gt; | err &lt;dbl&gt; | pred &lt;dbl&gt; | imp &lt;dbl&gt; | imp_sd &lt;dbl&gt; | n &lt;dbl&gt; | n_sd &lt;dbl&gt; |\n",
       "|---|---|---|---|---|---|---|---|---|---|\n",
       "| X[,38]&gt;0.5 &amp; X[,8]&gt;0.5               | 100 | 2 | 0.07960416 | 0.4160004 | 0.2304891 | 0.01894985 | 0.002812084 | 11.416539 | 2.6309050 |\n",
       "| X[,38]&gt;0.5 &amp; X[,7]&gt;0.5               | 100 | 2 | 0.08183127 | 0.3723988 | 0.8225624 | 0.01458118 | 0.002664844 |  1.906358 | 0.4835150 |\n",
       "| X[,40]&gt;0.5 &amp; X[,17]&gt;0.5              |  97 | 2 | 0.08560287 | 0.4598395 | 0.3072252 | 0.01205384 | 0.001828302 |  2.193609 | 2.2721880 |\n",
       "| X[,40]&gt;0.5 &amp; X[,19]&gt;0.5              |  97 | 2 | 0.07839751 | 0.4581738 | 0.3036942 | 0.01135445 | 0.001902252 |  1.981125 | 1.3797378 |\n",
       "| X[,38]&gt;0.5 &amp; X[,9]&gt;0.5               |  95 | 2 | 0.08846146 | 0.4146022 | 0.7723221 | 0.00905985 | 0.001839352 |  1.818860 | 0.6089596 |\n",
       "| X[,39]&gt;0.5 &amp; X[,11]&gt;0.5 &amp; X[,14]&gt;0.5 |  90 | 3 | 0.03226265 | 0.4012832 | 0.2112708 | 0.00867836 | 0.001538140 |  3.333025 | 1.4547284 |\n",
       "\n"
      ],
      "text/plain": [
       "  condition                            inN len support    err       pred     \n",
       "1 X[,38]>0.5 & X[,8]>0.5               100 2   0.07960416 0.4160004 0.2304891\n",
       "2 X[,38]>0.5 & X[,7]>0.5               100 2   0.08183127 0.3723988 0.8225624\n",
       "3 X[,40]>0.5 & X[,17]>0.5               97 2   0.08560287 0.4598395 0.3072252\n",
       "4 X[,40]>0.5 & X[,19]>0.5               97 2   0.07839751 0.4581738 0.3036942\n",
       "5 X[,38]>0.5 & X[,9]>0.5                95 2   0.08846146 0.4146022 0.7723221\n",
       "6 X[,39]>0.5 & X[,11]>0.5 & X[,14]>0.5  90 3   0.03226265 0.4012832 0.2112708\n",
       "  imp        imp_sd      n         n_sd     \n",
       "1 0.01894985 0.002812084 11.416539 2.6309050\n",
       "2 0.01458118 0.002664844  1.906358 0.4835150\n",
       "3 0.01205384 0.001828302  2.193609 2.2721880\n",
       "4 0.01135445 0.001902252  1.981125 1.3797378\n",
       "5 0.00905985 0.001839352  1.818860 0.6089596\n",
       "6 0.00867836 0.001538140  3.333025 1.4547284"
      ]
     },
     "metadata": {},
     "output_type": "display_data"
    }
   ],
   "source": [
    "net01$rules_summary %>% head"
   ]
  },
  {
   "cell_type": "code",
   "execution_count": 82,
   "metadata": {
    "ExecuteTime": {
     "end_time": "2020-11-18T15:17:41.209587Z",
     "start_time": "2020-11-18T15:17:36.856Z"
    }
   },
   "outputs": [
    {
     "name": "stdout",
     "output_type": "stream",
     "text": [
      "49.84205  rules per sub-sample selected.10 decisions in >= 70 subsets.\n"
     ]
    }
   ],
   "source": [
    "net01 <- postCluster(rules, alpha_error = 0.5, minN = 0.7)"
   ]
  },
  {
   "cell_type": "code",
   "execution_count": 83,
   "metadata": {
    "ExecuteTime": {
     "end_time": "2020-11-18T15:17:59.237503Z",
     "start_time": "2020-11-18T15:17:59.022Z"
    }
   },
   "outputs": [
    {
     "data": {
      "text/html": [
       "<style>\n",
       ".dl-inline {width: auto; margin:0; padding: 0}\n",
       ".dl-inline>dt, .dl-inline>dd {float: none; width: auto; display: inline-block}\n",
       ".dl-inline>dt::after {content: \":\\0020\"; padding-right: .5ex}\n",
       ".dl-inline>dt:not(:first-of-type) {padding-left: .5ex}\n",
       "</style><dl class=dl-inline><dt>accuracy</dt><dd>0.783</dd><dt>sensitivity</dt><dd>0.333</dd><dt>specificity</dt><dd>1</dd><dt>precision</dt><dd>1</dd><dt>FDR</dt><dd>0</dd></dl>\n"
      ],
      "text/latex": [
       "\\begin{description*}\n",
       "\\item[accuracy] 0.783\n",
       "\\item[sensitivity] 0.333\n",
       "\\item[specificity] 1\n",
       "\\item[precision] 1\n",
       "\\item[FDR] 0\n",
       "\\end{description*}\n"
      ],
      "text/markdown": [
       "accuracy\n",
       ":   0.783sensitivity\n",
       ":   0.333specificity\n",
       ":   1precision\n",
       ":   1FDR\n",
       ":   0\n",
       "\n"
      ],
      "text/plain": [
       "   accuracy sensitivity specificity   precision         FDR \n",
       "      0.783       0.333       1.000       1.000       0.000 "
      ]
     },
     "metadata": {},
     "output_type": "display_data"
    }
   ],
   "source": [
    "round(metricsNet(net01$edges, true_edges, colN = colnames(data_ctg)), digits = 3)"
   ]
  },
  {
   "cell_type": "markdown",
   "metadata": {},
   "source": [
    "# plot"
   ]
  },
  {
   "cell_type": "code",
   "execution_count": 40,
   "metadata": {
    "ExecuteTime": {
     "end_time": "2020-11-18T13:26:01.275480Z",
     "start_time": "2020-11-18T13:26:00.464Z"
    }
   },
   "outputs": [
    {
     "data": {
      "image/png": "[encoded data removed]",
      "text/plain": [
       "plot without title"
      ]
     },
     "metadata": {
      "image/png": {
       "height": 300,
       "width": 360
      }
     },
     "output_type": "display_data"
    }
   ],
   "source": [
    "options(repr.plot.width=6, repr.plot.height=5)\n",
    "plotNetwork(edges = net01$edges, nodes = net01$nodes\n",
    "            , text_size = 4, hide_nodes = -1, layout = 'fr') +\n",
    "labs(title = 'alpha = 0.5')+\n",
    "scale_edge_alpha(range = c(1, 1))"
   ]
  },
  {
   "cell_type": "code",
   "execution_count": 39,
   "metadata": {
    "ExecuteTime": {
     "end_time": "2020-11-18T13:25:55.986942Z",
     "start_time": "2020-11-18T13:25:55.262Z"
    }
   },
   "outputs": [
    {
     "data": {
      "image/png": "[encoded data removed]",
      "text/plain": [
       "plot without title"
      ]
     },
     "metadata": {
      "image/png": {
       "height": 300,
       "width": 360
      }
     },
     "output_type": "display_data"
    }
   ],
   "source": [
    "options(repr.plot.width=6, repr.plot.height=5)\n",
    "plotNetwork(edges = net$edges, nodes = net$nodes\n",
    "            , text_size = 4, hide_nodes = -1, layout = 'fr') +\n",
    "labs(title = 'alpha = 0.05')+\n",
    "scale_edge_alpha(range = c(1, 1))"
   ]
  },
  {
   "cell_type": "code",
   "execution_count": 41,
   "metadata": {
    "ExecuteTime": {
     "end_time": "2020-11-18T13:27:28.554591Z",
     "start_time": "2020-11-18T13:27:28.490Z"
    }
   },
   "outputs": [],
   "source": [
    "tmp <- as.data.frame(net$nodes)\n",
    "tmp$var <- factor(tmp$var, levels = tmp$var[order(tmp$participation)])"
   ]
  },
  {
   "cell_type": "code",
   "execution_count": 42,
   "metadata": {
    "ExecuteTime": {
     "end_time": "2020-11-18T13:27:29.581249Z",
     "start_time": "2020-11-18T13:27:28.920Z"
    }
   },
   "outputs": [
    {
     "data": {
      "image/png": "[encoded data removed]",
      "text/plain": [
       "plot without title"
      ]
     },
     "metadata": {
      "image/png": {
       "height": 222,
       "width": 180
      }
     },
     "output_type": "display_data"
    }
   ],
   "source": [
    "options(repr.plot.width=3, repr.plot.height=3.7)\n",
    "ggplot(tmp, aes(x = var, y = participation)) + \n",
    "geom_col(fill = 'lightgray', width = .1) +\n",
    "geom_point(size = 2, aes(color = influence)) + \n",
    "theme_classic() + \n",
    "coord_flip() +\n",
    "theme(axis.text.x = element_text(angle = 0, hjust = 1, vjust = 1)\n",
    "     #, axis.text.y = element_text(size = rel(.8))\n",
    "     , legend.position = 'bottom') +\n",
    "scale_colour_gradient2(low = \"firebrick2\", mid = \"grey90\", high =  \"dodgerblue3\", midpoint = 0) + \n",
    "labs(x = 'Feature')"
   ]
  },
  {
   "cell_type": "markdown",
   "metadata": {},
   "source": [
    "# Misc"
   ]
  },
  {
   "cell_type": "code",
   "execution_count": 44,
   "metadata": {
    "ExecuteTime": {
     "end_time": "2020-11-18T13:32:48.592240Z",
     "start_time": "2020-11-18T13:32:48.520Z"
    }
   },
   "outputs": [],
   "source": [
    "metricsNet <- function(edges, true_edges, colN){\n",
    "    pred <- unique(select(edges, c('x', 'y')))\n",
    "    pred <- asplit(as.matrix(pred), MARGIN = 1)\n",
    "    \n",
    "    res <- numeric()\n",
    "    # truth: list of vectors of length 2 with the true pairs of associated variables\n",
    "    # pred: same but as predicted by the method\n",
    "    all <- asplit(combn(colN, m = 2), MARGIN = 2)\n",
    "    true_edges <- lapply(true_edges, sort)\n",
    "    pred <- lapply(pred, sort)    \n",
    "    \n",
    "    truth <- sapply(true_edges, function(x){paste(x, collapse = ' - ')})\n",
    "    pred <- sapply(pred, function(x){paste(x, collapse = ' - ')})\n",
    "    \n",
    "    # those that should not be but are = in pred but not truth\n",
    "    fp <- length(which(sapply(pred, function(x, truth){!(x %in% truth)}, truth = truth)))\n",
    "    # those that should be and are\n",
    "    tp <- length(which(sapply(pred, function(x, truth){x %in% truth}, truth = truth)))\n",
    "    # those that should be but are not = in truth but not in pred\n",
    "    fn <- length(which(sapply(truth, function(x, pred){!(x %in% pred)}, pred = pred)))\n",
    "    #\n",
    "    tn <- length(all) - (fp+tp+fn)\n",
    "    \n",
    "    #accuracy:\n",
    "    acc <- (tp+tn)/length(all)\n",
    "    sens <- tp/(tp+fn)\n",
    "    spec <- tn/(tn+fp)\n",
    "    prec <- tp/(tp+fp)\n",
    "    fdr <- fp/(fp+tp)\n",
    "    \n",
    "    res <- c('accuracy' = acc, 'sensitivity' = sens, 'specificity' = spec, 'precision' = prec, 'FDR' = fdr)\n",
    "    return(res)\n",
    "}"
   ]
  },
  {
   "cell_type": "code",
   "execution_count": 56,
   "metadata": {
    "ExecuteTime": {
     "end_time": "2020-11-18T13:41:48.603537Z",
     "start_time": "2020-11-18T13:41:48.462Z"
    }
   },
   "outputs": [],
   "source": [
    "fonfon <- function(alpha_error, rules, minN, true_edges, colN){\n",
    "    tmp <- postCluster(rules, alpha_error = alpha_error, minN = minN)\n",
    "    n_dec <- nrow(tmp$rules_summary[inN >= 100*minN,])\n",
    "    tmp <- metricsNet(tmp$edges, true_edges, colN = colN)\n",
    "    return(c('alpha' = alpha_error, 'pi_thr' = minN, 'n_decisions' = n_dec, tmp))\n",
    "}"
   ]
  },
  {
   "cell_type": "code",
   "execution_count": 70,
   "metadata": {
    "ExecuteTime": {
     "end_time": "2020-11-18T14:37:02.544580Z",
     "start_time": "2020-11-18T14:37:02.176Z"
    }
   },
   "outputs": [],
   "source": [
    "al <- seq(0.05, 1, by = 0.05)"
   ]
  },
  {
   "cell_type": "code",
   "execution_count": 71,
   "metadata": {
    "ExecuteTime": {
     "end_time": "2020-11-18T14:37:41.256080Z",
     "start_time": "2020-11-18T14:37:02.457Z"
    }
   },
   "outputs": [
    {
     "name": "stdout",
     "output_type": "stream",
     "text": [
      "4 decisions in >= 70 subsets.\n",
      "5 decisions in >= 70 subsets.\n",
      "6 decisions in >= 70 subsets.\n",
      "7 decisions in >= 70 subsets.\n",
      "9 decisions in >= 70 subsets.\n",
      "9 decisions in >= 70 subsets.\n",
      "10 decisions in >= 70 subsets.\n",
      "10 decisions in >= 70 subsets.\n",
      "10 decisions in >= 70 subsets.\n",
      "10 decisions in >= 70 subsets.\n",
      "11 decisions in >= 70 subsets.\n",
      "11 decisions in >= 70 subsets.\n",
      "11 decisions in >= 70 subsets.\n",
      "11 decisions in >= 70 subsets.\n",
      "11 decisions in >= 70 subsets.\n",
      "11 decisions in >= 70 subsets.\n",
      "11 decisions in >= 70 subsets.\n",
      "11 decisions in >= 70 subsets.\n",
      "12 decisions in >= 70 subsets.\n",
      "12 decisions in >= 70 subsets.\n"
     ]
    }
   ],
   "source": [
    "check <- sapply(al, fonfon, rules=rules, minN = 0.7, true_edges= true_edges, colN = colnames(data_ctg))"
   ]
  },
  {
   "cell_type": "code",
   "execution_count": 72,
   "metadata": {
    "ExecuteTime": {
     "end_time": "2020-11-18T14:37:41.271606Z",
     "start_time": "2020-11-18T14:37:04.181Z"
    }
   },
   "outputs": [],
   "source": [
    "check <- as.data.frame(t(check))"
   ]
  },
  {
   "cell_type": "code",
   "execution_count": 73,
   "metadata": {
    "ExecuteTime": {
     "end_time": "2020-11-18T14:37:41.306958Z",
     "start_time": "2020-11-18T14:37:04.442Z"
    },
    "collapsed": true
   },
   "outputs": [
    {
     "data": {
      "text/html": [
       "<table>\n",
       "<caption>A data.frame: 20 × 8</caption>\n",
       "<thead>\n",
       "\t<tr><th scope=col>alpha</th><th scope=col>pi_thr</th><th scope=col>n_decisions</th><th scope=col>accuracy</th><th scope=col>sensitivity</th><th scope=col>specificity</th><th scope=col>precision</th><th scope=col>FDR</th></tr>\n",
       "\t<tr><th scope=col>&lt;dbl&gt;</th><th scope=col>&lt;dbl&gt;</th><th scope=col>&lt;dbl&gt;</th><th scope=col>&lt;dbl&gt;</th><th scope=col>&lt;dbl&gt;</th><th scope=col>&lt;dbl&gt;</th><th scope=col>&lt;dbl&gt;</th><th scope=col>&lt;dbl&gt;</th></tr>\n",
       "</thead>\n",
       "<tbody>\n",
       "\t<tr><td>0.05</td><td>0.7</td><td> 4</td><td>0.7083333</td><td>0.1025641</td><td>1.0000000</td><td>1.0000000</td><td>0.0000000</td></tr>\n",
       "\t<tr><td>0.10</td><td>0.7</td><td> 5</td><td>0.7166667</td><td>0.1282051</td><td>1.0000000</td><td>1.0000000</td><td>0.0000000</td></tr>\n",
       "\t<tr><td>0.15</td><td>0.7</td><td> 6</td><td>0.7416667</td><td>0.2051282</td><td>1.0000000</td><td>1.0000000</td><td>0.0000000</td></tr>\n",
       "\t<tr><td>0.20</td><td>0.7</td><td> 7</td><td>0.7500000</td><td>0.2307692</td><td>1.0000000</td><td>1.0000000</td><td>0.0000000</td></tr>\n",
       "\t<tr><td>0.25</td><td>0.7</td><td> 9</td><td>0.7666667</td><td>0.2820513</td><td>1.0000000</td><td>1.0000000</td><td>0.0000000</td></tr>\n",
       "\t<tr><td>0.30</td><td>0.7</td><td> 9</td><td>0.7666667</td><td>0.2820513</td><td>1.0000000</td><td>1.0000000</td><td>0.0000000</td></tr>\n",
       "\t<tr><td>0.35</td><td>0.7</td><td>10</td><td>0.7833333</td><td>0.3333333</td><td>1.0000000</td><td>1.0000000</td><td>0.0000000</td></tr>\n",
       "\t<tr><td>0.40</td><td>0.7</td><td>10</td><td>0.7833333</td><td>0.3333333</td><td>1.0000000</td><td>1.0000000</td><td>0.0000000</td></tr>\n",
       "\t<tr><td>0.45</td><td>0.7</td><td>10</td><td>0.7833333</td><td>0.3333333</td><td>1.0000000</td><td>1.0000000</td><td>0.0000000</td></tr>\n",
       "\t<tr><td>0.50</td><td>0.7</td><td>10</td><td>0.7833333</td><td>0.3333333</td><td>1.0000000</td><td>1.0000000</td><td>0.0000000</td></tr>\n",
       "\t<tr><td>0.55</td><td>0.7</td><td>11</td><td>0.8083333</td><td>0.4102564</td><td>1.0000000</td><td>1.0000000</td><td>0.0000000</td></tr>\n",
       "\t<tr><td>0.60</td><td>0.7</td><td>11</td><td>0.8083333</td><td>0.4102564</td><td>1.0000000</td><td>1.0000000</td><td>0.0000000</td></tr>\n",
       "\t<tr><td>0.65</td><td>0.7</td><td>11</td><td>0.8083333</td><td>0.4102564</td><td>1.0000000</td><td>1.0000000</td><td>0.0000000</td></tr>\n",
       "\t<tr><td>0.70</td><td>0.7</td><td>11</td><td>0.8083333</td><td>0.4102564</td><td>1.0000000</td><td>1.0000000</td><td>0.0000000</td></tr>\n",
       "\t<tr><td>0.75</td><td>0.7</td><td>11</td><td>0.8083333</td><td>0.4102564</td><td>1.0000000</td><td>1.0000000</td><td>0.0000000</td></tr>\n",
       "\t<tr><td>0.80</td><td>0.7</td><td>11</td><td>0.8083333</td><td>0.4102564</td><td>1.0000000</td><td>1.0000000</td><td>0.0000000</td></tr>\n",
       "\t<tr><td>0.85</td><td>0.7</td><td>11</td><td>0.8083333</td><td>0.4102564</td><td>1.0000000</td><td>1.0000000</td><td>0.0000000</td></tr>\n",
       "\t<tr><td>0.90</td><td>0.7</td><td>11</td><td>0.8083333</td><td>0.4102564</td><td>1.0000000</td><td>1.0000000</td><td>0.0000000</td></tr>\n",
       "\t<tr><td>0.95</td><td>0.7</td><td>12</td><td>0.7916667</td><td>0.4102564</td><td>0.9753086</td><td>0.8888889</td><td>0.1111111</td></tr>\n",
       "\t<tr><td>1.00</td><td>0.7</td><td>12</td><td>0.7916667</td><td>0.4102564</td><td>0.9753086</td><td>0.8888889</td><td>0.1111111</td></tr>\n",
       "</tbody>\n",
       "</table>\n"
      ],
      "text/latex": [
       "A data.frame: 20 × 8\n",
       "\\begin{tabular}{llllllll}\n",
       " alpha & pi\\_thr & n\\_decisions & accuracy & sensitivity & specificity & precision & FDR\\\\\n",
       " <dbl> & <dbl> & <dbl> & <dbl> & <dbl> & <dbl> & <dbl> & <dbl>\\\\\n",
       "\\hline\n",
       "\t 0.05 & 0.7 &  4 & 0.7083333 & 0.1025641 & 1.0000000 & 1.0000000 & 0.0000000\\\\\n",
       "\t 0.10 & 0.7 &  5 & 0.7166667 & 0.1282051 & 1.0000000 & 1.0000000 & 0.0000000\\\\\n",
       "\t 0.15 & 0.7 &  6 & 0.7416667 & 0.2051282 & 1.0000000 & 1.0000000 & 0.0000000\\\\\n",
       "\t 0.20 & 0.7 &  7 & 0.7500000 & 0.2307692 & 1.0000000 & 1.0000000 & 0.0000000\\\\\n",
       "\t 0.25 & 0.7 &  9 & 0.7666667 & 0.2820513 & 1.0000000 & 1.0000000 & 0.0000000\\\\\n",
       "\t 0.30 & 0.7 &  9 & 0.7666667 & 0.2820513 & 1.0000000 & 1.0000000 & 0.0000000\\\\\n",
       "\t 0.35 & 0.7 & 10 & 0.7833333 & 0.3333333 & 1.0000000 & 1.0000000 & 0.0000000\\\\\n",
       "\t 0.40 & 0.7 & 10 & 0.7833333 & 0.3333333 & 1.0000000 & 1.0000000 & 0.0000000\\\\\n",
       "\t 0.45 & 0.7 & 10 & 0.7833333 & 0.3333333 & 1.0000000 & 1.0000000 & 0.0000000\\\\\n",
       "\t 0.50 & 0.7 & 10 & 0.7833333 & 0.3333333 & 1.0000000 & 1.0000000 & 0.0000000\\\\\n",
       "\t 0.55 & 0.7 & 11 & 0.8083333 & 0.4102564 & 1.0000000 & 1.0000000 & 0.0000000\\\\\n",
       "\t 0.60 & 0.7 & 11 & 0.8083333 & 0.4102564 & 1.0000000 & 1.0000000 & 0.0000000\\\\\n",
       "\t 0.65 & 0.7 & 11 & 0.8083333 & 0.4102564 & 1.0000000 & 1.0000000 & 0.0000000\\\\\n",
       "\t 0.70 & 0.7 & 11 & 0.8083333 & 0.4102564 & 1.0000000 & 1.0000000 & 0.0000000\\\\\n",
       "\t 0.75 & 0.7 & 11 & 0.8083333 & 0.4102564 & 1.0000000 & 1.0000000 & 0.0000000\\\\\n",
       "\t 0.80 & 0.7 & 11 & 0.8083333 & 0.4102564 & 1.0000000 & 1.0000000 & 0.0000000\\\\\n",
       "\t 0.85 & 0.7 & 11 & 0.8083333 & 0.4102564 & 1.0000000 & 1.0000000 & 0.0000000\\\\\n",
       "\t 0.90 & 0.7 & 11 & 0.8083333 & 0.4102564 & 1.0000000 & 1.0000000 & 0.0000000\\\\\n",
       "\t 0.95 & 0.7 & 12 & 0.7916667 & 0.4102564 & 0.9753086 & 0.8888889 & 0.1111111\\\\\n",
       "\t 1.00 & 0.7 & 12 & 0.7916667 & 0.4102564 & 0.9753086 & 0.8888889 & 0.1111111\\\\\n",
       "\\end{tabular}\n"
      ],
      "text/markdown": [
       "\n",
       "A data.frame: 20 × 8\n",
       "\n",
       "| alpha &lt;dbl&gt; | pi_thr &lt;dbl&gt; | n_decisions &lt;dbl&gt; | accuracy &lt;dbl&gt; | sensitivity &lt;dbl&gt; | specificity &lt;dbl&gt; | precision &lt;dbl&gt; | FDR &lt;dbl&gt; |\n",
       "|---|---|---|---|---|---|---|---|\n",
       "| 0.05 | 0.7 |  4 | 0.7083333 | 0.1025641 | 1.0000000 | 1.0000000 | 0.0000000 |\n",
       "| 0.10 | 0.7 |  5 | 0.7166667 | 0.1282051 | 1.0000000 | 1.0000000 | 0.0000000 |\n",
       "| 0.15 | 0.7 |  6 | 0.7416667 | 0.2051282 | 1.0000000 | 1.0000000 | 0.0000000 |\n",
       "| 0.20 | 0.7 |  7 | 0.7500000 | 0.2307692 | 1.0000000 | 1.0000000 | 0.0000000 |\n",
       "| 0.25 | 0.7 |  9 | 0.7666667 | 0.2820513 | 1.0000000 | 1.0000000 | 0.0000000 |\n",
       "| 0.30 | 0.7 |  9 | 0.7666667 | 0.2820513 | 1.0000000 | 1.0000000 | 0.0000000 |\n",
       "| 0.35 | 0.7 | 10 | 0.7833333 | 0.3333333 | 1.0000000 | 1.0000000 | 0.0000000 |\n",
       "| 0.40 | 0.7 | 10 | 0.7833333 | 0.3333333 | 1.0000000 | 1.0000000 | 0.0000000 |\n",
       "| 0.45 | 0.7 | 10 | 0.7833333 | 0.3333333 | 1.0000000 | 1.0000000 | 0.0000000 |\n",
       "| 0.50 | 0.7 | 10 | 0.7833333 | 0.3333333 | 1.0000000 | 1.0000000 | 0.0000000 |\n",
       "| 0.55 | 0.7 | 11 | 0.8083333 | 0.4102564 | 1.0000000 | 1.0000000 | 0.0000000 |\n",
       "| 0.60 | 0.7 | 11 | 0.8083333 | 0.4102564 | 1.0000000 | 1.0000000 | 0.0000000 |\n",
       "| 0.65 | 0.7 | 11 | 0.8083333 | 0.4102564 | 1.0000000 | 1.0000000 | 0.0000000 |\n",
       "| 0.70 | 0.7 | 11 | 0.8083333 | 0.4102564 | 1.0000000 | 1.0000000 | 0.0000000 |\n",
       "| 0.75 | 0.7 | 11 | 0.8083333 | 0.4102564 | 1.0000000 | 1.0000000 | 0.0000000 |\n",
       "| 0.80 | 0.7 | 11 | 0.8083333 | 0.4102564 | 1.0000000 | 1.0000000 | 0.0000000 |\n",
       "| 0.85 | 0.7 | 11 | 0.8083333 | 0.4102564 | 1.0000000 | 1.0000000 | 0.0000000 |\n",
       "| 0.90 | 0.7 | 11 | 0.8083333 | 0.4102564 | 1.0000000 | 1.0000000 | 0.0000000 |\n",
       "| 0.95 | 0.7 | 12 | 0.7916667 | 0.4102564 | 0.9753086 | 0.8888889 | 0.1111111 |\n",
       "| 1.00 | 0.7 | 12 | 0.7916667 | 0.4102564 | 0.9753086 | 0.8888889 | 0.1111111 |\n",
       "\n"
      ],
      "text/plain": [
       "   alpha pi_thr n_decisions accuracy  sensitivity specificity precision\n",
       "1  0.05  0.7     4          0.7083333 0.1025641   1.0000000   1.0000000\n",
       "2  0.10  0.7     5          0.7166667 0.1282051   1.0000000   1.0000000\n",
       "3  0.15  0.7     6          0.7416667 0.2051282   1.0000000   1.0000000\n",
       "4  0.20  0.7     7          0.7500000 0.2307692   1.0000000   1.0000000\n",
       "5  0.25  0.7     9          0.7666667 0.2820513   1.0000000   1.0000000\n",
       "6  0.30  0.7     9          0.7666667 0.2820513   1.0000000   1.0000000\n",
       "7  0.35  0.7    10          0.7833333 0.3333333   1.0000000   1.0000000\n",
       "8  0.40  0.7    10          0.7833333 0.3333333   1.0000000   1.0000000\n",
       "9  0.45  0.7    10          0.7833333 0.3333333   1.0000000   1.0000000\n",
       "10 0.50  0.7    10          0.7833333 0.3333333   1.0000000   1.0000000\n",
       "11 0.55  0.7    11          0.8083333 0.4102564   1.0000000   1.0000000\n",
       "12 0.60  0.7    11          0.8083333 0.4102564   1.0000000   1.0000000\n",
       "13 0.65  0.7    11          0.8083333 0.4102564   1.0000000   1.0000000\n",
       "14 0.70  0.7    11          0.8083333 0.4102564   1.0000000   1.0000000\n",
       "15 0.75  0.7    11          0.8083333 0.4102564   1.0000000   1.0000000\n",
       "16 0.80  0.7    11          0.8083333 0.4102564   1.0000000   1.0000000\n",
       "17 0.85  0.7    11          0.8083333 0.4102564   1.0000000   1.0000000\n",
       "18 0.90  0.7    11          0.8083333 0.4102564   1.0000000   1.0000000\n",
       "19 0.95  0.7    12          0.7916667 0.4102564   0.9753086   0.8888889\n",
       "20 1.00  0.7    12          0.7916667 0.4102564   0.9753086   0.8888889\n",
       "   FDR      \n",
       "1  0.0000000\n",
       "2  0.0000000\n",
       "3  0.0000000\n",
       "4  0.0000000\n",
       "5  0.0000000\n",
       "6  0.0000000\n",
       "7  0.0000000\n",
       "8  0.0000000\n",
       "9  0.0000000\n",
       "10 0.0000000\n",
       "11 0.0000000\n",
       "12 0.0000000\n",
       "13 0.0000000\n",
       "14 0.0000000\n",
       "15 0.0000000\n",
       "16 0.0000000\n",
       "17 0.0000000\n",
       "18 0.0000000\n",
       "19 0.1111111\n",
       "20 0.1111111"
      ]
     },
     "metadata": {},
     "output_type": "display_data"
    }
   ],
   "source": [
    "check"
   ]
  },
  {
   "cell_type": "code",
   "execution_count": 75,
   "metadata": {
    "ExecuteTime": {
     "end_time": "2020-11-18T14:38:24.871523Z",
     "start_time": "2020-11-18T14:38:23.671Z"
    }
   },
   "outputs": [
    {
     "data": {
      "image/png": "[encoded data removed]",
      "text/plain": [
       "plot without title"
      ]
     },
     "metadata": {
      "image/png": {
       "height": 198,
       "width": 270
      }
     },
     "output_type": "display_data"
    }
   ],
   "source": [
    "options(repr.plot.width=4.5, repr.plot.height=3.3)\n",
    "ggplot(data = check, aes(x = alpha, y = accuracy, color = n_decisions, shape = as.character(FDR)))+\n",
    "geom_point(size = 3)+\n",
    "theme_light()+\n",
    "scale_shape_manual(values = c(16,1), labels=c('0', '0.1'), name = 'FDR')"
   ]
  },
  {
   "cell_type": "code",
   "execution_count": null,
   "metadata": {},
   "outputs": [],
   "source": []
  }
 ],
 "metadata": {
  "kernelspec": {
   "display_name": "R [conda env:Metagenomes_methanogen-r-ml]",
   "language": "R",
   "name": "conda-env-Metagenomes_methanogen-r-ml-r"
  },
  "language_info": {
   "codemirror_mode": "r",
   "file_extension": ".r",
   "mimetype": "text/x-r-source",
   "name": "R",
   "pygments_lexer": "r",
   "version": "3.6.3"
  },
  "notify_time": "30",
  "toc": {
   "base_numbering": 1,
   "nav_menu": {},
   "number_sections": true,
   "sideBar": true,
   "skip_h1_title": false,
   "title_cell": "Table of Contents",
   "title_sidebar": "Contents",
   "toc_cell": false,
   "toc_position": {
    "height": "calc(100% - 180px)",
    "left": "10px",
    "top": "150px",
    "width": "165px"
   },
   "toc_section_display": true,
   "toc_window_display": true
  }
 },
 "nbformat": 4,
 "nbformat_minor": 4
}
