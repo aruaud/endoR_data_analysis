{
 "cells": [
  {
   "cell_type": "markdown",
   "metadata": {},
   "source": [
    "# Preambule"
   ]
  },
  {
   "cell_type": "markdown",
   "metadata": {
    "heading_collapsed": true
   },
   "source": [
    "## libraries"
   ]
  },
  {
   "cell_type": "code",
   "execution_count": 1,
   "metadata": {
    "ExecuteTime": {
     "end_time": "2021-04-02T09:16:31.348396Z",
     "start_time": "2021-04-02T09:16:23.627Z"
    },
    "hidden": true
   },
   "outputs": [
    {
     "name": "stderr",
     "output_type": "stream",
     "text": [
      "── \u001b[1mAttaching packages\u001b[22m ───────────────────────────────────────────────────────────────────────────────────────────────────────────────────────────────────────────────────────────── tidyverse 1.3.0 ──\n",
      "\n",
      "\u001b[32m✔\u001b[39m \u001b[34mggplot2\u001b[39m 3.3.2     \u001b[32m✔\u001b[39m \u001b[34mpurrr  \u001b[39m 0.3.4\n",
      "\u001b[32m✔\u001b[39m \u001b[34mtibble \u001b[39m 3.0.4     \u001b[32m✔\u001b[39m \u001b[34mdplyr  \u001b[39m 1.0.2\n",
      "\u001b[32m✔\u001b[39m \u001b[34mtidyr  \u001b[39m 1.1.2     \u001b[32m✔\u001b[39m \u001b[34mstringr\u001b[39m 1.4.0\n",
      "\u001b[32m✔\u001b[39m \u001b[34mreadr  \u001b[39m 1.4.0     \u001b[32m✔\u001b[39m \u001b[34mforcats\u001b[39m 0.5.0\n",
      "\n",
      "── \u001b[1mConflicts\u001b[22m ──────────────────────────────────────────────────────────────────────────────────────────────────────────────────────────────────────────────────────────────── tidyverse_conflicts() ──\n",
      "\u001b[31m✖\u001b[39m \u001b[34mdplyr\u001b[39m::\u001b[32mfilter()\u001b[39m masks \u001b[34mstats\u001b[39m::filter()\n",
      "\u001b[31m✖\u001b[39m \u001b[34mdplyr\u001b[39m::\u001b[32mlag()\u001b[39m    masks \u001b[34mstats\u001b[39m::lag()\n",
      "\n",
      "Loading required package: lattice\n",
      "\n",
      "\n",
      "Attaching package: ‘caret’\n",
      "\n",
      "\n",
      "The following object is masked from ‘package:purrr’:\n",
      "\n",
      "    lift\n",
      "\n",
      "\n",
      "\n",
      "Attaching package: ‘data.table’\n",
      "\n",
      "\n",
      "The following objects are masked from ‘package:dplyr’:\n",
      "\n",
      "    between, first, last\n",
      "\n",
      "\n",
      "The following object is masked from ‘package:purrr’:\n",
      "\n",
      "    transpose\n",
      "\n",
      "\n",
      "qs v0.23.4.\n",
      "\n",
      "randomForest 4.6-14\n",
      "\n",
      "Type rfNews() to see new features/changes/bug fixes.\n",
      "\n",
      "\n",
      "Attaching package: ‘randomForest’\n",
      "\n",
      "\n",
      "The following object is masked from ‘package:dplyr’:\n",
      "\n",
      "    combine\n",
      "\n",
      "\n",
      "The following object is masked from ‘package:ggplot2’:\n",
      "\n",
      "    margin\n",
      "\n",
      "\n",
      "Registered S3 method overwritten by 'RRF':\n",
      "  method      from        \n",
      "  plot.margin randomForest\n",
      "\n",
      "Warning message:\n",
      "“replacing previous import ‘dplyr::last’ by ‘data.table::last’ when loading ‘babR’”\n",
      "Warning message:\n",
      "“replacing previous import ‘dplyr::between’ by ‘data.table::between’ when loading ‘babR’”\n",
      "Warning message:\n",
      "“replacing previous import ‘dplyr::first’ by ‘data.table::first’ when loading ‘babR’”\n",
      "Loading required package: viridisLite\n",
      "\n"
     ]
    }
   ],
   "source": [
    "library(tidyverse)\n",
    "library(stringr)\n",
    "library(caret)\n",
    "library(data.table)\n",
    "library(stringr)\n",
    "library(dplyr)\n",
    "library(qs)\n",
    "library(parallel)\n",
    "library(randomForest)\n",
    "library(inTrees)\n",
    "library(babR)\n",
    "library(viridis)\n",
    "library(ggpubr)\n",
    "library(parallel)"
   ]
  },
  {
   "cell_type": "code",
   "execution_count": 2,
   "metadata": {
    "ExecuteTime": {
     "end_time": "2021-04-02T09:16:31.439633Z",
     "start_time": "2021-04-02T09:16:23.630Z"
    },
    "hidden": true
   },
   "outputs": [
    {
     "data": {
      "text/plain": [
       "R version 4.0.3 (2020-10-10)\n",
       "Platform: x86_64-conda-linux-gnu (64-bit)\n",
       "Running under: Ubuntu 18.04.5 LTS\n",
       "\n",
       "Matrix products: default\n",
       "BLAS/LAPACK: /ebio/abt3_projects/Methanogen_SCFA/Metagenomes_methanogen/envs/r-ml/lib/libopenblasp-r0.3.10.so\n",
       "\n",
       "locale:\n",
       " [1] LC_CTYPE=en_US.UTF-8       LC_NUMERIC=C              \n",
       " [3] LC_TIME=en_US.UTF-8        LC_COLLATE=en_US.UTF-8    \n",
       " [5] LC_MONETARY=en_US.UTF-8    LC_MESSAGES=en_US.UTF-8   \n",
       " [7] LC_PAPER=en_US.UTF-8       LC_NAME=C                 \n",
       " [9] LC_ADDRESS=C               LC_TELEPHONE=C            \n",
       "[11] LC_MEASUREMENT=en_US.UTF-8 LC_IDENTIFICATION=C       \n",
       "\n",
       "attached base packages:\n",
       "[1] parallel  stats     graphics  grDevices utils     datasets  methods  \n",
       "[8] base     \n",
       "\n",
       "other attached packages:\n",
       " [1] ggpubr_0.4.0        viridis_0.5.1       viridisLite_0.3.0  \n",
       " [4] babR_0.0.0.9000     inTrees_1.3         randomForest_4.6-14\n",
       " [7] qs_0.23.4           data.table_1.13.4   caret_6.0-86       \n",
       "[10] lattice_0.20-41     forcats_0.5.0       stringr_1.4.0      \n",
       "[13] dplyr_1.0.2         purrr_0.3.4         readr_1.4.0        \n",
       "[16] tidyr_1.1.2         tibble_3.0.4        ggplot2_3.3.2      \n",
       "[19] tidyverse_1.3.0    \n",
       "\n",
       "loaded via a namespace (and not attached):\n",
       " [1] colorspace_2.0-0     ggsignif_0.6.0       ellipsis_0.3.1      \n",
       " [4] class_7.3-17         rio_0.5.16           IRdisplay_0.7.0     \n",
       " [7] base64enc_0.1-3      fs_1.5.0             rstudioapi_0.13     \n",
       "[10] prodlim_2019.11.13   fansi_0.4.1          lubridate_1.7.9.2   \n",
       "[13] ranger_0.12.1        xml2_1.3.2           codetools_0.2-18    \n",
       "[16] splines_4.0.3        arules_1.6-6         IRkernel_1.1.1      \n",
       "[19] jsonlite_1.7.2       pROC_1.16.2          broom_0.7.2         \n",
       "[22] dbplyr_2.0.0         compiler_4.0.3       httr_1.4.2          \n",
       "[25] backports_1.2.0      assertthat_0.2.1     Matrix_1.2-18       \n",
       "[28] cli_2.2.0            htmltools_0.5.0      tools_4.0.3         \n",
       "[31] gtable_0.3.0         glue_1.4.2           reshape2_1.4.4      \n",
       "[34] Rcpp_1.0.5           carData_3.0-4        cellranger_1.1.0    \n",
       "[37] vctrs_0.3.6          nlme_3.1-150         iterators_1.0.13    \n",
       "[40] timeDate_3043.102    gower_0.2.2          ps_1.5.0            \n",
       "[43] openxlsx_4.2.3       rvest_0.3.6          lifecycle_0.2.0     \n",
       "[46] rstatix_0.6.0        MASS_7.3-53          scales_1.1.1        \n",
       "[49] ipred_0.9-9          hms_0.5.3            curl_4.3            \n",
       "[52] gridExtra_2.3        rpart_4.1-15         stringi_1.5.3       \n",
       "[55] foreach_1.5.1        zip_2.1.1            lava_1.6.8.1        \n",
       "[58] repr_1.1.2.9000      rlang_0.4.10         pkgconfig_2.0.3     \n",
       "[61] evaluate_0.14        recipes_0.1.15       tidyselect_1.1.0    \n",
       "[64] gbm_2.1.8            plyr_1.8.6           magrittr_2.0.1      \n",
       "[67] R6_2.5.0             generics_0.1.0       pbdZMQ_0.3-3.1      \n",
       "[70] DBI_1.1.0            pillar_1.4.7         haven_2.3.1         \n",
       "[73] foreign_0.8-80       withr_2.3.0          survival_3.2-7      \n",
       "[76] abind_1.4-5          nnet_7.3-14          modelr_0.1.8        \n",
       "[79] crayon_1.3.4         car_3.0-10           xgboost_1.2.0.1     \n",
       "[82] uuid_0.1-4           RApiSerialize_0.1.0  RRF_1.9.1           \n",
       "[85] grid_4.0.3           readxl_1.3.1         ModelMetrics_1.2.2.2\n",
       "[88] reprex_0.3.0         digest_0.6.27        xtable_1.8-4        \n",
       "[91] RcppParallel_5.0.2   stats4_4.0.3         munsell_0.5.0       \n",
       "[94] stringfish_0.14.2   "
      ]
     },
     "metadata": {},
     "output_type": "display_data"
    }
   ],
   "source": [
    "sessionInfo()"
   ]
  },
  {
   "cell_type": "markdown",
   "metadata": {},
   "source": [
    "## functions"
   ]
  },
  {
   "cell_type": "code",
   "execution_count": 3,
   "metadata": {
    "ExecuteTime": {
     "end_time": "2021-04-02T09:16:31.453644Z",
     "start_time": "2021-04-02T09:16:23.633Z"
    }
   },
   "outputs": [],
   "source": [
    "getPR <- function(f, alpha, pi_thr, true_edges, colN){\n",
    "    res <- qread(f)\n",
    "    pc <- quiet(postCluster(res = res$resamp, alpha_error = alpha, minN = pi_thr))\n",
    "    \n",
    "    edges <- pc$edges_agg %>% select(x, y, condition, importance, influence, d.x, d.y) %>% \n",
    "        subset(condition %in% pc$rules_summary$condition) %>%\n",
    "        group_by(x, y, condition) %>% \n",
    "        summarise(importance= mean(importance), influence = mean(influence*(d.x+d.y)/2)) %>%\n",
    "        ungroup %>% \n",
    "        left_join(select(pc$rules_summary,condition, inN, imp, n), by = 'condition') %>% \n",
    "        select(-condition)\n",
    "    \n",
    "    edi <- lapply(unique(edges$inN)\n",
    "                  , function(i, edges, true_edges, colN){\n",
    "                      suppressMessages(edges <- edges %>% subset(inN >= i) %>% group_by(x, y) %>% \n",
    "                                       summarise( inN = max(inN), importance = sum(importance*imp*n)\n",
    "                                                 , influence = sum(influence*imp*n)/sum(imp*n) ) %>% ungroup)\n",
    "                      metricsNet(edges = edges, true_edges = true_edges, colN = colN)\n",
    "                  }, edges = edges, true_edges = true_edges, colN = colN)\n",
    "    edi <- as.data.frame(do.call(rbind, edi))\n",
    "    edi$inN <- unique(edges$inN)\n",
    "    edi <- add_row(edi, n_edges=0, tp=0,fp=0,tn=0,fn=0,inN=0)\n",
    "    \n",
    "    edi$N <- str_extract(f, pattern = '(?<=N)[:digit:]+(?=\\\\_)')\n",
    "    edi$seedN <- str_extract(f, pattern = '(?<=simu)[:digit:]+(?=\\\\_)')\n",
    "    \n",
    "    return(edi)\n",
    "}"
   ]
  },
  {
   "cell_type": "code",
   "execution_count": 4,
   "metadata": {
    "ExecuteTime": {
     "end_time": "2021-04-02T09:16:31.477104Z",
     "start_time": "2021-04-02T09:16:23.635Z"
    }
   },
   "outputs": [],
   "source": [
    "file.sources <- list.files('./scripts/', pattern = '*.R', full.names=TRUE, ignore.case=TRUE)\n",
    "for (f in file.sources) {\n",
    "    source(f)\n",
    "}\n",
    "rm('file.sources', 'f')"
   ]
  },
  {
   "cell_type": "markdown",
   "metadata": {},
   "source": [
    "# Run"
   ]
  },
  {
   "cell_type": "code",
   "execution_count": 5,
   "metadata": {
    "ExecuteTime": {
     "end_time": "2021-04-02T09:16:43.342749Z",
     "start_time": "2021-04-02T09:16:39.410Z"
    }
   },
   "outputs": [],
   "source": [
    "true_edges <- readRDS('true_edges.RDS')"
   ]
  },
  {
   "cell_type": "code",
   "execution_count": 6,
   "metadata": {
    "ExecuteTime": {
     "end_time": "2021-04-02T09:16:52.392990Z",
     "start_time": "2021-04-02T09:16:43.043Z"
    },
    "scrolled": true
   },
   "outputs": [
    {
     "data": {
      "text/html": [
       "<style>\n",
       ".list-inline {list-style: none; margin:0; padding: 0}\n",
       ".list-inline>li {display: inline-block}\n",
       ".list-inline>li:not(:last-child)::after {content: \"\\00b7\"; padding: 0 .5ex}\n",
       "</style>\n",
       "<ol class=list-inline><li>'/ebio/abt3_projects/temp_data/aruaud//Toy_p005_N1000_B10'</li><li>'/ebio/abt3_projects/temp_data/aruaud//Toy_p005_N200_B10'</li><li>'/ebio/abt3_projects/temp_data/aruaud//Toy_p005_N5000_B10'</li><li>'/ebio/abt3_projects/temp_data/aruaud//Toy_p005_N800_B10'</li></ol>\n"
      ],
      "text/latex": [
       "\\begin{enumerate*}\n",
       "\\item '/ebio/abt3\\_projects/temp\\_data/aruaud//Toy\\_p005\\_N1000\\_B10'\n",
       "\\item '/ebio/abt3\\_projects/temp\\_data/aruaud//Toy\\_p005\\_N200\\_B10'\n",
       "\\item '/ebio/abt3\\_projects/temp\\_data/aruaud//Toy\\_p005\\_N5000\\_B10'\n",
       "\\item '/ebio/abt3\\_projects/temp\\_data/aruaud//Toy\\_p005\\_N800\\_B10'\n",
       "\\end{enumerate*}\n"
      ],
      "text/markdown": [
       "1. '/ebio/abt3_projects/temp_data/aruaud//Toy_p005_N1000_B10'\n",
       "2. '/ebio/abt3_projects/temp_data/aruaud//Toy_p005_N200_B10'\n",
       "3. '/ebio/abt3_projects/temp_data/aruaud//Toy_p005_N5000_B10'\n",
       "4. '/ebio/abt3_projects/temp_data/aruaud//Toy_p005_N800_B10'\n",
       "\n",
       "\n"
      ],
      "text/plain": [
       "[1] \"/ebio/abt3_projects/temp_data/aruaud//Toy_p005_N1000_B10\"\n",
       "[2] \"/ebio/abt3_projects/temp_data/aruaud//Toy_p005_N200_B10\" \n",
       "[3] \"/ebio/abt3_projects/temp_data/aruaud//Toy_p005_N5000_B10\"\n",
       "[4] \"/ebio/abt3_projects/temp_data/aruaud//Toy_p005_N800_B10\" "
      ]
     },
     "metadata": {},
     "output_type": "display_data"
    }
   ],
   "source": [
    "tmp <- list.dirs(path = '/ebio/abt3_projects/temp_data/aruaud/', full.names = TRUE)\n",
    "tmp <- str_subset(tmp, pattern = 'Toy\\\\_p005\\\\_N(1|5|2|8)[:digit:]+\\\\_B10$')\n",
    "tmp"
   ]
  },
  {
   "cell_type": "code",
   "execution_count": 7,
   "metadata": {
    "ExecuteTime": {
     "end_time": "2021-04-02T09:16:54.390619Z",
     "start_time": "2021-04-02T09:16:50.453Z"
    }
   },
   "outputs": [],
   "source": [
    "fnames <- lapply(tmp, list.files,  full.names = TRUE)\n",
    "fnames <- unlist(fnames)"
   ]
  },
  {
   "cell_type": "code",
   "execution_count": 8,
   "metadata": {
    "ExecuteTime": {
     "end_time": "2021-04-02T09:17:15.068585Z",
     "start_time": "2021-04-02T09:17:11.107Z"
    }
   },
   "outputs": [],
   "source": [
    "tmp <- qread(fnames[1])\n",
    "colN <- colnames(tmp$data$x)"
   ]
  },
  {
   "cell_type": "code",
   "execution_count": 9,
   "metadata": {
    "ExecuteTime": {
     "end_time": "2021-04-02T09:17:22.385443Z",
     "start_time": "2021-04-02T09:17:14.283Z"
    }
   },
   "outputs": [
    {
     "data": {
      "text/html": [
       "<ol>\n",
       "\t<li><style>\n",
       ".list-inline {list-style: none; margin:0; padding: 0}\n",
       ".list-inline>li {display: inline-block}\n",
       ".list-inline>li:not(:last-child)::after {content: \"\\00b7\"; padding: 0 .5ex}\n",
       "</style>\n",
       "<ol class=list-inline><li>'qs'</li><li>'stats'</li><li>'graphics'</li><li>'grDevices'</li><li>'utils'</li><li>'datasets'</li><li>'methods'</li><li>'base'</li></ol>\n",
       "</li>\n",
       "\t<li><style>\n",
       ".list-inline {list-style: none; margin:0; padding: 0}\n",
       ".list-inline>li {display: inline-block}\n",
       ".list-inline>li:not(:last-child)::after {content: \"\\00b7\"; padding: 0 .5ex}\n",
       "</style>\n",
       "<ol class=list-inline><li>'qs'</li><li>'stats'</li><li>'graphics'</li><li>'grDevices'</li><li>'utils'</li><li>'datasets'</li><li>'methods'</li><li>'base'</li></ol>\n",
       "</li>\n",
       "\t<li><style>\n",
       ".list-inline {list-style: none; margin:0; padding: 0}\n",
       ".list-inline>li {display: inline-block}\n",
       ".list-inline>li:not(:last-child)::after {content: \"\\00b7\"; padding: 0 .5ex}\n",
       "</style>\n",
       "<ol class=list-inline><li>'qs'</li><li>'stats'</li><li>'graphics'</li><li>'grDevices'</li><li>'utils'</li><li>'datasets'</li><li>'methods'</li><li>'base'</li></ol>\n",
       "</li>\n",
       "\t<li><style>\n",
       ".list-inline {list-style: none; margin:0; padding: 0}\n",
       ".list-inline>li {display: inline-block}\n",
       ".list-inline>li:not(:last-child)::after {content: \"\\00b7\"; padding: 0 .5ex}\n",
       "</style>\n",
       "<ol class=list-inline><li>'qs'</li><li>'stats'</li><li>'graphics'</li><li>'grDevices'</li><li>'utils'</li><li>'datasets'</li><li>'methods'</li><li>'base'</li></ol>\n",
       "</li>\n",
       "\t<li><style>\n",
       ".list-inline {list-style: none; margin:0; padding: 0}\n",
       ".list-inline>li {display: inline-block}\n",
       ".list-inline>li:not(:last-child)::after {content: \"\\00b7\"; padding: 0 .5ex}\n",
       "</style>\n",
       "<ol class=list-inline><li>'qs'</li><li>'stats'</li><li>'graphics'</li><li>'grDevices'</li><li>'utils'</li><li>'datasets'</li><li>'methods'</li><li>'base'</li></ol>\n",
       "</li>\n",
       "</ol>\n"
      ],
      "text/latex": [
       "\\begin{enumerate}\n",
       "\\item \\begin{enumerate*}\n",
       "\\item 'qs'\n",
       "\\item 'stats'\n",
       "\\item 'graphics'\n",
       "\\item 'grDevices'\n",
       "\\item 'utils'\n",
       "\\item 'datasets'\n",
       "\\item 'methods'\n",
       "\\item 'base'\n",
       "\\end{enumerate*}\n",
       "\n",
       "\\item \\begin{enumerate*}\n",
       "\\item 'qs'\n",
       "\\item 'stats'\n",
       "\\item 'graphics'\n",
       "\\item 'grDevices'\n",
       "\\item 'utils'\n",
       "\\item 'datasets'\n",
       "\\item 'methods'\n",
       "\\item 'base'\n",
       "\\end{enumerate*}\n",
       "\n",
       "\\item \\begin{enumerate*}\n",
       "\\item 'qs'\n",
       "\\item 'stats'\n",
       "\\item 'graphics'\n",
       "\\item 'grDevices'\n",
       "\\item 'utils'\n",
       "\\item 'datasets'\n",
       "\\item 'methods'\n",
       "\\item 'base'\n",
       "\\end{enumerate*}\n",
       "\n",
       "\\item \\begin{enumerate*}\n",
       "\\item 'qs'\n",
       "\\item 'stats'\n",
       "\\item 'graphics'\n",
       "\\item 'grDevices'\n",
       "\\item 'utils'\n",
       "\\item 'datasets'\n",
       "\\item 'methods'\n",
       "\\item 'base'\n",
       "\\end{enumerate*}\n",
       "\n",
       "\\item \\begin{enumerate*}\n",
       "\\item 'qs'\n",
       "\\item 'stats'\n",
       "\\item 'graphics'\n",
       "\\item 'grDevices'\n",
       "\\item 'utils'\n",
       "\\item 'datasets'\n",
       "\\item 'methods'\n",
       "\\item 'base'\n",
       "\\end{enumerate*}\n",
       "\n",
       "\\end{enumerate}\n"
      ],
      "text/markdown": [
       "1. 1. 'qs'\n",
       "2. 'stats'\n",
       "3. 'graphics'\n",
       "4. 'grDevices'\n",
       "5. 'utils'\n",
       "6. 'datasets'\n",
       "7. 'methods'\n",
       "8. 'base'\n",
       "\n",
       "\n",
       "\n",
       "2. 1. 'qs'\n",
       "2. 'stats'\n",
       "3. 'graphics'\n",
       "4. 'grDevices'\n",
       "5. 'utils'\n",
       "6. 'datasets'\n",
       "7. 'methods'\n",
       "8. 'base'\n",
       "\n",
       "\n",
       "\n",
       "3. 1. 'qs'\n",
       "2. 'stats'\n",
       "3. 'graphics'\n",
       "4. 'grDevices'\n",
       "5. 'utils'\n",
       "6. 'datasets'\n",
       "7. 'methods'\n",
       "8. 'base'\n",
       "\n",
       "\n",
       "\n",
       "4. 1. 'qs'\n",
       "2. 'stats'\n",
       "3. 'graphics'\n",
       "4. 'grDevices'\n",
       "5. 'utils'\n",
       "6. 'datasets'\n",
       "7. 'methods'\n",
       "8. 'base'\n",
       "\n",
       "\n",
       "\n",
       "5. 1. 'qs'\n",
       "2. 'stats'\n",
       "3. 'graphics'\n",
       "4. 'grDevices'\n",
       "5. 'utils'\n",
       "6. 'datasets'\n",
       "7. 'methods'\n",
       "8. 'base'\n",
       "\n",
       "\n",
       "\n",
       "\n",
       "\n"
      ],
      "text/plain": [
       "[[1]]\n",
       "[1] \"qs\"        \"stats\"     \"graphics\"  \"grDevices\" \"utils\"     \"datasets\" \n",
       "[7] \"methods\"   \"base\"     \n",
       "\n",
       "[[2]]\n",
       "[1] \"qs\"        \"stats\"     \"graphics\"  \"grDevices\" \"utils\"     \"datasets\" \n",
       "[7] \"methods\"   \"base\"     \n",
       "\n",
       "[[3]]\n",
       "[1] \"qs\"        \"stats\"     \"graphics\"  \"grDevices\" \"utils\"     \"datasets\" \n",
       "[7] \"methods\"   \"base\"     \n",
       "\n",
       "[[4]]\n",
       "[1] \"qs\"        \"stats\"     \"graphics\"  \"grDevices\" \"utils\"     \"datasets\" \n",
       "[7] \"methods\"   \"base\"     \n",
       "\n",
       "[[5]]\n",
       "[1] \"qs\"        \"stats\"     \"graphics\"  \"grDevices\" \"utils\"     \"datasets\" \n",
       "[7] \"methods\"   \"base\"     \n"
      ]
     },
     "metadata": {},
     "output_type": "display_data"
    },
    {
     "data": {
      "text/html": [
       "<ol>\n",
       "\t<li><style>\n",
       ".list-inline {list-style: none; margin:0; padding: 0}\n",
       ".list-inline>li {display: inline-block}\n",
       ".list-inline>li:not(:last-child)::after {content: \"\\00b7\"; padding: 0 .5ex}\n",
       "</style>\n",
       "<ol class=list-inline><li>'babR'</li><li>'data.table'</li><li>'qs'</li><li>'stats'</li><li>'graphics'</li><li>'grDevices'</li><li>'utils'</li><li>'datasets'</li><li>'methods'</li><li>'base'</li></ol>\n",
       "</li>\n",
       "\t<li><style>\n",
       ".list-inline {list-style: none; margin:0; padding: 0}\n",
       ".list-inline>li {display: inline-block}\n",
       ".list-inline>li:not(:last-child)::after {content: \"\\00b7\"; padding: 0 .5ex}\n",
       "</style>\n",
       "<ol class=list-inline><li>'babR'</li><li>'data.table'</li><li>'qs'</li><li>'stats'</li><li>'graphics'</li><li>'grDevices'</li><li>'utils'</li><li>'datasets'</li><li>'methods'</li><li>'base'</li></ol>\n",
       "</li>\n",
       "\t<li><style>\n",
       ".list-inline {list-style: none; margin:0; padding: 0}\n",
       ".list-inline>li {display: inline-block}\n",
       ".list-inline>li:not(:last-child)::after {content: \"\\00b7\"; padding: 0 .5ex}\n",
       "</style>\n",
       "<ol class=list-inline><li>'babR'</li><li>'data.table'</li><li>'qs'</li><li>'stats'</li><li>'graphics'</li><li>'grDevices'</li><li>'utils'</li><li>'datasets'</li><li>'methods'</li><li>'base'</li></ol>\n",
       "</li>\n",
       "\t<li><style>\n",
       ".list-inline {list-style: none; margin:0; padding: 0}\n",
       ".list-inline>li {display: inline-block}\n",
       ".list-inline>li:not(:last-child)::after {content: \"\\00b7\"; padding: 0 .5ex}\n",
       "</style>\n",
       "<ol class=list-inline><li>'babR'</li><li>'data.table'</li><li>'qs'</li><li>'stats'</li><li>'graphics'</li><li>'grDevices'</li><li>'utils'</li><li>'datasets'</li><li>'methods'</li><li>'base'</li></ol>\n",
       "</li>\n",
       "\t<li><style>\n",
       ".list-inline {list-style: none; margin:0; padding: 0}\n",
       ".list-inline>li {display: inline-block}\n",
       ".list-inline>li:not(:last-child)::after {content: \"\\00b7\"; padding: 0 .5ex}\n",
       "</style>\n",
       "<ol class=list-inline><li>'babR'</li><li>'data.table'</li><li>'qs'</li><li>'stats'</li><li>'graphics'</li><li>'grDevices'</li><li>'utils'</li><li>'datasets'</li><li>'methods'</li><li>'base'</li></ol>\n",
       "</li>\n",
       "</ol>\n"
      ],
      "text/latex": [
       "\\begin{enumerate}\n",
       "\\item \\begin{enumerate*}\n",
       "\\item 'babR'\n",
       "\\item 'data.table'\n",
       "\\item 'qs'\n",
       "\\item 'stats'\n",
       "\\item 'graphics'\n",
       "\\item 'grDevices'\n",
       "\\item 'utils'\n",
       "\\item 'datasets'\n",
       "\\item 'methods'\n",
       "\\item 'base'\n",
       "\\end{enumerate*}\n",
       "\n",
       "\\item \\begin{enumerate*}\n",
       "\\item 'babR'\n",
       "\\item 'data.table'\n",
       "\\item 'qs'\n",
       "\\item 'stats'\n",
       "\\item 'graphics'\n",
       "\\item 'grDevices'\n",
       "\\item 'utils'\n",
       "\\item 'datasets'\n",
       "\\item 'methods'\n",
       "\\item 'base'\n",
       "\\end{enumerate*}\n",
       "\n",
       "\\item \\begin{enumerate*}\n",
       "\\item 'babR'\n",
       "\\item 'data.table'\n",
       "\\item 'qs'\n",
       "\\item 'stats'\n",
       "\\item 'graphics'\n",
       "\\item 'grDevices'\n",
       "\\item 'utils'\n",
       "\\item 'datasets'\n",
       "\\item 'methods'\n",
       "\\item 'base'\n",
       "\\end{enumerate*}\n",
       "\n",
       "\\item \\begin{enumerate*}\n",
       "\\item 'babR'\n",
       "\\item 'data.table'\n",
       "\\item 'qs'\n",
       "\\item 'stats'\n",
       "\\item 'graphics'\n",
       "\\item 'grDevices'\n",
       "\\item 'utils'\n",
       "\\item 'datasets'\n",
       "\\item 'methods'\n",
       "\\item 'base'\n",
       "\\end{enumerate*}\n",
       "\n",
       "\\item \\begin{enumerate*}\n",
       "\\item 'babR'\n",
       "\\item 'data.table'\n",
       "\\item 'qs'\n",
       "\\item 'stats'\n",
       "\\item 'graphics'\n",
       "\\item 'grDevices'\n",
       "\\item 'utils'\n",
       "\\item 'datasets'\n",
       "\\item 'methods'\n",
       "\\item 'base'\n",
       "\\end{enumerate*}\n",
       "\n",
       "\\end{enumerate}\n"
      ],
      "text/markdown": [
       "1. 1. 'babR'\n",
       "2. 'data.table'\n",
       "3. 'qs'\n",
       "4. 'stats'\n",
       "5. 'graphics'\n",
       "6. 'grDevices'\n",
       "7. 'utils'\n",
       "8. 'datasets'\n",
       "9. 'methods'\n",
       "10. 'base'\n",
       "\n",
       "\n",
       "\n",
       "2. 1. 'babR'\n",
       "2. 'data.table'\n",
       "3. 'qs'\n",
       "4. 'stats'\n",
       "5. 'graphics'\n",
       "6. 'grDevices'\n",
       "7. 'utils'\n",
       "8. 'datasets'\n",
       "9. 'methods'\n",
       "10. 'base'\n",
       "\n",
       "\n",
       "\n",
       "3. 1. 'babR'\n",
       "2. 'data.table'\n",
       "3. 'qs'\n",
       "4. 'stats'\n",
       "5. 'graphics'\n",
       "6. 'grDevices'\n",
       "7. 'utils'\n",
       "8. 'datasets'\n",
       "9. 'methods'\n",
       "10. 'base'\n",
       "\n",
       "\n",
       "\n",
       "4. 1. 'babR'\n",
       "2. 'data.table'\n",
       "3. 'qs'\n",
       "4. 'stats'\n",
       "5. 'graphics'\n",
       "6. 'grDevices'\n",
       "7. 'utils'\n",
       "8. 'datasets'\n",
       "9. 'methods'\n",
       "10. 'base'\n",
       "\n",
       "\n",
       "\n",
       "5. 1. 'babR'\n",
       "2. 'data.table'\n",
       "3. 'qs'\n",
       "4. 'stats'\n",
       "5. 'graphics'\n",
       "6. 'grDevices'\n",
       "7. 'utils'\n",
       "8. 'datasets'\n",
       "9. 'methods'\n",
       "10. 'base'\n",
       "\n",
       "\n",
       "\n",
       "\n",
       "\n"
      ],
      "text/plain": [
       "[[1]]\n",
       " [1] \"babR\"       \"data.table\" \"qs\"         \"stats\"      \"graphics\"  \n",
       " [6] \"grDevices\"  \"utils\"      \"datasets\"   \"methods\"    \"base\"      \n",
       "\n",
       "[[2]]\n",
       " [1] \"babR\"       \"data.table\" \"qs\"         \"stats\"      \"graphics\"  \n",
       " [6] \"grDevices\"  \"utils\"      \"datasets\"   \"methods\"    \"base\"      \n",
       "\n",
       "[[3]]\n",
       " [1] \"babR\"       \"data.table\" \"qs\"         \"stats\"      \"graphics\"  \n",
       " [6] \"grDevices\"  \"utils\"      \"datasets\"   \"methods\"    \"base\"      \n",
       "\n",
       "[[4]]\n",
       " [1] \"babR\"       \"data.table\" \"qs\"         \"stats\"      \"graphics\"  \n",
       " [6] \"grDevices\"  \"utils\"      \"datasets\"   \"methods\"    \"base\"      \n",
       "\n",
       "[[5]]\n",
       " [1] \"babR\"       \"data.table\" \"qs\"         \"stats\"      \"graphics\"  \n",
       " [6] \"grDevices\"  \"utils\"      \"datasets\"   \"methods\"    \"base\"      \n"
      ]
     },
     "metadata": {},
     "output_type": "display_data"
    },
    {
     "data": {
      "text/html": [
       "<ol>\n",
       "\t<li><style>\n",
       ".list-inline {list-style: none; margin:0; padding: 0}\n",
       ".list-inline>li {display: inline-block}\n",
       ".list-inline>li:not(:last-child)::after {content: \"\\00b7\"; padding: 0 .5ex}\n",
       "</style>\n",
       "<ol class=list-inline><li>'forcats'</li><li>'stringr'</li><li>'dplyr'</li><li>'purrr'</li><li>'readr'</li><li>'tidyr'</li><li>'tibble'</li><li>'ggplot2'</li><li>'tidyverse'</li><li>'babR'</li><li>'data.table'</li><li>'qs'</li><li>'stats'</li><li>'graphics'</li><li>'grDevices'</li><li>'utils'</li><li>'datasets'</li><li>'methods'</li><li>'base'</li></ol>\n",
       "</li>\n",
       "\t<li><style>\n",
       ".list-inline {list-style: none; margin:0; padding: 0}\n",
       ".list-inline>li {display: inline-block}\n",
       ".list-inline>li:not(:last-child)::after {content: \"\\00b7\"; padding: 0 .5ex}\n",
       "</style>\n",
       "<ol class=list-inline><li>'forcats'</li><li>'stringr'</li><li>'dplyr'</li><li>'purrr'</li><li>'readr'</li><li>'tidyr'</li><li>'tibble'</li><li>'ggplot2'</li><li>'tidyverse'</li><li>'babR'</li><li>'data.table'</li><li>'qs'</li><li>'stats'</li><li>'graphics'</li><li>'grDevices'</li><li>'utils'</li><li>'datasets'</li><li>'methods'</li><li>'base'</li></ol>\n",
       "</li>\n",
       "\t<li><style>\n",
       ".list-inline {list-style: none; margin:0; padding: 0}\n",
       ".list-inline>li {display: inline-block}\n",
       ".list-inline>li:not(:last-child)::after {content: \"\\00b7\"; padding: 0 .5ex}\n",
       "</style>\n",
       "<ol class=list-inline><li>'forcats'</li><li>'stringr'</li><li>'dplyr'</li><li>'purrr'</li><li>'readr'</li><li>'tidyr'</li><li>'tibble'</li><li>'ggplot2'</li><li>'tidyverse'</li><li>'babR'</li><li>'data.table'</li><li>'qs'</li><li>'stats'</li><li>'graphics'</li><li>'grDevices'</li><li>'utils'</li><li>'datasets'</li><li>'methods'</li><li>'base'</li></ol>\n",
       "</li>\n",
       "\t<li><style>\n",
       ".list-inline {list-style: none; margin:0; padding: 0}\n",
       ".list-inline>li {display: inline-block}\n",
       ".list-inline>li:not(:last-child)::after {content: \"\\00b7\"; padding: 0 .5ex}\n",
       "</style>\n",
       "<ol class=list-inline><li>'forcats'</li><li>'stringr'</li><li>'dplyr'</li><li>'purrr'</li><li>'readr'</li><li>'tidyr'</li><li>'tibble'</li><li>'ggplot2'</li><li>'tidyverse'</li><li>'babR'</li><li>'data.table'</li><li>'qs'</li><li>'stats'</li><li>'graphics'</li><li>'grDevices'</li><li>'utils'</li><li>'datasets'</li><li>'methods'</li><li>'base'</li></ol>\n",
       "</li>\n",
       "\t<li><style>\n",
       ".list-inline {list-style: none; margin:0; padding: 0}\n",
       ".list-inline>li {display: inline-block}\n",
       ".list-inline>li:not(:last-child)::after {content: \"\\00b7\"; padding: 0 .5ex}\n",
       "</style>\n",
       "<ol class=list-inline><li>'forcats'</li><li>'stringr'</li><li>'dplyr'</li><li>'purrr'</li><li>'readr'</li><li>'tidyr'</li><li>'tibble'</li><li>'ggplot2'</li><li>'tidyverse'</li><li>'babR'</li><li>'data.table'</li><li>'qs'</li><li>'stats'</li><li>'graphics'</li><li>'grDevices'</li><li>'utils'</li><li>'datasets'</li><li>'methods'</li><li>'base'</li></ol>\n",
       "</li>\n",
       "</ol>\n"
      ],
      "text/latex": [
       "\\begin{enumerate}\n",
       "\\item \\begin{enumerate*}\n",
       "\\item 'forcats'\n",
       "\\item 'stringr'\n",
       "\\item 'dplyr'\n",
       "\\item 'purrr'\n",
       "\\item 'readr'\n",
       "\\item 'tidyr'\n",
       "\\item 'tibble'\n",
       "\\item 'ggplot2'\n",
       "\\item 'tidyverse'\n",
       "\\item 'babR'\n",
       "\\item 'data.table'\n",
       "\\item 'qs'\n",
       "\\item 'stats'\n",
       "\\item 'graphics'\n",
       "\\item 'grDevices'\n",
       "\\item 'utils'\n",
       "\\item 'datasets'\n",
       "\\item 'methods'\n",
       "\\item 'base'\n",
       "\\end{enumerate*}\n",
       "\n",
       "\\item \\begin{enumerate*}\n",
       "\\item 'forcats'\n",
       "\\item 'stringr'\n",
       "\\item 'dplyr'\n",
       "\\item 'purrr'\n",
       "\\item 'readr'\n",
       "\\item 'tidyr'\n",
       "\\item 'tibble'\n",
       "\\item 'ggplot2'\n",
       "\\item 'tidyverse'\n",
       "\\item 'babR'\n",
       "\\item 'data.table'\n",
       "\\item 'qs'\n",
       "\\item 'stats'\n",
       "\\item 'graphics'\n",
       "\\item 'grDevices'\n",
       "\\item 'utils'\n",
       "\\item 'datasets'\n",
       "\\item 'methods'\n",
       "\\item 'base'\n",
       "\\end{enumerate*}\n",
       "\n",
       "\\item \\begin{enumerate*}\n",
       "\\item 'forcats'\n",
       "\\item 'stringr'\n",
       "\\item 'dplyr'\n",
       "\\item 'purrr'\n",
       "\\item 'readr'\n",
       "\\item 'tidyr'\n",
       "\\item 'tibble'\n",
       "\\item 'ggplot2'\n",
       "\\item 'tidyverse'\n",
       "\\item 'babR'\n",
       "\\item 'data.table'\n",
       "\\item 'qs'\n",
       "\\item 'stats'\n",
       "\\item 'graphics'\n",
       "\\item 'grDevices'\n",
       "\\item 'utils'\n",
       "\\item 'datasets'\n",
       "\\item 'methods'\n",
       "\\item 'base'\n",
       "\\end{enumerate*}\n",
       "\n",
       "\\item \\begin{enumerate*}\n",
       "\\item 'forcats'\n",
       "\\item 'stringr'\n",
       "\\item 'dplyr'\n",
       "\\item 'purrr'\n",
       "\\item 'readr'\n",
       "\\item 'tidyr'\n",
       "\\item 'tibble'\n",
       "\\item 'ggplot2'\n",
       "\\item 'tidyverse'\n",
       "\\item 'babR'\n",
       "\\item 'data.table'\n",
       "\\item 'qs'\n",
       "\\item 'stats'\n",
       "\\item 'graphics'\n",
       "\\item 'grDevices'\n",
       "\\item 'utils'\n",
       "\\item 'datasets'\n",
       "\\item 'methods'\n",
       "\\item 'base'\n",
       "\\end{enumerate*}\n",
       "\n",
       "\\item \\begin{enumerate*}\n",
       "\\item 'forcats'\n",
       "\\item 'stringr'\n",
       "\\item 'dplyr'\n",
       "\\item 'purrr'\n",
       "\\item 'readr'\n",
       "\\item 'tidyr'\n",
       "\\item 'tibble'\n",
       "\\item 'ggplot2'\n",
       "\\item 'tidyverse'\n",
       "\\item 'babR'\n",
       "\\item 'data.table'\n",
       "\\item 'qs'\n",
       "\\item 'stats'\n",
       "\\item 'graphics'\n",
       "\\item 'grDevices'\n",
       "\\item 'utils'\n",
       "\\item 'datasets'\n",
       "\\item 'methods'\n",
       "\\item 'base'\n",
       "\\end{enumerate*}\n",
       "\n",
       "\\end{enumerate}\n"
      ],
      "text/markdown": [
       "1. 1. 'forcats'\n",
       "2. 'stringr'\n",
       "3. 'dplyr'\n",
       "4. 'purrr'\n",
       "5. 'readr'\n",
       "6. 'tidyr'\n",
       "7. 'tibble'\n",
       "8. 'ggplot2'\n",
       "9. 'tidyverse'\n",
       "10. 'babR'\n",
       "11. 'data.table'\n",
       "12. 'qs'\n",
       "13. 'stats'\n",
       "14. 'graphics'\n",
       "15. 'grDevices'\n",
       "16. 'utils'\n",
       "17. 'datasets'\n",
       "18. 'methods'\n",
       "19. 'base'\n",
       "\n",
       "\n",
       "\n",
       "2. 1. 'forcats'\n",
       "2. 'stringr'\n",
       "3. 'dplyr'\n",
       "4. 'purrr'\n",
       "5. 'readr'\n",
       "6. 'tidyr'\n",
       "7. 'tibble'\n",
       "8. 'ggplot2'\n",
       "9. 'tidyverse'\n",
       "10. 'babR'\n",
       "11. 'data.table'\n",
       "12. 'qs'\n",
       "13. 'stats'\n",
       "14. 'graphics'\n",
       "15. 'grDevices'\n",
       "16. 'utils'\n",
       "17. 'datasets'\n",
       "18. 'methods'\n",
       "19. 'base'\n",
       "\n",
       "\n",
       "\n",
       "3. 1. 'forcats'\n",
       "2. 'stringr'\n",
       "3. 'dplyr'\n",
       "4. 'purrr'\n",
       "5. 'readr'\n",
       "6. 'tidyr'\n",
       "7. 'tibble'\n",
       "8. 'ggplot2'\n",
       "9. 'tidyverse'\n",
       "10. 'babR'\n",
       "11. 'data.table'\n",
       "12. 'qs'\n",
       "13. 'stats'\n",
       "14. 'graphics'\n",
       "15. 'grDevices'\n",
       "16. 'utils'\n",
       "17. 'datasets'\n",
       "18. 'methods'\n",
       "19. 'base'\n",
       "\n",
       "\n",
       "\n",
       "4. 1. 'forcats'\n",
       "2. 'stringr'\n",
       "3. 'dplyr'\n",
       "4. 'purrr'\n",
       "5. 'readr'\n",
       "6. 'tidyr'\n",
       "7. 'tibble'\n",
       "8. 'ggplot2'\n",
       "9. 'tidyverse'\n",
       "10. 'babR'\n",
       "11. 'data.table'\n",
       "12. 'qs'\n",
       "13. 'stats'\n",
       "14. 'graphics'\n",
       "15. 'grDevices'\n",
       "16. 'utils'\n",
       "17. 'datasets'\n",
       "18. 'methods'\n",
       "19. 'base'\n",
       "\n",
       "\n",
       "\n",
       "5. 1. 'forcats'\n",
       "2. 'stringr'\n",
       "3. 'dplyr'\n",
       "4. 'purrr'\n",
       "5. 'readr'\n",
       "6. 'tidyr'\n",
       "7. 'tibble'\n",
       "8. 'ggplot2'\n",
       "9. 'tidyverse'\n",
       "10. 'babR'\n",
       "11. 'data.table'\n",
       "12. 'qs'\n",
       "13. 'stats'\n",
       "14. 'graphics'\n",
       "15. 'grDevices'\n",
       "16. 'utils'\n",
       "17. 'datasets'\n",
       "18. 'methods'\n",
       "19. 'base'\n",
       "\n",
       "\n",
       "\n",
       "\n",
       "\n"
      ],
      "text/plain": [
       "[[1]]\n",
       " [1] \"forcats\"    \"stringr\"    \"dplyr\"      \"purrr\"      \"readr\"     \n",
       " [6] \"tidyr\"      \"tibble\"     \"ggplot2\"    \"tidyverse\"  \"babR\"      \n",
       "[11] \"data.table\" \"qs\"         \"stats\"      \"graphics\"   \"grDevices\" \n",
       "[16] \"utils\"      \"datasets\"   \"methods\"    \"base\"      \n",
       "\n",
       "[[2]]\n",
       " [1] \"forcats\"    \"stringr\"    \"dplyr\"      \"purrr\"      \"readr\"     \n",
       " [6] \"tidyr\"      \"tibble\"     \"ggplot2\"    \"tidyverse\"  \"babR\"      \n",
       "[11] \"data.table\" \"qs\"         \"stats\"      \"graphics\"   \"grDevices\" \n",
       "[16] \"utils\"      \"datasets\"   \"methods\"    \"base\"      \n",
       "\n",
       "[[3]]\n",
       " [1] \"forcats\"    \"stringr\"    \"dplyr\"      \"purrr\"      \"readr\"     \n",
       " [6] \"tidyr\"      \"tibble\"     \"ggplot2\"    \"tidyverse\"  \"babR\"      \n",
       "[11] \"data.table\" \"qs\"         \"stats\"      \"graphics\"   \"grDevices\" \n",
       "[16] \"utils\"      \"datasets\"   \"methods\"    \"base\"      \n",
       "\n",
       "[[4]]\n",
       " [1] \"forcats\"    \"stringr\"    \"dplyr\"      \"purrr\"      \"readr\"     \n",
       " [6] \"tidyr\"      \"tibble\"     \"ggplot2\"    \"tidyverse\"  \"babR\"      \n",
       "[11] \"data.table\" \"qs\"         \"stats\"      \"graphics\"   \"grDevices\" \n",
       "[16] \"utils\"      \"datasets\"   \"methods\"    \"base\"      \n",
       "\n",
       "[[5]]\n",
       " [1] \"forcats\"    \"stringr\"    \"dplyr\"      \"purrr\"      \"readr\"     \n",
       " [6] \"tidyr\"      \"tibble\"     \"ggplot2\"    \"tidyverse\"  \"babR\"      \n",
       "[11] \"data.table\" \"qs\"         \"stats\"      \"graphics\"   \"grDevices\" \n",
       "[16] \"utils\"      \"datasets\"   \"methods\"    \"base\"      \n"
      ]
     },
     "metadata": {},
     "output_type": "display_data"
    }
   ],
   "source": [
    "#stopCluster(cluster)\n",
    "cluster <- makeCluster(5)\n",
    "clusterEvalQ(cluster, library(qs))\n",
    "clusterEvalQ(cluster, library(babR))\n",
    "clusterEvalQ(cluster, library(tidyverse))\n",
    "clusterExport(cluster, c('getPR', 'metricsNet', 'quiet' ))"
   ]
  },
  {
   "cell_type": "code",
   "execution_count": 10,
   "metadata": {
    "ExecuteTime": {
     "end_time": "2021-04-02T09:18:16.566411Z",
     "start_time": "2021-04-02T09:17:15.411Z"
    }
   },
   "outputs": [],
   "source": [
    "test_sev <- parLapply(cl = cluster,fnames, getPR, alpha = 5, pi_thr = 0.7, true_edges = true_edges, colN = colN)\n",
    "test_sev <- do.call(rbind, test_sev)"
   ]
  },
  {
   "cell_type": "code",
   "execution_count": 11,
   "metadata": {
    "ExecuteTime": {
     "end_time": "2021-04-02T09:18:16.592218Z",
     "start_time": "2021-04-02T09:17:16.633Z"
    }
   },
   "outputs": [],
   "source": [
    "stopCluster(cluster)"
   ]
  },
  {
   "cell_type": "code",
   "execution_count": 12,
   "metadata": {
    "ExecuteTime": {
     "end_time": "2021-04-02T09:18:16.696728Z",
     "start_time": "2021-04-02T09:17:38.369Z"
    }
   },
   "outputs": [],
   "source": [
    "suppressWarnings(av_res <- test_sev %>% group_by(N, inN) %>% summarise_all(mean))"
   ]
  },
  {
   "cell_type": "markdown",
   "metadata": {},
   "source": [
    "# random"
   ]
  },
  {
   "cell_type": "code",
   "execution_count": 13,
   "metadata": {
    "ExecuteTime": {
     "end_time": "2021-04-02T09:18:16.731469Z",
     "start_time": "2021-04-02T09:17:47.900Z"
    }
   },
   "outputs": [],
   "source": [
    "## Total number of edges\n",
    "N <- (length(colN)*length(colN) - length(colN))/2 \n",
    "## Total number of correct edges\n",
    "K <- length(true_edges)"
   ]
  },
  {
   "cell_type": "code",
   "execution_count": 14,
   "metadata": {
    "ExecuteTime": {
     "end_time": "2021-04-02T09:18:16.754641Z",
     "start_time": "2021-04-02T09:17:48.428Z"
    }
   },
   "outputs": [],
   "source": [
    "random_pr_curve <- function(i){\n",
    "  set.seed(i)\n",
    "  random_draw <- urn[sample(1:N)]\n",
    "  tp <- cumsum(random_draw)\n",
    "  fp <- 1:N - cumsum(random_draw)\n",
    "  linfit <- approx(fp, tp, xout = seq(1, N-K, length.out = 1000),ties = max)\n",
    "  \n",
    "  return(do.call(cbind, linfit))\n",
    "}"
   ]
  },
  {
   "cell_type": "code",
   "execution_count": 15,
   "metadata": {
    "ExecuteTime": {
     "end_time": "2021-04-02T09:18:17.792533Z",
     "start_time": "2021-04-02T09:17:51.668Z"
    }
   },
   "outputs": [],
   "source": [
    "## Resample\n",
    "urn <- c(rep(1, K), rep(0, N-K))\n",
    "B <- 1000\n",
    "rdm <- list()\n",
    "for(j in 1:B){\n",
    "  rdm[[j]] <- random_pr_curve(j)\n",
    "}"
   ]
  },
  {
   "cell_type": "code",
   "execution_count": 16,
   "metadata": {
    "ExecuteTime": {
     "end_time": "2021-04-02T09:18:18.310674Z",
     "start_time": "2021-04-02T09:17:56.934Z"
    }
   },
   "outputs": [],
   "source": [
    "rdm <- as.data.frame(do.call(rbind, rdm))\n",
    "colnames(rdm)<- c('fp', 'tp')"
   ]
  },
  {
   "cell_type": "code",
   "execution_count": 17,
   "metadata": {
    "ExecuteTime": {
     "end_time": "2021-04-02T09:18:19.133514Z",
     "start_time": "2021-04-02T09:17:57.164Z"
    }
   },
   "outputs": [
    {
     "name": "stderr",
     "output_type": "stream",
     "text": [
      "`summarise()` ungrouping output (override with `.groups` argument)\n",
      "\n"
     ]
    }
   ],
   "source": [
    "rdm <- group_by(rdm, fp) %>% summarise(tp_av = mean(tp), tp_sd = sd(tp), tp_qtiles = quantile(tp, 0.99))"
   ]
  },
  {
   "cell_type": "markdown",
   "metadata": {},
   "source": [
    "# Interpolate"
   ]
  },
  {
   "cell_type": "code",
   "execution_count": 18,
   "metadata": {
    "ExecuteTime": {
     "end_time": "2021-04-02T09:18:26.576918Z",
     "start_time": "2021-04-02T09:18:22.638Z"
    }
   },
   "outputs": [],
   "source": [
    "getInterpo <- function(i, raw){\n",
    "    raw <- subset(raw, seedN == i)\n",
    "    res <- list()\n",
    "    \n",
    "    i <- 1\n",
    "    for (a in unique(raw$N)){\n",
    "        tmp <- approx(raw$fp[raw$N == a]\n",
    "                       , raw$tp[raw$N == a]\n",
    "                       , xout = seq(1, N-K, length.out = 1000)\n",
    "                       , ties = max)\n",
    "        tmp <- as.data.frame(do.call(cbind, tmp))\n",
    "        colnames(tmp) <- c('fp', 'tp')\n",
    "        tmp$N <- a\n",
    "        \n",
    "        # add 0 and max values to the extrapolations\n",
    "        mafp <- max(tmp$fp[!is.na(tmp$tp)])\n",
    "        tmp$tp[tmp$fp>mafp] <- max(tmp$tp, na.rm = TRUE)\n",
    "\n",
    "        res[[i]] <- tmp\n",
    "        i <- i+1\n",
    "    }\n",
    "    res <- do.call(rbind, res)\n",
    "    res$seedN <- i\n",
    "    \n",
    "    return(res)\n",
    "}"
   ]
  },
  {
   "cell_type": "code",
   "execution_count": 19,
   "metadata": {
    "ExecuteTime": {
     "end_time": "2021-04-02T09:18:30.071780Z",
     "start_time": "2021-04-02T09:18:25.708Z"
    }
   },
   "outputs": [],
   "source": [
    "pr_byseed <- suppressWarnings(lapply(unique(test_sev$seedN), getInterpo, raw = test_sev))"
   ]
  },
  {
   "cell_type": "code",
   "execution_count": 20,
   "metadata": {
    "ExecuteTime": {
     "end_time": "2021-04-02T09:18:31.622621Z",
     "start_time": "2021-04-02T09:18:25.944Z"
    }
   },
   "outputs": [],
   "source": [
    "pr_byseed_av <- do.call(rbind, pr_byseed) %>% select(-seedN) %>% group_by(fp, N) %>% summarise_all(mean)\n",
    "pr_byseed_sd <- do.call(rbind, pr_byseed) %>% select(-seedN) %>% group_by(fp, N) %>% summarise_all(sd)\n",
    "\n",
    "pr_forplots <- left_join(pr_byseed_av, pr_byseed_sd, by = c('fp', 'N'), suffix = c('_av', '_sd'))"
   ]
  },
  {
   "cell_type": "markdown",
   "metadata": {},
   "source": [
    "# plots"
   ]
  },
  {
   "cell_type": "code",
   "execution_count": 22,
   "metadata": {
    "ExecuteTime": {
     "end_time": "2021-04-02T09:18:36.944039Z",
     "start_time": "2021-04-02T09:18:32.981Z"
    }
   },
   "outputs": [],
   "source": [
    "cols <- plasma(length(unique(av_res$N)) + 2)"
   ]
  },
  {
   "cell_type": "code",
   "execution_count": 23,
   "metadata": {
    "ExecuteTime": {
     "end_time": "2021-04-02T09:18:40.365040Z",
     "start_time": "2021-04-02T09:18:36.390Z"
    }
   },
   "outputs": [],
   "source": [
    "wp <- ggplot(pr_forplots \n",
    "             , aes(x = fp, y = tp_av, group = as.character(N), color = as.character(N)))+\n",
    "geom_hline(yintercept = 10, color = 'lightgrey', linetype = 'dashed')+\n",
    "geom_line(data = pr_forplots , size = 1)+\n",
    "\n",
    "geom_ribbon(aes(ymin = tp_av - tp_sd/2, ymax = tp_av + tp_sd/2\n",
    "                , group = N, fill = as.character(N)), color = NA\n",
    "            , alpha = 0.25) +\n",
    "\n",
    "geom_line(data = rdm, aes(y = tp_av, x = fp), group=NA, color = 'darkgrey')+\n",
    "geom_ribbon(data = rdm\n",
    "            , aes(ymin = tp_av - tp_sd/2, ymax = tp_av + tp_sd/2, y = tp_av\n",
    "                  , group=NULL, color = NULL)\n",
    "            , alpha = 0.25, fill = 'darkgrey') +\n",
    "\n",
    "geom_point(data = av_res %>% subset(inN == 7)\n",
    "           , aes(y = tp, x = fp, fill = as.character(N))\n",
    "           , size = 4, shape = 21, color = 'black')+\n",
    "\n",
    "\n",
    "theme_classic()+\n",
    "labs(x = 'Number of FP', y = 'Number of TP')+\n",
    "scale_color_manual(values = cols[-c(1, length(cols))], name = 'n', breaks =  c('200', '800', '1000', '5000')) +\n",
    "scale_fill_manual(values = cols[-c(1, length(cols))], name = 'n', breaks =  c('200', '800','1000', '5000')) "
   ]
  },
  {
   "cell_type": "code",
   "execution_count": 24,
   "metadata": {
    "ExecuteTime": {
     "end_time": "2021-04-02T09:18:42.859544Z",
     "start_time": "2021-04-02T09:18:38.185Z"
    }
   },
   "outputs": [
    {
     "data": {
      "image/png": "[encoded data removed]",
      "text/plain": [
       "plot without title"
      ]
     },
     "metadata": {
      "image/png": {
       "height": 240,
       "width": 300
      }
     },
     "output_type": "display_data"
    }
   ],
   "source": [
    "options(repr.plot.width=5, repr.plot.height=4)\n",
    "wp"
   ]
  },
  {
   "cell_type": "code",
   "execution_count": 25,
   "metadata": {
    "ExecuteTime": {
     "end_time": "2021-04-02T09:19:01.464273Z",
     "start_time": "2021-04-02T09:18:57.426Z"
    }
   },
   "outputs": [],
   "source": [
    "saveRDS(wp, 'n_plot.RDS')"
   ]
  },
  {
   "cell_type": "markdown",
   "metadata": {},
   "source": [
    "# check"
   ]
  },
  {
   "cell_type": "code",
   "execution_count": 26,
   "metadata": {
    "ExecuteTime": {
     "end_time": "2021-04-02T09:20:00.805987Z",
     "start_time": "2021-04-02T09:19:56.864Z"
    }
   },
   "outputs": [],
   "source": [
    "getRes <- function(f, p = NULL, true_edges){\n",
    "    tmp <- qread(f)\n",
    "        \n",
    "    # get the new metrics\n",
    "    quiet(pc <- postCluster(tmp$resamp, alpha_error = 5, minN = 0.7))\n",
    "    cond <- pc$rules_summary %>% subset(inN >= 7, select = condition) %>% unlist\n",
    "    if (length(cond) > 0){\n",
    "            \n",
    "        imp_edges <- pc$edges_agg %>% subset(condition %in% cond) %>% select(x,y, importance, n, imp)\n",
    "        imp_edges$x <- str_replace(imp_edges$x, pattern = '\\\\_{2}.*', replacement = '')\n",
    "        imp_edges$y <- str_replace(imp_edges$y, pattern = '\\\\_{2}.*', replacement = '')\n",
    "        suppressMessages(imp_edges <- imp_edges %>% group_by(x,y) %>% summarise(importance = sum(n*imp*importance)))\n",
    "        imp_edges <- asplit(as.matrix(imp_edges), MARGIN = 1)\n",
    "        imp_edges <- lapply(imp_edges, sort) \n",
    "        pred_edges <- sapply(imp_edges, function(x){paste(x[-1], collapse = ' - ')}) \n",
    "        if(length(pred_edges) == 0){\n",
    "            return(c('p' = p, 'rf_accuracy' = tmp$rf_accuracy, 'n_decisions' = 0\n",
    "                , 'tp_imp' = 0, 'fp_imp' = 0, 'tp' = 0, 'fp' = 0, 'fn' = 0))\n",
    "        }\n",
    "\n",
    "        # those that should not be but are = in pred_edges but not truth\n",
    "        tp <- which(sapply(pred_edges, function(x){x %in% true_edges}))\n",
    "        fp <- which(sapply(pred_edges, function(x){!(x %in% true_edges)}))\n",
    "        fn <- sum(sapply(true_edges, function(x){!(x %in% pred_edges)}))\n",
    "\n",
    "        # sum of FP importances\n",
    "        if(length(fp) > 0) {\n",
    "            fp_imp <- sum(sapply(imp_edges[fp], function(x){as.numeric(x['importance'])}))\n",
    "        } else {fp_imp <- 0}\n",
    "        # sum of TP importances\n",
    "        if(length(tp) > 0) {\n",
    "            tp_imp <- sum(sapply(imp_edges[tp], function(x){as.numeric(x['importance'])}))\n",
    "        } else {tp_imp <- 0}\n",
    "\n",
    "        res <- c('rf_accuracy' = tmp$rf_accuracy, 'n_decisions' = length(cond)\n",
    "                , 'tp_imp' = tp_imp, 'fp_imp' = fp_imp, 'tp' = length(tp), 'fp' = length(fp)\n",
    "                , 'fn' = fn)\n",
    "    } else {\n",
    "        res <- c('rf_accuracy' = tmp$rf_accuracy, 'n_decisions' = 0\n",
    "                , 'tp_imp' = 0, 'fp_imp' = 0, 'tp' = 0, 'fp' = 0, 'fn' = 0)\n",
    "    }\n",
    "    \n",
    "    return(res)\n",
    "}"
   ]
  },
  {
   "cell_type": "code",
   "execution_count": 27,
   "metadata": {
    "ExecuteTime": {
     "end_time": "2021-04-02T09:20:23.449654Z",
     "start_time": "2021-04-02T09:20:19.506Z"
    }
   },
   "outputs": [],
   "source": [
    "true_edges <- readRDS('true_edges.RDS') %>% lapply(sort) %>% sapply(paste, collapse = ' - ')"
   ]
  },
  {
   "cell_type": "code",
   "execution_count": 28,
   "metadata": {
    "ExecuteTime": {
     "end_time": "2021-04-02T09:22:07.525724Z",
     "start_time": "2021-04-02T09:20:40.476Z"
    }
   },
   "outputs": [],
   "source": [
    "check <- sapply(fnames, getRes, true_edges = true_edges)\n",
    "check <- as.data.frame(t(check))\n",
    "#add the number of observations\n",
    "check$N <- str_extract(rownames(check), pattern = '[:digit:]+(?=\\\\_B)') %>% as.numeric"
   ]
  },
  {
   "cell_type": "code",
   "execution_count": 29,
   "metadata": {
    "ExecuteTime": {
     "end_time": "2021-04-02T09:22:07.546684Z",
     "start_time": "2021-04-02T09:20:45.609Z"
    }
   },
   "outputs": [],
   "source": [
    "check <- check %>% mutate_all(as.numeric)"
   ]
  },
  {
   "cell_type": "code",
   "execution_count": 30,
   "metadata": {
    "ExecuteTime": {
     "end_time": "2021-04-02T09:22:07.565204Z",
     "start_time": "2021-04-02T09:20:45.854Z"
    }
   },
   "outputs": [],
   "source": [
    "check$precision <- check$tp/(check$tp+check$fp)\n",
    "check$recall <- check$tp/(check$tp+check$fn)\n",
    "check$w_precision <- check$tp_imp/(check$tp_imp+check$fp_imp)"
   ]
  },
  {
   "cell_type": "code",
   "execution_count": 32,
   "metadata": {
    "ExecuteTime": {
     "end_time": "2021-04-02T09:22:50.322787Z",
     "start_time": "2021-04-02T09:22:46.374Z"
    }
   },
   "outputs": [],
   "source": [
    "check[is.na(check)] <- 0"
   ]
  },
  {
   "cell_type": "code",
   "execution_count": 33,
   "metadata": {
    "ExecuteTime": {
     "end_time": "2021-04-02T09:22:51.279414Z",
     "start_time": "2021-04-02T09:22:47.306Z"
    }
   },
   "outputs": [
    {
     "data": {
      "text/html": [
       "<table class=\"dataframe\">\n",
       "<caption>A tibble: 4 × 11</caption>\n",
       "<thead>\n",
       "\t<tr><th scope=col>N</th><th scope=col>rf_accuracy</th><th scope=col>n_decisions</th><th scope=col>tp</th><th scope=col>fp</th><th scope=col>fn</th><th scope=col>tp_imp</th><th scope=col>fp_imp</th><th scope=col>precision</th><th scope=col>recall</th><th scope=col>w_precision</th></tr>\n",
       "\t<tr><th scope=col>&lt;dbl&gt;</th><th scope=col>&lt;dbl&gt;</th><th scope=col>&lt;dbl&gt;</th><th scope=col>&lt;dbl&gt;</th><th scope=col>&lt;dbl&gt;</th><th scope=col>&lt;dbl&gt;</th><th scope=col>&lt;dbl&gt;</th><th scope=col>&lt;dbl&gt;</th><th scope=col>&lt;dbl&gt;</th><th scope=col>&lt;dbl&gt;</th><th scope=col>&lt;dbl&gt;</th></tr>\n",
       "</thead>\n",
       "<tbody>\n",
       "\t<tr><td> 200</td><td>0.679550</td><td> 0.85</td><td>0.76</td><td>0.52</td><td>5.44</td><td> 7.371502</td><td>0.6143712</td><td>0.4892619</td><td>0.076</td><td>0.5163549</td></tr>\n",
       "\t<tr><td> 800</td><td>0.810575</td><td> 4.78</td><td>4.54</td><td>4.20</td><td>5.46</td><td>39.329230</td><td>3.9671471</td><td>0.5959556</td><td>0.454</td><td>0.8910415</td></tr>\n",
       "\t<tr><td>1000</td><td>0.833440</td><td> 5.81</td><td>5.31</td><td>5.24</td><td>4.69</td><td>42.086573</td><td>5.3772004</td><td>0.5767208</td><td>0.531</td><td>0.8648359</td></tr>\n",
       "\t<tr><td>5000</td><td>0.924990</td><td>10.51</td><td>9.87</td><td>9.88</td><td>0.14</td><td>20.179236</td><td>1.8341602</td><td>0.5486049</td><td>0.986</td><td>0.9265236</td></tr>\n",
       "</tbody>\n",
       "</table>\n"
      ],
      "text/latex": [
       "A tibble: 4 × 11\n",
       "\\begin{tabular}{lllllllllll}\n",
       " N & rf\\_accuracy & n\\_decisions & tp & fp & fn & tp\\_imp & fp\\_imp & precision & recall & w\\_precision\\\\\n",
       " <dbl> & <dbl> & <dbl> & <dbl> & <dbl> & <dbl> & <dbl> & <dbl> & <dbl> & <dbl> & <dbl>\\\\\n",
       "\\hline\n",
       "\t  200 & 0.679550 &  0.85 & 0.76 & 0.52 & 5.44 &  7.371502 & 0.6143712 & 0.4892619 & 0.076 & 0.5163549\\\\\n",
       "\t  800 & 0.810575 &  4.78 & 4.54 & 4.20 & 5.46 & 39.329230 & 3.9671471 & 0.5959556 & 0.454 & 0.8910415\\\\\n",
       "\t 1000 & 0.833440 &  5.81 & 5.31 & 5.24 & 4.69 & 42.086573 & 5.3772004 & 0.5767208 & 0.531 & 0.8648359\\\\\n",
       "\t 5000 & 0.924990 & 10.51 & 9.87 & 9.88 & 0.14 & 20.179236 & 1.8341602 & 0.5486049 & 0.986 & 0.9265236\\\\\n",
       "\\end{tabular}\n"
      ],
      "text/markdown": [
       "\n",
       "A tibble: 4 × 11\n",
       "\n",
       "| N &lt;dbl&gt; | rf_accuracy &lt;dbl&gt; | n_decisions &lt;dbl&gt; | tp &lt;dbl&gt; | fp &lt;dbl&gt; | fn &lt;dbl&gt; | tp_imp &lt;dbl&gt; | fp_imp &lt;dbl&gt; | precision &lt;dbl&gt; | recall &lt;dbl&gt; | w_precision &lt;dbl&gt; |\n",
       "|---|---|---|---|---|---|---|---|---|---|---|\n",
       "|  200 | 0.679550 |  0.85 | 0.76 | 0.52 | 5.44 |  7.371502 | 0.6143712 | 0.4892619 | 0.076 | 0.5163549 |\n",
       "|  800 | 0.810575 |  4.78 | 4.54 | 4.20 | 5.46 | 39.329230 | 3.9671471 | 0.5959556 | 0.454 | 0.8910415 |\n",
       "| 1000 | 0.833440 |  5.81 | 5.31 | 5.24 | 4.69 | 42.086573 | 5.3772004 | 0.5767208 | 0.531 | 0.8648359 |\n",
       "| 5000 | 0.924990 | 10.51 | 9.87 | 9.88 | 0.14 | 20.179236 | 1.8341602 | 0.5486049 | 0.986 | 0.9265236 |\n",
       "\n"
      ],
      "text/plain": [
       "  N    rf_accuracy n_decisions tp   fp   fn   tp_imp    fp_imp    precision\n",
       "1  200 0.679550     0.85       0.76 0.52 5.44  7.371502 0.6143712 0.4892619\n",
       "2  800 0.810575     4.78       4.54 4.20 5.46 39.329230 3.9671471 0.5959556\n",
       "3 1000 0.833440     5.81       5.31 5.24 4.69 42.086573 5.3772004 0.5767208\n",
       "4 5000 0.924990    10.51       9.87 9.88 0.14 20.179236 1.8341602 0.5486049\n",
       "  recall w_precision\n",
       "1 0.076  0.5163549  \n",
       "2 0.454  0.8910415  \n",
       "3 0.531  0.8648359  \n",
       "4 0.986  0.9265236  "
      ]
     },
     "metadata": {},
     "output_type": "display_data"
    }
   ],
   "source": [
    "check %>% group_by(N) %>% summarise_all(mean) %>% #subset(N != 1000) %>% \n",
    "select(N, rf_accuracy, n_decisions, tp, fp, fn, tp_imp, fp_imp, precision, recall, w_precision) "
   ]
  },
  {
   "cell_type": "code",
   "execution_count": 34,
   "metadata": {
    "ExecuteTime": {
     "end_time": "2021-04-02T09:22:57.338705Z",
     "start_time": "2021-04-02T09:22:53.359Z"
    }
   },
   "outputs": [
    {
     "data": {
      "text/html": [
       "<table class=\"dataframe\">\n",
       "<caption>A tibble: 4 × 11</caption>\n",
       "<thead>\n",
       "\t<tr><th scope=col>N</th><th scope=col>rf_accuracy</th><th scope=col>n_decisions</th><th scope=col>tp</th><th scope=col>fp</th><th scope=col>fn</th><th scope=col>tp_imp</th><th scope=col>fp_imp</th><th scope=col>precision</th><th scope=col>recall</th><th scope=col>w_precision</th></tr>\n",
       "\t<tr><th scope=col>&lt;dbl&gt;</th><th scope=col>&lt;dbl&gt;</th><th scope=col>&lt;dbl&gt;</th><th scope=col>&lt;dbl&gt;</th><th scope=col>&lt;dbl&gt;</th><th scope=col>&lt;dbl&gt;</th><th scope=col>&lt;dbl&gt;</th><th scope=col>&lt;dbl&gt;</th><th scope=col>&lt;dbl&gt;</th><th scope=col>&lt;dbl&gt;</th><th scope=col>&lt;dbl&gt;</th></tr>\n",
       "</thead>\n",
       "<tbody>\n",
       "\t<tr><td> 200</td><td>0.040985924</td><td>0.857233</td><td>0.8659671</td><td>1.243001</td><td>4.3259144</td><td>10.072174</td><td>2.127240</td><td>0.4789001</td><td>0.08659671</td><td>0.48387909</td></tr>\n",
       "\t<tr><td> 800</td><td>0.018964197</td><td>2.307563</td><td>2.0519515</td><td>4.099766</td><td>2.0519515</td><td>25.555485</td><td>4.344745</td><td>0.2685530</td><td>0.20519515</td><td>0.11852793</td></tr>\n",
       "\t<tr><td>1000</td><td>0.016621952</td><td>2.676856</td><td>2.1959329</td><td>4.653922</td><td>2.1959329</td><td>27.084059</td><td>4.954113</td><td>0.2724472</td><td>0.21959329</td><td>0.12086530</td></tr>\n",
       "\t<tr><td>5000</td><td>0.004457872</td><td>2.245062</td><td>0.3666667</td><td>5.939561</td><td>0.3487351</td><td> 7.084747</td><td>1.625525</td><td>0.1761171</td><td>0.03487351</td><td>0.05488979</td></tr>\n",
       "</tbody>\n",
       "</table>\n"
      ],
      "text/latex": [
       "A tibble: 4 × 11\n",
       "\\begin{tabular}{lllllllllll}\n",
       " N & rf\\_accuracy & n\\_decisions & tp & fp & fn & tp\\_imp & fp\\_imp & precision & recall & w\\_precision\\\\\n",
       " <dbl> & <dbl> & <dbl> & <dbl> & <dbl> & <dbl> & <dbl> & <dbl> & <dbl> & <dbl> & <dbl>\\\\\n",
       "\\hline\n",
       "\t  200 & 0.040985924 & 0.857233 & 0.8659671 & 1.243001 & 4.3259144 & 10.072174 & 2.127240 & 0.4789001 & 0.08659671 & 0.48387909\\\\\n",
       "\t  800 & 0.018964197 & 2.307563 & 2.0519515 & 4.099766 & 2.0519515 & 25.555485 & 4.344745 & 0.2685530 & 0.20519515 & 0.11852793\\\\\n",
       "\t 1000 & 0.016621952 & 2.676856 & 2.1959329 & 4.653922 & 2.1959329 & 27.084059 & 4.954113 & 0.2724472 & 0.21959329 & 0.12086530\\\\\n",
       "\t 5000 & 0.004457872 & 2.245062 & 0.3666667 & 5.939561 & 0.3487351 &  7.084747 & 1.625525 & 0.1761171 & 0.03487351 & 0.05488979\\\\\n",
       "\\end{tabular}\n"
      ],
      "text/markdown": [
       "\n",
       "A tibble: 4 × 11\n",
       "\n",
       "| N &lt;dbl&gt; | rf_accuracy &lt;dbl&gt; | n_decisions &lt;dbl&gt; | tp &lt;dbl&gt; | fp &lt;dbl&gt; | fn &lt;dbl&gt; | tp_imp &lt;dbl&gt; | fp_imp &lt;dbl&gt; | precision &lt;dbl&gt; | recall &lt;dbl&gt; | w_precision &lt;dbl&gt; |\n",
       "|---|---|---|---|---|---|---|---|---|---|---|\n",
       "|  200 | 0.040985924 | 0.857233 | 0.8659671 | 1.243001 | 4.3259144 | 10.072174 | 2.127240 | 0.4789001 | 0.08659671 | 0.48387909 |\n",
       "|  800 | 0.018964197 | 2.307563 | 2.0519515 | 4.099766 | 2.0519515 | 25.555485 | 4.344745 | 0.2685530 | 0.20519515 | 0.11852793 |\n",
       "| 1000 | 0.016621952 | 2.676856 | 2.1959329 | 4.653922 | 2.1959329 | 27.084059 | 4.954113 | 0.2724472 | 0.21959329 | 0.12086530 |\n",
       "| 5000 | 0.004457872 | 2.245062 | 0.3666667 | 5.939561 | 0.3487351 |  7.084747 | 1.625525 | 0.1761171 | 0.03487351 | 0.05488979 |\n",
       "\n"
      ],
      "text/plain": [
       "  N    rf_accuracy n_decisions tp        fp       fn        tp_imp    fp_imp  \n",
       "1  200 0.040985924 0.857233    0.8659671 1.243001 4.3259144 10.072174 2.127240\n",
       "2  800 0.018964197 2.307563    2.0519515 4.099766 2.0519515 25.555485 4.344745\n",
       "3 1000 0.016621952 2.676856    2.1959329 4.653922 2.1959329 27.084059 4.954113\n",
       "4 5000 0.004457872 2.245062    0.3666667 5.939561 0.3487351  7.084747 1.625525\n",
       "  precision recall     w_precision\n",
       "1 0.4789001 0.08659671 0.48387909 \n",
       "2 0.2685530 0.20519515 0.11852793 \n",
       "3 0.2724472 0.21959329 0.12086530 \n",
       "4 0.1761171 0.03487351 0.05488979 "
      ]
     },
     "metadata": {},
     "output_type": "display_data"
    }
   ],
   "source": [
    "check %>% group_by(N) %>% summarise_all(sd) %>% #subset(N != 1000) %>% \n",
    "select(N, rf_accuracy, n_decisions, tp, fp, fn, tp_imp, fp_imp, precision, recall, w_precision) "
   ]
  },
  {
   "cell_type": "code",
   "execution_count": 35,
   "metadata": {
    "ExecuteTime": {
     "end_time": "2021-04-02T09:22:59.335025Z",
     "start_time": "2021-04-02T09:22:55.368Z"
    }
   },
   "outputs": [
    {
     "data": {
      "text/html": [
       "<table class=\"dataframe\">\n",
       "<caption>A data.frame: 4 × 2</caption>\n",
       "<thead>\n",
       "\t<tr><th scope=col>N</th><th scope=col>n</th></tr>\n",
       "\t<tr><th scope=col>&lt;dbl&gt;</th><th scope=col>&lt;int&gt;</th></tr>\n",
       "</thead>\n",
       "<tbody>\n",
       "\t<tr><td> 200</td><td>100</td></tr>\n",
       "\t<tr><td> 800</td><td>100</td></tr>\n",
       "\t<tr><td>1000</td><td>100</td></tr>\n",
       "\t<tr><td>5000</td><td>100</td></tr>\n",
       "</tbody>\n",
       "</table>\n"
      ],
      "text/latex": [
       "A data.frame: 4 × 2\n",
       "\\begin{tabular}{ll}\n",
       " N & n\\\\\n",
       " <dbl> & <int>\\\\\n",
       "\\hline\n",
       "\t  200 & 100\\\\\n",
       "\t  800 & 100\\\\\n",
       "\t 1000 & 100\\\\\n",
       "\t 5000 & 100\\\\\n",
       "\\end{tabular}\n"
      ],
      "text/markdown": [
       "\n",
       "A data.frame: 4 × 2\n",
       "\n",
       "| N &lt;dbl&gt; | n &lt;int&gt; |\n",
       "|---|---|\n",
       "|  200 | 100 |\n",
       "|  800 | 100 |\n",
       "| 1000 | 100 |\n",
       "| 5000 | 100 |\n",
       "\n"
      ],
      "text/plain": [
       "  N    n  \n",
       "1  200 100\n",
       "2  800 100\n",
       "3 1000 100\n",
       "4 5000 100"
      ]
     },
     "metadata": {},
     "output_type": "display_data"
    }
   ],
   "source": [
    "check %>% count(N)"
   ]
  },
  {
   "cell_type": "code",
   "execution_count": null,
   "metadata": {},
   "outputs": [],
   "source": []
  }
 ],
 "metadata": {
  "kernelspec": {
   "display_name": "R [conda env:Metagenomes_methanogen-r-ml] *",
   "language": "R",
   "name": "conda-env-Metagenomes_methanogen-r-ml-r"
  },
  "language_info": {
   "codemirror_mode": "r",
   "file_extension": ".r",
   "mimetype": "text/x-r-source",
   "name": "R",
   "pygments_lexer": "r",
   "version": "4.0.3"
  },
  "notify_time": "30",
  "toc": {
   "base_numbering": 1,
   "nav_menu": {},
   "number_sections": true,
   "sideBar": true,
   "skip_h1_title": false,
   "title_cell": "Table of Contents",
   "title_sidebar": "Contents",
   "toc_cell": false,
   "toc_position": {
    "height": "calc(100% - 180px)",
    "left": "10px",
    "top": "150px",
    "width": "165px"
   },
   "toc_section_display": true,
   "toc_window_display": true
  }
 },
 "nbformat": 4,
 "nbformat_minor": 4
}
