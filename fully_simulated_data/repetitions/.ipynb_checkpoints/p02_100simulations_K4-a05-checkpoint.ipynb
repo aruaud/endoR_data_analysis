{
 "cells": [
  {
   "cell_type": "markdown",
   "metadata": {},
   "source": [
    "# Preambule"
   ]
  },
  {
   "cell_type": "markdown",
   "metadata": {
    "heading_collapsed": true
   },
   "source": [
    "## libraries"
   ]
  },
  {
   "cell_type": "code",
   "execution_count": 1,
   "metadata": {
    "ExecuteTime": {
     "end_time": "2020-11-11T20:14:21.234703Z",
     "start_time": "2020-11-11T20:14:14.679Z"
    },
    "hidden": true
   },
   "outputs": [
    {
     "name": "stderr",
     "output_type": "stream",
     "text": [
      "Loading required package: lattice\n",
      "\n",
      "Loading required package: ggplot2\n",
      "\n",
      "Loading required package: viridisLite\n",
      "\n",
      "\n",
      "Attaching package: ‘igraph’\n",
      "\n",
      "\n",
      "The following objects are masked from ‘package:stats’:\n",
      "\n",
      "    decompose, spectrum\n",
      "\n",
      "\n",
      "The following object is masked from ‘package:base’:\n",
      "\n",
      "    union\n",
      "\n",
      "\n",
      "\n",
      "Attaching package: ‘scales’\n",
      "\n",
      "\n",
      "The following object is masked from ‘package:viridis’:\n",
      "\n",
      "    viridis_pal\n",
      "\n",
      "\n",
      "\n",
      "Attaching package: ‘dplyr’\n",
      "\n",
      "\n",
      "The following objects are masked from ‘package:igraph’:\n",
      "\n",
      "    as_data_frame, groups, union\n",
      "\n",
      "\n",
      "The following objects are masked from ‘package:data.table’:\n",
      "\n",
      "    between, first, last\n",
      "\n",
      "\n",
      "The following objects are masked from ‘package:stats’:\n",
      "\n",
      "    filter, lag\n",
      "\n",
      "\n",
      "The following objects are masked from ‘package:base’:\n",
      "\n",
      "    intersect, setdiff, setequal, union\n",
      "\n",
      "\n",
      "Registered S3 method overwritten by 'randomForest':\n",
      "  method      from\n",
      "  plot.margin RRF \n",
      "\n",
      "randomForest 4.6-14\n",
      "\n",
      "Type rfNews() to see new features/changes/bug fixes.\n",
      "\n",
      "\n",
      "Attaching package: ‘randomForest’\n",
      "\n",
      "\n",
      "The following object is masked from ‘package:dplyr’:\n",
      "\n",
      "    combine\n",
      "\n",
      "\n",
      "The following object is masked from ‘package:ggplot2’:\n",
      "\n",
      "    margin\n",
      "\n",
      "\n",
      "qs v0.23.1. See ChangeLog for update details.\n",
      "\n"
     ]
    }
   ],
   "source": [
    "library(parallel)\n",
    "library(caret)\n",
    "library(viridis)\n",
    "library(data.table)\n",
    "library(igraph)\n",
    "library(ggraph)\n",
    "library(stringr)\n",
    "library(scales)\n",
    "library(dplyr)\n",
    "library(\"inTrees\")\n",
    "library(randomForest)\n",
    "library(qs)"
   ]
  },
  {
   "cell_type": "code",
   "execution_count": 2,
   "metadata": {
    "ExecuteTime": {
     "end_time": "2020-11-11T20:14:21.539561Z",
     "start_time": "2020-11-11T20:14:18.640Z"
    },
    "hidden": true
   },
   "outputs": [
    {
     "name": "stderr",
     "output_type": "stream",
     "text": [
      "Warning message:\n",
      "“replacing previous import ‘dplyr::last’ by ‘data.table::last’ when loading ‘babR’”\n",
      "Warning message:\n",
      "“replacing previous import ‘dplyr::between’ by ‘data.table::between’ when loading ‘babR’”\n",
      "Warning message:\n",
      "“replacing previous import ‘dplyr::first’ by ‘data.table::first’ when loading ‘babR’”\n"
     ]
    }
   ],
   "source": [
    "#detach(\"package:babR\", unload=TRUE)\n",
    "library(babR)"
   ]
  },
  {
   "cell_type": "code",
   "execution_count": 3,
   "metadata": {
    "ExecuteTime": {
     "end_time": "2020-11-11T20:14:21.660550Z",
     "start_time": "2020-11-11T20:14:19.071Z"
    },
    "hidden": true
   },
   "outputs": [
    {
     "data": {
      "text/plain": [
       "R version 3.6.3 (2020-02-29)\n",
       "Platform: x86_64-conda-linux-gnu (64-bit)\n",
       "Running under: Ubuntu 18.04.5 LTS\n",
       "\n",
       "Matrix products: default\n",
       "BLAS/LAPACK: /ebio/abt3_projects/Methanogen_SCFA/Metagenomes_methanogen/envs/r-ml/lib/libopenblasp-r0.3.12.so\n",
       "\n",
       "locale:\n",
       " [1] LC_CTYPE=en_US.UTF-8       LC_NUMERIC=C              \n",
       " [3] LC_TIME=en_US.UTF-8        LC_COLLATE=en_US.UTF-8    \n",
       " [5] LC_MONETARY=en_US.UTF-8    LC_MESSAGES=en_US.UTF-8   \n",
       " [7] LC_PAPER=en_US.UTF-8       LC_NAME=C                 \n",
       " [9] LC_ADDRESS=C               LC_TELEPHONE=C            \n",
       "[11] LC_MEASUREMENT=en_US.UTF-8 LC_IDENTIFICATION=C       \n",
       "\n",
       "attached base packages:\n",
       "[1] parallel  stats     graphics  grDevices utils     datasets  methods  \n",
       "[8] base     \n",
       "\n",
       "other attached packages:\n",
       " [1] babR_0.0.0.9000     qs_0.23.3           randomForest_4.6-14\n",
       " [4] inTrees_1.2         dplyr_1.0.2         scales_1.1.1       \n",
       " [7] stringr_1.4.0       ggraph_2.0.3        igraph_1.2.6       \n",
       "[10] data.table_1.13.2   viridis_0.5.1       viridisLite_0.3.0  \n",
       "[13] caret_6.0-83        ggplot2_3.3.2       lattice_0.20-41    \n",
       "\n",
       "loaded via a namespace (and not attached):\n",
       " [1] tidyr_1.1.2          tidygraph_1.2.0      jsonlite_1.7.1      \n",
       " [4] splines_3.6.3        foreach_1.5.1        prodlim_2019.11.13  \n",
       " [7] RcppParallel_5.0.2   stats4_3.6.3         arules_1.6-6        \n",
       "[10] ggrepel_0.8.2        ipred_0.9-9          pillar_1.4.6        \n",
       "[13] glue_1.4.2           uuid_0.1-4           digest_0.6.27       \n",
       "[16] polyclip_1.10-0      RRF_1.9.1            colorspace_1.4-1    \n",
       "[19] stringfish_0.14.2    recipes_0.1.14       gbm_2.1.8           \n",
       "[22] htmltools_0.5.0      Matrix_1.2-18        plyr_1.8.6          \n",
       "[25] timeDate_3043.102    pkgconfig_2.0.3      purrr_0.3.4         \n",
       "[28] xtable_1.8-4         tweenr_1.0.1         gower_0.2.2         \n",
       "[31] lava_1.6.8           RApiSerialize_0.1.0  ggforce_0.3.2       \n",
       "[34] tibble_3.0.4         generics_0.1.0       farver_2.0.3        \n",
       "[37] xgboost_1.2.0.1      ellipsis_0.3.1       withr_2.3.0         \n",
       "[40] repr_1.1.0           nnet_7.3-14          survival_3.2-7      \n",
       "[43] magrittr_1.5         crayon_1.3.4         evaluate_0.14       \n",
       "[46] nlme_3.1-150         MASS_7.3-53          class_7.3-17        \n",
       "[49] tools_3.6.3          lifecycle_0.2.0      munsell_0.5.0       \n",
       "[52] compiler_3.6.3       rlang_0.4.8          grid_3.6.3          \n",
       "[55] pbdZMQ_0.3-3.1       iterators_1.0.13     IRkernel_1.1.1      \n",
       "[58] base64enc_0.1-3      gtable_0.3.0         ModelMetrics_1.2.2.2\n",
       "[61] codetools_0.2-17     reshape2_1.4.4       graphlayouts_0.7.1  \n",
       "[64] R6_2.5.0             gridExtra_2.3        lubridate_1.7.9     \n",
       "[67] stringi_1.5.3        IRdisplay_0.7.0      Rcpp_1.0.5          \n",
       "[70] vctrs_0.3.4          rpart_4.1-15         tidyselect_1.1.0    "
      ]
     },
     "metadata": {},
     "output_type": "display_data"
    }
   ],
   "source": [
    "sessionInfo()"
   ]
  },
  {
   "cell_type": "markdown",
   "metadata": {
    "heading_collapsed": true
   },
   "source": [
    "## clustermq"
   ]
  },
  {
   "cell_type": "code",
   "execution_count": 4,
   "metadata": {
    "ExecuteTime": {
     "end_time": "2020-11-11T20:14:22.704540Z",
     "start_time": "2020-11-11T20:14:22.052Z"
    },
    "hidden": true
   },
   "outputs": [],
   "source": [
    "library(clustermq)\n",
    "options(clustermq.scheduler = \"sge\", clustermq.template = \"~/.clustermq.tmpl\")"
   ]
  },
  {
   "cell_type": "code",
   "execution_count": 6,
   "metadata": {
    "ExecuteTime": {
     "end_time": "2020-11-11T20:14:32.962260Z",
     "start_time": "2020-11-11T20:14:32.301Z"
    },
    "hidden": true
   },
   "outputs": [],
   "source": [
    "n_cores <- 25\n",
    "tmpl <- list(conda = \"r-ml\", cores = n_cores, job_time = '24:00:00', job_mem = '10G')"
   ]
  },
  {
   "cell_type": "markdown",
   "metadata": {},
   "source": [
    "# Functions"
   ]
  },
  {
   "cell_type": "code",
   "execution_count": 7,
   "metadata": {
    "ExecuteTime": {
     "end_time": "2020-11-11T20:14:42.842961Z",
     "start_time": "2020-11-11T20:14:42.345Z"
    }
   },
   "outputs": [],
   "source": [
    "getSimulations <- function(nr = 5000, v_tosamp, prandom = 0.2, seedOri=1){\n",
    "    simu <- data.table(tmp = 1:nr)\n",
    "    \n",
    "    # get the vectors\n",
    "    for (j in 1:12){\n",
    "        set.seed(seedOri*j + seedOri)\n",
    "        set(simu, NULL, paste0('V',j), value = sample(v_tosamp, size = nr, replace = TRUE))\n",
    "    }\n",
    "    simu <- simu[,tmp:=NULL]\n",
    "    \n",
    "    # get the target\n",
    "    set(simu, 1:(0.25*nr), 'target', simu[[1]][ 1:(0.25*nr) ]*simu[[2]][ 1:(0.25*nr) ] )\n",
    "    set(simu, 1:(0.25*nr), 'group', 'a')\n",
    "\n",
    "    set(simu, (0.25*nr+1):(0.5*nr), 'target', simu[[3]][ (0.25*nr+1):(0.5*nr) ])\n",
    "    set(simu, (0.25*nr+1):(0.5*nr), 'group', 'b')\n",
    "\n",
    "    set(simu, (0.5*nr+1):(0.75*nr), 'target', simu[[4]][(0.5*nr+1):(0.75*nr) ]+simu[[5]][ (0.5*nr+1):(0.75*nr) ])\n",
    "    set(simu, (0.5*nr+1):(0.75*nr), 'group', 'c')\n",
    "\n",
    "    set(simu, (0.75*nr+1):nr, 'target', simu[[6]][(0.75*nr+1):nr] - simu[[7]][(0.75*nr+1):nr])\n",
    "    set(simu, (0.75*nr+1):nr, 'group', 'd')\n",
    "    \n",
    "    # randomise\n",
    "    if (prandom > 0){\n",
    "        brnounou <- rbinom(n = nr, size = 1,prob = prandom)\n",
    "        allgroups <- c('a', 'b', 'c', 'd')\n",
    "        for (i in which(brnounou == 1)){\n",
    "            set.seed(seedOri*i + seedOri)\n",
    "            simu <- simu[i, group := sample(x = allgroups[allgroups != simu[['group']][i]],size = 1)]\n",
    "        }\n",
    "    }\n",
    "    \n",
    "    # transform to dummy\n",
    "    dummies <- dummyVars(~ ., data = simu )\n",
    "    dummies <- as.data.table(predict(dummies, newdata = simu ))\n",
    "    dummies <- select(dummies, -target)\n",
    "    \n",
    "    return( list('x' = dummies, 'y' = as.factor(sign(simu$target))) )\n",
    "\n",
    "}"
   ]
  },
  {
   "cell_type": "code",
   "execution_count": 8,
   "metadata": {
    "ExecuteTime": {
     "end_time": "2020-11-11T20:14:43.629339Z",
     "start_time": "2020-11-11T20:14:43.130Z"
    }
   },
   "outputs": [],
   "source": [
    "metricsNet <- function(edges, true_edges, colN){\n",
    "    pred <- unique(select(edges, c('x', 'y')))\n",
    "    pred <- asplit(as.matrix(pred), MARGIN = 1)\n",
    "    \n",
    "    res <- numeric()\n",
    "    # truth: list of vectors of length 2 with the true pairs of associated variables\n",
    "    # pred: same but as predicted by the method\n",
    "    all <- asplit(combn(colN, m = 2), MARGIN = 2)\n",
    "    true_edges <- lapply(true_edges, sort)\n",
    "    pred <- lapply(pred, sort)    \n",
    "    \n",
    "    truth <- sapply(true_edges, function(x){paste(x, collapse = ' - ')})\n",
    "    pred <- sapply(pred, function(x){paste(x, collapse = ' - ')})\n",
    "    \n",
    "    # those that should not be but are = in pred but not truth\n",
    "    fp <- length(which(sapply(pred, function(x, truth){!(x %in% truth)}, truth = truth)))\n",
    "    # those that should be and are\n",
    "    tp <- length(which(sapply(pred, function(x, truth){x %in% truth}, truth = truth)))\n",
    "    # those that should be but are not = in truth but not in pred\n",
    "    fn <- length(which(sapply(truth, function(x, pred){!(x %in% pred)}, pred = pred)))\n",
    "    #\n",
    "    tn <- length(all) - (fp+tp+fn)\n",
    "    \n",
    "    #accuracy:\n",
    "    acc <- (tp+tn)/length(all)\n",
    "    sens <- tp/(tp+fn)\n",
    "    spec <- tn/(tn+fp)\n",
    "    prec <- tp/(tp+fp)\n",
    "    fdr <- fp/(fp+tp)\n",
    "    \n",
    "    res <- c('accuracy' = acc, 'sensitivity' = sens, 'specificity' = spec, 'precision' = prec, 'FDR' = fdr)\n",
    "    return(res)\n",
    "}"
   ]
  },
  {
   "cell_type": "code",
   "execution_count": 9,
   "metadata": {
    "ExecuteTime": {
     "end_time": "2020-11-11T20:14:46.692892Z",
     "start_time": "2020-11-11T20:14:46.193Z"
    }
   },
   "outputs": [],
   "source": [
    "simWrapper <- function(\n",
    "    seedOri, v_tosamp, nr=5000, prandom = 0.2\n",
    "    , times = 10, p = .7\n",
    "    ,discretize = TRUE, K = 4,prune = TRUE\n",
    "    , true_edges, colN, alpha_error = 0.05, minN = 0.7\n",
    "    , in_parallel = TRUE, n_cores = 5\n",
    "    , path = '/ebio/abt3_projects/temp_data/aruaud/100sim_K4/'\n",
    "){\n",
    "    res <- list()\n",
    "    \n",
    "    #simulations\n",
    "    simu <- getSimulations(nr = nr, v_tosamp=v_tosamp, prandom=prandom, seedOri=seedOri)\n",
    "    res$data <- simu\n",
    "    #model\n",
    "    set.seed(0)\n",
    "    rf <- randomForest(y = simu$y, x = simu$x)\n",
    "    # model metrics\n",
    "    res$rf_accuracy <- (rf$confusion[1,1] + rf$confusion[2,2])/nr\n",
    "    tmp <- as.data.frame(rf$importance)\n",
    "    tmp$Feature <- factor(rownames(tmp), levels = rownames(tmp)[order(tmp$MeanDecreaseGini)])\n",
    "    res$FeatureGini <- arrange(tmp, desc(MeanDecreaseGini))\n",
    "    \n",
    "    # network\n",
    "    resampled <- \n",
    "        model2RE_resampling(model = rf, model_type = 'rf', dummy_var = 'group'\n",
    "                     , times = times, p = p\n",
    "                     ,ntree = 'all' \n",
    "                     ,data = simu$x, target = simu$y, classPos = '1'\n",
    "                     ,discretize = discretize, K = K\n",
    "                     ,prune = prune\n",
    "                     ,alpha_error = alpha_error, minN = minN\n",
    "                     ,in_parallel = in_parallel, n_cores = n_cores\n",
    "                    ) \n",
    "    res$decisions <- resampled$stable\n",
    "    #network accuracy \n",
    "    nacc <- metricsNet(resampled$stable$edges, true_edges = true_edges, colN = colN )\n",
    "    res$network_acc <- nacc\n",
    "    fname <- paste0(path, 'simu',seedOri,'.qs')\n",
    "    qsave(x = res, file = fname)\n",
    "    \n",
    "    return(list('rf_accuracy'= res$rf_accuracy, 'network_acc'=res$network_acc))\n",
    "}"
   ]
  },
  {
   "cell_type": "markdown",
   "metadata": {},
   "source": [
    "# Run"
   ]
  },
  {
   "cell_type": "code",
   "execution_count": 10,
   "metadata": {
    "ExecuteTime": {
     "end_time": "2020-11-11T20:14:49.692556Z",
     "start_time": "2020-11-11T20:14:49.082Z"
    }
   },
   "outputs": [],
   "source": [
    "set.seed(0)\n",
    "v_tosamp <- rnorm(n = 1e6, mean = 0.5, sd = 1)\n",
    "true_edges <- readRDS('/ebio/abt3_projects/Methanogen_SCFA/Metagenomes_methanogen/RF_coocc/RF_coocc/tmp/true_edgesK4.RDS')"
   ]
  },
  {
   "cell_type": "code",
   "execution_count": 11,
   "metadata": {
    "ExecuteTime": {
     "end_time": "2020-11-11T20:14:52.519005Z",
     "start_time": "2020-11-11T20:14:51.790Z"
    }
   },
   "outputs": [],
   "source": [
    "tmp <- getSimulations(nr = 100, v_tosamp=v_tosamp)\n",
    "tmp <- discretizeData(tmp$x, K = 4, return_split = FALSE) \n",
    "notNum <- which(!sapply(tmp, is.numeric))\n",
    "for (j in notNum) set(tmp,i = NULL ,j, paste0('__', tmp[[j]]))\n",
    "data_ctg <- dummyVars( ~ ., data = tmp)\n",
    "data_ctg <- as.data.table(predict(data_ctg, newdata = tmp))\n",
    "for (j in notNum) set(data_ctg,i = NULL ,j, str_replace(data_ctg[[j]], pattern = '^__', replacement = ''))\n",
    "colnames(data_ctg) <- gsub(x = colnames(data_ctg), pattern = \"`\", replacement=\"\")\n",
    "colN <- colnames(data_ctg)"
   ]
  },
  {
   "cell_type": "code",
   "execution_count": 12,
   "metadata": {
    "ExecuteTime": {
     "end_time": "2020-11-12T11:49:41.964563Z",
     "start_time": "2020-11-11T20:15:26.448Z"
    }
   },
   "outputs": [
    {
     "name": "stderr",
     "output_type": "stream",
     "text": [
      "Warning message in (function (...) :\n",
      "“Common data is 7.8 Mb. Recommended limit is  (set by clustermq.data.warning option)”\n",
      "Submitting 100 worker jobs (ID: cmq7217) ...\n",
      "\n",
      "Running 100 calculations (16 objs/7.8 Mb common; 1 calls/chunk) ...\n",
      "\n",
      "\n",
      "[--------------------------------------------------]   0% (1/100 wrk) eta:  ?s\n",
      "\n",
      "[--------------------------------------------------]   0% (2/100 wrk) eta:  ?s\n",
      "\n",
      "[--------------------------------------------------]   0% (3/100 wrk) eta:  ?s\n",
      "\n",
      "[--------------------------------------------------]   0% (4/100 wrk) eta:  ?s\n",
      "\n",
      "[--------------------------------------------------]   0% (5/100 wrk) eta:  ?s\n",
      "\n",
      "[--------------------------------------------------]   0% (6/100 wrk) eta:  ?s\n",
      "\n",
      "[--------------------------------------------------]   0% (7/100 wrk) eta:  ?s\n",
      "\n",
      "[--------------------------------------------------]   0% (8/100 wrk) eta:  ?s\n",
      "\n",
      "[--------------------------------------------------]   0% (9/100 wrk) eta:  ?s\n",
      "\n",
      "[-------------------------------------------------]   0% (10/100 wrk) eta:  ?s\n",
      "\n",
      "[-------------------------------------------------]   0% (11/100 wrk) eta:  ?s\n",
      "\n",
      "[-------------------------------------------------]   1% (11/100 wrk) eta: 10d\n",
      "\n",
      "[>------------------------------------------------]   2% (11/100 wrk) eta:  5d\n",
      "\n",
      "[>------------------------------------------------]   3% (11/100 wrk) eta:  3d\n",
      "\n",
      "[=>-----------------------------------------------]   4% (11/100 wrk) eta:  2d\n",
      "\n",
      "[=>-----------------------------------------------]   5% (11/100 wrk) eta:  2d\n",
      "\n",
      "[==>----------------------------------------------]   6% (11/100 wrk) eta:  2d\n",
      "\n",
      "[==>----------------------------------------------]   7% (11/100 wrk) eta:  1d\n",
      "\n",
      "[===>---------------------------------------------]   8% (11/100 wrk) eta:  1d\n",
      "\n",
      "[===>---------------------------------------------]   9% (11/100 wrk) eta:  1d\n",
      "\n",
      "[====>--------------------------------------------]  10% (11/100 wrk) eta:  1d\n",
      "\n",
      "[====>--------------------------------------------]  11% (11/100 wrk) eta:  2d\n",
      "\n",
      "[=====>-------------------------------------------]  12% (11/100 wrk) eta:  1d\n",
      "\n",
      "[=====>-------------------------------------------]  13% (11/100 wrk) eta:  1d\n",
      "\n",
      "[======>------------------------------------------]  14% (11/100 wrk) eta:  1d\n",
      "\n",
      "[======>------------------------------------------]  15% (11/100 wrk) eta:  1d\n",
      "\n",
      "[=======>-----------------------------------------]  16% (11/100 wrk) eta:  1d\n",
      "\n",
      "[=======>-----------------------------------------]  17% (11/100 wrk) eta:  1d\n",
      "\n",
      "[========>----------------------------------------]  18% (11/100 wrk) eta:  1d\n",
      "\n",
      "[========>----------------------------------------]  19% (11/100 wrk) eta:  1d\n",
      "\n",
      "[=========>---------------------------------------]  20% (11/100 wrk) eta:  1d\n",
      "\n",
      "[=========>---------------------------------------]  21% (11/100 wrk) eta:  1d\n",
      "\n",
      "[=========>---------------------------------------]  21% (12/100 wrk) eta:  1d\n",
      "\n",
      "[==========>--------------------------------------]  22% (12/100 wrk) eta:  1d\n",
      "\n",
      "[==========>--------------------------------------]  23% (12/100 wrk) eta:  1d\n",
      "\n",
      "[===========>-------------------------------------]  24% (12/100 wrk) eta:  1d\n",
      "\n",
      "[===========>-------------------------------------]  25% (12/100 wrk) eta:  1d\n",
      "\n",
      "[============>------------------------------------]  26% (12/100 wrk) eta:  1d\n",
      "\n",
      "[============>------------------------------------]  27% (12/100 wrk) eta:  1d\n",
      "\n",
      "[=============>-----------------------------------]  28% (12/100 wrk) eta:  1d\n",
      "\n",
      "[=============>-----------------------------------]  29% (12/100 wrk) eta:  1d\n",
      "\n",
      "[==============>----------------------------------]  30% (12/100 wrk) eta:  1d\n",
      "\n",
      "[==============>----------------------------------]  31% (12/100 wrk) eta: 18h\n",
      "\n",
      "[===============>---------------------------------]  32% (12/100 wrk) eta: 18h\n",
      "\n",
      "[===============>---------------------------------]  33% (12/100 wrk) eta:  1d\n",
      "\n",
      "[================>--------------------------------]  34% (12/100 wrk) eta:  1d\n",
      "\n",
      "[================>--------------------------------]  35% (12/100 wrk) eta: 18h\n",
      "\n",
      "[=================>-------------------------------]  36% (12/100 wrk) eta: 17h\n",
      "\n",
      "[=================>-------------------------------]  37% (12/100 wrk) eta: 17h\n",
      "\n",
      "[==================>------------------------------]  38% (12/100 wrk) eta: 16h\n",
      "\n",
      "[==================>------------------------------]  39% (12/100 wrk) eta: 16h\n",
      "\n",
      "[===================>-----------------------------]  40% (12/100 wrk) eta: 15h\n",
      "\n",
      "[===================>-----------------------------]  41% (12/100 wrk) eta: 15h\n",
      "\n",
      "[===================>-----------------------------]  41% (13/100 wrk) eta: 15h\n",
      "\n",
      "[===================>-----------------------------]  41% (14/100 wrk) eta: 15h\n",
      "\n",
      "[===================>-----------------------------]  41% (15/100 wrk) eta: 15h\n",
      "\n",
      "[===================>-----------------------------]  41% (16/100 wrk) eta: 15h\n",
      "\n",
      "[===================>-----------------------------]  41% (17/100 wrk) eta: 15h\n",
      "\n",
      "[===================>-----------------------------]  41% (18/100 wrk) eta: 15h\n",
      "\n",
      "[===================>-----------------------------]  41% (19/100 wrk) eta: 15h\n",
      "\n",
      "[===================>-----------------------------]  41% (20/100 wrk) eta: 15h\n",
      "\n",
      "[===================>-----------------------------]  41% (21/100 wrk) eta: 15h\n",
      "\n",
      "[====================>----------------------------]  42% (21/100 wrk) eta: 15h\n",
      "\n",
      "[====================>----------------------------]  43% (21/100 wrk) eta: 14h\n",
      "\n",
      "[====================>----------------------------]  43% (22/100 wrk) eta: 14h\n",
      "\n",
      "[====================>----------------------------]  43% (23/100 wrk) eta: 14h\n",
      "\n",
      "[====================>----------------------------]  43% (24/100 wrk) eta: 14h\n",
      "\n",
      "[====================>----------------------------]  43% (25/100 wrk) eta: 14h\n",
      "\n",
      "[====================>----------------------------]  43% (26/100 wrk) eta: 14h\n",
      "\n",
      "[====================>----------------------------]  43% (27/100 wrk) eta: 14h\n",
      "\n",
      "[====================>----------------------------]  43% (28/100 wrk) eta: 14h\n",
      "\n",
      "[====================>----------------------------]  43% (29/100 wrk) eta: 14h\n",
      "\n",
      "[====================>----------------------------]  43% (30/100 wrk) eta: 14h\n",
      "\n",
      "[====================>----------------------------]  43% (31/100 wrk) eta: 14h\n",
      "\n",
      "[====================>----------------------------]  43% (32/100 wrk) eta: 14h\n",
      "\n",
      "[====================>----------------------------]  43% (33/100 wrk) eta: 14h\n",
      "\n",
      "[=====================>---------------------------]  44% (33/100 wrk) eta: 14h\n",
      "\n",
      "[=====================>---------------------------]  44% (34/100 wrk) eta: 14h\n",
      "\n",
      "[=====================>---------------------------]  44% (35/100 wrk) eta: 14h\n",
      "\n",
      "[=====================>---------------------------]  44% (36/100 wrk) eta: 14h\n",
      "\n",
      "[=====================>---------------------------]  44% (37/100 wrk) eta: 14h\n",
      "\n",
      "[=====================>---------------------------]  44% (38/100 wrk) eta: 14h\n",
      "\n",
      "[=====================>---------------------------]  44% (39/100 wrk) eta: 14h\n",
      "\n",
      "[=====================>---------------------------]  44% (40/100 wrk) eta: 14h\n",
      "\n",
      "[=====================>---------------------------]  44% (41/100 wrk) eta: 14h\n",
      "\n",
      "[=====================>---------------------------]  44% (42/100 wrk) eta: 15h\n",
      "\n",
      "[=====================>---------------------------]  44% (43/100 wrk) eta: 15h\n",
      "\n",
      "[=====================>---------------------------]  44% (44/100 wrk) eta: 15h\n",
      "\n",
      "[=====================>---------------------------]  44% (45/100 wrk) eta: 15h\n",
      "\n",
      "[=====================>---------------------------]  44% (46/100 wrk) eta: 15h\n",
      "\n",
      "[=====================>---------------------------]  45% (46/100 wrk) eta: 14h\n",
      "\n",
      "[=====================>---------------------------]  45% (47/100 wrk) eta: 14h\n",
      "\n",
      "[=====================>---------------------------]  45% (48/100 wrk) eta: 15h\n",
      "\n",
      "[======================>--------------------------]  46% (48/100 wrk) eta: 14h\n",
      "\n",
      "[======================>--------------------------]  46% (49/100 wrk) eta: 14h\n",
      "\n",
      "[======================>--------------------------]  46% (50/100 wrk) eta: 14h\n",
      "\n",
      "[======================>--------------------------]  46% (51/100 wrk) eta: 14h\n",
      "\n",
      "[======================>--------------------------]  46% (52/100 wrk) eta: 14h\n",
      "\n",
      "[======================>--------------------------]  46% (53/100 wrk) eta: 14h\n",
      "\n",
      "[======================>--------------------------]  46% (54/100 wrk) eta: 14h\n"
     ]
    },
    {
     "name": "stderr",
     "output_type": "stream",
     "text": [
      "\n",
      "[======================>--------------------------]  46% (55/100 wrk) eta: 14h\n",
      "\n",
      "[======================>---------------------------]  46% (55/99 wrk) eta: 14h\n",
      "\n",
      "[======================>---------------------------]  46% (55/98 wrk) eta: 14h\n",
      "\n",
      "[======================>---------------------------]  46% (55/97 wrk) eta: 14h\n",
      "\n",
      "[======================>---------------------------]  46% (55/96 wrk) eta: 14h\n",
      "\n",
      "[======================>---------------------------]  46% (55/95 wrk) eta: 14h\n",
      "\n",
      "[======================>---------------------------]  46% (55/94 wrk) eta: 14h\n",
      "\n",
      "[======================>---------------------------]  46% (55/93 wrk) eta: 14h\n",
      "\n",
      "[======================>---------------------------]  46% (55/92 wrk) eta: 14h\n",
      "\n",
      "[======================>---------------------------]  46% (55/91 wrk) eta: 14h\n",
      "\n",
      "[======================>---------------------------]  46% (55/90 wrk) eta: 14h\n",
      "\n",
      "[=======================>--------------------------]  47% (55/90 wrk) eta: 14h\n",
      "\n",
      "[=======================>--------------------------]  47% (54/88 wrk) eta: 14h\n",
      "\n",
      "[=======================>--------------------------]  47% (54/87 wrk) eta: 14h\n",
      "\n",
      "[=======================>--------------------------]  47% (55/87 wrk) eta: 14h\n",
      "\n",
      "[=======================>--------------------------]  47% (54/86 wrk) eta: 14h\n",
      "\n",
      "[=======================>--------------------------]  47% (54/85 wrk) eta: 14h\n",
      "\n",
      "[=======================>--------------------------]  47% (54/84 wrk) eta: 14h\n",
      "\n",
      "[=======================>--------------------------]  47% (54/83 wrk) eta: 14h\n",
      "\n",
      "[=======================>--------------------------]  47% (55/83 wrk) eta: 14h\n",
      "\n",
      "[=======================>--------------------------]  47% (54/82 wrk) eta: 14h\n",
      "\n",
      "[=======================>--------------------------]  47% (54/81 wrk) eta: 14h\n",
      "\n",
      "[=======================>--------------------------]  47% (55/81 wrk) eta: 14h\n",
      "\n",
      "[=======================>--------------------------]  47% (54/80 wrk) eta: 14h\n",
      "\n",
      "[=======================>--------------------------]  47% (54/79 wrk) eta: 14h\n",
      "\n",
      "[=======================>--------------------------]  47% (55/79 wrk) eta: 14h\n",
      "\n",
      "[=======================>--------------------------]  47% (54/78 wrk) eta: 14h\n",
      "\n",
      "[=======================>--------------------------]  47% (54/77 wrk) eta: 14h\n",
      "\n",
      "[=======================>--------------------------]  47% (55/77 wrk) eta: 14h\n",
      "\n",
      "[=======================>--------------------------]  47% (54/76 wrk) eta: 14h\n",
      "\n",
      "[=======================>--------------------------]  47% (54/75 wrk) eta: 14h\n",
      "\n",
      "[=======================>--------------------------]  47% (55/75 wrk) eta: 14h\n",
      "\n",
      "[=======================>--------------------------]  47% (54/74 wrk) eta: 14h\n",
      "\n",
      "[=======================>--------------------------]  47% (54/73 wrk) eta: 14h\n",
      "\n",
      "[=======================>--------------------------]  47% (55/73 wrk) eta: 14h\n",
      "\n",
      "[=======================>--------------------------]  47% (54/72 wrk) eta: 14h\n",
      "\n",
      "[=======================>--------------------------]  47% (54/71 wrk) eta: 14h\n",
      "\n",
      "[=======================>--------------------------]  47% (55/71 wrk) eta: 14h\n",
      "\n",
      "[=======================>--------------------------]  47% (54/70 wrk) eta: 14h\n",
      "\n",
      "[=======================>--------------------------]  47% (54/69 wrk) eta: 14h\n",
      "\n",
      "[=======================>--------------------------]  47% (55/69 wrk) eta: 14h\n",
      "\n",
      "[=======================>--------------------------]  47% (54/68 wrk) eta: 14h\n",
      "\n",
      "[=======================>--------------------------]  47% (54/67 wrk) eta: 14h\n",
      "\n",
      "[=======================>--------------------------]  47% (55/67 wrk) eta: 14h\n",
      "\n",
      "[=======================>--------------------------]  47% (54/66 wrk) eta: 14h\n",
      "\n",
      "[=======================>--------------------------]  47% (54/65 wrk) eta: 14h\n",
      "\n",
      "[=======================>--------------------------]  47% (54/64 wrk) eta: 14h\n",
      "\n",
      "[=======================>--------------------------]  47% (54/63 wrk) eta: 14h\n",
      "\n",
      "[=======================>--------------------------]  47% (54/62 wrk) eta: 14h\n",
      "\n",
      "[=======================>--------------------------]  47% (55/62 wrk) eta: 14h\n",
      "\n",
      "[=======================>--------------------------]  47% (54/61 wrk) eta: 14h\n",
      "\n",
      "[=======================>--------------------------]  47% (54/60 wrk) eta: 14h\n",
      "\n",
      "[=======================>--------------------------]  47% (55/60 wrk) eta: 14h\n",
      "\n",
      "[=======================>--------------------------]  47% (54/59 wrk) eta: 14h\n",
      "\n",
      "[=======================>--------------------------]  47% (54/58 wrk) eta: 14h\n",
      "\n",
      "[=======================>--------------------------]  47% (55/58 wrk) eta: 14h\n",
      "\n",
      "[=======================>--------------------------]  47% (54/57 wrk) eta: 14h\n",
      "\n",
      "[=======================>--------------------------]  47% (54/56 wrk) eta: 14h\n",
      "\n",
      "[=======================>--------------------------]  47% (55/56 wrk) eta: 14h\n",
      "\n",
      "[=======================>--------------------------]  47% (54/55 wrk) eta: 14h\n",
      "\n",
      "[=======================>--------------------------]  47% (54/54 wrk) eta: 14h\n",
      "\n",
      "[=======================>--------------------------]  48% (53/53 wrk) eta: 14h\n",
      "\n",
      "[=======================>--------------------------]  49% (52/52 wrk) eta: 13h\n",
      "\n",
      "[========================>-------------------------]  50% (51/51 wrk) eta: 13h\n",
      "\n",
      "[=========================>------------------------]  51% (50/50 wrk) eta: 12h\n",
      "\n",
      "[=========================>------------------------]  52% (49/49 wrk) eta: 12h\n",
      "\n",
      "[=========================>------------------------]  53% (48/48 wrk) eta: 11h\n",
      "\n",
      "[==========================>-----------------------]  54% (47/47 wrk) eta: 11h\n",
      "\n",
      "[===========================>----------------------]  55% (46/46 wrk) eta: 11h\n",
      "\n",
      "[===========================>----------------------]  56% (45/45 wrk) eta: 10h\n",
      "\n",
      "[===========================>----------------------]  57% (44/44 wrk) eta: 10h\n",
      "\n",
      "[============================>---------------------]  58% (43/43 wrk) eta: 10h\n",
      "\n",
      "[=============================>--------------------]  59% (42/42 wrk) eta:  9h\n",
      "\n",
      "[=============================>--------------------]  60% (41/41 wrk) eta:  9h\n",
      "\n",
      "[=============================>--------------------]  61% (40/40 wrk) eta:  9h\n",
      "\n",
      "[==============================>-------------------]  62% (39/39 wrk) eta:  8h\n",
      "\n",
      "[===============================>------------------]  63% (38/38 wrk) eta:  8h\n",
      "\n",
      "[===============================>------------------]  64% (37/37 wrk) eta:  8h\n",
      "\n",
      "[===============================>------------------]  65% (36/36 wrk) eta:  7h\n",
      "\n",
      "[================================>-----------------]  66% (35/35 wrk) eta:  7h\n",
      "\n",
      "[=================================>----------------]  67% (35/35 wrk) eta:  7h\n",
      "\n",
      "[=================================>----------------]  68% (33/33 wrk) eta:  6h\n",
      "\n",
      "[=================================>----------------]  69% (32/32 wrk) eta:  6h\n",
      "\n",
      "[==================================>---------------]  70% (31/31 wrk) eta:  6h\n",
      "\n",
      "[===================================>--------------]  71% (30/30 wrk) eta:  6h\n",
      "\n",
      "[===================================>--------------]  72% (29/29 wrk) eta:  5h\n",
      "\n",
      "[===================================>--------------]  73% (28/28 wrk) eta:  5h\n",
      "\n",
      "[====================================>-------------]  74% (27/27 wrk) eta:  5h\n",
      "\n",
      "[=====================================>------------]  75% (26/26 wrk) eta:  5h\n",
      "\n",
      "[=====================================>------------]  76% (25/25 wrk) eta:  4h\n",
      "\n",
      "[=====================================>------------]  77% (24/24 wrk) eta:  4h\n",
      "\n",
      "[======================================>-----------]  78% (23/23 wrk) eta:  4h\n",
      "\n",
      "[=======================================>----------]  79% (22/22 wrk) eta:  4h\n",
      "\n",
      "[=======================================>----------]  80% (21/21 wrk) eta:  4h\n",
      "\n",
      "[=======================================>----------]  81% (20/20 wrk) eta:  3h\n",
      "\n",
      "[========================================>---------]  82% (19/19 wrk) eta:  3h\n",
      "\n",
      "[=========================================>--------]  83% (18/18 wrk) eta:  3h\n",
      "\n",
      "[=========================================>--------]  84% (17/17 wrk) eta:  3h\n",
      "\n",
      "[=========================================>--------]  85% (16/16 wrk) eta:  2h\n",
      "\n",
      "[==========================================>-------]  86% (15/15 wrk) eta:  2h\n",
      "\n",
      "[===========================================>------]  87% (14/14 wrk) eta:  2h\n",
      "\n",
      "[===========================================>------]  88% (13/13 wrk) eta:  2h\n",
      "\n",
      "[===========================================>------]  89% (12/12 wrk) eta:  2h\n"
     ]
    },
    {
     "name": "stderr",
     "output_type": "stream",
     "text": [
      "\n",
      "[============================================>-----]  90% (11/11 wrk) eta:  2h\n",
      "\n",
      "[=============================================>----]  91% (10/10 wrk) eta:  1h\n",
      "\n",
      "[===============================================>----]  92% (9/9 wrk) eta:  1h\n",
      "\n",
      "[===============================================>----]  93% (8/8 wrk) eta:  1h\n",
      "\n",
      "[================================================>---]  94% (7/7 wrk) eta:  1h\n",
      "\n",
      "[================================================>---]  95% (6/6 wrk) eta: 47m\n",
      "\n",
      "[=================================================>--]  96% (5/5 wrk) eta: 37m\n",
      "\n",
      "[=================================================>--]  97% (4/4 wrk) eta: 28m\n",
      "\n",
      "[==================================================>-]  98% (3/3 wrk) eta: 18m\n",
      "\n",
      "[==================================================>-]  99% (2/2 wrk) eta:  9m\n",
      "\n",
      "[====================================================] 100% (1/1 wrk) eta:  0s\n",
      "                                                                              \n",
      "\n",
      "Master: [56054.6s 0.0% CPU]; Worker: [avg 8.2% CPU, max 11127.5 Mb]\n",
      "\n"
     ]
    }
   ],
   "source": [
    "simu100 <- Q(simWrapper\n",
    "  , seedOri = 1:100\n",
    "  , const=list(v_tosamp = v_tosamp\n",
    "               , nr = 5000, prandom = 0.2\n",
    "               , times = 10, p=.7\n",
    "               ,discretize = TRUE, K = 4\n",
    "               ,prune = TRUE\n",
    "               , true_edges = true_edges, colN = colN, alpha_error = .05, minN = 0.7\n",
    "                , in_parallel = TRUE, n_cores = n_cores\n",
    "               )\n",
    "  , export = list('metricsNet'=metricsNet, 'getSimulations'=getSimulations)\n",
    "  , n_jobs= 100\n",
    "  , pkgs=c('data.table', 'randomForest', 'parallel', 'caret', 'stringr', 'scales', 'dplyr', 'inTrees', 'babR', 'qs')\n",
    "  , log_worker=TRUE\n",
    "  , template = tmpl\n",
    " )"
   ]
  },
  {
   "cell_type": "code",
   "execution_count": 13,
   "metadata": {
    "ExecuteTime": {
     "end_time": "2020-11-12T12:04:39.838597Z",
     "start_time": "2020-11-12T12:04:39.251Z"
    }
   },
   "outputs": [],
   "source": [
    "saveRDS(simu100, '/ebio/abt3_projects/Methanogen_SCFA/Metagenomes_methanogen/RF_coocc/RF_coocc/tmp/p02_100simulations_K4a05.RDS')"
   ]
  },
  {
   "cell_type": "code",
   "execution_count": 5,
   "metadata": {
    "ExecuteTime": {
     "end_time": "2020-10-27T10:25:37.642611Z",
     "start_time": "2020-10-27T10:25:29.778Z"
    },
    "deletable": false,
    "editable": false,
    "run_control": {
     "frozen": true
    }
   },
   "outputs": [],
   "source": [
    "simu100 <- readRDS('/ebio/abt3_projects/Methanogen_SCFA/Metagenomes_methanogen/RF_coocc/RF_coocc/tmp/p02_100simulations.RDS')"
   ]
  },
  {
   "cell_type": "markdown",
   "metadata": {},
   "source": [
    "# Tests.."
   ]
  },
  {
   "cell_type": "code",
   "execution_count": 16,
   "metadata": {
    "ExecuteTime": {
     "end_time": "2020-11-12T12:05:03.404030Z",
     "start_time": "2020-11-12T12:05:02.824Z"
    }
   },
   "outputs": [
    {
     "data": {
      "text/plain": [
       "            Length Class  Mode   \n",
       "rf_accuracy 1      -none- numeric\n",
       "network_acc 5      -none- numeric"
      ]
     },
     "metadata": {},
     "output_type": "display_data"
    }
   ],
   "source": [
    "simu100[[1]] %>% summary"
   ]
  },
  {
   "cell_type": "code",
   "execution_count": 17,
   "metadata": {
    "ExecuteTime": {
     "end_time": "2020-11-12T12:05:46.756615Z",
     "start_time": "2020-11-12T12:05:46.162Z"
    }
   },
   "outputs": [],
   "source": [
    "fonfon <- function(x){\n",
    "    return(c('rf' = x$rf_accuracy, x$network_acc))\n",
    "}"
   ]
  },
  {
   "cell_type": "code",
   "execution_count": 18,
   "metadata": {
    "ExecuteTime": {
     "end_time": "2020-11-12T12:05:56.670405Z",
     "start_time": "2020-11-12T12:05:56.085Z"
    }
   },
   "outputs": [],
   "source": [
    "res <-t( sapply(simu100, fonfon))\n",
    "rownames(res) <- NULL"
   ]
  },
  {
   "cell_type": "code",
   "execution_count": 19,
   "metadata": {
    "ExecuteTime": {
     "end_time": "2020-11-12T12:05:58.066599Z",
     "start_time": "2020-11-12T12:05:57.481Z"
    }
   },
   "outputs": [],
   "source": [
    "res <- as.data.frame(res)"
   ]
  },
  {
   "cell_type": "code",
   "execution_count": 24,
   "metadata": {
    "ExecuteTime": {
     "end_time": "2020-11-12T12:07:12.030343Z",
     "start_time": "2020-11-12T12:07:11.441Z"
    }
   },
   "outputs": [
    {
     "data": {
      "text/plain": [
       "       rf            accuracy       sensitivity      specificity    \n",
       " Min.   :0.8532   Min.   :0.9517   Min.   :0.1333   Min.   :0.9897  \n",
       " 1st Qu.:0.8631   1st Qu.:0.9578   1st Qu.:0.1833   1st Qu.:0.9945  \n",
       " Median :0.8672   Median :0.9600   Median :0.2167   Median :0.9953  \n",
       " Mean   :0.8676   Mean   :0.9603   Mean   :0.2208   Mean   :0.9954  \n",
       " 3rd Qu.:0.8722   3rd Qu.:0.9630   3rd Qu.:0.2500   3rd Qu.:0.9968  \n",
       " Max.   :0.8824   Max.   :0.9683   Max.   :0.3667   Max.   :1.0000  \n",
       "   precision           FDR        \n",
       " Min.   :0.4091   Min.   :0.0000  \n",
       " 1st Qu.:0.6250   1st Qu.:0.2260  \n",
       " Median :0.7143   Median :0.2857  \n",
       " Mean   :0.6958   Mean   :0.3042  \n",
       " 3rd Qu.:0.7740   3rd Qu.:0.3750  \n",
       " Max.   :1.0000   Max.   :0.5909  "
      ]
     },
     "metadata": {},
     "output_type": "display_data"
    }
   ],
   "source": [
    "summary(res)"
   ]
  },
  {
   "cell_type": "code",
   "execution_count": 25,
   "metadata": {
    "ExecuteTime": {
     "end_time": "2020-11-12T12:07:42.185167Z",
     "start_time": "2020-11-12T12:07:41.592Z"
    }
   },
   "outputs": [
    {
     "data": {
      "text/html": [
       "0.00346781285917483"
      ],
      "text/latex": [
       "0.00346781285917483"
      ],
      "text/markdown": [
       "0.00346781285917483"
      ],
      "text/plain": [
       "[1] 0.003467813"
      ]
     },
     "metadata": {},
     "output_type": "display_data"
    }
   ],
   "source": [
    "sd(res$accuracy)"
   ]
  },
  {
   "cell_type": "markdown",
   "metadata": {},
   "source": [
    "# plots"
   ]
  },
  {
   "cell_type": "code",
   "execution_count": 20,
   "metadata": {
    "ExecuteTime": {
     "end_time": "2020-11-12T12:06:04.865858Z",
     "start_time": "2020-11-12T12:06:03.619Z"
    }
   },
   "outputs": [
    {
     "data": {
      "image/png": "[encoded data removed]",
      "text/plain": [
       "plot without title"
      ]
     },
     "metadata": {
      "image/png": {
       "height": 300,
       "width": 300
      }
     },
     "output_type": "display_data"
    }
   ],
   "source": [
    "options(repr.plot.width=5, repr.plot.height=5)\n",
    "ggplot(res, aes(y=accuracy, x = rf))+\n",
    "geom_point(size = 2) + \n",
    "theme_classic() + \n",
    "labs(y = 'network accuracy', y = '')"
   ]
  },
  {
   "cell_type": "code",
   "execution_count": 21,
   "metadata": {
    "ExecuteTime": {
     "end_time": "2020-11-12T12:06:11.187213Z",
     "start_time": "2020-11-12T12:06:10.249Z"
    }
   },
   "outputs": [
    {
     "data": {
      "image/png": "[encoded data removed]",
      "text/plain": [
       "plot without title"
      ]
     },
     "metadata": {
      "image/png": {
       "height": 300,
       "width": 300
      }
     },
     "output_type": "display_data"
    }
   ],
   "source": [
    "options(repr.plot.width=5, repr.plot.height=5)\n",
    "ggplot(res, aes(y=FDR, x = rf))+\n",
    "geom_point(size = 3) + \n",
    "theme_classic() + \n",
    "labs(y = 'FDR', y = '')"
   ]
  },
  {
   "cell_type": "code",
   "execution_count": 23,
   "metadata": {
    "ExecuteTime": {
     "end_time": "2020-11-12T12:06:54.601380Z",
     "start_time": "2020-11-12T12:06:53.699Z"
    }
   },
   "outputs": [
    {
     "data": {
      "image/png": "[encoded data removed]",
      "text/plain": [
       "plot without title"
      ]
     },
     "metadata": {
      "image/png": {
       "height": 300,
       "width": 300
      }
     },
     "output_type": "display_data"
    }
   ],
   "source": [
    "options(repr.plot.width=5, repr.plot.height=5)\n",
    "ggplot(res, aes(y=FDR, x = accuracy))+\n",
    "geom_point() + \n",
    "theme_classic() + \n",
    "labs(x = 'network accuracy')"
   ]
  },
  {
   "cell_type": "code",
   "execution_count": null,
   "metadata": {},
   "outputs": [],
   "source": []
  }
 ],
 "metadata": {
  "kernelspec": {
   "display_name": "R [conda env:Metagenomes_methanogen-r-ml]",
   "language": "R",
   "name": "conda-env-Metagenomes_methanogen-r-ml-r"
  },
  "language_info": {
   "codemirror_mode": "r",
   "file_extension": ".r",
   "mimetype": "text/x-r-source",
   "name": "R",
   "pygments_lexer": "r",
   "version": "3.6.3"
  },
  "notify_time": "30",
  "toc": {
   "base_numbering": 1,
   "nav_menu": {},
   "number_sections": true,
   "sideBar": true,
   "skip_h1_title": false,
   "title_cell": "Table of Contents",
   "title_sidebar": "Contents",
   "toc_cell": false,
   "toc_position": {
    "height": "calc(100% - 180px)",
    "left": "10px",
    "top": "150px",
    "width": "165px"
   },
   "toc_section_display": true,
   "toc_window_display": true
  }
 },
 "nbformat": 4,
 "nbformat_minor": 4
}
