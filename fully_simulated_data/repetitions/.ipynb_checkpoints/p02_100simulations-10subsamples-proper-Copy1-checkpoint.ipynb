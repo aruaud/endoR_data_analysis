{
 "cells": [
  {
   "cell_type": "markdown",
   "metadata": {
    "heading_collapsed": true
   },
   "source": [
    "# Preambule"
   ]
  },
  {
   "cell_type": "markdown",
   "metadata": {
    "heading_collapsed": true,
    "hidden": true
   },
   "source": [
    "## libraries"
   ]
  },
  {
   "cell_type": "code",
   "execution_count": 1,
   "metadata": {
    "ExecuteTime": {
     "end_time": "2020-11-18T18:55:18.662857Z",
     "start_time": "2020-11-18T18:55:13.425Z"
    },
    "hidden": true
   },
   "outputs": [
    {
     "name": "stderr",
     "output_type": "stream",
     "text": [
      "Loading required package: lattice\n",
      "\n",
      "Loading required package: ggplot2\n",
      "\n",
      "Loading required package: viridisLite\n",
      "\n",
      "\n",
      "Attaching package: ‘igraph’\n",
      "\n",
      "\n",
      "The following objects are masked from ‘package:stats’:\n",
      "\n",
      "    decompose, spectrum\n",
      "\n",
      "\n",
      "The following object is masked from ‘package:base’:\n",
      "\n",
      "    union\n",
      "\n",
      "\n",
      "\n",
      "Attaching package: ‘scales’\n",
      "\n",
      "\n",
      "The following object is masked from ‘package:viridis’:\n",
      "\n",
      "    viridis_pal\n",
      "\n",
      "\n",
      "\n",
      "Attaching package: ‘dplyr’\n",
      "\n",
      "\n",
      "The following objects are masked from ‘package:igraph’:\n",
      "\n",
      "    as_data_frame, groups, union\n",
      "\n",
      "\n",
      "The following objects are masked from ‘package:data.table’:\n",
      "\n",
      "    between, first, last\n",
      "\n",
      "\n",
      "The following objects are masked from ‘package:stats’:\n",
      "\n",
      "    filter, lag\n",
      "\n",
      "\n",
      "The following objects are masked from ‘package:base’:\n",
      "\n",
      "    intersect, setdiff, setequal, union\n",
      "\n",
      "\n",
      "Registered S3 method overwritten by 'randomForest':\n",
      "  method      from\n",
      "  plot.margin RRF \n",
      "\n",
      "randomForest 4.6-14\n",
      "\n",
      "Type rfNews() to see new features/changes/bug fixes.\n",
      "\n",
      "\n",
      "Attaching package: ‘randomForest’\n",
      "\n",
      "\n",
      "The following object is masked from ‘package:dplyr’:\n",
      "\n",
      "    combine\n",
      "\n",
      "\n",
      "The following object is masked from ‘package:ggplot2’:\n",
      "\n",
      "    margin\n",
      "\n",
      "\n",
      "qs v0.23.1. See ChangeLog for update details.\n",
      "\n"
     ]
    }
   ],
   "source": [
    "library(parallel)\n",
    "library(caret)\n",
    "library(viridis)\n",
    "library(data.table)\n",
    "library(igraph)\n",
    "library(ggraph)\n",
    "library(stringr)\n",
    "library(scales)\n",
    "library(dplyr)\n",
    "library(\"inTrees\")\n",
    "library(randomForest)\n",
    "library(qs)"
   ]
  },
  {
   "cell_type": "code",
   "execution_count": 2,
   "metadata": {
    "ExecuteTime": {
     "end_time": "2020-11-18T18:55:18.905758Z",
     "start_time": "2020-11-18T18:55:13.428Z"
    },
    "hidden": true
   },
   "outputs": [
    {
     "name": "stderr",
     "output_type": "stream",
     "text": [
      "Warning message:\n",
      "“replacing previous import ‘dplyr::last’ by ‘data.table::last’ when loading ‘babR’”\n",
      "Warning message:\n",
      "“replacing previous import ‘dplyr::between’ by ‘data.table::between’ when loading ‘babR’”\n",
      "Warning message:\n",
      "“replacing previous import ‘dplyr::first’ by ‘data.table::first’ when loading ‘babR’”\n"
     ]
    }
   ],
   "source": [
    "#detach(\"package:babR\", unload=TRUE)\n",
    "library(babR)"
   ]
  },
  {
   "cell_type": "code",
   "execution_count": 3,
   "metadata": {
    "ExecuteTime": {
     "end_time": "2020-11-18T18:55:18.960012Z",
     "start_time": "2020-11-18T18:55:13.431Z"
    },
    "hidden": true
   },
   "outputs": [
    {
     "data": {
      "text/plain": [
       "R version 3.6.3 (2020-02-29)\n",
       "Platform: x86_64-conda-linux-gnu (64-bit)\n",
       "Running under: Ubuntu 18.04.5 LTS\n",
       "\n",
       "Matrix products: default\n",
       "BLAS/LAPACK: /ebio/abt3_projects/Methanogen_SCFA/Metagenomes_methanogen/envs/r-ml/lib/libopenblasp-r0.3.12.so\n",
       "\n",
       "locale:\n",
       " [1] LC_CTYPE=en_US.UTF-8       LC_NUMERIC=C              \n",
       " [3] LC_TIME=en_US.UTF-8        LC_COLLATE=en_US.UTF-8    \n",
       " [5] LC_MONETARY=en_US.UTF-8    LC_MESSAGES=en_US.UTF-8   \n",
       " [7] LC_PAPER=en_US.UTF-8       LC_NAME=C                 \n",
       " [9] LC_ADDRESS=C               LC_TELEPHONE=C            \n",
       "[11] LC_MEASUREMENT=en_US.UTF-8 LC_IDENTIFICATION=C       \n",
       "\n",
       "attached base packages:\n",
       "[1] parallel  stats     graphics  grDevices utils     datasets  methods  \n",
       "[8] base     \n",
       "\n",
       "other attached packages:\n",
       " [1] babR_0.0.0.9000     qs_0.23.3           randomForest_4.6-14\n",
       " [4] inTrees_1.2         dplyr_1.0.2         scales_1.1.1       \n",
       " [7] stringr_1.4.0       ggraph_2.0.3        igraph_1.2.6       \n",
       "[10] data.table_1.13.2   viridis_0.5.1       viridisLite_0.3.0  \n",
       "[13] caret_6.0-83        ggplot2_3.3.2       lattice_0.20-41    \n",
       "\n",
       "loaded via a namespace (and not attached):\n",
       " [1] tidyr_1.1.2          tidygraph_1.2.0      jsonlite_1.7.1      \n",
       " [4] splines_3.6.3        foreach_1.5.1        prodlim_2019.11.13  \n",
       " [7] RcppParallel_5.0.2   stats4_3.6.3         arules_1.6-6        \n",
       "[10] ggrepel_0.8.2        ipred_0.9-9          pillar_1.4.6        \n",
       "[13] glue_1.4.2           uuid_0.1-4           digest_0.6.27       \n",
       "[16] polyclip_1.10-0      RRF_1.9.1            colorspace_1.4-1    \n",
       "[19] stringfish_0.14.2    recipes_0.1.14       gbm_2.1.8           \n",
       "[22] htmltools_0.5.0      Matrix_1.2-18        plyr_1.8.6          \n",
       "[25] timeDate_3043.102    pkgconfig_2.0.3      purrr_0.3.4         \n",
       "[28] xtable_1.8-4         tweenr_1.0.1         gower_0.2.2         \n",
       "[31] lava_1.6.8           RApiSerialize_0.1.0  ggforce_0.3.2       \n",
       "[34] tibble_3.0.4         generics_0.1.0       farver_2.0.3        \n",
       "[37] xgboost_1.2.0.1      ellipsis_0.3.1       withr_2.3.0         \n",
       "[40] repr_1.1.0           nnet_7.3-14          survival_3.2-7      \n",
       "[43] magrittr_1.5         crayon_1.3.4         evaluate_0.14       \n",
       "[46] nlme_3.1-150         MASS_7.3-53          class_7.3-17        \n",
       "[49] tools_3.6.3          lifecycle_0.2.0      munsell_0.5.0       \n",
       "[52] compiler_3.6.3       rlang_0.4.8          grid_3.6.3          \n",
       "[55] pbdZMQ_0.3-3.1       iterators_1.0.13     IRkernel_1.1.1      \n",
       "[58] base64enc_0.1-3      gtable_0.3.0         ModelMetrics_1.2.2.2\n",
       "[61] codetools_0.2-17     reshape2_1.4.4       graphlayouts_0.7.1  \n",
       "[64] R6_2.5.0             gridExtra_2.3        lubridate_1.7.9     \n",
       "[67] stringi_1.5.3        IRdisplay_0.7.0      Rcpp_1.0.5          \n",
       "[70] vctrs_0.3.4          rpart_4.1-15         tidyselect_1.1.0    "
      ]
     },
     "metadata": {},
     "output_type": "display_data"
    }
   ],
   "source": [
    "sessionInfo()"
   ]
  },
  {
   "cell_type": "markdown",
   "metadata": {
    "heading_collapsed": true,
    "hidden": true
   },
   "source": [
    "## clustermq"
   ]
  },
  {
   "cell_type": "code",
   "execution_count": 4,
   "metadata": {
    "ExecuteTime": {
     "end_time": "2020-11-18T18:55:19.087571Z",
     "start_time": "2020-11-18T18:55:13.433Z"
    },
    "hidden": true
   },
   "outputs": [],
   "source": [
    "library(clustermq)\n",
    "options(clustermq.scheduler = \"sge\", clustermq.template = \"~/.clustermq.tmpl\")"
   ]
  },
  {
   "cell_type": "code",
   "execution_count": 5,
   "metadata": {
    "ExecuteTime": {
     "end_time": "2020-11-18T18:55:19.102515Z",
     "start_time": "2020-11-18T18:55:13.434Z"
    },
    "hidden": true
   },
   "outputs": [],
   "source": [
    "n_cores <- 20\n",
    "tmpl <- list(conda = \"r-ml\", cores = n_cores, job_time = '24:00:00', job_mem = '10G')"
   ]
  },
  {
   "cell_type": "markdown",
   "metadata": {},
   "source": [
    "# Functions"
   ]
  },
  {
   "cell_type": "code",
   "execution_count": 6,
   "metadata": {
    "ExecuteTime": {
     "end_time": "2020-11-18T18:55:19.115714Z",
     "start_time": "2020-11-18T18:55:13.437Z"
    }
   },
   "outputs": [],
   "source": [
    "getSimulations <- function(nr = 5000, v_tosamp, prandom = 0.2, seedOri=1){\n",
    "    simu <- data.table(tmp = 1:nr)\n",
    "    \n",
    "    # get the vectors\n",
    "    for (j in 1:12){\n",
    "        set.seed(seedOri*j + seedOri)\n",
    "        set(simu, NULL, paste0('V',j), value = sample(v_tosamp, size = nr, replace = TRUE))\n",
    "    }\n",
    "    simu <- simu[,tmp:=NULL]\n",
    "    \n",
    "    # get the target\n",
    "    set(simu, 1:(0.25*nr), 'target', simu[[1]][ 1:(0.25*nr) ]*simu[[2]][ 1:(0.25*nr) ] )\n",
    "    set(simu, 1:(0.25*nr), 'group', 'a')\n",
    "\n",
    "    set(simu, (0.25*nr+1):(0.5*nr), 'target', simu[[3]][ (0.25*nr+1):(0.5*nr) ])\n",
    "    set(simu, (0.25*nr+1):(0.5*nr), 'group', 'b')\n",
    "\n",
    "    set(simu, (0.5*nr+1):(0.75*nr), 'target', simu[[4]][(0.5*nr+1):(0.75*nr) ]+simu[[5]][ (0.5*nr+1):(0.75*nr) ])\n",
    "    set(simu, (0.5*nr+1):(0.75*nr), 'group', 'c')\n",
    "\n",
    "    set(simu, (0.75*nr+1):nr, 'target', simu[[6]][(0.75*nr+1):nr] - simu[[7]][(0.75*nr+1):nr])\n",
    "    set(simu, (0.75*nr+1):nr, 'group', 'd')\n",
    "    \n",
    "    # randomise\n",
    "    if (prandom > 0){\n",
    "        set.seed(seedOri)\n",
    "        brnounou <- rbinom(n = nr, size = 1,prob = prandom)\n",
    "        simu$target[brnounou == 1] <- -simu$target[brnounou == 1]\n",
    "    }\n",
    "    \n",
    "    y <- as.factor(sign(simu$target))\n",
    "    \n",
    "    # transform to dummy\n",
    "    dummies <- dummyVars(~ ., data = simu )\n",
    "    dummies <- as.data.table(predict(dummies, newdata = simu ))\n",
    "    dummies <- select(dummies, -target)\n",
    "    \n",
    "    return( list('x' = dummies, 'y' = y) )\n",
    "\n",
    "}"
   ]
  },
  {
   "cell_type": "code",
   "execution_count": 7,
   "metadata": {
    "ExecuteTime": {
     "end_time": "2020-11-18T18:55:19.128025Z",
     "start_time": "2020-11-18T18:55:13.439Z"
    }
   },
   "outputs": [],
   "source": [
    "metricsNet <- function(edges, true_edges, colN){\n",
    "    pred <- unique(select(edges, c('x', 'y')))\n",
    "    pred <- asplit(as.matrix(pred), MARGIN = 1)\n",
    "    \n",
    "    res <- numeric()\n",
    "    # truth: list of vectors of length 2 with the true pairs of associated variables\n",
    "    # pred: same but as predicted by the method\n",
    "    all <- asplit(combn(colN, m = 2), MARGIN = 2)\n",
    "    true_edges <- lapply(true_edges, sort)\n",
    "    pred <- lapply(pred, sort)    \n",
    "    \n",
    "    truth <- sapply(true_edges, function(x){paste(x, collapse = ' - ')})\n",
    "    pred <- sapply(pred, function(x){paste(x, collapse = ' - ')})\n",
    "    \n",
    "    # those that should not be but are = in pred but not truth\n",
    "    fp <- length(which(sapply(pred, function(x, truth){!(x %in% truth)}, truth = truth)))\n",
    "    # those that should be and are\n",
    "    tp <- length(which(sapply(pred, function(x, truth){x %in% truth}, truth = truth)))\n",
    "    # those that should be but are not = in truth but not in pred\n",
    "    fn <- length(which(sapply(truth, function(x, pred){!(x %in% pred)}, pred = pred)))\n",
    "    #\n",
    "    tn <- length(all) - (fp+tp+fn)\n",
    "    \n",
    "    #accuracy:\n",
    "    acc <- (tp+tn)/length(all)\n",
    "    sens <- tp/(tp+fn)\n",
    "    spec <- tn/(tn+fp)\n",
    "    prec <- tp/(tp+fp)\n",
    "    fdr <- fp/(fp+tp)\n",
    "    \n",
    "    res <- c('accuracy' = acc, 'sensitivity' = sens, 'specificity' = spec, 'precision' = prec, 'FDR' = fdr)\n",
    "    return(res)\n",
    "}"
   ]
  },
  {
   "cell_type": "code",
   "execution_count": 12,
   "metadata": {
    "ExecuteTime": {
     "end_time": "2020-11-18T19:03:37.784204Z",
     "start_time": "2020-11-18T19:03:37.421Z"
    }
   },
   "outputs": [],
   "source": [
    "simWrapper <- function(\n",
    "    seedOri, v_tosamp, nr=5000, prandom = 0.2\n",
    "    , times = 5, p = 0.75\n",
    "    ,discretize = TRUE, K = 3,prune = TRUE\n",
    "    , true_edges, colN, alpha_error = 0.05, minN = 0.6\n",
    "    , in_parallel = TRUE, n_cores = 5\n",
    "    , path = '/ebio/abt3_projects/temp_data/aruaud/'\n",
    "){\n",
    "    res <- list()\n",
    "    \n",
    "    #simulations\n",
    "    simu <- getSimulations(nr = nr, v_tosamp=v_tosamp, prandom=prandom, seedOri=seedOri)\n",
    "    res$data <- simu\n",
    "    #model\n",
    "    set.seed(0)\n",
    "    rf <- randomForest(y = simu$y, x = simu$x)\n",
    "    # model metrics\n",
    "    res$rf_accuracy <- (rf$confusion[1,1] + rf$confusion[2,2])/nr\n",
    "    tmp <- as.data.frame(rf$importance)\n",
    "    tmp$Feature <- factor(rownames(tmp), levels = rownames(tmp)[order(tmp$MeanDecreaseGini)])\n",
    "    res$FeatureGini <- arrange(tmp, desc(MeanDecreaseGini))\n",
    "    \n",
    "    # network\n",
    "    resampled <- \n",
    "        model2RE_resampling(model = rf, model_type = 'rf', dummy_var = 'group'\n",
    "                     ,times = times, p = p\n",
    "                     ,ntree = 'all' \n",
    "                     ,data = simu$x, target = simu$y, classPos = '1'\n",
    "                     ,discretize = discretize, K = K\n",
    "                     ,prune = prune\n",
    "                     ,alpha_error = alpha_error, minN = minN\n",
    "                     ,in_parallel = in_parallel, n_cores = n_cores\n",
    "                    ) \n",
    "    res$decisions <- resampled$stable\n",
    "    #network accuracy \n",
    "    nacc <- metricsNet(resampled$stable$edges, true_edges = true_edges, colN = colN )\n",
    "    res$network_acc <- nacc\n",
    "    fname <- paste0(path, 'simu',seedOri,'_p02.qs')\n",
    "    qsave(x = res, file = fname)\n",
    "    \n",
    "    return(list('rf_accuracy'= res$rf_accuracy, 'network_acc'=res$network_acc))\n",
    "}"
   ]
  },
  {
   "cell_type": "markdown",
   "metadata": {
    "heading_collapsed": true
   },
   "source": [
    "# Run"
   ]
  },
  {
   "cell_type": "code",
   "execution_count": 9,
   "metadata": {
    "ExecuteTime": {
     "end_time": "2020-11-18T18:55:19.239199Z",
     "start_time": "2020-11-18T18:55:13.443Z"
    },
    "hidden": true
   },
   "outputs": [],
   "source": [
    "set.seed(0)\n",
    "v_tosamp <- rnorm(n = 1e6, mean = 0.5, sd = 1)\n",
    "true_edges <- readRDS('/ebio/abt3_projects/Methanogen_SCFA/Metagenomes_methanogen/RF_coocc/RF_coocc/tmp/true_edgesK3.RDS')"
   ]
  },
  {
   "cell_type": "code",
   "execution_count": 10,
   "metadata": {
    "ExecuteTime": {
     "end_time": "2020-11-18T18:55:22.737430Z",
     "start_time": "2020-11-18T18:55:22.275Z"
    },
    "hidden": true
   },
   "outputs": [],
   "source": [
    "tmp <- getSimulations(nr = 100, v_tosamp=v_tosamp)\n",
    "tmp <- discretizeData(tmp$x, K = 3, return_split = FALSE) \n",
    "notNum <- which(!sapply(tmp, is.numeric))\n",
    "for (j in notNum) set(tmp,i = NULL ,j, paste0('__', tmp[[j]]))\n",
    "data_ctg <- dummyVars( ~ ., data = tmp)\n",
    "data_ctg <- as.data.table(predict(data_ctg, newdata = tmp))\n",
    "for (j in notNum) set(data_ctg,i = NULL ,j, str_replace(data_ctg[[j]], pattern = '^__', replacement = ''))\n",
    "colnames(data_ctg) <- gsub(x = colnames(data_ctg), pattern = \"`\", replacement=\"\")\n",
    "colN <- colnames(data_ctg)"
   ]
  },
  {
   "cell_type": "code",
   "execution_count": 13,
   "metadata": {
    "ExecuteTime": {
     "end_time": "2020-11-19T08:43:07.338725Z",
     "start_time": "2020-11-18T19:03:40.991Z"
    },
    "collapsed": true,
    "hidden": true
   },
   "outputs": [
    {
     "name": "stderr",
     "output_type": "stream",
     "text": [
      "Warning message in (function (...) :\n",
      "“Common data is 7.8 Mb. Recommended limit is  (set by clustermq.data.warning option)”\n",
      "Submitting 85 worker jobs (ID: cmq8000) ...\n",
      "\n",
      "Running 100 calculations (16 objs/7.8 Mb common; 1 calls/chunk) ...\n",
      "\n",
      "\n",
      "[---------------------------------------------------]   0% (1/85 wrk) eta:  ?s\n",
      "\n",
      "[---------------------------------------------------]   0% (2/85 wrk) eta:  ?s\n",
      "\n",
      "[---------------------------------------------------]   0% (3/85 wrk) eta:  ?s\n",
      "\n",
      "[---------------------------------------------------]   0% (4/85 wrk) eta:  ?s\n",
      "\n",
      "[---------------------------------------------------]   0% (5/85 wrk) eta:  ?s\n",
      "\n",
      "[---------------------------------------------------]   0% (6/85 wrk) eta:  ?s\n",
      "\n",
      "[---------------------------------------------------]   0% (7/85 wrk) eta:  ?s\n",
      "\n",
      "[---------------------------------------------------]   0% (8/85 wrk) eta:  ?s\n",
      "\n",
      "[---------------------------------------------------]   0% (9/85 wrk) eta:  ?s\n",
      "\n",
      "[--------------------------------------------------]   0% (10/85 wrk) eta:  ?s\n",
      "\n",
      "[--------------------------------------------------]   0% (11/85 wrk) eta:  ?s\n",
      "\n",
      "[--------------------------------------------------]   0% (12/85 wrk) eta:  ?s\n",
      "\n",
      "[--------------------------------------------------]   0% (13/85 wrk) eta:  ?s\n",
      "\n",
      "[--------------------------------------------------]   0% (14/85 wrk) eta:  ?s\n",
      "\n",
      "[--------------------------------------------------]   0% (15/85 wrk) eta:  ?s\n",
      "\n",
      "[--------------------------------------------------]   0% (16/85 wrk) eta:  ?s\n",
      "\n",
      "[--------------------------------------------------]   0% (17/85 wrk) eta:  ?s\n",
      "\n",
      "[--------------------------------------------------]   0% (18/85 wrk) eta:  ?s\n",
      "\n",
      "[--------------------------------------------------]   0% (19/85 wrk) eta:  ?s\n",
      "\n",
      "[--------------------------------------------------]   0% (20/85 wrk) eta:  ?s\n",
      "\n",
      "[--------------------------------------------------]   0% (21/85 wrk) eta:  ?s\n",
      "\n",
      "[--------------------------------------------------]   0% (22/85 wrk) eta:  ?s\n",
      "\n",
      "[--------------------------------------------------]   0% (23/85 wrk) eta:  ?s\n",
      "\n",
      "[--------------------------------------------------]   0% (24/85 wrk) eta:  ?s\n",
      "\n",
      "[--------------------------------------------------]   0% (25/85 wrk) eta:  ?s\n",
      "\n",
      "[--------------------------------------------------]   0% (26/85 wrk) eta:  ?s\n",
      "\n",
      "[--------------------------------------------------]   0% (27/85 wrk) eta:  ?s\n",
      "\n",
      "[--------------------------------------------------]   0% (28/85 wrk) eta:  ?s\n",
      "\n",
      "[--------------------------------------------------]   0% (29/85 wrk) eta:  ?s\n",
      "\n",
      "[--------------------------------------------------]   0% (30/85 wrk) eta:  ?s\n",
      "\n",
      "[--------------------------------------------------]   0% (31/85 wrk) eta:  ?s\n",
      "\n",
      "[--------------------------------------------------]   0% (32/85 wrk) eta:  ?s\n",
      "\n",
      "[--------------------------------------------------]   0% (33/85 wrk) eta:  ?s\n",
      "\n",
      "[--------------------------------------------------]   0% (34/85 wrk) eta:  ?s\n",
      "\n",
      "[--------------------------------------------------]   0% (35/85 wrk) eta:  ?s\n",
      "\n",
      "[--------------------------------------------------]   0% (36/85 wrk) eta:  ?s\n",
      "\n",
      "[--------------------------------------------------]   0% (37/85 wrk) eta:  ?s\n",
      "\n",
      "[--------------------------------------------------]   0% (38/85 wrk) eta:  ?s\n",
      "\n",
      "[--------------------------------------------------]   0% (39/85 wrk) eta:  ?s\n",
      "\n",
      "[--------------------------------------------------]   0% (40/85 wrk) eta:  ?s\n",
      "\n",
      "[--------------------------------------------------]   0% (41/85 wrk) eta:  ?s\n",
      "\n",
      "[--------------------------------------------------]   0% (42/85 wrk) eta:  ?s\n",
      "\n",
      "[--------------------------------------------------]   0% (43/85 wrk) eta:  ?s\n",
      "\n",
      "[--------------------------------------------------]   0% (44/85 wrk) eta:  ?s\n",
      "\n",
      "[--------------------------------------------------]   0% (45/85 wrk) eta:  ?s\n",
      "\n",
      "[--------------------------------------------------]   0% (46/85 wrk) eta:  ?s\n",
      "\n",
      "[--------------------------------------------------]   0% (47/85 wrk) eta:  ?s\n",
      "\n",
      "[--------------------------------------------------]   0% (48/85 wrk) eta:  ?s\n",
      "\n",
      "[--------------------------------------------------]   0% (49/85 wrk) eta:  ?s\n",
      "\n",
      "[--------------------------------------------------]   0% (50/85 wrk) eta:  ?s\n",
      "\n",
      "[--------------------------------------------------]   0% (51/85 wrk) eta:  ?s\n",
      "\n",
      "[--------------------------------------------------]   0% (52/85 wrk) eta:  ?s\n",
      "\n",
      "[--------------------------------------------------]   0% (53/85 wrk) eta:  ?s\n",
      "\n",
      "[--------------------------------------------------]   0% (54/85 wrk) eta:  ?s\n",
      "\n",
      "[--------------------------------------------------]   0% (55/85 wrk) eta:  ?s\n",
      "\n",
      "[--------------------------------------------------]   0% (56/85 wrk) eta:  ?s\n",
      "\n",
      "[--------------------------------------------------]   0% (57/85 wrk) eta:  ?s\n",
      "\n",
      "[--------------------------------------------------]   0% (58/85 wrk) eta:  ?s\n",
      "\n",
      "[--------------------------------------------------]   0% (59/85 wrk) eta:  ?s\n",
      "\n",
      "[--------------------------------------------------]   0% (60/85 wrk) eta:  ?s\n",
      "\n",
      "[--------------------------------------------------]   0% (61/85 wrk) eta:  ?s\n",
      "\n",
      "[--------------------------------------------------]   0% (62/85 wrk) eta:  ?s\n",
      "\n",
      "[--------------------------------------------------]   1% (62/85 wrk) eta:  3d\n",
      "\n",
      "[>-------------------------------------------------]   2% (62/85 wrk) eta:  2d\n",
      "\n",
      "[=>------------------------------------------------]   3% (62/85 wrk) eta:  1d\n",
      "\n",
      "[=>------------------------------------------------]   4% (62/85 wrk) eta:  1d\n",
      "\n",
      "[=>------------------------------------------------]   5% (62/85 wrk) eta:  1d\n",
      "\n",
      "[==>-----------------------------------------------]   6% (62/85 wrk) eta:  1d\n",
      "\n",
      "[===>----------------------------------------------]   7% (62/85 wrk) eta:  1d\n",
      "\n",
      "[===>----------------------------------------------]   8% (62/85 wrk) eta: 16h\n",
      "\n",
      "[===>----------------------------------------------]   9% (62/85 wrk) eta: 14h\n",
      "\n",
      "[====>---------------------------------------------]  10% (62/85 wrk) eta: 13h\n",
      "\n",
      "[=====>--------------------------------------------]  11% (62/85 wrk) eta: 12h\n",
      "\n",
      "[=====>--------------------------------------------]  12% (62/85 wrk) eta: 11h\n",
      "\n",
      "[=====>--------------------------------------------]  13% (62/85 wrk) eta: 10h\n",
      "\n",
      "[======>-------------------------------------------]  14% (62/85 wrk) eta:  9h\n",
      "\n",
      "[=======>------------------------------------------]  15% (62/85 wrk) eta:  8h\n",
      "\n",
      "[=======>------------------------------------------]  16% (62/85 wrk) eta:  8h\n",
      "\n",
      "[=======>------------------------------------------]  17% (62/85 wrk) eta:  7h\n",
      "\n",
      "[========>-----------------------------------------]  18% (62/85 wrk) eta:  7h\n",
      "\n",
      "[========>-----------------------------------------]  18% (63/85 wrk) eta:  7h\n",
      "\n",
      "[========>-----------------------------------------]  18% (64/85 wrk) eta:  7h\n",
      "\n",
      "[========>-----------------------------------------]  18% (65/85 wrk) eta:  7h\n",
      "\n",
      "[========>-----------------------------------------]  18% (66/85 wrk) eta:  7h\n",
      "\n",
      "[=========>----------------------------------------]  19% (66/85 wrk) eta:  7h\n",
      "\n",
      "[=========>----------------------------------------]  20% (66/85 wrk) eta:  6h\n",
      "\n",
      "[=========>----------------------------------------]  21% (66/85 wrk) eta:  6h\n",
      "\n",
      "[==========>---------------------------------------]  22% (66/85 wrk) eta:  6h\n",
      "\n",
      "[===========>--------------------------------------]  23% (66/85 wrk) eta:  5h\n",
      "\n",
      "[===========>--------------------------------------]  24% (66/85 wrk) eta:  5h\n",
      "\n",
      "[===========>--------------------------------------]  25% (66/85 wrk) eta:  5h\n",
      "\n",
      "[============>-------------------------------------]  26% (66/85 wrk) eta:  4h\n",
      "\n",
      "[=============>------------------------------------]  27% (66/85 wrk) eta:  4h\n",
      "\n",
      "[=============>------------------------------------]  28% (66/85 wrk) eta:  4h\n",
      "\n",
      "[=============>------------------------------------]  29% (66/85 wrk) eta:  4h\n",
      "\n",
      "[==============>-----------------------------------]  30% (66/85 wrk) eta:  4h\n",
      "\n",
      "[===============>----------------------------------]  31% (66/85 wrk) eta:  4h\n",
      "\n",
      "[===============>----------------------------------]  32% (66/85 wrk) eta:  3h\n",
      "\n",
      "[===============>----------------------------------]  33% (66/85 wrk) eta:  3h\n",
      "\n",
      "[================>---------------------------------]  34% (66/85 wrk) eta:  3h\n"
     ]
    },
    {
     "name": "stderr",
     "output_type": "stream",
     "text": [
      "\n",
      "[=================>--------------------------------]  35% (66/85 wrk) eta:  3h\n",
      "\n",
      "[=================>--------------------------------]  35% (66/84 wrk) eta:  3h\n",
      "\n",
      "[=================>--------------------------------]  35% (66/83 wrk) eta:  3h\n",
      "\n",
      "[=================>--------------------------------]  36% (65/82 wrk) eta:  3h\n",
      "\n",
      "[=================>--------------------------------]  36% (65/81 wrk) eta:  3h\n",
      "\n",
      "[=================>--------------------------------]  36% (66/81 wrk) eta:  3h\n",
      "\n",
      "[=================>--------------------------------]  36% (65/80 wrk) eta:  3h\n",
      "\n",
      "[=================>--------------------------------]  36% (65/79 wrk) eta:  3h\n",
      "\n",
      "[=================>--------------------------------]  36% (66/79 wrk) eta:  3h\n",
      "\n",
      "[=================>--------------------------------]  36% (65/78 wrk) eta:  3h\n",
      "\n",
      "[=================>--------------------------------]  36% (65/77 wrk) eta:  3h\n",
      "\n",
      "[=================>--------------------------------]  36% (66/77 wrk) eta:  3h\n",
      "\n",
      "[=================>--------------------------------]  36% (65/76 wrk) eta:  3h\n",
      "\n",
      "[=================>--------------------------------]  36% (65/75 wrk) eta:  3h\n",
      "\n",
      "[=================>--------------------------------]  37% (65/75 wrk) eta:  3h\n",
      "\n",
      "[=================>--------------------------------]  37% (65/74 wrk) eta:  3h\n",
      "\n",
      "[=================>--------------------------------]  37% (64/73 wrk) eta:  3h\n",
      "\n",
      "[=================>--------------------------------]  37% (64/72 wrk) eta:  3h\n",
      "\n",
      "[=================>--------------------------------]  37% (65/72 wrk) eta:  3h\n",
      "\n",
      "[=================>--------------------------------]  37% (66/72 wrk) eta:  3h\n",
      "\n",
      "[=================>--------------------------------]  37% (65/71 wrk) eta:  3h\n",
      "\n",
      "[=================>--------------------------------]  37% (64/69 wrk) eta:  3h\n",
      "\n",
      "[=================>--------------------------------]  37% (65/69 wrk) eta:  3h\n",
      "\n",
      "[=================>--------------------------------]  37% (66/69 wrk) eta:  3h\n",
      "\n",
      "[=================>--------------------------------]  37% (65/68 wrk) eta:  3h\n",
      "\n",
      "[=================>--------------------------------]  37% (64/66 wrk) eta:  3h\n",
      "\n",
      "[=================>--------------------------------]  37% (65/66 wrk) eta:  3h\n",
      "\n",
      "[=================>--------------------------------]  37% (66/66 wrk) eta:  3h\n",
      "\n",
      "[=================>--------------------------------]  37% (64/64 wrk) eta:  3h\n",
      "\n",
      "[==================>-------------------------------]  38% (63/63 wrk) eta:  3h\n",
      "\n",
      "[===================>------------------------------]  39% (62/62 wrk) eta:  3h\n",
      "\n",
      "[===================>------------------------------]  40% (61/61 wrk) eta:  3h\n",
      "\n",
      "[===================>------------------------------]  41% (60/60 wrk) eta:  2h\n",
      "\n",
      "[====================>-----------------------------]  42% (59/59 wrk) eta:  2h\n",
      "\n",
      "[=====================>----------------------------]  43% (58/58 wrk) eta:  2h\n",
      "\n",
      "[=====================>----------------------------]  44% (57/57 wrk) eta:  2h\n",
      "\n",
      "[=====================>----------------------------]  45% (56/56 wrk) eta:  2h\n",
      "\n",
      "[======================>---------------------------]  46% (55/55 wrk) eta:  2h\n",
      "\n",
      "[=======================>--------------------------]  47% (54/54 wrk) eta:  2h\n",
      "\n",
      "[=======================>--------------------------]  48% (53/53 wrk) eta:  2h\n",
      "\n",
      "[=======================>--------------------------]  49% (52/52 wrk) eta:  2h\n",
      "\n",
      "[========================>-------------------------]  50% (51/51 wrk) eta:  2h\n",
      "\n",
      "[=========================>------------------------]  51% (50/50 wrk) eta:  2h\n",
      "\n",
      "[=========================>------------------------]  52% (49/49 wrk) eta:  2h\n",
      "\n",
      "[=========================>------------------------]  53% (48/48 wrk) eta:  2h\n",
      "\n",
      "[==========================>-----------------------]  54% (47/47 wrk) eta:  2h\n",
      "\n",
      "[===========================>----------------------]  55% (46/46 wrk) eta:  2h\n",
      "\n",
      "[===========================>----------------------]  56% (45/45 wrk) eta:  2h\n",
      "\n",
      "[===========================>----------------------]  57% (44/44 wrk) eta:  2h\n",
      "\n",
      "[============================>---------------------]  58% (43/43 wrk) eta:  1h\n",
      "\n",
      "[=============================>--------------------]  59% (42/42 wrk) eta:  1h\n",
      "\n",
      "[=============================>--------------------]  60% (41/41 wrk) eta:  2h\n",
      "\n",
      "[=============================>--------------------]  61% (40/40 wrk) eta:  1h\n",
      "\n",
      "[==============================>-------------------]  62% (39/39 wrk) eta:  1h\n",
      "\n",
      "[===============================>------------------]  63% (38/38 wrk) eta:  1h\n",
      "\n",
      "[===============================>------------------]  64% (37/37 wrk) eta:  1h\n",
      "\n",
      "[===============================>------------------]  65% (36/36 wrk) eta:  1h\n",
      "\n",
      "[================================>-----------------]  66% (35/35 wrk) eta:  1h\n",
      "\n",
      "[=================================>----------------]  67% (34/34 wrk) eta:  1h\n",
      "\n",
      "[=================================>----------------]  68% (33/33 wrk) eta:  1h\n",
      "\n",
      "[=================================>----------------]  69% (32/32 wrk) eta:  1h\n",
      "\n",
      "[==================================>---------------]  70% (31/31 wrk) eta:  1h\n",
      "\n",
      "[===================================>--------------]  71% (30/30 wrk) eta:  1h\n",
      "\n",
      "[===================================>--------------]  72% (29/29 wrk) eta:  1h\n",
      "\n",
      "[===================================>--------------]  73% (28/28 wrk) eta:  1h\n",
      "\n",
      "[====================================>-------------]  74% (27/27 wrk) eta:  1h\n",
      "\n",
      "[=====================================>------------]  75% (26/26 wrk) eta:  1h\n",
      "\n",
      "[=====================================>------------]  76% (25/25 wrk) eta:  1h\n",
      "\n",
      "[=====================================>------------]  77% (24/24 wrk) eta:  1h\n",
      "\n",
      "[======================================>-----------]  78% (23/23 wrk) eta: 48m\n",
      "\n",
      "[=======================================>----------]  79% (22/22 wrk) eta: 45m\n",
      "\n",
      "[=======================================>----------]  80% (21/21 wrk) eta: 43m\n",
      "\n",
      "[=======================================>----------]  81% (20/20 wrk) eta: 40m\n",
      "\n",
      "[========================================>---------]  82% (19/19 wrk) eta: 38m\n",
      "\n",
      "[=========================================>--------]  83% (18/18 wrk) eta: 36m\n",
      "\n",
      "[=========================================>--------]  84% (17/17 wrk) eta: 33m\n",
      "\n",
      "[=========================================>--------]  85% (16/16 wrk) eta: 31m\n",
      "\n",
      "[==========================================>-------]  86% (15/15 wrk) eta: 29m\n",
      "\n",
      "[===========================================>------]  87% (14/14 wrk) eta: 27m\n",
      "\n",
      "[===========================================>------]  88% (13/13 wrk) eta: 24m\n",
      "\n",
      "[===========================================>------]  89% (12/12 wrk) eta: 22m\n",
      "\n",
      "[============================================>-----]  90% (11/11 wrk) eta: 20m\n",
      "\n",
      "[=============================================>----]  91% (10/10 wrk) eta: 18m\n",
      "\n",
      "[===============================================>----]  92% (9/9 wrk) eta: 16m\n",
      "\n",
      "[===============================================>----]  93% (8/8 wrk) eta: 14m\n",
      "\n",
      "[================================================>---]  94% (7/7 wrk) eta: 12m\n",
      "\n",
      "[================================================>---]  95% (6/6 wrk) eta: 10m\n",
      "\n",
      "[=================================================>--]  96% (5/5 wrk) eta:  8m\n",
      "\n",
      "[=================================================>--]  97% (4/4 wrk) eta:  6m\n",
      "\n",
      "[==================================================>-]  98% (3/3 wrk) eta:  4m\n",
      "\n",
      "[==================================================>-]  99% (2/2 wrk) eta:  2m\n",
      "\n",
      "[====================================================] 100% (1/1 wrk) eta:  0s\n",
      "                                                                              \n",
      "\n",
      "Master: [11869.9s 0.0% CPU]; Worker: [avg 2.4% CPU, max 1878.1 Mb]\n",
      "\n"
     ]
    }
   ],
   "source": [
    "simu100 <- Q(simWrapper\n",
    "  , seedOri = 1:100\n",
    "  , const=list(v_tosamp = v_tosamp\n",
    "               , nr = 5000, prandom = 0.2\n",
    "               , times = 10, p = .7\n",
    "               ,discretize = TRUE, K = 3, prune = TRUE\n",
    "               , true_edges = true_edges, colN = colN, alpha_error = .1, minN = 0.7\n",
    "                , in_parallel = TRUE, n_cores = n_cores\n",
    "               )\n",
    "  , export = list('metricsNet'=metricsNet, 'getSimulations'=getSimulations)\n",
    "  , n_jobs= 85\n",
    "  , pkgs=c('data.table', 'randomForest', 'parallel', 'caret', 'stringr', 'scales', 'dplyr', 'inTrees', 'babR', 'qs')\n",
    "  , log_worker=TRUE\n",
    "  , template = tmpl\n",
    " )"
   ]
  },
  {
   "cell_type": "code",
   "execution_count": 14,
   "metadata": {
    "ExecuteTime": {
     "end_time": "2020-11-19T08:43:07.340369Z",
     "start_time": "2020-11-18T19:20:36.092Z"
    },
    "hidden": true
   },
   "outputs": [],
   "source": [
    "saveRDS(simu100, '/ebio/abt3_projects/Methanogen_SCFA/Metagenomes_methanogen/RF_coocc/RF_coocc/tmp/p02_100simulations.RDS')"
   ]
  },
  {
   "cell_type": "code",
   "execution_count": 5,
   "metadata": {
    "ExecuteTime": {
     "end_time": "2020-10-27T10:25:37.642611Z",
     "start_time": "2020-10-27T10:25:29.778Z"
    },
    "deletable": false,
    "editable": false,
    "hidden": true,
    "run_control": {
     "frozen": true
    }
   },
   "outputs": [],
   "source": [
    "simu100 <- readRDS('/ebio/abt3_projects/Methanogen_SCFA/Metagenomes_methanogen/RF_coocc/RF_coocc/tmp/p02_100simulations.RDS')"
   ]
  },
  {
   "cell_type": "markdown",
   "metadata": {
    "heading_collapsed": true
   },
   "source": [
    "# plots"
   ]
  },
  {
   "cell_type": "code",
   "execution_count": 15,
   "metadata": {
    "ExecuteTime": {
     "end_time": "2020-11-19T11:54:50.666739Z",
     "start_time": "2020-11-19T11:54:50.317Z"
    },
    "hidden": true
   },
   "outputs": [],
   "source": [
    "resnet <- t(sapply(simu100, function(x){return(x$network_acc)} ))"
   ]
  },
  {
   "cell_type": "code",
   "execution_count": 16,
   "metadata": {
    "ExecuteTime": {
     "end_time": "2020-11-19T11:54:51.352157Z",
     "start_time": "2020-11-19T11:54:51.104Z"
    },
    "hidden": true
   },
   "outputs": [],
   "source": [
    "resnet <- as.data.frame(resnet)\n",
    "resnet$rf_accuracy <- sapply(simu100, function(x){return(x$rf_accuracy)} )\n",
    "resnet$subset <- 1:nrow(resnet)"
   ]
  },
  {
   "cell_type": "code",
   "execution_count": 17,
   "metadata": {
    "ExecuteTime": {
     "end_time": "2020-11-19T11:54:51.944516Z",
     "start_time": "2020-11-19T11:54:51.693Z"
    },
    "hidden": true
   },
   "outputs": [
    {
     "data": {
      "text/plain": [
       "    accuracy       sensitivity      specificity       precision     \n",
       " Min.   :0.9385   Min.   :0.2051   Min.   :0.9771   Min.   :0.3200  \n",
       " 1st Qu.:0.9526   1st Qu.:0.3077   1st Qu.:0.9852   1st Qu.:0.5500  \n",
       " Median :0.9577   Median :0.3590   Median :0.9892   Median :0.6367  \n",
       " Mean   :0.9573   Mean   :0.3585   Mean   :0.9888   Mean   :0.6334  \n",
       " 3rd Qu.:0.9615   3rd Qu.:0.4103   3rd Qu.:0.9919   3rd Qu.:0.7273  \n",
       " Max.   :0.9718   Max.   :0.5641   Max.   :0.9987   Max.   :0.9333  \n",
       "      FDR           rf_accuracy         subset      \n",
       " Min.   :0.06667   Min.   :0.7360   Min.   :  1.00  \n",
       " 1st Qu.:0.27273   1st Qu.:0.7494   1st Qu.: 25.75  \n",
       " Median :0.36333   Median :0.7533   Median : 50.50  \n",
       " Mean   :0.36657   Mean   :0.7553   Mean   : 50.50  \n",
       " 3rd Qu.:0.45000   3rd Qu.:0.7611   3rd Qu.: 75.25  \n",
       " Max.   :0.68000   Max.   :0.7810   Max.   :100.00  "
      ]
     },
     "metadata": {},
     "output_type": "display_data"
    }
   ],
   "source": [
    "resnet %>% summary"
   ]
  },
  {
   "cell_type": "code",
   "execution_count": 18,
   "metadata": {
    "ExecuteTime": {
     "end_time": "2020-11-19T11:55:01.023936Z",
     "start_time": "2020-11-19T11:55:00.107Z"
    },
    "hidden": true
   },
   "outputs": [
    {
     "data": {
      "image/png": "[encoded data removed]",
      "text/plain": [
       "plot without title"
      ]
     },
     "metadata": {
      "image/png": {
       "height": 300,
       "width": 300
      }
     },
     "output_type": "display_data"
    }
   ],
   "source": [
    "options(repr.plot.width=5, repr.plot.height=5)\n",
    "ggplot(resnet, aes(y=accuracy, x = rf_accuracy))+\n",
    "geom_point() + \n",
    "theme_classic() + \n",
    "labs(y = 'network accuracy', y = '')"
   ]
  },
  {
   "cell_type": "code",
   "execution_count": 20,
   "metadata": {
    "ExecuteTime": {
     "end_time": "2020-11-19T12:16:48.885040Z",
     "start_time": "2020-11-19T12:16:48.348Z"
    },
    "hidden": true
   },
   "outputs": [
    {
     "data": {
      "image/png": "[encoded data removed]",
      "text/plain": [
       "plot without title"
      ]
     },
     "metadata": {
      "image/png": {
       "height": 300,
       "width": 300
      }
     },
     "output_type": "display_data"
    }
   ],
   "source": [
    "options(repr.plot.width=5, repr.plot.height=5)\n",
    "ggplot(resnet, aes(y=FDR, x = rf_accuracy))+\n",
    "geom_point() + \n",
    "theme_classic() "
   ]
  },
  {
   "cell_type": "markdown",
   "metadata": {},
   "source": [
    "# Tests.."
   ]
  },
  {
   "cell_type": "code",
   "execution_count": 22,
   "metadata": {
    "ExecuteTime": {
     "end_time": "2020-11-19T12:40:04.260504Z",
     "start_time": "2020-11-19T12:40:02.884Z"
    }
   },
   "outputs": [],
   "source": [
    "simu1 <- qread('/ebio/abt3_projects/temp_data/aruaud/simu100_p02.qs')"
   ]
  },
  {
   "cell_type": "code",
   "execution_count": 32,
   "metadata": {
    "ExecuteTime": {
     "end_time": "2020-11-19T12:55:49.613452Z",
     "start_time": "2020-11-19T12:55:49.180Z"
    }
   },
   "outputs": [
    {
     "data": {
      "text/html": [
       "<table>\n",
       "<caption>A data.table: 6 × 7</caption>\n",
       "<thead>\n",
       "\t<tr><th scope=col>len</th><th scope=col>support</th><th scope=col>err</th><th scope=col>condition</th><th scope=col>pred</th><th scope=col>imp</th><th scope=col>n</th></tr>\n",
       "\t<tr><th scope=col>&lt;dbl&gt;</th><th scope=col>&lt;dbl&gt;</th><th scope=col>&lt;dbl&gt;</th><th scope=col>&lt;chr&gt;</th><th scope=col>&lt;dbl&gt;</th><th scope=col>&lt;dbl&gt;</th><th scope=col>&lt;dbl&gt;</th></tr>\n",
       "</thead>\n",
       "<tbody>\n",
       "\t<tr><td>2</td><td>0.08483290</td><td>0.4357629</td><td><span style=white-space:pre-wrap>X[,38]&gt;0.5 &amp; X[,8]&gt;0.5              </span></td><td>0.2592593</td><td>0.01734351</td><td>17.78163574</td></tr>\n",
       "\t<tr><td>2</td><td>0.08511854</td><td>0.3568943</td><td><span style=white-space:pre-wrap>X[,38]&gt;0.5 &amp; X[,7]&gt;0.5              </span></td><td>0.8389262</td><td>0.01687836</td><td> 3.25694444</td></tr>\n",
       "\t<tr><td>2</td><td>0.08740360</td><td>0.4559058</td><td><span style=white-space:pre-wrap>X[,40]&gt;0.5 &amp; X[,19]&gt;0.5             </span></td><td>0.2973856</td><td>0.01383262</td><td> 0.62500000</td></tr>\n",
       "\t<tr><td>3</td><td>0.02627821</td><td>0.3210531</td><td>X[,40]&gt;0.5 &amp; X[,18]&gt;0.5 &amp; X[,19]&gt;0.5</td><td>0.1304348</td><td>0.01142047</td><td> 0.42901235</td></tr>\n",
       "\t<tr><td>2</td><td>0.08797486</td><td>0.3948008</td><td><span style=white-space:pre-wrap>X[,39]&gt;0.5 &amp; X[,10]&gt;0.5             </span></td><td>0.7987013</td><td>0.01129966</td><td> 8.65972221</td></tr>\n",
       "\t<tr><td>3</td><td>0.02856327</td><td>0.2610595</td><td>X[,29]&gt;0.5 &amp; X[,38]&gt;0.5 &amp; X[,7]&gt;0.5 </td><td>0.9100000</td><td>0.01126574</td><td> 0.08333333</td></tr>\n",
       "</tbody>\n",
       "</table>\n"
      ],
      "text/latex": [
       "A data.table: 6 × 7\n",
       "\\begin{tabular}{lllllll}\n",
       " len & support & err & condition & pred & imp & n\\\\\n",
       " <dbl> & <dbl> & <dbl> & <chr> & <dbl> & <dbl> & <dbl>\\\\\n",
       "\\hline\n",
       "\t 2 & 0.08483290 & 0.4357629 & X{[},38{]}>0.5 \\& X{[},8{]}>0.5               & 0.2592593 & 0.01734351 & 17.78163574\\\\\n",
       "\t 2 & 0.08511854 & 0.3568943 & X{[},38{]}>0.5 \\& X{[},7{]}>0.5               & 0.8389262 & 0.01687836 &  3.25694444\\\\\n",
       "\t 2 & 0.08740360 & 0.4559058 & X{[},40{]}>0.5 \\& X{[},19{]}>0.5              & 0.2973856 & 0.01383262 &  0.62500000\\\\\n",
       "\t 3 & 0.02627821 & 0.3210531 & X{[},40{]}>0.5 \\& X{[},18{]}>0.5 \\& X{[},19{]}>0.5 & 0.1304348 & 0.01142047 &  0.42901235\\\\\n",
       "\t 2 & 0.08797486 & 0.3948008 & X{[},39{]}>0.5 \\& X{[},10{]}>0.5              & 0.7987013 & 0.01129966 &  8.65972221\\\\\n",
       "\t 3 & 0.02856327 & 0.2610595 & X{[},29{]}>0.5 \\& X{[},38{]}>0.5 \\& X{[},7{]}>0.5  & 0.9100000 & 0.01126574 &  0.08333333\\\\\n",
       "\\end{tabular}\n"
      ],
      "text/markdown": [
       "\n",
       "A data.table: 6 × 7\n",
       "\n",
       "| len &lt;dbl&gt; | support &lt;dbl&gt; | err &lt;dbl&gt; | condition &lt;chr&gt; | pred &lt;dbl&gt; | imp &lt;dbl&gt; | n &lt;dbl&gt; |\n",
       "|---|---|---|---|---|---|---|\n",
       "| 2 | 0.08483290 | 0.4357629 | X[,38]&gt;0.5 &amp; X[,8]&gt;0.5               | 0.2592593 | 0.01734351 | 17.78163574 |\n",
       "| 2 | 0.08511854 | 0.3568943 | X[,38]&gt;0.5 &amp; X[,7]&gt;0.5               | 0.8389262 | 0.01687836 |  3.25694444 |\n",
       "| 2 | 0.08740360 | 0.4559058 | X[,40]&gt;0.5 &amp; X[,19]&gt;0.5              | 0.2973856 | 0.01383262 |  0.62500000 |\n",
       "| 3 | 0.02627821 | 0.3210531 | X[,40]&gt;0.5 &amp; X[,18]&gt;0.5 &amp; X[,19]&gt;0.5 | 0.1304348 | 0.01142047 |  0.42901235 |\n",
       "| 2 | 0.08797486 | 0.3948008 | X[,39]&gt;0.5 &amp; X[,10]&gt;0.5              | 0.7987013 | 0.01129966 |  8.65972221 |\n",
       "| 3 | 0.02856327 | 0.2610595 | X[,29]&gt;0.5 &amp; X[,38]&gt;0.5 &amp; X[,7]&gt;0.5  | 0.9100000 | 0.01126574 |  0.08333333 |\n",
       "\n"
      ],
      "text/plain": [
       "  len support    err       condition                            pred     \n",
       "1 2   0.08483290 0.4357629 X[,38]>0.5 & X[,8]>0.5               0.2592593\n",
       "2 2   0.08511854 0.3568943 X[,38]>0.5 & X[,7]>0.5               0.8389262\n",
       "3 2   0.08740360 0.4559058 X[,40]>0.5 & X[,19]>0.5              0.2973856\n",
       "4 3   0.02627821 0.3210531 X[,40]>0.5 & X[,18]>0.5 & X[,19]>0.5 0.1304348\n",
       "5 2   0.08797486 0.3948008 X[,39]>0.5 & X[,10]>0.5              0.7987013\n",
       "6 3   0.02856327 0.2610595 X[,29]>0.5 & X[,38]>0.5 & X[,7]>0.5  0.9100000\n",
       "  imp        n          \n",
       "1 0.01734351 17.78163574\n",
       "2 0.01687836  3.25694444\n",
       "3 0.01383262  0.62500000\n",
       "4 0.01142047  0.42901235\n",
       "5 0.01129966  8.65972221\n",
       "6 0.01126574  0.08333333"
      ]
     },
     "metadata": {},
     "output_type": "display_data"
    }
   ],
   "source": [
    "simu1$decisions$rules_agg %>% head"
   ]
  },
  {
   "cell_type": "code",
   "execution_count": 25,
   "metadata": {
    "ExecuteTime": {
     "end_time": "2020-11-19T12:42:40.602149Z",
     "start_time": "2020-11-19T12:42:40.178Z"
    }
   },
   "outputs": [
    {
     "data": {
      "text/html": [
       "<style>\n",
       ".dl-inline {width: auto; margin:0; padding: 0}\n",
       ".dl-inline>dt, .dl-inline>dd {float: none; width: auto; display: inline-block}\n",
       ".dl-inline>dt::after {content: \":\\0020\"; padding-right: .5ex}\n",
       ".dl-inline>dt:not(:first-of-type) {padding-left: .5ex}\n",
       "</style><dl class=dl-inline><dt>accuracy</dt><dd>0.952564102564103</dd><dt>sensitivity</dt><dd>0.282051282051282</dd><dt>specificity</dt><dd>0.987854251012146</dd><dt>precision</dt><dd>0.55</dd><dt>FDR</dt><dd>0.45</dd></dl>\n"
      ],
      "text/latex": [
       "\\begin{description*}\n",
       "\\item[accuracy] 0.952564102564103\n",
       "\\item[sensitivity] 0.282051282051282\n",
       "\\item[specificity] 0.987854251012146\n",
       "\\item[precision] 0.55\n",
       "\\item[FDR] 0.45\n",
       "\\end{description*}\n"
      ],
      "text/markdown": [
       "accuracy\n",
       ":   0.952564102564103sensitivity\n",
       ":   0.282051282051282specificity\n",
       ":   0.987854251012146precision\n",
       ":   0.55FDR\n",
       ":   0.45\n",
       "\n"
      ],
      "text/plain": [
       "   accuracy sensitivity specificity   precision         FDR \n",
       "  0.9525641   0.2820513   0.9878543   0.5500000   0.4500000 "
      ]
     },
     "metadata": {},
     "output_type": "display_data"
    }
   ],
   "source": [
    "metricsNet(simu1$decisions$edges, true_edges = true_edges, colN = colN )"
   ]
  },
  {
   "cell_type": "code",
   "execution_count": null,
   "metadata": {},
   "outputs": [],
   "source": []
  }
 ],
 "metadata": {
  "kernelspec": {
   "display_name": "R [conda env:Metagenomes_methanogen-r-ml]",
   "language": "R",
   "name": "conda-env-Metagenomes_methanogen-r-ml-r"
  },
  "language_info": {
   "codemirror_mode": "r",
   "file_extension": ".r",
   "mimetype": "text/x-r-source",
   "name": "R",
   "pygments_lexer": "r",
   "version": "3.6.3"
  },
  "notify_time": "30",
  "toc": {
   "base_numbering": 1,
   "nav_menu": {},
   "number_sections": true,
   "sideBar": true,
   "skip_h1_title": false,
   "title_cell": "Table of Contents",
   "title_sidebar": "Contents",
   "toc_cell": false,
   "toc_position": {
    "height": "calc(100% - 180px)",
    "left": "10px",
    "top": "150px",
    "width": "165px"
   },
   "toc_section_display": true,
   "toc_window_display": true
  }
 },
 "nbformat": 4,
 "nbformat_minor": 4
}
