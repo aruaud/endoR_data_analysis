{
 "cells": [
  {
   "cell_type": "markdown",
   "metadata": {},
   "source": [
    "# Preambule"
   ]
  },
  {
   "cell_type": "markdown",
   "metadata": {
    "heading_collapsed": true
   },
   "source": [
    "## libraries"
   ]
  },
  {
   "cell_type": "code",
   "execution_count": 1,
   "metadata": {
    "ExecuteTime": {
     "end_time": "2021-04-02T10:00:01.200271Z",
     "start_time": "2021-04-02T09:59:57.379Z"
    },
    "hidden": true
   },
   "outputs": [
    {
     "name": "stderr",
     "output_type": "stream",
     "text": [
      "── \u001b[1mAttaching packages\u001b[22m ───────────────────────────────────────────────────────────────────────────────────────────────────────────────────────────────────────────────────────────── tidyverse 1.3.0 ──\n",
      "\n",
      "\u001b[32m✔\u001b[39m \u001b[34mggplot2\u001b[39m 3.3.2     \u001b[32m✔\u001b[39m \u001b[34mpurrr  \u001b[39m 0.3.4\n",
      "\u001b[32m✔\u001b[39m \u001b[34mtibble \u001b[39m 3.0.4     \u001b[32m✔\u001b[39m \u001b[34mdplyr  \u001b[39m 1.0.2\n",
      "\u001b[32m✔\u001b[39m \u001b[34mtidyr  \u001b[39m 1.1.2     \u001b[32m✔\u001b[39m \u001b[34mstringr\u001b[39m 1.4.0\n",
      "\u001b[32m✔\u001b[39m \u001b[34mreadr  \u001b[39m 1.4.0     \u001b[32m✔\u001b[39m \u001b[34mforcats\u001b[39m 0.5.0\n",
      "\n",
      "── \u001b[1mConflicts\u001b[22m ──────────────────────────────────────────────────────────────────────────────────────────────────────────────────────────────────────────────────────────────── tidyverse_conflicts() ──\n",
      "\u001b[31m✖\u001b[39m \u001b[34mdplyr\u001b[39m::\u001b[32mfilter()\u001b[39m masks \u001b[34mstats\u001b[39m::filter()\n",
      "\u001b[31m✖\u001b[39m \u001b[34mdplyr\u001b[39m::\u001b[32mlag()\u001b[39m    masks \u001b[34mstats\u001b[39m::lag()\n",
      "\n",
      "Loading required package: lattice\n",
      "\n",
      "\n",
      "Attaching package: ‘caret’\n",
      "\n",
      "\n",
      "The following object is masked from ‘package:purrr’:\n",
      "\n",
      "    lift\n",
      "\n",
      "\n",
      "\n",
      "Attaching package: ‘data.table’\n",
      "\n",
      "\n",
      "The following objects are masked from ‘package:dplyr’:\n",
      "\n",
      "    between, first, last\n",
      "\n",
      "\n",
      "The following object is masked from ‘package:purrr’:\n",
      "\n",
      "    transpose\n",
      "\n",
      "\n",
      "qs v0.23.4.\n",
      "\n",
      "randomForest 4.6-14\n",
      "\n",
      "Type rfNews() to see new features/changes/bug fixes.\n",
      "\n",
      "\n",
      "Attaching package: ‘randomForest’\n",
      "\n",
      "\n",
      "The following object is masked from ‘package:dplyr’:\n",
      "\n",
      "    combine\n",
      "\n",
      "\n",
      "The following object is masked from ‘package:ggplot2’:\n",
      "\n",
      "    margin\n",
      "\n",
      "\n",
      "Registered S3 method overwritten by 'RRF':\n",
      "  method      from        \n",
      "  plot.margin randomForest\n",
      "\n",
      "Warning message:\n",
      "“replacing previous import ‘dplyr::last’ by ‘data.table::last’ when loading ‘babR’”\n",
      "Warning message:\n",
      "“replacing previous import ‘dplyr::between’ by ‘data.table::between’ when loading ‘babR’”\n",
      "Warning message:\n",
      "“replacing previous import ‘dplyr::first’ by ‘data.table::first’ when loading ‘babR’”\n"
     ]
    }
   ],
   "source": [
    "library(tidyverse)\n",
    "library(stringr)\n",
    "library(caret)\n",
    "library(data.table)\n",
    "library(stringr)\n",
    "library(dplyr)\n",
    "library(qs)\n",
    "library(parallel)\n",
    "library(randomForest)\n",
    "library(inTrees)\n",
    "library(babR)"
   ]
  },
  {
   "cell_type": "code",
   "execution_count": 2,
   "metadata": {
    "ExecuteTime": {
     "end_time": "2021-04-02T10:00:01.285456Z",
     "start_time": "2021-04-02T09:59:57.383Z"
    },
    "hidden": true
   },
   "outputs": [
    {
     "name": "stderr",
     "output_type": "stream",
     "text": [
      "Loading required package: viridisLite\n",
      "\n"
     ]
    }
   ],
   "source": [
    "library(viridis)"
   ]
  },
  {
   "cell_type": "code",
   "execution_count": 3,
   "metadata": {
    "ExecuteTime": {
     "end_time": "2021-04-02T10:00:01.501362Z",
     "start_time": "2021-04-02T09:59:57.385Z"
    },
    "hidden": true
   },
   "outputs": [],
   "source": [
    "library(ggpubr)"
   ]
  },
  {
   "cell_type": "code",
   "execution_count": 4,
   "metadata": {
    "ExecuteTime": {
     "end_time": "2021-04-02T10:00:01.561988Z",
     "start_time": "2021-04-02T09:59:57.388Z"
    },
    "hidden": true
   },
   "outputs": [
    {
     "data": {
      "text/plain": [
       "R version 4.0.3 (2020-10-10)\n",
       "Platform: x86_64-conda-linux-gnu (64-bit)\n",
       "Running under: Ubuntu 18.04.5 LTS\n",
       "\n",
       "Matrix products: default\n",
       "BLAS/LAPACK: /ebio/abt3_projects/Methanogen_SCFA/Metagenomes_methanogen/envs/r-ml/lib/libopenblasp-r0.3.10.so\n",
       "\n",
       "locale:\n",
       " [1] LC_CTYPE=en_US.UTF-8       LC_NUMERIC=C              \n",
       " [3] LC_TIME=en_US.UTF-8        LC_COLLATE=en_US.UTF-8    \n",
       " [5] LC_MONETARY=en_US.UTF-8    LC_MESSAGES=en_US.UTF-8   \n",
       " [7] LC_PAPER=en_US.UTF-8       LC_NAME=C                 \n",
       " [9] LC_ADDRESS=C               LC_TELEPHONE=C            \n",
       "[11] LC_MEASUREMENT=en_US.UTF-8 LC_IDENTIFICATION=C       \n",
       "\n",
       "attached base packages:\n",
       "[1] parallel  stats     graphics  grDevices utils     datasets  methods  \n",
       "[8] base     \n",
       "\n",
       "other attached packages:\n",
       " [1] ggpubr_0.4.0        viridis_0.5.1       viridisLite_0.3.0  \n",
       " [4] babR_0.0.0.9000     inTrees_1.3         randomForest_4.6-14\n",
       " [7] qs_0.23.4           data.table_1.13.4   caret_6.0-86       \n",
       "[10] lattice_0.20-41     forcats_0.5.0       stringr_1.4.0      \n",
       "[13] dplyr_1.0.2         purrr_0.3.4         readr_1.4.0        \n",
       "[16] tidyr_1.1.2         tibble_3.0.4        ggplot2_3.3.2      \n",
       "[19] tidyverse_1.3.0    \n",
       "\n",
       "loaded via a namespace (and not attached):\n",
       " [1] colorspace_2.0-0     ggsignif_0.6.0       ellipsis_0.3.1      \n",
       " [4] class_7.3-17         rio_0.5.16           IRdisplay_0.7.0     \n",
       " [7] base64enc_0.1-3      fs_1.5.0             rstudioapi_0.13     \n",
       "[10] prodlim_2019.11.13   fansi_0.4.1          lubridate_1.7.9.2   \n",
       "[13] ranger_0.12.1        xml2_1.3.2           codetools_0.2-18    \n",
       "[16] splines_4.0.3        arules_1.6-6         IRkernel_1.1.1      \n",
       "[19] jsonlite_1.7.2       pROC_1.16.2          broom_0.7.2         \n",
       "[22] dbplyr_2.0.0         compiler_4.0.3       httr_1.4.2          \n",
       "[25] backports_1.2.0      assertthat_0.2.1     Matrix_1.2-18       \n",
       "[28] cli_2.2.0            htmltools_0.5.0      tools_4.0.3         \n",
       "[31] gtable_0.3.0         glue_1.4.2           reshape2_1.4.4      \n",
       "[34] Rcpp_1.0.5           carData_3.0-4        cellranger_1.1.0    \n",
       "[37] vctrs_0.3.6          nlme_3.1-150         iterators_1.0.13    \n",
       "[40] timeDate_3043.102    gower_0.2.2          ps_1.5.0            \n",
       "[43] openxlsx_4.2.3       rvest_0.3.6          lifecycle_0.2.0     \n",
       "[46] rstatix_0.6.0        MASS_7.3-53          scales_1.1.1        \n",
       "[49] ipred_0.9-9          hms_0.5.3            curl_4.3            \n",
       "[52] gridExtra_2.3        rpart_4.1-15         stringi_1.5.3       \n",
       "[55] foreach_1.5.1        zip_2.1.1            lava_1.6.8.1        \n",
       "[58] repr_1.1.2.9000      rlang_0.4.10         pkgconfig_2.0.3     \n",
       "[61] evaluate_0.14        recipes_0.1.15       tidyselect_1.1.0    \n",
       "[64] gbm_2.1.8            plyr_1.8.6           magrittr_2.0.1      \n",
       "[67] R6_2.5.0             generics_0.1.0       pbdZMQ_0.3-3.1      \n",
       "[70] DBI_1.1.0            pillar_1.4.7         haven_2.3.1         \n",
       "[73] foreign_0.8-80       withr_2.3.0          survival_3.2-7      \n",
       "[76] abind_1.4-5          nnet_7.3-14          modelr_0.1.8        \n",
       "[79] crayon_1.3.4         car_3.0-10           xgboost_1.2.0.1     \n",
       "[82] uuid_0.1-4           RApiSerialize_0.1.0  RRF_1.9.1           \n",
       "[85] grid_4.0.3           readxl_1.3.1         ModelMetrics_1.2.2.2\n",
       "[88] reprex_0.3.0         digest_0.6.27        xtable_1.8-4        \n",
       "[91] RcppParallel_5.0.2   stats4_4.0.3         munsell_0.5.0       \n",
       "[94] stringfish_0.14.2   "
      ]
     },
     "metadata": {},
     "output_type": "display_data"
    }
   ],
   "source": [
    "sessionInfo()"
   ]
  },
  {
   "cell_type": "markdown",
   "metadata": {},
   "source": [
    "## functions"
   ]
  },
  {
   "cell_type": "code",
   "execution_count": 5,
   "metadata": {
    "ExecuteTime": {
     "end_time": "2021-04-02T10:00:01.578006Z",
     "start_time": "2021-04-02T09:59:57.390Z"
    }
   },
   "outputs": [],
   "source": [
    "getSinglePR <- function(pc, true_edges, colN){\n",
    "    \n",
    "    # prepare edges from endoR\n",
    "    edges <- pc$edges_agg %>% select(x, y, condition, importance, influence, d.x, d.y) %>% \n",
    "        subset(condition %in% pc$rules_summary$condition) %>%\n",
    "        group_by(x, y, condition) %>% \n",
    "        summarise(importance= mean(importance), influence = mean(influence*(d.x+d.y)/2)) %>%\n",
    "        ungroup %>% \n",
    "        left_join(select(pc$rules_summary,condition, inN, imp, n), by = 'condition') %>% \n",
    "        select(-condition) \n",
    "    \n",
    "    # get the PR\n",
    "    edi <- lapply(unique(edges$inN)\n",
    "            , function(i, edges, true_edges, colN){\n",
    "                suppressMessages(edges <- edges %>% subset(inN >= i) %>% group_by(x, y) %>% \n",
    "                                 summarise( inN = max(inN), importance = sum(importance*imp*n)\n",
    "                                           , influence = sum(influence*imp*n)/sum(imp*n) ) %>% ungroup)\n",
    "                metricsNet(edges = edges,true_edges=true_edges, colN = colN)\n",
    "              }, edges=edges,true_edges=true_edges, colN = colN)\n",
    "    \n",
    "    edi <- as.data.frame(do.call(rbind, edi))\n",
    "    edi$inN <- unique(edges$inN)\n",
    "    edi <- add_row(edi, n_edges=0, tp=0,fp=0,tn=0,fn=0,inN=0)\n",
    "    \n",
    "    return(edi %>% arrange(tp))\n",
    "}"
   ]
  },
  {
   "cell_type": "code",
   "execution_count": 6,
   "metadata": {
    "ExecuteTime": {
     "end_time": "2021-04-02T10:00:01.592790Z",
     "start_time": "2021-04-02T09:59:57.393Z"
    }
   },
   "outputs": [],
   "source": [
    "getPR <- function(f, true_edges, alpha, pi_thr, colN ){\n",
    "    res <- qread(f)\n",
    "    \n",
    "    # other parameters\n",
    "    seedN <- str_extract(f, pattern = '(?<=simu)[:digit:]+(?=\\\\_)')\n",
    "    K <- length(true_edges)\n",
    "    \n",
    "    # for b = 10\n",
    "    set.seed(as.numeric(seedN))\n",
    "    i_10 <- sample(1:100, 10, replace = FALSE)\n",
    "    pc10 <- postCluster(res = res$resamp[i_10], alpha_error = alpha, minN = pi_thr)\n",
    "    edi10 <- getSinglePR(pc10, true_edges=true_edges, colN = colN)\n",
    "    edi10$B <- length(i_10)\n",
    "    edi10$ndec <- nrow(pc10$rules_summary %>% subset(inN >= 7))\n",
    "    \n",
    "    # for b = 90\n",
    "    pc100 <- quiet(postCluster(res = res$resamp[-i_10], alpha_error = alpha, minN = pi_thr))\n",
    "    edi100 <- getSinglePR(pc100, true_edges=true_edges, colN = colN)\n",
    "    edi100$B <- 100-length(i_10)\n",
    "    edi100$ndec <- nrow(pc100$rules_summary %>% subset(inN >= 63))\n",
    "    \n",
    "    # bind\n",
    "    edi <- rbind(edi10, edi100)\n",
    "    edi$seedN <- seedN\n",
    "    edi$K <- K\n",
    "    \n",
    "    return(edi)\n",
    "}"
   ]
  },
  {
   "cell_type": "code",
   "execution_count": 7,
   "metadata": {
    "ExecuteTime": {
     "end_time": "2021-04-02T10:00:01.618283Z",
     "start_time": "2021-04-02T09:59:59.192Z"
    }
   },
   "outputs": [],
   "source": [
    "file.sources <- list.files('./scripts/', pattern = '*.R', full.names=TRUE, ignore.case=TRUE)\n",
    "for (f in file.sources) {\n",
    "    source(f)\n",
    "}\n",
    "rm('file.sources', 'f')"
   ]
  },
  {
   "cell_type": "markdown",
   "metadata": {
    "heading_collapsed": true
   },
   "source": [
    "# Run"
   ]
  },
  {
   "cell_type": "code",
   "execution_count": 8,
   "metadata": {
    "ExecuteTime": {
     "end_time": "2021-04-02T10:00:01.635265Z",
     "start_time": "2021-04-02T10:00:00.957Z"
    },
    "hidden": true
   },
   "outputs": [],
   "source": [
    "true_edges <- readRDS('true_edges.RDS')\n",
    "fnames <- list.files(path = '/ebio/abt3_projects/temp_data/aruaud/Toy_p005_N1000_B100', full.names = TRUE)"
   ]
  },
  {
   "cell_type": "code",
   "execution_count": 9,
   "metadata": {
    "ExecuteTime": {
     "end_time": "2021-04-02T10:00:02.243589Z",
     "start_time": "2021-04-02T10:00:00.960Z"
    },
    "hidden": true
   },
   "outputs": [],
   "source": [
    "tmp <- qread(fnames[1])\n",
    "colN <- colnames(tmp$data$x)"
   ]
  },
  {
   "cell_type": "code",
   "execution_count": 10,
   "metadata": {
    "ExecuteTime": {
     "end_time": "2021-04-02T10:00:06.579848Z",
     "start_time": "2021-04-02T10:00:00.962Z"
    },
    "hidden": true
   },
   "outputs": [],
   "source": [
    "#stopCluster(cluster)\n",
    "cluster <- makeCluster(7)\n",
    "quiet(clusterEvalQ(cluster, library(qs)))\n",
    "quiet(clusterEvalQ(cluster, library(babR)))\n",
    "quiet(clusterEvalQ(cluster, library(tidyverse)))\n",
    "quiet(clusterExport(cluster, c('getSinglePR', 'metricsNet', 'quiet' )))"
   ]
  },
  {
   "cell_type": "code",
   "execution_count": 11,
   "metadata": {
    "ExecuteTime": {
     "end_time": "2021-04-02T10:00:56.795344Z",
     "start_time": "2021-04-02T10:00:00.965Z"
    },
    "hidden": true
   },
   "outputs": [],
   "source": [
    "test_sev <- parLapply(cl = cluster,fnames, getPR, alpha = 5, pi_thr = 0.7, true_edges = true_edges, colN = colN)\n",
    "test_sev <- do.call(rbind, test_sev)"
   ]
  },
  {
   "cell_type": "code",
   "execution_count": 12,
   "metadata": {
    "ExecuteTime": {
     "end_time": "2021-04-02T10:00:56.811836Z",
     "start_time": "2021-04-02T10:00:00.968Z"
    },
    "hidden": true
   },
   "outputs": [],
   "source": [
    "stopCluster(cluster)"
   ]
  },
  {
   "cell_type": "code",
   "execution_count": 13,
   "metadata": {
    "ExecuteTime": {
     "end_time": "2021-04-02T10:00:57.160491Z",
     "start_time": "2021-04-02T10:00:00.971Z"
    },
    "hidden": true
   },
   "outputs": [],
   "source": [
    "suppressWarnings(av_res <- test_sev %>% group_by(B, inN) %>% summarise_all(mean))"
   ]
  },
  {
   "cell_type": "markdown",
   "metadata": {
    "heading_collapsed": true
   },
   "source": [
    "# random"
   ]
  },
  {
   "cell_type": "code",
   "execution_count": 14,
   "metadata": {
    "ExecuteTime": {
     "end_time": "2021-04-02T10:00:57.176122Z",
     "start_time": "2021-04-02T10:00:04.148Z"
    },
    "hidden": true
   },
   "outputs": [],
   "source": [
    "## Total number of edges\n",
    "N <- (length(colN)*length(colN) - length(colN))/2 \n",
    "## Total number of correct edges\n",
    "K <- length(true_edges)"
   ]
  },
  {
   "cell_type": "code",
   "execution_count": 15,
   "metadata": {
    "ExecuteTime": {
     "end_time": "2021-04-02T10:00:57.189115Z",
     "start_time": "2021-04-02T10:00:04.151Z"
    },
    "hidden": true
   },
   "outputs": [],
   "source": [
    "random_pr_curve <- function(i){\n",
    "  set.seed(i)\n",
    "  random_draw <- urn[sample(1:N)]\n",
    "  tp <- cumsum(random_draw)\n",
    "  fp <- 1:N - cumsum(random_draw)\n",
    "  linfit <- approx(fp, tp, xout = seq(1, N-K, length.out = 1000),ties = max)\n",
    "  \n",
    "  return(do.call(cbind, linfit))\n",
    "}"
   ]
  },
  {
   "cell_type": "code",
   "execution_count": 16,
   "metadata": {
    "ExecuteTime": {
     "end_time": "2021-04-02T10:00:57.653864Z",
     "start_time": "2021-04-02T10:00:04.153Z"
    },
    "hidden": true
   },
   "outputs": [],
   "source": [
    "## Resample\n",
    "urn <- c(rep(1, K), rep(0, N-K))\n",
    "B <- 1000\n",
    "rdm <- list()\n",
    "for(j in 1:B){\n",
    "  rdm[[j]] <- random_pr_curve(j)\n",
    "}"
   ]
  },
  {
   "cell_type": "code",
   "execution_count": 17,
   "metadata": {
    "ExecuteTime": {
     "end_time": "2021-04-02T10:00:57.932850Z",
     "start_time": "2021-04-02T10:00:04.156Z"
    },
    "hidden": true
   },
   "outputs": [],
   "source": [
    "rdm <- as.data.frame(do.call(rbind, rdm))\n",
    "colnames(rdm)<- c('fp', 'tp')"
   ]
  },
  {
   "cell_type": "code",
   "execution_count": 18,
   "metadata": {
    "ExecuteTime": {
     "end_time": "2021-04-02T10:00:58.225918Z",
     "start_time": "2021-04-02T10:00:04.158Z"
    },
    "hidden": true
   },
   "outputs": [
    {
     "name": "stderr",
     "output_type": "stream",
     "text": [
      "`summarise()` ungrouping output (override with `.groups` argument)\n",
      "\n"
     ]
    }
   ],
   "source": [
    "rdm <- group_by(rdm, fp) %>% summarise(tp_av = mean(tp), tp_sd = sd(tp), tp_qtiles = quantile(tp, 0.99))"
   ]
  },
  {
   "cell_type": "markdown",
   "metadata": {
    "heading_collapsed": true
   },
   "source": [
    "# Interpolate"
   ]
  },
  {
   "cell_type": "code",
   "execution_count": 19,
   "metadata": {
    "ExecuteTime": {
     "end_time": "2021-04-02T10:00:58.239354Z",
     "start_time": "2021-04-02T10:00:07.042Z"
    },
    "hidden": true
   },
   "outputs": [],
   "source": [
    "getInterpo <- function(i, raw){\n",
    "    raw <- subset(raw, seedN == i)\n",
    "    res <- list()\n",
    "    \n",
    "    i <- 1\n",
    "    for (a in unique(raw$B)){\n",
    "        tmp <- approx(raw$fp[raw$B == a]\n",
    "                       , raw$tp[raw$B == a]\n",
    "                       , xout = seq(1, N-K, length.out = 1000)\n",
    "                       , ties = max)\n",
    "        tmp <- as.data.frame(do.call(cbind, tmp))\n",
    "        colnames(tmp) <- c('fp', 'tp')\n",
    "        tmp$B <- a\n",
    "        \n",
    "        # add 0 and max values to the extrapolations\n",
    "        mafp <- max(tmp$fp[!is.na(tmp$tp)])\n",
    "        tmp$tp[tmp$fp>mafp] <-  max(tmp$tp, na.rm = TRUE)\n",
    "\n",
    "        res[[i]] <- tmp\n",
    "        i <- i+1\n",
    "    }\n",
    "    res <- do.call(rbind, res)\n",
    "    res$seedN <- i\n",
    "    \n",
    "    return(res)\n",
    "}"
   ]
  },
  {
   "cell_type": "code",
   "execution_count": 20,
   "metadata": {
    "ExecuteTime": {
     "end_time": "2021-04-02T10:00:58.660642Z",
     "start_time": "2021-04-02T10:00:07.044Z"
    },
    "hidden": true
   },
   "outputs": [],
   "source": [
    "pr_byseed <- suppressWarnings(lapply(unique(test_sev$seedN), getInterpo, raw = test_sev))"
   ]
  },
  {
   "cell_type": "code",
   "execution_count": 21,
   "metadata": {
    "ExecuteTime": {
     "end_time": "2021-04-02T10:00:58.887466Z",
     "start_time": "2021-04-02T10:00:07.046Z"
    },
    "hidden": true
   },
   "outputs": [],
   "source": [
    "pr_byseed_av <- do.call(rbind, pr_byseed) %>% select(-seedN) %>% group_by(fp, B) %>% summarise_all(mean, na.rm = TRUE)\n",
    "pr_byseed_sd <- do.call(rbind, pr_byseed) %>% select(-seedN) %>% group_by(fp, B) %>% summarise_all(sd, na.rm = TRUE)\n",
    "\n",
    "pr_forplots <- left_join(pr_byseed_av, pr_byseed_sd, by = c('fp', 'B'), suffix = c('_av', '_sd'))"
   ]
  },
  {
   "cell_type": "markdown",
   "metadata": {
    "heading_collapsed": true
   },
   "source": [
    "# plots"
   ]
  },
  {
   "cell_type": "code",
   "execution_count": 22,
   "metadata": {
    "ExecuteTime": {
     "end_time": "2021-04-02T10:00:58.916301Z",
     "start_time": "2021-04-02T10:00:11.256Z"
    },
    "hidden": true
   },
   "outputs": [],
   "source": [
    "cols <- plasma(length(unique(av_res$B)) + 2)\n",
    "cols <- cols[-c(1, length(cols))]"
   ]
  },
  {
   "cell_type": "code",
   "execution_count": 23,
   "metadata": {
    "ExecuteTime": {
     "end_time": "2021-04-02T10:00:59.032333Z",
     "start_time": "2021-04-02T10:00:11.258Z"
    },
    "hidden": true
   },
   "outputs": [],
   "source": [
    "pr_forplots$B <- factor(as.character(pr_forplots$B), levels = c('10', '90'))"
   ]
  },
  {
   "cell_type": "code",
   "execution_count": 24,
   "metadata": {
    "ExecuteTime": {
     "end_time": "2021-04-02T10:00:59.080375Z",
     "start_time": "2021-04-02T10:00:11.261Z"
    },
    "hidden": true
   },
   "outputs": [],
   "source": [
    "wp <- ggplot(pr_forplots \n",
    "             , aes(x = fp, y = tp_av, group = as.factor(B), color = as.factor(B)))+\n",
    "geom_hline(yintercept = 10, color = 'lightgrey', linetype = 'dashed')+\n",
    "geom_line(data = pr_forplots , size = 1)+\n",
    "\n",
    "geom_ribbon(aes(ymin = tp_av - tp_sd/2, ymax = tp_av + tp_sd/2\n",
    "                , group =as.factor(B), fill = as.factor(B)), color = NA\n",
    "            , alpha = 0.25) +\n",
    "\n",
    "geom_line(data = rdm, aes(y = tp_av, x = fp), group=NA, color = 'darkgrey')+\n",
    "geom_ribbon(data = rdm\n",
    "            , aes(ymin = tp_av - tp_sd/2, ymax = tp_av + tp_sd/2, y = tp_av\n",
    "                  , group=NULL, color = NULL)\n",
    "            , alpha = 0.25, fill = 'darkgrey') +\n",
    "\n",
    "geom_point(data = av_res %>% subset((B == '10' & inN == 7) | (B == '90' & inN == 63))\n",
    "           , aes(y = tp, x = fp, fill = as.factor(B))\n",
    "           , size = 4, shape = 21, color = 'black')+\n",
    "\n",
    "\n",
    "theme_classic()+\n",
    "labs(x = 'Number of FP', y = 'Number of TP')+\n",
    "scale_color_manual(values = cols, name = 'B') +\n",
    "scale_fill_manual(values = cols, name = 'B') "
   ]
  },
  {
   "cell_type": "code",
   "execution_count": 25,
   "metadata": {
    "ExecuteTime": {
     "end_time": "2021-04-02T10:00:59.676553Z",
     "start_time": "2021-04-02T10:00:11.263Z"
    },
    "hidden": true
   },
   "outputs": [
    {
     "data": {
      "image/png": "[encoded data removed]",
      "text/plain": [
       "plot without title"
      ]
     },
     "metadata": {
      "image/png": {
       "height": 240,
       "width": 300
      }
     },
     "output_type": "display_data"
    }
   ],
   "source": [
    "options(repr.plot.width=5, repr.plot.height=4)\n",
    "wp"
   ]
  },
  {
   "cell_type": "code",
   "execution_count": 26,
   "metadata": {
    "ExecuteTime": {
     "end_time": "2021-04-02T10:00:59.764383Z",
     "start_time": "2021-04-02T10:00:11.266Z"
    },
    "hidden": true
   },
   "outputs": [],
   "source": [
    "saveRDS(wp, 'B_plots.RDS')"
   ]
  },
  {
   "cell_type": "markdown",
   "metadata": {},
   "source": [
    "# check"
   ]
  },
  {
   "cell_type": "code",
   "execution_count": 40,
   "metadata": {
    "ExecuteTime": {
     "end_time": "2021-04-02T10:21:10.848862Z",
     "start_time": "2021-04-02T10:21:10.686Z"
    }
   },
   "outputs": [],
   "source": [
    "getSingleRes <- function(pc, cond, true_edges){\n",
    "    \n",
    "    if (length(cond) > 0){\n",
    "        imp_edges <- pc$edges_agg %>% subset(condition %in% cond) %>% select(x,y, importance, n, imp)\n",
    "        imp_edges$x <- str_replace(imp_edges$x, pattern = '\\\\_{2}.*', replacement = '')\n",
    "        imp_edges$y <- str_replace(imp_edges$y, pattern = '\\\\_{2}.*', replacement = '')\n",
    "        suppressMessages(imp_edges <- imp_edges %>% group_by(x,y) %>% summarise(importance = sum(n*imp*importance)))\n",
    "        imp_edges <- asplit(as.matrix(imp_edges), MARGIN = 1)\n",
    "        imp_edges <- lapply(imp_edges, sort) \n",
    "        pred_edges <- sapply(imp_edges, function(x){paste(x[-1], collapse = ' - ')}) \n",
    "        \n",
    "        if(length(pred_edges) == 0){\n",
    "            return(c('n_decisions' = 0\n",
    "                , 'tp_imp' = 0, 'fp_imp' = 0, 'tp' = 0, 'fp' = 0, 'fn' = 0))\n",
    "        } else {\n",
    "            # those that should not be but are = in pred_edges but not truth\n",
    "            tp <- which(sapply(pred_edges, function(x){x %in% true_edges}))\n",
    "            fp <- which(sapply(pred_edges, function(x){!(x %in% true_edges)}))\n",
    "            fn <- sum(sapply(true_edges, function(x){!(x %in% pred_edges)}))\n",
    "\n",
    "            # sum of FP importances\n",
    "            if(length(fp) > 0) {\n",
    "                fp_imp <- sum(sapply(imp_edges[fp], function(x){as.numeric(x['importance'])}))\n",
    "            } else {fp_imp <- 0}\n",
    "            # sum of TP importances\n",
    "            if(length(tp) > 0) {\n",
    "                tp_imp <- sum(sapply(imp_edges[tp], function(x){as.numeric(x['importance'])}))\n",
    "            } else {tp_imp <- 0}\n",
    "\n",
    "            res <- c('n_decisions' = length(cond)\n",
    "                    , 'tp_imp' = tp_imp, 'fp_imp' = fp_imp, 'tp' = length(tp), 'fp' = length(fp)\n",
    "                    , 'fn' = fn)\n",
    "            \n",
    "        }\n",
    "    } else {\n",
    "        res <- c('n_decisions' = 0, 'tp_imp' = 0, 'fp_imp' = 0, 'tp' = 0, 'fp' = 0, 'fn' = 0)\n",
    "    }\n",
    "    \n",
    "    return(res)\n",
    "}"
   ]
  },
  {
   "cell_type": "code",
   "execution_count": 51,
   "metadata": {
    "ExecuteTime": {
     "end_time": "2021-04-02T10:42:02.485295Z",
     "start_time": "2021-04-02T10:42:02.262Z"
    }
   },
   "outputs": [],
   "source": [
    "getRes <- function(f, p = NULL, true_edges, alpha = 10, pi_thr = 0.7){\n",
    "    tmp <- qread(f)\n",
    "    seedN <- str_extract(f, pattern = '(?<=simu)[:digit:]+(?=\\\\_)')\n",
    "    K <- length(true_edges)\n",
    "    \n",
    "    # for b = 10\n",
    "    set.seed(as.numeric(seedN))\n",
    "    i_10 <- sample(1:100, 10, replace = FALSE)\n",
    "    quiet(pc <- postCluster(res = tmp$resamp[i_10], alpha_error = alpha, minN = pi_thr))\n",
    "    cond <- pc$rules_summary %>% subset(inN >= 7, select = condition) %>% unlist\n",
    "    res10 <- c('b'=10, getSingleRes(pc = pc, cond = cond, true_edges=true_edges))\n",
    "    \n",
    "    # for b = 90\n",
    "    quiet(pc <- postCluster(res = tmp$resamp[-i_10], alpha_error = alpha, minN = pi_thr))\n",
    "    cond <- pc$rules_summary %>% subset(inN >= 63, select = condition) %>% unlist\n",
    "    res100 <- c('b'=90, getSingleRes(pc = pc, cond = cond, true_edges=true_edges))\n",
    "    \n",
    "    res <- as.data.frame(rbind(res10, res100))\n",
    "    res$rf_accuracy <- tmp$rf_accuracy\n",
    "    \n",
    "    return(res)\n",
    "}"
   ]
  },
  {
   "cell_type": "code",
   "execution_count": 61,
   "metadata": {
    "ExecuteTime": {
     "end_time": "2021-04-02T10:48:35.230513Z",
     "start_time": "2021-04-02T10:48:34.988Z"
    }
   },
   "outputs": [],
   "source": [
    "true_edges <- readRDS('true_edges.RDS')%>% \n",
    "            lapply(sort) %>% sapply(paste, collapse = ' - ')\n",
    "fnames <- list.files(path = '/ebio/abt3_projects/temp_data/aruaud/Toy_p005_N1000_B100', full.names = TRUE) "
   ]
  },
  {
   "cell_type": "code",
   "execution_count": 62,
   "metadata": {
    "ExecuteTime": {
     "end_time": "2021-04-02T10:50:39.048520Z",
     "start_time": "2021-04-02T10:48:36.453Z"
    }
   },
   "outputs": [],
   "source": [
    "check <- lapply(fnames, getRes, true_edges = true_edges, alpha = 5, pi_thr = 0.7)\n",
    "check <- do.call(rbind, check) "
   ]
  },
  {
   "cell_type": "code",
   "execution_count": 63,
   "metadata": {
    "ExecuteTime": {
     "end_time": "2021-04-02T10:50:39.069117Z",
     "start_time": "2021-04-02T10:48:38.404Z"
    }
   },
   "outputs": [],
   "source": [
    "check$precision <- check$tp/(check$tp+check$fp)\n",
    "check$recall <- check$tp/(check$tp+check$fn)\n",
    "check$w_precision <- check$tp_imp/(check$tp_imp+check$fp_imp)"
   ]
  },
  {
   "cell_type": "code",
   "execution_count": 64,
   "metadata": {
    "ExecuteTime": {
     "end_time": "2021-04-02T10:50:39.111521Z",
     "start_time": "2021-04-02T10:48:38.801Z"
    }
   },
   "outputs": [
    {
     "data": {
      "text/html": [
       "<table class=\"dataframe\">\n",
       "<caption>A tibble: 2 × 11</caption>\n",
       "<thead>\n",
       "\t<tr><th scope=col>b</th><th scope=col>rf_accuracy</th><th scope=col>n_decisions</th><th scope=col>tp</th><th scope=col>fp</th><th scope=col>fn</th><th scope=col>tp_imp</th><th scope=col>fp_imp</th><th scope=col>precision</th><th scope=col>recall</th><th scope=col>w_precision</th></tr>\n",
       "\t<tr><th scope=col>&lt;dbl&gt;</th><th scope=col>&lt;dbl&gt;</th><th scope=col>&lt;dbl&gt;</th><th scope=col>&lt;dbl&gt;</th><th scope=col>&lt;dbl&gt;</th><th scope=col>&lt;dbl&gt;</th><th scope=col>&lt;dbl&gt;</th><th scope=col>&lt;dbl&gt;</th><th scope=col>&lt;dbl&gt;</th><th scope=col>&lt;dbl&gt;</th><th scope=col>&lt;dbl&gt;</th></tr>\n",
       "</thead>\n",
       "<tbody>\n",
       "\t<tr><td>10</td><td>0.83005</td><td>5.96</td><td>5.46</td><td>5.81</td><td>4.54</td><td> 40.02631</td><td> 6.030784</td><td>0.5569519</td><td>0.546</td><td>0.8636605</td></tr>\n",
       "\t<tr><td>90</td><td>0.83005</td><td>3.74</td><td>4.05</td><td>2.26</td><td>5.95</td><td>277.69908</td><td>30.353662</td><td>0.7140870</td><td>0.405</td><td>0.9029843</td></tr>\n",
       "</tbody>\n",
       "</table>\n"
      ],
      "text/latex": [
       "A tibble: 2 × 11\n",
       "\\begin{tabular}{lllllllllll}\n",
       " b & rf\\_accuracy & n\\_decisions & tp & fp & fn & tp\\_imp & fp\\_imp & precision & recall & w\\_precision\\\\\n",
       " <dbl> & <dbl> & <dbl> & <dbl> & <dbl> & <dbl> & <dbl> & <dbl> & <dbl> & <dbl> & <dbl>\\\\\n",
       "\\hline\n",
       "\t 10 & 0.83005 & 5.96 & 5.46 & 5.81 & 4.54 &  40.02631 &  6.030784 & 0.5569519 & 0.546 & 0.8636605\\\\\n",
       "\t 90 & 0.83005 & 3.74 & 4.05 & 2.26 & 5.95 & 277.69908 & 30.353662 & 0.7140870 & 0.405 & 0.9029843\\\\\n",
       "\\end{tabular}\n"
      ],
      "text/markdown": [
       "\n",
       "A tibble: 2 × 11\n",
       "\n",
       "| b &lt;dbl&gt; | rf_accuracy &lt;dbl&gt; | n_decisions &lt;dbl&gt; | tp &lt;dbl&gt; | fp &lt;dbl&gt; | fn &lt;dbl&gt; | tp_imp &lt;dbl&gt; | fp_imp &lt;dbl&gt; | precision &lt;dbl&gt; | recall &lt;dbl&gt; | w_precision &lt;dbl&gt; |\n",
       "|---|---|---|---|---|---|---|---|---|---|---|\n",
       "| 10 | 0.83005 | 5.96 | 5.46 | 5.81 | 4.54 |  40.02631 |  6.030784 | 0.5569519 | 0.546 | 0.8636605 |\n",
       "| 90 | 0.83005 | 3.74 | 4.05 | 2.26 | 5.95 | 277.69908 | 30.353662 | 0.7140870 | 0.405 | 0.9029843 |\n",
       "\n"
      ],
      "text/plain": [
       "  b  rf_accuracy n_decisions tp   fp   fn   tp_imp    fp_imp    precision\n",
       "1 10 0.83005     5.96        5.46 5.81 4.54  40.02631  6.030784 0.5569519\n",
       "2 90 0.83005     3.74        4.05 2.26 5.95 277.69908 30.353662 0.7140870\n",
       "  recall w_precision\n",
       "1 0.546  0.8636605  \n",
       "2 0.405  0.9029843  "
      ]
     },
     "metadata": {},
     "output_type": "display_data"
    }
   ],
   "source": [
    "check %>% group_by(b) %>% summarise_all(mean) %>% \n",
    "select(b, rf_accuracy, n_decisions, tp, fp, fn, tp_imp, fp_imp, precision, recall, w_precision) "
   ]
  },
  {
   "cell_type": "code",
   "execution_count": 65,
   "metadata": {
    "ExecuteTime": {
     "end_time": "2021-04-02T10:50:45.697994Z",
     "start_time": "2021-04-02T10:50:45.417Z"
    }
   },
   "outputs": [
    {
     "data": {
      "text/html": [
       "<table class=\"dataframe\">\n",
       "<caption>A tibble: 2 × 11</caption>\n",
       "<thead>\n",
       "\t<tr><th scope=col>b</th><th scope=col>rf_accuracy</th><th scope=col>n_decisions</th><th scope=col>tp</th><th scope=col>fp</th><th scope=col>fn</th><th scope=col>tp_imp</th><th scope=col>fp_imp</th><th scope=col>precision</th><th scope=col>recall</th><th scope=col>w_precision</th></tr>\n",
       "\t<tr><th scope=col>&lt;dbl&gt;</th><th scope=col>&lt;dbl&gt;</th><th scope=col>&lt;dbl&gt;</th><th scope=col>&lt;dbl&gt;</th><th scope=col>&lt;dbl&gt;</th><th scope=col>&lt;dbl&gt;</th><th scope=col>&lt;dbl&gt;</th><th scope=col>&lt;dbl&gt;</th><th scope=col>&lt;dbl&gt;</th><th scope=col>&lt;dbl&gt;</th><th scope=col>&lt;dbl&gt;</th></tr>\n",
       "</thead>\n",
       "<tbody>\n",
       "\t<tr><td>10</td><td>0.01949223</td><td>2.562038</td><td>2.401262</td><td>4.598408</td><td>2.401262</td><td> 22.5127</td><td> 5.98833</td><td>0.2561057</td><td>0.2401262</td><td>0.111469</td></tr>\n",
       "\t<tr><td>90</td><td>0.01949223</td><td>1.920753</td><td>2.171324</td><td>2.600000</td><td>2.171324</td><td>175.4426</td><td>37.38150</td><td>0.2566352</td><td>0.2171324</td><td>0.102485</td></tr>\n",
       "</tbody>\n",
       "</table>\n"
      ],
      "text/latex": [
       "A tibble: 2 × 11\n",
       "\\begin{tabular}{lllllllllll}\n",
       " b & rf\\_accuracy & n\\_decisions & tp & fp & fn & tp\\_imp & fp\\_imp & precision & recall & w\\_precision\\\\\n",
       " <dbl> & <dbl> & <dbl> & <dbl> & <dbl> & <dbl> & <dbl> & <dbl> & <dbl> & <dbl> & <dbl>\\\\\n",
       "\\hline\n",
       "\t 10 & 0.01949223 & 2.562038 & 2.401262 & 4.598408 & 2.401262 &  22.5127 &  5.98833 & 0.2561057 & 0.2401262 & 0.111469\\\\\n",
       "\t 90 & 0.01949223 & 1.920753 & 2.171324 & 2.600000 & 2.171324 & 175.4426 & 37.38150 & 0.2566352 & 0.2171324 & 0.102485\\\\\n",
       "\\end{tabular}\n"
      ],
      "text/markdown": [
       "\n",
       "A tibble: 2 × 11\n",
       "\n",
       "| b &lt;dbl&gt; | rf_accuracy &lt;dbl&gt; | n_decisions &lt;dbl&gt; | tp &lt;dbl&gt; | fp &lt;dbl&gt; | fn &lt;dbl&gt; | tp_imp &lt;dbl&gt; | fp_imp &lt;dbl&gt; | precision &lt;dbl&gt; | recall &lt;dbl&gt; | w_precision &lt;dbl&gt; |\n",
       "|---|---|---|---|---|---|---|---|---|---|---|\n",
       "| 10 | 0.01949223 | 2.562038 | 2.401262 | 4.598408 | 2.401262 |  22.5127 |  5.98833 | 0.2561057 | 0.2401262 | 0.111469 |\n",
       "| 90 | 0.01949223 | 1.920753 | 2.171324 | 2.600000 | 2.171324 | 175.4426 | 37.38150 | 0.2566352 | 0.2171324 | 0.102485 |\n",
       "\n"
      ],
      "text/plain": [
       "  b  rf_accuracy n_decisions tp       fp       fn       tp_imp   fp_imp  \n",
       "1 10 0.01949223  2.562038    2.401262 4.598408 2.401262  22.5127  5.98833\n",
       "2 90 0.01949223  1.920753    2.171324 2.600000 2.171324 175.4426 37.38150\n",
       "  precision recall    w_precision\n",
       "1 0.2561057 0.2401262 0.111469   \n",
       "2 0.2566352 0.2171324 0.102485   "
      ]
     },
     "metadata": {},
     "output_type": "display_data"
    }
   ],
   "source": [
    "check %>% group_by(b) %>% summarise_all(sd) %>% \n",
    "select(b, rf_accuracy, n_decisions, tp, fp, fn, tp_imp, fp_imp, precision, recall, w_precision) "
   ]
  },
  {
   "cell_type": "code",
   "execution_count": null,
   "metadata": {},
   "outputs": [],
   "source": []
  }
 ],
 "metadata": {
  "kernelspec": {
   "display_name": "R [conda env:Metagenomes_methanogen-r-ml] *",
   "language": "R",
   "name": "conda-env-Metagenomes_methanogen-r-ml-r"
  },
  "language_info": {
   "codemirror_mode": "r",
   "file_extension": ".r",
   "mimetype": "text/x-r-source",
   "name": "R",
   "pygments_lexer": "r",
   "version": "4.0.3"
  },
  "notify_time": "30",
  "toc": {
   "base_numbering": 1,
   "nav_menu": {},
   "number_sections": true,
   "sideBar": true,
   "skip_h1_title": false,
   "title_cell": "Table of Contents",
   "title_sidebar": "Contents",
   "toc_cell": false,
   "toc_position": {
    "height": "calc(100% - 180px)",
    "left": "10px",
    "top": "150px",
    "width": "165px"
   },
   "toc_section_display": true,
   "toc_window_display": true
  }
 },
 "nbformat": 4,
 "nbformat_minor": 4
}
