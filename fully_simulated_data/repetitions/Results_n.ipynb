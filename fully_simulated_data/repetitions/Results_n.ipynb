{
 "cells": [
  {
   "cell_type": "markdown",
   "metadata": {},
   "source": [
    "# Preambule"
   ]
  },
  {
   "cell_type": "markdown",
   "metadata": {},
   "source": [
    "## libraries"
   ]
  },
  {
   "cell_type": "code",
   "execution_count": 1,
   "metadata": {
    "ExecuteTime": {
     "end_time": "2021-12-17T15:01:56.472449Z",
     "start_time": "2021-12-17T15:01:51.095Z"
    }
   },
   "outputs": [
    {
     "name": "stderr",
     "output_type": "stream",
     "text": [
      "── \u001b[1mAttaching packages\u001b[22m ────────────────────────────────────────────────────────────────────────────────────────────────────────────────────────────────────── tidyverse 1.3.0 ──\n",
      "\n",
      "\u001b[32m✔\u001b[39m \u001b[34mggplot2\u001b[39m 3.3.2     \u001b[32m✔\u001b[39m \u001b[34mpurrr  \u001b[39m 0.3.4\n",
      "\u001b[32m✔\u001b[39m \u001b[34mtibble \u001b[39m 3.0.4     \u001b[32m✔\u001b[39m \u001b[34mdplyr  \u001b[39m 1.0.2\n",
      "\u001b[32m✔\u001b[39m \u001b[34mtidyr  \u001b[39m 1.1.2     \u001b[32m✔\u001b[39m \u001b[34mstringr\u001b[39m 1.4.0\n",
      "\u001b[32m✔\u001b[39m \u001b[34mreadr  \u001b[39m 1.4.0     \u001b[32m✔\u001b[39m \u001b[34mforcats\u001b[39m 0.5.0\n",
      "\n",
      "── \u001b[1mConflicts\u001b[22m ───────────────────────────────────────────────────────────────────────────────────────────────────────────────────────────────────────── tidyverse_conflicts() ──\n",
      "\u001b[31m✖\u001b[39m \u001b[34mdplyr\u001b[39m::\u001b[32mfilter()\u001b[39m masks \u001b[34mstats\u001b[39m::filter()\n",
      "\u001b[31m✖\u001b[39m \u001b[34mdplyr\u001b[39m::\u001b[32mlag()\u001b[39m    masks \u001b[34mstats\u001b[39m::lag()\n",
      "\n",
      "Loading required package: lattice\n",
      "\n",
      "\n",
      "Attaching package: ‘caret’\n",
      "\n",
      "\n",
      "The following object is masked from ‘package:purrr’:\n",
      "\n",
      "    lift\n",
      "\n",
      "\n",
      "\n",
      "Attaching package: ‘data.table’\n",
      "\n",
      "\n",
      "The following objects are masked from ‘package:dplyr’:\n",
      "\n",
      "    between, first, last\n",
      "\n",
      "\n",
      "The following object is masked from ‘package:purrr’:\n",
      "\n",
      "    transpose\n",
      "\n",
      "\n",
      "qs v0.23.4.\n",
      "\n",
      "randomForest 4.6-14\n",
      "\n",
      "Type rfNews() to see new features/changes/bug fixes.\n",
      "\n",
      "\n",
      "Attaching package: ‘randomForest’\n",
      "\n",
      "\n",
      "The following object is masked from ‘package:dplyr’:\n",
      "\n",
      "    combine\n",
      "\n",
      "\n",
      "The following object is masked from ‘package:ggplot2’:\n",
      "\n",
      "    margin\n",
      "\n",
      "\n",
      "Registered S3 method overwritten by 'RRF':\n",
      "  method      from        \n",
      "  plot.margin randomForest\n",
      "\n",
      "Warning message:\n",
      "“replacing previous import ‘data.table::last’ by ‘dplyr::last’ when loading ‘endoR’”\n",
      "Warning message:\n",
      "“replacing previous import ‘data.table::first’ by ‘dplyr::first’ when loading ‘endoR’”\n",
      "Warning message:\n",
      "“replacing previous import ‘data.table::between’ by ‘dplyr::between’ when loading ‘endoR’”\n",
      "Warning message:\n",
      "“replacing previous import ‘dplyr::union’ by ‘igraph::union’ when loading ‘endoR’”\n",
      "Warning message:\n",
      "“replacing previous import ‘dplyr::as_data_frame’ by ‘igraph::as_data_frame’ when loading ‘endoR’”\n",
      "Warning message:\n",
      "“replacing previous import ‘dplyr::groups’ by ‘igraph::groups’ when loading ‘endoR’”\n",
      "Loading required package: viridisLite\n",
      "\n"
     ]
    }
   ],
   "source": [
    "library(tidyverse)\n",
    "library(stringr)\n",
    "library(caret)\n",
    "library(data.table)\n",
    "library(stringr)\n",
    "library(dplyr)\n",
    "library(qs)\n",
    "library(parallel)\n",
    "library(randomForest)\n",
    "library(inTrees)\n",
    "library(endoR)\n",
    "library(viridis)\n",
    "library(ggpubr)\n",
    "library(parallel)"
   ]
  },
  {
   "cell_type": "code",
   "execution_count": 2,
   "metadata": {
    "ExecuteTime": {
     "end_time": "2021-12-17T15:01:56.601197Z",
     "start_time": "2021-12-17T15:01:51.099Z"
    }
   },
   "outputs": [
    {
     "data": {
      "text/plain": [
       "R version 4.0.3 (2020-10-10)\n",
       "Platform: x86_64-conda-linux-gnu (64-bit)\n",
       "Running under: Ubuntu 18.04.6 LTS\n",
       "\n",
       "Matrix products: default\n",
       "BLAS/LAPACK: /ebio/abt3_projects/Methanogen_SCFA/Metagenomes_methanogen/envs/r-ml/lib/libopenblasp-r0.3.10.so\n",
       "\n",
       "locale:\n",
       " [1] LC_CTYPE=en_US.UTF-8       LC_NUMERIC=C              \n",
       " [3] LC_TIME=en_US.UTF-8        LC_COLLATE=en_US.UTF-8    \n",
       " [5] LC_MONETARY=en_US.UTF-8    LC_MESSAGES=en_US.UTF-8   \n",
       " [7] LC_PAPER=en_US.UTF-8       LC_NAME=C                 \n",
       " [9] LC_ADDRESS=C               LC_TELEPHONE=C            \n",
       "[11] LC_MEASUREMENT=en_US.UTF-8 LC_IDENTIFICATION=C       \n",
       "\n",
       "attached base packages:\n",
       "[1] parallel  stats     graphics  grDevices utils     datasets  methods  \n",
       "[8] base     \n",
       "\n",
       "other attached packages:\n",
       " [1] ggpubr_0.4.0        viridis_0.5.1       viridisLite_0.3.0  \n",
       " [4] endoR_0.1.0         inTrees_1.3         randomForest_4.6-14\n",
       " [7] qs_0.23.4           data.table_1.13.4   caret_6.0-86       \n",
       "[10] lattice_0.20-41     forcats_0.5.0       stringr_1.4.0      \n",
       "[13] dplyr_1.0.2         purrr_0.3.4         readr_1.4.0        \n",
       "[16] tidyr_1.1.2         tibble_3.0.4        ggplot2_3.3.2      \n",
       "[19] tidyverse_1.3.0    \n",
       "\n",
       "loaded via a namespace (and not attached):\n",
       "  [1] colorspace_2.0-0     ggsignif_0.6.0       rio_0.5.16          \n",
       "  [4] ellipsis_0.3.1       class_7.3-17         IRdisplay_0.7.0     \n",
       "  [7] base64enc_0.1-3      fs_1.5.0             rstudioapi_0.13     \n",
       " [10] farver_2.0.3         graphlayouts_0.7.1   ggrepel_0.8.2       \n",
       " [13] prodlim_2019.11.13   fansi_0.4.1          lubridate_1.7.9.2   \n",
       " [16] ranger_0.12.1        xml2_1.3.2           codetools_0.2-18    \n",
       " [19] splines_4.0.3        arules_1.6-6         polyclip_1.10-0     \n",
       " [22] IRkernel_1.1.1       jsonlite_1.7.2       pROC_1.16.2         \n",
       " [25] broom_0.7.2          dbplyr_2.0.0         ggforce_0.3.2       \n",
       " [28] compiler_4.0.3       httr_1.4.2           backports_1.2.0     \n",
       " [31] assertthat_0.2.1     Matrix_1.2-18        cli_2.2.0           \n",
       " [34] tweenr_1.0.1         htmltools_0.5.0      tools_4.0.3         \n",
       " [37] igraph_1.2.6         gtable_0.3.0         glue_1.4.2          \n",
       " [40] reshape2_1.4.4       Rcpp_1.0.5           carData_3.0-4       \n",
       " [43] cellranger_1.1.0     vctrs_0.3.6          nlme_3.1-150        \n",
       " [46] iterators_1.0.13     ggraph_2.0.4         timeDate_3043.102   \n",
       " [49] gower_0.2.2          ps_1.5.0             openxlsx_4.2.3      \n",
       " [52] rvest_0.3.6          lifecycle_0.2.0      rstatix_0.6.0       \n",
       " [55] MASS_7.3-53          scales_1.1.1         ipred_0.9-9         \n",
       " [58] tidygraph_1.2.0      hms_0.5.3            curl_4.3            \n",
       " [61] gridExtra_2.3        rpart_4.1-15         stringi_1.5.3       \n",
       " [64] foreach_1.5.1        zip_2.1.1            lava_1.6.8.1        \n",
       " [67] repr_1.1.2.9000      rlang_0.4.10         pkgconfig_2.0.3     \n",
       " [70] evaluate_0.14        recipes_0.1.15       tidyselect_1.1.0    \n",
       " [73] gbm_2.1.8            plyr_1.8.6           magrittr_2.0.1      \n",
       " [76] R6_2.5.0             generics_0.1.0       pbdZMQ_0.3-3.1      \n",
       " [79] DBI_1.1.0            foreign_0.8-80       pillar_1.4.7        \n",
       " [82] haven_2.3.1          withr_2.3.0          abind_1.4-5         \n",
       " [85] survival_3.2-7       nnet_7.3-14          car_3.0-10          \n",
       " [88] modelr_0.1.8         crayon_1.3.4         xgboost_1.2.0.1     \n",
       " [91] uuid_0.1-4           RApiSerialize_0.1.0  RRF_1.9.1           \n",
       " [94] grid_4.0.3           readxl_1.3.1         ModelMetrics_1.2.2.2\n",
       " [97] reprex_0.3.0         digest_0.6.27        xtable_1.8-4        \n",
       "[100] RcppParallel_5.0.2   stats4_4.0.3         munsell_0.5.0       \n",
       "[103] stringfish_0.14.2   "
      ]
     },
     "metadata": {},
     "output_type": "display_data"
    }
   ],
   "source": [
    "sessionInfo()"
   ]
  },
  {
   "cell_type": "markdown",
   "metadata": {},
   "source": [
    "## functions"
   ]
  },
  {
   "cell_type": "code",
   "execution_count": 3,
   "metadata": {
    "ExecuteTime": {
     "end_time": "2021-12-17T15:01:56.617154Z",
     "start_time": "2021-12-17T15:01:51.102Z"
    }
   },
   "outputs": [],
   "source": [
    "getPR <- function(f, alpha, pi_thr, true_edges, colN){\n",
    "    res <- qread(f)\n",
    "    pc <- quiet(stabilitySelection(rules = res$resamp, alpha_error = alpha, pi_thr = pi_thr))\n",
    "    if (!('edges_agg' %in% names(pc))){return(NA)}\n",
    "    \n",
    "    edges <- pc$edges_agg %>% select(x, y, condition, importance, influence, d.x, d.y) %>% \n",
    "        subset(condition %in% pc$rules_summary$condition) %>%\n",
    "        group_by(x, y, condition) %>% \n",
    "        summarise(importance= mean(importance), influence = mean(influence*(d.x+d.y)/2)) %>%\n",
    "        ungroup %>% \n",
    "        left_join(select(pc$rules_summary,condition, inN, imp, n), by = 'condition') %>% \n",
    "        select(-condition)\n",
    "    \n",
    "    edi <- lapply(unique(edges$inN)\n",
    "                  , function(i, edges, true_edges, colN){\n",
    "                      suppressMessages(edges <- edges %>% subset(inN >= i) %>% group_by(x, y) %>% \n",
    "                                       summarise( inN = max(inN), importance = sum(importance*imp*n)\n",
    "                                                 , influence = sum(influence*imp*n)/sum(imp*n) ) %>% ungroup)\n",
    "                      metricsNet(edges = edges, true_edges = true_edges, colN = colN)\n",
    "                  }, edges = edges, true_edges = true_edges, colN = colN)\n",
    "    edi <- as.data.frame(do.call(rbind, edi))\n",
    "    edi$inN <- unique(edges$inN)\n",
    "    \n",
    "    edi$N <- str_extract(f, pattern = '(?<=N)[:digit:]+(?=\\\\_)')\n",
    "    edi$seedN <- str_extract(f, pattern = '(?<=simu)[:digit:]+(?=\\\\_)')\n",
    "    \n",
    "    return(edi)\n",
    "}"
   ]
  },
  {
   "cell_type": "code",
   "execution_count": 4,
   "metadata": {
    "ExecuteTime": {
     "end_time": "2021-12-17T15:01:56.644527Z",
     "start_time": "2021-12-17T15:01:51.104Z"
    }
   },
   "outputs": [],
   "source": [
    "file.sources <- list.files('./scripts/', pattern = '*.R', full.names=TRUE, ignore.case=TRUE)\n",
    "for (f in file.sources) {\n",
    "    source(f)\n",
    "}\n",
    "rm('file.sources', 'f')"
   ]
  },
  {
   "cell_type": "markdown",
   "metadata": {},
   "source": [
    "# Run"
   ]
  },
  {
   "cell_type": "code",
   "execution_count": 5,
   "metadata": {
    "ExecuteTime": {
     "end_time": "2021-12-17T15:01:56.660341Z",
     "start_time": "2021-12-17T15:01:51.107Z"
    }
   },
   "outputs": [],
   "source": [
    "true_edges <- qread('true_edges.qs')"
   ]
  },
  {
   "cell_type": "code",
   "execution_count": 12,
   "metadata": {
    "ExecuteTime": {
     "end_time": "2021-12-17T15:07:28.113293Z",
     "start_time": "2021-12-17T15:07:24.165Z"
    },
    "scrolled": true
   },
   "outputs": [
    {
     "data": {
      "text/html": [
       "<style>\n",
       ".list-inline {list-style: none; margin:0; padding: 0}\n",
       ".list-inline>li {display: inline-block}\n",
       ".list-inline>li:not(:last-child)::after {content: \"\\00b7\"; padding: 0 .5ex}\n",
       "</style>\n",
       "<ol class=list-inline><li>'/ebio/abt3_projects/temp_data/aruaud//Toy_p005_N1000_B10_simpler'</li><li>'/ebio/abt3_projects/temp_data/aruaud//Toy_p005_N200_B10_simpler'</li><li>'/ebio/abt3_projects/temp_data/aruaud//Toy_p005_N500_B10_simpler'</li><li>'/ebio/abt3_projects/temp_data/aruaud//Toy_p005_N5000_B10_simpler'</li><li>'/ebio/abt3_projects/temp_data/aruaud//Toy_p005_N800_B10_simpler'</li></ol>\n"
      ],
      "text/latex": [
       "\\begin{enumerate*}\n",
       "\\item '/ebio/abt3\\_projects/temp\\_data/aruaud//Toy\\_p005\\_N1000\\_B10\\_simpler'\n",
       "\\item '/ebio/abt3\\_projects/temp\\_data/aruaud//Toy\\_p005\\_N200\\_B10\\_simpler'\n",
       "\\item '/ebio/abt3\\_projects/temp\\_data/aruaud//Toy\\_p005\\_N500\\_B10\\_simpler'\n",
       "\\item '/ebio/abt3\\_projects/temp\\_data/aruaud//Toy\\_p005\\_N5000\\_B10\\_simpler'\n",
       "\\item '/ebio/abt3\\_projects/temp\\_data/aruaud//Toy\\_p005\\_N800\\_B10\\_simpler'\n",
       "\\end{enumerate*}\n"
      ],
      "text/markdown": [
       "1. '/ebio/abt3_projects/temp_data/aruaud//Toy_p005_N1000_B10_simpler'\n",
       "2. '/ebio/abt3_projects/temp_data/aruaud//Toy_p005_N200_B10_simpler'\n",
       "3. '/ebio/abt3_projects/temp_data/aruaud//Toy_p005_N500_B10_simpler'\n",
       "4. '/ebio/abt3_projects/temp_data/aruaud//Toy_p005_N5000_B10_simpler'\n",
       "5. '/ebio/abt3_projects/temp_data/aruaud//Toy_p005_N800_B10_simpler'\n",
       "\n",
       "\n"
      ],
      "text/plain": [
       "[1] \"/ebio/abt3_projects/temp_data/aruaud//Toy_p005_N1000_B10_simpler\"\n",
       "[2] \"/ebio/abt3_projects/temp_data/aruaud//Toy_p005_N200_B10_simpler\" \n",
       "[3] \"/ebio/abt3_projects/temp_data/aruaud//Toy_p005_N500_B10_simpler\" \n",
       "[4] \"/ebio/abt3_projects/temp_data/aruaud//Toy_p005_N5000_B10_simpler\"\n",
       "[5] \"/ebio/abt3_projects/temp_data/aruaud//Toy_p005_N800_B10_simpler\" "
      ]
     },
     "metadata": {},
     "output_type": "display_data"
    }
   ],
   "source": [
    "tmp <- list.dirs(path = '/ebio/abt3_projects/temp_data/aruaud/', full.names = TRUE)\n",
    "tmp <- str_subset(tmp, pattern = 'Toy\\\\_p005\\\\_N(1|5|2|8|6)[:digit:]+\\\\_B10_simpler$')\n",
    "tmp"
   ]
  },
  {
   "cell_type": "code",
   "execution_count": 13,
   "metadata": {
    "ExecuteTime": {
     "end_time": "2021-12-17T15:07:28.139656Z",
     "start_time": "2021-12-17T15:07:24.421Z"
    }
   },
   "outputs": [],
   "source": [
    "fnames <- lapply(tmp, list.files,  full.names = TRUE)\n",
    "names(fnames) <- tmp"
   ]
  },
  {
   "cell_type": "code",
   "execution_count": 14,
   "metadata": {
    "ExecuteTime": {
     "end_time": "2021-12-17T15:07:28.163152Z",
     "start_time": "2021-12-17T15:07:24.644Z"
    }
   },
   "outputs": [
    {
     "data": {
      "text/html": [
       "<dl>\n",
       "\t<dt>$`/ebio/abt3_projects/temp_data/aruaud//Toy_p005_N1000_B10_simpler`</dt>\n",
       "\t\t<dd>100</dd>\n",
       "\t<dt>$`/ebio/abt3_projects/temp_data/aruaud//Toy_p005_N200_B10_simpler`</dt>\n",
       "\t\t<dd>101</dd>\n",
       "\t<dt>$`/ebio/abt3_projects/temp_data/aruaud//Toy_p005_N500_B10_simpler`</dt>\n",
       "\t\t<dd>100</dd>\n",
       "\t<dt>$`/ebio/abt3_projects/temp_data/aruaud//Toy_p005_N5000_B10_simpler`</dt>\n",
       "\t\t<dd>100</dd>\n",
       "\t<dt>$`/ebio/abt3_projects/temp_data/aruaud//Toy_p005_N800_B10_simpler`</dt>\n",
       "\t\t<dd>100</dd>\n",
       "</dl>\n"
      ],
      "text/latex": [
       "\\begin{description}\n",
       "\\item[\\$`/ebio/abt3\\_projects/temp\\_data/aruaud//Toy\\_p005\\_N1000\\_B10\\_simpler`] 100\n",
       "\\item[\\$`/ebio/abt3\\_projects/temp\\_data/aruaud//Toy\\_p005\\_N200\\_B10\\_simpler`] 101\n",
       "\\item[\\$`/ebio/abt3\\_projects/temp\\_data/aruaud//Toy\\_p005\\_N500\\_B10\\_simpler`] 100\n",
       "\\item[\\$`/ebio/abt3\\_projects/temp\\_data/aruaud//Toy\\_p005\\_N5000\\_B10\\_simpler`] 100\n",
       "\\item[\\$`/ebio/abt3\\_projects/temp\\_data/aruaud//Toy\\_p005\\_N800\\_B10\\_simpler`] 100\n",
       "\\end{description}\n"
      ],
      "text/markdown": [
       "$`/ebio/abt3_projects/temp_data/aruaud//Toy_p005_N1000_B10_simpler`\n",
       ":   100\n",
       "$`/ebio/abt3_projects/temp_data/aruaud//Toy_p005_N200_B10_simpler`\n",
       ":   101\n",
       "$`/ebio/abt3_projects/temp_data/aruaud//Toy_p005_N500_B10_simpler`\n",
       ":   100\n",
       "$`/ebio/abt3_projects/temp_data/aruaud//Toy_p005_N5000_B10_simpler`\n",
       ":   100\n",
       "$`/ebio/abt3_projects/temp_data/aruaud//Toy_p005_N800_B10_simpler`\n",
       ":   100\n",
       "\n",
       "\n"
      ],
      "text/plain": [
       "$`/ebio/abt3_projects/temp_data/aruaud//Toy_p005_N1000_B10_simpler`\n",
       "[1] 100\n",
       "\n",
       "$`/ebio/abt3_projects/temp_data/aruaud//Toy_p005_N200_B10_simpler`\n",
       "[1] 101\n",
       "\n",
       "$`/ebio/abt3_projects/temp_data/aruaud//Toy_p005_N500_B10_simpler`\n",
       "[1] 100\n",
       "\n",
       "$`/ebio/abt3_projects/temp_data/aruaud//Toy_p005_N5000_B10_simpler`\n",
       "[1] 100\n",
       "\n",
       "$`/ebio/abt3_projects/temp_data/aruaud//Toy_p005_N800_B10_simpler`\n",
       "[1] 100\n"
      ]
     },
     "metadata": {},
     "output_type": "display_data"
    }
   ],
   "source": [
    "lapply(fnames, length)"
   ]
  },
  {
   "cell_type": "code",
   "execution_count": 15,
   "metadata": {
    "ExecuteTime": {
     "end_time": "2021-12-17T15:07:28.199225Z",
     "start_time": "2021-12-17T15:07:24.840Z"
    }
   },
   "outputs": [
    {
     "data": {
      "text/html": [
       "100"
      ],
      "text/latex": [
       "100"
      ],
      "text/markdown": [
       "100"
      ],
      "text/plain": [
       "[1] 100"
      ]
     },
     "metadata": {},
     "output_type": "display_data"
    }
   ],
   "source": [
    "set.seed(1105)\n",
    "fnames[['/ebio/abt3_projects/temp_data/aruaud//Toy_p005_N200_B10_simpler']] <- sample(fnames[['/ebio/abt3_projects/temp_data/aruaud//Toy_p005_N200_B10_simpler']], size = 100, replace = FALSE)\n",
    "fnames[['/ebio/abt3_projects/temp_data/aruaud//Toy_p005_N200_B10_simpler']] %>% length"
   ]
  },
  {
   "cell_type": "code",
   "execution_count": 16,
   "metadata": {
    "ExecuteTime": {
     "end_time": "2021-12-17T15:07:28.215042Z",
     "start_time": "2021-12-17T15:07:27.134Z"
    }
   },
   "outputs": [],
   "source": [
    "fnames <- unlist(fnames)"
   ]
  },
  {
   "cell_type": "code",
   "execution_count": 17,
   "metadata": {
    "ExecuteTime": {
     "end_time": "2021-12-17T15:07:31.324636Z",
     "start_time": "2021-12-17T15:07:29.353Z"
    }
   },
   "outputs": [],
   "source": [
    "tmp <- qread(fnames[1])\n",
    "colN <- colnames(tmp$data$x)"
   ]
  },
  {
   "cell_type": "code",
   "execution_count": 18,
   "metadata": {
    "ExecuteTime": {
     "end_time": "2021-12-17T15:07:35.997878Z",
     "start_time": "2021-12-17T15:07:29.778Z"
    }
   },
   "outputs": [
    {
     "data": {
      "text/html": [
       "<ol>\n",
       "\t<li><style>\n",
       ".list-inline {list-style: none; margin:0; padding: 0}\n",
       ".list-inline>li {display: inline-block}\n",
       ".list-inline>li:not(:last-child)::after {content: \"\\00b7\"; padding: 0 .5ex}\n",
       "</style>\n",
       "<ol class=list-inline><li>'qs'</li><li>'stats'</li><li>'graphics'</li><li>'grDevices'</li><li>'utils'</li><li>'datasets'</li><li>'methods'</li><li>'base'</li></ol>\n",
       "</li>\n",
       "\t<li><style>\n",
       ".list-inline {list-style: none; margin:0; padding: 0}\n",
       ".list-inline>li {display: inline-block}\n",
       ".list-inline>li:not(:last-child)::after {content: \"\\00b7\"; padding: 0 .5ex}\n",
       "</style>\n",
       "<ol class=list-inline><li>'qs'</li><li>'stats'</li><li>'graphics'</li><li>'grDevices'</li><li>'utils'</li><li>'datasets'</li><li>'methods'</li><li>'base'</li></ol>\n",
       "</li>\n",
       "\t<li><style>\n",
       ".list-inline {list-style: none; margin:0; padding: 0}\n",
       ".list-inline>li {display: inline-block}\n",
       ".list-inline>li:not(:last-child)::after {content: \"\\00b7\"; padding: 0 .5ex}\n",
       "</style>\n",
       "<ol class=list-inline><li>'qs'</li><li>'stats'</li><li>'graphics'</li><li>'grDevices'</li><li>'utils'</li><li>'datasets'</li><li>'methods'</li><li>'base'</li></ol>\n",
       "</li>\n",
       "\t<li><style>\n",
       ".list-inline {list-style: none; margin:0; padding: 0}\n",
       ".list-inline>li {display: inline-block}\n",
       ".list-inline>li:not(:last-child)::after {content: \"\\00b7\"; padding: 0 .5ex}\n",
       "</style>\n",
       "<ol class=list-inline><li>'qs'</li><li>'stats'</li><li>'graphics'</li><li>'grDevices'</li><li>'utils'</li><li>'datasets'</li><li>'methods'</li><li>'base'</li></ol>\n",
       "</li>\n",
       "\t<li><style>\n",
       ".list-inline {list-style: none; margin:0; padding: 0}\n",
       ".list-inline>li {display: inline-block}\n",
       ".list-inline>li:not(:last-child)::after {content: \"\\00b7\"; padding: 0 .5ex}\n",
       "</style>\n",
       "<ol class=list-inline><li>'qs'</li><li>'stats'</li><li>'graphics'</li><li>'grDevices'</li><li>'utils'</li><li>'datasets'</li><li>'methods'</li><li>'base'</li></ol>\n",
       "</li>\n",
       "</ol>\n"
      ],
      "text/latex": [
       "\\begin{enumerate}\n",
       "\\item \\begin{enumerate*}\n",
       "\\item 'qs'\n",
       "\\item 'stats'\n",
       "\\item 'graphics'\n",
       "\\item 'grDevices'\n",
       "\\item 'utils'\n",
       "\\item 'datasets'\n",
       "\\item 'methods'\n",
       "\\item 'base'\n",
       "\\end{enumerate*}\n",
       "\n",
       "\\item \\begin{enumerate*}\n",
       "\\item 'qs'\n",
       "\\item 'stats'\n",
       "\\item 'graphics'\n",
       "\\item 'grDevices'\n",
       "\\item 'utils'\n",
       "\\item 'datasets'\n",
       "\\item 'methods'\n",
       "\\item 'base'\n",
       "\\end{enumerate*}\n",
       "\n",
       "\\item \\begin{enumerate*}\n",
       "\\item 'qs'\n",
       "\\item 'stats'\n",
       "\\item 'graphics'\n",
       "\\item 'grDevices'\n",
       "\\item 'utils'\n",
       "\\item 'datasets'\n",
       "\\item 'methods'\n",
       "\\item 'base'\n",
       "\\end{enumerate*}\n",
       "\n",
       "\\item \\begin{enumerate*}\n",
       "\\item 'qs'\n",
       "\\item 'stats'\n",
       "\\item 'graphics'\n",
       "\\item 'grDevices'\n",
       "\\item 'utils'\n",
       "\\item 'datasets'\n",
       "\\item 'methods'\n",
       "\\item 'base'\n",
       "\\end{enumerate*}\n",
       "\n",
       "\\item \\begin{enumerate*}\n",
       "\\item 'qs'\n",
       "\\item 'stats'\n",
       "\\item 'graphics'\n",
       "\\item 'grDevices'\n",
       "\\item 'utils'\n",
       "\\item 'datasets'\n",
       "\\item 'methods'\n",
       "\\item 'base'\n",
       "\\end{enumerate*}\n",
       "\n",
       "\\end{enumerate}\n"
      ],
      "text/markdown": [
       "1. 1. 'qs'\n",
       "2. 'stats'\n",
       "3. 'graphics'\n",
       "4. 'grDevices'\n",
       "5. 'utils'\n",
       "6. 'datasets'\n",
       "7. 'methods'\n",
       "8. 'base'\n",
       "\n",
       "\n",
       "\n",
       "2. 1. 'qs'\n",
       "2. 'stats'\n",
       "3. 'graphics'\n",
       "4. 'grDevices'\n",
       "5. 'utils'\n",
       "6. 'datasets'\n",
       "7. 'methods'\n",
       "8. 'base'\n",
       "\n",
       "\n",
       "\n",
       "3. 1. 'qs'\n",
       "2. 'stats'\n",
       "3. 'graphics'\n",
       "4. 'grDevices'\n",
       "5. 'utils'\n",
       "6. 'datasets'\n",
       "7. 'methods'\n",
       "8. 'base'\n",
       "\n",
       "\n",
       "\n",
       "4. 1. 'qs'\n",
       "2. 'stats'\n",
       "3. 'graphics'\n",
       "4. 'grDevices'\n",
       "5. 'utils'\n",
       "6. 'datasets'\n",
       "7. 'methods'\n",
       "8. 'base'\n",
       "\n",
       "\n",
       "\n",
       "5. 1. 'qs'\n",
       "2. 'stats'\n",
       "3. 'graphics'\n",
       "4. 'grDevices'\n",
       "5. 'utils'\n",
       "6. 'datasets'\n",
       "7. 'methods'\n",
       "8. 'base'\n",
       "\n",
       "\n",
       "\n",
       "\n",
       "\n"
      ],
      "text/plain": [
       "[[1]]\n",
       "[1] \"qs\"        \"stats\"     \"graphics\"  \"grDevices\" \"utils\"     \"datasets\" \n",
       "[7] \"methods\"   \"base\"     \n",
       "\n",
       "[[2]]\n",
       "[1] \"qs\"        \"stats\"     \"graphics\"  \"grDevices\" \"utils\"     \"datasets\" \n",
       "[7] \"methods\"   \"base\"     \n",
       "\n",
       "[[3]]\n",
       "[1] \"qs\"        \"stats\"     \"graphics\"  \"grDevices\" \"utils\"     \"datasets\" \n",
       "[7] \"methods\"   \"base\"     \n",
       "\n",
       "[[4]]\n",
       "[1] \"qs\"        \"stats\"     \"graphics\"  \"grDevices\" \"utils\"     \"datasets\" \n",
       "[7] \"methods\"   \"base\"     \n",
       "\n",
       "[[5]]\n",
       "[1] \"qs\"        \"stats\"     \"graphics\"  \"grDevices\" \"utils\"     \"datasets\" \n",
       "[7] \"methods\"   \"base\"     \n"
      ]
     },
     "metadata": {},
     "output_type": "display_data"
    },
    {
     "data": {
      "text/html": [
       "<ol>\n",
       "\t<li><style>\n",
       ".list-inline {list-style: none; margin:0; padding: 0}\n",
       ".list-inline>li {display: inline-block}\n",
       ".list-inline>li:not(:last-child)::after {content: \"\\00b7\"; padding: 0 .5ex}\n",
       "</style>\n",
       "<ol class=list-inline><li>'endoR'</li><li>'qs'</li><li>'stats'</li><li>'graphics'</li><li>'grDevices'</li><li>'utils'</li><li>'datasets'</li><li>'methods'</li><li>'base'</li></ol>\n",
       "</li>\n",
       "\t<li><style>\n",
       ".list-inline {list-style: none; margin:0; padding: 0}\n",
       ".list-inline>li {display: inline-block}\n",
       ".list-inline>li:not(:last-child)::after {content: \"\\00b7\"; padding: 0 .5ex}\n",
       "</style>\n",
       "<ol class=list-inline><li>'endoR'</li><li>'qs'</li><li>'stats'</li><li>'graphics'</li><li>'grDevices'</li><li>'utils'</li><li>'datasets'</li><li>'methods'</li><li>'base'</li></ol>\n",
       "</li>\n",
       "\t<li><style>\n",
       ".list-inline {list-style: none; margin:0; padding: 0}\n",
       ".list-inline>li {display: inline-block}\n",
       ".list-inline>li:not(:last-child)::after {content: \"\\00b7\"; padding: 0 .5ex}\n",
       "</style>\n",
       "<ol class=list-inline><li>'endoR'</li><li>'qs'</li><li>'stats'</li><li>'graphics'</li><li>'grDevices'</li><li>'utils'</li><li>'datasets'</li><li>'methods'</li><li>'base'</li></ol>\n",
       "</li>\n",
       "\t<li><style>\n",
       ".list-inline {list-style: none; margin:0; padding: 0}\n",
       ".list-inline>li {display: inline-block}\n",
       ".list-inline>li:not(:last-child)::after {content: \"\\00b7\"; padding: 0 .5ex}\n",
       "</style>\n",
       "<ol class=list-inline><li>'endoR'</li><li>'qs'</li><li>'stats'</li><li>'graphics'</li><li>'grDevices'</li><li>'utils'</li><li>'datasets'</li><li>'methods'</li><li>'base'</li></ol>\n",
       "</li>\n",
       "\t<li><style>\n",
       ".list-inline {list-style: none; margin:0; padding: 0}\n",
       ".list-inline>li {display: inline-block}\n",
       ".list-inline>li:not(:last-child)::after {content: \"\\00b7\"; padding: 0 .5ex}\n",
       "</style>\n",
       "<ol class=list-inline><li>'endoR'</li><li>'qs'</li><li>'stats'</li><li>'graphics'</li><li>'grDevices'</li><li>'utils'</li><li>'datasets'</li><li>'methods'</li><li>'base'</li></ol>\n",
       "</li>\n",
       "</ol>\n"
      ],
      "text/latex": [
       "\\begin{enumerate}\n",
       "\\item \\begin{enumerate*}\n",
       "\\item 'endoR'\n",
       "\\item 'qs'\n",
       "\\item 'stats'\n",
       "\\item 'graphics'\n",
       "\\item 'grDevices'\n",
       "\\item 'utils'\n",
       "\\item 'datasets'\n",
       "\\item 'methods'\n",
       "\\item 'base'\n",
       "\\end{enumerate*}\n",
       "\n",
       "\\item \\begin{enumerate*}\n",
       "\\item 'endoR'\n",
       "\\item 'qs'\n",
       "\\item 'stats'\n",
       "\\item 'graphics'\n",
       "\\item 'grDevices'\n",
       "\\item 'utils'\n",
       "\\item 'datasets'\n",
       "\\item 'methods'\n",
       "\\item 'base'\n",
       "\\end{enumerate*}\n",
       "\n",
       "\\item \\begin{enumerate*}\n",
       "\\item 'endoR'\n",
       "\\item 'qs'\n",
       "\\item 'stats'\n",
       "\\item 'graphics'\n",
       "\\item 'grDevices'\n",
       "\\item 'utils'\n",
       "\\item 'datasets'\n",
       "\\item 'methods'\n",
       "\\item 'base'\n",
       "\\end{enumerate*}\n",
       "\n",
       "\\item \\begin{enumerate*}\n",
       "\\item 'endoR'\n",
       "\\item 'qs'\n",
       "\\item 'stats'\n",
       "\\item 'graphics'\n",
       "\\item 'grDevices'\n",
       "\\item 'utils'\n",
       "\\item 'datasets'\n",
       "\\item 'methods'\n",
       "\\item 'base'\n",
       "\\end{enumerate*}\n",
       "\n",
       "\\item \\begin{enumerate*}\n",
       "\\item 'endoR'\n",
       "\\item 'qs'\n",
       "\\item 'stats'\n",
       "\\item 'graphics'\n",
       "\\item 'grDevices'\n",
       "\\item 'utils'\n",
       "\\item 'datasets'\n",
       "\\item 'methods'\n",
       "\\item 'base'\n",
       "\\end{enumerate*}\n",
       "\n",
       "\\end{enumerate}\n"
      ],
      "text/markdown": [
       "1. 1. 'endoR'\n",
       "2. 'qs'\n",
       "3. 'stats'\n",
       "4. 'graphics'\n",
       "5. 'grDevices'\n",
       "6. 'utils'\n",
       "7. 'datasets'\n",
       "8. 'methods'\n",
       "9. 'base'\n",
       "\n",
       "\n",
       "\n",
       "2. 1. 'endoR'\n",
       "2. 'qs'\n",
       "3. 'stats'\n",
       "4. 'graphics'\n",
       "5. 'grDevices'\n",
       "6. 'utils'\n",
       "7. 'datasets'\n",
       "8. 'methods'\n",
       "9. 'base'\n",
       "\n",
       "\n",
       "\n",
       "3. 1. 'endoR'\n",
       "2. 'qs'\n",
       "3. 'stats'\n",
       "4. 'graphics'\n",
       "5. 'grDevices'\n",
       "6. 'utils'\n",
       "7. 'datasets'\n",
       "8. 'methods'\n",
       "9. 'base'\n",
       "\n",
       "\n",
       "\n",
       "4. 1. 'endoR'\n",
       "2. 'qs'\n",
       "3. 'stats'\n",
       "4. 'graphics'\n",
       "5. 'grDevices'\n",
       "6. 'utils'\n",
       "7. 'datasets'\n",
       "8. 'methods'\n",
       "9. 'base'\n",
       "\n",
       "\n",
       "\n",
       "5. 1. 'endoR'\n",
       "2. 'qs'\n",
       "3. 'stats'\n",
       "4. 'graphics'\n",
       "5. 'grDevices'\n",
       "6. 'utils'\n",
       "7. 'datasets'\n",
       "8. 'methods'\n",
       "9. 'base'\n",
       "\n",
       "\n",
       "\n",
       "\n",
       "\n"
      ],
      "text/plain": [
       "[[1]]\n",
       "[1] \"endoR\"     \"qs\"        \"stats\"     \"graphics\"  \"grDevices\" \"utils\"    \n",
       "[7] \"datasets\"  \"methods\"   \"base\"     \n",
       "\n",
       "[[2]]\n",
       "[1] \"endoR\"     \"qs\"        \"stats\"     \"graphics\"  \"grDevices\" \"utils\"    \n",
       "[7] \"datasets\"  \"methods\"   \"base\"     \n",
       "\n",
       "[[3]]\n",
       "[1] \"endoR\"     \"qs\"        \"stats\"     \"graphics\"  \"grDevices\" \"utils\"    \n",
       "[7] \"datasets\"  \"methods\"   \"base\"     \n",
       "\n",
       "[[4]]\n",
       "[1] \"endoR\"     \"qs\"        \"stats\"     \"graphics\"  \"grDevices\" \"utils\"    \n",
       "[7] \"datasets\"  \"methods\"   \"base\"     \n",
       "\n",
       "[[5]]\n",
       "[1] \"endoR\"     \"qs\"        \"stats\"     \"graphics\"  \"grDevices\" \"utils\"    \n",
       "[7] \"datasets\"  \"methods\"   \"base\"     \n"
      ]
     },
     "metadata": {},
     "output_type": "display_data"
    },
    {
     "data": {
      "text/html": [
       "<ol>\n",
       "\t<li><style>\n",
       ".list-inline {list-style: none; margin:0; padding: 0}\n",
       ".list-inline>li {display: inline-block}\n",
       ".list-inline>li:not(:last-child)::after {content: \"\\00b7\"; padding: 0 .5ex}\n",
       "</style>\n",
       "<ol class=list-inline><li>'forcats'</li><li>'stringr'</li><li>'dplyr'</li><li>'purrr'</li><li>'readr'</li><li>'tidyr'</li><li>'tibble'</li><li>'ggplot2'</li><li>'tidyverse'</li><li>'endoR'</li><li>'qs'</li><li>'stats'</li><li>'graphics'</li><li>'grDevices'</li><li>'utils'</li><li>'datasets'</li><li>'methods'</li><li>'base'</li></ol>\n",
       "</li>\n",
       "\t<li><style>\n",
       ".list-inline {list-style: none; margin:0; padding: 0}\n",
       ".list-inline>li {display: inline-block}\n",
       ".list-inline>li:not(:last-child)::after {content: \"\\00b7\"; padding: 0 .5ex}\n",
       "</style>\n",
       "<ol class=list-inline><li>'forcats'</li><li>'stringr'</li><li>'dplyr'</li><li>'purrr'</li><li>'readr'</li><li>'tidyr'</li><li>'tibble'</li><li>'ggplot2'</li><li>'tidyverse'</li><li>'endoR'</li><li>'qs'</li><li>'stats'</li><li>'graphics'</li><li>'grDevices'</li><li>'utils'</li><li>'datasets'</li><li>'methods'</li><li>'base'</li></ol>\n",
       "</li>\n",
       "\t<li><style>\n",
       ".list-inline {list-style: none; margin:0; padding: 0}\n",
       ".list-inline>li {display: inline-block}\n",
       ".list-inline>li:not(:last-child)::after {content: \"\\00b7\"; padding: 0 .5ex}\n",
       "</style>\n",
       "<ol class=list-inline><li>'forcats'</li><li>'stringr'</li><li>'dplyr'</li><li>'purrr'</li><li>'readr'</li><li>'tidyr'</li><li>'tibble'</li><li>'ggplot2'</li><li>'tidyverse'</li><li>'endoR'</li><li>'qs'</li><li>'stats'</li><li>'graphics'</li><li>'grDevices'</li><li>'utils'</li><li>'datasets'</li><li>'methods'</li><li>'base'</li></ol>\n",
       "</li>\n",
       "\t<li><style>\n",
       ".list-inline {list-style: none; margin:0; padding: 0}\n",
       ".list-inline>li {display: inline-block}\n",
       ".list-inline>li:not(:last-child)::after {content: \"\\00b7\"; padding: 0 .5ex}\n",
       "</style>\n",
       "<ol class=list-inline><li>'forcats'</li><li>'stringr'</li><li>'dplyr'</li><li>'purrr'</li><li>'readr'</li><li>'tidyr'</li><li>'tibble'</li><li>'ggplot2'</li><li>'tidyverse'</li><li>'endoR'</li><li>'qs'</li><li>'stats'</li><li>'graphics'</li><li>'grDevices'</li><li>'utils'</li><li>'datasets'</li><li>'methods'</li><li>'base'</li></ol>\n",
       "</li>\n",
       "\t<li><style>\n",
       ".list-inline {list-style: none; margin:0; padding: 0}\n",
       ".list-inline>li {display: inline-block}\n",
       ".list-inline>li:not(:last-child)::after {content: \"\\00b7\"; padding: 0 .5ex}\n",
       "</style>\n",
       "<ol class=list-inline><li>'forcats'</li><li>'stringr'</li><li>'dplyr'</li><li>'purrr'</li><li>'readr'</li><li>'tidyr'</li><li>'tibble'</li><li>'ggplot2'</li><li>'tidyverse'</li><li>'endoR'</li><li>'qs'</li><li>'stats'</li><li>'graphics'</li><li>'grDevices'</li><li>'utils'</li><li>'datasets'</li><li>'methods'</li><li>'base'</li></ol>\n",
       "</li>\n",
       "</ol>\n"
      ],
      "text/latex": [
       "\\begin{enumerate}\n",
       "\\item \\begin{enumerate*}\n",
       "\\item 'forcats'\n",
       "\\item 'stringr'\n",
       "\\item 'dplyr'\n",
       "\\item 'purrr'\n",
       "\\item 'readr'\n",
       "\\item 'tidyr'\n",
       "\\item 'tibble'\n",
       "\\item 'ggplot2'\n",
       "\\item 'tidyverse'\n",
       "\\item 'endoR'\n",
       "\\item 'qs'\n",
       "\\item 'stats'\n",
       "\\item 'graphics'\n",
       "\\item 'grDevices'\n",
       "\\item 'utils'\n",
       "\\item 'datasets'\n",
       "\\item 'methods'\n",
       "\\item 'base'\n",
       "\\end{enumerate*}\n",
       "\n",
       "\\item \\begin{enumerate*}\n",
       "\\item 'forcats'\n",
       "\\item 'stringr'\n",
       "\\item 'dplyr'\n",
       "\\item 'purrr'\n",
       "\\item 'readr'\n",
       "\\item 'tidyr'\n",
       "\\item 'tibble'\n",
       "\\item 'ggplot2'\n",
       "\\item 'tidyverse'\n",
       "\\item 'endoR'\n",
       "\\item 'qs'\n",
       "\\item 'stats'\n",
       "\\item 'graphics'\n",
       "\\item 'grDevices'\n",
       "\\item 'utils'\n",
       "\\item 'datasets'\n",
       "\\item 'methods'\n",
       "\\item 'base'\n",
       "\\end{enumerate*}\n",
       "\n",
       "\\item \\begin{enumerate*}\n",
       "\\item 'forcats'\n",
       "\\item 'stringr'\n",
       "\\item 'dplyr'\n",
       "\\item 'purrr'\n",
       "\\item 'readr'\n",
       "\\item 'tidyr'\n",
       "\\item 'tibble'\n",
       "\\item 'ggplot2'\n",
       "\\item 'tidyverse'\n",
       "\\item 'endoR'\n",
       "\\item 'qs'\n",
       "\\item 'stats'\n",
       "\\item 'graphics'\n",
       "\\item 'grDevices'\n",
       "\\item 'utils'\n",
       "\\item 'datasets'\n",
       "\\item 'methods'\n",
       "\\item 'base'\n",
       "\\end{enumerate*}\n",
       "\n",
       "\\item \\begin{enumerate*}\n",
       "\\item 'forcats'\n",
       "\\item 'stringr'\n",
       "\\item 'dplyr'\n",
       "\\item 'purrr'\n",
       "\\item 'readr'\n",
       "\\item 'tidyr'\n",
       "\\item 'tibble'\n",
       "\\item 'ggplot2'\n",
       "\\item 'tidyverse'\n",
       "\\item 'endoR'\n",
       "\\item 'qs'\n",
       "\\item 'stats'\n",
       "\\item 'graphics'\n",
       "\\item 'grDevices'\n",
       "\\item 'utils'\n",
       "\\item 'datasets'\n",
       "\\item 'methods'\n",
       "\\item 'base'\n",
       "\\end{enumerate*}\n",
       "\n",
       "\\item \\begin{enumerate*}\n",
       "\\item 'forcats'\n",
       "\\item 'stringr'\n",
       "\\item 'dplyr'\n",
       "\\item 'purrr'\n",
       "\\item 'readr'\n",
       "\\item 'tidyr'\n",
       "\\item 'tibble'\n",
       "\\item 'ggplot2'\n",
       "\\item 'tidyverse'\n",
       "\\item 'endoR'\n",
       "\\item 'qs'\n",
       "\\item 'stats'\n",
       "\\item 'graphics'\n",
       "\\item 'grDevices'\n",
       "\\item 'utils'\n",
       "\\item 'datasets'\n",
       "\\item 'methods'\n",
       "\\item 'base'\n",
       "\\end{enumerate*}\n",
       "\n",
       "\\end{enumerate}\n"
      ],
      "text/markdown": [
       "1. 1. 'forcats'\n",
       "2. 'stringr'\n",
       "3. 'dplyr'\n",
       "4. 'purrr'\n",
       "5. 'readr'\n",
       "6. 'tidyr'\n",
       "7. 'tibble'\n",
       "8. 'ggplot2'\n",
       "9. 'tidyverse'\n",
       "10. 'endoR'\n",
       "11. 'qs'\n",
       "12. 'stats'\n",
       "13. 'graphics'\n",
       "14. 'grDevices'\n",
       "15. 'utils'\n",
       "16. 'datasets'\n",
       "17. 'methods'\n",
       "18. 'base'\n",
       "\n",
       "\n",
       "\n",
       "2. 1. 'forcats'\n",
       "2. 'stringr'\n",
       "3. 'dplyr'\n",
       "4. 'purrr'\n",
       "5. 'readr'\n",
       "6. 'tidyr'\n",
       "7. 'tibble'\n",
       "8. 'ggplot2'\n",
       "9. 'tidyverse'\n",
       "10. 'endoR'\n",
       "11. 'qs'\n",
       "12. 'stats'\n",
       "13. 'graphics'\n",
       "14. 'grDevices'\n",
       "15. 'utils'\n",
       "16. 'datasets'\n",
       "17. 'methods'\n",
       "18. 'base'\n",
       "\n",
       "\n",
       "\n",
       "3. 1. 'forcats'\n",
       "2. 'stringr'\n",
       "3. 'dplyr'\n",
       "4. 'purrr'\n",
       "5. 'readr'\n",
       "6. 'tidyr'\n",
       "7. 'tibble'\n",
       "8. 'ggplot2'\n",
       "9. 'tidyverse'\n",
       "10. 'endoR'\n",
       "11. 'qs'\n",
       "12. 'stats'\n",
       "13. 'graphics'\n",
       "14. 'grDevices'\n",
       "15. 'utils'\n",
       "16. 'datasets'\n",
       "17. 'methods'\n",
       "18. 'base'\n",
       "\n",
       "\n",
       "\n",
       "4. 1. 'forcats'\n",
       "2. 'stringr'\n",
       "3. 'dplyr'\n",
       "4. 'purrr'\n",
       "5. 'readr'\n",
       "6. 'tidyr'\n",
       "7. 'tibble'\n",
       "8. 'ggplot2'\n",
       "9. 'tidyverse'\n",
       "10. 'endoR'\n",
       "11. 'qs'\n",
       "12. 'stats'\n",
       "13. 'graphics'\n",
       "14. 'grDevices'\n",
       "15. 'utils'\n",
       "16. 'datasets'\n",
       "17. 'methods'\n",
       "18. 'base'\n",
       "\n",
       "\n",
       "\n",
       "5. 1. 'forcats'\n",
       "2. 'stringr'\n",
       "3. 'dplyr'\n",
       "4. 'purrr'\n",
       "5. 'readr'\n",
       "6. 'tidyr'\n",
       "7. 'tibble'\n",
       "8. 'ggplot2'\n",
       "9. 'tidyverse'\n",
       "10. 'endoR'\n",
       "11. 'qs'\n",
       "12. 'stats'\n",
       "13. 'graphics'\n",
       "14. 'grDevices'\n",
       "15. 'utils'\n",
       "16. 'datasets'\n",
       "17. 'methods'\n",
       "18. 'base'\n",
       "\n",
       "\n",
       "\n",
       "\n",
       "\n"
      ],
      "text/plain": [
       "[[1]]\n",
       " [1] \"forcats\"   \"stringr\"   \"dplyr\"     \"purrr\"     \"readr\"     \"tidyr\"    \n",
       " [7] \"tibble\"    \"ggplot2\"   \"tidyverse\" \"endoR\"     \"qs\"        \"stats\"    \n",
       "[13] \"graphics\"  \"grDevices\" \"utils\"     \"datasets\"  \"methods\"   \"base\"     \n",
       "\n",
       "[[2]]\n",
       " [1] \"forcats\"   \"stringr\"   \"dplyr\"     \"purrr\"     \"readr\"     \"tidyr\"    \n",
       " [7] \"tibble\"    \"ggplot2\"   \"tidyverse\" \"endoR\"     \"qs\"        \"stats\"    \n",
       "[13] \"graphics\"  \"grDevices\" \"utils\"     \"datasets\"  \"methods\"   \"base\"     \n",
       "\n",
       "[[3]]\n",
       " [1] \"forcats\"   \"stringr\"   \"dplyr\"     \"purrr\"     \"readr\"     \"tidyr\"    \n",
       " [7] \"tibble\"    \"ggplot2\"   \"tidyverse\" \"endoR\"     \"qs\"        \"stats\"    \n",
       "[13] \"graphics\"  \"grDevices\" \"utils\"     \"datasets\"  \"methods\"   \"base\"     \n",
       "\n",
       "[[4]]\n",
       " [1] \"forcats\"   \"stringr\"   \"dplyr\"     \"purrr\"     \"readr\"     \"tidyr\"    \n",
       " [7] \"tibble\"    \"ggplot2\"   \"tidyverse\" \"endoR\"     \"qs\"        \"stats\"    \n",
       "[13] \"graphics\"  \"grDevices\" \"utils\"     \"datasets\"  \"methods\"   \"base\"     \n",
       "\n",
       "[[5]]\n",
       " [1] \"forcats\"   \"stringr\"   \"dplyr\"     \"purrr\"     \"readr\"     \"tidyr\"    \n",
       " [7] \"tibble\"    \"ggplot2\"   \"tidyverse\" \"endoR\"     \"qs\"        \"stats\"    \n",
       "[13] \"graphics\"  \"grDevices\" \"utils\"     \"datasets\"  \"methods\"   \"base\"     \n"
      ]
     },
     "metadata": {},
     "output_type": "display_data"
    }
   ],
   "source": [
    "#stopCluster(cluster)\n",
    "cluster <- makeCluster(5)\n",
    "clusterEvalQ(cluster, library(qs))\n",
    "clusterEvalQ(cluster, library(endoR))\n",
    "clusterEvalQ(cluster, library(tidyverse))\n",
    "clusterExport(cluster, c('getPR', 'metricsNet', 'quiet' ))"
   ]
  },
  {
   "cell_type": "code",
   "execution_count": 19,
   "metadata": {
    "ExecuteTime": {
     "end_time": "2021-12-17T15:13:10.067773Z",
     "start_time": "2021-12-17T15:07:31.621Z"
    }
   },
   "outputs": [],
   "source": [
    "test_sev <- parLapply(cl = cluster,fnames, getPR, alpha = 5, pi_thr = 0.7, true_edges = true_edges, colN = colN)"
   ]
  },
  {
   "cell_type": "code",
   "execution_count": 20,
   "metadata": {
    "ExecuteTime": {
     "end_time": "2021-12-17T15:13:10.095313Z",
     "start_time": "2021-12-17T15:07:32.071Z"
    }
   },
   "outputs": [
    {
     "data": {
      "text/html": [
       "500"
      ],
      "text/latex": [
       "500"
      ],
      "text/markdown": [
       "500"
      ],
      "text/plain": [
       "[1] 500"
      ]
     },
     "metadata": {},
     "output_type": "display_data"
    }
   ],
   "source": [
    "i <- which(sapply(test_sev, class) == 'data.frame')\n",
    "length(i)\n",
    "test_sev <- test_sev[i]"
   ]
  },
  {
   "cell_type": "code",
   "execution_count": 21,
   "metadata": {
    "ExecuteTime": {
     "end_time": "2021-12-17T15:13:10.187688Z",
     "start_time": "2021-12-17T15:07:33.837Z"
    }
   },
   "outputs": [],
   "source": [
    "test_sev <- do.call(rbind, test_sev)"
   ]
  },
  {
   "cell_type": "code",
   "execution_count": 22,
   "metadata": {
    "ExecuteTime": {
     "end_time": "2021-12-17T15:13:10.206113Z",
     "start_time": "2021-12-17T15:07:34.408Z"
    }
   },
   "outputs": [],
   "source": [
    "stopCluster(cluster)"
   ]
  },
  {
   "cell_type": "code",
   "execution_count": 23,
   "metadata": {
    "ExecuteTime": {
     "end_time": "2021-12-17T15:13:10.302004Z",
     "start_time": "2021-12-17T15:07:34.947Z"
    }
   },
   "outputs": [],
   "source": [
    "suppressWarnings(av_res <- test_sev %>% group_by(N, inN) %>% summarise_all(mean))"
   ]
  },
  {
   "cell_type": "markdown",
   "metadata": {},
   "source": [
    "# random"
   ]
  },
  {
   "cell_type": "code",
   "execution_count": 24,
   "metadata": {
    "ExecuteTime": {
     "end_time": "2021-12-17T15:13:10.354228Z",
     "start_time": "2021-12-17T15:07:36.345Z"
    }
   },
   "outputs": [],
   "source": [
    "## Total number of edges\n",
    "N <- (length(colN)*length(colN) - length(colN))/2 \n",
    "## Total number of correct edges\n",
    "K <- length(true_edges)"
   ]
  },
  {
   "cell_type": "code",
   "execution_count": 25,
   "metadata": {
    "ExecuteTime": {
     "end_time": "2021-12-17T15:13:10.370960Z",
     "start_time": "2021-12-17T15:07:36.569Z"
    }
   },
   "outputs": [],
   "source": [
    "random_pr_curve <- function(i){\n",
    "  set.seed(i)\n",
    "  random_draw <- urn[sample(1:N)]\n",
    "  tp <- cumsum(random_draw)\n",
    "  fp <- 1:N - cumsum(random_draw)\n",
    "  linfit <- approx(fp, tp, xout = seq(1, N-K, length.out = 1000),ties = max)\n",
    "  \n",
    "  return(do.call(cbind, linfit))\n",
    "}"
   ]
  },
  {
   "cell_type": "code",
   "execution_count": 26,
   "metadata": {
    "ExecuteTime": {
     "end_time": "2021-12-17T15:13:11.448688Z",
     "start_time": "2021-12-17T15:07:36.780Z"
    }
   },
   "outputs": [],
   "source": [
    "## Resample\n",
    "urn <- c(rep(1, K), rep(0, N-K))\n",
    "B <- 1000\n",
    "rdm <- list()\n",
    "for(j in 1:B){\n",
    "  rdm[[j]] <- random_pr_curve(j)\n",
    "}"
   ]
  },
  {
   "cell_type": "code",
   "execution_count": 27,
   "metadata": {
    "ExecuteTime": {
     "end_time": "2021-12-17T15:13:12.074878Z",
     "start_time": "2021-12-17T15:07:36.961Z"
    }
   },
   "outputs": [],
   "source": [
    "rdm <- as.data.frame(do.call(rbind, rdm))\n",
    "colnames(rdm)<- c('fp', 'tp')"
   ]
  },
  {
   "cell_type": "code",
   "execution_count": 28,
   "metadata": {
    "ExecuteTime": {
     "end_time": "2021-12-17T15:13:12.429673Z",
     "start_time": "2021-12-17T15:07:37.153Z"
    }
   },
   "outputs": [
    {
     "name": "stderr",
     "output_type": "stream",
     "text": [
      "`summarise()` ungrouping output (override with `.groups` argument)\n",
      "\n"
     ]
    }
   ],
   "source": [
    "rdm <- group_by(rdm, fp) %>% summarise(tp_av = mean(tp), tp_sd = sd(tp), tp_qtiles = quantile(tp, 0.99))"
   ]
  },
  {
   "cell_type": "markdown",
   "metadata": {},
   "source": [
    "# Interpolate"
   ]
  },
  {
   "cell_type": "code",
   "execution_count": 29,
   "metadata": {
    "ExecuteTime": {
     "end_time": "2021-12-17T15:13:12.445991Z",
     "start_time": "2021-12-17T15:07:38.668Z"
    }
   },
   "outputs": [],
   "source": [
    "getInterpo <- function(i, raw){\n",
    "    raw <- subset(raw, seedN == i)\n",
    "    res <- list()\n",
    "    \n",
    "    i <- 1\n",
    "    for (a in unique(raw$N)){\n",
    "        tmp <- approx(raw$fp[raw$N == a]\n",
    "                       , raw$tp[raw$N == a]\n",
    "                       , xout = seq(1, N-K, length.out = 1000)\n",
    "                       , ties = max)\n",
    "        tmp <- as.data.frame(do.call(cbind, tmp))\n",
    "        colnames(tmp) <- c('fp', 'tp')\n",
    "        tmp$N <- a\n",
    "        \n",
    "        # add 0 and max values to the extrapolations\n",
    "        mafp <- max(tmp$fp[!is.na(tmp$tp)])\n",
    "        tmp$tp[tmp$fp>mafp] <- max(tmp$tp, na.rm = TRUE)\n",
    "\n",
    "        res[[i]] <- tmp\n",
    "        i <- i+1\n",
    "    }\n",
    "    res <- do.call(rbind, res)\n",
    "    res$seedN <- i\n",
    "    \n",
    "    return(res)\n",
    "}"
   ]
  },
  {
   "cell_type": "code",
   "execution_count": 30,
   "metadata": {
    "ExecuteTime": {
     "end_time": "2021-12-17T15:13:13.542931Z",
     "start_time": "2021-12-17T15:07:38.955Z"
    }
   },
   "outputs": [],
   "source": [
    "pr_byseed <- suppressWarnings(lapply(unique(test_sev$seedN), getInterpo, raw = test_sev))"
   ]
  },
  {
   "cell_type": "code",
   "execution_count": 31,
   "metadata": {
    "ExecuteTime": {
     "end_time": "2021-12-17T15:13:14.941332Z",
     "start_time": "2021-12-17T15:07:39.480Z"
    }
   },
   "outputs": [],
   "source": [
    "pr_byseed_av <- do.call(rbind, pr_byseed) %>% select(-seedN) %>% group_by(fp, N) %>% summarise_all(mean)\n",
    "pr_byseed_sd <- do.call(rbind, pr_byseed) %>% select(-seedN) %>% group_by(fp, N) %>% summarise_all(sd)\n",
    "\n",
    "pr_forplots <- left_join(pr_byseed_av, pr_byseed_sd, by = c('fp', 'N'), suffix = c('_av', '_sd'))"
   ]
  },
  {
   "cell_type": "markdown",
   "metadata": {},
   "source": [
    "# check"
   ]
  },
  {
   "cell_type": "code",
   "execution_count": 32,
   "metadata": {
    "ExecuteTime": {
     "end_time": "2021-12-17T15:13:14.958606Z",
     "start_time": "2021-12-17T15:07:42.164Z"
    }
   },
   "outputs": [],
   "source": [
    "getRes <- function(f, p = NULL, true_edges){\n",
    "    tmp <- qread(f)\n",
    "    p <- str_extract(f, pattern = '(?<=\\\\_p)[:digit:]+')\n",
    "        \n",
    "    # get the new metrics\n",
    "    quiet(pc <- stabilitySelection(tmp$resamp, alpha_error = 5, pi_thr = 0.7))\n",
    "    cond <- pc$rules_summary %>% subset(inN >= 7, select = condition) %>% unlist\n",
    "    if (length(cond) > 0){\n",
    "            \n",
    "        imp_edges <- pc$edges_agg %>% subset(condition %in% cond) %>% select(x,y, importance, n, imp)\n",
    "        imp_edges$x <- str_replace(imp_edges$x, pattern = '\\\\_{2}.*', replacement = '')\n",
    "        imp_edges$y <- str_replace(imp_edges$y, pattern = '\\\\_{2}.*', replacement = '')\n",
    "        suppressMessages(imp_edges <- imp_edges %>% group_by(x,y) %>% summarise(importance = sum(n*imp*importance)))\n",
    "        imp_edges <- asplit(as.matrix(imp_edges), MARGIN = 1)\n",
    "        imp_edges <- lapply(imp_edges, sort) \n",
    "        pred_edges <- sapply(imp_edges, function(x){paste(x[-1], collapse = ' - ')}) \n",
    "        if(length(pred_edges) == 0){\n",
    "            return(c('p' = p, 'rf_accuracy' = tmp$rf_accuracy, 'n_decisions' = 0\n",
    "                , 'tp_imp' = 0, 'fp_imp' = 0, 'tp' = 0, 'fp' = 0, 'fn' = 0))\n",
    "        }\n",
    "\n",
    "        # those that should not be but are = in pred_edges but not truth\n",
    "        tp <- which(sapply(pred_edges, function(x){x %in% true_edges}))\n",
    "        fp <- which(sapply(pred_edges, function(x){!(x %in% true_edges)}))\n",
    "        fn <- sum(sapply(true_edges, function(x){!(x %in% pred_edges)}))\n",
    "\n",
    "        # sum of FP importances\n",
    "        if(length(fp) > 0) {\n",
    "            fp_imp <- sum(sapply(imp_edges[fp], function(x){as.numeric(x['importance'])}))\n",
    "        } else {fp_imp <- 0}\n",
    "        # sum of TP importances\n",
    "        if(length(tp) > 0) {\n",
    "            tp_imp <- sum(sapply(imp_edges[tp], function(x){as.numeric(x['importance'])}))\n",
    "        } else {tp_imp <- 0}\n",
    "\n",
    "        res <- c('p' = p, 'rf_accuracy' = tmp$rf_accuracy, 'n_decisions' = length(cond)\n",
    "                , 'tp_imp' = tp_imp, 'fp_imp' = fp_imp, 'tp' = length(tp), 'fp' = length(fp)\n",
    "                , 'fn' = fn)\n",
    "    } else {\n",
    "        res <- c('p' = p, 'rf_accuracy' = tmp$rf_accuracy, 'n_decisions' = 0\n",
    "                , 'tp_imp' = 0, 'fp_imp' = 0, 'tp' = 0, 'fp' = 0, 'fn' = 0)\n",
    "    }\n",
    "    \n",
    "    return(res)\n",
    "}"
   ]
  },
  {
   "cell_type": "code",
   "execution_count": 33,
   "metadata": {
    "ExecuteTime": {
     "end_time": "2021-12-17T15:13:14.980742Z",
     "start_time": "2021-12-17T15:07:42.569Z"
    }
   },
   "outputs": [],
   "source": [
    "true_edges <- qread('true_edges.qs')\n",
    "true_edges <- true_edges %>% lapply(str_replace, pattern = '\\\\_{2}.*', replacement = '') %>% \n",
    "                unique %>% lapply(sort) %>% \n",
    "                sapply(paste, collapse = ' - ')"
   ]
  },
  {
   "cell_type": "code",
   "execution_count": 34,
   "metadata": {
    "ExecuteTime": {
     "end_time": "2021-12-17T15:22:01.666983Z",
     "start_time": "2021-12-17T15:07:42.885Z"
    },
    "scrolled": true
   },
   "outputs": [],
   "source": [
    "suppressMessages(check <- sapply(fnames, getRes, true_edges = true_edges))"
   ]
  },
  {
   "cell_type": "code",
   "execution_count": 35,
   "metadata": {
    "ExecuteTime": {
     "end_time": "2021-12-17T15:22:01.699639Z",
     "start_time": "2021-12-17T15:07:44.354Z"
    }
   },
   "outputs": [],
   "source": [
    "check <- as.data.frame(t(check))\n",
    "check$N <- str_extract(rownames(check), pattern = '[:digit:]+(?=\\\\_B)') %>% as.numeric\n",
    "check$p <- 0.05\n",
    "check <- check %>% mutate_all(as.numeric)"
   ]
  },
  {
   "cell_type": "code",
   "execution_count": 36,
   "metadata": {
    "ExecuteTime": {
     "end_time": "2021-12-17T15:22:01.719544Z",
     "start_time": "2021-12-17T15:07:44.653Z"
    }
   },
   "outputs": [],
   "source": [
    "check$precision <- check$tp/(check$tp+check$fp)\n",
    "check$recall <- check$tp/(check$tp+check$fn)\n",
    "check$w_precision <- check$tp_imp/(check$tp_imp+check$fp_imp)"
   ]
  },
  {
   "cell_type": "code",
   "execution_count": 37,
   "metadata": {
    "ExecuteTime": {
     "end_time": "2021-12-17T15:22:01.771585Z",
     "start_time": "2021-12-17T15:07:44.894Z"
    }
   },
   "outputs": [
    {
     "data": {
      "text/html": [
       "<table class=\"dataframe\">\n",
       "<caption>A tibble: 5 × 11</caption>\n",
       "<thead>\n",
       "\t<tr><th scope=col>N</th><th scope=col>rf_accuracy</th><th scope=col>n_decisions</th><th scope=col>tp</th><th scope=col>fp</th><th scope=col>fn</th><th scope=col>tp_imp</th><th scope=col>fp_imp</th><th scope=col>precision</th><th scope=col>recall</th><th scope=col>w_precision</th></tr>\n",
       "\t<tr><th scope=col>&lt;dbl&gt;</th><th scope=col>&lt;dbl&gt;</th><th scope=col>&lt;dbl&gt;</th><th scope=col>&lt;dbl&gt;</th><th scope=col>&lt;dbl&gt;</th><th scope=col>&lt;dbl&gt;</th><th scope=col>&lt;dbl&gt;</th><th scope=col>&lt;dbl&gt;</th><th scope=col>&lt;dbl&gt;</th><th scope=col>&lt;dbl&gt;</th><th scope=col>&lt;dbl&gt;</th></tr>\n",
       "</thead>\n",
       "<tbody>\n",
       "\t<tr><td> 200</td><td>0.703800</td><td> 7.73</td><td> 4.19</td><td> 4.60</td><td>5.85</td><td> 61.67903</td><td> 7.823767</td><td>0.5302916</td><td>0.4162727</td><td>0.8696461</td></tr>\n",
       "\t<tr><td> 500</td><td>0.822220</td><td>13.65</td><td> 8.16</td><td>10.18</td><td>2.28</td><td>126.55608</td><td>13.454341</td><td>0.5000871</td><td>0.7796061</td><td>0.8927113</td></tr>\n",
       "\t<tr><td> 800</td><td>0.868925</td><td>17.12</td><td> 9.86</td><td>15.93</td><td>0.98</td><td>131.14598</td><td>20.415339</td><td>0.4256121</td><td>0.9090303</td><td>0.8562561</td></tr>\n",
       "\t<tr><td>1000</td><td>0.889720</td><td>19.52</td><td>10.18</td><td>20.73</td><td>0.78</td><td>125.42009</td><td>21.256509</td><td>0.3590535</td><td>0.9283030</td><td>0.8441093</td></tr>\n",
       "\t<tr><td>5000</td><td>0.946200</td><td>22.05</td><td>11.32</td><td>21.41</td><td>0.66</td><td> 51.72448</td><td> 4.208058</td><td>0.3795309</td><td>0.9450000</td><td>0.9290369</td></tr>\n",
       "</tbody>\n",
       "</table>\n"
      ],
      "text/latex": [
       "A tibble: 5 × 11\n",
       "\\begin{tabular}{lllllllllll}\n",
       " N & rf\\_accuracy & n\\_decisions & tp & fp & fn & tp\\_imp & fp\\_imp & precision & recall & w\\_precision\\\\\n",
       " <dbl> & <dbl> & <dbl> & <dbl> & <dbl> & <dbl> & <dbl> & <dbl> & <dbl> & <dbl> & <dbl>\\\\\n",
       "\\hline\n",
       "\t  200 & 0.703800 &  7.73 &  4.19 &  4.60 & 5.85 &  61.67903 &  7.823767 & 0.5302916 & 0.4162727 & 0.8696461\\\\\n",
       "\t  500 & 0.822220 & 13.65 &  8.16 & 10.18 & 2.28 & 126.55608 & 13.454341 & 0.5000871 & 0.7796061 & 0.8927113\\\\\n",
       "\t  800 & 0.868925 & 17.12 &  9.86 & 15.93 & 0.98 & 131.14598 & 20.415339 & 0.4256121 & 0.9090303 & 0.8562561\\\\\n",
       "\t 1000 & 0.889720 & 19.52 & 10.18 & 20.73 & 0.78 & 125.42009 & 21.256509 & 0.3590535 & 0.9283030 & 0.8441093\\\\\n",
       "\t 5000 & 0.946200 & 22.05 & 11.32 & 21.41 & 0.66 &  51.72448 &  4.208058 & 0.3795309 & 0.9450000 & 0.9290369\\\\\n",
       "\\end{tabular}\n"
      ],
      "text/markdown": [
       "\n",
       "A tibble: 5 × 11\n",
       "\n",
       "| N &lt;dbl&gt; | rf_accuracy &lt;dbl&gt; | n_decisions &lt;dbl&gt; | tp &lt;dbl&gt; | fp &lt;dbl&gt; | fn &lt;dbl&gt; | tp_imp &lt;dbl&gt; | fp_imp &lt;dbl&gt; | precision &lt;dbl&gt; | recall &lt;dbl&gt; | w_precision &lt;dbl&gt; |\n",
       "|---|---|---|---|---|---|---|---|---|---|---|\n",
       "|  200 | 0.703800 |  7.73 |  4.19 |  4.60 | 5.85 |  61.67903 |  7.823767 | 0.5302916 | 0.4162727 | 0.8696461 |\n",
       "|  500 | 0.822220 | 13.65 |  8.16 | 10.18 | 2.28 | 126.55608 | 13.454341 | 0.5000871 | 0.7796061 | 0.8927113 |\n",
       "|  800 | 0.868925 | 17.12 |  9.86 | 15.93 | 0.98 | 131.14598 | 20.415339 | 0.4256121 | 0.9090303 | 0.8562561 |\n",
       "| 1000 | 0.889720 | 19.52 | 10.18 | 20.73 | 0.78 | 125.42009 | 21.256509 | 0.3590535 | 0.9283030 | 0.8441093 |\n",
       "| 5000 | 0.946200 | 22.05 | 11.32 | 21.41 | 0.66 |  51.72448 |  4.208058 | 0.3795309 | 0.9450000 | 0.9290369 |\n",
       "\n"
      ],
      "text/plain": [
       "  N    rf_accuracy n_decisions tp    fp    fn   tp_imp    fp_imp    precision\n",
       "1  200 0.703800     7.73        4.19  4.60 5.85  61.67903  7.823767 0.5302916\n",
       "2  500 0.822220    13.65        8.16 10.18 2.28 126.55608 13.454341 0.5000871\n",
       "3  800 0.868925    17.12        9.86 15.93 0.98 131.14598 20.415339 0.4256121\n",
       "4 1000 0.889720    19.52       10.18 20.73 0.78 125.42009 21.256509 0.3590535\n",
       "5 5000 0.946200    22.05       11.32 21.41 0.66  51.72448  4.208058 0.3795309\n",
       "  recall    w_precision\n",
       "1 0.4162727 0.8696461  \n",
       "2 0.7796061 0.8927113  \n",
       "3 0.9090303 0.8562561  \n",
       "4 0.9283030 0.8441093  \n",
       "5 0.9450000 0.9290369  "
      ]
     },
     "metadata": {},
     "output_type": "display_data"
    }
   ],
   "source": [
    "check %>% group_by(N) %>% summarise_all(mean, na.rm = TRUE) %>% \n",
    "select(N, rf_accuracy, n_decisions, tp, fp, fn, tp_imp, fp_imp, precision, recall, w_precision) "
   ]
  },
  {
   "cell_type": "code",
   "execution_count": 38,
   "metadata": {
    "ExecuteTime": {
     "end_time": "2021-12-17T15:22:01.820871Z",
     "start_time": "2021-12-17T15:07:45.179Z"
    }
   },
   "outputs": [
    {
     "data": {
      "text/html": [
       "<table class=\"dataframe\">\n",
       "<caption>A tibble: 5 × 11</caption>\n",
       "<thead>\n",
       "\t<tr><th scope=col>N</th><th scope=col>rf_accuracy</th><th scope=col>n_decisions</th><th scope=col>tp</th><th scope=col>fp</th><th scope=col>fn</th><th scope=col>tp_imp</th><th scope=col>fp_imp</th><th scope=col>precision</th><th scope=col>recall</th><th scope=col>w_precision</th></tr>\n",
       "\t<tr><th scope=col>&lt;dbl&gt;</th><th scope=col>&lt;dbl&gt;</th><th scope=col>&lt;dbl&gt;</th><th scope=col>&lt;dbl&gt;</th><th scope=col>&lt;dbl&gt;</th><th scope=col>&lt;dbl&gt;</th><th scope=col>&lt;dbl&gt;</th><th scope=col>&lt;dbl&gt;</th><th scope=col>&lt;dbl&gt;</th><th scope=col>&lt;dbl&gt;</th><th scope=col>&lt;dbl&gt;</th></tr>\n",
       "</thead>\n",
       "<tbody>\n",
       "\t<tr><td> 200</td><td>0.04011423</td><td>2.083388</td><td>2.0035070</td><td>3.493139</td><td>1.9455985</td><td>34.96760</td><td> 7.036120</td><td>0.2455596</td><td>0.19598310</td><td>0.11311986</td></tr>\n",
       "\t<tr><td> 500</td><td>0.02189949</td><td>3.745368</td><td>1.8352332</td><td>6.238331</td><td>1.6580383</td><td>46.22312</td><td> 9.593942</td><td>0.1887006</td><td>0.16417050</td><td>0.08517047</td></tr>\n",
       "\t<tr><td> 800</td><td>0.01440532</td><td>3.688037</td><td>1.1193432</td><td>8.048157</td><td>0.8406347</td><td>53.79286</td><td>12.236594</td><td>0.1568152</td><td>0.07806909</td><td>0.07928582</td></tr>\n",
       "\t<tr><td>1000</td><td>0.01508366</td><td>3.688585</td><td>0.9574799</td><td>8.376078</td><td>0.6126610</td><td>58.66924</td><td>11.534285</td><td>0.1278311</td><td>0.05813523</td><td>0.07503780</td></tr>\n",
       "\t<tr><td>5000</td><td>0.00370596</td><td>2.934900</td><td>0.4688262</td><td>9.601236</td><td>0.4760952</td><td>10.75490</td><td> 2.726615</td><td>0.1269349</td><td>0.03967460</td><td>0.03459914</td></tr>\n",
       "</tbody>\n",
       "</table>\n"
      ],
      "text/latex": [
       "A tibble: 5 × 11\n",
       "\\begin{tabular}{lllllllllll}\n",
       " N & rf\\_accuracy & n\\_decisions & tp & fp & fn & tp\\_imp & fp\\_imp & precision & recall & w\\_precision\\\\\n",
       " <dbl> & <dbl> & <dbl> & <dbl> & <dbl> & <dbl> & <dbl> & <dbl> & <dbl> & <dbl> & <dbl>\\\\\n",
       "\\hline\n",
       "\t  200 & 0.04011423 & 2.083388 & 2.0035070 & 3.493139 & 1.9455985 & 34.96760 &  7.036120 & 0.2455596 & 0.19598310 & 0.11311986\\\\\n",
       "\t  500 & 0.02189949 & 3.745368 & 1.8352332 & 6.238331 & 1.6580383 & 46.22312 &  9.593942 & 0.1887006 & 0.16417050 & 0.08517047\\\\\n",
       "\t  800 & 0.01440532 & 3.688037 & 1.1193432 & 8.048157 & 0.8406347 & 53.79286 & 12.236594 & 0.1568152 & 0.07806909 & 0.07928582\\\\\n",
       "\t 1000 & 0.01508366 & 3.688585 & 0.9574799 & 8.376078 & 0.6126610 & 58.66924 & 11.534285 & 0.1278311 & 0.05813523 & 0.07503780\\\\\n",
       "\t 5000 & 0.00370596 & 2.934900 & 0.4688262 & 9.601236 & 0.4760952 & 10.75490 &  2.726615 & 0.1269349 & 0.03967460 & 0.03459914\\\\\n",
       "\\end{tabular}\n"
      ],
      "text/markdown": [
       "\n",
       "A tibble: 5 × 11\n",
       "\n",
       "| N &lt;dbl&gt; | rf_accuracy &lt;dbl&gt; | n_decisions &lt;dbl&gt; | tp &lt;dbl&gt; | fp &lt;dbl&gt; | fn &lt;dbl&gt; | tp_imp &lt;dbl&gt; | fp_imp &lt;dbl&gt; | precision &lt;dbl&gt; | recall &lt;dbl&gt; | w_precision &lt;dbl&gt; |\n",
       "|---|---|---|---|---|---|---|---|---|---|---|\n",
       "|  200 | 0.04011423 | 2.083388 | 2.0035070 | 3.493139 | 1.9455985 | 34.96760 |  7.036120 | 0.2455596 | 0.19598310 | 0.11311986 |\n",
       "|  500 | 0.02189949 | 3.745368 | 1.8352332 | 6.238331 | 1.6580383 | 46.22312 |  9.593942 | 0.1887006 | 0.16417050 | 0.08517047 |\n",
       "|  800 | 0.01440532 | 3.688037 | 1.1193432 | 8.048157 | 0.8406347 | 53.79286 | 12.236594 | 0.1568152 | 0.07806909 | 0.07928582 |\n",
       "| 1000 | 0.01508366 | 3.688585 | 0.9574799 | 8.376078 | 0.6126610 | 58.66924 | 11.534285 | 0.1278311 | 0.05813523 | 0.07503780 |\n",
       "| 5000 | 0.00370596 | 2.934900 | 0.4688262 | 9.601236 | 0.4760952 | 10.75490 |  2.726615 | 0.1269349 | 0.03967460 | 0.03459914 |\n",
       "\n"
      ],
      "text/plain": [
       "  N    rf_accuracy n_decisions tp        fp       fn        tp_imp   fp_imp   \n",
       "1  200 0.04011423  2.083388    2.0035070 3.493139 1.9455985 34.96760  7.036120\n",
       "2  500 0.02189949  3.745368    1.8352332 6.238331 1.6580383 46.22312  9.593942\n",
       "3  800 0.01440532  3.688037    1.1193432 8.048157 0.8406347 53.79286 12.236594\n",
       "4 1000 0.01508366  3.688585    0.9574799 8.376078 0.6126610 58.66924 11.534285\n",
       "5 5000 0.00370596  2.934900    0.4688262 9.601236 0.4760952 10.75490  2.726615\n",
       "  precision recall     w_precision\n",
       "1 0.2455596 0.19598310 0.11311986 \n",
       "2 0.1887006 0.16417050 0.08517047 \n",
       "3 0.1568152 0.07806909 0.07928582 \n",
       "4 0.1278311 0.05813523 0.07503780 \n",
       "5 0.1269349 0.03967460 0.03459914 "
      ]
     },
     "metadata": {},
     "output_type": "display_data"
    }
   ],
   "source": [
    "check %>% group_by(N) %>% summarise_all(sd, na.rm = TRUE) %>% #subset(N != 1000) %>% \n",
    "select(N, rf_accuracy, n_decisions, tp, fp, fn, tp_imp, fp_imp, precision, recall, w_precision) "
   ]
  },
  {
   "cell_type": "code",
   "execution_count": 39,
   "metadata": {
    "ExecuteTime": {
     "end_time": "2021-12-17T15:22:01.842145Z",
     "start_time": "2021-12-17T15:07:45.537Z"
    }
   },
   "outputs": [
    {
     "data": {
      "text/html": [
       "0"
      ],
      "text/latex": [
       "0"
      ],
      "text/markdown": [
       "0"
      ],
      "text/plain": [
       "[1] 0"
      ]
     },
     "metadata": {},
     "output_type": "display_data"
    }
   ],
   "source": [
    "check[ complete.cases(check), ] %>% subset(N == 660) %>% unique %>% nrow"
   ]
  },
  {
   "cell_type": "code",
   "execution_count": 40,
   "metadata": {
    "ExecuteTime": {
     "end_time": "2021-12-17T15:22:01.875929Z",
     "start_time": "2021-12-17T15:07:46.394Z"
    }
   },
   "outputs": [
    {
     "data": {
      "text/html": [
       "<table class=\"dataframe\">\n",
       "<caption>A data.frame: 5 × 2</caption>\n",
       "<thead>\n",
       "\t<tr><th scope=col>N</th><th scope=col>n</th></tr>\n",
       "\t<tr><th scope=col>&lt;dbl&gt;</th><th scope=col>&lt;int&gt;</th></tr>\n",
       "</thead>\n",
       "<tbody>\n",
       "\t<tr><td> 200</td><td>100</td></tr>\n",
       "\t<tr><td> 500</td><td>100</td></tr>\n",
       "\t<tr><td> 800</td><td>100</td></tr>\n",
       "\t<tr><td>1000</td><td>100</td></tr>\n",
       "\t<tr><td>5000</td><td>100</td></tr>\n",
       "</tbody>\n",
       "</table>\n"
      ],
      "text/latex": [
       "A data.frame: 5 × 2\n",
       "\\begin{tabular}{ll}\n",
       " N & n\\\\\n",
       " <dbl> & <int>\\\\\n",
       "\\hline\n",
       "\t  200 & 100\\\\\n",
       "\t  500 & 100\\\\\n",
       "\t  800 & 100\\\\\n",
       "\t 1000 & 100\\\\\n",
       "\t 5000 & 100\\\\\n",
       "\\end{tabular}\n"
      ],
      "text/markdown": [
       "\n",
       "A data.frame: 5 × 2\n",
       "\n",
       "| N &lt;dbl&gt; | n &lt;int&gt; |\n",
       "|---|---|\n",
       "|  200 | 100 |\n",
       "|  500 | 100 |\n",
       "|  800 | 100 |\n",
       "| 1000 | 100 |\n",
       "| 5000 | 100 |\n",
       "\n"
      ],
      "text/plain": [
       "  N    n  \n",
       "1  200 100\n",
       "2  500 100\n",
       "3  800 100\n",
       "4 1000 100\n",
       "5 5000 100"
      ]
     },
     "metadata": {},
     "output_type": "display_data"
    }
   ],
   "source": [
    "check[ complete.cases(check), ] %>% count(N)"
   ]
  },
  {
   "cell_type": "code",
   "execution_count": null,
   "metadata": {},
   "outputs": [],
   "source": []
  },
  {
   "cell_type": "markdown",
   "metadata": {},
   "source": [
    "# plots"
   ]
  },
  {
   "cell_type": "markdown",
   "metadata": {},
   "source": [
    "Results for N = 660 are not shown in the manuscript since the plot looks crowded. But they were run, so let's plot them anyway!"
   ]
  },
  {
   "cell_type": "code",
   "execution_count": 41,
   "metadata": {
    "ExecuteTime": {
     "end_time": "2021-12-17T15:22:01.907162Z",
     "start_time": "2021-12-17T15:07:47.699Z"
    }
   },
   "outputs": [],
   "source": [
    "cols <- plasma(length(unique(av_res$N)) + 2)"
   ]
  },
  {
   "cell_type": "code",
   "execution_count": 42,
   "metadata": {
    "ExecuteTime": {
     "end_time": "2021-12-17T15:22:02.069627Z",
     "start_time": "2021-12-17T15:08:12.165Z"
    }
   },
   "outputs": [],
   "source": [
    "p <- ggplot(pr_forplots \n",
    "             , aes(x = fp, y = tp_av, group = as.character(N), color = as.character(N)))+\n",
    "geom_hline(yintercept = 10, color = 'lightgrey', linetype = 'dashed')+\n",
    "geom_line(data = pr_forplots , size = 1)+\n",
    "\n",
    "geom_ribbon(aes(ymin = tp_av - tp_sd/2, ymax = tp_av + tp_sd/2\n",
    "                , group = N, fill = as.character(N)), color = NA\n",
    "            , alpha = 0.25) +\n",
    "\n",
    "geom_line(data = rdm, aes(y = tp_av, x = fp), group=NA, color = 'darkgrey')+\n",
    "geom_ribbon(data = rdm\n",
    "            , aes(ymin = tp_av - tp_sd/2, ymax = tp_av + tp_sd/2, y = tp_av\n",
    "                  , group=NULL, color = NULL)\n",
    "            , alpha = 0.25, fill = 'darkgrey') +\n",
    "\n",
    "geom_point(data = av_res %>% subset(inN == 7)\n",
    "           , aes(y = tp, x = fp, fill = as.character(N))\n",
    "           , size = 4, shape = 21, color = 'black')+\n",
    "\n",
    "\n",
    "theme_classic()+\n",
    "labs(x = 'Number of FP', y = 'Number of TP')+\n",
    "scale_color_manual(values = cols[-c(1, length(cols))], name = 'n', breaks =  c('200', '500', '800', '1000', '5000')) +\n",
    "scale_fill_manual(values = cols[-c(1, length(cols))], name = 'n', breaks =  c('200','500', '800','1000', '5000')) "
   ]
  },
  {
   "cell_type": "code",
   "execution_count": 43,
   "metadata": {
    "ExecuteTime": {
     "end_time": "2021-12-17T15:22:02.967632Z",
     "start_time": "2021-12-17T15:08:13.241Z"
    }
   },
   "outputs": [
    {
     "name": "stderr",
     "output_type": "stream",
     "text": [
      "Warning message:\n",
      "“Removed 515 row(s) containing missing values (geom_path).”\n"
     ]
    },
    {
     "data": {
      "image/png": "[encoded data removed]",
      "text/plain": [
       "plot without title"
      ]
     },
     "metadata": {
      "image/png": {
       "height": 240,
       "width": 300
      }
     },
     "output_type": "display_data"
    }
   ],
   "source": [
    "options(repr.plot.width=5, repr.plot.height=4)\n",
    "p"
   ]
  }
 ],
 "metadata": {
  "kernelspec": {
   "display_name": "R [conda env:Metagenomes_methanogen-r-ml] *",
   "language": "R",
   "name": "conda-env-Metagenomes_methanogen-r-ml-r"
  },
  "language_info": {
   "codemirror_mode": "r",
   "file_extension": ".r",
   "mimetype": "text/x-r-source",
   "name": "R",
   "pygments_lexer": "r",
   "version": "4.0.3"
  },
  "notify_time": "30",
  "toc": {
   "base_numbering": 1,
   "nav_menu": {},
   "number_sections": true,
   "sideBar": true,
   "skip_h1_title": false,
   "title_cell": "Table of Contents",
   "title_sidebar": "Contents",
   "toc_cell": false,
   "toc_position": {
    "height": "calc(100% - 180px)",
    "left": "10px",
    "top": "150px",
    "width": "165px"
   },
   "toc_section_display": true,
   "toc_window_display": true
  }
 },
 "nbformat": 4,
 "nbformat_minor": 4
}
