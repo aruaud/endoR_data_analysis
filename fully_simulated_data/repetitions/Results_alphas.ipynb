{
 "cells": [
  {
   "cell_type": "markdown",
   "metadata": {},
   "source": [
    "# Preambule"
   ]
  },
  {
   "cell_type": "markdown",
   "metadata": {},
   "source": [
    "## libraries"
   ]
  },
  {
   "cell_type": "code",
   "execution_count": 1,
   "metadata": {
    "ExecuteTime": {
     "end_time": "2021-11-24T09:35:47.329386Z",
     "start_time": "2021-11-24T09:35:42.313Z"
    }
   },
   "outputs": [
    {
     "name": "stderr",
     "output_type": "stream",
     "text": [
      "── \u001b[1mAttaching packages\u001b[22m ────────────────────────────────────────────────────────────────────────────────────────────────────────────────────────────────────── tidyverse 1.3.0 ──\n",
      "\n",
      "\u001b[32m✔\u001b[39m \u001b[34mggplot2\u001b[39m 3.3.2     \u001b[32m✔\u001b[39m \u001b[34mpurrr  \u001b[39m 0.3.4\n",
      "\u001b[32m✔\u001b[39m \u001b[34mtibble \u001b[39m 3.0.4     \u001b[32m✔\u001b[39m \u001b[34mdplyr  \u001b[39m 1.0.2\n",
      "\u001b[32m✔\u001b[39m \u001b[34mtidyr  \u001b[39m 1.1.2     \u001b[32m✔\u001b[39m \u001b[34mstringr\u001b[39m 1.4.0\n",
      "\u001b[32m✔\u001b[39m \u001b[34mreadr  \u001b[39m 1.4.0     \u001b[32m✔\u001b[39m \u001b[34mforcats\u001b[39m 0.5.0\n",
      "\n",
      "── \u001b[1mConflicts\u001b[22m ───────────────────────────────────────────────────────────────────────────────────────────────────────────────────────────────────────── tidyverse_conflicts() ──\n",
      "\u001b[31m✖\u001b[39m \u001b[34mdplyr\u001b[39m::\u001b[32mfilter()\u001b[39m masks \u001b[34mstats\u001b[39m::filter()\n",
      "\u001b[31m✖\u001b[39m \u001b[34mdplyr\u001b[39m::\u001b[32mlag()\u001b[39m    masks \u001b[34mstats\u001b[39m::lag()\n",
      "\n",
      "Loading required package: lattice\n",
      "\n",
      "\n",
      "Attaching package: ‘caret’\n",
      "\n",
      "\n",
      "The following object is masked from ‘package:purrr’:\n",
      "\n",
      "    lift\n",
      "\n",
      "\n",
      "\n",
      "Attaching package: ‘data.table’\n",
      "\n",
      "\n",
      "The following objects are masked from ‘package:dplyr’:\n",
      "\n",
      "    between, first, last\n",
      "\n",
      "\n",
      "The following object is masked from ‘package:purrr’:\n",
      "\n",
      "    transpose\n",
      "\n",
      "\n",
      "qs v0.23.4.\n",
      "\n",
      "randomForest 4.6-14\n",
      "\n",
      "Type rfNews() to see new features/changes/bug fixes.\n",
      "\n",
      "\n",
      "Attaching package: ‘randomForest’\n",
      "\n",
      "\n",
      "The following object is masked from ‘package:dplyr’:\n",
      "\n",
      "    combine\n",
      "\n",
      "\n",
      "The following object is masked from ‘package:ggplot2’:\n",
      "\n",
      "    margin\n",
      "\n",
      "\n",
      "Registered S3 method overwritten by 'RRF':\n",
      "  method      from        \n",
      "  plot.margin randomForest\n",
      "\n",
      "Warning message:\n",
      "“replacing previous import ‘data.table::last’ by ‘dplyr::last’ when loading ‘endoR’”\n",
      "Warning message:\n",
      "“replacing previous import ‘data.table::first’ by ‘dplyr::first’ when loading ‘endoR’”\n",
      "Warning message:\n",
      "“replacing previous import ‘data.table::between’ by ‘dplyr::between’ when loading ‘endoR’”\n",
      "Warning message:\n",
      "“replacing previous import ‘dplyr::union’ by ‘igraph::union’ when loading ‘endoR’”\n",
      "Warning message:\n",
      "“replacing previous import ‘dplyr::as_data_frame’ by ‘igraph::as_data_frame’ when loading ‘endoR’”\n",
      "Warning message:\n",
      "“replacing previous import ‘dplyr::groups’ by ‘igraph::groups’ when loading ‘endoR’”\n"
     ]
    }
   ],
   "source": [
    "library(tidyverse)\n",
    "library(stringr)\n",
    "library(caret)\n",
    "library(data.table)\n",
    "library(stringr)\n",
    "library(dplyr)\n",
    "library(qs)\n",
    "library(parallel)\n",
    "library(randomForest)\n",
    "library(inTrees)\n",
    "library(endoR)"
   ]
  },
  {
   "cell_type": "code",
   "execution_count": 2,
   "metadata": {
    "ExecuteTime": {
     "end_time": "2021-11-24T09:35:47.410675Z",
     "start_time": "2021-11-24T09:35:42.508Z"
    }
   },
   "outputs": [
    {
     "name": "stderr",
     "output_type": "stream",
     "text": [
      "Loading required package: viridisLite\n",
      "\n"
     ]
    }
   ],
   "source": [
    "library(viridis)"
   ]
  },
  {
   "cell_type": "code",
   "execution_count": 3,
   "metadata": {
    "ExecuteTime": {
     "end_time": "2021-11-24T09:35:47.659571Z",
     "start_time": "2021-11-24T09:35:42.674Z"
    }
   },
   "outputs": [],
   "source": [
    "library(ggpubr)"
   ]
  },
  {
   "cell_type": "code",
   "execution_count": 4,
   "metadata": {
    "ExecuteTime": {
     "end_time": "2021-11-24T09:35:47.754066Z",
     "start_time": "2021-11-24T09:35:42.837Z"
    }
   },
   "outputs": [
    {
     "data": {
      "text/plain": [
       "R version 4.0.3 (2020-10-10)\n",
       "Platform: x86_64-conda-linux-gnu (64-bit)\n",
       "Running under: Ubuntu 18.04.6 LTS\n",
       "\n",
       "Matrix products: default\n",
       "BLAS/LAPACK: /ebio/abt3_projects/Methanogen_SCFA/Metagenomes_methanogen/envs/r-ml/lib/libopenblasp-r0.3.10.so\n",
       "\n",
       "locale:\n",
       " [1] LC_CTYPE=en_US.UTF-8       LC_NUMERIC=C              \n",
       " [3] LC_TIME=en_US.UTF-8        LC_COLLATE=en_US.UTF-8    \n",
       " [5] LC_MONETARY=en_US.UTF-8    LC_MESSAGES=en_US.UTF-8   \n",
       " [7] LC_PAPER=en_US.UTF-8       LC_NAME=C                 \n",
       " [9] LC_ADDRESS=C               LC_TELEPHONE=C            \n",
       "[11] LC_MEASUREMENT=en_US.UTF-8 LC_IDENTIFICATION=C       \n",
       "\n",
       "attached base packages:\n",
       "[1] parallel  stats     graphics  grDevices utils     datasets  methods  \n",
       "[8] base     \n",
       "\n",
       "other attached packages:\n",
       " [1] ggpubr_0.4.0        viridis_0.5.1       viridisLite_0.3.0  \n",
       " [4] endoR_0.1.0         inTrees_1.3         randomForest_4.6-14\n",
       " [7] qs_0.23.4           data.table_1.13.4   caret_6.0-86       \n",
       "[10] lattice_0.20-41     forcats_0.5.0       stringr_1.4.0      \n",
       "[13] dplyr_1.0.2         purrr_0.3.4         readr_1.4.0        \n",
       "[16] tidyr_1.1.2         tibble_3.0.4        ggplot2_3.3.2      \n",
       "[19] tidyverse_1.3.0    \n",
       "\n",
       "loaded via a namespace (and not attached):\n",
       "  [1] colorspace_2.0-0     ggsignif_0.6.0       rio_0.5.16          \n",
       "  [4] ellipsis_0.3.1       class_7.3-17         IRdisplay_0.7.0     \n",
       "  [7] base64enc_0.1-3      fs_1.5.0             rstudioapi_0.13     \n",
       " [10] farver_2.0.3         graphlayouts_0.7.1   ggrepel_0.8.2       \n",
       " [13] prodlim_2019.11.13   fansi_0.4.1          lubridate_1.7.9.2   \n",
       " [16] ranger_0.12.1        xml2_1.3.2           codetools_0.2-18    \n",
       " [19] splines_4.0.3        arules_1.6-6         polyclip_1.10-0     \n",
       " [22] IRkernel_1.1.1       jsonlite_1.7.2       pROC_1.16.2         \n",
       " [25] broom_0.7.2          dbplyr_2.0.0         ggforce_0.3.2       \n",
       " [28] compiler_4.0.3       httr_1.4.2           backports_1.2.0     \n",
       " [31] assertthat_0.2.1     Matrix_1.2-18        cli_2.2.0           \n",
       " [34] tweenr_1.0.1         htmltools_0.5.0      tools_4.0.3         \n",
       " [37] igraph_1.2.6         gtable_0.3.0         glue_1.4.2          \n",
       " [40] reshape2_1.4.4       Rcpp_1.0.5           carData_3.0-4       \n",
       " [43] cellranger_1.1.0     vctrs_0.3.6          nlme_3.1-150        \n",
       " [46] iterators_1.0.13     ggraph_2.0.4         timeDate_3043.102   \n",
       " [49] gower_0.2.2          ps_1.5.0             openxlsx_4.2.3      \n",
       " [52] rvest_0.3.6          lifecycle_0.2.0      rstatix_0.6.0       \n",
       " [55] MASS_7.3-53          scales_1.1.1         ipred_0.9-9         \n",
       " [58] tidygraph_1.2.0      hms_0.5.3            curl_4.3            \n",
       " [61] gridExtra_2.3        rpart_4.1-15         stringi_1.5.3       \n",
       " [64] foreach_1.5.1        zip_2.1.1            lava_1.6.8.1        \n",
       " [67] repr_1.1.2.9000      rlang_0.4.10         pkgconfig_2.0.3     \n",
       " [70] evaluate_0.14        recipes_0.1.15       tidyselect_1.1.0    \n",
       " [73] gbm_2.1.8            plyr_1.8.6           magrittr_2.0.1      \n",
       " [76] R6_2.5.0             generics_0.1.0       pbdZMQ_0.3-3.1      \n",
       " [79] DBI_1.1.0            foreign_0.8-80       pillar_1.4.7        \n",
       " [82] haven_2.3.1          withr_2.3.0          abind_1.4-5         \n",
       " [85] survival_3.2-7       nnet_7.3-14          car_3.0-10          \n",
       " [88] modelr_0.1.8         crayon_1.3.4         xgboost_1.2.0.1     \n",
       " [91] uuid_0.1-4           RApiSerialize_0.1.0  RRF_1.9.1           \n",
       " [94] grid_4.0.3           readxl_1.3.1         ModelMetrics_1.2.2.2\n",
       " [97] reprex_0.3.0         digest_0.6.27        xtable_1.8-4        \n",
       "[100] RcppParallel_5.0.2   stats4_4.0.3         munsell_0.5.0       \n",
       "[103] stringfish_0.14.2   "
      ]
     },
     "metadata": {},
     "output_type": "display_data"
    }
   ],
   "source": [
    "sessionInfo()"
   ]
  },
  {
   "cell_type": "markdown",
   "metadata": {},
   "source": [
    "## functions"
   ]
  },
  {
   "cell_type": "code",
   "execution_count": 5,
   "metadata": {
    "ExecuteTime": {
     "end_time": "2021-11-24T09:35:47.771407Z",
     "start_time": "2021-11-24T09:35:46.214Z"
    }
   },
   "outputs": [],
   "source": [
    "getSinglePR <- function(res, alpha, pi_thr, true_edges, colN){\n",
    "    pc <- quiet(stabilitySelection(rules = res, alpha_error = alpha, pi_thr = pi_thr))\n",
    "    \n",
    "    edges <- pc$edges_agg %>% select(x, y, condition, importance, influence, d.x, d.y) %>% \n",
    "        subset(condition %in% pc$rules_summary$condition) %>%\n",
    "        group_by(x, y, condition) %>% \n",
    "        summarise(importance= mean(importance), influence = mean(influence*(d.x+d.y)/2)) %>%\n",
    "        ungroup %>% \n",
    "        left_join(select(pc$rules_summary,condition, inN, imp, n), by = 'condition') %>% \n",
    "        select(-condition)\n",
    "    \n",
    "    edi <- lapply(unique(edges$inN)\n",
    "                  , function(i, edges, true_edges, colN){\n",
    "                      suppressMessages(edges <- edges %>% subset(inN >= i) %>% group_by(x, y) %>% \n",
    "                                       summarise( inN = max(inN), importance = sum(importance*imp*n)\n",
    "                                                 , influence = sum(influence*imp*n)/sum(imp*n) ) %>% ungroup)\n",
    "                      metricsNet(edges = edges, true_edges = true_edges, colN = colN)\n",
    "                  }, edges = edges, true_edges = true_edges, colN = colN)\n",
    "    edi <- as.data.frame(do.call(rbind, edi))\n",
    "    edi$inN <- unique(edges$inN)\n",
    "    edi <- add_row(edi, n_edges=0, tp=0,fp=0,tn=0,fn=0,inN=0)\n",
    "    \n",
    "    edi$alpha <- alpha\n",
    "    edi$pi_thr <- pi_thr\n",
    "    \n",
    "    return(edi)\n",
    "}"
   ]
  },
  {
   "cell_type": "code",
   "execution_count": 6,
   "metadata": {
    "ExecuteTime": {
     "end_time": "2021-11-24T09:35:47.787570Z",
     "start_time": "2021-11-24T09:35:46.363Z"
    }
   },
   "outputs": [],
   "source": [
    "getSeveralPR <- function(f, alphas, pi_thr, true_edges, colN){\n",
    "    res <- qread(f)\n",
    "    \n",
    "    edi <- lapply( alphas , getSinglePR, res = res$resamp, pi_thr = pi_thr , true_edges = true_edges, colN = colN)\n",
    "    \n",
    "    edi <- as.data.frame(do.call(rbind, edi))\n",
    "    \n",
    "    edi$seedN <- str_extract(f, pattern = '(?<=simu)[:digit:]+(?=\\\\_)')\n",
    "    edi$id <- paste0(edi$seedN, '_', edi$alpha, '_',edi$pi_thr)\n",
    "    \n",
    "    return(edi)\n",
    "}"
   ]
  },
  {
   "cell_type": "code",
   "execution_count": 7,
   "metadata": {
    "ExecuteTime": {
     "end_time": "2021-11-24T09:35:47.818122Z",
     "start_time": "2021-11-24T09:35:46.542Z"
    }
   },
   "outputs": [],
   "source": [
    "file.sources <- list.files('./scripts/', pattern = '*.R', full.names=TRUE, ignore.case=TRUE)\n",
    "for (f in file.sources) {\n",
    "    source(f)\n",
    "}\n",
    "rm('file.sources', 'f')"
   ]
  },
  {
   "cell_type": "markdown",
   "metadata": {},
   "source": [
    "# Run"
   ]
  },
  {
   "cell_type": "code",
   "execution_count": 8,
   "metadata": {
    "ExecuteTime": {
     "end_time": "2021-11-24T09:35:53.233661Z",
     "start_time": "2021-11-24T09:35:52.782Z"
    }
   },
   "outputs": [],
   "source": [
    "true_edges <- qread('true_edges.qs')\n",
    "fnames <- list.files('/ebio/abt3_projects/temp_data/aruaud/Toy_p005_N1000_B10/', full.names = TRUE)\n",
    "tmp <- qread(fnames[1])\n",
    "colN <- colnames(tmp$data$x)"
   ]
  },
  {
   "cell_type": "code",
   "execution_count": 9,
   "metadata": {
    "ExecuteTime": {
     "end_time": "2021-11-24T09:35:59.009459Z",
     "start_time": "2021-11-24T09:35:52.981Z"
    }
   },
   "outputs": [
    {
     "data": {
      "text/html": [
       "<ol>\n",
       "\t<li><style>\n",
       ".list-inline {list-style: none; margin:0; padding: 0}\n",
       ".list-inline>li {display: inline-block}\n",
       ".list-inline>li:not(:last-child)::after {content: \"\\00b7\"; padding: 0 .5ex}\n",
       "</style>\n",
       "<ol class=list-inline><li>'qs'</li><li>'stats'</li><li>'graphics'</li><li>'grDevices'</li><li>'utils'</li><li>'datasets'</li><li>'methods'</li><li>'base'</li></ol>\n",
       "</li>\n",
       "\t<li><style>\n",
       ".list-inline {list-style: none; margin:0; padding: 0}\n",
       ".list-inline>li {display: inline-block}\n",
       ".list-inline>li:not(:last-child)::after {content: \"\\00b7\"; padding: 0 .5ex}\n",
       "</style>\n",
       "<ol class=list-inline><li>'qs'</li><li>'stats'</li><li>'graphics'</li><li>'grDevices'</li><li>'utils'</li><li>'datasets'</li><li>'methods'</li><li>'base'</li></ol>\n",
       "</li>\n",
       "\t<li><style>\n",
       ".list-inline {list-style: none; margin:0; padding: 0}\n",
       ".list-inline>li {display: inline-block}\n",
       ".list-inline>li:not(:last-child)::after {content: \"\\00b7\"; padding: 0 .5ex}\n",
       "</style>\n",
       "<ol class=list-inline><li>'qs'</li><li>'stats'</li><li>'graphics'</li><li>'grDevices'</li><li>'utils'</li><li>'datasets'</li><li>'methods'</li><li>'base'</li></ol>\n",
       "</li>\n",
       "\t<li><style>\n",
       ".list-inline {list-style: none; margin:0; padding: 0}\n",
       ".list-inline>li {display: inline-block}\n",
       ".list-inline>li:not(:last-child)::after {content: \"\\00b7\"; padding: 0 .5ex}\n",
       "</style>\n",
       "<ol class=list-inline><li>'qs'</li><li>'stats'</li><li>'graphics'</li><li>'grDevices'</li><li>'utils'</li><li>'datasets'</li><li>'methods'</li><li>'base'</li></ol>\n",
       "</li>\n",
       "\t<li><style>\n",
       ".list-inline {list-style: none; margin:0; padding: 0}\n",
       ".list-inline>li {display: inline-block}\n",
       ".list-inline>li:not(:last-child)::after {content: \"\\00b7\"; padding: 0 .5ex}\n",
       "</style>\n",
       "<ol class=list-inline><li>'qs'</li><li>'stats'</li><li>'graphics'</li><li>'grDevices'</li><li>'utils'</li><li>'datasets'</li><li>'methods'</li><li>'base'</li></ol>\n",
       "</li>\n",
       "\t<li><style>\n",
       ".list-inline {list-style: none; margin:0; padding: 0}\n",
       ".list-inline>li {display: inline-block}\n",
       ".list-inline>li:not(:last-child)::after {content: \"\\00b7\"; padding: 0 .5ex}\n",
       "</style>\n",
       "<ol class=list-inline><li>'qs'</li><li>'stats'</li><li>'graphics'</li><li>'grDevices'</li><li>'utils'</li><li>'datasets'</li><li>'methods'</li><li>'base'</li></ol>\n",
       "</li>\n",
       "\t<li><style>\n",
       ".list-inline {list-style: none; margin:0; padding: 0}\n",
       ".list-inline>li {display: inline-block}\n",
       ".list-inline>li:not(:last-child)::after {content: \"\\00b7\"; padding: 0 .5ex}\n",
       "</style>\n",
       "<ol class=list-inline><li>'qs'</li><li>'stats'</li><li>'graphics'</li><li>'grDevices'</li><li>'utils'</li><li>'datasets'</li><li>'methods'</li><li>'base'</li></ol>\n",
       "</li>\n",
       "</ol>\n"
      ],
      "text/latex": [
       "\\begin{enumerate}\n",
       "\\item \\begin{enumerate*}\n",
       "\\item 'qs'\n",
       "\\item 'stats'\n",
       "\\item 'graphics'\n",
       "\\item 'grDevices'\n",
       "\\item 'utils'\n",
       "\\item 'datasets'\n",
       "\\item 'methods'\n",
       "\\item 'base'\n",
       "\\end{enumerate*}\n",
       "\n",
       "\\item \\begin{enumerate*}\n",
       "\\item 'qs'\n",
       "\\item 'stats'\n",
       "\\item 'graphics'\n",
       "\\item 'grDevices'\n",
       "\\item 'utils'\n",
       "\\item 'datasets'\n",
       "\\item 'methods'\n",
       "\\item 'base'\n",
       "\\end{enumerate*}\n",
       "\n",
       "\\item \\begin{enumerate*}\n",
       "\\item 'qs'\n",
       "\\item 'stats'\n",
       "\\item 'graphics'\n",
       "\\item 'grDevices'\n",
       "\\item 'utils'\n",
       "\\item 'datasets'\n",
       "\\item 'methods'\n",
       "\\item 'base'\n",
       "\\end{enumerate*}\n",
       "\n",
       "\\item \\begin{enumerate*}\n",
       "\\item 'qs'\n",
       "\\item 'stats'\n",
       "\\item 'graphics'\n",
       "\\item 'grDevices'\n",
       "\\item 'utils'\n",
       "\\item 'datasets'\n",
       "\\item 'methods'\n",
       "\\item 'base'\n",
       "\\end{enumerate*}\n",
       "\n",
       "\\item \\begin{enumerate*}\n",
       "\\item 'qs'\n",
       "\\item 'stats'\n",
       "\\item 'graphics'\n",
       "\\item 'grDevices'\n",
       "\\item 'utils'\n",
       "\\item 'datasets'\n",
       "\\item 'methods'\n",
       "\\item 'base'\n",
       "\\end{enumerate*}\n",
       "\n",
       "\\item \\begin{enumerate*}\n",
       "\\item 'qs'\n",
       "\\item 'stats'\n",
       "\\item 'graphics'\n",
       "\\item 'grDevices'\n",
       "\\item 'utils'\n",
       "\\item 'datasets'\n",
       "\\item 'methods'\n",
       "\\item 'base'\n",
       "\\end{enumerate*}\n",
       "\n",
       "\\item \\begin{enumerate*}\n",
       "\\item 'qs'\n",
       "\\item 'stats'\n",
       "\\item 'graphics'\n",
       "\\item 'grDevices'\n",
       "\\item 'utils'\n",
       "\\item 'datasets'\n",
       "\\item 'methods'\n",
       "\\item 'base'\n",
       "\\end{enumerate*}\n",
       "\n",
       "\\end{enumerate}\n"
      ],
      "text/markdown": [
       "1. 1. 'qs'\n",
       "2. 'stats'\n",
       "3. 'graphics'\n",
       "4. 'grDevices'\n",
       "5. 'utils'\n",
       "6. 'datasets'\n",
       "7. 'methods'\n",
       "8. 'base'\n",
       "\n",
       "\n",
       "\n",
       "2. 1. 'qs'\n",
       "2. 'stats'\n",
       "3. 'graphics'\n",
       "4. 'grDevices'\n",
       "5. 'utils'\n",
       "6. 'datasets'\n",
       "7. 'methods'\n",
       "8. 'base'\n",
       "\n",
       "\n",
       "\n",
       "3. 1. 'qs'\n",
       "2. 'stats'\n",
       "3. 'graphics'\n",
       "4. 'grDevices'\n",
       "5. 'utils'\n",
       "6. 'datasets'\n",
       "7. 'methods'\n",
       "8. 'base'\n",
       "\n",
       "\n",
       "\n",
       "4. 1. 'qs'\n",
       "2. 'stats'\n",
       "3. 'graphics'\n",
       "4. 'grDevices'\n",
       "5. 'utils'\n",
       "6. 'datasets'\n",
       "7. 'methods'\n",
       "8. 'base'\n",
       "\n",
       "\n",
       "\n",
       "5. 1. 'qs'\n",
       "2. 'stats'\n",
       "3. 'graphics'\n",
       "4. 'grDevices'\n",
       "5. 'utils'\n",
       "6. 'datasets'\n",
       "7. 'methods'\n",
       "8. 'base'\n",
       "\n",
       "\n",
       "\n",
       "6. 1. 'qs'\n",
       "2. 'stats'\n",
       "3. 'graphics'\n",
       "4. 'grDevices'\n",
       "5. 'utils'\n",
       "6. 'datasets'\n",
       "7. 'methods'\n",
       "8. 'base'\n",
       "\n",
       "\n",
       "\n",
       "7. 1. 'qs'\n",
       "2. 'stats'\n",
       "3. 'graphics'\n",
       "4. 'grDevices'\n",
       "5. 'utils'\n",
       "6. 'datasets'\n",
       "7. 'methods'\n",
       "8. 'base'\n",
       "\n",
       "\n",
       "\n",
       "\n",
       "\n"
      ],
      "text/plain": [
       "[[1]]\n",
       "[1] \"qs\"        \"stats\"     \"graphics\"  \"grDevices\" \"utils\"     \"datasets\" \n",
       "[7] \"methods\"   \"base\"     \n",
       "\n",
       "[[2]]\n",
       "[1] \"qs\"        \"stats\"     \"graphics\"  \"grDevices\" \"utils\"     \"datasets\" \n",
       "[7] \"methods\"   \"base\"     \n",
       "\n",
       "[[3]]\n",
       "[1] \"qs\"        \"stats\"     \"graphics\"  \"grDevices\" \"utils\"     \"datasets\" \n",
       "[7] \"methods\"   \"base\"     \n",
       "\n",
       "[[4]]\n",
       "[1] \"qs\"        \"stats\"     \"graphics\"  \"grDevices\" \"utils\"     \"datasets\" \n",
       "[7] \"methods\"   \"base\"     \n",
       "\n",
       "[[5]]\n",
       "[1] \"qs\"        \"stats\"     \"graphics\"  \"grDevices\" \"utils\"     \"datasets\" \n",
       "[7] \"methods\"   \"base\"     \n",
       "\n",
       "[[6]]\n",
       "[1] \"qs\"        \"stats\"     \"graphics\"  \"grDevices\" \"utils\"     \"datasets\" \n",
       "[7] \"methods\"   \"base\"     \n",
       "\n",
       "[[7]]\n",
       "[1] \"qs\"        \"stats\"     \"graphics\"  \"grDevices\" \"utils\"     \"datasets\" \n",
       "[7] \"methods\"   \"base\"     \n"
      ]
     },
     "metadata": {},
     "output_type": "display_data"
    },
    {
     "data": {
      "text/html": [
       "<ol>\n",
       "\t<li><style>\n",
       ".list-inline {list-style: none; margin:0; padding: 0}\n",
       ".list-inline>li {display: inline-block}\n",
       ".list-inline>li:not(:last-child)::after {content: \"\\00b7\"; padding: 0 .5ex}\n",
       "</style>\n",
       "<ol class=list-inline><li>'endoR'</li><li>'qs'</li><li>'stats'</li><li>'graphics'</li><li>'grDevices'</li><li>'utils'</li><li>'datasets'</li><li>'methods'</li><li>'base'</li></ol>\n",
       "</li>\n",
       "\t<li><style>\n",
       ".list-inline {list-style: none; margin:0; padding: 0}\n",
       ".list-inline>li {display: inline-block}\n",
       ".list-inline>li:not(:last-child)::after {content: \"\\00b7\"; padding: 0 .5ex}\n",
       "</style>\n",
       "<ol class=list-inline><li>'endoR'</li><li>'qs'</li><li>'stats'</li><li>'graphics'</li><li>'grDevices'</li><li>'utils'</li><li>'datasets'</li><li>'methods'</li><li>'base'</li></ol>\n",
       "</li>\n",
       "\t<li><style>\n",
       ".list-inline {list-style: none; margin:0; padding: 0}\n",
       ".list-inline>li {display: inline-block}\n",
       ".list-inline>li:not(:last-child)::after {content: \"\\00b7\"; padding: 0 .5ex}\n",
       "</style>\n",
       "<ol class=list-inline><li>'endoR'</li><li>'qs'</li><li>'stats'</li><li>'graphics'</li><li>'grDevices'</li><li>'utils'</li><li>'datasets'</li><li>'methods'</li><li>'base'</li></ol>\n",
       "</li>\n",
       "\t<li><style>\n",
       ".list-inline {list-style: none; margin:0; padding: 0}\n",
       ".list-inline>li {display: inline-block}\n",
       ".list-inline>li:not(:last-child)::after {content: \"\\00b7\"; padding: 0 .5ex}\n",
       "</style>\n",
       "<ol class=list-inline><li>'endoR'</li><li>'qs'</li><li>'stats'</li><li>'graphics'</li><li>'grDevices'</li><li>'utils'</li><li>'datasets'</li><li>'methods'</li><li>'base'</li></ol>\n",
       "</li>\n",
       "\t<li><style>\n",
       ".list-inline {list-style: none; margin:0; padding: 0}\n",
       ".list-inline>li {display: inline-block}\n",
       ".list-inline>li:not(:last-child)::after {content: \"\\00b7\"; padding: 0 .5ex}\n",
       "</style>\n",
       "<ol class=list-inline><li>'endoR'</li><li>'qs'</li><li>'stats'</li><li>'graphics'</li><li>'grDevices'</li><li>'utils'</li><li>'datasets'</li><li>'methods'</li><li>'base'</li></ol>\n",
       "</li>\n",
       "\t<li><style>\n",
       ".list-inline {list-style: none; margin:0; padding: 0}\n",
       ".list-inline>li {display: inline-block}\n",
       ".list-inline>li:not(:last-child)::after {content: \"\\00b7\"; padding: 0 .5ex}\n",
       "</style>\n",
       "<ol class=list-inline><li>'endoR'</li><li>'qs'</li><li>'stats'</li><li>'graphics'</li><li>'grDevices'</li><li>'utils'</li><li>'datasets'</li><li>'methods'</li><li>'base'</li></ol>\n",
       "</li>\n",
       "\t<li><style>\n",
       ".list-inline {list-style: none; margin:0; padding: 0}\n",
       ".list-inline>li {display: inline-block}\n",
       ".list-inline>li:not(:last-child)::after {content: \"\\00b7\"; padding: 0 .5ex}\n",
       "</style>\n",
       "<ol class=list-inline><li>'endoR'</li><li>'qs'</li><li>'stats'</li><li>'graphics'</li><li>'grDevices'</li><li>'utils'</li><li>'datasets'</li><li>'methods'</li><li>'base'</li></ol>\n",
       "</li>\n",
       "</ol>\n"
      ],
      "text/latex": [
       "\\begin{enumerate}\n",
       "\\item \\begin{enumerate*}\n",
       "\\item 'endoR'\n",
       "\\item 'qs'\n",
       "\\item 'stats'\n",
       "\\item 'graphics'\n",
       "\\item 'grDevices'\n",
       "\\item 'utils'\n",
       "\\item 'datasets'\n",
       "\\item 'methods'\n",
       "\\item 'base'\n",
       "\\end{enumerate*}\n",
       "\n",
       "\\item \\begin{enumerate*}\n",
       "\\item 'endoR'\n",
       "\\item 'qs'\n",
       "\\item 'stats'\n",
       "\\item 'graphics'\n",
       "\\item 'grDevices'\n",
       "\\item 'utils'\n",
       "\\item 'datasets'\n",
       "\\item 'methods'\n",
       "\\item 'base'\n",
       "\\end{enumerate*}\n",
       "\n",
       "\\item \\begin{enumerate*}\n",
       "\\item 'endoR'\n",
       "\\item 'qs'\n",
       "\\item 'stats'\n",
       "\\item 'graphics'\n",
       "\\item 'grDevices'\n",
       "\\item 'utils'\n",
       "\\item 'datasets'\n",
       "\\item 'methods'\n",
       "\\item 'base'\n",
       "\\end{enumerate*}\n",
       "\n",
       "\\item \\begin{enumerate*}\n",
       "\\item 'endoR'\n",
       "\\item 'qs'\n",
       "\\item 'stats'\n",
       "\\item 'graphics'\n",
       "\\item 'grDevices'\n",
       "\\item 'utils'\n",
       "\\item 'datasets'\n",
       "\\item 'methods'\n",
       "\\item 'base'\n",
       "\\end{enumerate*}\n",
       "\n",
       "\\item \\begin{enumerate*}\n",
       "\\item 'endoR'\n",
       "\\item 'qs'\n",
       "\\item 'stats'\n",
       "\\item 'graphics'\n",
       "\\item 'grDevices'\n",
       "\\item 'utils'\n",
       "\\item 'datasets'\n",
       "\\item 'methods'\n",
       "\\item 'base'\n",
       "\\end{enumerate*}\n",
       "\n",
       "\\item \\begin{enumerate*}\n",
       "\\item 'endoR'\n",
       "\\item 'qs'\n",
       "\\item 'stats'\n",
       "\\item 'graphics'\n",
       "\\item 'grDevices'\n",
       "\\item 'utils'\n",
       "\\item 'datasets'\n",
       "\\item 'methods'\n",
       "\\item 'base'\n",
       "\\end{enumerate*}\n",
       "\n",
       "\\item \\begin{enumerate*}\n",
       "\\item 'endoR'\n",
       "\\item 'qs'\n",
       "\\item 'stats'\n",
       "\\item 'graphics'\n",
       "\\item 'grDevices'\n",
       "\\item 'utils'\n",
       "\\item 'datasets'\n",
       "\\item 'methods'\n",
       "\\item 'base'\n",
       "\\end{enumerate*}\n",
       "\n",
       "\\end{enumerate}\n"
      ],
      "text/markdown": [
       "1. 1. 'endoR'\n",
       "2. 'qs'\n",
       "3. 'stats'\n",
       "4. 'graphics'\n",
       "5. 'grDevices'\n",
       "6. 'utils'\n",
       "7. 'datasets'\n",
       "8. 'methods'\n",
       "9. 'base'\n",
       "\n",
       "\n",
       "\n",
       "2. 1. 'endoR'\n",
       "2. 'qs'\n",
       "3. 'stats'\n",
       "4. 'graphics'\n",
       "5. 'grDevices'\n",
       "6. 'utils'\n",
       "7. 'datasets'\n",
       "8. 'methods'\n",
       "9. 'base'\n",
       "\n",
       "\n",
       "\n",
       "3. 1. 'endoR'\n",
       "2. 'qs'\n",
       "3. 'stats'\n",
       "4. 'graphics'\n",
       "5. 'grDevices'\n",
       "6. 'utils'\n",
       "7. 'datasets'\n",
       "8. 'methods'\n",
       "9. 'base'\n",
       "\n",
       "\n",
       "\n",
       "4. 1. 'endoR'\n",
       "2. 'qs'\n",
       "3. 'stats'\n",
       "4. 'graphics'\n",
       "5. 'grDevices'\n",
       "6. 'utils'\n",
       "7. 'datasets'\n",
       "8. 'methods'\n",
       "9. 'base'\n",
       "\n",
       "\n",
       "\n",
       "5. 1. 'endoR'\n",
       "2. 'qs'\n",
       "3. 'stats'\n",
       "4. 'graphics'\n",
       "5. 'grDevices'\n",
       "6. 'utils'\n",
       "7. 'datasets'\n",
       "8. 'methods'\n",
       "9. 'base'\n",
       "\n",
       "\n",
       "\n",
       "6. 1. 'endoR'\n",
       "2. 'qs'\n",
       "3. 'stats'\n",
       "4. 'graphics'\n",
       "5. 'grDevices'\n",
       "6. 'utils'\n",
       "7. 'datasets'\n",
       "8. 'methods'\n",
       "9. 'base'\n",
       "\n",
       "\n",
       "\n",
       "7. 1. 'endoR'\n",
       "2. 'qs'\n",
       "3. 'stats'\n",
       "4. 'graphics'\n",
       "5. 'grDevices'\n",
       "6. 'utils'\n",
       "7. 'datasets'\n",
       "8. 'methods'\n",
       "9. 'base'\n",
       "\n",
       "\n",
       "\n",
       "\n",
       "\n"
      ],
      "text/plain": [
       "[[1]]\n",
       "[1] \"endoR\"     \"qs\"        \"stats\"     \"graphics\"  \"grDevices\" \"utils\"    \n",
       "[7] \"datasets\"  \"methods\"   \"base\"     \n",
       "\n",
       "[[2]]\n",
       "[1] \"endoR\"     \"qs\"        \"stats\"     \"graphics\"  \"grDevices\" \"utils\"    \n",
       "[7] \"datasets\"  \"methods\"   \"base\"     \n",
       "\n",
       "[[3]]\n",
       "[1] \"endoR\"     \"qs\"        \"stats\"     \"graphics\"  \"grDevices\" \"utils\"    \n",
       "[7] \"datasets\"  \"methods\"   \"base\"     \n",
       "\n",
       "[[4]]\n",
       "[1] \"endoR\"     \"qs\"        \"stats\"     \"graphics\"  \"grDevices\" \"utils\"    \n",
       "[7] \"datasets\"  \"methods\"   \"base\"     \n",
       "\n",
       "[[5]]\n",
       "[1] \"endoR\"     \"qs\"        \"stats\"     \"graphics\"  \"grDevices\" \"utils\"    \n",
       "[7] \"datasets\"  \"methods\"   \"base\"     \n",
       "\n",
       "[[6]]\n",
       "[1] \"endoR\"     \"qs\"        \"stats\"     \"graphics\"  \"grDevices\" \"utils\"    \n",
       "[7] \"datasets\"  \"methods\"   \"base\"     \n",
       "\n",
       "[[7]]\n",
       "[1] \"endoR\"     \"qs\"        \"stats\"     \"graphics\"  \"grDevices\" \"utils\"    \n",
       "[7] \"datasets\"  \"methods\"   \"base\"     \n"
      ]
     },
     "metadata": {},
     "output_type": "display_data"
    },
    {
     "data": {
      "text/html": [
       "<ol>\n",
       "\t<li><style>\n",
       ".list-inline {list-style: none; margin:0; padding: 0}\n",
       ".list-inline>li {display: inline-block}\n",
       ".list-inline>li:not(:last-child)::after {content: \"\\00b7\"; padding: 0 .5ex}\n",
       "</style>\n",
       "<ol class=list-inline><li>'forcats'</li><li>'stringr'</li><li>'dplyr'</li><li>'purrr'</li><li>'readr'</li><li>'tidyr'</li><li>'tibble'</li><li>'ggplot2'</li><li>'tidyverse'</li><li>'endoR'</li><li>'qs'</li><li>'stats'</li><li>'graphics'</li><li>'grDevices'</li><li>'utils'</li><li>'datasets'</li><li>'methods'</li><li>'base'</li></ol>\n",
       "</li>\n",
       "\t<li><style>\n",
       ".list-inline {list-style: none; margin:0; padding: 0}\n",
       ".list-inline>li {display: inline-block}\n",
       ".list-inline>li:not(:last-child)::after {content: \"\\00b7\"; padding: 0 .5ex}\n",
       "</style>\n",
       "<ol class=list-inline><li>'forcats'</li><li>'stringr'</li><li>'dplyr'</li><li>'purrr'</li><li>'readr'</li><li>'tidyr'</li><li>'tibble'</li><li>'ggplot2'</li><li>'tidyverse'</li><li>'endoR'</li><li>'qs'</li><li>'stats'</li><li>'graphics'</li><li>'grDevices'</li><li>'utils'</li><li>'datasets'</li><li>'methods'</li><li>'base'</li></ol>\n",
       "</li>\n",
       "\t<li><style>\n",
       ".list-inline {list-style: none; margin:0; padding: 0}\n",
       ".list-inline>li {display: inline-block}\n",
       ".list-inline>li:not(:last-child)::after {content: \"\\00b7\"; padding: 0 .5ex}\n",
       "</style>\n",
       "<ol class=list-inline><li>'forcats'</li><li>'stringr'</li><li>'dplyr'</li><li>'purrr'</li><li>'readr'</li><li>'tidyr'</li><li>'tibble'</li><li>'ggplot2'</li><li>'tidyverse'</li><li>'endoR'</li><li>'qs'</li><li>'stats'</li><li>'graphics'</li><li>'grDevices'</li><li>'utils'</li><li>'datasets'</li><li>'methods'</li><li>'base'</li></ol>\n",
       "</li>\n",
       "\t<li><style>\n",
       ".list-inline {list-style: none; margin:0; padding: 0}\n",
       ".list-inline>li {display: inline-block}\n",
       ".list-inline>li:not(:last-child)::after {content: \"\\00b7\"; padding: 0 .5ex}\n",
       "</style>\n",
       "<ol class=list-inline><li>'forcats'</li><li>'stringr'</li><li>'dplyr'</li><li>'purrr'</li><li>'readr'</li><li>'tidyr'</li><li>'tibble'</li><li>'ggplot2'</li><li>'tidyverse'</li><li>'endoR'</li><li>'qs'</li><li>'stats'</li><li>'graphics'</li><li>'grDevices'</li><li>'utils'</li><li>'datasets'</li><li>'methods'</li><li>'base'</li></ol>\n",
       "</li>\n",
       "\t<li><style>\n",
       ".list-inline {list-style: none; margin:0; padding: 0}\n",
       ".list-inline>li {display: inline-block}\n",
       ".list-inline>li:not(:last-child)::after {content: \"\\00b7\"; padding: 0 .5ex}\n",
       "</style>\n",
       "<ol class=list-inline><li>'forcats'</li><li>'stringr'</li><li>'dplyr'</li><li>'purrr'</li><li>'readr'</li><li>'tidyr'</li><li>'tibble'</li><li>'ggplot2'</li><li>'tidyverse'</li><li>'endoR'</li><li>'qs'</li><li>'stats'</li><li>'graphics'</li><li>'grDevices'</li><li>'utils'</li><li>'datasets'</li><li>'methods'</li><li>'base'</li></ol>\n",
       "</li>\n",
       "\t<li><style>\n",
       ".list-inline {list-style: none; margin:0; padding: 0}\n",
       ".list-inline>li {display: inline-block}\n",
       ".list-inline>li:not(:last-child)::after {content: \"\\00b7\"; padding: 0 .5ex}\n",
       "</style>\n",
       "<ol class=list-inline><li>'forcats'</li><li>'stringr'</li><li>'dplyr'</li><li>'purrr'</li><li>'readr'</li><li>'tidyr'</li><li>'tibble'</li><li>'ggplot2'</li><li>'tidyverse'</li><li>'endoR'</li><li>'qs'</li><li>'stats'</li><li>'graphics'</li><li>'grDevices'</li><li>'utils'</li><li>'datasets'</li><li>'methods'</li><li>'base'</li></ol>\n",
       "</li>\n",
       "\t<li><style>\n",
       ".list-inline {list-style: none; margin:0; padding: 0}\n",
       ".list-inline>li {display: inline-block}\n",
       ".list-inline>li:not(:last-child)::after {content: \"\\00b7\"; padding: 0 .5ex}\n",
       "</style>\n",
       "<ol class=list-inline><li>'forcats'</li><li>'stringr'</li><li>'dplyr'</li><li>'purrr'</li><li>'readr'</li><li>'tidyr'</li><li>'tibble'</li><li>'ggplot2'</li><li>'tidyverse'</li><li>'endoR'</li><li>'qs'</li><li>'stats'</li><li>'graphics'</li><li>'grDevices'</li><li>'utils'</li><li>'datasets'</li><li>'methods'</li><li>'base'</li></ol>\n",
       "</li>\n",
       "</ol>\n"
      ],
      "text/latex": [
       "\\begin{enumerate}\n",
       "\\item \\begin{enumerate*}\n",
       "\\item 'forcats'\n",
       "\\item 'stringr'\n",
       "\\item 'dplyr'\n",
       "\\item 'purrr'\n",
       "\\item 'readr'\n",
       "\\item 'tidyr'\n",
       "\\item 'tibble'\n",
       "\\item 'ggplot2'\n",
       "\\item 'tidyverse'\n",
       "\\item 'endoR'\n",
       "\\item 'qs'\n",
       "\\item 'stats'\n",
       "\\item 'graphics'\n",
       "\\item 'grDevices'\n",
       "\\item 'utils'\n",
       "\\item 'datasets'\n",
       "\\item 'methods'\n",
       "\\item 'base'\n",
       "\\end{enumerate*}\n",
       "\n",
       "\\item \\begin{enumerate*}\n",
       "\\item 'forcats'\n",
       "\\item 'stringr'\n",
       "\\item 'dplyr'\n",
       "\\item 'purrr'\n",
       "\\item 'readr'\n",
       "\\item 'tidyr'\n",
       "\\item 'tibble'\n",
       "\\item 'ggplot2'\n",
       "\\item 'tidyverse'\n",
       "\\item 'endoR'\n",
       "\\item 'qs'\n",
       "\\item 'stats'\n",
       "\\item 'graphics'\n",
       "\\item 'grDevices'\n",
       "\\item 'utils'\n",
       "\\item 'datasets'\n",
       "\\item 'methods'\n",
       "\\item 'base'\n",
       "\\end{enumerate*}\n",
       "\n",
       "\\item \\begin{enumerate*}\n",
       "\\item 'forcats'\n",
       "\\item 'stringr'\n",
       "\\item 'dplyr'\n",
       "\\item 'purrr'\n",
       "\\item 'readr'\n",
       "\\item 'tidyr'\n",
       "\\item 'tibble'\n",
       "\\item 'ggplot2'\n",
       "\\item 'tidyverse'\n",
       "\\item 'endoR'\n",
       "\\item 'qs'\n",
       "\\item 'stats'\n",
       "\\item 'graphics'\n",
       "\\item 'grDevices'\n",
       "\\item 'utils'\n",
       "\\item 'datasets'\n",
       "\\item 'methods'\n",
       "\\item 'base'\n",
       "\\end{enumerate*}\n",
       "\n",
       "\\item \\begin{enumerate*}\n",
       "\\item 'forcats'\n",
       "\\item 'stringr'\n",
       "\\item 'dplyr'\n",
       "\\item 'purrr'\n",
       "\\item 'readr'\n",
       "\\item 'tidyr'\n",
       "\\item 'tibble'\n",
       "\\item 'ggplot2'\n",
       "\\item 'tidyverse'\n",
       "\\item 'endoR'\n",
       "\\item 'qs'\n",
       "\\item 'stats'\n",
       "\\item 'graphics'\n",
       "\\item 'grDevices'\n",
       "\\item 'utils'\n",
       "\\item 'datasets'\n",
       "\\item 'methods'\n",
       "\\item 'base'\n",
       "\\end{enumerate*}\n",
       "\n",
       "\\item \\begin{enumerate*}\n",
       "\\item 'forcats'\n",
       "\\item 'stringr'\n",
       "\\item 'dplyr'\n",
       "\\item 'purrr'\n",
       "\\item 'readr'\n",
       "\\item 'tidyr'\n",
       "\\item 'tibble'\n",
       "\\item 'ggplot2'\n",
       "\\item 'tidyverse'\n",
       "\\item 'endoR'\n",
       "\\item 'qs'\n",
       "\\item 'stats'\n",
       "\\item 'graphics'\n",
       "\\item 'grDevices'\n",
       "\\item 'utils'\n",
       "\\item 'datasets'\n",
       "\\item 'methods'\n",
       "\\item 'base'\n",
       "\\end{enumerate*}\n",
       "\n",
       "\\item \\begin{enumerate*}\n",
       "\\item 'forcats'\n",
       "\\item 'stringr'\n",
       "\\item 'dplyr'\n",
       "\\item 'purrr'\n",
       "\\item 'readr'\n",
       "\\item 'tidyr'\n",
       "\\item 'tibble'\n",
       "\\item 'ggplot2'\n",
       "\\item 'tidyverse'\n",
       "\\item 'endoR'\n",
       "\\item 'qs'\n",
       "\\item 'stats'\n",
       "\\item 'graphics'\n",
       "\\item 'grDevices'\n",
       "\\item 'utils'\n",
       "\\item 'datasets'\n",
       "\\item 'methods'\n",
       "\\item 'base'\n",
       "\\end{enumerate*}\n",
       "\n",
       "\\item \\begin{enumerate*}\n",
       "\\item 'forcats'\n",
       "\\item 'stringr'\n",
       "\\item 'dplyr'\n",
       "\\item 'purrr'\n",
       "\\item 'readr'\n",
       "\\item 'tidyr'\n",
       "\\item 'tibble'\n",
       "\\item 'ggplot2'\n",
       "\\item 'tidyverse'\n",
       "\\item 'endoR'\n",
       "\\item 'qs'\n",
       "\\item 'stats'\n",
       "\\item 'graphics'\n",
       "\\item 'grDevices'\n",
       "\\item 'utils'\n",
       "\\item 'datasets'\n",
       "\\item 'methods'\n",
       "\\item 'base'\n",
       "\\end{enumerate*}\n",
       "\n",
       "\\end{enumerate}\n"
      ],
      "text/markdown": [
       "1. 1. 'forcats'\n",
       "2. 'stringr'\n",
       "3. 'dplyr'\n",
       "4. 'purrr'\n",
       "5. 'readr'\n",
       "6. 'tidyr'\n",
       "7. 'tibble'\n",
       "8. 'ggplot2'\n",
       "9. 'tidyverse'\n",
       "10. 'endoR'\n",
       "11. 'qs'\n",
       "12. 'stats'\n",
       "13. 'graphics'\n",
       "14. 'grDevices'\n",
       "15. 'utils'\n",
       "16. 'datasets'\n",
       "17. 'methods'\n",
       "18. 'base'\n",
       "\n",
       "\n",
       "\n",
       "2. 1. 'forcats'\n",
       "2. 'stringr'\n",
       "3. 'dplyr'\n",
       "4. 'purrr'\n",
       "5. 'readr'\n",
       "6. 'tidyr'\n",
       "7. 'tibble'\n",
       "8. 'ggplot2'\n",
       "9. 'tidyverse'\n",
       "10. 'endoR'\n",
       "11. 'qs'\n",
       "12. 'stats'\n",
       "13. 'graphics'\n",
       "14. 'grDevices'\n",
       "15. 'utils'\n",
       "16. 'datasets'\n",
       "17. 'methods'\n",
       "18. 'base'\n",
       "\n",
       "\n",
       "\n",
       "3. 1. 'forcats'\n",
       "2. 'stringr'\n",
       "3. 'dplyr'\n",
       "4. 'purrr'\n",
       "5. 'readr'\n",
       "6. 'tidyr'\n",
       "7. 'tibble'\n",
       "8. 'ggplot2'\n",
       "9. 'tidyverse'\n",
       "10. 'endoR'\n",
       "11. 'qs'\n",
       "12. 'stats'\n",
       "13. 'graphics'\n",
       "14. 'grDevices'\n",
       "15. 'utils'\n",
       "16. 'datasets'\n",
       "17. 'methods'\n",
       "18. 'base'\n",
       "\n",
       "\n",
       "\n",
       "4. 1. 'forcats'\n",
       "2. 'stringr'\n",
       "3. 'dplyr'\n",
       "4. 'purrr'\n",
       "5. 'readr'\n",
       "6. 'tidyr'\n",
       "7. 'tibble'\n",
       "8. 'ggplot2'\n",
       "9. 'tidyverse'\n",
       "10. 'endoR'\n",
       "11. 'qs'\n",
       "12. 'stats'\n",
       "13. 'graphics'\n",
       "14. 'grDevices'\n",
       "15. 'utils'\n",
       "16. 'datasets'\n",
       "17. 'methods'\n",
       "18. 'base'\n",
       "\n",
       "\n",
       "\n",
       "5. 1. 'forcats'\n",
       "2. 'stringr'\n",
       "3. 'dplyr'\n",
       "4. 'purrr'\n",
       "5. 'readr'\n",
       "6. 'tidyr'\n",
       "7. 'tibble'\n",
       "8. 'ggplot2'\n",
       "9. 'tidyverse'\n",
       "10. 'endoR'\n",
       "11. 'qs'\n",
       "12. 'stats'\n",
       "13. 'graphics'\n",
       "14. 'grDevices'\n",
       "15. 'utils'\n",
       "16. 'datasets'\n",
       "17. 'methods'\n",
       "18. 'base'\n",
       "\n",
       "\n",
       "\n",
       "6. 1. 'forcats'\n",
       "2. 'stringr'\n",
       "3. 'dplyr'\n",
       "4. 'purrr'\n",
       "5. 'readr'\n",
       "6. 'tidyr'\n",
       "7. 'tibble'\n",
       "8. 'ggplot2'\n",
       "9. 'tidyverse'\n",
       "10. 'endoR'\n",
       "11. 'qs'\n",
       "12. 'stats'\n",
       "13. 'graphics'\n",
       "14. 'grDevices'\n",
       "15. 'utils'\n",
       "16. 'datasets'\n",
       "17. 'methods'\n",
       "18. 'base'\n",
       "\n",
       "\n",
       "\n",
       "7. 1. 'forcats'\n",
       "2. 'stringr'\n",
       "3. 'dplyr'\n",
       "4. 'purrr'\n",
       "5. 'readr'\n",
       "6. 'tidyr'\n",
       "7. 'tibble'\n",
       "8. 'ggplot2'\n",
       "9. 'tidyverse'\n",
       "10. 'endoR'\n",
       "11. 'qs'\n",
       "12. 'stats'\n",
       "13. 'graphics'\n",
       "14. 'grDevices'\n",
       "15. 'utils'\n",
       "16. 'datasets'\n",
       "17. 'methods'\n",
       "18. 'base'\n",
       "\n",
       "\n",
       "\n",
       "\n",
       "\n"
      ],
      "text/plain": [
       "[[1]]\n",
       " [1] \"forcats\"   \"stringr\"   \"dplyr\"     \"purrr\"     \"readr\"     \"tidyr\"    \n",
       " [7] \"tibble\"    \"ggplot2\"   \"tidyverse\" \"endoR\"     \"qs\"        \"stats\"    \n",
       "[13] \"graphics\"  \"grDevices\" \"utils\"     \"datasets\"  \"methods\"   \"base\"     \n",
       "\n",
       "[[2]]\n",
       " [1] \"forcats\"   \"stringr\"   \"dplyr\"     \"purrr\"     \"readr\"     \"tidyr\"    \n",
       " [7] \"tibble\"    \"ggplot2\"   \"tidyverse\" \"endoR\"     \"qs\"        \"stats\"    \n",
       "[13] \"graphics\"  \"grDevices\" \"utils\"     \"datasets\"  \"methods\"   \"base\"     \n",
       "\n",
       "[[3]]\n",
       " [1] \"forcats\"   \"stringr\"   \"dplyr\"     \"purrr\"     \"readr\"     \"tidyr\"    \n",
       " [7] \"tibble\"    \"ggplot2\"   \"tidyverse\" \"endoR\"     \"qs\"        \"stats\"    \n",
       "[13] \"graphics\"  \"grDevices\" \"utils\"     \"datasets\"  \"methods\"   \"base\"     \n",
       "\n",
       "[[4]]\n",
       " [1] \"forcats\"   \"stringr\"   \"dplyr\"     \"purrr\"     \"readr\"     \"tidyr\"    \n",
       " [7] \"tibble\"    \"ggplot2\"   \"tidyverse\" \"endoR\"     \"qs\"        \"stats\"    \n",
       "[13] \"graphics\"  \"grDevices\" \"utils\"     \"datasets\"  \"methods\"   \"base\"     \n",
       "\n",
       "[[5]]\n",
       " [1] \"forcats\"   \"stringr\"   \"dplyr\"     \"purrr\"     \"readr\"     \"tidyr\"    \n",
       " [7] \"tibble\"    \"ggplot2\"   \"tidyverse\" \"endoR\"     \"qs\"        \"stats\"    \n",
       "[13] \"graphics\"  \"grDevices\" \"utils\"     \"datasets\"  \"methods\"   \"base\"     \n",
       "\n",
       "[[6]]\n",
       " [1] \"forcats\"   \"stringr\"   \"dplyr\"     \"purrr\"     \"readr\"     \"tidyr\"    \n",
       " [7] \"tibble\"    \"ggplot2\"   \"tidyverse\" \"endoR\"     \"qs\"        \"stats\"    \n",
       "[13] \"graphics\"  \"grDevices\" \"utils\"     \"datasets\"  \"methods\"   \"base\"     \n",
       "\n",
       "[[7]]\n",
       " [1] \"forcats\"   \"stringr\"   \"dplyr\"     \"purrr\"     \"readr\"     \"tidyr\"    \n",
       " [7] \"tibble\"    \"ggplot2\"   \"tidyverse\" \"endoR\"     \"qs\"        \"stats\"    \n",
       "[13] \"graphics\"  \"grDevices\" \"utils\"     \"datasets\"  \"methods\"   \"base\"     \n"
      ]
     },
     "metadata": {},
     "output_type": "display_data"
    }
   ],
   "source": [
    "#stopCluster(cluster)\n",
    "cluster <- makeCluster(7)\n",
    "clusterEvalQ(cluster, library(qs))\n",
    "clusterEvalQ(cluster, library(endoR))\n",
    "clusterEvalQ(cluster, library(tidyverse))\n",
    "clusterExport(cluster, c('getSeveralPR', 'getSinglePR', 'metricsNet', 'quiet' ))"
   ]
  },
  {
   "cell_type": "code",
   "execution_count": 10,
   "metadata": {
    "ExecuteTime": {
     "end_time": "2021-11-24T09:36:51.923120Z",
     "start_time": "2021-11-24T09:35:56.533Z"
    }
   },
   "outputs": [],
   "source": [
    "test_sev <- parLapply(cl = cluster, fnames, getSeveralPR, alpha = c(1, 5, 10, 15, 20)\n",
    "                   , pi_thr = 0.7, true_edges = true_edges, colN = colN)\n",
    "test_sev <- do.call(rbind, test_sev)"
   ]
  },
  {
   "cell_type": "code",
   "execution_count": 11,
   "metadata": {
    "ExecuteTime": {
     "end_time": "2021-11-24T09:36:51.941354Z",
     "start_time": "2021-11-24T09:35:57.943Z"
    }
   },
   "outputs": [],
   "source": [
    "stopCluster(cluster)"
   ]
  },
  {
   "cell_type": "code",
   "execution_count": 12,
   "metadata": {
    "ExecuteTime": {
     "end_time": "2021-11-24T09:36:52.068388Z",
     "start_time": "2021-11-24T09:36:01.961Z"
    }
   },
   "outputs": [],
   "source": [
    "suppressWarnings(av_test <- test_sev %>% group_by(alpha, inN) %>% summarise_all(mean))"
   ]
  },
  {
   "cell_type": "code",
   "execution_count": 13,
   "metadata": {
    "ExecuteTime": {
     "end_time": "2021-11-24T09:36:52.098769Z",
     "start_time": "2021-11-24T09:36:03.312Z"
    },
    "scrolled": true
   },
   "outputs": [
    {
     "data": {
      "text/plain": [
       "    n_edges             tp               fp              tn        \n",
       " Min.   :  0.00   Min.   : 0.000   Min.   :  0.0   Min.   :  0.00  \n",
       " 1st Qu.:  6.00   1st Qu.: 4.000   1st Qu.:  2.0   1st Qu.: 16.00  \n",
       " Median : 25.00   Median : 8.000   Median : 16.0   Median : 78.00  \n",
       " Mean   : 78.69   Mean   : 6.661   Mean   : 35.4   Mean   : 63.65  \n",
       " 3rd Qu.:105.00   3rd Qu.:10.000   3rd Qu.: 70.0   3rd Qu.:105.00  \n",
       " Max.   :360.00   Max.   :10.000   Max.   :104.0   Max.   :110.00  \n",
       "       fn             inN             alpha           pi_thr   \n",
       " Min.   :0.000   Min.   : 0.000   Min.   : 1.00   Min.   :0.7  \n",
       " 1st Qu.:0.000   1st Qu.: 2.000   1st Qu.: 5.00   1st Qu.:0.7  \n",
       " Median :0.000   Median : 5.000   Median :10.00   Median :0.7  \n",
       " Mean   :2.343   Mean   : 4.675   Mean   :10.51   Mean   :0.7  \n",
       " 3rd Qu.:5.000   3rd Qu.: 7.000   3rd Qu.:15.00   3rd Qu.:0.7  \n",
       " Max.   :9.000   Max.   :10.000   Max.   :20.00   Max.   :0.7  \n",
       "    seedN                id           \n",
       " Length:5020        Length:5020       \n",
       " Class :character   Class :character  \n",
       " Mode  :character   Mode  :character  \n",
       "                                      \n",
       "                                      \n",
       "                                      "
      ]
     },
     "metadata": {},
     "output_type": "display_data"
    }
   ],
   "source": [
    "test_sev %>% summary"
   ]
  },
  {
   "cell_type": "markdown",
   "metadata": {},
   "source": [
    "# random"
   ]
  },
  {
   "cell_type": "code",
   "execution_count": 14,
   "metadata": {
    "ExecuteTime": {
     "end_time": "2021-11-24T09:36:52.118931Z",
     "start_time": "2021-11-24T09:36:15.010Z"
    }
   },
   "outputs": [],
   "source": [
    "## Total number of edges\n",
    "N <- (length(colN)*length(colN) - length(colN))/2 \n",
    "## Total number of correct edges\n",
    "K <- length(true_edges)"
   ]
  },
  {
   "cell_type": "code",
   "execution_count": 15,
   "metadata": {
    "ExecuteTime": {
     "end_time": "2021-11-24T09:36:52.135516Z",
     "start_time": "2021-11-24T09:36:15.220Z"
    }
   },
   "outputs": [],
   "source": [
    "random_pr_curve <- function(i){\n",
    "  set.seed(i)\n",
    "  random_draw <- urn[sample(1:N)]\n",
    "  tp <- cumsum(random_draw)\n",
    "  fp <- 1:N - cumsum(random_draw)\n",
    "  linfit <- approx(fp, tp, xout = seq(1, N-K, length.out = 1000),ties = max)\n",
    "  \n",
    "  return(do.call(cbind, linfit))\n",
    "}"
   ]
  },
  {
   "cell_type": "code",
   "execution_count": 16,
   "metadata": {
    "ExecuteTime": {
     "end_time": "2021-11-24T09:36:53.030628Z",
     "start_time": "2021-11-24T09:36:15.401Z"
    }
   },
   "outputs": [],
   "source": [
    "## Resample\n",
    "urn <- c(rep(1, K), rep(0, N-K))\n",
    "B <- 1000\n",
    "rdm <- list()\n",
    "for(j in 1:B){\n",
    "  rdm[[j]] <- random_pr_curve(j)\n",
    "}"
   ]
  },
  {
   "cell_type": "code",
   "execution_count": 17,
   "metadata": {
    "ExecuteTime": {
     "end_time": "2021-11-24T09:36:53.380648Z",
     "start_time": "2021-11-24T09:36:15.582Z"
    }
   },
   "outputs": [],
   "source": [
    "rdm <- as.data.frame(do.call(rbind, rdm))\n",
    "colnames(rdm)<- c('fp', 'tp')"
   ]
  },
  {
   "cell_type": "code",
   "execution_count": 18,
   "metadata": {
    "ExecuteTime": {
     "end_time": "2021-11-24T09:36:53.990230Z",
     "start_time": "2021-11-24T09:36:16.000Z"
    }
   },
   "outputs": [
    {
     "name": "stderr",
     "output_type": "stream",
     "text": [
      "`summarise()` ungrouping output (override with `.groups` argument)\n",
      "\n"
     ]
    }
   ],
   "source": [
    "rdm <- group_by(rdm, fp) %>% summarise(tp_av = mean(tp), tp_sd = sd(tp), tp_qtiles = quantile(tp, 0.99))"
   ]
  },
  {
   "cell_type": "code",
   "execution_count": 19,
   "metadata": {
    "ExecuteTime": {
     "end_time": "2021-11-24T09:36:54.026558Z",
     "start_time": "2021-11-24T09:36:17.772Z"
    }
   },
   "outputs": [
    {
     "data": {
      "text/html": [
       "<style>\n",
       ".list-inline {list-style: none; margin:0; padding: 0}\n",
       ".list-inline>li {display: inline-block}\n",
       ".list-inline>li:not(:last-child)::after {content: \"\\00b7\"; padding: 0 .5ex}\n",
       "</style>\n",
       "<ol class=list-inline><li>1000</li><li>4</li></ol>\n"
      ],
      "text/latex": [
       "\\begin{enumerate*}\n",
       "\\item 1000\n",
       "\\item 4\n",
       "\\end{enumerate*}\n"
      ],
      "text/markdown": [
       "1. 1000\n",
       "2. 4\n",
       "\n",
       "\n"
      ],
      "text/plain": [
       "[1] 1000    4"
      ]
     },
     "metadata": {},
     "output_type": "display_data"
    },
    {
     "data": {
      "text/html": [
       "<table class=\"dataframe\">\n",
       "<caption>A tibble: 6 × 4</caption>\n",
       "<thead>\n",
       "\t<tr><th scope=col>fp</th><th scope=col>tp_av</th><th scope=col>tp_sd</th><th scope=col>tp_qtiles</th></tr>\n",
       "\t<tr><th scope=col>&lt;dbl&gt;</th><th scope=col>&lt;dbl&gt;</th><th scope=col>&lt;dbl&gt;</th><th scope=col>&lt;dbl&gt;</th></tr>\n",
       "</thead>\n",
       "<tbody>\n",
       "\t<tr><td>1.000000</td><td>0.1820000</td><td>0.4393963</td><td>2</td></tr>\n",
       "\t<tr><td>1.109109</td><td>0.1935656</td><td>0.4404358</td><td>2</td></tr>\n",
       "\t<tr><td>1.218218</td><td>0.2051311</td><td>0.4446671</td><td>2</td></tr>\n",
       "\t<tr><td>1.327327</td><td>0.2166967</td><td>0.4520007</td><td>2</td></tr>\n",
       "\t<tr><td>1.436436</td><td>0.2282623</td><td>0.4622887</td><td>2</td></tr>\n",
       "\t<tr><td>1.545546</td><td>0.2398278</td><td>0.4753396</td><td>2</td></tr>\n",
       "</tbody>\n",
       "</table>\n"
      ],
      "text/latex": [
       "A tibble: 6 × 4\n",
       "\\begin{tabular}{llll}\n",
       " fp & tp\\_av & tp\\_sd & tp\\_qtiles\\\\\n",
       " <dbl> & <dbl> & <dbl> & <dbl>\\\\\n",
       "\\hline\n",
       "\t 1.000000 & 0.1820000 & 0.4393963 & 2\\\\\n",
       "\t 1.109109 & 0.1935656 & 0.4404358 & 2\\\\\n",
       "\t 1.218218 & 0.2051311 & 0.4446671 & 2\\\\\n",
       "\t 1.327327 & 0.2166967 & 0.4520007 & 2\\\\\n",
       "\t 1.436436 & 0.2282623 & 0.4622887 & 2\\\\\n",
       "\t 1.545546 & 0.2398278 & 0.4753396 & 2\\\\\n",
       "\\end{tabular}\n"
      ],
      "text/markdown": [
       "\n",
       "A tibble: 6 × 4\n",
       "\n",
       "| fp &lt;dbl&gt; | tp_av &lt;dbl&gt; | tp_sd &lt;dbl&gt; | tp_qtiles &lt;dbl&gt; |\n",
       "|---|---|---|---|\n",
       "| 1.000000 | 0.1820000 | 0.4393963 | 2 |\n",
       "| 1.109109 | 0.1935656 | 0.4404358 | 2 |\n",
       "| 1.218218 | 0.2051311 | 0.4446671 | 2 |\n",
       "| 1.327327 | 0.2166967 | 0.4520007 | 2 |\n",
       "| 1.436436 | 0.2282623 | 0.4622887 | 2 |\n",
       "| 1.545546 | 0.2398278 | 0.4753396 | 2 |\n",
       "\n"
      ],
      "text/plain": [
       "  fp       tp_av     tp_sd     tp_qtiles\n",
       "1 1.000000 0.1820000 0.4393963 2        \n",
       "2 1.109109 0.1935656 0.4404358 2        \n",
       "3 1.218218 0.2051311 0.4446671 2        \n",
       "4 1.327327 0.2166967 0.4520007 2        \n",
       "5 1.436436 0.2282623 0.4622887 2        \n",
       "6 1.545546 0.2398278 0.4753396 2        "
      ]
     },
     "metadata": {},
     "output_type": "display_data"
    }
   ],
   "source": [
    "rdm %>% dim\n",
    "rdm %>% head"
   ]
  },
  {
   "cell_type": "markdown",
   "metadata": {},
   "source": [
    "# Interpolate"
   ]
  },
  {
   "cell_type": "code",
   "execution_count": 20,
   "metadata": {
    "ExecuteTime": {
     "end_time": "2021-11-24T09:36:54.042767Z",
     "start_time": "2021-11-24T09:36:23.831Z"
    }
   },
   "outputs": [],
   "source": [
    "getInterpo <- function(i, raw){\n",
    "    raw <- subset(raw, seedN == i)\n",
    "    res <- list()\n",
    "    \n",
    "    i <- 1\n",
    "    for (a in unique(raw$alpha)){\n",
    "        tmp <- approx(raw$fp[raw$alpha == a]\n",
    "                       , raw$tp[raw$alpha == a]\n",
    "                       , xout = seq(1, N-K, length.out = 1000)\n",
    "                       , ties = max)\n",
    "        tmp <- as.data.frame(do.call(cbind, tmp))\n",
    "        colnames(tmp) <- c('fp', 'tp')\n",
    "        tmp$alpha <- a\n",
    "        \n",
    "        # add 0 and max values to the extrapolations\n",
    "        mafp <- max(tmp$fp[!is.na(tmp$tp)])\n",
    "        tmp$tp[tmp$fp>mafp] <- max(tmp$tp, na.rm = TRUE) \n",
    "\n",
    "        res[[i]] <- tmp\n",
    "        i <- i+1\n",
    "    }\n",
    "    res <- do.call(rbind, res)\n",
    "    res$seedN <- i\n",
    "    \n",
    "    return(res)\n",
    "}"
   ]
  },
  {
   "cell_type": "code",
   "execution_count": 21,
   "metadata": {
    "ExecuteTime": {
     "end_time": "2021-11-24T09:36:54.432576Z",
     "start_time": "2021-11-24T09:36:24.214Z"
    }
   },
   "outputs": [],
   "source": [
    "pr_byseed <- suppressWarnings(lapply(unique(test_sev$seedN), getInterpo, raw = test_sev))"
   ]
  },
  {
   "cell_type": "code",
   "execution_count": 22,
   "metadata": {
    "ExecuteTime": {
     "end_time": "2021-11-24T09:36:55.800736Z",
     "start_time": "2021-11-24T09:36:28.888Z"
    }
   },
   "outputs": [],
   "source": [
    "pr_byseed_av <- do.call(rbind, pr_byseed) %>% select(-seedN) %>% group_by(fp, alpha) %>% summarise_all(mean)\n",
    "pr_byseed_sd <- do.call(rbind, pr_byseed) %>% select(-seedN) %>% group_by(fp, alpha) %>% summarise_all(sd)"
   ]
  },
  {
   "cell_type": "code",
   "execution_count": 23,
   "metadata": {
    "ExecuteTime": {
     "end_time": "2021-11-24T09:36:55.832542Z",
     "start_time": "2021-11-24T09:36:32.621Z"
    }
   },
   "outputs": [],
   "source": [
    "pr_forplots <- left_join(pr_byseed_av, pr_byseed_sd, by = c('fp', 'alpha'), suffix = c('_av', '_sd'))"
   ]
  },
  {
   "cell_type": "code",
   "execution_count": 24,
   "metadata": {
    "ExecuteTime": {
     "end_time": "2021-11-24T09:36:55.876142Z",
     "start_time": "2021-11-24T09:36:32.951Z"
    }
   },
   "outputs": [
    {
     "data": {
      "text/html": [
       "<style>\n",
       ".list-inline {list-style: none; margin:0; padding: 0}\n",
       ".list-inline>li {display: inline-block}\n",
       ".list-inline>li:not(:last-child)::after {content: \"\\00b7\"; padding: 0 .5ex}\n",
       "</style>\n",
       "<ol class=list-inline><li>5000</li><li>4</li></ol>\n"
      ],
      "text/latex": [
       "\\begin{enumerate*}\n",
       "\\item 5000\n",
       "\\item 4\n",
       "\\end{enumerate*}\n"
      ],
      "text/markdown": [
       "1. 5000\n",
       "2. 4\n",
       "\n",
       "\n"
      ],
      "text/plain": [
       "[1] 5000    4"
      ]
     },
     "metadata": {},
     "output_type": "display_data"
    },
    {
     "data": {
      "text/html": [
       "<table class=\"dataframe\">\n",
       "<caption>A grouped_df: 6 × 4</caption>\n",
       "<thead>\n",
       "\t<tr><th scope=col>fp</th><th scope=col>alpha</th><th scope=col>tp_av</th><th scope=col>tp_sd</th></tr>\n",
       "\t<tr><th scope=col>&lt;dbl&gt;</th><th scope=col>&lt;dbl&gt;</th><th scope=col>&lt;dbl&gt;</th><th scope=col>&lt;dbl&gt;</th></tr>\n",
       "</thead>\n",
       "<tbody>\n",
       "\t<tr><td>109.8909</td><td>20</td><td>10.000000</td><td>0.000000e+00</td></tr>\n",
       "\t<tr><td>110.0000</td><td> 1</td><td> 9.999631</td><td>1.334259e-03</td></tr>\n",
       "\t<tr><td>110.0000</td><td> 5</td><td> 9.999906</td><td>9.342240e-04</td></tr>\n",
       "\t<tr><td>110.0000</td><td>10</td><td>10.000000</td><td>4.550005e-06</td></tr>\n",
       "\t<tr><td>110.0000</td><td>15</td><td>10.000000</td><td>0.000000e+00</td></tr>\n",
       "\t<tr><td>110.0000</td><td>20</td><td>10.000000</td><td>0.000000e+00</td></tr>\n",
       "</tbody>\n",
       "</table>\n"
      ],
      "text/latex": [
       "A grouped\\_df: 6 × 4\n",
       "\\begin{tabular}{llll}\n",
       " fp & alpha & tp\\_av & tp\\_sd\\\\\n",
       " <dbl> & <dbl> & <dbl> & <dbl>\\\\\n",
       "\\hline\n",
       "\t 109.8909 & 20 & 10.000000 & 0.000000e+00\\\\\n",
       "\t 110.0000 &  1 &  9.999631 & 1.334259e-03\\\\\n",
       "\t 110.0000 &  5 &  9.999906 & 9.342240e-04\\\\\n",
       "\t 110.0000 & 10 & 10.000000 & 4.550005e-06\\\\\n",
       "\t 110.0000 & 15 & 10.000000 & 0.000000e+00\\\\\n",
       "\t 110.0000 & 20 & 10.000000 & 0.000000e+00\\\\\n",
       "\\end{tabular}\n"
      ],
      "text/markdown": [
       "\n",
       "A grouped_df: 6 × 4\n",
       "\n",
       "| fp &lt;dbl&gt; | alpha &lt;dbl&gt; | tp_av &lt;dbl&gt; | tp_sd &lt;dbl&gt; |\n",
       "|---|---|---|---|\n",
       "| 109.8909 | 20 | 10.000000 | 0.000000e+00 |\n",
       "| 110.0000 |  1 |  9.999631 | 1.334259e-03 |\n",
       "| 110.0000 |  5 |  9.999906 | 9.342240e-04 |\n",
       "| 110.0000 | 10 | 10.000000 | 4.550005e-06 |\n",
       "| 110.0000 | 15 | 10.000000 | 0.000000e+00 |\n",
       "| 110.0000 | 20 | 10.000000 | 0.000000e+00 |\n",
       "\n"
      ],
      "text/plain": [
       "  fp       alpha tp_av     tp_sd       \n",
       "1 109.8909 20    10.000000 0.000000e+00\n",
       "2 110.0000  1     9.999631 1.334259e-03\n",
       "3 110.0000  5     9.999906 9.342240e-04\n",
       "4 110.0000 10    10.000000 4.550005e-06\n",
       "5 110.0000 15    10.000000 0.000000e+00\n",
       "6 110.0000 20    10.000000 0.000000e+00"
      ]
     },
     "metadata": {},
     "output_type": "display_data"
    }
   ],
   "source": [
    "pr_forplots %>% dim\n",
    "pr_forplots %>% tail"
   ]
  },
  {
   "cell_type": "markdown",
   "metadata": {},
   "source": [
    "# plots"
   ]
  },
  {
   "cell_type": "code",
   "execution_count": 25,
   "metadata": {
    "ExecuteTime": {
     "end_time": "2021-11-24T09:36:55.964238Z",
     "start_time": "2021-11-24T09:36:35.951Z"
    },
    "scrolled": true
   },
   "outputs": [],
   "source": [
    "cols <- plasma(length(unique(av_test$alpha)) + 2)"
   ]
  },
  {
   "cell_type": "code",
   "execution_count": 26,
   "metadata": {
    "ExecuteTime": {
     "end_time": "2021-11-24T09:36:56.091340Z",
     "start_time": "2021-11-24T09:36:52.284Z"
    }
   },
   "outputs": [],
   "source": [
    "p <- ggplot(pr_forplots \n",
    "             , aes(x = fp, y = tp_av, group = as.factor(alpha), color = as.factor(alpha)))+\n",
    "geom_hline(yintercept = 10, color = 'lightgrey', linetype = 'dashed')+\n",
    "geom_line(data = pr_forplots , size = 1)+\n",
    "\n",
    "geom_ribbon(aes(ymin = tp_av - tp_sd/2, ymax = tp_av + tp_sd/2\n",
    "                , group = alpha, fill = as.factor(alpha)), color = NA\n",
    "            , alpha = 0.25) +\n",
    "\n",
    "geom_line(data = rdm, aes(y = tp_av, x = fp), group=NA, color = 'darkgrey')+\n",
    "geom_ribbon(data = rdm\n",
    "            , aes(ymin = tp_av - tp_sd/2, ymax = tp_av + tp_sd/2, y = tp_av\n",
    "                  , group=NULL, color = NULL)\n",
    "            , alpha = 0.25, fill = 'darkgrey') +\n",
    "\n",
    "geom_point(data = av_test %>% subset(inN == 7)\n",
    "           , aes(y = tp, x = fp, fill = as.factor(alpha))\n",
    "           , size = 4, shape = 21, color = 'black')+\n",
    "\n",
    "\n",
    "theme_classic()+\n",
    "labs(x = 'Number of FP', y = 'Number of TP')+\n",
    "scale_color_manual(values = cols[-c(1, length(cols))], name = expression(alpha)) +\n",
    "scale_fill_manual(values = cols[-c(1, length(cols))], name = expression(alpha)) "
   ]
  },
  {
   "cell_type": "code",
   "execution_count": 27,
   "metadata": {
    "ExecuteTime": {
     "end_time": "2021-11-24T09:36:56.927491Z",
     "start_time": "2021-11-24T09:36:55.403Z"
    }
   },
   "outputs": [
    {
     "data": {
      "image/png": "[encoded data removed]",
      "text/plain": [
       "plot without title"
      ]
     },
     "metadata": {
      "image/png": {
       "height": 240,
       "width": 300
      }
     },
     "output_type": "display_data"
    }
   ],
   "source": [
    "options(repr.plot.width=5, repr.plot.height=4)\n",
    "p"
   ]
  },
  {
   "cell_type": "markdown",
   "metadata": {},
   "source": [
    "# check values"
   ]
  },
  {
   "cell_type": "code",
   "execution_count": 28,
   "metadata": {
    "ExecuteTime": {
     "end_time": "2021-11-24T09:37:07.728288Z",
     "start_time": "2021-11-24T09:37:07.449Z"
    }
   },
   "outputs": [],
   "source": [
    "getRes <- function(f,alphas, true_edges){\n",
    "    tmp <- qread(f)\n",
    "    res <- list()\n",
    "    \n",
    "    for (a in alphas){\n",
    "        # get the new metrics\n",
    "        quiet(pc <- stabilitySelection(tmp$resamp, alpha_error = a, pi_thr = 0.7))\n",
    "        cond <- pc$rules_summary %>% subset(inN >= 7, select = condition) %>% unlist\n",
    "        if (length(cond) > 0){\n",
    "\n",
    "            imp_edges <- pc$edges_agg %>% subset(condition %in% cond) %>% select(x,y, importance, n, imp)\n",
    "            imp_edges$x <- str_replace(imp_edges$x, pattern = '\\\\_{2}.*', replacement = '')\n",
    "            imp_edges$y <- str_replace(imp_edges$y, pattern = '\\\\_{2}.*', replacement = '')\n",
    "            suppressMessages(imp_edges <- imp_edges %>% group_by(x,y) %>% summarise(importance = sum(n*imp*importance)))\n",
    "            imp_edges <- asplit(as.matrix(imp_edges), MARGIN = 1)\n",
    "            imp_edges <- lapply(imp_edges, sort) \n",
    "            pred_edges <- sapply(imp_edges, function(x){paste(x[-1], collapse = ' - ')}) \n",
    "\n",
    "            # those that should not be but are = in pred_edges but not truth\n",
    "            tp <- which(sapply(pred_edges, function(x){x %in% true_edges}))\n",
    "            fp <- which(sapply(pred_edges, function(x){!(x %in% true_edges)}))\n",
    "            fn <- sum(sapply(true_edges, function(x){!(x %in% pred_edges)}))\n",
    "\n",
    "            # sum of FP importances\n",
    "            if(length(fp) > 0) {\n",
    "                fp_imp <- sum(sapply(imp_edges[fp], function(x){as.numeric(x['importance'])}))\n",
    "            } else {fp_imp <- 0}\n",
    "            # sum of TP importances\n",
    "            if(length(tp) > 0) {\n",
    "                tp_imp <- sum(sapply(imp_edges[tp], function(x){as.numeric(x['importance'])}))\n",
    "            } else {tp_imp <- 0}\n",
    "\n",
    "            res[[as.character(a)]] <- c('alpha' = a, 'rf_accuracy' = tmp$rf_accuracy, 'n_decisions' = length(cond)\n",
    "                    , 'tp_imp' = tp_imp, 'fp_imp' = fp_imp, 'tp' = length(tp), 'fp' = length(fp)\n",
    "                    , 'fn' = fn)\n",
    "        } else {\n",
    "            res[[as.character(a)]] <- c('alpha' = a, 'rf_accuracy' = tmp$rf_accuracy, 'n_decisions' = 0\n",
    "                    , 'tp_imp' = 0, 'fp_imp' = 0, 'tp' = 0, 'fp' = 0, 'fn' = 0)\n",
    "        }\n",
    "    }\n",
    "    res <- do.call(rbind, res)\n",
    "    \n",
    "    return(res)\n",
    "}"
   ]
  },
  {
   "cell_type": "code",
   "execution_count": 29,
   "metadata": {
    "ExecuteTime": {
     "end_time": "2021-11-24T09:37:08.729187Z",
     "start_time": "2021-11-24T09:37:08.423Z"
    }
   },
   "outputs": [],
   "source": [
    "true_edges <- qread('true_edges.qs')\n",
    "true_edges <- true_edges %>% lapply(sort) %>% \n",
    "                sapply(paste, collapse = ' - ')"
   ]
  },
  {
   "cell_type": "code",
   "execution_count": 30,
   "metadata": {
    "ExecuteTime": {
     "end_time": "2021-11-24T09:39:04.800592Z",
     "start_time": "2021-11-24T09:37:11.032Z"
    }
   },
   "outputs": [],
   "source": [
    "check <- lapply(fnames, getRes, alphas = c(1,5,10,15,20), true_edges = true_edges)\n",
    "check <- do.call(rbind, check)"
   ]
  },
  {
   "cell_type": "code",
   "execution_count": 31,
   "metadata": {
    "ExecuteTime": {
     "end_time": "2021-11-24T09:39:04.825814Z",
     "start_time": "2021-11-24T09:37:11.274Z"
    }
   },
   "outputs": [],
   "source": [
    "check <- as.data.frame(check) %>% mutate_all(as.numeric)"
   ]
  },
  {
   "cell_type": "code",
   "execution_count": 32,
   "metadata": {
    "ExecuteTime": {
     "end_time": "2021-11-24T09:39:04.850086Z",
     "start_time": "2021-11-24T09:37:11.452Z"
    }
   },
   "outputs": [],
   "source": [
    "check$precision <- check$tp/(check$tp+check$fp)\n",
    "check$recall <- check$tp/(check$tp+check$fn)\n",
    "check$w_precision <- check$tp_imp/(check$tp_imp+check$fp_imp)"
   ]
  },
  {
   "cell_type": "code",
   "execution_count": 33,
   "metadata": {
    "ExecuteTime": {
     "end_time": "2021-11-24T09:39:04.912908Z",
     "start_time": "2021-11-24T09:37:22.013Z"
    }
   },
   "outputs": [
    {
     "data": {
      "text/html": [
       "<table class=\"dataframe\">\n",
       "<caption>A tibble: 5 × 11</caption>\n",
       "<thead>\n",
       "\t<tr><th scope=col>alpha</th><th scope=col>rf_accuracy</th><th scope=col>n_decisions</th><th scope=col>tp</th><th scope=col>fp</th><th scope=col>fn</th><th scope=col>tp_imp</th><th scope=col>fp_imp</th><th scope=col>precision</th><th scope=col>recall</th><th scope=col>w_precision</th></tr>\n",
       "\t<tr><th scope=col>&lt;dbl&gt;</th><th scope=col>&lt;dbl&gt;</th><th scope=col>&lt;dbl&gt;</th><th scope=col>&lt;dbl&gt;</th><th scope=col>&lt;dbl&gt;</th><th scope=col>&lt;dbl&gt;</th><th scope=col>&lt;dbl&gt;</th><th scope=col>&lt;dbl&gt;</th><th scope=col>&lt;dbl&gt;</th><th scope=col>&lt;dbl&gt;</th><th scope=col>&lt;dbl&gt;</th></tr>\n",
       "</thead>\n",
       "<tbody>\n",
       "\t<tr><td> 1</td><td>0.83344</td><td>3.73</td><td>3.18</td><td>3.22</td><td>6.82</td><td>31.19394</td><td>3.834261</td><td>0.6024805</td><td>0.318</td><td>0.8651646</td></tr>\n",
       "\t<tr><td> 5</td><td>0.83344</td><td>5.81</td><td>5.31</td><td>5.24</td><td>4.69</td><td>42.08657</td><td>5.377200</td><td>0.5767208</td><td>0.531</td><td>0.8648359</td></tr>\n",
       "\t<tr><td>10</td><td>0.83344</td><td>6.90</td><td>6.34</td><td>6.87</td><td>3.66</td><td>47.19195</td><td>5.809556</td><td>0.5509802</td><td>0.634</td><td>0.8698317</td></tr>\n",
       "\t<tr><td>15</td><td>0.83344</td><td>7.69</td><td>7.02</td><td>8.17</td><td>2.98</td><td>50.17868</td><td>6.093677</td><td>0.5339976</td><td>0.702</td><td>0.8743680</td></tr>\n",
       "\t<tr><td>20</td><td>0.83344</td><td>8.42</td><td>7.38</td><td>9.40</td><td>2.62</td><td>51.80686</td><td>6.440468</td><td>0.5061890</td><td>0.738</td><td>0.8723855</td></tr>\n",
       "</tbody>\n",
       "</table>\n"
      ],
      "text/latex": [
       "A tibble: 5 × 11\n",
       "\\begin{tabular}{lllllllllll}\n",
       " alpha & rf\\_accuracy & n\\_decisions & tp & fp & fn & tp\\_imp & fp\\_imp & precision & recall & w\\_precision\\\\\n",
       " <dbl> & <dbl> & <dbl> & <dbl> & <dbl> & <dbl> & <dbl> & <dbl> & <dbl> & <dbl> & <dbl>\\\\\n",
       "\\hline\n",
       "\t  1 & 0.83344 & 3.73 & 3.18 & 3.22 & 6.82 & 31.19394 & 3.834261 & 0.6024805 & 0.318 & 0.8651646\\\\\n",
       "\t  5 & 0.83344 & 5.81 & 5.31 & 5.24 & 4.69 & 42.08657 & 5.377200 & 0.5767208 & 0.531 & 0.8648359\\\\\n",
       "\t 10 & 0.83344 & 6.90 & 6.34 & 6.87 & 3.66 & 47.19195 & 5.809556 & 0.5509802 & 0.634 & 0.8698317\\\\\n",
       "\t 15 & 0.83344 & 7.69 & 7.02 & 8.17 & 2.98 & 50.17868 & 6.093677 & 0.5339976 & 0.702 & 0.8743680\\\\\n",
       "\t 20 & 0.83344 & 8.42 & 7.38 & 9.40 & 2.62 & 51.80686 & 6.440468 & 0.5061890 & 0.738 & 0.8723855\\\\\n",
       "\\end{tabular}\n"
      ],
      "text/markdown": [
       "\n",
       "A tibble: 5 × 11\n",
       "\n",
       "| alpha &lt;dbl&gt; | rf_accuracy &lt;dbl&gt; | n_decisions &lt;dbl&gt; | tp &lt;dbl&gt; | fp &lt;dbl&gt; | fn &lt;dbl&gt; | tp_imp &lt;dbl&gt; | fp_imp &lt;dbl&gt; | precision &lt;dbl&gt; | recall &lt;dbl&gt; | w_precision &lt;dbl&gt; |\n",
       "|---|---|---|---|---|---|---|---|---|---|---|\n",
       "|  1 | 0.83344 | 3.73 | 3.18 | 3.22 | 6.82 | 31.19394 | 3.834261 | 0.6024805 | 0.318 | 0.8651646 |\n",
       "|  5 | 0.83344 | 5.81 | 5.31 | 5.24 | 4.69 | 42.08657 | 5.377200 | 0.5767208 | 0.531 | 0.8648359 |\n",
       "| 10 | 0.83344 | 6.90 | 6.34 | 6.87 | 3.66 | 47.19195 | 5.809556 | 0.5509802 | 0.634 | 0.8698317 |\n",
       "| 15 | 0.83344 | 7.69 | 7.02 | 8.17 | 2.98 | 50.17868 | 6.093677 | 0.5339976 | 0.702 | 0.8743680 |\n",
       "| 20 | 0.83344 | 8.42 | 7.38 | 9.40 | 2.62 | 51.80686 | 6.440468 | 0.5061890 | 0.738 | 0.8723855 |\n",
       "\n"
      ],
      "text/plain": [
       "  alpha rf_accuracy n_decisions tp   fp   fn   tp_imp   fp_imp   precision\n",
       "1  1    0.83344     3.73        3.18 3.22 6.82 31.19394 3.834261 0.6024805\n",
       "2  5    0.83344     5.81        5.31 5.24 4.69 42.08657 5.377200 0.5767208\n",
       "3 10    0.83344     6.90        6.34 6.87 3.66 47.19195 5.809556 0.5509802\n",
       "4 15    0.83344     7.69        7.02 8.17 2.98 50.17868 6.093677 0.5339976\n",
       "5 20    0.83344     8.42        7.38 9.40 2.62 51.80686 6.440468 0.5061890\n",
       "  recall w_precision\n",
       "1 0.318  0.8651646  \n",
       "2 0.531  0.8648359  \n",
       "3 0.634  0.8698317  \n",
       "4 0.702  0.8743680  \n",
       "5 0.738  0.8723855  "
      ]
     },
     "metadata": {},
     "output_type": "display_data"
    }
   ],
   "source": [
    "check %>% group_by(alpha) %>% summarise_all(mean) %>% #subset(alpha != 5) %>% \n",
    "select(alpha, rf_accuracy, n_decisions, tp, fp, fn, tp_imp, fp_imp, precision, recall, w_precision) "
   ]
  },
  {
   "cell_type": "code",
   "execution_count": 34,
   "metadata": {
    "ExecuteTime": {
     "end_time": "2021-11-24T09:39:04.980430Z",
     "start_time": "2021-11-24T09:37:23.033Z"
    }
   },
   "outputs": [
    {
     "data": {
      "text/html": [
       "<table class=\"dataframe\">\n",
       "<caption>A tibble: 5 × 11</caption>\n",
       "<thead>\n",
       "\t<tr><th scope=col>alpha</th><th scope=col>rf_accuracy</th><th scope=col>n_decisions</th><th scope=col>tp</th><th scope=col>fp</th><th scope=col>fn</th><th scope=col>tp_imp</th><th scope=col>fp_imp</th><th scope=col>precision</th><th scope=col>recall</th><th scope=col>w_precision</th></tr>\n",
       "\t<tr><th scope=col>&lt;dbl&gt;</th><th scope=col>&lt;dbl&gt;</th><th scope=col>&lt;dbl&gt;</th><th scope=col>&lt;dbl&gt;</th><th scope=col>&lt;dbl&gt;</th><th scope=col>&lt;dbl&gt;</th><th scope=col>&lt;dbl&gt;</th><th scope=col>&lt;dbl&gt;</th><th scope=col>&lt;dbl&gt;</th><th scope=col>&lt;dbl&gt;</th><th scope=col>&lt;dbl&gt;</th></tr>\n",
       "</thead>\n",
       "<tbody>\n",
       "\t<tr><td> 1</td><td>0.01662195</td><td>1.932471</td><td>1.892996</td><td>3.433583</td><td>1.892996</td><td>24.39017</td><td>4.077297</td><td>0.3260460</td><td>0.1892996</td><td>0.14233027</td></tr>\n",
       "\t<tr><td> 5</td><td>0.01662195</td><td>2.676856</td><td>2.195933</td><td>4.653922</td><td>2.195933</td><td>27.08406</td><td>4.954113</td><td>0.2724472</td><td>0.2195933</td><td>0.12086530</td></tr>\n",
       "\t<tr><td>10</td><td>0.01662195</td><td>2.945635</td><td>2.198346</td><td>5.435861</td><td>2.198346</td><td>28.96302</td><td>5.013948</td><td>0.2354903</td><td>0.2198346</td><td>0.11140021</td></tr>\n",
       "\t<tr><td>15</td><td>0.01662195</td><td>3.020787</td><td>1.917385</td><td>6.226459</td><td>1.917385</td><td>29.28046</td><td>5.147305</td><td>0.2327363</td><td>0.1917385</td><td>0.10070178</td></tr>\n",
       "\t<tr><td>20</td><td>0.01662195</td><td>3.140418</td><td>1.851999</td><td>6.592006</td><td>1.851999</td><td>29.17693</td><td>5.229284</td><td>0.2175604</td><td>0.1851999</td><td>0.09732353</td></tr>\n",
       "</tbody>\n",
       "</table>\n"
      ],
      "text/latex": [
       "A tibble: 5 × 11\n",
       "\\begin{tabular}{lllllllllll}\n",
       " alpha & rf\\_accuracy & n\\_decisions & tp & fp & fn & tp\\_imp & fp\\_imp & precision & recall & w\\_precision\\\\\n",
       " <dbl> & <dbl> & <dbl> & <dbl> & <dbl> & <dbl> & <dbl> & <dbl> & <dbl> & <dbl> & <dbl>\\\\\n",
       "\\hline\n",
       "\t  1 & 0.01662195 & 1.932471 & 1.892996 & 3.433583 & 1.892996 & 24.39017 & 4.077297 & 0.3260460 & 0.1892996 & 0.14233027\\\\\n",
       "\t  5 & 0.01662195 & 2.676856 & 2.195933 & 4.653922 & 2.195933 & 27.08406 & 4.954113 & 0.2724472 & 0.2195933 & 0.12086530\\\\\n",
       "\t 10 & 0.01662195 & 2.945635 & 2.198346 & 5.435861 & 2.198346 & 28.96302 & 5.013948 & 0.2354903 & 0.2198346 & 0.11140021\\\\\n",
       "\t 15 & 0.01662195 & 3.020787 & 1.917385 & 6.226459 & 1.917385 & 29.28046 & 5.147305 & 0.2327363 & 0.1917385 & 0.10070178\\\\\n",
       "\t 20 & 0.01662195 & 3.140418 & 1.851999 & 6.592006 & 1.851999 & 29.17693 & 5.229284 & 0.2175604 & 0.1851999 & 0.09732353\\\\\n",
       "\\end{tabular}\n"
      ],
      "text/markdown": [
       "\n",
       "A tibble: 5 × 11\n",
       "\n",
       "| alpha &lt;dbl&gt; | rf_accuracy &lt;dbl&gt; | n_decisions &lt;dbl&gt; | tp &lt;dbl&gt; | fp &lt;dbl&gt; | fn &lt;dbl&gt; | tp_imp &lt;dbl&gt; | fp_imp &lt;dbl&gt; | precision &lt;dbl&gt; | recall &lt;dbl&gt; | w_precision &lt;dbl&gt; |\n",
       "|---|---|---|---|---|---|---|---|---|---|---|\n",
       "|  1 | 0.01662195 | 1.932471 | 1.892996 | 3.433583 | 1.892996 | 24.39017 | 4.077297 | 0.3260460 | 0.1892996 | 0.14233027 |\n",
       "|  5 | 0.01662195 | 2.676856 | 2.195933 | 4.653922 | 2.195933 | 27.08406 | 4.954113 | 0.2724472 | 0.2195933 | 0.12086530 |\n",
       "| 10 | 0.01662195 | 2.945635 | 2.198346 | 5.435861 | 2.198346 | 28.96302 | 5.013948 | 0.2354903 | 0.2198346 | 0.11140021 |\n",
       "| 15 | 0.01662195 | 3.020787 | 1.917385 | 6.226459 | 1.917385 | 29.28046 | 5.147305 | 0.2327363 | 0.1917385 | 0.10070178 |\n",
       "| 20 | 0.01662195 | 3.140418 | 1.851999 | 6.592006 | 1.851999 | 29.17693 | 5.229284 | 0.2175604 | 0.1851999 | 0.09732353 |\n",
       "\n"
      ],
      "text/plain": [
       "  alpha rf_accuracy n_decisions tp       fp       fn       tp_imp   fp_imp  \n",
       "1  1    0.01662195  1.932471    1.892996 3.433583 1.892996 24.39017 4.077297\n",
       "2  5    0.01662195  2.676856    2.195933 4.653922 2.195933 27.08406 4.954113\n",
       "3 10    0.01662195  2.945635    2.198346 5.435861 2.198346 28.96302 5.013948\n",
       "4 15    0.01662195  3.020787    1.917385 6.226459 1.917385 29.28046 5.147305\n",
       "5 20    0.01662195  3.140418    1.851999 6.592006 1.851999 29.17693 5.229284\n",
       "  precision recall    w_precision\n",
       "1 0.3260460 0.1892996 0.14233027 \n",
       "2 0.2724472 0.2195933 0.12086530 \n",
       "3 0.2354903 0.2198346 0.11140021 \n",
       "4 0.2327363 0.1917385 0.10070178 \n",
       "5 0.2175604 0.1851999 0.09732353 "
      ]
     },
     "metadata": {},
     "output_type": "display_data"
    }
   ],
   "source": [
    "check %>% group_by(alpha) %>% summarise_all(sd) %>% #subset(alpha != 5) %>% \n",
    "select(alpha, rf_accuracy, n_decisions, tp, fp, fn, tp_imp, fp_imp, precision, recall, w_precision) "
   ]
  },
  {
   "cell_type": "code",
   "execution_count": 35,
   "metadata": {
    "ExecuteTime": {
     "end_time": "2021-11-24T09:39:05.025322Z",
     "start_time": "2021-11-24T09:37:23.798Z"
    }
   },
   "outputs": [
    {
     "data": {
      "text/html": [
       "<table class=\"dataframe\">\n",
       "<caption>A data.frame: 5 × 2</caption>\n",
       "<thead>\n",
       "\t<tr><th scope=col>alpha</th><th scope=col>n</th></tr>\n",
       "\t<tr><th scope=col>&lt;dbl&gt;</th><th scope=col>&lt;int&gt;</th></tr>\n",
       "</thead>\n",
       "<tbody>\n",
       "\t<tr><td> 1</td><td>100</td></tr>\n",
       "\t<tr><td> 5</td><td>100</td></tr>\n",
       "\t<tr><td>10</td><td>100</td></tr>\n",
       "\t<tr><td>15</td><td>100</td></tr>\n",
       "\t<tr><td>20</td><td>100</td></tr>\n",
       "</tbody>\n",
       "</table>\n"
      ],
      "text/latex": [
       "A data.frame: 5 × 2\n",
       "\\begin{tabular}{ll}\n",
       " alpha & n\\\\\n",
       " <dbl> & <int>\\\\\n",
       "\\hline\n",
       "\t  1 & 100\\\\\n",
       "\t  5 & 100\\\\\n",
       "\t 10 & 100\\\\\n",
       "\t 15 & 100\\\\\n",
       "\t 20 & 100\\\\\n",
       "\\end{tabular}\n"
      ],
      "text/markdown": [
       "\n",
       "A data.frame: 5 × 2\n",
       "\n",
       "| alpha &lt;dbl&gt; | n &lt;int&gt; |\n",
       "|---|---|\n",
       "|  1 | 100 |\n",
       "|  5 | 100 |\n",
       "| 10 | 100 |\n",
       "| 15 | 100 |\n",
       "| 20 | 100 |\n",
       "\n"
      ],
      "text/plain": [
       "  alpha n  \n",
       "1  1    100\n",
       "2  5    100\n",
       "3 10    100\n",
       "4 15    100\n",
       "5 20    100"
      ]
     },
     "metadata": {},
     "output_type": "display_data"
    }
   ],
   "source": [
    "check %>% count(alpha)"
   ]
  },
  {
   "cell_type": "code",
   "execution_count": null,
   "metadata": {},
   "outputs": [],
   "source": []
  }
 ],
 "metadata": {
  "kernelspec": {
   "display_name": "R [conda env:Metagenomes_methanogen-r-ml] *",
   "language": "R",
   "name": "conda-env-Metagenomes_methanogen-r-ml-r"
  },
  "language_info": {
   "codemirror_mode": "r",
   "file_extension": ".r",
   "mimetype": "text/x-r-source",
   "name": "R",
   "pygments_lexer": "r",
   "version": "4.0.3"
  },
  "notify_time": "30",
  "toc": {
   "base_numbering": 1,
   "nav_menu": {},
   "number_sections": true,
   "sideBar": true,
   "skip_h1_title": false,
   "title_cell": "Table of Contents",
   "title_sidebar": "Contents",
   "toc_cell": false,
   "toc_position": {
    "height": "calc(100% - 180px)",
    "left": "10px",
    "top": "150px",
    "width": "222px"
   },
   "toc_section_display": true,
   "toc_window_display": true
  }
 },
 "nbformat": 4,
 "nbformat_minor": 4
}
