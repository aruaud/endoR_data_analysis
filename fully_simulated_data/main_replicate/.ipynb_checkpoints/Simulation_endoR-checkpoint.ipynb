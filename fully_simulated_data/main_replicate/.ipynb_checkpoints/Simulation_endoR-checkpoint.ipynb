{
 "cells": [
  {
   "cell_type": "markdown",
   "metadata": {},
   "source": [
    "# Preambule"
   ]
  },
  {
   "cell_type": "code",
   "execution_count": 1,
   "metadata": {
    "ExecuteTime": {
     "end_time": "2021-11-24T08:46:03.107222Z",
     "start_time": "2021-11-24T08:45:58.469Z"
    }
   },
   "outputs": [
    {
     "name": "stderr",
     "output_type": "stream",
     "text": [
      "Loading required package: lattice\n",
      "\n",
      "Loading required package: ggplot2\n",
      "\n",
      "Loading required package: viridisLite\n",
      "\n",
      "\n",
      "Attaching package: ‘igraph’\n",
      "\n",
      "\n",
      "The following objects are masked from ‘package:stats’:\n",
      "\n",
      "    decompose, spectrum\n",
      "\n",
      "\n",
      "The following object is masked from ‘package:base’:\n",
      "\n",
      "    union\n",
      "\n",
      "\n",
      "\n",
      "Attaching package: ‘scales’\n",
      "\n",
      "\n",
      "The following object is masked from ‘package:viridis’:\n",
      "\n",
      "    viridis_pal\n",
      "\n",
      "\n",
      "\n",
      "Attaching package: ‘dplyr’\n",
      "\n",
      "\n",
      "The following objects are masked from ‘package:igraph’:\n",
      "\n",
      "    as_data_frame, groups, union\n",
      "\n",
      "\n",
      "The following objects are masked from ‘package:data.table’:\n",
      "\n",
      "    between, first, last\n",
      "\n",
      "\n",
      "The following objects are masked from ‘package:stats’:\n",
      "\n",
      "    filter, lag\n",
      "\n",
      "\n",
      "The following objects are masked from ‘package:base’:\n",
      "\n",
      "    intersect, setdiff, setequal, union\n",
      "\n",
      "\n",
      "Registered S3 method overwritten by 'randomForest':\n",
      "  method      from\n",
      "  plot.margin RRF \n",
      "\n",
      "randomForest 4.6-14\n",
      "\n",
      "Type rfNews() to see new features/changes/bug fixes.\n",
      "\n",
      "\n",
      "Attaching package: ‘randomForest’\n",
      "\n",
      "\n",
      "The following object is masked from ‘package:dplyr’:\n",
      "\n",
      "    combine\n",
      "\n",
      "\n",
      "The following object is masked from ‘package:ggplot2’:\n",
      "\n",
      "    margin\n",
      "\n",
      "\n",
      "Warning message:\n",
      "“replacing previous import ‘data.table::last’ by ‘dplyr::last’ when loading ‘endoR’”\n",
      "Warning message:\n",
      "“replacing previous import ‘data.table::first’ by ‘dplyr::first’ when loading ‘endoR’”\n",
      "Warning message:\n",
      "“replacing previous import ‘data.table::between’ by ‘dplyr::between’ when loading ‘endoR’”\n",
      "Warning message:\n",
      "“replacing previous import ‘dplyr::union’ by ‘igraph::union’ when loading ‘endoR’”\n",
      "Warning message:\n",
      "“replacing previous import ‘dplyr::as_data_frame’ by ‘igraph::as_data_frame’ when loading ‘endoR’”\n",
      "Warning message:\n",
      "“replacing previous import ‘dplyr::groups’ by ‘igraph::groups’ when loading ‘endoR’”\n",
      "qs v0.23.4.\n",
      "\n"
     ]
    }
   ],
   "source": [
    "library(parallel)\n",
    "library(caret)\n",
    "library(viridis)\n",
    "library(data.table)\n",
    "library(igraph)\n",
    "library(ggraph)\n",
    "library(stringr)\n",
    "library(scales)\n",
    "library(dplyr)\n",
    "library(\"inTrees\")\n",
    "library(randomForest)\n",
    "library(endoR)\n",
    "library(qs)"
   ]
  },
  {
   "cell_type": "code",
   "execution_count": 2,
   "metadata": {
    "ExecuteTime": {
     "end_time": "2021-11-24T08:46:03.287127Z",
     "start_time": "2021-11-24T08:45:58.679Z"
    }
   },
   "outputs": [],
   "source": [
    "library(clustermq)\n",
    "options(clustermq.scheduler = \"sge\", clustermq.template = \"~/.clustermq.tmpl\")"
   ]
  },
  {
   "cell_type": "code",
   "execution_count": 3,
   "metadata": {
    "ExecuteTime": {
     "end_time": "2021-11-24T08:46:03.343446Z",
     "start_time": "2021-11-24T08:45:58.858Z"
    }
   },
   "outputs": [
    {
     "data": {
      "text/plain": [
       "R version 4.0.3 (2020-10-10)\n",
       "Platform: x86_64-conda-linux-gnu (64-bit)\n",
       "Running under: Ubuntu 18.04.6 LTS\n",
       "\n",
       "Matrix products: default\n",
       "BLAS/LAPACK: /ebio/abt3_projects/Methanogen_SCFA/Metagenomes_methanogen/envs/r-ml/lib/libopenblasp-r0.3.10.so\n",
       "\n",
       "locale:\n",
       " [1] LC_CTYPE=en_US.UTF-8       LC_NUMERIC=C              \n",
       " [3] LC_TIME=en_US.UTF-8        LC_COLLATE=en_US.UTF-8    \n",
       " [5] LC_MONETARY=en_US.UTF-8    LC_MESSAGES=en_US.UTF-8   \n",
       " [7] LC_PAPER=en_US.UTF-8       LC_NAME=C                 \n",
       " [9] LC_ADDRESS=C               LC_TELEPHONE=C            \n",
       "[11] LC_MEASUREMENT=en_US.UTF-8 LC_IDENTIFICATION=C       \n",
       "\n",
       "attached base packages:\n",
       "[1] parallel  stats     graphics  grDevices utils     datasets  methods  \n",
       "[8] base     \n",
       "\n",
       "other attached packages:\n",
       " [1] clustermq_0.8.95.1  qs_0.23.4           endoR_0.1.0        \n",
       " [4] randomForest_4.6-14 inTrees_1.3         dplyr_1.0.2        \n",
       " [7] scales_1.1.1        stringr_1.4.0       ggraph_2.0.4       \n",
       "[10] igraph_1.2.6        data.table_1.13.4   viridis_0.5.1      \n",
       "[13] viridisLite_0.3.0   caret_6.0-86        ggplot2_3.3.2      \n",
       "[16] lattice_0.20-41    \n",
       "\n",
       "loaded via a namespace (and not attached):\n",
       " [1] tidyr_1.1.2          tidygraph_1.2.0      jsonlite_1.7.2      \n",
       " [4] splines_4.0.3        foreach_1.5.1        prodlim_2019.11.13  \n",
       " [7] RcppParallel_5.0.2   stats4_4.0.3         arules_1.6-6        \n",
       "[10] ggrepel_0.8.2        ipred_0.9-9          pillar_1.4.7        \n",
       "[13] glue_1.4.2           pROC_1.16.2          uuid_0.1-4          \n",
       "[16] digest_0.6.27        polyclip_1.10-0      RRF_1.9.1           \n",
       "[19] stringfish_0.14.2    colorspace_2.0-0     recipes_0.1.15      \n",
       "[22] gbm_2.1.8            htmltools_0.5.0      Matrix_1.2-18       \n",
       "[25] plyr_1.8.6           timeDate_3043.102    pkgconfig_2.0.3     \n",
       "[28] purrr_0.3.4          xtable_1.8-4         ranger_0.12.1       \n",
       "[31] tweenr_1.0.1         gower_0.2.2          RApiSerialize_0.1.0 \n",
       "[34] lava_1.6.8.1         ggforce_0.3.2        tibble_3.0.4        \n",
       "[37] generics_0.1.0       farver_2.0.3         xgboost_1.2.0.1     \n",
       "[40] ellipsis_0.3.1       withr_2.3.0          repr_1.1.2.9000     \n",
       "[43] nnet_7.3-14          survival_3.2-7       magrittr_2.0.1      \n",
       "[46] crayon_1.3.4         evaluate_0.14        nlme_3.1-150        \n",
       "[49] MASS_7.3-53          class_7.3-17         tools_4.0.3         \n",
       "[52] lifecycle_0.2.0      munsell_0.5.0        compiler_4.0.3      \n",
       "[55] rlang_0.4.10         grid_4.0.3           pbdZMQ_0.3-3.1      \n",
       "[58] iterators_1.0.13     IRkernel_1.1.1       base64enc_0.1-3     \n",
       "[61] gtable_0.3.0         ModelMetrics_1.2.2.2 codetools_0.2-18    \n",
       "[64] reshape2_1.4.4       graphlayouts_0.7.1   R6_2.5.0            \n",
       "[67] gridExtra_2.3        lubridate_1.7.9.2    stringi_1.5.3       \n",
       "[70] IRdisplay_0.7.0      Rcpp_1.0.5           vctrs_0.3.6         \n",
       "[73] rpart_4.1-15         tidyselect_1.1.0    "
      ]
     },
     "metadata": {},
     "output_type": "display_data"
    }
   ],
   "source": [
    "sessionInfo()"
   ]
  },
  {
   "cell_type": "markdown",
   "metadata": {},
   "source": [
    "# Simulate data"
   ]
  },
  {
   "cell_type": "code",
   "execution_count": 4,
   "metadata": {
    "ExecuteTime": {
     "end_time": "2021-11-24T08:46:03.361891Z",
     "start_time": "2021-11-24T08:45:59.172Z"
    }
   },
   "outputs": [],
   "source": [
    "# number of observations\n",
    "nr <- 1000"
   ]
  },
  {
   "cell_type": "code",
   "execution_count": 5,
   "metadata": {
    "ExecuteTime": {
     "end_time": "2021-11-24T08:46:03.434030Z",
     "start_time": "2021-11-24T08:46:00.255Z"
    }
   },
   "outputs": [],
   "source": [
    "simu <- data.table(tmp = 1:nr)\n",
    "for (j in 1:12){\n",
    "    set.seed(j)\n",
    "    set(simu, NULL, paste0('V',j), value = rnorm(nr, mean = .5, sd = 1))\n",
    "}\n",
    "simu <- simu[,tmp:=NULL]\n",
    "\n",
    "set(simu, 1:(0.25*nr), 'target', simu[[1]][ 1:(0.25*nr) ]*simu[[2]][ 1:(0.25*nr) ] )\n",
    "set(simu, 1:(0.25*nr), 'group', 'a')\n",
    "\n",
    "set(simu, (0.25*nr+1):(0.5*nr), 'target', simu[[3]][ (0.25*nr+1):(0.5*nr) ])\n",
    "set(simu, (0.25*nr+1):(0.5*nr), 'group', 'b')\n",
    "\n",
    "set(simu, (0.5*nr+1):(0.75*nr), 'target', simu[[4]][(0.5*nr+1):(0.75*nr) ]+simu[[5]][ (0.5*nr+1):(0.75*nr) ])\n",
    "set(simu, (0.5*nr+1):(0.75*nr), 'group', 'c')\n",
    "\n",
    "set(simu, (0.75*nr+1):nr, 'target', simu[[6]][(0.75*nr+1):nr] - simu[[7]][(0.75*nr+1):nr])\n",
    "set(simu, (0.75*nr+1):nr, 'group', 'd')"
   ]
  },
  {
   "cell_type": "code",
   "execution_count": 6,
   "metadata": {
    "ExecuteTime": {
     "end_time": "2021-11-24T08:46:03.458762Z",
     "start_time": "2021-11-24T08:46:00.463Z"
    }
   },
   "outputs": [],
   "source": [
    "# randomize the target\n",
    "set.seed(0)\n",
    "brnounou <- rbinom(n = nr, size = 1,prob = 0.05)\n",
    "simu$target[brnounou == 1] <- -simu$target[brnounou == 1]\n",
    "set(simu, NULL, 'target_ctg', as.character(sign(simu[['target']])))"
   ]
  },
  {
   "cell_type": "code",
   "execution_count": 7,
   "metadata": {
    "ExecuteTime": {
     "end_time": "2021-11-24T08:46:03.510211Z",
     "start_time": "2021-11-24T08:46:00.631Z"
    }
   },
   "outputs": [],
   "source": [
    "# groups to dummy variables\n",
    "dummies <- dummyVars(target_ctg ~ ., data = simu )\n",
    "dummies <- as.data.table(predict(dummies, newdata = simu ))\n",
    "dummies <- select(dummies, -target)"
   ]
  },
  {
   "cell_type": "markdown",
   "metadata": {},
   "source": [
    "# Model"
   ]
  },
  {
   "cell_type": "code",
   "execution_count": 8,
   "metadata": {
    "ExecuteTime": {
     "end_time": "2021-11-24T08:46:03.526069Z",
     "start_time": "2021-11-24T08:46:01.064Z"
    }
   },
   "outputs": [],
   "source": [
    "simu <- simu[, group:=as.factor(group)]"
   ]
  },
  {
   "cell_type": "code",
   "execution_count": 9,
   "metadata": {
    "ExecuteTime": {
     "end_time": "2021-11-24T08:46:03.550025Z",
     "start_time": "2021-11-24T08:46:02.101Z"
    }
   },
   "outputs": [
    {
     "data": {
      "text/plain": [
       "\n",
       " -1   1 \n",
       "379 621 "
      ]
     },
     "metadata": {},
     "output_type": "display_data"
    }
   ],
   "source": [
    "table(simu$target_ctg)"
   ]
  },
  {
   "cell_type": "code",
   "execution_count": 10,
   "metadata": {
    "ExecuteTime": {
     "end_time": "2021-11-24T08:46:05.113847Z",
     "start_time": "2021-11-24T08:46:02.282Z"
    }
   },
   "outputs": [
    {
     "data": {
      "text/plain": [
       "\n",
       "Call:\n",
       " randomForest(x = dummies, y = as.factor(simu$target_ctg)) \n",
       "               Type of random forest: classification\n",
       "                     Number of trees: 500\n",
       "No. of variables tried at each split: 4\n",
       "\n",
       "        OOB estimate of  error rate: 16.8%\n",
       "Confusion matrix:\n",
       "    -1   1 class.error\n",
       "-1 251 128  0.33773087\n",
       "1   40 581  0.06441224"
      ]
     },
     "metadata": {},
     "output_type": "display_data"
    }
   ],
   "source": [
    "set.seed(0)\n",
    "rf_class <- randomForest(y = as.factor(simu$target_ctg), x = dummies)\n",
    "rf_class"
   ]
  },
  {
   "cell_type": "markdown",
   "metadata": {},
   "source": [
    "# endoR boostraps"
   ]
  },
  {
   "cell_type": "code",
   "execution_count": 12,
   "metadata": {
    "ExecuteTime": {
     "end_time": "2021-11-24T08:46:05.150665Z",
     "start_time": "2021-11-24T08:46:03.673Z"
    }
   },
   "outputs": [
    {
     "data": {
      "text/plain": [
       "\n",
       " -1   1 \n",
       "379 621 "
      ]
     },
     "metadata": {},
     "output_type": "display_data"
    }
   ],
   "source": [
    "table(simu$target_ctg)"
   ]
  },
  {
   "cell_type": "code",
   "execution_count": 17,
   "metadata": {
    "ExecuteTime": {
     "end_time": "2021-03-15T17:02:39.349123Z",
     "start_time": "2021-03-15T17:01:59.504Z"
    },
    "deletable": false,
    "editable": false,
    "run_control": {
     "frozen": true
    }
   },
   "outputs": [
    {
     "name": "stderr",
     "output_type": "stream",
     "text": [
      "Extract rules...\n",
      "\n",
      "Discretise data\n",
      "\n",
      "Discretise rules\n",
      "\n"
     ]
    }
   ],
   "source": [
    "preclu <- preCluster(model = rf_class, model_type = 'rf'\n",
    "                     , times = 100, p = 0.5, sample_weight = c(0.4, 0.6), classPos = '1'\n",
    "                     , ntree = 'all'\n",
    "                     ,data = dummies, target = as.factor(simu$target_ctg),dummy_var = 'group'\n",
    "                     , discretize = TRUE, K = 2, seed = 1\n",
    "                     , in_parallel = TRUE, n_cores = 10\n",
    "                     )"
   ]
  },
  {
   "cell_type": "code",
   "execution_count": 18,
   "metadata": {
    "ExecuteTime": {
     "end_time": "2021-03-15T17:02:39.370612Z",
     "start_time": "2021-03-15T17:01:59.706Z"
    },
    "deletable": false,
    "editable": false,
    "run_control": {
     "frozen": true
    }
   },
   "outputs": [
    {
     "data": {
      "text/plain": [
       "\n",
       " -1   1 \n",
       "247 253 "
      ]
     },
     "metadata": {},
     "output_type": "display_data"
    }
   ],
   "source": [
    "table(simu$target_ctg[preclu$partitions[[1]]])"
   ]
  },
  {
   "cell_type": "code",
   "execution_count": 20,
   "metadata": {
    "ExecuteTime": {
     "end_time": "2021-03-15T17:09:55.508439Z",
     "start_time": "2021-03-15T17:05:42.274Z"
    },
    "deletable": false,
    "editable": false,
    "run_control": {
     "frozen": true
    },
    "scrolled": true
   },
   "outputs": [
    {
     "name": "stderr",
     "output_type": "stream",
     "text": [
      "Warning message in (function (...) :\n",
      "“Common data is 2.7 Mb. Recommended limit is  (set by clustermq.data.warning option)”\n",
      "Submitting 80 worker jobs (ID: cmq9565) ...\n",
      "\n",
      "Running 100 calculations (10 objs/2.7 Mb common; 1 calls/chunk) ...\n",
      "\n",
      "\n",
      "[---------------------------------------------------]   0% (1/80 wrk) eta:  ?s\n",
      "\n",
      "[---------------------------------------------------]   0% (2/80 wrk) eta:  ?s\n",
      "\n",
      "[---------------------------------------------------]   0% (3/80 wrk) eta:  ?s\n",
      "\n",
      "[---------------------------------------------------]   0% (4/80 wrk) eta:  ?s\n",
      "\n",
      "[---------------------------------------------------]   0% (5/80 wrk) eta:  ?s\n",
      "\n",
      "[---------------------------------------------------]   0% (6/80 wrk) eta:  ?s\n",
      "\n",
      "[---------------------------------------------------]   0% (7/80 wrk) eta:  ?s\n",
      "\n",
      "[---------------------------------------------------]   0% (8/80 wrk) eta:  ?s\n",
      "\n",
      "[---------------------------------------------------]   0% (9/80 wrk) eta:  ?s\n",
      "\n",
      "[--------------------------------------------------]   0% (10/80 wrk) eta:  ?s\n",
      "\n",
      "[--------------------------------------------------]   0% (11/80 wrk) eta:  ?s\n",
      "\n",
      "[--------------------------------------------------]   0% (12/80 wrk) eta:  ?s\n",
      "\n",
      "[--------------------------------------------------]   0% (13/80 wrk) eta:  ?s\n",
      "\n",
      "[--------------------------------------------------]   0% (14/80 wrk) eta:  ?s\n",
      "\n",
      "[--------------------------------------------------]   0% (15/80 wrk) eta:  ?s\n",
      "\n",
      "[--------------------------------------------------]   0% (16/80 wrk) eta:  ?s\n",
      "\n",
      "[--------------------------------------------------]   0% (17/80 wrk) eta:  ?s\n",
      "\n",
      "[--------------------------------------------------]   0% (18/80 wrk) eta:  ?s\n",
      "\n",
      "[--------------------------------------------------]   0% (19/80 wrk) eta:  ?s\n",
      "\n",
      "[--------------------------------------------------]   0% (20/80 wrk) eta:  ?s\n",
      "\n",
      "[--------------------------------------------------]   0% (21/80 wrk) eta:  ?s\n",
      "\n",
      "[--------------------------------------------------]   0% (22/80 wrk) eta:  ?s\n",
      "\n",
      "[--------------------------------------------------]   0% (23/80 wrk) eta:  ?s\n",
      "\n",
      "[--------------------------------------------------]   0% (24/80 wrk) eta:  ?s\n",
      "\n",
      "[--------------------------------------------------]   0% (25/80 wrk) eta:  ?s\n",
      "\n",
      "[--------------------------------------------------]   0% (26/80 wrk) eta:  ?s\n",
      "\n",
      "[--------------------------------------------------]   0% (27/80 wrk) eta:  ?s\n",
      "\n",
      "[--------------------------------------------------]   0% (28/80 wrk) eta:  ?s\n",
      "\n",
      "[--------------------------------------------------]   0% (29/80 wrk) eta:  ?s\n",
      "\n",
      "[--------------------------------------------------]   0% (30/80 wrk) eta:  ?s\n",
      "\n",
      "[--------------------------------------------------]   0% (31/80 wrk) eta:  ?s\n",
      "\n",
      "[--------------------------------------------------]   0% (32/80 wrk) eta:  ?s\n",
      "\n",
      "[--------------------------------------------------]   0% (33/80 wrk) eta:  ?s\n",
      "\n",
      "[--------------------------------------------------]   0% (34/80 wrk) eta:  ?s\n",
      "\n",
      "[--------------------------------------------------]   0% (35/80 wrk) eta:  ?s\n",
      "\n",
      "[--------------------------------------------------]   0% (36/80 wrk) eta:  ?s\n",
      "\n",
      "[--------------------------------------------------]   0% (37/80 wrk) eta:  ?s\n",
      "\n",
      "[--------------------------------------------------]   0% (38/80 wrk) eta:  ?s\n",
      "\n",
      "[--------------------------------------------------]   0% (39/80 wrk) eta:  ?s\n",
      "\n",
      "[--------------------------------------------------]   0% (40/80 wrk) eta:  ?s\n",
      "\n",
      "[--------------------------------------------------]   0% (41/80 wrk) eta:  ?s\n",
      "\n",
      "[--------------------------------------------------]   0% (42/80 wrk) eta:  ?s\n",
      "\n",
      "[--------------------------------------------------]   0% (43/80 wrk) eta:  ?s\n",
      "\n",
      "[--------------------------------------------------]   0% (44/80 wrk) eta:  ?s\n",
      "\n",
      "[--------------------------------------------------]   0% (45/80 wrk) eta:  ?s\n",
      "\n",
      "[--------------------------------------------------]   0% (46/80 wrk) eta:  ?s\n",
      "\n",
      "[--------------------------------------------------]   0% (47/80 wrk) eta:  ?s\n",
      "\n",
      "[--------------------------------------------------]   0% (48/80 wrk) eta:  ?s\n",
      "\n",
      "[--------------------------------------------------]   0% (49/80 wrk) eta:  ?s\n",
      "\n",
      "[--------------------------------------------------]   0% (50/80 wrk) eta:  ?s\n",
      "\n",
      "[--------------------------------------------------]   0% (51/80 wrk) eta:  ?s\n",
      "\n",
      "[--------------------------------------------------]   0% (52/80 wrk) eta:  ?s\n",
      "\n",
      "[--------------------------------------------------]   0% (53/80 wrk) eta:  ?s\n",
      "\n",
      "[--------------------------------------------------]   0% (54/80 wrk) eta:  ?s\n",
      "\n",
      "[--------------------------------------------------]   0% (55/80 wrk) eta:  ?s\n",
      "\n",
      "[--------------------------------------------------]   0% (56/80 wrk) eta:  ?s\n",
      "\n",
      "[--------------------------------------------------]   0% (57/80 wrk) eta:  ?s\n",
      "\n",
      "[--------------------------------------------------]   0% (58/80 wrk) eta:  ?s\n",
      "\n",
      "[--------------------------------------------------]   0% (59/80 wrk) eta:  ?s\n",
      "\n",
      "[--------------------------------------------------]   0% (60/80 wrk) eta:  ?s\n",
      "\n",
      "[--------------------------------------------------]   0% (61/80 wrk) eta:  ?s\n",
      "\n",
      "[--------------------------------------------------]   0% (62/80 wrk) eta:  ?s\n",
      "\n",
      "[--------------------------------------------------]   0% (63/80 wrk) eta:  ?s\n",
      "\n",
      "[--------------------------------------------------]   0% (64/80 wrk) eta:  ?s\n",
      "\n",
      "[--------------------------------------------------]   0% (65/80 wrk) eta:  ?s\n",
      "\n",
      "[--------------------------------------------------]   0% (66/80 wrk) eta:  ?s\n",
      "\n",
      "[--------------------------------------------------]   0% (67/80 wrk) eta:  ?s\n",
      "\n",
      "[--------------------------------------------------]   0% (68/80 wrk) eta:  ?s\n",
      "\n",
      "[--------------------------------------------------]   0% (69/80 wrk) eta:  ?s\n",
      "\n",
      "[--------------------------------------------------]   0% (70/80 wrk) eta:  ?s\n",
      "\n",
      "[--------------------------------------------------]   0% (71/80 wrk) eta:  ?s\n",
      "\n",
      "[--------------------------------------------------]   0% (72/80 wrk) eta:  ?s\n",
      "\n",
      "[--------------------------------------------------]   0% (73/80 wrk) eta:  ?s\n",
      "\n",
      "[--------------------------------------------------]   0% (74/80 wrk) eta:  ?s\n",
      "\n",
      "[--------------------------------------------------]   1% (74/80 wrk) eta:  2h\n",
      "\n",
      "[--------------------------------------------------]   1% (75/80 wrk) eta:  2h\n",
      "\n",
      "[--------------------------------------------------]   1% (76/80 wrk) eta:  2h\n",
      "\n",
      "[>-------------------------------------------------]   2% (76/80 wrk) eta:  1h\n",
      "\n",
      "[=>------------------------------------------------]   3% (76/80 wrk) eta: 41m\n",
      "\n",
      "[=>------------------------------------------------]   3% (76/80 wrk) eta: 42m\n",
      "\n",
      "[=>------------------------------------------------]   4% (76/80 wrk) eta: 38m\n",
      "\n",
      "[=>------------------------------------------------]   5% (76/80 wrk) eta: 30m\n",
      "\n",
      "[==>-----------------------------------------------]   6% (76/80 wrk) eta: 26m\n",
      "\n",
      "[===>----------------------------------------------]   7% (76/80 wrk) eta: 22m\n",
      "\n",
      "[===>----------------------------------------------]   8% (76/80 wrk) eta: 19m\n",
      "\n",
      "[===>----------------------------------------------]   9% (76/80 wrk) eta: 17m\n",
      "\n",
      "[====>---------------------------------------------]  10% (76/80 wrk) eta: 15m\n",
      "\n",
      "[=====>--------------------------------------------]  11% (76/80 wrk) eta: 14m\n",
      "\n",
      "[=====>--------------------------------------------]  12% (76/80 wrk) eta: 13m\n",
      "\n",
      "[=====>--------------------------------------------]  13% (76/80 wrk) eta: 12m\n",
      "\n",
      "[======>-------------------------------------------]  14% (76/80 wrk) eta: 11m\n",
      "\n",
      "[=======>------------------------------------------]  15% (76/80 wrk) eta: 10m\n",
      "\n",
      "[=======>------------------------------------------]  16% (76/80 wrk) eta:  9m\n",
      "\n",
      "[=======>------------------------------------------]  17% (76/80 wrk) eta:  9m\n",
      "\n",
      "[========>-----------------------------------------]  18% (76/80 wrk) eta:  8m\n",
      "\n",
      "[=========>----------------------------------------]  19% (76/80 wrk) eta:  8m\n",
      "\n",
      "[=========>----------------------------------------]  20% (76/80 wrk) eta:  8m\n",
      "\n",
      "[=========>----------------------------------------]  21% (76/80 wrk) eta:  7m\n",
      "\n",
      "[==========>---------------------------------------]  22% (76/80 wrk) eta:  7m\n",
      "\n",
      "[===========>--------------------------------------]  23% (76/80 wrk) eta:  7m\n"
     ]
    },
    {
     "name": "stderr",
     "output_type": "stream",
     "text": [
      "\n",
      "[===========>--------------------------------------]  24% (76/80 wrk) eta:  6m\n",
      "\n",
      "[===========>--------------------------------------]  25% (76/80 wrk) eta:  6m\n",
      "\n",
      "[============>-------------------------------------]  26% (75/79 wrk) eta:  6m\n",
      "\n",
      "[=============>------------------------------------]  27% (74/78 wrk) eta:  6m\n",
      "\n",
      "[=============>------------------------------------]  28% (73/77 wrk) eta:  6m\n",
      "\n",
      "[=============>------------------------------------]  29% (73/77 wrk) eta:  5m\n",
      "\n",
      "[==============>-----------------------------------]  30% (73/77 wrk) eta:  5m\n",
      "\n",
      "[===============>----------------------------------]  31% (70/74 wrk) eta:  5m\n",
      "\n",
      "[===============>----------------------------------]  32% (69/73 wrk) eta:  5m\n",
      "\n",
      "[===============>----------------------------------]  33% (68/72 wrk) eta:  4m\n",
      "\n",
      "[================>---------------------------------]  34% (67/71 wrk) eta:  4m\n",
      "\n",
      "[=================>--------------------------------]  35% (66/70 wrk) eta:  4m\n",
      "\n",
      "[=================>--------------------------------]  36% (65/69 wrk) eta:  4m\n",
      "\n",
      "[=================>--------------------------------]  37% (64/68 wrk) eta:  4m\n",
      "\n",
      "[==================>-------------------------------]  38% (63/67 wrk) eta:  4m\n",
      "\n",
      "[===================>------------------------------]  39% (63/67 wrk) eta:  4m\n",
      "\n",
      "[===================>------------------------------]  40% (62/66 wrk) eta:  3m\n",
      "\n",
      "[===================>------------------------------]  41% (61/65 wrk) eta:  3m\n",
      "\n",
      "[===================>------------------------------]  41% (60/63 wrk) eta:  3m\n",
      "\n",
      "[====================>-----------------------------]  42% (60/63 wrk) eta:  3m\n",
      "\n",
      "[=====================>----------------------------]  43% (59/62 wrk) eta:  3m\n",
      "\n",
      "[=====================>----------------------------]  43% (58/61 wrk) eta:  3m\n",
      "\n",
      "[=====================>----------------------------]  44% (58/61 wrk) eta:  3m\n",
      "\n",
      "[=====================>----------------------------]  45% (56/59 wrk) eta:  3m\n",
      "\n",
      "[=====================>----------------------------]  45% (56/58 wrk) eta:  3m\n",
      "\n",
      "[======================>---------------------------]  46% (56/58 wrk) eta:  3m\n",
      "\n",
      "[=======================>--------------------------]  47% (55/57 wrk) eta:  3m\n",
      "\n",
      "[=======================>--------------------------]  48% (54/56 wrk) eta:  3m\n",
      "\n",
      "[=======================>--------------------------]  49% (54/56 wrk) eta:  3m\n",
      "\n",
      "[========================>-------------------------]  50% (52/54 wrk) eta:  2m\n",
      "\n",
      "[=========================>------------------------]  51% (52/54 wrk) eta:  2m\n",
      "\n",
      "[=========================>------------------------]  51% (51/53 wrk) eta:  2m\n",
      "\n",
      "[=========================>------------------------]  52% (49/51 wrk) eta:  2m\n",
      "\n",
      "[=========================>------------------------]  53% (49/51 wrk) eta:  2m\n",
      "\n",
      "[==========================>-----------------------]  54% (47/49 wrk) eta:  2m\n",
      "\n",
      "[===========================>----------------------]  55% (46/48 wrk) eta:  2m\n",
      "\n",
      "[===========================>----------------------]  55% (46/47 wrk) eta:  2m\n",
      "\n",
      "[===========================>----------------------]  56% (46/47 wrk) eta:  2m\n",
      "\n",
      "[===========================>----------------------]  56% (45/46 wrk) eta:  2m\n",
      "\n",
      "[===========================>----------------------]  57% (45/46 wrk) eta:  2m\n",
      "\n",
      "[============================>---------------------]  58% (43/44 wrk) eta:  2m\n",
      "\n",
      "[=============================>--------------------]  59% (43/44 wrk) eta:  2m\n",
      "\n",
      "[=============================>--------------------]  60% (43/44 wrk) eta:  2m\n",
      "\n",
      "[=============================>--------------------]  60% (41/41 wrk) eta:  2m\n",
      "\n",
      "[=============================>--------------------]  61% (40/40 wrk) eta:  2m\n",
      "\n",
      "[==============================>-------------------]  62% (40/40 wrk) eta:  2m\n",
      "\n",
      "[===============================>------------------]  63% (40/40 wrk) eta:  2m\n",
      "\n",
      "[===============================>------------------]  64% (37/37 wrk) eta:  2m\n",
      "\n",
      "[===============================>------------------]  65% (36/36 wrk) eta:  1m\n",
      "\n",
      "[================================>-----------------]  66% (36/36 wrk) eta:  1m\n",
      "\n",
      "[=================================>----------------]  67% (34/34 wrk) eta:  1m\n",
      "\n",
      "[=================================>----------------]  68% (33/33 wrk) eta:  1m\n",
      "\n",
      "[=================================>----------------]  69% (32/32 wrk) eta:  1m\n",
      "\n",
      "[==================================>---------------]  70% (32/32 wrk) eta:  1m\n",
      "\n",
      "[===================================>--------------]  71% (30/30 wrk) eta:  1m\n",
      "\n",
      "[===================================>--------------]  72% (29/29 wrk) eta:  1m\n",
      "\n",
      "[===================================>--------------]  73% (28/28 wrk) eta:  1m\n",
      "\n",
      "[====================================>-------------]  74% (27/27 wrk) eta:  1m\n",
      "\n",
      "[=====================================>------------]  75% (26/26 wrk) eta:  1m\n",
      "\n",
      "[=====================================>------------]  76% (26/26 wrk) eta:  1m\n",
      "\n",
      "[=====================================>------------]  77% (24/24 wrk) eta:  1m\n",
      "\n",
      "[======================================>-----------]  78% (23/23 wrk) eta:  1m\n",
      "\n",
      "[=======================================>----------]  79% (22/22 wrk) eta: 49s\n",
      "\n",
      "[=======================================>----------]  80% (21/21 wrk) eta: 46s\n",
      "\n",
      "[=======================================>----------]  81% (20/20 wrk) eta: 44s\n",
      "\n",
      "[========================================>---------]  82% (19/19 wrk) eta: 41s\n",
      "\n",
      "[=========================================>--------]  83% (19/19 wrk) eta: 38s\n",
      "\n",
      "[=========================================>--------]  84% (17/17 wrk) eta: 36s\n",
      "\n",
      "[=========================================>--------]  85% (16/16 wrk) eta: 34s\n",
      "\n",
      "[==========================================>-------]  86% (15/15 wrk) eta: 31s\n",
      "\n",
      "[===========================================>------]  87% (14/14 wrk) eta: 29s\n",
      "\n",
      "[===========================================>------]  88% (13/13 wrk) eta: 27s\n",
      "\n",
      "[===========================================>------]  89% (12/12 wrk) eta: 24s\n",
      "\n",
      "[============================================>-----]  90% (11/11 wrk) eta: 22s\n",
      "\n",
      "[=============================================>----]  91% (11/11 wrk) eta: 20s\n",
      "\n",
      "[===============================================>----]  92% (9/9 wrk) eta: 17s\n",
      "\n",
      "[===============================================>----]  93% (8/8 wrk) eta: 15s\n",
      "\n",
      "[================================================>---]  94% (7/7 wrk) eta: 13s\n",
      "\n",
      "[================================================>---]  95% (6/6 wrk) eta: 11s\n",
      "\n",
      "[=================================================>--]  96% (5/5 wrk) eta:  9s\n",
      "\n",
      "[=================================================>--]  97% (4/4 wrk) eta:  7s\n",
      "\n",
      "[==================================================>-]  98% (3/3 wrk) eta:  4s\n",
      "\n",
      "[==================================================>-]  99% (2/2 wrk) eta:  3s\n",
      "\n",
      "[====================================================] 100% (1/1 wrk) eta:  0s\n",
      "                                                                              \n",
      "\n",
      "Master: [252.6s 1.9% CPU]; Worker: [avg 4.9% CPU, max 524.6 Mb]\n",
      "\n"
     ]
    }
   ],
   "source": [
    "rules <- Q(model2DE_cluster\n",
    "  , partition = preclu$partitions\n",
    "  , export=list(data = preclu$data\n",
    "                , target = as.factor(simu$target_ctg)\n",
    "                , exec = preclu$exec\n",
    "                , classPos = '1'\n",
    "                , prune = TRUE, maxDecay = 0.05, typeDecay = 2 \n",
    "                , filter = TRUE\n",
    "                , in_parallel = TRUE, n_cores = n_cores\n",
    "               )\n",
    "  , n_jobs= 80\n",
    "  , pkgs=c('data.table', 'parallel', 'caret', 'stringr', 'scales', 'dplyr', 'inTrees', 'endoR')\n",
    "  , log_worker=FALSE\n",
    "  , template = tmpl\n",
    " )"
   ]
  },
  {
   "cell_type": "code",
   "execution_count": 13,
   "metadata": {
    "ExecuteTime": {
     "end_time": "2021-11-24T08:46:14.225969Z",
     "start_time": "2021-11-24T08:46:09.958Z"
    },
    "deletable": false,
    "editable": false,
    "run_control": {
     "frozen": true
    }
   },
   "outputs": [],
   "source": [
    "qsave(rules, 'toy_main_bootstraps.qs')"
   ]
  },
  {
   "cell_type": "markdown",
   "metadata": {},
   "source": [
    "# check results"
   ]
  },
  {
   "cell_type": "code",
   "execution_count": 14,
   "metadata": {
    "ExecuteTime": {
     "end_time": "2021-11-24T08:46:37.950073Z",
     "start_time": "2021-11-24T08:46:36.538Z"
    }
   },
   "outputs": [],
   "source": [
    "rules <- qread('toy_main_bootstraps.qs')"
   ]
  },
  {
   "cell_type": "code",
   "execution_count": 15,
   "metadata": {
    "ExecuteTime": {
     "end_time": "2021-11-24T08:46:52.412155Z",
     "start_time": "2021-11-24T08:46:50.323Z"
    }
   },
   "outputs": [
    {
     "name": "stdout",
     "output_type": "stream",
     "text": [
      "163.4978  rules per sub-sample selected. 7 decisions in >= 70 subsets.\n"
     ]
    }
   ],
   "source": [
    "pc <- stabilitySelection(rules = rules, alpha = 20, pi_thr = 0.7)"
   ]
  },
  {
   "cell_type": "code",
   "execution_count": 16,
   "metadata": {
    "ExecuteTime": {
     "end_time": "2021-11-24T08:47:02.515050Z",
     "start_time": "2021-11-24T08:47:00.745Z"
    },
    "scrolled": true
   },
   "outputs": [
    {
     "data": {
      "image/png": "[encoded data removed]",
      "text/plain": [
       "plot without title"
      ]
     },
     "metadata": {
      "image/png": {
       "height": 240,
       "width": 720
      }
     },
     "output_type": "display_data"
    }
   ],
   "source": [
    "options(repr.plot.width=12, repr.plot.height=4)\n",
    "plotNetwork(decision_ensemble = pc, hide_nodes = -1, text_size = 4)+\n",
    "scale_edge_alpha(range = c(0.7, 1))"
   ]
  },
  {
   "cell_type": "code",
   "execution_count": 18,
   "metadata": {
    "ExecuteTime": {
     "end_time": "2021-11-24T08:47:12.878425Z",
     "start_time": "2021-11-24T08:47:11.709Z"
    },
    "scrolled": true
   },
   "outputs": [
    {
     "data": {
      "image/png": "[encoded data removed]",
      "text/plain": [
       "plot without title"
      ]
     },
     "metadata": {
      "image/png": {
       "height": 240,
       "width": 720
      }
     },
     "output_type": "display_data"
    }
   ],
   "source": [
    "options(repr.plot.width=12, repr.plot.height=4)\n",
    "plotFeatures(decision_ensemble = pc)"
   ]
  },
  {
   "cell_type": "markdown",
   "metadata": {},
   "source": [
    "# CV for estimating RF model accuracy"
   ]
  },
  {
   "cell_type": "code",
   "execution_count": 19,
   "metadata": {
    "ExecuteTime": {
     "end_time": "2021-11-24T08:47:21.340482Z",
     "start_time": "2021-11-24T08:47:21.265Z"
    }
   },
   "outputs": [],
   "source": [
    "wf <- function(ix, data, target, ntree = 500){\n",
    "    set.seed(ix[1])\n",
    "    res <- list()\n",
    "    # RF\n",
    "    message('RF')\n",
    "    rf <- randomForest(x = data[ix,], y = target[ix], ntree = ntree)\n",
    "    pred <- predict(object = rf, newdata = data[-ix, ])\n",
    "    tmp <- confusionMatrix(data = pred, reference = target[-ix])\n",
    "    res$rf_performance <- tmp$overall\n",
    "    \n",
    "    return(res)\n",
    "}"
   ]
  },
  {
   "cell_type": "code",
   "execution_count": 20,
   "metadata": {
    "ExecuteTime": {
     "end_time": "2021-11-24T08:47:21.585807Z",
     "start_time": "2021-11-24T08:47:21.442Z"
    }
   },
   "outputs": [],
   "source": [
    "set.seed(0)\n",
    "trainIx <- createDataPartition(y = as.factor(simu$target_ctg), times = 10, p = .7, list = TRUE)"
   ]
  },
  {
   "cell_type": "code",
   "execution_count": 21,
   "metadata": {
    "ExecuteTime": {
     "end_time": "2021-11-24T08:47:21.693681Z",
     "start_time": "2021-11-24T08:47:21.610Z"
    }
   },
   "outputs": [],
   "source": [
    "tmpl <- list(conda = \"r-ml\", cores = 1, job_time = '00:59:00', job_mem = '1G')"
   ]
  },
  {
   "cell_type": "code",
   "execution_count": 22,
   "metadata": {
    "ExecuteTime": {
     "end_time": "2021-11-24T08:47:33.214752Z",
     "start_time": "2021-11-24T08:47:21.787Z"
    }
   },
   "outputs": [
    {
     "name": "stderr",
     "output_type": "stream",
     "text": [
      "Submitting 8 worker jobs (ID: cmq6289) ...\n",
      "\n",
      "Running 10 calculations (3 objs/0.1 Mb common; 1 calls/chunk) ...\n",
      "\n",
      "\n",
      "[----------------------------------------------------]   0% (1/8 wrk) eta:  ?s\n",
      "\n",
      "[----------------------------------------------------]   0% (2/8 wrk) eta:  ?s\n",
      "\n",
      "[----------------------------------------------------]   0% (3/8 wrk) eta:  ?s\n",
      "\n",
      "[----------------------------------------------------]   0% (4/8 wrk) eta:  ?s\n",
      "\n",
      "[----------------------------------------------------]   0% (5/8 wrk) eta:  ?s\n",
      "\n",
      "[----------------------------------------------------]   0% (6/8 wrk) eta:  ?s\n",
      "\n",
      "[----------------------------------------------------]   0% (7/8 wrk) eta:  ?s\n",
      "\n",
      "[----------------------------------------------------]   0% (8/8 wrk) eta:  ?s\n",
      "\n",
      "[====>-----------------------------------------------]  10% (8/8 wrk) eta:  1m\n",
      "\n",
      "[=========>------------------------------------------]  20% (8/8 wrk) eta: 38s\n",
      "\n",
      "[===============>------------------------------------]  30% (8/8 wrk) eta: 22s\n",
      "\n",
      "[====================>-------------------------------]  40% (8/8 wrk) eta: 14s\n",
      "\n",
      "[=========================>--------------------------]  50% (8/8 wrk) eta: 10s\n",
      "\n",
      "[==============================>---------------------]  60% (8/8 wrk) eta:  6s\n",
      "\n",
      "[===================================>----------------]  70% (8/8 wrk) eta:  4s\n",
      "\n",
      "[=========================================>----------]  80% (8/8 wrk) eta:  2s\n",
      "\n",
      "[==============================================>-----]  90% (2/2 wrk) eta:  1s\n",
      "\n",
      "[====================================================] 100% (2/2 wrk) eta:  0s\n",
      "                                                                              \n",
      "\n",
      "Master: [10.7s 2.4% CPU]; Worker: [avg 81.3% CPU, max 444.0 Mb]\n",
      "\n"
     ]
    }
   ],
   "source": [
    "res <- Q(wf\n",
    "  , ix = trainIx\n",
    "  , const = list('data'= dummies, 'target' = as.factor(simu$target_ctg), 'ntree' = 500)\n",
    "  , n_jobs= 8\n",
    "  , pkgs=c('caret', 'randomForest', 'dplyr', 'RRF')\n",
    "  , log_worker=FALSE\n",
    "  , template = tmpl\n",
    " )"
   ]
  },
  {
   "cell_type": "code",
   "execution_count": 23,
   "metadata": {
    "ExecuteTime": {
     "end_time": "2021-11-24T08:47:33.235526Z",
     "start_time": "2021-11-24T08:47:28.059Z"
    }
   },
   "outputs": [],
   "source": [
    "all <- t(res %>% sapply(function(x){return(x$rf_performance)})) %>% \n",
    "            as.data.frame"
   ]
  },
  {
   "cell_type": "code",
   "execution_count": 24,
   "metadata": {
    "ExecuteTime": {
     "end_time": "2021-11-24T08:47:33.278277Z",
     "start_time": "2021-11-24T08:47:28.240Z"
    }
   },
   "outputs": [
    {
     "data": {
      "text/plain": [
       "    Accuracy          Kappa       \n",
       " Min.   :0.7893   Min.   :0.5264  \n",
       " 1st Qu.:0.7968   1st Qu.:0.5376  \n",
       " Median :0.8010   Median :0.5473  \n",
       " Mean   :0.8047   Mean   :0.5576  \n",
       " 3rd Qu.:0.8052   3rd Qu.:0.5591  \n",
       " Max.   :0.8294   Max.   :0.6180  "
      ]
     },
     "metadata": {},
     "output_type": "display_data"
    },
    {
     "data": {
      "text/html": [
       "<style>\n",
       ".dl-inline {width: auto; margin:0; padding: 0}\n",
       ".dl-inline>dt, .dl-inline>dd {float: none; width: auto; display: inline-block}\n",
       ".dl-inline>dt::after {content: \":\\0020\"; padding-right: .5ex}\n",
       ".dl-inline>dt:not(:first-of-type) {padding-left: .5ex}\n",
       "</style><dl class=dl-inline><dt>Accuracy</dt><dd>0.0139</dd><dt>Kappa</dt><dd>0.0332</dd></dl>\n"
      ],
      "text/latex": [
       "\\begin{description*}\n",
       "\\item[Accuracy] 0.0139\n",
       "\\item[Kappa] 0.0332\n",
       "\\end{description*}\n"
      ],
      "text/markdown": [
       "Accuracy\n",
       ":   0.0139Kappa\n",
       ":   0.0332\n",
       "\n"
      ],
      "text/plain": [
       "Accuracy    Kappa \n",
       "  0.0139   0.0332 "
      ]
     },
     "metadata": {},
     "output_type": "display_data"
    }
   ],
   "source": [
    "all %>% select(Accuracy, Kappa) %>% summary\n",
    "all %>% select(Accuracy, Kappa) %>% sapply(function(x){round(sd(x), digits = 4)})"
   ]
  },
  {
   "cell_type": "code",
   "execution_count": null,
   "metadata": {},
   "outputs": [],
   "source": []
  }
 ],
 "metadata": {
  "kernelspec": {
   "display_name": "R [conda env:Metagenomes_methanogen-r-ml] *",
   "language": "R",
   "name": "conda-env-Metagenomes_methanogen-r-ml-r"
  },
  "language_info": {
   "codemirror_mode": "r",
   "file_extension": ".r",
   "mimetype": "text/x-r-source",
   "name": "R",
   "pygments_lexer": "r",
   "version": "4.0.3"
  },
  "notify_time": "30",
  "toc": {
   "base_numbering": 1,
   "nav_menu": {},
   "number_sections": true,
   "sideBar": true,
   "skip_h1_title": false,
   "title_cell": "Table of Contents",
   "title_sidebar": "Contents",
   "toc_cell": false,
   "toc_position": {
    "height": "calc(100% - 180px)",
    "left": "10px",
    "top": "150px",
    "width": "165px"
   },
   "toc_section_display": true,
   "toc_window_display": true
  }
 },
 "nbformat": 4,
 "nbformat_minor": 4
}
